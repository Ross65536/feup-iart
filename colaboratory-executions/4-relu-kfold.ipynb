{
 "cells": [
  {
   "cell_type": "markdown",
   "metadata": {
    "colab_type": "text",
    "id": "kHdA6MK4YMfJ"
   },
   "source": [
    "<img src=\"report_material/feup_logo_old.png\" width=\"30%\" align=\"center\"/>\n",
    "\n",
    "<h1 style=\"text-align:center\">Neural Networks for the Prediction of Anuran Species (E3.)</h1>\n",
    "<h3 style=\"text-align:center\">Final Delivery</h3>\n",
    "<br/><br/>\n",
    "<p style=\"text-align:center\">Artificial Intelligence (IART)</p>\n",
    "<p style=\"text-align:center\">3<sup>rd</sup> year in Master in Informatics and Computing Engineering</p>\n",
    "\n",
    "### Authors\n",
    "\n",
    "* Miguel Ramalho    - 201403027 - [m.ramalho@fe.up.pt](mailto:up201403027@fe.up.pt)\n",
    "* Rostyslav Khoptiy - 201506219 - [up201506219@fe.up.pt](mailto:up201506219@fe.up.pt)\n",
    "\n",
    "<!--spellchecking: https://stackoverflow.com/a/48710561/6196010 -->\n",
    "\n",
    "<div style=\"text-align:right\"><i>April 8<sup>th</sup>, 2018</i></div>\n",
    "<br/><br/>\n",
    "\n",
    "---"
   ]
  },
  {
   "cell_type": "markdown",
   "metadata": {
    "colab_type": "text",
    "id": "E2TJgn8AYMfK"
   },
   "source": [
    "# Code"
   ]
  },
  {
   "cell_type": "markdown",
   "metadata": {
    "colab_type": "text",
    "id": "u438HXbBYMfL"
   },
   "source": [
    "## Initialization"
   ]
  },
  {
   "cell_type": "markdown",
   "metadata": {
    "colab_type": "text",
    "id": "kbsDNtzeYMfL"
   },
   "source": [
    "### Import modules"
   ]
  },
  {
   "cell_type": "code",
   "execution_count": 0,
   "metadata": {
    "colab": {
     "autoexec": {
      "startup": false,
      "wait_interval": 0
     }
    },
    "colab_type": "code",
    "id": "SfwKdZ21YMfM"
   },
   "outputs": [],
   "source": [
    "import pandas as pd\n",
    "import tensorflow as tf\n",
    "import numpy as np\n",
    "import io # to pass data as StringIO object\n",
    "import time # to set the random seed for train and test sampling\n",
    "import matplotlib.pyplot as plt # to display plots\n",
    "from sklearn.model_selection import KFold, StratifiedKFold # for cross-validation, needs scipy\n",
    "np.seterr(divide='ignore', invalid='ignore'); # avoid unnecessary messages"
   ]
  },
  {
   "cell_type": "markdown",
   "metadata": {
    "colab_type": "text",
    "id": "S2L3Vp-PYMfP"
   },
   "source": [
    "### Initialize constants"
   ]
  },
  {
   "cell_type": "code",
   "execution_count": 0,
   "metadata": {
    "colab": {
     "autoexec": {
      "startup": false,
      "wait_interval": 0
     }
    },
    "colab_type": "code",
    "id": "MFI1T-l6YMfQ"
   },
   "outputs": [],
   "source": [
    "DATASET_PATH = \"dataset/frogs.csv\" # the path to the dataset file\n",
    "N_FEATURES   = 22 # the number of features in the dataset\n",
    "LABEL_INDEX  = 24 # the index in the dataset where the label to predict is\n",
    "BATCH_SIZE   = 100 # batch size for the train, evaluation and prediction\n",
    "NUM_CLASSES  = 10 # last layer, num classifications\n",
    "NUM_ITEMS    = 7195 #Num items in dataset\n",
    "CROSS_VALIDATION_FUNCTION = StratifiedKFold # use KFold to ignore class representation\n",
    "ACTIVATION_FUNCTION = tf.nn.relu # default is tf.nn.relu"
   ]
  },
  {
   "cell_type": "markdown",
   "metadata": {
    "colab_type": "text",
    "id": "pHuWhxT2YMfR"
   },
   "source": [
    "## Helper Functions\n",
    "\n",
    "In this section we include functions that are directed at helping the visualisation of the project, the manipulation of data and the creation, training and evaluation of models. Here functions that start with an underscore (_) are purely 'private' helper functions and shouldn't be used or even considered for the evaluation of the report"
   ]
  },
  {
   "cell_type": "markdown",
   "metadata": {
    "colab_type": "text",
    "id": "vnFs6TqqYMfT"
   },
   "source": [
    "### Chart Drawing and Visualization functions"
   ]
  },
  {
   "cell_type": "code",
   "execution_count": 0,
   "metadata": {
    "colab": {
     "autoexec": {
      "startup": false,
      "wait_interval": 0
     }
    },
    "colab_type": "code",
    "id": "fYOvNDizYMfT"
   },
   "outputs": [],
   "source": [
    "from IPython.core.display import display_html, HTML\n",
    "# function to print string into visual HTML\n",
    "def html(s, html_tag=None):\n",
    "    if html_tag:\n",
    "        s = tag(html_tag, s)\n",
    "    display_html(HTML(s))\n",
    "def tag(tag, s):\n",
    "    return \"<%s>%s</%s>\" % (tag, s, tag)"
   ]
  },
  {
   "cell_type": "code",
   "execution_count": 0,
   "metadata": {
    "colab": {
     "autoexec": {
      "startup": false,
      "wait_interval": 0
     }
    },
    "colab_type": "code",
    "id": "p8_mqdyxYMfW"
   },
   "outputs": [],
   "source": [
    "from IPython.display import display\n",
    "# receives paddings and a list @layer_sizes with the number of nodes to draw\n",
    "def _draw_neural_net(ax, left, right, bottom, top, layer_sizes):\n",
    "    # https://gist.github.com/craffel/2d727968c3aaebd10359\n",
    "    n_layers = len(layer_sizes)\n",
    "    v_spacing = (top - bottom)/float(max(layer_sizes))\n",
    "    h_spacing = (right - left)/float(max(len(layer_sizes) - 1, 1))\n",
    "    # Nodes\n",
    "    for n, layer_size in enumerate(layer_sizes):\n",
    "        layer_top = v_spacing*(layer_size - 1)/2. + (top + bottom)/2.\n",
    "        for m in range(layer_size):\n",
    "            circle = plt.Circle((n*h_spacing + left, layer_top - m*v_spacing), v_spacing/4.,\n",
    "                                color='w', ec='k', zorder=4)\n",
    "            ax.add_artist(circle)\n",
    "    # Edges\n",
    "    for n, (layer_size_a, layer_size_b) in enumerate(zip(layer_sizes[:-1], layer_sizes[1:])):\n",
    "        layer_top_a = v_spacing*(layer_size_a - 1)/2. + (top + bottom)/2.\n",
    "        layer_top_b = v_spacing*(layer_size_b - 1)/2. + (top + bottom)/2.\n",
    "        for m in range(layer_size_a):\n",
    "            for o in range(layer_size_b):\n",
    "                line = plt.Line2D([n*h_spacing + left, (n + 1)*h_spacing + left],\n",
    "                                  [layer_top_a - m*v_spacing, layer_top_b - o*v_spacing], c='k')\n",
    "                ax.add_artist(line)\n",
    "# helper function to draw a neural network\n",
    "def drawNN(hidden_layers, figsize=(12, 12), name=None):\n",
    "    #plt.ioff() #plt.ion()\n",
    "    plt.tight_layout()\n",
    "    fig = plt.figure(figsize=figsize);\n",
    "    ax = fig.gca()\n",
    "    ax.axis('off')\n",
    "    _draw_neural_net(ax, .1, .9, .1, .9, [N_FEATURES] + hidden_layers + [NUM_CLASSES])\n",
    "    display(fig);\n",
    "    plt.close();"
   ]
  },
  {
   "cell_type": "code",
   "execution_count": 0,
   "metadata": {
    "colab": {
     "autoexec": {
      "startup": false,
      "wait_interval": 0
     }
    },
    "colab_type": "code",
    "id": "DWZ5h3WuYMfZ"
   },
   "outputs": [],
   "source": [
    "# create an abstract histogram\n",
    "def _draw_label_distribution(label_column, title_text):\n",
    "    label_count = pd.Series.value_counts(label_column, normalize=True, sort=False)\n",
    "    label_count = label_count.sort_index()\n",
    "    label_count.plot(kind='barh', title=title_text, stacked=True, fontsize=15, figsize=(8,8), color=\"darkblue\" )\n",
    "\n",
    "# create a histogram with the distribution of species\n",
    "def draw_species_distribution_chart(df, title_text=\"Species Dataset Distribution\"):\n",
    "    species_column = df['Species']\n",
    "    _draw_label_distribution(species_column, title_text)"
   ]
  },
  {
   "cell_type": "markdown",
   "metadata": {
    "colab_type": "text",
    "id": "z3gYKXkzYMfb"
   },
   "source": [
    "### Creating Deep Neural Network Models \n",
    " * `my_feature_columns`        - the features that the model should receive as input\n",
    " * `inner_layers_architecture` - a list of N hidden layers where N[i] is the number of nodes of the layer i"
   ]
  },
  {
   "cell_type": "code",
   "execution_count": 0,
   "metadata": {
    "colab": {
     "autoexec": {
      "startup": false,
      "wait_interval": 0
     }
    },
    "colab_type": "code",
    "id": "fAy3xsWWYMfc"
   },
   "outputs": [],
   "source": [
    "def create_DNN(my_feature_columns, inner_layers_architecture, save_folder_path=None, num_classes=NUM_CLASSES):\n",
    "    # Build a DNN (Deep Neural Network) with 1 hidden layer with 10 nodes\n",
    "    classifier = tf.estimator.DNNClassifier(\n",
    "            feature_columns = my_feature_columns,\n",
    "            hidden_units = inner_layers_architecture, # 1:-1 removes the first and last elements of the architecture\n",
    "            n_classes = num_classes, # num nodes of final layer\n",
    "            model_dir = save_folder_path, # value None means it will be saved in temp\n",
    "            activation_fn = ACTIVATION_FUNCTION, # activation function to use\n",
    "    )\n",
    "    \n",
    "    return classifier"
   ]
  },
  {
   "cell_type": "markdown",
   "metadata": {
    "colab_type": "text",
    "id": "fzTBovJQYMff"
   },
   "source": [
    "### Training Models"
   ]
  },
  {
   "cell_type": "code",
   "execution_count": 0,
   "metadata": {
    "colab": {
     "autoexec": {
      "startup": false,
      "wait_interval": 0
     }
    },
    "colab_type": "code",
    "id": "xUhAw86YYMfg"
   },
   "outputs": [],
   "source": [
    "SHUFFLE_PARAM = NUM_ITEMS * 10 #df.shape[0] * 10\n",
    "# helper function to yield a part of the training data to be used by TF's classifier.train method\n",
    "def _train_input_fn(features, labels):\n",
    "    # Convert the inputs to a Dataset.\n",
    "    dataset = tf.data.Dataset.from_tensor_slices((dict(features), labels))\n",
    "    \n",
    "    # Shuffle, repeat, and batch the examples. The shuffle argument should be larger than the number of examples\n",
    "    return dataset.shuffle(SHUFFLE_PARAM).repeat().batch(BATCH_SIZE)"
   ]
  },
  {
   "cell_type": "code",
   "execution_count": 0,
   "metadata": {
    "colab": {
     "autoexec": {
      "startup": false,
      "wait_interval": 0
     }
    },
    "colab_type": "code",
    "id": "uOQu0C5EYMfi"
   },
   "outputs": [],
   "source": [
    "# Train a model, given the train data and the number of steps\n",
    "def train_model(classifier, train_x, numeric_train_y, num_steps=1000):\n",
    "    classifier.train(input_fn=lambda:_train_input_fn(train_x, numeric_train_y), steps=num_steps)"
   ]
  },
  {
   "cell_type": "markdown",
   "metadata": {
    "colab_type": "text",
    "id": "w0eTzj18YMfk"
   },
   "source": [
    "### Evaluating Models"
   ]
  },
  {
   "cell_type": "code",
   "execution_count": 0,
   "metadata": {
    "colab": {
     "autoexec": {
      "startup": false,
      "wait_interval": 0
     }
    },
    "colab_type": "code",
    "id": "4q4OABeOYMfk"
   },
   "outputs": [],
   "source": [
    "# helper function for the classifier.evaluate method\n",
    "def _eval_input_fn(features, labels=None):\n",
    "    inputs = features if labels is None else (features, labels)\n",
    "    \n",
    "    # Convert inputs to a tf.dataset object. Batch the examples.\n",
    "    dataset = tf.data.Dataset.from_tensor_slices(inputs).batch(BATCH_SIZE)\n",
    "\n",
    "    # Return the read end of the pipeline.\n",
    "    return dataset.make_one_shot_iterator().get_next()"
   ]
  },
  {
   "cell_type": "code",
   "execution_count": 0,
   "metadata": {
    "colab": {
     "autoexec": {
      "startup": false,
      "wait_interval": 0
     }
    },
    "colab_type": "code",
    "id": "5gpLFlgJYMfm"
   },
   "outputs": [],
   "source": [
    "# Evaluate a model - returns a tuple (eval_results, global_step)\n",
    "def evaluate_model(classifier, test_x, numeric_test_y):\n",
    "    return classifier.evaluate(input_fn=lambda:_eval_input_fn(dict(test_x), numeric_test_y))"
   ]
  },
  {
   "cell_type": "code",
   "execution_count": 0,
   "metadata": {
    "colab": {
     "autoexec": {
      "startup": false,
      "wait_interval": 0
     }
    },
    "colab_type": "code",
    "id": "c34pC16IYMfs"
   },
   "outputs": [],
   "source": [
    "# predict from a trained model - returns a list of the predictions\n",
    "def predict_model(classifier, predict_x):\n",
    "    predictions = list(classifier.predict(input_fn=lambda:_eval_input_fn(dict(predict_x))))\n",
    "    return [el[\"class_ids\"][0] for el in predictions]"
   ]
  },
  {
   "cell_type": "markdown",
   "metadata": {
    "colab_type": "text",
    "id": "0-xSIY1IYMfw"
   },
   "source": [
    "### Dataset Splitting"
   ]
  },
  {
   "cell_type": "code",
   "execution_count": 0,
   "metadata": {
    "colab": {
     "autoexec": {
      "startup": false,
      "wait_interval": 0
     }
    },
    "colab_type": "code",
    "id": "CNc0wxT5YMfw"
   },
   "outputs": [],
   "source": [
    "# converts a list of strings into a list of IDs (numerical values) used for the classifier\n",
    "def _convert_labels_to_number(labels):\n",
    "    unique_labels = list(set(labels)) # list of unique values\n",
    "    return [unique_labels.index(l) for l in labels]"
   ]
  },
  {
   "cell_type": "code",
   "execution_count": 0,
   "metadata": {
    "colab": {
     "autoexec": {
      "startup": false,
      "wait_interval": 0
     }
    },
    "colab_type": "code",
    "id": "cFsw0BnUYMfz"
   },
   "outputs": [],
   "source": [
    "def _format_TF_data(train, test):\n",
    "    # split dataframes into X (features) and y (classes) - use species as label\n",
    "    train_x, train_y = train.iloc[:,:N_FEATURES], train.iloc[:,LABEL_INDEX:LABEL_INDEX+1]\n",
    "    test_x, test_y = test.iloc[:,:N_FEATURES], test.iloc[:,LABEL_INDEX:LABEL_INDEX+1]\n",
    "    \n",
    "    # for the 10 species, get a numerical mapping of the text name of that species (needed for DNN)\n",
    "    numeric_train_y = _convert_labels_to_number(train_y.iloc[:,0])\n",
    "    numeric_test_y  = _convert_labels_to_number(test_y.iloc[:,0])\n",
    "    \n",
    "    return (train_x, numeric_train_y, test_x, numeric_test_y)"
   ]
  },
  {
   "cell_type": "code",
   "execution_count": 0,
   "metadata": {
    "colab": {
     "autoexec": {
      "startup": false,
      "wait_interval": 0
     }
    },
    "colab_type": "code",
    "id": "iQ5J-3eDYMf2"
   },
   "outputs": [],
   "source": [
    "# Convert the features MFCCs_1 to MFCCs_22 into Tensorflow feature columns\n",
    "def get_TF_feature_columns(df):\n",
    "    data_df = df.iloc[:,:N_FEATURES]\n",
    "    return [tf.feature_column.numeric_column(key=key) for key in list(data_df)]"
   ]
  },
  {
   "cell_type": "markdown",
   "metadata": {
    "colab_type": "text",
    "id": "mgmcKIiMYMf6"
   },
   "source": [
    "#### Simple data splitting into Train and Test data"
   ]
  },
  {
   "cell_type": "code",
   "execution_count": 0,
   "metadata": {
    "colab": {
     "autoexec": {
      "startup": false,
      "wait_interval": 0
     }
    },
    "colab_type": "code",
    "id": "GzXQfKQyYMf6"
   },
   "outputs": [],
   "source": [
    "# returns a single iteration\n",
    "def simple_data_split_generator(df, labels, train_fraction):\n",
    "    train=df.sample(frac=train_fraction, random_state=int(time.time()))\n",
    "    test=df.drop(train.index)\n",
    "    yield _format_TF_data(train, test) # in a for loop gives one single loop"
   ]
  },
  {
   "cell_type": "markdown",
   "metadata": {
    "colab_type": "text",
    "id": "_a0gExKyYMf9"
   },
   "source": [
    "#### Cross Validation splitting into Train and Test data"
   ]
  },
  {
   "cell_type": "code",
   "execution_count": 0,
   "metadata": {
    "colab": {
     "autoexec": {
      "startup": false,
      "wait_interval": 0
     }
    },
    "colab_type": "code",
    "id": "1VS5ue6jYMf-"
   },
   "outputs": [],
   "source": [
    "def _split_data_by_indices(train_indices, test_indices):\n",
    "    train = df.iloc[train_indices]\n",
    "    test = df.iloc[test_indices]\n",
    "    return _format_TF_data(train, test)"
   ]
  },
  {
   "cell_type": "code",
   "execution_count": 0,
   "metadata": {
    "colab": {
     "autoexec": {
      "startup": false,
      "wait_interval": 0
     }
    },
    "colab_type": "code",
    "id": "iUQGETlOYMgA"
   },
   "outputs": [],
   "source": [
    "def _get_k_fold_CV_split_indices(df, labels, num_folds = 3):\n",
    "    k_fold = CROSS_VALIDATION_FUNCTION(n_splits = num_folds, shuffle=True)\n",
    "    return k_fold.split(df, labels)"
   ]
  },
  {
   "cell_type": "code",
   "execution_count": 0,
   "metadata": {
    "colab": {
     "autoexec": {
      "startup": false,
      "wait_interval": 0
     }
    },
    "colab_type": "code",
    "id": "oWlK5gV_YMgB"
   },
   "outputs": [],
   "source": [
    "def kFoldCV_tf_data_generator(df, labels, train_fraction):\n",
    "    num_folds = int(1.0 / (1.0 - train_fraction))\n",
    "    for train_indices, test_indices in _get_k_fold_CV_split_indices(df, labels, num_folds):\n",
    "        yield(_split_data_by_indices(train_indices, test_indices))"
   ]
  },
  {
   "cell_type": "markdown",
   "metadata": {
    "colab_type": "text",
    "id": "lFMFrFf6YMgE"
   },
   "source": [
    "### Hyper-Parameter Tuning\n",
    "Given a dataset, the respective labels, a function to split the data and another to calculate the number of steps, this function iterates over all the defined architectures in **INNER_LAYERS** and over all the **NUM_STEPS** and over all the  **TRAIN_FRACTIONS** and does the following:\n",
    " * Split the data accordingly\n",
    " * Train the model\n",
    " * Evaluate the model\n",
    " * Report the results\n",
    " \n",
    "This can be used for quick comparison of multiple combinations of architectures, number of steps and train fractions, essentially tuning **hyper-parameters**. More can hyper-parameters can be added if needed."
   ]
  },
  {
   "cell_type": "code",
   "execution_count": 0,
   "metadata": {
    "colab": {
     "autoexec": {
      "startup": false,
      "wait_interval": 0
     }
    },
    "colab_type": "code",
    "id": "Bqhq0_t3YMgF"
   },
   "outputs": [],
   "source": [
    "def run_model_iterations(df, labels, data_generator):\n",
    "    evaluations = []\n",
    "    for inner_architecture in INNER_LAYERS:\n",
    "        #drawNN([N_FEATURES] + inner_architecture + [NUM_CLASSES])\n",
    "        for num_steps in NUM_STEPS:\n",
    "            for train_fraction in TRAIN_FRACTIONS:\n",
    "                my_feature_columns = get_TF_feature_columns(df) # seems to need to generate one for each estimator\n",
    "                classifier = create_DNN(my_feature_columns, inner_architecture)\n",
    "                (train_x, numeric_train_y, test_x, numeric_test_y) = next(data_generator(df, labels, train_fraction))\n",
    "                train_model(classifier, train_x, numeric_train_y, num_steps)\n",
    "                eval_result = evaluate_model(classifier, test_x, numeric_test_y)\n",
    "                predictions = predict_model(classifier, test_x)\n",
    "                # evaluation results, only the results of the last evaluation and prediction done on estimator\n",
    "                evaluations.append({\"config\": (inner_architecture, train_fraction, num_steps), \"eval_result\" : eval_result, \"prediction\": (np.array(predictions), np.array(numeric_test_y))})\n",
    "    html(\"Model iterations complete\", \"h1\")\n",
    "    return evaluations # evaluations can have duplicate 'keys' if k-fold is used"
   ]
  },
  {
   "cell_type": "markdown",
   "metadata": {
    "colab_type": "text",
    "id": "134GS83HYMgH"
   },
   "source": [
    "## Evaluation Metrics Used\n",
    "\n",
    "From the confusion matrix, we derive the number of **true positives** (`TP`), **false positives** (`FP`), **true negatives** (`TN`) and **false negatives** (`FN`).\n",
    "\n",
    "<img src=\"report_material/images/multiclass_confusion.png\" width=\"300px\" />\n",
    "<p style=\"text-align:center\">Image of a confusion matrix for a multiclass classification problem</p>\n",
    "\n",
    "$ precision = \\frac{ TP}{TP + FP} $\n",
    "\n",
    "$ recall  = \\frac{TP}{TP + FN} $\n",
    "\n",
    "$ accuracy = \\frac{TP + TN}{TP + FP + FN + TN} $\n",
    "\n",
    "$ F1-score = 2 \\cdot \\frac{precision\\cdot recall}{precision+ recall} $\n",
    "\n",
    "Further metrics such as **specificity**, **negative predictive value**, **false positive rate**, **false negative rate** and **false discovery rate** were also calculated, but were not considered when making model decisions"
   ]
  },
  {
   "cell_type": "code",
   "execution_count": 0,
   "metadata": {
    "colab": {
     "autoexec": {
      "startup": false,
      "wait_interval": 0
     }
    },
    "colab_type": "code",
    "id": "W_Hc2C4sYMgI"
   },
   "outputs": [],
   "source": [
    "# calculate metrics based on confusion matrix -> precision, recall, f1, ...\n",
    "def print_metrics(prediction, confusion_matrix):\n",
    "    predicted, actual = prediction\n",
    "    \n",
    "    # get values from confusion matrix for each class\n",
    "    FP = confusion_matrix.sum(axis=0) - np.diag(confusion_matrix) # false positives\n",
    "    FN = confusion_matrix.sum(axis=1) - np.diag(confusion_matrix) # false negatives\n",
    "    TP = np.diag(confusion_matrix)  # true positives\n",
    "    TN = confusion_matrix.sum() - (FP + FN + TP) # true negatives\n",
    "\n",
    "    # calculate metrics\n",
    "    TPR = TP/(TP+FN) # Recall, sensitivity, hit rate, or true positive rate\n",
    "    TNR = TN/(TN+FP) # Specificity or true negative rate\n",
    "    PPV = TP/(TP+FP) # Precision or positive predictive value\n",
    "    NPV = TN/(TN+FN) # Negative predictive value\n",
    "    FPR = FP/(FP+TN) # Fall out or false positive rate\n",
    "    FNR = FN/(TP+FN) # False negative rate\n",
    "    FDR = FP/(TP+FP) # False discovery rate\n",
    "    F1  =  2 * ((PPV * TPR) / (PPV + TPR)) # f1-score\n",
    "    ACC = (TP+TN)/(TP+FP+FN+TN) # accuracy\n",
    "    \n",
    "    #overall values in percentage\n",
    "    metrics = tuple(map(lambda v: np.nanmean(v) * 100, [ACC, PPV, TPR, F1]))\n",
    "    \n",
    "    # create the table with the statistics\n",
    "    header = tag(\"tr\", \"<th>Species</th><th>Accuracy</th> <th>Precision</th> <th>Recall</th> <th>F1-score</th>\")\n",
    "    body = \"\"\n",
    "    footer = tag(\"tr\", \"<th>Average</th><th>%.2f%%</th> <th>%.2f%%</th> <th>%.2f%%</th> <th>%.2f%%</th>\" % metrics)\n",
    "    for i in range(len(TP)):\n",
    "        body += tag(\"tr\", \"<td>%s</td><td>%.2f%%</td> <td>%.2f%%</td> <td>%.2f%%</td> <td>%.2f%%</td>\" % (i, ACC[i] * 100, PPV[i] * 100, TPR[i] * 100, F1[i] * 100))\n",
    "        \n",
    "    table = \"<table style='font-size:16px;margin-left:auto;margin-right:auto;'>%s%s%s</table>\" % (header, body, footer)\n",
    "    html(table)\n",
    "    return metrics"
   ]
  },
  {
   "cell_type": "code",
   "execution_count": 0,
   "metadata": {
    "colab": {
     "autoexec": {
      "startup": false,
      "wait_interval": 0
     }
    },
    "colab_type": "code",
    "id": "_vxhgrtJYMgK"
   },
   "outputs": [],
   "source": [
    "# print a confusion matrix after a prediction\n",
    "def get_confusion_matrix(prediction):\n",
    "    predicted, actual = prediction\n",
    "    con_mat = tf.confusion_matrix(actual, predicted, num_classes=NUM_CLASSES)\n",
    "    with tf.Session():\n",
    "        return tf.Tensor.eval(con_mat,feed_dict=None, session=None)"
   ]
  },
  {
   "cell_type": "markdown",
   "metadata": {
    "colab_type": "text",
    "id": "dlyUaCfOYMgM"
   },
   "source": [
    "### Functions to display and describe the output of a model"
   ]
  },
  {
   "cell_type": "code",
   "execution_count": 0,
   "metadata": {
    "colab": {
     "autoexec": {
      "startup": false,
      "wait_interval": 0
     }
    },
    "colab_type": "code",
    "id": "OBEXBJsGYMgN"
   },
   "outputs": [],
   "source": [
    "def print_configs(configs):\n",
    "    header = tag(\"tr\", \"<th>Hidden Layers</th><th>Training Fraction</th> <th>Number of Steps</th>\")\n",
    "    body = tag(\"tr\", \"<th>%s</th><th>%.0f%%</th><th>%s</th>\" % (configs[0], configs[1] * 100, configs[2]))\n",
    "    table = \"<table style='font-size:16px;margin-left:auto;margin-right:auto;text-align=center'>%s%s</table>\" % (header, body)\n",
    "    html(table)"
   ]
  },
  {
   "cell_type": "code",
   "execution_count": 0,
   "metadata": {
    "colab": {
     "autoexec": {
      "startup": false,
      "wait_interval": 0
     }
    },
    "colab_type": "code",
    "id": "CKrGLrHuYMgO"
   },
   "outputs": [],
   "source": [
    "def display_model_results(evaluations):\n",
    "    # show results, statistics\n",
    "    print('Num Results: %d' % len(evaluations))\n",
    "    chart_data = [] # data to create charts later\n",
    "    for i, e in enumerate(evaluations):\n",
    "        confusion_matrix = get_confusion_matrix(e[\"prediction\"])\n",
    "        html(\"<h2 style='text-align:center'>Iteration %d</h2>\" % (i+1))\n",
    "        \n",
    "        print_configs(e[\"config\"])\n",
    "#         drawNN(e[\"config\"][0], (7,7))\n",
    "        \n",
    "        html(\"Confusion Matrix:\", \"h4\")\n",
    "        html(\"<br/>\")\n",
    "        print(confusion_matrix)\n",
    "        \n",
    "        metrics = print_metrics(e[\"prediction\"], confusion_matrix)\n",
    "        \n",
    "        html(\"<hr>\")\n",
    "        \n",
    "        chart_data.append((e[\"config\"], metrics)) # config, [ACC, PPV, TPR, F1]\n",
    "    display_model_comparison(chart_data)"
   ]
  },
  {
   "cell_type": "code",
   "execution_count": 0,
   "metadata": {
    "colab": {
     "autoexec": {
      "startup": false,
      "wait_interval": 0
     }
    },
    "colab_type": "code",
    "id": "VFDuKvX_YMgQ"
   },
   "outputs": [],
   "source": [
    "# compare different architectures, train ratios and number of steps\n",
    "def display_model_comparison(chart_data):\n",
    "#     print(chart_data)\n",
    "#     plt.rcParams.update({'font.size': 16})\n",
    "    for percentage in TRAIN_FRACTIONS:\n",
    "        plt.figure(figsize=(20,10));\n",
    "        for layers in INNER_LAYERS:\n",
    "            x, y = [], []\n",
    "            for data in chart_data:\n",
    "                if data[0][0] == layers and data[0][1] == percentage:\n",
    "                    x.append(data[0][2])\n",
    "                    y.append(data[1][0])\n",
    "            plt.plot(x, y, '-', label=\"%s layers\" % layers)\n",
    "\n",
    "\n",
    "        for steps in NUM_STEPS:\n",
    "            y = []\n",
    "            for data in chart_data:\n",
    "                if data[0][2] == steps and data[0][1] == percentage:\n",
    "                    y.append(data[1][0])\n",
    "            plt.plot([steps] * len(y), y, 'x', label=\"%4d steps\"%steps, markersize=16)\n",
    "\n",
    "        plt.title('Evolution of Accuracy for a training fraction of %.f%%' % (percentage * 100))\n",
    "        plt.legend(loc='best')\n",
    "        plt.show()"
   ]
  },
  {
   "cell_type": "markdown",
   "metadata": {
    "colab_type": "text",
    "id": "TdpNLv-3YMgS"
   },
   "source": [
    "# Main"
   ]
  },
  {
   "cell_type": "markdown",
   "metadata": {
    "colab_type": "text",
    "id": "nQmUoq-qYMgS"
   },
   "source": [
    "### Loading Data"
   ]
  },
  {
   "cell_type": "code",
   "execution_count": 26,
   "metadata": {
    "colab": {
     "autoexec": {
      "startup": false,
      "wait_interval": 0
     },
     "base_uri": "https://localhost:8080/",
     "height": 90
    },
    "colab_type": "code",
    "executionInfo": {
     "elapsed": 985,
     "status": "ok",
     "timestamp": 1526652318019,
     "user": {
      "displayName": "Miguel Ramalho",
      "photoUrl": "//lh6.googleusercontent.com/-jjJPjyHB8Us/AAAAAAAAAAI/AAAAAAAAIgA/iRzSPgPaB_o/s50-c-k-no/photo.jpg",
      "userId": "103480353348288276211"
     },
     "user_tz": -60
    },
    "id": "zJv8x6YoZRLR",
    "outputId": "8d63e761-6892-4121-eed0-fb57b9b71e39"
   },
   "outputs": [
    {
     "name": "stdout",
     "output_type": "stream",
     "text": [
      "Downloaded content \"FCCs_12,MFCCs_13,MFCCs_14,MFCCs_15,MFCCs_16,MFCCs_17,MFCCs_18,MFCCs_19,MFCCs_20,MFCCs_21,MFCCs_22,Family,Genus,Species,RecordID\n",
      "1,0.152936298220384,-0.105585902844019,0.200721914808566,0.317201062343259,0.260763853131077,0.100944640810053,-0.150062604917616,-0.17112763198601,0.124676436148438,0.188654145822323,-0.0756217229244772,-0.156435925226375,0.0822451152835443,0.135752042383891,-0.0240166450287792,-0.108351107221198,-0.0776225214037558,-0.00956780151914234,0.0576839754007957,0.118680135068692,0.0140384456733697,Leptodactylidae,Adenomera,AdenomeraAndre,1\n",
      "1,0.171534257314109,-0.0989747371205295,0.268425220827017,0.338671862995453,0.268353099863332,0.0608350871920449,-0.222474640379244,-0.207692670568256,0.170882873543032,0.27095827998887,-0.0950039445276873,-0.254341468381362,0.0227862345814336,0.163320101050209,0.0120222808645159,-0.0909740108032878,-0.0565095219192882,-0.035303356\"\n"
     ]
    }
   ],
   "source": [
    "# Install the PyDrive wrapper & import libraries.\n",
    "# This only needs to be done once per notebook.\n",
    "!pip install -U -q PyDrive\n",
    "from pydrive.auth import GoogleAuth\n",
    "from pydrive.drive import GoogleDrive\n",
    "from google.colab import auth\n",
    "from oauth2client.client import GoogleCredentials\n",
    "\n",
    "# Authenticate and create the PyDrive client.\n",
    "# This only needs to be done once per notebook.\n",
    "auth.authenticate_user()\n",
    "gauth = GoogleAuth()\n",
    "gauth.credentials = GoogleCredentials.get_application_default()\n",
    "drive = GoogleDrive(gauth)\n",
    " \n",
    "# Download a file based on its file ID.\n",
    "#\n",
    "# A file ID looks like: laggVyWshwcyP6kEI-y_W3P8D26sz\n",
    "file_id = '1FgfTiJIKbkHLg3xtajFrNTK4ef5m0VuT'\n",
    "downloaded = drive.CreateFile({'id': file_id})\n",
    "print('Downloaded content \"{}\"'.format(downloaded.GetContentString()[100:1000]))"
   ]
  },
  {
   "cell_type": "code",
   "execution_count": 27,
   "metadata": {
    "colab": {
     "autoexec": {
      "startup": false,
      "wait_interval": 0
     },
     "base_uri": "https://localhost:8080/",
     "height": 261
    },
    "colab_type": "code",
    "executionInfo": {
     "elapsed": 806,
     "status": "ok",
     "timestamp": 1526652318930,
     "user": {
      "displayName": "Miguel Ramalho",
      "photoUrl": "//lh6.googleusercontent.com/-jjJPjyHB8Us/AAAAAAAAAAI/AAAAAAAAIgA/iRzSPgPaB_o/s50-c-k-no/photo.jpg",
      "userId": "103480353348288276211"
     },
     "user_tz": -60
    },
    "id": "S15_20PrYMgT",
    "outputId": "2841e8a4-ace6-4cd2-f5bb-d03d6621e6d8"
   },
   "outputs": [
    {
     "name": "stdout",
     "output_type": "stream",
     "text": [
      "Got 7195 examples from the .csv\n"
     ]
    },
    {
     "data": {
      "text/html": [
       "<div>\n",
       "<style scoped>\n",
       "    .dataframe tbody tr th:only-of-type {\n",
       "        vertical-align: middle;\n",
       "    }\n",
       "\n",
       "    .dataframe tbody tr th {\n",
       "        vertical-align: top;\n",
       "    }\n",
       "\n",
       "    .dataframe thead th {\n",
       "        text-align: right;\n",
       "    }\n",
       "</style>\n",
       "<table border=\"1\" class=\"dataframe\">\n",
       "  <thead>\n",
       "    <tr style=\"text-align: right;\">\n",
       "      <th></th>\n",
       "      <th>MFCCs_1</th>\n",
       "      <th>MFCCs_2</th>\n",
       "      <th>MFCCs_3</th>\n",
       "      <th>MFCCs_4</th>\n",
       "      <th>MFCCs_5</th>\n",
       "      <th>MFCCs_6</th>\n",
       "      <th>MFCCs_7</th>\n",
       "      <th>MFCCs_8</th>\n",
       "      <th>MFCCs_9</th>\n",
       "      <th>MFCCs_10</th>\n",
       "      <th>...</th>\n",
       "      <th>MFCCs_17</th>\n",
       "      <th>MFCCs_18</th>\n",
       "      <th>MFCCs_19</th>\n",
       "      <th>MFCCs_20</th>\n",
       "      <th>MFCCs_21</th>\n",
       "      <th>MFCCs_22</th>\n",
       "      <th>Family</th>\n",
       "      <th>Genus</th>\n",
       "      <th>Species</th>\n",
       "      <th>RecordID</th>\n",
       "    </tr>\n",
       "  </thead>\n",
       "  <tbody>\n",
       "    <tr>\n",
       "      <th>0</th>\n",
       "      <td>1.0</td>\n",
       "      <td>0.152936</td>\n",
       "      <td>-0.105586</td>\n",
       "      <td>0.200722</td>\n",
       "      <td>0.317201</td>\n",
       "      <td>0.260764</td>\n",
       "      <td>0.100945</td>\n",
       "      <td>-0.150063</td>\n",
       "      <td>-0.171128</td>\n",
       "      <td>0.124676</td>\n",
       "      <td>...</td>\n",
       "      <td>-0.108351</td>\n",
       "      <td>-0.077623</td>\n",
       "      <td>-0.009568</td>\n",
       "      <td>0.057684</td>\n",
       "      <td>0.118680</td>\n",
       "      <td>0.014038</td>\n",
       "      <td>Leptodactylidae</td>\n",
       "      <td>Adenomera</td>\n",
       "      <td>AdenomeraAndre</td>\n",
       "      <td>1</td>\n",
       "    </tr>\n",
       "    <tr>\n",
       "      <th>1</th>\n",
       "      <td>1.0</td>\n",
       "      <td>0.171534</td>\n",
       "      <td>-0.098975</td>\n",
       "      <td>0.268425</td>\n",
       "      <td>0.338672</td>\n",
       "      <td>0.268353</td>\n",
       "      <td>0.060835</td>\n",
       "      <td>-0.222475</td>\n",
       "      <td>-0.207693</td>\n",
       "      <td>0.170883</td>\n",
       "      <td>...</td>\n",
       "      <td>-0.090974</td>\n",
       "      <td>-0.056510</td>\n",
       "      <td>-0.035303</td>\n",
       "      <td>0.020140</td>\n",
       "      <td>0.082263</td>\n",
       "      <td>0.029056</td>\n",
       "      <td>Leptodactylidae</td>\n",
       "      <td>Adenomera</td>\n",
       "      <td>AdenomeraAndre</td>\n",
       "      <td>1</td>\n",
       "    </tr>\n",
       "    <tr>\n",
       "      <th>2</th>\n",
       "      <td>1.0</td>\n",
       "      <td>0.152317</td>\n",
       "      <td>-0.082973</td>\n",
       "      <td>0.287128</td>\n",
       "      <td>0.276014</td>\n",
       "      <td>0.189867</td>\n",
       "      <td>0.008714</td>\n",
       "      <td>-0.242234</td>\n",
       "      <td>-0.219153</td>\n",
       "      <td>0.232538</td>\n",
       "      <td>...</td>\n",
       "      <td>-0.050691</td>\n",
       "      <td>-0.023590</td>\n",
       "      <td>-0.066722</td>\n",
       "      <td>-0.025083</td>\n",
       "      <td>0.099108</td>\n",
       "      <td>0.077162</td>\n",
       "      <td>Leptodactylidae</td>\n",
       "      <td>Adenomera</td>\n",
       "      <td>AdenomeraAndre</td>\n",
       "      <td>1</td>\n",
       "    </tr>\n",
       "    <tr>\n",
       "      <th>3</th>\n",
       "      <td>1.0</td>\n",
       "      <td>0.224392</td>\n",
       "      <td>0.118985</td>\n",
       "      <td>0.329432</td>\n",
       "      <td>0.372088</td>\n",
       "      <td>0.361005</td>\n",
       "      <td>0.015501</td>\n",
       "      <td>-0.194347</td>\n",
       "      <td>-0.098181</td>\n",
       "      <td>0.270375</td>\n",
       "      <td>...</td>\n",
       "      <td>-0.136009</td>\n",
       "      <td>-0.177037</td>\n",
       "      <td>-0.130498</td>\n",
       "      <td>-0.054766</td>\n",
       "      <td>-0.018691</td>\n",
       "      <td>0.023954</td>\n",
       "      <td>Leptodactylidae</td>\n",
       "      <td>Adenomera</td>\n",
       "      <td>AdenomeraAndre</td>\n",
       "      <td>1</td>\n",
       "    </tr>\n",
       "    <tr>\n",
       "      <th>4</th>\n",
       "      <td>1.0</td>\n",
       "      <td>0.087817</td>\n",
       "      <td>-0.068345</td>\n",
       "      <td>0.306967</td>\n",
       "      <td>0.330923</td>\n",
       "      <td>0.249144</td>\n",
       "      <td>0.006884</td>\n",
       "      <td>-0.265423</td>\n",
       "      <td>-0.172700</td>\n",
       "      <td>0.266434</td>\n",
       "      <td>...</td>\n",
       "      <td>-0.048885</td>\n",
       "      <td>-0.053074</td>\n",
       "      <td>-0.088550</td>\n",
       "      <td>-0.031346</td>\n",
       "      <td>0.108610</td>\n",
       "      <td>0.079244</td>\n",
       "      <td>Leptodactylidae</td>\n",
       "      <td>Adenomera</td>\n",
       "      <td>AdenomeraAndre</td>\n",
       "      <td>1</td>\n",
       "    </tr>\n",
       "  </tbody>\n",
       "</table>\n",
       "<p>5 rows × 26 columns</p>\n",
       "</div>"
      ],
      "text/plain": [
       "   MFCCs_1   MFCCs_2   MFCCs_3   MFCCs_4   MFCCs_5   MFCCs_6   MFCCs_7  \\\n",
       "0      1.0  0.152936 -0.105586  0.200722  0.317201  0.260764  0.100945   \n",
       "1      1.0  0.171534 -0.098975  0.268425  0.338672  0.268353  0.060835   \n",
       "2      1.0  0.152317 -0.082973  0.287128  0.276014  0.189867  0.008714   \n",
       "3      1.0  0.224392  0.118985  0.329432  0.372088  0.361005  0.015501   \n",
       "4      1.0  0.087817 -0.068345  0.306967  0.330923  0.249144  0.006884   \n",
       "\n",
       "    MFCCs_8   MFCCs_9  MFCCs_10    ...     MFCCs_17  MFCCs_18  MFCCs_19  \\\n",
       "0 -0.150063 -0.171128  0.124676    ...    -0.108351 -0.077623 -0.009568   \n",
       "1 -0.222475 -0.207693  0.170883    ...    -0.090974 -0.056510 -0.035303   \n",
       "2 -0.242234 -0.219153  0.232538    ...    -0.050691 -0.023590 -0.066722   \n",
       "3 -0.194347 -0.098181  0.270375    ...    -0.136009 -0.177037 -0.130498   \n",
       "4 -0.265423 -0.172700  0.266434    ...    -0.048885 -0.053074 -0.088550   \n",
       "\n",
       "   MFCCs_20  MFCCs_21  MFCCs_22           Family      Genus         Species  \\\n",
       "0  0.057684  0.118680  0.014038  Leptodactylidae  Adenomera  AdenomeraAndre   \n",
       "1  0.020140  0.082263  0.029056  Leptodactylidae  Adenomera  AdenomeraAndre   \n",
       "2 -0.025083  0.099108  0.077162  Leptodactylidae  Adenomera  AdenomeraAndre   \n",
       "3 -0.054766 -0.018691  0.023954  Leptodactylidae  Adenomera  AdenomeraAndre   \n",
       "4 -0.031346  0.108610  0.079244  Leptodactylidae  Adenomera  AdenomeraAndre   \n",
       "\n",
       "   RecordID  \n",
       "0         1  \n",
       "1         1  \n",
       "2         1  \n",
       "3         1  \n",
       "4         1  \n",
       "\n",
       "[5 rows x 26 columns]"
      ]
     },
     "execution_count": 27,
     "metadata": {
      "tags": []
     },
     "output_type": "execute_result"
    }
   ],
   "source": [
    "# from csv to pandas Dataframe\n",
    "# df = pd.read_csv(DATASET_PATH)\n",
    "df = pd.read_csv(io.StringIO(downloaded.GetContentString()))\n",
    "df.columns = df.columns.str.replace(\" \", \"\") # remove whitespace, needed for TF\n",
    "\n",
    "print(\"Got %d examples from the .csv\" % df.shape[0])\n",
    "df.head()"
   ]
  },
  {
   "cell_type": "code",
   "execution_count": 0,
   "metadata": {
    "colab": {
     "autoexec": {
      "startup": false,
      "wait_interval": 0
     }
    },
    "colab_type": "code",
    "id": "u0deV-pLYMgW"
   },
   "outputs": [],
   "source": [
    "# get a mapping of all the labels in the Dataset into its integer values (required for Stratified Cross Validation)\n",
    "labels = _convert_labels_to_number(df.iloc[:,LABEL_INDEX:LABEL_INDEX+1].iloc[:,0])"
   ]
  },
  {
   "cell_type": "code",
   "execution_count": 29,
   "metadata": {
    "colab": {
     "autoexec": {
      "startup": false,
      "wait_interval": 0
     },
     "base_uri": "https://localhost:8080/",
     "height": 502
    },
    "colab_type": "code",
    "executionInfo": {
     "elapsed": 716,
     "status": "ok",
     "timestamp": 1526652320905,
     "user": {
      "displayName": "Miguel Ramalho",
      "photoUrl": "//lh6.googleusercontent.com/-jjJPjyHB8Us/AAAAAAAAAAI/AAAAAAAAIgA/iRzSPgPaB_o/s50-c-k-no/photo.jpg",
      "userId": "103480353348288276211"
     },
     "user_tz": -60
    },
    "id": "A9V-ZmD8YMgY",
    "outputId": "86ac330e-456e-488a-ad34-790879f263d8"
   },
   "outputs": [
    {
     "data": {
      "image/png": "[encoded data removed]",
      "text/plain": [
       "<matplotlib.figure.Figure at 0x7fb8420c0f98>"
      ]
     },
     "metadata": {
      "tags": []
     },
     "output_type": "display_data"
    }
   ],
   "source": [
    "# draw dataset distribution\n",
    "draw_species_distribution_chart(df)"
   ]
  },
  {
   "cell_type": "markdown",
   "metadata": {
    "colab_type": "text",
    "id": "z5MJ8sxRYMgb"
   },
   "source": [
    "### Running iterations"
   ]
  },
  {
   "cell_type": "code",
   "execution_count": 0,
   "metadata": {
    "colab": {
     "autoexec": {
      "startup": false,
      "wait_interval": 0
     }
    },
    "colab_type": "code",
    "id": "KzgcNGRCYMgc"
   },
   "outputs": [],
   "source": [
    "### Iterations\n",
    "\n",
    "# modify here to set model configurations\n",
    "INNER_LAYERS = [\n",
    "    [10],\n",
    "    [100],\n",
    "    [10, 10],\n",
    "    [100, 100],\n",
    "    [10, 10, 10],\n",
    "    [100, 100, 100],\n",
    "    [100, 50, 25],\n",
    "    [25, 50, 100]\n",
    "]\n",
    "\n",
    "TRAIN_FRACTIONS = [\n",
    "    0.8,\n",
    "    0.5,\n",
    "]\n",
    "\n",
    "NUM_STEPS = [\n",
    "    100, \n",
    "    200,\n",
    "    500,\n",
    "    1000,\n",
    "    1500,\n",
    "    2000\n",
    "]"
   ]
  },
  {
   "cell_type": "markdown",
   "metadata": {
    "colab_type": "text",
    "id": "T-XBCtUHYMgd"
   },
   "source": [
    "### Initial approach to dataset splitting\n",
    "Random split into train and test\n",
    "\n",
    "**Warning:** Depending on the complexity of the architecture and the number of steps in the training, this operation may take some time"
   ]
  },
  {
   "cell_type": "code",
   "execution_count": 0,
   "metadata": {
    "colab": {
     "autoexec": {
      "startup": false,
      "wait_interval": 0
     }
    },
    "colab_type": "code",
    "id": "fFH49-6BYMge"
   },
   "outputs": [],
   "source": [
    "# this may take a while\n",
    "#evaluations = run_model_iterations(df, labels, simple_data_split_generator)    "
   ]
  },
  {
   "cell_type": "code",
   "execution_count": 0,
   "metadata": {
    "colab": {
     "autoexec": {
      "startup": false,
      "wait_interval": 0
     }
    },
    "colab_type": "code",
    "id": "DPexSqk1YMgg"
   },
   "outputs": [],
   "source": [
    "# simple data splitting results\n",
    "#display_model_results(evaluations)"
   ]
  },
  {
   "cell_type": "markdown",
   "metadata": {
    "colab_type": "text",
    "id": "JWXcleIxYMgo"
   },
   "source": [
    "### Cross-Validation approach to dataset splitting\n",
    "In **k-fold** cross-validation, the original sample is randomly partitioned into k equal size subsamples.\n",
    "\n",
    "In **stratified k-fold** cross-validation, the folds are selected so that the mean response value is approximately equal in all the folds.\n",
    "\n",
    "To use one or the other, update the global setting `CROSS_VALIDATION_FUNCTION` in the [Initialize constants](#Initialize-constants) section\n",
    "\n",
    "**Warning:** Depending on the complexity of the architecture and the number of steps in the training, this operation may take some time"
   ]
  },
  {
   "cell_type": "code",
   "execution_count": 33,
   "metadata": {
    "colab": {
     "autoexec": {
      "startup": false,
      "wait_interval": 0
     },
     "base_uri": "https://localhost:8080/",
     "height": 74619
    },
    "colab_type": "code",
    "executionInfo": {
     "elapsed": 861390,
     "status": "ok",
     "timestamp": 1526653184410,
     "user": {
      "displayName": "Miguel Ramalho",
      "photoUrl": "//lh6.googleusercontent.com/-jjJPjyHB8Us/AAAAAAAAAAI/AAAAAAAAIgA/iRzSPgPaB_o/s50-c-k-no/photo.jpg",
      "userId": "103480353348288276211"
     },
     "user_tz": -60
    },
    "id": "1uogSgCWYMgp",
    "outputId": "62ade607-1622-48f3-debe-0f1a2deadfa3"
   },
   "outputs": [
    {
     "name": "stdout",
     "output_type": "stream",
     "text": [
      "INFO:tensorflow:Using default config.\n",
      "WARNING:tensorflow:Using temporary folder as model directory: /tmp/tmpi0psiy5n\n",
      "INFO:tensorflow:Using config: {'_model_dir': '/tmp/tmpi0psiy5n', '_tf_random_seed': None, '_save_summary_steps': 100, '_save_checkpoints_steps': None, '_save_checkpoints_secs': 600, '_session_config': None, '_keep_checkpoint_max': 5, '_keep_checkpoint_every_n_hours': 10000, '_log_step_count_steps': 100, '_service': None, '_cluster_spec': <tensorflow.python.training.server_lib.ClusterSpec object at 0x7fb84115c438>, '_task_type': 'worker', '_task_id': 0, '_global_id_in_cluster': 0, '_master': '', '_evaluation_master': '', '_is_chief': True, '_num_ps_replicas': 0, '_num_worker_replicas': 1}\n",
      "INFO:tensorflow:Calling model_fn.\n",
      "INFO:tensorflow:Done calling model_fn.\n",
      "INFO:tensorflow:Create CheckpointSaverHook.\n",
      "INFO:tensorflow:Graph was finalized.\n",
      "INFO:tensorflow:Running local_init_op.\n",
      "INFO:tensorflow:Done running local_init_op.\n",
      "INFO:tensorflow:Saving checkpoints for 1 into /tmp/tmpi0psiy5n/model.ckpt.\n",
      "INFO:tensorflow:loss = 233.06535, step = 0\n",
      "INFO:tensorflow:Saving checkpoints for 100 into /tmp/tmpi0psiy5n/model.ckpt.\n",
      "INFO:tensorflow:Loss for final step: 47.5394.\n",
      "INFO:tensorflow:Calling model_fn.\n",
      "INFO:tensorflow:Done calling model_fn.\n",
      "INFO:tensorflow:Starting evaluation at 2018-05-18-14:05:26\n",
      "INFO:tensorflow:Graph was finalized.\n",
      "INFO:tensorflow:Restoring parameters from /tmp/tmpi0psiy5n/model.ckpt-100\n",
      "INFO:tensorflow:Running local_init_op.\n",
      "INFO:tensorflow:Done running local_init_op.\n",
      "INFO:tensorflow:Finished evaluation at 2018-05-18-14:05:27\n",
      "INFO:tensorflow:Saving dict for global step 100: accuracy = 0.84823287, average_loss = 0.52389777, global_step = 100, loss = 50.398968\n",
      "INFO:tensorflow:Calling model_fn.\n",
      "INFO:tensorflow:Done calling model_fn.\n",
      "INFO:tensorflow:Graph was finalized.\n",
      "INFO:tensorflow:Restoring parameters from /tmp/tmpi0psiy5n/model.ckpt-100\n",
      "INFO:tensorflow:Running local_init_op.\n",
      "INFO:tensorflow:Done running local_init_op.\n",
      "INFO:tensorflow:Using default config.\n",
      "WARNING:tensorflow:Using temporary folder as model directory: /tmp/tmpd9o1h1m4\n",
      "INFO:tensorflow:Using config: {'_model_dir': '/tmp/tmpd9o1h1m4', '_tf_random_seed': None, '_save_summary_steps': 100, '_save_checkpoints_steps': None, '_save_checkpoints_secs': 600, '_session_config': None, '_keep_checkpoint_max': 5, '_keep_checkpoint_every_n_hours': 10000, '_log_step_count_steps': 100, '_service': None, '_cluster_spec': <tensorflow.python.training.server_lib.ClusterSpec object at 0x7fb83934aa20>, '_task_type': 'worker', '_task_id': 0, '_global_id_in_cluster': 0, '_master': '', '_evaluation_master': '', '_is_chief': True, '_num_ps_replicas': 0, '_num_worker_replicas': 1}\n",
      "INFO:tensorflow:Calling model_fn.\n",
      "INFO:tensorflow:Done calling model_fn.\n",
      "INFO:tensorflow:Create CheckpointSaverHook.\n",
      "INFO:tensorflow:Graph was finalized.\n",
      "INFO:tensorflow:Running local_init_op.\n",
      "INFO:tensorflow:Done running local_init_op.\n",
      "INFO:tensorflow:Saving checkpoints for 1 into /tmp/tmpd9o1h1m4/model.ckpt.\n",
      "INFO:tensorflow:loss = 239.84322, step = 0\n",
      "INFO:tensorflow:Saving checkpoints for 100 into /tmp/tmpd9o1h1m4/model.ckpt.\n",
      "INFO:tensorflow:Loss for final step: 53.96975.\n",
      "INFO:tensorflow:Calling model_fn.\n",
      "INFO:tensorflow:Done calling model_fn.\n",
      "INFO:tensorflow:Starting evaluation at 2018-05-18-14:05:30\n",
      "INFO:tensorflow:Graph was finalized.\n",
      "INFO:tensorflow:Restoring parameters from /tmp/tmpd9o1h1m4/model.ckpt-100\n",
      "INFO:tensorflow:Running local_init_op.\n",
      "INFO:tensorflow:Done running local_init_op.\n",
      "INFO:tensorflow:Finished evaluation at 2018-05-18-14:05:30\n",
      "INFO:tensorflow:Saving dict for global step 100: accuracy = 0.85186213, average_loss = 0.51976746, global_step = 100, loss = 51.947872\n",
      "INFO:tensorflow:Calling model_fn.\n",
      "INFO:tensorflow:Done calling model_fn.\n",
      "INFO:tensorflow:Graph was finalized.\n",
      "INFO:tensorflow:Restoring parameters from /tmp/tmpd9o1h1m4/model.ckpt-100\n",
      "INFO:tensorflow:Running local_init_op.\n",
      "INFO:tensorflow:Done running local_init_op.\n",
      "INFO:tensorflow:Using default config.\n",
      "WARNING:tensorflow:Using temporary folder as model directory: /tmp/tmpec9hk7tt\n",
      "INFO:tensorflow:Using config: {'_model_dir': '/tmp/tmpec9hk7tt', '_tf_random_seed': None, '_save_summary_steps': 100, '_save_checkpoints_steps': None, '_save_checkpoints_secs': 600, '_session_config': None, '_keep_checkpoint_max': 5, '_keep_checkpoint_every_n_hours': 10000, '_log_step_count_steps': 100, '_service': None, '_cluster_spec': <tensorflow.python.training.server_lib.ClusterSpec object at 0x7fb8392aadd8>, '_task_type': 'worker', '_task_id': 0, '_global_id_in_cluster': 0, '_master': '', '_evaluation_master': '', '_is_chief': True, '_num_ps_replicas': 0, '_num_worker_replicas': 1}\n",
      "INFO:tensorflow:Calling model_fn.\n",
      "INFO:tensorflow:Done calling model_fn.\n",
      "INFO:tensorflow:Create CheckpointSaverHook.\n",
      "INFO:tensorflow:Graph was finalized.\n",
      "INFO:tensorflow:Running local_init_op.\n",
      "INFO:tensorflow:Done running local_init_op.\n",
      "INFO:tensorflow:Saving checkpoints for 1 into /tmp/tmpec9hk7tt/model.ckpt.\n",
      "INFO:tensorflow:loss = 214.12328, step = 0\n",
      "INFO:tensorflow:global_step/sec: 156.331\n",
      "INFO:tensorflow:loss = 52.850758, step = 100 (0.644 sec)\n",
      "INFO:tensorflow:Saving checkpoints for 200 into /tmp/tmpec9hk7tt/model.ckpt.\n",
      "INFO:tensorflow:Loss for final step: 31.905632.\n",
      "INFO:tensorflow:Calling model_fn.\n",
      "INFO:tensorflow:Done calling model_fn.\n",
      "INFO:tensorflow:Starting evaluation at 2018-05-18-14:05:34\n",
      "INFO:tensorflow:Graph was finalized.\n",
      "INFO:tensorflow:Restoring parameters from /tmp/tmpec9hk7tt/model.ckpt-200\n",
      "INFO:tensorflow:Running local_init_op.\n",
      "INFO:tensorflow:Done running local_init_op.\n",
      "INFO:tensorflow:Finished evaluation at 2018-05-18-14:05:34\n",
      "INFO:tensorflow:Saving dict for global step 200: accuracy = 0.91822594, average_loss = 0.35645851, global_step = 200, loss = 34.29131\n",
      "INFO:tensorflow:Calling model_fn.\n",
      "INFO:tensorflow:Done calling model_fn.\n",
      "INFO:tensorflow:Graph was finalized.\n",
      "INFO:tensorflow:Restoring parameters from /tmp/tmpec9hk7tt/model.ckpt-200\n",
      "INFO:tensorflow:Running local_init_op.\n",
      "INFO:tensorflow:Done running local_init_op.\n",
      "INFO:tensorflow:Using default config.\n",
      "WARNING:tensorflow:Using temporary folder as model directory: /tmp/tmp7793_9wc\n",
      "INFO:tensorflow:Using config: {'_model_dir': '/tmp/tmp7793_9wc', '_tf_random_seed': None, '_save_summary_steps': 100, '_save_checkpoints_steps': None, '_save_checkpoints_secs': 600, '_session_config': None, '_keep_checkpoint_max': 5, '_keep_checkpoint_every_n_hours': 10000, '_log_step_count_steps': 100, '_service': None, '_cluster_spec': <tensorflow.python.training.server_lib.ClusterSpec object at 0x7fb83ec81860>, '_task_type': 'worker', '_task_id': 0, '_global_id_in_cluster': 0, '_master': '', '_evaluation_master': '', '_is_chief': True, '_num_ps_replicas': 0, '_num_worker_replicas': 1}\n",
      "INFO:tensorflow:Calling model_fn.\n",
      "INFO:tensorflow:Done calling model_fn.\n",
      "INFO:tensorflow:Create CheckpointSaverHook.\n",
      "INFO:tensorflow:Graph was finalized.\n",
      "INFO:tensorflow:Running local_init_op.\n",
      "INFO:tensorflow:Done running local_init_op.\n",
      "INFO:tensorflow:Saving checkpoints for 1 into /tmp/tmp7793_9wc/model.ckpt.\n",
      "INFO:tensorflow:loss = 257.3382, step = 0\n",
      "INFO:tensorflow:global_step/sec: 154.116\n",
      "INFO:tensorflow:loss = 55.462555, step = 100 (0.656 sec)\n",
      "INFO:tensorflow:Saving checkpoints for 200 into /tmp/tmp7793_9wc/model.ckpt.\n",
      "INFO:tensorflow:Loss for final step: 30.410294.\n",
      "INFO:tensorflow:Calling model_fn.\n",
      "INFO:tensorflow:Done calling model_fn.\n",
      "INFO:tensorflow:Starting evaluation at 2018-05-18-14:05:38\n",
      "INFO:tensorflow:Graph was finalized.\n",
      "INFO:tensorflow:Restoring parameters from /tmp/tmp7793_9wc/model.ckpt-200\n",
      "INFO:tensorflow:Running local_init_op.\n",
      "INFO:tensorflow:Done running local_init_op.\n",
      "INFO:tensorflow:Finished evaluation at 2018-05-18-14:05:39\n",
      "INFO:tensorflow:Saving dict for global step 200: accuracy = 0.90633684, average_loss = 0.37767977, global_step = 200, loss = 37.746994\n",
      "INFO:tensorflow:Calling model_fn.\n",
      "INFO:tensorflow:Done calling model_fn.\n",
      "INFO:tensorflow:Graph was finalized.\n",
      "INFO:tensorflow:Restoring parameters from /tmp/tmp7793_9wc/model.ckpt-200\n",
      "INFO:tensorflow:Running local_init_op.\n",
      "INFO:tensorflow:Done running local_init_op.\n",
      "INFO:tensorflow:Using default config.\n",
      "WARNING:tensorflow:Using temporary folder as model directory: /tmp/tmpoxaj1iyf\n",
      "INFO:tensorflow:Using config: {'_model_dir': '/tmp/tmpoxaj1iyf', '_tf_random_seed': None, '_save_summary_steps': 100, '_save_checkpoints_steps': None, '_save_checkpoints_secs': 600, '_session_config': None, '_keep_checkpoint_max': 5, '_keep_checkpoint_every_n_hours': 10000, '_log_step_count_steps': 100, '_service': None, '_cluster_spec': <tensorflow.python.training.server_lib.ClusterSpec object at 0x7fb83946c278>, '_task_type': 'worker', '_task_id': 0, '_global_id_in_cluster': 0, '_master': '', '_evaluation_master': '', '_is_chief': True, '_num_ps_replicas': 0, '_num_worker_replicas': 1}\n",
      "INFO:tensorflow:Calling model_fn.\n",
      "INFO:tensorflow:Done calling model_fn.\n",
      "INFO:tensorflow:Create CheckpointSaverHook.\n",
      "INFO:tensorflow:Graph was finalized.\n",
      "INFO:tensorflow:Running local_init_op.\n",
      "INFO:tensorflow:Done running local_init_op.\n",
      "INFO:tensorflow:Saving checkpoints for 1 into /tmp/tmpoxaj1iyf/model.ckpt.\n",
      "INFO:tensorflow:loss = 212.62311, step = 0\n",
      "INFO:tensorflow:global_step/sec: 146.179\n",
      "INFO:tensorflow:loss = 72.574905, step = 100 (0.688 sec)\n",
      "INFO:tensorflow:global_step/sec: 158.176\n",
      "INFO:tensorflow:loss = 28.933289, step = 200 (0.635 sec)\n",
      "INFO:tensorflow:global_step/sec: 159.919\n",
      "INFO:tensorflow:loss = 19.418058, step = 300 (0.625 sec)\n",
      "INFO:tensorflow:global_step/sec: 174.331\n",
      "INFO:tensorflow:loss = 30.373093, step = 400 (0.573 sec)\n",
      "INFO:tensorflow:Saving checkpoints for 500 into /tmp/tmpoxaj1iyf/model.ckpt.\n",
      "INFO:tensorflow:Loss for final step: 19.036396.\n",
      "INFO:tensorflow:Calling model_fn.\n",
      "INFO:tensorflow:Done calling model_fn.\n",
      "INFO:tensorflow:Starting evaluation at 2018-05-18-14:05:45\n",
      "INFO:tensorflow:Graph was finalized.\n",
      "INFO:tensorflow:Restoring parameters from /tmp/tmpoxaj1iyf/model.ckpt-500\n",
      "INFO:tensorflow:Running local_init_op.\n",
      "INFO:tensorflow:Done running local_init_op.\n",
      "INFO:tensorflow:Finished evaluation at 2018-05-18-14:05:45\n",
      "INFO:tensorflow:Saving dict for global step 500: accuracy = 0.9404019, average_loss = 0.23635328, global_step = 500, loss = 22.737185\n",
      "INFO:tensorflow:Calling model_fn.\n",
      "INFO:tensorflow:Done calling model_fn.\n",
      "INFO:tensorflow:Graph was finalized.\n",
      "INFO:tensorflow:Restoring parameters from /tmp/tmpoxaj1iyf/model.ckpt-500\n",
      "INFO:tensorflow:Running local_init_op.\n",
      "INFO:tensorflow:Done running local_init_op.\n",
      "INFO:tensorflow:Using default config.\n",
      "WARNING:tensorflow:Using temporary folder as model directory: /tmp/tmpuikk6oul\n"
     ]
    },
    {
     "name": "stdout",
     "output_type": "stream",
     "text": [
      "INFO:tensorflow:Using config: {'_model_dir': '/tmp/tmpuikk6oul', '_tf_random_seed': None, '_save_summary_steps': 100, '_save_checkpoints_steps': None, '_save_checkpoints_secs': 600, '_session_config': None, '_keep_checkpoint_max': 5, '_keep_checkpoint_every_n_hours': 10000, '_log_step_count_steps': 100, '_service': None, '_cluster_spec': <tensorflow.python.training.server_lib.ClusterSpec object at 0x7fb8411d8e80>, '_task_type': 'worker', '_task_id': 0, '_global_id_in_cluster': 0, '_master': '', '_evaluation_master': '', '_is_chief': True, '_num_ps_replicas': 0, '_num_worker_replicas': 1}\n",
      "INFO:tensorflow:Calling model_fn.\n",
      "INFO:tensorflow:Done calling model_fn.\n",
      "INFO:tensorflow:Create CheckpointSaverHook.\n",
      "INFO:tensorflow:Graph was finalized.\n",
      "INFO:tensorflow:Running local_init_op.\n",
      "INFO:tensorflow:Done running local_init_op.\n",
      "INFO:tensorflow:Saving checkpoints for 1 into /tmp/tmpuikk6oul/model.ckpt.\n",
      "INFO:tensorflow:loss = 232.81746, step = 0\n",
      "INFO:tensorflow:global_step/sec: 148.559\n",
      "INFO:tensorflow:loss = 51.098415, step = 100 (0.679 sec)\n",
      "INFO:tensorflow:global_step/sec: 155.918\n",
      "INFO:tensorflow:loss = 36.46671, step = 200 (0.642 sec)\n",
      "INFO:tensorflow:global_step/sec: 158.786\n",
      "INFO:tensorflow:loss = 25.084757, step = 300 (0.630 sec)\n",
      "INFO:tensorflow:global_step/sec: 163.198\n",
      "INFO:tensorflow:loss = 27.472912, step = 400 (0.613 sec)\n",
      "INFO:tensorflow:Saving checkpoints for 500 into /tmp/tmpuikk6oul/model.ckpt.\n",
      "INFO:tensorflow:Loss for final step: 22.834473.\n",
      "INFO:tensorflow:Calling model_fn.\n",
      "INFO:tensorflow:Done calling model_fn.\n",
      "INFO:tensorflow:Starting evaluation at 2018-05-18-14:05:51\n",
      "INFO:tensorflow:Graph was finalized.\n",
      "INFO:tensorflow:Restoring parameters from /tmp/tmpuikk6oul/model.ckpt-500\n",
      "INFO:tensorflow:Running local_init_op.\n",
      "INFO:tensorflow:Done running local_init_op.\n",
      "INFO:tensorflow:Finished evaluation at 2018-05-18-14:05:51\n",
      "INFO:tensorflow:Saving dict for global step 500: accuracy = 0.92190105, average_loss = 0.28625944, global_step = 500, loss = 28.610039\n",
      "INFO:tensorflow:Calling model_fn.\n",
      "INFO:tensorflow:Done calling model_fn.\n",
      "INFO:tensorflow:Graph was finalized.\n",
      "INFO:tensorflow:Restoring parameters from /tmp/tmpuikk6oul/model.ckpt-500\n",
      "INFO:tensorflow:Running local_init_op.\n",
      "INFO:tensorflow:Done running local_init_op.\n",
      "INFO:tensorflow:Using default config.\n",
      "WARNING:tensorflow:Using temporary folder as model directory: /tmp/tmp0w2x7n5i\n",
      "INFO:tensorflow:Using config: {'_model_dir': '/tmp/tmp0w2x7n5i', '_tf_random_seed': None, '_save_summary_steps': 100, '_save_checkpoints_steps': None, '_save_checkpoints_secs': 600, '_session_config': None, '_keep_checkpoint_max': 5, '_keep_checkpoint_every_n_hours': 10000, '_log_step_count_steps': 100, '_service': None, '_cluster_spec': <tensorflow.python.training.server_lib.ClusterSpec object at 0x7fb838f2a550>, '_task_type': 'worker', '_task_id': 0, '_global_id_in_cluster': 0, '_master': '', '_evaluation_master': '', '_is_chief': True, '_num_ps_replicas': 0, '_num_worker_replicas': 1}\n",
      "INFO:tensorflow:Calling model_fn.\n",
      "INFO:tensorflow:Done calling model_fn.\n",
      "INFO:tensorflow:Create CheckpointSaverHook.\n",
      "INFO:tensorflow:Graph was finalized.\n",
      "INFO:tensorflow:Running local_init_op.\n",
      "INFO:tensorflow:Done running local_init_op.\n",
      "INFO:tensorflow:Saving checkpoints for 1 into /tmp/tmp0w2x7n5i/model.ckpt.\n",
      "INFO:tensorflow:loss = 272.09756, step = 0\n",
      "INFO:tensorflow:global_step/sec: 152.194\n",
      "INFO:tensorflow:loss = 48.180416, step = 100 (0.665 sec)\n",
      "INFO:tensorflow:global_step/sec: 158.611\n",
      "INFO:tensorflow:loss = 39.687145, step = 200 (0.628 sec)\n",
      "INFO:tensorflow:global_step/sec: 157.762\n",
      "INFO:tensorflow:loss = 37.99148, step = 300 (0.634 sec)\n",
      "INFO:tensorflow:global_step/sec: 164.463\n",
      "INFO:tensorflow:loss = 23.981817, step = 400 (0.611 sec)\n",
      "INFO:tensorflow:global_step/sec: 152.365\n",
      "INFO:tensorflow:loss = 30.306664, step = 500 (0.653 sec)\n",
      "INFO:tensorflow:global_step/sec: 159.331\n",
      "INFO:tensorflow:loss = 18.281506, step = 600 (0.629 sec)\n",
      "INFO:tensorflow:global_step/sec: 157.18\n",
      "INFO:tensorflow:loss = 27.575417, step = 700 (0.636 sec)\n",
      "INFO:tensorflow:global_step/sec: 164.873\n",
      "INFO:tensorflow:loss = 15.802394, step = 800 (0.607 sec)\n",
      "INFO:tensorflow:global_step/sec: 158.408\n",
      "INFO:tensorflow:loss = 18.303143, step = 900 (0.627 sec)\n",
      "INFO:tensorflow:Saving checkpoints for 1000 into /tmp/tmp0w2x7n5i/model.ckpt.\n",
      "INFO:tensorflow:Loss for final step: 19.578066.\n",
      "INFO:tensorflow:Calling model_fn.\n",
      "INFO:tensorflow:Done calling model_fn.\n",
      "INFO:tensorflow:Starting evaluation at 2018-05-18-14:06:00\n",
      "INFO:tensorflow:Graph was finalized.\n",
      "INFO:tensorflow:Restoring parameters from /tmp/tmp0w2x7n5i/model.ckpt-1000\n",
      "INFO:tensorflow:Running local_init_op.\n",
      "INFO:tensorflow:Done running local_init_op.\n",
      "INFO:tensorflow:Finished evaluation at 2018-05-18-14:06:00\n",
      "INFO:tensorflow:Saving dict for global step 1000: accuracy = 0.9313929, average_loss = 0.2750544, global_step = 1000, loss = 26.460234\n",
      "INFO:tensorflow:Calling model_fn.\n",
      "INFO:tensorflow:Done calling model_fn.\n",
      "INFO:tensorflow:Graph was finalized.\n",
      "INFO:tensorflow:Restoring parameters from /tmp/tmp0w2x7n5i/model.ckpt-1000\n",
      "INFO:tensorflow:Running local_init_op.\n",
      "INFO:tensorflow:Done running local_init_op.\n",
      "INFO:tensorflow:Using default config.\n",
      "WARNING:tensorflow:Using temporary folder as model directory: /tmp/tmpxwfe882m\n",
      "INFO:tensorflow:Using config: {'_model_dir': '/tmp/tmpxwfe882m', '_tf_random_seed': None, '_save_summary_steps': 100, '_save_checkpoints_steps': None, '_save_checkpoints_secs': 600, '_session_config': None, '_keep_checkpoint_max': 5, '_keep_checkpoint_every_n_hours': 10000, '_log_step_count_steps': 100, '_service': None, '_cluster_spec': <tensorflow.python.training.server_lib.ClusterSpec object at 0x7fb841181eb8>, '_task_type': 'worker', '_task_id': 0, '_global_id_in_cluster': 0, '_master': '', '_evaluation_master': '', '_is_chief': True, '_num_ps_replicas': 0, '_num_worker_replicas': 1}\n",
      "INFO:tensorflow:Calling model_fn.\n",
      "INFO:tensorflow:Done calling model_fn.\n",
      "INFO:tensorflow:Create CheckpointSaverHook.\n",
      "INFO:tensorflow:Graph was finalized.\n",
      "INFO:tensorflow:Running local_init_op.\n",
      "INFO:tensorflow:Done running local_init_op.\n",
      "INFO:tensorflow:Saving checkpoints for 1 into /tmp/tmpxwfe882m/model.ckpt.\n",
      "INFO:tensorflow:loss = 227.01767, step = 0\n",
      "INFO:tensorflow:global_step/sec: 144.325\n",
      "INFO:tensorflow:loss = 40.33944, step = 100 (0.701 sec)\n",
      "INFO:tensorflow:global_step/sec: 159.154\n",
      "INFO:tensorflow:loss = 47.95698, step = 200 (0.622 sec)\n",
      "INFO:tensorflow:global_step/sec: 164.827\n",
      "INFO:tensorflow:loss = 38.94517, step = 300 (0.611 sec)\n",
      "INFO:tensorflow:global_step/sec: 161.329\n",
      "INFO:tensorflow:loss = 30.888414, step = 400 (0.618 sec)\n",
      "INFO:tensorflow:global_step/sec: 169.483\n",
      "INFO:tensorflow:loss = 24.288292, step = 500 (0.592 sec)\n",
      "INFO:tensorflow:global_step/sec: 162.943\n",
      "INFO:tensorflow:loss = 22.565514, step = 600 (0.615 sec)\n",
      "INFO:tensorflow:global_step/sec: 159.999\n",
      "INFO:tensorflow:loss = 26.135551, step = 700 (0.623 sec)\n",
      "INFO:tensorflow:global_step/sec: 161.751\n",
      "INFO:tensorflow:loss = 30.814568, step = 800 (0.619 sec)\n",
      "INFO:tensorflow:global_step/sec: 163.17\n",
      "INFO:tensorflow:loss = 28.611422, step = 900 (0.613 sec)\n",
      "INFO:tensorflow:Saving checkpoints for 1000 into /tmp/tmpxwfe882m/model.ckpt.\n",
      "INFO:tensorflow:Loss for final step: 16.810703.\n",
      "INFO:tensorflow:Calling model_fn.\n",
      "INFO:tensorflow:Done calling model_fn.\n",
      "INFO:tensorflow:Starting evaluation at 2018-05-18-14:06:09\n",
      "INFO:tensorflow:Graph was finalized.\n",
      "INFO:tensorflow:Restoring parameters from /tmp/tmpxwfe882m/model.ckpt-1000\n",
      "INFO:tensorflow:Running local_init_op.\n",
      "INFO:tensorflow:Done running local_init_op.\n",
      "INFO:tensorflow:Finished evaluation at 2018-05-18-14:06:10\n",
      "INFO:tensorflow:Saving dict for global step 1000: accuracy = 0.9357977, average_loss = 0.23883782, global_step = 1000, loss = 23.870514\n",
      "INFO:tensorflow:Calling model_fn.\n",
      "INFO:tensorflow:Done calling model_fn.\n",
      "INFO:tensorflow:Graph was finalized.\n",
      "INFO:tensorflow:Restoring parameters from /tmp/tmpxwfe882m/model.ckpt-1000\n",
      "INFO:tensorflow:Running local_init_op.\n",
      "INFO:tensorflow:Done running local_init_op.\n",
      "INFO:tensorflow:Using default config.\n",
      "WARNING:tensorflow:Using temporary folder as model directory: /tmp/tmp5_rlrwqg\n",
      "INFO:tensorflow:Using config: {'_model_dir': '/tmp/tmp5_rlrwqg', '_tf_random_seed': None, '_save_summary_steps': 100, '_save_checkpoints_steps': None, '_save_checkpoints_secs': 600, '_session_config': None, '_keep_checkpoint_max': 5, '_keep_checkpoint_every_n_hours': 10000, '_log_step_count_steps': 100, '_service': None, '_cluster_spec': <tensorflow.python.training.server_lib.ClusterSpec object at 0x7fb83eca8cc0>, '_task_type': 'worker', '_task_id': 0, '_global_id_in_cluster': 0, '_master': '', '_evaluation_master': '', '_is_chief': True, '_num_ps_replicas': 0, '_num_worker_replicas': 1}\n",
      "INFO:tensorflow:Calling model_fn.\n",
      "INFO:tensorflow:Done calling model_fn.\n",
      "INFO:tensorflow:Create CheckpointSaverHook.\n",
      "INFO:tensorflow:Graph was finalized.\n",
      "INFO:tensorflow:Running local_init_op.\n",
      "INFO:tensorflow:Done running local_init_op.\n",
      "INFO:tensorflow:Saving checkpoints for 1 into /tmp/tmp5_rlrwqg/model.ckpt.\n",
      "INFO:tensorflow:loss = 229.68959, step = 0\n",
      "INFO:tensorflow:global_step/sec: 154.057\n",
      "INFO:tensorflow:loss = 50.66958, step = 100 (0.656 sec)\n",
      "INFO:tensorflow:global_step/sec: 161.97\n",
      "INFO:tensorflow:loss = 31.928339, step = 200 (0.617 sec)\n",
      "INFO:tensorflow:global_step/sec: 160.587\n",
      "INFO:tensorflow:loss = 19.72746, step = 300 (0.622 sec)\n",
      "INFO:tensorflow:global_step/sec: 175.78\n",
      "INFO:tensorflow:loss = 20.910097, step = 400 (0.567 sec)\n",
      "INFO:tensorflow:global_step/sec: 160.72\n",
      "INFO:tensorflow:loss = 22.02797, step = 500 (0.626 sec)\n",
      "INFO:tensorflow:global_step/sec: 160.593\n",
      "INFO:tensorflow:loss = 23.382399, step = 600 (0.617 sec)\n",
      "INFO:tensorflow:global_step/sec: 160.049\n",
      "INFO:tensorflow:loss = 27.097174, step = 700 (0.624 sec)\n",
      "INFO:tensorflow:global_step/sec: 174.147\n",
      "INFO:tensorflow:loss = 26.030796, step = 800 (0.577 sec)\n",
      "INFO:tensorflow:global_step/sec: 162.918\n",
      "INFO:tensorflow:loss = 17.27865, step = 900 (0.614 sec)\n",
      "INFO:tensorflow:global_step/sec: 157.098\n",
      "INFO:tensorflow:loss = 12.078746, step = 1000 (0.637 sec)\n",
      "INFO:tensorflow:global_step/sec: 160.26\n",
      "INFO:tensorflow:loss = 24.347504, step = 1100 (0.624 sec)\n",
      "INFO:tensorflow:global_step/sec: 171.005\n",
      "INFO:tensorflow:loss = 14.457906, step = 1200 (0.581 sec)\n",
      "INFO:tensorflow:global_step/sec: 155.602\n"
     ]
    },
    {
     "name": "stdout",
     "output_type": "stream",
     "text": [
      "INFO:tensorflow:loss = 14.425979, step = 1300 (0.648 sec)\n",
      "INFO:tensorflow:global_step/sec: 159.523\n",
      "INFO:tensorflow:loss = 25.660776, step = 1400 (0.620 sec)\n",
      "INFO:tensorflow:Saving checkpoints for 1500 into /tmp/tmp5_rlrwqg/model.ckpt.\n",
      "INFO:tensorflow:Loss for final step: 25.989754.\n",
      "INFO:tensorflow:Calling model_fn.\n",
      "INFO:tensorflow:Done calling model_fn.\n",
      "INFO:tensorflow:Starting evaluation at 2018-05-18-14:06:21\n",
      "INFO:tensorflow:Graph was finalized.\n",
      "INFO:tensorflow:Restoring parameters from /tmp/tmp5_rlrwqg/model.ckpt-1500\n",
      "INFO:tensorflow:Running local_init_op.\n",
      "INFO:tensorflow:Done running local_init_op.\n",
      "INFO:tensorflow:Finished evaluation at 2018-05-18-14:06:22\n",
      "INFO:tensorflow:Saving dict for global step 1500: accuracy = 0.96257794, average_loss = 0.17335454, global_step = 1500, loss = 16.676706\n",
      "INFO:tensorflow:Calling model_fn.\n",
      "INFO:tensorflow:Done calling model_fn.\n",
      "INFO:tensorflow:Graph was finalized.\n",
      "INFO:tensorflow:Restoring parameters from /tmp/tmp5_rlrwqg/model.ckpt-1500\n",
      "INFO:tensorflow:Running local_init_op.\n",
      "INFO:tensorflow:Done running local_init_op.\n",
      "INFO:tensorflow:Using default config.\n",
      "WARNING:tensorflow:Using temporary folder as model directory: /tmp/tmpl4208hln\n",
      "INFO:tensorflow:Using config: {'_model_dir': '/tmp/tmpl4208hln', '_tf_random_seed': None, '_save_summary_steps': 100, '_save_checkpoints_steps': None, '_save_checkpoints_secs': 600, '_session_config': None, '_keep_checkpoint_max': 5, '_keep_checkpoint_every_n_hours': 10000, '_log_step_count_steps': 100, '_service': None, '_cluster_spec': <tensorflow.python.training.server_lib.ClusterSpec object at 0x7fb839224438>, '_task_type': 'worker', '_task_id': 0, '_global_id_in_cluster': 0, '_master': '', '_evaluation_master': '', '_is_chief': True, '_num_ps_replicas': 0, '_num_worker_replicas': 1}\n",
      "INFO:tensorflow:Calling model_fn.\n",
      "INFO:tensorflow:Done calling model_fn.\n",
      "INFO:tensorflow:Create CheckpointSaverHook.\n",
      "INFO:tensorflow:Graph was finalized.\n",
      "INFO:tensorflow:Running local_init_op.\n",
      "INFO:tensorflow:Done running local_init_op.\n",
      "INFO:tensorflow:Saving checkpoints for 1 into /tmp/tmpl4208hln/model.ckpt.\n",
      "INFO:tensorflow:loss = 235.37625, step = 0\n",
      "INFO:tensorflow:global_step/sec: 141.64\n",
      "INFO:tensorflow:loss = 43.00911, step = 100 (0.708 sec)\n",
      "INFO:tensorflow:global_step/sec: 155.499\n",
      "INFO:tensorflow:loss = 40.18041, step = 200 (0.646 sec)\n",
      "INFO:tensorflow:global_step/sec: 161.834\n",
      "INFO:tensorflow:loss = 34.603916, step = 300 (0.617 sec)\n",
      "INFO:tensorflow:global_step/sec: 161.537\n",
      "INFO:tensorflow:loss = 33.601536, step = 400 (0.616 sec)\n",
      "INFO:tensorflow:global_step/sec: 167.656\n",
      "INFO:tensorflow:loss = 40.397636, step = 500 (0.599 sec)\n",
      "INFO:tensorflow:global_step/sec: 164.031\n",
      "INFO:tensorflow:loss = 30.134565, step = 600 (0.610 sec)\n",
      "INFO:tensorflow:global_step/sec: 161.032\n",
      "INFO:tensorflow:loss = 28.154016, step = 700 (0.620 sec)\n",
      "INFO:tensorflow:global_step/sec: 160.97\n",
      "INFO:tensorflow:loss = 37.38168, step = 800 (0.624 sec)\n",
      "INFO:tensorflow:global_step/sec: 156.556\n",
      "INFO:tensorflow:loss = 36.317066, step = 900 (0.640 sec)\n",
      "INFO:tensorflow:global_step/sec: 171.688\n",
      "INFO:tensorflow:loss = 24.829006, step = 1000 (0.578 sec)\n",
      "INFO:tensorflow:global_step/sec: 165.5\n",
      "INFO:tensorflow:loss = 19.99139, step = 1100 (0.604 sec)\n",
      "INFO:tensorflow:global_step/sec: 159.068\n",
      "INFO:tensorflow:loss = 22.337084, step = 1200 (0.634 sec)\n",
      "INFO:tensorflow:global_step/sec: 161.366\n",
      "INFO:tensorflow:loss = 24.276096, step = 1300 (0.615 sec)\n",
      "INFO:tensorflow:global_step/sec: 172.469\n",
      "INFO:tensorflow:loss = 7.246563, step = 1400 (0.580 sec)\n",
      "INFO:tensorflow:Saving checkpoints for 1500 into /tmp/tmpl4208hln/model.ckpt.\n",
      "INFO:tensorflow:Loss for final step: 17.119583.\n",
      "INFO:tensorflow:Calling model_fn.\n",
      "INFO:tensorflow:Done calling model_fn.\n",
      "INFO:tensorflow:Starting evaluation at 2018-05-18-14:06:34\n",
      "INFO:tensorflow:Graph was finalized.\n",
      "INFO:tensorflow:Restoring parameters from /tmp/tmpl4208hln/model.ckpt-1500\n",
      "INFO:tensorflow:Running local_init_op.\n",
      "INFO:tensorflow:Done running local_init_op.\n",
      "INFO:tensorflow:Finished evaluation at 2018-05-18-14:06:34\n",
      "INFO:tensorflow:Saving dict for global step 1500: accuracy = 0.95386326, average_loss = 0.2023016, global_step = 1500, loss = 20.218922\n",
      "INFO:tensorflow:Calling model_fn.\n",
      "INFO:tensorflow:Done calling model_fn.\n",
      "INFO:tensorflow:Graph was finalized.\n",
      "INFO:tensorflow:Restoring parameters from /tmp/tmpl4208hln/model.ckpt-1500\n",
      "INFO:tensorflow:Running local_init_op.\n",
      "INFO:tensorflow:Done running local_init_op.\n",
      "INFO:tensorflow:Using default config.\n",
      "WARNING:tensorflow:Using temporary folder as model directory: /tmp/tmpfaj4398o\n",
      "INFO:tensorflow:Using config: {'_model_dir': '/tmp/tmpfaj4398o', '_tf_random_seed': None, '_save_summary_steps': 100, '_save_checkpoints_steps': None, '_save_checkpoints_secs': 600, '_session_config': None, '_keep_checkpoint_max': 5, '_keep_checkpoint_every_n_hours': 10000, '_log_step_count_steps': 100, '_service': None, '_cluster_spec': <tensorflow.python.training.server_lib.ClusterSpec object at 0x7fb838f2a278>, '_task_type': 'worker', '_task_id': 0, '_global_id_in_cluster': 0, '_master': '', '_evaluation_master': '', '_is_chief': True, '_num_ps_replicas': 0, '_num_worker_replicas': 1}\n",
      "INFO:tensorflow:Calling model_fn.\n",
      "INFO:tensorflow:Done calling model_fn.\n",
      "INFO:tensorflow:Create CheckpointSaverHook.\n",
      "INFO:tensorflow:Graph was finalized.\n",
      "INFO:tensorflow:Running local_init_op.\n",
      "INFO:tensorflow:Done running local_init_op.\n",
      "INFO:tensorflow:Saving checkpoints for 1 into /tmp/tmpfaj4398o/model.ckpt.\n",
      "INFO:tensorflow:loss = 224.92896, step = 0\n",
      "INFO:tensorflow:global_step/sec: 145.435\n",
      "INFO:tensorflow:loss = 38.07705, step = 100 (0.695 sec)\n",
      "INFO:tensorflow:global_step/sec: 156.522\n",
      "INFO:tensorflow:loss = 32.123184, step = 200 (0.633 sec)\n",
      "INFO:tensorflow:global_step/sec: 154.055\n",
      "INFO:tensorflow:loss = 42.21286, step = 300 (0.651 sec)\n",
      "INFO:tensorflow:global_step/sec: 163.994\n",
      "INFO:tensorflow:loss = 27.124117, step = 400 (0.608 sec)\n",
      "INFO:tensorflow:global_step/sec: 157.742\n",
      "INFO:tensorflow:loss = 16.323154, step = 500 (0.637 sec)\n",
      "INFO:tensorflow:global_step/sec: 157.329\n",
      "INFO:tensorflow:loss = 24.067835, step = 600 (0.638 sec)\n",
      "INFO:tensorflow:global_step/sec: 157.612\n",
      "INFO:tensorflow:loss = 26.56416, step = 700 (0.634 sec)\n",
      "INFO:tensorflow:global_step/sec: 173.307\n",
      "INFO:tensorflow:loss = 15.633272, step = 800 (0.572 sec)\n",
      "INFO:tensorflow:global_step/sec: 158.193\n",
      "INFO:tensorflow:loss = 22.780365, step = 900 (0.632 sec)\n",
      "INFO:tensorflow:global_step/sec: 157.032\n",
      "INFO:tensorflow:loss = 28.421099, step = 1000 (0.641 sec)\n",
      "INFO:tensorflow:global_step/sec: 157.971\n",
      "INFO:tensorflow:loss = 20.70249, step = 1100 (0.634 sec)\n",
      "INFO:tensorflow:global_step/sec: 170.262\n",
      "INFO:tensorflow:loss = 28.743256, step = 1200 (0.582 sec)\n",
      "INFO:tensorflow:global_step/sec: 160.42\n",
      "INFO:tensorflow:loss = 20.67981, step = 1300 (0.638 sec)\n",
      "INFO:tensorflow:global_step/sec: 158.63\n",
      "INFO:tensorflow:loss = 22.772722, step = 1400 (0.616 sec)\n",
      "INFO:tensorflow:global_step/sec: 158.546\n",
      "INFO:tensorflow:loss = 24.365526, step = 1500 (0.630 sec)\n",
      "INFO:tensorflow:global_step/sec: 175.636\n",
      "INFO:tensorflow:loss = 18.871153, step = 1600 (0.570 sec)\n",
      "INFO:tensorflow:global_step/sec: 160.041\n",
      "INFO:tensorflow:loss = 12.254381, step = 1700 (0.625 sec)\n",
      "INFO:tensorflow:global_step/sec: 161.635\n",
      "INFO:tensorflow:loss = 24.30766, step = 1800 (0.618 sec)\n",
      "INFO:tensorflow:global_step/sec: 156.446\n",
      "INFO:tensorflow:loss = 21.628962, step = 1900 (0.643 sec)\n",
      "INFO:tensorflow:Saving checkpoints for 2000 into /tmp/tmpfaj4398o/model.ckpt.\n",
      "INFO:tensorflow:Loss for final step: 17.764246.\n",
      "INFO:tensorflow:Calling model_fn.\n",
      "INFO:tensorflow:Done calling model_fn.\n",
      "INFO:tensorflow:Starting evaluation at 2018-05-18-14:06:49\n",
      "INFO:tensorflow:Graph was finalized.\n",
      "INFO:tensorflow:Restoring parameters from /tmp/tmpfaj4398o/model.ckpt-2000\n",
      "INFO:tensorflow:Running local_init_op.\n",
      "INFO:tensorflow:Done running local_init_op.\n",
      "INFO:tensorflow:Finished evaluation at 2018-05-18-14:06:50\n",
      "INFO:tensorflow:Saving dict for global step 2000: accuracy = 0.95010394, average_loss = 0.19095595, global_step = 2000, loss = 18.369963\n",
      "INFO:tensorflow:Calling model_fn.\n",
      "INFO:tensorflow:Done calling model_fn.\n",
      "INFO:tensorflow:Graph was finalized.\n",
      "INFO:tensorflow:Restoring parameters from /tmp/tmpfaj4398o/model.ckpt-2000\n",
      "INFO:tensorflow:Running local_init_op.\n",
      "INFO:tensorflow:Done running local_init_op.\n",
      "INFO:tensorflow:Using default config.\n",
      "WARNING:tensorflow:Using temporary folder as model directory: /tmp/tmplakwcxkr\n",
      "INFO:tensorflow:Using config: {'_model_dir': '/tmp/tmplakwcxkr', '_tf_random_seed': None, '_save_summary_steps': 100, '_save_checkpoints_steps': None, '_save_checkpoints_secs': 600, '_session_config': None, '_keep_checkpoint_max': 5, '_keep_checkpoint_every_n_hours': 10000, '_log_step_count_steps': 100, '_service': None, '_cluster_spec': <tensorflow.python.training.server_lib.ClusterSpec object at 0x7fb83915c278>, '_task_type': 'worker', '_task_id': 0, '_global_id_in_cluster': 0, '_master': '', '_evaluation_master': '', '_is_chief': True, '_num_ps_replicas': 0, '_num_worker_replicas': 1}\n",
      "INFO:tensorflow:Calling model_fn.\n",
      "INFO:tensorflow:Done calling model_fn.\n",
      "INFO:tensorflow:Create CheckpointSaverHook.\n",
      "INFO:tensorflow:Graph was finalized.\n",
      "INFO:tensorflow:Running local_init_op.\n",
      "INFO:tensorflow:Done running local_init_op.\n",
      "INFO:tensorflow:Saving checkpoints for 1 into /tmp/tmplakwcxkr/model.ckpt.\n",
      "INFO:tensorflow:loss = 240.62524, step = 0\n",
      "INFO:tensorflow:global_step/sec: 148.017\n",
      "INFO:tensorflow:loss = 57.17588, step = 100 (0.682 sec)\n",
      "INFO:tensorflow:global_step/sec: 162.2\n",
      "INFO:tensorflow:loss = 36.549698, step = 200 (0.613 sec)\n",
      "INFO:tensorflow:global_step/sec: 163.718\n",
      "INFO:tensorflow:loss = 35.751553, step = 300 (0.611 sec)\n",
      "INFO:tensorflow:global_step/sec: 166.433\n",
      "INFO:tensorflow:loss = 25.796593, step = 400 (0.604 sec)\n",
      "INFO:tensorflow:global_step/sec: 177.587\n",
      "INFO:tensorflow:loss = 28.328257, step = 500 (0.563 sec)\n",
      "INFO:tensorflow:global_step/sec: 164.397\n",
      "INFO:tensorflow:loss = 34.5361, step = 600 (0.608 sec)\n",
      "INFO:tensorflow:global_step/sec: 162.617\n",
      "INFO:tensorflow:loss = 29.681936, step = 700 (0.616 sec)\n",
      "INFO:tensorflow:global_step/sec: 165.328\n"
     ]
    },
    {
     "name": "stdout",
     "output_type": "stream",
     "text": [
      "INFO:tensorflow:loss = 21.730827, step = 800 (0.602 sec)\n",
      "INFO:tensorflow:global_step/sec: 166.614\n",
      "INFO:tensorflow:loss = 16.593494, step = 900 (0.602 sec)\n",
      "INFO:tensorflow:global_step/sec: 165.666\n",
      "INFO:tensorflow:loss = 19.217186, step = 1000 (0.599 sec)\n",
      "INFO:tensorflow:global_step/sec: 175.001\n",
      "INFO:tensorflow:loss = 20.693645, step = 1100 (0.576 sec)\n",
      "INFO:tensorflow:global_step/sec: 163.322\n",
      "INFO:tensorflow:loss = 30.43945, step = 1200 (0.608 sec)\n",
      "INFO:tensorflow:global_step/sec: 166.33\n",
      "INFO:tensorflow:loss = 18.96334, step = 1300 (0.601 sec)\n",
      "INFO:tensorflow:global_step/sec: 169.709\n",
      "INFO:tensorflow:loss = 25.596039, step = 1400 (0.593 sec)\n",
      "INFO:tensorflow:global_step/sec: 162.993\n",
      "INFO:tensorflow:loss = 18.398771, step = 1500 (0.610 sec)\n",
      "INFO:tensorflow:global_step/sec: 163.953\n",
      "INFO:tensorflow:loss = 14.017045, step = 1600 (0.613 sec)\n",
      "INFO:tensorflow:global_step/sec: 164.774\n",
      "INFO:tensorflow:loss = 19.481743, step = 1700 (0.608 sec)\n",
      "INFO:tensorflow:global_step/sec: 164.273\n",
      "INFO:tensorflow:loss = 11.477363, step = 1800 (0.609 sec)\n",
      "INFO:tensorflow:global_step/sec: 173.454\n",
      "INFO:tensorflow:loss = 19.487747, step = 1900 (0.573 sec)\n",
      "INFO:tensorflow:Saving checkpoints for 2000 into /tmp/tmplakwcxkr/model.ckpt.\n",
      "INFO:tensorflow:Loss for final step: 19.228973.\n",
      "INFO:tensorflow:Calling model_fn.\n",
      "INFO:tensorflow:Done calling model_fn.\n",
      "INFO:tensorflow:Starting evaluation at 2018-05-18-14:07:04\n",
      "INFO:tensorflow:Graph was finalized.\n",
      "INFO:tensorflow:Restoring parameters from /tmp/tmplakwcxkr/model.ckpt-2000\n",
      "INFO:tensorflow:Running local_init_op.\n",
      "INFO:tensorflow:Done running local_init_op.\n",
      "INFO:tensorflow:Finished evaluation at 2018-05-18-14:07:05\n",
      "INFO:tensorflow:Saving dict for global step 2000: accuracy = 0.950806, average_loss = 0.19175495, global_step = 2000, loss = 19.164843\n",
      "INFO:tensorflow:Calling model_fn.\n",
      "INFO:tensorflow:Done calling model_fn.\n",
      "INFO:tensorflow:Graph was finalized.\n",
      "INFO:tensorflow:Restoring parameters from /tmp/tmplakwcxkr/model.ckpt-2000\n",
      "INFO:tensorflow:Running local_init_op.\n",
      "INFO:tensorflow:Done running local_init_op.\n",
      "INFO:tensorflow:Using default config.\n",
      "WARNING:tensorflow:Using temporary folder as model directory: /tmp/tmpxr2jjmcj\n",
      "INFO:tensorflow:Using config: {'_model_dir': '/tmp/tmpxr2jjmcj', '_tf_random_seed': None, '_save_summary_steps': 100, '_save_checkpoints_steps': None, '_save_checkpoints_secs': 600, '_session_config': None, '_keep_checkpoint_max': 5, '_keep_checkpoint_every_n_hours': 10000, '_log_step_count_steps': 100, '_service': None, '_cluster_spec': <tensorflow.python.training.server_lib.ClusterSpec object at 0x7fb83eca8668>, '_task_type': 'worker', '_task_id': 0, '_global_id_in_cluster': 0, '_master': '', '_evaluation_master': '', '_is_chief': True, '_num_ps_replicas': 0, '_num_worker_replicas': 1}\n",
      "INFO:tensorflow:Calling model_fn.\n",
      "INFO:tensorflow:Done calling model_fn.\n",
      "INFO:tensorflow:Create CheckpointSaverHook.\n",
      "INFO:tensorflow:Graph was finalized.\n",
      "INFO:tensorflow:Running local_init_op.\n",
      "INFO:tensorflow:Done running local_init_op.\n",
      "INFO:tensorflow:Saving checkpoints for 1 into /tmp/tmpxr2jjmcj/model.ckpt.\n",
      "INFO:tensorflow:loss = 240.81781, step = 0\n",
      "INFO:tensorflow:Saving checkpoints for 100 into /tmp/tmpxr2jjmcj/model.ckpt.\n",
      "INFO:tensorflow:Loss for final step: 21.611904.\n",
      "INFO:tensorflow:Calling model_fn.\n",
      "INFO:tensorflow:Done calling model_fn.\n",
      "INFO:tensorflow:Starting evaluation at 2018-05-18-14:07:08\n",
      "INFO:tensorflow:Graph was finalized.\n",
      "INFO:tensorflow:Restoring parameters from /tmp/tmpxr2jjmcj/model.ckpt-100\n",
      "INFO:tensorflow:Running local_init_op.\n",
      "INFO:tensorflow:Done running local_init_op.\n",
      "INFO:tensorflow:Finished evaluation at 2018-05-18-14:07:08\n",
      "INFO:tensorflow:Saving dict for global step 100: accuracy = 0.94455993, average_loss = 0.21618354, global_step = 100, loss = 20.796856\n",
      "INFO:tensorflow:Calling model_fn.\n",
      "INFO:tensorflow:Done calling model_fn.\n",
      "INFO:tensorflow:Graph was finalized.\n",
      "INFO:tensorflow:Restoring parameters from /tmp/tmpxr2jjmcj/model.ckpt-100\n",
      "INFO:tensorflow:Running local_init_op.\n",
      "INFO:tensorflow:Done running local_init_op.\n",
      "INFO:tensorflow:Using default config.\n",
      "WARNING:tensorflow:Using temporary folder as model directory: /tmp/tmpuay83mno\n",
      "INFO:tensorflow:Using config: {'_model_dir': '/tmp/tmpuay83mno', '_tf_random_seed': None, '_save_summary_steps': 100, '_save_checkpoints_steps': None, '_save_checkpoints_secs': 600, '_session_config': None, '_keep_checkpoint_max': 5, '_keep_checkpoint_every_n_hours': 10000, '_log_step_count_steps': 100, '_service': None, '_cluster_spec': <tensorflow.python.training.server_lib.ClusterSpec object at 0x7fb8392b7c18>, '_task_type': 'worker', '_task_id': 0, '_global_id_in_cluster': 0, '_master': '', '_evaluation_master': '', '_is_chief': True, '_num_ps_replicas': 0, '_num_worker_replicas': 1}\n",
      "INFO:tensorflow:Calling model_fn.\n",
      "INFO:tensorflow:Done calling model_fn.\n",
      "INFO:tensorflow:Create CheckpointSaverHook.\n",
      "INFO:tensorflow:Graph was finalized.\n",
      "INFO:tensorflow:Running local_init_op.\n",
      "INFO:tensorflow:Done running local_init_op.\n",
      "INFO:tensorflow:Saving checkpoints for 1 into /tmp/tmpuay83mno/model.ckpt.\n",
      "INFO:tensorflow:loss = 236.6256, step = 0\n",
      "INFO:tensorflow:Saving checkpoints for 100 into /tmp/tmpuay83mno/model.ckpt.\n",
      "INFO:tensorflow:Loss for final step: 20.934338.\n",
      "INFO:tensorflow:Calling model_fn.\n",
      "INFO:tensorflow:Done calling model_fn.\n",
      "INFO:tensorflow:Starting evaluation at 2018-05-18-14:07:12\n",
      "INFO:tensorflow:Graph was finalized.\n",
      "INFO:tensorflow:Restoring parameters from /tmp/tmpuay83mno/model.ckpt-100\n",
      "INFO:tensorflow:Running local_init_op.\n",
      "INFO:tensorflow:Done running local_init_op.\n",
      "INFO:tensorflow:Finished evaluation at 2018-05-18-14:07:12\n",
      "INFO:tensorflow:Saving dict for global step 100: accuracy = 0.95219564, average_loss = 0.22012277, global_step = 100, loss = 22.000048\n",
      "INFO:tensorflow:Calling model_fn.\n",
      "INFO:tensorflow:Done calling model_fn.\n",
      "INFO:tensorflow:Graph was finalized.\n",
      "INFO:tensorflow:Restoring parameters from /tmp/tmpuay83mno/model.ckpt-100\n",
      "INFO:tensorflow:Running local_init_op.\n",
      "INFO:tensorflow:Done running local_init_op.\n",
      "INFO:tensorflow:Using default config.\n",
      "WARNING:tensorflow:Using temporary folder as model directory: /tmp/tmpbrbdlb03\n",
      "INFO:tensorflow:Using config: {'_model_dir': '/tmp/tmpbrbdlb03', '_tf_random_seed': None, '_save_summary_steps': 100, '_save_checkpoints_steps': None, '_save_checkpoints_secs': 600, '_session_config': None, '_keep_checkpoint_max': 5, '_keep_checkpoint_every_n_hours': 10000, '_log_step_count_steps': 100, '_service': None, '_cluster_spec': <tensorflow.python.training.server_lib.ClusterSpec object at 0x7fb8394abe48>, '_task_type': 'worker', '_task_id': 0, '_global_id_in_cluster': 0, '_master': '', '_evaluation_master': '', '_is_chief': True, '_num_ps_replicas': 0, '_num_worker_replicas': 1}\n",
      "INFO:tensorflow:Calling model_fn.\n",
      "INFO:tensorflow:Done calling model_fn.\n",
      "INFO:tensorflow:Create CheckpointSaverHook.\n",
      "INFO:tensorflow:Graph was finalized.\n",
      "INFO:tensorflow:Running local_init_op.\n",
      "INFO:tensorflow:Done running local_init_op.\n",
      "INFO:tensorflow:Saving checkpoints for 1 into /tmp/tmpbrbdlb03/model.ckpt.\n",
      "INFO:tensorflow:loss = 228.37209, step = 0\n",
      "INFO:tensorflow:global_step/sec: 154.569\n",
      "INFO:tensorflow:loss = 19.955393, step = 100 (0.654 sec)\n",
      "INFO:tensorflow:Saving checkpoints for 200 into /tmp/tmpbrbdlb03/model.ckpt.\n",
      "INFO:tensorflow:Loss for final step: 11.8526745.\n",
      "INFO:tensorflow:Calling model_fn.\n",
      "INFO:tensorflow:Done calling model_fn.\n",
      "INFO:tensorflow:Starting evaluation at 2018-05-18-14:07:16\n",
      "INFO:tensorflow:Graph was finalized.\n",
      "INFO:tensorflow:Restoring parameters from /tmp/tmpbrbdlb03/model.ckpt-200\n",
      "INFO:tensorflow:Running local_init_op.\n",
      "INFO:tensorflow:Done running local_init_op.\n",
      "INFO:tensorflow:Finished evaluation at 2018-05-18-14:07:16\n",
      "INFO:tensorflow:Saving dict for global step 200: accuracy = 0.96327096, average_loss = 0.16337022, global_step = 200, loss = 15.716216\n",
      "INFO:tensorflow:Calling model_fn.\n",
      "INFO:tensorflow:Done calling model_fn.\n",
      "INFO:tensorflow:Graph was finalized.\n",
      "INFO:tensorflow:Restoring parameters from /tmp/tmpbrbdlb03/model.ckpt-200\n",
      "INFO:tensorflow:Running local_init_op.\n",
      "INFO:tensorflow:Done running local_init_op.\n",
      "INFO:tensorflow:Using default config.\n",
      "WARNING:tensorflow:Using temporary folder as model directory: /tmp/tmph58fvxg_\n",
      "INFO:tensorflow:Using config: {'_model_dir': '/tmp/tmph58fvxg_', '_tf_random_seed': None, '_save_summary_steps': 100, '_save_checkpoints_steps': None, '_save_checkpoints_secs': 600, '_session_config': None, '_keep_checkpoint_max': 5, '_keep_checkpoint_every_n_hours': 10000, '_log_step_count_steps': 100, '_service': None, '_cluster_spec': <tensorflow.python.training.server_lib.ClusterSpec object at 0x7fb841128dd8>, '_task_type': 'worker', '_task_id': 0, '_global_id_in_cluster': 0, '_master': '', '_evaluation_master': '', '_is_chief': True, '_num_ps_replicas': 0, '_num_worker_replicas': 1}\n",
      "INFO:tensorflow:Calling model_fn.\n",
      "INFO:tensorflow:Done calling model_fn.\n",
      "INFO:tensorflow:Create CheckpointSaverHook.\n",
      "INFO:tensorflow:Graph was finalized.\n",
      "INFO:tensorflow:Running local_init_op.\n",
      "INFO:tensorflow:Done running local_init_op.\n",
      "INFO:tensorflow:Saving checkpoints for 1 into /tmp/tmph58fvxg_/model.ckpt.\n",
      "INFO:tensorflow:loss = 229.39459, step = 0\n",
      "INFO:tensorflow:global_step/sec: 150.942\n",
      "INFO:tensorflow:loss = 17.720804, step = 100 (0.668 sec)\n",
      "INFO:tensorflow:Saving checkpoints for 200 into /tmp/tmph58fvxg_/model.ckpt.\n",
      "INFO:tensorflow:Loss for final step: 13.133352.\n",
      "INFO:tensorflow:Calling model_fn.\n",
      "INFO:tensorflow:Done calling model_fn.\n",
      "INFO:tensorflow:Starting evaluation at 2018-05-18-14:07:20\n",
      "INFO:tensorflow:Graph was finalized.\n",
      "INFO:tensorflow:Restoring parameters from /tmp/tmph58fvxg_/model.ckpt-200\n",
      "INFO:tensorflow:Running local_init_op.\n",
      "INFO:tensorflow:Done running local_init_op.\n",
      "INFO:tensorflow:Finished evaluation at 2018-05-18-14:07:21\n",
      "INFO:tensorflow:Saving dict for global step 200: accuracy = 0.9602557, average_loss = 0.1570691, global_step = 200, loss = 15.698185\n",
      "INFO:tensorflow:Calling model_fn.\n",
      "INFO:tensorflow:Done calling model_fn.\n",
      "INFO:tensorflow:Graph was finalized.\n",
      "INFO:tensorflow:Restoring parameters from /tmp/tmph58fvxg_/model.ckpt-200\n",
      "INFO:tensorflow:Running local_init_op.\n",
      "INFO:tensorflow:Done running local_init_op.\n",
      "INFO:tensorflow:Using default config.\n",
      "WARNING:tensorflow:Using temporary folder as model directory: /tmp/tmphyiq0i_w\n",
      "INFO:tensorflow:Using config: {'_model_dir': '/tmp/tmphyiq0i_w', '_tf_random_seed': None, '_save_summary_steps': 100, '_save_checkpoints_steps': None, '_save_checkpoints_secs': 600, '_session_config': None, '_keep_checkpoint_max': 5, '_keep_checkpoint_every_n_hours': 10000, '_log_step_count_steps': 100, '_service': None, '_cluster_spec': <tensorflow.python.training.server_lib.ClusterSpec object at 0x7fb8391cd7f0>, '_task_type': 'worker', '_task_id': 0, '_global_id_in_cluster': 0, '_master': '', '_evaluation_master': '', '_is_chief': True, '_num_ps_replicas': 0, '_num_worker_replicas': 1}\n",
      "INFO:tensorflow:Calling model_fn.\n",
      "INFO:tensorflow:Done calling model_fn.\n",
      "INFO:tensorflow:Create CheckpointSaverHook.\n",
      "INFO:tensorflow:Graph was finalized.\n",
      "INFO:tensorflow:Running local_init_op.\n"
     ]
    },
    {
     "name": "stdout",
     "output_type": "stream",
     "text": [
      "INFO:tensorflow:Done running local_init_op.\n",
      "INFO:tensorflow:Saving checkpoints for 1 into /tmp/tmphyiq0i_w/model.ckpt.\n",
      "INFO:tensorflow:loss = 249.37234, step = 0\n",
      "INFO:tensorflow:global_step/sec: 154.001\n",
      "INFO:tensorflow:loss = 20.931236, step = 100 (0.656 sec)\n",
      "INFO:tensorflow:global_step/sec: 162.509\n",
      "INFO:tensorflow:loss = 12.107113, step = 200 (0.616 sec)\n",
      "INFO:tensorflow:global_step/sec: 163.61\n",
      "INFO:tensorflow:loss = 9.2437725, step = 300 (0.611 sec)\n",
      "INFO:tensorflow:global_step/sec: 176.013\n",
      "INFO:tensorflow:loss = 12.000462, step = 400 (0.566 sec)\n",
      "INFO:tensorflow:Saving checkpoints for 500 into /tmp/tmphyiq0i_w/model.ckpt.\n",
      "INFO:tensorflow:Loss for final step: 4.3813424.\n",
      "INFO:tensorflow:Calling model_fn.\n",
      "INFO:tensorflow:Done calling model_fn.\n",
      "INFO:tensorflow:Starting evaluation at 2018-05-18-14:07:26\n",
      "INFO:tensorflow:Graph was finalized.\n",
      "INFO:tensorflow:Restoring parameters from /tmp/tmphyiq0i_w/model.ckpt-500\n",
      "INFO:tensorflow:Running local_init_op.\n",
      "INFO:tensorflow:Done running local_init_op.\n",
      "INFO:tensorflow:Finished evaluation at 2018-05-18-14:07:27\n",
      "INFO:tensorflow:Saving dict for global step 500: accuracy = 0.97227997, average_loss = 0.10231333, global_step = 500, loss = 9.842543\n",
      "INFO:tensorflow:Calling model_fn.\n",
      "INFO:tensorflow:Done calling model_fn.\n",
      "INFO:tensorflow:Graph was finalized.\n",
      "INFO:tensorflow:Restoring parameters from /tmp/tmphyiq0i_w/model.ckpt-500\n",
      "INFO:tensorflow:Running local_init_op.\n",
      "INFO:tensorflow:Done running local_init_op.\n",
      "INFO:tensorflow:Using default config.\n",
      "WARNING:tensorflow:Using temporary folder as model directory: /tmp/tmpjpbhorq0\n",
      "INFO:tensorflow:Using config: {'_model_dir': '/tmp/tmpjpbhorq0', '_tf_random_seed': None, '_save_summary_steps': 100, '_save_checkpoints_steps': None, '_save_checkpoints_secs': 600, '_session_config': None, '_keep_checkpoint_max': 5, '_keep_checkpoint_every_n_hours': 10000, '_log_step_count_steps': 100, '_service': None, '_cluster_spec': <tensorflow.python.training.server_lib.ClusterSpec object at 0x7fb83922c198>, '_task_type': 'worker', '_task_id': 0, '_global_id_in_cluster': 0, '_master': '', '_evaluation_master': '', '_is_chief': True, '_num_ps_replicas': 0, '_num_worker_replicas': 1}\n",
      "INFO:tensorflow:Calling model_fn.\n",
      "INFO:tensorflow:Done calling model_fn.\n",
      "INFO:tensorflow:Create CheckpointSaverHook.\n",
      "INFO:tensorflow:Graph was finalized.\n",
      "INFO:tensorflow:Running local_init_op.\n",
      "INFO:tensorflow:Done running local_init_op.\n",
      "INFO:tensorflow:Saving checkpoints for 1 into /tmp/tmpjpbhorq0/model.ckpt.\n",
      "INFO:tensorflow:loss = 233.87575, step = 0\n",
      "INFO:tensorflow:global_step/sec: 150.027\n",
      "INFO:tensorflow:loss = 18.122437, step = 100 (0.670 sec)\n",
      "INFO:tensorflow:global_step/sec: 161.564\n",
      "INFO:tensorflow:loss = 14.31263, step = 200 (0.620 sec)\n",
      "INFO:tensorflow:global_step/sec: 157.385\n",
      "INFO:tensorflow:loss = 10.354722, step = 300 (0.635 sec)\n",
      "INFO:tensorflow:global_step/sec: 160.844\n",
      "INFO:tensorflow:loss = 12.986405, step = 400 (0.621 sec)\n",
      "INFO:tensorflow:Saving checkpoints for 500 into /tmp/tmpjpbhorq0/model.ckpt.\n",
      "INFO:tensorflow:Loss for final step: 6.837886.\n",
      "INFO:tensorflow:Calling model_fn.\n",
      "INFO:tensorflow:Done calling model_fn.\n",
      "INFO:tensorflow:Starting evaluation at 2018-05-18-14:07:32\n",
      "INFO:tensorflow:Graph was finalized.\n",
      "INFO:tensorflow:Restoring parameters from /tmp/tmpjpbhorq0/model.ckpt-500\n",
      "INFO:tensorflow:Running local_init_op.\n",
      "INFO:tensorflow:Done running local_init_op.\n",
      "INFO:tensorflow:Finished evaluation at 2018-05-18-14:07:33\n",
      "INFO:tensorflow:Saving dict for global step 500: accuracy = 0.97081715, average_loss = 0.11003144, global_step = 500, loss = 10.997031\n",
      "INFO:tensorflow:Calling model_fn.\n",
      "INFO:tensorflow:Done calling model_fn.\n",
      "INFO:tensorflow:Graph was finalized.\n",
      "INFO:tensorflow:Restoring parameters from /tmp/tmpjpbhorq0/model.ckpt-500\n",
      "INFO:tensorflow:Running local_init_op.\n",
      "INFO:tensorflow:Done running local_init_op.\n",
      "INFO:tensorflow:Using default config.\n",
      "WARNING:tensorflow:Using temporary folder as model directory: /tmp/tmpn_634dz9\n",
      "INFO:tensorflow:Using config: {'_model_dir': '/tmp/tmpn_634dz9', '_tf_random_seed': None, '_save_summary_steps': 100, '_save_checkpoints_steps': None, '_save_checkpoints_secs': 600, '_session_config': None, '_keep_checkpoint_max': 5, '_keep_checkpoint_every_n_hours': 10000, '_log_step_count_steps': 100, '_service': None, '_cluster_spec': <tensorflow.python.training.server_lib.ClusterSpec object at 0x7fb83901dc18>, '_task_type': 'worker', '_task_id': 0, '_global_id_in_cluster': 0, '_master': '', '_evaluation_master': '', '_is_chief': True, '_num_ps_replicas': 0, '_num_worker_replicas': 1}\n",
      "INFO:tensorflow:Calling model_fn.\n",
      "INFO:tensorflow:Done calling model_fn.\n",
      "INFO:tensorflow:Create CheckpointSaverHook.\n",
      "INFO:tensorflow:Graph was finalized.\n",
      "INFO:tensorflow:Running local_init_op.\n",
      "INFO:tensorflow:Done running local_init_op.\n",
      "INFO:tensorflow:Saving checkpoints for 1 into /tmp/tmpn_634dz9/model.ckpt.\n",
      "INFO:tensorflow:loss = 235.5533, step = 0\n",
      "INFO:tensorflow:global_step/sec: 149.993\n",
      "INFO:tensorflow:loss = 10.796355, step = 100 (0.672 sec)\n",
      "INFO:tensorflow:global_step/sec: 160.578\n",
      "INFO:tensorflow:loss = 14.387749, step = 200 (0.622 sec)\n",
      "INFO:tensorflow:global_step/sec: 164.034\n",
      "INFO:tensorflow:loss = 15.483174, step = 300 (0.608 sec)\n",
      "INFO:tensorflow:global_step/sec: 176.253\n",
      "INFO:tensorflow:loss = 6.817448, step = 400 (0.566 sec)\n",
      "INFO:tensorflow:global_step/sec: 162.069\n",
      "INFO:tensorflow:loss = 3.5726678, step = 500 (0.619 sec)\n",
      "INFO:tensorflow:global_step/sec: 161.561\n",
      "INFO:tensorflow:loss = 8.083887, step = 600 (0.616 sec)\n",
      "INFO:tensorflow:global_step/sec: 160.022\n",
      "INFO:tensorflow:loss = 7.106455, step = 700 (0.628 sec)\n",
      "INFO:tensorflow:global_step/sec: 173.382\n",
      "INFO:tensorflow:loss = 16.15913, step = 800 (0.578 sec)\n",
      "INFO:tensorflow:global_step/sec: 162.179\n",
      "INFO:tensorflow:loss = 5.5322123, step = 900 (0.619 sec)\n",
      "INFO:tensorflow:Saving checkpoints for 1000 into /tmp/tmpn_634dz9/model.ckpt.\n",
      "INFO:tensorflow:Loss for final step: 9.643982.\n",
      "INFO:tensorflow:Calling model_fn.\n",
      "INFO:tensorflow:Done calling model_fn.\n",
      "INFO:tensorflow:Starting evaluation at 2018-05-18-14:07:42\n",
      "INFO:tensorflow:Graph was finalized.\n",
      "INFO:tensorflow:Restoring parameters from /tmp/tmpn_634dz9/model.ckpt-1000\n",
      "INFO:tensorflow:Running local_init_op.\n",
      "INFO:tensorflow:Done running local_init_op.\n",
      "INFO:tensorflow:Finished evaluation at 2018-05-18-14:07:42\n",
      "INFO:tensorflow:Saving dict for global step 1000: accuracy = 0.967429, average_loss = 0.11771449, global_step = 1000, loss = 11.324133\n",
      "INFO:tensorflow:Calling model_fn.\n",
      "INFO:tensorflow:Done calling model_fn.\n",
      "INFO:tensorflow:Graph was finalized.\n",
      "INFO:tensorflow:Restoring parameters from /tmp/tmpn_634dz9/model.ckpt-1000\n",
      "INFO:tensorflow:Running local_init_op.\n",
      "INFO:tensorflow:Done running local_init_op.\n",
      "INFO:tensorflow:Using default config.\n",
      "WARNING:tensorflow:Using temporary folder as model directory: /tmp/tmpsg0pkfor\n",
      "INFO:tensorflow:Using config: {'_model_dir': '/tmp/tmpsg0pkfor', '_tf_random_seed': None, '_save_summary_steps': 100, '_save_checkpoints_steps': None, '_save_checkpoints_secs': 600, '_session_config': None, '_keep_checkpoint_max': 5, '_keep_checkpoint_every_n_hours': 10000, '_log_step_count_steps': 100, '_service': None, '_cluster_spec': <tensorflow.python.training.server_lib.ClusterSpec object at 0x7fb84113f1d0>, '_task_type': 'worker', '_task_id': 0, '_global_id_in_cluster': 0, '_master': '', '_evaluation_master': '', '_is_chief': True, '_num_ps_replicas': 0, '_num_worker_replicas': 1}\n",
      "INFO:tensorflow:Calling model_fn.\n",
      "INFO:tensorflow:Done calling model_fn.\n",
      "INFO:tensorflow:Create CheckpointSaverHook.\n",
      "INFO:tensorflow:Graph was finalized.\n",
      "INFO:tensorflow:Running local_init_op.\n",
      "INFO:tensorflow:Done running local_init_op.\n",
      "INFO:tensorflow:Saving checkpoints for 1 into /tmp/tmpsg0pkfor/model.ckpt.\n",
      "INFO:tensorflow:loss = 245.07869, step = 0\n",
      "INFO:tensorflow:global_step/sec: 147\n",
      "INFO:tensorflow:loss = 20.564554, step = 100 (0.684 sec)\n",
      "INFO:tensorflow:global_step/sec: 161.37\n",
      "INFO:tensorflow:loss = 17.484472, step = 200 (0.620 sec)\n",
      "INFO:tensorflow:global_step/sec: 161.817\n",
      "INFO:tensorflow:loss = 10.768947, step = 300 (0.618 sec)\n",
      "INFO:tensorflow:global_step/sec: 163.074\n",
      "INFO:tensorflow:loss = 7.0513163, step = 400 (0.613 sec)\n",
      "INFO:tensorflow:global_step/sec: 167.008\n",
      "INFO:tensorflow:loss = 12.585346, step = 500 (0.597 sec)\n",
      "INFO:tensorflow:global_step/sec: 162.887\n",
      "INFO:tensorflow:loss = 13.376637, step = 600 (0.615 sec)\n",
      "INFO:tensorflow:global_step/sec: 161.968\n",
      "INFO:tensorflow:loss = 4.148856, step = 700 (0.621 sec)\n",
      "INFO:tensorflow:global_step/sec: 159.37\n",
      "INFO:tensorflow:loss = 3.087883, step = 800 (0.630 sec)\n",
      "INFO:tensorflow:global_step/sec: 156.848\n",
      "INFO:tensorflow:loss = 7.196098, step = 900 (0.635 sec)\n",
      "INFO:tensorflow:Saving checkpoints for 1000 into /tmp/tmpsg0pkfor/model.ckpt.\n",
      "INFO:tensorflow:Loss for final step: 5.2736783.\n",
      "INFO:tensorflow:Calling model_fn.\n",
      "INFO:tensorflow:Done calling model_fn.\n",
      "INFO:tensorflow:Starting evaluation at 2018-05-18-14:07:51\n",
      "INFO:tensorflow:Graph was finalized.\n",
      "INFO:tensorflow:Restoring parameters from /tmp/tmpsg0pkfor/model.ckpt-1000\n",
      "INFO:tensorflow:Running local_init_op.\n",
      "INFO:tensorflow:Done running local_init_op.\n",
      "INFO:tensorflow:Finished evaluation at 2018-05-18-14:07:51\n",
      "INFO:tensorflow:Saving dict for global step 1000: accuracy = 0.97971094, average_loss = 0.07580119, global_step = 1000, loss = 7.575908\n",
      "INFO:tensorflow:Calling model_fn.\n",
      "INFO:tensorflow:Done calling model_fn.\n",
      "INFO:tensorflow:Graph was finalized.\n",
      "INFO:tensorflow:Restoring parameters from /tmp/tmpsg0pkfor/model.ckpt-1000\n",
      "INFO:tensorflow:Running local_init_op.\n",
      "INFO:tensorflow:Done running local_init_op.\n",
      "INFO:tensorflow:Using default config.\n",
      "WARNING:tensorflow:Using temporary folder as model directory: /tmp/tmprwgnf_sv\n",
      "INFO:tensorflow:Using config: {'_model_dir': '/tmp/tmprwgnf_sv', '_tf_random_seed': None, '_save_summary_steps': 100, '_save_checkpoints_steps': None, '_save_checkpoints_secs': 600, '_session_config': None, '_keep_checkpoint_max': 5, '_keep_checkpoint_every_n_hours': 10000, '_log_step_count_steps': 100, '_service': None, '_cluster_spec': <tensorflow.python.training.server_lib.ClusterSpec object at 0x7fb838feffd0>, '_task_type': 'worker', '_task_id': 0, '_global_id_in_cluster': 0, '_master': '', '_evaluation_master': '', '_is_chief': True, '_num_ps_replicas': 0, '_num_worker_replicas': 1}\n",
      "INFO:tensorflow:Calling model_fn.\n",
      "INFO:tensorflow:Done calling model_fn.\n",
      "INFO:tensorflow:Create CheckpointSaverHook.\n"
     ]
    },
    {
     "name": "stdout",
     "output_type": "stream",
     "text": [
      "INFO:tensorflow:Graph was finalized.\n",
      "INFO:tensorflow:Running local_init_op.\n",
      "INFO:tensorflow:Done running local_init_op.\n",
      "INFO:tensorflow:Saving checkpoints for 1 into /tmp/tmprwgnf_sv/model.ckpt.\n",
      "INFO:tensorflow:loss = 215.56421, step = 0\n",
      "INFO:tensorflow:global_step/sec: 153.818\n",
      "INFO:tensorflow:loss = 10.60368, step = 100 (0.656 sec)\n",
      "INFO:tensorflow:global_step/sec: 158.978\n",
      "INFO:tensorflow:loss = 24.91969, step = 200 (0.630 sec)\n",
      "INFO:tensorflow:global_step/sec: 161.2\n",
      "INFO:tensorflow:loss = 6.6704626, step = 300 (0.620 sec)\n",
      "INFO:tensorflow:global_step/sec: 165.528\n",
      "INFO:tensorflow:loss = 9.822303, step = 400 (0.605 sec)\n",
      "INFO:tensorflow:global_step/sec: 158.019\n",
      "INFO:tensorflow:loss = 5.438653, step = 500 (0.632 sec)\n",
      "INFO:tensorflow:global_step/sec: 153.609\n",
      "INFO:tensorflow:loss = 10.270342, step = 600 (0.650 sec)\n",
      "INFO:tensorflow:global_step/sec: 162.647\n",
      "INFO:tensorflow:loss = 7.1859426, step = 700 (0.616 sec)\n",
      "INFO:tensorflow:global_step/sec: 175.829\n",
      "INFO:tensorflow:loss = 3.7956686, step = 800 (0.566 sec)\n",
      "INFO:tensorflow:global_step/sec: 163.574\n",
      "INFO:tensorflow:loss = 5.843492, step = 900 (0.612 sec)\n",
      "INFO:tensorflow:global_step/sec: 163.284\n",
      "INFO:tensorflow:loss = 9.2042, step = 1000 (0.614 sec)\n",
      "INFO:tensorflow:global_step/sec: 159.624\n",
      "INFO:tensorflow:loss = 9.143583, step = 1100 (0.623 sec)\n",
      "INFO:tensorflow:global_step/sec: 168.085\n",
      "INFO:tensorflow:loss = 6.139371, step = 1200 (0.594 sec)\n",
      "INFO:tensorflow:global_step/sec: 159.627\n",
      "INFO:tensorflow:loss = 6.756015, step = 1300 (0.626 sec)\n",
      "INFO:tensorflow:global_step/sec: 160.444\n",
      "INFO:tensorflow:loss = 2.7411368, step = 1400 (0.623 sec)\n",
      "INFO:tensorflow:Saving checkpoints for 1500 into /tmp/tmprwgnf_sv/model.ckpt.\n",
      "INFO:tensorflow:Loss for final step: 4.677714.\n",
      "INFO:tensorflow:Calling model_fn.\n",
      "INFO:tensorflow:Done calling model_fn.\n",
      "INFO:tensorflow:Starting evaluation at 2018-05-18-14:08:03\n",
      "INFO:tensorflow:Graph was finalized.\n",
      "INFO:tensorflow:Restoring parameters from /tmp/tmprwgnf_sv/model.ckpt-1500\n",
      "INFO:tensorflow:Running local_init_op.\n",
      "INFO:tensorflow:Done running local_init_op.\n",
      "INFO:tensorflow:Finished evaluation at 2018-05-18-14:08:03\n",
      "INFO:tensorflow:Saving dict for global step 1500: accuracy = 0.980596, average_loss = 0.07438299, global_step = 1500, loss = 7.155644\n",
      "INFO:tensorflow:Calling model_fn.\n",
      "INFO:tensorflow:Done calling model_fn.\n",
      "INFO:tensorflow:Graph was finalized.\n",
      "INFO:tensorflow:Restoring parameters from /tmp/tmprwgnf_sv/model.ckpt-1500\n",
      "INFO:tensorflow:Running local_init_op.\n",
      "INFO:tensorflow:Done running local_init_op.\n",
      "INFO:tensorflow:Using default config.\n",
      "WARNING:tensorflow:Using temporary folder as model directory: /tmp/tmpiy_jniom\n",
      "INFO:tensorflow:Using config: {'_model_dir': '/tmp/tmpiy_jniom', '_tf_random_seed': None, '_save_summary_steps': 100, '_save_checkpoints_steps': None, '_save_checkpoints_secs': 600, '_session_config': None, '_keep_checkpoint_max': 5, '_keep_checkpoint_every_n_hours': 10000, '_log_step_count_steps': 100, '_service': None, '_cluster_spec': <tensorflow.python.training.server_lib.ClusterSpec object at 0x7fb8391cd5f8>, '_task_type': 'worker', '_task_id': 0, '_global_id_in_cluster': 0, '_master': '', '_evaluation_master': '', '_is_chief': True, '_num_ps_replicas': 0, '_num_worker_replicas': 1}\n",
      "INFO:tensorflow:Calling model_fn.\n",
      "INFO:tensorflow:Done calling model_fn.\n",
      "INFO:tensorflow:Create CheckpointSaverHook.\n",
      "INFO:tensorflow:Graph was finalized.\n",
      "INFO:tensorflow:Running local_init_op.\n",
      "INFO:tensorflow:Done running local_init_op.\n",
      "INFO:tensorflow:Saving checkpoints for 1 into /tmp/tmpiy_jniom/model.ckpt.\n",
      "INFO:tensorflow:loss = 223.80127, step = 0\n",
      "INFO:tensorflow:global_step/sec: 151.615\n",
      "INFO:tensorflow:loss = 19.641888, step = 100 (0.666 sec)\n",
      "INFO:tensorflow:global_step/sec: 160.506\n",
      "INFO:tensorflow:loss = 14.889868, step = 200 (0.622 sec)\n",
      "INFO:tensorflow:global_step/sec: 157.743\n",
      "INFO:tensorflow:loss = 11.792986, step = 300 (0.635 sec)\n",
      "INFO:tensorflow:global_step/sec: 154.965\n",
      "INFO:tensorflow:loss = 7.4780207, step = 400 (0.646 sec)\n",
      "INFO:tensorflow:global_step/sec: 164.321\n",
      "INFO:tensorflow:loss = 20.277378, step = 500 (0.610 sec)\n",
      "INFO:tensorflow:global_step/sec: 163.795\n",
      "INFO:tensorflow:loss = 5.3763747, step = 600 (0.610 sec)\n",
      "INFO:tensorflow:global_step/sec: 162.928\n",
      "INFO:tensorflow:loss = 4.5336647, step = 700 (0.612 sec)\n",
      "INFO:tensorflow:global_step/sec: 162.735\n",
      "INFO:tensorflow:loss = 6.17872, step = 800 (0.616 sec)\n",
      "INFO:tensorflow:global_step/sec: 164.296\n",
      "INFO:tensorflow:loss = 5.091961, step = 900 (0.606 sec)\n",
      "INFO:tensorflow:global_step/sec: 170.317\n",
      "INFO:tensorflow:loss = 11.056848, step = 1000 (0.590 sec)\n",
      "INFO:tensorflow:global_step/sec: 157.289\n",
      "INFO:tensorflow:loss = 2.157463, step = 1100 (0.636 sec)\n",
      "INFO:tensorflow:global_step/sec: 158.969\n",
      "INFO:tensorflow:loss = 2.7166326, step = 1200 (0.623 sec)\n",
      "INFO:tensorflow:global_step/sec: 155.338\n",
      "INFO:tensorflow:loss = 1.6939511, step = 1300 (0.647 sec)\n",
      "INFO:tensorflow:global_step/sec: 173.191\n",
      "INFO:tensorflow:loss = 11.100586, step = 1400 (0.578 sec)\n",
      "INFO:tensorflow:Saving checkpoints for 1500 into /tmp/tmpiy_jniom/model.ckpt.\n",
      "INFO:tensorflow:Loss for final step: 2.6024709.\n",
      "INFO:tensorflow:Calling model_fn.\n",
      "INFO:tensorflow:Done calling model_fn.\n",
      "INFO:tensorflow:Starting evaluation at 2018-05-18-14:08:15\n",
      "INFO:tensorflow:Graph was finalized.\n",
      "INFO:tensorflow:Restoring parameters from /tmp/tmpiy_jniom/model.ckpt-1500\n",
      "INFO:tensorflow:Running local_init_op.\n",
      "INFO:tensorflow:Done running local_init_op.\n",
      "INFO:tensorflow:Finished evaluation at 2018-05-18-14:08:16\n",
      "INFO:tensorflow:Saving dict for global step 1500: accuracy = 0.98054475, average_loss = 0.070294335, global_step = 1500, loss = 7.025528\n",
      "INFO:tensorflow:Calling model_fn.\n",
      "INFO:tensorflow:Done calling model_fn.\n",
      "INFO:tensorflow:Graph was finalized.\n",
      "INFO:tensorflow:Restoring parameters from /tmp/tmpiy_jniom/model.ckpt-1500\n",
      "INFO:tensorflow:Running local_init_op.\n",
      "INFO:tensorflow:Done running local_init_op.\n",
      "INFO:tensorflow:Using default config.\n",
      "WARNING:tensorflow:Using temporary folder as model directory: /tmp/tmppesdjpc9\n",
      "INFO:tensorflow:Using config: {'_model_dir': '/tmp/tmppesdjpc9', '_tf_random_seed': None, '_save_summary_steps': 100, '_save_checkpoints_steps': None, '_save_checkpoints_secs': 600, '_session_config': None, '_keep_checkpoint_max': 5, '_keep_checkpoint_every_n_hours': 10000, '_log_step_count_steps': 100, '_service': None, '_cluster_spec': <tensorflow.python.training.server_lib.ClusterSpec object at 0x7fb8386a9ef0>, '_task_type': 'worker', '_task_id': 0, '_global_id_in_cluster': 0, '_master': '', '_evaluation_master': '', '_is_chief': True, '_num_ps_replicas': 0, '_num_worker_replicas': 1}\n",
      "INFO:tensorflow:Calling model_fn.\n",
      "INFO:tensorflow:Done calling model_fn.\n",
      "INFO:tensorflow:Create CheckpointSaverHook.\n",
      "INFO:tensorflow:Graph was finalized.\n",
      "INFO:tensorflow:Running local_init_op.\n",
      "INFO:tensorflow:Done running local_init_op.\n",
      "INFO:tensorflow:Saving checkpoints for 1 into /tmp/tmppesdjpc9/model.ckpt.\n",
      "INFO:tensorflow:loss = 225.89618, step = 0\n",
      "INFO:tensorflow:global_step/sec: 147.946\n",
      "INFO:tensorflow:loss = 34.249928, step = 100 (0.681 sec)\n",
      "INFO:tensorflow:global_step/sec: 154.928\n",
      "INFO:tensorflow:loss = 9.116052, step = 200 (0.648 sec)\n",
      "INFO:tensorflow:global_step/sec: 154.077\n",
      "INFO:tensorflow:loss = 18.711077, step = 300 (0.646 sec)\n",
      "INFO:tensorflow:global_step/sec: 170.438\n",
      "INFO:tensorflow:loss = 14.719426, step = 400 (0.588 sec)\n",
      "INFO:tensorflow:global_step/sec: 163.616\n",
      "INFO:tensorflow:loss = 8.756356, step = 500 (0.611 sec)\n",
      "INFO:tensorflow:global_step/sec: 161.794\n",
      "INFO:tensorflow:loss = 14.163599, step = 600 (0.619 sec)\n",
      "INFO:tensorflow:global_step/sec: 156.466\n",
      "INFO:tensorflow:loss = 5.7056584, step = 700 (0.639 sec)\n",
      "INFO:tensorflow:global_step/sec: 171.038\n",
      "INFO:tensorflow:loss = 2.9320965, step = 800 (0.582 sec)\n",
      "INFO:tensorflow:global_step/sec: 160.271\n",
      "INFO:tensorflow:loss = 5.1873293, step = 900 (0.621 sec)\n",
      "INFO:tensorflow:global_step/sec: 163.818\n",
      "INFO:tensorflow:loss = 3.600174, step = 1000 (0.610 sec)\n",
      "INFO:tensorflow:global_step/sec: 157.843\n",
      "INFO:tensorflow:loss = 2.9919374, step = 1100 (0.638 sec)\n",
      "INFO:tensorflow:global_step/sec: 173.611\n",
      "INFO:tensorflow:loss = 2.4943867, step = 1200 (0.572 sec)\n",
      "INFO:tensorflow:global_step/sec: 161.088\n",
      "INFO:tensorflow:loss = 5.8250527, step = 1300 (0.621 sec)\n",
      "INFO:tensorflow:global_step/sec: 160.22\n",
      "INFO:tensorflow:loss = 4.5396156, step = 1400 (0.628 sec)\n",
      "INFO:tensorflow:global_step/sec: 162.842\n",
      "INFO:tensorflow:loss = 3.4590888, step = 1500 (0.613 sec)\n",
      "INFO:tensorflow:global_step/sec: 168.885\n",
      "INFO:tensorflow:loss = 2.1417038, step = 1600 (0.589 sec)\n",
      "INFO:tensorflow:global_step/sec: 155.332\n",
      "INFO:tensorflow:loss = 1.9986062, step = 1700 (0.649 sec)\n",
      "INFO:tensorflow:global_step/sec: 159.381\n",
      "INFO:tensorflow:loss = 9.673543, step = 1800 (0.625 sec)\n",
      "INFO:tensorflow:global_step/sec: 159.11\n",
      "INFO:tensorflow:loss = 4.561995, step = 1900 (0.632 sec)\n",
      "INFO:tensorflow:Saving checkpoints for 2000 into /tmp/tmppesdjpc9/model.ckpt.\n",
      "INFO:tensorflow:Loss for final step: 1.3887298.\n",
      "INFO:tensorflow:Calling model_fn.\n",
      "INFO:tensorflow:Done calling model_fn.\n",
      "INFO:tensorflow:Starting evaluation at 2018-05-18-14:08:31\n",
      "INFO:tensorflow:Graph was finalized.\n",
      "INFO:tensorflow:Restoring parameters from /tmp/tmppesdjpc9/model.ckpt-2000\n",
      "INFO:tensorflow:Running local_init_op.\n",
      "INFO:tensorflow:Done running local_init_op.\n",
      "INFO:tensorflow:Finished evaluation at 2018-05-18-14:08:31\n",
      "INFO:tensorflow:Saving dict for global step 2000: accuracy = 0.984061, average_loss = 0.05416245, global_step = 2000, loss = 5.2104278\n",
      "INFO:tensorflow:Calling model_fn.\n",
      "INFO:tensorflow:Done calling model_fn.\n",
      "INFO:tensorflow:Graph was finalized.\n",
      "INFO:tensorflow:Restoring parameters from /tmp/tmppesdjpc9/model.ckpt-2000\n",
      "INFO:tensorflow:Running local_init_op.\n",
      "INFO:tensorflow:Done running local_init_op.\n",
      "INFO:tensorflow:Using default config.\n",
      "WARNING:tensorflow:Using temporary folder as model directory: /tmp/tmp_dvkene4\n",
      "INFO:tensorflow:Using config: {'_model_dir': '/tmp/tmp_dvkene4', '_tf_random_seed': None, '_save_summary_steps': 100, '_save_checkpoints_steps': None, '_save_checkpoints_secs': 600, '_session_config': None, '_keep_checkpoint_max': 5, '_keep_checkpoint_every_n_hours': 10000, '_log_step_count_steps': 100, '_service': None, '_cluster_spec': <tensorflow.python.training.server_lib.ClusterSpec object at 0x7fb83ed056d8>, '_task_type': 'worker', '_task_id': 0, '_global_id_in_cluster': 0, '_master': '', '_evaluation_master': '', '_is_chief': True, '_num_ps_replicas': 0, '_num_worker_replicas': 1}\n",
      "INFO:tensorflow:Calling model_fn.\n",
      "INFO:tensorflow:Done calling model_fn.\n",
      "INFO:tensorflow:Create CheckpointSaverHook.\n",
      "INFO:tensorflow:Graph was finalized.\n",
      "INFO:tensorflow:Running local_init_op.\n",
      "INFO:tensorflow:Done running local_init_op.\n",
      "INFO:tensorflow:Saving checkpoints for 1 into /tmp/tmp_dvkene4/model.ckpt.\n"
     ]
    },
    {
     "name": "stdout",
     "output_type": "stream",
     "text": [
      "INFO:tensorflow:loss = 223.55504, step = 0\n",
      "INFO:tensorflow:global_step/sec: 152.2\n",
      "INFO:tensorflow:loss = 25.156769, step = 100 (0.663 sec)\n",
      "INFO:tensorflow:global_step/sec: 162.421\n",
      "INFO:tensorflow:loss = 18.212599, step = 200 (0.614 sec)\n",
      "INFO:tensorflow:global_step/sec: 164.543\n",
      "INFO:tensorflow:loss = 15.939178, step = 300 (0.606 sec)\n",
      "INFO:tensorflow:global_step/sec: 162.995\n",
      "INFO:tensorflow:loss = 9.483749, step = 400 (0.618 sec)\n",
      "INFO:tensorflow:global_step/sec: 163.546\n",
      "INFO:tensorflow:loss = 9.793248, step = 500 (0.611 sec)\n",
      "INFO:tensorflow:global_step/sec: 161.066\n",
      "INFO:tensorflow:loss = 9.107845, step = 600 (0.621 sec)\n",
      "INFO:tensorflow:global_step/sec: 160.463\n",
      "INFO:tensorflow:loss = 6.8194575, step = 700 (0.621 sec)\n",
      "INFO:tensorflow:global_step/sec: 163.232\n",
      "INFO:tensorflow:loss = 6.577659, step = 800 (0.613 sec)\n",
      "INFO:tensorflow:global_step/sec: 163.545\n",
      "INFO:tensorflow:loss = 3.6831863, step = 900 (0.611 sec)\n",
      "INFO:tensorflow:global_step/sec: 167.909\n",
      "INFO:tensorflow:loss = 7.005392, step = 1000 (0.592 sec)\n",
      "INFO:tensorflow:global_step/sec: 162.513\n",
      "INFO:tensorflow:loss = 4.6102295, step = 1100 (0.615 sec)\n",
      "INFO:tensorflow:global_step/sec: 164.412\n",
      "INFO:tensorflow:loss = 6.2465763, step = 1200 (0.611 sec)\n",
      "INFO:tensorflow:global_step/sec: 166.525\n",
      "INFO:tensorflow:loss = 3.7853312, step = 1300 (0.601 sec)\n",
      "INFO:tensorflow:global_step/sec: 167.092\n",
      "INFO:tensorflow:loss = 6.053839, step = 1400 (0.599 sec)\n",
      "INFO:tensorflow:global_step/sec: 161.847\n",
      "INFO:tensorflow:loss = 4.7354507, step = 1500 (0.618 sec)\n",
      "INFO:tensorflow:global_step/sec: 167.967\n",
      "INFO:tensorflow:loss = 2.9221268, step = 1600 (0.591 sec)\n",
      "INFO:tensorflow:global_step/sec: 173.694\n",
      "INFO:tensorflow:loss = 6.7424755, step = 1700 (0.576 sec)\n",
      "INFO:tensorflow:global_step/sec: 167.08\n",
      "INFO:tensorflow:loss = 3.5623765, step = 1800 (0.601 sec)\n",
      "INFO:tensorflow:global_step/sec: 171.188\n",
      "INFO:tensorflow:loss = 2.2013884, step = 1900 (0.581 sec)\n",
      "INFO:tensorflow:Saving checkpoints for 2000 into /tmp/tmp_dvkene4/model.ckpt.\n",
      "INFO:tensorflow:Loss for final step: 1.719011.\n",
      "INFO:tensorflow:Calling model_fn.\n",
      "INFO:tensorflow:Done calling model_fn.\n",
      "INFO:tensorflow:Starting evaluation at 2018-05-18-14:08:46\n",
      "INFO:tensorflow:Graph was finalized.\n",
      "INFO:tensorflow:Restoring parameters from /tmp/tmp_dvkene4/model.ckpt-2000\n",
      "INFO:tensorflow:Running local_init_op.\n",
      "INFO:tensorflow:Done running local_init_op.\n",
      "INFO:tensorflow:Finished evaluation at 2018-05-18-14:08:46\n",
      "INFO:tensorflow:Saving dict for global step 2000: accuracy = 0.9819344, average_loss = 0.068051495, global_step = 2000, loss = 6.801369\n",
      "INFO:tensorflow:Calling model_fn.\n",
      "INFO:tensorflow:Done calling model_fn.\n",
      "INFO:tensorflow:Graph was finalized.\n",
      "INFO:tensorflow:Restoring parameters from /tmp/tmp_dvkene4/model.ckpt-2000\n",
      "INFO:tensorflow:Running local_init_op.\n",
      "INFO:tensorflow:Done running local_init_op.\n",
      "INFO:tensorflow:Using default config.\n",
      "WARNING:tensorflow:Using temporary folder as model directory: /tmp/tmpjt9nr9im\n",
      "INFO:tensorflow:Using config: {'_model_dir': '/tmp/tmpjt9nr9im', '_tf_random_seed': None, '_save_summary_steps': 100, '_save_checkpoints_steps': None, '_save_checkpoints_secs': 600, '_session_config': None, '_keep_checkpoint_max': 5, '_keep_checkpoint_every_n_hours': 10000, '_log_step_count_steps': 100, '_service': None, '_cluster_spec': <tensorflow.python.training.server_lib.ClusterSpec object at 0x7fb82198d198>, '_task_type': 'worker', '_task_id': 0, '_global_id_in_cluster': 0, '_master': '', '_evaluation_master': '', '_is_chief': True, '_num_ps_replicas': 0, '_num_worker_replicas': 1}\n",
      "INFO:tensorflow:Calling model_fn.\n",
      "INFO:tensorflow:Done calling model_fn.\n",
      "INFO:tensorflow:Create CheckpointSaverHook.\n",
      "INFO:tensorflow:Graph was finalized.\n",
      "INFO:tensorflow:Running local_init_op.\n",
      "INFO:tensorflow:Done running local_init_op.\n",
      "INFO:tensorflow:Saving checkpoints for 1 into /tmp/tmpjt9nr9im/model.ckpt.\n",
      "INFO:tensorflow:loss = 232.71745, step = 0\n",
      "INFO:tensorflow:Saving checkpoints for 100 into /tmp/tmpjt9nr9im/model.ckpt.\n",
      "INFO:tensorflow:Loss for final step: 48.250175.\n",
      "INFO:tensorflow:Calling model_fn.\n",
      "INFO:tensorflow:Done calling model_fn.\n",
      "INFO:tensorflow:Starting evaluation at 2018-05-18-14:08:50\n",
      "INFO:tensorflow:Graph was finalized.\n",
      "INFO:tensorflow:Restoring parameters from /tmp/tmpjt9nr9im/model.ckpt-100\n",
      "INFO:tensorflow:Running local_init_op.\n",
      "INFO:tensorflow:Done running local_init_op.\n",
      "INFO:tensorflow:Finished evaluation at 2018-05-18-14:08:50\n",
      "INFO:tensorflow:Saving dict for global step 100: accuracy = 0.87110186, average_loss = 0.42007512, global_step = 100, loss = 40.41123\n",
      "INFO:tensorflow:Calling model_fn.\n",
      "INFO:tensorflow:Done calling model_fn.\n",
      "INFO:tensorflow:Graph was finalized.\n",
      "INFO:tensorflow:Restoring parameters from /tmp/tmpjt9nr9im/model.ckpt-100\n",
      "INFO:tensorflow:Running local_init_op.\n",
      "INFO:tensorflow:Done running local_init_op.\n",
      "INFO:tensorflow:Using default config.\n",
      "WARNING:tensorflow:Using temporary folder as model directory: /tmp/tmpgor5jd3i\n",
      "INFO:tensorflow:Using config: {'_model_dir': '/tmp/tmpgor5jd3i', '_tf_random_seed': None, '_save_summary_steps': 100, '_save_checkpoints_steps': None, '_save_checkpoints_secs': 600, '_session_config': None, '_keep_checkpoint_max': 5, '_keep_checkpoint_every_n_hours': 10000, '_log_step_count_steps': 100, '_service': None, '_cluster_spec': <tensorflow.python.training.server_lib.ClusterSpec object at 0x7fb83f0b7518>, '_task_type': 'worker', '_task_id': 0, '_global_id_in_cluster': 0, '_master': '', '_evaluation_master': '', '_is_chief': True, '_num_ps_replicas': 0, '_num_worker_replicas': 1}\n",
      "INFO:tensorflow:Calling model_fn.\n",
      "INFO:tensorflow:Done calling model_fn.\n",
      "INFO:tensorflow:Create CheckpointSaverHook.\n",
      "INFO:tensorflow:Graph was finalized.\n",
      "INFO:tensorflow:Running local_init_op.\n",
      "INFO:tensorflow:Done running local_init_op.\n",
      "INFO:tensorflow:Saving checkpoints for 1 into /tmp/tmpgor5jd3i/model.ckpt.\n",
      "INFO:tensorflow:loss = 230.93352, step = 0\n",
      "INFO:tensorflow:Saving checkpoints for 100 into /tmp/tmpgor5jd3i/model.ckpt.\n",
      "INFO:tensorflow:Loss for final step: 32.481064.\n",
      "INFO:tensorflow:Calling model_fn.\n",
      "INFO:tensorflow:Done calling model_fn.\n",
      "INFO:tensorflow:Starting evaluation at 2018-05-18-14:08:53\n",
      "INFO:tensorflow:Graph was finalized.\n",
      "INFO:tensorflow:Restoring parameters from /tmp/tmpgor5jd3i/model.ckpt-100\n",
      "INFO:tensorflow:Running local_init_op.\n",
      "INFO:tensorflow:Done running local_init_op.\n",
      "INFO:tensorflow:Finished evaluation at 2018-05-18-14:08:54\n",
      "INFO:tensorflow:Saving dict for global step 100: accuracy = 0.90633684, average_loss = 0.33233413, global_step = 100, loss = 33.21495\n",
      "INFO:tensorflow:Calling model_fn.\n",
      "INFO:tensorflow:Done calling model_fn.\n",
      "INFO:tensorflow:Graph was finalized.\n",
      "INFO:tensorflow:Restoring parameters from /tmp/tmpgor5jd3i/model.ckpt-100\n",
      "INFO:tensorflow:Running local_init_op.\n",
      "INFO:tensorflow:Done running local_init_op.\n",
      "INFO:tensorflow:Using default config.\n",
      "WARNING:tensorflow:Using temporary folder as model directory: /tmp/tmpfsia99zi\n",
      "INFO:tensorflow:Using config: {'_model_dir': '/tmp/tmpfsia99zi', '_tf_random_seed': None, '_save_summary_steps': 100, '_save_checkpoints_steps': None, '_save_checkpoints_secs': 600, '_session_config': None, '_keep_checkpoint_max': 5, '_keep_checkpoint_every_n_hours': 10000, '_log_step_count_steps': 100, '_service': None, '_cluster_spec': <tensorflow.python.training.server_lib.ClusterSpec object at 0x7fb82164cb70>, '_task_type': 'worker', '_task_id': 0, '_global_id_in_cluster': 0, '_master': '', '_evaluation_master': '', '_is_chief': True, '_num_ps_replicas': 0, '_num_worker_replicas': 1}\n",
      "INFO:tensorflow:Calling model_fn.\n",
      "INFO:tensorflow:Done calling model_fn.\n",
      "INFO:tensorflow:Create CheckpointSaverHook.\n",
      "INFO:tensorflow:Graph was finalized.\n",
      "INFO:tensorflow:Running local_init_op.\n",
      "INFO:tensorflow:Done running local_init_op.\n",
      "INFO:tensorflow:Saving checkpoints for 1 into /tmp/tmpfsia99zi/model.ckpt.\n",
      "INFO:tensorflow:loss = 233.43546, step = 0\n",
      "INFO:tensorflow:global_step/sec: 151.478\n",
      "INFO:tensorflow:loss = 59.848434, step = 100 (0.666 sec)\n",
      "INFO:tensorflow:Saving checkpoints for 200 into /tmp/tmpfsia99zi/model.ckpt.\n",
      "INFO:tensorflow:Loss for final step: 25.35859.\n",
      "INFO:tensorflow:Calling model_fn.\n",
      "INFO:tensorflow:Done calling model_fn.\n",
      "INFO:tensorflow:Starting evaluation at 2018-05-18-14:08:58\n",
      "INFO:tensorflow:Graph was finalized.\n",
      "INFO:tensorflow:Restoring parameters from /tmp/tmpfsia99zi/model.ckpt-200\n",
      "INFO:tensorflow:Running local_init_op.\n",
      "INFO:tensorflow:Done running local_init_op.\n",
      "INFO:tensorflow:Finished evaluation at 2018-05-18-14:08:59\n",
      "INFO:tensorflow:Saving dict for global step 200: accuracy = 0.8918919, average_loss = 0.36888537, global_step = 200, loss = 35.48677\n",
      "INFO:tensorflow:Calling model_fn.\n",
      "INFO:tensorflow:Done calling model_fn.\n",
      "INFO:tensorflow:Graph was finalized.\n",
      "INFO:tensorflow:Restoring parameters from /tmp/tmpfsia99zi/model.ckpt-200\n",
      "INFO:tensorflow:Running local_init_op.\n",
      "INFO:tensorflow:Done running local_init_op.\n",
      "INFO:tensorflow:Using default config.\n",
      "WARNING:tensorflow:Using temporary folder as model directory: /tmp/tmp1_z5hghv\n",
      "INFO:tensorflow:Using config: {'_model_dir': '/tmp/tmp1_z5hghv', '_tf_random_seed': None, '_save_summary_steps': 100, '_save_checkpoints_steps': None, '_save_checkpoints_secs': 600, '_session_config': None, '_keep_checkpoint_max': 5, '_keep_checkpoint_every_n_hours': 10000, '_log_step_count_steps': 100, '_service': None, '_cluster_spec': <tensorflow.python.training.server_lib.ClusterSpec object at 0x7fb83932ee80>, '_task_type': 'worker', '_task_id': 0, '_global_id_in_cluster': 0, '_master': '', '_evaluation_master': '', '_is_chief': True, '_num_ps_replicas': 0, '_num_worker_replicas': 1}\n",
      "INFO:tensorflow:Calling model_fn.\n",
      "INFO:tensorflow:Done calling model_fn.\n",
      "INFO:tensorflow:Create CheckpointSaverHook.\n",
      "INFO:tensorflow:Graph was finalized.\n",
      "INFO:tensorflow:Running local_init_op.\n",
      "INFO:tensorflow:Done running local_init_op.\n",
      "INFO:tensorflow:Saving checkpoints for 1 into /tmp/tmp1_z5hghv/model.ckpt.\n",
      "INFO:tensorflow:loss = 233.11179, step = 0\n",
      "INFO:tensorflow:global_step/sec: 146.989\n",
      "INFO:tensorflow:loss = 61.715214, step = 100 (0.686 sec)\n",
      "INFO:tensorflow:Saving checkpoints for 200 into /tmp/tmp1_z5hghv/model.ckpt.\n",
      "INFO:tensorflow:Loss for final step: 27.277271.\n",
      "INFO:tensorflow:Calling model_fn.\n",
      "INFO:tensorflow:Done calling model_fn.\n",
      "INFO:tensorflow:Starting evaluation at 2018-05-18-14:09:02\n",
      "INFO:tensorflow:Graph was finalized.\n",
      "INFO:tensorflow:Restoring parameters from /tmp/tmp1_z5hghv/model.ckpt-200\n",
      "INFO:tensorflow:Running local_init_op.\n",
      "INFO:tensorflow:Done running local_init_op.\n",
      "INFO:tensorflow:Finished evaluation at 2018-05-18-14:09:03\n",
      "INFO:tensorflow:Saving dict for global step 200: accuracy = 0.89799887, average_loss = 0.36056602, global_step = 200, loss = 36.03657\n",
      "INFO:tensorflow:Calling model_fn.\n",
      "INFO:tensorflow:Done calling model_fn.\n",
      "INFO:tensorflow:Graph was finalized.\n",
      "INFO:tensorflow:Restoring parameters from /tmp/tmp1_z5hghv/model.ckpt-200\n",
      "INFO:tensorflow:Running local_init_op.\n",
      "INFO:tensorflow:Done running local_init_op.\n",
      "INFO:tensorflow:Using default config.\n"
     ]
    },
    {
     "name": "stdout",
     "output_type": "stream",
     "text": [
      "WARNING:tensorflow:Using temporary folder as model directory: /tmp/tmpti_wph12\n",
      "INFO:tensorflow:Using config: {'_model_dir': '/tmp/tmpti_wph12', '_tf_random_seed': None, '_save_summary_steps': 100, '_save_checkpoints_steps': None, '_save_checkpoints_secs': 600, '_session_config': None, '_keep_checkpoint_max': 5, '_keep_checkpoint_every_n_hours': 10000, '_log_step_count_steps': 100, '_service': None, '_cluster_spec': <tensorflow.python.training.server_lib.ClusterSpec object at 0x7fb839254eb8>, '_task_type': 'worker', '_task_id': 0, '_global_id_in_cluster': 0, '_master': '', '_evaluation_master': '', '_is_chief': True, '_num_ps_replicas': 0, '_num_worker_replicas': 1}\n",
      "INFO:tensorflow:Calling model_fn.\n",
      "INFO:tensorflow:Done calling model_fn.\n",
      "INFO:tensorflow:Create CheckpointSaverHook.\n",
      "INFO:tensorflow:Graph was finalized.\n",
      "INFO:tensorflow:Running local_init_op.\n",
      "INFO:tensorflow:Done running local_init_op.\n",
      "INFO:tensorflow:Saving checkpoints for 1 into /tmp/tmpti_wph12/model.ckpt.\n",
      "INFO:tensorflow:loss = 232.2755, step = 0\n",
      "INFO:tensorflow:global_step/sec: 148.422\n",
      "INFO:tensorflow:loss = 51.909145, step = 100 (0.676 sec)\n",
      "INFO:tensorflow:global_step/sec: 158.758\n",
      "INFO:tensorflow:loss = 32.70962, step = 200 (0.633 sec)\n",
      "INFO:tensorflow:global_step/sec: 154.121\n",
      "INFO:tensorflow:loss = 33.412525, step = 300 (0.646 sec)\n",
      "INFO:tensorflow:global_step/sec: 166.681\n",
      "INFO:tensorflow:loss = 36.044685, step = 400 (0.603 sec)\n",
      "INFO:tensorflow:Saving checkpoints for 500 into /tmp/tmpti_wph12/model.ckpt.\n",
      "INFO:tensorflow:Loss for final step: 14.207003.\n",
      "INFO:tensorflow:Calling model_fn.\n",
      "INFO:tensorflow:Done calling model_fn.\n",
      "INFO:tensorflow:Starting evaluation at 2018-05-18-14:09:09\n",
      "INFO:tensorflow:Graph was finalized.\n",
      "INFO:tensorflow:Restoring parameters from /tmp/tmpti_wph12/model.ckpt-500\n",
      "INFO:tensorflow:Running local_init_op.\n",
      "INFO:tensorflow:Done running local_init_op.\n",
      "INFO:tensorflow:Finished evaluation at 2018-05-18-14:09:09\n",
      "INFO:tensorflow:Saving dict for global step 500: accuracy = 0.95079696, average_loss = 0.1966255, global_step = 500, loss = 18.915373\n",
      "INFO:tensorflow:Calling model_fn.\n",
      "INFO:tensorflow:Done calling model_fn.\n",
      "INFO:tensorflow:Graph was finalized.\n",
      "INFO:tensorflow:Restoring parameters from /tmp/tmpti_wph12/model.ckpt-500\n",
      "INFO:tensorflow:Running local_init_op.\n",
      "INFO:tensorflow:Done running local_init_op.\n",
      "INFO:tensorflow:Using default config.\n",
      "WARNING:tensorflow:Using temporary folder as model directory: /tmp/tmpsiuiw1be\n",
      "INFO:tensorflow:Using config: {'_model_dir': '/tmp/tmpsiuiw1be', '_tf_random_seed': None, '_save_summary_steps': 100, '_save_checkpoints_steps': None, '_save_checkpoints_secs': 600, '_session_config': None, '_keep_checkpoint_max': 5, '_keep_checkpoint_every_n_hours': 10000, '_log_step_count_steps': 100, '_service': None, '_cluster_spec': <tensorflow.python.training.server_lib.ClusterSpec object at 0x7fb838f0db00>, '_task_type': 'worker', '_task_id': 0, '_global_id_in_cluster': 0, '_master': '', '_evaluation_master': '', '_is_chief': True, '_num_ps_replicas': 0, '_num_worker_replicas': 1}\n",
      "INFO:tensorflow:Calling model_fn.\n",
      "INFO:tensorflow:Done calling model_fn.\n",
      "INFO:tensorflow:Create CheckpointSaverHook.\n",
      "INFO:tensorflow:Graph was finalized.\n",
      "INFO:tensorflow:Running local_init_op.\n",
      "INFO:tensorflow:Done running local_init_op.\n",
      "INFO:tensorflow:Saving checkpoints for 1 into /tmp/tmpsiuiw1be/model.ckpt.\n",
      "INFO:tensorflow:loss = 228.33478, step = 0\n",
      "INFO:tensorflow:global_step/sec: 140.972\n",
      "INFO:tensorflow:loss = 49.744404, step = 100 (0.714 sec)\n",
      "INFO:tensorflow:global_step/sec: 150.008\n",
      "INFO:tensorflow:loss = 34.914375, step = 200 (0.667 sec)\n",
      "INFO:tensorflow:global_step/sec: 156.188\n",
      "INFO:tensorflow:loss = 22.45955, step = 300 (0.646 sec)\n",
      "INFO:tensorflow:global_step/sec: 152.987\n",
      "INFO:tensorflow:loss = 26.832516, step = 400 (0.648 sec)\n",
      "INFO:tensorflow:Saving checkpoints for 500 into /tmp/tmpsiuiw1be/model.ckpt.\n",
      "INFO:tensorflow:Loss for final step: 22.835144.\n",
      "INFO:tensorflow:Calling model_fn.\n",
      "INFO:tensorflow:Done calling model_fn.\n",
      "INFO:tensorflow:Starting evaluation at 2018-05-18-14:09:15\n",
      "INFO:tensorflow:Graph was finalized.\n",
      "INFO:tensorflow:Restoring parameters from /tmp/tmpsiuiw1be/model.ckpt-500\n",
      "INFO:tensorflow:Running local_init_op.\n",
      "INFO:tensorflow:Done running local_init_op.\n",
      "INFO:tensorflow:Finished evaluation at 2018-05-18-14:09:16\n",
      "INFO:tensorflow:Saving dict for global step 500: accuracy = 0.9449694, average_loss = 0.21657984, global_step = 500, loss = 21.645952\n",
      "INFO:tensorflow:Calling model_fn.\n",
      "INFO:tensorflow:Done calling model_fn.\n",
      "INFO:tensorflow:Graph was finalized.\n",
      "INFO:tensorflow:Restoring parameters from /tmp/tmpsiuiw1be/model.ckpt-500\n",
      "INFO:tensorflow:Running local_init_op.\n",
      "INFO:tensorflow:Done running local_init_op.\n",
      "INFO:tensorflow:Using default config.\n",
      "WARNING:tensorflow:Using temporary folder as model directory: /tmp/tmp50yavz8w\n",
      "INFO:tensorflow:Using config: {'_model_dir': '/tmp/tmp50yavz8w', '_tf_random_seed': None, '_save_summary_steps': 100, '_save_checkpoints_steps': None, '_save_checkpoints_secs': 600, '_session_config': None, '_keep_checkpoint_max': 5, '_keep_checkpoint_every_n_hours': 10000, '_log_step_count_steps': 100, '_service': None, '_cluster_spec': <tensorflow.python.training.server_lib.ClusterSpec object at 0x7fb8392242e8>, '_task_type': 'worker', '_task_id': 0, '_global_id_in_cluster': 0, '_master': '', '_evaluation_master': '', '_is_chief': True, '_num_ps_replicas': 0, '_num_worker_replicas': 1}\n",
      "INFO:tensorflow:Calling model_fn.\n",
      "INFO:tensorflow:Done calling model_fn.\n",
      "INFO:tensorflow:Create CheckpointSaverHook.\n",
      "INFO:tensorflow:Graph was finalized.\n",
      "INFO:tensorflow:Running local_init_op.\n",
      "INFO:tensorflow:Done running local_init_op.\n",
      "INFO:tensorflow:Saving checkpoints for 1 into /tmp/tmp50yavz8w/model.ckpt.\n",
      "INFO:tensorflow:loss = 230.0399, step = 0\n",
      "INFO:tensorflow:global_step/sec: 143.752\n",
      "INFO:tensorflow:loss = 43.482388, step = 100 (0.703 sec)\n",
      "INFO:tensorflow:global_step/sec: 157.437\n",
      "INFO:tensorflow:loss = 52.2218, step = 200 (0.632 sec)\n",
      "INFO:tensorflow:global_step/sec: 156.208\n",
      "INFO:tensorflow:loss = 24.402948, step = 300 (0.640 sec)\n",
      "INFO:tensorflow:global_step/sec: 164.832\n",
      "INFO:tensorflow:loss = 21.479012, step = 400 (0.604 sec)\n",
      "INFO:tensorflow:global_step/sec: 156.773\n",
      "INFO:tensorflow:loss = 16.84496, step = 500 (0.642 sec)\n",
      "INFO:tensorflow:global_step/sec: 153.82\n",
      "INFO:tensorflow:loss = 22.600784, step = 600 (0.648 sec)\n",
      "INFO:tensorflow:global_step/sec: 155.921\n",
      "INFO:tensorflow:loss = 22.28091, step = 700 (0.645 sec)\n",
      "INFO:tensorflow:global_step/sec: 162.803\n",
      "INFO:tensorflow:loss = 17.90223, step = 800 (0.613 sec)\n",
      "INFO:tensorflow:global_step/sec: 155.965\n",
      "INFO:tensorflow:loss = 13.198555, step = 900 (0.638 sec)\n",
      "INFO:tensorflow:Saving checkpoints for 1000 into /tmp/tmp50yavz8w/model.ckpt.\n",
      "INFO:tensorflow:Loss for final step: 20.722792.\n",
      "INFO:tensorflow:Calling model_fn.\n",
      "INFO:tensorflow:Done calling model_fn.\n",
      "INFO:tensorflow:Starting evaluation at 2018-05-18-14:09:25\n",
      "INFO:tensorflow:Graph was finalized.\n",
      "INFO:tensorflow:Restoring parameters from /tmp/tmp50yavz8w/model.ckpt-1000\n",
      "INFO:tensorflow:Running local_init_op.\n",
      "INFO:tensorflow:Done running local_init_op.\n",
      "INFO:tensorflow:Finished evaluation at 2018-05-18-14:09:26\n",
      "INFO:tensorflow:Saving dict for global step 1000: accuracy = 0.95564795, average_loss = 0.17249145, global_step = 1000, loss = 16.593678\n",
      "INFO:tensorflow:Calling model_fn.\n",
      "INFO:tensorflow:Done calling model_fn.\n",
      "INFO:tensorflow:Graph was finalized.\n",
      "INFO:tensorflow:Restoring parameters from /tmp/tmp50yavz8w/model.ckpt-1000\n",
      "INFO:tensorflow:Running local_init_op.\n",
      "INFO:tensorflow:Done running local_init_op.\n",
      "INFO:tensorflow:Using default config.\n",
      "WARNING:tensorflow:Using temporary folder as model directory: /tmp/tmpmmb9muvs\n",
      "INFO:tensorflow:Using config: {'_model_dir': '/tmp/tmpmmb9muvs', '_tf_random_seed': None, '_save_summary_steps': 100, '_save_checkpoints_steps': None, '_save_checkpoints_secs': 600, '_session_config': None, '_keep_checkpoint_max': 5, '_keep_checkpoint_every_n_hours': 10000, '_log_step_count_steps': 100, '_service': None, '_cluster_spec': <tensorflow.python.training.server_lib.ClusterSpec object at 0x7fb8188177b8>, '_task_type': 'worker', '_task_id': 0, '_global_id_in_cluster': 0, '_master': '', '_evaluation_master': '', '_is_chief': True, '_num_ps_replicas': 0, '_num_worker_replicas': 1}\n",
      "INFO:tensorflow:Calling model_fn.\n",
      "INFO:tensorflow:Done calling model_fn.\n",
      "INFO:tensorflow:Create CheckpointSaverHook.\n",
      "INFO:tensorflow:Graph was finalized.\n",
      "INFO:tensorflow:Running local_init_op.\n",
      "INFO:tensorflow:Done running local_init_op.\n",
      "INFO:tensorflow:Saving checkpoints for 1 into /tmp/tmpmmb9muvs/model.ckpt.\n",
      "INFO:tensorflow:loss = 223.15085, step = 0\n",
      "INFO:tensorflow:global_step/sec: 143.707\n",
      "INFO:tensorflow:loss = 52.200493, step = 100 (0.700 sec)\n",
      "INFO:tensorflow:global_step/sec: 154.853\n",
      "INFO:tensorflow:loss = 35.05287, step = 200 (0.648 sec)\n",
      "INFO:tensorflow:global_step/sec: 155.99\n",
      "INFO:tensorflow:loss = 32.10119, step = 300 (0.642 sec)\n",
      "INFO:tensorflow:global_step/sec: 157.568\n",
      "INFO:tensorflow:loss = 27.744856, step = 400 (0.634 sec)\n",
      "INFO:tensorflow:global_step/sec: 162.449\n",
      "INFO:tensorflow:loss = 24.139715, step = 500 (0.618 sec)\n",
      "INFO:tensorflow:global_step/sec: 156.566\n",
      "INFO:tensorflow:loss = 17.377703, step = 600 (0.632 sec)\n",
      "INFO:tensorflow:global_step/sec: 150.19\n",
      "INFO:tensorflow:loss = 10.869251, step = 700 (0.665 sec)\n",
      "INFO:tensorflow:global_step/sec: 153.294\n",
      "INFO:tensorflow:loss = 11.821754, step = 800 (0.657 sec)\n",
      "INFO:tensorflow:global_step/sec: 156.611\n",
      "INFO:tensorflow:loss = 18.47659, step = 900 (0.638 sec)\n",
      "INFO:tensorflow:Saving checkpoints for 1000 into /tmp/tmpmmb9muvs/model.ckpt.\n",
      "INFO:tensorflow:Loss for final step: 12.656648.\n",
      "INFO:tensorflow:Calling model_fn.\n",
      "INFO:tensorflow:Done calling model_fn.\n",
      "INFO:tensorflow:Starting evaluation at 2018-05-18-14:09:35\n",
      "INFO:tensorflow:Graph was finalized.\n",
      "INFO:tensorflow:Restoring parameters from /tmp/tmpmmb9muvs/model.ckpt-1000\n",
      "INFO:tensorflow:Running local_init_op.\n",
      "INFO:tensorflow:Done running local_init_op.\n",
      "INFO:tensorflow:Finished evaluation at 2018-05-18-14:09:35\n",
      "INFO:tensorflow:Saving dict for global step 1000: accuracy = 0.9519177, average_loss = 0.19289272, global_step = 1000, loss = 19.278557\n",
      "INFO:tensorflow:Calling model_fn.\n",
      "INFO:tensorflow:Done calling model_fn.\n"
     ]
    },
    {
     "name": "stdout",
     "output_type": "stream",
     "text": [
      "INFO:tensorflow:Graph was finalized.\n",
      "INFO:tensorflow:Restoring parameters from /tmp/tmpmmb9muvs/model.ckpt-1000\n",
      "INFO:tensorflow:Running local_init_op.\n",
      "INFO:tensorflow:Done running local_init_op.\n",
      "INFO:tensorflow:Using default config.\n",
      "WARNING:tensorflow:Using temporary folder as model directory: /tmp/tmpxzro5am0\n",
      "INFO:tensorflow:Using config: {'_model_dir': '/tmp/tmpxzro5am0', '_tf_random_seed': None, '_save_summary_steps': 100, '_save_checkpoints_steps': None, '_save_checkpoints_secs': 600, '_session_config': None, '_keep_checkpoint_max': 5, '_keep_checkpoint_every_n_hours': 10000, '_log_step_count_steps': 100, '_service': None, '_cluster_spec': <tensorflow.python.training.server_lib.ClusterSpec object at 0x7fb81899d1d0>, '_task_type': 'worker', '_task_id': 0, '_global_id_in_cluster': 0, '_master': '', '_evaluation_master': '', '_is_chief': True, '_num_ps_replicas': 0, '_num_worker_replicas': 1}\n",
      "INFO:tensorflow:Calling model_fn.\n",
      "INFO:tensorflow:Done calling model_fn.\n",
      "INFO:tensorflow:Create CheckpointSaverHook.\n",
      "INFO:tensorflow:Graph was finalized.\n",
      "INFO:tensorflow:Running local_init_op.\n",
      "INFO:tensorflow:Done running local_init_op.\n",
      "INFO:tensorflow:Saving checkpoints for 1 into /tmp/tmpxzro5am0/model.ckpt.\n",
      "INFO:tensorflow:loss = 220.7115, step = 0\n",
      "INFO:tensorflow:global_step/sec: 145.747\n",
      "INFO:tensorflow:loss = 34.152534, step = 100 (0.693 sec)\n",
      "INFO:tensorflow:global_step/sec: 154.476\n",
      "INFO:tensorflow:loss = 46.7708, step = 200 (0.647 sec)\n",
      "INFO:tensorflow:global_step/sec: 156.153\n",
      "INFO:tensorflow:loss = 32.363297, step = 300 (0.639 sec)\n",
      "INFO:tensorflow:global_step/sec: 168.377\n",
      "INFO:tensorflow:loss = 20.260942, step = 400 (0.590 sec)\n",
      "INFO:tensorflow:global_step/sec: 155.542\n",
      "INFO:tensorflow:loss = 38.45098, step = 500 (0.643 sec)\n",
      "INFO:tensorflow:global_step/sec: 156.333\n",
      "INFO:tensorflow:loss = 19.050512, step = 600 (0.640 sec)\n",
      "INFO:tensorflow:global_step/sec: 161.179\n",
      "INFO:tensorflow:loss = 23.363567, step = 700 (0.621 sec)\n",
      "INFO:tensorflow:global_step/sec: 167.358\n",
      "INFO:tensorflow:loss = 14.521912, step = 800 (0.602 sec)\n",
      "INFO:tensorflow:global_step/sec: 139.059\n",
      "INFO:tensorflow:loss = 36.10556, step = 900 (0.720 sec)\n",
      "INFO:tensorflow:global_step/sec: 153.076\n",
      "INFO:tensorflow:loss = 18.666634, step = 1000 (0.653 sec)\n",
      "INFO:tensorflow:global_step/sec: 155.256\n",
      "INFO:tensorflow:loss = 14.317521, step = 1100 (0.645 sec)\n",
      "INFO:tensorflow:global_step/sec: 168.661\n",
      "INFO:tensorflow:loss = 26.22589, step = 1200 (0.592 sec)\n",
      "INFO:tensorflow:global_step/sec: 157.267\n",
      "INFO:tensorflow:loss = 31.787006, step = 1300 (0.636 sec)\n",
      "INFO:tensorflow:global_step/sec: 156.485\n",
      "INFO:tensorflow:loss = 15.928363, step = 1400 (0.638 sec)\n",
      "INFO:tensorflow:Saving checkpoints for 1500 into /tmp/tmpxzro5am0/model.ckpt.\n",
      "INFO:tensorflow:Loss for final step: 7.510461.\n",
      "INFO:tensorflow:Calling model_fn.\n",
      "INFO:tensorflow:Done calling model_fn.\n",
      "INFO:tensorflow:Starting evaluation at 2018-05-18-14:09:48\n",
      "INFO:tensorflow:Graph was finalized.\n",
      "INFO:tensorflow:Restoring parameters from /tmp/tmpxzro5am0/model.ckpt-1500\n",
      "INFO:tensorflow:Running local_init_op.\n",
      "INFO:tensorflow:Done running local_init_op.\n",
      "INFO:tensorflow:Finished evaluation at 2018-05-18-14:09:48\n",
      "INFO:tensorflow:Saving dict for global step 1500: accuracy = 0.95564795, average_loss = 0.17922646, global_step = 1500, loss = 17.241585\n",
      "INFO:tensorflow:Calling model_fn.\n",
      "INFO:tensorflow:Done calling model_fn.\n",
      "INFO:tensorflow:Graph was finalized.\n",
      "INFO:tensorflow:Restoring parameters from /tmp/tmpxzro5am0/model.ckpt-1500\n",
      "INFO:tensorflow:Running local_init_op.\n",
      "INFO:tensorflow:Done running local_init_op.\n",
      "INFO:tensorflow:Using default config.\n",
      "WARNING:tensorflow:Using temporary folder as model directory: /tmp/tmpmdzoqcsr\n",
      "INFO:tensorflow:Using config: {'_model_dir': '/tmp/tmpmdzoqcsr', '_tf_random_seed': None, '_save_summary_steps': 100, '_save_checkpoints_steps': None, '_save_checkpoints_secs': 600, '_session_config': None, '_keep_checkpoint_max': 5, '_keep_checkpoint_every_n_hours': 10000, '_log_step_count_steps': 100, '_service': None, '_cluster_spec': <tensorflow.python.training.server_lib.ClusterSpec object at 0x7fb8390d7908>, '_task_type': 'worker', '_task_id': 0, '_global_id_in_cluster': 0, '_master': '', '_evaluation_master': '', '_is_chief': True, '_num_ps_replicas': 0, '_num_worker_replicas': 1}\n",
      "INFO:tensorflow:Calling model_fn.\n",
      "INFO:tensorflow:Done calling model_fn.\n",
      "INFO:tensorflow:Create CheckpointSaverHook.\n",
      "INFO:tensorflow:Graph was finalized.\n",
      "INFO:tensorflow:Running local_init_op.\n",
      "INFO:tensorflow:Done running local_init_op.\n",
      "INFO:tensorflow:Saving checkpoints for 1 into /tmp/tmpmdzoqcsr/model.ckpt.\n",
      "INFO:tensorflow:loss = 264.99405, step = 0\n",
      "INFO:tensorflow:global_step/sec: 147.189\n",
      "INFO:tensorflow:loss = 59.253006, step = 100 (0.684 sec)\n",
      "INFO:tensorflow:global_step/sec: 160.734\n",
      "INFO:tensorflow:loss = 22.179813, step = 200 (0.624 sec)\n",
      "INFO:tensorflow:global_step/sec: 164.885\n",
      "INFO:tensorflow:loss = 26.932314, step = 300 (0.601 sec)\n",
      "INFO:tensorflow:global_step/sec: 164.883\n",
      "INFO:tensorflow:loss = 23.46899, step = 400 (0.607 sec)\n",
      "INFO:tensorflow:global_step/sec: 171.234\n",
      "INFO:tensorflow:loss = 14.333137, step = 500 (0.588 sec)\n",
      "INFO:tensorflow:global_step/sec: 156.78\n",
      "INFO:tensorflow:loss = 17.961763, step = 600 (0.638 sec)\n",
      "INFO:tensorflow:global_step/sec: 159.756\n",
      "INFO:tensorflow:loss = 31.261925, step = 700 (0.622 sec)\n",
      "INFO:tensorflow:global_step/sec: 162.106\n",
      "INFO:tensorflow:loss = 20.205452, step = 800 (0.624 sec)\n",
      "INFO:tensorflow:global_step/sec: 157.595\n",
      "INFO:tensorflow:loss = 16.389519, step = 900 (0.627 sec)\n",
      "INFO:tensorflow:global_step/sec: 167.247\n",
      "INFO:tensorflow:loss = 10.406414, step = 1000 (0.599 sec)\n",
      "INFO:tensorflow:global_step/sec: 159.411\n",
      "INFO:tensorflow:loss = 10.520818, step = 1100 (0.630 sec)\n",
      "INFO:tensorflow:global_step/sec: 157.247\n",
      "INFO:tensorflow:loss = 15.851206, step = 1200 (0.636 sec)\n",
      "INFO:tensorflow:global_step/sec: 151.158\n",
      "INFO:tensorflow:loss = 11.899377, step = 1300 (0.662 sec)\n",
      "INFO:tensorflow:global_step/sec: 163.387\n",
      "INFO:tensorflow:loss = 20.748028, step = 1400 (0.610 sec)\n",
      "INFO:tensorflow:Saving checkpoints for 1500 into /tmp/tmpmdzoqcsr/model.ckpt.\n",
      "INFO:tensorflow:Loss for final step: 37.714375.\n",
      "INFO:tensorflow:Calling model_fn.\n",
      "INFO:tensorflow:Done calling model_fn.\n",
      "INFO:tensorflow:Starting evaluation at 2018-05-18-14:10:00\n",
      "INFO:tensorflow:Graph was finalized.\n",
      "INFO:tensorflow:Restoring parameters from /tmp/tmpmdzoqcsr/model.ckpt-1500\n",
      "INFO:tensorflow:Running local_init_op.\n",
      "INFO:tensorflow:Done running local_init_op.\n",
      "INFO:tensorflow:Finished evaluation at 2018-05-18-14:10:01\n",
      "INFO:tensorflow:Saving dict for global step 1500: accuracy = 0.95219564, average_loss = 0.16844805, global_step = 1500, loss = 16.835445\n",
      "INFO:tensorflow:Calling model_fn.\n",
      "INFO:tensorflow:Done calling model_fn.\n",
      "INFO:tensorflow:Graph was finalized.\n",
      "INFO:tensorflow:Restoring parameters from /tmp/tmpmdzoqcsr/model.ckpt-1500\n",
      "INFO:tensorflow:Running local_init_op.\n",
      "INFO:tensorflow:Done running local_init_op.\n",
      "INFO:tensorflow:Using default config.\n",
      "WARNING:tensorflow:Using temporary folder as model directory: /tmp/tmp6lqon8rt\n",
      "INFO:tensorflow:Using config: {'_model_dir': '/tmp/tmp6lqon8rt', '_tf_random_seed': None, '_save_summary_steps': 100, '_save_checkpoints_steps': None, '_save_checkpoints_secs': 600, '_session_config': None, '_keep_checkpoint_max': 5, '_keep_checkpoint_every_n_hours': 10000, '_log_step_count_steps': 100, '_service': None, '_cluster_spec': <tensorflow.python.training.server_lib.ClusterSpec object at 0x7fb818897908>, '_task_type': 'worker', '_task_id': 0, '_global_id_in_cluster': 0, '_master': '', '_evaluation_master': '', '_is_chief': True, '_num_ps_replicas': 0, '_num_worker_replicas': 1}\n",
      "INFO:tensorflow:Calling model_fn.\n",
      "INFO:tensorflow:Done calling model_fn.\n",
      "INFO:tensorflow:Create CheckpointSaverHook.\n",
      "INFO:tensorflow:Graph was finalized.\n",
      "INFO:tensorflow:Running local_init_op.\n",
      "INFO:tensorflow:Done running local_init_op.\n",
      "INFO:tensorflow:Saving checkpoints for 1 into /tmp/tmp6lqon8rt/model.ckpt.\n",
      "INFO:tensorflow:loss = 229.24855, step = 0\n",
      "INFO:tensorflow:global_step/sec: 149.288\n",
      "INFO:tensorflow:loss = 45.118538, step = 100 (0.677 sec)\n",
      "INFO:tensorflow:global_step/sec: 161.17\n",
      "INFO:tensorflow:loss = 30.17444, step = 200 (0.619 sec)\n",
      "INFO:tensorflow:global_step/sec: 157.101\n",
      "INFO:tensorflow:loss = 23.084759, step = 300 (0.633 sec)\n",
      "INFO:tensorflow:global_step/sec: 167.148\n",
      "INFO:tensorflow:loss = 17.416782, step = 400 (0.603 sec)\n",
      "INFO:tensorflow:global_step/sec: 154.555\n",
      "INFO:tensorflow:loss = 16.150398, step = 500 (0.642 sec)\n",
      "INFO:tensorflow:global_step/sec: 161.789\n",
      "INFO:tensorflow:loss = 23.636446, step = 600 (0.618 sec)\n",
      "INFO:tensorflow:global_step/sec: 155.857\n",
      "INFO:tensorflow:loss = 21.98756, step = 700 (0.643 sec)\n",
      "INFO:tensorflow:global_step/sec: 164.202\n",
      "INFO:tensorflow:loss = 27.462711, step = 800 (0.614 sec)\n",
      "INFO:tensorflow:global_step/sec: 154.943\n",
      "INFO:tensorflow:loss = 8.245573, step = 900 (0.644 sec)\n",
      "INFO:tensorflow:global_step/sec: 161.567\n",
      "INFO:tensorflow:loss = 13.935331, step = 1000 (0.615 sec)\n",
      "INFO:tensorflow:global_step/sec: 160.165\n",
      "INFO:tensorflow:loss = 15.715067, step = 1100 (0.630 sec)\n",
      "INFO:tensorflow:global_step/sec: 171.039\n",
      "INFO:tensorflow:loss = 12.033134, step = 1200 (0.585 sec)\n",
      "INFO:tensorflow:global_step/sec: 152.823\n",
      "INFO:tensorflow:loss = 18.517101, step = 1300 (0.654 sec)\n",
      "INFO:tensorflow:global_step/sec: 156.501\n",
      "INFO:tensorflow:loss = 11.336968, step = 1400 (0.639 sec)\n",
      "INFO:tensorflow:global_step/sec: 158.064\n",
      "INFO:tensorflow:loss = 15.360827, step = 1500 (0.635 sec)\n",
      "INFO:tensorflow:global_step/sec: 171.516\n",
      "INFO:tensorflow:loss = 8.526351, step = 1600 (0.579 sec)\n",
      "INFO:tensorflow:global_step/sec: 155.819\n"
     ]
    },
    {
     "name": "stdout",
     "output_type": "stream",
     "text": [
      "INFO:tensorflow:loss = 15.182932, step = 1700 (0.644 sec)\n",
      "INFO:tensorflow:global_step/sec: 156.446\n",
      "INFO:tensorflow:loss = 21.965982, step = 1800 (0.640 sec)\n",
      "INFO:tensorflow:global_step/sec: 156.67\n",
      "INFO:tensorflow:loss = 11.505808, step = 1900 (0.642 sec)\n",
      "INFO:tensorflow:Saving checkpoints for 2000 into /tmp/tmp6lqon8rt/model.ckpt.\n",
      "INFO:tensorflow:Loss for final step: 6.255745.\n",
      "INFO:tensorflow:Calling model_fn.\n",
      "INFO:tensorflow:Done calling model_fn.\n",
      "INFO:tensorflow:Starting evaluation at 2018-05-18-14:10:16\n",
      "INFO:tensorflow:Graph was finalized.\n",
      "INFO:tensorflow:Restoring parameters from /tmp/tmp6lqon8rt/model.ckpt-2000\n",
      "INFO:tensorflow:Running local_init_op.\n",
      "INFO:tensorflow:Done running local_init_op.\n",
      "INFO:tensorflow:Finished evaluation at 2018-05-18-14:10:16\n",
      "INFO:tensorflow:Saving dict for global step 2000: accuracy = 0.95703393, average_loss = 0.17463703, global_step = 2000, loss = 16.800083\n",
      "INFO:tensorflow:Calling model_fn.\n",
      "INFO:tensorflow:Done calling model_fn.\n",
      "INFO:tensorflow:Graph was finalized.\n",
      "INFO:tensorflow:Restoring parameters from /tmp/tmp6lqon8rt/model.ckpt-2000\n",
      "INFO:tensorflow:Running local_init_op.\n",
      "INFO:tensorflow:Done running local_init_op.\n",
      "INFO:tensorflow:Using default config.\n",
      "WARNING:tensorflow:Using temporary folder as model directory: /tmp/tmpjrp9f9lv\n",
      "INFO:tensorflow:Using config: {'_model_dir': '/tmp/tmpjrp9f9lv', '_tf_random_seed': None, '_save_summary_steps': 100, '_save_checkpoints_steps': None, '_save_checkpoints_secs': 600, '_session_config': None, '_keep_checkpoint_max': 5, '_keep_checkpoint_every_n_hours': 10000, '_log_step_count_steps': 100, '_service': None, '_cluster_spec': <tensorflow.python.training.server_lib.ClusterSpec object at 0x7fb8386c1198>, '_task_type': 'worker', '_task_id': 0, '_global_id_in_cluster': 0, '_master': '', '_evaluation_master': '', '_is_chief': True, '_num_ps_replicas': 0, '_num_worker_replicas': 1}\n",
      "INFO:tensorflow:Calling model_fn.\n",
      "INFO:tensorflow:Done calling model_fn.\n",
      "INFO:tensorflow:Create CheckpointSaverHook.\n",
      "INFO:tensorflow:Graph was finalized.\n",
      "INFO:tensorflow:Running local_init_op.\n",
      "INFO:tensorflow:Done running local_init_op.\n",
      "INFO:tensorflow:Saving checkpoints for 1 into /tmp/tmpjrp9f9lv/model.ckpt.\n",
      "INFO:tensorflow:loss = 232.10136, step = 0\n",
      "INFO:tensorflow:global_step/sec: 141.959\n",
      "INFO:tensorflow:loss = 23.007978, step = 100 (0.706 sec)\n",
      "INFO:tensorflow:global_step/sec: 150.972\n",
      "INFO:tensorflow:loss = 27.54792, step = 200 (0.663 sec)\n",
      "INFO:tensorflow:global_step/sec: 158.223\n",
      "INFO:tensorflow:loss = 27.862122, step = 300 (0.637 sec)\n",
      "INFO:tensorflow:global_step/sec: 161.341\n",
      "INFO:tensorflow:loss = 28.778103, step = 400 (0.614 sec)\n",
      "INFO:tensorflow:global_step/sec: 165.727\n",
      "INFO:tensorflow:loss = 12.634377, step = 500 (0.604 sec)\n",
      "INFO:tensorflow:global_step/sec: 164.323\n",
      "INFO:tensorflow:loss = 18.2349, step = 600 (0.609 sec)\n",
      "INFO:tensorflow:global_step/sec: 162.341\n",
      "INFO:tensorflow:loss = 16.564598, step = 700 (0.620 sec)\n",
      "INFO:tensorflow:global_step/sec: 155.529\n",
      "INFO:tensorflow:loss = 11.266929, step = 800 (0.640 sec)\n",
      "INFO:tensorflow:global_step/sec: 156.573\n",
      "INFO:tensorflow:loss = 4.8208766, step = 900 (0.643 sec)\n",
      "INFO:tensorflow:global_step/sec: 158.322\n",
      "INFO:tensorflow:loss = 14.977463, step = 1000 (0.626 sec)\n",
      "INFO:tensorflow:global_step/sec: 165.773\n",
      "INFO:tensorflow:loss = 10.728653, step = 1100 (0.608 sec)\n",
      "INFO:tensorflow:global_step/sec: 162.039\n",
      "INFO:tensorflow:loss = 6.455917, step = 1200 (0.617 sec)\n",
      "INFO:tensorflow:global_step/sec: 161.369\n",
      "INFO:tensorflow:loss = 15.500509, step = 1300 (0.618 sec)\n",
      "INFO:tensorflow:global_step/sec: 165.002\n",
      "INFO:tensorflow:loss = 13.753899, step = 1400 (0.605 sec)\n",
      "INFO:tensorflow:global_step/sec: 154.464\n",
      "INFO:tensorflow:loss = 5.416447, step = 1500 (0.652 sec)\n",
      "INFO:tensorflow:global_step/sec: 159.621\n",
      "INFO:tensorflow:loss = 11.537336, step = 1600 (0.625 sec)\n",
      "INFO:tensorflow:global_step/sec: 163.313\n",
      "INFO:tensorflow:loss = 7.3802204, step = 1700 (0.611 sec)\n",
      "INFO:tensorflow:global_step/sec: 159.183\n",
      "INFO:tensorflow:loss = 17.226578, step = 1800 (0.627 sec)\n",
      "INFO:tensorflow:global_step/sec: 165.715\n",
      "INFO:tensorflow:loss = 14.27038, step = 1900 (0.605 sec)\n",
      "INFO:tensorflow:Saving checkpoints for 2000 into /tmp/tmpjrp9f9lv/model.ckpt.\n",
      "INFO:tensorflow:Loss for final step: 8.031699.\n",
      "INFO:tensorflow:Calling model_fn.\n",
      "INFO:tensorflow:Done calling model_fn.\n",
      "INFO:tensorflow:Starting evaluation at 2018-05-18-14:10:32\n",
      "INFO:tensorflow:Graph was finalized.\n",
      "INFO:tensorflow:Restoring parameters from /tmp/tmpjrp9f9lv/model.ckpt-2000\n",
      "INFO:tensorflow:Running local_init_op.\n",
      "INFO:tensorflow:Done running local_init_op.\n",
      "INFO:tensorflow:Finished evaluation at 2018-05-18-14:10:32\n",
      "INFO:tensorflow:Saving dict for global step 2000: accuracy = 0.9627571, average_loss = 0.1630593, global_step = 2000, loss = 16.29687\n",
      "INFO:tensorflow:Calling model_fn.\n",
      "INFO:tensorflow:Done calling model_fn.\n",
      "INFO:tensorflow:Graph was finalized.\n",
      "INFO:tensorflow:Restoring parameters from /tmp/tmpjrp9f9lv/model.ckpt-2000\n",
      "INFO:tensorflow:Running local_init_op.\n",
      "INFO:tensorflow:Done running local_init_op.\n",
      "INFO:tensorflow:Using default config.\n",
      "WARNING:tensorflow:Using temporary folder as model directory: /tmp/tmpuuoaq87f\n",
      "INFO:tensorflow:Using config: {'_model_dir': '/tmp/tmpuuoaq87f', '_tf_random_seed': None, '_save_summary_steps': 100, '_save_checkpoints_steps': None, '_save_checkpoints_secs': 600, '_session_config': None, '_keep_checkpoint_max': 5, '_keep_checkpoint_every_n_hours': 10000, '_log_step_count_steps': 100, '_service': None, '_cluster_spec': <tensorflow.python.training.server_lib.ClusterSpec object at 0x7fb818a2b400>, '_task_type': 'worker', '_task_id': 0, '_global_id_in_cluster': 0, '_master': '', '_evaluation_master': '', '_is_chief': True, '_num_ps_replicas': 0, '_num_worker_replicas': 1}\n",
      "INFO:tensorflow:Calling model_fn.\n",
      "INFO:tensorflow:Done calling model_fn.\n",
      "INFO:tensorflow:Create CheckpointSaverHook.\n",
      "INFO:tensorflow:Graph was finalized.\n",
      "INFO:tensorflow:Running local_init_op.\n",
      "INFO:tensorflow:Done running local_init_op.\n",
      "INFO:tensorflow:Saving checkpoints for 1 into /tmp/tmpuuoaq87f/model.ckpt.\n",
      "INFO:tensorflow:loss = 233.87927, step = 0\n",
      "INFO:tensorflow:Saving checkpoints for 100 into /tmp/tmpuuoaq87f/model.ckpt.\n",
      "INFO:tensorflow:Loss for final step: 20.897118.\n",
      "INFO:tensorflow:Calling model_fn.\n",
      "INFO:tensorflow:Done calling model_fn.\n",
      "INFO:tensorflow:Starting evaluation at 2018-05-18-14:10:36\n",
      "INFO:tensorflow:Graph was finalized.\n",
      "INFO:tensorflow:Restoring parameters from /tmp/tmpuuoaq87f/model.ckpt-100\n",
      "INFO:tensorflow:Running local_init_op.\n",
      "INFO:tensorflow:Done running local_init_op.\n",
      "INFO:tensorflow:Finished evaluation at 2018-05-18-14:10:36\n",
      "INFO:tensorflow:Saving dict for global step 100: accuracy = 0.96535, average_loss = 0.14923915, global_step = 100, loss = 14.356807\n",
      "INFO:tensorflow:Calling model_fn.\n",
      "INFO:tensorflow:Done calling model_fn.\n",
      "INFO:tensorflow:Graph was finalized.\n",
      "INFO:tensorflow:Restoring parameters from /tmp/tmpuuoaq87f/model.ckpt-100\n",
      "INFO:tensorflow:Running local_init_op.\n",
      "INFO:tensorflow:Done running local_init_op.\n",
      "INFO:tensorflow:Using default config.\n",
      "WARNING:tensorflow:Using temporary folder as model directory: /tmp/tmp8u9g716i\n",
      "INFO:tensorflow:Using config: {'_model_dir': '/tmp/tmp8u9g716i', '_tf_random_seed': None, '_save_summary_steps': 100, '_save_checkpoints_steps': None, '_save_checkpoints_secs': 600, '_session_config': None, '_keep_checkpoint_max': 5, '_keep_checkpoint_every_n_hours': 10000, '_log_step_count_steps': 100, '_service': None, '_cluster_spec': <tensorflow.python.training.server_lib.ClusterSpec object at 0x7fb83ee6ac18>, '_task_type': 'worker', '_task_id': 0, '_global_id_in_cluster': 0, '_master': '', '_evaluation_master': '', '_is_chief': True, '_num_ps_replicas': 0, '_num_worker_replicas': 1}\n",
      "INFO:tensorflow:Calling model_fn.\n",
      "INFO:tensorflow:Done calling model_fn.\n",
      "INFO:tensorflow:Create CheckpointSaverHook.\n",
      "INFO:tensorflow:Graph was finalized.\n",
      "INFO:tensorflow:Running local_init_op.\n",
      "INFO:tensorflow:Done running local_init_op.\n",
      "INFO:tensorflow:Saving checkpoints for 1 into /tmp/tmp8u9g716i/model.ckpt.\n",
      "INFO:tensorflow:loss = 227.09253, step = 0\n",
      "INFO:tensorflow:Saving checkpoints for 100 into /tmp/tmp8u9g716i/model.ckpt.\n",
      "INFO:tensorflow:Loss for final step: 13.481791.\n",
      "INFO:tensorflow:Calling model_fn.\n",
      "INFO:tensorflow:Done calling model_fn.\n",
      "INFO:tensorflow:Starting evaluation at 2018-05-18-14:10:39\n",
      "INFO:tensorflow:Graph was finalized.\n",
      "INFO:tensorflow:Restoring parameters from /tmp/tmp8u9g716i/model.ckpt-100\n",
      "INFO:tensorflow:Running local_init_op.\n",
      "INFO:tensorflow:Done running local_init_op.\n",
      "INFO:tensorflow:Finished evaluation at 2018-05-18-14:10:40\n",
      "INFO:tensorflow:Saving dict for global step 100: accuracy = 0.95997775, average_loss = 0.14700401, global_step = 100, loss = 14.692234\n",
      "INFO:tensorflow:Calling model_fn.\n",
      "INFO:tensorflow:Done calling model_fn.\n",
      "INFO:tensorflow:Graph was finalized.\n",
      "INFO:tensorflow:Restoring parameters from /tmp/tmp8u9g716i/model.ckpt-100\n",
      "INFO:tensorflow:Running local_init_op.\n",
      "INFO:tensorflow:Done running local_init_op.\n",
      "INFO:tensorflow:Using default config.\n",
      "WARNING:tensorflow:Using temporary folder as model directory: /tmp/tmpvthq6csz\n",
      "INFO:tensorflow:Using config: {'_model_dir': '/tmp/tmpvthq6csz', '_tf_random_seed': None, '_save_summary_steps': 100, '_save_checkpoints_steps': None, '_save_checkpoints_secs': 600, '_session_config': None, '_keep_checkpoint_max': 5, '_keep_checkpoint_every_n_hours': 10000, '_log_step_count_steps': 100, '_service': None, '_cluster_spec': <tensorflow.python.training.server_lib.ClusterSpec object at 0x7fb8396009b0>, '_task_type': 'worker', '_task_id': 0, '_global_id_in_cluster': 0, '_master': '', '_evaluation_master': '', '_is_chief': True, '_num_ps_replicas': 0, '_num_worker_replicas': 1}\n",
      "INFO:tensorflow:Calling model_fn.\n",
      "INFO:tensorflow:Done calling model_fn.\n",
      "INFO:tensorflow:Create CheckpointSaverHook.\n",
      "INFO:tensorflow:Graph was finalized.\n",
      "INFO:tensorflow:Running local_init_op.\n",
      "INFO:tensorflow:Done running local_init_op.\n",
      "INFO:tensorflow:Saving checkpoints for 1 into /tmp/tmpvthq6csz/model.ckpt.\n",
      "INFO:tensorflow:loss = 246.62683, step = 0\n",
      "INFO:tensorflow:global_step/sec: 145.401\n",
      "INFO:tensorflow:loss = 13.907359, step = 100 (0.695 sec)\n",
      "INFO:tensorflow:Saving checkpoints for 200 into /tmp/tmpvthq6csz/model.ckpt.\n",
      "INFO:tensorflow:Loss for final step: 12.761193.\n",
      "INFO:tensorflow:Calling model_fn.\n",
      "INFO:tensorflow:Done calling model_fn.\n",
      "INFO:tensorflow:Starting evaluation at 2018-05-18-14:10:44\n",
      "INFO:tensorflow:Graph was finalized.\n"
     ]
    },
    {
     "name": "stdout",
     "output_type": "stream",
     "text": [
      "INFO:tensorflow:Restoring parameters from /tmp/tmpvthq6csz/model.ckpt-200\n",
      "INFO:tensorflow:Running local_init_op.\n",
      "INFO:tensorflow:Done running local_init_op.\n",
      "INFO:tensorflow:Finished evaluation at 2018-05-18-14:10:44\n",
      "INFO:tensorflow:Saving dict for global step 200: accuracy = 0.97020096, average_loss = 0.13880156, global_step = 200, loss = 13.35271\n",
      "INFO:tensorflow:Calling model_fn.\n",
      "INFO:tensorflow:Done calling model_fn.\n",
      "INFO:tensorflow:Graph was finalized.\n",
      "INFO:tensorflow:Restoring parameters from /tmp/tmpvthq6csz/model.ckpt-200\n",
      "INFO:tensorflow:Running local_init_op.\n",
      "INFO:tensorflow:Done running local_init_op.\n",
      "INFO:tensorflow:Using default config.\n",
      "WARNING:tensorflow:Using temporary folder as model directory: /tmp/tmp1aca1sw2\n",
      "INFO:tensorflow:Using config: {'_model_dir': '/tmp/tmp1aca1sw2', '_tf_random_seed': None, '_save_summary_steps': 100, '_save_checkpoints_steps': None, '_save_checkpoints_secs': 600, '_session_config': None, '_keep_checkpoint_max': 5, '_keep_checkpoint_every_n_hours': 10000, '_log_step_count_steps': 100, '_service': None, '_cluster_spec': <tensorflow.python.training.server_lib.ClusterSpec object at 0x7fb838f44a20>, '_task_type': 'worker', '_task_id': 0, '_global_id_in_cluster': 0, '_master': '', '_evaluation_master': '', '_is_chief': True, '_num_ps_replicas': 0, '_num_worker_replicas': 1}\n",
      "INFO:tensorflow:Calling model_fn.\n",
      "INFO:tensorflow:Done calling model_fn.\n",
      "INFO:tensorflow:Create CheckpointSaverHook.\n",
      "INFO:tensorflow:Graph was finalized.\n",
      "INFO:tensorflow:Running local_init_op.\n",
      "INFO:tensorflow:Done running local_init_op.\n",
      "INFO:tensorflow:Saving checkpoints for 1 into /tmp/tmp1aca1sw2/model.ckpt.\n",
      "INFO:tensorflow:loss = 229.79213, step = 0\n",
      "INFO:tensorflow:global_step/sec: 145.4\n",
      "INFO:tensorflow:loss = 25.014822, step = 100 (0.694 sec)\n",
      "INFO:tensorflow:Saving checkpoints for 200 into /tmp/tmp1aca1sw2/model.ckpt.\n",
      "INFO:tensorflow:Loss for final step: 11.432836.\n",
      "INFO:tensorflow:Calling model_fn.\n",
      "INFO:tensorflow:Done calling model_fn.\n",
      "INFO:tensorflow:Starting evaluation at 2018-05-18-14:10:48\n",
      "INFO:tensorflow:Graph was finalized.\n",
      "INFO:tensorflow:Restoring parameters from /tmp/tmp1aca1sw2/model.ckpt-200\n",
      "INFO:tensorflow:Running local_init_op.\n",
      "INFO:tensorflow:Done running local_init_op.\n",
      "INFO:tensorflow:Finished evaluation at 2018-05-18-14:10:49\n",
      "INFO:tensorflow:Saving dict for global step 200: accuracy = 0.9702613, average_loss = 0.10839817, global_step = 200, loss = 10.833795\n",
      "INFO:tensorflow:Calling model_fn.\n",
      "INFO:tensorflow:Done calling model_fn.\n",
      "INFO:tensorflow:Graph was finalized.\n",
      "INFO:tensorflow:Restoring parameters from /tmp/tmp1aca1sw2/model.ckpt-200\n",
      "INFO:tensorflow:Running local_init_op.\n",
      "INFO:tensorflow:Done running local_init_op.\n",
      "INFO:tensorflow:Using default config.\n",
      "WARNING:tensorflow:Using temporary folder as model directory: /tmp/tmp1328if5a\n",
      "INFO:tensorflow:Using config: {'_model_dir': '/tmp/tmp1328if5a', '_tf_random_seed': None, '_save_summary_steps': 100, '_save_checkpoints_steps': None, '_save_checkpoints_secs': 600, '_session_config': None, '_keep_checkpoint_max': 5, '_keep_checkpoint_every_n_hours': 10000, '_log_step_count_steps': 100, '_service': None, '_cluster_spec': <tensorflow.python.training.server_lib.ClusterSpec object at 0x7fb818a98f60>, '_task_type': 'worker', '_task_id': 0, '_global_id_in_cluster': 0, '_master': '', '_evaluation_master': '', '_is_chief': True, '_num_ps_replicas': 0, '_num_worker_replicas': 1}\n",
      "INFO:tensorflow:Calling model_fn.\n",
      "INFO:tensorflow:Done calling model_fn.\n",
      "INFO:tensorflow:Create CheckpointSaverHook.\n",
      "INFO:tensorflow:Graph was finalized.\n",
      "INFO:tensorflow:Running local_init_op.\n",
      "INFO:tensorflow:Done running local_init_op.\n",
      "INFO:tensorflow:Saving checkpoints for 1 into /tmp/tmp1328if5a/model.ckpt.\n",
      "INFO:tensorflow:loss = 235.27545, step = 0\n",
      "INFO:tensorflow:global_step/sec: 144.975\n",
      "INFO:tensorflow:loss = 21.129824, step = 100 (0.697 sec)\n",
      "INFO:tensorflow:global_step/sec: 153.787\n",
      "INFO:tensorflow:loss = 16.204565, step = 200 (0.648 sec)\n",
      "INFO:tensorflow:global_step/sec: 152.513\n",
      "INFO:tensorflow:loss = 9.181795, step = 300 (0.657 sec)\n",
      "INFO:tensorflow:global_step/sec: 165.474\n",
      "INFO:tensorflow:loss = 2.9930775, step = 400 (0.603 sec)\n",
      "INFO:tensorflow:Saving checkpoints for 500 into /tmp/tmp1328if5a/model.ckpt.\n",
      "INFO:tensorflow:Loss for final step: 9.597752.\n",
      "INFO:tensorflow:Calling model_fn.\n",
      "INFO:tensorflow:Done calling model_fn.\n",
      "INFO:tensorflow:Starting evaluation at 2018-05-18-14:10:55\n",
      "INFO:tensorflow:Graph was finalized.\n",
      "INFO:tensorflow:Restoring parameters from /tmp/tmp1328if5a/model.ckpt-500\n",
      "INFO:tensorflow:Running local_init_op.\n",
      "INFO:tensorflow:Done running local_init_op.\n",
      "INFO:tensorflow:Finished evaluation at 2018-05-18-14:10:55\n",
      "INFO:tensorflow:Saving dict for global step 500: accuracy = 0.97713095, average_loss = 0.08772832, global_step = 500, loss = 8.439465\n",
      "INFO:tensorflow:Calling model_fn.\n",
      "INFO:tensorflow:Done calling model_fn.\n",
      "INFO:tensorflow:Graph was finalized.\n",
      "INFO:tensorflow:Restoring parameters from /tmp/tmp1328if5a/model.ckpt-500\n",
      "INFO:tensorflow:Running local_init_op.\n",
      "INFO:tensorflow:Done running local_init_op.\n",
      "INFO:tensorflow:Using default config.\n",
      "WARNING:tensorflow:Using temporary folder as model directory: /tmp/tmpk2m_eqvo\n",
      "INFO:tensorflow:Using config: {'_model_dir': '/tmp/tmpk2m_eqvo', '_tf_random_seed': None, '_save_summary_steps': 100, '_save_checkpoints_steps': None, '_save_checkpoints_secs': 600, '_session_config': None, '_keep_checkpoint_max': 5, '_keep_checkpoint_every_n_hours': 10000, '_log_step_count_steps': 100, '_service': None, '_cluster_spec': <tensorflow.python.training.server_lib.ClusterSpec object at 0x7fb8387706d8>, '_task_type': 'worker', '_task_id': 0, '_global_id_in_cluster': 0, '_master': '', '_evaluation_master': '', '_is_chief': True, '_num_ps_replicas': 0, '_num_worker_replicas': 1}\n",
      "INFO:tensorflow:Calling model_fn.\n",
      "INFO:tensorflow:Done calling model_fn.\n",
      "INFO:tensorflow:Create CheckpointSaverHook.\n",
      "INFO:tensorflow:Graph was finalized.\n",
      "INFO:tensorflow:Running local_init_op.\n",
      "INFO:tensorflow:Done running local_init_op.\n",
      "INFO:tensorflow:Saving checkpoints for 1 into /tmp/tmpk2m_eqvo/model.ckpt.\n",
      "INFO:tensorflow:loss = 230.33871, step = 0\n",
      "INFO:tensorflow:global_step/sec: 144.25\n",
      "INFO:tensorflow:loss = 20.8616, step = 100 (0.700 sec)\n",
      "INFO:tensorflow:global_step/sec: 149.884\n",
      "INFO:tensorflow:loss = 10.918653, step = 200 (0.668 sec)\n",
      "INFO:tensorflow:global_step/sec: 161.89\n",
      "INFO:tensorflow:loss = 11.178635, step = 300 (0.613 sec)\n",
      "INFO:tensorflow:global_step/sec: 154.715\n",
      "INFO:tensorflow:loss = 3.949124, step = 400 (0.651 sec)\n",
      "INFO:tensorflow:Saving checkpoints for 500 into /tmp/tmpk2m_eqvo/model.ckpt.\n",
      "INFO:tensorflow:Loss for final step: 2.3983903.\n",
      "INFO:tensorflow:Calling model_fn.\n",
      "INFO:tensorflow:Done calling model_fn.\n",
      "INFO:tensorflow:Starting evaluation at 2018-05-18-14:11:01\n",
      "INFO:tensorflow:Graph was finalized.\n",
      "INFO:tensorflow:Restoring parameters from /tmp/tmpk2m_eqvo/model.ckpt-500\n",
      "INFO:tensorflow:Running local_init_op.\n",
      "INFO:tensorflow:Done running local_init_op.\n",
      "INFO:tensorflow:Finished evaluation at 2018-05-18-14:11:02\n",
      "INFO:tensorflow:Saving dict for global step 500: accuracy = 0.98137856, average_loss = 0.07376435, global_step = 500, loss = 7.3723364\n",
      "INFO:tensorflow:Calling model_fn.\n",
      "INFO:tensorflow:Done calling model_fn.\n",
      "INFO:tensorflow:Graph was finalized.\n",
      "INFO:tensorflow:Restoring parameters from /tmp/tmpk2m_eqvo/model.ckpt-500\n",
      "INFO:tensorflow:Running local_init_op.\n",
      "INFO:tensorflow:Done running local_init_op.\n",
      "INFO:tensorflow:Using default config.\n",
      "WARNING:tensorflow:Using temporary folder as model directory: /tmp/tmpyfmtjfv4\n",
      "INFO:tensorflow:Using config: {'_model_dir': '/tmp/tmpyfmtjfv4', '_tf_random_seed': None, '_save_summary_steps': 100, '_save_checkpoints_steps': None, '_save_checkpoints_secs': 600, '_session_config': None, '_keep_checkpoint_max': 5, '_keep_checkpoint_every_n_hours': 10000, '_log_step_count_steps': 100, '_service': None, '_cluster_spec': <tensorflow.python.training.server_lib.ClusterSpec object at 0x7fb838f82cc0>, '_task_type': 'worker', '_task_id': 0, '_global_id_in_cluster': 0, '_master': '', '_evaluation_master': '', '_is_chief': True, '_num_ps_replicas': 0, '_num_worker_replicas': 1}\n",
      "INFO:tensorflow:Calling model_fn.\n",
      "INFO:tensorflow:Done calling model_fn.\n",
      "INFO:tensorflow:Create CheckpointSaverHook.\n",
      "INFO:tensorflow:Graph was finalized.\n",
      "INFO:tensorflow:Running local_init_op.\n",
      "INFO:tensorflow:Done running local_init_op.\n",
      "INFO:tensorflow:Saving checkpoints for 1 into /tmp/tmpyfmtjfv4/model.ckpt.\n",
      "INFO:tensorflow:loss = 226.23392, step = 0\n",
      "INFO:tensorflow:global_step/sec: 143.202\n",
      "INFO:tensorflow:loss = 9.790856, step = 100 (0.705 sec)\n",
      "INFO:tensorflow:global_step/sec: 150.102\n",
      "INFO:tensorflow:loss = 9.384106, step = 200 (0.661 sec)\n",
      "INFO:tensorflow:global_step/sec: 149.813\n",
      "INFO:tensorflow:loss = 6.5270767, step = 300 (0.669 sec)\n",
      "INFO:tensorflow:global_step/sec: 161.847\n",
      "INFO:tensorflow:loss = 2.0031922, step = 400 (0.619 sec)\n",
      "INFO:tensorflow:global_step/sec: 153.312\n",
      "INFO:tensorflow:loss = 4.24492, step = 500 (0.649 sec)\n",
      "INFO:tensorflow:global_step/sec: 156.042\n",
      "INFO:tensorflow:loss = 4.6323223, step = 600 (0.642 sec)\n",
      "INFO:tensorflow:global_step/sec: 157.065\n",
      "INFO:tensorflow:loss = 7.849929, step = 700 (0.637 sec)\n",
      "INFO:tensorflow:global_step/sec: 162.513\n",
      "INFO:tensorflow:loss = 2.7373962, step = 800 (0.620 sec)\n",
      "INFO:tensorflow:global_step/sec: 144.385\n",
      "INFO:tensorflow:loss = 0.72807467, step = 900 (0.693 sec)\n",
      "INFO:tensorflow:Saving checkpoints for 1000 into /tmp/tmpyfmtjfv4/model.ckpt.\n",
      "INFO:tensorflow:Loss for final step: 0.5527808.\n",
      "INFO:tensorflow:Calling model_fn.\n",
      "INFO:tensorflow:Done calling model_fn.\n",
      "INFO:tensorflow:Starting evaluation at 2018-05-18-14:11:11\n",
      "INFO:tensorflow:Graph was finalized.\n",
      "INFO:tensorflow:Restoring parameters from /tmp/tmpyfmtjfv4/model.ckpt-1000\n",
      "INFO:tensorflow:Running local_init_op.\n",
      "INFO:tensorflow:Done running local_init_op.\n",
      "INFO:tensorflow:Finished evaluation at 2018-05-18-14:11:12\n",
      "INFO:tensorflow:Saving dict for global step 1000: accuracy = 0.983368, average_loss = 0.055027533, global_step = 1000, loss = 5.2936487\n",
      "INFO:tensorflow:Calling model_fn.\n",
      "INFO:tensorflow:Done calling model_fn.\n",
      "INFO:tensorflow:Graph was finalized.\n",
      "INFO:tensorflow:Restoring parameters from /tmp/tmpyfmtjfv4/model.ckpt-1000\n",
      "INFO:tensorflow:Running local_init_op.\n",
      "INFO:tensorflow:Done running local_init_op.\n",
      "INFO:tensorflow:Using default config.\n",
      "WARNING:tensorflow:Using temporary folder as model directory: /tmp/tmp6m2z3jav\n",
      "INFO:tensorflow:Using config: {'_model_dir': '/tmp/tmp6m2z3jav', '_tf_random_seed': None, '_save_summary_steps': 100, '_save_checkpoints_steps': None, '_save_checkpoints_secs': 600, '_session_config': None, '_keep_checkpoint_max': 5, '_keep_checkpoint_every_n_hours': 10000, '_log_step_count_steps': 100, '_service': None, '_cluster_spec': <tensorflow.python.training.server_lib.ClusterSpec object at 0x7fb818726828>, '_task_type': 'worker', '_task_id': 0, '_global_id_in_cluster': 0, '_master': '', '_evaluation_master': '', '_is_chief': True, '_num_ps_replicas': 0, '_num_worker_replicas': 1}\n"
     ]
    },
    {
     "name": "stdout",
     "output_type": "stream",
     "text": [
      "INFO:tensorflow:Calling model_fn.\n",
      "INFO:tensorflow:Done calling model_fn.\n",
      "INFO:tensorflow:Create CheckpointSaverHook.\n",
      "INFO:tensorflow:Graph was finalized.\n",
      "INFO:tensorflow:Running local_init_op.\n",
      "INFO:tensorflow:Done running local_init_op.\n",
      "INFO:tensorflow:Saving checkpoints for 1 into /tmp/tmp6m2z3jav/model.ckpt.\n",
      "INFO:tensorflow:loss = 224.89474, step = 0\n",
      "INFO:tensorflow:global_step/sec: 143.5\n",
      "INFO:tensorflow:loss = 23.522118, step = 100 (0.699 sec)\n",
      "INFO:tensorflow:global_step/sec: 158.779\n",
      "INFO:tensorflow:loss = 9.003619, step = 200 (0.634 sec)\n",
      "INFO:tensorflow:global_step/sec: 157.079\n",
      "INFO:tensorflow:loss = 4.703548, step = 300 (0.633 sec)\n",
      "INFO:tensorflow:global_step/sec: 158.374\n",
      "INFO:tensorflow:loss = 4.379434, step = 400 (0.634 sec)\n",
      "INFO:tensorflow:global_step/sec: 161.707\n",
      "INFO:tensorflow:loss = 6.3230896, step = 500 (0.619 sec)\n",
      "INFO:tensorflow:global_step/sec: 157.084\n",
      "INFO:tensorflow:loss = 2.6791334, step = 600 (0.639 sec)\n",
      "INFO:tensorflow:global_step/sec: 148.494\n",
      "INFO:tensorflow:loss = 1.7292988, step = 700 (0.670 sec)\n",
      "INFO:tensorflow:global_step/sec: 153.028\n",
      "INFO:tensorflow:loss = 2.0610993, step = 800 (0.657 sec)\n",
      "INFO:tensorflow:global_step/sec: 156.803\n",
      "INFO:tensorflow:loss = 3.2641318, step = 900 (0.637 sec)\n",
      "INFO:tensorflow:Saving checkpoints for 1000 into /tmp/tmp6m2z3jav/model.ckpt.\n",
      "INFO:tensorflow:Loss for final step: 1.8074546.\n",
      "INFO:tensorflow:Calling model_fn.\n",
      "INFO:tensorflow:Done calling model_fn.\n",
      "INFO:tensorflow:Starting evaluation at 2018-05-18-14:11:21\n",
      "INFO:tensorflow:Graph was finalized.\n",
      "INFO:tensorflow:Restoring parameters from /tmp/tmp6m2z3jav/model.ckpt-1000\n",
      "INFO:tensorflow:Running local_init_op.\n",
      "INFO:tensorflow:Done running local_init_op.\n",
      "INFO:tensorflow:Finished evaluation at 2018-05-18-14:11:21\n",
      "INFO:tensorflow:Saving dict for global step 1000: accuracy = 0.9819344, average_loss = 0.07500526, global_step = 1000, loss = 7.496359\n",
      "INFO:tensorflow:Calling model_fn.\n",
      "INFO:tensorflow:Done calling model_fn.\n",
      "INFO:tensorflow:Graph was finalized.\n",
      "INFO:tensorflow:Restoring parameters from /tmp/tmp6m2z3jav/model.ckpt-1000\n",
      "INFO:tensorflow:Running local_init_op.\n",
      "INFO:tensorflow:Done running local_init_op.\n",
      "INFO:tensorflow:Using default config.\n",
      "WARNING:tensorflow:Using temporary folder as model directory: /tmp/tmpdtc8151y\n",
      "INFO:tensorflow:Using config: {'_model_dir': '/tmp/tmpdtc8151y', '_tf_random_seed': None, '_save_summary_steps': 100, '_save_checkpoints_steps': None, '_save_checkpoints_secs': 600, '_session_config': None, '_keep_checkpoint_max': 5, '_keep_checkpoint_every_n_hours': 10000, '_log_step_count_steps': 100, '_service': None, '_cluster_spec': <tensorflow.python.training.server_lib.ClusterSpec object at 0x7fb818723828>, '_task_type': 'worker', '_task_id': 0, '_global_id_in_cluster': 0, '_master': '', '_evaluation_master': '', '_is_chief': True, '_num_ps_replicas': 0, '_num_worker_replicas': 1}\n",
      "INFO:tensorflow:Calling model_fn.\n",
      "INFO:tensorflow:Done calling model_fn.\n",
      "INFO:tensorflow:Create CheckpointSaverHook.\n",
      "INFO:tensorflow:Graph was finalized.\n",
      "INFO:tensorflow:Running local_init_op.\n",
      "INFO:tensorflow:Done running local_init_op.\n",
      "INFO:tensorflow:Saving checkpoints for 1 into /tmp/tmpdtc8151y/model.ckpt.\n",
      "INFO:tensorflow:loss = 237.38696, step = 0\n",
      "INFO:tensorflow:global_step/sec: 151.23\n",
      "INFO:tensorflow:loss = 9.178309, step = 100 (0.667 sec)\n",
      "INFO:tensorflow:global_step/sec: 152.292\n",
      "INFO:tensorflow:loss = 5.0600176, step = 200 (0.654 sec)\n",
      "INFO:tensorflow:global_step/sec: 153.791\n",
      "INFO:tensorflow:loss = 5.089986, step = 300 (0.652 sec)\n",
      "INFO:tensorflow:global_step/sec: 159.363\n",
      "INFO:tensorflow:loss = 3.902983, step = 400 (0.624 sec)\n",
      "INFO:tensorflow:global_step/sec: 154.893\n",
      "INFO:tensorflow:loss = 2.7066731, step = 500 (0.648 sec)\n",
      "INFO:tensorflow:global_step/sec: 159.762\n",
      "INFO:tensorflow:loss = 1.0522407, step = 600 (0.629 sec)\n",
      "INFO:tensorflow:global_step/sec: 155.679\n",
      "INFO:tensorflow:loss = 2.506568, step = 700 (0.640 sec)\n",
      "INFO:tensorflow:global_step/sec: 170.013\n",
      "INFO:tensorflow:loss = 3.7014148, step = 800 (0.588 sec)\n",
      "INFO:tensorflow:global_step/sec: 160.67\n",
      "INFO:tensorflow:loss = 1.0220438, step = 900 (0.624 sec)\n",
      "INFO:tensorflow:global_step/sec: 159.411\n",
      "INFO:tensorflow:loss = 0.65161616, step = 1000 (0.623 sec)\n",
      "INFO:tensorflow:global_step/sec: 159.319\n",
      "INFO:tensorflow:loss = 2.9628818, step = 1100 (0.629 sec)\n",
      "INFO:tensorflow:global_step/sec: 164.709\n",
      "INFO:tensorflow:loss = 0.9881842, step = 1200 (0.610 sec)\n",
      "INFO:tensorflow:global_step/sec: 155.523\n",
      "INFO:tensorflow:loss = 1.4413089, step = 1300 (0.642 sec)\n",
      "INFO:tensorflow:global_step/sec: 147.817\n",
      "INFO:tensorflow:loss = 0.44809246, step = 1400 (0.679 sec)\n",
      "INFO:tensorflow:Saving checkpoints for 1500 into /tmp/tmpdtc8151y/model.ckpt.\n",
      "INFO:tensorflow:Loss for final step: 0.99384755.\n",
      "INFO:tensorflow:Calling model_fn.\n",
      "INFO:tensorflow:Done calling model_fn.\n",
      "INFO:tensorflow:Starting evaluation at 2018-05-18-14:11:34\n",
      "INFO:tensorflow:Graph was finalized.\n",
      "INFO:tensorflow:Restoring parameters from /tmp/tmpdtc8151y/model.ckpt-1500\n",
      "INFO:tensorflow:Running local_init_op.\n",
      "INFO:tensorflow:Done running local_init_op.\n",
      "INFO:tensorflow:Finished evaluation at 2018-05-18-14:11:34\n",
      "INFO:tensorflow:Saving dict for global step 1500: accuracy = 0.98475397, average_loss = 0.08338665, global_step = 1500, loss = 8.021795\n",
      "INFO:tensorflow:Calling model_fn.\n",
      "INFO:tensorflow:Done calling model_fn.\n",
      "INFO:tensorflow:Graph was finalized.\n",
      "INFO:tensorflow:Restoring parameters from /tmp/tmpdtc8151y/model.ckpt-1500\n",
      "INFO:tensorflow:Running local_init_op.\n",
      "INFO:tensorflow:Done running local_init_op.\n",
      "INFO:tensorflow:Using default config.\n",
      "WARNING:tensorflow:Using temporary folder as model directory: /tmp/tmp2jdnjbul\n",
      "INFO:tensorflow:Using config: {'_model_dir': '/tmp/tmp2jdnjbul', '_tf_random_seed': None, '_save_summary_steps': 100, '_save_checkpoints_steps': None, '_save_checkpoints_secs': 600, '_session_config': None, '_keep_checkpoint_max': 5, '_keep_checkpoint_every_n_hours': 10000, '_log_step_count_steps': 100, '_service': None, '_cluster_spec': <tensorflow.python.training.server_lib.ClusterSpec object at 0x7fb8189179b0>, '_task_type': 'worker', '_task_id': 0, '_global_id_in_cluster': 0, '_master': '', '_evaluation_master': '', '_is_chief': True, '_num_ps_replicas': 0, '_num_worker_replicas': 1}\n",
      "INFO:tensorflow:Calling model_fn.\n",
      "INFO:tensorflow:Done calling model_fn.\n",
      "INFO:tensorflow:Create CheckpointSaverHook.\n",
      "INFO:tensorflow:Graph was finalized.\n",
      "INFO:tensorflow:Running local_init_op.\n",
      "INFO:tensorflow:Done running local_init_op.\n",
      "INFO:tensorflow:Saving checkpoints for 1 into /tmp/tmp2jdnjbul/model.ckpt.\n",
      "INFO:tensorflow:loss = 236.36288, step = 0\n",
      "INFO:tensorflow:global_step/sec: 144.913\n",
      "INFO:tensorflow:loss = 14.688612, step = 100 (0.694 sec)\n",
      "INFO:tensorflow:global_step/sec: 154.465\n",
      "INFO:tensorflow:loss = 4.6277966, step = 200 (0.646 sec)\n",
      "INFO:tensorflow:global_step/sec: 157.674\n",
      "INFO:tensorflow:loss = 11.795588, step = 300 (0.638 sec)\n",
      "INFO:tensorflow:global_step/sec: 152.588\n",
      "INFO:tensorflow:loss = 1.0323339, step = 400 (0.655 sec)\n",
      "INFO:tensorflow:global_step/sec: 161.843\n",
      "INFO:tensorflow:loss = 2.194278, step = 500 (0.615 sec)\n",
      "INFO:tensorflow:global_step/sec: 160.475\n",
      "INFO:tensorflow:loss = 1.9134245, step = 600 (0.622 sec)\n",
      "INFO:tensorflow:global_step/sec: 154.959\n",
      "INFO:tensorflow:loss = 0.7286828, step = 700 (0.645 sec)\n",
      "INFO:tensorflow:global_step/sec: 153.638\n",
      "INFO:tensorflow:loss = 0.85619015, step = 800 (0.650 sec)\n",
      "INFO:tensorflow:global_step/sec: 155.773\n",
      "INFO:tensorflow:loss = 2.4231298, step = 900 (0.645 sec)\n",
      "INFO:tensorflow:global_step/sec: 165.386\n",
      "INFO:tensorflow:loss = 1.1975585, step = 1000 (0.601 sec)\n",
      "INFO:tensorflow:global_step/sec: 153.032\n",
      "INFO:tensorflow:loss = 1.0948427, step = 1100 (0.657 sec)\n",
      "INFO:tensorflow:global_step/sec: 151.263\n",
      "INFO:tensorflow:loss = 0.60082716, step = 1200 (0.658 sec)\n",
      "INFO:tensorflow:global_step/sec: 158.114\n",
      "INFO:tensorflow:loss = 0.54204684, step = 1300 (0.635 sec)\n",
      "INFO:tensorflow:global_step/sec: 167.513\n",
      "INFO:tensorflow:loss = 0.35061958, step = 1400 (0.593 sec)\n",
      "INFO:tensorflow:Saving checkpoints for 1500 into /tmp/tmp2jdnjbul/model.ckpt.\n",
      "INFO:tensorflow:Loss for final step: 0.45435962.\n",
      "INFO:tensorflow:Calling model_fn.\n",
      "INFO:tensorflow:Done calling model_fn.\n",
      "INFO:tensorflow:Starting evaluation at 2018-05-18-14:11:46\n",
      "INFO:tensorflow:Graph was finalized.\n",
      "INFO:tensorflow:Restoring parameters from /tmp/tmp2jdnjbul/model.ckpt-1500\n",
      "INFO:tensorflow:Running local_init_op.\n",
      "INFO:tensorflow:Done running local_init_op.\n",
      "INFO:tensorflow:Finished evaluation at 2018-05-18-14:11:47\n",
      "INFO:tensorflow:Saving dict for global step 1500: accuracy = 0.98554754, average_loss = 0.05771306, global_step = 1500, loss = 5.7681\n",
      "INFO:tensorflow:Calling model_fn.\n",
      "INFO:tensorflow:Done calling model_fn.\n",
      "INFO:tensorflow:Graph was finalized.\n",
      "INFO:tensorflow:Restoring parameters from /tmp/tmp2jdnjbul/model.ckpt-1500\n",
      "INFO:tensorflow:Running local_init_op.\n",
      "INFO:tensorflow:Done running local_init_op.\n",
      "INFO:tensorflow:Using default config.\n",
      "WARNING:tensorflow:Using temporary folder as model directory: /tmp/tmpsdfgpznp\n",
      "INFO:tensorflow:Using config: {'_model_dir': '/tmp/tmpsdfgpznp', '_tf_random_seed': None, '_save_summary_steps': 100, '_save_checkpoints_steps': None, '_save_checkpoints_secs': 600, '_session_config': None, '_keep_checkpoint_max': 5, '_keep_checkpoint_every_n_hours': 10000, '_log_step_count_steps': 100, '_service': None, '_cluster_spec': <tensorflow.python.training.server_lib.ClusterSpec object at 0x7fb82182d550>, '_task_type': 'worker', '_task_id': 0, '_global_id_in_cluster': 0, '_master': '', '_evaluation_master': '', '_is_chief': True, '_num_ps_replicas': 0, '_num_worker_replicas': 1}\n",
      "INFO:tensorflow:Calling model_fn.\n",
      "INFO:tensorflow:Done calling model_fn.\n",
      "INFO:tensorflow:Create CheckpointSaverHook.\n",
      "INFO:tensorflow:Graph was finalized.\n",
      "INFO:tensorflow:Running local_init_op.\n",
      "INFO:tensorflow:Done running local_init_op.\n",
      "INFO:tensorflow:Saving checkpoints for 1 into /tmp/tmpsdfgpznp/model.ckpt.\n",
      "INFO:tensorflow:loss = 226.21394, step = 0\n",
      "INFO:tensorflow:global_step/sec: 148.156\n",
      "INFO:tensorflow:loss = 12.84132, step = 100 (0.682 sec)\n",
      "INFO:tensorflow:global_step/sec: 154.864\n",
      "INFO:tensorflow:loss = 9.125887, step = 200 (0.646 sec)\n",
      "INFO:tensorflow:global_step/sec: 153.347\n",
      "INFO:tensorflow:loss = 8.551991, step = 300 (0.647 sec)\n",
      "INFO:tensorflow:global_step/sec: 163.319\n",
      "INFO:tensorflow:loss = 4.5398674, step = 400 (0.615 sec)\n",
      "INFO:tensorflow:global_step/sec: 155.17\n",
      "INFO:tensorflow:loss = 1.6038917, step = 500 (0.648 sec)\n",
      "INFO:tensorflow:global_step/sec: 154.775\n"
     ]
    },
    {
     "name": "stdout",
     "output_type": "stream",
     "text": [
      "INFO:tensorflow:loss = 3.200847, step = 600 (0.641 sec)\n",
      "INFO:tensorflow:global_step/sec: 153.512\n",
      "INFO:tensorflow:loss = 1.5678657, step = 700 (0.651 sec)\n",
      "INFO:tensorflow:global_step/sec: 162.942\n",
      "INFO:tensorflow:loss = 0.39522028, step = 800 (0.615 sec)\n",
      "INFO:tensorflow:global_step/sec: 157.916\n",
      "INFO:tensorflow:loss = 2.174554, step = 900 (0.637 sec)\n",
      "INFO:tensorflow:global_step/sec: 156.323\n",
      "INFO:tensorflow:loss = 0.83916765, step = 1000 (0.637 sec)\n",
      "INFO:tensorflow:global_step/sec: 155.289\n",
      "INFO:tensorflow:loss = 0.6445344, step = 1100 (0.645 sec)\n",
      "INFO:tensorflow:global_step/sec: 165.351\n",
      "INFO:tensorflow:loss = 0.91470546, step = 1200 (0.605 sec)\n",
      "INFO:tensorflow:global_step/sec: 155.43\n",
      "INFO:tensorflow:loss = 0.81812423, step = 1300 (0.640 sec)\n",
      "INFO:tensorflow:global_step/sec: 154.133\n",
      "INFO:tensorflow:loss = 2.058055, step = 1400 (0.651 sec)\n",
      "INFO:tensorflow:global_step/sec: 156.297\n",
      "INFO:tensorflow:loss = 0.2874471, step = 1500 (0.644 sec)\n",
      "INFO:tensorflow:global_step/sec: 167.682\n",
      "INFO:tensorflow:loss = 0.40337127, step = 1600 (0.595 sec)\n",
      "INFO:tensorflow:global_step/sec: 156.095\n",
      "INFO:tensorflow:loss = 2.9945266, step = 1700 (0.641 sec)\n",
      "INFO:tensorflow:global_step/sec: 159.004\n",
      "INFO:tensorflow:loss = 0.7231193, step = 1800 (0.626 sec)\n",
      "INFO:tensorflow:global_step/sec: 157.392\n",
      "INFO:tensorflow:loss = 0.37774202, step = 1900 (0.636 sec)\n",
      "INFO:tensorflow:Saving checkpoints for 2000 into /tmp/tmpsdfgpznp/model.ckpt.\n",
      "INFO:tensorflow:Loss for final step: 0.9699003.\n",
      "INFO:tensorflow:Calling model_fn.\n",
      "INFO:tensorflow:Done calling model_fn.\n",
      "INFO:tensorflow:Starting evaluation at 2018-05-18-14:12:03\n",
      "INFO:tensorflow:Graph was finalized.\n",
      "INFO:tensorflow:Restoring parameters from /tmp/tmpsdfgpznp/model.ckpt-2000\n",
      "INFO:tensorflow:Running local_init_op.\n",
      "INFO:tensorflow:Done running local_init_op.\n",
      "INFO:tensorflow:Finished evaluation at 2018-05-18-14:12:03\n",
      "INFO:tensorflow:Saving dict for global step 2000: accuracy = 0.989605, average_loss = 0.040477876, global_step = 2000, loss = 3.8939714\n",
      "INFO:tensorflow:Calling model_fn.\n",
      "INFO:tensorflow:Done calling model_fn.\n",
      "INFO:tensorflow:Graph was finalized.\n",
      "INFO:tensorflow:Restoring parameters from /tmp/tmpsdfgpznp/model.ckpt-2000\n",
      "INFO:tensorflow:Running local_init_op.\n",
      "INFO:tensorflow:Done running local_init_op.\n",
      "INFO:tensorflow:Using default config.\n",
      "WARNING:tensorflow:Using temporary folder as model directory: /tmp/tmp5xq94nsj\n",
      "INFO:tensorflow:Using config: {'_model_dir': '/tmp/tmp5xq94nsj', '_tf_random_seed': None, '_save_summary_steps': 100, '_save_checkpoints_steps': None, '_save_checkpoints_secs': 600, '_session_config': None, '_keep_checkpoint_max': 5, '_keep_checkpoint_every_n_hours': 10000, '_log_step_count_steps': 100, '_service': None, '_cluster_spec': <tensorflow.python.training.server_lib.ClusterSpec object at 0x7fb83ef574a8>, '_task_type': 'worker', '_task_id': 0, '_global_id_in_cluster': 0, '_master': '', '_evaluation_master': '', '_is_chief': True, '_num_ps_replicas': 0, '_num_worker_replicas': 1}\n",
      "INFO:tensorflow:Calling model_fn.\n",
      "INFO:tensorflow:Done calling model_fn.\n",
      "INFO:tensorflow:Create CheckpointSaverHook.\n",
      "INFO:tensorflow:Graph was finalized.\n",
      "INFO:tensorflow:Running local_init_op.\n",
      "INFO:tensorflow:Done running local_init_op.\n",
      "INFO:tensorflow:Saving checkpoints for 1 into /tmp/tmp5xq94nsj/model.ckpt.\n",
      "INFO:tensorflow:loss = 230.34438, step = 0\n",
      "INFO:tensorflow:global_step/sec: 144.341\n",
      "INFO:tensorflow:loss = 15.256924, step = 100 (0.700 sec)\n",
      "INFO:tensorflow:global_step/sec: 153.9\n",
      "INFO:tensorflow:loss = 5.4846992, step = 200 (0.645 sec)\n",
      "INFO:tensorflow:global_step/sec: 156.244\n",
      "INFO:tensorflow:loss = 7.3650417, step = 300 (0.640 sec)\n",
      "INFO:tensorflow:global_step/sec: 155.182\n",
      "INFO:tensorflow:loss = 2.2728295, step = 400 (0.647 sec)\n",
      "INFO:tensorflow:global_step/sec: 167.309\n",
      "INFO:tensorflow:loss = 0.9274976, step = 500 (0.596 sec)\n",
      "INFO:tensorflow:global_step/sec: 158.609\n",
      "INFO:tensorflow:loss = 2.3326683, step = 600 (0.634 sec)\n",
      "INFO:tensorflow:global_step/sec: 157.896\n",
      "INFO:tensorflow:loss = 3.6850333, step = 700 (0.630 sec)\n",
      "INFO:tensorflow:global_step/sec: 154.35\n",
      "INFO:tensorflow:loss = 0.82441866, step = 800 (0.645 sec)\n",
      "INFO:tensorflow:global_step/sec: 158.583\n",
      "INFO:tensorflow:loss = 0.51221836, step = 900 (0.635 sec)\n",
      "INFO:tensorflow:global_step/sec: 158.592\n",
      "INFO:tensorflow:loss = 1.2681994, step = 1000 (0.631 sec)\n",
      "INFO:tensorflow:global_step/sec: 152.258\n",
      "INFO:tensorflow:loss = 0.42848304, step = 1100 (0.653 sec)\n",
      "INFO:tensorflow:global_step/sec: 155.31\n",
      "INFO:tensorflow:loss = 0.22619028, step = 1200 (0.647 sec)\n",
      "INFO:tensorflow:global_step/sec: 156.568\n",
      "INFO:tensorflow:loss = 1.0402052, step = 1300 (0.639 sec)\n",
      "INFO:tensorflow:global_step/sec: 164.003\n",
      "INFO:tensorflow:loss = 0.8860147, step = 1400 (0.606 sec)\n",
      "INFO:tensorflow:global_step/sec: 159.836\n",
      "INFO:tensorflow:loss = 1.3858308, step = 1500 (0.626 sec)\n",
      "INFO:tensorflow:global_step/sec: 159.266\n",
      "INFO:tensorflow:loss = 0.25860232, step = 1600 (0.627 sec)\n",
      "INFO:tensorflow:global_step/sec: 164.386\n",
      "INFO:tensorflow:loss = 0.2889932, step = 1700 (0.612 sec)\n",
      "INFO:tensorflow:global_step/sec: 160.957\n",
      "INFO:tensorflow:loss = 0.122704804, step = 1800 (0.620 sec)\n",
      "INFO:tensorflow:global_step/sec: 167.927\n",
      "INFO:tensorflow:loss = 0.24404483, step = 1900 (0.597 sec)\n",
      "INFO:tensorflow:Saving checkpoints for 2000 into /tmp/tmp5xq94nsj/model.ckpt.\n",
      "INFO:tensorflow:Loss for final step: 0.23529296.\n",
      "INFO:tensorflow:Calling model_fn.\n",
      "INFO:tensorflow:Done calling model_fn.\n",
      "INFO:tensorflow:Starting evaluation at 2018-05-18-14:12:18\n",
      "INFO:tensorflow:Graph was finalized.\n",
      "INFO:tensorflow:Restoring parameters from /tmp/tmp5xq94nsj/model.ckpt-2000\n",
      "INFO:tensorflow:Running local_init_op.\n",
      "INFO:tensorflow:Done running local_init_op.\n",
      "INFO:tensorflow:Finished evaluation at 2018-05-18-14:12:19\n",
      "INFO:tensorflow:Saving dict for global step 2000: accuracy = 0.9866592, average_loss = 0.06652707, global_step = 2000, loss = 6.649011\n",
      "INFO:tensorflow:Calling model_fn.\n",
      "INFO:tensorflow:Done calling model_fn.\n",
      "INFO:tensorflow:Graph was finalized.\n",
      "INFO:tensorflow:Restoring parameters from /tmp/tmp5xq94nsj/model.ckpt-2000\n",
      "INFO:tensorflow:Running local_init_op.\n",
      "INFO:tensorflow:Done running local_init_op.\n",
      "INFO:tensorflow:Using default config.\n",
      "WARNING:tensorflow:Using temporary folder as model directory: /tmp/tmp9ey7vy2i\n",
      "INFO:tensorflow:Using config: {'_model_dir': '/tmp/tmp9ey7vy2i', '_tf_random_seed': None, '_save_summary_steps': 100, '_save_checkpoints_steps': None, '_save_checkpoints_secs': 600, '_session_config': None, '_keep_checkpoint_max': 5, '_keep_checkpoint_every_n_hours': 10000, '_log_step_count_steps': 100, '_service': None, '_cluster_spec': <tensorflow.python.training.server_lib.ClusterSpec object at 0x7fb8188a78d0>, '_task_type': 'worker', '_task_id': 0, '_global_id_in_cluster': 0, '_master': '', '_evaluation_master': '', '_is_chief': True, '_num_ps_replicas': 0, '_num_worker_replicas': 1}\n",
      "INFO:tensorflow:Calling model_fn.\n",
      "INFO:tensorflow:Done calling model_fn.\n",
      "INFO:tensorflow:Create CheckpointSaverHook.\n",
      "INFO:tensorflow:Graph was finalized.\n",
      "INFO:tensorflow:Running local_init_op.\n",
      "INFO:tensorflow:Done running local_init_op.\n",
      "INFO:tensorflow:Saving checkpoints for 1 into /tmp/tmp9ey7vy2i/model.ckpt.\n",
      "INFO:tensorflow:loss = 227.84729, step = 0\n",
      "INFO:tensorflow:Saving checkpoints for 100 into /tmp/tmp9ey7vy2i/model.ckpt.\n",
      "INFO:tensorflow:Loss for final step: 42.774384.\n",
      "INFO:tensorflow:Calling model_fn.\n",
      "INFO:tensorflow:Done calling model_fn.\n",
      "INFO:tensorflow:Starting evaluation at 2018-05-18-14:12:22\n",
      "INFO:tensorflow:Graph was finalized.\n",
      "INFO:tensorflow:Restoring parameters from /tmp/tmp9ey7vy2i/model.ckpt-100\n",
      "INFO:tensorflow:Running local_init_op.\n",
      "INFO:tensorflow:Done running local_init_op.\n",
      "INFO:tensorflow:Finished evaluation at 2018-05-18-14:12:23\n",
      "INFO:tensorflow:Saving dict for global step 100: accuracy = 0.8704089, average_loss = 0.37455317, global_step = 100, loss = 36.032017\n",
      "INFO:tensorflow:Calling model_fn.\n",
      "INFO:tensorflow:Done calling model_fn.\n",
      "INFO:tensorflow:Graph was finalized.\n",
      "INFO:tensorflow:Restoring parameters from /tmp/tmp9ey7vy2i/model.ckpt-100\n",
      "INFO:tensorflow:Running local_init_op.\n",
      "INFO:tensorflow:Done running local_init_op.\n",
      "INFO:tensorflow:Using default config.\n",
      "WARNING:tensorflow:Using temporary folder as model directory: /tmp/tmpq59fr96p\n",
      "INFO:tensorflow:Using config: {'_model_dir': '/tmp/tmpq59fr96p', '_tf_random_seed': None, '_save_summary_steps': 100, '_save_checkpoints_steps': None, '_save_checkpoints_secs': 600, '_session_config': None, '_keep_checkpoint_max': 5, '_keep_checkpoint_every_n_hours': 10000, '_log_step_count_steps': 100, '_service': None, '_cluster_spec': <tensorflow.python.training.server_lib.ClusterSpec object at 0x7fb8187a7080>, '_task_type': 'worker', '_task_id': 0, '_global_id_in_cluster': 0, '_master': '', '_evaluation_master': '', '_is_chief': True, '_num_ps_replicas': 0, '_num_worker_replicas': 1}\n",
      "INFO:tensorflow:Calling model_fn.\n",
      "INFO:tensorflow:Done calling model_fn.\n",
      "INFO:tensorflow:Create CheckpointSaverHook.\n",
      "INFO:tensorflow:Graph was finalized.\n",
      "INFO:tensorflow:Running local_init_op.\n",
      "INFO:tensorflow:Done running local_init_op.\n",
      "INFO:tensorflow:Saving checkpoints for 1 into /tmp/tmpq59fr96p/model.ckpt.\n",
      "INFO:tensorflow:loss = 226.84116, step = 0\n",
      "INFO:tensorflow:Saving checkpoints for 100 into /tmp/tmpq59fr96p/model.ckpt.\n",
      "INFO:tensorflow:Loss for final step: 61.89948.\n",
      "INFO:tensorflow:Calling model_fn.\n",
      "INFO:tensorflow:Done calling model_fn.\n",
      "INFO:tensorflow:Starting evaluation at 2018-05-18-14:12:26\n",
      "INFO:tensorflow:Graph was finalized.\n",
      "INFO:tensorflow:Restoring parameters from /tmp/tmpq59fr96p/model.ckpt-100\n",
      "INFO:tensorflow:Running local_init_op.\n",
      "INFO:tensorflow:Done running local_init_op.\n",
      "INFO:tensorflow:Finished evaluation at 2018-05-18-14:12:27\n",
      "INFO:tensorflow:Saving dict for global step 100: accuracy = 0.82434684, average_loss = 0.5461596, global_step = 100, loss = 54.585617\n",
      "INFO:tensorflow:Calling model_fn.\n",
      "INFO:tensorflow:Done calling model_fn.\n",
      "INFO:tensorflow:Graph was finalized.\n",
      "INFO:tensorflow:Restoring parameters from /tmp/tmpq59fr96p/model.ckpt-100\n",
      "INFO:tensorflow:Running local_init_op.\n",
      "INFO:tensorflow:Done running local_init_op.\n",
      "INFO:tensorflow:Using default config.\n",
      "WARNING:tensorflow:Using temporary folder as model directory: /tmp/tmpz0t1kj20\n",
      "INFO:tensorflow:Using config: {'_model_dir': '/tmp/tmpz0t1kj20', '_tf_random_seed': None, '_save_summary_steps': 100, '_save_checkpoints_steps': None, '_save_checkpoints_secs': 600, '_session_config': None, '_keep_checkpoint_max': 5, '_keep_checkpoint_every_n_hours': 10000, '_log_step_count_steps': 100, '_service': None, '_cluster_spec': <tensorflow.python.training.server_lib.ClusterSpec object at 0x7fb839076860>, '_task_type': 'worker', '_task_id': 0, '_global_id_in_cluster': 0, '_master': '', '_evaluation_master': '', '_is_chief': True, '_num_ps_replicas': 0, '_num_worker_replicas': 1}\n",
      "INFO:tensorflow:Calling model_fn.\n",
      "INFO:tensorflow:Done calling model_fn.\n",
      "INFO:tensorflow:Create CheckpointSaverHook.\n",
      "INFO:tensorflow:Graph was finalized.\n",
      "INFO:tensorflow:Running local_init_op.\n"
     ]
    },
    {
     "name": "stdout",
     "output_type": "stream",
     "text": [
      "INFO:tensorflow:Done running local_init_op.\n",
      "INFO:tensorflow:Saving checkpoints for 1 into /tmp/tmpz0t1kj20/model.ckpt.\n",
      "INFO:tensorflow:loss = 228.77174, step = 0\n",
      "INFO:tensorflow:global_step/sec: 136.269\n",
      "INFO:tensorflow:loss = 68.528, step = 100 (0.738 sec)\n",
      "INFO:tensorflow:Saving checkpoints for 200 into /tmp/tmpz0t1kj20/model.ckpt.\n",
      "INFO:tensorflow:Loss for final step: 14.698918.\n",
      "INFO:tensorflow:Calling model_fn.\n",
      "INFO:tensorflow:Done calling model_fn.\n",
      "INFO:tensorflow:Starting evaluation at 2018-05-18-14:12:31\n",
      "INFO:tensorflow:Graph was finalized.\n",
      "INFO:tensorflow:Restoring parameters from /tmp/tmpz0t1kj20/model.ckpt-200\n",
      "INFO:tensorflow:Running local_init_op.\n",
      "INFO:tensorflow:Done running local_init_op.\n",
      "INFO:tensorflow:Finished evaluation at 2018-05-18-14:12:32\n",
      "INFO:tensorflow:Saving dict for global step 200: accuracy = 0.9300069, average_loss = 0.2659144, global_step = 200, loss = 25.580965\n",
      "INFO:tensorflow:Calling model_fn.\n",
      "INFO:tensorflow:Done calling model_fn.\n",
      "INFO:tensorflow:Graph was finalized.\n",
      "INFO:tensorflow:Restoring parameters from /tmp/tmpz0t1kj20/model.ckpt-200\n",
      "INFO:tensorflow:Running local_init_op.\n",
      "INFO:tensorflow:Done running local_init_op.\n",
      "INFO:tensorflow:Using default config.\n",
      "WARNING:tensorflow:Using temporary folder as model directory: /tmp/tmp95r5xpkd\n",
      "INFO:tensorflow:Using config: {'_model_dir': '/tmp/tmp95r5xpkd', '_tf_random_seed': None, '_save_summary_steps': 100, '_save_checkpoints_steps': None, '_save_checkpoints_secs': 600, '_session_config': None, '_keep_checkpoint_max': 5, '_keep_checkpoint_every_n_hours': 10000, '_log_step_count_steps': 100, '_service': None, '_cluster_spec': <tensorflow.python.training.server_lib.ClusterSpec object at 0x7fb8217bd160>, '_task_type': 'worker', '_task_id': 0, '_global_id_in_cluster': 0, '_master': '', '_evaluation_master': '', '_is_chief': True, '_num_ps_replicas': 0, '_num_worker_replicas': 1}\n",
      "INFO:tensorflow:Calling model_fn.\n",
      "INFO:tensorflow:Done calling model_fn.\n",
      "INFO:tensorflow:Create CheckpointSaverHook.\n",
      "INFO:tensorflow:Graph was finalized.\n",
      "INFO:tensorflow:Running local_init_op.\n",
      "INFO:tensorflow:Done running local_init_op.\n",
      "INFO:tensorflow:Saving checkpoints for 1 into /tmp/tmp95r5xpkd/model.ckpt.\n",
      "INFO:tensorflow:loss = 225.83827, step = 0\n",
      "INFO:tensorflow:global_step/sec: 135.708\n",
      "INFO:tensorflow:loss = 45.38289, step = 100 (0.743 sec)\n",
      "INFO:tensorflow:Saving checkpoints for 200 into /tmp/tmp95r5xpkd/model.ckpt.\n",
      "INFO:tensorflow:Loss for final step: 22.406662.\n",
      "INFO:tensorflow:Calling model_fn.\n",
      "INFO:tensorflow:Done calling model_fn.\n",
      "INFO:tensorflow:Starting evaluation at 2018-05-18-14:12:36\n",
      "INFO:tensorflow:Graph was finalized.\n",
      "INFO:tensorflow:Restoring parameters from /tmp/tmp95r5xpkd/model.ckpt-200\n",
      "INFO:tensorflow:Running local_init_op.\n",
      "INFO:tensorflow:Done running local_init_op.\n",
      "INFO:tensorflow:Finished evaluation at 2018-05-18-14:12:36\n",
      "INFO:tensorflow:Saving dict for global step 200: accuracy = 0.9143969, average_loss = 0.28296, global_step = 200, loss = 28.280281\n",
      "INFO:tensorflow:Calling model_fn.\n",
      "INFO:tensorflow:Done calling model_fn.\n",
      "INFO:tensorflow:Graph was finalized.\n",
      "INFO:tensorflow:Restoring parameters from /tmp/tmp95r5xpkd/model.ckpt-200\n",
      "INFO:tensorflow:Running local_init_op.\n",
      "INFO:tensorflow:Done running local_init_op.\n",
      "INFO:tensorflow:Using default config.\n",
      "WARNING:tensorflow:Using temporary folder as model directory: /tmp/tmpzv03k3cq\n",
      "INFO:tensorflow:Using config: {'_model_dir': '/tmp/tmpzv03k3cq', '_tf_random_seed': None, '_save_summary_steps': 100, '_save_checkpoints_steps': None, '_save_checkpoints_secs': 600, '_session_config': None, '_keep_checkpoint_max': 5, '_keep_checkpoint_every_n_hours': 10000, '_log_step_count_steps': 100, '_service': None, '_cluster_spec': <tensorflow.python.training.server_lib.ClusterSpec object at 0x7fb83942d4e0>, '_task_type': 'worker', '_task_id': 0, '_global_id_in_cluster': 0, '_master': '', '_evaluation_master': '', '_is_chief': True, '_num_ps_replicas': 0, '_num_worker_replicas': 1}\n",
      "INFO:tensorflow:Calling model_fn.\n",
      "INFO:tensorflow:Done calling model_fn.\n",
      "INFO:tensorflow:Create CheckpointSaverHook.\n",
      "INFO:tensorflow:Graph was finalized.\n",
      "INFO:tensorflow:Running local_init_op.\n",
      "INFO:tensorflow:Done running local_init_op.\n",
      "INFO:tensorflow:Saving checkpoints for 1 into /tmp/tmpzv03k3cq/model.ckpt.\n",
      "INFO:tensorflow:loss = 231.50264, step = 0\n",
      "INFO:tensorflow:global_step/sec: 146.578\n",
      "INFO:tensorflow:loss = 36.091274, step = 100 (0.689 sec)\n",
      "INFO:tensorflow:global_step/sec: 154.651\n",
      "INFO:tensorflow:loss = 35.98003, step = 200 (0.646 sec)\n",
      "INFO:tensorflow:global_step/sec: 156.093\n",
      "INFO:tensorflow:loss = 23.432608, step = 300 (0.641 sec)\n",
      "INFO:tensorflow:global_step/sec: 163.735\n",
      "INFO:tensorflow:loss = 16.214008, step = 400 (0.612 sec)\n",
      "INFO:tensorflow:Saving checkpoints for 500 into /tmp/tmpzv03k3cq/model.ckpt.\n",
      "INFO:tensorflow:Loss for final step: 12.448815.\n",
      "INFO:tensorflow:Calling model_fn.\n",
      "INFO:tensorflow:Done calling model_fn.\n",
      "INFO:tensorflow:Starting evaluation at 2018-05-18-14:12:43\n",
      "INFO:tensorflow:Graph was finalized.\n",
      "INFO:tensorflow:Restoring parameters from /tmp/tmpzv03k3cq/model.ckpt-500\n",
      "INFO:tensorflow:Running local_init_op.\n",
      "INFO:tensorflow:Done running local_init_op.\n",
      "INFO:tensorflow:Finished evaluation at 2018-05-18-14:12:43\n",
      "INFO:tensorflow:Saving dict for global step 500: accuracy = 0.94178796, average_loss = 0.20320451, global_step = 500, loss = 19.548275\n",
      "INFO:tensorflow:Calling model_fn.\n",
      "INFO:tensorflow:Done calling model_fn.\n",
      "INFO:tensorflow:Graph was finalized.\n",
      "INFO:tensorflow:Restoring parameters from /tmp/tmpzv03k3cq/model.ckpt-500\n",
      "INFO:tensorflow:Running local_init_op.\n",
      "INFO:tensorflow:Done running local_init_op.\n",
      "INFO:tensorflow:Using default config.\n",
      "WARNING:tensorflow:Using temporary folder as model directory: /tmp/tmptu7jkycx\n",
      "INFO:tensorflow:Using config: {'_model_dir': '/tmp/tmptu7jkycx', '_tf_random_seed': None, '_save_summary_steps': 100, '_save_checkpoints_steps': None, '_save_checkpoints_secs': 600, '_session_config': None, '_keep_checkpoint_max': 5, '_keep_checkpoint_every_n_hours': 10000, '_log_step_count_steps': 100, '_service': None, '_cluster_spec': <tensorflow.python.training.server_lib.ClusterSpec object at 0x7fb81557ecc0>, '_task_type': 'worker', '_task_id': 0, '_global_id_in_cluster': 0, '_master': '', '_evaluation_master': '', '_is_chief': True, '_num_ps_replicas': 0, '_num_worker_replicas': 1}\n",
      "INFO:tensorflow:Calling model_fn.\n",
      "INFO:tensorflow:Done calling model_fn.\n",
      "INFO:tensorflow:Create CheckpointSaverHook.\n",
      "INFO:tensorflow:Graph was finalized.\n",
      "INFO:tensorflow:Running local_init_op.\n",
      "INFO:tensorflow:Done running local_init_op.\n",
      "INFO:tensorflow:Saving checkpoints for 1 into /tmp/tmptu7jkycx/model.ckpt.\n",
      "INFO:tensorflow:loss = 231.18974, step = 0\n",
      "INFO:tensorflow:global_step/sec: 138.368\n",
      "INFO:tensorflow:loss = 59.37335, step = 100 (0.731 sec)\n",
      "INFO:tensorflow:global_step/sec: 149.459\n",
      "INFO:tensorflow:loss = 30.335554, step = 200 (0.669 sec)\n",
      "INFO:tensorflow:global_step/sec: 155.693\n",
      "INFO:tensorflow:loss = 17.802011, step = 300 (0.640 sec)\n",
      "INFO:tensorflow:global_step/sec: 152.086\n",
      "INFO:tensorflow:loss = 41.885105, step = 400 (0.657 sec)\n",
      "INFO:tensorflow:Saving checkpoints for 500 into /tmp/tmptu7jkycx/model.ckpt.\n",
      "INFO:tensorflow:Loss for final step: 16.173796.\n",
      "INFO:tensorflow:Calling model_fn.\n",
      "INFO:tensorflow:Done calling model_fn.\n",
      "INFO:tensorflow:Starting evaluation at 2018-05-18-14:12:49\n",
      "INFO:tensorflow:Graph was finalized.\n",
      "INFO:tensorflow:Restoring parameters from /tmp/tmptu7jkycx/model.ckpt-500\n",
      "INFO:tensorflow:Running local_init_op.\n",
      "INFO:tensorflow:Done running local_init_op.\n",
      "INFO:tensorflow:Finished evaluation at 2018-05-18-14:12:50\n",
      "INFO:tensorflow:Saving dict for global step 500: accuracy = 0.9307949, average_loss = 0.25743926, global_step = 500, loss = 25.729622\n",
      "INFO:tensorflow:Calling model_fn.\n",
      "INFO:tensorflow:Done calling model_fn.\n",
      "INFO:tensorflow:Graph was finalized.\n",
      "INFO:tensorflow:Restoring parameters from /tmp/tmptu7jkycx/model.ckpt-500\n",
      "INFO:tensorflow:Running local_init_op.\n",
      "INFO:tensorflow:Done running local_init_op.\n",
      "INFO:tensorflow:Using default config.\n",
      "WARNING:tensorflow:Using temporary folder as model directory: /tmp/tmpu5qwrs6_\n",
      "INFO:tensorflow:Using config: {'_model_dir': '/tmp/tmpu5qwrs6_', '_tf_random_seed': None, '_save_summary_steps': 100, '_save_checkpoints_steps': None, '_save_checkpoints_secs': 600, '_session_config': None, '_keep_checkpoint_max': 5, '_keep_checkpoint_every_n_hours': 10000, '_log_step_count_steps': 100, '_service': None, '_cluster_spec': <tensorflow.python.training.server_lib.ClusterSpec object at 0x7fb83ef53080>, '_task_type': 'worker', '_task_id': 0, '_global_id_in_cluster': 0, '_master': '', '_evaluation_master': '', '_is_chief': True, '_num_ps_replicas': 0, '_num_worker_replicas': 1}\n",
      "INFO:tensorflow:Calling model_fn.\n",
      "INFO:tensorflow:Done calling model_fn.\n",
      "INFO:tensorflow:Create CheckpointSaverHook.\n",
      "INFO:tensorflow:Graph was finalized.\n",
      "INFO:tensorflow:Running local_init_op.\n",
      "INFO:tensorflow:Done running local_init_op.\n",
      "INFO:tensorflow:Saving checkpoints for 1 into /tmp/tmpu5qwrs6_/model.ckpt.\n",
      "INFO:tensorflow:loss = 235.00182, step = 0\n",
      "INFO:tensorflow:global_step/sec: 136.896\n",
      "INFO:tensorflow:loss = 46.686646, step = 100 (0.737 sec)\n",
      "INFO:tensorflow:global_step/sec: 150.145\n",
      "INFO:tensorflow:loss = 27.767773, step = 200 (0.665 sec)\n",
      "INFO:tensorflow:global_step/sec: 152.71\n",
      "INFO:tensorflow:loss = 28.834108, step = 300 (0.651 sec)\n",
      "INFO:tensorflow:global_step/sec: 160.801\n",
      "INFO:tensorflow:loss = 39.822735, step = 400 (0.622 sec)\n",
      "INFO:tensorflow:global_step/sec: 149.766\n",
      "INFO:tensorflow:loss = 13.411928, step = 500 (0.667 sec)\n",
      "INFO:tensorflow:global_step/sec: 148.525\n",
      "INFO:tensorflow:loss = 16.780033, step = 600 (0.677 sec)\n",
      "INFO:tensorflow:global_step/sec: 151.025\n",
      "INFO:tensorflow:loss = 13.045094, step = 700 (0.662 sec)\n",
      "INFO:tensorflow:global_step/sec: 158.94\n",
      "INFO:tensorflow:loss = 20.484934, step = 800 (0.626 sec)\n",
      "INFO:tensorflow:global_step/sec: 153.958\n",
      "INFO:tensorflow:loss = 14.181206, step = 900 (0.653 sec)\n",
      "INFO:tensorflow:Saving checkpoints for 1000 into /tmp/tmpu5qwrs6_/model.ckpt.\n",
      "INFO:tensorflow:Loss for final step: 13.854057.\n",
      "INFO:tensorflow:Calling model_fn.\n",
      "INFO:tensorflow:Done calling model_fn.\n",
      "INFO:tensorflow:Starting evaluation at 2018-05-18-14:13:00\n",
      "INFO:tensorflow:Graph was finalized.\n",
      "INFO:tensorflow:Restoring parameters from /tmp/tmpu5qwrs6_/model.ckpt-1000\n",
      "INFO:tensorflow:Running local_init_op.\n",
      "INFO:tensorflow:Done running local_init_op.\n",
      "INFO:tensorflow:Finished evaluation at 2018-05-18-14:13:00\n",
      "INFO:tensorflow:Saving dict for global step 1000: accuracy = 0.94317394, average_loss = 0.21620184, global_step = 1000, loss = 20.798616\n",
      "INFO:tensorflow:Calling model_fn.\n",
      "INFO:tensorflow:Done calling model_fn.\n",
      "INFO:tensorflow:Graph was finalized.\n"
     ]
    },
    {
     "name": "stdout",
     "output_type": "stream",
     "text": [
      "INFO:tensorflow:Restoring parameters from /tmp/tmpu5qwrs6_/model.ckpt-1000\n",
      "INFO:tensorflow:Running local_init_op.\n",
      "INFO:tensorflow:Done running local_init_op.\n",
      "INFO:tensorflow:Using default config.\n",
      "WARNING:tensorflow:Using temporary folder as model directory: /tmp/tmphzg3sj0g\n",
      "INFO:tensorflow:Using config: {'_model_dir': '/tmp/tmphzg3sj0g', '_tf_random_seed': None, '_save_summary_steps': 100, '_save_checkpoints_steps': None, '_save_checkpoints_secs': 600, '_session_config': None, '_keep_checkpoint_max': 5, '_keep_checkpoint_every_n_hours': 10000, '_log_step_count_steps': 100, '_service': None, '_cluster_spec': <tensorflow.python.training.server_lib.ClusterSpec object at 0x7fb81896c240>, '_task_type': 'worker', '_task_id': 0, '_global_id_in_cluster': 0, '_master': '', '_evaluation_master': '', '_is_chief': True, '_num_ps_replicas': 0, '_num_worker_replicas': 1}\n",
      "INFO:tensorflow:Calling model_fn.\n",
      "INFO:tensorflow:Done calling model_fn.\n",
      "INFO:tensorflow:Create CheckpointSaverHook.\n",
      "INFO:tensorflow:Graph was finalized.\n",
      "INFO:tensorflow:Running local_init_op.\n",
      "INFO:tensorflow:Done running local_init_op.\n",
      "INFO:tensorflow:Saving checkpoints for 1 into /tmp/tmphzg3sj0g/model.ckpt.\n",
      "INFO:tensorflow:loss = 223.47398, step = 0\n",
      "INFO:tensorflow:global_step/sec: 135.122\n",
      "INFO:tensorflow:loss = 16.523685, step = 100 (0.746 sec)\n",
      "INFO:tensorflow:global_step/sec: 152.7\n",
      "INFO:tensorflow:loss = 38.779003, step = 200 (0.656 sec)\n",
      "INFO:tensorflow:global_step/sec: 152.911\n",
      "INFO:tensorflow:loss = 22.075022, step = 300 (0.652 sec)\n",
      "INFO:tensorflow:global_step/sec: 154.859\n",
      "INFO:tensorflow:loss = 26.806446, step = 400 (0.648 sec)\n",
      "INFO:tensorflow:global_step/sec: 163.094\n",
      "INFO:tensorflow:loss = 16.894234, step = 500 (0.614 sec)\n",
      "INFO:tensorflow:global_step/sec: 152.387\n",
      "INFO:tensorflow:loss = 16.466011, step = 600 (0.656 sec)\n",
      "INFO:tensorflow:global_step/sec: 156.065\n",
      "INFO:tensorflow:loss = 9.086207, step = 700 (0.635 sec)\n",
      "INFO:tensorflow:global_step/sec: 156.336\n",
      "INFO:tensorflow:loss = 19.239578, step = 800 (0.643 sec)\n",
      "INFO:tensorflow:global_step/sec: 152.752\n",
      "INFO:tensorflow:loss = 15.901922, step = 900 (0.651 sec)\n",
      "INFO:tensorflow:Saving checkpoints for 1000 into /tmp/tmphzg3sj0g/model.ckpt.\n",
      "INFO:tensorflow:Loss for final step: 16.770315.\n",
      "INFO:tensorflow:Calling model_fn.\n",
      "INFO:tensorflow:Done calling model_fn.\n",
      "INFO:tensorflow:Starting evaluation at 2018-05-18-14:13:09\n",
      "INFO:tensorflow:Graph was finalized.\n",
      "INFO:tensorflow:Restoring parameters from /tmp/tmphzg3sj0g/model.ckpt-1000\n",
      "INFO:tensorflow:Running local_init_op.\n",
      "INFO:tensorflow:Done running local_init_op.\n",
      "INFO:tensorflow:Finished evaluation at 2018-05-18-14:13:10\n",
      "INFO:tensorflow:Saving dict for global step 1000: accuracy = 0.9524736, average_loss = 0.19264558, global_step = 1000, loss = 19.253855\n",
      "INFO:tensorflow:Calling model_fn.\n",
      "INFO:tensorflow:Done calling model_fn.\n",
      "INFO:tensorflow:Graph was finalized.\n",
      "INFO:tensorflow:Restoring parameters from /tmp/tmphzg3sj0g/model.ckpt-1000\n",
      "INFO:tensorflow:Running local_init_op.\n",
      "INFO:tensorflow:Done running local_init_op.\n",
      "INFO:tensorflow:Using default config.\n",
      "WARNING:tensorflow:Using temporary folder as model directory: /tmp/tmp4hspatzm\n",
      "INFO:tensorflow:Using config: {'_model_dir': '/tmp/tmp4hspatzm', '_tf_random_seed': None, '_save_summary_steps': 100, '_save_checkpoints_steps': None, '_save_checkpoints_secs': 600, '_session_config': None, '_keep_checkpoint_max': 5, '_keep_checkpoint_every_n_hours': 10000, '_log_step_count_steps': 100, '_service': None, '_cluster_spec': <tensorflow.python.training.server_lib.ClusterSpec object at 0x7fb8387f5da0>, '_task_type': 'worker', '_task_id': 0, '_global_id_in_cluster': 0, '_master': '', '_evaluation_master': '', '_is_chief': True, '_num_ps_replicas': 0, '_num_worker_replicas': 1}\n",
      "INFO:tensorflow:Calling model_fn.\n",
      "INFO:tensorflow:Done calling model_fn.\n",
      "INFO:tensorflow:Create CheckpointSaverHook.\n",
      "INFO:tensorflow:Graph was finalized.\n",
      "INFO:tensorflow:Running local_init_op.\n",
      "INFO:tensorflow:Done running local_init_op.\n",
      "INFO:tensorflow:Saving checkpoints for 1 into /tmp/tmp4hspatzm/model.ckpt.\n",
      "INFO:tensorflow:loss = 236.97891, step = 0\n",
      "INFO:tensorflow:global_step/sec: 139.428\n",
      "INFO:tensorflow:loss = 43.34318, step = 100 (0.725 sec)\n",
      "INFO:tensorflow:global_step/sec: 150.603\n",
      "INFO:tensorflow:loss = 36.379124, step = 200 (0.663 sec)\n",
      "INFO:tensorflow:global_step/sec: 144.858\n",
      "INFO:tensorflow:loss = 22.484993, step = 300 (0.685 sec)\n",
      "INFO:tensorflow:global_step/sec: 156.29\n",
      "INFO:tensorflow:loss = 25.818348, step = 400 (0.646 sec)\n",
      "INFO:tensorflow:global_step/sec: 151\n",
      "INFO:tensorflow:loss = 18.146065, step = 500 (0.659 sec)\n",
      "INFO:tensorflow:global_step/sec: 149.448\n",
      "INFO:tensorflow:loss = 25.385128, step = 600 (0.670 sec)\n",
      "INFO:tensorflow:global_step/sec: 147.6\n",
      "INFO:tensorflow:loss = 15.284464, step = 700 (0.676 sec)\n",
      "INFO:tensorflow:global_step/sec: 160.956\n",
      "INFO:tensorflow:loss = 14.119812, step = 800 (0.624 sec)\n",
      "INFO:tensorflow:global_step/sec: 151.63\n",
      "INFO:tensorflow:loss = 18.087177, step = 900 (0.654 sec)\n",
      "INFO:tensorflow:global_step/sec: 151.428\n",
      "INFO:tensorflow:loss = 16.376205, step = 1000 (0.663 sec)\n",
      "INFO:tensorflow:global_step/sec: 152.924\n",
      "INFO:tensorflow:loss = 10.43223, step = 1100 (0.652 sec)\n",
      "INFO:tensorflow:global_step/sec: 162.06\n",
      "INFO:tensorflow:loss = 13.1470585, step = 1200 (0.616 sec)\n",
      "INFO:tensorflow:global_step/sec: 153.232\n",
      "INFO:tensorflow:loss = 13.569819, step = 1300 (0.653 sec)\n",
      "INFO:tensorflow:global_step/sec: 150.427\n",
      "INFO:tensorflow:loss = 17.861805, step = 1400 (0.668 sec)\n",
      "INFO:tensorflow:Saving checkpoints for 1500 into /tmp/tmp4hspatzm/model.ckpt.\n",
      "INFO:tensorflow:Loss for final step: 13.651613.\n",
      "INFO:tensorflow:Calling model_fn.\n",
      "INFO:tensorflow:Done calling model_fn.\n",
      "INFO:tensorflow:Starting evaluation at 2018-05-18-14:13:23\n",
      "INFO:tensorflow:Graph was finalized.\n",
      "INFO:tensorflow:Restoring parameters from /tmp/tmp4hspatzm/model.ckpt-1500\n",
      "INFO:tensorflow:Running local_init_op.\n",
      "INFO:tensorflow:Done running local_init_op.\n",
      "INFO:tensorflow:Finished evaluation at 2018-05-18-14:13:23\n",
      "INFO:tensorflow:Saving dict for global step 1500: accuracy = 0.95218295, average_loss = 0.15835582, global_step = 1500, loss = 15.2338295\n",
      "INFO:tensorflow:Calling model_fn.\n",
      "INFO:tensorflow:Done calling model_fn.\n",
      "INFO:tensorflow:Graph was finalized.\n",
      "INFO:tensorflow:Restoring parameters from /tmp/tmp4hspatzm/model.ckpt-1500\n",
      "INFO:tensorflow:Running local_init_op.\n",
      "INFO:tensorflow:Done running local_init_op.\n",
      "INFO:tensorflow:Using default config.\n",
      "WARNING:tensorflow:Using temporary folder as model directory: /tmp/tmp_f71f8tr\n",
      "INFO:tensorflow:Using config: {'_model_dir': '/tmp/tmp_f71f8tr', '_tf_random_seed': None, '_save_summary_steps': 100, '_save_checkpoints_steps': None, '_save_checkpoints_secs': 600, '_session_config': None, '_keep_checkpoint_max': 5, '_keep_checkpoint_every_n_hours': 10000, '_log_step_count_steps': 100, '_service': None, '_cluster_spec': <tensorflow.python.training.server_lib.ClusterSpec object at 0x7fb8390926a0>, '_task_type': 'worker', '_task_id': 0, '_global_id_in_cluster': 0, '_master': '', '_evaluation_master': '', '_is_chief': True, '_num_ps_replicas': 0, '_num_worker_replicas': 1}\n",
      "INFO:tensorflow:Calling model_fn.\n",
      "INFO:tensorflow:Done calling model_fn.\n",
      "INFO:tensorflow:Create CheckpointSaverHook.\n",
      "INFO:tensorflow:Graph was finalized.\n",
      "INFO:tensorflow:Running local_init_op.\n",
      "INFO:tensorflow:Done running local_init_op.\n",
      "INFO:tensorflow:Saving checkpoints for 1 into /tmp/tmp_f71f8tr/model.ckpt.\n",
      "INFO:tensorflow:loss = 237.907, step = 0\n",
      "INFO:tensorflow:global_step/sec: 137.61\n",
      "INFO:tensorflow:loss = 31.002203, step = 100 (0.731 sec)\n",
      "INFO:tensorflow:global_step/sec: 152.251\n",
      "INFO:tensorflow:loss = 26.928226, step = 200 (0.662 sec)\n",
      "INFO:tensorflow:global_step/sec: 151.185\n",
      "INFO:tensorflow:loss = 26.807182, step = 300 (0.662 sec)\n",
      "INFO:tensorflow:global_step/sec: 147.308\n",
      "INFO:tensorflow:loss = 11.58944, step = 400 (0.673 sec)\n",
      "INFO:tensorflow:global_step/sec: 160.36\n",
      "INFO:tensorflow:loss = 22.169535, step = 500 (0.628 sec)\n",
      "INFO:tensorflow:global_step/sec: 152.442\n",
      "INFO:tensorflow:loss = 26.420492, step = 600 (0.653 sec)\n",
      "INFO:tensorflow:global_step/sec: 155.249\n",
      "INFO:tensorflow:loss = 6.2050157, step = 700 (0.640 sec)\n",
      "INFO:tensorflow:global_step/sec: 154.055\n",
      "INFO:tensorflow:loss = 17.285154, step = 800 (0.656 sec)\n",
      "INFO:tensorflow:global_step/sec: 154.312\n",
      "INFO:tensorflow:loss = 16.83359, step = 900 (0.646 sec)\n",
      "INFO:tensorflow:global_step/sec: 161.13\n",
      "INFO:tensorflow:loss = 12.165175, step = 1000 (0.617 sec)\n",
      "INFO:tensorflow:global_step/sec: 151.678\n",
      "INFO:tensorflow:loss = 20.998133, step = 1100 (0.659 sec)\n",
      "INFO:tensorflow:global_step/sec: 144.867\n",
      "INFO:tensorflow:loss = 18.615616, step = 1200 (0.693 sec)\n",
      "INFO:tensorflow:global_step/sec: 150.775\n",
      "INFO:tensorflow:loss = 7.672906, step = 1300 (0.665 sec)\n",
      "INFO:tensorflow:global_step/sec: 159.141\n",
      "INFO:tensorflow:loss = 11.526229, step = 1400 (0.628 sec)\n",
      "INFO:tensorflow:Saving checkpoints for 1500 into /tmp/tmp_f71f8tr/model.ckpt.\n",
      "INFO:tensorflow:Loss for final step: 22.533587.\n",
      "INFO:tensorflow:Calling model_fn.\n",
      "INFO:tensorflow:Done calling model_fn.\n",
      "INFO:tensorflow:Starting evaluation at 2018-05-18-14:13:36\n",
      "INFO:tensorflow:Graph was finalized.\n",
      "INFO:tensorflow:Restoring parameters from /tmp/tmp_f71f8tr/model.ckpt-1500\n",
      "INFO:tensorflow:Running local_init_op.\n",
      "INFO:tensorflow:Done running local_init_op.\n",
      "INFO:tensorflow:Finished evaluation at 2018-05-18-14:13:36\n",
      "INFO:tensorflow:Saving dict for global step 1500: accuracy = 0.9535853, average_loss = 0.17350815, global_step = 1500, loss = 17.341177\n",
      "INFO:tensorflow:Calling model_fn.\n",
      "INFO:tensorflow:Done calling model_fn.\n",
      "INFO:tensorflow:Graph was finalized.\n",
      "INFO:tensorflow:Restoring parameters from /tmp/tmp_f71f8tr/model.ckpt-1500\n",
      "INFO:tensorflow:Running local_init_op.\n",
      "INFO:tensorflow:Done running local_init_op.\n",
      "INFO:tensorflow:Using default config.\n",
      "WARNING:tensorflow:Using temporary folder as model directory: /tmp/tmpulwq90a0\n",
      "INFO:tensorflow:Using config: {'_model_dir': '/tmp/tmpulwq90a0', '_tf_random_seed': None, '_save_summary_steps': 100, '_save_checkpoints_steps': None, '_save_checkpoints_secs': 600, '_session_config': None, '_keep_checkpoint_max': 5, '_keep_checkpoint_every_n_hours': 10000, '_log_step_count_steps': 100, '_service': None, '_cluster_spec': <tensorflow.python.training.server_lib.ClusterSpec object at 0x7fb818a1a2e8>, '_task_type': 'worker', '_task_id': 0, '_global_id_in_cluster': 0, '_master': '', '_evaluation_master': '', '_is_chief': True, '_num_ps_replicas': 0, '_num_worker_replicas': 1}\n",
      "INFO:tensorflow:Calling model_fn.\n",
      "INFO:tensorflow:Done calling model_fn.\n",
      "INFO:tensorflow:Create CheckpointSaverHook.\n",
      "INFO:tensorflow:Graph was finalized.\n",
      "INFO:tensorflow:Running local_init_op.\n",
      "INFO:tensorflow:Done running local_init_op.\n",
      "INFO:tensorflow:Saving checkpoints for 1 into /tmp/tmpulwq90a0/model.ckpt.\n",
      "INFO:tensorflow:loss = 222.41768, step = 0\n",
      "INFO:tensorflow:global_step/sec: 140.473\n",
      "INFO:tensorflow:loss = 25.589596, step = 100 (0.720 sec)\n",
      "INFO:tensorflow:global_step/sec: 150.056\n"
     ]
    },
    {
     "name": "stdout",
     "output_type": "stream",
     "text": [
      "INFO:tensorflow:loss = 23.385185, step = 200 (0.664 sec)\n",
      "INFO:tensorflow:global_step/sec: 150.13\n",
      "INFO:tensorflow:loss = 18.381353, step = 300 (0.666 sec)\n",
      "INFO:tensorflow:global_step/sec: 163.207\n",
      "INFO:tensorflow:loss = 19.486864, step = 400 (0.612 sec)\n",
      "INFO:tensorflow:global_step/sec: 145.645\n",
      "INFO:tensorflow:loss = 56.842125, step = 500 (0.687 sec)\n",
      "INFO:tensorflow:global_step/sec: 150.051\n",
      "INFO:tensorflow:loss = 12.453662, step = 600 (0.669 sec)\n",
      "INFO:tensorflow:global_step/sec: 148.002\n",
      "INFO:tensorflow:loss = 13.395417, step = 700 (0.673 sec)\n",
      "INFO:tensorflow:global_step/sec: 160.816\n",
      "INFO:tensorflow:loss = 14.164236, step = 800 (0.619 sec)\n",
      "INFO:tensorflow:global_step/sec: 140.29\n",
      "INFO:tensorflow:loss = 4.885066, step = 900 (0.716 sec)\n",
      "INFO:tensorflow:global_step/sec: 152.432\n",
      "INFO:tensorflow:loss = 14.196817, step = 1000 (0.658 sec)\n",
      "INFO:tensorflow:global_step/sec: 150.545\n",
      "INFO:tensorflow:loss = 8.969797, step = 1100 (0.664 sec)\n",
      "INFO:tensorflow:global_step/sec: 159.465\n",
      "INFO:tensorflow:loss = 15.099029, step = 1200 (0.625 sec)\n",
      "INFO:tensorflow:global_step/sec: 149.314\n",
      "INFO:tensorflow:loss = 10.445736, step = 1300 (0.673 sec)\n",
      "INFO:tensorflow:global_step/sec: 149.21\n",
      "INFO:tensorflow:loss = 10.877289, step = 1400 (0.669 sec)\n",
      "INFO:tensorflow:global_step/sec: 145.846\n",
      "INFO:tensorflow:loss = 11.340086, step = 1500 (0.685 sec)\n",
      "INFO:tensorflow:global_step/sec: 161.621\n",
      "INFO:tensorflow:loss = 14.65677, step = 1600 (0.613 sec)\n",
      "INFO:tensorflow:global_step/sec: 153.662\n",
      "INFO:tensorflow:loss = 9.787931, step = 1700 (0.652 sec)\n",
      "INFO:tensorflow:global_step/sec: 149.681\n",
      "INFO:tensorflow:loss = 13.317334, step = 1800 (0.674 sec)\n",
      "INFO:tensorflow:global_step/sec: 154.864\n",
      "INFO:tensorflow:loss = 4.893066, step = 1900 (0.648 sec)\n",
      "INFO:tensorflow:Saving checkpoints for 2000 into /tmp/tmpulwq90a0/model.ckpt.\n",
      "INFO:tensorflow:Loss for final step: 10.5011425.\n",
      "INFO:tensorflow:Calling model_fn.\n",
      "INFO:tensorflow:Done calling model_fn.\n",
      "INFO:tensorflow:Starting evaluation at 2018-05-18-14:13:53\n",
      "INFO:tensorflow:Graph was finalized.\n",
      "INFO:tensorflow:Restoring parameters from /tmp/tmpulwq90a0/model.ckpt-2000\n",
      "INFO:tensorflow:Running local_init_op.\n",
      "INFO:tensorflow:Done running local_init_op.\n",
      "INFO:tensorflow:Finished evaluation at 2018-05-18-14:13:53\n",
      "INFO:tensorflow:Saving dict for global step 2000: accuracy = 0.96812195, average_loss = 0.10937426, global_step = 2000, loss = 10.521804\n",
      "INFO:tensorflow:Calling model_fn.\n",
      "INFO:tensorflow:Done calling model_fn.\n",
      "INFO:tensorflow:Graph was finalized.\n",
      "INFO:tensorflow:Restoring parameters from /tmp/tmpulwq90a0/model.ckpt-2000\n",
      "INFO:tensorflow:Running local_init_op.\n",
      "INFO:tensorflow:Done running local_init_op.\n",
      "INFO:tensorflow:Using default config.\n",
      "WARNING:tensorflow:Using temporary folder as model directory: /tmp/tmpnfna6mo3\n",
      "INFO:tensorflow:Using config: {'_model_dir': '/tmp/tmpnfna6mo3', '_tf_random_seed': None, '_save_summary_steps': 100, '_save_checkpoints_steps': None, '_save_checkpoints_secs': 600, '_session_config': None, '_keep_checkpoint_max': 5, '_keep_checkpoint_every_n_hours': 10000, '_log_step_count_steps': 100, '_service': None, '_cluster_spec': <tensorflow.python.training.server_lib.ClusterSpec object at 0x7fb8189b6278>, '_task_type': 'worker', '_task_id': 0, '_global_id_in_cluster': 0, '_master': '', '_evaluation_master': '', '_is_chief': True, '_num_ps_replicas': 0, '_num_worker_replicas': 1}\n",
      "INFO:tensorflow:Calling model_fn.\n",
      "INFO:tensorflow:Done calling model_fn.\n",
      "INFO:tensorflow:Create CheckpointSaverHook.\n",
      "INFO:tensorflow:Graph was finalized.\n",
      "INFO:tensorflow:Running local_init_op.\n",
      "INFO:tensorflow:Done running local_init_op.\n",
      "INFO:tensorflow:Saving checkpoints for 1 into /tmp/tmpnfna6mo3/model.ckpt.\n",
      "INFO:tensorflow:loss = 230.2588, step = 0\n",
      "INFO:tensorflow:global_step/sec: 145.139\n",
      "INFO:tensorflow:loss = 37.986496, step = 100 (0.697 sec)\n",
      "INFO:tensorflow:global_step/sec: 156.15\n",
      "INFO:tensorflow:loss = 26.442188, step = 200 (0.641 sec)\n",
      "INFO:tensorflow:global_step/sec: 158.532\n",
      "INFO:tensorflow:loss = 17.002966, step = 300 (0.631 sec)\n",
      "INFO:tensorflow:global_step/sec: 154.693\n",
      "INFO:tensorflow:loss = 13.458773, step = 400 (0.646 sec)\n",
      "INFO:tensorflow:global_step/sec: 151.55\n",
      "INFO:tensorflow:loss = 18.942709, step = 500 (0.655 sec)\n",
      "INFO:tensorflow:global_step/sec: 152.55\n",
      "INFO:tensorflow:loss = 27.624277, step = 600 (0.658 sec)\n",
      "INFO:tensorflow:global_step/sec: 157.312\n",
      "INFO:tensorflow:loss = 16.543344, step = 700 (0.636 sec)\n",
      "INFO:tensorflow:global_step/sec: 162.034\n",
      "INFO:tensorflow:loss = 23.177982, step = 800 (0.613 sec)\n",
      "INFO:tensorflow:global_step/sec: 154.322\n",
      "INFO:tensorflow:loss = 13.284654, step = 900 (0.653 sec)\n",
      "INFO:tensorflow:global_step/sec: 156.889\n",
      "INFO:tensorflow:loss = 24.368248, step = 1000 (0.638 sec)\n",
      "INFO:tensorflow:global_step/sec: 156.26\n",
      "INFO:tensorflow:loss = 25.626371, step = 1100 (0.637 sec)\n",
      "INFO:tensorflow:global_step/sec: 153.866\n",
      "INFO:tensorflow:loss = 16.947155, step = 1200 (0.654 sec)\n",
      "INFO:tensorflow:global_step/sec: 156.264\n",
      "INFO:tensorflow:loss = 23.98788, step = 1300 (0.633 sec)\n",
      "INFO:tensorflow:global_step/sec: 158.149\n",
      "INFO:tensorflow:loss = 15.012004, step = 1400 (0.633 sec)\n",
      "INFO:tensorflow:global_step/sec: 156.153\n",
      "INFO:tensorflow:loss = 16.543259, step = 1500 (0.644 sec)\n",
      "INFO:tensorflow:global_step/sec: 155.694\n",
      "INFO:tensorflow:loss = 18.50201, step = 1600 (0.644 sec)\n",
      "INFO:tensorflow:global_step/sec: 154.701\n",
      "INFO:tensorflow:loss = 8.240073, step = 1700 (0.647 sec)\n",
      "INFO:tensorflow:global_step/sec: 152.076\n",
      "INFO:tensorflow:loss = 14.77062, step = 1800 (0.658 sec)\n",
      "INFO:tensorflow:global_step/sec: 157.36\n",
      "INFO:tensorflow:loss = 22.444145, step = 1900 (0.633 sec)\n",
      "INFO:tensorflow:Saving checkpoints for 2000 into /tmp/tmpnfna6mo3/model.ckpt.\n",
      "INFO:tensorflow:Loss for final step: 5.2442575.\n",
      "INFO:tensorflow:Calling model_fn.\n",
      "INFO:tensorflow:Done calling model_fn.\n",
      "INFO:tensorflow:Starting evaluation at 2018-05-18-14:14:09\n",
      "INFO:tensorflow:Graph was finalized.\n",
      "INFO:tensorflow:Restoring parameters from /tmp/tmpnfna6mo3/model.ckpt-2000\n",
      "INFO:tensorflow:Running local_init_op.\n",
      "INFO:tensorflow:Done running local_init_op.\n",
      "INFO:tensorflow:Finished evaluation at 2018-05-18-14:14:09\n",
      "INFO:tensorflow:Saving dict for global step 2000: accuracy = 0.96414673, average_loss = 0.16861147, global_step = 2000, loss = 16.85178\n",
      "INFO:tensorflow:Calling model_fn.\n",
      "INFO:tensorflow:Done calling model_fn.\n",
      "INFO:tensorflow:Graph was finalized.\n",
      "INFO:tensorflow:Restoring parameters from /tmp/tmpnfna6mo3/model.ckpt-2000\n",
      "INFO:tensorflow:Running local_init_op.\n",
      "INFO:tensorflow:Done running local_init_op.\n",
      "INFO:tensorflow:Using default config.\n",
      "WARNING:tensorflow:Using temporary folder as model directory: /tmp/tmpjouid7p_\n",
      "INFO:tensorflow:Using config: {'_model_dir': '/tmp/tmpjouid7p_', '_tf_random_seed': None, '_save_summary_steps': 100, '_save_checkpoints_steps': None, '_save_checkpoints_secs': 600, '_session_config': None, '_keep_checkpoint_max': 5, '_keep_checkpoint_every_n_hours': 10000, '_log_step_count_steps': 100, '_service': None, '_cluster_spec': <tensorflow.python.training.server_lib.ClusterSpec object at 0x7fb8217c75f8>, '_task_type': 'worker', '_task_id': 0, '_global_id_in_cluster': 0, '_master': '', '_evaluation_master': '', '_is_chief': True, '_num_ps_replicas': 0, '_num_worker_replicas': 1}\n",
      "INFO:tensorflow:Calling model_fn.\n",
      "INFO:tensorflow:Done calling model_fn.\n",
      "INFO:tensorflow:Create CheckpointSaverHook.\n",
      "INFO:tensorflow:Graph was finalized.\n",
      "INFO:tensorflow:Running local_init_op.\n",
      "INFO:tensorflow:Done running local_init_op.\n",
      "INFO:tensorflow:Saving checkpoints for 1 into /tmp/tmpjouid7p_/model.ckpt.\n",
      "INFO:tensorflow:loss = 228.72774, step = 0\n",
      "INFO:tensorflow:Saving checkpoints for 100 into /tmp/tmpjouid7p_/model.ckpt.\n",
      "INFO:tensorflow:Loss for final step: 17.135927.\n",
      "INFO:tensorflow:Calling model_fn.\n",
      "INFO:tensorflow:Done calling model_fn.\n",
      "INFO:tensorflow:Starting evaluation at 2018-05-18-14:14:13\n",
      "INFO:tensorflow:Graph was finalized.\n",
      "INFO:tensorflow:Restoring parameters from /tmp/tmpjouid7p_/model.ckpt-100\n",
      "INFO:tensorflow:Running local_init_op.\n",
      "INFO:tensorflow:Done running local_init_op.\n",
      "INFO:tensorflow:Finished evaluation at 2018-05-18-14:14:14\n",
      "INFO:tensorflow:Saving dict for global step 100: accuracy = 0.96119195, average_loss = 0.13687764, global_step = 100, loss = 13.167629\n",
      "INFO:tensorflow:Calling model_fn.\n",
      "INFO:tensorflow:Done calling model_fn.\n",
      "INFO:tensorflow:Graph was finalized.\n",
      "INFO:tensorflow:Restoring parameters from /tmp/tmpjouid7p_/model.ckpt-100\n",
      "INFO:tensorflow:Running local_init_op.\n",
      "INFO:tensorflow:Done running local_init_op.\n",
      "INFO:tensorflow:Using default config.\n",
      "WARNING:tensorflow:Using temporary folder as model directory: /tmp/tmpjf63x6ay\n",
      "INFO:tensorflow:Using config: {'_model_dir': '/tmp/tmpjf63x6ay', '_tf_random_seed': None, '_save_summary_steps': 100, '_save_checkpoints_steps': None, '_save_checkpoints_secs': 600, '_session_config': None, '_keep_checkpoint_max': 5, '_keep_checkpoint_every_n_hours': 10000, '_log_step_count_steps': 100, '_service': None, '_cluster_spec': <tensorflow.python.training.server_lib.ClusterSpec object at 0x7fb8155c8c88>, '_task_type': 'worker', '_task_id': 0, '_global_id_in_cluster': 0, '_master': '', '_evaluation_master': '', '_is_chief': True, '_num_ps_replicas': 0, '_num_worker_replicas': 1}\n",
      "INFO:tensorflow:Calling model_fn.\n",
      "INFO:tensorflow:Done calling model_fn.\n",
      "INFO:tensorflow:Create CheckpointSaverHook.\n",
      "INFO:tensorflow:Graph was finalized.\n",
      "INFO:tensorflow:Running local_init_op.\n",
      "INFO:tensorflow:Done running local_init_op.\n",
      "INFO:tensorflow:Saving checkpoints for 1 into /tmp/tmpjf63x6ay/model.ckpt.\n",
      "INFO:tensorflow:loss = 240.46242, step = 0\n",
      "INFO:tensorflow:Saving checkpoints for 100 into /tmp/tmpjf63x6ay/model.ckpt.\n",
      "INFO:tensorflow:Loss for final step: 14.453846.\n",
      "INFO:tensorflow:Calling model_fn.\n",
      "INFO:tensorflow:Done calling model_fn.\n",
      "INFO:tensorflow:Starting evaluation at 2018-05-18-14:14:17\n",
      "INFO:tensorflow:Graph was finalized.\n",
      "INFO:tensorflow:Restoring parameters from /tmp/tmpjf63x6ay/model.ckpt-100\n",
      "INFO:tensorflow:Running local_init_op.\n",
      "INFO:tensorflow:Done running local_init_op.\n",
      "INFO:tensorflow:Finished evaluation at 2018-05-18-14:14:18\n",
      "INFO:tensorflow:Saving dict for global step 100: accuracy = 0.9535853, average_loss = 0.17315565, global_step = 100, loss = 17.305946\n",
      "INFO:tensorflow:Calling model_fn.\n",
      "INFO:tensorflow:Done calling model_fn.\n",
      "INFO:tensorflow:Graph was finalized.\n",
      "INFO:tensorflow:Restoring parameters from /tmp/tmpjf63x6ay/model.ckpt-100\n",
      "INFO:tensorflow:Running local_init_op.\n",
      "INFO:tensorflow:Done running local_init_op.\n",
      "INFO:tensorflow:Using default config.\n",
      "WARNING:tensorflow:Using temporary folder as model directory: /tmp/tmpo8ef8gh6\n",
      "INFO:tensorflow:Using config: {'_model_dir': '/tmp/tmpo8ef8gh6', '_tf_random_seed': None, '_save_summary_steps': 100, '_save_checkpoints_steps': None, '_save_checkpoints_secs': 600, '_session_config': None, '_keep_checkpoint_max': 5, '_keep_checkpoint_every_n_hours': 10000, '_log_step_count_steps': 100, '_service': None, '_cluster_spec': <tensorflow.python.training.server_lib.ClusterSpec object at 0x7fb8219926d8>, '_task_type': 'worker', '_task_id': 0, '_global_id_in_cluster': 0, '_master': '', '_evaluation_master': '', '_is_chief': True, '_num_ps_replicas': 0, '_num_worker_replicas': 1}\n",
      "INFO:tensorflow:Calling model_fn.\n"
     ]
    },
    {
     "name": "stdout",
     "output_type": "stream",
     "text": [
      "INFO:tensorflow:Done calling model_fn.\n",
      "INFO:tensorflow:Create CheckpointSaverHook.\n",
      "INFO:tensorflow:Graph was finalized.\n",
      "INFO:tensorflow:Running local_init_op.\n",
      "INFO:tensorflow:Done running local_init_op.\n",
      "INFO:tensorflow:Saving checkpoints for 1 into /tmp/tmpo8ef8gh6/model.ckpt.\n",
      "INFO:tensorflow:loss = 224.51231, step = 0\n",
      "INFO:tensorflow:global_step/sec: 143.275\n",
      "INFO:tensorflow:loss = 13.215229, step = 100 (0.706 sec)\n",
      "INFO:tensorflow:Saving checkpoints for 200 into /tmp/tmpo8ef8gh6/model.ckpt.\n",
      "INFO:tensorflow:Loss for final step: 11.205356.\n",
      "INFO:tensorflow:Calling model_fn.\n",
      "INFO:tensorflow:Done calling model_fn.\n",
      "INFO:tensorflow:Starting evaluation at 2018-05-18-14:14:22\n",
      "INFO:tensorflow:Graph was finalized.\n",
      "INFO:tensorflow:Restoring parameters from /tmp/tmpo8ef8gh6/model.ckpt-200\n",
      "INFO:tensorflow:Running local_init_op.\n",
      "INFO:tensorflow:Done running local_init_op.\n",
      "INFO:tensorflow:Finished evaluation at 2018-05-18-14:14:22\n",
      "INFO:tensorflow:Saving dict for global step 200: accuracy = 0.96257794, average_loss = 0.11917561, global_step = 200, loss = 11.464694\n",
      "INFO:tensorflow:Calling model_fn.\n",
      "INFO:tensorflow:Done calling model_fn.\n",
      "INFO:tensorflow:Graph was finalized.\n",
      "INFO:tensorflow:Restoring parameters from /tmp/tmpo8ef8gh6/model.ckpt-200\n",
      "INFO:tensorflow:Running local_init_op.\n",
      "INFO:tensorflow:Done running local_init_op.\n",
      "INFO:tensorflow:Using default config.\n",
      "WARNING:tensorflow:Using temporary folder as model directory: /tmp/tmpnop8rclf\n",
      "INFO:tensorflow:Using config: {'_model_dir': '/tmp/tmpnop8rclf', '_tf_random_seed': None, '_save_summary_steps': 100, '_save_checkpoints_steps': None, '_save_checkpoints_secs': 600, '_session_config': None, '_keep_checkpoint_max': 5, '_keep_checkpoint_every_n_hours': 10000, '_log_step_count_steps': 100, '_service': None, '_cluster_spec': <tensorflow.python.training.server_lib.ClusterSpec object at 0x7fb818a9ad68>, '_task_type': 'worker', '_task_id': 0, '_global_id_in_cluster': 0, '_master': '', '_evaluation_master': '', '_is_chief': True, '_num_ps_replicas': 0, '_num_worker_replicas': 1}\n",
      "INFO:tensorflow:Calling model_fn.\n",
      "INFO:tensorflow:Done calling model_fn.\n",
      "INFO:tensorflow:Create CheckpointSaverHook.\n",
      "INFO:tensorflow:Graph was finalized.\n",
      "INFO:tensorflow:Running local_init_op.\n",
      "INFO:tensorflow:Done running local_init_op.\n",
      "INFO:tensorflow:Saving checkpoints for 1 into /tmp/tmpnop8rclf/model.ckpt.\n",
      "INFO:tensorflow:loss = 224.41197, step = 0\n",
      "INFO:tensorflow:global_step/sec: 143.898\n",
      "INFO:tensorflow:loss = 19.101492, step = 100 (0.701 sec)\n",
      "INFO:tensorflow:Saving checkpoints for 200 into /tmp/tmpnop8rclf/model.ckpt.\n",
      "INFO:tensorflow:Loss for final step: 2.370034.\n",
      "INFO:tensorflow:Calling model_fn.\n",
      "INFO:tensorflow:Done calling model_fn.\n",
      "INFO:tensorflow:Starting evaluation at 2018-05-18-14:14:27\n",
      "INFO:tensorflow:Graph was finalized.\n",
      "INFO:tensorflow:Restoring parameters from /tmp/tmpnop8rclf/model.ckpt-200\n",
      "INFO:tensorflow:Running local_init_op.\n",
      "INFO:tensorflow:Done running local_init_op.\n",
      "INFO:tensorflow:Finished evaluation at 2018-05-18-14:14:27\n",
      "INFO:tensorflow:Saving dict for global step 200: accuracy = 0.9788771, average_loss = 0.08818945, global_step = 200, loss = 8.814046\n",
      "INFO:tensorflow:Calling model_fn.\n",
      "INFO:tensorflow:Done calling model_fn.\n",
      "INFO:tensorflow:Graph was finalized.\n",
      "INFO:tensorflow:Restoring parameters from /tmp/tmpnop8rclf/model.ckpt-200\n",
      "INFO:tensorflow:Running local_init_op.\n",
      "INFO:tensorflow:Done running local_init_op.\n",
      "INFO:tensorflow:Using default config.\n",
      "WARNING:tensorflow:Using temporary folder as model directory: /tmp/tmpxbmb848y\n",
      "INFO:tensorflow:Using config: {'_model_dir': '/tmp/tmpxbmb848y', '_tf_random_seed': None, '_save_summary_steps': 100, '_save_checkpoints_steps': None, '_save_checkpoints_secs': 600, '_session_config': None, '_keep_checkpoint_max': 5, '_keep_checkpoint_every_n_hours': 10000, '_log_step_count_steps': 100, '_service': None, '_cluster_spec': <tensorflow.python.training.server_lib.ClusterSpec object at 0x7fb818972b70>, '_task_type': 'worker', '_task_id': 0, '_global_id_in_cluster': 0, '_master': '', '_evaluation_master': '', '_is_chief': True, '_num_ps_replicas': 0, '_num_worker_replicas': 1}\n",
      "INFO:tensorflow:Calling model_fn.\n",
      "INFO:tensorflow:Done calling model_fn.\n",
      "INFO:tensorflow:Create CheckpointSaverHook.\n",
      "INFO:tensorflow:Graph was finalized.\n",
      "INFO:tensorflow:Running local_init_op.\n",
      "INFO:tensorflow:Done running local_init_op.\n",
      "INFO:tensorflow:Saving checkpoints for 1 into /tmp/tmpxbmb848y/model.ckpt.\n",
      "INFO:tensorflow:loss = 227.67427, step = 0\n",
      "INFO:tensorflow:global_step/sec: 145.075\n",
      "INFO:tensorflow:loss = 38.193306, step = 100 (0.693 sec)\n",
      "INFO:tensorflow:global_step/sec: 150.255\n",
      "INFO:tensorflow:loss = 19.342361, step = 200 (0.669 sec)\n",
      "INFO:tensorflow:global_step/sec: 145.604\n",
      "INFO:tensorflow:loss = 7.3945866, step = 300 (0.683 sec)\n",
      "INFO:tensorflow:global_step/sec: 162.814\n",
      "INFO:tensorflow:loss = 5.882805, step = 400 (0.614 sec)\n",
      "INFO:tensorflow:Saving checkpoints for 500 into /tmp/tmpxbmb848y/model.ckpt.\n",
      "INFO:tensorflow:Loss for final step: 2.749222.\n",
      "INFO:tensorflow:Calling model_fn.\n",
      "INFO:tensorflow:Done calling model_fn.\n",
      "INFO:tensorflow:Starting evaluation at 2018-05-18-14:14:34\n",
      "INFO:tensorflow:Graph was finalized.\n",
      "INFO:tensorflow:Restoring parameters from /tmp/tmpxbmb848y/model.ckpt-500\n",
      "INFO:tensorflow:Running local_init_op.\n",
      "INFO:tensorflow:Done running local_init_op.\n",
      "INFO:tensorflow:Finished evaluation at 2018-05-18-14:14:34\n",
      "INFO:tensorflow:Saving dict for global step 500: accuracy = 0.979903, average_loss = 0.07104983, global_step = 500, loss = 6.834994\n",
      "INFO:tensorflow:Calling model_fn.\n",
      "INFO:tensorflow:Done calling model_fn.\n",
      "INFO:tensorflow:Graph was finalized.\n",
      "INFO:tensorflow:Restoring parameters from /tmp/tmpxbmb848y/model.ckpt-500\n",
      "INFO:tensorflow:Running local_init_op.\n",
      "INFO:tensorflow:Done running local_init_op.\n",
      "INFO:tensorflow:Using default config.\n",
      "WARNING:tensorflow:Using temporary folder as model directory: /tmp/tmpl7f9mi1l\n",
      "INFO:tensorflow:Using config: {'_model_dir': '/tmp/tmpl7f9mi1l', '_tf_random_seed': None, '_save_summary_steps': 100, '_save_checkpoints_steps': None, '_save_checkpoints_secs': 600, '_session_config': None, '_keep_checkpoint_max': 5, '_keep_checkpoint_every_n_hours': 10000, '_log_step_count_steps': 100, '_service': None, '_cluster_spec': <tensorflow.python.training.server_lib.ClusterSpec object at 0x7fb818962d68>, '_task_type': 'worker', '_task_id': 0, '_global_id_in_cluster': 0, '_master': '', '_evaluation_master': '', '_is_chief': True, '_num_ps_replicas': 0, '_num_worker_replicas': 1}\n",
      "INFO:tensorflow:Calling model_fn.\n",
      "INFO:tensorflow:Done calling model_fn.\n",
      "INFO:tensorflow:Create CheckpointSaverHook.\n",
      "INFO:tensorflow:Graph was finalized.\n",
      "INFO:tensorflow:Running local_init_op.\n",
      "INFO:tensorflow:Done running local_init_op.\n",
      "INFO:tensorflow:Saving checkpoints for 1 into /tmp/tmpl7f9mi1l/model.ckpt.\n",
      "INFO:tensorflow:loss = 234.0171, step = 0\n",
      "INFO:tensorflow:global_step/sec: 142.26\n",
      "INFO:tensorflow:loss = 15.529123, step = 100 (0.708 sec)\n",
      "INFO:tensorflow:global_step/sec: 150.457\n",
      "INFO:tensorflow:loss = 6.764721, step = 200 (0.665 sec)\n",
      "INFO:tensorflow:global_step/sec: 145.748\n",
      "INFO:tensorflow:loss = 3.5228593, step = 300 (0.685 sec)\n",
      "INFO:tensorflow:global_step/sec: 148.352\n",
      "INFO:tensorflow:loss = 6.01882, step = 400 (0.676 sec)\n",
      "INFO:tensorflow:Saving checkpoints for 500 into /tmp/tmpl7f9mi1l/model.ckpt.\n",
      "INFO:tensorflow:Loss for final step: 2.2496834.\n",
      "INFO:tensorflow:Calling model_fn.\n",
      "INFO:tensorflow:Done calling model_fn.\n",
      "INFO:tensorflow:Starting evaluation at 2018-05-18-14:14:40\n",
      "INFO:tensorflow:Graph was finalized.\n",
      "INFO:tensorflow:Restoring parameters from /tmp/tmpl7f9mi1l/model.ckpt-500\n",
      "INFO:tensorflow:Running local_init_op.\n",
      "INFO:tensorflow:Done running local_init_op.\n",
      "INFO:tensorflow:Finished evaluation at 2018-05-18-14:14:41\n",
      "INFO:tensorflow:Saving dict for global step 500: accuracy = 0.979433, average_loss = 0.08878804, global_step = 500, loss = 8.873872\n",
      "INFO:tensorflow:Calling model_fn.\n",
      "INFO:tensorflow:Done calling model_fn.\n",
      "INFO:tensorflow:Graph was finalized.\n",
      "INFO:tensorflow:Restoring parameters from /tmp/tmpl7f9mi1l/model.ckpt-500\n",
      "INFO:tensorflow:Running local_init_op.\n",
      "INFO:tensorflow:Done running local_init_op.\n",
      "INFO:tensorflow:Using default config.\n",
      "WARNING:tensorflow:Using temporary folder as model directory: /tmp/tmp7_lz9s92\n",
      "INFO:tensorflow:Using config: {'_model_dir': '/tmp/tmp7_lz9s92', '_tf_random_seed': None, '_save_summary_steps': 100, '_save_checkpoints_steps': None, '_save_checkpoints_secs': 600, '_session_config': None, '_keep_checkpoint_max': 5, '_keep_checkpoint_every_n_hours': 10000, '_log_step_count_steps': 100, '_service': None, '_cluster_spec': <tensorflow.python.training.server_lib.ClusterSpec object at 0x7fb8189b6518>, '_task_type': 'worker', '_task_id': 0, '_global_id_in_cluster': 0, '_master': '', '_evaluation_master': '', '_is_chief': True, '_num_ps_replicas': 0, '_num_worker_replicas': 1}\n",
      "INFO:tensorflow:Calling model_fn.\n",
      "INFO:tensorflow:Done calling model_fn.\n",
      "INFO:tensorflow:Create CheckpointSaverHook.\n",
      "INFO:tensorflow:Graph was finalized.\n",
      "INFO:tensorflow:Running local_init_op.\n",
      "INFO:tensorflow:Done running local_init_op.\n",
      "INFO:tensorflow:Saving checkpoints for 1 into /tmp/tmp7_lz9s92/model.ckpt.\n",
      "INFO:tensorflow:loss = 226.6242, step = 0\n",
      "INFO:tensorflow:global_step/sec: 139.719\n",
      "INFO:tensorflow:loss = 21.812042, step = 100 (0.718 sec)\n",
      "INFO:tensorflow:global_step/sec: 148.613\n",
      "INFO:tensorflow:loss = 11.905174, step = 200 (0.676 sec)\n",
      "INFO:tensorflow:global_step/sec: 152.315\n",
      "INFO:tensorflow:loss = 3.5920012, step = 300 (0.654 sec)\n",
      "INFO:tensorflow:global_step/sec: 158.262\n",
      "INFO:tensorflow:loss = 3.9875157, step = 400 (0.632 sec)\n",
      "INFO:tensorflow:global_step/sec: 155.996\n",
      "INFO:tensorflow:loss = 11.295878, step = 500 (0.641 sec)\n",
      "INFO:tensorflow:global_step/sec: 152.906\n",
      "INFO:tensorflow:loss = 2.2422671, step = 600 (0.654 sec)\n",
      "INFO:tensorflow:global_step/sec: 144.637\n",
      "INFO:tensorflow:loss = 1.0895474, step = 700 (0.696 sec)\n",
      "INFO:tensorflow:global_step/sec: 155.56\n",
      "INFO:tensorflow:loss = 4.43152, step = 800 (0.641 sec)\n",
      "INFO:tensorflow:global_step/sec: 148.893\n",
      "INFO:tensorflow:loss = 0.29795706, step = 900 (0.671 sec)\n",
      "INFO:tensorflow:Saving checkpoints for 1000 into /tmp/tmp7_lz9s92/model.ckpt.\n",
      "INFO:tensorflow:Loss for final step: 0.45676115.\n",
      "INFO:tensorflow:Calling model_fn.\n",
      "INFO:tensorflow:Done calling model_fn.\n",
      "INFO:tensorflow:Starting evaluation at 2018-05-18-14:14:50\n",
      "INFO:tensorflow:Graph was finalized.\n"
     ]
    },
    {
     "name": "stdout",
     "output_type": "stream",
     "text": [
      "INFO:tensorflow:Restoring parameters from /tmp/tmp7_lz9s92/model.ckpt-1000\n",
      "INFO:tensorflow:Running local_init_op.\n",
      "INFO:tensorflow:Done running local_init_op.\n",
      "INFO:tensorflow:Finished evaluation at 2018-05-18-14:14:51\n",
      "INFO:tensorflow:Saving dict for global step 1000: accuracy = 0.983368, average_loss = 0.057315595, global_step = 1000, loss = 5.5137606\n",
      "INFO:tensorflow:Calling model_fn.\n",
      "INFO:tensorflow:Done calling model_fn.\n",
      "INFO:tensorflow:Graph was finalized.\n",
      "INFO:tensorflow:Restoring parameters from /tmp/tmp7_lz9s92/model.ckpt-1000\n",
      "INFO:tensorflow:Running local_init_op.\n",
      "INFO:tensorflow:Done running local_init_op.\n",
      "INFO:tensorflow:Using default config.\n",
      "WARNING:tensorflow:Using temporary folder as model directory: /tmp/tmphmcbhh_8\n",
      "INFO:tensorflow:Using config: {'_model_dir': '/tmp/tmphmcbhh_8', '_tf_random_seed': None, '_save_summary_steps': 100, '_save_checkpoints_steps': None, '_save_checkpoints_secs': 600, '_session_config': None, '_keep_checkpoint_max': 5, '_keep_checkpoint_every_n_hours': 10000, '_log_step_count_steps': 100, '_service': None, '_cluster_spec': <tensorflow.python.training.server_lib.ClusterSpec object at 0x7fb800078e48>, '_task_type': 'worker', '_task_id': 0, '_global_id_in_cluster': 0, '_master': '', '_evaluation_master': '', '_is_chief': True, '_num_ps_replicas': 0, '_num_worker_replicas': 1}\n",
      "INFO:tensorflow:Calling model_fn.\n",
      "INFO:tensorflow:Done calling model_fn.\n",
      "INFO:tensorflow:Create CheckpointSaverHook.\n",
      "INFO:tensorflow:Graph was finalized.\n",
      "INFO:tensorflow:Running local_init_op.\n",
      "INFO:tensorflow:Done running local_init_op.\n",
      "INFO:tensorflow:Saving checkpoints for 1 into /tmp/tmphmcbhh_8/model.ckpt.\n",
      "INFO:tensorflow:loss = 225.20786, step = 0\n",
      "INFO:tensorflow:global_step/sec: 136.195\n",
      "INFO:tensorflow:loss = 24.909641, step = 100 (0.742 sec)\n",
      "INFO:tensorflow:global_step/sec: 151.337\n",
      "INFO:tensorflow:loss = 16.485497, step = 200 (0.659 sec)\n",
      "INFO:tensorflow:global_step/sec: 150.644\n",
      "INFO:tensorflow:loss = 4.8090954, step = 300 (0.663 sec)\n",
      "INFO:tensorflow:global_step/sec: 149.428\n",
      "INFO:tensorflow:loss = 2.692441, step = 400 (0.669 sec)\n",
      "INFO:tensorflow:global_step/sec: 159.039\n",
      "INFO:tensorflow:loss = 0.38465264, step = 500 (0.626 sec)\n",
      "INFO:tensorflow:global_step/sec: 156.287\n",
      "INFO:tensorflow:loss = 0.41157413, step = 600 (0.643 sec)\n",
      "INFO:tensorflow:global_step/sec: 149.748\n",
      "INFO:tensorflow:loss = 0.8139647, step = 700 (0.669 sec)\n",
      "INFO:tensorflow:global_step/sec: 151.385\n",
      "INFO:tensorflow:loss = 0.6432278, step = 800 (0.659 sec)\n",
      "INFO:tensorflow:global_step/sec: 153.914\n",
      "INFO:tensorflow:loss = 0.35277885, step = 900 (0.652 sec)\n",
      "INFO:tensorflow:Saving checkpoints for 1000 into /tmp/tmphmcbhh_8/model.ckpt.\n",
      "INFO:tensorflow:Loss for final step: 0.64671385.\n",
      "INFO:tensorflow:Calling model_fn.\n",
      "INFO:tensorflow:Done calling model_fn.\n",
      "INFO:tensorflow:Starting evaluation at 2018-05-18-14:15:00\n",
      "INFO:tensorflow:Graph was finalized.\n",
      "INFO:tensorflow:Restoring parameters from /tmp/tmphmcbhh_8/model.ckpt-1000\n",
      "INFO:tensorflow:Running local_init_op.\n",
      "INFO:tensorflow:Done running local_init_op.\n",
      "INFO:tensorflow:Finished evaluation at 2018-05-18-14:15:01\n",
      "INFO:tensorflow:Saving dict for global step 1000: accuracy = 0.98693717, average_loss = 0.063467704, global_step = 1000, loss = 6.3432446\n",
      "INFO:tensorflow:Calling model_fn.\n",
      "INFO:tensorflow:Done calling model_fn.\n",
      "INFO:tensorflow:Graph was finalized.\n",
      "INFO:tensorflow:Restoring parameters from /tmp/tmphmcbhh_8/model.ckpt-1000\n",
      "INFO:tensorflow:Running local_init_op.\n",
      "INFO:tensorflow:Done running local_init_op.\n",
      "INFO:tensorflow:Using default config.\n",
      "WARNING:tensorflow:Using temporary folder as model directory: /tmp/tmpnofgep3k\n",
      "INFO:tensorflow:Using config: {'_model_dir': '/tmp/tmpnofgep3k', '_tf_random_seed': None, '_save_summary_steps': 100, '_save_checkpoints_steps': None, '_save_checkpoints_secs': 600, '_session_config': None, '_keep_checkpoint_max': 5, '_keep_checkpoint_every_n_hours': 10000, '_log_step_count_steps': 100, '_service': None, '_cluster_spec': <tensorflow.python.training.server_lib.ClusterSpec object at 0x7fb83922c128>, '_task_type': 'worker', '_task_id': 0, '_global_id_in_cluster': 0, '_master': '', '_evaluation_master': '', '_is_chief': True, '_num_ps_replicas': 0, '_num_worker_replicas': 1}\n",
      "INFO:tensorflow:Calling model_fn.\n",
      "INFO:tensorflow:Done calling model_fn.\n",
      "INFO:tensorflow:Create CheckpointSaverHook.\n",
      "INFO:tensorflow:Graph was finalized.\n",
      "INFO:tensorflow:Running local_init_op.\n",
      "INFO:tensorflow:Done running local_init_op.\n",
      "INFO:tensorflow:Saving checkpoints for 1 into /tmp/tmpnofgep3k/model.ckpt.\n",
      "INFO:tensorflow:loss = 238.34053, step = 0\n",
      "INFO:tensorflow:global_step/sec: 135.149\n",
      "INFO:tensorflow:loss = 13.246805, step = 100 (0.748 sec)\n",
      "INFO:tensorflow:global_step/sec: 143.782\n",
      "INFO:tensorflow:loss = 16.070137, step = 200 (0.690 sec)\n",
      "INFO:tensorflow:global_step/sec: 143.734\n",
      "INFO:tensorflow:loss = 3.953052, step = 300 (0.697 sec)\n",
      "INFO:tensorflow:global_step/sec: 157.023\n",
      "INFO:tensorflow:loss = 2.7139552, step = 400 (0.639 sec)\n",
      "INFO:tensorflow:global_step/sec: 152.895\n",
      "INFO:tensorflow:loss = 3.0948136, step = 500 (0.656 sec)\n",
      "INFO:tensorflow:global_step/sec: 148.616\n",
      "INFO:tensorflow:loss = 0.3461803, step = 600 (0.667 sec)\n",
      "INFO:tensorflow:global_step/sec: 147.365\n",
      "INFO:tensorflow:loss = 1.1788611, step = 700 (0.681 sec)\n",
      "INFO:tensorflow:global_step/sec: 159.77\n",
      "INFO:tensorflow:loss = 1.506817, step = 800 (0.629 sec)\n",
      "INFO:tensorflow:global_step/sec: 148.283\n",
      "INFO:tensorflow:loss = 0.24374156, step = 900 (0.674 sec)\n",
      "INFO:tensorflow:global_step/sec: 143.168\n",
      "INFO:tensorflow:loss = 0.3749959, step = 1000 (0.694 sec)\n",
      "INFO:tensorflow:global_step/sec: 147.614\n",
      "INFO:tensorflow:loss = 1.3995627, step = 1100 (0.683 sec)\n",
      "INFO:tensorflow:global_step/sec: 160.998\n",
      "INFO:tensorflow:loss = 1.0057048, step = 1200 (0.621 sec)\n",
      "INFO:tensorflow:global_step/sec: 150.293\n",
      "INFO:tensorflow:loss = 0.028475221, step = 1300 (0.668 sec)\n",
      "INFO:tensorflow:global_step/sec: 148.683\n",
      "INFO:tensorflow:loss = 0.1591733, step = 1400 (0.666 sec)\n",
      "INFO:tensorflow:Saving checkpoints for 1500 into /tmp/tmpnofgep3k/model.ckpt.\n",
      "INFO:tensorflow:Loss for final step: 0.18334556.\n",
      "INFO:tensorflow:Calling model_fn.\n",
      "INFO:tensorflow:Done calling model_fn.\n",
      "INFO:tensorflow:Starting evaluation at 2018-05-18-14:15:14\n",
      "INFO:tensorflow:Graph was finalized.\n",
      "INFO:tensorflow:Restoring parameters from /tmp/tmpnofgep3k/model.ckpt-1500\n",
      "INFO:tensorflow:Running local_init_op.\n",
      "INFO:tensorflow:Done running local_init_op.\n",
      "INFO:tensorflow:Finished evaluation at 2018-05-18-14:15:14\n",
      "INFO:tensorflow:Saving dict for global step 1500: accuracy = 0.98267496, average_loss = 0.114599794, global_step = 1500, loss = 11.024501\n",
      "INFO:tensorflow:Calling model_fn.\n",
      "INFO:tensorflow:Done calling model_fn.\n",
      "INFO:tensorflow:Graph was finalized.\n",
      "INFO:tensorflow:Restoring parameters from /tmp/tmpnofgep3k/model.ckpt-1500\n",
      "INFO:tensorflow:Running local_init_op.\n",
      "INFO:tensorflow:Done running local_init_op.\n",
      "INFO:tensorflow:Using default config.\n",
      "WARNING:tensorflow:Using temporary folder as model directory: /tmp/tmphi60yp4v\n",
      "INFO:tensorflow:Using config: {'_model_dir': '/tmp/tmphi60yp4v', '_tf_random_seed': None, '_save_summary_steps': 100, '_save_checkpoints_steps': None, '_save_checkpoints_secs': 600, '_session_config': None, '_keep_checkpoint_max': 5, '_keep_checkpoint_every_n_hours': 10000, '_log_step_count_steps': 100, '_service': None, '_cluster_spec': <tensorflow.python.training.server_lib.ClusterSpec object at 0x7fb83ef36518>, '_task_type': 'worker', '_task_id': 0, '_global_id_in_cluster': 0, '_master': '', '_evaluation_master': '', '_is_chief': True, '_num_ps_replicas': 0, '_num_worker_replicas': 1}\n",
      "INFO:tensorflow:Calling model_fn.\n",
      "INFO:tensorflow:Done calling model_fn.\n",
      "INFO:tensorflow:Create CheckpointSaverHook.\n",
      "INFO:tensorflow:Graph was finalized.\n",
      "INFO:tensorflow:Running local_init_op.\n",
      "INFO:tensorflow:Done running local_init_op.\n",
      "INFO:tensorflow:Saving checkpoints for 1 into /tmp/tmphi60yp4v/model.ckpt.\n",
      "INFO:tensorflow:loss = 230.72769, step = 0\n",
      "INFO:tensorflow:global_step/sec: 137.359\n",
      "INFO:tensorflow:loss = 23.205332, step = 100 (0.737 sec)\n",
      "INFO:tensorflow:global_step/sec: 152.811\n",
      "INFO:tensorflow:loss = 3.277392, step = 200 (0.653 sec)\n",
      "INFO:tensorflow:global_step/sec: 149.279\n",
      "INFO:tensorflow:loss = 8.325449, step = 300 (0.665 sec)\n",
      "INFO:tensorflow:global_step/sec: 148.725\n",
      "INFO:tensorflow:loss = 7.120972, step = 400 (0.672 sec)\n",
      "INFO:tensorflow:global_step/sec: 154.5\n",
      "INFO:tensorflow:loss = 1.8476647, step = 500 (0.648 sec)\n",
      "INFO:tensorflow:global_step/sec: 153.721\n",
      "INFO:tensorflow:loss = 1.9294037, step = 600 (0.653 sec)\n",
      "INFO:tensorflow:global_step/sec: 151.62\n",
      "INFO:tensorflow:loss = 3.0018806, step = 700 (0.660 sec)\n",
      "INFO:tensorflow:global_step/sec: 145.76\n",
      "INFO:tensorflow:loss = 0.82026744, step = 800 (0.686 sec)\n",
      "INFO:tensorflow:global_step/sec: 147.516\n",
      "INFO:tensorflow:loss = 0.42818087, step = 900 (0.677 sec)\n",
      "INFO:tensorflow:global_step/sec: 162.693\n",
      "INFO:tensorflow:loss = 0.2670852, step = 1000 (0.612 sec)\n",
      "INFO:tensorflow:global_step/sec: 155.343\n",
      "INFO:tensorflow:loss = 0.19389781, step = 1100 (0.643 sec)\n",
      "INFO:tensorflow:global_step/sec: 150.07\n",
      "INFO:tensorflow:loss = 0.49587023, step = 1200 (0.666 sec)\n",
      "INFO:tensorflow:global_step/sec: 154.594\n",
      "INFO:tensorflow:loss = 0.27522457, step = 1300 (0.647 sec)\n",
      "INFO:tensorflow:global_step/sec: 157.994\n",
      "INFO:tensorflow:loss = 0.06082715, step = 1400 (0.633 sec)\n",
      "INFO:tensorflow:Saving checkpoints for 1500 into /tmp/tmphi60yp4v/model.ckpt.\n",
      "INFO:tensorflow:Loss for final step: 0.31411558.\n",
      "INFO:tensorflow:Calling model_fn.\n",
      "INFO:tensorflow:Done calling model_fn.\n",
      "INFO:tensorflow:Starting evaluation at 2018-05-18-14:15:27\n",
      "INFO:tensorflow:Graph was finalized.\n",
      "INFO:tensorflow:Restoring parameters from /tmp/tmphi60yp4v/model.ckpt-1500\n",
      "INFO:tensorflow:Running local_init_op.\n",
      "INFO:tensorflow:Done running local_init_op.\n",
      "INFO:tensorflow:Finished evaluation at 2018-05-18-14:15:28\n"
     ]
    },
    {
     "name": "stdout",
     "output_type": "stream",
     "text": [
      "INFO:tensorflow:Saving dict for global step 1500: accuracy = 0.98499167, average_loss = 0.07345019, global_step = 1500, loss = 7.340939\n",
      "INFO:tensorflow:Calling model_fn.\n",
      "INFO:tensorflow:Done calling model_fn.\n",
      "INFO:tensorflow:Graph was finalized.\n",
      "INFO:tensorflow:Restoring parameters from /tmp/tmphi60yp4v/model.ckpt-1500\n",
      "INFO:tensorflow:Running local_init_op.\n",
      "INFO:tensorflow:Done running local_init_op.\n",
      "INFO:tensorflow:Using default config.\n",
      "WARNING:tensorflow:Using temporary folder as model directory: /tmp/tmpsn5ugjra\n",
      "INFO:tensorflow:Using config: {'_model_dir': '/tmp/tmpsn5ugjra', '_tf_random_seed': None, '_save_summary_steps': 100, '_save_checkpoints_steps': None, '_save_checkpoints_secs': 600, '_session_config': None, '_keep_checkpoint_max': 5, '_keep_checkpoint_every_n_hours': 10000, '_log_step_count_steps': 100, '_service': None, '_cluster_spec': <tensorflow.python.training.server_lib.ClusterSpec object at 0x7fb818605208>, '_task_type': 'worker', '_task_id': 0, '_global_id_in_cluster': 0, '_master': '', '_evaluation_master': '', '_is_chief': True, '_num_ps_replicas': 0, '_num_worker_replicas': 1}\n",
      "INFO:tensorflow:Calling model_fn.\n",
      "INFO:tensorflow:Done calling model_fn.\n",
      "INFO:tensorflow:Create CheckpointSaverHook.\n",
      "INFO:tensorflow:Graph was finalized.\n",
      "INFO:tensorflow:Running local_init_op.\n",
      "INFO:tensorflow:Done running local_init_op.\n",
      "INFO:tensorflow:Saving checkpoints for 1 into /tmp/tmpsn5ugjra/model.ckpt.\n",
      "INFO:tensorflow:loss = 232.65953, step = 0\n",
      "INFO:tensorflow:global_step/sec: 142.5\n",
      "INFO:tensorflow:loss = 9.7027855, step = 100 (0.708 sec)\n",
      "INFO:tensorflow:global_step/sec: 157.236\n",
      "INFO:tensorflow:loss = 19.94248, step = 200 (0.637 sec)\n",
      "INFO:tensorflow:global_step/sec: 150.664\n",
      "INFO:tensorflow:loss = 4.932585, step = 300 (0.663 sec)\n",
      "INFO:tensorflow:global_step/sec: 154.714\n",
      "INFO:tensorflow:loss = 3.2300644, step = 400 (0.643 sec)\n",
      "INFO:tensorflow:global_step/sec: 145.462\n",
      "INFO:tensorflow:loss = 1.1730207, step = 500 (0.689 sec)\n",
      "INFO:tensorflow:global_step/sec: 148.593\n",
      "INFO:tensorflow:loss = 2.2895103, step = 600 (0.674 sec)\n",
      "INFO:tensorflow:global_step/sec: 155.352\n",
      "INFO:tensorflow:loss = 0.6070446, step = 700 (0.645 sec)\n",
      "INFO:tensorflow:global_step/sec: 161.246\n",
      "INFO:tensorflow:loss = 0.44423905, step = 800 (0.618 sec)\n",
      "INFO:tensorflow:global_step/sec: 153.528\n",
      "INFO:tensorflow:loss = 0.8641762, step = 900 (0.652 sec)\n",
      "INFO:tensorflow:global_step/sec: 152.452\n",
      "INFO:tensorflow:loss = 0.39148635, step = 1000 (0.655 sec)\n",
      "INFO:tensorflow:global_step/sec: 153.172\n",
      "INFO:tensorflow:loss = 0.61923337, step = 1100 (0.656 sec)\n",
      "INFO:tensorflow:global_step/sec: 158.803\n",
      "INFO:tensorflow:loss = 0.40433484, step = 1200 (0.626 sec)\n",
      "INFO:tensorflow:global_step/sec: 149.017\n",
      "INFO:tensorflow:loss = 0.43698034, step = 1300 (0.673 sec)\n",
      "INFO:tensorflow:global_step/sec: 146.252\n",
      "INFO:tensorflow:loss = 0.10854305, step = 1400 (0.684 sec)\n",
      "INFO:tensorflow:global_step/sec: 149.987\n",
      "INFO:tensorflow:loss = 0.24914403, step = 1500 (0.668 sec)\n",
      "INFO:tensorflow:global_step/sec: 164.617\n",
      "INFO:tensorflow:loss = 0.272945, step = 1600 (0.606 sec)\n",
      "INFO:tensorflow:global_step/sec: 152.959\n",
      "INFO:tensorflow:loss = 0.18660524, step = 1700 (0.652 sec)\n",
      "INFO:tensorflow:global_step/sec: 154.954\n",
      "INFO:tensorflow:loss = 0.095083594, step = 1800 (0.647 sec)\n",
      "INFO:tensorflow:global_step/sec: 149.75\n",
      "INFO:tensorflow:loss = 0.07605556, step = 1900 (0.670 sec)\n",
      "INFO:tensorflow:Saving checkpoints for 2000 into /tmp/tmpsn5ugjra/model.ckpt.\n",
      "INFO:tensorflow:Loss for final step: 0.19403388.\n",
      "INFO:tensorflow:Calling model_fn.\n",
      "INFO:tensorflow:Done calling model_fn.\n",
      "INFO:tensorflow:Starting evaluation at 2018-05-18-14:15:44\n",
      "INFO:tensorflow:Graph was finalized.\n",
      "INFO:tensorflow:Restoring parameters from /tmp/tmpsn5ugjra/model.ckpt-2000\n",
      "INFO:tensorflow:Running local_init_op.\n",
      "INFO:tensorflow:Done running local_init_op.\n",
      "INFO:tensorflow:Finished evaluation at 2018-05-18-14:15:44\n",
      "INFO:tensorflow:Saving dict for global step 2000: accuracy = 0.988912, average_loss = 0.08102822, global_step = 2000, loss = 7.7949147\n",
      "INFO:tensorflow:Calling model_fn.\n",
      "INFO:tensorflow:Done calling model_fn.\n",
      "INFO:tensorflow:Graph was finalized.\n",
      "INFO:tensorflow:Restoring parameters from /tmp/tmpsn5ugjra/model.ckpt-2000\n",
      "INFO:tensorflow:Running local_init_op.\n",
      "INFO:tensorflow:Done running local_init_op.\n",
      "INFO:tensorflow:Using default config.\n",
      "WARNING:tensorflow:Using temporary folder as model directory: /tmp/tmp_9y5o57c\n",
      "INFO:tensorflow:Using config: {'_model_dir': '/tmp/tmp_9y5o57c', '_tf_random_seed': None, '_save_summary_steps': 100, '_save_checkpoints_steps': None, '_save_checkpoints_secs': 600, '_session_config': None, '_keep_checkpoint_max': 5, '_keep_checkpoint_every_n_hours': 10000, '_log_step_count_steps': 100, '_service': None, '_cluster_spec': <tensorflow.python.training.server_lib.ClusterSpec object at 0x7fb818917cf8>, '_task_type': 'worker', '_task_id': 0, '_global_id_in_cluster': 0, '_master': '', '_evaluation_master': '', '_is_chief': True, '_num_ps_replicas': 0, '_num_worker_replicas': 1}\n",
      "INFO:tensorflow:Calling model_fn.\n",
      "INFO:tensorflow:Done calling model_fn.\n",
      "INFO:tensorflow:Create CheckpointSaverHook.\n",
      "INFO:tensorflow:Graph was finalized.\n",
      "INFO:tensorflow:Running local_init_op.\n",
      "INFO:tensorflow:Done running local_init_op.\n",
      "INFO:tensorflow:Saving checkpoints for 1 into /tmp/tmp_9y5o57c/model.ckpt.\n",
      "INFO:tensorflow:loss = 233.22076, step = 0\n",
      "INFO:tensorflow:global_step/sec: 135.023\n",
      "INFO:tensorflow:loss = 11.046169, step = 100 (0.746 sec)\n",
      "INFO:tensorflow:global_step/sec: 144.815\n",
      "INFO:tensorflow:loss = 8.704508, step = 200 (0.689 sec)\n",
      "INFO:tensorflow:global_step/sec: 156.533\n",
      "INFO:tensorflow:loss = 2.3962862, step = 300 (0.640 sec)\n",
      "INFO:tensorflow:global_step/sec: 156.898\n",
      "INFO:tensorflow:loss = 1.0603541, step = 400 (0.636 sec)\n",
      "INFO:tensorflow:global_step/sec: 161.076\n",
      "INFO:tensorflow:loss = 5.839605, step = 500 (0.624 sec)\n",
      "INFO:tensorflow:global_step/sec: 151.877\n",
      "INFO:tensorflow:loss = 0.41566113, step = 600 (0.659 sec)\n",
      "INFO:tensorflow:global_step/sec: 154.446\n",
      "INFO:tensorflow:loss = 0.44896615, step = 700 (0.645 sec)\n",
      "INFO:tensorflow:global_step/sec: 152.538\n",
      "INFO:tensorflow:loss = 0.48438233, step = 800 (0.653 sec)\n",
      "INFO:tensorflow:global_step/sec: 148.709\n",
      "INFO:tensorflow:loss = 0.47049862, step = 900 (0.676 sec)\n",
      "INFO:tensorflow:global_step/sec: 161.019\n",
      "INFO:tensorflow:loss = 0.40403405, step = 1000 (0.620 sec)\n",
      "INFO:tensorflow:global_step/sec: 149.903\n",
      "INFO:tensorflow:loss = 0.2588268, step = 1100 (0.664 sec)\n",
      "INFO:tensorflow:global_step/sec: 150.83\n",
      "INFO:tensorflow:loss = 0.3660681, step = 1200 (0.669 sec)\n",
      "INFO:tensorflow:global_step/sec: 151.978\n",
      "INFO:tensorflow:loss = 0.070084, step = 1300 (0.655 sec)\n",
      "INFO:tensorflow:global_step/sec: 158.218\n",
      "INFO:tensorflow:loss = 0.051732022, step = 1400 (0.634 sec)\n",
      "INFO:tensorflow:global_step/sec: 157.023\n",
      "INFO:tensorflow:loss = 0.27461338, step = 1500 (0.630 sec)\n",
      "INFO:tensorflow:global_step/sec: 152.632\n",
      "INFO:tensorflow:loss = 0.011877941, step = 1600 (0.661 sec)\n",
      "INFO:tensorflow:global_step/sec: 153.069\n",
      "INFO:tensorflow:loss = 0.1679532, step = 1700 (0.648 sec)\n",
      "INFO:tensorflow:global_step/sec: 151.647\n",
      "INFO:tensorflow:loss = 0.06784016, step = 1800 (0.663 sec)\n",
      "INFO:tensorflow:global_step/sec: 151.602\n",
      "INFO:tensorflow:loss = 0.068897046, step = 1900 (0.659 sec)\n",
      "INFO:tensorflow:Saving checkpoints for 2000 into /tmp/tmp_9y5o57c/model.ckpt.\n",
      "INFO:tensorflow:Loss for final step: 0.08165994.\n",
      "INFO:tensorflow:Calling model_fn.\n",
      "INFO:tensorflow:Done calling model_fn.\n",
      "INFO:tensorflow:Starting evaluation at 2018-05-18-14:16:00\n",
      "INFO:tensorflow:Graph was finalized.\n",
      "INFO:tensorflow:Restoring parameters from /tmp/tmp_9y5o57c/model.ckpt-2000\n",
      "INFO:tensorflow:Running local_init_op.\n",
      "INFO:tensorflow:Done running local_init_op.\n",
      "INFO:tensorflow:Finished evaluation at 2018-05-18-14:16:01\n",
      "INFO:tensorflow:Saving dict for global step 2000: accuracy = 0.98415786, average_loss = 0.09257168, global_step = 2000, loss = 9.252026\n",
      "INFO:tensorflow:Calling model_fn.\n",
      "INFO:tensorflow:Done calling model_fn.\n",
      "INFO:tensorflow:Graph was finalized.\n",
      "INFO:tensorflow:Restoring parameters from /tmp/tmp_9y5o57c/model.ckpt-2000\n",
      "INFO:tensorflow:Running local_init_op.\n",
      "INFO:tensorflow:Done running local_init_op.\n",
      "INFO:tensorflow:Using default config.\n",
      "WARNING:tensorflow:Using temporary folder as model directory: /tmp/tmp0kyy0bkn\n",
      "INFO:tensorflow:Using config: {'_model_dir': '/tmp/tmp0kyy0bkn', '_tf_random_seed': None, '_save_summary_steps': 100, '_save_checkpoints_steps': None, '_save_checkpoints_secs': 600, '_session_config': None, '_keep_checkpoint_max': 5, '_keep_checkpoint_every_n_hours': 10000, '_log_step_count_steps': 100, '_service': None, '_cluster_spec': <tensorflow.python.training.server_lib.ClusterSpec object at 0x7fb818a62fd0>, '_task_type': 'worker', '_task_id': 0, '_global_id_in_cluster': 0, '_master': '', '_evaluation_master': '', '_is_chief': True, '_num_ps_replicas': 0, '_num_worker_replicas': 1}\n",
      "INFO:tensorflow:Calling model_fn.\n",
      "INFO:tensorflow:Done calling model_fn.\n",
      "INFO:tensorflow:Create CheckpointSaverHook.\n",
      "INFO:tensorflow:Graph was finalized.\n",
      "INFO:tensorflow:Running local_init_op.\n",
      "INFO:tensorflow:Done running local_init_op.\n",
      "INFO:tensorflow:Saving checkpoints for 1 into /tmp/tmp0kyy0bkn/model.ckpt.\n",
      "INFO:tensorflow:loss = 231.23099, step = 0\n",
      "INFO:tensorflow:Saving checkpoints for 100 into /tmp/tmp0kyy0bkn/model.ckpt.\n",
      "INFO:tensorflow:Loss for final step: 16.749077.\n",
      "INFO:tensorflow:Calling model_fn.\n",
      "INFO:tensorflow:Done calling model_fn.\n",
      "INFO:tensorflow:Starting evaluation at 2018-05-18-14:16:04\n",
      "INFO:tensorflow:Graph was finalized.\n",
      "INFO:tensorflow:Restoring parameters from /tmp/tmp0kyy0bkn/model.ckpt-100\n",
      "INFO:tensorflow:Running local_init_op.\n",
      "INFO:tensorflow:Done running local_init_op.\n",
      "INFO:tensorflow:Finished evaluation at 2018-05-18-14:16:05\n",
      "INFO:tensorflow:Saving dict for global step 100: accuracy = 0.954955, average_loss = 0.18543576, global_step = 100, loss = 17.83892\n",
      "INFO:tensorflow:Calling model_fn.\n",
      "INFO:tensorflow:Done calling model_fn.\n",
      "INFO:tensorflow:Graph was finalized.\n",
      "INFO:tensorflow:Restoring parameters from /tmp/tmp0kyy0bkn/model.ckpt-100\n",
      "INFO:tensorflow:Running local_init_op.\n"
     ]
    },
    {
     "name": "stdout",
     "output_type": "stream",
     "text": [
      "INFO:tensorflow:Done running local_init_op.\n",
      "INFO:tensorflow:Using default config.\n",
      "WARNING:tensorflow:Using temporary folder as model directory: /tmp/tmp8zsj3uqq\n",
      "INFO:tensorflow:Using config: {'_model_dir': '/tmp/tmp8zsj3uqq', '_tf_random_seed': None, '_save_summary_steps': 100, '_save_checkpoints_steps': None, '_save_checkpoints_secs': 600, '_session_config': None, '_keep_checkpoint_max': 5, '_keep_checkpoint_every_n_hours': 10000, '_log_step_count_steps': 100, '_service': None, '_cluster_spec': <tensorflow.python.training.server_lib.ClusterSpec object at 0x7fb8410e0a58>, '_task_type': 'worker', '_task_id': 0, '_global_id_in_cluster': 0, '_master': '', '_evaluation_master': '', '_is_chief': True, '_num_ps_replicas': 0, '_num_worker_replicas': 1}\n",
      "INFO:tensorflow:Calling model_fn.\n",
      "INFO:tensorflow:Done calling model_fn.\n",
      "INFO:tensorflow:Create CheckpointSaverHook.\n",
      "INFO:tensorflow:Graph was finalized.\n",
      "INFO:tensorflow:Running local_init_op.\n",
      "INFO:tensorflow:Done running local_init_op.\n",
      "INFO:tensorflow:Saving checkpoints for 1 into /tmp/tmp8zsj3uqq/model.ckpt.\n",
      "INFO:tensorflow:loss = 232.43098, step = 0\n",
      "INFO:tensorflow:Saving checkpoints for 100 into /tmp/tmp8zsj3uqq/model.ckpt.\n",
      "INFO:tensorflow:Loss for final step: 11.651603.\n",
      "INFO:tensorflow:Calling model_fn.\n",
      "INFO:tensorflow:Done calling model_fn.\n",
      "INFO:tensorflow:Starting evaluation at 2018-05-18-14:16:08\n",
      "INFO:tensorflow:Graph was finalized.\n",
      "INFO:tensorflow:Restoring parameters from /tmp/tmp8zsj3uqq/model.ckpt-100\n",
      "INFO:tensorflow:Running local_init_op.\n",
      "INFO:tensorflow:Done running local_init_op.\n",
      "INFO:tensorflow:Finished evaluation at 2018-05-18-14:16:09\n",
      "INFO:tensorflow:Saving dict for global step 100: accuracy = 0.9458032, average_loss = 0.20628923, global_step = 100, loss = 20.617462\n",
      "INFO:tensorflow:Calling model_fn.\n",
      "INFO:tensorflow:Done calling model_fn.\n",
      "INFO:tensorflow:Graph was finalized.\n",
      "INFO:tensorflow:Restoring parameters from /tmp/tmp8zsj3uqq/model.ckpt-100\n",
      "INFO:tensorflow:Running local_init_op.\n",
      "INFO:tensorflow:Done running local_init_op.\n",
      "INFO:tensorflow:Using default config.\n",
      "WARNING:tensorflow:Using temporary folder as model directory: /tmp/tmph_cocbgk\n",
      "INFO:tensorflow:Using config: {'_model_dir': '/tmp/tmph_cocbgk', '_tf_random_seed': None, '_save_summary_steps': 100, '_save_checkpoints_steps': None, '_save_checkpoints_secs': 600, '_session_config': None, '_keep_checkpoint_max': 5, '_keep_checkpoint_every_n_hours': 10000, '_log_step_count_steps': 100, '_service': None, '_cluster_spec': <tensorflow.python.training.server_lib.ClusterSpec object at 0x7fb8189074e0>, '_task_type': 'worker', '_task_id': 0, '_global_id_in_cluster': 0, '_master': '', '_evaluation_master': '', '_is_chief': True, '_num_ps_replicas': 0, '_num_worker_replicas': 1}\n",
      "INFO:tensorflow:Calling model_fn.\n",
      "INFO:tensorflow:Done calling model_fn.\n",
      "INFO:tensorflow:Create CheckpointSaverHook.\n",
      "INFO:tensorflow:Graph was finalized.\n",
      "INFO:tensorflow:Running local_init_op.\n",
      "INFO:tensorflow:Done running local_init_op.\n",
      "INFO:tensorflow:Saving checkpoints for 1 into /tmp/tmph_cocbgk/model.ckpt.\n",
      "INFO:tensorflow:loss = 235.50095, step = 0\n",
      "INFO:tensorflow:global_step/sec: 136.036\n",
      "INFO:tensorflow:loss = 27.495682, step = 100 (0.742 sec)\n",
      "INFO:tensorflow:Saving checkpoints for 200 into /tmp/tmph_cocbgk/model.ckpt.\n",
      "INFO:tensorflow:Loss for final step: 11.362661.\n",
      "INFO:tensorflow:Calling model_fn.\n",
      "INFO:tensorflow:Done calling model_fn.\n",
      "INFO:tensorflow:Starting evaluation at 2018-05-18-14:16:13\n",
      "INFO:tensorflow:Graph was finalized.\n",
      "INFO:tensorflow:Restoring parameters from /tmp/tmph_cocbgk/model.ckpt-200\n",
      "INFO:tensorflow:Running local_init_op.\n",
      "INFO:tensorflow:Done running local_init_op.\n",
      "INFO:tensorflow:Finished evaluation at 2018-05-18-14:16:14\n",
      "INFO:tensorflow:Saving dict for global step 200: accuracy = 0.95703393, average_loss = 0.16888425, global_step = 200, loss = 16.246664\n",
      "INFO:tensorflow:Calling model_fn.\n",
      "INFO:tensorflow:Done calling model_fn.\n",
      "INFO:tensorflow:Graph was finalized.\n",
      "INFO:tensorflow:Restoring parameters from /tmp/tmph_cocbgk/model.ckpt-200\n",
      "INFO:tensorflow:Running local_init_op.\n",
      "INFO:tensorflow:Done running local_init_op.\n",
      "INFO:tensorflow:Using default config.\n",
      "WARNING:tensorflow:Using temporary folder as model directory: /tmp/tmpx0rclli0\n",
      "INFO:tensorflow:Using config: {'_model_dir': '/tmp/tmpx0rclli0', '_tf_random_seed': None, '_save_summary_steps': 100, '_save_checkpoints_steps': None, '_save_checkpoints_secs': 600, '_session_config': None, '_keep_checkpoint_max': 5, '_keep_checkpoint_every_n_hours': 10000, '_log_step_count_steps': 100, '_service': None, '_cluster_spec': <tensorflow.python.training.server_lib.ClusterSpec object at 0x7fb8185416a0>, '_task_type': 'worker', '_task_id': 0, '_global_id_in_cluster': 0, '_master': '', '_evaluation_master': '', '_is_chief': True, '_num_ps_replicas': 0, '_num_worker_replicas': 1}\n",
      "INFO:tensorflow:Calling model_fn.\n",
      "INFO:tensorflow:Done calling model_fn.\n",
      "INFO:tensorflow:Create CheckpointSaverHook.\n",
      "INFO:tensorflow:Graph was finalized.\n",
      "INFO:tensorflow:Running local_init_op.\n",
      "INFO:tensorflow:Done running local_init_op.\n",
      "INFO:tensorflow:Saving checkpoints for 1 into /tmp/tmpx0rclli0/model.ckpt.\n",
      "INFO:tensorflow:loss = 229.66579, step = 0\n",
      "INFO:tensorflow:global_step/sec: 136.641\n",
      "INFO:tensorflow:loss = 13.797262, step = 100 (0.735 sec)\n",
      "INFO:tensorflow:Saving checkpoints for 200 into /tmp/tmpx0rclli0/model.ckpt.\n",
      "INFO:tensorflow:Loss for final step: 7.7338924.\n",
      "INFO:tensorflow:Calling model_fn.\n",
      "INFO:tensorflow:Done calling model_fn.\n",
      "INFO:tensorflow:Starting evaluation at 2018-05-18-14:16:18\n",
      "INFO:tensorflow:Graph was finalized.\n",
      "INFO:tensorflow:Restoring parameters from /tmp/tmpx0rclli0/model.ckpt-200\n",
      "INFO:tensorflow:Running local_init_op.\n",
      "INFO:tensorflow:Done running local_init_op.\n",
      "INFO:tensorflow:Finished evaluation at 2018-05-18-14:16:18\n",
      "INFO:tensorflow:Saving dict for global step 200: accuracy = 0.96081156, average_loss = 0.13072947, global_step = 200, loss = 13.065684\n",
      "INFO:tensorflow:Calling model_fn.\n",
      "INFO:tensorflow:Done calling model_fn.\n",
      "INFO:tensorflow:Graph was finalized.\n",
      "INFO:tensorflow:Restoring parameters from /tmp/tmpx0rclli0/model.ckpt-200\n",
      "INFO:tensorflow:Running local_init_op.\n",
      "INFO:tensorflow:Done running local_init_op.\n",
      "INFO:tensorflow:Using default config.\n",
      "WARNING:tensorflow:Using temporary folder as model directory: /tmp/tmph_wogj09\n",
      "INFO:tensorflow:Using config: {'_model_dir': '/tmp/tmph_wogj09', '_tf_random_seed': None, '_save_summary_steps': 100, '_save_checkpoints_steps': None, '_save_checkpoints_secs': 600, '_session_config': None, '_keep_checkpoint_max': 5, '_keep_checkpoint_every_n_hours': 10000, '_log_step_count_steps': 100, '_service': None, '_cluster_spec': <tensorflow.python.training.server_lib.ClusterSpec object at 0x7fb8186e4710>, '_task_type': 'worker', '_task_id': 0, '_global_id_in_cluster': 0, '_master': '', '_evaluation_master': '', '_is_chief': True, '_num_ps_replicas': 0, '_num_worker_replicas': 1}\n",
      "INFO:tensorflow:Calling model_fn.\n",
      "INFO:tensorflow:Done calling model_fn.\n",
      "INFO:tensorflow:Create CheckpointSaverHook.\n",
      "INFO:tensorflow:Graph was finalized.\n",
      "INFO:tensorflow:Running local_init_op.\n",
      "INFO:tensorflow:Done running local_init_op.\n",
      "INFO:tensorflow:Saving checkpoints for 1 into /tmp/tmph_wogj09/model.ckpt.\n",
      "INFO:tensorflow:loss = 232.77284, step = 0\n",
      "INFO:tensorflow:global_step/sec: 136.889\n",
      "INFO:tensorflow:loss = 16.8303, step = 100 (0.738 sec)\n",
      "INFO:tensorflow:global_step/sec: 154.95\n",
      "INFO:tensorflow:loss = 12.666525, step = 200 (0.646 sec)\n",
      "INFO:tensorflow:global_step/sec: 151.817\n",
      "INFO:tensorflow:loss = 7.6293135, step = 300 (0.658 sec)\n",
      "INFO:tensorflow:global_step/sec: 157.17\n",
      "INFO:tensorflow:loss = 23.035305, step = 400 (0.639 sec)\n",
      "INFO:tensorflow:Saving checkpoints for 500 into /tmp/tmph_wogj09/model.ckpt.\n",
      "INFO:tensorflow:Loss for final step: 2.7515378.\n",
      "INFO:tensorflow:Calling model_fn.\n",
      "INFO:tensorflow:Done calling model_fn.\n",
      "INFO:tensorflow:Starting evaluation at 2018-05-18-14:16:25\n",
      "INFO:tensorflow:Graph was finalized.\n",
      "INFO:tensorflow:Restoring parameters from /tmp/tmph_wogj09/model.ckpt-500\n",
      "INFO:tensorflow:Running local_init_op.\n",
      "INFO:tensorflow:Done running local_init_op.\n",
      "INFO:tensorflow:Finished evaluation at 2018-05-18-14:16:25\n",
      "INFO:tensorflow:Saving dict for global step 500: accuracy = 0.98614, average_loss = 0.05784609, global_step = 500, loss = 5.564794\n",
      "INFO:tensorflow:Calling model_fn.\n",
      "INFO:tensorflow:Done calling model_fn.\n",
      "INFO:tensorflow:Graph was finalized.\n",
      "INFO:tensorflow:Restoring parameters from /tmp/tmph_wogj09/model.ckpt-500\n",
      "INFO:tensorflow:Running local_init_op.\n",
      "INFO:tensorflow:Done running local_init_op.\n",
      "INFO:tensorflow:Using default config.\n",
      "WARNING:tensorflow:Using temporary folder as model directory: /tmp/tmpxks_qwmx\n",
      "INFO:tensorflow:Using config: {'_model_dir': '/tmp/tmpxks_qwmx', '_tf_random_seed': None, '_save_summary_steps': 100, '_save_checkpoints_steps': None, '_save_checkpoints_secs': 600, '_session_config': None, '_keep_checkpoint_max': 5, '_keep_checkpoint_every_n_hours': 10000, '_log_step_count_steps': 100, '_service': None, '_cluster_spec': <tensorflow.python.training.server_lib.ClusterSpec object at 0x7fb7fff56a90>, '_task_type': 'worker', '_task_id': 0, '_global_id_in_cluster': 0, '_master': '', '_evaluation_master': '', '_is_chief': True, '_num_ps_replicas': 0, '_num_worker_replicas': 1}\n",
      "INFO:tensorflow:Calling model_fn.\n",
      "INFO:tensorflow:Done calling model_fn.\n",
      "INFO:tensorflow:Create CheckpointSaverHook.\n",
      "INFO:tensorflow:Graph was finalized.\n",
      "INFO:tensorflow:Running local_init_op.\n",
      "INFO:tensorflow:Done running local_init_op.\n",
      "INFO:tensorflow:Saving checkpoints for 1 into /tmp/tmpxks_qwmx/model.ckpt.\n",
      "INFO:tensorflow:loss = 233.21251, step = 0\n",
      "INFO:tensorflow:global_step/sec: 141.402\n",
      "INFO:tensorflow:loss = 19.021715, step = 100 (0.716 sec)\n",
      "INFO:tensorflow:global_step/sec: 156.128\n",
      "INFO:tensorflow:loss = 13.563248, step = 200 (0.637 sec)\n",
      "INFO:tensorflow:global_step/sec: 153.381\n",
      "INFO:tensorflow:loss = 5.736444, step = 300 (0.652 sec)\n",
      "INFO:tensorflow:global_step/sec: 153.832\n",
      "INFO:tensorflow:loss = 4.2388506, step = 400 (0.651 sec)\n",
      "INFO:tensorflow:Saving checkpoints for 500 into /tmp/tmpxks_qwmx/model.ckpt.\n",
      "INFO:tensorflow:Loss for final step: 2.0932772.\n",
      "INFO:tensorflow:Calling model_fn.\n",
      "INFO:tensorflow:Done calling model_fn.\n",
      "INFO:tensorflow:Starting evaluation at 2018-05-18-14:16:32\n",
      "INFO:tensorflow:Graph was finalized.\n",
      "INFO:tensorflow:Restoring parameters from /tmp/tmpxks_qwmx/model.ckpt-500\n",
      "INFO:tensorflow:Running local_init_op.\n",
      "INFO:tensorflow:Done running local_init_op.\n",
      "INFO:tensorflow:Finished evaluation at 2018-05-18-14:16:32\n",
      "INFO:tensorflow:Saving dict for global step 500: accuracy = 0.98054475, average_loss = 0.08860693, global_step = 500, loss = 8.85577\n",
      "INFO:tensorflow:Calling model_fn.\n",
      "INFO:tensorflow:Done calling model_fn.\n"
     ]
    },
    {
     "name": "stdout",
     "output_type": "stream",
     "text": [
      "INFO:tensorflow:Graph was finalized.\n",
      "INFO:tensorflow:Restoring parameters from /tmp/tmpxks_qwmx/model.ckpt-500\n",
      "INFO:tensorflow:Running local_init_op.\n",
      "INFO:tensorflow:Done running local_init_op.\n",
      "INFO:tensorflow:Using default config.\n",
      "WARNING:tensorflow:Using temporary folder as model directory: /tmp/tmp7078pb8p\n",
      "INFO:tensorflow:Using config: {'_model_dir': '/tmp/tmp7078pb8p', '_tf_random_seed': None, '_save_summary_steps': 100, '_save_checkpoints_steps': None, '_save_checkpoints_secs': 600, '_session_config': None, '_keep_checkpoint_max': 5, '_keep_checkpoint_every_n_hours': 10000, '_log_step_count_steps': 100, '_service': None, '_cluster_spec': <tensorflow.python.training.server_lib.ClusterSpec object at 0x7fb839630198>, '_task_type': 'worker', '_task_id': 0, '_global_id_in_cluster': 0, '_master': '', '_evaluation_master': '', '_is_chief': True, '_num_ps_replicas': 0, '_num_worker_replicas': 1}\n",
      "INFO:tensorflow:Calling model_fn.\n",
      "INFO:tensorflow:Done calling model_fn.\n",
      "INFO:tensorflow:Create CheckpointSaverHook.\n",
      "INFO:tensorflow:Graph was finalized.\n",
      "INFO:tensorflow:Running local_init_op.\n",
      "INFO:tensorflow:Done running local_init_op.\n",
      "INFO:tensorflow:Saving checkpoints for 1 into /tmp/tmp7078pb8p/model.ckpt.\n",
      "INFO:tensorflow:loss = 233.52602, step = 0\n",
      "INFO:tensorflow:global_step/sec: 131.805\n",
      "INFO:tensorflow:loss = 5.524252, step = 100 (0.763 sec)\n",
      "INFO:tensorflow:global_step/sec: 152.35\n",
      "INFO:tensorflow:loss = 3.787143, step = 200 (0.660 sec)\n",
      "INFO:tensorflow:global_step/sec: 151.595\n",
      "INFO:tensorflow:loss = 5.4306803, step = 300 (0.654 sec)\n",
      "INFO:tensorflow:global_step/sec: 159.239\n",
      "INFO:tensorflow:loss = 6.2801723, step = 400 (0.628 sec)\n",
      "INFO:tensorflow:global_step/sec: 147.635\n",
      "INFO:tensorflow:loss = 3.5919113, step = 500 (0.679 sec)\n",
      "INFO:tensorflow:global_step/sec: 148.526\n",
      "INFO:tensorflow:loss = 6.0326333, step = 600 (0.672 sec)\n",
      "INFO:tensorflow:global_step/sec: 146.043\n",
      "INFO:tensorflow:loss = 5.4646673, step = 700 (0.690 sec)\n",
      "INFO:tensorflow:global_step/sec: 156.61\n",
      "INFO:tensorflow:loss = 2.1283183, step = 800 (0.637 sec)\n",
      "INFO:tensorflow:global_step/sec: 150.304\n",
      "INFO:tensorflow:loss = 5.7208357, step = 900 (0.667 sec)\n",
      "INFO:tensorflow:Saving checkpoints for 1000 into /tmp/tmp7078pb8p/model.ckpt.\n",
      "INFO:tensorflow:Loss for final step: 3.2529411.\n",
      "INFO:tensorflow:Calling model_fn.\n",
      "INFO:tensorflow:Done calling model_fn.\n",
      "INFO:tensorflow:Starting evaluation at 2018-05-18-14:16:42\n",
      "INFO:tensorflow:Graph was finalized.\n",
      "INFO:tensorflow:Restoring parameters from /tmp/tmp7078pb8p/model.ckpt-1000\n",
      "INFO:tensorflow:Running local_init_op.\n",
      "INFO:tensorflow:Done running local_init_op.\n",
      "INFO:tensorflow:Finished evaluation at 2018-05-18-14:16:42\n",
      "INFO:tensorflow:Saving dict for global step 1000: accuracy = 0.984061, average_loss = 0.06297412, global_step = 1000, loss = 6.05811\n",
      "INFO:tensorflow:Calling model_fn.\n",
      "INFO:tensorflow:Done calling model_fn.\n",
      "INFO:tensorflow:Graph was finalized.\n",
      "INFO:tensorflow:Restoring parameters from /tmp/tmp7078pb8p/model.ckpt-1000\n",
      "INFO:tensorflow:Running local_init_op.\n",
      "INFO:tensorflow:Done running local_init_op.\n",
      "INFO:tensorflow:Using default config.\n",
      "WARNING:tensorflow:Using temporary folder as model directory: /tmp/tmpcnxfpswx\n",
      "INFO:tensorflow:Using config: {'_model_dir': '/tmp/tmpcnxfpswx', '_tf_random_seed': None, '_save_summary_steps': 100, '_save_checkpoints_steps': None, '_save_checkpoints_secs': 600, '_session_config': None, '_keep_checkpoint_max': 5, '_keep_checkpoint_every_n_hours': 10000, '_log_step_count_steps': 100, '_service': None, '_cluster_spec': <tensorflow.python.training.server_lib.ClusterSpec object at 0x7fb7ffee9438>, '_task_type': 'worker', '_task_id': 0, '_global_id_in_cluster': 0, '_master': '', '_evaluation_master': '', '_is_chief': True, '_num_ps_replicas': 0, '_num_worker_replicas': 1}\n",
      "INFO:tensorflow:Calling model_fn.\n",
      "INFO:tensorflow:Done calling model_fn.\n",
      "INFO:tensorflow:Create CheckpointSaverHook.\n",
      "INFO:tensorflow:Graph was finalized.\n",
      "INFO:tensorflow:Running local_init_op.\n",
      "INFO:tensorflow:Done running local_init_op.\n",
      "INFO:tensorflow:Saving checkpoints for 1 into /tmp/tmpcnxfpswx/model.ckpt.\n",
      "INFO:tensorflow:loss = 231.79872, step = 0\n",
      "INFO:tensorflow:global_step/sec: 136.906\n",
      "INFO:tensorflow:loss = 13.481549, step = 100 (0.747 sec)\n",
      "INFO:tensorflow:global_step/sec: 150.338\n",
      "INFO:tensorflow:loss = 5.0379515, step = 200 (0.656 sec)\n",
      "INFO:tensorflow:global_step/sec: 154.106\n",
      "INFO:tensorflow:loss = 2.2687645, step = 300 (0.644 sec)\n",
      "INFO:tensorflow:global_step/sec: 151.48\n",
      "INFO:tensorflow:loss = 6.238924, step = 400 (0.665 sec)\n",
      "INFO:tensorflow:global_step/sec: 163.463\n",
      "INFO:tensorflow:loss = 7.974695, step = 500 (0.611 sec)\n",
      "INFO:tensorflow:global_step/sec: 154.356\n",
      "INFO:tensorflow:loss = 1.9682121, step = 600 (0.644 sec)\n",
      "INFO:tensorflow:global_step/sec: 154.775\n",
      "INFO:tensorflow:loss = 1.8066176, step = 700 (0.646 sec)\n",
      "INFO:tensorflow:global_step/sec: 154.188\n",
      "INFO:tensorflow:loss = 2.3104947, step = 800 (0.647 sec)\n",
      "INFO:tensorflow:global_step/sec: 153.079\n",
      "INFO:tensorflow:loss = 1.1336764, step = 900 (0.656 sec)\n",
      "INFO:tensorflow:Saving checkpoints for 1000 into /tmp/tmpcnxfpswx/model.ckpt.\n",
      "INFO:tensorflow:Loss for final step: 1.2383299.\n",
      "INFO:tensorflow:Calling model_fn.\n",
      "INFO:tensorflow:Done calling model_fn.\n",
      "INFO:tensorflow:Starting evaluation at 2018-05-18-14:16:52\n",
      "INFO:tensorflow:Graph was finalized.\n",
      "INFO:tensorflow:Restoring parameters from /tmp/tmpcnxfpswx/model.ckpt-1000\n",
      "INFO:tensorflow:Running local_init_op.\n",
      "INFO:tensorflow:Done running local_init_op.\n",
      "INFO:tensorflow:Finished evaluation at 2018-05-18-14:16:52\n",
      "INFO:tensorflow:Saving dict for global step 1000: accuracy = 0.98554754, average_loss = 0.05859094, global_step = 1000, loss = 5.8558393\n",
      "INFO:tensorflow:Calling model_fn.\n",
      "INFO:tensorflow:Done calling model_fn.\n",
      "INFO:tensorflow:Graph was finalized.\n",
      "INFO:tensorflow:Restoring parameters from /tmp/tmpcnxfpswx/model.ckpt-1000\n",
      "INFO:tensorflow:Running local_init_op.\n",
      "INFO:tensorflow:Done running local_init_op.\n",
      "INFO:tensorflow:Using default config.\n",
      "WARNING:tensorflow:Using temporary folder as model directory: /tmp/tmp4zdu7sfm\n",
      "INFO:tensorflow:Using config: {'_model_dir': '/tmp/tmp4zdu7sfm', '_tf_random_seed': None, '_save_summary_steps': 100, '_save_checkpoints_steps': None, '_save_checkpoints_secs': 600, '_session_config': None, '_keep_checkpoint_max': 5, '_keep_checkpoint_every_n_hours': 10000, '_log_step_count_steps': 100, '_service': None, '_cluster_spec': <tensorflow.python.training.server_lib.ClusterSpec object at 0x7fb821621b38>, '_task_type': 'worker', '_task_id': 0, '_global_id_in_cluster': 0, '_master': '', '_evaluation_master': '', '_is_chief': True, '_num_ps_replicas': 0, '_num_worker_replicas': 1}\n",
      "INFO:tensorflow:Calling model_fn.\n",
      "INFO:tensorflow:Done calling model_fn.\n",
      "INFO:tensorflow:Create CheckpointSaverHook.\n",
      "INFO:tensorflow:Graph was finalized.\n",
      "INFO:tensorflow:Running local_init_op.\n",
      "INFO:tensorflow:Done running local_init_op.\n",
      "INFO:tensorflow:Saving checkpoints for 1 into /tmp/tmp4zdu7sfm/model.ckpt.\n",
      "INFO:tensorflow:loss = 238.0033, step = 0\n",
      "INFO:tensorflow:global_step/sec: 141.873\n",
      "INFO:tensorflow:loss = 19.888224, step = 100 (0.709 sec)\n",
      "INFO:tensorflow:global_step/sec: 146.236\n",
      "INFO:tensorflow:loss = 5.503819, step = 200 (0.684 sec)\n",
      "INFO:tensorflow:global_step/sec: 156.926\n",
      "INFO:tensorflow:loss = 5.209601, step = 300 (0.641 sec)\n",
      "INFO:tensorflow:global_step/sec: 161.586\n",
      "INFO:tensorflow:loss = 7.5333996, step = 400 (0.617 sec)\n",
      "INFO:tensorflow:global_step/sec: 142.126\n",
      "INFO:tensorflow:loss = 7.790153, step = 500 (0.702 sec)\n",
      "INFO:tensorflow:global_step/sec: 145.146\n",
      "INFO:tensorflow:loss = 1.6298612, step = 600 (0.691 sec)\n",
      "INFO:tensorflow:global_step/sec: 144.627\n",
      "INFO:tensorflow:loss = 5.9762335, step = 700 (0.687 sec)\n",
      "INFO:tensorflow:global_step/sec: 158.232\n",
      "INFO:tensorflow:loss = 2.7647734, step = 800 (0.636 sec)\n",
      "INFO:tensorflow:global_step/sec: 148.082\n",
      "INFO:tensorflow:loss = 0.8324256, step = 900 (0.672 sec)\n",
      "INFO:tensorflow:global_step/sec: 154.558\n",
      "INFO:tensorflow:loss = 7.0959826, step = 1000 (0.650 sec)\n",
      "INFO:tensorflow:global_step/sec: 149.621\n",
      "INFO:tensorflow:loss = 2.9267263, step = 1100 (0.666 sec)\n",
      "INFO:tensorflow:global_step/sec: 166.486\n",
      "INFO:tensorflow:loss = 3.1963356, step = 1200 (0.606 sec)\n",
      "INFO:tensorflow:global_step/sec: 152.72\n",
      "INFO:tensorflow:loss = 2.13481, step = 1300 (0.650 sec)\n",
      "INFO:tensorflow:global_step/sec: 151.991\n",
      "INFO:tensorflow:loss = 0.49007785, step = 1400 (0.664 sec)\n",
      "INFO:tensorflow:Saving checkpoints for 1500 into /tmp/tmp4zdu7sfm/model.ckpt.\n",
      "INFO:tensorflow:Loss for final step: 1.4951975.\n",
      "INFO:tensorflow:Calling model_fn.\n",
      "INFO:tensorflow:Done calling model_fn.\n",
      "INFO:tensorflow:Starting evaluation at 2018-05-18-14:17:05\n",
      "INFO:tensorflow:Graph was finalized.\n",
      "INFO:tensorflow:Restoring parameters from /tmp/tmp4zdu7sfm/model.ckpt-1500\n",
      "INFO:tensorflow:Running local_init_op.\n",
      "INFO:tensorflow:Done running local_init_op.\n",
      "INFO:tensorflow:Finished evaluation at 2018-05-18-14:17:05\n",
      "INFO:tensorflow:Saving dict for global step 1500: accuracy = 0.992377, average_loss = 0.03772842, global_step = 1500, loss = 3.6294742\n",
      "INFO:tensorflow:Calling model_fn.\n",
      "INFO:tensorflow:Done calling model_fn.\n",
      "INFO:tensorflow:Graph was finalized.\n",
      "INFO:tensorflow:Restoring parameters from /tmp/tmp4zdu7sfm/model.ckpt-1500\n",
      "INFO:tensorflow:Running local_init_op.\n",
      "INFO:tensorflow:Done running local_init_op.\n",
      "INFO:tensorflow:Using default config.\n",
      "WARNING:tensorflow:Using temporary folder as model directory: /tmp/tmpubsrmbgb\n",
      "INFO:tensorflow:Using config: {'_model_dir': '/tmp/tmpubsrmbgb', '_tf_random_seed': None, '_save_summary_steps': 100, '_save_checkpoints_steps': None, '_save_checkpoints_secs': 600, '_session_config': None, '_keep_checkpoint_max': 5, '_keep_checkpoint_every_n_hours': 10000, '_log_step_count_steps': 100, '_service': None, '_cluster_spec': <tensorflow.python.training.server_lib.ClusterSpec object at 0x7fb8391cdb70>, '_task_type': 'worker', '_task_id': 0, '_global_id_in_cluster': 0, '_master': '', '_evaluation_master': '', '_is_chief': True, '_num_ps_replicas': 0, '_num_worker_replicas': 1}\n",
      "INFO:tensorflow:Calling model_fn.\n",
      "INFO:tensorflow:Done calling model_fn.\n",
      "INFO:tensorflow:Create CheckpointSaverHook.\n",
      "INFO:tensorflow:Graph was finalized.\n",
      "INFO:tensorflow:Running local_init_op.\n",
      "INFO:tensorflow:Done running local_init_op.\n",
      "INFO:tensorflow:Saving checkpoints for 1 into /tmp/tmpubsrmbgb/model.ckpt.\n",
      "INFO:tensorflow:loss = 234.90663, step = 0\n",
      "INFO:tensorflow:global_step/sec: 143.965\n",
      "INFO:tensorflow:loss = 16.811762, step = 100 (0.702 sec)\n",
      "INFO:tensorflow:global_step/sec: 153.607\n",
      "INFO:tensorflow:loss = 7.1979375, step = 200 (0.647 sec)\n",
      "INFO:tensorflow:global_step/sec: 155.885\n",
      "INFO:tensorflow:loss = 1.9931267, step = 300 (0.645 sec)\n",
      "INFO:tensorflow:global_step/sec: 146.191\n",
      "INFO:tensorflow:loss = 4.7046523, step = 400 (0.683 sec)\n",
      "INFO:tensorflow:global_step/sec: 151.71\n"
     ]
    },
    {
     "name": "stdout",
     "output_type": "stream",
     "text": [
      "INFO:tensorflow:loss = 1.4224705, step = 500 (0.655 sec)\n",
      "INFO:tensorflow:global_step/sec: 144.845\n",
      "INFO:tensorflow:loss = 3.6488006, step = 600 (0.691 sec)\n",
      "INFO:tensorflow:global_step/sec: 144.855\n",
      "INFO:tensorflow:loss = 2.1298316, step = 700 (0.690 sec)\n",
      "INFO:tensorflow:global_step/sec: 155.45\n",
      "INFO:tensorflow:loss = 6.8641376, step = 800 (0.643 sec)\n",
      "INFO:tensorflow:global_step/sec: 157.004\n",
      "INFO:tensorflow:loss = 0.9659917, step = 900 (0.637 sec)\n",
      "INFO:tensorflow:global_step/sec: 161.622\n",
      "INFO:tensorflow:loss = 4.3023973, step = 1000 (0.623 sec)\n",
      "INFO:tensorflow:global_step/sec: 151.978\n",
      "INFO:tensorflow:loss = 1.5943228, step = 1100 (0.658 sec)\n",
      "INFO:tensorflow:global_step/sec: 154.273\n",
      "INFO:tensorflow:loss = 2.689365, step = 1200 (0.650 sec)\n",
      "INFO:tensorflow:global_step/sec: 155.14\n",
      "INFO:tensorflow:loss = 0.63633764, step = 1300 (0.646 sec)\n",
      "INFO:tensorflow:global_step/sec: 154.214\n",
      "INFO:tensorflow:loss = 0.79887533, step = 1400 (0.647 sec)\n",
      "INFO:tensorflow:Saving checkpoints for 1500 into /tmp/tmpubsrmbgb/model.ckpt.\n",
      "INFO:tensorflow:Loss for final step: 0.6802423.\n",
      "INFO:tensorflow:Calling model_fn.\n",
      "INFO:tensorflow:Done calling model_fn.\n",
      "INFO:tensorflow:Starting evaluation at 2018-05-18-14:17:18\n",
      "INFO:tensorflow:Graph was finalized.\n",
      "INFO:tensorflow:Restoring parameters from /tmp/tmpubsrmbgb/model.ckpt-1500\n",
      "INFO:tensorflow:Running local_init_op.\n",
      "INFO:tensorflow:Done running local_init_op.\n",
      "INFO:tensorflow:Finished evaluation at 2018-05-18-14:17:19\n",
      "INFO:tensorflow:Saving dict for global step 1500: accuracy = 0.9852696, average_loss = 0.07050364, global_step = 1500, loss = 7.046447\n",
      "INFO:tensorflow:Calling model_fn.\n",
      "INFO:tensorflow:Done calling model_fn.\n",
      "INFO:tensorflow:Graph was finalized.\n",
      "INFO:tensorflow:Restoring parameters from /tmp/tmpubsrmbgb/model.ckpt-1500\n",
      "INFO:tensorflow:Running local_init_op.\n",
      "INFO:tensorflow:Done running local_init_op.\n",
      "INFO:tensorflow:Using default config.\n",
      "WARNING:tensorflow:Using temporary folder as model directory: /tmp/tmpd2zvgrr7\n",
      "INFO:tensorflow:Using config: {'_model_dir': '/tmp/tmpd2zvgrr7', '_tf_random_seed': None, '_save_summary_steps': 100, '_save_checkpoints_steps': None, '_save_checkpoints_secs': 600, '_session_config': None, '_keep_checkpoint_max': 5, '_keep_checkpoint_every_n_hours': 10000, '_log_step_count_steps': 100, '_service': None, '_cluster_spec': <tensorflow.python.training.server_lib.ClusterSpec object at 0x7fb818587128>, '_task_type': 'worker', '_task_id': 0, '_global_id_in_cluster': 0, '_master': '', '_evaluation_master': '', '_is_chief': True, '_num_ps_replicas': 0, '_num_worker_replicas': 1}\n",
      "INFO:tensorflow:Calling model_fn.\n",
      "INFO:tensorflow:Done calling model_fn.\n",
      "INFO:tensorflow:Create CheckpointSaverHook.\n",
      "INFO:tensorflow:Graph was finalized.\n",
      "INFO:tensorflow:Running local_init_op.\n",
      "INFO:tensorflow:Done running local_init_op.\n",
      "INFO:tensorflow:Saving checkpoints for 1 into /tmp/tmpd2zvgrr7/model.ckpt.\n",
      "INFO:tensorflow:loss = 225.80182, step = 0\n",
      "INFO:tensorflow:global_step/sec: 137.894\n",
      "INFO:tensorflow:loss = 22.739204, step = 100 (0.727 sec)\n",
      "INFO:tensorflow:global_step/sec: 151.462\n",
      "INFO:tensorflow:loss = 3.8475347, step = 200 (0.666 sec)\n",
      "INFO:tensorflow:global_step/sec: 150.72\n",
      "INFO:tensorflow:loss = 3.7022424, step = 300 (0.662 sec)\n",
      "INFO:tensorflow:global_step/sec: 162.662\n",
      "INFO:tensorflow:loss = 0.8106672, step = 400 (0.610 sec)\n",
      "INFO:tensorflow:global_step/sec: 157.428\n",
      "INFO:tensorflow:loss = 11.700287, step = 500 (0.640 sec)\n",
      "INFO:tensorflow:global_step/sec: 154.636\n",
      "INFO:tensorflow:loss = 4.6816244, step = 600 (0.642 sec)\n",
      "INFO:tensorflow:global_step/sec: 154.604\n",
      "INFO:tensorflow:loss = 1.3374754, step = 700 (0.654 sec)\n",
      "INFO:tensorflow:global_step/sec: 163.517\n",
      "INFO:tensorflow:loss = 2.4037726, step = 800 (0.604 sec)\n",
      "INFO:tensorflow:global_step/sec: 156.213\n",
      "INFO:tensorflow:loss = 0.5912773, step = 900 (0.644 sec)\n",
      "INFO:tensorflow:global_step/sec: 154.634\n",
      "INFO:tensorflow:loss = 2.6702607, step = 1000 (0.649 sec)\n",
      "INFO:tensorflow:global_step/sec: 150.325\n",
      "INFO:tensorflow:loss = 0.960846, step = 1100 (0.666 sec)\n",
      "INFO:tensorflow:global_step/sec: 163.574\n",
      "INFO:tensorflow:loss = 0.7705953, step = 1200 (0.611 sec)\n",
      "INFO:tensorflow:global_step/sec: 151.706\n",
      "INFO:tensorflow:loss = 0.36372882, step = 1300 (0.660 sec)\n",
      "INFO:tensorflow:global_step/sec: 152.227\n",
      "INFO:tensorflow:loss = 0.6823707, step = 1400 (0.655 sec)\n",
      "INFO:tensorflow:global_step/sec: 147.278\n",
      "INFO:tensorflow:loss = 0.9220092, step = 1500 (0.676 sec)\n",
      "INFO:tensorflow:global_step/sec: 164.701\n",
      "INFO:tensorflow:loss = 1.6475991, step = 1600 (0.609 sec)\n",
      "INFO:tensorflow:global_step/sec: 152.433\n",
      "INFO:tensorflow:loss = 0.50575024, step = 1700 (0.658 sec)\n",
      "INFO:tensorflow:global_step/sec: 153.449\n",
      "INFO:tensorflow:loss = 1.0622494, step = 1800 (0.646 sec)\n",
      "INFO:tensorflow:global_step/sec: 156.644\n",
      "INFO:tensorflow:loss = 0.76880395, step = 1900 (0.641 sec)\n",
      "INFO:tensorflow:Saving checkpoints for 2000 into /tmp/tmpd2zvgrr7/model.ckpt.\n",
      "INFO:tensorflow:Loss for final step: 0.045453165.\n",
      "INFO:tensorflow:Calling model_fn.\n",
      "INFO:tensorflow:Done calling model_fn.\n",
      "INFO:tensorflow:Starting evaluation at 2018-05-18-14:17:35\n",
      "INFO:tensorflow:Graph was finalized.\n",
      "INFO:tensorflow:Restoring parameters from /tmp/tmpd2zvgrr7/model.ckpt-2000\n",
      "INFO:tensorflow:Running local_init_op.\n",
      "INFO:tensorflow:Done running local_init_op.\n",
      "INFO:tensorflow:Finished evaluation at 2018-05-18-14:17:35\n",
      "INFO:tensorflow:Saving dict for global step 2000: accuracy = 0.983368, average_loss = 0.05782748, global_step = 2000, loss = 5.5630035\n",
      "INFO:tensorflow:Calling model_fn.\n",
      "INFO:tensorflow:Done calling model_fn.\n",
      "INFO:tensorflow:Graph was finalized.\n",
      "INFO:tensorflow:Restoring parameters from /tmp/tmpd2zvgrr7/model.ckpt-2000\n",
      "INFO:tensorflow:Running local_init_op.\n",
      "INFO:tensorflow:Done running local_init_op.\n",
      "INFO:tensorflow:Using default config.\n",
      "WARNING:tensorflow:Using temporary folder as model directory: /tmp/tmpxb9e4vt1\n",
      "INFO:tensorflow:Using config: {'_model_dir': '/tmp/tmpxb9e4vt1', '_tf_random_seed': None, '_save_summary_steps': 100, '_save_checkpoints_steps': None, '_save_checkpoints_secs': 600, '_session_config': None, '_keep_checkpoint_max': 5, '_keep_checkpoint_every_n_hours': 10000, '_log_step_count_steps': 100, '_service': None, '_cluster_spec': <tensorflow.python.training.server_lib.ClusterSpec object at 0x7fb83ef36a58>, '_task_type': 'worker', '_task_id': 0, '_global_id_in_cluster': 0, '_master': '', '_evaluation_master': '', '_is_chief': True, '_num_ps_replicas': 0, '_num_worker_replicas': 1}\n",
      "INFO:tensorflow:Calling model_fn.\n",
      "INFO:tensorflow:Done calling model_fn.\n",
      "INFO:tensorflow:Create CheckpointSaverHook.\n",
      "INFO:tensorflow:Graph was finalized.\n",
      "INFO:tensorflow:Running local_init_op.\n",
      "INFO:tensorflow:Done running local_init_op.\n",
      "INFO:tensorflow:Saving checkpoints for 1 into /tmp/tmpxb9e4vt1/model.ckpt.\n",
      "INFO:tensorflow:loss = 231.41873, step = 0\n",
      "INFO:tensorflow:global_step/sec: 143.165\n",
      "INFO:tensorflow:loss = 10.034977, step = 100 (0.705 sec)\n",
      "INFO:tensorflow:global_step/sec: 157.26\n",
      "INFO:tensorflow:loss = 8.300492, step = 200 (0.632 sec)\n",
      "INFO:tensorflow:global_step/sec: 154.922\n",
      "INFO:tensorflow:loss = 4.7905197, step = 300 (0.645 sec)\n",
      "INFO:tensorflow:global_step/sec: 161.699\n",
      "INFO:tensorflow:loss = 5.229864, step = 400 (0.619 sec)\n",
      "INFO:tensorflow:global_step/sec: 162.307\n",
      "INFO:tensorflow:loss = 2.6797614, step = 500 (0.621 sec)\n",
      "INFO:tensorflow:global_step/sec: 159.334\n",
      "INFO:tensorflow:loss = 3.6288571, step = 600 (0.628 sec)\n",
      "INFO:tensorflow:global_step/sec: 154.575\n",
      "INFO:tensorflow:loss = 1.1243206, step = 700 (0.641 sec)\n",
      "INFO:tensorflow:global_step/sec: 159.584\n",
      "INFO:tensorflow:loss = 3.1954968, step = 800 (0.626 sec)\n",
      "INFO:tensorflow:global_step/sec: 154.328\n",
      "INFO:tensorflow:loss = 1.3180422, step = 900 (0.652 sec)\n",
      "INFO:tensorflow:global_step/sec: 155.443\n",
      "INFO:tensorflow:loss = 0.32025987, step = 1000 (0.647 sec)\n",
      "INFO:tensorflow:global_step/sec: 154.295\n",
      "INFO:tensorflow:loss = 0.5354766, step = 1100 (0.641 sec)\n",
      "INFO:tensorflow:global_step/sec: 154.862\n",
      "INFO:tensorflow:loss = 0.83386105, step = 1200 (0.650 sec)\n",
      "INFO:tensorflow:global_step/sec: 148.594\n",
      "INFO:tensorflow:loss = 0.2086613, step = 1300 (0.674 sec)\n",
      "INFO:tensorflow:global_step/sec: 162.539\n",
      "INFO:tensorflow:loss = 0.2875582, step = 1400 (0.614 sec)\n",
      "INFO:tensorflow:global_step/sec: 153.733\n",
      "INFO:tensorflow:loss = 0.8674618, step = 1500 (0.650 sec)\n",
      "INFO:tensorflow:global_step/sec: 152.177\n",
      "INFO:tensorflow:loss = 0.22802177, step = 1600 (0.659 sec)\n",
      "INFO:tensorflow:global_step/sec: 153.525\n",
      "INFO:tensorflow:loss = 0.25571927, step = 1700 (0.649 sec)\n",
      "INFO:tensorflow:global_step/sec: 151.263\n",
      "INFO:tensorflow:loss = 0.26305223, step = 1800 (0.660 sec)\n",
      "INFO:tensorflow:global_step/sec: 161.768\n",
      "INFO:tensorflow:loss = 0.12278475, step = 1900 (0.617 sec)\n",
      "INFO:tensorflow:Saving checkpoints for 2000 into /tmp/tmpxb9e4vt1/model.ckpt.\n",
      "INFO:tensorflow:Loss for final step: 0.32019132.\n",
      "INFO:tensorflow:Calling model_fn.\n",
      "INFO:tensorflow:Done calling model_fn.\n",
      "INFO:tensorflow:Starting evaluation at 2018-05-18-14:17:51\n",
      "INFO:tensorflow:Graph was finalized.\n",
      "INFO:tensorflow:Restoring parameters from /tmp/tmpxb9e4vt1/model.ckpt-2000\n",
      "INFO:tensorflow:Running local_init_op.\n",
      "INFO:tensorflow:Done running local_init_op.\n",
      "INFO:tensorflow:Finished evaluation at 2018-05-18-14:17:51\n",
      "INFO:tensorflow:Saving dict for global step 2000: accuracy = 0.9799889, average_loss = 0.08906096, global_step = 2000, loss = 8.901149\n",
      "INFO:tensorflow:Calling model_fn.\n",
      "INFO:tensorflow:Done calling model_fn.\n",
      "INFO:tensorflow:Graph was finalized.\n",
      "INFO:tensorflow:Restoring parameters from /tmp/tmpxb9e4vt1/model.ckpt-2000\n",
      "INFO:tensorflow:Running local_init_op.\n",
      "INFO:tensorflow:Done running local_init_op.\n",
      "INFO:tensorflow:Using default config.\n",
      "WARNING:tensorflow:Using temporary folder as model directory: /tmp/tmpa8443iig\n",
      "INFO:tensorflow:Using config: {'_model_dir': '/tmp/tmpa8443iig', '_tf_random_seed': None, '_save_summary_steps': 100, '_save_checkpoints_steps': None, '_save_checkpoints_secs': 600, '_session_config': None, '_keep_checkpoint_max': 5, '_keep_checkpoint_every_n_hours': 10000, '_log_step_count_steps': 100, '_service': None, '_cluster_spec': <tensorflow.python.training.server_lib.ClusterSpec object at 0x7fb8217bd518>, '_task_type': 'worker', '_task_id': 0, '_global_id_in_cluster': 0, '_master': '', '_evaluation_master': '', '_is_chief': True, '_num_ps_replicas': 0, '_num_worker_replicas': 1}\n",
      "INFO:tensorflow:Calling model_fn.\n",
      "INFO:tensorflow:Done calling model_fn.\n",
      "INFO:tensorflow:Create CheckpointSaverHook.\n",
      "INFO:tensorflow:Graph was finalized.\n",
      "INFO:tensorflow:Running local_init_op.\n",
      "INFO:tensorflow:Done running local_init_op.\n",
      "INFO:tensorflow:Saving checkpoints for 1 into /tmp/tmpa8443iig/model.ckpt.\n"
     ]
    },
    {
     "name": "stdout",
     "output_type": "stream",
     "text": [
      "INFO:tensorflow:loss = 239.71185, step = 0\n",
      "INFO:tensorflow:Saving checkpoints for 100 into /tmp/tmpa8443iig/model.ckpt.\n",
      "INFO:tensorflow:Loss for final step: 18.197393.\n",
      "INFO:tensorflow:Calling model_fn.\n",
      "INFO:tensorflow:Done calling model_fn.\n",
      "INFO:tensorflow:Starting evaluation at 2018-05-18-14:17:55\n",
      "INFO:tensorflow:Graph was finalized.\n",
      "INFO:tensorflow:Restoring parameters from /tmp/tmpa8443iig/model.ckpt-100\n",
      "INFO:tensorflow:Running local_init_op.\n",
      "INFO:tensorflow:Done running local_init_op.\n",
      "INFO:tensorflow:Finished evaluation at 2018-05-18-14:17:55\n",
      "INFO:tensorflow:Saving dict for global step 100: accuracy = 0.9480249, average_loss = 0.18143867, global_step = 100, loss = 17.454401\n",
      "INFO:tensorflow:Calling model_fn.\n",
      "INFO:tensorflow:Done calling model_fn.\n",
      "INFO:tensorflow:Graph was finalized.\n",
      "INFO:tensorflow:Restoring parameters from /tmp/tmpa8443iig/model.ckpt-100\n",
      "INFO:tensorflow:Running local_init_op.\n",
      "INFO:tensorflow:Done running local_init_op.\n",
      "INFO:tensorflow:Using default config.\n",
      "WARNING:tensorflow:Using temporary folder as model directory: /tmp/tmpz26myzrq\n",
      "INFO:tensorflow:Using config: {'_model_dir': '/tmp/tmpz26myzrq', '_tf_random_seed': None, '_save_summary_steps': 100, '_save_checkpoints_steps': None, '_save_checkpoints_secs': 600, '_session_config': None, '_keep_checkpoint_max': 5, '_keep_checkpoint_every_n_hours': 10000, '_log_step_count_steps': 100, '_service': None, '_cluster_spec': <tensorflow.python.training.server_lib.ClusterSpec object at 0x7fb8185465c0>, '_task_type': 'worker', '_task_id': 0, '_global_id_in_cluster': 0, '_master': '', '_evaluation_master': '', '_is_chief': True, '_num_ps_replicas': 0, '_num_worker_replicas': 1}\n",
      "INFO:tensorflow:Calling model_fn.\n",
      "INFO:tensorflow:Done calling model_fn.\n",
      "INFO:tensorflow:Create CheckpointSaverHook.\n",
      "INFO:tensorflow:Graph was finalized.\n",
      "INFO:tensorflow:Running local_init_op.\n",
      "INFO:tensorflow:Done running local_init_op.\n",
      "INFO:tensorflow:Saving checkpoints for 1 into /tmp/tmpz26myzrq/model.ckpt.\n",
      "INFO:tensorflow:loss = 226.219, step = 0\n",
      "INFO:tensorflow:Saving checkpoints for 100 into /tmp/tmpz26myzrq/model.ckpt.\n",
      "INFO:tensorflow:Loss for final step: 9.730853.\n",
      "INFO:tensorflow:Calling model_fn.\n",
      "INFO:tensorflow:Done calling model_fn.\n",
      "INFO:tensorflow:Starting evaluation at 2018-05-18-14:17:59\n",
      "INFO:tensorflow:Graph was finalized.\n",
      "INFO:tensorflow:Restoring parameters from /tmp/tmpz26myzrq/model.ckpt-100\n",
      "INFO:tensorflow:Running local_init_op.\n",
      "INFO:tensorflow:Done running local_init_op.\n",
      "INFO:tensorflow:Finished evaluation at 2018-05-18-14:18:00\n",
      "INFO:tensorflow:Saving dict for global step 100: accuracy = 0.95108396, average_loss = 0.18602331, global_step = 100, loss = 18.591997\n",
      "INFO:tensorflow:Calling model_fn.\n",
      "INFO:tensorflow:Done calling model_fn.\n",
      "INFO:tensorflow:Graph was finalized.\n",
      "INFO:tensorflow:Restoring parameters from /tmp/tmpz26myzrq/model.ckpt-100\n",
      "INFO:tensorflow:Running local_init_op.\n",
      "INFO:tensorflow:Done running local_init_op.\n",
      "INFO:tensorflow:Using default config.\n",
      "WARNING:tensorflow:Using temporary folder as model directory: /tmp/tmpw5t58n_l\n",
      "INFO:tensorflow:Using config: {'_model_dir': '/tmp/tmpw5t58n_l', '_tf_random_seed': None, '_save_summary_steps': 100, '_save_checkpoints_steps': None, '_save_checkpoints_secs': 600, '_session_config': None, '_keep_checkpoint_max': 5, '_keep_checkpoint_every_n_hours': 10000, '_log_step_count_steps': 100, '_service': None, '_cluster_spec': <tensorflow.python.training.server_lib.ClusterSpec object at 0x7fb83901dc50>, '_task_type': 'worker', '_task_id': 0, '_global_id_in_cluster': 0, '_master': '', '_evaluation_master': '', '_is_chief': True, '_num_ps_replicas': 0, '_num_worker_replicas': 1}\n",
      "INFO:tensorflow:Calling model_fn.\n",
      "INFO:tensorflow:Done calling model_fn.\n",
      "INFO:tensorflow:Create CheckpointSaverHook.\n",
      "INFO:tensorflow:Graph was finalized.\n",
      "INFO:tensorflow:Running local_init_op.\n",
      "INFO:tensorflow:Done running local_init_op.\n",
      "INFO:tensorflow:Saving checkpoints for 1 into /tmp/tmpw5t58n_l/model.ckpt.\n",
      "INFO:tensorflow:loss = 227.51758, step = 0\n",
      "INFO:tensorflow:global_step/sec: 138.792\n",
      "INFO:tensorflow:loss = 13.057732, step = 100 (0.723 sec)\n",
      "INFO:tensorflow:Saving checkpoints for 200 into /tmp/tmpw5t58n_l/model.ckpt.\n",
      "INFO:tensorflow:Loss for final step: 4.2261767.\n",
      "INFO:tensorflow:Calling model_fn.\n",
      "INFO:tensorflow:Done calling model_fn.\n",
      "INFO:tensorflow:Starting evaluation at 2018-05-18-14:18:04\n",
      "INFO:tensorflow:Graph was finalized.\n",
      "INFO:tensorflow:Restoring parameters from /tmp/tmpw5t58n_l/model.ckpt-200\n",
      "INFO:tensorflow:Running local_init_op.\n",
      "INFO:tensorflow:Done running local_init_op.\n",
      "INFO:tensorflow:Finished evaluation at 2018-05-18-14:18:04\n",
      "INFO:tensorflow:Saving dict for global step 200: accuracy = 0.96465695, average_loss = 0.12317025, global_step = 200, loss = 11.848978\n",
      "INFO:tensorflow:Calling model_fn.\n",
      "INFO:tensorflow:Done calling model_fn.\n",
      "INFO:tensorflow:Graph was finalized.\n",
      "INFO:tensorflow:Restoring parameters from /tmp/tmpw5t58n_l/model.ckpt-200\n",
      "INFO:tensorflow:Running local_init_op.\n",
      "INFO:tensorflow:Done running local_init_op.\n",
      "INFO:tensorflow:Using default config.\n",
      "WARNING:tensorflow:Using temporary folder as model directory: /tmp/tmpik8g6yfb\n",
      "INFO:tensorflow:Using config: {'_model_dir': '/tmp/tmpik8g6yfb', '_tf_random_seed': None, '_save_summary_steps': 100, '_save_checkpoints_steps': None, '_save_checkpoints_secs': 600, '_session_config': None, '_keep_checkpoint_max': 5, '_keep_checkpoint_every_n_hours': 10000, '_log_step_count_steps': 100, '_service': None, '_cluster_spec': <tensorflow.python.training.server_lib.ClusterSpec object at 0x7fb8189c1630>, '_task_type': 'worker', '_task_id': 0, '_global_id_in_cluster': 0, '_master': '', '_evaluation_master': '', '_is_chief': True, '_num_ps_replicas': 0, '_num_worker_replicas': 1}\n",
      "INFO:tensorflow:Calling model_fn.\n",
      "INFO:tensorflow:Done calling model_fn.\n",
      "INFO:tensorflow:Create CheckpointSaverHook.\n",
      "INFO:tensorflow:Graph was finalized.\n",
      "INFO:tensorflow:Running local_init_op.\n",
      "INFO:tensorflow:Done running local_init_op.\n",
      "INFO:tensorflow:Saving checkpoints for 1 into /tmp/tmpik8g6yfb/model.ckpt.\n",
      "INFO:tensorflow:loss = 231.05359, step = 0\n",
      "INFO:tensorflow:global_step/sec: 132.825\n",
      "INFO:tensorflow:loss = 18.124222, step = 100 (0.761 sec)\n",
      "INFO:tensorflow:Saving checkpoints for 200 into /tmp/tmpik8g6yfb/model.ckpt.\n",
      "INFO:tensorflow:Loss for final step: 11.927112.\n",
      "INFO:tensorflow:Calling model_fn.\n",
      "INFO:tensorflow:Done calling model_fn.\n",
      "INFO:tensorflow:Starting evaluation at 2018-05-18-14:18:09\n",
      "INFO:tensorflow:Graph was finalized.\n",
      "INFO:tensorflow:Restoring parameters from /tmp/tmpik8g6yfb/model.ckpt-200\n",
      "INFO:tensorflow:Running local_init_op.\n",
      "INFO:tensorflow:Done running local_init_op.\n",
      "INFO:tensorflow:Finished evaluation at 2018-05-18-14:18:09\n",
      "INFO:tensorflow:Saving dict for global step 200: accuracy = 0.9633129, average_loss = 0.12495926, global_step = 200, loss = 12.488984\n",
      "INFO:tensorflow:Calling model_fn.\n",
      "INFO:tensorflow:Done calling model_fn.\n",
      "INFO:tensorflow:Graph was finalized.\n",
      "INFO:tensorflow:Restoring parameters from /tmp/tmpik8g6yfb/model.ckpt-200\n",
      "INFO:tensorflow:Running local_init_op.\n",
      "INFO:tensorflow:Done running local_init_op.\n",
      "INFO:tensorflow:Using default config.\n",
      "WARNING:tensorflow:Using temporary folder as model directory: /tmp/tmpjm80zwfa\n",
      "INFO:tensorflow:Using config: {'_model_dir': '/tmp/tmpjm80zwfa', '_tf_random_seed': None, '_save_summary_steps': 100, '_save_checkpoints_steps': None, '_save_checkpoints_secs': 600, '_session_config': None, '_keep_checkpoint_max': 5, '_keep_checkpoint_every_n_hours': 10000, '_log_step_count_steps': 100, '_service': None, '_cluster_spec': <tensorflow.python.training.server_lib.ClusterSpec object at 0x7fb8186929e8>, '_task_type': 'worker', '_task_id': 0, '_global_id_in_cluster': 0, '_master': '', '_evaluation_master': '', '_is_chief': True, '_num_ps_replicas': 0, '_num_worker_replicas': 1}\n",
      "INFO:tensorflow:Calling model_fn.\n",
      "INFO:tensorflow:Done calling model_fn.\n",
      "INFO:tensorflow:Create CheckpointSaverHook.\n",
      "INFO:tensorflow:Graph was finalized.\n",
      "INFO:tensorflow:Running local_init_op.\n",
      "INFO:tensorflow:Done running local_init_op.\n",
      "INFO:tensorflow:Saving checkpoints for 1 into /tmp/tmpjm80zwfa/model.ckpt.\n",
      "INFO:tensorflow:loss = 232.83946, step = 0\n",
      "INFO:tensorflow:global_step/sec: 143.7\n",
      "INFO:tensorflow:loss = 33.568874, step = 100 (0.700 sec)\n",
      "INFO:tensorflow:global_step/sec: 152.864\n",
      "INFO:tensorflow:loss = 18.352922, step = 200 (0.655 sec)\n",
      "INFO:tensorflow:global_step/sec: 149.149\n",
      "INFO:tensorflow:loss = 16.95938, step = 300 (0.671 sec)\n",
      "INFO:tensorflow:global_step/sec: 164.723\n",
      "INFO:tensorflow:loss = 10.29282, step = 400 (0.608 sec)\n",
      "INFO:tensorflow:Saving checkpoints for 500 into /tmp/tmpjm80zwfa/model.ckpt.\n",
      "INFO:tensorflow:Loss for final step: 2.4779828.\n",
      "INFO:tensorflow:Calling model_fn.\n",
      "INFO:tensorflow:Done calling model_fn.\n",
      "INFO:tensorflow:Starting evaluation at 2018-05-18-14:18:16\n",
      "INFO:tensorflow:Graph was finalized.\n",
      "INFO:tensorflow:Restoring parameters from /tmp/tmpjm80zwfa/model.ckpt-500\n",
      "INFO:tensorflow:Running local_init_op.\n",
      "INFO:tensorflow:Done running local_init_op.\n",
      "INFO:tensorflow:Finished evaluation at 2018-05-18-14:18:16\n",
      "INFO:tensorflow:Saving dict for global step 500: accuracy = 0.978517, average_loss = 0.06702354, global_step = 500, loss = 6.4476643\n",
      "INFO:tensorflow:Calling model_fn.\n",
      "INFO:tensorflow:Done calling model_fn.\n",
      "INFO:tensorflow:Graph was finalized.\n",
      "INFO:tensorflow:Restoring parameters from /tmp/tmpjm80zwfa/model.ckpt-500\n",
      "INFO:tensorflow:Running local_init_op.\n",
      "INFO:tensorflow:Done running local_init_op.\n",
      "INFO:tensorflow:Using default config.\n",
      "WARNING:tensorflow:Using temporary folder as model directory: /tmp/tmp0lkm355r\n",
      "INFO:tensorflow:Using config: {'_model_dir': '/tmp/tmp0lkm355r', '_tf_random_seed': None, '_save_summary_steps': 100, '_save_checkpoints_steps': None, '_save_checkpoints_secs': 600, '_session_config': None, '_keep_checkpoint_max': 5, '_keep_checkpoint_every_n_hours': 10000, '_log_step_count_steps': 100, '_service': None, '_cluster_spec': <tensorflow.python.training.server_lib.ClusterSpec object at 0x7fb839411cf8>, '_task_type': 'worker', '_task_id': 0, '_global_id_in_cluster': 0, '_master': '', '_evaluation_master': '', '_is_chief': True, '_num_ps_replicas': 0, '_num_worker_replicas': 1}\n",
      "INFO:tensorflow:Calling model_fn.\n",
      "INFO:tensorflow:Done calling model_fn.\n",
      "INFO:tensorflow:Create CheckpointSaverHook.\n",
      "INFO:tensorflow:Graph was finalized.\n",
      "INFO:tensorflow:Running local_init_op.\n",
      "INFO:tensorflow:Done running local_init_op.\n",
      "INFO:tensorflow:Saving checkpoints for 1 into /tmp/tmp0lkm355r/model.ckpt.\n",
      "INFO:tensorflow:loss = 221.99355, step = 0\n",
      "INFO:tensorflow:global_step/sec: 135.607\n",
      "INFO:tensorflow:loss = 18.641998, step = 100 (0.740 sec)\n",
      "INFO:tensorflow:global_step/sec: 145.134\n",
      "INFO:tensorflow:loss = 18.152725, step = 200 (0.692 sec)\n",
      "INFO:tensorflow:global_step/sec: 145.4\n",
      "INFO:tensorflow:loss = 5.035289, step = 300 (0.690 sec)\n",
      "INFO:tensorflow:global_step/sec: 155.074\n",
      "INFO:tensorflow:loss = 14.457401, step = 400 (0.641 sec)\n",
      "INFO:tensorflow:Saving checkpoints for 500 into /tmp/tmp0lkm355r/model.ckpt.\n",
      "INFO:tensorflow:Loss for final step: 7.6312504.\n",
      "INFO:tensorflow:Calling model_fn.\n",
      "INFO:tensorflow:Done calling model_fn.\n",
      "INFO:tensorflow:Starting evaluation at 2018-05-18-14:18:22\n",
      "INFO:tensorflow:Graph was finalized.\n",
      "INFO:tensorflow:Restoring parameters from /tmp/tmp0lkm355r/model.ckpt-500\n"
     ]
    },
    {
     "name": "stdout",
     "output_type": "stream",
     "text": [
      "INFO:tensorflow:Running local_init_op.\n",
      "INFO:tensorflow:Done running local_init_op.\n",
      "INFO:tensorflow:Finished evaluation at 2018-05-18-14:18:23\n",
      "INFO:tensorflow:Saving dict for global step 500: accuracy = 0.9766537, average_loss = 0.0865899, global_step = 500, loss = 8.65418\n",
      "INFO:tensorflow:Calling model_fn.\n",
      "INFO:tensorflow:Done calling model_fn.\n",
      "INFO:tensorflow:Graph was finalized.\n",
      "INFO:tensorflow:Restoring parameters from /tmp/tmp0lkm355r/model.ckpt-500\n",
      "INFO:tensorflow:Running local_init_op.\n",
      "INFO:tensorflow:Done running local_init_op.\n",
      "INFO:tensorflow:Using default config.\n",
      "WARNING:tensorflow:Using temporary folder as model directory: /tmp/tmpm6tzbo7r\n",
      "INFO:tensorflow:Using config: {'_model_dir': '/tmp/tmpm6tzbo7r', '_tf_random_seed': None, '_save_summary_steps': 100, '_save_checkpoints_steps': None, '_save_checkpoints_secs': 600, '_session_config': None, '_keep_checkpoint_max': 5, '_keep_checkpoint_every_n_hours': 10000, '_log_step_count_steps': 100, '_service': None, '_cluster_spec': <tensorflow.python.training.server_lib.ClusterSpec object at 0x7fb8396305f8>, '_task_type': 'worker', '_task_id': 0, '_global_id_in_cluster': 0, '_master': '', '_evaluation_master': '', '_is_chief': True, '_num_ps_replicas': 0, '_num_worker_replicas': 1}\n",
      "INFO:tensorflow:Calling model_fn.\n",
      "INFO:tensorflow:Done calling model_fn.\n",
      "INFO:tensorflow:Create CheckpointSaverHook.\n",
      "INFO:tensorflow:Graph was finalized.\n",
      "INFO:tensorflow:Running local_init_op.\n",
      "INFO:tensorflow:Done running local_init_op.\n",
      "INFO:tensorflow:Saving checkpoints for 1 into /tmp/tmpm6tzbo7r/model.ckpt.\n",
      "INFO:tensorflow:loss = 232.54669, step = 0\n",
      "INFO:tensorflow:global_step/sec: 133.793\n",
      "INFO:tensorflow:loss = 10.928962, step = 100 (0.753 sec)\n",
      "INFO:tensorflow:global_step/sec: 147.606\n",
      "INFO:tensorflow:loss = 18.190437, step = 200 (0.679 sec)\n",
      "INFO:tensorflow:global_step/sec: 143.523\n",
      "INFO:tensorflow:loss = 3.9890232, step = 300 (0.696 sec)\n",
      "INFO:tensorflow:global_step/sec: 157.39\n",
      "INFO:tensorflow:loss = 7.3753734, step = 400 (0.634 sec)\n",
      "INFO:tensorflow:global_step/sec: 149.893\n",
      "INFO:tensorflow:loss = 6.190049, step = 500 (0.670 sec)\n",
      "INFO:tensorflow:global_step/sec: 146.788\n",
      "INFO:tensorflow:loss = 9.715613, step = 600 (0.675 sec)\n",
      "INFO:tensorflow:global_step/sec: 150.091\n",
      "INFO:tensorflow:loss = 2.3763819, step = 700 (0.671 sec)\n",
      "INFO:tensorflow:global_step/sec: 159.945\n",
      "INFO:tensorflow:loss = 2.8041134, step = 800 (0.620 sec)\n",
      "INFO:tensorflow:global_step/sec: 149.887\n",
      "INFO:tensorflow:loss = 1.7668592, step = 900 (0.667 sec)\n",
      "INFO:tensorflow:Saving checkpoints for 1000 into /tmp/tmpm6tzbo7r/model.ckpt.\n",
      "INFO:tensorflow:Loss for final step: 3.7658746.\n",
      "INFO:tensorflow:Calling model_fn.\n",
      "INFO:tensorflow:Done calling model_fn.\n",
      "INFO:tensorflow:Starting evaluation at 2018-05-18-14:18:33\n",
      "INFO:tensorflow:Graph was finalized.\n",
      "INFO:tensorflow:Restoring parameters from /tmp/tmpm6tzbo7r/model.ckpt-1000\n",
      "INFO:tensorflow:Running local_init_op.\n",
      "INFO:tensorflow:Done running local_init_op.\n",
      "INFO:tensorflow:Finished evaluation at 2018-05-18-14:18:33\n",
      "INFO:tensorflow:Saving dict for global step 1000: accuracy = 0.979903, average_loss = 0.0783615, global_step = 1000, loss = 7.538376\n",
      "INFO:tensorflow:Calling model_fn.\n",
      "INFO:tensorflow:Done calling model_fn.\n",
      "INFO:tensorflow:Graph was finalized.\n",
      "INFO:tensorflow:Restoring parameters from /tmp/tmpm6tzbo7r/model.ckpt-1000\n",
      "INFO:tensorflow:Running local_init_op.\n",
      "INFO:tensorflow:Done running local_init_op.\n",
      "INFO:tensorflow:Using default config.\n",
      "WARNING:tensorflow:Using temporary folder as model directory: /tmp/tmp1be685ko\n",
      "INFO:tensorflow:Using config: {'_model_dir': '/tmp/tmp1be685ko', '_tf_random_seed': None, '_save_summary_steps': 100, '_save_checkpoints_steps': None, '_save_checkpoints_secs': 600, '_session_config': None, '_keep_checkpoint_max': 5, '_keep_checkpoint_every_n_hours': 10000, '_log_step_count_steps': 100, '_service': None, '_cluster_spec': <tensorflow.python.training.server_lib.ClusterSpec object at 0x7fb818ac1eb8>, '_task_type': 'worker', '_task_id': 0, '_global_id_in_cluster': 0, '_master': '', '_evaluation_master': '', '_is_chief': True, '_num_ps_replicas': 0, '_num_worker_replicas': 1}\n",
      "INFO:tensorflow:Calling model_fn.\n",
      "INFO:tensorflow:Done calling model_fn.\n",
      "INFO:tensorflow:Create CheckpointSaverHook.\n",
      "INFO:tensorflow:Graph was finalized.\n",
      "INFO:tensorflow:Running local_init_op.\n",
      "INFO:tensorflow:Done running local_init_op.\n",
      "INFO:tensorflow:Saving checkpoints for 1 into /tmp/tmp1be685ko/model.ckpt.\n",
      "INFO:tensorflow:loss = 224.06029, step = 0\n",
      "INFO:tensorflow:global_step/sec: 136.963\n",
      "INFO:tensorflow:loss = 22.873695, step = 100 (0.736 sec)\n",
      "INFO:tensorflow:global_step/sec: 150.159\n",
      "INFO:tensorflow:loss = 15.051887, step = 200 (0.669 sec)\n",
      "INFO:tensorflow:global_step/sec: 150.554\n",
      "INFO:tensorflow:loss = 3.1523836, step = 300 (0.662 sec)\n",
      "INFO:tensorflow:global_step/sec: 146.739\n",
      "INFO:tensorflow:loss = 2.6619947, step = 400 (0.676 sec)\n",
      "INFO:tensorflow:global_step/sec: 156.644\n",
      "INFO:tensorflow:loss = 2.1656497, step = 500 (0.642 sec)\n",
      "INFO:tensorflow:global_step/sec: 146.425\n",
      "INFO:tensorflow:loss = 11.893499, step = 600 (0.683 sec)\n",
      "INFO:tensorflow:global_step/sec: 150.114\n",
      "INFO:tensorflow:loss = 1.8198359, step = 700 (0.667 sec)\n",
      "INFO:tensorflow:global_step/sec: 157.655\n",
      "INFO:tensorflow:loss = 1.4775329, step = 800 (0.635 sec)\n",
      "INFO:tensorflow:global_step/sec: 152.715\n",
      "INFO:tensorflow:loss = 0.9295234, step = 900 (0.649 sec)\n",
      "INFO:tensorflow:Saving checkpoints for 1000 into /tmp/tmp1be685ko/model.ckpt.\n",
      "INFO:tensorflow:Loss for final step: 2.2986894.\n",
      "INFO:tensorflow:Calling model_fn.\n",
      "INFO:tensorflow:Done calling model_fn.\n",
      "INFO:tensorflow:Starting evaluation at 2018-05-18-14:18:43\n",
      "INFO:tensorflow:Graph was finalized.\n",
      "INFO:tensorflow:Restoring parameters from /tmp/tmp1be685ko/model.ckpt-1000\n",
      "INFO:tensorflow:Running local_init_op.\n",
      "INFO:tensorflow:Done running local_init_op.\n",
      "INFO:tensorflow:Finished evaluation at 2018-05-18-14:18:43\n",
      "INFO:tensorflow:Saving dict for global step 1000: accuracy = 0.9774875, average_loss = 0.10589176, global_step = 1000, loss = 10.583293\n",
      "INFO:tensorflow:Calling model_fn.\n",
      "INFO:tensorflow:Done calling model_fn.\n",
      "INFO:tensorflow:Graph was finalized.\n",
      "INFO:tensorflow:Restoring parameters from /tmp/tmp1be685ko/model.ckpt-1000\n",
      "INFO:tensorflow:Running local_init_op.\n",
      "INFO:tensorflow:Done running local_init_op.\n",
      "INFO:tensorflow:Using default config.\n",
      "WARNING:tensorflow:Using temporary folder as model directory: /tmp/tmptrmshpov\n",
      "INFO:tensorflow:Using config: {'_model_dir': '/tmp/tmptrmshpov', '_tf_random_seed': None, '_save_summary_steps': 100, '_save_checkpoints_steps': None, '_save_checkpoints_secs': 600, '_session_config': None, '_keep_checkpoint_max': 5, '_keep_checkpoint_every_n_hours': 10000, '_log_step_count_steps': 100, '_service': None, '_cluster_spec': <tensorflow.python.training.server_lib.ClusterSpec object at 0x7fb841181dd8>, '_task_type': 'worker', '_task_id': 0, '_global_id_in_cluster': 0, '_master': '', '_evaluation_master': '', '_is_chief': True, '_num_ps_replicas': 0, '_num_worker_replicas': 1}\n",
      "INFO:tensorflow:Calling model_fn.\n",
      "INFO:tensorflow:Done calling model_fn.\n",
      "INFO:tensorflow:Create CheckpointSaverHook.\n",
      "INFO:tensorflow:Graph was finalized.\n",
      "INFO:tensorflow:Running local_init_op.\n",
      "INFO:tensorflow:Done running local_init_op.\n",
      "INFO:tensorflow:Saving checkpoints for 1 into /tmp/tmptrmshpov/model.ckpt.\n",
      "INFO:tensorflow:loss = 232.3689, step = 0\n",
      "INFO:tensorflow:global_step/sec: 141.102\n",
      "INFO:tensorflow:loss = 7.896056, step = 100 (0.715 sec)\n",
      "INFO:tensorflow:global_step/sec: 144.633\n",
      "INFO:tensorflow:loss = 12.873034, step = 200 (0.687 sec)\n",
      "INFO:tensorflow:global_step/sec: 151.694\n",
      "INFO:tensorflow:loss = 6.7338643, step = 300 (0.659 sec)\n",
      "INFO:tensorflow:global_step/sec: 158.424\n",
      "INFO:tensorflow:loss = 2.7137206, step = 400 (0.636 sec)\n",
      "INFO:tensorflow:global_step/sec: 151.571\n",
      "INFO:tensorflow:loss = 3.078013, step = 500 (0.655 sec)\n",
      "INFO:tensorflow:global_step/sec: 149.724\n",
      "INFO:tensorflow:loss = 15.086093, step = 600 (0.675 sec)\n",
      "INFO:tensorflow:global_step/sec: 150.16\n",
      "INFO:tensorflow:loss = 2.8801053, step = 700 (0.659 sec)\n",
      "INFO:tensorflow:global_step/sec: 163.998\n",
      "INFO:tensorflow:loss = 4.615796, step = 800 (0.615 sec)\n",
      "INFO:tensorflow:global_step/sec: 150.169\n",
      "INFO:tensorflow:loss = 3.4423661, step = 900 (0.661 sec)\n",
      "INFO:tensorflow:global_step/sec: 147.176\n",
      "INFO:tensorflow:loss = 5.9638762, step = 1000 (0.685 sec)\n",
      "INFO:tensorflow:global_step/sec: 147.887\n",
      "INFO:tensorflow:loss = 0.7514783, step = 1100 (0.675 sec)\n",
      "INFO:tensorflow:global_step/sec: 155.533\n",
      "INFO:tensorflow:loss = 0.9860834, step = 1200 (0.640 sec)\n",
      "INFO:tensorflow:global_step/sec: 149.181\n",
      "INFO:tensorflow:loss = 1.80194, step = 1300 (0.672 sec)\n",
      "INFO:tensorflow:global_step/sec: 155.551\n",
      "INFO:tensorflow:loss = 0.74442726, step = 1400 (0.644 sec)\n",
      "INFO:tensorflow:Saving checkpoints for 1500 into /tmp/tmptrmshpov/model.ckpt.\n",
      "INFO:tensorflow:Loss for final step: 3.0659971.\n",
      "INFO:tensorflow:Calling model_fn.\n",
      "INFO:tensorflow:Done calling model_fn.\n",
      "INFO:tensorflow:Starting evaluation at 2018-05-18-14:18:56\n",
      "INFO:tensorflow:Graph was finalized.\n",
      "INFO:tensorflow:Restoring parameters from /tmp/tmptrmshpov/model.ckpt-1500\n",
      "INFO:tensorflow:Running local_init_op.\n",
      "INFO:tensorflow:Done running local_init_op.\n",
      "INFO:tensorflow:Finished evaluation at 2018-05-18-14:18:56\n",
      "INFO:tensorflow:Saving dict for global step 1500: accuracy = 0.98821896, average_loss = 0.045138407, global_step = 1500, loss = 4.3423147\n",
      "INFO:tensorflow:Calling model_fn.\n",
      "INFO:tensorflow:Done calling model_fn.\n",
      "INFO:tensorflow:Graph was finalized.\n",
      "INFO:tensorflow:Restoring parameters from /tmp/tmptrmshpov/model.ckpt-1500\n",
      "INFO:tensorflow:Running local_init_op.\n",
      "INFO:tensorflow:Done running local_init_op.\n",
      "INFO:tensorflow:Using default config.\n",
      "WARNING:tensorflow:Using temporary folder as model directory: /tmp/tmp19y5wz_t\n",
      "INFO:tensorflow:Using config: {'_model_dir': '/tmp/tmp19y5wz_t', '_tf_random_seed': None, '_save_summary_steps': 100, '_save_checkpoints_steps': None, '_save_checkpoints_secs': 600, '_session_config': None, '_keep_checkpoint_max': 5, '_keep_checkpoint_every_n_hours': 10000, '_log_step_count_steps': 100, '_service': None, '_cluster_spec': <tensorflow.python.training.server_lib.ClusterSpec object at 0x7fb8187c74e0>, '_task_type': 'worker', '_task_id': 0, '_global_id_in_cluster': 0, '_master': '', '_evaluation_master': '', '_is_chief': True, '_num_ps_replicas': 0, '_num_worker_replicas': 1}\n",
      "INFO:tensorflow:Calling model_fn.\n",
      "INFO:tensorflow:Done calling model_fn.\n",
      "INFO:tensorflow:Create CheckpointSaverHook.\n",
      "INFO:tensorflow:Graph was finalized.\n",
      "INFO:tensorflow:Running local_init_op.\n",
      "INFO:tensorflow:Done running local_init_op.\n",
      "INFO:tensorflow:Saving checkpoints for 1 into /tmp/tmp19y5wz_t/model.ckpt.\n"
     ]
    },
    {
     "name": "stdout",
     "output_type": "stream",
     "text": [
      "INFO:tensorflow:loss = 229.94186, step = 0\n",
      "INFO:tensorflow:global_step/sec: 139.615\n",
      "INFO:tensorflow:loss = 29.283125, step = 100 (0.723 sec)\n",
      "INFO:tensorflow:global_step/sec: 149.882\n",
      "INFO:tensorflow:loss = 9.677383, step = 200 (0.662 sec)\n",
      "INFO:tensorflow:global_step/sec: 150.196\n",
      "INFO:tensorflow:loss = 6.2362986, step = 300 (0.671 sec)\n",
      "INFO:tensorflow:global_step/sec: 143.492\n",
      "INFO:tensorflow:loss = 11.913669, step = 400 (0.692 sec)\n",
      "INFO:tensorflow:global_step/sec: 153.326\n",
      "INFO:tensorflow:loss = 1.9618537, step = 500 (0.658 sec)\n",
      "INFO:tensorflow:global_step/sec: 148.73\n",
      "INFO:tensorflow:loss = 6.93923, step = 600 (0.675 sec)\n",
      "INFO:tensorflow:global_step/sec: 152.051\n",
      "INFO:tensorflow:loss = 2.1863046, step = 700 (0.655 sec)\n",
      "INFO:tensorflow:global_step/sec: 152.403\n",
      "INFO:tensorflow:loss = 4.333575, step = 800 (0.654 sec)\n",
      "INFO:tensorflow:global_step/sec: 155.421\n",
      "INFO:tensorflow:loss = 3.0960565, step = 900 (0.640 sec)\n",
      "INFO:tensorflow:global_step/sec: 159.718\n",
      "INFO:tensorflow:loss = 1.3337123, step = 1000 (0.631 sec)\n",
      "INFO:tensorflow:global_step/sec: 155.381\n",
      "INFO:tensorflow:loss = 0.7485441, step = 1100 (0.645 sec)\n",
      "INFO:tensorflow:global_step/sec: 145.323\n",
      "INFO:tensorflow:loss = 5.9776235, step = 1200 (0.688 sec)\n",
      "INFO:tensorflow:global_step/sec: 153.479\n",
      "INFO:tensorflow:loss = 3.609134, step = 1300 (0.653 sec)\n",
      "INFO:tensorflow:global_step/sec: 159.612\n",
      "INFO:tensorflow:loss = 3.3854783, step = 1400 (0.621 sec)\n",
      "INFO:tensorflow:Saving checkpoints for 1500 into /tmp/tmp19y5wz_t/model.ckpt.\n",
      "INFO:tensorflow:Loss for final step: 3.2946365.\n",
      "INFO:tensorflow:Calling model_fn.\n",
      "INFO:tensorflow:Done calling model_fn.\n",
      "INFO:tensorflow:Starting evaluation at 2018-05-18-14:19:09\n",
      "INFO:tensorflow:Graph was finalized.\n",
      "INFO:tensorflow:Restoring parameters from /tmp/tmp19y5wz_t/model.ckpt-1500\n",
      "INFO:tensorflow:Running local_init_op.\n",
      "INFO:tensorflow:Done running local_init_op.\n",
      "INFO:tensorflow:Finished evaluation at 2018-05-18-14:19:10\n",
      "INFO:tensorflow:Saving dict for global step 1500: accuracy = 0.9788771, average_loss = 0.08874562, global_step = 1500, loss = 8.869632\n",
      "INFO:tensorflow:Calling model_fn.\n",
      "INFO:tensorflow:Done calling model_fn.\n",
      "INFO:tensorflow:Graph was finalized.\n",
      "INFO:tensorflow:Restoring parameters from /tmp/tmp19y5wz_t/model.ckpt-1500\n",
      "INFO:tensorflow:Running local_init_op.\n",
      "INFO:tensorflow:Done running local_init_op.\n",
      "INFO:tensorflow:Using default config.\n",
      "WARNING:tensorflow:Using temporary folder as model directory: /tmp/tmpjnv6b7ti\n",
      "INFO:tensorflow:Using config: {'_model_dir': '/tmp/tmpjnv6b7ti', '_tf_random_seed': None, '_save_summary_steps': 100, '_save_checkpoints_steps': None, '_save_checkpoints_secs': 600, '_session_config': None, '_keep_checkpoint_max': 5, '_keep_checkpoint_every_n_hours': 10000, '_log_step_count_steps': 100, '_service': None, '_cluster_spec': <tensorflow.python.training.server_lib.ClusterSpec object at 0x7fb7ffe74d30>, '_task_type': 'worker', '_task_id': 0, '_global_id_in_cluster': 0, '_master': '', '_evaluation_master': '', '_is_chief': True, '_num_ps_replicas': 0, '_num_worker_replicas': 1}\n",
      "INFO:tensorflow:Calling model_fn.\n",
      "INFO:tensorflow:Done calling model_fn.\n",
      "INFO:tensorflow:Create CheckpointSaverHook.\n",
      "INFO:tensorflow:Graph was finalized.\n",
      "INFO:tensorflow:Running local_init_op.\n",
      "INFO:tensorflow:Done running local_init_op.\n",
      "INFO:tensorflow:Saving checkpoints for 1 into /tmp/tmpjnv6b7ti/model.ckpt.\n",
      "INFO:tensorflow:loss = 225.0507, step = 0\n",
      "INFO:tensorflow:global_step/sec: 132.633\n",
      "INFO:tensorflow:loss = 18.025839, step = 100 (0.759 sec)\n",
      "INFO:tensorflow:global_step/sec: 141.915\n",
      "INFO:tensorflow:loss = 31.144857, step = 200 (0.704 sec)\n",
      "INFO:tensorflow:global_step/sec: 150.21\n",
      "INFO:tensorflow:loss = 17.661297, step = 300 (0.665 sec)\n",
      "INFO:tensorflow:global_step/sec: 159.871\n",
      "INFO:tensorflow:loss = 3.203579, step = 400 (0.628 sec)\n",
      "INFO:tensorflow:global_step/sec: 148.928\n",
      "INFO:tensorflow:loss = 1.2919911, step = 500 (0.671 sec)\n",
      "INFO:tensorflow:global_step/sec: 152.362\n",
      "INFO:tensorflow:loss = 2.9824133, step = 600 (0.653 sec)\n",
      "INFO:tensorflow:global_step/sec: 152.718\n",
      "INFO:tensorflow:loss = 1.6944357, step = 700 (0.659 sec)\n",
      "INFO:tensorflow:global_step/sec: 162.286\n",
      "INFO:tensorflow:loss = 3.5189872, step = 800 (0.611 sec)\n",
      "INFO:tensorflow:global_step/sec: 152.287\n",
      "INFO:tensorflow:loss = 1.73546, step = 900 (0.661 sec)\n",
      "INFO:tensorflow:global_step/sec: 143.321\n",
      "INFO:tensorflow:loss = 2.0636883, step = 1000 (0.699 sec)\n",
      "INFO:tensorflow:global_step/sec: 146.312\n",
      "INFO:tensorflow:loss = 2.7566884, step = 1100 (0.684 sec)\n",
      "INFO:tensorflow:global_step/sec: 160.139\n",
      "INFO:tensorflow:loss = 1.3204768, step = 1200 (0.622 sec)\n",
      "INFO:tensorflow:global_step/sec: 148.225\n",
      "INFO:tensorflow:loss = 0.80563027, step = 1300 (0.675 sec)\n",
      "INFO:tensorflow:global_step/sec: 149.018\n",
      "INFO:tensorflow:loss = 1.0610547, step = 1400 (0.672 sec)\n",
      "INFO:tensorflow:global_step/sec: 146.613\n",
      "INFO:tensorflow:loss = 0.61853087, step = 1500 (0.683 sec)\n",
      "INFO:tensorflow:global_step/sec: 158.437\n",
      "INFO:tensorflow:loss = 0.6115073, step = 1600 (0.629 sec)\n",
      "INFO:tensorflow:global_step/sec: 149.724\n",
      "INFO:tensorflow:loss = 1.4526356, step = 1700 (0.671 sec)\n",
      "INFO:tensorflow:global_step/sec: 152.476\n",
      "INFO:tensorflow:loss = 1.0668081, step = 1800 (0.652 sec)\n",
      "INFO:tensorflow:global_step/sec: 152.528\n",
      "INFO:tensorflow:loss = 0.34191316, step = 1900 (0.659 sec)\n",
      "INFO:tensorflow:Saving checkpoints for 2000 into /tmp/tmpjnv6b7ti/model.ckpt.\n",
      "INFO:tensorflow:Loss for final step: 1.2052661.\n",
      "INFO:tensorflow:Calling model_fn.\n",
      "INFO:tensorflow:Done calling model_fn.\n",
      "INFO:tensorflow:Starting evaluation at 2018-05-18-14:19:26\n",
      "INFO:tensorflow:Graph was finalized.\n",
      "INFO:tensorflow:Restoring parameters from /tmp/tmpjnv6b7ti/model.ckpt-2000\n",
      "INFO:tensorflow:Running local_init_op.\n",
      "INFO:tensorflow:Done running local_init_op.\n",
      "INFO:tensorflow:Finished evaluation at 2018-05-18-14:19:27\n",
      "INFO:tensorflow:Saving dict for global step 2000: accuracy = 0.98475397, average_loss = 0.07263142, global_step = 2000, loss = 6.9871426\n",
      "INFO:tensorflow:Calling model_fn.\n",
      "INFO:tensorflow:Done calling model_fn.\n",
      "INFO:tensorflow:Graph was finalized.\n",
      "INFO:tensorflow:Restoring parameters from /tmp/tmpjnv6b7ti/model.ckpt-2000\n",
      "INFO:tensorflow:Running local_init_op.\n",
      "INFO:tensorflow:Done running local_init_op.\n",
      "INFO:tensorflow:Using default config.\n",
      "WARNING:tensorflow:Using temporary folder as model directory: /tmp/tmpickl137x\n",
      "INFO:tensorflow:Using config: {'_model_dir': '/tmp/tmpickl137x', '_tf_random_seed': None, '_save_summary_steps': 100, '_save_checkpoints_steps': None, '_save_checkpoints_secs': 600, '_session_config': None, '_keep_checkpoint_max': 5, '_keep_checkpoint_every_n_hours': 10000, '_log_step_count_steps': 100, '_service': None, '_cluster_spec': <tensorflow.python.training.server_lib.ClusterSpec object at 0x7fb7ffee9f98>, '_task_type': 'worker', '_task_id': 0, '_global_id_in_cluster': 0, '_master': '', '_evaluation_master': '', '_is_chief': True, '_num_ps_replicas': 0, '_num_worker_replicas': 1}\n",
      "INFO:tensorflow:Calling model_fn.\n",
      "INFO:tensorflow:Done calling model_fn.\n",
      "INFO:tensorflow:Create CheckpointSaverHook.\n",
      "INFO:tensorflow:Graph was finalized.\n",
      "INFO:tensorflow:Running local_init_op.\n",
      "INFO:tensorflow:Done running local_init_op.\n",
      "INFO:tensorflow:Saving checkpoints for 1 into /tmp/tmpickl137x/model.ckpt.\n",
      "INFO:tensorflow:loss = 228.21968, step = 0\n",
      "INFO:tensorflow:global_step/sec: 138.796\n",
      "INFO:tensorflow:loss = 17.381403, step = 100 (0.725 sec)\n",
      "INFO:tensorflow:global_step/sec: 154.054\n",
      "INFO:tensorflow:loss = 19.172075, step = 200 (0.648 sec)\n",
      "INFO:tensorflow:global_step/sec: 152.156\n",
      "INFO:tensorflow:loss = 8.916651, step = 300 (0.662 sec)\n",
      "INFO:tensorflow:global_step/sec: 150.934\n",
      "INFO:tensorflow:loss = 6.2120275, step = 400 (0.659 sec)\n",
      "INFO:tensorflow:global_step/sec: 160.154\n",
      "INFO:tensorflow:loss = 8.5003395, step = 500 (0.626 sec)\n",
      "INFO:tensorflow:global_step/sec: 143.429\n",
      "INFO:tensorflow:loss = 8.390561, step = 600 (0.695 sec)\n",
      "INFO:tensorflow:global_step/sec: 151.286\n",
      "INFO:tensorflow:loss = 3.7244666, step = 700 (0.663 sec)\n",
      "INFO:tensorflow:global_step/sec: 144.149\n",
      "INFO:tensorflow:loss = 4.921384, step = 800 (0.692 sec)\n",
      "INFO:tensorflow:global_step/sec: 145.114\n",
      "INFO:tensorflow:loss = 2.3664615, step = 900 (0.692 sec)\n",
      "INFO:tensorflow:global_step/sec: 149.595\n",
      "INFO:tensorflow:loss = 3.7534842, step = 1000 (0.666 sec)\n",
      "INFO:tensorflow:global_step/sec: 144.336\n",
      "INFO:tensorflow:loss = 1.7544249, step = 1100 (0.693 sec)\n",
      "INFO:tensorflow:global_step/sec: 150.847\n",
      "INFO:tensorflow:loss = 0.9128943, step = 1200 (0.664 sec)\n",
      "INFO:tensorflow:global_step/sec: 152.377\n",
      "INFO:tensorflow:loss = 0.6336289, step = 1300 (0.652 sec)\n",
      "INFO:tensorflow:global_step/sec: 154.426\n",
      "INFO:tensorflow:loss = 1.5035728, step = 1400 (0.653 sec)\n",
      "INFO:tensorflow:global_step/sec: 144.485\n",
      "INFO:tensorflow:loss = 0.18148124, step = 1500 (0.689 sec)\n",
      "INFO:tensorflow:global_step/sec: 148.099\n",
      "INFO:tensorflow:loss = 1.3635368, step = 1600 (0.673 sec)\n",
      "INFO:tensorflow:global_step/sec: 156.566\n",
      "INFO:tensorflow:loss = 0.3239241, step = 1700 (0.640 sec)\n",
      "INFO:tensorflow:global_step/sec: 154.945\n",
      "INFO:tensorflow:loss = 0.44672233, step = 1800 (0.647 sec)\n",
      "INFO:tensorflow:global_step/sec: 163.406\n",
      "INFO:tensorflow:loss = 0.49897844, step = 1900 (0.613 sec)\n",
      "INFO:tensorflow:Saving checkpoints for 2000 into /tmp/tmpickl137x/model.ckpt.\n",
      "INFO:tensorflow:Loss for final step: 0.09188211.\n",
      "INFO:tensorflow:Calling model_fn.\n",
      "INFO:tensorflow:Done calling model_fn.\n",
      "INFO:tensorflow:Starting evaluation at 2018-05-18-14:19:43\n",
      "INFO:tensorflow:Graph was finalized.\n",
      "INFO:tensorflow:Restoring parameters from /tmp/tmpickl137x/model.ckpt-2000\n",
      "INFO:tensorflow:Running local_init_op.\n",
      "INFO:tensorflow:Done running local_init_op.\n",
      "INFO:tensorflow:Finished evaluation at 2018-05-18-14:19:43\n",
      "INFO:tensorflow:Saving dict for global step 2000: accuracy = 0.98638135, average_loss = 0.057959057, global_step = 2000, loss = 5.7926855\n",
      "INFO:tensorflow:Calling model_fn.\n",
      "INFO:tensorflow:Done calling model_fn.\n",
      "INFO:tensorflow:Graph was finalized.\n",
      "INFO:tensorflow:Restoring parameters from /tmp/tmpickl137x/model.ckpt-2000\n",
      "INFO:tensorflow:Running local_init_op.\n",
      "INFO:tensorflow:Done running local_init_op.\n"
     ]
    },
    {
     "data": {
      "text/html": [
       "<h1>Model iterations complete</h1>"
      ]
     },
     "metadata": {
      "tags": []
     },
     "output_type": "display_data"
    }
   ],
   "source": [
    "# k-fold cross validation\n",
    "# this may take a while\n",
    "\n",
    "# adjustment for k-fold: num_total_model_steps = num_steps * num_folds\n",
    "kfcv_evaluations = run_model_iterations(df, labels, kFoldCV_tf_data_generator)    \n"
   ]
  },
  {
   "cell_type": "code",
   "execution_count": 34,
   "metadata": {
    "colab": {
     "autoexec": {
      "startup": false,
      "wait_interval": 0
     },
     "base_uri": "https://localhost:8080/",
     "height": 60498
    },
    "colab_type": "code",
    "executionInfo": {
     "elapsed": 34706,
     "status": "ok",
     "timestamp": 1526653219494,
     "user": {
      "displayName": "Miguel Ramalho",
      "photoUrl": "//lh6.googleusercontent.com/-jjJPjyHB8Us/AAAAAAAAAAI/AAAAAAAAIgA/iRzSPgPaB_o/s50-c-k-no/photo.jpg",
      "userId": "103480353348288276211"
     },
     "user_tz": -60
    },
    "id": "cgOHsp35YMgs",
    "outputId": "4f71ba9f-6fe0-4849-f660-2d7ca4d98b9d"
   },
   "outputs": [
    {
     "name": "stdout",
     "output_type": "stream",
     "text": [
      "Num Results: 96\n"
     ]
    },
    {
     "data": {
      "text/html": [
       "<h2 style='text-align:center'>Iteration 1</h2>"
      ]
     },
     "metadata": {
      "tags": []
     },
     "output_type": "display_data"
    },
    {
     "data": {
      "text/html": [
       "<table style='font-size:16px;margin-left:auto;margin-right:auto;text-align=center'><tr><th>Hidden Layers</th><th>Training Fraction</th> <th>Number of Steps</th></tr><tr><th>[10]</th><th>80%</th><th>100</th></tr></table>"
      ]
     },
     "metadata": {
      "tags": []
     },
     "output_type": "display_data"
    },
    {
     "data": {
      "text/html": [
       "<h4>Confusion Matrix:</h4>"
      ]
     },
     "metadata": {
      "tags": []
     },
     "output_type": "display_data"
    },
    {
     "data": {
      "text/html": [
       "<br/>"
      ]
     },
     "metadata": {
      "tags": []
     },
     "output_type": "display_data"
    },
    {
     "name": "stdout",
     "output_type": "stream",
     "text": [
      "[[ 23   0   0   0   9   1   0   9   0  20]\n",
      " [  0   0   0   9   0  14   0   0   0   0]\n",
      " [  0   0   0   0   0   6   0   8   0   0]\n",
      " [  0   0   0  89   0   5   0   1   0   0]\n",
      " [  0   0   0   0 695   0   0   1   0   0]\n",
      " [  0   0   0   1   0 224   0   0   0   0]\n",
      " [  1   0   0   6   5  15   1   1   0   1]\n",
      " [  0   0   0   3   0   0   0 124   0   8]\n",
      " [  0   0   0   0   0  54   0   0   0   0]\n",
      " [  1   0   0   0   0   1   0  39   0  68]]\n"
     ]
    },
    {
     "data": {
      "text/html": [
       "<table style='font-size:16px;margin-left:auto;margin-right:auto;'><tr><th>Species</th><th>Accuracy</th> <th>Precision</th> <th>Recall</th> <th>F1-score</th></tr><tr><td>0</td><td>97.16%</td> <td>92.00%</td> <td>37.10%</td> <td>52.87%</td></tr><tr><td>1</td><td>98.41%</td> <td>nan%</td> <td>0.00%</td> <td>nan%</td></tr><tr><td>2</td><td>99.03%</td> <td>nan%</td> <td>0.00%</td> <td>nan%</td></tr><tr><td>3</td><td>98.27%</td> <td>82.41%</td> <td>93.68%</td> <td>87.68%</td></tr><tr><td>4</td><td>98.96%</td> <td>98.03%</td> <td>99.86%</td> <td>98.93%</td></tr><tr><td>5</td><td>93.28%</td> <td>70.00%</td> <td>99.56%</td> <td>82.20%</td></tr><tr><td>6</td><td>97.99%</td> <td>100.00%</td> <td>3.33%</td> <td>6.45%</td></tr><tr><td>7</td><td>95.15%</td> <td>67.76%</td> <td>91.85%</td> <td>77.99%</td></tr><tr><td>8</td><td>96.26%</td> <td>nan%</td> <td>0.00%</td> <td>nan%</td></tr><tr><td>9</td><td>95.15%</td> <td>70.10%</td> <td>62.39%</td> <td>66.02%</td></tr><tr><th>Average</th><th>96.96%</th> <th>82.90%</th> <th>48.78%</th> <th>67.45%</th></tr></table>"
      ]
     },
     "metadata": {
      "tags": []
     },
     "output_type": "display_data"
    },
    {
     "data": {
      "text/html": [
       "<hr>"
      ]
     },
     "metadata": {
      "tags": []
     },
     "output_type": "display_data"
    },
    {
     "data": {
      "text/html": [
       "<h2 style='text-align:center'>Iteration 2</h2>"
      ]
     },
     "metadata": {
      "tags": []
     },
     "output_type": "display_data"
    },
    {
     "data": {
      "text/html": [
       "<table style='font-size:16px;margin-left:auto;margin-right:auto;text-align=center'><tr><th>Hidden Layers</th><th>Training Fraction</th> <th>Number of Steps</th></tr><tr><th>[10]</th><th>50%</th><th>100</th></tr></table>"
      ]
     },
     "metadata": {
      "tags": []
     },
     "output_type": "display_data"
    },
    {
     "data": {
      "text/html": [
       "<h4>Confusion Matrix:</h4>"
      ]
     },
     "metadata": {
      "tags": []
     },
     "output_type": "display_data"
    },
    {
     "data": {
      "text/html": [
       "<br/>"
      ]
     },
     "metadata": {
      "tags": []
     },
     "output_type": "display_data"
    },
    {
     "name": "stdout",
     "output_type": "stream",
     "text": [
      "[[  45    0    0    0   27    7    0   25    0   51]\n",
      " [   0    0    0   14    0   41    0    2    0    0]\n",
      " [   0    0    0    0    0   30    0    4    0    0]\n",
      " [   0    0    0  220    0    8    0    8    0    0]\n",
      " [   0    0    0    1 1736    2    0    0    0    0]\n",
      " [   1    0    0    4    0  556    0    0    0    0]\n",
      " [   1    0    0    3   17   38    0    2    0   13]\n",
      " [   0    0    0    3    0    3    0  315    0   15]\n",
      " [   8    0    0    1    1  112    0   10    3    0]\n",
      " [   0    0    0    0    0    6    0   75    0  190]]\n"
     ]
    },
    {
     "data": {
      "text/html": [
       "<table style='font-size:16px;margin-left:auto;margin-right:auto;'><tr><th>Species</th><th>Accuracy</th> <th>Precision</th> <th>Recall</th> <th>F1-score</th></tr><tr><td>0</td><td>96.66%</td> <td>81.82%</td> <td>29.03%</td> <td>42.86%</td></tr><tr><td>1</td><td>98.42%</td> <td>nan%</td> <td>0.00%</td> <td>nan%</td></tr><tr><td>2</td><td>99.06%</td> <td>nan%</td> <td>0.00%</td> <td>nan%</td></tr><tr><td>3</td><td>98.83%</td> <td>89.43%</td> <td>93.22%</td> <td>91.29%</td></tr><tr><td>4</td><td>98.67%</td> <td>97.47%</td> <td>99.83%</td> <td>98.64%</td></tr><tr><td>5</td><td>93.00%</td> <td>69.24%</td> <td>99.11%</td> <td>81.52%</td></tr><tr><td>6</td><td>97.94%</td> <td>nan%</td> <td>0.00%</td> <td>nan%</td></tr><tr><td>7</td><td>95.91%</td> <td>71.43%</td> <td>93.75%</td> <td>81.08%</td></tr><tr><td>8</td><td>96.33%</td> <td>100.00%</td> <td>2.22%</td> <td>4.35%</td></tr><tr><td>9</td><td>95.55%</td> <td>70.63%</td> <td>70.11%</td> <td>70.37%</td></tr><tr><th>Average</th><th>97.04%</th> <th>82.86%</th> <th>48.73%</th> <th>67.16%</th></tr></table>"
      ]
     },
     "metadata": {
      "tags": []
     },
     "output_type": "display_data"
    },
    {
     "data": {
      "text/html": [
       "<hr>"
      ]
     },
     "metadata": {
      "tags": []
     },
     "output_type": "display_data"
    },
    {
     "data": {
      "text/html": [
       "<h2 style='text-align:center'>Iteration 3</h2>"
      ]
     },
     "metadata": {
      "tags": []
     },
     "output_type": "display_data"
    },
    {
     "data": {
      "text/html": [
       "<table style='font-size:16px;margin-left:auto;margin-right:auto;text-align=center'><tr><th>Hidden Layers</th><th>Training Fraction</th> <th>Number of Steps</th></tr><tr><th>[10]</th><th>80%</th><th>200</th></tr></table>"
      ]
     },
     "metadata": {
      "tags": []
     },
     "output_type": "display_data"
    },
    {
     "data": {
      "text/html": [
       "<h4>Confusion Matrix:</h4>"
      ]
     },
     "metadata": {
      "tags": []
     },
     "output_type": "display_data"
    },
    {
     "data": {
      "text/html": [
       "<br/>"
      ]
     },
     "metadata": {
      "tags": []
     },
     "output_type": "display_data"
    },
    {
     "name": "stdout",
     "output_type": "stream",
     "text": [
      "[[ 31   0   0   0  15   2   0   9   0   5]\n",
      " [  0   1   0   6   0  15   0   1   0   0]\n",
      " [  0   0   0   0   0  12   0   0   1   1]\n",
      " [  0   0   0  92   0   2   0   0   1   0]\n",
      " [  0   0   0   1 693   1   0   0   0   1]\n",
      " [  0   0   0   0   0 224   0   0   1   0]\n",
      " [  3   0   0   2   0  13  12   0   0   0]\n",
      " [  0   1   0   1   0   0   0 127   0   6]\n",
      " [  1   0   0   0   0   4   0   3  46   0]\n",
      " [  5   0   0   0   0   4   0   1   0  99]]\n"
     ]
    },
    {
     "data": {
      "text/html": [
       "<table style='font-size:16px;margin-left:auto;margin-right:auto;'><tr><th>Species</th><th>Accuracy</th> <th>Precision</th> <th>Recall</th> <th>F1-score</th></tr><tr><td>0</td><td>97.23%</td> <td>77.50%</td> <td>50.00%</td> <td>60.78%</td></tr><tr><td>1</td><td>98.41%</td> <td>50.00%</td> <td>4.35%</td> <td>8.00%</td></tr><tr><td>2</td><td>99.03%</td> <td>nan%</td> <td>0.00%</td> <td>nan%</td></tr><tr><td>3</td><td>99.10%</td> <td>90.20%</td> <td>96.84%</td> <td>93.40%</td></tr><tr><td>4</td><td>98.75%</td> <td>97.88%</td> <td>99.57%</td> <td>98.72%</td></tr><tr><td>5</td><td>96.26%</td> <td>80.87%</td> <td>99.56%</td> <td>89.24%</td></tr><tr><td>6</td><td>98.75%</td> <td>100.00%</td> <td>40.00%</td> <td>57.14%</td></tr><tr><td>7</td><td>98.48%</td> <td>90.07%</td> <td>94.07%</td> <td>92.03%</td></tr><tr><td>8</td><td>99.24%</td> <td>93.88%</td> <td>85.19%</td> <td>89.32%</td></tr><tr><td>9</td><td>98.41%</td> <td>88.39%</td> <td>90.83%</td> <td>89.59%</td></tr><tr><th>Average</th><th>98.36%</th> <th>85.42%</th> <th>66.04%</th> <th>75.36%</th></tr></table>"
      ]
     },
     "metadata": {
      "tags": []
     },
     "output_type": "display_data"
    },
    {
     "data": {
      "text/html": [
       "<hr>"
      ]
     },
     "metadata": {
      "tags": []
     },
     "output_type": "display_data"
    },
    {
     "data": {
      "text/html": [
       "<h2 style='text-align:center'>Iteration 4</h2>"
      ]
     },
     "metadata": {
      "tags": []
     },
     "output_type": "display_data"
    },
    {
     "data": {
      "text/html": [
       "<table style='font-size:16px;margin-left:auto;margin-right:auto;text-align=center'><tr><th>Hidden Layers</th><th>Training Fraction</th> <th>Number of Steps</th></tr><tr><th>[10]</th><th>50%</th><th>200</th></tr></table>"
      ]
     },
     "metadata": {
      "tags": []
     },
     "output_type": "display_data"
    },
    {
     "data": {
      "text/html": [
       "<h4>Confusion Matrix:</h4>"
      ]
     },
     "metadata": {
      "tags": []
     },
     "output_type": "display_data"
    },
    {
     "data": {
      "text/html": [
       "<br/>"
      ]
     },
     "metadata": {
      "tags": []
     },
     "output_type": "display_data"
    },
    {
     "name": "stdout",
     "output_type": "stream",
     "text": [
      "[[  63    0    0    0   27    0    0   18    0   47]\n",
      " [   0    0    0   16    0   39    0    1    1    0]\n",
      " [   0    0    0    2    0   16    0    9    1    6]\n",
      " [   0    0    0  224    0   11    0    1    0    0]\n",
      " [   4    0    0    0 1732    1    0    0    0    2]\n",
      " [   1    0    0    3    4  545    0    0    8    0]\n",
      " [   0    0    0   12   23   19    5    0    0   15]\n",
      " [   0    0    0    2    0    4    0  319    0   11]\n",
      " [   0    0    0    0    1   20    0    3  111    0]\n",
      " [   4    0    0    0    0    2    0    3    0  262]]\n"
     ]
    },
    {
     "data": {
      "text/html": [
       "<table style='font-size:16px;margin-left:auto;margin-right:auto;'><tr><th>Species</th><th>Accuracy</th> <th>Precision</th> <th>Recall</th> <th>F1-score</th></tr><tr><td>0</td><td>97.19%</td> <td>87.50%</td> <td>40.65%</td> <td>55.51%</td></tr><tr><td>1</td><td>98.42%</td> <td>nan%</td> <td>0.00%</td> <td>nan%</td></tr><tr><td>2</td><td>99.06%</td> <td>nan%</td> <td>0.00%</td> <td>nan%</td></tr><tr><td>3</td><td>98.69%</td> <td>86.49%</td> <td>94.92%</td> <td>90.51%</td></tr><tr><td>4</td><td>98.28%</td> <td>96.92%</td> <td>99.60%</td> <td>98.24%</td></tr><tr><td>5</td><td>96.44%</td> <td>82.95%</td> <td>97.15%</td> <td>89.49%</td></tr><tr><td>6</td><td>98.08%</td> <td>100.00%</td> <td>6.76%</td> <td>12.66%</td></tr><tr><td>7</td><td>98.55%</td> <td>90.11%</td> <td>94.94%</td> <td>92.46%</td></tr><tr><td>8</td><td>99.06%</td> <td>91.74%</td> <td>82.22%</td> <td>86.72%</td></tr><tr><td>9</td><td>97.50%</td> <td>76.38%</td> <td>96.68%</td> <td>85.34%</td></tr><tr><th>Average</th><th>98.13%</th> <th>89.01%</th> <th>61.29%</th> <th>76.37%</th></tr></table>"
      ]
     },
     "metadata": {
      "tags": []
     },
     "output_type": "display_data"
    },
    {
     "data": {
      "text/html": [
       "<hr>"
      ]
     },
     "metadata": {
      "tags": []
     },
     "output_type": "display_data"
    },
    {
     "data": {
      "text/html": [
       "<h2 style='text-align:center'>Iteration 5</h2>"
      ]
     },
     "metadata": {
      "tags": []
     },
     "output_type": "display_data"
    },
    {
     "data": {
      "text/html": [
       "<table style='font-size:16px;margin-left:auto;margin-right:auto;text-align=center'><tr><th>Hidden Layers</th><th>Training Fraction</th> <th>Number of Steps</th></tr><tr><th>[10]</th><th>80%</th><th>500</th></tr></table>"
      ]
     },
     "metadata": {
      "tags": []
     },
     "output_type": "display_data"
    },
    {
     "data": {
      "text/html": [
       "<h4>Confusion Matrix:</h4>"
      ]
     },
     "metadata": {
      "tags": []
     },
     "output_type": "display_data"
    },
    {
     "data": {
      "text/html": [
       "<br/>"
      ]
     },
     "metadata": {
      "tags": []
     },
     "output_type": "display_data"
    },
    {
     "name": "stdout",
     "output_type": "stream",
     "text": [
      "[[ 35   0   0   0   7   0   1   8   0  11]\n",
      " [  0   5   0   9   0   6   0   2   1   0]\n",
      " [  0   1   0   0   0   4   0   3   1   5]\n",
      " [  0   0   0  93   0   0   0   1   1   0]\n",
      " [  0   0   0   2 693   1   0   0   0   0]\n",
      " [  0   0   0   3   0 221   0   0   1   0]\n",
      " [  4   1   0   0   0   4  20   0   0   1]\n",
      " [  0   0   0   0   0   0   0 134   0   1]\n",
      " [  2   0   0   3   0   1   0   0  48   0]\n",
      " [  1   0   0   0   0   0   0   0   0 108]]\n"
     ]
    },
    {
     "data": {
      "text/html": [
       "<table style='font-size:16px;margin-left:auto;margin-right:auto;'><tr><th>Species</th><th>Accuracy</th> <th>Precision</th> <th>Recall</th> <th>F1-score</th></tr><tr><td>0</td><td>97.64%</td> <td>83.33%</td> <td>56.45%</td> <td>67.31%</td></tr><tr><td>1</td><td>98.61%</td> <td>71.43%</td> <td>21.74%</td> <td>33.33%</td></tr><tr><td>2</td><td>99.03%</td> <td>nan%</td> <td>0.00%</td> <td>nan%</td></tr><tr><td>3</td><td>98.68%</td> <td>84.55%</td> <td>97.89%</td> <td>90.73%</td></tr><tr><td>4</td><td>99.31%</td> <td>99.00%</td> <td>99.57%</td> <td>99.28%</td></tr><tr><td>5</td><td>98.61%</td> <td>93.25%</td> <td>98.22%</td> <td>95.67%</td></tr><tr><td>6</td><td>99.24%</td> <td>95.24%</td> <td>66.67%</td> <td>78.43%</td></tr><tr><td>7</td><td>98.96%</td> <td>90.54%</td> <td>99.26%</td> <td>94.70%</td></tr><tr><td>8</td><td>99.31%</td> <td>92.31%</td> <td>88.89%</td> <td>90.57%</td></tr><tr><td>9</td><td>98.68%</td> <td>85.71%</td> <td>99.08%</td> <td>91.91%</td></tr><tr><th>Average</th><th>98.81%</th> <th>88.37%</th> <th>72.78%</th> <th>82.44%</th></tr></table>"
      ]
     },
     "metadata": {
      "tags": []
     },
     "output_type": "display_data"
    },
    {
     "data": {
      "text/html": [
       "<hr>"
      ]
     },
     "metadata": {
      "tags": []
     },
     "output_type": "display_data"
    },
    {
     "data": {
      "text/html": [
       "<h2 style='text-align:center'>Iteration 6</h2>"
      ]
     },
     "metadata": {
      "tags": []
     },
     "output_type": "display_data"
    },
    {
     "data": {
      "text/html": [
       "<table style='font-size:16px;margin-left:auto;margin-right:auto;text-align=center'><tr><th>Hidden Layers</th><th>Training Fraction</th> <th>Number of Steps</th></tr><tr><th>[10]</th><th>50%</th><th>500</th></tr></table>"
      ]
     },
     "metadata": {
      "tags": []
     },
     "output_type": "display_data"
    },
    {
     "data": {
      "text/html": [
       "<h4>Confusion Matrix:</h4>"
      ]
     },
     "metadata": {
      "tags": []
     },
     "output_type": "display_data"
    },
    {
     "data": {
      "text/html": [
       "<br/>"
      ]
     },
     "metadata": {
      "tags": []
     },
     "output_type": "display_data"
    },
    {
     "name": "stdout",
     "output_type": "stream",
     "text": [
      "[[  70    0    0    0   20    1    0   32    0   32]\n",
      " [   0   20    0   11    0   20    2    1    3    0]\n",
      " [   0    0    0    2    0    4    1   23    1    3]\n",
      " [   0    1    0  226    0    0    0    2    7    0]\n",
      " [   5    0    0    1 1730    3    0    0    0    0]\n",
      " [   0    0    0    3    2  546    0    0   10    0]\n",
      " [   2    1    0   13    0    5   38    0    0   15]\n",
      " [   0    1    0    3    0    3    0  313    0   16]\n",
      " [   1    0    0    3    1    9    0    8  113    0]\n",
      " [   2    0    0    0    0    0    0    8    0  261]]\n"
     ]
    },
    {
     "data": {
      "text/html": [
       "<table style='font-size:16px;margin-left:auto;margin-right:auto;'><tr><th>Species</th><th>Accuracy</th> <th>Precision</th> <th>Recall</th> <th>F1-score</th></tr><tr><td>0</td><td>97.36%</td> <td>87.50%</td> <td>45.16%</td> <td>59.57%</td></tr><tr><td>1</td><td>98.89%</td> <td>86.96%</td> <td>35.09%</td> <td>50.00%</td></tr><tr><td>2</td><td>99.06%</td> <td>nan%</td> <td>0.00%</td> <td>nan%</td></tr><tr><td>3</td><td>98.72%</td> <td>86.26%</td> <td>95.76%</td> <td>90.76%</td></tr><tr><td>4</td><td>99.11%</td> <td>98.69%</td> <td>99.48%</td> <td>99.08%</td></tr><tr><td>5</td><td>98.33%</td> <td>92.39%</td> <td>97.33%</td> <td>94.79%</td></tr><tr><td>6</td><td>98.92%</td> <td>92.68%</td> <td>51.35%</td> <td>66.09%</td></tr><tr><td>7</td><td>97.30%</td> <td>80.88%</td> <td>93.15%</td> <td>86.58%</td></tr><tr><td>8</td><td>98.80%</td> <td>84.33%</td> <td>83.70%</td> <td>84.01%</td></tr><tr><td>9</td><td>97.89%</td> <td>79.82%</td> <td>96.31%</td> <td>87.29%</td></tr><tr><th>Average</th><th>98.44%</th> <th>87.72%</th> <th>69.73%</th> <th>79.80%</th></tr></table>"
      ]
     },
     "metadata": {
      "tags": []
     },
     "output_type": "display_data"
    },
    {
     "data": {
      "text/html": [
       "<hr>"
      ]
     },
     "metadata": {
      "tags": []
     },
     "output_type": "display_data"
    },
    {
     "data": {
      "text/html": [
       "<h2 style='text-align:center'>Iteration 7</h2>"
      ]
     },
     "metadata": {
      "tags": []
     },
     "output_type": "display_data"
    },
    {
     "data": {
      "text/html": [
       "<table style='font-size:16px;margin-left:auto;margin-right:auto;text-align=center'><tr><th>Hidden Layers</th><th>Training Fraction</th> <th>Number of Steps</th></tr><tr><th>[10]</th><th>80%</th><th>1000</th></tr></table>"
      ]
     },
     "metadata": {
      "tags": []
     },
     "output_type": "display_data"
    },
    {
     "data": {
      "text/html": [
       "<h4>Confusion Matrix:</h4>"
      ]
     },
     "metadata": {
      "tags": []
     },
     "output_type": "display_data"
    },
    {
     "data": {
      "text/html": [
       "<br/>"
      ]
     },
     "metadata": {
      "tags": []
     },
     "output_type": "display_data"
    },
    {
     "name": "stdout",
     "output_type": "stream",
     "text": [
      "[[ 32   0   0   0  15   1   0   7   0   7]\n",
      " [  0  14   0   4   0   4   1   0   0   0]\n",
      " [  0   0   7   1   0   0   3   0   2   1]\n",
      " [  0   3   0  91   0   1   0   0   0   0]\n",
      " [  1   0   0   1 692   0   2   0   0   0]\n",
      " [  1   0   0   2   1 217   0   0   4   0]\n",
      " [  2   2   0   3   0   0  19   1   0   3]\n",
      " [  0   1   0   1   0   2   0 124   0   7]\n",
      " [  0   0   0   3   0   1   0   1  48   1]\n",
      " [  6   0   0   0   0   0   0   3   0 100]]\n"
     ]
    },
    {
     "data": {
      "text/html": [
       "<table style='font-size:16px;margin-left:auto;margin-right:auto;'><tr><th>Species</th><th>Accuracy</th> <th>Precision</th> <th>Recall</th> <th>F1-score</th></tr><tr><td>0</td><td>97.23%</td> <td>76.19%</td> <td>51.61%</td> <td>61.54%</td></tr><tr><td>1</td><td>98.96%</td> <td>70.00%</td> <td>60.87%</td> <td>65.12%</td></tr><tr><td>2</td><td>99.51%</td> <td>100.00%</td> <td>50.00%</td> <td>66.67%</td></tr><tr><td>3</td><td>98.68%</td> <td>85.85%</td> <td>95.79%</td> <td>90.55%</td></tr><tr><td>4</td><td>98.61%</td> <td>97.74%</td> <td>99.43%</td> <td>98.58%</td></tr><tr><td>5</td><td>98.82%</td> <td>96.02%</td> <td>96.44%</td> <td>96.23%</td></tr><tr><td>6</td><td>98.82%</td> <td>76.00%</td> <td>63.33%</td> <td>69.09%</td></tr><tr><td>7</td><td>98.41%</td> <td>91.18%</td> <td>91.85%</td> <td>91.51%</td></tr><tr><td>8</td><td>99.17%</td> <td>88.89%</td> <td>88.89%</td> <td>88.89%</td></tr><tr><td>9</td><td>98.06%</td> <td>84.03%</td> <td>91.74%</td> <td>87.72%</td></tr><tr><th>Average</th><th>98.63%</th> <th>86.59%</th> <th>79.00%</th> <th>81.59%</th></tr></table>"
      ]
     },
     "metadata": {
      "tags": []
     },
     "output_type": "display_data"
    },
    {
     "data": {
      "text/html": [
       "<hr>"
      ]
     },
     "metadata": {
      "tags": []
     },
     "output_type": "display_data"
    },
    {
     "data": {
      "text/html": [
       "<h2 style='text-align:center'>Iteration 8</h2>"
      ]
     },
     "metadata": {
      "tags": []
     },
     "output_type": "display_data"
    },
    {
     "data": {
      "text/html": [
       "<table style='font-size:16px;margin-left:auto;margin-right:auto;text-align=center'><tr><th>Hidden Layers</th><th>Training Fraction</th> <th>Number of Steps</th></tr><tr><th>[10]</th><th>50%</th><th>1000</th></tr></table>"
      ]
     },
     "metadata": {
      "tags": []
     },
     "output_type": "display_data"
    },
    {
     "data": {
      "text/html": [
       "<h4>Confusion Matrix:</h4>"
      ]
     },
     "metadata": {
      "tags": []
     },
     "output_type": "display_data"
    },
    {
     "data": {
      "text/html": [
       "<br/>"
      ]
     },
     "metadata": {
      "tags": []
     },
     "output_type": "display_data"
    },
    {
     "name": "stdout",
     "output_type": "stream",
     "text": [
      "[[  67    0    0    0   22    6    0   20    0   40]\n",
      " [   0   26    0   11    0   15    2    2    1    0]\n",
      " [   2    0    5    1    0    0    2    9    2   13]\n",
      " [   0    6    0  226    0    2    1    0    1    0]\n",
      " [   5    0    1    1 1728    3    0    0    0    1]\n",
      " [   0    0    0    1    1  554    0    0    5    0]\n",
      " [   3    0    0    7    0    2   60    2    0    0]\n",
      " [   1    1    0    1    0    2    0  321    0   10]\n",
      " [   2    0    0    4    0    5    0    4  120    0]\n",
      " [   4    0    0    0    0    0    1    6    0  260]]\n"
     ]
    },
    {
     "data": {
      "text/html": [
       "<table style='font-size:16px;margin-left:auto;margin-right:auto;'><tr><th>Species</th><th>Accuracy</th> <th>Precision</th> <th>Recall</th> <th>F1-score</th></tr><tr><td>0</td><td>97.08%</td> <td>79.76%</td> <td>43.23%</td> <td>56.07%</td></tr><tr><td>1</td><td>98.94%</td> <td>78.79%</td> <td>45.61%</td> <td>57.78%</td></tr><tr><td>2</td><td>99.17%</td> <td>83.33%</td> <td>14.71%</td> <td>25.00%</td></tr><tr><td>3</td><td>99.00%</td> <td>89.68%</td> <td>95.76%</td> <td>92.62%</td></tr><tr><td>4</td><td>99.06%</td> <td>98.69%</td> <td>99.37%</td> <td>99.03%</td></tr><tr><td>5</td><td>98.83%</td> <td>94.06%</td> <td>98.75%</td> <td>96.35%</td></tr><tr><td>6</td><td>99.44%</td> <td>90.91%</td> <td>81.08%</td> <td>85.71%</td></tr><tr><td>7</td><td>98.39%</td> <td>88.19%</td> <td>95.54%</td> <td>91.71%</td></tr><tr><td>8</td><td>99.33%</td> <td>93.02%</td> <td>88.89%</td> <td>90.91%</td></tr><tr><td>9</td><td>97.92%</td> <td>80.25%</td> <td>95.94%</td> <td>87.39%</td></tr><tr><th>Average</th><th>98.72%</th> <th>87.67%</th> <th>75.89%</th> <th>78.26%</th></tr></table>"
      ]
     },
     "metadata": {
      "tags": []
     },
     "output_type": "display_data"
    },
    {
     "data": {
      "text/html": [
       "<hr>"
      ]
     },
     "metadata": {
      "tags": []
     },
     "output_type": "display_data"
    },
    {
     "data": {
      "text/html": [
       "<h2 style='text-align:center'>Iteration 9</h2>"
      ]
     },
     "metadata": {
      "tags": []
     },
     "output_type": "display_data"
    },
    {
     "data": {
      "text/html": [
       "<table style='font-size:16px;margin-left:auto;margin-right:auto;text-align=center'><tr><th>Hidden Layers</th><th>Training Fraction</th> <th>Number of Steps</th></tr><tr><th>[10]</th><th>80%</th><th>1500</th></tr></table>"
      ]
     },
     "metadata": {
      "tags": []
     },
     "output_type": "display_data"
    },
    {
     "data": {
      "text/html": [
       "<h4>Confusion Matrix:</h4>"
      ]
     },
     "metadata": {
      "tags": []
     },
     "output_type": "display_data"
    },
    {
     "data": {
      "text/html": [
       "<br/>"
      ]
     },
     "metadata": {
      "tags": []
     },
     "output_type": "display_data"
    },
    {
     "name": "stdout",
     "output_type": "stream",
     "text": [
      "[[ 46   0   0   0   5   0   0   6   0   5]\n",
      " [  0  18   0   3   0   2   0   0   0   0]\n",
      " [  0   0  13   0   0   0   0   0   1   0]\n",
      " [  0   3   0  91   0   0   0   0   1   0]\n",
      " [  0   0   0   0 695   0   0   0   0   1]\n",
      " [  1   0   0   0   0 218   0   0   6   0]\n",
      " [  0   0   0   0   0   1  29   0   0   0]\n",
      " [  0   1   0   0   0   1   0 126   0   7]\n",
      " [  3   0   0   1   0   3   0   0  47   0]\n",
      " [  2   0   0   0   0   1   0   0   0 106]]\n"
     ]
    },
    {
     "data": {
      "text/html": [
       "<table style='font-size:16px;margin-left:auto;margin-right:auto;'><tr><th>Species</th><th>Accuracy</th> <th>Precision</th> <th>Recall</th> <th>F1-score</th></tr><tr><td>0</td><td>98.48%</td> <td>88.46%</td> <td>74.19%</td> <td>80.70%</td></tr><tr><td>1</td><td>99.38%</td> <td>81.82%</td> <td>78.26%</td> <td>80.00%</td></tr><tr><td>2</td><td>99.93%</td> <td>100.00%</td> <td>92.86%</td> <td>96.30%</td></tr><tr><td>3</td><td>99.45%</td> <td>95.79%</td> <td>95.79%</td> <td>95.79%</td></tr><tr><td>4</td><td>99.58%</td> <td>99.29%</td> <td>99.86%</td> <td>99.57%</td></tr><tr><td>5</td><td>98.96%</td> <td>96.46%</td> <td>96.89%</td> <td>96.67%</td></tr><tr><td>6</td><td>99.93%</td> <td>100.00%</td> <td>96.67%</td> <td>98.31%</td></tr><tr><td>7</td><td>98.96%</td> <td>95.45%</td> <td>93.33%</td> <td>94.38%</td></tr><tr><td>8</td><td>98.96%</td> <td>85.45%</td> <td>87.04%</td> <td>86.24%</td></tr><tr><td>9</td><td>98.89%</td> <td>89.08%</td> <td>97.25%</td> <td>92.98%</td></tr><tr><th>Average</th><th>99.25%</th> <th>93.18%</th> <th>91.21%</th> <th>92.09%</th></tr></table>"
      ]
     },
     "metadata": {
      "tags": []
     },
     "output_type": "display_data"
    },
    {
     "data": {
      "text/html": [
       "<hr>"
      ]
     },
     "metadata": {
      "tags": []
     },
     "output_type": "display_data"
    },
    {
     "data": {
      "text/html": [
       "<h2 style='text-align:center'>Iteration 10</h2>"
      ]
     },
     "metadata": {
      "tags": []
     },
     "output_type": "display_data"
    },
    {
     "data": {
      "text/html": [
       "<table style='font-size:16px;margin-left:auto;margin-right:auto;text-align=center'><tr><th>Hidden Layers</th><th>Training Fraction</th> <th>Number of Steps</th></tr><tr><th>[10]</th><th>50%</th><th>1500</th></tr></table>"
      ]
     },
     "metadata": {
      "tags": []
     },
     "output_type": "display_data"
    },
    {
     "data": {
      "text/html": [
       "<h4>Confusion Matrix:</h4>"
      ]
     },
     "metadata": {
      "tags": []
     },
     "output_type": "display_data"
    },
    {
     "data": {
      "text/html": [
       "<br/>"
      ]
     },
     "metadata": {
      "tags": []
     },
     "output_type": "display_data"
    },
    {
     "name": "stdout",
     "output_type": "stream",
     "text": [
      "[[ 100    0    0    0   18    7    0   19    0   11]\n",
      " [   0   34    0   11    0    8    1    0    2    1]\n",
      " [   0    1   22    3    0    1    0    0    2    5]\n",
      " [   0    2    0  225    0    3    0    0    6    0]\n",
      " [   5    0    0    0 1731    0    1    0    0    2]\n",
      " [   0    1    0    3    2  551    0    0    4    0]\n",
      " [   6    2    0    2    0    1   61    1    0    1]\n",
      " [   2    2    0    2    0    1    0  321    1    7]\n",
      " [   4    0    0    1    0    5    0    2  123    0]\n",
      " [   5    0    0    0    0    0    0    2    0  264]]\n"
     ]
    },
    {
     "data": {
      "text/html": [
       "<table style='font-size:16px;margin-left:auto;margin-right:auto;'><tr><th>Species</th><th>Accuracy</th> <th>Precision</th> <th>Recall</th> <th>F1-score</th></tr><tr><td>0</td><td>97.86%</td> <td>81.97%</td> <td>64.52%</td> <td>72.20%</td></tr><tr><td>1</td><td>99.14%</td> <td>80.95%</td> <td>59.65%</td> <td>68.69%</td></tr><tr><td>2</td><td>99.67%</td> <td>100.00%</td> <td>64.71%</td> <td>78.57%</td></tr><tr><td>3</td><td>99.08%</td> <td>91.09%</td> <td>95.34%</td> <td>93.17%</td></tr><tr><td>4</td><td>99.22%</td> <td>98.86%</td> <td>99.54%</td> <td>99.20%</td></tr><tr><td>5</td><td>99.00%</td> <td>95.49%</td> <td>98.22%</td> <td>96.84%</td></tr><tr><td>6</td><td>99.58%</td> <td>96.83%</td> <td>82.43%</td> <td>89.05%</td></tr><tr><td>7</td><td>98.92%</td> <td>93.04%</td> <td>95.54%</td> <td>94.27%</td></tr><tr><td>8</td><td>99.25%</td> <td>89.13%</td> <td>91.11%</td> <td>90.11%</td></tr><tr><td>9</td><td>99.06%</td> <td>90.72%</td> <td>97.42%</td> <td>93.95%</td></tr><tr><th>Average</th><th>99.08%</th> <th>91.81%</th> <th>84.85%</th> <th>87.60%</th></tr></table>"
      ]
     },
     "metadata": {
      "tags": []
     },
     "output_type": "display_data"
    },
    {
     "data": {
      "text/html": [
       "<hr>"
      ]
     },
     "metadata": {
      "tags": []
     },
     "output_type": "display_data"
    },
    {
     "data": {
      "text/html": [
       "<h2 style='text-align:center'>Iteration 11</h2>"
      ]
     },
     "metadata": {
      "tags": []
     },
     "output_type": "display_data"
    },
    {
     "data": {
      "text/html": [
       "<table style='font-size:16px;margin-left:auto;margin-right:auto;text-align=center'><tr><th>Hidden Layers</th><th>Training Fraction</th> <th>Number of Steps</th></tr><tr><th>[10]</th><th>80%</th><th>2000</th></tr></table>"
      ]
     },
     "metadata": {
      "tags": []
     },
     "output_type": "display_data"
    },
    {
     "data": {
      "text/html": [
       "<h4>Confusion Matrix:</h4>"
      ]
     },
     "metadata": {
      "tags": []
     },
     "output_type": "display_data"
    },
    {
     "data": {
      "text/html": [
       "<br/>"
      ]
     },
     "metadata": {
      "tags": []
     },
     "output_type": "display_data"
    },
    {
     "name": "stdout",
     "output_type": "stream",
     "text": [
      "[[ 40   0   0   0   9   2   0   9   0   2]\n",
      " [  0  14   0   6   0   2   0   0   0   1]\n",
      " [  0   0  11   0   0   0   0   1   1   1]\n",
      " [  0   3   0  87   0   0   0   1   4   0]\n",
      " [  1   0   0   0 694   1   0   0   0   0]\n",
      " [  0   0   0   2   0 220   1   0   2   0]\n",
      " [  1   2   1   0   0   0  26   0   0   0]\n",
      " [  0   1   0   0   0   1   0 131   0   2]\n",
      " [  2   1   0   0   0   3   0   0  48   0]\n",
      " [  4   0   1   0   0   0   3   1   0 100]]\n"
     ]
    },
    {
     "data": {
      "text/html": [
       "<table style='font-size:16px;margin-left:auto;margin-right:auto;'><tr><th>Species</th><th>Accuracy</th> <th>Precision</th> <th>Recall</th> <th>F1-score</th></tr><tr><td>0</td><td>97.92%</td> <td>83.33%</td> <td>64.52%</td> <td>72.73%</td></tr><tr><td>1</td><td>98.89%</td> <td>66.67%</td> <td>60.87%</td> <td>63.64%</td></tr><tr><td>2</td><td>99.65%</td> <td>84.62%</td> <td>78.57%</td> <td>81.48%</td></tr><tr><td>3</td><td>98.89%</td> <td>91.58%</td> <td>91.58%</td> <td>91.58%</td></tr><tr><td>4</td><td>99.24%</td> <td>98.72%</td> <td>99.71%</td> <td>99.21%</td></tr><tr><td>5</td><td>99.03%</td> <td>96.07%</td> <td>97.78%</td> <td>96.92%</td></tr><tr><td>6</td><td>99.45%</td> <td>86.67%</td> <td>86.67%</td> <td>86.67%</td></tr><tr><td>7</td><td>98.89%</td> <td>91.61%</td> <td>97.04%</td> <td>94.24%</td></tr><tr><td>8</td><td>99.10%</td> <td>87.27%</td> <td>88.89%</td> <td>88.07%</td></tr><tr><td>9</td><td>98.96%</td> <td>94.34%</td> <td>91.74%</td> <td>93.02%</td></tr><tr><th>Average</th><th>99.00%</th> <th>88.09%</th> <th>85.74%</th> <th>86.76%</th></tr></table>"
      ]
     },
     "metadata": {
      "tags": []
     },
     "output_type": "display_data"
    },
    {
     "data": {
      "text/html": [
       "<hr>"
      ]
     },
     "metadata": {
      "tags": []
     },
     "output_type": "display_data"
    },
    {
     "data": {
      "text/html": [
       "<h2 style='text-align:center'>Iteration 12</h2>"
      ]
     },
     "metadata": {
      "tags": []
     },
     "output_type": "display_data"
    },
    {
     "data": {
      "text/html": [
       "<table style='font-size:16px;margin-left:auto;margin-right:auto;text-align=center'><tr><th>Hidden Layers</th><th>Training Fraction</th> <th>Number of Steps</th></tr><tr><th>[10]</th><th>50%</th><th>2000</th></tr></table>"
      ]
     },
     "metadata": {
      "tags": []
     },
     "output_type": "display_data"
    },
    {
     "data": {
      "text/html": [
       "<h4>Confusion Matrix:</h4>"
      ]
     },
     "metadata": {
      "tags": []
     },
     "output_type": "display_data"
    },
    {
     "data": {
      "text/html": [
       "<br/>"
      ]
     },
     "metadata": {
      "tags": []
     },
     "output_type": "display_data"
    },
    {
     "name": "stdout",
     "output_type": "stream",
     "text": [
      "[[ 104    0    0    0   16    1    1   17    0   16]\n",
      " [   0   34    0   11    0    9    2    0    1    0]\n",
      " [   0    1   23    1    0    1    1    1    2    4]\n",
      " [   0    5    0  220    0    3    0    1    7    0]\n",
      " [   4    0    0    1 1733    1    0    0    0    0]\n",
      " [   1    0    0    1    0  546    2    0   11    0]\n",
      " [   1    1    4    3    0    1   55    1    0    8]\n",
      " [   4    2    0    1    0    2    0  315    0   12]\n",
      " [   3    0    0    2    0    2    0    2  126    0]\n",
      " [   4    0    0    0    0    0    0    2    0  265]]\n"
     ]
    },
    {
     "data": {
      "text/html": [
       "<table style='font-size:16px;margin-left:auto;margin-right:auto;'><tr><th>Species</th><th>Accuracy</th> <th>Precision</th> <th>Recall</th> <th>F1-score</th></tr><tr><td>0</td><td>98.11%</td> <td>85.95%</td> <td>67.10%</td> <td>75.36%</td></tr><tr><td>1</td><td>99.11%</td> <td>79.07%</td> <td>59.65%</td> <td>68.00%</td></tr><tr><td>2</td><td>99.58%</td> <td>85.19%</td> <td>67.65%</td> <td>75.41%</td></tr><tr><td>3</td><td>99.00%</td> <td>91.67%</td> <td>93.22%</td> <td>92.44%</td></tr><tr><td>4</td><td>99.39%</td> <td>99.09%</td> <td>99.65%</td> <td>99.37%</td></tr><tr><td>5</td><td>99.03%</td> <td>96.47%</td> <td>97.33%</td> <td>96.89%</td></tr><tr><td>6</td><td>99.31%</td> <td>90.16%</td> <td>74.32%</td> <td>81.48%</td></tr><tr><td>7</td><td>98.75%</td> <td>92.92%</td> <td>93.75%</td> <td>93.33%</td></tr><tr><td>8</td><td>99.17%</td> <td>85.71%</td> <td>93.33%</td> <td>89.36%</td></tr><tr><td>9</td><td>98.72%</td> <td>86.89%</td> <td>97.79%</td> <td>92.01%</td></tr><tr><th>Average</th><th>99.02%</th> <th>89.31%</th> <th>84.38%</th> <th>86.37%</th></tr></table>"
      ]
     },
     "metadata": {
      "tags": []
     },
     "output_type": "display_data"
    },
    {
     "data": {
      "text/html": [
       "<hr>"
      ]
     },
     "metadata": {
      "tags": []
     },
     "output_type": "display_data"
    },
    {
     "data": {
      "text/html": [
       "<h2 style='text-align:center'>Iteration 13</h2>"
      ]
     },
     "metadata": {
      "tags": []
     },
     "output_type": "display_data"
    },
    {
     "data": {
      "text/html": [
       "<table style='font-size:16px;margin-left:auto;margin-right:auto;text-align=center'><tr><th>Hidden Layers</th><th>Training Fraction</th> <th>Number of Steps</th></tr><tr><th>[100]</th><th>80%</th><th>100</th></tr></table>"
      ]
     },
     "metadata": {
      "tags": []
     },
     "output_type": "display_data"
    },
    {
     "data": {
      "text/html": [
       "<h4>Confusion Matrix:</h4>"
      ]
     },
     "metadata": {
      "tags": []
     },
     "output_type": "display_data"
    },
    {
     "data": {
      "text/html": [
       "<br/>"
      ]
     },
     "metadata": {
      "tags": []
     },
     "output_type": "display_data"
    },
    {
     "name": "stdout",
     "output_type": "stream",
     "text": [
      "[[ 39   0   0   0  11   0   1  10   0   1]\n",
      " [  0   8   0   7   0   7   0   1   0   0]\n",
      " [  0   0   2   1   0   1   1   7   0   2]\n",
      " [  0   1   0  92   0   1   0   1   0   0]\n",
      " [  0   0   0   0 694   2   0   0   0   0]\n",
      " [  0   0   0   2   1 220   0   0   2   0]\n",
      " [  1   0   0   2   0   2  24   1   0   0]\n",
      " [  0   0   0   0   0   0   0 131   0   4]\n",
      " [  0   0   0   1   0   4   0   0  49   0]\n",
      " [  4   0   0   0   0   0   0   1   0 104]]\n"
     ]
    },
    {
     "data": {
      "text/html": [
       "<table style='font-size:16px;margin-left:auto;margin-right:auto;'><tr><th>Species</th><th>Accuracy</th> <th>Precision</th> <th>Recall</th> <th>F1-score</th></tr><tr><td>0</td><td>98.06%</td> <td>88.64%</td> <td>62.90%</td> <td>73.58%</td></tr><tr><td>1</td><td>98.89%</td> <td>88.89%</td> <td>34.78%</td> <td>50.00%</td></tr><tr><td>2</td><td>99.17%</td> <td>100.00%</td> <td>14.29%</td> <td>25.00%</td></tr><tr><td>3</td><td>98.89%</td> <td>87.62%</td> <td>96.84%</td> <td>92.00%</td></tr><tr><td>4</td><td>99.03%</td> <td>98.30%</td> <td>99.71%</td> <td>99.00%</td></tr><tr><td>5</td><td>98.48%</td> <td>92.83%</td> <td>97.78%</td> <td>95.24%</td></tr><tr><td>6</td><td>99.45%</td> <td>92.31%</td> <td>80.00%</td> <td>85.71%</td></tr><tr><td>7</td><td>98.27%</td> <td>86.18%</td> <td>97.04%</td> <td>91.29%</td></tr><tr><td>8</td><td>99.51%</td> <td>96.08%</td> <td>90.74%</td> <td>93.33%</td></tr><tr><td>9</td><td>99.17%</td> <td>93.69%</td> <td>95.41%</td> <td>94.55%</td></tr><tr><th>Average</th><th>98.89%</th> <th>92.45%</th> <th>76.95%</th> <th>79.97%</th></tr></table>"
      ]
     },
     "metadata": {
      "tags": []
     },
     "output_type": "display_data"
    },
    {
     "data": {
      "text/html": [
       "<hr>"
      ]
     },
     "metadata": {
      "tags": []
     },
     "output_type": "display_data"
    },
    {
     "data": {
      "text/html": [
       "<h2 style='text-align:center'>Iteration 14</h2>"
      ]
     },
     "metadata": {
      "tags": []
     },
     "output_type": "display_data"
    },
    {
     "data": {
      "text/html": [
       "<table style='font-size:16px;margin-left:auto;margin-right:auto;text-align=center'><tr><th>Hidden Layers</th><th>Training Fraction</th> <th>Number of Steps</th></tr><tr><th>[100]</th><th>50%</th><th>100</th></tr></table>"
      ]
     },
     "metadata": {
      "tags": []
     },
     "output_type": "display_data"
    },
    {
     "data": {
      "text/html": [
       "<h4>Confusion Matrix:</h4>"
      ]
     },
     "metadata": {
      "tags": []
     },
     "output_type": "display_data"
    },
    {
     "data": {
      "text/html": [
       "<br/>"
      ]
     },
     "metadata": {
      "tags": []
     },
     "output_type": "display_data"
    },
    {
     "name": "stdout",
     "output_type": "stream",
     "text": [
      "[[  95    0    0    0   24    3    0   25    0    8]\n",
      " [   0   31    2   16    0    5    0    2    1    0]\n",
      " [   0    1   31    0    0    0    1    0    1    0]\n",
      " [   0    4    0  225    0    1    0    5    1    0]\n",
      " [   1    0    1    2 1733    1    0    0    0    1]\n",
      " [   0    2    0    4    0  550    0    0    5    0]\n",
      " [   2    0    3    4    0    6   59    0    0    0]\n",
      " [   0    0    0    2    0    1    0  322    0   11]\n",
      " [   0    0    1    4    0    6    0    1  123    0]\n",
      " [   9    0    1    0    0    0    0    4    0  257]]\n"
     ]
    },
    {
     "data": {
      "text/html": [
       "<table style='font-size:16px;margin-left:auto;margin-right:auto;'><tr><th>Species</th><th>Accuracy</th> <th>Precision</th> <th>Recall</th> <th>F1-score</th></tr><tr><td>0</td><td>98.00%</td> <td>88.79%</td> <td>61.29%</td> <td>72.52%</td></tr><tr><td>1</td><td>99.08%</td> <td>81.58%</td> <td>54.39%</td> <td>65.26%</td></tr><tr><td>2</td><td>99.69%</td> <td>79.49%</td> <td>91.18%</td> <td>84.93%</td></tr><tr><td>3</td><td>98.80%</td> <td>87.55%</td> <td>95.34%</td> <td>91.28%</td></tr><tr><td>4</td><td>99.17%</td> <td>98.63%</td> <td>99.65%</td> <td>99.14%</td></tr><tr><td>5</td><td>99.06%</td> <td>95.99%</td> <td>98.04%</td> <td>97.00%</td></tr><tr><td>6</td><td>99.56%</td> <td>98.33%</td> <td>79.73%</td> <td>88.06%</td></tr><tr><td>7</td><td>98.58%</td> <td>89.69%</td> <td>95.83%</td> <td>92.66%</td></tr><tr><td>8</td><td>99.44%</td> <td>93.89%</td> <td>91.11%</td> <td>92.48%</td></tr><tr><td>9</td><td>99.06%</td> <td>92.78%</td> <td>94.83%</td> <td>93.80%</td></tr><tr><th>Average</th><th>99.04%</th> <th>90.67%</th> <th>86.14%</th> <th>87.71%</th></tr></table>"
      ]
     },
     "metadata": {
      "tags": []
     },
     "output_type": "display_data"
    },
    {
     "data": {
      "text/html": [
       "<hr>"
      ]
     },
     "metadata": {
      "tags": []
     },
     "output_type": "display_data"
    },
    {
     "data": {
      "text/html": [
       "<h2 style='text-align:center'>Iteration 15</h2>"
      ]
     },
     "metadata": {
      "tags": []
     },
     "output_type": "display_data"
    },
    {
     "data": {
      "text/html": [
       "<table style='font-size:16px;margin-left:auto;margin-right:auto;text-align=center'><tr><th>Hidden Layers</th><th>Training Fraction</th> <th>Number of Steps</th></tr><tr><th>[100]</th><th>80%</th><th>200</th></tr></table>"
      ]
     },
     "metadata": {
      "tags": []
     },
     "output_type": "display_data"
    },
    {
     "data": {
      "text/html": [
       "<h4>Confusion Matrix:</h4>"
      ]
     },
     "metadata": {
      "tags": []
     },
     "output_type": "display_data"
    },
    {
     "data": {
      "text/html": [
       "<br/>"
      ]
     },
     "metadata": {
      "tags": []
     },
     "output_type": "display_data"
    },
    {
     "name": "stdout",
     "output_type": "stream",
     "text": [
      "[[ 44   0   0   0   9   1   0   4   0   4]\n",
      " [  0  15   1   3   0   3   0   0   1   0]\n",
      " [  0   0  11   1   0   0   0   0   2   0]\n",
      " [  0   1   0  87   0   0   0   3   4   0]\n",
      " [  0   0   0   0 695   1   0   0   0   0]\n",
      " [  0   0   0   2   0 223   0   0   0   0]\n",
      " [  0   0   0   0   0   1  29   0   0   0]\n",
      " [  0   1   0   1   0   1   0 128   0   4]\n",
      " [  1   0   0   2   0   0   0   0  51   0]\n",
      " [  0   0   0   0   0   0   1   1   0 107]]\n"
     ]
    },
    {
     "data": {
      "text/html": [
       "<table style='font-size:16px;margin-left:auto;margin-right:auto;'><tr><th>Species</th><th>Accuracy</th> <th>Precision</th> <th>Recall</th> <th>F1-score</th></tr><tr><td>0</td><td>98.68%</td> <td>97.78%</td> <td>70.97%</td> <td>82.24%</td></tr><tr><td>1</td><td>99.31%</td> <td>88.24%</td> <td>65.22%</td> <td>75.00%</td></tr><tr><td>2</td><td>99.72%</td> <td>91.67%</td> <td>78.57%</td> <td>84.62%</td></tr><tr><td>3</td><td>98.82%</td> <td>90.62%</td> <td>91.58%</td> <td>91.10%</td></tr><tr><td>4</td><td>99.31%</td> <td>98.72%</td> <td>99.86%</td> <td>99.29%</td></tr><tr><td>5</td><td>99.38%</td> <td>96.96%</td> <td>99.11%</td> <td>98.02%</td></tr><tr><td>6</td><td>99.86%</td> <td>96.67%</td> <td>96.67%</td> <td>96.67%</td></tr><tr><td>7</td><td>98.96%</td> <td>94.12%</td> <td>94.81%</td> <td>94.46%</td></tr><tr><td>8</td><td>99.31%</td> <td>87.93%</td> <td>94.44%</td> <td>91.07%</td></tr><tr><td>9</td><td>99.31%</td> <td>93.04%</td> <td>98.17%</td> <td>95.54%</td></tr><tr><th>Average</th><th>99.27%</th> <th>93.57%</th> <th>88.94%</th> <th>90.80%</th></tr></table>"
      ]
     },
     "metadata": {
      "tags": []
     },
     "output_type": "display_data"
    },
    {
     "data": {
      "text/html": [
       "<hr>"
      ]
     },
     "metadata": {
      "tags": []
     },
     "output_type": "display_data"
    },
    {
     "data": {
      "text/html": [
       "<h2 style='text-align:center'>Iteration 16</h2>"
      ]
     },
     "metadata": {
      "tags": []
     },
     "output_type": "display_data"
    },
    {
     "data": {
      "text/html": [
       "<table style='font-size:16px;margin-left:auto;margin-right:auto;text-align=center'><tr><th>Hidden Layers</th><th>Training Fraction</th> <th>Number of Steps</th></tr><tr><th>[100]</th><th>50%</th><th>200</th></tr></table>"
      ]
     },
     "metadata": {
      "tags": []
     },
     "output_type": "display_data"
    },
    {
     "data": {
      "text/html": [
       "<h4>Confusion Matrix:</h4>"
      ]
     },
     "metadata": {
      "tags": []
     },
     "output_type": "display_data"
    },
    {
     "data": {
      "text/html": [
       "<br/>"
      ]
     },
     "metadata": {
      "tags": []
     },
     "output_type": "display_data"
    },
    {
     "name": "stdout",
     "output_type": "stream",
     "text": [
      "[[ 112    0    0    0   22    1    0   14    0    6]\n",
      " [   0   32    2   11    0   11    0    0    1    0]\n",
      " [   1    0   28    1    0    0    0    2    1    1]\n",
      " [   0    2    0  229    0    2    0    1    2    0]\n",
      " [   2    0    0    0 1735    0    0    0    0    2]\n",
      " [   0    1    0    5    2  552    0    0    1    0]\n",
      " [   0    0    0    0    0    1   72    1    0    0]\n",
      " [   6    0    0    1    0    3    0  315    0   11]\n",
      " [   1    0    0    4    0    4    0    2  124    0]\n",
      " [  10    0    1    0    0    0    3    1    0  256]]\n"
     ]
    },
    {
     "data": {
      "text/html": [
       "<table style='font-size:16px;margin-left:auto;margin-right:auto;'><tr><th>Species</th><th>Accuracy</th> <th>Precision</th> <th>Recall</th> <th>F1-score</th></tr><tr><td>0</td><td>98.25%</td> <td>84.85%</td> <td>72.26%</td> <td>78.05%</td></tr><tr><td>1</td><td>99.22%</td> <td>91.43%</td> <td>56.14%</td> <td>69.57%</td></tr><tr><td>2</td><td>99.75%</td> <td>90.32%</td> <td>82.35%</td> <td>86.15%</td></tr><tr><td>3</td><td>99.19%</td> <td>91.24%</td> <td>97.03%</td> <td>94.05%</td></tr><tr><td>4</td><td>99.22%</td> <td>98.64%</td> <td>99.77%</td> <td>99.20%</td></tr><tr><td>5</td><td>99.14%</td> <td>96.17%</td> <td>98.40%</td> <td>97.27%</td></tr><tr><td>6</td><td>99.86%</td> <td>96.00%</td> <td>97.30%</td> <td>96.64%</td></tr><tr><td>7</td><td>98.83%</td> <td>93.75%</td> <td>93.75%</td> <td>93.75%</td></tr><tr><td>8</td><td>99.56%</td> <td>96.12%</td> <td>91.85%</td> <td>93.94%</td></tr><tr><td>9</td><td>99.03%</td> <td>92.75%</td> <td>94.46%</td> <td>93.60%</td></tr><tr><th>Average</th><th>99.21%</th> <th>93.13%</th> <th>88.33%</th> <th>90.22%</th></tr></table>"
      ]
     },
     "metadata": {
      "tags": []
     },
     "output_type": "display_data"
    },
    {
     "data": {
      "text/html": [
       "<hr>"
      ]
     },
     "metadata": {
      "tags": []
     },
     "output_type": "display_data"
    },
    {
     "data": {
      "text/html": [
       "<h2 style='text-align:center'>Iteration 17</h2>"
      ]
     },
     "metadata": {
      "tags": []
     },
     "output_type": "display_data"
    },
    {
     "data": {
      "text/html": [
       "<table style='font-size:16px;margin-left:auto;margin-right:auto;text-align=center'><tr><th>Hidden Layers</th><th>Training Fraction</th> <th>Number of Steps</th></tr><tr><th>[100]</th><th>80%</th><th>500</th></tr></table>"
      ]
     },
     "metadata": {
      "tags": []
     },
     "output_type": "display_data"
    },
    {
     "data": {
      "text/html": [
       "<h4>Confusion Matrix:</h4>"
      ]
     },
     "metadata": {
      "tags": []
     },
     "output_type": "display_data"
    },
    {
     "data": {
      "text/html": [
       "<br/>"
      ]
     },
     "metadata": {
      "tags": []
     },
     "output_type": "display_data"
    },
    {
     "name": "stdout",
     "output_type": "stream",
     "text": [
      "[[ 51   0   0   0   2   2   0   6   0   1]\n",
      " [  0  16   2   2   0   3   0   0   0   0]\n",
      " [  0   0  12   1   0   0   0   1   0   0]\n",
      " [  0   0   0  95   0   0   0   0   0   0]\n",
      " [  2   0   0   1 692   0   1   0   0   0]\n",
      " [  0   1   0   1   0 221   0   0   2   0]\n",
      " [  0   1   0   0   0   1  28   0   0   0]\n",
      " [  1   3   0   0   0   1   0 129   0   1]\n",
      " [  0   0   2   0   0   0   0   0  52   0]\n",
      " [  0   0   0   0   0   0   0   1   1 107]]\n"
     ]
    },
    {
     "data": {
      "text/html": [
       "<table style='font-size:16px;margin-left:auto;margin-right:auto;'><tr><th>Species</th><th>Accuracy</th> <th>Precision</th> <th>Recall</th> <th>F1-score</th></tr><tr><td>0</td><td>99.03%</td> <td>94.44%</td> <td>82.26%</td> <td>87.93%</td></tr><tr><td>1</td><td>99.17%</td> <td>76.19%</td> <td>69.57%</td> <td>72.73%</td></tr><tr><td>2</td><td>99.58%</td> <td>75.00%</td> <td>85.71%</td> <td>80.00%</td></tr><tr><td>3</td><td>99.65%</td> <td>95.00%</td> <td>100.00%</td> <td>97.44%</td></tr><tr><td>4</td><td>99.58%</td> <td>99.71%</td> <td>99.43%</td> <td>99.57%</td></tr><tr><td>5</td><td>99.24%</td> <td>96.93%</td> <td>98.22%</td> <td>97.57%</td></tr><tr><td>6</td><td>99.79%</td> <td>96.55%</td> <td>93.33%</td> <td>94.92%</td></tr><tr><td>7</td><td>99.03%</td> <td>94.16%</td> <td>95.56%</td> <td>94.85%</td></tr><tr><td>8</td><td>99.65%</td> <td>94.55%</td> <td>96.30%</td> <td>95.41%</td></tr><tr><td>9</td><td>99.72%</td> <td>98.17%</td> <td>98.17%</td> <td>98.17%</td></tr><tr><th>Average</th><th>99.45%</th> <th>92.07%</th> <th>91.85%</th> <th>91.86%</th></tr></table>"
      ]
     },
     "metadata": {
      "tags": []
     },
     "output_type": "display_data"
    },
    {
     "data": {
      "text/html": [
       "<hr>"
      ]
     },
     "metadata": {
      "tags": []
     },
     "output_type": "display_data"
    },
    {
     "data": {
      "text/html": [
       "<h2 style='text-align:center'>Iteration 18</h2>"
      ]
     },
     "metadata": {
      "tags": []
     },
     "output_type": "display_data"
    },
    {
     "data": {
      "text/html": [
       "<table style='font-size:16px;margin-left:auto;margin-right:auto;text-align=center'><tr><th>Hidden Layers</th><th>Training Fraction</th> <th>Number of Steps</th></tr><tr><th>[100]</th><th>50%</th><th>500</th></tr></table>"
      ]
     },
     "metadata": {
      "tags": []
     },
     "output_type": "display_data"
    },
    {
     "data": {
      "text/html": [
       "<h4>Confusion Matrix:</h4>"
      ]
     },
     "metadata": {
      "tags": []
     },
     "output_type": "display_data"
    },
    {
     "data": {
      "text/html": [
       "<br/>"
      ]
     },
     "metadata": {
      "tags": []
     },
     "output_type": "display_data"
    },
    {
     "name": "stdout",
     "output_type": "stream",
     "text": [
      "[[ 126    0    0    0   14    3    0    9    0    3]\n",
      " [   0   44    1    9    0    3    0    0    0    0]\n",
      " [   1    0   28    0    0    0    0    4    1    0]\n",
      " [   0    4    0  227    0    1    1    3    0    0]\n",
      " [   2    0    1    0 1735    1    0    0    0    0]\n",
      " [   1    0    1    1    0  556    1    0    1    0]\n",
      " [   1    2    0    0    0    0   69    2    0    0]\n",
      " [   4    2    0    2    0    0    0  327    0    1]\n",
      " [   7    1    2    1    0    0    0    1  123    0]\n",
      " [   4    0    0    0    0    1    1    7    0  258]]\n"
     ]
    },
    {
     "data": {
      "text/html": [
       "<table style='font-size:16px;margin-left:auto;margin-right:auto;'><tr><th>Species</th><th>Accuracy</th> <th>Precision</th> <th>Recall</th> <th>F1-score</th></tr><tr><td>0</td><td>98.64%</td> <td>86.30%</td> <td>81.29%</td> <td>83.72%</td></tr><tr><td>1</td><td>99.39%</td> <td>83.02%</td> <td>77.19%</td> <td>80.00%</td></tr><tr><td>2</td><td>99.69%</td> <td>84.85%</td> <td>82.35%</td> <td>83.58%</td></tr><tr><td>3</td><td>99.39%</td> <td>94.58%</td> <td>96.19%</td> <td>95.38%</td></tr><tr><td>4</td><td>99.50%</td> <td>99.20%</td> <td>99.77%</td> <td>99.48%</td></tr><tr><td>5</td><td>99.61%</td> <td>98.41%</td> <td>99.11%</td> <td>98.76%</td></tr><tr><td>6</td><td>99.78%</td> <td>95.83%</td> <td>93.24%</td> <td>94.52%</td></tr><tr><td>7</td><td>99.03%</td> <td>92.63%</td> <td>97.32%</td> <td>94.92%</td></tr><tr><td>8</td><td>99.61%</td> <td>98.40%</td> <td>91.11%</td> <td>94.62%</td></tr><tr><td>9</td><td>99.53%</td> <td>98.47%</td> <td>95.20%</td> <td>96.81%</td></tr><tr><th>Average</th><th>99.42%</th> <th>93.17%</th> <th>91.28%</th> <th>92.18%</th></tr></table>"
      ]
     },
     "metadata": {
      "tags": []
     },
     "output_type": "display_data"
    },
    {
     "data": {
      "text/html": [
       "<hr>"
      ]
     },
     "metadata": {
      "tags": []
     },
     "output_type": "display_data"
    },
    {
     "data": {
      "text/html": [
       "<h2 style='text-align:center'>Iteration 19</h2>"
      ]
     },
     "metadata": {
      "tags": []
     },
     "output_type": "display_data"
    },
    {
     "data": {
      "text/html": [
       "<table style='font-size:16px;margin-left:auto;margin-right:auto;text-align=center'><tr><th>Hidden Layers</th><th>Training Fraction</th> <th>Number of Steps</th></tr><tr><th>[100]</th><th>80%</th><th>1000</th></tr></table>"
      ]
     },
     "metadata": {
      "tags": []
     },
     "output_type": "display_data"
    },
    {
     "data": {
      "text/html": [
       "<h4>Confusion Matrix:</h4>"
      ]
     },
     "metadata": {
      "tags": []
     },
     "output_type": "display_data"
    },
    {
     "data": {
      "text/html": [
       "<br/>"
      ]
     },
     "metadata": {
      "tags": []
     },
     "output_type": "display_data"
    },
    {
     "name": "stdout",
     "output_type": "stream",
     "text": [
      "[[ 46   0   0   0   8   0   0   6   0   2]\n",
      " [  0  15   0   5   0   3   0   0   0   0]\n",
      " [  1   0   8   1   0   0   1   1   2   0]\n",
      " [  0   1   0  94   0   0   0   0   0   0]\n",
      " [  2   0   1   0 691   1   1   0   0   0]\n",
      " [  0   1   0   0   0 222   1   0   1   0]\n",
      " [  0   0   0   0   0   0  30   0   0   0]\n",
      " [  1   1   0   0   0   1   0 132   0   0]\n",
      " [  1   0   0   1   0   1   0   0  51   0]\n",
      " [  1   0   0   0   0   0   0   1   0 107]]\n"
     ]
    },
    {
     "data": {
      "text/html": [
       "<table style='font-size:16px;margin-left:auto;margin-right:auto;'><tr><th>Species</th><th>Accuracy</th> <th>Precision</th> <th>Recall</th> <th>F1-score</th></tr><tr><td>0</td><td>98.48%</td> <td>88.46%</td> <td>74.19%</td> <td>80.70%</td></tr><tr><td>1</td><td>99.24%</td> <td>83.33%</td> <td>65.22%</td> <td>73.17%</td></tr><tr><td>2</td><td>99.51%</td> <td>88.89%</td> <td>57.14%</td> <td>69.57%</td></tr><tr><td>3</td><td>99.45%</td> <td>93.07%</td> <td>98.95%</td> <td>95.92%</td></tr><tr><td>4</td><td>99.10%</td> <td>98.86%</td> <td>99.28%</td> <td>99.07%</td></tr><tr><td>5</td><td>99.38%</td> <td>97.37%</td> <td>98.67%</td> <td>98.01%</td></tr><tr><td>6</td><td>99.79%</td> <td>90.91%</td> <td>100.00%</td> <td>95.24%</td></tr><tr><td>7</td><td>99.24%</td> <td>94.29%</td> <td>97.78%</td> <td>96.00%</td></tr><tr><td>8</td><td>99.58%</td> <td>94.44%</td> <td>94.44%</td> <td>94.44%</td></tr><tr><td>9</td><td>99.72%</td> <td>98.17%</td> <td>98.17%</td> <td>98.17%</td></tr><tr><th>Average</th><th>99.35%</th> <th>92.78%</th> <th>88.38%</th> <th>90.03%</th></tr></table>"
      ]
     },
     "metadata": {
      "tags": []
     },
     "output_type": "display_data"
    },
    {
     "data": {
      "text/html": [
       "<hr>"
      ]
     },
     "metadata": {
      "tags": []
     },
     "output_type": "display_data"
    },
    {
     "data": {
      "text/html": [
       "<h2 style='text-align:center'>Iteration 20</h2>"
      ]
     },
     "metadata": {
      "tags": []
     },
     "output_type": "display_data"
    },
    {
     "data": {
      "text/html": [
       "<table style='font-size:16px;margin-left:auto;margin-right:auto;text-align=center'><tr><th>Hidden Layers</th><th>Training Fraction</th> <th>Number of Steps</th></tr><tr><th>[100]</th><th>50%</th><th>1000</th></tr></table>"
      ]
     },
     "metadata": {
      "tags": []
     },
     "output_type": "display_data"
    },
    {
     "data": {
      "text/html": [
       "<h4>Confusion Matrix:</h4>"
      ]
     },
     "metadata": {
      "tags": []
     },
     "output_type": "display_data"
    },
    {
     "data": {
      "text/html": [
       "<br/>"
      ]
     },
     "metadata": {
      "tags": []
     },
     "output_type": "display_data"
    },
    {
     "name": "stdout",
     "output_type": "stream",
     "text": [
      "[[ 137    0    0    0    8    2    0    5    0    3]\n",
      " [   0   47    3    3    0    4    0    0    0    0]\n",
      " [   1    1   28    0    0    0    0    1    3    0]\n",
      " [   0    3    0  230    0    1    0    2    0    0]\n",
      " [   5    0    0    1 1731    2    0    0    0    0]\n",
      " [   0    1    0    0    0  558    0    0    2    0]\n",
      " [   0    0    1    0    0    1   70    1    0    1]\n",
      " [   4    2    0    2    0    0    0  328    0    0]\n",
      " [   2    0    0    2    0    0    0    1  130    0]\n",
      " [   2    0    0    0    0    0    0    3    0  266]]\n"
     ]
    },
    {
     "data": {
      "text/html": [
       "<table style='font-size:16px;margin-left:auto;margin-right:auto;'><tr><th>Species</th><th>Accuracy</th> <th>Precision</th> <th>Recall</th> <th>F1-score</th></tr><tr><td>0</td><td>99.11%</td> <td>90.73%</td> <td>88.39%</td> <td>89.54%</td></tr><tr><td>1</td><td>99.53%</td> <td>87.04%</td> <td>82.46%</td> <td>84.68%</td></tr><tr><td>2</td><td>99.72%</td> <td>87.50%</td> <td>82.35%</td> <td>84.85%</td></tr><tr><td>3</td><td>99.61%</td> <td>96.64%</td> <td>97.46%</td> <td>97.05%</td></tr><tr><td>4</td><td>99.56%</td> <td>99.54%</td> <td>99.54%</td> <td>99.54%</td></tr><tr><td>5</td><td>99.64%</td> <td>98.24%</td> <td>99.47%</td> <td>98.85%</td></tr><tr><td>6</td><td>99.89%</td> <td>100.00%</td> <td>94.59%</td> <td>97.22%</td></tr><tr><td>7</td><td>99.42%</td> <td>96.19%</td> <td>97.62%</td> <td>96.90%</td></tr><tr><td>8</td><td>99.72%</td> <td>96.30%</td> <td>96.30%</td> <td>96.30%</td></tr><tr><td>9</td><td>99.75%</td> <td>98.52%</td> <td>98.15%</td> <td>98.34%</td></tr><tr><th>Average</th><th>99.59%</th> <th>95.07%</th> <th>93.63%</th> <th>94.33%</th></tr></table>"
      ]
     },
     "metadata": {
      "tags": []
     },
     "output_type": "display_data"
    },
    {
     "data": {
      "text/html": [
       "<hr>"
      ]
     },
     "metadata": {
      "tags": []
     },
     "output_type": "display_data"
    },
    {
     "data": {
      "text/html": [
       "<h2 style='text-align:center'>Iteration 21</h2>"
      ]
     },
     "metadata": {
      "tags": []
     },
     "output_type": "display_data"
    },
    {
     "data": {
      "text/html": [
       "<table style='font-size:16px;margin-left:auto;margin-right:auto;text-align=center'><tr><th>Hidden Layers</th><th>Training Fraction</th> <th>Number of Steps</th></tr><tr><th>[100]</th><th>80%</th><th>1500</th></tr></table>"
      ]
     },
     "metadata": {
      "tags": []
     },
     "output_type": "display_data"
    },
    {
     "data": {
      "text/html": [
       "<h4>Confusion Matrix:</h4>"
      ]
     },
     "metadata": {
      "tags": []
     },
     "output_type": "display_data"
    },
    {
     "data": {
      "text/html": [
       "<br/>"
      ]
     },
     "metadata": {
      "tags": []
     },
     "output_type": "display_data"
    },
    {
     "name": "stdout",
     "output_type": "stream",
     "text": [
      "[[ 53   0   0   0   6   0   0   2   0   1]\n",
      " [  0  20   2   1   0   0   0   0   0   0]\n",
      " [  0   0  12   0   0   0   0   1   1   0]\n",
      " [  0   2   0  92   0   0   0   1   0   0]\n",
      " [  1   0   0   0 695   0   0   0   0   0]\n",
      " [  0   0   0   0   0 223   0   0   2   0]\n",
      " [  0   0   0   0   0   1  29   0   0   0]\n",
      " [  1   0   0   1   0   2   0 131   0   0]\n",
      " [  0   0   0   1   0   0   0   1  52   0]\n",
      " [  1   0   0   0   0   0   0   0   0 108]]\n"
     ]
    },
    {
     "data": {
      "text/html": [
       "<table style='font-size:16px;margin-left:auto;margin-right:auto;'><tr><th>Species</th><th>Accuracy</th> <th>Precision</th> <th>Recall</th> <th>F1-score</th></tr><tr><td>0</td><td>99.17%</td> <td>94.64%</td> <td>85.48%</td> <td>89.83%</td></tr><tr><td>1</td><td>99.65%</td> <td>90.91%</td> <td>86.96%</td> <td>88.89%</td></tr><tr><td>2</td><td>99.72%</td> <td>85.71%</td> <td>85.71%</td> <td>85.71%</td></tr><tr><td>3</td><td>99.58%</td> <td>96.84%</td> <td>96.84%</td> <td>96.84%</td></tr><tr><td>4</td><td>99.51%</td> <td>99.14%</td> <td>99.86%</td> <td>99.50%</td></tr><tr><td>5</td><td>99.65%</td> <td>98.67%</td> <td>99.11%</td> <td>98.89%</td></tr><tr><td>6</td><td>99.93%</td> <td>100.00%</td> <td>96.67%</td> <td>98.31%</td></tr><tr><td>7</td><td>99.38%</td> <td>96.32%</td> <td>97.04%</td> <td>96.68%</td></tr><tr><td>8</td><td>99.65%</td> <td>94.55%</td> <td>96.30%</td> <td>95.41%</td></tr><tr><td>9</td><td>99.86%</td> <td>99.08%</td> <td>99.08%</td> <td>99.08%</td></tr><tr><th>Average</th><th>99.61%</th> <th>95.59%</th> <th>94.30%</th> <th>94.91%</th></tr></table>"
      ]
     },
     "metadata": {
      "tags": []
     },
     "output_type": "display_data"
    },
    {
     "data": {
      "text/html": [
       "<hr>"
      ]
     },
     "metadata": {
      "tags": []
     },
     "output_type": "display_data"
    },
    {
     "data": {
      "text/html": [
       "<h2 style='text-align:center'>Iteration 22</h2>"
      ]
     },
     "metadata": {
      "tags": []
     },
     "output_type": "display_data"
    },
    {
     "data": {
      "text/html": [
       "<table style='font-size:16px;margin-left:auto;margin-right:auto;text-align=center'><tr><th>Hidden Layers</th><th>Training Fraction</th> <th>Number of Steps</th></tr><tr><th>[100]</th><th>50%</th><th>1500</th></tr></table>"
      ]
     },
     "metadata": {
      "tags": []
     },
     "output_type": "display_data"
    },
    {
     "data": {
      "text/html": [
       "<h4>Confusion Matrix:</h4>"
      ]
     },
     "metadata": {
      "tags": []
     },
     "output_type": "display_data"
    },
    {
     "data": {
      "text/html": [
       "<br/>"
      ]
     },
     "metadata": {
      "tags": []
     },
     "output_type": "display_data"
    },
    {
     "name": "stdout",
     "output_type": "stream",
     "text": [
      "[[ 140    0    0    0    8    0    0    6    0    1]\n",
      " [   0   51    1    1    0    4    0    0    0    0]\n",
      " [   1    0   30    0    0    0    0    2    1    0]\n",
      " [   0    4    0  225    0    3    0    3    1    0]\n",
      " [   1    0    0    0 1736    0    2    0    0    0]\n",
      " [   2    1    0    0    0  554    1    0    3    0]\n",
      " [   0    0    1    0    0    1   71    1    0    0]\n",
      " [   3    2    0    1    0    1    0  327    0    2]\n",
      " [   0    1    1    3    0    1    0    2  127    0]\n",
      " [   1    0    0    0    0    0    1    2    0  267]]\n"
     ]
    },
    {
     "data": {
      "text/html": [
       "<table style='font-size:16px;margin-left:auto;margin-right:auto;'><tr><th>Species</th><th>Accuracy</th> <th>Precision</th> <th>Recall</th> <th>F1-score</th></tr><tr><td>0</td><td>99.36%</td> <td>94.59%</td> <td>90.32%</td> <td>92.41%</td></tr><tr><td>1</td><td>99.61%</td> <td>86.44%</td> <td>89.47%</td> <td>87.93%</td></tr><tr><td>2</td><td>99.81%</td> <td>90.91%</td> <td>88.24%</td> <td>89.55%</td></tr><tr><td>3</td><td>99.56%</td> <td>97.83%</td> <td>95.34%</td> <td>96.57%</td></tr><tr><td>4</td><td>99.69%</td> <td>99.54%</td> <td>99.83%</td> <td>99.68%</td></tr><tr><td>5</td><td>99.53%</td> <td>98.23%</td> <td>98.75%</td> <td>98.49%</td></tr><tr><td>6</td><td>99.81%</td> <td>94.67%</td> <td>95.95%</td> <td>95.30%</td></tr><tr><td>7</td><td>99.31%</td> <td>95.34%</td> <td>97.32%</td> <td>96.32%</td></tr><tr><td>8</td><td>99.64%</td> <td>96.21%</td> <td>94.07%</td> <td>95.13%</td></tr><tr><td>9</td><td>99.81%</td> <td>98.89%</td> <td>98.52%</td> <td>98.71%</td></tr><tr><th>Average</th><th>99.61%</th> <th>95.26%</th> <th>94.78%</th> <th>95.01%</th></tr></table>"
      ]
     },
     "metadata": {
      "tags": []
     },
     "output_type": "display_data"
    },
    {
     "data": {
      "text/html": [
       "<hr>"
      ]
     },
     "metadata": {
      "tags": []
     },
     "output_type": "display_data"
    },
    {
     "data": {
      "text/html": [
       "<h2 style='text-align:center'>Iteration 23</h2>"
      ]
     },
     "metadata": {
      "tags": []
     },
     "output_type": "display_data"
    },
    {
     "data": {
      "text/html": [
       "<table style='font-size:16px;margin-left:auto;margin-right:auto;text-align=center'><tr><th>Hidden Layers</th><th>Training Fraction</th> <th>Number of Steps</th></tr><tr><th>[100]</th><th>80%</th><th>2000</th></tr></table>"
      ]
     },
     "metadata": {
      "tags": []
     },
     "output_type": "display_data"
    },
    {
     "data": {
      "text/html": [
       "<h4>Confusion Matrix:</h4>"
      ]
     },
     "metadata": {
      "tags": []
     },
     "output_type": "display_data"
    },
    {
     "data": {
      "text/html": [
       "<br/>"
      ]
     },
     "metadata": {
      "tags": []
     },
     "output_type": "display_data"
    },
    {
     "name": "stdout",
     "output_type": "stream",
     "text": [
      "[[ 56   0   0   0   2   0   0   3   0   1]\n",
      " [  0  21   1   1   0   0   0   0   0   0]\n",
      " [  0   0  11   0   0   0   0   2   1   0]\n",
      " [  0   0   0  93   0   1   0   1   0   0]\n",
      " [  1   0   0   0 694   1   0   0   0   0]\n",
      " [  0   0   0   1   0 222   0   0   2   0]\n",
      " [  0   0   0   0   0   0  30   0   0   0]\n",
      " [  2   0   0   0   0   0   0 133   0   0]\n",
      " [  0   1   1   1   0   0   0   0  51   0]\n",
      " [  0   0   0   0   0   0   0   0   0 109]]\n"
     ]
    },
    {
     "data": {
      "text/html": [
       "<table style='font-size:16px;margin-left:auto;margin-right:auto;'><tr><th>Species</th><th>Accuracy</th> <th>Precision</th> <th>Recall</th> <th>F1-score</th></tr><tr><td>0</td><td>99.38%</td> <td>94.92%</td> <td>90.32%</td> <td>92.56%</td></tr><tr><td>1</td><td>99.79%</td> <td>95.45%</td> <td>91.30%</td> <td>93.33%</td></tr><tr><td>2</td><td>99.65%</td> <td>84.62%</td> <td>78.57%</td> <td>81.48%</td></tr><tr><td>3</td><td>99.65%</td> <td>96.88%</td> <td>97.89%</td> <td>97.38%</td></tr><tr><td>4</td><td>99.72%</td> <td>99.71%</td> <td>99.71%</td> <td>99.71%</td></tr><tr><td>5</td><td>99.65%</td> <td>99.11%</td> <td>98.67%</td> <td>98.89%</td></tr><tr><td>6</td><td>100.00%</td> <td>100.00%</td> <td>100.00%</td> <td>100.00%</td></tr><tr><td>7</td><td>99.45%</td> <td>95.68%</td> <td>98.52%</td> <td>97.08%</td></tr><tr><td>8</td><td>99.58%</td> <td>94.44%</td> <td>94.44%</td> <td>94.44%</td></tr><tr><td>9</td><td>99.93%</td> <td>99.09%</td> <td>100.00%</td> <td>99.54%</td></tr><tr><th>Average</th><th>99.68%</th> <th>95.99%</th> <th>94.94%</th> <th>95.44%</th></tr></table>"
      ]
     },
     "metadata": {
      "tags": []
     },
     "output_type": "display_data"
    },
    {
     "data": {
      "text/html": [
       "<hr>"
      ]
     },
     "metadata": {
      "tags": []
     },
     "output_type": "display_data"
    },
    {
     "data": {
      "text/html": [
       "<h2 style='text-align:center'>Iteration 24</h2>"
      ]
     },
     "metadata": {
      "tags": []
     },
     "output_type": "display_data"
    },
    {
     "data": {
      "text/html": [
       "<table style='font-size:16px;margin-left:auto;margin-right:auto;text-align=center'><tr><th>Hidden Layers</th><th>Training Fraction</th> <th>Number of Steps</th></tr><tr><th>[100]</th><th>50%</th><th>2000</th></tr></table>"
      ]
     },
     "metadata": {
      "tags": []
     },
     "output_type": "display_data"
    },
    {
     "data": {
      "text/html": [
       "<h4>Confusion Matrix:</h4>"
      ]
     },
     "metadata": {
      "tags": []
     },
     "output_type": "display_data"
    },
    {
     "data": {
      "text/html": [
       "<br/>"
      ]
     },
     "metadata": {
      "tags": []
     },
     "output_type": "display_data"
    },
    {
     "name": "stdout",
     "output_type": "stream",
     "text": [
      "[[ 140    0    0    0    5    0    0    8    0    2]\n",
      " [   0   53    0    2    0    2    0    0    0    0]\n",
      " [   1    0   28    1    0    0    0    1    3    0]\n",
      " [   0    0    0  234    0    0    0    2    0    0]\n",
      " [   3    0    0    2 1730    4    0    0    0    0]\n",
      " [   1    2    0    3    1  545    0    0    7    2]\n",
      " [   0    0    0    0    0    0   72    2    0    0]\n",
      " [   1    0    0    1    0    2    0  332    0    0]\n",
      " [   0    0    1    1    0    1    0    0  132    0]\n",
      " [   2    0    0    0    0    0    0    1    1  267]]\n"
     ]
    },
    {
     "data": {
      "text/html": [
       "<table style='font-size:16px;margin-left:auto;margin-right:auto;'><tr><th>Species</th><th>Accuracy</th> <th>Precision</th> <th>Recall</th> <th>F1-score</th></tr><tr><td>0</td><td>99.36%</td> <td>94.59%</td> <td>90.32%</td> <td>92.41%</td></tr><tr><td>1</td><td>99.83%</td> <td>96.36%</td> <td>92.98%</td> <td>94.64%</td></tr><tr><td>2</td><td>99.81%</td> <td>96.55%</td> <td>82.35%</td> <td>88.89%</td></tr><tr><td>3</td><td>99.67%</td> <td>95.90%</td> <td>99.15%</td> <td>97.50%</td></tr><tr><td>4</td><td>99.58%</td> <td>99.65%</td> <td>99.48%</td> <td>99.57%</td></tr><tr><td>5</td><td>99.31%</td> <td>98.38%</td> <td>97.15%</td> <td>97.76%</td></tr><tr><td>6</td><td>99.94%</td> <td>100.00%</td> <td>97.30%</td> <td>98.63%</td></tr><tr><td>7</td><td>99.50%</td> <td>95.95%</td> <td>98.81%</td> <td>97.36%</td></tr><tr><td>8</td><td>99.61%</td> <td>92.31%</td> <td>97.78%</td> <td>94.96%</td></tr><tr><td>9</td><td>99.78%</td> <td>98.52%</td> <td>98.52%</td> <td>98.52%</td></tr><tr><th>Average</th><th>99.64%</th> <th>96.82%</th> <th>95.38%</th> <th>96.02%</th></tr></table>"
      ]
     },
     "metadata": {
      "tags": []
     },
     "output_type": "display_data"
    },
    {
     "data": {
      "text/html": [
       "<hr>"
      ]
     },
     "metadata": {
      "tags": []
     },
     "output_type": "display_data"
    },
    {
     "data": {
      "text/html": [
       "<h2 style='text-align:center'>Iteration 25</h2>"
      ]
     },
     "metadata": {
      "tags": []
     },
     "output_type": "display_data"
    },
    {
     "data": {
      "text/html": [
       "<table style='font-size:16px;margin-left:auto;margin-right:auto;text-align=center'><tr><th>Hidden Layers</th><th>Training Fraction</th> <th>Number of Steps</th></tr><tr><th>[10, 10]</th><th>80%</th><th>100</th></tr></table>"
      ]
     },
     "metadata": {
      "tags": []
     },
     "output_type": "display_data"
    },
    {
     "data": {
      "text/html": [
       "<h4>Confusion Matrix:</h4>"
      ]
     },
     "metadata": {
      "tags": []
     },
     "output_type": "display_data"
    },
    {
     "data": {
      "text/html": [
       "<br/>"
      ]
     },
     "metadata": {
      "tags": []
     },
     "output_type": "display_data"
    },
    {
     "name": "stdout",
     "output_type": "stream",
     "text": [
      "[[ 26   0   0   0   7   8   0   5   0  16]\n",
      " [  0   0   0   4   0  17   0   2   0   0]\n",
      " [  0   0   0   0   0   4   0  10   0   0]\n",
      " [  0   0   0  92   0   1   0   2   0   0]\n",
      " [  1   0   0   0 695   0   0   0   0   0]\n",
      " [  1   0   0   3   1 215   0   2   3   0]\n",
      " [  3   0   0   3   4  12   4   3   1   0]\n",
      " [  0   0   0   1   0   0   0  85   0  49]\n",
      " [  1   0   0   1   2   1   0   1  48   0]\n",
      " [  0   0   0   0   0   6   0  11   0  92]]\n"
     ]
    },
    {
     "data": {
      "text/html": [
       "<table style='font-size:16px;margin-left:auto;margin-right:auto;'><tr><th>Species</th><th>Accuracy</th> <th>Precision</th> <th>Recall</th> <th>F1-score</th></tr><tr><td>0</td><td>97.09%</td> <td>81.25%</td> <td>41.94%</td> <td>55.32%</td></tr><tr><td>1</td><td>98.41%</td> <td>nan%</td> <td>0.00%</td> <td>nan%</td></tr><tr><td>2</td><td>99.03%</td> <td>nan%</td> <td>0.00%</td> <td>nan%</td></tr><tr><td>3</td><td>98.96%</td> <td>88.46%</td> <td>96.84%</td> <td>92.46%</td></tr><tr><td>4</td><td>98.96%</td> <td>98.03%</td> <td>99.86%</td> <td>98.93%</td></tr><tr><td>5</td><td>95.91%</td> <td>81.44%</td> <td>95.56%</td> <td>87.93%</td></tr><tr><td>6</td><td>98.20%</td> <td>100.00%</td> <td>13.33%</td> <td>23.53%</td></tr><tr><td>7</td><td>94.04%</td> <td>70.25%</td> <td>62.96%</td> <td>66.41%</td></tr><tr><td>8</td><td>99.31%</td> <td>92.31%</td> <td>88.89%</td> <td>90.57%</td></tr><tr><td>9</td><td>94.32%</td> <td>58.60%</td> <td>84.40%</td> <td>69.17%</td></tr><tr><th>Average</th><th>97.42%</th> <th>83.79%</th> <th>58.38%</th> <th>73.04%</th></tr></table>"
      ]
     },
     "metadata": {
      "tags": []
     },
     "output_type": "display_data"
    },
    {
     "data": {
      "text/html": [
       "<hr>"
      ]
     },
     "metadata": {
      "tags": []
     },
     "output_type": "display_data"
    },
    {
     "data": {
      "text/html": [
       "<h2 style='text-align:center'>Iteration 26</h2>"
      ]
     },
     "metadata": {
      "tags": []
     },
     "output_type": "display_data"
    },
    {
     "data": {
      "text/html": [
       "<table style='font-size:16px;margin-left:auto;margin-right:auto;text-align=center'><tr><th>Hidden Layers</th><th>Training Fraction</th> <th>Number of Steps</th></tr><tr><th>[10, 10]</th><th>50%</th><th>100</th></tr></table>"
      ]
     },
     "metadata": {
      "tags": []
     },
     "output_type": "display_data"
    },
    {
     "data": {
      "text/html": [
       "<h4>Confusion Matrix:</h4>"
      ]
     },
     "metadata": {
      "tags": []
     },
     "output_type": "display_data"
    },
    {
     "data": {
      "text/html": [
       "<br/>"
      ]
     },
     "metadata": {
      "tags": []
     },
     "output_type": "display_data"
    },
    {
     "name": "stdout",
     "output_type": "stream",
     "text": [
      "[[  60    0    0    0   23    0    0   34    0   38]\n",
      " [   0    0    0   10    0   17    0    4   22    4]\n",
      " [   0    0    0    1    0    7    0   14    3    9]\n",
      " [   0    0    0  226    0    4    0    0    6    0]\n",
      " [   2    0    0    1 1732    1    0    0    0    3]\n",
      " [   1    0    0    3    1  544    0    1   11    0]\n",
      " [  20    0    0    7   22   11    1    0    0   13]\n",
      " [   0    0    0    0    0    3    0  317    2   14]\n",
      " [   0    0    0    2    0    9    0    5  119    0]\n",
      " [   2    0    0    0    0    3    0    4    0  262]]\n"
     ]
    },
    {
     "data": {
      "text/html": [
       "<table style='font-size:16px;margin-left:auto;margin-right:auto;'><tr><th>Species</th><th>Accuracy</th> <th>Precision</th> <th>Recall</th> <th>F1-score</th></tr><tr><td>0</td><td>96.66%</td> <td>70.59%</td> <td>38.71%</td> <td>50.00%</td></tr><tr><td>1</td><td>98.42%</td> <td>nan%</td> <td>0.00%</td> <td>nan%</td></tr><tr><td>2</td><td>99.06%</td> <td>nan%</td> <td>0.00%</td> <td>nan%</td></tr><tr><td>3</td><td>99.06%</td> <td>90.40%</td> <td>95.76%</td> <td>93.00%</td></tr><tr><td>4</td><td>98.53%</td> <td>97.41%</td> <td>99.60%</td> <td>98.49%</td></tr><tr><td>5</td><td>98.00%</td> <td>90.82%</td> <td>96.97%</td> <td>93.79%</td></tr><tr><td>6</td><td>97.97%</td> <td>100.00%</td> <td>1.35%</td> <td>2.67%</td></tr><tr><td>7</td><td>97.75%</td> <td>83.64%</td> <td>94.35%</td> <td>88.67%</td></tr><tr><td>8</td><td>98.33%</td> <td>73.01%</td> <td>88.15%</td> <td>79.87%</td></tr><tr><td>9</td><td>97.50%</td> <td>76.38%</td> <td>96.68%</td> <td>85.34%</td></tr><tr><th>Average</th><th>98.13%</th> <th>85.28%</th> <th>61.16%</th> <th>73.98%</th></tr></table>"
      ]
     },
     "metadata": {
      "tags": []
     },
     "output_type": "display_data"
    },
    {
     "data": {
      "text/html": [
       "<hr>"
      ]
     },
     "metadata": {
      "tags": []
     },
     "output_type": "display_data"
    },
    {
     "data": {
      "text/html": [
       "<h2 style='text-align:center'>Iteration 27</h2>"
      ]
     },
     "metadata": {
      "tags": []
     },
     "output_type": "display_data"
    },
    {
     "data": {
      "text/html": [
       "<table style='font-size:16px;margin-left:auto;margin-right:auto;text-align=center'><tr><th>Hidden Layers</th><th>Training Fraction</th> <th>Number of Steps</th></tr><tr><th>[10, 10]</th><th>80%</th><th>200</th></tr></table>"
      ]
     },
     "metadata": {
      "tags": []
     },
     "output_type": "display_data"
    },
    {
     "data": {
      "text/html": [
       "<h4>Confusion Matrix:</h4>"
      ]
     },
     "metadata": {
      "tags": []
     },
     "output_type": "display_data"
    },
    {
     "data": {
      "text/html": [
       "<br/>"
      ]
     },
     "metadata": {
      "tags": []
     },
     "output_type": "display_data"
    },
    {
     "name": "stdout",
     "output_type": "stream",
     "text": [
      "[[ 25   0   0   0   9   0   0   6   0  22]\n",
      " [  0   2   0   6   0   4   0   2   9   0]\n",
      " [  1   0   0   0   0  11   0   2   0   0]\n",
      " [  0   1   0  82   0  10   0   0   2   0]\n",
      " [  0   0   0   0 695   1   0   0   0   0]\n",
      " [  1   0   0   9   0 213   0   0   2   0]\n",
      " [  6   1   0   2   7   7   1   6   0   0]\n",
      " [  0   0   0   1   0   1   0 126   1   6]\n",
      " [  0   0   0   0   0  13   0   3  37   1]\n",
      " [  0   0   0   0   0   2   0   1   0 106]]\n"
     ]
    },
    {
     "data": {
      "text/html": [
       "<table style='font-size:16px;margin-left:auto;margin-right:auto;'><tr><th>Species</th><th>Accuracy</th> <th>Precision</th> <th>Recall</th> <th>F1-score</th></tr><tr><td>0</td><td>96.88%</td> <td>75.76%</td> <td>40.32%</td> <td>52.63%</td></tr><tr><td>1</td><td>98.41%</td> <td>50.00%</td> <td>8.70%</td> <td>14.81%</td></tr><tr><td>2</td><td>99.03%</td> <td>nan%</td> <td>0.00%</td> <td>nan%</td></tr><tr><td>3</td><td>97.85%</td> <td>82.00%</td> <td>86.32%</td> <td>84.10%</td></tr><tr><td>4</td><td>98.82%</td> <td>97.75%</td> <td>99.86%</td> <td>98.79%</td></tr><tr><td>5</td><td>95.77%</td> <td>81.30%</td> <td>94.67%</td> <td>87.47%</td></tr><tr><td>6</td><td>97.99%</td> <td>100.00%</td> <td>3.33%</td> <td>6.45%</td></tr><tr><td>7</td><td>97.99%</td> <td>86.30%</td> <td>93.33%</td> <td>89.68%</td></tr><tr><td>8</td><td>97.85%</td> <td>72.55%</td> <td>68.52%</td> <td>70.48%</td></tr><tr><td>9</td><td>97.78%</td> <td>78.52%</td> <td>97.25%</td> <td>86.89%</td></tr><tr><th>Average</th><th>97.84%</th> <th>80.46%</th> <th>59.23%</th> <th>65.70%</th></tr></table>"
      ]
     },
     "metadata": {
      "tags": []
     },
     "output_type": "display_data"
    },
    {
     "data": {
      "text/html": [
       "<hr>"
      ]
     },
     "metadata": {
      "tags": []
     },
     "output_type": "display_data"
    },
    {
     "data": {
      "text/html": [
       "<h2 style='text-align:center'>Iteration 28</h2>"
      ]
     },
     "metadata": {
      "tags": []
     },
     "output_type": "display_data"
    },
    {
     "data": {
      "text/html": [
       "<table style='font-size:16px;margin-left:auto;margin-right:auto;text-align=center'><tr><th>Hidden Layers</th><th>Training Fraction</th> <th>Number of Steps</th></tr><tr><th>[10, 10]</th><th>50%</th><th>200</th></tr></table>"
      ]
     },
     "metadata": {
      "tags": []
     },
     "output_type": "display_data"
    },
    {
     "data": {
      "text/html": [
       "<h4>Confusion Matrix:</h4>"
      ]
     },
     "metadata": {
      "tags": []
     },
     "output_type": "display_data"
    },
    {
     "data": {
      "text/html": [
       "<br/>"
      ]
     },
     "metadata": {
      "tags": []
     },
     "output_type": "display_data"
    },
    {
     "name": "stdout",
     "output_type": "stream",
     "text": [
      "[[  67    0    0    0   20    5    1   29    0   33]\n",
      " [   0    4    0   11    0    9    0    0   33    0]\n",
      " [   0    3    0    1    0    4    0    1    1   24]\n",
      " [   0    0    0  214    0    5    1    1   15    0]\n",
      " [   3    0    0    0 1729    3    1    0    0    3]\n",
      " [   1    0    0    4    3  542    0    1   10    0]\n",
      " [  12    4    0    9    0    7   32    1    0    9]\n",
      " [   0    2    0    2    0    0    0  289    2   41]\n",
      " [   0    0    0    0    0   28    0    5  101    1]\n",
      " [   9    0    0    0    0    2    0    7    0  253]]\n"
     ]
    },
    {
     "data": {
      "text/html": [
       "<table style='font-size:16px;margin-left:auto;margin-right:auto;'><tr><th>Species</th><th>Accuracy</th> <th>Precision</th> <th>Recall</th> <th>F1-score</th></tr><tr><td>0</td><td>96.86%</td> <td>72.83%</td> <td>43.23%</td> <td>54.25%</td></tr><tr><td>1</td><td>98.28%</td> <td>30.77%</td> <td>7.02%</td> <td>11.43%</td></tr><tr><td>2</td><td>99.06%</td> <td>nan%</td> <td>0.00%</td> <td>nan%</td></tr><tr><td>3</td><td>98.64%</td> <td>88.80%</td> <td>90.68%</td> <td>89.73%</td></tr><tr><td>4</td><td>99.08%</td> <td>98.69%</td> <td>99.42%</td> <td>99.05%</td></tr><tr><td>5</td><td>97.72%</td> <td>89.59%</td> <td>96.61%</td> <td>92.97%</td></tr><tr><td>6</td><td>98.75%</td> <td>91.43%</td> <td>43.24%</td> <td>58.72%</td></tr><tr><td>7</td><td>97.44%</td> <td>86.53%</td> <td>86.01%</td> <td>86.27%</td></tr><tr><td>8</td><td>97.36%</td> <td>62.35%</td> <td>74.81%</td> <td>68.01%</td></tr><tr><td>9</td><td>96.41%</td> <td>69.51%</td> <td>93.36%</td> <td>79.69%</td></tr><tr><th>Average</th><th>97.96%</th> <th>76.72%</th> <th>63.44%</th> <th>71.12%</th></tr></table>"
      ]
     },
     "metadata": {
      "tags": []
     },
     "output_type": "display_data"
    },
    {
     "data": {
      "text/html": [
       "<hr>"
      ]
     },
     "metadata": {
      "tags": []
     },
     "output_type": "display_data"
    },
    {
     "data": {
      "text/html": [
       "<h2 style='text-align:center'>Iteration 29</h2>"
      ]
     },
     "metadata": {
      "tags": []
     },
     "output_type": "display_data"
    },
    {
     "data": {
      "text/html": [
       "<table style='font-size:16px;margin-left:auto;margin-right:auto;text-align=center'><tr><th>Hidden Layers</th><th>Training Fraction</th> <th>Number of Steps</th></tr><tr><th>[10, 10]</th><th>80%</th><th>500</th></tr></table>"
      ]
     },
     "metadata": {
      "tags": []
     },
     "output_type": "display_data"
    },
    {
     "data": {
      "text/html": [
       "<h4>Confusion Matrix:</h4>"
      ]
     },
     "metadata": {
      "tags": []
     },
     "output_type": "display_data"
    },
    {
     "data": {
      "text/html": [
       "<br/>"
      ]
     },
     "metadata": {
      "tags": []
     },
     "output_type": "display_data"
    },
    {
     "name": "stdout",
     "output_type": "stream",
     "text": [
      "[[ 37   0   0   0   7   0   2   6   0  10]\n",
      " [  0  16   0   3   0   2   0   0   1   1]\n",
      " [  0   0   6   1   0   0   1   0   0   6]\n",
      " [  0   0   0  89   0   1   0   0   3   2]\n",
      " [  0   0   0   0 695   1   0   0   0   0]\n",
      " [  0   1   0   0   2 222   0   0   0   0]\n",
      " [  1   2   0   0   0   2  24   0   0   1]\n",
      " [  0   0   0   2   0   1   0 129   0   3]\n",
      " [  0   1   0   1   0   2   0   3  47   0]\n",
      " [  0   1   0   0   0   0   1   0   0 107]]\n"
     ]
    },
    {
     "data": {
      "text/html": [
       "<table style='font-size:16px;margin-left:auto;margin-right:auto;'><tr><th>Species</th><th>Accuracy</th> <th>Precision</th> <th>Recall</th> <th>F1-score</th></tr><tr><td>0</td><td>98.20%</td> <td>97.37%</td> <td>59.68%</td> <td>74.00%</td></tr><tr><td>1</td><td>99.17%</td> <td>76.19%</td> <td>69.57%</td> <td>72.73%</td></tr><tr><td>2</td><td>99.45%</td> <td>100.00%</td> <td>42.86%</td> <td>60.00%</td></tr><tr><td>3</td><td>99.10%</td> <td>92.71%</td> <td>93.68%</td> <td>93.19%</td></tr><tr><td>4</td><td>99.31%</td> <td>98.72%</td> <td>99.86%</td> <td>99.29%</td></tr><tr><td>5</td><td>99.17%</td> <td>96.10%</td> <td>98.67%</td> <td>97.37%</td></tr><tr><td>6</td><td>99.31%</td> <td>85.71%</td> <td>80.00%</td> <td>82.76%</td></tr><tr><td>7</td><td>98.96%</td> <td>93.48%</td> <td>95.56%</td> <td>94.51%</td></tr><tr><td>8</td><td>99.24%</td> <td>92.16%</td> <td>87.04%</td> <td>89.52%</td></tr><tr><td>9</td><td>98.27%</td> <td>82.31%</td> <td>98.17%</td> <td>89.54%</td></tr><tr><th>Average</th><th>99.02%</th> <th>91.47%</th> <th>82.51%</th> <th>85.29%</th></tr></table>"
      ]
     },
     "metadata": {
      "tags": []
     },
     "output_type": "display_data"
    },
    {
     "data": {
      "text/html": [
       "<hr>"
      ]
     },
     "metadata": {
      "tags": []
     },
     "output_type": "display_data"
    },
    {
     "data": {
      "text/html": [
       "<h2 style='text-align:center'>Iteration 30</h2>"
      ]
     },
     "metadata": {
      "tags": []
     },
     "output_type": "display_data"
    },
    {
     "data": {
      "text/html": [
       "<table style='font-size:16px;margin-left:auto;margin-right:auto;text-align=center'><tr><th>Hidden Layers</th><th>Training Fraction</th> <th>Number of Steps</th></tr><tr><th>[10, 10]</th><th>50%</th><th>500</th></tr></table>"
      ]
     },
     "metadata": {
      "tags": []
     },
     "output_type": "display_data"
    },
    {
     "data": {
      "text/html": [
       "<h4>Confusion Matrix:</h4>"
      ]
     },
     "metadata": {
      "tags": []
     },
     "output_type": "display_data"
    },
    {
     "data": {
      "text/html": [
       "<br/>"
      ]
     },
     "metadata": {
      "tags": []
     },
     "output_type": "display_data"
    },
    {
     "name": "stdout",
     "output_type": "stream",
     "text": [
      "[[ 103    0    0    0   20    0    1   25    0    6]\n",
      " [   0   36    1    9    0    6    3    0    2    0]\n",
      " [   0    1   27    1    0    1    1    1    2    0]\n",
      " [   0    2    0  229    0    1    0    1    3    0]\n",
      " [   7    1    0    2 1729    0    0    0    0    0]\n",
      " [   0    2    0    8    0  539    0    0   12    0]\n",
      " [  11    1    1    4    0    0   47    1    0    9]\n",
      " [   0    1    1    6    0    1    0  313    1   13]\n",
      " [   4    0    0    1    0   12    0    2  115    1]\n",
      " [   2    0    0    0    0    0    1    6    0  262]]\n"
     ]
    },
    {
     "data": {
      "text/html": [
       "<table style='font-size:16px;margin-left:auto;margin-right:auto;'><tr><th>Species</th><th>Accuracy</th> <th>Precision</th> <th>Recall</th> <th>F1-score</th></tr><tr><td>0</td><td>97.89%</td> <td>81.10%</td> <td>66.45%</td> <td>73.05%</td></tr><tr><td>1</td><td>99.19%</td> <td>81.82%</td> <td>63.16%</td> <td>71.29%</td></tr><tr><td>2</td><td>99.72%</td> <td>90.00%</td> <td>79.41%</td> <td>84.38%</td></tr><tr><td>3</td><td>98.94%</td> <td>88.08%</td> <td>97.03%</td> <td>92.34%</td></tr><tr><td>4</td><td>99.17%</td> <td>98.86%</td> <td>99.42%</td> <td>99.14%</td></tr><tr><td>5</td><td>98.80%</td> <td>96.25%</td> <td>96.08%</td> <td>96.16%</td></tr><tr><td>6</td><td>99.08%</td> <td>88.68%</td> <td>63.51%</td> <td>74.02%</td></tr><tr><td>7</td><td>98.36%</td> <td>89.68%</td> <td>93.15%</td> <td>91.39%</td></tr><tr><td>8</td><td>98.89%</td> <td>85.19%</td> <td>85.19%</td> <td>85.19%</td></tr><tr><td>9</td><td>98.94%</td> <td>90.03%</td> <td>96.68%</td> <td>93.24%</td></tr><tr><th>Average</th><th>98.90%</th> <th>88.97%</th> <th>84.01%</th> <th>86.02%</th></tr></table>"
      ]
     },
     "metadata": {
      "tags": []
     },
     "output_type": "display_data"
    },
    {
     "data": {
      "text/html": [
       "<hr>"
      ]
     },
     "metadata": {
      "tags": []
     },
     "output_type": "display_data"
    },
    {
     "data": {
      "text/html": [
       "<h2 style='text-align:center'>Iteration 31</h2>"
      ]
     },
     "metadata": {
      "tags": []
     },
     "output_type": "display_data"
    },
    {
     "data": {
      "text/html": [
       "<table style='font-size:16px;margin-left:auto;margin-right:auto;text-align=center'><tr><th>Hidden Layers</th><th>Training Fraction</th> <th>Number of Steps</th></tr><tr><th>[10, 10]</th><th>80%</th><th>1000</th></tr></table>"
      ]
     },
     "metadata": {
      "tags": []
     },
     "output_type": "display_data"
    },
    {
     "data": {
      "text/html": [
       "<h4>Confusion Matrix:</h4>"
      ]
     },
     "metadata": {
      "tags": []
     },
     "output_type": "display_data"
    },
    {
     "data": {
      "text/html": [
       "<br/>"
      ]
     },
     "metadata": {
      "tags": []
     },
     "output_type": "display_data"
    },
    {
     "name": "stdout",
     "output_type": "stream",
     "text": [
      "[[ 51   0   0   0   3   2   0   5   0   1]\n",
      " [  0  18   0   3   0   2   0   0   0   0]\n",
      " [  0   1  10   0   0   0   0   1   2   0]\n",
      " [  0   3   0  89   0   0   0   1   2   0]\n",
      " [  5   1   0   0 689   1   0   0   0   0]\n",
      " [  0   1   0   0   0 219   0   0   5   0]\n",
      " [ 11   0   1   1   2   1  14   0   0   0]\n",
      " [  1   0   0   1   0   0   0 132   0   1]\n",
      " [  0   0   0   0   1   0   0   1  52   0]\n",
      " [  3   0   1   0   0   0   0   0   0 105]]\n"
     ]
    },
    {
     "data": {
      "text/html": [
       "<table style='font-size:16px;margin-left:auto;margin-right:auto;'><tr><th>Species</th><th>Accuracy</th> <th>Precision</th> <th>Recall</th> <th>F1-score</th></tr><tr><td>0</td><td>97.85%</td> <td>71.83%</td> <td>82.26%</td> <td>76.69%</td></tr><tr><td>1</td><td>99.24%</td> <td>75.00%</td> <td>78.26%</td> <td>76.60%</td></tr><tr><td>2</td><td>99.58%</td> <td>83.33%</td> <td>71.43%</td> <td>76.92%</td></tr><tr><td>3</td><td>99.24%</td> <td>94.68%</td> <td>93.68%</td> <td>94.18%</td></tr><tr><td>4</td><td>99.10%</td> <td>99.14%</td> <td>98.99%</td> <td>99.07%</td></tr><tr><td>5</td><td>99.17%</td> <td>97.33%</td> <td>97.33%</td> <td>97.33%</td></tr><tr><td>6</td><td>98.89%</td> <td>100.00%</td> <td>46.67%</td> <td>63.64%</td></tr><tr><td>7</td><td>99.24%</td> <td>94.29%</td> <td>97.78%</td> <td>96.00%</td></tr><tr><td>8</td><td>99.24%</td> <td>85.25%</td> <td>96.30%</td> <td>90.43%</td></tr><tr><td>9</td><td>99.58%</td> <td>98.13%</td> <td>96.33%</td> <td>97.22%</td></tr><tr><th>Average</th><th>99.11%</th> <th>89.90%</th> <th>85.90%</th> <th>86.81%</th></tr></table>"
      ]
     },
     "metadata": {
      "tags": []
     },
     "output_type": "display_data"
    },
    {
     "data": {
      "text/html": [
       "<hr>"
      ]
     },
     "metadata": {
      "tags": []
     },
     "output_type": "display_data"
    },
    {
     "data": {
      "text/html": [
       "<h2 style='text-align:center'>Iteration 32</h2>"
      ]
     },
     "metadata": {
      "tags": []
     },
     "output_type": "display_data"
    },
    {
     "data": {
      "text/html": [
       "<table style='font-size:16px;margin-left:auto;margin-right:auto;text-align=center'><tr><th>Hidden Layers</th><th>Training Fraction</th> <th>Number of Steps</th></tr><tr><th>[10, 10]</th><th>50%</th><th>1000</th></tr></table>"
      ]
     },
     "metadata": {
      "tags": []
     },
     "output_type": "display_data"
    },
    {
     "data": {
      "text/html": [
       "<h4>Confusion Matrix:</h4>"
      ]
     },
     "metadata": {
      "tags": []
     },
     "output_type": "display_data"
    },
    {
     "data": {
      "text/html": [
       "<br/>"
      ]
     },
     "metadata": {
      "tags": []
     },
     "output_type": "display_data"
    },
    {
     "name": "stdout",
     "output_type": "stream",
     "text": [
      "[[ 117    0    0    0   11    1    3   14    0    9]\n",
      " [   0   38    0    9    0    5    1    2    2    0]\n",
      " [   0    2   26    1    0    0    0    2    3    0]\n",
      " [   0    8    0  222    0    1    1    4    0    0]\n",
      " [   7    0    0    1 1726    3    0    2    0    0]\n",
      " [   1    6    0    1    0  551    0    0    2    0]\n",
      " [   8    5    0    0    0    1   58    0    2    0]\n",
      " [  10    3    0    3    0    0    0  306    0   14]\n",
      " [   1    6    0    1    0    3    3    0  121    0]\n",
      " [   5    1    2    0    0    0    1    2    0  260]]\n"
     ]
    },
    {
     "data": {
      "text/html": [
       "<table style='font-size:16px;margin-left:auto;margin-right:auto;'><tr><th>Species</th><th>Accuracy</th> <th>Precision</th> <th>Recall</th> <th>F1-score</th></tr><tr><td>0</td><td>98.05%</td> <td>78.52%</td> <td>75.48%</td> <td>76.97%</td></tr><tr><td>1</td><td>98.61%</td> <td>55.07%</td> <td>66.67%</td> <td>60.32%</td></tr><tr><td>2</td><td>99.72%</td> <td>92.86%</td> <td>76.47%</td> <td>83.87%</td></tr><tr><td>3</td><td>99.17%</td> <td>93.28%</td> <td>94.07%</td> <td>93.67%</td></tr><tr><td>4</td><td>99.33%</td> <td>99.37%</td> <td>99.25%</td> <td>99.31%</td></tr><tr><td>5</td><td>99.33%</td> <td>97.52%</td> <td>98.22%</td> <td>97.87%</td></tr><tr><td>6</td><td>99.31%</td> <td>86.57%</td> <td>78.38%</td> <td>82.27%</td></tr><tr><td>7</td><td>98.44%</td> <td>92.17%</td> <td>91.07%</td> <td>91.62%</td></tr><tr><td>8</td><td>99.36%</td> <td>93.08%</td> <td>89.63%</td> <td>91.32%</td></tr><tr><td>9</td><td>99.06%</td> <td>91.87%</td> <td>95.94%</td> <td>93.86%</td></tr><tr><th>Average</th><th>99.04%</th> <th>88.03%</th> <th>86.52%</th> <th>87.11%</th></tr></table>"
      ]
     },
     "metadata": {
      "tags": []
     },
     "output_type": "display_data"
    },
    {
     "data": {
      "text/html": [
       "<hr>"
      ]
     },
     "metadata": {
      "tags": []
     },
     "output_type": "display_data"
    },
    {
     "data": {
      "text/html": [
       "<h2 style='text-align:center'>Iteration 33</h2>"
      ]
     },
     "metadata": {
      "tags": []
     },
     "output_type": "display_data"
    },
    {
     "data": {
      "text/html": [
       "<table style='font-size:16px;margin-left:auto;margin-right:auto;text-align=center'><tr><th>Hidden Layers</th><th>Training Fraction</th> <th>Number of Steps</th></tr><tr><th>[10, 10]</th><th>80%</th><th>1500</th></tr></table>"
      ]
     },
     "metadata": {
      "tags": []
     },
     "output_type": "display_data"
    },
    {
     "data": {
      "text/html": [
       "<h4>Confusion Matrix:</h4>"
      ]
     },
     "metadata": {
      "tags": []
     },
     "output_type": "display_data"
    },
    {
     "data": {
      "text/html": [
       "<br/>"
      ]
     },
     "metadata": {
      "tags": []
     },
     "output_type": "display_data"
    },
    {
     "name": "stdout",
     "output_type": "stream",
     "text": [
      "[[ 37   0   0   0   9   0   1   9   0   6]\n",
      " [  0  12   1   7   0   3   0   0   0   0]\n",
      " [  0   1  11   1   0   0   0   1   0   0]\n",
      " [  0   2   0  88   0   1   0   1   3   0]\n",
      " [  1   0   0   0 694   0   0   0   0   1]\n",
      " [  0   2   0   1   1 221   0   0   0   0]\n",
      " [  0   1   0   0   0   0  28   0   1   0]\n",
      " [  0   1   0   0   0   0   0 131   0   3]\n",
      " [  0   0   0   0   0   1   1   2  50   0]\n",
      " [  0   0   0   0   0   0   1   1   0 107]]\n"
     ]
    },
    {
     "data": {
      "text/html": [
       "<table style='font-size:16px;margin-left:auto;margin-right:auto;'><tr><th>Species</th><th>Accuracy</th> <th>Precision</th> <th>Recall</th> <th>F1-score</th></tr><tr><td>0</td><td>98.20%</td> <td>97.37%</td> <td>59.68%</td> <td>74.00%</td></tr><tr><td>1</td><td>98.75%</td> <td>63.16%</td> <td>52.17%</td> <td>57.14%</td></tr><tr><td>2</td><td>99.72%</td> <td>91.67%</td> <td>78.57%</td> <td>84.62%</td></tr><tr><td>3</td><td>98.89%</td> <td>90.72%</td> <td>92.63%</td> <td>91.67%</td></tr><tr><td>4</td><td>99.17%</td> <td>98.58%</td> <td>99.71%</td> <td>99.14%</td></tr><tr><td>5</td><td>99.38%</td> <td>97.79%</td> <td>98.22%</td> <td>98.00%</td></tr><tr><td>6</td><td>99.65%</td> <td>90.32%</td> <td>93.33%</td> <td>91.80%</td></tr><tr><td>7</td><td>98.75%</td> <td>90.34%</td> <td>97.04%</td> <td>93.57%</td></tr><tr><td>8</td><td>99.45%</td> <td>92.59%</td> <td>92.59%</td> <td>92.59%</td></tr><tr><td>9</td><td>99.17%</td> <td>91.45%</td> <td>98.17%</td> <td>94.69%</td></tr><tr><th>Average</th><th>99.11%</th> <th>90.40%</th> <th>86.21%</th> <th>87.72%</th></tr></table>"
      ]
     },
     "metadata": {
      "tags": []
     },
     "output_type": "display_data"
    },
    {
     "data": {
      "text/html": [
       "<hr>"
      ]
     },
     "metadata": {
      "tags": []
     },
     "output_type": "display_data"
    },
    {
     "data": {
      "text/html": [
       "<h2 style='text-align:center'>Iteration 34</h2>"
      ]
     },
     "metadata": {
      "tags": []
     },
     "output_type": "display_data"
    },
    {
     "data": {
      "text/html": [
       "<table style='font-size:16px;margin-left:auto;margin-right:auto;text-align=center'><tr><th>Hidden Layers</th><th>Training Fraction</th> <th>Number of Steps</th></tr><tr><th>[10, 10]</th><th>50%</th><th>1500</th></tr></table>"
      ]
     },
     "metadata": {
      "tags": []
     },
     "output_type": "display_data"
    },
    {
     "data": {
      "text/html": [
       "<h4>Confusion Matrix:</h4>"
      ]
     },
     "metadata": {
      "tags": []
     },
     "output_type": "display_data"
    },
    {
     "data": {
      "text/html": [
       "<br/>"
      ]
     },
     "metadata": {
      "tags": []
     },
     "output_type": "display_data"
    },
    {
     "name": "stdout",
     "output_type": "stream",
     "text": [
      "[[ 106    0    0    0   14    6    0   20    0    9]\n",
      " [   0   40    1    7    0    3    0    6    0    0]\n",
      " [   0    1   23    1    0    0    0    8    1    0]\n",
      " [   0   16    0  218    0    0    0    1    1    0]\n",
      " [   1    1    0    0 1733    4    0    0    0    0]\n",
      " [   0    3    0    1    0  548    1    0    8    0]\n",
      " [   9    0    2    1    0    1   61    0    0    0]\n",
      " [   6    3    0    3    0    0    0  319    1    4]\n",
      " [   2    4    0    3    2    2    0    1  121    0]\n",
      " [  14    0    0    0    0    0    0    0    0  257]]\n"
     ]
    },
    {
     "data": {
      "text/html": [
       "<table style='font-size:16px;margin-left:auto;margin-right:auto;'><tr><th>Species</th><th>Accuracy</th> <th>Precision</th> <th>Recall</th> <th>F1-score</th></tr><tr><td>0</td><td>97.75%</td> <td>76.81%</td> <td>68.39%</td> <td>72.35%</td></tr><tr><td>1</td><td>98.75%</td> <td>58.82%</td> <td>70.18%</td> <td>64.00%</td></tr><tr><td>2</td><td>99.61%</td> <td>88.46%</td> <td>67.65%</td> <td>76.67%</td></tr><tr><td>3</td><td>99.06%</td> <td>93.16%</td> <td>92.37%</td> <td>92.77%</td></tr><tr><td>4</td><td>99.39%</td> <td>99.09%</td> <td>99.65%</td> <td>99.37%</td></tr><tr><td>5</td><td>99.19%</td> <td>97.16%</td> <td>97.68%</td> <td>97.42%</td></tr><tr><td>6</td><td>99.61%</td> <td>98.39%</td> <td>82.43%</td> <td>89.71%</td></tr><tr><td>7</td><td>98.53%</td> <td>89.86%</td> <td>94.94%</td> <td>92.33%</td></tr><tr><td>8</td><td>99.31%</td> <td>91.67%</td> <td>89.63%</td> <td>90.64%</td></tr><tr><td>9</td><td>99.25%</td> <td>95.19%</td> <td>94.83%</td> <td>95.01%</td></tr><tr><th>Average</th><th>99.04%</th> <th>88.86%</th> <th>85.78%</th> <th>87.03%</th></tr></table>"
      ]
     },
     "metadata": {
      "tags": []
     },
     "output_type": "display_data"
    },
    {
     "data": {
      "text/html": [
       "<hr>"
      ]
     },
     "metadata": {
      "tags": []
     },
     "output_type": "display_data"
    },
    {
     "data": {
      "text/html": [
       "<h2 style='text-align:center'>Iteration 35</h2>"
      ]
     },
     "metadata": {
      "tags": []
     },
     "output_type": "display_data"
    },
    {
     "data": {
      "text/html": [
       "<table style='font-size:16px;margin-left:auto;margin-right:auto;text-align=center'><tr><th>Hidden Layers</th><th>Training Fraction</th> <th>Number of Steps</th></tr><tr><th>[10, 10]</th><th>80%</th><th>2000</th></tr></table>"
      ]
     },
     "metadata": {
      "tags": []
     },
     "output_type": "display_data"
    },
    {
     "data": {
      "text/html": [
       "<h4>Confusion Matrix:</h4>"
      ]
     },
     "metadata": {
      "tags": []
     },
     "output_type": "display_data"
    },
    {
     "data": {
      "text/html": [
       "<br/>"
      ]
     },
     "metadata": {
      "tags": []
     },
     "output_type": "display_data"
    },
    {
     "name": "stdout",
     "output_type": "stream",
     "text": [
      "[[ 43   0   0   0   9   0   4   5   0   1]\n",
      " [  0  17   0   4   0   1   0   1   0   0]\n",
      " [  0   1  11   1   0   0   0   1   0   0]\n",
      " [  0   1   0  91   0   0   0   0   3   0]\n",
      " [  3   0   0   0 692   0   1   0   0   0]\n",
      " [  2   0   0   1   0 219   0   0   3   0]\n",
      " [  6   1   2   1   0   0  20   0   0   0]\n",
      " [  0   2   0   1   0   0   0 131   0   1]\n",
      " [  2   0   0   1   0   1   0   1  49   0]\n",
      " [  1   0   0   0   0   0   0   0   0 108]]\n"
     ]
    },
    {
     "data": {
      "text/html": [
       "<table style='font-size:16px;margin-left:auto;margin-right:auto;'><tr><th>Species</th><th>Accuracy</th> <th>Precision</th> <th>Recall</th> <th>F1-score</th></tr><tr><td>0</td><td>97.71%</td> <td>75.44%</td> <td>69.35%</td> <td>72.27%</td></tr><tr><td>1</td><td>99.24%</td> <td>77.27%</td> <td>73.91%</td> <td>75.56%</td></tr><tr><td>2</td><td>99.65%</td> <td>84.62%</td> <td>78.57%</td> <td>81.48%</td></tr><tr><td>3</td><td>99.10%</td> <td>91.00%</td> <td>95.79%</td> <td>93.33%</td></tr><tr><td>4</td><td>99.10%</td> <td>98.72%</td> <td>99.43%</td> <td>99.07%</td></tr><tr><td>5</td><td>99.45%</td> <td>99.10%</td> <td>97.33%</td> <td>98.21%</td></tr><tr><td>6</td><td>98.96%</td> <td>80.00%</td> <td>66.67%</td> <td>72.73%</td></tr><tr><td>7</td><td>99.17%</td> <td>94.24%</td> <td>97.04%</td> <td>95.62%</td></tr><tr><td>8</td><td>99.24%</td> <td>89.09%</td> <td>90.74%</td> <td>89.91%</td></tr><tr><td>9</td><td>99.79%</td> <td>98.18%</td> <td>99.08%</td> <td>98.63%</td></tr><tr><th>Average</th><th>99.14%</th> <th>88.77%</th> <th>86.79%</th> <th>87.68%</th></tr></table>"
      ]
     },
     "metadata": {
      "tags": []
     },
     "output_type": "display_data"
    },
    {
     "data": {
      "text/html": [
       "<hr>"
      ]
     },
     "metadata": {
      "tags": []
     },
     "output_type": "display_data"
    },
    {
     "data": {
      "text/html": [
       "<h2 style='text-align:center'>Iteration 36</h2>"
      ]
     },
     "metadata": {
      "tags": []
     },
     "output_type": "display_data"
    },
    {
     "data": {
      "text/html": [
       "<table style='font-size:16px;margin-left:auto;margin-right:auto;text-align=center'><tr><th>Hidden Layers</th><th>Training Fraction</th> <th>Number of Steps</th></tr><tr><th>[10, 10]</th><th>50%</th><th>2000</th></tr></table>"
      ]
     },
     "metadata": {
      "tags": []
     },
     "output_type": "display_data"
    },
    {
     "data": {
      "text/html": [
       "<h4>Confusion Matrix:</h4>"
      ]
     },
     "metadata": {
      "tags": []
     },
     "output_type": "display_data"
    },
    {
     "data": {
      "text/html": [
       "<br/>"
      ]
     },
     "metadata": {
      "tags": []
     },
     "output_type": "display_data"
    },
    {
     "name": "stdout",
     "output_type": "stream",
     "text": [
      "[[ 121    0    0    0   11    1    1   19    0    2]\n",
      " [   0   39    4    5    0    5    3    1    0    0]\n",
      " [   0    0   29    1    0    0    0    0    4    0]\n",
      " [   0    4    0  225    0    0    3    3    1    0]\n",
      " [   1    0    1    1 1734    2    0    0    0    0]\n",
      " [   1    2    0    0    2  551    1    0    4    0]\n",
      " [  11    2    0    1    1    1   58    0    0    0]\n",
      " [   2    5    0    1    0    1    0  321    0    6]\n",
      " [   1    1    0    5    0    5    0    1  122    0]\n",
      " [   1    0    0    0    0    3    1    2    0  264]]\n"
     ]
    },
    {
     "data": {
      "text/html": [
       "<table style='font-size:16px;margin-left:auto;margin-right:auto;'><tr><th>Species</th><th>Accuracy</th> <th>Precision</th> <th>Recall</th> <th>F1-score</th></tr><tr><td>0</td><td>98.58%</td> <td>87.68%</td> <td>78.06%</td> <td>82.59%</td></tr><tr><td>1</td><td>99.11%</td> <td>73.58%</td> <td>68.42%</td> <td>70.91%</td></tr><tr><td>2</td><td>99.72%</td> <td>85.29%</td> <td>85.29%</td> <td>85.29%</td></tr><tr><td>3</td><td>99.31%</td> <td>94.14%</td> <td>95.34%</td> <td>94.74%</td></tr><tr><td>4</td><td>99.47%</td> <td>99.20%</td> <td>99.71%</td> <td>99.46%</td></tr><tr><td>5</td><td>99.22%</td> <td>96.84%</td> <td>98.22%</td> <td>97.52%</td></tr><tr><td>6</td><td>99.31%</td> <td>86.57%</td> <td>78.38%</td> <td>82.27%</td></tr><tr><td>7</td><td>98.86%</td> <td>92.51%</td> <td>95.54%</td> <td>94.00%</td></tr><tr><td>8</td><td>99.39%</td> <td>93.13%</td> <td>90.37%</td> <td>91.73%</td></tr><tr><td>9</td><td>99.58%</td> <td>97.06%</td> <td>97.42%</td> <td>97.24%</td></tr><tr><th>Average</th><th>99.26%</th> <th>90.60%</th> <th>88.68%</th> <th>89.57%</th></tr></table>"
      ]
     },
     "metadata": {
      "tags": []
     },
     "output_type": "display_data"
    },
    {
     "data": {
      "text/html": [
       "<hr>"
      ]
     },
     "metadata": {
      "tags": []
     },
     "output_type": "display_data"
    },
    {
     "data": {
      "text/html": [
       "<h2 style='text-align:center'>Iteration 37</h2>"
      ]
     },
     "metadata": {
      "tags": []
     },
     "output_type": "display_data"
    },
    {
     "data": {
      "text/html": [
       "<table style='font-size:16px;margin-left:auto;margin-right:auto;text-align=center'><tr><th>Hidden Layers</th><th>Training Fraction</th> <th>Number of Steps</th></tr><tr><th>[100, 100]</th><th>80%</th><th>100</th></tr></table>"
      ]
     },
     "metadata": {
      "tags": []
     },
     "output_type": "display_data"
    },
    {
     "data": {
      "text/html": [
       "<h4>Confusion Matrix:</h4>"
      ]
     },
     "metadata": {
      "tags": []
     },
     "output_type": "display_data"
    },
    {
     "data": {
      "text/html": [
       "<br/>"
      ]
     },
     "metadata": {
      "tags": []
     },
     "output_type": "display_data"
    },
    {
     "name": "stdout",
     "output_type": "stream",
     "text": [
      "[[ 50   0   0   0   8   0   0   4   0   0]\n",
      " [  0  16   0   7   0   0   0   0   0   0]\n",
      " [  0   0  13   0   0   0   1   0   0   0]\n",
      " [  0   2   0  92   0   0   0   0   1   0]\n",
      " [  2   0   0   1 692   1   0   0   0   0]\n",
      " [  0   2   0   1   1 215   0   0   6   0]\n",
      " [  0   0   0   0   0   0  29   1   0   0]\n",
      " [  1   0   0   1   0   1   0 131   0   1]\n",
      " [  0   0   0   2   0   1   0   1  50   0]\n",
      " [  2   0   1   0   0   0   0   1   0 105]]\n"
     ]
    },
    {
     "data": {
      "text/html": [
       "<table style='font-size:16px;margin-left:auto;margin-right:auto;'><tr><th>Species</th><th>Accuracy</th> <th>Precision</th> <th>Recall</th> <th>F1-score</th></tr><tr><td>0</td><td>98.82%</td> <td>90.91%</td> <td>80.65%</td> <td>85.47%</td></tr><tr><td>1</td><td>99.24%</td> <td>80.00%</td> <td>69.57%</td> <td>74.42%</td></tr><tr><td>2</td><td>99.86%</td> <td>92.86%</td> <td>92.86%</td> <td>92.86%</td></tr><tr><td>3</td><td>98.96%</td> <td>88.46%</td> <td>96.84%</td> <td>92.46%</td></tr><tr><td>4</td><td>99.10%</td> <td>98.72%</td> <td>99.43%</td> <td>99.07%</td></tr><tr><td>5</td><td>99.10%</td> <td>98.62%</td> <td>95.56%</td> <td>97.07%</td></tr><tr><td>6</td><td>99.86%</td> <td>96.67%</td> <td>96.67%</td> <td>96.67%</td></tr><tr><td>7</td><td>99.24%</td> <td>94.93%</td> <td>97.04%</td> <td>95.97%</td></tr><tr><td>8</td><td>99.24%</td> <td>87.72%</td> <td>92.59%</td> <td>90.09%</td></tr><tr><td>9</td><td>99.65%</td> <td>99.06%</td> <td>96.33%</td> <td>97.67%</td></tr><tr><th>Average</th><th>99.31%</th> <th>92.79%</th> <th>91.75%</th> <th>92.17%</th></tr></table>"
      ]
     },
     "metadata": {
      "tags": []
     },
     "output_type": "display_data"
    },
    {
     "data": {
      "text/html": [
       "<hr>"
      ]
     },
     "metadata": {
      "tags": []
     },
     "output_type": "display_data"
    },
    {
     "data": {
      "text/html": [
       "<h2 style='text-align:center'>Iteration 38</h2>"
      ]
     },
     "metadata": {
      "tags": []
     },
     "output_type": "display_data"
    },
    {
     "data": {
      "text/html": [
       "<table style='font-size:16px;margin-left:auto;margin-right:auto;text-align=center'><tr><th>Hidden Layers</th><th>Training Fraction</th> <th>Number of Steps</th></tr><tr><th>[100, 100]</th><th>50%</th><th>100</th></tr></table>"
      ]
     },
     "metadata": {
      "tags": []
     },
     "output_type": "display_data"
    },
    {
     "data": {
      "text/html": [
       "<h4>Confusion Matrix:</h4>"
      ]
     },
     "metadata": {
      "tags": []
     },
     "output_type": "display_data"
    },
    {
     "data": {
      "text/html": [
       "<br/>"
      ]
     },
     "metadata": {
      "tags": []
     },
     "output_type": "display_data"
    },
    {
     "name": "stdout",
     "output_type": "stream",
     "text": [
      "[[ 112    0    0    0   19    0    0   15    0    9]\n",
      " [   0   38    0   12    0    5    0    2    0    0]\n",
      " [   0    2   22    0    0    0    1    1    1    7]\n",
      " [   0    7    0  225    0    1    0    3    0    0]\n",
      " [   2    0    0    0 1733    2    0    0    0    2]\n",
      " [   1    2    0    0    0  555    0    0    3    0]\n",
      " [   0    0    2    2    0    2   67    0    0    1]\n",
      " [   3    2    0    0    0    3    0  314    0   14]\n",
      " [   1    1    0    3    0    3    0    4  123    0]\n",
      " [   3    0    1    0    0    0    0    2    0  265]]\n"
     ]
    },
    {
     "data": {
      "text/html": [
       "<table style='font-size:16px;margin-left:auto;margin-right:auto;'><tr><th>Species</th><th>Accuracy</th> <th>Precision</th> <th>Recall</th> <th>F1-score</th></tr><tr><td>0</td><td>98.53%</td> <td>91.80%</td> <td>72.26%</td> <td>80.87%</td></tr><tr><td>1</td><td>99.08%</td> <td>73.08%</td> <td>66.67%</td> <td>69.72%</td></tr><tr><td>2</td><td>99.58%</td> <td>88.00%</td> <td>64.71%</td> <td>74.58%</td></tr><tr><td>3</td><td>99.22%</td> <td>92.98%</td> <td>95.34%</td> <td>94.14%</td></tr><tr><td>4</td><td>99.31%</td> <td>98.92%</td> <td>99.65%</td> <td>99.28%</td></tr><tr><td>5</td><td>99.39%</td> <td>97.20%</td> <td>98.93%</td> <td>98.06%</td></tr><tr><td>6</td><td>99.78%</td> <td>98.53%</td> <td>90.54%</td> <td>94.37%</td></tr><tr><td>7</td><td>98.64%</td> <td>92.08%</td> <td>93.45%</td> <td>92.76%</td></tr><tr><td>8</td><td>99.56%</td> <td>96.85%</td> <td>91.11%</td> <td>93.89%</td></tr><tr><td>9</td><td>98.92%</td> <td>88.93%</td> <td>97.79%</td> <td>93.15%</td></tr><tr><th>Average</th><th>99.20%</th> <th>91.84%</th> <th>87.04%</th> <th>89.08%</th></tr></table>"
      ]
     },
     "metadata": {
      "tags": []
     },
     "output_type": "display_data"
    },
    {
     "data": {
      "text/html": [
       "<hr>"
      ]
     },
     "metadata": {
      "tags": []
     },
     "output_type": "display_data"
    },
    {
     "data": {
      "text/html": [
       "<h2 style='text-align:center'>Iteration 39</h2>"
      ]
     },
     "metadata": {
      "tags": []
     },
     "output_type": "display_data"
    },
    {
     "data": {
      "text/html": [
       "<table style='font-size:16px;margin-left:auto;margin-right:auto;text-align=center'><tr><th>Hidden Layers</th><th>Training Fraction</th> <th>Number of Steps</th></tr><tr><th>[100, 100]</th><th>80%</th><th>200</th></tr></table>"
      ]
     },
     "metadata": {
      "tags": []
     },
     "output_type": "display_data"
    },
    {
     "data": {
      "text/html": [
       "<h4>Confusion Matrix:</h4>"
      ]
     },
     "metadata": {
      "tags": []
     },
     "output_type": "display_data"
    },
    {
     "data": {
      "text/html": [
       "<br/>"
      ]
     },
     "metadata": {
      "tags": []
     },
     "output_type": "display_data"
    },
    {
     "name": "stdout",
     "output_type": "stream",
     "text": [
      "[[ 57   0   0   0   1   1   0   1   0   2]\n",
      " [  0  15   0   5   0   3   0   0   0   0]\n",
      " [  0   0  10   1   0   0   0   0   2   1]\n",
      " [  0   5   0  88   0   2   0   0   0   0]\n",
      " [  1   0   0   1 694   0   0   0   0   0]\n",
      " [  1   0   0   0   1 222   0   0   1   0]\n",
      " [  1   0   0   0   0   0  29   0   0   0]\n",
      " [  0   1   0   1   0   0   0 129   0   4]\n",
      " [  1   1   1   0   0   3   0   0  48   0]\n",
      " [  1   0   0   0   0   0   0   0   0 108]]\n"
     ]
    },
    {
     "data": {
      "text/html": [
       "<table style='font-size:16px;margin-left:auto;margin-right:auto;'><tr><th>Species</th><th>Accuracy</th> <th>Precision</th> <th>Recall</th> <th>F1-score</th></tr><tr><td>0</td><td>99.31%</td> <td>91.94%</td> <td>91.94%</td> <td>91.94%</td></tr><tr><td>1</td><td>98.96%</td> <td>68.18%</td> <td>65.22%</td> <td>66.67%</td></tr><tr><td>2</td><td>99.65%</td> <td>90.91%</td> <td>71.43%</td> <td>80.00%</td></tr><tr><td>3</td><td>98.96%</td> <td>91.67%</td> <td>92.63%</td> <td>92.15%</td></tr><tr><td>4</td><td>99.72%</td> <td>99.71%</td> <td>99.71%</td> <td>99.71%</td></tr><tr><td>5</td><td>99.17%</td> <td>96.10%</td> <td>98.67%</td> <td>97.37%</td></tr><tr><td>6</td><td>99.93%</td> <td>100.00%</td> <td>96.67%</td> <td>98.31%</td></tr><tr><td>7</td><td>99.51%</td> <td>99.23%</td> <td>95.56%</td> <td>97.36%</td></tr><tr><td>8</td><td>99.38%</td> <td>94.12%</td> <td>88.89%</td> <td>91.43%</td></tr><tr><td>9</td><td>99.45%</td> <td>93.91%</td> <td>99.08%</td> <td>96.43%</td></tr><tr><th>Average</th><th>99.40%</th> <th>92.58%</th> <th>89.98%</th> <th>91.14%</th></tr></table>"
      ]
     },
     "metadata": {
      "tags": []
     },
     "output_type": "display_data"
    },
    {
     "data": {
      "text/html": [
       "<hr>"
      ]
     },
     "metadata": {
      "tags": []
     },
     "output_type": "display_data"
    },
    {
     "data": {
      "text/html": [
       "<h2 style='text-align:center'>Iteration 40</h2>"
      ]
     },
     "metadata": {
      "tags": []
     },
     "output_type": "display_data"
    },
    {
     "data": {
      "text/html": [
       "<table style='font-size:16px;margin-left:auto;margin-right:auto;text-align=center'><tr><th>Hidden Layers</th><th>Training Fraction</th> <th>Number of Steps</th></tr><tr><th>[100, 100]</th><th>50%</th><th>200</th></tr></table>"
      ]
     },
     "metadata": {
      "tags": []
     },
     "output_type": "display_data"
    },
    {
     "data": {
      "text/html": [
       "<h4>Confusion Matrix:</h4>"
      ]
     },
     "metadata": {
      "tags": []
     },
     "output_type": "display_data"
    },
    {
     "data": {
      "text/html": [
       "<br/>"
      ]
     },
     "metadata": {
      "tags": []
     },
     "output_type": "display_data"
    },
    {
     "name": "stdout",
     "output_type": "stream",
     "text": [
      "[[ 123    0    0    0   18    0    0   12    0    2]\n",
      " [   0   44    3    5    0    4    1    0    0    0]\n",
      " [   0    1   28    0    0    0    0    3    2    0]\n",
      " [   0    8    0  223    0    1    2    2    0    0]\n",
      " [   2    0    1    1 1734    1    0    0    0    0]\n",
      " [   1    1    0    0    1  556    1    0    1    0]\n",
      " [   1    0    2    0    0    0   71    0    0    0]\n",
      " [   0    3    0    1    0    0    0  329    0    3]\n",
      " [   5    1    3    1    0    2    0    3  120    0]\n",
      " [   2    0    1    0    0    0    0    5    0  263]]\n"
     ]
    },
    {
     "data": {
      "text/html": [
       "<table style='font-size:16px;margin-left:auto;margin-right:auto;'><tr><th>Species</th><th>Accuracy</th> <th>Precision</th> <th>Recall</th> <th>F1-score</th></tr><tr><td>0</td><td>98.80%</td> <td>91.79%</td> <td>79.35%</td> <td>85.12%</td></tr><tr><td>1</td><td>99.25%</td> <td>75.86%</td> <td>77.19%</td> <td>76.52%</td></tr><tr><td>2</td><td>99.56%</td> <td>73.68%</td> <td>82.35%</td> <td>77.78%</td></tr><tr><td>3</td><td>99.42%</td> <td>96.54%</td> <td>94.49%</td> <td>95.50%</td></tr><tr><td>4</td><td>99.33%</td> <td>98.92%</td> <td>99.71%</td> <td>99.31%</td></tr><tr><td>5</td><td>99.64%</td> <td>98.58%</td> <td>99.11%</td> <td>98.84%</td></tr><tr><td>6</td><td>99.81%</td> <td>94.67%</td> <td>95.95%</td> <td>95.30%</td></tr><tr><td>7</td><td>99.11%</td> <td>92.94%</td> <td>97.92%</td> <td>95.36%</td></tr><tr><td>8</td><td>99.50%</td> <td>97.56%</td> <td>88.89%</td> <td>93.02%</td></tr><tr><td>9</td><td>99.64%</td> <td>98.13%</td> <td>97.05%</td> <td>97.59%</td></tr><tr><th>Average</th><th>99.41%</th> <th>91.87%</th> <th>91.20%</th> <th>91.44%</th></tr></table>"
      ]
     },
     "metadata": {
      "tags": []
     },
     "output_type": "display_data"
    },
    {
     "data": {
      "text/html": [
       "<hr>"
      ]
     },
     "metadata": {
      "tags": []
     },
     "output_type": "display_data"
    },
    {
     "data": {
      "text/html": [
       "<h2 style='text-align:center'>Iteration 41</h2>"
      ]
     },
     "metadata": {
      "tags": []
     },
     "output_type": "display_data"
    },
    {
     "data": {
      "text/html": [
       "<table style='font-size:16px;margin-left:auto;margin-right:auto;text-align=center'><tr><th>Hidden Layers</th><th>Training Fraction</th> <th>Number of Steps</th></tr><tr><th>[100, 100]</th><th>80%</th><th>500</th></tr></table>"
      ]
     },
     "metadata": {
      "tags": []
     },
     "output_type": "display_data"
    },
    {
     "data": {
      "text/html": [
       "<h4>Confusion Matrix:</h4>"
      ]
     },
     "metadata": {
      "tags": []
     },
     "output_type": "display_data"
    },
    {
     "data": {
      "text/html": [
       "<br/>"
      ]
     },
     "metadata": {
      "tags": []
     },
     "output_type": "display_data"
    },
    {
     "name": "stdout",
     "output_type": "stream",
     "text": [
      "[[ 56   0   0   0   1   0   0   3   0   2]\n",
      " [  0  20   0   2   0   0   0   0   1   0]\n",
      " [  0   0  13   0   0   0   0   0   1   0]\n",
      " [  0   2   0  93   0   0   0   0   0   0]\n",
      " [  2   0   0   0 693   1   0   0   0   0]\n",
      " [  1   0   0   3   2 217   0   0   2   0]\n",
      " [  0   0   1   0   0   0  27   1   0   1]\n",
      " [  2   0   0   0   0   1   0 131   0   1]\n",
      " [  0   1   0   1   0   0   0   0  52   0]\n",
      " [  0   0   1   0   0   0   0   0   0 108]]\n"
     ]
    },
    {
     "data": {
      "text/html": [
       "<table style='font-size:16px;margin-left:auto;margin-right:auto;'><tr><th>Species</th><th>Accuracy</th> <th>Precision</th> <th>Recall</th> <th>F1-score</th></tr><tr><td>0</td><td>99.24%</td> <td>91.80%</td> <td>90.32%</td> <td>91.06%</td></tr><tr><td>1</td><td>99.58%</td> <td>86.96%</td> <td>86.96%</td> <td>86.96%</td></tr><tr><td>2</td><td>99.79%</td> <td>86.67%</td> <td>92.86%</td> <td>89.66%</td></tr><tr><td>3</td><td>99.45%</td> <td>93.94%</td> <td>97.89%</td> <td>95.88%</td></tr><tr><td>4</td><td>99.58%</td> <td>99.57%</td> <td>99.57%</td> <td>99.57%</td></tr><tr><td>5</td><td>99.31%</td> <td>99.09%</td> <td>96.44%</td> <td>97.75%</td></tr><tr><td>6</td><td>99.79%</td> <td>100.00%</td> <td>90.00%</td> <td>94.74%</td></tr><tr><td>7</td><td>99.45%</td> <td>97.04%</td> <td>97.04%</td> <td>97.04%</td></tr><tr><td>8</td><td>99.58%</td> <td>92.86%</td> <td>96.30%</td> <td>94.55%</td></tr><tr><td>9</td><td>99.65%</td> <td>96.43%</td> <td>99.08%</td> <td>97.74%</td></tr><tr><th>Average</th><th>99.54%</th> <th>94.43%</th> <th>94.65%</th> <th>94.49%</th></tr></table>"
      ]
     },
     "metadata": {
      "tags": []
     },
     "output_type": "display_data"
    },
    {
     "data": {
      "text/html": [
       "<hr>"
      ]
     },
     "metadata": {
      "tags": []
     },
     "output_type": "display_data"
    },
    {
     "data": {
      "text/html": [
       "<h2 style='text-align:center'>Iteration 42</h2>"
      ]
     },
     "metadata": {
      "tags": []
     },
     "output_type": "display_data"
    },
    {
     "data": {
      "text/html": [
       "<table style='font-size:16px;margin-left:auto;margin-right:auto;text-align=center'><tr><th>Hidden Layers</th><th>Training Fraction</th> <th>Number of Steps</th></tr><tr><th>[100, 100]</th><th>50%</th><th>500</th></tr></table>"
      ]
     },
     "metadata": {
      "tags": []
     },
     "output_type": "display_data"
    },
    {
     "data": {
      "text/html": [
       "<h4>Confusion Matrix:</h4>"
      ]
     },
     "metadata": {
      "tags": []
     },
     "output_type": "display_data"
    },
    {
     "data": {
      "text/html": [
       "<br/>"
      ]
     },
     "metadata": {
      "tags": []
     },
     "output_type": "display_data"
    },
    {
     "name": "stdout",
     "output_type": "stream",
     "text": [
      "[[ 138    0    0    0    6    1    0    9    0    1]\n",
      " [   0   51    0    5    0    0    0    1    0    0]\n",
      " [   0    0   29    1    0    0    2    0    2    0]\n",
      " [   0    1    0  232    0    1    0    2    0    0]\n",
      " [   4    0    1    0 1731    2    1    0    0    0]\n",
      " [   0    2    0    3    0  554    2    0    0    0]\n",
      " [   0    0    0    0    0    0   74    0    0    0]\n",
      " [   2    1    0    2    0    0    0  331    0    0]\n",
      " [   3    0    2    2    0    1    0    3  124    0]\n",
      " [   0    0    1    0    0    1    1    0    1  267]]\n"
     ]
    },
    {
     "data": {
      "text/html": [
       "<table style='font-size:16px;margin-left:auto;margin-right:auto;'><tr><th>Species</th><th>Accuracy</th> <th>Precision</th> <th>Recall</th> <th>F1-score</th></tr><tr><td>0</td><td>99.28%</td> <td>93.88%</td> <td>89.03%</td> <td>91.39%</td></tr><tr><td>1</td><td>99.72%</td> <td>92.73%</td> <td>89.47%</td> <td>91.07%</td></tr><tr><td>2</td><td>99.75%</td> <td>87.88%</td> <td>85.29%</td> <td>86.57%</td></tr><tr><td>3</td><td>99.53%</td> <td>94.69%</td> <td>98.31%</td> <td>96.47%</td></tr><tr><td>4</td><td>99.61%</td> <td>99.65%</td> <td>99.54%</td> <td>99.60%</td></tr><tr><td>5</td><td>99.64%</td> <td>98.93%</td> <td>98.75%</td> <td>98.84%</td></tr><tr><td>6</td><td>99.83%</td> <td>92.50%</td> <td>100.00%</td> <td>96.10%</td></tr><tr><td>7</td><td>99.44%</td> <td>95.66%</td> <td>98.51%</td> <td>97.07%</td></tr><tr><td>8</td><td>99.61%</td> <td>97.64%</td> <td>91.85%</td> <td>94.66%</td></tr><tr><td>9</td><td>99.86%</td> <td>99.63%</td> <td>98.52%</td> <td>99.07%</td></tr><tr><th>Average</th><th>99.63%</th> <th>95.32%</th> <th>94.93%</th> <th>95.08%</th></tr></table>"
      ]
     },
     "metadata": {
      "tags": []
     },
     "output_type": "display_data"
    },
    {
     "data": {
      "text/html": [
       "<hr>"
      ]
     },
     "metadata": {
      "tags": []
     },
     "output_type": "display_data"
    },
    {
     "data": {
      "text/html": [
       "<h2 style='text-align:center'>Iteration 43</h2>"
      ]
     },
     "metadata": {
      "tags": []
     },
     "output_type": "display_data"
    },
    {
     "data": {
      "text/html": [
       "<table style='font-size:16px;margin-left:auto;margin-right:auto;text-align=center'><tr><th>Hidden Layers</th><th>Training Fraction</th> <th>Number of Steps</th></tr><tr><th>[100, 100]</th><th>80%</th><th>1000</th></tr></table>"
      ]
     },
     "metadata": {
      "tags": []
     },
     "output_type": "display_data"
    },
    {
     "data": {
      "text/html": [
       "<h4>Confusion Matrix:</h4>"
      ]
     },
     "metadata": {
      "tags": []
     },
     "output_type": "display_data"
    },
    {
     "data": {
      "text/html": [
       "<br/>"
      ]
     },
     "metadata": {
      "tags": []
     },
     "output_type": "display_data"
    },
    {
     "name": "stdout",
     "output_type": "stream",
     "text": [
      "[[ 55   0   0   0   2   0   0   5   0   0]\n",
      " [  0  19   0   3   0   1   0   0   0   0]\n",
      " [  0   0  14   0   0   0   0   0   0   0]\n",
      " [  0   0   0  95   0   0   0   0   0   0]\n",
      " [  1   0   0   0 695   0   0   0   0   0]\n",
      " [  0   0   0   1   0 222   0   0   2   0]\n",
      " [  0   0   0   0   0   0  30   0   0   0]\n",
      " [  0   1   0   0   0   0   1 131   0   2]\n",
      " [  0   1   2   0   0   0   0   2  49   0]\n",
      " [  0   0   0   0   0   0   0   0   0 109]]\n"
     ]
    },
    {
     "data": {
      "text/html": [
       "<table style='font-size:16px;margin-left:auto;margin-right:auto;'><tr><th>Species</th><th>Accuracy</th> <th>Precision</th> <th>Recall</th> <th>F1-score</th></tr><tr><td>0</td><td>99.45%</td> <td>98.21%</td> <td>88.71%</td> <td>93.22%</td></tr><tr><td>1</td><td>99.58%</td> <td>90.48%</td> <td>82.61%</td> <td>86.36%</td></tr><tr><td>2</td><td>99.86%</td> <td>87.50%</td> <td>100.00%</td> <td>93.33%</td></tr><tr><td>3</td><td>99.72%</td> <td>95.96%</td> <td>100.00%</td> <td>97.94%</td></tr><tr><td>4</td><td>99.79%</td> <td>99.71%</td> <td>99.86%</td> <td>99.78%</td></tr><tr><td>5</td><td>99.72%</td> <td>99.55%</td> <td>98.67%</td> <td>99.11%</td></tr><tr><td>6</td><td>99.93%</td> <td>96.77%</td> <td>100.00%</td> <td>98.36%</td></tr><tr><td>7</td><td>99.24%</td> <td>94.93%</td> <td>97.04%</td> <td>95.97%</td></tr><tr><td>8</td><td>99.51%</td> <td>96.08%</td> <td>90.74%</td> <td>93.33%</td></tr><tr><td>9</td><td>99.86%</td> <td>98.20%</td> <td>100.00%</td> <td>99.09%</td></tr><tr><th>Average</th><th>99.67%</th> <th>95.74%</th> <th>95.76%</th> <th>95.65%</th></tr></table>"
      ]
     },
     "metadata": {
      "tags": []
     },
     "output_type": "display_data"
    },
    {
     "data": {
      "text/html": [
       "<hr>"
      ]
     },
     "metadata": {
      "tags": []
     },
     "output_type": "display_data"
    },
    {
     "data": {
      "text/html": [
       "<h2 style='text-align:center'>Iteration 44</h2>"
      ]
     },
     "metadata": {
      "tags": []
     },
     "output_type": "display_data"
    },
    {
     "data": {
      "text/html": [
       "<table style='font-size:16px;margin-left:auto;margin-right:auto;text-align=center'><tr><th>Hidden Layers</th><th>Training Fraction</th> <th>Number of Steps</th></tr><tr><th>[100, 100]</th><th>50%</th><th>1000</th></tr></table>"
      ]
     },
     "metadata": {
      "tags": []
     },
     "output_type": "display_data"
    },
    {
     "data": {
      "text/html": [
       "<h4>Confusion Matrix:</h4>"
      ]
     },
     "metadata": {
      "tags": []
     },
     "output_type": "display_data"
    },
    {
     "data": {
      "text/html": [
       "<br/>"
      ]
     },
     "metadata": {
      "tags": []
     },
     "output_type": "display_data"
    },
    {
     "name": "stdout",
     "output_type": "stream",
     "text": [
      "[[ 144    0    0    0   10    0    0    1    0    0]\n",
      " [   0   48    0    5    0    2    0    0    2    0]\n",
      " [   1    0   30    2    0    0    0    0    1    0]\n",
      " [   0    5    0  228    1    0    0    1    1    0]\n",
      " [   3    0    0    0 1734    2    0    0    0    0]\n",
      " [   0    1    0    2    0  556    0    0    2    0]\n",
      " [   0    0    1    0    0    0   72    0    0    1]\n",
      " [   7    3    0    1    0    1    1  323    0    0]\n",
      " [   0    1    1    1    0    2    0    0  130    0]\n",
      " [   3    0    0    0    0    0    0    0    0  268]]\n"
     ]
    },
    {
     "data": {
      "text/html": [
       "<table style='font-size:16px;margin-left:auto;margin-right:auto;'><tr><th>Species</th><th>Accuracy</th> <th>Precision</th> <th>Recall</th> <th>F1-score</th></tr><tr><td>0</td><td>99.31%</td> <td>91.14%</td> <td>92.90%</td> <td>92.01%</td></tr><tr><td>1</td><td>99.47%</td> <td>82.76%</td> <td>84.21%</td> <td>83.48%</td></tr><tr><td>2</td><td>99.83%</td> <td>93.75%</td> <td>88.24%</td> <td>90.91%</td></tr><tr><td>3</td><td>99.47%</td> <td>95.40%</td> <td>96.61%</td> <td>96.00%</td></tr><tr><td>4</td><td>99.56%</td> <td>99.37%</td> <td>99.71%</td> <td>99.54%</td></tr><tr><td>5</td><td>99.67%</td> <td>98.76%</td> <td>99.11%</td> <td>98.93%</td></tr><tr><td>6</td><td>99.92%</td> <td>98.63%</td> <td>97.30%</td> <td>97.96%</td></tr><tr><td>7</td><td>99.58%</td> <td>99.38%</td> <td>96.13%</td> <td>97.73%</td></tr><tr><td>8</td><td>99.69%</td> <td>95.59%</td> <td>96.30%</td> <td>95.94%</td></tr><tr><td>9</td><td>99.89%</td> <td>99.63%</td> <td>98.89%</td> <td>99.26%</td></tr><tr><th>Average</th><th>99.64%</th> <th>95.44%</th> <th>94.94%</th> <th>95.18%</th></tr></table>"
      ]
     },
     "metadata": {
      "tags": []
     },
     "output_type": "display_data"
    },
    {
     "data": {
      "text/html": [
       "<hr>"
      ]
     },
     "metadata": {
      "tags": []
     },
     "output_type": "display_data"
    },
    {
     "data": {
      "text/html": [
       "<h2 style='text-align:center'>Iteration 45</h2>"
      ]
     },
     "metadata": {
      "tags": []
     },
     "output_type": "display_data"
    },
    {
     "data": {
      "text/html": [
       "<table style='font-size:16px;margin-left:auto;margin-right:auto;text-align=center'><tr><th>Hidden Layers</th><th>Training Fraction</th> <th>Number of Steps</th></tr><tr><th>[100, 100]</th><th>80%</th><th>1500</th></tr></table>"
      ]
     },
     "metadata": {
      "tags": []
     },
     "output_type": "display_data"
    },
    {
     "data": {
      "text/html": [
       "<h4>Confusion Matrix:</h4>"
      ]
     },
     "metadata": {
      "tags": []
     },
     "output_type": "display_data"
    },
    {
     "data": {
      "text/html": [
       "<br/>"
      ]
     },
     "metadata": {
      "tags": []
     },
     "output_type": "display_data"
    },
    {
     "name": "stdout",
     "output_type": "stream",
     "text": [
      "[[ 56   0   0   0   3   0   0   3   0   0]\n",
      " [  0  23   0   0   0   0   0   0   0   0]\n",
      " [  0   0  13   0   0   0   0   0   1   0]\n",
      " [  0   0   0  95   0   0   0   0   0   0]\n",
      " [  3   0   1   0 691   1   0   0   0   0]\n",
      " [  0   1   0   1   0 223   0   0   0   0]\n",
      " [  0   0   0   0   0   0  30   0   0   0]\n",
      " [  1   0   0   3   0   0   0 131   0   0]\n",
      " [  1   0   0   0   0   0   0   0  53   0]\n",
      " [  3   0   0   0   0   0   0   0   0 106]]\n"
     ]
    },
    {
     "data": {
      "text/html": [
       "<table style='font-size:16px;margin-left:auto;margin-right:auto;'><tr><th>Species</th><th>Accuracy</th> <th>Precision</th> <th>Recall</th> <th>F1-score</th></tr><tr><td>0</td><td>99.03%</td> <td>87.50%</td> <td>90.32%</td> <td>88.89%</td></tr><tr><td>1</td><td>99.93%</td> <td>95.83%</td> <td>100.00%</td> <td>97.87%</td></tr><tr><td>2</td><td>99.86%</td> <td>92.86%</td> <td>92.86%</td> <td>92.86%</td></tr><tr><td>3</td><td>99.72%</td> <td>95.96%</td> <td>100.00%</td> <td>97.94%</td></tr><tr><td>4</td><td>99.45%</td> <td>99.57%</td> <td>99.28%</td> <td>99.42%</td></tr><tr><td>5</td><td>99.79%</td> <td>99.55%</td> <td>99.11%</td> <td>99.33%</td></tr><tr><td>6</td><td>100.00%</td> <td>100.00%</td> <td>100.00%</td> <td>100.00%</td></tr><tr><td>7</td><td>99.51%</td> <td>97.76%</td> <td>97.04%</td> <td>97.40%</td></tr><tr><td>8</td><td>99.86%</td> <td>98.15%</td> <td>98.15%</td> <td>98.15%</td></tr><tr><td>9</td><td>99.79%</td> <td>100.00%</td> <td>97.25%</td> <td>98.60%</td></tr><tr><th>Average</th><th>99.70%</th> <th>96.72%</th> <th>97.40%</th> <th>97.05%</th></tr></table>"
      ]
     },
     "metadata": {
      "tags": []
     },
     "output_type": "display_data"
    },
    {
     "data": {
      "text/html": [
       "<hr>"
      ]
     },
     "metadata": {
      "tags": []
     },
     "output_type": "display_data"
    },
    {
     "data": {
      "text/html": [
       "<h2 style='text-align:center'>Iteration 46</h2>"
      ]
     },
     "metadata": {
      "tags": []
     },
     "output_type": "display_data"
    },
    {
     "data": {
      "text/html": [
       "<table style='font-size:16px;margin-left:auto;margin-right:auto;text-align=center'><tr><th>Hidden Layers</th><th>Training Fraction</th> <th>Number of Steps</th></tr><tr><th>[100, 100]</th><th>50%</th><th>1500</th></tr></table>"
      ]
     },
     "metadata": {
      "tags": []
     },
     "output_type": "display_data"
    },
    {
     "data": {
      "text/html": [
       "<h4>Confusion Matrix:</h4>"
      ]
     },
     "metadata": {
      "tags": []
     },
     "output_type": "display_data"
    },
    {
     "data": {
      "text/html": [
       "<br/>"
      ]
     },
     "metadata": {
      "tags": []
     },
     "output_type": "display_data"
    },
    {
     "name": "stdout",
     "output_type": "stream",
     "text": [
      "[[ 143    0    0    0    8    0    0    3    0    1]\n",
      " [   0   52    0    4    0    1    0    0    0    0]\n",
      " [   0    0   31    1    0    0    1    0    1    0]\n",
      " [   0    1    1  231    1    0    0    0    2    0]\n",
      " [   6    0    0    0 1732    1    0    0    0    0]\n",
      " [   1    1    0    2    0  555    0    0    2    0]\n",
      " [   0    0    0    0    0    0   74    0    0    0]\n",
      " [   1    0    0    0    0    1    1  333    0    0]\n",
      " [   1    0    2    0    0    2    0    0  130    0]\n",
      " [   3    0    0    0    0    1    1    1    0  265]]\n"
     ]
    },
    {
     "data": {
      "text/html": [
       "<table style='font-size:16px;margin-left:auto;margin-right:auto;'><tr><th>Species</th><th>Accuracy</th> <th>Precision</th> <th>Recall</th> <th>F1-score</th></tr><tr><td>0</td><td>99.33%</td> <td>92.26%</td> <td>92.26%</td> <td>92.26%</td></tr><tr><td>1</td><td>99.81%</td> <td>96.30%</td> <td>91.23%</td> <td>93.69%</td></tr><tr><td>2</td><td>99.83%</td> <td>91.18%</td> <td>91.18%</td> <td>91.18%</td></tr><tr><td>3</td><td>99.67%</td> <td>97.06%</td> <td>97.88%</td> <td>97.47%</td></tr><tr><td>4</td><td>99.56%</td> <td>99.48%</td> <td>99.60%</td> <td>99.54%</td></tr><tr><td>5</td><td>99.67%</td> <td>98.93%</td> <td>98.93%</td> <td>98.93%</td></tr><tr><td>6</td><td>99.92%</td> <td>96.10%</td> <td>100.00%</td> <td>98.01%</td></tr><tr><td>7</td><td>99.81%</td> <td>98.81%</td> <td>99.11%</td> <td>98.96%</td></tr><tr><td>8</td><td>99.72%</td> <td>96.30%</td> <td>96.30%</td> <td>96.30%</td></tr><tr><td>9</td><td>99.81%</td> <td>99.62%</td> <td>97.79%</td> <td>98.70%</td></tr><tr><th>Average</th><th>99.71%</th> <th>96.60%</th> <th>96.43%</th> <th>96.50%</th></tr></table>"
      ]
     },
     "metadata": {
      "tags": []
     },
     "output_type": "display_data"
    },
    {
     "data": {
      "text/html": [
       "<hr>"
      ]
     },
     "metadata": {
      "tags": []
     },
     "output_type": "display_data"
    },
    {
     "data": {
      "text/html": [
       "<h2 style='text-align:center'>Iteration 47</h2>"
      ]
     },
     "metadata": {
      "tags": []
     },
     "output_type": "display_data"
    },
    {
     "data": {
      "text/html": [
       "<table style='font-size:16px;margin-left:auto;margin-right:auto;text-align=center'><tr><th>Hidden Layers</th><th>Training Fraction</th> <th>Number of Steps</th></tr><tr><th>[100, 100]</th><th>80%</th><th>2000</th></tr></table>"
      ]
     },
     "metadata": {
      "tags": []
     },
     "output_type": "display_data"
    },
    {
     "data": {
      "text/html": [
       "<h4>Confusion Matrix:</h4>"
      ]
     },
     "metadata": {
      "tags": []
     },
     "output_type": "display_data"
    },
    {
     "data": {
      "text/html": [
       "<br/>"
      ]
     },
     "metadata": {
      "tags": []
     },
     "output_type": "display_data"
    },
    {
     "name": "stdout",
     "output_type": "stream",
     "text": [
      "[[ 60   0   0   0   2   0   0   0   0   0]\n",
      " [  0  21   0   1   0   0   0   1   0   0]\n",
      " [  0   0  14   0   0   0   0   0   0   0]\n",
      " [  0   1   0  93   0   0   0   1   0   0]\n",
      " [  0   0   0   0 695   1   0   0   0   0]\n",
      " [  0   1   0   1   0 223   0   0   0   0]\n",
      " [  0   0   0   0   0   0  30   0   0   0]\n",
      " [  1   0   0   0   0   0   0 133   0   1]\n",
      " [  0   0   0   1   1   1   0   0  51   0]\n",
      " [  0   0   0   0   0   0   1   0   0 108]]\n"
     ]
    },
    {
     "data": {
      "text/html": [
       "<table style='font-size:16px;margin-left:auto;margin-right:auto;'><tr><th>Species</th><th>Accuracy</th> <th>Precision</th> <th>Recall</th> <th>F1-score</th></tr><tr><td>0</td><td>99.79%</td> <td>98.36%</td> <td>96.77%</td> <td>97.56%</td></tr><tr><td>1</td><td>99.72%</td> <td>91.30%</td> <td>91.30%</td> <td>91.30%</td></tr><tr><td>2</td><td>100.00%</td> <td>100.00%</td> <td>100.00%</td> <td>100.00%</td></tr><tr><td>3</td><td>99.65%</td> <td>96.88%</td> <td>97.89%</td> <td>97.38%</td></tr><tr><td>4</td><td>99.72%</td> <td>99.57%</td> <td>99.86%</td> <td>99.71%</td></tr><tr><td>5</td><td>99.72%</td> <td>99.11%</td> <td>99.11%</td> <td>99.11%</td></tr><tr><td>6</td><td>99.93%</td> <td>96.77%</td> <td>100.00%</td> <td>98.36%</td></tr><tr><td>7</td><td>99.72%</td> <td>98.52%</td> <td>98.52%</td> <td>98.52%</td></tr><tr><td>8</td><td>99.79%</td> <td>100.00%</td> <td>94.44%</td> <td>97.14%</td></tr><tr><td>9</td><td>99.86%</td> <td>99.08%</td> <td>99.08%</td> <td>99.08%</td></tr><tr><th>Average</th><th>99.79%</th> <th>97.96%</th> <th>97.70%</th> <th>97.82%</th></tr></table>"
      ]
     },
     "metadata": {
      "tags": []
     },
     "output_type": "display_data"
    },
    {
     "data": {
      "text/html": [
       "<hr>"
      ]
     },
     "metadata": {
      "tags": []
     },
     "output_type": "display_data"
    },
    {
     "data": {
      "text/html": [
       "<h2 style='text-align:center'>Iteration 48</h2>"
      ]
     },
     "metadata": {
      "tags": []
     },
     "output_type": "display_data"
    },
    {
     "data": {
      "text/html": [
       "<table style='font-size:16px;margin-left:auto;margin-right:auto;text-align=center'><tr><th>Hidden Layers</th><th>Training Fraction</th> <th>Number of Steps</th></tr><tr><th>[100, 100]</th><th>50%</th><th>2000</th></tr></table>"
      ]
     },
     "metadata": {
      "tags": []
     },
     "output_type": "display_data"
    },
    {
     "data": {
      "text/html": [
       "<h4>Confusion Matrix:</h4>"
      ]
     },
     "metadata": {
      "tags": []
     },
     "output_type": "display_data"
    },
    {
     "data": {
      "text/html": [
       "<br/>"
      ]
     },
     "metadata": {
      "tags": []
     },
     "output_type": "display_data"
    },
    {
     "name": "stdout",
     "output_type": "stream",
     "text": [
      "[[ 144    0    0    0    4    0    0    4    0    3]\n",
      " [   0   51    0    4    0    1    0    1    0    0]\n",
      " [   0    0   33    0    0    0    0    1    0    0]\n",
      " [   0    0    0  233    0    1    0    2    0    0]\n",
      " [   3    0    0    0 1734    0    2    0    0    0]\n",
      " [   1    1    1    1    0  555    0    0    2    0]\n",
      " [   0    0    0    0    0    1   73    0    0    0]\n",
      " [   1    0    0    0    0    1    0  332    0    2]\n",
      " [   2    1    2    1    0    0    0    1  128    0]\n",
      " [   2    0    0    0    0    1    1    0    0  267]]\n"
     ]
    },
    {
     "data": {
      "text/html": [
       "<table style='font-size:16px;margin-left:auto;margin-right:auto;'><tr><th>Species</th><th>Accuracy</th> <th>Precision</th> <th>Recall</th> <th>F1-score</th></tr><tr><td>0</td><td>99.44%</td> <td>94.12%</td> <td>92.90%</td> <td>93.51%</td></tr><tr><td>1</td><td>99.78%</td> <td>96.23%</td> <td>89.47%</td> <td>92.73%</td></tr><tr><td>2</td><td>99.89%</td> <td>91.67%</td> <td>97.06%</td> <td>94.29%</td></tr><tr><td>3</td><td>99.75%</td> <td>97.49%</td> <td>98.73%</td> <td>98.11%</td></tr><tr><td>4</td><td>99.75%</td> <td>99.77%</td> <td>99.71%</td> <td>99.74%</td></tr><tr><td>5</td><td>99.69%</td> <td>99.11%</td> <td>98.93%</td> <td>99.02%</td></tr><tr><td>6</td><td>99.89%</td> <td>96.05%</td> <td>98.65%</td> <td>97.33%</td></tr><tr><td>7</td><td>99.64%</td> <td>97.36%</td> <td>98.81%</td> <td>98.08%</td></tr><tr><td>8</td><td>99.75%</td> <td>98.46%</td> <td>94.81%</td> <td>96.60%</td></tr><tr><td>9</td><td>99.75%</td> <td>98.16%</td> <td>98.52%</td> <td>98.34%</td></tr><tr><th>Average</th><th>99.73%</th> <th>96.84%</th> <th>96.76%</th> <th>96.77%</th></tr></table>"
      ]
     },
     "metadata": {
      "tags": []
     },
     "output_type": "display_data"
    },
    {
     "data": {
      "text/html": [
       "<hr>"
      ]
     },
     "metadata": {
      "tags": []
     },
     "output_type": "display_data"
    },
    {
     "data": {
      "text/html": [
       "<h2 style='text-align:center'>Iteration 49</h2>"
      ]
     },
     "metadata": {
      "tags": []
     },
     "output_type": "display_data"
    },
    {
     "data": {
      "text/html": [
       "<table style='font-size:16px;margin-left:auto;margin-right:auto;text-align=center'><tr><th>Hidden Layers</th><th>Training Fraction</th> <th>Number of Steps</th></tr><tr><th>[10, 10, 10]</th><th>80%</th><th>100</th></tr></table>"
      ]
     },
     "metadata": {
      "tags": []
     },
     "output_type": "display_data"
    },
    {
     "data": {
      "text/html": [
       "<h4>Confusion Matrix:</h4>"
      ]
     },
     "metadata": {
      "tags": []
     },
     "output_type": "display_data"
    },
    {
     "data": {
      "text/html": [
       "<br/>"
      ]
     },
     "metadata": {
      "tags": []
     },
     "output_type": "display_data"
    },
    {
     "name": "stdout",
     "output_type": "stream",
     "text": [
      "[[ 15   0   0   0  11   5   0   8   0  23]\n",
      " [  0   6   0  12   0   0   0   0   5   0]\n",
      " [  0   0   0   2   0   1   0   2   9   0]\n",
      " [  0   3   0  90   0   0   0   0   2   0]\n",
      " [  0   0   0   1 693   2   0   0   0   0]\n",
      " [  0   0   0   6   1 213   0   0   5   0]\n",
      " [  0   0   0  18   2   5   0   0   0   5]\n",
      " [  0   0   0   1   0   0   0 125   0   9]\n",
      " [  0   0   0   0   0   7   0   1  46   0]\n",
      " [  1   0   0   0   0   1   0  39   0  68]]\n"
     ]
    },
    {
     "data": {
      "text/html": [
       "<table style='font-size:16px;margin-left:auto;margin-right:auto;'><tr><th>Species</th><th>Accuracy</th> <th>Precision</th> <th>Recall</th> <th>F1-score</th></tr><tr><td>0</td><td>96.67%</td> <td>93.75%</td> <td>24.19%</td> <td>38.46%</td></tr><tr><td>1</td><td>98.61%</td> <td>66.67%</td> <td>26.09%</td> <td>37.50%</td></tr><tr><td>2</td><td>99.03%</td> <td>nan%</td> <td>0.00%</td> <td>nan%</td></tr><tr><td>3</td><td>96.88%</td> <td>69.23%</td> <td>94.74%</td> <td>80.00%</td></tr><tr><td>4</td><td>98.82%</td> <td>98.02%</td> <td>99.57%</td> <td>98.79%</td></tr><tr><td>5</td><td>97.71%</td> <td>91.03%</td> <td>94.67%</td> <td>92.81%</td></tr><tr><td>6</td><td>97.92%</td> <td>nan%</td> <td>0.00%</td> <td>nan%</td></tr><tr><td>7</td><td>95.84%</td> <td>71.43%</td> <td>92.59%</td> <td>80.65%</td></tr><tr><td>8</td><td>97.99%</td> <td>68.66%</td> <td>85.19%</td> <td>76.03%</td></tr><tr><td>9</td><td>94.59%</td> <td>64.76%</td> <td>62.39%</td> <td>63.55%</td></tr><tr><th>Average</th><th>97.41%</th> <th>77.94%</th> <th>57.94%</th> <th>70.97%</th></tr></table>"
      ]
     },
     "metadata": {
      "tags": []
     },
     "output_type": "display_data"
    },
    {
     "data": {
      "text/html": [
       "<hr>"
      ]
     },
     "metadata": {
      "tags": []
     },
     "output_type": "display_data"
    },
    {
     "data": {
      "text/html": [
       "<h2 style='text-align:center'>Iteration 50</h2>"
      ]
     },
     "metadata": {
      "tags": []
     },
     "output_type": "display_data"
    },
    {
     "data": {
      "text/html": [
       "<table style='font-size:16px;margin-left:auto;margin-right:auto;text-align=center'><tr><th>Hidden Layers</th><th>Training Fraction</th> <th>Number of Steps</th></tr><tr><th>[10, 10, 10]</th><th>50%</th><th>100</th></tr></table>"
      ]
     },
     "metadata": {
      "tags": []
     },
     "output_type": "display_data"
    },
    {
     "data": {
      "text/html": [
       "<h4>Confusion Matrix:</h4>"
      ]
     },
     "metadata": {
      "tags": []
     },
     "output_type": "display_data"
    },
    {
     "data": {
      "text/html": [
       "<br/>"
      ]
     },
     "metadata": {
      "tags": []
     },
     "output_type": "display_data"
    },
    {
     "name": "stdout",
     "output_type": "stream",
     "text": [
      "[[   1    0    0    0   52   37    0   43    0   22]\n",
      " [   0    0    0   40    0   17    0    0    0    0]\n",
      " [   0    0    0   11    0    2    0   20    0    1]\n",
      " [   0    0    0  219    0   16    0    1    0    0]\n",
      " [   0    0    0    2 1735    1    0    1    0    0]\n",
      " [   0    0    0    4    4  553    0    0    0    0]\n",
      " [   0    0    0    7    0   58    0    2    0    7]\n",
      " [   0    0    0    4    0    2    0  323    0    7]\n",
      " [   0    0    0    5    1  128    0    1    0    0]\n",
      " [   0    0    0    0    0    0    0  136    0  135]]\n"
     ]
    },
    {
     "data": {
      "text/html": [
       "<table style='font-size:16px;margin-left:auto;margin-right:auto;'><tr><th>Species</th><th>Accuracy</th> <th>Precision</th> <th>Recall</th> <th>F1-score</th></tr><tr><td>0</td><td>95.72%</td> <td>100.00%</td> <td>0.65%</td> <td>1.28%</td></tr><tr><td>1</td><td>98.42%</td> <td>nan%</td> <td>0.00%</td> <td>nan%</td></tr><tr><td>2</td><td>99.06%</td> <td>nan%</td> <td>0.00%</td> <td>nan%</td></tr><tr><td>3</td><td>97.50%</td> <td>75.00%</td> <td>92.80%</td> <td>82.95%</td></tr><tr><td>4</td><td>98.30%</td> <td>96.82%</td> <td>99.77%</td> <td>98.27%</td></tr><tr><td>5</td><td>92.52%</td> <td>67.94%</td> <td>98.57%</td> <td>80.44%</td></tr><tr><td>6</td><td>97.94%</td> <td>nan%</td> <td>0.00%</td> <td>nan%</td></tr><tr><td>7</td><td>93.97%</td> <td>61.29%</td> <td>96.13%</td> <td>74.86%</td></tr><tr><td>8</td><td>96.25%</td> <td>nan%</td> <td>0.00%</td> <td>nan%</td></tr><tr><td>9</td><td>95.19%</td> <td>78.49%</td> <td>49.82%</td> <td>60.95%</td></tr><tr><th>Average</th><th>96.49%</th> <th>79.92%</th> <th>43.77%</th> <th>66.46%</th></tr></table>"
      ]
     },
     "metadata": {
      "tags": []
     },
     "output_type": "display_data"
    },
    {
     "data": {
      "text/html": [
       "<hr>"
      ]
     },
     "metadata": {
      "tags": []
     },
     "output_type": "display_data"
    },
    {
     "data": {
      "text/html": [
       "<h2 style='text-align:center'>Iteration 51</h2>"
      ]
     },
     "metadata": {
      "tags": []
     },
     "output_type": "display_data"
    },
    {
     "data": {
      "text/html": [
       "<table style='font-size:16px;margin-left:auto;margin-right:auto;text-align=center'><tr><th>Hidden Layers</th><th>Training Fraction</th> <th>Number of Steps</th></tr><tr><th>[10, 10, 10]</th><th>80%</th><th>200</th></tr></table>"
      ]
     },
     "metadata": {
      "tags": []
     },
     "output_type": "display_data"
    },
    {
     "data": {
      "text/html": [
       "<h4>Confusion Matrix:</h4>"
      ]
     },
     "metadata": {
      "tags": []
     },
     "output_type": "display_data"
    },
    {
     "data": {
      "text/html": [
       "<br/>"
      ]
     },
     "metadata": {
      "tags": []
     },
     "output_type": "display_data"
    },
    {
     "name": "stdout",
     "output_type": "stream",
     "text": [
      "[[ 32   0   0   0  10   3   0   5   0  12]\n",
      " [  0  14   0   7   0   1   0   1   0   0]\n",
      " [  0   3   0   3   0   0   0   2   1   5]\n",
      " [  0   2   0  92   0   1   0   0   0   0]\n",
      " [  1   0   0   0 694   0   0   0   0   1]\n",
      " [  0   0   0   1   2 220   0   0   2   0]\n",
      " [  6   2   0   1   0  12   9   0   0   0]\n",
      " [  0   0   0   0   0   0   0 129   0   6]\n",
      " [  1   1   0   2   0   4   0   0  46   0]\n",
      " [  2   0   0   0   0   0   0   1   0 106]]\n"
     ]
    },
    {
     "data": {
      "text/html": [
       "<table style='font-size:16px;margin-left:auto;margin-right:auto;'><tr><th>Species</th><th>Accuracy</th> <th>Precision</th> <th>Recall</th> <th>F1-score</th></tr><tr><td>0</td><td>97.23%</td> <td>76.19%</td> <td>51.61%</td> <td>61.54%</td></tr><tr><td>1</td><td>98.82%</td> <td>63.64%</td> <td>60.87%</td> <td>62.22%</td></tr><tr><td>2</td><td>99.03%</td> <td>nan%</td> <td>0.00%</td> <td>nan%</td></tr><tr><td>3</td><td>98.82%</td> <td>86.79%</td> <td>96.84%</td> <td>91.54%</td></tr><tr><td>4</td><td>99.03%</td> <td>98.30%</td> <td>99.71%</td> <td>99.00%</td></tr><tr><td>5</td><td>98.20%</td> <td>91.29%</td> <td>97.78%</td> <td>94.42%</td></tr><tr><td>6</td><td>98.54%</td> <td>100.00%</td> <td>30.00%</td> <td>46.15%</td></tr><tr><td>7</td><td>98.96%</td> <td>93.48%</td> <td>95.56%</td> <td>94.51%</td></tr><tr><td>8</td><td>99.24%</td> <td>93.88%</td> <td>85.19%</td> <td>89.32%</td></tr><tr><td>9</td><td>98.13%</td> <td>81.54%</td> <td>97.25%</td> <td>88.70%</td></tr><tr><th>Average</th><th>98.60%</th> <th>87.23%</th> <th>71.48%</th> <th>80.82%</th></tr></table>"
      ]
     },
     "metadata": {
      "tags": []
     },
     "output_type": "display_data"
    },
    {
     "data": {
      "text/html": [
       "<hr>"
      ]
     },
     "metadata": {
      "tags": []
     },
     "output_type": "display_data"
    },
    {
     "data": {
      "text/html": [
       "<h2 style='text-align:center'>Iteration 52</h2>"
      ]
     },
     "metadata": {
      "tags": []
     },
     "output_type": "display_data"
    },
    {
     "data": {
      "text/html": [
       "<table style='font-size:16px;margin-left:auto;margin-right:auto;text-align=center'><tr><th>Hidden Layers</th><th>Training Fraction</th> <th>Number of Steps</th></tr><tr><th>[10, 10, 10]</th><th>50%</th><th>200</th></tr></table>"
      ]
     },
     "metadata": {
      "tags": []
     },
     "output_type": "display_data"
    },
    {
     "data": {
      "text/html": [
       "<h4>Confusion Matrix:</h4>"
      ]
     },
     "metadata": {
      "tags": []
     },
     "output_type": "display_data"
    },
    {
     "data": {
      "text/html": [
       "<br/>"
      ]
     },
     "metadata": {
      "tags": []
     },
     "output_type": "display_data"
    },
    {
     "name": "stdout",
     "output_type": "stream",
     "text": [
      "[[  77    3    0    1   26    0    0   19    0   29]\n",
      " [   0   15    0    7    0   32    0    2    0    1]\n",
      " [   1    0    0    4    0    0    0   26    2    1]\n",
      " [   0    2    0  215    0    5    0    2    9    3]\n",
      " [   8    0    0    0 1727    1    1    1    0    1]\n",
      " [   0    0    0    0    0  556    0    0    5    0]\n",
      " [  16    7    0    2    2    8   26    0    4    9]\n",
      " [   0    1    0    1    0    1    0  319    1   13]\n",
      " [   0    9    0    3    0    9    0    0  114    0]\n",
      " [   7    0    0    0    0    1    0   22    0  241]]\n"
     ]
    },
    {
     "data": {
      "text/html": [
       "<table style='font-size:16px;margin-left:auto;margin-right:auto;'><tr><th>Species</th><th>Accuracy</th> <th>Precision</th> <th>Recall</th> <th>F1-score</th></tr><tr><td>0</td><td>96.94%</td> <td>70.64%</td> <td>49.68%</td> <td>58.33%</td></tr><tr><td>1</td><td>98.22%</td> <td>40.54%</td> <td>26.32%</td> <td>31.91%</td></tr><tr><td>2</td><td>99.06%</td> <td>nan%</td> <td>0.00%</td> <td>nan%</td></tr><tr><td>3</td><td>98.92%</td> <td>92.27%</td> <td>91.10%</td> <td>91.68%</td></tr><tr><td>4</td><td>98.89%</td> <td>98.40%</td> <td>99.31%</td> <td>98.86%</td></tr><tr><td>5</td><td>98.28%</td> <td>90.70%</td> <td>99.11%</td> <td>94.72%</td></tr><tr><td>6</td><td>98.64%</td> <td>96.30%</td> <td>35.14%</td> <td>51.49%</td></tr><tr><td>7</td><td>97.53%</td> <td>81.59%</td> <td>94.94%</td> <td>87.76%</td></tr><tr><td>8</td><td>98.83%</td> <td>84.44%</td> <td>84.44%</td> <td>84.44%</td></tr><tr><td>9</td><td>97.58%</td> <td>80.87%</td> <td>88.93%</td> <td>84.71%</td></tr><tr><th>Average</th><th>98.29%</th> <th>81.75%</th> <th>66.90%</th> <th>75.99%</th></tr></table>"
      ]
     },
     "metadata": {
      "tags": []
     },
     "output_type": "display_data"
    },
    {
     "data": {
      "text/html": [
       "<hr>"
      ]
     },
     "metadata": {
      "tags": []
     },
     "output_type": "display_data"
    },
    {
     "data": {
      "text/html": [
       "<h2 style='text-align:center'>Iteration 53</h2>"
      ]
     },
     "metadata": {
      "tags": []
     },
     "output_type": "display_data"
    },
    {
     "data": {
      "text/html": [
       "<table style='font-size:16px;margin-left:auto;margin-right:auto;text-align=center'><tr><th>Hidden Layers</th><th>Training Fraction</th> <th>Number of Steps</th></tr><tr><th>[10, 10, 10]</th><th>80%</th><th>500</th></tr></table>"
      ]
     },
     "metadata": {
      "tags": []
     },
     "output_type": "display_data"
    },
    {
     "data": {
      "text/html": [
       "<h4>Confusion Matrix:</h4>"
      ]
     },
     "metadata": {
      "tags": []
     },
     "output_type": "display_data"
    },
    {
     "data": {
      "text/html": [
       "<br/>"
      ]
     },
     "metadata": {
      "tags": []
     },
     "output_type": "display_data"
    },
    {
     "name": "stdout",
     "output_type": "stream",
     "text": [
      "[[ 37   0   0   0  10   0   0   5   0  10]\n",
      " [  0  16   0   5   0   2   0   0   0   0]\n",
      " [  0   0   1   0   0   0   2  10   1   0]\n",
      " [  0   4   0  90   0   0   0   1   0   0]\n",
      " [  4   0   0   1 691   0   0   0   0   0]\n",
      " [  0   1   0   2   0 221   0   0   1   0]\n",
      " [  8   0   0   2   1   1  17   0   0   1]\n",
      " [  0   1   0   0   0   0   0 131   0   3]\n",
      " [  0   0   0   2   0   4   0   1  47   0]\n",
      " [  0   0   0   0   0   0   0   1   0 108]]\n"
     ]
    },
    {
     "data": {
      "text/html": [
       "<table style='font-size:16px;margin-left:auto;margin-right:auto;'><tr><th>Species</th><th>Accuracy</th> <th>Precision</th> <th>Recall</th> <th>F1-score</th></tr><tr><td>0</td><td>97.44%</td> <td>75.51%</td> <td>59.68%</td> <td>66.67%</td></tr><tr><td>1</td><td>99.10%</td> <td>72.73%</td> <td>69.57%</td> <td>71.11%</td></tr><tr><td>2</td><td>99.10%</td> <td>100.00%</td> <td>7.14%</td> <td>13.33%</td></tr><tr><td>3</td><td>98.82%</td> <td>88.24%</td> <td>94.74%</td> <td>91.37%</td></tr><tr><td>4</td><td>98.89%</td> <td>98.43%</td> <td>99.28%</td> <td>98.86%</td></tr><tr><td>5</td><td>99.24%</td> <td>96.93%</td> <td>98.22%</td> <td>97.57%</td></tr><tr><td>6</td><td>98.96%</td> <td>89.47%</td> <td>56.67%</td> <td>69.39%</td></tr><tr><td>7</td><td>98.48%</td> <td>87.92%</td> <td>97.04%</td> <td>92.25%</td></tr><tr><td>8</td><td>99.38%</td> <td>95.92%</td> <td>87.04%</td> <td>91.26%</td></tr><tr><td>9</td><td>98.96%</td> <td>88.52%</td> <td>99.08%</td> <td>93.51%</td></tr><tr><th>Average</th><th>98.84%</th> <th>89.37%</th> <th>76.84%</th> <th>78.53%</th></tr></table>"
      ]
     },
     "metadata": {
      "tags": []
     },
     "output_type": "display_data"
    },
    {
     "data": {
      "text/html": [
       "<hr>"
      ]
     },
     "metadata": {
      "tags": []
     },
     "output_type": "display_data"
    },
    {
     "data": {
      "text/html": [
       "<h2 style='text-align:center'>Iteration 54</h2>"
      ]
     },
     "metadata": {
      "tags": []
     },
     "output_type": "display_data"
    },
    {
     "data": {
      "text/html": [
       "<table style='font-size:16px;margin-left:auto;margin-right:auto;text-align=center'><tr><th>Hidden Layers</th><th>Training Fraction</th> <th>Number of Steps</th></tr><tr><th>[10, 10, 10]</th><th>50%</th><th>500</th></tr></table>"
      ]
     },
     "metadata": {
      "tags": []
     },
     "output_type": "display_data"
    },
    {
     "data": {
      "text/html": [
       "<h4>Confusion Matrix:</h4>"
      ]
     },
     "metadata": {
      "tags": []
     },
     "output_type": "display_data"
    },
    {
     "data": {
      "text/html": [
       "<br/>"
      ]
     },
     "metadata": {
      "tags": []
     },
     "output_type": "display_data"
    },
    {
     "name": "stdout",
     "output_type": "stream",
     "text": [
      "[[  97    0    0    0   19    4    2   17    1   15]\n",
      " [   0   34    0   16    0    3    0    3    1    0]\n",
      " [   2    1   28    1    0    0    0    1    1    0]\n",
      " [   0    2    0  224    0    2    0    5    3    0]\n",
      " [   3    1    0    0 1726    3    1    0    4    1]\n",
      " [   0    1    0    1    2  541    0    0   16    0]\n",
      " [  24    1    1    3    2    5    2    0   36    0]\n",
      " [   5    0    1    5    0    2    0  314    0    9]\n",
      " [   1    1    0    0    0    4    2    1  126    0]\n",
      " [  13    0    1    0    0    0    0    0    0  257]]\n"
     ]
    },
    {
     "data": {
      "text/html": [
       "<table style='font-size:16px;margin-left:auto;margin-right:auto;'><tr><th>Species</th><th>Accuracy</th> <th>Precision</th> <th>Recall</th> <th>F1-score</th></tr><tr><td>0</td><td>97.05%</td> <td>66.90%</td> <td>62.58%</td> <td>64.67%</td></tr><tr><td>1</td><td>99.17%</td> <td>82.93%</td> <td>59.65%</td> <td>69.39%</td></tr><tr><td>2</td><td>99.75%</td> <td>90.32%</td> <td>82.35%</td> <td>86.15%</td></tr><tr><td>3</td><td>98.94%</td> <td>89.60%</td> <td>94.92%</td> <td>92.18%</td></tr><tr><td>4</td><td>99.00%</td> <td>98.68%</td> <td>99.25%</td> <td>98.97%</td></tr><tr><td>5</td><td>98.80%</td> <td>95.92%</td> <td>96.43%</td> <td>96.18%</td></tr><tr><td>6</td><td>97.86%</td> <td>28.57%</td> <td>2.70%</td> <td>4.94%</td></tr><tr><td>7</td><td>98.64%</td> <td>92.08%</td> <td>93.45%</td> <td>92.76%</td></tr><tr><td>8</td><td>98.03%</td> <td>67.02%</td> <td>93.33%</td> <td>78.02%</td></tr><tr><td>9</td><td>98.92%</td> <td>91.13%</td> <td>94.83%</td> <td>92.95%</td></tr><tr><th>Average</th><th>98.62%</th> <th>80.32%</th> <th>77.95%</th> <th>77.62%</th></tr></table>"
      ]
     },
     "metadata": {
      "tags": []
     },
     "output_type": "display_data"
    },
    {
     "data": {
      "text/html": [
       "<hr>"
      ]
     },
     "metadata": {
      "tags": []
     },
     "output_type": "display_data"
    },
    {
     "data": {
      "text/html": [
       "<h2 style='text-align:center'>Iteration 55</h2>"
      ]
     },
     "metadata": {
      "tags": []
     },
     "output_type": "display_data"
    },
    {
     "data": {
      "text/html": [
       "<table style='font-size:16px;margin-left:auto;margin-right:auto;text-align=center'><tr><th>Hidden Layers</th><th>Training Fraction</th> <th>Number of Steps</th></tr><tr><th>[10, 10, 10]</th><th>80%</th><th>1000</th></tr></table>"
      ]
     },
     "metadata": {
      "tags": []
     },
     "output_type": "display_data"
    },
    {
     "data": {
      "text/html": [
       "<h4>Confusion Matrix:</h4>"
      ]
     },
     "metadata": {
      "tags": []
     },
     "output_type": "display_data"
    },
    {
     "data": {
      "text/html": [
       "<br/>"
      ]
     },
     "metadata": {
      "tags": []
     },
     "output_type": "display_data"
    },
    {
     "name": "stdout",
     "output_type": "stream",
     "text": [
      "[[ 37   0   0   0   8   0   0  12   0   5]\n",
      " [  0  17   0   4   0   1   0   1   0   0]\n",
      " [  1   0   9   2   0   0   0   0   1   1]\n",
      " [  0   2   0  92   0   0   0   0   1   0]\n",
      " [  3   0   0   0 692   0   1   0   0   0]\n",
      " [  1   1   0   0   1 219   0   0   3   0]\n",
      " [  2   0   0   1   0   3  22   0   2   0]\n",
      " [  0   0   1   3   0   0   0 129   0   2]\n",
      " [  0   3   2   2   0   0   2   1  44   0]\n",
      " [  4   0   1   0   0   0   0   4   0 100]]\n"
     ]
    },
    {
     "data": {
      "text/html": [
       "<table style='font-size:16px;margin-left:auto;margin-right:auto;'><tr><th>Species</th><th>Accuracy</th> <th>Precision</th> <th>Recall</th> <th>F1-score</th></tr><tr><td>0</td><td>97.51%</td> <td>77.08%</td> <td>59.68%</td> <td>67.27%</td></tr><tr><td>1</td><td>99.17%</td> <td>73.91%</td> <td>73.91%</td> <td>73.91%</td></tr><tr><td>2</td><td>99.38%</td> <td>69.23%</td> <td>64.29%</td> <td>66.67%</td></tr><tr><td>3</td><td>98.96%</td> <td>88.46%</td> <td>96.84%</td> <td>92.46%</td></tr><tr><td>4</td><td>99.10%</td> <td>98.72%</td> <td>99.43%</td> <td>99.07%</td></tr><tr><td>5</td><td>99.31%</td> <td>98.21%</td> <td>97.33%</td> <td>97.77%</td></tr><tr><td>6</td><td>99.24%</td> <td>88.00%</td> <td>73.33%</td> <td>80.00%</td></tr><tr><td>7</td><td>98.34%</td> <td>87.76%</td> <td>95.56%</td> <td>91.49%</td></tr><tr><td>8</td><td>98.82%</td> <td>86.27%</td> <td>81.48%</td> <td>83.81%</td></tr><tr><td>9</td><td>98.82%</td> <td>92.59%</td> <td>91.74%</td> <td>92.17%</td></tr><tr><th>Average</th><th>98.86%</th> <th>86.02%</th> <th>83.36%</th> <th>84.46%</th></tr></table>"
      ]
     },
     "metadata": {
      "tags": []
     },
     "output_type": "display_data"
    },
    {
     "data": {
      "text/html": [
       "<hr>"
      ]
     },
     "metadata": {
      "tags": []
     },
     "output_type": "display_data"
    },
    {
     "data": {
      "text/html": [
       "<h2 style='text-align:center'>Iteration 56</h2>"
      ]
     },
     "metadata": {
      "tags": []
     },
     "output_type": "display_data"
    },
    {
     "data": {
      "text/html": [
       "<table style='font-size:16px;margin-left:auto;margin-right:auto;text-align=center'><tr><th>Hidden Layers</th><th>Training Fraction</th> <th>Number of Steps</th></tr><tr><th>[10, 10, 10]</th><th>50%</th><th>1000</th></tr></table>"
      ]
     },
     "metadata": {
      "tags": []
     },
     "output_type": "display_data"
    },
    {
     "data": {
      "text/html": [
       "<h4>Confusion Matrix:</h4>"
      ]
     },
     "metadata": {
      "tags": []
     },
     "output_type": "display_data"
    },
    {
     "data": {
      "text/html": [
       "<br/>"
      ]
     },
     "metadata": {
      "tags": []
     },
     "output_type": "display_data"
    },
    {
     "name": "stdout",
     "output_type": "stream",
     "text": [
      "[[ 105    0    0    1   22    0    2   19    3    3]\n",
      " [   1   35    0   13    0    1    0    6    1    0]\n",
      " [   1    1   26    0    0    2    1    2    1    0]\n",
      " [   0    7    0  219    0    3    0    5    2    0]\n",
      " [   3    1    1    1 1732    0    1    0    0    0]\n",
      " [   0    4    0    7    1  537    0    0   12    0]\n",
      " [   7    0    1    5    0    1   55    1    0    4]\n",
      " [   5    0    0    1    0    1    0  328    0    1]\n",
      " [   3    2    0    0    0    5    0    0  125    0]\n",
      " [   4    0    0    0    0    0    1    0    1  265]]\n"
     ]
    },
    {
     "data": {
      "text/html": [
       "<table style='font-size:16px;margin-left:auto;margin-right:auto;'><tr><th>Species</th><th>Accuracy</th> <th>Precision</th> <th>Recall</th> <th>F1-score</th></tr><tr><td>0</td><td>97.94%</td> <td>81.40%</td> <td>67.74%</td> <td>73.94%</td></tr><tr><td>1</td><td>98.97%</td> <td>70.00%</td> <td>61.40%</td> <td>65.42%</td></tr><tr><td>2</td><td>99.72%</td> <td>92.86%</td> <td>76.47%</td> <td>83.87%</td></tr><tr><td>3</td><td>98.75%</td> <td>88.66%</td> <td>92.80%</td> <td>90.68%</td></tr><tr><td>4</td><td>99.17%</td> <td>98.69%</td> <td>99.60%</td> <td>99.14%</td></tr><tr><td>5</td><td>98.97%</td> <td>97.64%</td> <td>95.72%</td> <td>96.67%</td></tr><tr><td>6</td><td>99.33%</td> <td>91.67%</td> <td>74.32%</td> <td>82.09%</td></tr><tr><td>7</td><td>98.86%</td> <td>90.86%</td> <td>97.62%</td> <td>94.12%</td></tr><tr><td>8</td><td>99.17%</td> <td>86.21%</td> <td>92.59%</td> <td>89.29%</td></tr><tr><td>9</td><td>99.61%</td> <td>97.07%</td> <td>97.79%</td> <td>97.43%</td></tr><tr><th>Average</th><th>99.05%</th> <th>89.50%</th> <th>85.61%</th> <th>87.26%</th></tr></table>"
      ]
     },
     "metadata": {
      "tags": []
     },
     "output_type": "display_data"
    },
    {
     "data": {
      "text/html": [
       "<hr>"
      ]
     },
     "metadata": {
      "tags": []
     },
     "output_type": "display_data"
    },
    {
     "data": {
      "text/html": [
       "<h2 style='text-align:center'>Iteration 57</h2>"
      ]
     },
     "metadata": {
      "tags": []
     },
     "output_type": "display_data"
    },
    {
     "data": {
      "text/html": [
       "<table style='font-size:16px;margin-left:auto;margin-right:auto;text-align=center'><tr><th>Hidden Layers</th><th>Training Fraction</th> <th>Number of Steps</th></tr><tr><th>[10, 10, 10]</th><th>80%</th><th>1500</th></tr></table>"
      ]
     },
     "metadata": {
      "tags": []
     },
     "output_type": "display_data"
    },
    {
     "data": {
      "text/html": [
       "<h4>Confusion Matrix:</h4>"
      ]
     },
     "metadata": {
      "tags": []
     },
     "output_type": "display_data"
    },
    {
     "data": {
      "text/html": [
       "<br/>"
      ]
     },
     "metadata": {
      "tags": []
     },
     "output_type": "display_data"
    },
    {
     "name": "stdout",
     "output_type": "stream",
     "text": [
      "[[ 38   0   1   0   9   1   0   3   0  10]\n",
      " [  1  16   0   4   0   0   0   1   1   0]\n",
      " [  0   0  11   1   0   0   0   1   1   0]\n",
      " [  0   4   0  89   0   1   0   1   0   0]\n",
      " [  2   0   0   0 692   1   0   0   1   0]\n",
      " [  0   0   0   2   1 220   0   0   2   0]\n",
      " [  3   0   0   0   0   0  25   0   2   0]\n",
      " [  0   1   0   0   0   0   0 131   0   3]\n",
      " [  0   1   1   1   0   4   0   2  45   0]\n",
      " [  0   0   1   0   0   0   0   1   0 107]]\n"
     ]
    },
    {
     "data": {
      "text/html": [
       "<table style='font-size:16px;margin-left:auto;margin-right:auto;'><tr><th>Species</th><th>Accuracy</th> <th>Precision</th> <th>Recall</th> <th>F1-score</th></tr><tr><td>0</td><td>97.92%</td> <td>86.36%</td> <td>61.29%</td> <td>71.70%</td></tr><tr><td>1</td><td>99.10%</td> <td>72.73%</td> <td>69.57%</td> <td>71.11%</td></tr><tr><td>2</td><td>99.58%</td> <td>78.57%</td> <td>78.57%</td> <td>78.57%</td></tr><tr><td>3</td><td>99.03%</td> <td>91.75%</td> <td>93.68%</td> <td>92.71%</td></tr><tr><td>4</td><td>99.03%</td> <td>98.58%</td> <td>99.43%</td> <td>99.00%</td></tr><tr><td>5</td><td>99.17%</td> <td>96.92%</td> <td>97.78%</td> <td>97.35%</td></tr><tr><td>6</td><td>99.65%</td> <td>100.00%</td> <td>83.33%</td> <td>90.91%</td></tr><tr><td>7</td><td>99.10%</td> <td>93.57%</td> <td>97.04%</td> <td>95.27%</td></tr><tr><td>8</td><td>98.89%</td> <td>86.54%</td> <td>83.33%</td> <td>84.91%</td></tr><tr><td>9</td><td>98.96%</td> <td>89.17%</td> <td>98.17%</td> <td>93.45%</td></tr><tr><th>Average</th><th>99.04%</th> <th>89.42%</th> <th>86.22%</th> <th>87.50%</th></tr></table>"
      ]
     },
     "metadata": {
      "tags": []
     },
     "output_type": "display_data"
    },
    {
     "data": {
      "text/html": [
       "<hr>"
      ]
     },
     "metadata": {
      "tags": []
     },
     "output_type": "display_data"
    },
    {
     "data": {
      "text/html": [
       "<h2 style='text-align:center'>Iteration 58</h2>"
      ]
     },
     "metadata": {
      "tags": []
     },
     "output_type": "display_data"
    },
    {
     "data": {
      "text/html": [
       "<table style='font-size:16px;margin-left:auto;margin-right:auto;text-align=center'><tr><th>Hidden Layers</th><th>Training Fraction</th> <th>Number of Steps</th></tr><tr><th>[10, 10, 10]</th><th>50%</th><th>1500</th></tr></table>"
      ]
     },
     "metadata": {
      "tags": []
     },
     "output_type": "display_data"
    },
    {
     "data": {
      "text/html": [
       "<h4>Confusion Matrix:</h4>"
      ]
     },
     "metadata": {
      "tags": []
     },
     "output_type": "display_data"
    },
    {
     "data": {
      "text/html": [
       "<br/>"
      ]
     },
     "metadata": {
      "tags": []
     },
     "output_type": "display_data"
    },
    {
     "name": "stdout",
     "output_type": "stream",
     "text": [
      "[[  91    0    1    0   10    0    1   20    0   32]\n",
      " [   0   37    0   12    0    0    2    0    6    0]\n",
      " [   0    1   26    2    0    0    3    0    2    0]\n",
      " [   0    7    0  224    0    0    0    0    5    0]\n",
      " [   2    0    0    1 1736    0    0    0    0    0]\n",
      " [   1    0    0    3    4  549    0    0    4    0]\n",
      " [   0    3    0    2    0    0   69    0    0    0]\n",
      " [   3    2    0    3    0    0    0  322    0    6]\n",
      " [   1    4    0    2    0    9    0    0  119    0]\n",
      " [   8    1    1    0    0    1    1    1    0  258]]\n"
     ]
    },
    {
     "data": {
      "text/html": [
       "<table style='font-size:16px;margin-left:auto;margin-right:auto;'><tr><th>Species</th><th>Accuracy</th> <th>Precision</th> <th>Recall</th> <th>F1-score</th></tr><tr><td>0</td><td>97.80%</td> <td>85.85%</td> <td>58.71%</td> <td>69.73%</td></tr><tr><td>1</td><td>98.94%</td> <td>67.27%</td> <td>64.91%</td> <td>66.07%</td></tr><tr><td>2</td><td>99.72%</td> <td>92.86%</td> <td>76.47%</td> <td>83.87%</td></tr><tr><td>3</td><td>98.97%</td> <td>89.96%</td> <td>94.92%</td> <td>92.37%</td></tr><tr><td>4</td><td>99.53%</td> <td>99.20%</td> <td>99.83%</td> <td>99.51%</td></tr><tr><td>5</td><td>99.39%</td> <td>98.21%</td> <td>97.86%</td> <td>98.04%</td></tr><tr><td>6</td><td>99.67%</td> <td>90.79%</td> <td>93.24%</td> <td>92.00%</td></tr><tr><td>7</td><td>99.03%</td> <td>93.88%</td> <td>95.83%</td> <td>94.85%</td></tr><tr><td>8</td><td>99.08%</td> <td>87.50%</td> <td>88.15%</td> <td>87.82%</td></tr><tr><td>9</td><td>98.58%</td> <td>87.16%</td> <td>95.20%</td> <td>91.01%</td></tr><tr><th>Average</th><th>99.07%</th> <th>89.27%</th> <th>86.51%</th> <th>87.53%</th></tr></table>"
      ]
     },
     "metadata": {
      "tags": []
     },
     "output_type": "display_data"
    },
    {
     "data": {
      "text/html": [
       "<hr>"
      ]
     },
     "metadata": {
      "tags": []
     },
     "output_type": "display_data"
    },
    {
     "data": {
      "text/html": [
       "<h2 style='text-align:center'>Iteration 59</h2>"
      ]
     },
     "metadata": {
      "tags": []
     },
     "output_type": "display_data"
    },
    {
     "data": {
      "text/html": [
       "<table style='font-size:16px;margin-left:auto;margin-right:auto;text-align=center'><tr><th>Hidden Layers</th><th>Training Fraction</th> <th>Number of Steps</th></tr><tr><th>[10, 10, 10]</th><th>80%</th><th>2000</th></tr></table>"
      ]
     },
     "metadata": {
      "tags": []
     },
     "output_type": "display_data"
    },
    {
     "data": {
      "text/html": [
       "<h4>Confusion Matrix:</h4>"
      ]
     },
     "metadata": {
      "tags": []
     },
     "output_type": "display_data"
    },
    {
     "data": {
      "text/html": [
       "<br/>"
      ]
     },
     "metadata": {
      "tags": []
     },
     "output_type": "display_data"
    },
    {
     "name": "stdout",
     "output_type": "stream",
     "text": [
      "[[ 42   0   0   0   7   0   2   9   0   2]\n",
      " [  0  21   1   1   0   0   0   0   0   0]\n",
      " [  0   0  12   1   0   0   0   0   1   0]\n",
      " [  0   0   0  94   0   0   0   1   0   0]\n",
      " [  3   0   0   0 692   1   0   0   0   0]\n",
      " [  1   1   0   1   0 221   0   0   1   0]\n",
      " [  0   0   2   0   0   0  28   0   0   0]\n",
      " [  1   2   0   0   0   0   0 126   0   6]\n",
      " [  1   0   0   0   0   0   0   0  53   0]\n",
      " [  0   0   0   0   0   0   1   0   0 108]]\n"
     ]
    },
    {
     "data": {
      "text/html": [
       "<table style='font-size:16px;margin-left:auto;margin-right:auto;'><tr><th>Species</th><th>Accuracy</th> <th>Precision</th> <th>Recall</th> <th>F1-score</th></tr><tr><td>0</td><td>98.20%</td> <td>87.50%</td> <td>67.74%</td> <td>76.36%</td></tr><tr><td>1</td><td>99.65%</td> <td>87.50%</td> <td>91.30%</td> <td>89.36%</td></tr><tr><td>2</td><td>99.65%</td> <td>80.00%</td> <td>85.71%</td> <td>82.76%</td></tr><tr><td>3</td><td>99.72%</td> <td>96.91%</td> <td>98.95%</td> <td>97.92%</td></tr><tr><td>4</td><td>99.24%</td> <td>99.00%</td> <td>99.43%</td> <td>99.21%</td></tr><tr><td>5</td><td>99.65%</td> <td>99.55%</td> <td>98.22%</td> <td>98.88%</td></tr><tr><td>6</td><td>99.65%</td> <td>90.32%</td> <td>93.33%</td> <td>91.80%</td></tr><tr><td>7</td><td>98.68%</td> <td>92.65%</td> <td>93.33%</td> <td>92.99%</td></tr><tr><td>8</td><td>99.79%</td> <td>96.36%</td> <td>98.15%</td> <td>97.25%</td></tr><tr><td>9</td><td>99.38%</td> <td>93.10%</td> <td>99.08%</td> <td>96.00%</td></tr><tr><th>Average</th><th>99.36%</th> <th>92.29%</th> <th>92.53%</th> <th>92.25%</th></tr></table>"
      ]
     },
     "metadata": {
      "tags": []
     },
     "output_type": "display_data"
    },
    {
     "data": {
      "text/html": [
       "<hr>"
      ]
     },
     "metadata": {
      "tags": []
     },
     "output_type": "display_data"
    },
    {
     "data": {
      "text/html": [
       "<h2 style='text-align:center'>Iteration 60</h2>"
      ]
     },
     "metadata": {
      "tags": []
     },
     "output_type": "display_data"
    },
    {
     "data": {
      "text/html": [
       "<table style='font-size:16px;margin-left:auto;margin-right:auto;text-align=center'><tr><th>Hidden Layers</th><th>Training Fraction</th> <th>Number of Steps</th></tr><tr><th>[10, 10, 10]</th><th>50%</th><th>2000</th></tr></table>"
      ]
     },
     "metadata": {
      "tags": []
     },
     "output_type": "display_data"
    },
    {
     "data": {
      "text/html": [
       "<h4>Confusion Matrix:</h4>"
      ]
     },
     "metadata": {
      "tags": []
     },
     "output_type": "display_data"
    },
    {
     "data": {
      "text/html": [
       "<br/>"
      ]
     },
     "metadata": {
      "tags": []
     },
     "output_type": "display_data"
    },
    {
     "name": "stdout",
     "output_type": "stream",
     "text": [
      "[[ 127    1    0    2    9    4    0    7    1    4]\n",
      " [   0   49    0    6    0    0    0    2    0    0]\n",
      " [   1    0   25    2    0    0    3    0    3    0]\n",
      " [   0    7    0  225    0    1    1    0    2    0]\n",
      " [   3    1    0    0 1729    4    2    0    0    0]\n",
      " [   1    4    0    3    3  543    0    0    7    0]\n",
      " [   0    0    1    4    1    1   64    0    0    3]\n",
      " [   3    3    1    0    0    1    0  324    0    4]\n",
      " [   1    1    0    2    1    3    1    2  124    0]\n",
      " [   5    0    1    0    0    3    2    1    0  259]]\n"
     ]
    },
    {
     "data": {
      "text/html": [
       "<table style='font-size:16px;margin-left:auto;margin-right:auto;'><tr><th>Species</th><th>Accuracy</th> <th>Precision</th> <th>Recall</th> <th>F1-score</th></tr><tr><td>0</td><td>98.83%</td> <td>90.07%</td> <td>81.94%</td> <td>85.81%</td></tr><tr><td>1</td><td>99.31%</td> <td>74.24%</td> <td>85.96%</td> <td>79.67%</td></tr><tr><td>2</td><td>99.67%</td> <td>89.29%</td> <td>73.53%</td> <td>80.65%</td></tr><tr><td>3</td><td>99.17%</td> <td>92.21%</td> <td>95.34%</td> <td>93.75%</td></tr><tr><td>4</td><td>99.33%</td> <td>99.20%</td> <td>99.42%</td> <td>99.31%</td></tr><tr><td>5</td><td>99.03%</td> <td>96.96%</td> <td>96.79%</td> <td>96.88%</td></tr><tr><td>6</td><td>99.47%</td> <td>87.67%</td> <td>86.49%</td> <td>87.07%</td></tr><tr><td>7</td><td>99.33%</td> <td>96.43%</td> <td>96.43%</td> <td>96.43%</td></tr><tr><td>8</td><td>99.33%</td> <td>90.51%</td> <td>91.85%</td> <td>91.18%</td></tr><tr><td>9</td><td>99.36%</td> <td>95.93%</td> <td>95.57%</td> <td>95.75%</td></tr><tr><th>Average</th><th>99.28%</th> <th>91.25%</th> <th>90.33%</th> <th>90.65%</th></tr></table>"
      ]
     },
     "metadata": {
      "tags": []
     },
     "output_type": "display_data"
    },
    {
     "data": {
      "text/html": [
       "<hr>"
      ]
     },
     "metadata": {
      "tags": []
     },
     "output_type": "display_data"
    },
    {
     "data": {
      "text/html": [
       "<h2 style='text-align:center'>Iteration 61</h2>"
      ]
     },
     "metadata": {
      "tags": []
     },
     "output_type": "display_data"
    },
    {
     "data": {
      "text/html": [
       "<table style='font-size:16px;margin-left:auto;margin-right:auto;text-align=center'><tr><th>Hidden Layers</th><th>Training Fraction</th> <th>Number of Steps</th></tr><tr><th>[100, 100, 100]</th><th>80%</th><th>100</th></tr></table>"
      ]
     },
     "metadata": {
      "tags": []
     },
     "output_type": "display_data"
    },
    {
     "data": {
      "text/html": [
       "<h4>Confusion Matrix:</h4>"
      ]
     },
     "metadata": {
      "tags": []
     },
     "output_type": "display_data"
    },
    {
     "data": {
      "text/html": [
       "<br/>"
      ]
     },
     "metadata": {
      "tags": []
     },
     "output_type": "display_data"
    },
    {
     "name": "stdout",
     "output_type": "stream",
     "text": [
      "[[ 50   0   0   0   4   0   0   7   0   1]\n",
      " [  0  18   0   3   0   1   1   0   0   0]\n",
      " [  0   1   8   2   0   0   0   0   1   2]\n",
      " [  0   3   0  91   0   0   0   1   0   0]\n",
      " [  0   0   1   0 694   1   0   0   0   0]\n",
      " [  0   4   0   1   1 217   0   0   2   0]\n",
      " [  1   1   0   2   0   0  26   0   0   0]\n",
      " [  4   0   0   1   0   0   0 129   0   1]\n",
      " [  0   2   0   1   0   1   0   1  49   0]\n",
      " [  3   0   0   0   0   0   1   0   0 105]]\n"
     ]
    },
    {
     "data": {
      "text/html": [
       "<table style='font-size:16px;margin-left:auto;margin-right:auto;'><tr><th>Species</th><th>Accuracy</th> <th>Precision</th> <th>Recall</th> <th>F1-score</th></tr><tr><td>0</td><td>98.61%</td> <td>86.21%</td> <td>80.65%</td> <td>83.33%</td></tr><tr><td>1</td><td>98.89%</td> <td>62.07%</td> <td>78.26%</td> <td>69.23%</td></tr><tr><td>2</td><td>99.51%</td> <td>88.89%</td> <td>57.14%</td> <td>69.57%</td></tr><tr><td>3</td><td>99.03%</td> <td>90.10%</td> <td>95.79%</td> <td>92.86%</td></tr><tr><td>4</td><td>99.51%</td> <td>99.28%</td> <td>99.71%</td> <td>99.50%</td></tr><tr><td>5</td><td>99.24%</td> <td>98.64%</td> <td>96.44%</td> <td>97.53%</td></tr><tr><td>6</td><td>99.58%</td> <td>92.86%</td> <td>86.67%</td> <td>89.66%</td></tr><tr><td>7</td><td>98.96%</td> <td>93.48%</td> <td>95.56%</td> <td>94.51%</td></tr><tr><td>8</td><td>99.45%</td> <td>94.23%</td> <td>90.74%</td> <td>92.45%</td></tr><tr><td>9</td><td>99.45%</td> <td>96.33%</td> <td>96.33%</td> <td>96.33%</td></tr><tr><th>Average</th><th>99.22%</th> <th>90.21%</th> <th>87.73%</th> <th>88.50%</th></tr></table>"
      ]
     },
     "metadata": {
      "tags": []
     },
     "output_type": "display_data"
    },
    {
     "data": {
      "text/html": [
       "<hr>"
      ]
     },
     "metadata": {
      "tags": []
     },
     "output_type": "display_data"
    },
    {
     "data": {
      "text/html": [
       "<h2 style='text-align:center'>Iteration 62</h2>"
      ]
     },
     "metadata": {
      "tags": []
     },
     "output_type": "display_data"
    },
    {
     "data": {
      "text/html": [
       "<table style='font-size:16px;margin-left:auto;margin-right:auto;text-align=center'><tr><th>Hidden Layers</th><th>Training Fraction</th> <th>Number of Steps</th></tr><tr><th>[100, 100, 100]</th><th>50%</th><th>100</th></tr></table>"
      ]
     },
     "metadata": {
      "tags": []
     },
     "output_type": "display_data"
    },
    {
     "data": {
      "text/html": [
       "<h4>Confusion Matrix:</h4>"
      ]
     },
     "metadata": {
      "tags": []
     },
     "output_type": "display_data"
    },
    {
     "data": {
      "text/html": [
       "<br/>"
      ]
     },
     "metadata": {
      "tags": []
     },
     "output_type": "display_data"
    },
    {
     "name": "stdout",
     "output_type": "stream",
     "text": [
      "[[ 101    0    0    0   24    7    0   21    0    2]\n",
      " [   0   29    0   16    0    9    1    0    2    0]\n",
      " [   0    0   26    0    0    0    2    1    5    0]\n",
      " [   0    0    0  235    0    1    0    0    0    0]\n",
      " [   2    0    1    1 1735    0    0    0    0    0]\n",
      " [   0    0    0    6    1  548    0    0    6    0]\n",
      " [  19    0    2    0    0    1   52    0    0    0]\n",
      " [   6    0    0    8    0    0    0  314    0    8]\n",
      " [   0    0    0    1    0    7    0    1  126    0]\n",
      " [   4    0    0    0    0    2    0    0    0  265]]\n"
     ]
    },
    {
     "data": {
      "text/html": [
       "<table style='font-size:16px;margin-left:auto;margin-right:auto;'><tr><th>Species</th><th>Accuracy</th> <th>Precision</th> <th>Recall</th> <th>F1-score</th></tr><tr><td>0</td><td>97.64%</td> <td>76.52%</td> <td>65.16%</td> <td>70.38%</td></tr><tr><td>1</td><td>99.22%</td> <td>100.00%</td> <td>50.88%</td> <td>67.44%</td></tr><tr><td>2</td><td>99.69%</td> <td>89.66%</td> <td>76.47%</td> <td>82.54%</td></tr><tr><td>3</td><td>99.08%</td> <td>88.01%</td> <td>99.58%</td> <td>93.44%</td></tr><tr><td>4</td><td>99.19%</td> <td>98.58%</td> <td>99.77%</td> <td>99.17%</td></tr><tr><td>5</td><td>98.89%</td> <td>95.30%</td> <td>97.68%</td> <td>96.48%</td></tr><tr><td>6</td><td>99.31%</td> <td>94.55%</td> <td>70.27%</td> <td>80.62%</td></tr><tr><td>7</td><td>98.75%</td> <td>93.18%</td> <td>93.45%</td> <td>93.31%</td></tr><tr><td>8</td><td>99.39%</td> <td>90.65%</td> <td>93.33%</td> <td>91.97%</td></tr><tr><td>9</td><td>99.56%</td> <td>96.36%</td> <td>97.79%</td> <td>97.07%</td></tr><tr><th>Average</th><th>99.07%</th> <th>92.28%</th> <th>84.44%</th> <th>87.24%</th></tr></table>"
      ]
     },
     "metadata": {
      "tags": []
     },
     "output_type": "display_data"
    },
    {
     "data": {
      "text/html": [
       "<hr>"
      ]
     },
     "metadata": {
      "tags": []
     },
     "output_type": "display_data"
    },
    {
     "data": {
      "text/html": [
       "<h2 style='text-align:center'>Iteration 63</h2>"
      ]
     },
     "metadata": {
      "tags": []
     },
     "output_type": "display_data"
    },
    {
     "data": {
      "text/html": [
       "<table style='font-size:16px;margin-left:auto;margin-right:auto;text-align=center'><tr><th>Hidden Layers</th><th>Training Fraction</th> <th>Number of Steps</th></tr><tr><th>[100, 100, 100]</th><th>80%</th><th>200</th></tr></table>"
      ]
     },
     "metadata": {
      "tags": []
     },
     "output_type": "display_data"
    },
    {
     "data": {
      "text/html": [
       "<h4>Confusion Matrix:</h4>"
      ]
     },
     "metadata": {
      "tags": []
     },
     "output_type": "display_data"
    },
    {
     "data": {
      "text/html": [
       "<br/>"
      ]
     },
     "metadata": {
      "tags": []
     },
     "output_type": "display_data"
    },
    {
     "name": "stdout",
     "output_type": "stream",
     "text": [
      "[[ 50   0   0   0   9   0   0   2   0   1]\n",
      " [  0  14   1   6   0   2   0   0   0   0]\n",
      " [  0   0  11   1   0   0   0   2   0   0]\n",
      " [  0   0   0  93   0   0   0   1   1   0]\n",
      " [  1   0   0   0 692   2   0   0   0   1]\n",
      " [  0   1   0   0   0 223   0   0   1   0]\n",
      " [  1   0   0   0   0   0  29   0   0   0]\n",
      " [  9   0   0   0   0   0   0 126   0   0]\n",
      " [  1   0   0   1   0   1   0   0  51   0]\n",
      " [  7   0   2   0   0   0   0   0   0 100]]\n"
     ]
    },
    {
     "data": {
      "text/html": [
       "<table style='font-size:16px;margin-left:auto;margin-right:auto;'><tr><th>Species</th><th>Accuracy</th> <th>Precision</th> <th>Recall</th> <th>F1-score</th></tr><tr><td>0</td><td>97.85%</td> <td>72.46%</td> <td>80.65%</td> <td>76.34%</td></tr><tr><td>1</td><td>99.31%</td> <td>93.33%</td> <td>60.87%</td> <td>73.68%</td></tr><tr><td>2</td><td>99.58%</td> <td>78.57%</td> <td>78.57%</td> <td>78.57%</td></tr><tr><td>3</td><td>99.31%</td> <td>92.08%</td> <td>97.89%</td> <td>94.90%</td></tr><tr><td>4</td><td>99.10%</td> <td>98.72%</td> <td>99.43%</td> <td>99.07%</td></tr><tr><td>5</td><td>99.51%</td> <td>97.81%</td> <td>99.11%</td> <td>98.45%</td></tr><tr><td>6</td><td>99.93%</td> <td>100.00%</td> <td>96.67%</td> <td>98.31%</td></tr><tr><td>7</td><td>99.03%</td> <td>96.18%</td> <td>93.33%</td> <td>94.74%</td></tr><tr><td>8</td><td>99.65%</td> <td>96.23%</td> <td>94.44%</td> <td>95.33%</td></tr><tr><td>9</td><td>99.24%</td> <td>98.04%</td> <td>91.74%</td> <td>94.79%</td></tr><tr><th>Average</th><th>99.25%</th> <th>92.34%</th> <th>89.27%</th> <th>90.42%</th></tr></table>"
      ]
     },
     "metadata": {
      "tags": []
     },
     "output_type": "display_data"
    },
    {
     "data": {
      "text/html": [
       "<hr>"
      ]
     },
     "metadata": {
      "tags": []
     },
     "output_type": "display_data"
    },
    {
     "data": {
      "text/html": [
       "<h2 style='text-align:center'>Iteration 64</h2>"
      ]
     },
     "metadata": {
      "tags": []
     },
     "output_type": "display_data"
    },
    {
     "data": {
      "text/html": [
       "<table style='font-size:16px;margin-left:auto;margin-right:auto;text-align=center'><tr><th>Hidden Layers</th><th>Training Fraction</th> <th>Number of Steps</th></tr><tr><th>[100, 100, 100]</th><th>50%</th><th>200</th></tr></table>"
      ]
     },
     "metadata": {
      "tags": []
     },
     "output_type": "display_data"
    },
    {
     "data": {
      "text/html": [
       "<h4>Confusion Matrix:</h4>"
      ]
     },
     "metadata": {
      "tags": []
     },
     "output_type": "display_data"
    },
    {
     "data": {
      "text/html": [
       "<br/>"
      ]
     },
     "metadata": {
      "tags": []
     },
     "output_type": "display_data"
    },
    {
     "name": "stdout",
     "output_type": "stream",
     "text": [
      "[[ 134    0    0    0   11    0    0    6    0    4]\n",
      " [   0   45    2    7    0    1    0    1    1    0]\n",
      " [   0    0   26    1    0    0    2    1    4    0]\n",
      " [   0    3    0  232    0    0    0    1    0    0]\n",
      " [   4    0    0    1 1732    2    0    0    0    0]\n",
      " [   0    2    0    2    0  550    2    1    4    0]\n",
      " [   0    0    2    0    0    0   72    0    0    0]\n",
      " [   4    2    0    0    0    1    0  328    0    1]\n",
      " [   0    2    0    1    0    0    0    0  132    0]\n",
      " [   0    0    0    0    0    0    0    0    0  271]]\n"
     ]
    },
    {
     "data": {
      "text/html": [
       "<table style='font-size:16px;margin-left:auto;margin-right:auto;'><tr><th>Species</th><th>Accuracy</th> <th>Precision</th> <th>Recall</th> <th>F1-score</th></tr><tr><td>0</td><td>99.19%</td> <td>94.37%</td> <td>86.45%</td> <td>90.24%</td></tr><tr><td>1</td><td>99.42%</td> <td>83.33%</td> <td>78.95%</td> <td>81.08%</td></tr><tr><td>2</td><td>99.67%</td> <td>86.67%</td> <td>76.47%</td> <td>81.25%</td></tr><tr><td>3</td><td>99.56%</td> <td>95.08%</td> <td>98.31%</td> <td>96.67%</td></tr><tr><td>4</td><td>99.50%</td> <td>99.37%</td> <td>99.60%</td> <td>99.48%</td></tr><tr><td>5</td><td>99.58%</td> <td>99.28%</td> <td>98.04%</td> <td>98.65%</td></tr><tr><td>6</td><td>99.83%</td> <td>94.74%</td> <td>97.30%</td> <td>96.00%</td></tr><tr><td>7</td><td>99.50%</td> <td>97.04%</td> <td>97.62%</td> <td>97.33%</td></tr><tr><td>8</td><td>99.67%</td> <td>93.62%</td> <td>97.78%</td> <td>95.65%</td></tr><tr><td>9</td><td>99.86%</td> <td>98.19%</td> <td>100.00%</td> <td>99.09%</td></tr><tr><th>Average</th><th>99.58%</th> <th>94.17%</th> <th>93.05%</th> <th>93.54%</th></tr></table>"
      ]
     },
     "metadata": {
      "tags": []
     },
     "output_type": "display_data"
    },
    {
     "data": {
      "text/html": [
       "<hr>"
      ]
     },
     "metadata": {
      "tags": []
     },
     "output_type": "display_data"
    },
    {
     "data": {
      "text/html": [
       "<h2 style='text-align:center'>Iteration 65</h2>"
      ]
     },
     "metadata": {
      "tags": []
     },
     "output_type": "display_data"
    },
    {
     "data": {
      "text/html": [
       "<table style='font-size:16px;margin-left:auto;margin-right:auto;text-align=center'><tr><th>Hidden Layers</th><th>Training Fraction</th> <th>Number of Steps</th></tr><tr><th>[100, 100, 100]</th><th>80%</th><th>500</th></tr></table>"
      ]
     },
     "metadata": {
      "tags": []
     },
     "output_type": "display_data"
    },
    {
     "data": {
      "text/html": [
       "<h4>Confusion Matrix:</h4>"
      ]
     },
     "metadata": {
      "tags": []
     },
     "output_type": "display_data"
    },
    {
     "data": {
      "text/html": [
       "<br/>"
      ]
     },
     "metadata": {
      "tags": []
     },
     "output_type": "display_data"
    },
    {
     "name": "stdout",
     "output_type": "stream",
     "text": [
      "[[ 56   0   0   0   5   0   0   1   0   0]\n",
      " [  0  17   0   5   0   1   0   0   0   0]\n",
      " [  0   0  14   0   0   0   0   0   0   0]\n",
      " [  0   1   0  93   0   1   0   0   0   0]\n",
      " [  2   0   0   0 693   1   0   0   0   0]\n",
      " [  0   0   0   0   0 224   0   0   1   0]\n",
      " [  0   0   0   0   0   1  29   0   0   0]\n",
      " [  2   1   0   0   0   0   0 131   0   1]\n",
      " [  0   1   1   0   0   2   0   0  50   0]\n",
      " [  1   0   1   0   0   0   0   0   0 107]]\n"
     ]
    },
    {
     "data": {
      "text/html": [
       "<table style='font-size:16px;margin-left:auto;margin-right:auto;'><tr><th>Species</th><th>Accuracy</th> <th>Precision</th> <th>Recall</th> <th>F1-score</th></tr><tr><td>0</td><td>99.24%</td> <td>91.80%</td> <td>90.32%</td> <td>91.06%</td></tr><tr><td>1</td><td>99.38%</td> <td>85.00%</td> <td>73.91%</td> <td>79.07%</td></tr><tr><td>2</td><td>99.86%</td> <td>87.50%</td> <td>100.00%</td> <td>93.33%</td></tr><tr><td>3</td><td>99.51%</td> <td>94.90%</td> <td>97.89%</td> <td>96.37%</td></tr><tr><td>4</td><td>99.45%</td> <td>99.28%</td> <td>99.57%</td> <td>99.43%</td></tr><tr><td>5</td><td>99.51%</td> <td>97.39%</td> <td>99.56%</td> <td>98.46%</td></tr><tr><td>6</td><td>99.93%</td> <td>100.00%</td> <td>96.67%</td> <td>98.31%</td></tr><tr><td>7</td><td>99.65%</td> <td>99.24%</td> <td>97.04%</td> <td>98.13%</td></tr><tr><td>8</td><td>99.65%</td> <td>98.04%</td> <td>92.59%</td> <td>95.24%</td></tr><tr><td>9</td><td>99.79%</td> <td>99.07%</td> <td>98.17%</td> <td>98.62%</td></tr><tr><th>Average</th><th>99.60%</th> <th>95.22%</th> <th>94.57%</th> <th>94.80%</th></tr></table>"
      ]
     },
     "metadata": {
      "tags": []
     },
     "output_type": "display_data"
    },
    {
     "data": {
      "text/html": [
       "<hr>"
      ]
     },
     "metadata": {
      "tags": []
     },
     "output_type": "display_data"
    },
    {
     "data": {
      "text/html": [
       "<h2 style='text-align:center'>Iteration 66</h2>"
      ]
     },
     "metadata": {
      "tags": []
     },
     "output_type": "display_data"
    },
    {
     "data": {
      "text/html": [
       "<table style='font-size:16px;margin-left:auto;margin-right:auto;text-align=center'><tr><th>Hidden Layers</th><th>Training Fraction</th> <th>Number of Steps</th></tr><tr><th>[100, 100, 100]</th><th>50%</th><th>500</th></tr></table>"
      ]
     },
     "metadata": {
      "tags": []
     },
     "output_type": "display_data"
    },
    {
     "data": {
      "text/html": [
       "<h4>Confusion Matrix:</h4>"
      ]
     },
     "metadata": {
      "tags": []
     },
     "output_type": "display_data"
    },
    {
     "data": {
      "text/html": [
       "<br/>"
      ]
     },
     "metadata": {
      "tags": []
     },
     "output_type": "display_data"
    },
    {
     "name": "stdout",
     "output_type": "stream",
     "text": [
      "[[ 135    0    0    0    4    0    0    9    0    7]\n",
      " [   0   51    0    5    0    1    0    0    0    0]\n",
      " [   0    0   28    3    0    0    2    1    0    0]\n",
      " [   0    2    0  231    0    1    0    0    2    0]\n",
      " [  10    0    0    0 1726    2    0    0    0    1]\n",
      " [   1    2    0    0    1  554    1    0    2    0]\n",
      " [   1    0    0    0    0    2   70    0    0    1]\n",
      " [   0    0    0    2    0    0    0  333    0    1]\n",
      " [   0    0    1    0    2    3    0    0  129    0]\n",
      " [   1    0    0    0    0    0    0    3    0  267]]\n"
     ]
    },
    {
     "data": {
      "text/html": [
       "<table style='font-size:16px;margin-left:auto;margin-right:auto;'><tr><th>Species</th><th>Accuracy</th> <th>Precision</th> <th>Recall</th> <th>F1-score</th></tr><tr><td>0</td><td>99.08%</td> <td>91.22%</td> <td>87.10%</td> <td>89.11%</td></tr><tr><td>1</td><td>99.72%</td> <td>92.73%</td> <td>89.47%</td> <td>91.07%</td></tr><tr><td>2</td><td>99.81%</td> <td>96.55%</td> <td>82.35%</td> <td>88.89%</td></tr><tr><td>3</td><td>99.58%</td> <td>95.85%</td> <td>97.88%</td> <td>96.86%</td></tr><tr><td>4</td><td>99.44%</td> <td>99.60%</td> <td>99.25%</td> <td>99.42%</td></tr><tr><td>5</td><td>99.56%</td> <td>98.40%</td> <td>98.75%</td> <td>98.58%</td></tr><tr><td>6</td><td>99.81%</td> <td>95.89%</td> <td>94.59%</td> <td>95.24%</td></tr><tr><td>7</td><td>99.56%</td> <td>96.24%</td> <td>99.11%</td> <td>97.65%</td></tr><tr><td>8</td><td>99.72%</td> <td>96.99%</td> <td>95.56%</td> <td>96.27%</td></tr><tr><td>9</td><td>99.61%</td> <td>96.39%</td> <td>98.52%</td> <td>97.45%</td></tr><tr><th>Average</th><th>99.59%</th> <th>95.99%</th> <th>94.26%</th> <th>95.05%</th></tr></table>"
      ]
     },
     "metadata": {
      "tags": []
     },
     "output_type": "display_data"
    },
    {
     "data": {
      "text/html": [
       "<hr>"
      ]
     },
     "metadata": {
      "tags": []
     },
     "output_type": "display_data"
    },
    {
     "data": {
      "text/html": [
       "<h2 style='text-align:center'>Iteration 67</h2>"
      ]
     },
     "metadata": {
      "tags": []
     },
     "output_type": "display_data"
    },
    {
     "data": {
      "text/html": [
       "<table style='font-size:16px;margin-left:auto;margin-right:auto;text-align=center'><tr><th>Hidden Layers</th><th>Training Fraction</th> <th>Number of Steps</th></tr><tr><th>[100, 100, 100]</th><th>80%</th><th>1000</th></tr></table>"
      ]
     },
     "metadata": {
      "tags": []
     },
     "output_type": "display_data"
    },
    {
     "data": {
      "text/html": [
       "<h4>Confusion Matrix:</h4>"
      ]
     },
     "metadata": {
      "tags": []
     },
     "output_type": "display_data"
    },
    {
     "data": {
      "text/html": [
       "<br/>"
      ]
     },
     "metadata": {
      "tags": []
     },
     "output_type": "display_data"
    },
    {
     "name": "stdout",
     "output_type": "stream",
     "text": [
      "[[ 60   0   0   0   1   0   0   0   0   1]\n",
      " [  0  23   0   0   0   0   0   0   0   0]\n",
      " [  0   0  13   0   0   1   0   0   0   0]\n",
      " [  0   2   1  91   0   0   0   1   0   0]\n",
      " [  7   0   0   0 689   0   0   0   0   0]\n",
      " [  0   1   0   1   0 221   1   0   1   0]\n",
      " [  0   0   0   0   0   0  30   0   0   0]\n",
      " [  0   0   0   0   0   0   0 135   0   0]\n",
      " [  0   0   1   2   0   0   0   0  51   0]\n",
      " [  1   0   0   0   0   2   0   0   0 106]]\n"
     ]
    },
    {
     "data": {
      "text/html": [
       "<table style='font-size:16px;margin-left:auto;margin-right:auto;'><tr><th>Species</th><th>Accuracy</th> <th>Precision</th> <th>Recall</th> <th>F1-score</th></tr><tr><td>0</td><td>99.31%</td> <td>88.24%</td> <td>96.77%</td> <td>92.31%</td></tr><tr><td>1</td><td>99.79%</td> <td>88.46%</td> <td>100.00%</td> <td>93.88%</td></tr><tr><td>2</td><td>99.79%</td> <td>86.67%</td> <td>92.86%</td> <td>89.66%</td></tr><tr><td>3</td><td>99.51%</td> <td>96.81%</td> <td>95.79%</td> <td>96.30%</td></tr><tr><td>4</td><td>99.45%</td> <td>99.86%</td> <td>98.99%</td> <td>99.42%</td></tr><tr><td>5</td><td>99.51%</td> <td>98.66%</td> <td>98.22%</td> <td>98.44%</td></tr><tr><td>6</td><td>99.93%</td> <td>96.77%</td> <td>100.00%</td> <td>98.36%</td></tr><tr><td>7</td><td>99.93%</td> <td>99.26%</td> <td>100.00%</td> <td>99.63%</td></tr><tr><td>8</td><td>99.72%</td> <td>98.08%</td> <td>94.44%</td> <td>96.23%</td></tr><tr><td>9</td><td>99.72%</td> <td>99.07%</td> <td>97.25%</td> <td>98.15%</td></tr><tr><th>Average</th><th>99.67%</th> <th>95.19%</th> <th>97.43%</th> <th>96.24%</th></tr></table>"
      ]
     },
     "metadata": {
      "tags": []
     },
     "output_type": "display_data"
    },
    {
     "data": {
      "text/html": [
       "<hr>"
      ]
     },
     "metadata": {
      "tags": []
     },
     "output_type": "display_data"
    },
    {
     "data": {
      "text/html": [
       "<h2 style='text-align:center'>Iteration 68</h2>"
      ]
     },
     "metadata": {
      "tags": []
     },
     "output_type": "display_data"
    },
    {
     "data": {
      "text/html": [
       "<table style='font-size:16px;margin-left:auto;margin-right:auto;text-align=center'><tr><th>Hidden Layers</th><th>Training Fraction</th> <th>Number of Steps</th></tr><tr><th>[100, 100, 100]</th><th>50%</th><th>1000</th></tr></table>"
      ]
     },
     "metadata": {
      "tags": []
     },
     "output_type": "display_data"
    },
    {
     "data": {
      "text/html": [
       "<h4>Confusion Matrix:</h4>"
      ]
     },
     "metadata": {
      "tags": []
     },
     "output_type": "display_data"
    },
    {
     "data": {
      "text/html": [
       "<br/>"
      ]
     },
     "metadata": {
      "tags": []
     },
     "output_type": "display_data"
    },
    {
     "name": "stdout",
     "output_type": "stream",
     "text": [
      "[[ 151    0    0    0    2    0    0    1    0    1]\n",
      " [   0   51    0    3    0    1    0    1    1    0]\n",
      " [   0    0   30    1    0    0    2    0    1    0]\n",
      " [   0    1    0  235    0    0    0    0    0    0]\n",
      " [   1    0    0    0 1737    1    0    0    0    0]\n",
      " [   0    1    0    3    0  556    0    0    1    0]\n",
      " [   0    0    1    0    0    1   72    0    0    0]\n",
      " [   4    2    0    3    0    1    0  325    0    1]\n",
      " [   1    1    2    0    0    1    0    0  130    0]\n",
      " [   2    0    2    0    0    1    1    1    0  264]]\n"
     ]
    },
    {
     "data": {
      "text/html": [
       "<table style='font-size:16px;margin-left:auto;margin-right:auto;'><tr><th>Species</th><th>Accuracy</th> <th>Precision</th> <th>Recall</th> <th>F1-score</th></tr><tr><td>0</td><td>99.67%</td> <td>94.97%</td> <td>97.42%</td> <td>96.18%</td></tr><tr><td>1</td><td>99.69%</td> <td>91.07%</td> <td>89.47%</td> <td>90.27%</td></tr><tr><td>2</td><td>99.75%</td> <td>85.71%</td> <td>88.24%</td> <td>86.96%</td></tr><tr><td>3</td><td>99.69%</td> <td>95.92%</td> <td>99.58%</td> <td>97.71%</td></tr><tr><td>4</td><td>99.89%</td> <td>99.88%</td> <td>99.88%</td> <td>99.88%</td></tr><tr><td>5</td><td>99.69%</td> <td>98.93%</td> <td>99.11%</td> <td>99.02%</td></tr><tr><td>6</td><td>99.86%</td> <td>96.00%</td> <td>97.30%</td> <td>96.64%</td></tr><tr><td>7</td><td>99.61%</td> <td>99.09%</td> <td>96.73%</td> <td>97.89%</td></tr><tr><td>8</td><td>99.78%</td> <td>97.74%</td> <td>96.30%</td> <td>97.01%</td></tr><tr><td>9</td><td>99.75%</td> <td>99.25%</td> <td>97.42%</td> <td>98.32%</td></tr><tr><th>Average</th><th>99.74%</th> <th>95.86%</th> <th>96.14%</th> <th>95.99%</th></tr></table>"
      ]
     },
     "metadata": {
      "tags": []
     },
     "output_type": "display_data"
    },
    {
     "data": {
      "text/html": [
       "<hr>"
      ]
     },
     "metadata": {
      "tags": []
     },
     "output_type": "display_data"
    },
    {
     "data": {
      "text/html": [
       "<h2 style='text-align:center'>Iteration 69</h2>"
      ]
     },
     "metadata": {
      "tags": []
     },
     "output_type": "display_data"
    },
    {
     "data": {
      "text/html": [
       "<table style='font-size:16px;margin-left:auto;margin-right:auto;text-align=center'><tr><th>Hidden Layers</th><th>Training Fraction</th> <th>Number of Steps</th></tr><tr><th>[100, 100, 100]</th><th>80%</th><th>1500</th></tr></table>"
      ]
     },
     "metadata": {
      "tags": []
     },
     "output_type": "display_data"
    },
    {
     "data": {
      "text/html": [
       "<h4>Confusion Matrix:</h4>"
      ]
     },
     "metadata": {
      "tags": []
     },
     "output_type": "display_data"
    },
    {
     "data": {
      "text/html": [
       "<br/>"
      ]
     },
     "metadata": {
      "tags": []
     },
     "output_type": "display_data"
    },
    {
     "name": "stdout",
     "output_type": "stream",
     "text": [
      "[[ 53   0   0   0   4   0   0   3   0   2]\n",
      " [  0  19   0   3   0   1   0   0   0   0]\n",
      " [  0   0  13   0   1   0   0   0   0   0]\n",
      " [  0   0   0  94   0   0   0   1   0   0]\n",
      " [  1   0   0   0 694   1   0   0   0   0]\n",
      " [  0   0   0   0   4 221   0   0   0   0]\n",
      " [  0   0   0   0   0   0  30   0   0   0]\n",
      " [  1   0   0   0   0   0   1 133   0   0]\n",
      " [  0   0   1   0   0   1   0   0  52   0]\n",
      " [  0   0   0   0   0   0   0   0   0 109]]\n"
     ]
    },
    {
     "data": {
      "text/html": [
       "<table style='font-size:16px;margin-left:auto;margin-right:auto;'><tr><th>Species</th><th>Accuracy</th> <th>Precision</th> <th>Recall</th> <th>F1-score</th></tr><tr><td>0</td><td>99.24%</td> <td>96.36%</td> <td>85.48%</td> <td>90.60%</td></tr><tr><td>1</td><td>99.72%</td> <td>100.00%</td> <td>82.61%</td> <td>90.48%</td></tr><tr><td>2</td><td>99.86%</td> <td>92.86%</td> <td>92.86%</td> <td>92.86%</td></tr><tr><td>3</td><td>99.72%</td> <td>96.91%</td> <td>98.95%</td> <td>97.92%</td></tr><tr><td>4</td><td>99.24%</td> <td>98.72%</td> <td>99.71%</td> <td>99.21%</td></tr><tr><td>5</td><td>99.51%</td> <td>98.66%</td> <td>98.22%</td> <td>98.44%</td></tr><tr><td>6</td><td>99.93%</td> <td>96.77%</td> <td>100.00%</td> <td>98.36%</td></tr><tr><td>7</td><td>99.58%</td> <td>97.08%</td> <td>98.52%</td> <td>97.79%</td></tr><tr><td>8</td><td>99.86%</td> <td>100.00%</td> <td>96.30%</td> <td>98.11%</td></tr><tr><td>9</td><td>99.86%</td> <td>98.20%</td> <td>100.00%</td> <td>99.09%</td></tr><tr><th>Average</th><th>99.65%</th> <th>97.56%</th> <th>95.26%</th> <th>96.29%</th></tr></table>"
      ]
     },
     "metadata": {
      "tags": []
     },
     "output_type": "display_data"
    },
    {
     "data": {
      "text/html": [
       "<hr>"
      ]
     },
     "metadata": {
      "tags": []
     },
     "output_type": "display_data"
    },
    {
     "data": {
      "text/html": [
       "<h2 style='text-align:center'>Iteration 70</h2>"
      ]
     },
     "metadata": {
      "tags": []
     },
     "output_type": "display_data"
    },
    {
     "data": {
      "text/html": [
       "<table style='font-size:16px;margin-left:auto;margin-right:auto;text-align=center'><tr><th>Hidden Layers</th><th>Training Fraction</th> <th>Number of Steps</th></tr><tr><th>[100, 100, 100]</th><th>50%</th><th>1500</th></tr></table>"
      ]
     },
     "metadata": {
      "tags": []
     },
     "output_type": "display_data"
    },
    {
     "data": {
      "text/html": [
       "<h4>Confusion Matrix:</h4>"
      ]
     },
     "metadata": {
      "tags": []
     },
     "output_type": "display_data"
    },
    {
     "data": {
      "text/html": [
       "<br/>"
      ]
     },
     "metadata": {
      "tags": []
     },
     "output_type": "display_data"
    },
    {
     "name": "stdout",
     "output_type": "stream",
     "text": [
      "[[ 142    0    0    0    5    0    0    4    0    4]\n",
      " [   0   49    0    6    0    0    0    1    1    0]\n",
      " [   0    0   30    1    1    0    0    0    2    0]\n",
      " [   0    0    0  235    0    0    0    0    1    0]\n",
      " [   2    0    0    0 1735    2    0    0    0    0]\n",
      " [   0    0    0    3    0  553    0    1    4    0]\n",
      " [   0    0    0    0    0    3   71    0    0    0]\n",
      " [   3    0    0    0    0    1    0  331    0    1]\n",
      " [   2    1    0    0    0    1    0    0  131    0]\n",
      " [   2    0    0    0    0    1    1    0    0  267]]\n"
     ]
    },
    {
     "data": {
      "text/html": [
       "<table style='font-size:16px;margin-left:auto;margin-right:auto;'><tr><th>Species</th><th>Accuracy</th> <th>Precision</th> <th>Recall</th> <th>F1-score</th></tr><tr><td>0</td><td>99.39%</td> <td>94.04%</td> <td>91.61%</td> <td>92.81%</td></tr><tr><td>1</td><td>99.75%</td> <td>98.00%</td> <td>85.96%</td> <td>91.59%</td></tr><tr><td>2</td><td>99.89%</td> <td>100.00%</td> <td>88.24%</td> <td>93.75%</td></tr><tr><td>3</td><td>99.69%</td> <td>95.92%</td> <td>99.58%</td> <td>97.71%</td></tr><tr><td>4</td><td>99.72%</td> <td>99.66%</td> <td>99.77%</td> <td>99.71%</td></tr><tr><td>5</td><td>99.56%</td> <td>98.57%</td> <td>98.57%</td> <td>98.57%</td></tr><tr><td>6</td><td>99.89%</td> <td>98.61%</td> <td>95.95%</td> <td>97.26%</td></tr><tr><td>7</td><td>99.69%</td> <td>98.22%</td> <td>98.51%</td> <td>98.37%</td></tr><tr><td>8</td><td>99.67%</td> <td>94.24%</td> <td>97.04%</td> <td>95.62%</td></tr><tr><td>9</td><td>99.75%</td> <td>98.16%</td> <td>98.52%</td> <td>98.34%</td></tr><tr><th>Average</th><th>99.70%</th> <th>97.54%</th> <th>95.38%</th> <th>96.37%</th></tr></table>"
      ]
     },
     "metadata": {
      "tags": []
     },
     "output_type": "display_data"
    },
    {
     "data": {
      "text/html": [
       "<hr>"
      ]
     },
     "metadata": {
      "tags": []
     },
     "output_type": "display_data"
    },
    {
     "data": {
      "text/html": [
       "<h2 style='text-align:center'>Iteration 71</h2>"
      ]
     },
     "metadata": {
      "tags": []
     },
     "output_type": "display_data"
    },
    {
     "data": {
      "text/html": [
       "<table style='font-size:16px;margin-left:auto;margin-right:auto;text-align=center'><tr><th>Hidden Layers</th><th>Training Fraction</th> <th>Number of Steps</th></tr><tr><th>[100, 100, 100]</th><th>80%</th><th>2000</th></tr></table>"
      ]
     },
     "metadata": {
      "tags": []
     },
     "output_type": "display_data"
    },
    {
     "data": {
      "text/html": [
       "<h4>Confusion Matrix:</h4>"
      ]
     },
     "metadata": {
      "tags": []
     },
     "output_type": "display_data"
    },
    {
     "data": {
      "text/html": [
       "<br/>"
      ]
     },
     "metadata": {
      "tags": []
     },
     "output_type": "display_data"
    },
    {
     "name": "stdout",
     "output_type": "stream",
     "text": [
      "[[ 62   0   0   0   0   0   0   0   0   0]\n",
      " [  0  22   0   1   0   0   0   0   0   0]\n",
      " [  1   0  13   0   0   0   0   0   0   0]\n",
      " [  0   0   0  94   0   0   0   1   0   0]\n",
      " [  2   0   0   0 694   0   0   0   0   0]\n",
      " [  0   2   0   0   2 219   2   0   0   0]\n",
      " [  0   0   0   0   0   0  29   1   0   0]\n",
      " [  0   1   0   0   0   1   0 131   0   2]\n",
      " [  0   0   0   0   0   0   0   0  54   0]\n",
      " [  0   0   0   0   0   0   0   0   0 109]]\n"
     ]
    },
    {
     "data": {
      "text/html": [
       "<table style='font-size:16px;margin-left:auto;margin-right:auto;'><tr><th>Species</th><th>Accuracy</th> <th>Precision</th> <th>Recall</th> <th>F1-score</th></tr><tr><td>0</td><td>99.79%</td> <td>95.38%</td> <td>100.00%</td> <td>97.64%</td></tr><tr><td>1</td><td>99.72%</td> <td>88.00%</td> <td>95.65%</td> <td>91.67%</td></tr><tr><td>2</td><td>99.93%</td> <td>100.00%</td> <td>92.86%</td> <td>96.30%</td></tr><tr><td>3</td><td>99.86%</td> <td>98.95%</td> <td>98.95%</td> <td>98.95%</td></tr><tr><td>4</td><td>99.72%</td> <td>99.71%</td> <td>99.71%</td> <td>99.71%</td></tr><tr><td>5</td><td>99.51%</td> <td>99.55%</td> <td>97.33%</td> <td>98.43%</td></tr><tr><td>6</td><td>99.79%</td> <td>93.55%</td> <td>96.67%</td> <td>95.08%</td></tr><tr><td>7</td><td>99.58%</td> <td>98.50%</td> <td>97.04%</td> <td>97.76%</td></tr><tr><td>8</td><td>100.00%</td> <td>100.00%</td> <td>100.00%</td> <td>100.00%</td></tr><tr><td>9</td><td>99.86%</td> <td>98.20%</td> <td>100.00%</td> <td>99.09%</td></tr><tr><th>Average</th><th>99.78%</th> <th>97.18%</th> <th>97.82%</th> <th>97.46%</th></tr></table>"
      ]
     },
     "metadata": {
      "tags": []
     },
     "output_type": "display_data"
    },
    {
     "data": {
      "text/html": [
       "<hr>"
      ]
     },
     "metadata": {
      "tags": []
     },
     "output_type": "display_data"
    },
    {
     "data": {
      "text/html": [
       "<h2 style='text-align:center'>Iteration 72</h2>"
      ]
     },
     "metadata": {
      "tags": []
     },
     "output_type": "display_data"
    },
    {
     "data": {
      "text/html": [
       "<table style='font-size:16px;margin-left:auto;margin-right:auto;text-align=center'><tr><th>Hidden Layers</th><th>Training Fraction</th> <th>Number of Steps</th></tr><tr><th>[100, 100, 100]</th><th>50%</th><th>2000</th></tr></table>"
      ]
     },
     "metadata": {
      "tags": []
     },
     "output_type": "display_data"
    },
    {
     "data": {
      "text/html": [
       "<h4>Confusion Matrix:</h4>"
      ]
     },
     "metadata": {
      "tags": []
     },
     "output_type": "display_data"
    },
    {
     "data": {
      "text/html": [
       "<br/>"
      ]
     },
     "metadata": {
      "tags": []
     },
     "output_type": "display_data"
    },
    {
     "name": "stdout",
     "output_type": "stream",
     "text": [
      "[[ 149    0    0    0    2    0    0    1    0    3]\n",
      " [   0   50    0    5    0    2    0    0    0    0]\n",
      " [   0    0   28    2    0    0    0    1    3    0]\n",
      " [   0    3    0  231    0    0    0    1    1    0]\n",
      " [   3    0    0    0 1735    1    0    0    0    0]\n",
      " [   1    0    0    1    2  556    0    0    1    0]\n",
      " [   0    0    0    0    0    1   72    1    0    0]\n",
      " [   9    1    0    1    0    0    0  323    0    2]\n",
      " [   1    1    1    1    0    0    0    1  130    0]\n",
      " [   4    0    0    0    0    0    0    0    0  267]]\n"
     ]
    },
    {
     "data": {
      "text/html": [
       "<table style='font-size:16px;margin-left:auto;margin-right:auto;'><tr><th>Species</th><th>Accuracy</th> <th>Precision</th> <th>Recall</th> <th>F1-score</th></tr><tr><td>0</td><td>99.33%</td> <td>89.22%</td> <td>96.13%</td> <td>92.55%</td></tr><tr><td>1</td><td>99.67%</td> <td>90.91%</td> <td>87.72%</td> <td>89.29%</td></tr><tr><td>2</td><td>99.81%</td> <td>96.55%</td> <td>82.35%</td> <td>88.89%</td></tr><tr><td>3</td><td>99.58%</td> <td>95.85%</td> <td>97.88%</td> <td>96.86%</td></tr><tr><td>4</td><td>99.78%</td> <td>99.77%</td> <td>99.77%</td> <td>99.77%</td></tr><tr><td>5</td><td>99.75%</td> <td>99.29%</td> <td>99.11%</td> <td>99.20%</td></tr><tr><td>6</td><td>99.94%</td> <td>100.00%</td> <td>97.30%</td> <td>98.63%</td></tr><tr><td>7</td><td>99.50%</td> <td>98.48%</td> <td>96.13%</td> <td>97.29%</td></tr><tr><td>8</td><td>99.72%</td> <td>96.30%</td> <td>96.30%</td> <td>96.30%</td></tr><tr><td>9</td><td>99.75%</td> <td>98.16%</td> <td>98.52%</td> <td>98.34%</td></tr><tr><th>Average</th><th>99.68%</th> <th>96.45%</th> <th>95.12%</th> <th>95.71%</th></tr></table>"
      ]
     },
     "metadata": {
      "tags": []
     },
     "output_type": "display_data"
    },
    {
     "data": {
      "text/html": [
       "<hr>"
      ]
     },
     "metadata": {
      "tags": []
     },
     "output_type": "display_data"
    },
    {
     "data": {
      "text/html": [
       "<h2 style='text-align:center'>Iteration 73</h2>"
      ]
     },
     "metadata": {
      "tags": []
     },
     "output_type": "display_data"
    },
    {
     "data": {
      "text/html": [
       "<table style='font-size:16px;margin-left:auto;margin-right:auto;text-align=center'><tr><th>Hidden Layers</th><th>Training Fraction</th> <th>Number of Steps</th></tr><tr><th>[100, 50, 25]</th><th>80%</th><th>100</th></tr></table>"
      ]
     },
     "metadata": {
      "tags": []
     },
     "output_type": "display_data"
    },
    {
     "data": {
      "text/html": [
       "<h4>Confusion Matrix:</h4>"
      ]
     },
     "metadata": {
      "tags": []
     },
     "output_type": "display_data"
    },
    {
     "data": {
      "text/html": [
       "<br/>"
      ]
     },
     "metadata": {
      "tags": []
     },
     "output_type": "display_data"
    },
    {
     "name": "stdout",
     "output_type": "stream",
     "text": [
      "[[ 36   0   0   0   7   0   4  12   0   3]\n",
      " [  0  15   1   2   0   5   0   0   0   0]\n",
      " [  0   0  11   0   0   0   1   0   2   0]\n",
      " [  0   2   0  88   0   2   0   0   3   0]\n",
      " [  0   0   0   1 695   0   0   0   0   0]\n",
      " [  0   1   0   1   0 221   0   0   2   0]\n",
      " [  1   0   1   0   0   1  26   1   0   0]\n",
      " [  1   0   0   0   0   0   0 132   0   2]\n",
      " [  1   0   0   1   0   2   0   1  49   0]\n",
      " [  1   0   0   0   0   0   0   3   0 105]]\n"
     ]
    },
    {
     "data": {
      "text/html": [
       "<table style='font-size:16px;margin-left:auto;margin-right:auto;'><tr><th>Species</th><th>Accuracy</th> <th>Precision</th> <th>Recall</th> <th>F1-score</th></tr><tr><td>0</td><td>97.92%</td> <td>90.00%</td> <td>58.06%</td> <td>70.59%</td></tr><tr><td>1</td><td>99.24%</td> <td>83.33%</td> <td>65.22%</td> <td>73.17%</td></tr><tr><td>2</td><td>99.65%</td> <td>84.62%</td> <td>78.57%</td> <td>81.48%</td></tr><tr><td>3</td><td>99.17%</td> <td>94.62%</td> <td>92.63%</td> <td>93.62%</td></tr><tr><td>4</td><td>99.45%</td> <td>99.00%</td> <td>99.86%</td> <td>99.43%</td></tr><tr><td>5</td><td>99.03%</td> <td>95.67%</td> <td>98.22%</td> <td>96.93%</td></tr><tr><td>6</td><td>99.38%</td> <td>83.87%</td> <td>86.67%</td> <td>85.25%</td></tr><tr><td>7</td><td>98.61%</td> <td>88.59%</td> <td>97.78%</td> <td>92.96%</td></tr><tr><td>8</td><td>99.17%</td> <td>87.50%</td> <td>90.74%</td> <td>89.09%</td></tr><tr><td>9</td><td>99.38%</td> <td>95.45%</td> <td>96.33%</td> <td>95.89%</td></tr><tr><th>Average</th><th>99.10%</th> <th>90.27%</th> <th>86.41%</th> <th>87.84%</th></tr></table>"
      ]
     },
     "metadata": {
      "tags": []
     },
     "output_type": "display_data"
    },
    {
     "data": {
      "text/html": [
       "<hr>"
      ]
     },
     "metadata": {
      "tags": []
     },
     "output_type": "display_data"
    },
    {
     "data": {
      "text/html": [
       "<h2 style='text-align:center'>Iteration 74</h2>"
      ]
     },
     "metadata": {
      "tags": []
     },
     "output_type": "display_data"
    },
    {
     "data": {
      "text/html": [
       "<table style='font-size:16px;margin-left:auto;margin-right:auto;text-align=center'><tr><th>Hidden Layers</th><th>Training Fraction</th> <th>Number of Steps</th></tr><tr><th>[100, 50, 25]</th><th>50%</th><th>100</th></tr></table>"
      ]
     },
     "metadata": {
      "tags": []
     },
     "output_type": "display_data"
    },
    {
     "data": {
      "text/html": [
       "<h4>Confusion Matrix:</h4>"
      ]
     },
     "metadata": {
      "tags": []
     },
     "output_type": "display_data"
    },
    {
     "data": {
      "text/html": [
       "<br/>"
      ]
     },
     "metadata": {
      "tags": []
     },
     "output_type": "display_data"
    },
    {
     "name": "stdout",
     "output_type": "stream",
     "text": [
      "[[  88    0    0    0   26    3    2   17    0   19]\n",
      " [   0   34    1   15    0    6    1    0    0    0]\n",
      " [   0    2   25    0    0    1    1    1    3    1]\n",
      " [   0    5    0  231    0    0    0    0    0    0]\n",
      " [   3    0    0    1 1731    1    2    0    0    1]\n",
      " [   1    1    0    4    2  549    0    0    4    0]\n",
      " [   5    2    1    4    0   12   47    1    0    2]\n",
      " [   8    1    0    7    0    0    0  308    0   12]\n",
      " [   0    1    0    5    0    6    0    0  123    0]\n",
      " [   2    0    0    0    0    1    0    1    0  267]]\n"
     ]
    },
    {
     "data": {
      "text/html": [
       "<table style='font-size:16px;margin-left:auto;margin-right:auto;'><tr><th>Species</th><th>Accuracy</th> <th>Precision</th> <th>Recall</th> <th>F1-score</th></tr><tr><td>0</td><td>97.61%</td> <td>82.24%</td> <td>56.77%</td> <td>67.18%</td></tr><tr><td>1</td><td>99.03%</td> <td>73.91%</td> <td>59.65%</td> <td>66.02%</td></tr><tr><td>2</td><td>99.69%</td> <td>92.59%</td> <td>73.53%</td> <td>81.97%</td></tr><tr><td>3</td><td>98.86%</td> <td>86.52%</td> <td>97.88%</td> <td>91.85%</td></tr><tr><td>4</td><td>99.00%</td> <td>98.41%</td> <td>99.54%</td> <td>98.97%</td></tr><tr><td>5</td><td>98.83%</td> <td>94.82%</td> <td>97.86%</td> <td>96.32%</td></tr><tr><td>6</td><td>99.08%</td> <td>88.68%</td> <td>63.51%</td> <td>74.02%</td></tr><tr><td>7</td><td>98.67%</td> <td>93.90%</td> <td>91.67%</td> <td>92.77%</td></tr><tr><td>8</td><td>99.47%</td> <td>94.62%</td> <td>91.11%</td> <td>92.83%</td></tr><tr><td>9</td><td>98.92%</td> <td>88.41%</td> <td>98.52%</td> <td>93.19%</td></tr><tr><th>Average</th><th>98.92%</th> <th>89.41%</th> <th>83.01%</th> <th>85.51%</th></tr></table>"
      ]
     },
     "metadata": {
      "tags": []
     },
     "output_type": "display_data"
    },
    {
     "data": {
      "text/html": [
       "<hr>"
      ]
     },
     "metadata": {
      "tags": []
     },
     "output_type": "display_data"
    },
    {
     "data": {
      "text/html": [
       "<h2 style='text-align:center'>Iteration 75</h2>"
      ]
     },
     "metadata": {
      "tags": []
     },
     "output_type": "display_data"
    },
    {
     "data": {
      "text/html": [
       "<table style='font-size:16px;margin-left:auto;margin-right:auto;text-align=center'><tr><th>Hidden Layers</th><th>Training Fraction</th> <th>Number of Steps</th></tr><tr><th>[100, 50, 25]</th><th>80%</th><th>200</th></tr></table>"
      ]
     },
     "metadata": {
      "tags": []
     },
     "output_type": "display_data"
    },
    {
     "data": {
      "text/html": [
       "<h4>Confusion Matrix:</h4>"
      ]
     },
     "metadata": {
      "tags": []
     },
     "output_type": "display_data"
    },
    {
     "data": {
      "text/html": [
       "<br/>"
      ]
     },
     "metadata": {
      "tags": []
     },
     "output_type": "display_data"
    },
    {
     "name": "stdout",
     "output_type": "stream",
     "text": [
      "[[ 53   0   0   0   2   0   0   4   0   3]\n",
      " [  0  17   0   3   0   2   0   0   1   0]\n",
      " [  0   1   9   0   0   0   1   1   1   1]\n",
      " [  0   6   0  87   0   0   0   0   2   0]\n",
      " [  9   0   0   0 686   0   0   0   0   1]\n",
      " [  0   0   0   1   1 223   0   0   0   0]\n",
      " [  0   0   1   1   0   1  27   0   0   0]\n",
      " [  5   1   0   1   0   1   0 126   0   1]\n",
      " [  0   1   0   2   0   2   0   2  47   0]\n",
      " [  1   1   0   0   0   0   0   1   0 106]]\n"
     ]
    },
    {
     "data": {
      "text/html": [
       "<table style='font-size:16px;margin-left:auto;margin-right:auto;'><tr><th>Species</th><th>Accuracy</th> <th>Precision</th> <th>Recall</th> <th>F1-score</th></tr><tr><td>0</td><td>98.34%</td> <td>77.94%</td> <td>85.48%</td> <td>81.54%</td></tr><tr><td>1</td><td>98.89%</td> <td>62.96%</td> <td>73.91%</td> <td>68.00%</td></tr><tr><td>2</td><td>99.58%</td> <td>90.00%</td> <td>64.29%</td> <td>75.00%</td></tr><tr><td>3</td><td>98.89%</td> <td>91.58%</td> <td>91.58%</td> <td>91.58%</td></tr><tr><td>4</td><td>99.10%</td> <td>99.56%</td> <td>98.56%</td> <td>99.06%</td></tr><tr><td>5</td><td>99.45%</td> <td>97.38%</td> <td>99.11%</td> <td>98.24%</td></tr><tr><td>6</td><td>99.72%</td> <td>96.43%</td> <td>90.00%</td> <td>93.10%</td></tr><tr><td>7</td><td>98.82%</td> <td>94.03%</td> <td>93.33%</td> <td>93.68%</td></tr><tr><td>8</td><td>99.24%</td> <td>92.16%</td> <td>87.04%</td> <td>89.52%</td></tr><tr><td>9</td><td>99.38%</td> <td>94.64%</td> <td>97.25%</td> <td>95.93%</td></tr><tr><th>Average</th><th>99.14%</th> <th>89.67%</th> <th>88.06%</th> <th>88.57%</th></tr></table>"
      ]
     },
     "metadata": {
      "tags": []
     },
     "output_type": "display_data"
    },
    {
     "data": {
      "text/html": [
       "<hr>"
      ]
     },
     "metadata": {
      "tags": []
     },
     "output_type": "display_data"
    },
    {
     "data": {
      "text/html": [
       "<h2 style='text-align:center'>Iteration 76</h2>"
      ]
     },
     "metadata": {
      "tags": []
     },
     "output_type": "display_data"
    },
    {
     "data": {
      "text/html": [
       "<table style='font-size:16px;margin-left:auto;margin-right:auto;text-align=center'><tr><th>Hidden Layers</th><th>Training Fraction</th> <th>Number of Steps</th></tr><tr><th>[100, 50, 25]</th><th>50%</th><th>200</th></tr></table>"
      ]
     },
     "metadata": {
      "tags": []
     },
     "output_type": "display_data"
    },
    {
     "data": {
      "text/html": [
       "<h4>Confusion Matrix:</h4>"
      ]
     },
     "metadata": {
      "tags": []
     },
     "output_type": "display_data"
    },
    {
     "data": {
      "text/html": [
       "<br/>"
      ]
     },
     "metadata": {
      "tags": []
     },
     "output_type": "display_data"
    },
    {
     "name": "stdout",
     "output_type": "stream",
     "text": [
      "[[ 107    0    1    0   16    1    1   17    0   12]\n",
      " [   0   40    2    9    0    4    0    2    0    0]\n",
      " [   1    0   29    0    0    0    0    1    3    0]\n",
      " [   0    5    0  230    0    0    0    0    1    0]\n",
      " [   6    0    1    1 1726    5    0    0    0    0]\n",
      " [   1    1    0    1    2  553    0    0    3    0]\n",
      " [   0    1    3    0    0    0   68    2    0    0]\n",
      " [   4    3    0    1    0    0    0  321    0    7]\n",
      " [   1    2    1    4    0    9    0    1  117    0]\n",
      " [   0    0    3    0    0    0    1    1    0  266]]\n"
     ]
    },
    {
     "data": {
      "text/html": [
       "<table style='font-size:16px;margin-left:auto;margin-right:auto;'><tr><th>Species</th><th>Accuracy</th> <th>Precision</th> <th>Recall</th> <th>F1-score</th></tr><tr><td>0</td><td>98.30%</td> <td>89.17%</td> <td>69.03%</td> <td>77.82%</td></tr><tr><td>1</td><td>99.19%</td> <td>76.92%</td> <td>70.18%</td> <td>73.39%</td></tr><tr><td>2</td><td>99.56%</td> <td>72.50%</td> <td>85.29%</td> <td>78.38%</td></tr><tr><td>3</td><td>99.39%</td> <td>93.50%</td> <td>97.46%</td> <td>95.44%</td></tr><tr><td>4</td><td>99.14%</td> <td>98.97%</td> <td>99.25%</td> <td>99.11%</td></tr><tr><td>5</td><td>99.25%</td> <td>96.68%</td> <td>98.57%</td> <td>97.62%</td></tr><tr><td>6</td><td>99.78%</td> <td>97.14%</td> <td>91.89%</td> <td>94.44%</td></tr><tr><td>7</td><td>98.92%</td> <td>93.04%</td> <td>95.54%</td> <td>94.27%</td></tr><tr><td>8</td><td>99.31%</td> <td>94.35%</td> <td>86.67%</td> <td>90.35%</td></tr><tr><td>9</td><td>99.33%</td> <td>93.33%</td> <td>98.15%</td> <td>95.68%</td></tr><tr><th>Average</th><th>99.22%</th> <th>90.56%</th> <th>89.20%</th> <th>89.65%</th></tr></table>"
      ]
     },
     "metadata": {
      "tags": []
     },
     "output_type": "display_data"
    },
    {
     "data": {
      "text/html": [
       "<hr>"
      ]
     },
     "metadata": {
      "tags": []
     },
     "output_type": "display_data"
    },
    {
     "data": {
      "text/html": [
       "<h2 style='text-align:center'>Iteration 77</h2>"
      ]
     },
     "metadata": {
      "tags": []
     },
     "output_type": "display_data"
    },
    {
     "data": {
      "text/html": [
       "<table style='font-size:16px;margin-left:auto;margin-right:auto;text-align=center'><tr><th>Hidden Layers</th><th>Training Fraction</th> <th>Number of Steps</th></tr><tr><th>[100, 50, 25]</th><th>80%</th><th>500</th></tr></table>"
      ]
     },
     "metadata": {
      "tags": []
     },
     "output_type": "display_data"
    },
    {
     "data": {
      "text/html": [
       "<h4>Confusion Matrix:</h4>"
      ]
     },
     "metadata": {
      "tags": []
     },
     "output_type": "display_data"
    },
    {
     "data": {
      "text/html": [
       "<br/>"
      ]
     },
     "metadata": {
      "tags": []
     },
     "output_type": "display_data"
    },
    {
     "name": "stdout",
     "output_type": "stream",
     "text": [
      "[[ 53   0   0   0   2   0   0   6   0   1]\n",
      " [  0  21   0   1   0   1   0   0   0   0]\n",
      " [  0   0  13   0   0   0   1   0   0   0]\n",
      " [  0   0   0  94   0   1   0   0   0   0]\n",
      " [  0   0   0   0 696   0   0   0   0   0]\n",
      " [  0   0   0   0   1 223   0   0   1   0]\n",
      " [  0   0   0   0   0   0  30   0   0   0]\n",
      " [  0   2   0   0   0   0   0 131   0   2]\n",
      " [  0   0   0   0   0   0   0   0  54   0]\n",
      " [  0   0   0   0   0   1   0   0   0 108]]\n"
     ]
    },
    {
     "data": {
      "text/html": [
       "<table style='font-size:16px;margin-left:auto;margin-right:auto;'><tr><th>Species</th><th>Accuracy</th> <th>Precision</th> <th>Recall</th> <th>F1-score</th></tr><tr><td>0</td><td>99.38%</td> <td>100.00%</td> <td>85.48%</td> <td>92.17%</td></tr><tr><td>1</td><td>99.72%</td> <td>91.30%</td> <td>91.30%</td> <td>91.30%</td></tr><tr><td>2</td><td>99.93%</td> <td>100.00%</td> <td>92.86%</td> <td>96.30%</td></tr><tr><td>3</td><td>99.86%</td> <td>98.95%</td> <td>98.95%</td> <td>98.95%</td></tr><tr><td>4</td><td>99.79%</td> <td>99.57%</td> <td>100.00%</td> <td>99.78%</td></tr><tr><td>5</td><td>99.65%</td> <td>98.67%</td> <td>99.11%</td> <td>98.89%</td></tr><tr><td>6</td><td>99.93%</td> <td>96.77%</td> <td>100.00%</td> <td>98.36%</td></tr><tr><td>7</td><td>99.31%</td> <td>95.62%</td> <td>97.04%</td> <td>96.32%</td></tr><tr><td>8</td><td>99.93%</td> <td>98.18%</td> <td>100.00%</td> <td>99.08%</td></tr><tr><td>9</td><td>99.72%</td> <td>97.30%</td> <td>99.08%</td> <td>98.18%</td></tr><tr><th>Average</th><th>99.72%</th> <th>97.64%</th> <th>96.38%</th> <th>96.93%</th></tr></table>"
      ]
     },
     "metadata": {
      "tags": []
     },
     "output_type": "display_data"
    },
    {
     "data": {
      "text/html": [
       "<hr>"
      ]
     },
     "metadata": {
      "tags": []
     },
     "output_type": "display_data"
    },
    {
     "data": {
      "text/html": [
       "<h2 style='text-align:center'>Iteration 78</h2>"
      ]
     },
     "metadata": {
      "tags": []
     },
     "output_type": "display_data"
    },
    {
     "data": {
      "text/html": [
       "<table style='font-size:16px;margin-left:auto;margin-right:auto;text-align=center'><tr><th>Hidden Layers</th><th>Training Fraction</th> <th>Number of Steps</th></tr><tr><th>[100, 50, 25]</th><th>50%</th><th>500</th></tr></table>"
      ]
     },
     "metadata": {
      "tags": []
     },
     "output_type": "display_data"
    },
    {
     "data": {
      "text/html": [
       "<h4>Confusion Matrix:</h4>"
      ]
     },
     "metadata": {
      "tags": []
     },
     "output_type": "display_data"
    },
    {
     "data": {
      "text/html": [
       "<br/>"
      ]
     },
     "metadata": {
      "tags": []
     },
     "output_type": "display_data"
    },
    {
     "name": "stdout",
     "output_type": "stream",
     "text": [
      "[[ 145    0    0    0    3    0    0    4    0    3]\n",
      " [   0   52    0    4    0    1    0    0    0    0]\n",
      " [   0    1   31    0    0    0    0    0    2    0]\n",
      " [   0    5    0  226    0    1    1    2    1    0]\n",
      " [   7    0    0    1 1729    2    0    0    0    0]\n",
      " [   0    2    0    0    0  553    2    0    4    0]\n",
      " [   0    0    0    0    0    0   74    0    0    0]\n",
      " [   4    2    0    1    0    1    0  325    0    3]\n",
      " [   2    2    2    1    2    1    0    0  125    0]\n",
      " [   3    0    0    0    0    0    0    0    0  268]]\n"
     ]
    },
    {
     "data": {
      "text/html": [
       "<table style='font-size:16px;margin-left:auto;margin-right:auto;'><tr><th>Species</th><th>Accuracy</th> <th>Precision</th> <th>Recall</th> <th>F1-score</th></tr><tr><td>0</td><td>99.28%</td> <td>90.06%</td> <td>93.55%</td> <td>91.77%</td></tr><tr><td>1</td><td>99.53%</td> <td>81.25%</td> <td>91.23%</td> <td>85.95%</td></tr><tr><td>2</td><td>99.86%</td> <td>93.94%</td> <td>91.18%</td> <td>92.54%</td></tr><tr><td>3</td><td>99.53%</td> <td>97.00%</td> <td>95.76%</td> <td>96.38%</td></tr><tr><td>4</td><td>99.58%</td> <td>99.71%</td> <td>99.42%</td> <td>99.57%</td></tr><tr><td>5</td><td>99.61%</td> <td>98.93%</td> <td>98.57%</td> <td>98.75%</td></tr><tr><td>6</td><td>99.92%</td> <td>96.10%</td> <td>100.00%</td> <td>98.01%</td></tr><tr><td>7</td><td>99.53%</td> <td>98.19%</td> <td>96.73%</td> <td>97.45%</td></tr><tr><td>8</td><td>99.53%</td> <td>94.70%</td> <td>92.59%</td> <td>93.63%</td></tr><tr><td>9</td><td>99.75%</td> <td>97.81%</td> <td>98.89%</td> <td>98.35%</td></tr><tr><th>Average</th><th>99.61%</th> <th>94.77%</th> <th>95.79%</th> <th>95.24%</th></tr></table>"
      ]
     },
     "metadata": {
      "tags": []
     },
     "output_type": "display_data"
    },
    {
     "data": {
      "text/html": [
       "<hr>"
      ]
     },
     "metadata": {
      "tags": []
     },
     "output_type": "display_data"
    },
    {
     "data": {
      "text/html": [
       "<h2 style='text-align:center'>Iteration 79</h2>"
      ]
     },
     "metadata": {
      "tags": []
     },
     "output_type": "display_data"
    },
    {
     "data": {
      "text/html": [
       "<table style='font-size:16px;margin-left:auto;margin-right:auto;text-align=center'><tr><th>Hidden Layers</th><th>Training Fraction</th> <th>Number of Steps</th></tr><tr><th>[100, 50, 25]</th><th>80%</th><th>1000</th></tr></table>"
      ]
     },
     "metadata": {
      "tags": []
     },
     "output_type": "display_data"
    },
    {
     "data": {
      "text/html": [
       "<h4>Confusion Matrix:</h4>"
      ]
     },
     "metadata": {
      "tags": []
     },
     "output_type": "display_data"
    },
    {
     "data": {
      "text/html": [
       "<br/>"
      ]
     },
     "metadata": {
      "tags": []
     },
     "output_type": "display_data"
    },
    {
     "name": "stdout",
     "output_type": "stream",
     "text": [
      "[[ 59   0   0   0   0   0   0   2   0   1]\n",
      " [  0  20   0   2   0   1   0   0   0   0]\n",
      " [  0   0  13   0   0   0   0   0   1   0]\n",
      " [  0   1   0  90   0   2   0   2   0   0]\n",
      " [  1   0   0   0 694   1   0   0   0   0]\n",
      " [  0   0   0   0   0 224   1   0   0   0]\n",
      " [  0   0   0   0   0   1  29   0   0   0]\n",
      " [  3   0   0   0   0   1   0 131   0   0]\n",
      " [  1   0   0   2   0   0   0   0  51   0]\n",
      " [  0   0   0   0   0   0   0   0   0 109]]\n"
     ]
    },
    {
     "data": {
      "text/html": [
       "<table style='font-size:16px;margin-left:auto;margin-right:auto;'><tr><th>Species</th><th>Accuracy</th> <th>Precision</th> <th>Recall</th> <th>F1-score</th></tr><tr><td>0</td><td>99.45%</td> <td>92.19%</td> <td>95.16%</td> <td>93.65%</td></tr><tr><td>1</td><td>99.72%</td> <td>95.24%</td> <td>86.96%</td> <td>90.91%</td></tr><tr><td>2</td><td>99.93%</td> <td>100.00%</td> <td>92.86%</td> <td>96.30%</td></tr><tr><td>3</td><td>99.38%</td> <td>95.74%</td> <td>94.74%</td> <td>95.24%</td></tr><tr><td>4</td><td>99.86%</td> <td>100.00%</td> <td>99.71%</td> <td>99.86%</td></tr><tr><td>5</td><td>99.51%</td> <td>97.39%</td> <td>99.56%</td> <td>98.46%</td></tr><tr><td>6</td><td>99.86%</td> <td>96.67%</td> <td>96.67%</td> <td>96.67%</td></tr><tr><td>7</td><td>99.45%</td> <td>97.04%</td> <td>97.04%</td> <td>97.04%</td></tr><tr><td>8</td><td>99.72%</td> <td>98.08%</td> <td>94.44%</td> <td>96.23%</td></tr><tr><td>9</td><td>99.93%</td> <td>99.09%</td> <td>100.00%</td> <td>99.54%</td></tr><tr><th>Average</th><th>99.68%</th> <th>97.14%</th> <th>95.71%</th> <th>96.39%</th></tr></table>"
      ]
     },
     "metadata": {
      "tags": []
     },
     "output_type": "display_data"
    },
    {
     "data": {
      "text/html": [
       "<hr>"
      ]
     },
     "metadata": {
      "tags": []
     },
     "output_type": "display_data"
    },
    {
     "data": {
      "text/html": [
       "<h2 style='text-align:center'>Iteration 80</h2>"
      ]
     },
     "metadata": {
      "tags": []
     },
     "output_type": "display_data"
    },
    {
     "data": {
      "text/html": [
       "<table style='font-size:16px;margin-left:auto;margin-right:auto;text-align=center'><tr><th>Hidden Layers</th><th>Training Fraction</th> <th>Number of Steps</th></tr><tr><th>[100, 50, 25]</th><th>50%</th><th>1000</th></tr></table>"
      ]
     },
     "metadata": {
      "tags": []
     },
     "output_type": "display_data"
    },
    {
     "data": {
      "text/html": [
       "<h4>Confusion Matrix:</h4>"
      ]
     },
     "metadata": {
      "tags": []
     },
     "output_type": "display_data"
    },
    {
     "data": {
      "text/html": [
       "<br/>"
      ]
     },
     "metadata": {
      "tags": []
     },
     "output_type": "display_data"
    },
    {
     "name": "stdout",
     "output_type": "stream",
     "text": [
      "[[ 145    0    0    0    5    1    0    2    0    2]\n",
      " [   0   53    0    2    0    1    0    0    1    0]\n",
      " [   1    1   29    1    0    0    2    0    0    0]\n",
      " [   0    1    0  235    0    0    0    0    0    0]\n",
      " [   9    0    0    0 1729    1    0    0    0    0]\n",
      " [   0    1    0    2    0  557    0    0    1    0]\n",
      " [   1    0    0    0    0    0   73    0    0    0]\n",
      " [   5    1    0    3    0    0    0  323    0    4]\n",
      " [   0    0    1    0    0    0    0    0  134    0]\n",
      " [   2    0    0    0    0    0    1    0    0  268]]\n"
     ]
    },
    {
     "data": {
      "text/html": [
       "<table style='font-size:16px;margin-left:auto;margin-right:auto;'><tr><th>Species</th><th>Accuracy</th> <th>Precision</th> <th>Recall</th> <th>F1-score</th></tr><tr><td>0</td><td>99.22%</td> <td>88.96%</td> <td>93.55%</td> <td>91.19%</td></tr><tr><td>1</td><td>99.78%</td> <td>92.98%</td> <td>92.98%</td> <td>92.98%</td></tr><tr><td>2</td><td>99.83%</td> <td>96.67%</td> <td>85.29%</td> <td>90.62%</td></tr><tr><td>3</td><td>99.75%</td> <td>96.71%</td> <td>99.58%</td> <td>98.12%</td></tr><tr><td>4</td><td>99.58%</td> <td>99.71%</td> <td>99.42%</td> <td>99.57%</td></tr><tr><td>5</td><td>99.81%</td> <td>99.46%</td> <td>99.29%</td> <td>99.38%</td></tr><tr><td>6</td><td>99.89%</td> <td>96.05%</td> <td>98.65%</td> <td>97.33%</td></tr><tr><td>7</td><td>99.58%</td> <td>99.38%</td> <td>96.13%</td> <td>97.73%</td></tr><tr><td>8</td><td>99.92%</td> <td>98.53%</td> <td>99.26%</td> <td>98.89%</td></tr><tr><td>9</td><td>99.75%</td> <td>97.81%</td> <td>98.89%</td> <td>98.35%</td></tr><tr><th>Average</th><th>99.71%</th> <th>96.63%</th> <th>96.30%</th> <th>96.42%</th></tr></table>"
      ]
     },
     "metadata": {
      "tags": []
     },
     "output_type": "display_data"
    },
    {
     "data": {
      "text/html": [
       "<hr>"
      ]
     },
     "metadata": {
      "tags": []
     },
     "output_type": "display_data"
    },
    {
     "data": {
      "text/html": [
       "<h2 style='text-align:center'>Iteration 81</h2>"
      ]
     },
     "metadata": {
      "tags": []
     },
     "output_type": "display_data"
    },
    {
     "data": {
      "text/html": [
       "<table style='font-size:16px;margin-left:auto;margin-right:auto;text-align=center'><tr><th>Hidden Layers</th><th>Training Fraction</th> <th>Number of Steps</th></tr><tr><th>[100, 50, 25]</th><th>80%</th><th>1500</th></tr></table>"
      ]
     },
     "metadata": {
      "tags": []
     },
     "output_type": "display_data"
    },
    {
     "data": {
      "text/html": [
       "<h4>Confusion Matrix:</h4>"
      ]
     },
     "metadata": {
      "tags": []
     },
     "output_type": "display_data"
    },
    {
     "data": {
      "text/html": [
       "<br/>"
      ]
     },
     "metadata": {
      "tags": []
     },
     "output_type": "display_data"
    },
    {
     "name": "stdout",
     "output_type": "stream",
     "text": [
      "[[ 58   0   0   0   3   0   0   1   0   0]\n",
      " [  0  22   0   1   0   0   0   0   0   0]\n",
      " [  0   0  14   0   0   0   0   0   0   0]\n",
      " [  0   0   0  95   0   0   0   0   0   0]\n",
      " [  0   0   0   0 696   0   0   0   0   0]\n",
      " [  0   0   0   2   0 223   0   0   0   0]\n",
      " [  0   0   1   0   0   0  29   0   0   0]\n",
      " [  0   0   0   0   0   1   1 133   0   0]\n",
      " [  0   0   0   0   0   1   0   0  53   0]\n",
      " [  0   0   0   0   0   0   0   0   0 109]]\n"
     ]
    },
    {
     "data": {
      "text/html": [
       "<table style='font-size:16px;margin-left:auto;margin-right:auto;'><tr><th>Species</th><th>Accuracy</th> <th>Precision</th> <th>Recall</th> <th>F1-score</th></tr><tr><td>0</td><td>99.72%</td> <td>100.00%</td> <td>93.55%</td> <td>96.67%</td></tr><tr><td>1</td><td>99.93%</td> <td>100.00%</td> <td>95.65%</td> <td>97.78%</td></tr><tr><td>2</td><td>99.93%</td> <td>93.33%</td> <td>100.00%</td> <td>96.55%</td></tr><tr><td>3</td><td>99.79%</td> <td>96.94%</td> <td>100.00%</td> <td>98.45%</td></tr><tr><td>4</td><td>99.79%</td> <td>99.57%</td> <td>100.00%</td> <td>99.78%</td></tr><tr><td>5</td><td>99.72%</td> <td>99.11%</td> <td>99.11%</td> <td>99.11%</td></tr><tr><td>6</td><td>99.86%</td> <td>96.67%</td> <td>96.67%</td> <td>96.67%</td></tr><tr><td>7</td><td>99.79%</td> <td>99.25%</td> <td>98.52%</td> <td>98.88%</td></tr><tr><td>8</td><td>99.93%</td> <td>100.00%</td> <td>98.15%</td> <td>99.07%</td></tr><tr><td>9</td><td>100.00%</td> <td>100.00%</td> <td>100.00%</td> <td>100.00%</td></tr><tr><th>Average</th><th>99.85%</th> <th>98.49%</th> <th>98.16%</th> <th>98.30%</th></tr></table>"
      ]
     },
     "metadata": {
      "tags": []
     },
     "output_type": "display_data"
    },
    {
     "data": {
      "text/html": [
       "<hr>"
      ]
     },
     "metadata": {
      "tags": []
     },
     "output_type": "display_data"
    },
    {
     "data": {
      "text/html": [
       "<h2 style='text-align:center'>Iteration 82</h2>"
      ]
     },
     "metadata": {
      "tags": []
     },
     "output_type": "display_data"
    },
    {
     "data": {
      "text/html": [
       "<table style='font-size:16px;margin-left:auto;margin-right:auto;text-align=center'><tr><th>Hidden Layers</th><th>Training Fraction</th> <th>Number of Steps</th></tr><tr><th>[100, 50, 25]</th><th>50%</th><th>1500</th></tr></table>"
      ]
     },
     "metadata": {
      "tags": []
     },
     "output_type": "display_data"
    },
    {
     "data": {
      "text/html": [
       "<h4>Confusion Matrix:</h4>"
      ]
     },
     "metadata": {
      "tags": []
     },
     "output_type": "display_data"
    },
    {
     "data": {
      "text/html": [
       "<br/>"
      ]
     },
     "metadata": {
      "tags": []
     },
     "output_type": "display_data"
    },
    {
     "name": "stdout",
     "output_type": "stream",
     "text": [
      "[[ 148    0    0    0    3    1    0    2    0    1]\n",
      " [   0   55    0    1    0    1    0    0    0    0]\n",
      " [   0    0   32    0    0    0    0    2    0    0]\n",
      " [   0    1    0  231    0    0    0    3    1    0]\n",
      " [   6    0    0    0 1730    3    0    0    0    0]\n",
      " [   0    0    1    0    0  560    0    0    0    0]\n",
      " [   0    0    2    0    0    4   68    0    0    0]\n",
      " [   5    2    0    1    0    1    0  326    0    1]\n",
      " [   2    2    2    0    0    2    0    2  125    0]\n",
      " [   1    0    0    0    0    0    0    0    0  270]]\n"
     ]
    },
    {
     "data": {
      "text/html": [
       "<table style='font-size:16px;margin-left:auto;margin-right:auto;'><tr><th>Species</th><th>Accuracy</th> <th>Precision</th> <th>Recall</th> <th>F1-score</th></tr><tr><td>0</td><td>99.42%</td> <td>91.36%</td> <td>95.48%</td> <td>93.38%</td></tr><tr><td>1</td><td>99.81%</td> <td>91.67%</td> <td>96.49%</td> <td>94.02%</td></tr><tr><td>2</td><td>99.81%</td> <td>86.49%</td> <td>94.12%</td> <td>90.14%</td></tr><tr><td>3</td><td>99.81%</td> <td>99.14%</td> <td>97.88%</td> <td>98.51%</td></tr><tr><td>4</td><td>99.67%</td> <td>99.83%</td> <td>99.48%</td> <td>99.65%</td></tr><tr><td>5</td><td>99.64%</td> <td>97.90%</td> <td>99.82%</td> <td>98.85%</td></tr><tr><td>6</td><td>99.83%</td> <td>100.00%</td> <td>91.89%</td> <td>95.77%</td></tr><tr><td>7</td><td>99.47%</td> <td>97.31%</td> <td>97.02%</td> <td>97.17%</td></tr><tr><td>8</td><td>99.69%</td> <td>99.21%</td> <td>92.59%</td> <td>95.79%</td></tr><tr><td>9</td><td>99.92%</td> <td>99.26%</td> <td>99.63%</td> <td>99.45%</td></tr><tr><th>Average</th><th>99.71%</th> <th>96.22%</th> <th>96.44%</th> <th>96.27%</th></tr></table>"
      ]
     },
     "metadata": {
      "tags": []
     },
     "output_type": "display_data"
    },
    {
     "data": {
      "text/html": [
       "<hr>"
      ]
     },
     "metadata": {
      "tags": []
     },
     "output_type": "display_data"
    },
    {
     "data": {
      "text/html": [
       "<h2 style='text-align:center'>Iteration 83</h2>"
      ]
     },
     "metadata": {
      "tags": []
     },
     "output_type": "display_data"
    },
    {
     "data": {
      "text/html": [
       "<table style='font-size:16px;margin-left:auto;margin-right:auto;text-align=center'><tr><th>Hidden Layers</th><th>Training Fraction</th> <th>Number of Steps</th></tr><tr><th>[100, 50, 25]</th><th>80%</th><th>2000</th></tr></table>"
      ]
     },
     "metadata": {
      "tags": []
     },
     "output_type": "display_data"
    },
    {
     "data": {
      "text/html": [
       "<h4>Confusion Matrix:</h4>"
      ]
     },
     "metadata": {
      "tags": []
     },
     "output_type": "display_data"
    },
    {
     "data": {
      "text/html": [
       "<br/>"
      ]
     },
     "metadata": {
      "tags": []
     },
     "output_type": "display_data"
    },
    {
     "name": "stdout",
     "output_type": "stream",
     "text": [
      "[[ 57   0   1   0   2   0   0   2   0   0]\n",
      " [  0  21   0   0   0   1   0   0   1   0]\n",
      " [  0   1  12   0   0   0   0   0   1   0]\n",
      " [  0   2   0  93   0   0   0   0   0   0]\n",
      " [  0   0   0   0 695   1   0   0   0   0]\n",
      " [  1   1   0   0   1 219   1   1   1   0]\n",
      " [  0   0   0   0   0   0  30   0   0   0]\n",
      " [  1   0   0   0   0   0   0 134   0   0]\n",
      " [  0   0   0   0   0   1   0   0  53   0]\n",
      " [  3   0   0   0   0   1   0   0   0 105]]\n"
     ]
    },
    {
     "data": {
      "text/html": [
       "<table style='font-size:16px;margin-left:auto;margin-right:auto;'><tr><th>Species</th><th>Accuracy</th> <th>Precision</th> <th>Recall</th> <th>F1-score</th></tr><tr><td>0</td><td>99.31%</td> <td>91.94%</td> <td>91.94%</td> <td>91.94%</td></tr><tr><td>1</td><td>99.58%</td> <td>84.00%</td> <td>91.30%</td> <td>87.50%</td></tr><tr><td>2</td><td>99.79%</td> <td>92.31%</td> <td>85.71%</td> <td>88.89%</td></tr><tr><td>3</td><td>99.86%</td> <td>100.00%</td> <td>97.89%</td> <td>98.94%</td></tr><tr><td>4</td><td>99.72%</td> <td>99.57%</td> <td>99.86%</td> <td>99.71%</td></tr><tr><td>5</td><td>99.31%</td> <td>98.21%</td> <td>97.33%</td> <td>97.77%</td></tr><tr><td>6</td><td>99.93%</td> <td>96.77%</td> <td>100.00%</td> <td>98.36%</td></tr><tr><td>7</td><td>99.72%</td> <td>97.81%</td> <td>99.26%</td> <td>98.53%</td></tr><tr><td>8</td><td>99.72%</td> <td>94.64%</td> <td>98.15%</td> <td>96.36%</td></tr><tr><td>9</td><td>99.72%</td> <td>100.00%</td> <td>96.33%</td> <td>98.13%</td></tr><tr><th>Average</th><th>99.67%</th> <th>95.52%</th> <th>95.78%</th> <th>95.61%</th></tr></table>"
      ]
     },
     "metadata": {
      "tags": []
     },
     "output_type": "display_data"
    },
    {
     "data": {
      "text/html": [
       "<hr>"
      ]
     },
     "metadata": {
      "tags": []
     },
     "output_type": "display_data"
    },
    {
     "data": {
      "text/html": [
       "<h2 style='text-align:center'>Iteration 84</h2>"
      ]
     },
     "metadata": {
      "tags": []
     },
     "output_type": "display_data"
    },
    {
     "data": {
      "text/html": [
       "<table style='font-size:16px;margin-left:auto;margin-right:auto;text-align=center'><tr><th>Hidden Layers</th><th>Training Fraction</th> <th>Number of Steps</th></tr><tr><th>[100, 50, 25]</th><th>50%</th><th>2000</th></tr></table>"
      ]
     },
     "metadata": {
      "tags": []
     },
     "output_type": "display_data"
    },
    {
     "data": {
      "text/html": [
       "<h4>Confusion Matrix:</h4>"
      ]
     },
     "metadata": {
      "tags": []
     },
     "output_type": "display_data"
    },
    {
     "data": {
      "text/html": [
       "<br/>"
      ]
     },
     "metadata": {
      "tags": []
     },
     "output_type": "display_data"
    },
    {
     "name": "stdout",
     "output_type": "stream",
     "text": [
      "[[ 150    0    0    0    2    0    0    3    0    0]\n",
      " [   0   53    0    3    0    1    0    0    0    0]\n",
      " [   0    1   29    0    0    0    2    1    1    0]\n",
      " [   0    6    0  228    0    1    1    0    0    0]\n",
      " [   9    0    0    1 1729    0    0    0    0    0]\n",
      " [   1    3    0    6    1  546    0    0    4    0]\n",
      " [   0    0    1    1    0    4   68    0    0    0]\n",
      " [   3    3    1    3    0    0    0  324    0    2]\n",
      " [   0    0    0    3    0    0    0    0  132    0]\n",
      " [   1    0    0    0    0    2    1    0    0  267]]\n"
     ]
    },
    {
     "data": {
      "text/html": [
       "<table style='font-size:16px;margin-left:auto;margin-right:auto;'><tr><th>Species</th><th>Accuracy</th> <th>Precision</th> <th>Recall</th> <th>F1-score</th></tr><tr><td>0</td><td>99.47%</td> <td>91.46%</td> <td>96.77%</td> <td>94.04%</td></tr><tr><td>1</td><td>99.53%</td> <td>80.30%</td> <td>92.98%</td> <td>86.18%</td></tr><tr><td>2</td><td>99.81%</td> <td>93.55%</td> <td>85.29%</td> <td>89.23%</td></tr><tr><td>3</td><td>99.31%</td> <td>93.06%</td> <td>96.61%</td> <td>94.80%</td></tr><tr><td>4</td><td>99.64%</td> <td>99.83%</td> <td>99.42%</td> <td>99.63%</td></tr><tr><td>5</td><td>99.36%</td> <td>98.56%</td> <td>97.33%</td> <td>97.94%</td></tr><tr><td>6</td><td>99.72%</td> <td>94.44%</td> <td>91.89%</td> <td>93.15%</td></tr><tr><td>7</td><td>99.56%</td> <td>98.78%</td> <td>96.43%</td> <td>97.59%</td></tr><tr><td>8</td><td>99.78%</td> <td>96.35%</td> <td>97.78%</td> <td>97.06%</td></tr><tr><td>9</td><td>99.83%</td> <td>99.26%</td> <td>98.52%</td> <td>98.89%</td></tr><tr><th>Average</th><th>99.60%</th> <th>94.56%</th> <th>95.30%</th> <th>94.85%</th></tr></table>"
      ]
     },
     "metadata": {
      "tags": []
     },
     "output_type": "display_data"
    },
    {
     "data": {
      "text/html": [
       "<hr>"
      ]
     },
     "metadata": {
      "tags": []
     },
     "output_type": "display_data"
    },
    {
     "data": {
      "text/html": [
       "<h2 style='text-align:center'>Iteration 85</h2>"
      ]
     },
     "metadata": {
      "tags": []
     },
     "output_type": "display_data"
    },
    {
     "data": {
      "text/html": [
       "<table style='font-size:16px;margin-left:auto;margin-right:auto;text-align=center'><tr><th>Hidden Layers</th><th>Training Fraction</th> <th>Number of Steps</th></tr><tr><th>[25, 50, 100]</th><th>80%</th><th>100</th></tr></table>"
      ]
     },
     "metadata": {
      "tags": []
     },
     "output_type": "display_data"
    },
    {
     "data": {
      "text/html": [
       "<h4>Confusion Matrix:</h4>"
      ]
     },
     "metadata": {
      "tags": []
     },
     "output_type": "display_data"
    },
    {
     "data": {
      "text/html": [
       "<br/>"
      ]
     },
     "metadata": {
      "tags": []
     },
     "output_type": "display_data"
    },
    {
     "name": "stdout",
     "output_type": "stream",
     "text": [
      "[[ 38   0   0   0  11   0   0  10   0   3]\n",
      " [  0  15   0   6   0   0   2   0   0   0]\n",
      " [  0   0   6   0   0   0   0   1   1   6]\n",
      " [  0   2   0  90   0   1   1   0   1   0]\n",
      " [  3   0   0   0 692   0   1   0   0   0]\n",
      " [  0   1   0   0   1 220   1   0   2   0]\n",
      " [  4   0   0   1   0   2  22   1   0   0]\n",
      " [  3   0   0   1   0   0   0 129   0   2]\n",
      " [  0   1   0   0   0   2   0   3  48   0]\n",
      " [  1   0   0   0   0   0   0   0   0 108]]\n"
     ]
    },
    {
     "data": {
      "text/html": [
       "<table style='font-size:16px;margin-left:auto;margin-right:auto;'><tr><th>Species</th><th>Accuracy</th> <th>Precision</th> <th>Recall</th> <th>F1-score</th></tr><tr><td>0</td><td>97.57%</td> <td>77.55%</td> <td>61.29%</td> <td>68.47%</td></tr><tr><td>1</td><td>99.17%</td> <td>78.95%</td> <td>65.22%</td> <td>71.43%</td></tr><tr><td>2</td><td>99.45%</td> <td>100.00%</td> <td>42.86%</td> <td>60.00%</td></tr><tr><td>3</td><td>99.10%</td> <td>91.84%</td> <td>94.74%</td> <td>93.26%</td></tr><tr><td>4</td><td>98.89%</td> <td>98.30%</td> <td>99.43%</td> <td>98.86%</td></tr><tr><td>5</td><td>99.31%</td> <td>97.78%</td> <td>97.78%</td> <td>97.78%</td></tr><tr><td>6</td><td>99.10%</td> <td>81.48%</td> <td>73.33%</td> <td>77.19%</td></tr><tr><td>7</td><td>98.54%</td> <td>89.58%</td> <td>95.56%</td> <td>92.47%</td></tr><tr><td>8</td><td>99.31%</td> <td>92.31%</td> <td>88.89%</td> <td>90.57%</td></tr><tr><td>9</td><td>99.17%</td> <td>90.76%</td> <td>99.08%</td> <td>94.74%</td></tr><tr><th>Average</th><th>98.96%</th> <th>89.85%</th> <th>81.82%</th> <th>84.48%</th></tr></table>"
      ]
     },
     "metadata": {
      "tags": []
     },
     "output_type": "display_data"
    },
    {
     "data": {
      "text/html": [
       "<hr>"
      ]
     },
     "metadata": {
      "tags": []
     },
     "output_type": "display_data"
    },
    {
     "data": {
      "text/html": [
       "<h2 style='text-align:center'>Iteration 86</h2>"
      ]
     },
     "metadata": {
      "tags": []
     },
     "output_type": "display_data"
    },
    {
     "data": {
      "text/html": [
       "<table style='font-size:16px;margin-left:auto;margin-right:auto;text-align=center'><tr><th>Hidden Layers</th><th>Training Fraction</th> <th>Number of Steps</th></tr><tr><th>[25, 50, 100]</th><th>50%</th><th>100</th></tr></table>"
      ]
     },
     "metadata": {
      "tags": []
     },
     "output_type": "display_data"
    },
    {
     "data": {
      "text/html": [
       "<h4>Confusion Matrix:</h4>"
      ]
     },
     "metadata": {
      "tags": []
     },
     "output_type": "display_data"
    },
    {
     "data": {
      "text/html": [
       "<br/>"
      ]
     },
     "metadata": {
      "tags": []
     },
     "output_type": "display_data"
    },
    {
     "name": "stdout",
     "output_type": "stream",
     "text": [
      "[[  86    0    0    0   21    4    0   19    0   25]\n",
      " [   0   40    0   13    0    4    0    0    0    0]\n",
      " [   0    2   26    2    0    0    0    2    1    1]\n",
      " [   0    7    0  226    0    2    0    1    0    0]\n",
      " [   2    0    0    3 1732    2    0    0    0    0]\n",
      " [   1    0    0    5    3  548    0    0    4    0]\n",
      " [   5    3    3    6    0    0   57    0    0    0]\n",
      " [   0    0    0    5    0    3    0  324    0    4]\n",
      " [   2    2    0    4    0    4    0    5  118    0]\n",
      " [   2    0    1    0    0    0    0    3    0  265]]\n"
     ]
    },
    {
     "data": {
      "text/html": [
       "<table style='font-size:16px;margin-left:auto;margin-right:auto;'><tr><th>Species</th><th>Accuracy</th> <th>Precision</th> <th>Recall</th> <th>F1-score</th></tr><tr><td>0</td><td>97.75%</td> <td>87.76%</td> <td>55.48%</td> <td>67.98%</td></tr><tr><td>1</td><td>99.14%</td> <td>74.07%</td> <td>70.18%</td> <td>72.07%</td></tr><tr><td>2</td><td>99.67%</td> <td>86.67%</td> <td>76.47%</td> <td>81.25%</td></tr><tr><td>3</td><td>98.67%</td> <td>85.61%</td> <td>95.76%</td> <td>90.40%</td></tr><tr><td>4</td><td>99.14%</td> <td>98.63%</td> <td>99.60%</td> <td>99.11%</td></tr><tr><td>5</td><td>99.11%</td> <td>96.65%</td> <td>97.68%</td> <td>97.16%</td></tr><tr><td>6</td><td>99.53%</td> <td>100.00%</td> <td>77.03%</td> <td>87.02%</td></tr><tr><td>7</td><td>98.83%</td> <td>91.53%</td> <td>96.43%</td> <td>93.91%</td></tr><tr><td>8</td><td>99.39%</td> <td>95.93%</td> <td>87.41%</td> <td>91.47%</td></tr><tr><td>9</td><td>99.00%</td> <td>89.83%</td> <td>97.79%</td> <td>93.64%</td></tr><tr><th>Average</th><th>99.02%</th> <th>90.67%</th> <th>85.38%</th> <th>87.40%</th></tr></table>"
      ]
     },
     "metadata": {
      "tags": []
     },
     "output_type": "display_data"
    },
    {
     "data": {
      "text/html": [
       "<hr>"
      ]
     },
     "metadata": {
      "tags": []
     },
     "output_type": "display_data"
    },
    {
     "data": {
      "text/html": [
       "<h2 style='text-align:center'>Iteration 87</h2>"
      ]
     },
     "metadata": {
      "tags": []
     },
     "output_type": "display_data"
    },
    {
     "data": {
      "text/html": [
       "<table style='font-size:16px;margin-left:auto;margin-right:auto;text-align=center'><tr><th>Hidden Layers</th><th>Training Fraction</th> <th>Number of Steps</th></tr><tr><th>[25, 50, 100]</th><th>80%</th><th>200</th></tr></table>"
      ]
     },
     "metadata": {
      "tags": []
     },
     "output_type": "display_data"
    },
    {
     "data": {
      "text/html": [
       "<h4>Confusion Matrix:</h4>"
      ]
     },
     "metadata": {
      "tags": []
     },
     "output_type": "display_data"
    },
    {
     "data": {
      "text/html": [
       "<br/>"
      ]
     },
     "metadata": {
      "tags": []
     },
     "output_type": "display_data"
    },
    {
     "name": "stdout",
     "output_type": "stream",
     "text": [
      "[[ 48   0   0   0   2   0   2  10   0   0]\n",
      " [  0  16   0   6   0   1   0   0   0   0]\n",
      " [  0   0  10   1   0   0   3   0   0   0]\n",
      " [  0   4   0  90   0   0   0   1   0   0]\n",
      " [  2   0   0   0 693   1   0   0   0   0]\n",
      " [  0   1   0   1   0 222   0   0   1   0]\n",
      " [  0   0   2   0   0   0  28   0   0   0]\n",
      " [  1   2   0   0   0   0   0 132   0   0]\n",
      " [  2   4   1   0   0   1   0   1  45   0]\n",
      " [  1   0   0   0   0   0   0   0   0 108]]\n"
     ]
    },
    {
     "data": {
      "text/html": [
       "<table style='font-size:16px;margin-left:auto;margin-right:auto;'><tr><th>Species</th><th>Accuracy</th> <th>Precision</th> <th>Recall</th> <th>F1-score</th></tr><tr><td>0</td><td>98.61%</td> <td>88.89%</td> <td>77.42%</td> <td>82.76%</td></tr><tr><td>1</td><td>98.75%</td> <td>59.26%</td> <td>69.57%</td> <td>64.00%</td></tr><tr><td>2</td><td>99.51%</td> <td>76.92%</td> <td>71.43%</td> <td>74.07%</td></tr><tr><td>3</td><td>99.10%</td> <td>91.84%</td> <td>94.74%</td> <td>93.26%</td></tr><tr><td>4</td><td>99.65%</td> <td>99.71%</td> <td>99.57%</td> <td>99.64%</td></tr><tr><td>5</td><td>99.58%</td> <td>98.67%</td> <td>98.67%</td> <td>98.67%</td></tr><tr><td>6</td><td>99.51%</td> <td>84.85%</td> <td>93.33%</td> <td>88.89%</td></tr><tr><td>7</td><td>98.96%</td> <td>91.67%</td> <td>97.78%</td> <td>94.62%</td></tr><tr><td>8</td><td>99.31%</td> <td>97.83%</td> <td>83.33%</td> <td>90.00%</td></tr><tr><td>9</td><td>99.93%</td> <td>100.00%</td> <td>99.08%</td> <td>99.54%</td></tr><tr><th>Average</th><th>99.29%</th> <th>88.96%</th> <th>88.49%</th> <th>88.55%</th></tr></table>"
      ]
     },
     "metadata": {
      "tags": []
     },
     "output_type": "display_data"
    },
    {
     "data": {
      "text/html": [
       "<hr>"
      ]
     },
     "metadata": {
      "tags": []
     },
     "output_type": "display_data"
    },
    {
     "data": {
      "text/html": [
       "<h2 style='text-align:center'>Iteration 88</h2>"
      ]
     },
     "metadata": {
      "tags": []
     },
     "output_type": "display_data"
    },
    {
     "data": {
      "text/html": [
       "<table style='font-size:16px;margin-left:auto;margin-right:auto;text-align=center'><tr><th>Hidden Layers</th><th>Training Fraction</th> <th>Number of Steps</th></tr><tr><th>[25, 50, 100]</th><th>50%</th><th>200</th></tr></table>"
      ]
     },
     "metadata": {
      "tags": []
     },
     "output_type": "display_data"
    },
    {
     "data": {
      "text/html": [
       "<h4>Confusion Matrix:</h4>"
      ]
     },
     "metadata": {
      "tags": []
     },
     "output_type": "display_data"
    },
    {
     "data": {
      "text/html": [
       "<br/>"
      ]
     },
     "metadata": {
      "tags": []
     },
     "output_type": "display_data"
    },
    {
     "name": "stdout",
     "output_type": "stream",
     "text": [
      "[[ 105    0    0    0   22    1    2   14    0   11]\n",
      " [   0   48    0    4    0    3    2    0    0    0]\n",
      " [   0    0   29    1    0    0    1    2    1    0]\n",
      " [   0    6    0  226    0    0    0    4    0    0]\n",
      " [   0    1    1    0 1734    2    1    0    0    0]\n",
      " [   1    2    0    1    0  557    0    0    0    0]\n",
      " [   0    6    2    2    0    0   63    1    0    0]\n",
      " [   3    3    0    1    0    1    0  318    0   10]\n",
      " [   2    2    1    3    0    5    0    3  119    0]\n",
      " [   0    0    2    0    0    0    1    1    0  267]]\n"
     ]
    },
    {
     "data": {
      "text/html": [
       "<table style='font-size:16px;margin-left:auto;margin-right:auto;'><tr><th>Species</th><th>Accuracy</th> <th>Precision</th> <th>Recall</th> <th>F1-score</th></tr><tr><td>0</td><td>98.44%</td> <td>94.59%</td> <td>67.74%</td> <td>78.95%</td></tr><tr><td>1</td><td>99.19%</td> <td>70.59%</td> <td>84.21%</td> <td>76.80%</td></tr><tr><td>2</td><td>99.69%</td> <td>82.86%</td> <td>85.29%</td> <td>84.06%</td></tr><tr><td>3</td><td>99.39%</td> <td>94.96%</td> <td>95.76%</td> <td>95.36%</td></tr><tr><td>4</td><td>99.25%</td> <td>98.75%</td> <td>99.71%</td> <td>99.23%</td></tr><tr><td>5</td><td>99.56%</td> <td>97.89%</td> <td>99.29%</td> <td>98.58%</td></tr><tr><td>6</td><td>99.50%</td> <td>90.00%</td> <td>85.14%</td> <td>87.50%</td></tr><tr><td>7</td><td>98.80%</td> <td>92.71%</td> <td>94.64%</td> <td>93.67%</td></tr><tr><td>8</td><td>99.53%</td> <td>99.17%</td> <td>88.15%</td> <td>93.33%</td></tr><tr><td>9</td><td>99.31%</td> <td>92.71%</td> <td>98.52%</td> <td>95.53%</td></tr><tr><th>Average</th><th>99.27%</th> <th>91.42%</th> <th>89.85%</th> <th>90.30%</th></tr></table>"
      ]
     },
     "metadata": {
      "tags": []
     },
     "output_type": "display_data"
    },
    {
     "data": {
      "text/html": [
       "<hr>"
      ]
     },
     "metadata": {
      "tags": []
     },
     "output_type": "display_data"
    },
    {
     "data": {
      "text/html": [
       "<h2 style='text-align:center'>Iteration 89</h2>"
      ]
     },
     "metadata": {
      "tags": []
     },
     "output_type": "display_data"
    },
    {
     "data": {
      "text/html": [
       "<table style='font-size:16px;margin-left:auto;margin-right:auto;text-align=center'><tr><th>Hidden Layers</th><th>Training Fraction</th> <th>Number of Steps</th></tr><tr><th>[25, 50, 100]</th><th>80%</th><th>500</th></tr></table>"
      ]
     },
     "metadata": {
      "tags": []
     },
     "output_type": "display_data"
    },
    {
     "data": {
      "text/html": [
       "<h4>Confusion Matrix:</h4>"
      ]
     },
     "metadata": {
      "tags": []
     },
     "output_type": "display_data"
    },
    {
     "data": {
      "text/html": [
       "<br/>"
      ]
     },
     "metadata": {
      "tags": []
     },
     "output_type": "display_data"
    },
    {
     "name": "stdout",
     "output_type": "stream",
     "text": [
      "[[ 51   0   0   0   8   1   1   1   0   0]\n",
      " [  0  19   1   3   0   0   0   0   0   0]\n",
      " [  0   0  13   0   0   0   0   0   1   0]\n",
      " [  0   4   0  90   0   0   0   1   0   0]\n",
      " [  1   0   0   0 695   0   0   0   0   0]\n",
      " [  0   1   0   0   0 223   1   0   0   0]\n",
      " [  0   0   0   0   0   0  30   0   0   0]\n",
      " [  1   1   0   1   0   0   0 132   0   0]\n",
      " [  0   0   0   1   0   0   0   0  53   0]\n",
      " [  1   0   0   0   0   1   1   0   0 106]]\n"
     ]
    },
    {
     "data": {
      "text/html": [
       "<table style='font-size:16px;margin-left:auto;margin-right:auto;'><tr><th>Species</th><th>Accuracy</th> <th>Precision</th> <th>Recall</th> <th>F1-score</th></tr><tr><td>0</td><td>99.03%</td> <td>94.44%</td> <td>82.26%</td> <td>87.93%</td></tr><tr><td>1</td><td>99.31%</td> <td>76.00%</td> <td>82.61%</td> <td>79.17%</td></tr><tr><td>2</td><td>99.86%</td> <td>92.86%</td> <td>92.86%</td> <td>92.86%</td></tr><tr><td>3</td><td>99.31%</td> <td>94.74%</td> <td>94.74%</td> <td>94.74%</td></tr><tr><td>4</td><td>99.38%</td> <td>98.86%</td> <td>99.86%</td> <td>99.36%</td></tr><tr><td>5</td><td>99.72%</td> <td>99.11%</td> <td>99.11%</td> <td>99.11%</td></tr><tr><td>6</td><td>99.79%</td> <td>90.91%</td> <td>100.00%</td> <td>95.24%</td></tr><tr><td>7</td><td>99.65%</td> <td>98.51%</td> <td>97.78%</td> <td>98.14%</td></tr><tr><td>8</td><td>99.86%</td> <td>98.15%</td> <td>98.15%</td> <td>98.15%</td></tr><tr><td>9</td><td>99.79%</td> <td>100.00%</td> <td>97.25%</td> <td>98.60%</td></tr><tr><th>Average</th><th>99.57%</th> <th>94.36%</th> <th>94.46%</th> <th>94.33%</th></tr></table>"
      ]
     },
     "metadata": {
      "tags": []
     },
     "output_type": "display_data"
    },
    {
     "data": {
      "text/html": [
       "<hr>"
      ]
     },
     "metadata": {
      "tags": []
     },
     "output_type": "display_data"
    },
    {
     "data": {
      "text/html": [
       "<h2 style='text-align:center'>Iteration 90</h2>"
      ]
     },
     "metadata": {
      "tags": []
     },
     "output_type": "display_data"
    },
    {
     "data": {
      "text/html": [
       "<table style='font-size:16px;margin-left:auto;margin-right:auto;text-align=center'><tr><th>Hidden Layers</th><th>Training Fraction</th> <th>Number of Steps</th></tr><tr><th>[25, 50, 100]</th><th>50%</th><th>500</th></tr></table>"
      ]
     },
     "metadata": {
      "tags": []
     },
     "output_type": "display_data"
    },
    {
     "data": {
      "text/html": [
       "<h4>Confusion Matrix:</h4>"
      ]
     },
     "metadata": {
      "tags": []
     },
     "output_type": "display_data"
    },
    {
     "data": {
      "text/html": [
       "<br/>"
      ]
     },
     "metadata": {
      "tags": []
     },
     "output_type": "display_data"
    },
    {
     "name": "stdout",
     "output_type": "stream",
     "text": [
      "[[ 122    0    0    0   20    0    0   12    0    1]\n",
      " [   0   50    0    3    0    4    0    0    0    0]\n",
      " [   0    0   27    0    0    0    2    1    4    0]\n",
      " [   0    3    0  230    0    1    0    2    0    0]\n",
      " [   0    0    0    0 1738    1    0    0    0    0]\n",
      " [   1    0    0    0    0  557    1    0    2    0]\n",
      " [   0    0    4    0    0    1   69    0    0    0]\n",
      " [   1    1    0    0    0    0    1  330    0    3]\n",
      " [   0    1    2    2    0    7    0    1  122    0]\n",
      " [   1    0    0    0    0    0    1    0    0  269]]\n"
     ]
    },
    {
     "data": {
      "text/html": [
       "<table style='font-size:16px;margin-left:auto;margin-right:auto;'><tr><th>Species</th><th>Accuracy</th> <th>Precision</th> <th>Recall</th> <th>F1-score</th></tr><tr><td>0</td><td>99.00%</td> <td>97.60%</td> <td>78.71%</td> <td>87.14%</td></tr><tr><td>1</td><td>99.67%</td> <td>90.91%</td> <td>87.72%</td> <td>89.29%</td></tr><tr><td>2</td><td>99.64%</td> <td>81.82%</td> <td>79.41%</td> <td>80.60%</td></tr><tr><td>3</td><td>99.69%</td> <td>97.87%</td> <td>97.46%</td> <td>97.66%</td></tr><tr><td>4</td><td>99.42%</td> <td>98.86%</td> <td>99.94%</td> <td>99.40%</td></tr><tr><td>5</td><td>99.50%</td> <td>97.55%</td> <td>99.29%</td> <td>98.41%</td></tr><tr><td>6</td><td>99.72%</td> <td>93.24%</td> <td>93.24%</td> <td>93.24%</td></tr><tr><td>7</td><td>99.39%</td> <td>95.38%</td> <td>98.21%</td> <td>96.77%</td></tr><tr><td>8</td><td>99.47%</td> <td>95.31%</td> <td>90.37%</td> <td>92.78%</td></tr><tr><td>9</td><td>99.83%</td> <td>98.53%</td> <td>99.26%</td> <td>98.90%</td></tr><tr><th>Average</th><th>99.53%</th> <th>94.71%</th> <th>92.36%</th> <th>93.42%</th></tr></table>"
      ]
     },
     "metadata": {
      "tags": []
     },
     "output_type": "display_data"
    },
    {
     "data": {
      "text/html": [
       "<hr>"
      ]
     },
     "metadata": {
      "tags": []
     },
     "output_type": "display_data"
    },
    {
     "data": {
      "text/html": [
       "<h2 style='text-align:center'>Iteration 91</h2>"
      ]
     },
     "metadata": {
      "tags": []
     },
     "output_type": "display_data"
    },
    {
     "data": {
      "text/html": [
       "<table style='font-size:16px;margin-left:auto;margin-right:auto;text-align=center'><tr><th>Hidden Layers</th><th>Training Fraction</th> <th>Number of Steps</th></tr><tr><th>[25, 50, 100]</th><th>80%</th><th>1000</th></tr></table>"
      ]
     },
     "metadata": {
      "tags": []
     },
     "output_type": "display_data"
    },
    {
     "data": {
      "text/html": [
       "<h4>Confusion Matrix:</h4>"
      ]
     },
     "metadata": {
      "tags": []
     },
     "output_type": "display_data"
    },
    {
     "data": {
      "text/html": [
       "<br/>"
      ]
     },
     "metadata": {
      "tags": []
     },
     "output_type": "display_data"
    },
    {
     "name": "stdout",
     "output_type": "stream",
     "text": [
      "[[ 58   0   0   0   2   0   0   2   0   0]\n",
      " [  0  18   0   3   0   1   0   0   1   0]\n",
      " [  1   0  12   0   0   0   0   0   1   0]\n",
      " [  0   0   0  94   0   0   0   1   0   0]\n",
      " [  2   0   0   1 693   0   0   0   0   0]\n",
      " [  0   0   0   0   1 221   1   0   2   0]\n",
      " [  0   0   0   0   0   0  30   0   0   0]\n",
      " [  1   1   0   1   0   0   0 132   0   0]\n",
      " [  0   0   0   2   0   3   0   0  49   0]\n",
      " [  0   0   2   0   0   0   0   0   0 107]]\n"
     ]
    },
    {
     "data": {
      "text/html": [
       "<table style='font-size:16px;margin-left:auto;margin-right:auto;'><tr><th>Species</th><th>Accuracy</th> <th>Precision</th> <th>Recall</th> <th>F1-score</th></tr><tr><td>0</td><td>99.45%</td> <td>93.55%</td> <td>93.55%</td> <td>93.55%</td></tr><tr><td>1</td><td>99.58%</td> <td>94.74%</td> <td>78.26%</td> <td>85.71%</td></tr><tr><td>2</td><td>99.72%</td> <td>85.71%</td> <td>85.71%</td> <td>85.71%</td></tr><tr><td>3</td><td>99.45%</td> <td>93.07%</td> <td>98.95%</td> <td>95.92%</td></tr><tr><td>4</td><td>99.58%</td> <td>99.57%</td> <td>99.57%</td> <td>99.57%</td></tr><tr><td>5</td><td>99.45%</td> <td>98.22%</td> <td>98.22%</td> <td>98.22%</td></tr><tr><td>6</td><td>99.93%</td> <td>96.77%</td> <td>100.00%</td> <td>98.36%</td></tr><tr><td>7</td><td>99.58%</td> <td>97.78%</td> <td>97.78%</td> <td>97.78%</td></tr><tr><td>8</td><td>99.38%</td> <td>92.45%</td> <td>90.74%</td> <td>91.59%</td></tr><tr><td>9</td><td>99.86%</td> <td>100.00%</td> <td>98.17%</td> <td>99.07%</td></tr><tr><th>Average</th><th>99.60%</th> <th>95.19%</th> <th>94.09%</th> <th>94.55%</th></tr></table>"
      ]
     },
     "metadata": {
      "tags": []
     },
     "output_type": "display_data"
    },
    {
     "data": {
      "text/html": [
       "<hr>"
      ]
     },
     "metadata": {
      "tags": []
     },
     "output_type": "display_data"
    },
    {
     "data": {
      "text/html": [
       "<h2 style='text-align:center'>Iteration 92</h2>"
      ]
     },
     "metadata": {
      "tags": []
     },
     "output_type": "display_data"
    },
    {
     "data": {
      "text/html": [
       "<table style='font-size:16px;margin-left:auto;margin-right:auto;text-align=center'><tr><th>Hidden Layers</th><th>Training Fraction</th> <th>Number of Steps</th></tr><tr><th>[25, 50, 100]</th><th>50%</th><th>1000</th></tr></table>"
      ]
     },
     "metadata": {
      "tags": []
     },
     "output_type": "display_data"
    },
    {
     "data": {
      "text/html": [
       "<h4>Confusion Matrix:</h4>"
      ]
     },
     "metadata": {
      "tags": []
     },
     "output_type": "display_data"
    },
    {
     "data": {
      "text/html": [
       "<br/>"
      ]
     },
     "metadata": {
      "tags": []
     },
     "output_type": "display_data"
    },
    {
     "name": "stdout",
     "output_type": "stream",
     "text": [
      "[[ 143    0    0    0    3    0    0    7    0    2]\n",
      " [   0   50    0    4    0    3    0    0    0    0]\n",
      " [   0    0   27    1    0    0    1    1    4    0]\n",
      " [   0    4    0  228    0    1    1    1    1    0]\n",
      " [   3    0    0    1 1732    3    0    0    0    0]\n",
      " [   0    2    0    1    0  556    1    0    1    0]\n",
      " [   0    0    0    0    0    0   72    1    0    1]\n",
      " [   6    3    0    0    0    2    2  321    0    2]\n",
      " [   1    2    0    1    0    5    0    0  126    0]\n",
      " [   3    0    1    0    0    0    4    1    0  262]]\n"
     ]
    },
    {
     "data": {
      "text/html": [
       "<table style='font-size:16px;margin-left:auto;margin-right:auto;'><tr><th>Species</th><th>Accuracy</th> <th>Precision</th> <th>Recall</th> <th>F1-score</th></tr><tr><td>0</td><td>99.31%</td> <td>91.67%</td> <td>92.26%</td> <td>91.96%</td></tr><tr><td>1</td><td>99.50%</td> <td>81.97%</td> <td>87.72%</td> <td>84.75%</td></tr><tr><td>2</td><td>99.78%</td> <td>96.43%</td> <td>79.41%</td> <td>87.10%</td></tr><tr><td>3</td><td>99.56%</td> <td>96.61%</td> <td>96.61%</td> <td>96.61%</td></tr><tr><td>4</td><td>99.72%</td> <td>99.83%</td> <td>99.60%</td> <td>99.71%</td></tr><tr><td>5</td><td>99.47%</td> <td>97.54%</td> <td>99.11%</td> <td>98.32%</td></tr><tr><td>6</td><td>99.69%</td> <td>88.89%</td> <td>97.30%</td> <td>92.90%</td></tr><tr><td>7</td><td>99.28%</td> <td>96.69%</td> <td>95.54%</td> <td>96.11%</td></tr><tr><td>8</td><td>99.58%</td> <td>95.45%</td> <td>93.33%</td> <td>94.38%</td></tr><tr><td>9</td><td>99.61%</td> <td>98.13%</td> <td>96.68%</td> <td>97.40%</td></tr><tr><th>Average</th><th>99.55%</th> <th>94.32%</th> <th>93.76%</th> <th>93.92%</th></tr></table>"
      ]
     },
     "metadata": {
      "tags": []
     },
     "output_type": "display_data"
    },
    {
     "data": {
      "text/html": [
       "<hr>"
      ]
     },
     "metadata": {
      "tags": []
     },
     "output_type": "display_data"
    },
    {
     "data": {
      "text/html": [
       "<h2 style='text-align:center'>Iteration 93</h2>"
      ]
     },
     "metadata": {
      "tags": []
     },
     "output_type": "display_data"
    },
    {
     "data": {
      "text/html": [
       "<table style='font-size:16px;margin-left:auto;margin-right:auto;text-align=center'><tr><th>Hidden Layers</th><th>Training Fraction</th> <th>Number of Steps</th></tr><tr><th>[25, 50, 100]</th><th>80%</th><th>1500</th></tr></table>"
      ]
     },
     "metadata": {
      "tags": []
     },
     "output_type": "display_data"
    },
    {
     "data": {
      "text/html": [
       "<h4>Confusion Matrix:</h4>"
      ]
     },
     "metadata": {
      "tags": []
     },
     "output_type": "display_data"
    },
    {
     "data": {
      "text/html": [
       "<br/>"
      ]
     },
     "metadata": {
      "tags": []
     },
     "output_type": "display_data"
    },
    {
     "name": "stdout",
     "output_type": "stream",
     "text": [
      "[[ 58   0   0   0   2   0   0   0   0   2]\n",
      " [  0  19   1   2   0   1   0   0   0   0]\n",
      " [  0   0  14   0   0   0   0   0   0   0]\n",
      " [  0   1   0  91   0   1   0   2   0   0]\n",
      " [  1   0   0   0 695   0   0   0   0   0]\n",
      " [  0   0   0   0   0 224   1   0   0   0]\n",
      " [  0   0   0   0   0   0  30   0   0   0]\n",
      " [  1   0   0   1   0   0   1 132   0   0]\n",
      " [  0   0   0   0   0   0   0   0  54   0]\n",
      " [  0   0   0   0   0   0   0   0   0 109]]\n"
     ]
    },
    {
     "data": {
      "text/html": [
       "<table style='font-size:16px;margin-left:auto;margin-right:auto;'><tr><th>Species</th><th>Accuracy</th> <th>Precision</th> <th>Recall</th> <th>F1-score</th></tr><tr><td>0</td><td>99.58%</td> <td>96.67%</td> <td>93.55%</td> <td>95.08%</td></tr><tr><td>1</td><td>99.65%</td> <td>95.00%</td> <td>82.61%</td> <td>88.37%</td></tr><tr><td>2</td><td>99.93%</td> <td>93.33%</td> <td>100.00%</td> <td>96.55%</td></tr><tr><td>3</td><td>99.51%</td> <td>96.81%</td> <td>95.79%</td> <td>96.30%</td></tr><tr><td>4</td><td>99.79%</td> <td>99.71%</td> <td>99.86%</td> <td>99.78%</td></tr><tr><td>5</td><td>99.79%</td> <td>99.12%</td> <td>99.56%</td> <td>99.33%</td></tr><tr><td>6</td><td>99.86%</td> <td>93.75%</td> <td>100.00%</td> <td>96.77%</td></tr><tr><td>7</td><td>99.65%</td> <td>98.51%</td> <td>97.78%</td> <td>98.14%</td></tr><tr><td>8</td><td>100.00%</td> <td>100.00%</td> <td>100.00%</td> <td>100.00%</td></tr><tr><td>9</td><td>99.86%</td> <td>98.20%</td> <td>100.00%</td> <td>99.09%</td></tr><tr><th>Average</th><th>99.76%</th> <th>97.11%</th> <th>96.91%</th> <th>96.94%</th></tr></table>"
      ]
     },
     "metadata": {
      "tags": []
     },
     "output_type": "display_data"
    },
    {
     "data": {
      "text/html": [
       "<hr>"
      ]
     },
     "metadata": {
      "tags": []
     },
     "output_type": "display_data"
    },
    {
     "data": {
      "text/html": [
       "<h2 style='text-align:center'>Iteration 94</h2>"
      ]
     },
     "metadata": {
      "tags": []
     },
     "output_type": "display_data"
    },
    {
     "data": {
      "text/html": [
       "<table style='font-size:16px;margin-left:auto;margin-right:auto;text-align=center'><tr><th>Hidden Layers</th><th>Training Fraction</th> <th>Number of Steps</th></tr><tr><th>[25, 50, 100]</th><th>50%</th><th>1500</th></tr></table>"
      ]
     },
     "metadata": {
      "tags": []
     },
     "output_type": "display_data"
    },
    {
     "data": {
      "text/html": [
       "<h4>Confusion Matrix:</h4>"
      ]
     },
     "metadata": {
      "tags": []
     },
     "output_type": "display_data"
    },
    {
     "data": {
      "text/html": [
       "<br/>"
      ]
     },
     "metadata": {
      "tags": []
     },
     "output_type": "display_data"
    },
    {
     "name": "stdout",
     "output_type": "stream",
     "text": [
      "[[ 137    0    0    0    4    0    0   13    0    1]\n",
      " [   0   53    1    2    0    1    0    0    0    0]\n",
      " [   0    1   26    1    0    0    3    0    2    1]\n",
      " [   0    3    1  228    1    1    0    1    1    0]\n",
      " [   5    0    0    1 1731    2    0    0    0    0]\n",
      " [   1    0    0    2    1  553    0    1    3    0]\n",
      " [   1    0    2    0    1    0   70    0    0    0]\n",
      " [   2    1    0    1    0    0    1  331    0    0]\n",
      " [   1    0    2    0    0    2    0    0  130    0]\n",
      " [   2    0    4    0    0    0    1    1    0  263]]\n"
     ]
    },
    {
     "data": {
      "text/html": [
       "<table style='font-size:16px;margin-left:auto;margin-right:auto;'><tr><th>Species</th><th>Accuracy</th> <th>Precision</th> <th>Recall</th> <th>F1-score</th></tr><tr><td>0</td><td>99.17%</td> <td>91.95%</td> <td>88.39%</td> <td>90.13%</td></tr><tr><td>1</td><td>99.75%</td> <td>91.38%</td> <td>92.98%</td> <td>92.17%</td></tr><tr><td>2</td><td>99.50%</td> <td>72.22%</td> <td>76.47%</td> <td>74.29%</td></tr><tr><td>3</td><td>99.58%</td> <td>97.02%</td> <td>96.61%</td> <td>96.82%</td></tr><tr><td>4</td><td>99.58%</td> <td>99.60%</td> <td>99.54%</td> <td>99.57%</td></tr><tr><td>5</td><td>99.61%</td> <td>98.93%</td> <td>98.57%</td> <td>98.75%</td></tr><tr><td>6</td><td>99.75%</td> <td>93.33%</td> <td>94.59%</td> <td>93.96%</td></tr><tr><td>7</td><td>99.42%</td> <td>95.39%</td> <td>98.51%</td> <td>96.93%</td></tr><tr><td>8</td><td>99.69%</td> <td>95.59%</td> <td>96.30%</td> <td>95.94%</td></tr><tr><td>9</td><td>99.72%</td> <td>99.25%</td> <td>97.05%</td> <td>98.13%</td></tr><tr><th>Average</th><th>99.58%</th> <th>93.46%</th> <th>93.90%</th> <th>93.67%</th></tr></table>"
      ]
     },
     "metadata": {
      "tags": []
     },
     "output_type": "display_data"
    },
    {
     "data": {
      "text/html": [
       "<hr>"
      ]
     },
     "metadata": {
      "tags": []
     },
     "output_type": "display_data"
    },
    {
     "data": {
      "text/html": [
       "<h2 style='text-align:center'>Iteration 95</h2>"
      ]
     },
     "metadata": {
      "tags": []
     },
     "output_type": "display_data"
    },
    {
     "data": {
      "text/html": [
       "<table style='font-size:16px;margin-left:auto;margin-right:auto;text-align=center'><tr><th>Hidden Layers</th><th>Training Fraction</th> <th>Number of Steps</th></tr><tr><th>[25, 50, 100]</th><th>80%</th><th>2000</th></tr></table>"
      ]
     },
     "metadata": {
      "tags": []
     },
     "output_type": "display_data"
    },
    {
     "data": {
      "text/html": [
       "<h4>Confusion Matrix:</h4>"
      ]
     },
     "metadata": {
      "tags": []
     },
     "output_type": "display_data"
    },
    {
     "data": {
      "text/html": [
       "<br/>"
      ]
     },
     "metadata": {
      "tags": []
     },
     "output_type": "display_data"
    },
    {
     "name": "stdout",
     "output_type": "stream",
     "text": [
      "[[ 59   0   0   0   1   0   0   2   0   0]\n",
      " [  0  19   1   3   0   0   0   0   0   0]\n",
      " [  0   0  14   0   0   0   0   0   0   0]\n",
      " [  0   0   0  95   0   0   0   0   0   0]\n",
      " [  2   1   0   0 693   0   0   0   0   0]\n",
      " [  0   0   0   1   0 224   0   0   0   0]\n",
      " [  0   0   1   1   0   0  28   0   0   0]\n",
      " [  1   0   0   2   0   0   0 131   0   1]\n",
      " [  0   0   0   4   0   0   0   0  50   0]\n",
      " [  0   0   1   0   0   0   0   0   0 108]]\n"
     ]
    },
    {
     "data": {
      "text/html": [
       "<table style='font-size:16px;margin-left:auto;margin-right:auto;'><tr><th>Species</th><th>Accuracy</th> <th>Precision</th> <th>Recall</th> <th>F1-score</th></tr><tr><td>0</td><td>99.58%</td> <td>95.16%</td> <td>95.16%</td> <td>95.16%</td></tr><tr><td>1</td><td>99.65%</td> <td>95.00%</td> <td>82.61%</td> <td>88.37%</td></tr><tr><td>2</td><td>99.79%</td> <td>82.35%</td> <td>100.00%</td> <td>90.32%</td></tr><tr><td>3</td><td>99.24%</td> <td>89.62%</td> <td>100.00%</td> <td>94.53%</td></tr><tr><td>4</td><td>99.72%</td> <td>99.86%</td> <td>99.57%</td> <td>99.71%</td></tr><tr><td>5</td><td>99.93%</td> <td>100.00%</td> <td>99.56%</td> <td>99.78%</td></tr><tr><td>6</td><td>99.86%</td> <td>100.00%</td> <td>93.33%</td> <td>96.55%</td></tr><tr><td>7</td><td>99.58%</td> <td>98.50%</td> <td>97.04%</td> <td>97.76%</td></tr><tr><td>8</td><td>99.72%</td> <td>100.00%</td> <td>92.59%</td> <td>96.15%</td></tr><tr><td>9</td><td>99.86%</td> <td>99.08%</td> <td>99.08%</td> <td>99.08%</td></tr><tr><th>Average</th><th>99.70%</th> <th>95.96%</th> <th>95.89%</th> <th>95.74%</th></tr></table>"
      ]
     },
     "metadata": {
      "tags": []
     },
     "output_type": "display_data"
    },
    {
     "data": {
      "text/html": [
       "<hr>"
      ]
     },
     "metadata": {
      "tags": []
     },
     "output_type": "display_data"
    },
    {
     "data": {
      "text/html": [
       "<h2 style='text-align:center'>Iteration 96</h2>"
      ]
     },
     "metadata": {
      "tags": []
     },
     "output_type": "display_data"
    },
    {
     "data": {
      "text/html": [
       "<table style='font-size:16px;margin-left:auto;margin-right:auto;text-align=center'><tr><th>Hidden Layers</th><th>Training Fraction</th> <th>Number of Steps</th></tr><tr><th>[25, 50, 100]</th><th>50%</th><th>2000</th></tr></table>"
      ]
     },
     "metadata": {
      "tags": []
     },
     "output_type": "display_data"
    },
    {
     "data": {
      "text/html": [
       "<h4>Confusion Matrix:</h4>"
      ]
     },
     "metadata": {
      "tags": []
     },
     "output_type": "display_data"
    },
    {
     "data": {
      "text/html": [
       "<br/>"
      ]
     },
     "metadata": {
      "tags": []
     },
     "output_type": "display_data"
    },
    {
     "name": "stdout",
     "output_type": "stream",
     "text": [
      "[[ 150    0    0    0    0    0    0    3    0    2]\n",
      " [   0   50    1    6    0    0    0    0    0    0]\n",
      " [   0    1   28    0    0    0    3    0    2    0]\n",
      " [   0    4    0  229    0    0    0    2    1    0]\n",
      " [   2    0    0    0 1736    1    0    0    0    0]\n",
      " [   0    3    0    1    0  557    0    0    0    0]\n",
      " [   0    1    0    1    0    1   71    0    0    0]\n",
      " [   0    2    0    1    0    0    0  332    0    1]\n",
      " [   1    0    0    2    1    2    0    0  129    0]\n",
      " [   2    0    0    0    0    0    1    1    0  267]]\n"
     ]
    },
    {
     "data": {
      "text/html": [
       "<table style='font-size:16px;margin-left:auto;margin-right:auto;'><tr><th>Species</th><th>Accuracy</th> <th>Precision</th> <th>Recall</th> <th>F1-score</th></tr><tr><td>0</td><td>99.72%</td> <td>96.77%</td> <td>96.77%</td> <td>96.77%</td></tr><tr><td>1</td><td>99.50%</td> <td>81.97%</td> <td>87.72%</td> <td>84.75%</td></tr><tr><td>2</td><td>99.81%</td> <td>96.55%</td> <td>82.35%</td> <td>88.89%</td></tr><tr><td>3</td><td>99.50%</td> <td>95.42%</td> <td>97.03%</td> <td>96.22%</td></tr><tr><td>4</td><td>99.89%</td> <td>99.94%</td> <td>99.83%</td> <td>99.88%</td></tr><tr><td>5</td><td>99.78%</td> <td>99.29%</td> <td>99.29%</td> <td>99.29%</td></tr><tr><td>6</td><td>99.81%</td> <td>94.67%</td> <td>95.95%</td> <td>95.30%</td></tr><tr><td>7</td><td>99.72%</td> <td>98.22%</td> <td>98.81%</td> <td>98.52%</td></tr><tr><td>8</td><td>99.75%</td> <td>97.73%</td> <td>95.56%</td> <td>96.63%</td></tr><tr><td>9</td><td>99.81%</td> <td>98.89%</td> <td>98.52%</td> <td>98.71%</td></tr><tr><th>Average</th><th>99.73%</th> <th>95.94%</th> <th>95.18%</th> <th>95.50%</th></tr></table>"
      ]
     },
     "metadata": {
      "tags": []
     },
     "output_type": "display_data"
    },
    {
     "data": {
      "text/html": [
       "<hr>"
      ]
     },
     "metadata": {
      "tags": []
     },
     "output_type": "display_data"
    },
    {
     "data": {
      "image/png": "[encoded data removed]",
      "text/plain": [
       "<matplotlib.figure.Figure at 0x7fb7ae497b70>"
      ]
     },
     "metadata": {
      "tags": []
     },
     "output_type": "display_data"
    },
    {
     "data": {
      "image/png": "[encoded data removed]",
      "text/plain": [
       "<matplotlib.figure.Figure at 0x7fb7abe814a8>"
      ]
     },
     "metadata": {
      "tags": []
     },
     "output_type": "display_data"
    }
   ],
   "source": [
    "# k-fold Cross-validation data splitting results\n",
    "display_model_results(kfcv_evaluations)"
   ]
  },
  {
   "cell_type": "markdown",
   "metadata": {
    "colab_type": "text",
    "id": "0RBWEMueYMg4"
   },
   "source": [
    "# Conclusion\n",
    "The architectural choices of a **Neural Network** are of tremendous importance when designing such a network and its model, including the architecture, the way the data is split and fed into it, the number of times said data goes through the forward and backpropagation mechanisms. \n",
    "\n",
    "With our approach we have observed that, for instance, a **Neural Network** with a single layer comprised of 100 nodes, for our dataset, can better describe (without overfitting) the data then a network with two hidden layers of 10 neurons each."
   ]
  },
  {
   "cell_type": "markdown",
   "metadata": {
    "colab_type": "text",
    "id": "Yka7JG0PYMg4"
   },
   "source": [
    "## Other"
   ]
  },
  {
   "cell_type": "markdown",
   "metadata": {
    "colab_type": "text",
    "id": "SyFGBN2XYMg5"
   },
   "source": [
    "### Deletes temporary files created by TensorFlow"
   ]
  },
  {
   "cell_type": "code",
   "execution_count": 0,
   "metadata": {
    "colab": {
     "autoexec": {
      "startup": false,
      "wait_interval": 0
     }
    },
    "colab_type": "code",
    "id": "9rw48k8kYMg5"
   },
   "outputs": [],
   "source": [
    "# Allows deleting models save folder in windows\n",
    "tf.summary.FileWriterCache.clear()"
   ]
  },
  {
   "cell_type": "code",
   "execution_count": 0,
   "metadata": {
    "colab": {
     "autoexec": {
      "startup": false,
      "wait_interval": 0
     }
    },
    "colab_type": "code",
    "id": "Ph4gYfN1YMg9"
   },
   "outputs": [],
   "source": [
    "import tempfile\n",
    "import os\n",
    "from pathlib import Path\n",
    "import shutil\n",
    "\n",
    "temp_dir = Path(tempfile.gettempdir())\n",
    "dir_list = [f for f in temp_dir.glob('tmp*') if f.is_dir()] \n",
    "for dir in dir_list:\n",
    "    shutil.rmtree(dir, ignore_errors=True)\n",
    "        "
   ]
  }
 ],
 "metadata": {
  "accelerator": "GPU",
  "colab": {
   "collapsed_sections": [
    "mgmcKIiMYMf6",
    "_a0gExKyYMf9"
   ],
   "default_view": {},
   "name": "Anuran Classification.ipynb",
   "provenance": [],
   "toc_visible": true,
   "version": "0.3.2",
   "views": {}
  },
  "kernelspec": {
   "display_name": "Python 3",
   "language": "python",
   "name": "python3"
  },
  "language_info": {
   "codemirror_mode": {
    "name": "ipython",
    "version": 3
   },
   "file_extension": ".py",
   "mimetype": "text/x-python",
   "name": "python",
   "nbconvert_exporter": "python",
   "pygments_lexer": "ipython3",
   "version": "3.6.4"
  }
 },
 "nbformat": 4,
 "nbformat_minor": 1
}
