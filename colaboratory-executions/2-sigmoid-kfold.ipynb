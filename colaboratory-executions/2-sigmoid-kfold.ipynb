{
 "cells": [
  {
   "cell_type": "markdown",
   "metadata": {
    "colab_type": "text",
    "id": "kHdA6MK4YMfJ"
   },
   "source": [
    "<img src=\"report_material/feup_logo_old.png\" width=\"30%\" align=\"center\"/>\n",
    "\n",
    "<h1 style=\"text-align:center\">Neural Networks for the Prediction of Anuran Species (E3.)</h1>\n",
    "<h3 style=\"text-align:center\">Final Delivery</h3>\n",
    "<br/><br/>\n",
    "<p style=\"text-align:center\">Artificial Intelligence (IART)</p>\n",
    "<p style=\"text-align:center\">3<sup>rd</sup> year in Master in Informatics and Computing Engineering</p>\n",
    "\n",
    "### Authors\n",
    "\n",
    "* Miguel Ramalho    - 201403027 - [m.ramalho@fe.up.pt](mailto:up201403027@fe.up.pt)\n",
    "* Rostyslav Khoptiy - 201506219 - [up201506219@fe.up.pt](mailto:up201506219@fe.up.pt)\n",
    "\n",
    "<!--spellchecking: https://stackoverflow.com/a/48710561/6196010 -->\n",
    "\n",
    "<div style=\"text-align:right\"><i>April 8<sup>th</sup>, 2018</i></div>\n",
    "<br/><br/>\n",
    "\n",
    "---"
   ]
  },
  {
   "cell_type": "markdown",
   "metadata": {
    "colab_type": "text",
    "id": "E2TJgn8AYMfK"
   },
   "source": [
    "# Code"
   ]
  },
  {
   "cell_type": "markdown",
   "metadata": {
    "colab_type": "text",
    "id": "u438HXbBYMfL"
   },
   "source": [
    "## Initialization"
   ]
  },
  {
   "cell_type": "markdown",
   "metadata": {
    "colab_type": "text",
    "id": "kbsDNtzeYMfL"
   },
   "source": [
    "### Import modules"
   ]
  },
  {
   "cell_type": "code",
   "execution_count": 0,
   "metadata": {
    "colab": {
     "autoexec": {
      "startup": false,
      "wait_interval": 0
     }
    },
    "colab_type": "code",
    "id": "SfwKdZ21YMfM"
   },
   "outputs": [],
   "source": [
    "import pandas as pd\n",
    "import tensorflow as tf\n",
    "import numpy as np\n",
    "import io # to pass data as StringIO object\n",
    "import time # to set the random seed for train and test sampling\n",
    "import matplotlib.pyplot as plt # to display plots\n",
    "from sklearn.model_selection import KFold, StratifiedKFold # for cross-validation, needs scipy\n",
    "np.seterr(divide='ignore', invalid='ignore'); # avoid unnecessary messages"
   ]
  },
  {
   "cell_type": "markdown",
   "metadata": {
    "colab_type": "text",
    "id": "S2L3Vp-PYMfP"
   },
   "source": [
    "### Initialize constants"
   ]
  },
  {
   "cell_type": "code",
   "execution_count": 0,
   "metadata": {
    "colab": {
     "autoexec": {
      "startup": false,
      "wait_interval": 0
     }
    },
    "colab_type": "code",
    "id": "MFI1T-l6YMfQ"
   },
   "outputs": [],
   "source": [
    "DATASET_PATH = \"dataset/frogs.csv\" # the path to the dataset file\n",
    "N_FEATURES   = 22 # the number of features in the dataset\n",
    "LABEL_INDEX  = 24 # the index in the dataset where the label to predict is\n",
    "BATCH_SIZE   = 100 # batch size for the train, evaluation and prediction\n",
    "NUM_CLASSES  = 10 # last layer, num classifications\n",
    "NUM_ITEMS    = 7195 #Num items in dataset\n",
    "CROSS_VALIDATION_FUNCTION = StratifiedKFold # use KFold to ignore class representation\n",
    "ACTIVATION_FUNCTION = tf.nn.sigmoid # default is tf.nn.relu"
   ]
  },
  {
   "cell_type": "markdown",
   "metadata": {
    "colab_type": "text",
    "id": "pHuWhxT2YMfR"
   },
   "source": [
    "## Helper Functions\n",
    "\n",
    "In this section we include functions that are directed at helping the visualisation of the project, the manipulation of data and the creation, training and evaluation of models. Here functions that start with an underscore (_) are purely 'private' helper functions and shouldn't be used or even considered for the evaluation of the report"
   ]
  },
  {
   "cell_type": "markdown",
   "metadata": {
    "colab_type": "text",
    "id": "vnFs6TqqYMfT"
   },
   "source": [
    "### Chart Drawing and Visualization functions"
   ]
  },
  {
   "cell_type": "code",
   "execution_count": 0,
   "metadata": {
    "colab": {
     "autoexec": {
      "startup": false,
      "wait_interval": 0
     }
    },
    "colab_type": "code",
    "id": "fYOvNDizYMfT"
   },
   "outputs": [],
   "source": [
    "from IPython.core.display import display_html, HTML\n",
    "# function to print string into visual HTML\n",
    "def html(s, html_tag=None):\n",
    "    if html_tag:\n",
    "        s = tag(html_tag, s)\n",
    "    display_html(HTML(s))\n",
    "def tag(tag, s):\n",
    "    return \"<%s>%s</%s>\" % (tag, s, tag)"
   ]
  },
  {
   "cell_type": "code",
   "execution_count": 0,
   "metadata": {
    "colab": {
     "autoexec": {
      "startup": false,
      "wait_interval": 0
     }
    },
    "colab_type": "code",
    "id": "p8_mqdyxYMfW"
   },
   "outputs": [],
   "source": [
    "from IPython.display import display\n",
    "# receives paddings and a list @layer_sizes with the number of nodes to draw\n",
    "def _draw_neural_net(ax, left, right, bottom, top, layer_sizes):\n",
    "    # https://gist.github.com/craffel/2d727968c3aaebd10359\n",
    "    n_layers = len(layer_sizes)\n",
    "    v_spacing = (top - bottom)/float(max(layer_sizes))\n",
    "    h_spacing = (right - left)/float(max(len(layer_sizes) - 1, 1))\n",
    "    # Nodes\n",
    "    for n, layer_size in enumerate(layer_sizes):\n",
    "        layer_top = v_spacing*(layer_size - 1)/2. + (top + bottom)/2.\n",
    "        for m in range(layer_size):\n",
    "            circle = plt.Circle((n*h_spacing + left, layer_top - m*v_spacing), v_spacing/4.,\n",
    "                                color='w', ec='k', zorder=4)\n",
    "            ax.add_artist(circle)\n",
    "    # Edges\n",
    "    for n, (layer_size_a, layer_size_b) in enumerate(zip(layer_sizes[:-1], layer_sizes[1:])):\n",
    "        layer_top_a = v_spacing*(layer_size_a - 1)/2. + (top + bottom)/2.\n",
    "        layer_top_b = v_spacing*(layer_size_b - 1)/2. + (top + bottom)/2.\n",
    "        for m in range(layer_size_a):\n",
    "            for o in range(layer_size_b):\n",
    "                line = plt.Line2D([n*h_spacing + left, (n + 1)*h_spacing + left],\n",
    "                                  [layer_top_a - m*v_spacing, layer_top_b - o*v_spacing], c='k')\n",
    "                ax.add_artist(line)\n",
    "# helper function to draw a neural network\n",
    "def drawNN(hidden_layers, figsize=(12, 12), name=None):\n",
    "    #plt.ioff() #plt.ion()\n",
    "    plt.tight_layout()\n",
    "    fig = plt.figure(figsize=figsize);\n",
    "    ax = fig.gca()\n",
    "    ax.axis('off')\n",
    "    _draw_neural_net(ax, .1, .9, .1, .9, [N_FEATURES] + hidden_layers + [NUM_CLASSES])\n",
    "    display(fig);\n",
    "    plt.close();"
   ]
  },
  {
   "cell_type": "code",
   "execution_count": 0,
   "metadata": {
    "colab": {
     "autoexec": {
      "startup": false,
      "wait_interval": 0
     }
    },
    "colab_type": "code",
    "id": "DWZ5h3WuYMfZ"
   },
   "outputs": [],
   "source": [
    "# create an abstract histogram\n",
    "def _draw_label_distribution(label_column, title_text):\n",
    "    label_count = pd.Series.value_counts(label_column, normalize=True, sort=False)\n",
    "    label_count = label_count.sort_index()\n",
    "    label_count.plot(kind='barh', title=title_text, stacked=True, fontsize=15, figsize=(8,8), color=\"darkblue\" )\n",
    "\n",
    "# create a histogram with the distribution of species\n",
    "def draw_species_distribution_chart(df, title_text=\"Species Dataset Distribution\"):\n",
    "    species_column = df['Species']\n",
    "    _draw_label_distribution(species_column, title_text)"
   ]
  },
  {
   "cell_type": "markdown",
   "metadata": {
    "colab_type": "text",
    "id": "z3gYKXkzYMfb"
   },
   "source": [
    "### Creating Deep Neural Network Models \n",
    " * `my_feature_columns`        - the features that the model should receive as input\n",
    " * `inner_layers_architecture` - a list of N hidden layers where N[i] is the number of nodes of the layer i"
   ]
  },
  {
   "cell_type": "code",
   "execution_count": 0,
   "metadata": {
    "colab": {
     "autoexec": {
      "startup": false,
      "wait_interval": 0
     }
    },
    "colab_type": "code",
    "id": "fAy3xsWWYMfc"
   },
   "outputs": [],
   "source": [
    "def create_DNN(my_feature_columns, inner_layers_architecture, save_folder_path=None, num_classes=NUM_CLASSES):\n",
    "    # Build a DNN (Deep Neural Network) with 1 hidden layer with 10 nodes\n",
    "    classifier = tf.estimator.DNNClassifier(\n",
    "            feature_columns = my_feature_columns,\n",
    "            hidden_units = inner_layers_architecture, # 1:-1 removes the first and last elements of the architecture\n",
    "            n_classes = num_classes, # num nodes of final layer\n",
    "            model_dir = save_folder_path, # value None means it will be saved in temp\n",
    "            activation_fn = ACTIVATION_FUNCTION, # activation function to use\n",
    "    )\n",
    "    \n",
    "    return classifier"
   ]
  },
  {
   "cell_type": "markdown",
   "metadata": {
    "colab_type": "text",
    "id": "fzTBovJQYMff"
   },
   "source": [
    "### Training Models"
   ]
  },
  {
   "cell_type": "code",
   "execution_count": 0,
   "metadata": {
    "colab": {
     "autoexec": {
      "startup": false,
      "wait_interval": 0
     }
    },
    "colab_type": "code",
    "id": "xUhAw86YYMfg"
   },
   "outputs": [],
   "source": [
    "SHUFFLE_PARAM = NUM_ITEMS * 10 #df.shape[0] * 10\n",
    "# helper function to yield a part of the training data to be used by TF's classifier.train method\n",
    "def _train_input_fn(features, labels):\n",
    "    # Convert the inputs to a Dataset.\n",
    "    dataset = tf.data.Dataset.from_tensor_slices((dict(features), labels))\n",
    "    \n",
    "    # Shuffle, repeat, and batch the examples. The shuffle argument should be larger than the number of examples\n",
    "    return dataset.shuffle(SHUFFLE_PARAM).repeat().batch(BATCH_SIZE)"
   ]
  },
  {
   "cell_type": "code",
   "execution_count": 0,
   "metadata": {
    "colab": {
     "autoexec": {
      "startup": false,
      "wait_interval": 0
     }
    },
    "colab_type": "code",
    "id": "uOQu0C5EYMfi"
   },
   "outputs": [],
   "source": [
    "# Train a model, given the train data and the number of steps\n",
    "def train_model(classifier, train_x, numeric_train_y, num_steps=1000):\n",
    "    classifier.train(input_fn=lambda:_train_input_fn(train_x, numeric_train_y), steps=num_steps)"
   ]
  },
  {
   "cell_type": "markdown",
   "metadata": {
    "colab_type": "text",
    "id": "w0eTzj18YMfk"
   },
   "source": [
    "### Evaluating Models"
   ]
  },
  {
   "cell_type": "code",
   "execution_count": 0,
   "metadata": {
    "colab": {
     "autoexec": {
      "startup": false,
      "wait_interval": 0
     }
    },
    "colab_type": "code",
    "id": "4q4OABeOYMfk"
   },
   "outputs": [],
   "source": [
    "# helper function for the classifier.evaluate method\n",
    "def _eval_input_fn(features, labels=None):\n",
    "    inputs = features if labels is None else (features, labels)\n",
    "    \n",
    "    # Convert inputs to a tf.dataset object. Batch the examples.\n",
    "    dataset = tf.data.Dataset.from_tensor_slices(inputs).batch(BATCH_SIZE)\n",
    "\n",
    "    # Return the read end of the pipeline.\n",
    "    return dataset.make_one_shot_iterator().get_next()"
   ]
  },
  {
   "cell_type": "code",
   "execution_count": 0,
   "metadata": {
    "colab": {
     "autoexec": {
      "startup": false,
      "wait_interval": 0
     }
    },
    "colab_type": "code",
    "id": "5gpLFlgJYMfm"
   },
   "outputs": [],
   "source": [
    "# Evaluate a model - returns a tuple (eval_results, global_step)\n",
    "def evaluate_model(classifier, test_x, numeric_test_y):\n",
    "    return classifier.evaluate(input_fn=lambda:_eval_input_fn(dict(test_x), numeric_test_y))"
   ]
  },
  {
   "cell_type": "code",
   "execution_count": 0,
   "metadata": {
    "colab": {
     "autoexec": {
      "startup": false,
      "wait_interval": 0
     }
    },
    "colab_type": "code",
    "id": "c34pC16IYMfs"
   },
   "outputs": [],
   "source": [
    "# predict from a trained model - returns a list of the predictions\n",
    "def predict_model(classifier, predict_x):\n",
    "    predictions = list(classifier.predict(input_fn=lambda:_eval_input_fn(dict(predict_x))))\n",
    "    return [el[\"class_ids\"][0] for el in predictions]"
   ]
  },
  {
   "cell_type": "markdown",
   "metadata": {
    "colab_type": "text",
    "id": "0-xSIY1IYMfw"
   },
   "source": [
    "### Dataset Splitting"
   ]
  },
  {
   "cell_type": "code",
   "execution_count": 0,
   "metadata": {
    "colab": {
     "autoexec": {
      "startup": false,
      "wait_interval": 0
     }
    },
    "colab_type": "code",
    "id": "CNc0wxT5YMfw"
   },
   "outputs": [],
   "source": [
    "# converts a list of strings into a list of IDs (numerical values) used for the classifier\n",
    "def _convert_labels_to_number(labels):\n",
    "    unique_labels = list(set(labels)) # list of unique values\n",
    "    return [unique_labels.index(l) for l in labels]"
   ]
  },
  {
   "cell_type": "code",
   "execution_count": 0,
   "metadata": {
    "colab": {
     "autoexec": {
      "startup": false,
      "wait_interval": 0
     }
    },
    "colab_type": "code",
    "id": "cFsw0BnUYMfz"
   },
   "outputs": [],
   "source": [
    "def _format_TF_data(train, test):\n",
    "    # split dataframes into X (features) and y (classes) - use species as label\n",
    "    train_x, train_y = train.iloc[:,:N_FEATURES], train.iloc[:,LABEL_INDEX:LABEL_INDEX+1]\n",
    "    test_x, test_y = test.iloc[:,:N_FEATURES], test.iloc[:,LABEL_INDEX:LABEL_INDEX+1]\n",
    "    \n",
    "    # for the 10 species, get a numerical mapping of the text name of that species (needed for DNN)\n",
    "    numeric_train_y = _convert_labels_to_number(train_y.iloc[:,0])\n",
    "    numeric_test_y  = _convert_labels_to_number(test_y.iloc[:,0])\n",
    "    \n",
    "    return (train_x, numeric_train_y, test_x, numeric_test_y)"
   ]
  },
  {
   "cell_type": "code",
   "execution_count": 0,
   "metadata": {
    "colab": {
     "autoexec": {
      "startup": false,
      "wait_interval": 0
     }
    },
    "colab_type": "code",
    "id": "iQ5J-3eDYMf2"
   },
   "outputs": [],
   "source": [
    "# Convert the features MFCCs_1 to MFCCs_22 into Tensorflow feature columns\n",
    "def get_TF_feature_columns(df):\n",
    "    data_df = df.iloc[:,:N_FEATURES]\n",
    "    return [tf.feature_column.numeric_column(key=key) for key in list(data_df)]"
   ]
  },
  {
   "cell_type": "markdown",
   "metadata": {
    "colab_type": "text",
    "id": "mgmcKIiMYMf6"
   },
   "source": [
    "#### Simple data splitting into Train and Test data"
   ]
  },
  {
   "cell_type": "code",
   "execution_count": 0,
   "metadata": {
    "colab": {
     "autoexec": {
      "startup": false,
      "wait_interval": 0
     }
    },
    "colab_type": "code",
    "id": "GzXQfKQyYMf6"
   },
   "outputs": [],
   "source": [
    "# returns a single iteration\n",
    "def simple_data_split_generator(df, labels, train_fraction):\n",
    "    train=df.sample(frac=train_fraction, random_state=int(time.time()))\n",
    "    test=df.drop(train.index)\n",
    "    yield _format_TF_data(train, test) # in a for loop gives one single loop"
   ]
  },
  {
   "cell_type": "markdown",
   "metadata": {
    "colab_type": "text",
    "id": "_a0gExKyYMf9"
   },
   "source": [
    "#### Cross Validation splitting into Train and Test data"
   ]
  },
  {
   "cell_type": "code",
   "execution_count": 0,
   "metadata": {
    "colab": {
     "autoexec": {
      "startup": false,
      "wait_interval": 0
     }
    },
    "colab_type": "code",
    "id": "1VS5ue6jYMf-"
   },
   "outputs": [],
   "source": [
    "def _split_data_by_indices(train_indices, test_indices):\n",
    "    train = df.iloc[train_indices]\n",
    "    test = df.iloc[test_indices]\n",
    "    return _format_TF_data(train, test)"
   ]
  },
  {
   "cell_type": "code",
   "execution_count": 0,
   "metadata": {
    "colab": {
     "autoexec": {
      "startup": false,
      "wait_interval": 0
     }
    },
    "colab_type": "code",
    "id": "iUQGETlOYMgA"
   },
   "outputs": [],
   "source": [
    "def _get_k_fold_CV_split_indices(df, labels, num_folds = 3):\n",
    "    k_fold = CROSS_VALIDATION_FUNCTION(n_splits = num_folds, shuffle=True)\n",
    "    return k_fold.split(df, labels)"
   ]
  },
  {
   "cell_type": "code",
   "execution_count": 0,
   "metadata": {
    "colab": {
     "autoexec": {
      "startup": false,
      "wait_interval": 0
     }
    },
    "colab_type": "code",
    "id": "oWlK5gV_YMgB"
   },
   "outputs": [],
   "source": [
    "def kFoldCV_tf_data_generator(df, labels, train_fraction):\n",
    "    num_folds = int(1.0 / (1.0 - train_fraction))\n",
    "    for train_indices, test_indices in _get_k_fold_CV_split_indices(df, labels, num_folds):\n",
    "        yield(_split_data_by_indices(train_indices, test_indices))"
   ]
  },
  {
   "cell_type": "markdown",
   "metadata": {
    "colab_type": "text",
    "id": "lFMFrFf6YMgE"
   },
   "source": [
    "### Hyper-Parameter Tuning\n",
    "Given a dataset, the respective labels, a function to split the data and another to calculate the number of steps, this function iterates over all the defined architectures in **INNER_LAYERS** and over all the **NUM_STEPS** and over all the  **TRAIN_FRACTIONS** and does the following:\n",
    " * Split the data accordingly\n",
    " * Train the model\n",
    " * Evaluate the model\n",
    " * Report the results\n",
    " \n",
    "This can be used for quick comparison of multiple combinations of architectures, number of steps and train fractions, essentially tuning **hyper-parameters**. More can hyper-parameters can be added if needed."
   ]
  },
  {
   "cell_type": "code",
   "execution_count": 0,
   "metadata": {
    "colab": {
     "autoexec": {
      "startup": false,
      "wait_interval": 0
     }
    },
    "colab_type": "code",
    "id": "Bqhq0_t3YMgF"
   },
   "outputs": [],
   "source": [
    "def run_model_iterations(df, labels, data_generator):\n",
    "    evaluations = []\n",
    "    for inner_architecture in INNER_LAYERS:\n",
    "        #drawNN([N_FEATURES] + inner_architecture + [NUM_CLASSES])\n",
    "        for num_steps in NUM_STEPS:\n",
    "            for train_fraction in TRAIN_FRACTIONS:\n",
    "                my_feature_columns = get_TF_feature_columns(df) # seems to need to generate one for each estimator\n",
    "                classifier = create_DNN(my_feature_columns, inner_architecture)\n",
    "                (train_x, numeric_train_y, test_x, numeric_test_y) = next(data_generator(df, labels, train_fraction))\n",
    "                train_model(classifier, train_x, numeric_train_y, num_steps)\n",
    "                eval_result = evaluate_model(classifier, test_x, numeric_test_y)\n",
    "                predictions = predict_model(classifier, test_x)\n",
    "                # evaluation results, only the results of the last evaluation and prediction done on estimator\n",
    "                evaluations.append({\"config\": (inner_architecture, train_fraction, num_steps), \"eval_result\" : eval_result, \"prediction\": (np.array(predictions), np.array(numeric_test_y))})\n",
    "    html(\"Model iterations complete\", \"h1\")\n",
    "    return evaluations # evaluations can have duplicate 'keys' if k-fold is used"
   ]
  },
  {
   "cell_type": "markdown",
   "metadata": {
    "colab_type": "text",
    "id": "134GS83HYMgH"
   },
   "source": [
    "## Evaluation Metrics Used\n",
    "\n",
    "From the confusion matrix, we derive the number of **true positives** (`TP`), **false positives** (`FP`), **true negatives** (`TN`) and **false negatives** (`FN`).\n",
    "\n",
    "<img src=\"report_material/images/multiclass_confusion.png\" width=\"300px\" />\n",
    "<p style=\"text-align:center\">Image of a confusion matrix for a multiclass classification problem</p>\n",
    "\n",
    "$ precision = \\frac{ TP}{TP + FP} $\n",
    "\n",
    "$ recall  = \\frac{TP}{TP + FN} $\n",
    "\n",
    "$ accuracy = \\frac{TP + TN}{TP + FP + FN + TN} $\n",
    "\n",
    "$ F1-score = 2 \\cdot \\frac{precision\\cdot recall}{precision+ recall} $\n",
    "\n",
    "Further metrics such as **specificity**, **negative predictive value**, **false positive rate**, **false negative rate** and **false discovery rate** were also calculated, but were not considered when making model decisions"
   ]
  },
  {
   "cell_type": "code",
   "execution_count": 0,
   "metadata": {
    "colab": {
     "autoexec": {
      "startup": false,
      "wait_interval": 0
     }
    },
    "colab_type": "code",
    "id": "W_Hc2C4sYMgI"
   },
   "outputs": [],
   "source": [
    "# calculate metrics based on confusion matrix -> precision, recall, f1, ...\n",
    "def print_metrics(prediction, confusion_matrix):\n",
    "    predicted, actual = prediction\n",
    "    \n",
    "    # get values from confusion matrix for each class\n",
    "    FP = confusion_matrix.sum(axis=0) - np.diag(confusion_matrix) # false positives\n",
    "    FN = confusion_matrix.sum(axis=1) - np.diag(confusion_matrix) # false negatives\n",
    "    TP = np.diag(confusion_matrix)  # true positives\n",
    "    TN = confusion_matrix.sum() - (FP + FN + TP) # true negatives\n",
    "\n",
    "    # calculate metrics\n",
    "    TPR = TP/(TP+FN) # Recall, sensitivity, hit rate, or true positive rate\n",
    "    TNR = TN/(TN+FP) # Specificity or true negative rate\n",
    "    PPV = TP/(TP+FP) # Precision or positive predictive value\n",
    "    NPV = TN/(TN+FN) # Negative predictive value\n",
    "    FPR = FP/(FP+TN) # Fall out or false positive rate\n",
    "    FNR = FN/(TP+FN) # False negative rate\n",
    "    FDR = FP/(TP+FP) # False discovery rate\n",
    "    F1  =  2 * ((PPV * TPR) / (PPV + TPR)) # f1-score\n",
    "    ACC = (TP+TN)/(TP+FP+FN+TN) # accuracy\n",
    "    \n",
    "    #overall values in percentage\n",
    "    metrics = tuple(map(lambda v: np.nanmean(v) * 100, [ACC, PPV, TPR, F1]))\n",
    "    \n",
    "    # create the table with the statistics\n",
    "    header = tag(\"tr\", \"<th>Species</th><th>Accuracy</th> <th>Precision</th> <th>Recall</th> <th>F1-score</th>\")\n",
    "    body = \"\"\n",
    "    footer = tag(\"tr\", \"<th>Average</th><th>%.2f%%</th> <th>%.2f%%</th> <th>%.2f%%</th> <th>%.2f%%</th>\" % metrics)\n",
    "    for i in range(len(TP)):\n",
    "        body += tag(\"tr\", \"<td>%s</td><td>%.2f%%</td> <td>%.2f%%</td> <td>%.2f%%</td> <td>%.2f%%</td>\" % (i, ACC[i] * 100, PPV[i] * 100, TPR[i] * 100, F1[i] * 100))\n",
    "        \n",
    "    table = \"<table style='font-size:16px;margin-left:auto;margin-right:auto;'>%s%s%s</table>\" % (header, body, footer)\n",
    "    html(table)\n",
    "    return metrics"
   ]
  },
  {
   "cell_type": "code",
   "execution_count": 0,
   "metadata": {
    "colab": {
     "autoexec": {
      "startup": false,
      "wait_interval": 0
     }
    },
    "colab_type": "code",
    "id": "_vxhgrtJYMgK"
   },
   "outputs": [],
   "source": [
    "# print a confusion matrix after a prediction\n",
    "def get_confusion_matrix(prediction):\n",
    "    predicted, actual = prediction\n",
    "    con_mat = tf.confusion_matrix(actual, predicted, num_classes=NUM_CLASSES)\n",
    "    with tf.Session():\n",
    "        return tf.Tensor.eval(con_mat,feed_dict=None, session=None)"
   ]
  },
  {
   "cell_type": "markdown",
   "metadata": {
    "colab_type": "text",
    "id": "dlyUaCfOYMgM"
   },
   "source": [
    "### Functions to display and describe the output of a model"
   ]
  },
  {
   "cell_type": "code",
   "execution_count": 0,
   "metadata": {
    "colab": {
     "autoexec": {
      "startup": false,
      "wait_interval": 0
     }
    },
    "colab_type": "code",
    "id": "OBEXBJsGYMgN"
   },
   "outputs": [],
   "source": [
    "def print_configs(configs):\n",
    "    header = tag(\"tr\", \"<th>Hidden Layers</th><th>Training Fraction</th> <th>Number of Steps</th>\")\n",
    "    body = tag(\"tr\", \"<th>%s</th><th>%.0f%%</th><th>%s</th>\" % (configs[0], configs[1] * 100, configs[2]))\n",
    "    table = \"<table style='font-size:16px;margin-left:auto;margin-right:auto;text-align=center'>%s%s</table>\" % (header, body)\n",
    "    html(table)"
   ]
  },
  {
   "cell_type": "code",
   "execution_count": 0,
   "metadata": {
    "colab": {
     "autoexec": {
      "startup": false,
      "wait_interval": 0
     }
    },
    "colab_type": "code",
    "id": "CKrGLrHuYMgO"
   },
   "outputs": [],
   "source": [
    "def display_model_results(evaluations):\n",
    "    # show results, statistics\n",
    "    print('Num Results: %d' % len(evaluations))\n",
    "    chart_data = [] # data to create charts later\n",
    "    for i, e in enumerate(evaluations):\n",
    "        confusion_matrix = get_confusion_matrix(e[\"prediction\"])\n",
    "        html(\"<h2 style='text-align:center'>Iteration %d</h2>\" % (i+1))\n",
    "        \n",
    "        print_configs(e[\"config\"])\n",
    "#         drawNN(e[\"config\"][0], (7,7))\n",
    "        \n",
    "        html(\"Confusion Matrix:\", \"h4\")\n",
    "        html(\"<br/>\")\n",
    "        print(confusion_matrix)\n",
    "        \n",
    "        metrics = print_metrics(e[\"prediction\"], confusion_matrix)\n",
    "        \n",
    "        html(\"<hr>\")\n",
    "        \n",
    "        chart_data.append((e[\"config\"], metrics)) # config, [ACC, PPV, TPR, F1]\n",
    "    display_model_comparison(chart_data)"
   ]
  },
  {
   "cell_type": "code",
   "execution_count": 0,
   "metadata": {
    "colab": {
     "autoexec": {
      "startup": false,
      "wait_interval": 0
     }
    },
    "colab_type": "code",
    "id": "VFDuKvX_YMgQ"
   },
   "outputs": [],
   "source": [
    "# compare different architectures, train ratios and number of steps\n",
    "def display_model_comparison(chart_data):\n",
    "#     print(chart_data)\n",
    "#     plt.rcParams.update({'font.size': 16})\n",
    "    for percentage in TRAIN_FRACTIONS:\n",
    "        plt.figure(figsize=(20,10));\n",
    "        for layers in INNER_LAYERS:\n",
    "            x, y = [], []\n",
    "            for data in chart_data:\n",
    "                if data[0][0] == layers and data[0][1] == percentage:\n",
    "                    x.append(data[0][2])\n",
    "                    y.append(data[1][0])\n",
    "            plt.plot(x, y, '-', label=\"%s layers\" % layers)\n",
    "\n",
    "\n",
    "        for steps in NUM_STEPS:\n",
    "            y = []\n",
    "            for data in chart_data:\n",
    "                if data[0][2] == steps and data[0][1] == percentage:\n",
    "                    y.append(data[1][0])\n",
    "            plt.plot([steps] * len(y), y, 'x', label=\"%4d steps\"%steps, markersize=16)\n",
    "\n",
    "        plt.title('Evolution of Accuracy for a training fraction of %.f%%' % (percentage * 100))\n",
    "        plt.legend(loc='best')\n",
    "        plt.show()"
   ]
  },
  {
   "cell_type": "markdown",
   "metadata": {
    "colab_type": "text",
    "id": "TdpNLv-3YMgS"
   },
   "source": [
    "# Main"
   ]
  },
  {
   "cell_type": "markdown",
   "metadata": {
    "colab_type": "text",
    "id": "nQmUoq-qYMgS"
   },
   "source": [
    "### Loading Data"
   ]
  },
  {
   "cell_type": "code",
   "execution_count": 25,
   "metadata": {
    "colab": {
     "autoexec": {
      "startup": false,
      "wait_interval": 0
     },
     "base_uri": "https://localhost:8080/",
     "height": 90
    },
    "colab_type": "code",
    "executionInfo": {
     "elapsed": 7005,
     "status": "ok",
     "timestamp": 1526633135712,
     "user": {
      "displayName": "Miguel Ramalho",
      "photoUrl": "//lh6.googleusercontent.com/-jjJPjyHB8Us/AAAAAAAAAAI/AAAAAAAAIgA/iRzSPgPaB_o/s50-c-k-no/photo.jpg",
      "userId": "103480353348288276211"
     },
     "user_tz": -60
    },
    "id": "zJv8x6YoZRLR",
    "outputId": "73876e5f-de81-45dc-a9c4-0136a28c8274"
   },
   "outputs": [
    {
     "name": "stdout",
     "output_type": "stream",
     "text": [
      "Downloaded content \"FCCs_12,MFCCs_13,MFCCs_14,MFCCs_15,MFCCs_16,MFCCs_17,MFCCs_18,MFCCs_19,MFCCs_20,MFCCs_21,MFCCs_22,Family,Genus,Species,RecordID\n",
      "1,0.152936298220384,-0.105585902844019,0.200721914808566,0.317201062343259,0.260763853131077,0.100944640810053,-0.150062604917616,-0.17112763198601,0.124676436148438,0.188654145822323,-0.0756217229244772,-0.156435925226375,0.0822451152835443,0.135752042383891,-0.0240166450287792,-0.108351107221198,-0.0776225214037558,-0.00956780151914234,0.0576839754007957,0.118680135068692,0.0140384456733697,Leptodactylidae,Adenomera,AdenomeraAndre,1\n",
      "1,0.171534257314109,-0.0989747371205295,0.268425220827017,0.338671862995453,0.268353099863332,0.0608350871920449,-0.222474640379244,-0.207692670568256,0.170882873543032,0.27095827998887,-0.0950039445276873,-0.254341468381362,0.0227862345814336,0.163320101050209,0.0120222808645159,-0.0909740108032878,-0.0565095219192882,-0.035303356\"\n"
     ]
    }
   ],
   "source": [
    "# Install the PyDrive wrapper & import libraries.\n",
    "# This only needs to be done once per notebook.\n",
    "!pip install -U -q PyDrive\n",
    "from pydrive.auth import GoogleAuth\n",
    "from pydrive.drive import GoogleDrive\n",
    "from google.colab import auth\n",
    "from oauth2client.client import GoogleCredentials\n",
    "\n",
    "# Authenticate and create the PyDrive client.\n",
    "# This only needs to be done once per notebook.\n",
    "auth.authenticate_user()\n",
    "gauth = GoogleAuth()\n",
    "gauth.credentials = GoogleCredentials.get_application_default()\n",
    "drive = GoogleDrive(gauth)\n",
    " \n",
    "# Download a file based on its file ID.\n",
    "#\n",
    "# A file ID looks like: laggVyWshwcyP6kEI-y_W3P8D26sz\n",
    "file_id = '1FgfTiJIKbkHLg3xtajFrNTK4ef5m0VuT'\n",
    "downloaded = drive.CreateFile({'id': file_id})\n",
    "print('Downloaded content \"{}\"'.format(downloaded.GetContentString()[100:1000]))"
   ]
  },
  {
   "cell_type": "code",
   "execution_count": 26,
   "metadata": {
    "colab": {
     "autoexec": {
      "startup": false,
      "wait_interval": 0
     },
     "base_uri": "https://localhost:8080/",
     "height": 261
    },
    "colab_type": "code",
    "executionInfo": {
     "elapsed": 591,
     "status": "ok",
     "timestamp": 1526633136341,
     "user": {
      "displayName": "Miguel Ramalho",
      "photoUrl": "//lh6.googleusercontent.com/-jjJPjyHB8Us/AAAAAAAAAAI/AAAAAAAAIgA/iRzSPgPaB_o/s50-c-k-no/photo.jpg",
      "userId": "103480353348288276211"
     },
     "user_tz": -60
    },
    "id": "S15_20PrYMgT",
    "outputId": "d535028a-906b-46cd-af94-2dad000d5123"
   },
   "outputs": [
    {
     "name": "stdout",
     "output_type": "stream",
     "text": [
      "Got 7195 examples from the .csv\n"
     ]
    },
    {
     "data": {
      "text/html": [
       "<div>\n",
       "<style scoped>\n",
       "    .dataframe tbody tr th:only-of-type {\n",
       "        vertical-align: middle;\n",
       "    }\n",
       "\n",
       "    .dataframe tbody tr th {\n",
       "        vertical-align: top;\n",
       "    }\n",
       "\n",
       "    .dataframe thead th {\n",
       "        text-align: right;\n",
       "    }\n",
       "</style>\n",
       "<table border=\"1\" class=\"dataframe\">\n",
       "  <thead>\n",
       "    <tr style=\"text-align: right;\">\n",
       "      <th></th>\n",
       "      <th>MFCCs_1</th>\n",
       "      <th>MFCCs_2</th>\n",
       "      <th>MFCCs_3</th>\n",
       "      <th>MFCCs_4</th>\n",
       "      <th>MFCCs_5</th>\n",
       "      <th>MFCCs_6</th>\n",
       "      <th>MFCCs_7</th>\n",
       "      <th>MFCCs_8</th>\n",
       "      <th>MFCCs_9</th>\n",
       "      <th>MFCCs_10</th>\n",
       "      <th>...</th>\n",
       "      <th>MFCCs_17</th>\n",
       "      <th>MFCCs_18</th>\n",
       "      <th>MFCCs_19</th>\n",
       "      <th>MFCCs_20</th>\n",
       "      <th>MFCCs_21</th>\n",
       "      <th>MFCCs_22</th>\n",
       "      <th>Family</th>\n",
       "      <th>Genus</th>\n",
       "      <th>Species</th>\n",
       "      <th>RecordID</th>\n",
       "    </tr>\n",
       "  </thead>\n",
       "  <tbody>\n",
       "    <tr>\n",
       "      <th>0</th>\n",
       "      <td>1.0</td>\n",
       "      <td>0.152936</td>\n",
       "      <td>-0.105586</td>\n",
       "      <td>0.200722</td>\n",
       "      <td>0.317201</td>\n",
       "      <td>0.260764</td>\n",
       "      <td>0.100945</td>\n",
       "      <td>-0.150063</td>\n",
       "      <td>-0.171128</td>\n",
       "      <td>0.124676</td>\n",
       "      <td>...</td>\n",
       "      <td>-0.108351</td>\n",
       "      <td>-0.077623</td>\n",
       "      <td>-0.009568</td>\n",
       "      <td>0.057684</td>\n",
       "      <td>0.118680</td>\n",
       "      <td>0.014038</td>\n",
       "      <td>Leptodactylidae</td>\n",
       "      <td>Adenomera</td>\n",
       "      <td>AdenomeraAndre</td>\n",
       "      <td>1</td>\n",
       "    </tr>\n",
       "    <tr>\n",
       "      <th>1</th>\n",
       "      <td>1.0</td>\n",
       "      <td>0.171534</td>\n",
       "      <td>-0.098975</td>\n",
       "      <td>0.268425</td>\n",
       "      <td>0.338672</td>\n",
       "      <td>0.268353</td>\n",
       "      <td>0.060835</td>\n",
       "      <td>-0.222475</td>\n",
       "      <td>-0.207693</td>\n",
       "      <td>0.170883</td>\n",
       "      <td>...</td>\n",
       "      <td>-0.090974</td>\n",
       "      <td>-0.056510</td>\n",
       "      <td>-0.035303</td>\n",
       "      <td>0.020140</td>\n",
       "      <td>0.082263</td>\n",
       "      <td>0.029056</td>\n",
       "      <td>Leptodactylidae</td>\n",
       "      <td>Adenomera</td>\n",
       "      <td>AdenomeraAndre</td>\n",
       "      <td>1</td>\n",
       "    </tr>\n",
       "    <tr>\n",
       "      <th>2</th>\n",
       "      <td>1.0</td>\n",
       "      <td>0.152317</td>\n",
       "      <td>-0.082973</td>\n",
       "      <td>0.287128</td>\n",
       "      <td>0.276014</td>\n",
       "      <td>0.189867</td>\n",
       "      <td>0.008714</td>\n",
       "      <td>-0.242234</td>\n",
       "      <td>-0.219153</td>\n",
       "      <td>0.232538</td>\n",
       "      <td>...</td>\n",
       "      <td>-0.050691</td>\n",
       "      <td>-0.023590</td>\n",
       "      <td>-0.066722</td>\n",
       "      <td>-0.025083</td>\n",
       "      <td>0.099108</td>\n",
       "      <td>0.077162</td>\n",
       "      <td>Leptodactylidae</td>\n",
       "      <td>Adenomera</td>\n",
       "      <td>AdenomeraAndre</td>\n",
       "      <td>1</td>\n",
       "    </tr>\n",
       "    <tr>\n",
       "      <th>3</th>\n",
       "      <td>1.0</td>\n",
       "      <td>0.224392</td>\n",
       "      <td>0.118985</td>\n",
       "      <td>0.329432</td>\n",
       "      <td>0.372088</td>\n",
       "      <td>0.361005</td>\n",
       "      <td>0.015501</td>\n",
       "      <td>-0.194347</td>\n",
       "      <td>-0.098181</td>\n",
       "      <td>0.270375</td>\n",
       "      <td>...</td>\n",
       "      <td>-0.136009</td>\n",
       "      <td>-0.177037</td>\n",
       "      <td>-0.130498</td>\n",
       "      <td>-0.054766</td>\n",
       "      <td>-0.018691</td>\n",
       "      <td>0.023954</td>\n",
       "      <td>Leptodactylidae</td>\n",
       "      <td>Adenomera</td>\n",
       "      <td>AdenomeraAndre</td>\n",
       "      <td>1</td>\n",
       "    </tr>\n",
       "    <tr>\n",
       "      <th>4</th>\n",
       "      <td>1.0</td>\n",
       "      <td>0.087817</td>\n",
       "      <td>-0.068345</td>\n",
       "      <td>0.306967</td>\n",
       "      <td>0.330923</td>\n",
       "      <td>0.249144</td>\n",
       "      <td>0.006884</td>\n",
       "      <td>-0.265423</td>\n",
       "      <td>-0.172700</td>\n",
       "      <td>0.266434</td>\n",
       "      <td>...</td>\n",
       "      <td>-0.048885</td>\n",
       "      <td>-0.053074</td>\n",
       "      <td>-0.088550</td>\n",
       "      <td>-0.031346</td>\n",
       "      <td>0.108610</td>\n",
       "      <td>0.079244</td>\n",
       "      <td>Leptodactylidae</td>\n",
       "      <td>Adenomera</td>\n",
       "      <td>AdenomeraAndre</td>\n",
       "      <td>1</td>\n",
       "    </tr>\n",
       "  </tbody>\n",
       "</table>\n",
       "<p>5 rows × 26 columns</p>\n",
       "</div>"
      ],
      "text/plain": [
       "   MFCCs_1   MFCCs_2   MFCCs_3   MFCCs_4   MFCCs_5   MFCCs_6   MFCCs_7  \\\n",
       "0      1.0  0.152936 -0.105586  0.200722  0.317201  0.260764  0.100945   \n",
       "1      1.0  0.171534 -0.098975  0.268425  0.338672  0.268353  0.060835   \n",
       "2      1.0  0.152317 -0.082973  0.287128  0.276014  0.189867  0.008714   \n",
       "3      1.0  0.224392  0.118985  0.329432  0.372088  0.361005  0.015501   \n",
       "4      1.0  0.087817 -0.068345  0.306967  0.330923  0.249144  0.006884   \n",
       "\n",
       "    MFCCs_8   MFCCs_9  MFCCs_10    ...     MFCCs_17  MFCCs_18  MFCCs_19  \\\n",
       "0 -0.150063 -0.171128  0.124676    ...    -0.108351 -0.077623 -0.009568   \n",
       "1 -0.222475 -0.207693  0.170883    ...    -0.090974 -0.056510 -0.035303   \n",
       "2 -0.242234 -0.219153  0.232538    ...    -0.050691 -0.023590 -0.066722   \n",
       "3 -0.194347 -0.098181  0.270375    ...    -0.136009 -0.177037 -0.130498   \n",
       "4 -0.265423 -0.172700  0.266434    ...    -0.048885 -0.053074 -0.088550   \n",
       "\n",
       "   MFCCs_20  MFCCs_21  MFCCs_22           Family      Genus         Species  \\\n",
       "0  0.057684  0.118680  0.014038  Leptodactylidae  Adenomera  AdenomeraAndre   \n",
       "1  0.020140  0.082263  0.029056  Leptodactylidae  Adenomera  AdenomeraAndre   \n",
       "2 -0.025083  0.099108  0.077162  Leptodactylidae  Adenomera  AdenomeraAndre   \n",
       "3 -0.054766 -0.018691  0.023954  Leptodactylidae  Adenomera  AdenomeraAndre   \n",
       "4 -0.031346  0.108610  0.079244  Leptodactylidae  Adenomera  AdenomeraAndre   \n",
       "\n",
       "   RecordID  \n",
       "0         1  \n",
       "1         1  \n",
       "2         1  \n",
       "3         1  \n",
       "4         1  \n",
       "\n",
       "[5 rows x 26 columns]"
      ]
     },
     "execution_count": 26,
     "metadata": {
      "tags": []
     },
     "output_type": "execute_result"
    }
   ],
   "source": [
    "# from csv to pandas Dataframe\n",
    "# df = pd.read_csv(DATASET_PATH)\n",
    "df = pd.read_csv(io.StringIO(downloaded.GetContentString()))\n",
    "df.columns = df.columns.str.replace(\" \", \"\") # remove whitespace, needed for TF\n",
    "\n",
    "print(\"Got %d examples from the .csv\" % df.shape[0])\n",
    "df.head()"
   ]
  },
  {
   "cell_type": "code",
   "execution_count": 0,
   "metadata": {
    "colab": {
     "autoexec": {
      "startup": false,
      "wait_interval": 0
     }
    },
    "colab_type": "code",
    "id": "u0deV-pLYMgW"
   },
   "outputs": [],
   "source": [
    "# get a mapping of all the labels in the Dataset into its integer values (required for Stratified Cross Validation)\n",
    "labels = _convert_labels_to_number(df.iloc[:,LABEL_INDEX:LABEL_INDEX+1].iloc[:,0])"
   ]
  },
  {
   "cell_type": "code",
   "execution_count": 28,
   "metadata": {
    "colab": {
     "autoexec": {
      "startup": false,
      "wait_interval": 0
     },
     "base_uri": "https://localhost:8080/",
     "height": 502
    },
    "colab_type": "code",
    "executionInfo": {
     "elapsed": 1019,
     "status": "ok",
     "timestamp": 1526633138141,
     "user": {
      "displayName": "Miguel Ramalho",
      "photoUrl": "//lh6.googleusercontent.com/-jjJPjyHB8Us/AAAAAAAAAAI/AAAAAAAAIgA/iRzSPgPaB_o/s50-c-k-no/photo.jpg",
      "userId": "103480353348288276211"
     },
     "user_tz": -60
    },
    "id": "A9V-ZmD8YMgY",
    "outputId": "7befe545-701a-4e73-cf12-0690d356fb2c"
   },
   "outputs": [
    {
     "data": {
      "image/png": "[encoded data removed]",
      "text/plain": [
       "<matplotlib.figure.Figure at 0x7fdcdded0ac8>"
      ]
     },
     "metadata": {
      "tags": []
     },
     "output_type": "display_data"
    }
   ],
   "source": [
    "# draw dataset distribution\n",
    "draw_species_distribution_chart(df)"
   ]
  },
  {
   "cell_type": "markdown",
   "metadata": {
    "colab_type": "text",
    "id": "z5MJ8sxRYMgb"
   },
   "source": [
    "### Running iterations"
   ]
  },
  {
   "cell_type": "code",
   "execution_count": 0,
   "metadata": {
    "colab": {
     "autoexec": {
      "startup": false,
      "wait_interval": 0
     }
    },
    "colab_type": "code",
    "id": "KzgcNGRCYMgc"
   },
   "outputs": [],
   "source": [
    "### Iterations\n",
    "\n",
    "# modify here to set model configurations\n",
    "INNER_LAYERS = [\n",
    "    [10],\n",
    "    [100],\n",
    "    [10, 10],\n",
    "    [100, 100],\n",
    "    [10, 10, 10],\n",
    "    [100, 100, 100],\n",
    "    [100, 50, 25],\n",
    "    [25, 50, 100]\n",
    "]\n",
    "\n",
    "TRAIN_FRACTIONS = [\n",
    "    0.8,\n",
    "    0.5,\n",
    "]\n",
    "\n",
    "NUM_STEPS = [\n",
    "    100, \n",
    "    200,\n",
    "    500,\n",
    "    1000,\n",
    "    1500,\n",
    "    2000\n",
    "]"
   ]
  },
  {
   "cell_type": "markdown",
   "metadata": {
    "colab_type": "text",
    "id": "T-XBCtUHYMgd"
   },
   "source": [
    "### Initial approach to dataset splitting\n",
    "Random split into train and test\n",
    "\n",
    "**Warning:** Depending on the complexity of the architecture and the number of steps in the training, this operation may take some time"
   ]
  },
  {
   "cell_type": "code",
   "execution_count": 0,
   "metadata": {
    "colab": {
     "autoexec": {
      "startup": false,
      "wait_interval": 0
     }
    },
    "colab_type": "code",
    "id": "fFH49-6BYMge"
   },
   "outputs": [],
   "source": [
    "# this may take a while\n",
    "#evaluations = run_model_iterations(df, labels, simple_data_split_generator)    "
   ]
  },
  {
   "cell_type": "code",
   "execution_count": 0,
   "metadata": {
    "colab": {
     "autoexec": {
      "startup": false,
      "wait_interval": 0
     }
    },
    "colab_type": "code",
    "id": "DPexSqk1YMgg"
   },
   "outputs": [],
   "source": [
    "# simple data splitting results\n",
    "#display_model_results(evaluations)"
   ]
  },
  {
   "cell_type": "markdown",
   "metadata": {
    "colab_type": "text",
    "id": "JWXcleIxYMgo"
   },
   "source": [
    "### Cross-Validation approach to dataset splitting\n",
    "In **k-fold** cross-validation, the original sample is randomly partitioned into k equal size subsamples.\n",
    "\n",
    "In **stratified k-fold** cross-validation, the folds are selected so that the mean response value is approximately equal in all the folds.\n",
    "\n",
    "To use one or the other, update the global setting `CROSS_VALIDATION_FUNCTION` in the [Initialize constants](#Initialize-constants) section\n",
    "\n",
    "**Warning:** Depending on the complexity of the architecture and the number of steps in the training, this operation may take some time"
   ]
  },
  {
   "cell_type": "code",
   "execution_count": 32,
   "metadata": {
    "colab": {
     "autoexec": {
      "startup": false,
      "wait_interval": 0
     },
     "base_uri": "https://localhost:8080/",
     "height": 74495
    },
    "colab_type": "code",
    "executionInfo": {
     "elapsed": 874914,
     "status": "ok",
     "timestamp": 1526634015186,
     "user": {
      "displayName": "Miguel Ramalho",
      "photoUrl": "//lh6.googleusercontent.com/-jjJPjyHB8Us/AAAAAAAAAAI/AAAAAAAAIgA/iRzSPgPaB_o/s50-c-k-no/photo.jpg",
      "userId": "103480353348288276211"
     },
     "user_tz": -60
    },
    "id": "1uogSgCWYMgp",
    "outputId": "45eb878d-929f-4476-db75-3af51aaee0a8"
   },
   "outputs": [
    {
     "name": "stdout",
     "output_type": "stream",
     "text": [
      "INFO:tensorflow:Using default config.\n",
      "WARNING:tensorflow:Using temporary folder as model directory: /tmp/tmpqadilbp5\n",
      "INFO:tensorflow:Using config: {'_model_dir': '/tmp/tmpqadilbp5', '_tf_random_seed': None, '_save_summary_steps': 100, '_save_checkpoints_steps': None, '_save_checkpoints_secs': 600, '_session_config': None, '_keep_checkpoint_max': 5, '_keep_checkpoint_every_n_hours': 10000, '_log_step_count_steps': 100, '_service': None, '_cluster_spec': <tensorflow.python.training.server_lib.ClusterSpec object at 0x7fdcdd1fb668>, '_task_type': 'worker', '_task_id': 0, '_global_id_in_cluster': 0, '_master': '', '_evaluation_master': '', '_is_chief': True, '_num_ps_replicas': 0, '_num_worker_replicas': 1}\n",
      "INFO:tensorflow:Calling model_fn.\n",
      "INFO:tensorflow:Done calling model_fn.\n",
      "INFO:tensorflow:Create CheckpointSaverHook.\n",
      "INFO:tensorflow:Graph was finalized.\n",
      "INFO:tensorflow:Running local_init_op.\n",
      "INFO:tensorflow:Done running local_init_op.\n",
      "INFO:tensorflow:Saving checkpoints for 1 into /tmp/tmpqadilbp5/model.ckpt.\n",
      "INFO:tensorflow:loss = 230.92632, step = 0\n",
      "INFO:tensorflow:Saving checkpoints for 100 into /tmp/tmpqadilbp5/model.ckpt.\n",
      "INFO:tensorflow:Loss for final step: 113.13553.\n",
      "INFO:tensorflow:Calling model_fn.\n",
      "INFO:tensorflow:Done calling model_fn.\n",
      "INFO:tensorflow:Starting evaluation at 2018-05-18-08:45:46\n",
      "INFO:tensorflow:Graph was finalized.\n",
      "INFO:tensorflow:Restoring parameters from /tmp/tmpqadilbp5/model.ckpt-100\n",
      "INFO:tensorflow:Running local_init_op.\n",
      "INFO:tensorflow:Done running local_init_op.\n",
      "INFO:tensorflow:Finished evaluation at 2018-05-18-08:45:46\n",
      "INFO:tensorflow:Saving dict for global step 100: accuracy = 0.6680527, average_loss = 1.064157, global_step = 100, loss = 102.3719\n",
      "INFO:tensorflow:Calling model_fn.\n",
      "INFO:tensorflow:Done calling model_fn.\n",
      "INFO:tensorflow:Graph was finalized.\n",
      "INFO:tensorflow:Restoring parameters from /tmp/tmpqadilbp5/model.ckpt-100\n",
      "INFO:tensorflow:Running local_init_op.\n",
      "INFO:tensorflow:Done running local_init_op.\n",
      "INFO:tensorflow:Using default config.\n",
      "WARNING:tensorflow:Using temporary folder as model directory: /tmp/tmpxktm0im3\n",
      "INFO:tensorflow:Using config: {'_model_dir': '/tmp/tmpxktm0im3', '_tf_random_seed': None, '_save_summary_steps': 100, '_save_checkpoints_steps': None, '_save_checkpoints_secs': 600, '_session_config': None, '_keep_checkpoint_max': 5, '_keep_checkpoint_every_n_hours': 10000, '_log_step_count_steps': 100, '_service': None, '_cluster_spec': <tensorflow.python.training.server_lib.ClusterSpec object at 0x7fdcd695ce10>, '_task_type': 'worker', '_task_id': 0, '_global_id_in_cluster': 0, '_master': '', '_evaluation_master': '', '_is_chief': True, '_num_ps_replicas': 0, '_num_worker_replicas': 1}\n",
      "INFO:tensorflow:Calling model_fn.\n",
      "INFO:tensorflow:Done calling model_fn.\n",
      "INFO:tensorflow:Create CheckpointSaverHook.\n",
      "INFO:tensorflow:Graph was finalized.\n",
      "INFO:tensorflow:Running local_init_op.\n",
      "INFO:tensorflow:Done running local_init_op.\n",
      "INFO:tensorflow:Saving checkpoints for 1 into /tmp/tmpxktm0im3/model.ckpt.\n",
      "INFO:tensorflow:loss = 239.98642, step = 0\n",
      "INFO:tensorflow:Saving checkpoints for 100 into /tmp/tmpxktm0im3/model.ckpt.\n",
      "INFO:tensorflow:Loss for final step: 109.963326.\n",
      "INFO:tensorflow:Calling model_fn.\n",
      "INFO:tensorflow:Done calling model_fn.\n",
      "INFO:tensorflow:Starting evaluation at 2018-05-18-08:45:49\n",
      "INFO:tensorflow:Graph was finalized.\n",
      "INFO:tensorflow:Restoring parameters from /tmp/tmpxktm0im3/model.ckpt-100\n",
      "INFO:tensorflow:Running local_init_op.\n",
      "INFO:tensorflow:Done running local_init_op.\n",
      "INFO:tensorflow:Finished evaluation at 2018-05-18-08:45:50\n",
      "INFO:tensorflow:Saving dict for global step 100: accuracy = 0.62229013, average_loss = 1.069115, global_step = 100, loss = 106.85211\n",
      "INFO:tensorflow:Calling model_fn.\n",
      "INFO:tensorflow:Done calling model_fn.\n",
      "INFO:tensorflow:Graph was finalized.\n",
      "INFO:tensorflow:Restoring parameters from /tmp/tmpxktm0im3/model.ckpt-100\n",
      "INFO:tensorflow:Running local_init_op.\n",
      "INFO:tensorflow:Done running local_init_op.\n",
      "INFO:tensorflow:Using default config.\n",
      "WARNING:tensorflow:Using temporary folder as model directory: /tmp/tmpqkocyy64\n",
      "INFO:tensorflow:Using config: {'_model_dir': '/tmp/tmpqkocyy64', '_tf_random_seed': None, '_save_summary_steps': 100, '_save_checkpoints_steps': None, '_save_checkpoints_secs': 600, '_session_config': None, '_keep_checkpoint_max': 5, '_keep_checkpoint_every_n_hours': 10000, '_log_step_count_steps': 100, '_service': None, '_cluster_spec': <tensorflow.python.training.server_lib.ClusterSpec object at 0x7fdcd67d0898>, '_task_type': 'worker', '_task_id': 0, '_global_id_in_cluster': 0, '_master': '', '_evaluation_master': '', '_is_chief': True, '_num_ps_replicas': 0, '_num_worker_replicas': 1}\n",
      "INFO:tensorflow:Calling model_fn.\n",
      "INFO:tensorflow:Done calling model_fn.\n",
      "INFO:tensorflow:Create CheckpointSaverHook.\n",
      "INFO:tensorflow:Graph was finalized.\n",
      "INFO:tensorflow:Running local_init_op.\n",
      "INFO:tensorflow:Done running local_init_op.\n",
      "INFO:tensorflow:Saving checkpoints for 1 into /tmp/tmpqkocyy64/model.ckpt.\n",
      "INFO:tensorflow:loss = 224.42729, step = 0\n",
      "INFO:tensorflow:global_step/sec: 148.839\n",
      "INFO:tensorflow:loss = 111.79586, step = 100 (0.679 sec)\n",
      "INFO:tensorflow:Saving checkpoints for 200 into /tmp/tmpqkocyy64/model.ckpt.\n",
      "INFO:tensorflow:Loss for final step: 83.74958.\n",
      "INFO:tensorflow:Calling model_fn.\n",
      "INFO:tensorflow:Done calling model_fn.\n",
      "INFO:tensorflow:Starting evaluation at 2018-05-18-08:45:53\n",
      "INFO:tensorflow:Graph was finalized.\n",
      "INFO:tensorflow:Restoring parameters from /tmp/tmpqkocyy64/model.ckpt-200\n",
      "INFO:tensorflow:Running local_init_op.\n",
      "INFO:tensorflow:Done running local_init_op.\n",
      "INFO:tensorflow:Finished evaluation at 2018-05-18-08:45:54\n",
      "INFO:tensorflow:Saving dict for global step 200: accuracy = 0.8059598, average_loss = 0.864683, global_step = 200, loss = 83.1825\n",
      "INFO:tensorflow:Calling model_fn.\n",
      "INFO:tensorflow:Done calling model_fn.\n",
      "INFO:tensorflow:Graph was finalized.\n",
      "INFO:tensorflow:Restoring parameters from /tmp/tmpqkocyy64/model.ckpt-200\n",
      "INFO:tensorflow:Running local_init_op.\n",
      "INFO:tensorflow:Done running local_init_op.\n",
      "INFO:tensorflow:Using default config.\n",
      "WARNING:tensorflow:Using temporary folder as model directory: /tmp/tmpxd7xn4ff\n",
      "INFO:tensorflow:Using config: {'_model_dir': '/tmp/tmpxd7xn4ff', '_tf_random_seed': None, '_save_summary_steps': 100, '_save_checkpoints_steps': None, '_save_checkpoints_secs': 600, '_session_config': None, '_keep_checkpoint_max': 5, '_keep_checkpoint_every_n_hours': 10000, '_log_step_count_steps': 100, '_service': None, '_cluster_spec': <tensorflow.python.training.server_lib.ClusterSpec object at 0x7fdcdadddf60>, '_task_type': 'worker', '_task_id': 0, '_global_id_in_cluster': 0, '_master': '', '_evaluation_master': '', '_is_chief': True, '_num_ps_replicas': 0, '_num_worker_replicas': 1}\n",
      "INFO:tensorflow:Calling model_fn.\n",
      "INFO:tensorflow:Done calling model_fn.\n",
      "INFO:tensorflow:Create CheckpointSaverHook.\n",
      "INFO:tensorflow:Graph was finalized.\n",
      "INFO:tensorflow:Running local_init_op.\n",
      "INFO:tensorflow:Done running local_init_op.\n",
      "INFO:tensorflow:Saving checkpoints for 1 into /tmp/tmpxd7xn4ff/model.ckpt.\n",
      "INFO:tensorflow:loss = 199.95802, step = 0\n",
      "INFO:tensorflow:global_step/sec: 144.051\n",
      "INFO:tensorflow:loss = 106.86908, step = 100 (0.700 sec)\n",
      "INFO:tensorflow:Saving checkpoints for 200 into /tmp/tmpxd7xn4ff/model.ckpt.\n",
      "INFO:tensorflow:Loss for final step: 89.9757.\n",
      "INFO:tensorflow:Calling model_fn.\n",
      "INFO:tensorflow:Done calling model_fn.\n",
      "INFO:tensorflow:Starting evaluation at 2018-05-18-08:45:58\n",
      "INFO:tensorflow:Graph was finalized.\n",
      "INFO:tensorflow:Restoring parameters from /tmp/tmpxd7xn4ff/model.ckpt-200\n",
      "INFO:tensorflow:Running local_init_op.\n",
      "INFO:tensorflow:Done running local_init_op.\n",
      "INFO:tensorflow:Finished evaluation at 2018-05-18-08:45:58\n",
      "INFO:tensorflow:Saving dict for global step 200: accuracy = 0.7259589, average_loss = 0.90423703, global_step = 200, loss = 90.37347\n",
      "INFO:tensorflow:Calling model_fn.\n",
      "INFO:tensorflow:Done calling model_fn.\n",
      "INFO:tensorflow:Graph was finalized.\n",
      "INFO:tensorflow:Restoring parameters from /tmp/tmpxd7xn4ff/model.ckpt-200\n",
      "INFO:tensorflow:Running local_init_op.\n",
      "INFO:tensorflow:Done running local_init_op.\n",
      "INFO:tensorflow:Using default config.\n",
      "WARNING:tensorflow:Using temporary folder as model directory: /tmp/tmpd0ib5alz\n",
      "INFO:tensorflow:Using config: {'_model_dir': '/tmp/tmpd0ib5alz', '_tf_random_seed': None, '_save_summary_steps': 100, '_save_checkpoints_steps': None, '_save_checkpoints_secs': 600, '_session_config': None, '_keep_checkpoint_max': 5, '_keep_checkpoint_every_n_hours': 10000, '_log_step_count_steps': 100, '_service': None, '_cluster_spec': <tensorflow.python.training.server_lib.ClusterSpec object at 0x7fdcbeb87128>, '_task_type': 'worker', '_task_id': 0, '_global_id_in_cluster': 0, '_master': '', '_evaluation_master': '', '_is_chief': True, '_num_ps_replicas': 0, '_num_worker_replicas': 1}\n",
      "INFO:tensorflow:Calling model_fn.\n",
      "INFO:tensorflow:Done calling model_fn.\n",
      "INFO:tensorflow:Create CheckpointSaverHook.\n",
      "INFO:tensorflow:Graph was finalized.\n",
      "INFO:tensorflow:Running local_init_op.\n",
      "INFO:tensorflow:Done running local_init_op.\n",
      "INFO:tensorflow:Saving checkpoints for 1 into /tmp/tmpd0ib5alz/model.ckpt.\n",
      "INFO:tensorflow:loss = 229.82382, step = 0\n",
      "INFO:tensorflow:global_step/sec: 147.805\n",
      "INFO:tensorflow:loss = 114.2397, step = 100 (0.678 sec)\n",
      "INFO:tensorflow:global_step/sec: 155.141\n",
      "INFO:tensorflow:loss = 84.817314, step = 200 (0.645 sec)\n",
      "INFO:tensorflow:global_step/sec: 156.923\n",
      "INFO:tensorflow:loss = 71.42656, step = 300 (0.637 sec)\n",
      "INFO:tensorflow:global_step/sec: 171.242\n",
      "INFO:tensorflow:loss = 77.33085, step = 400 (0.584 sec)\n",
      "INFO:tensorflow:Saving checkpoints for 500 into /tmp/tmpd0ib5alz/model.ckpt.\n",
      "INFO:tensorflow:Loss for final step: 63.446533.\n",
      "INFO:tensorflow:Calling model_fn.\n",
      "INFO:tensorflow:Done calling model_fn.\n",
      "INFO:tensorflow:Starting evaluation at 2018-05-18-08:46:04\n",
      "INFO:tensorflow:Graph was finalized.\n",
      "INFO:tensorflow:Restoring parameters from /tmp/tmpd0ib5alz/model.ckpt-500\n",
      "INFO:tensorflow:Running local_init_op.\n",
      "INFO:tensorflow:Done running local_init_op.\n",
      "INFO:tensorflow:Finished evaluation at 2018-05-18-08:46:04\n",
      "INFO:tensorflow:Saving dict for global step 500: accuracy = 0.83922386, average_loss = 0.62735367, global_step = 500, loss = 60.351425\n",
      "INFO:tensorflow:Calling model_fn.\n",
      "INFO:tensorflow:Done calling model_fn.\n",
      "INFO:tensorflow:Graph was finalized.\n",
      "INFO:tensorflow:Restoring parameters from /tmp/tmpd0ib5alz/model.ckpt-500\n",
      "INFO:tensorflow:Running local_init_op.\n",
      "INFO:tensorflow:Done running local_init_op.\n",
      "INFO:tensorflow:Using default config.\n",
      "WARNING:tensorflow:Using temporary folder as model directory: /tmp/tmplfhlvwgv\n",
      "INFO:tensorflow:Using config: {'_model_dir': '/tmp/tmplfhlvwgv', '_tf_random_seed': None, '_save_summary_steps': 100, '_save_checkpoints_steps': None, '_save_checkpoints_secs': 600, '_session_config': None, '_keep_checkpoint_max': 5, '_keep_checkpoint_every_n_hours': 10000, '_log_step_count_steps': 100, '_service': None, '_cluster_spec': <tensorflow.python.training.server_lib.ClusterSpec object at 0x7fdcda3b20f0>, '_task_type': 'worker', '_task_id': 0, '_global_id_in_cluster': 0, '_master': '', '_evaluation_master': '', '_is_chief': True, '_num_ps_replicas': 0, '_num_worker_replicas': 1}\n"
     ]
    },
    {
     "name": "stdout",
     "output_type": "stream",
     "text": [
      "INFO:tensorflow:Calling model_fn.\n",
      "INFO:tensorflow:Done calling model_fn.\n",
      "INFO:tensorflow:Create CheckpointSaverHook.\n",
      "INFO:tensorflow:Graph was finalized.\n",
      "INFO:tensorflow:Running local_init_op.\n",
      "INFO:tensorflow:Done running local_init_op.\n",
      "INFO:tensorflow:Saving checkpoints for 1 into /tmp/tmplfhlvwgv/model.ckpt.\n",
      "INFO:tensorflow:loss = 224.41507, step = 0\n",
      "INFO:tensorflow:global_step/sec: 146.863\n",
      "INFO:tensorflow:loss = 98.368515, step = 100 (0.685 sec)\n",
      "INFO:tensorflow:global_step/sec: 153.632\n",
      "INFO:tensorflow:loss = 83.05354, step = 200 (0.648 sec)\n",
      "INFO:tensorflow:global_step/sec: 157.427\n",
      "INFO:tensorflow:loss = 65.96589, step = 300 (0.640 sec)\n",
      "INFO:tensorflow:global_step/sec: 151.368\n",
      "INFO:tensorflow:loss = 67.671, step = 400 (0.657 sec)\n",
      "INFO:tensorflow:Saving checkpoints for 500 into /tmp/tmplfhlvwgv/model.ckpt.\n",
      "INFO:tensorflow:Loss for final step: 75.66713.\n",
      "INFO:tensorflow:Calling model_fn.\n",
      "INFO:tensorflow:Done calling model_fn.\n",
      "INFO:tensorflow:Starting evaluation at 2018-05-18-08:46:10\n",
      "INFO:tensorflow:Graph was finalized.\n",
      "INFO:tensorflow:Restoring parameters from /tmp/tmplfhlvwgv/model.ckpt-500\n",
      "INFO:tensorflow:Running local_init_op.\n",
      "INFO:tensorflow:Done running local_init_op.\n",
      "INFO:tensorflow:Finished evaluation at 2018-05-18-08:46:10\n",
      "INFO:tensorflow:Saving dict for global step 500: accuracy = 0.83657587, average_loss = 0.5983442, global_step = 500, loss = 59.80118\n",
      "INFO:tensorflow:Calling model_fn.\n",
      "INFO:tensorflow:Done calling model_fn.\n",
      "INFO:tensorflow:Graph was finalized.\n",
      "INFO:tensorflow:Restoring parameters from /tmp/tmplfhlvwgv/model.ckpt-500\n",
      "INFO:tensorflow:Running local_init_op.\n",
      "INFO:tensorflow:Done running local_init_op.\n",
      "INFO:tensorflow:Using default config.\n",
      "WARNING:tensorflow:Using temporary folder as model directory: /tmp/tmppivonsmm\n",
      "INFO:tensorflow:Using config: {'_model_dir': '/tmp/tmppivonsmm', '_tf_random_seed': None, '_save_summary_steps': 100, '_save_checkpoints_steps': None, '_save_checkpoints_secs': 600, '_session_config': None, '_keep_checkpoint_max': 5, '_keep_checkpoint_every_n_hours': 10000, '_log_step_count_steps': 100, '_service': None, '_cluster_spec': <tensorflow.python.training.server_lib.ClusterSpec object at 0x7fdcbf44c6a0>, '_task_type': 'worker', '_task_id': 0, '_global_id_in_cluster': 0, '_master': '', '_evaluation_master': '', '_is_chief': True, '_num_ps_replicas': 0, '_num_worker_replicas': 1}\n",
      "INFO:tensorflow:Calling model_fn.\n",
      "INFO:tensorflow:Done calling model_fn.\n",
      "INFO:tensorflow:Create CheckpointSaverHook.\n",
      "INFO:tensorflow:Graph was finalized.\n",
      "INFO:tensorflow:Running local_init_op.\n",
      "INFO:tensorflow:Done running local_init_op.\n",
      "INFO:tensorflow:Saving checkpoints for 1 into /tmp/tmppivonsmm/model.ckpt.\n",
      "INFO:tensorflow:loss = 174.76237, step = 0\n",
      "INFO:tensorflow:global_step/sec: 149.91\n",
      "INFO:tensorflow:loss = 106.80055, step = 100 (0.673 sec)\n",
      "INFO:tensorflow:global_step/sec: 154.814\n",
      "INFO:tensorflow:loss = 90.88108, step = 200 (0.642 sec)\n",
      "INFO:tensorflow:global_step/sec: 158.466\n",
      "INFO:tensorflow:loss = 63.94026, step = 300 (0.631 sec)\n",
      "INFO:tensorflow:global_step/sec: 173.794\n",
      "INFO:tensorflow:loss = 61.51941, step = 400 (0.581 sec)\n",
      "INFO:tensorflow:global_step/sec: 159.948\n",
      "INFO:tensorflow:loss = 69.54396, step = 500 (0.624 sec)\n",
      "INFO:tensorflow:global_step/sec: 155.226\n",
      "INFO:tensorflow:loss = 67.83573, step = 600 (0.643 sec)\n",
      "INFO:tensorflow:global_step/sec: 155.179\n",
      "INFO:tensorflow:loss = 51.672955, step = 700 (0.647 sec)\n",
      "INFO:tensorflow:global_step/sec: 172.016\n",
      "INFO:tensorflow:loss = 46.80062, step = 800 (0.582 sec)\n",
      "INFO:tensorflow:global_step/sec: 152.235\n",
      "INFO:tensorflow:loss = 52.41038, step = 900 (0.651 sec)\n",
      "INFO:tensorflow:Saving checkpoints for 1000 into /tmp/tmppivonsmm/model.ckpt.\n",
      "INFO:tensorflow:Loss for final step: 44.506157.\n",
      "INFO:tensorflow:Calling model_fn.\n",
      "INFO:tensorflow:Done calling model_fn.\n",
      "INFO:tensorflow:Starting evaluation at 2018-05-18-08:46:19\n",
      "INFO:tensorflow:Graph was finalized.\n",
      "INFO:tensorflow:Restoring parameters from /tmp/tmppivonsmm/model.ckpt-1000\n",
      "INFO:tensorflow:Running local_init_op.\n",
      "INFO:tensorflow:Done running local_init_op.\n",
      "INFO:tensorflow:Finished evaluation at 2018-05-18-08:46:20\n",
      "INFO:tensorflow:Saving dict for global step 1000: accuracy = 0.86763686, average_loss = 0.46055755, global_step = 1000, loss = 44.305637\n",
      "INFO:tensorflow:Calling model_fn.\n",
      "INFO:tensorflow:Done calling model_fn.\n",
      "INFO:tensorflow:Graph was finalized.\n",
      "INFO:tensorflow:Restoring parameters from /tmp/tmppivonsmm/model.ckpt-1000\n",
      "INFO:tensorflow:Running local_init_op.\n",
      "INFO:tensorflow:Done running local_init_op.\n",
      "INFO:tensorflow:Using default config.\n",
      "WARNING:tensorflow:Using temporary folder as model directory: /tmp/tmpeqyrjwxm\n",
      "INFO:tensorflow:Using config: {'_model_dir': '/tmp/tmpeqyrjwxm', '_tf_random_seed': None, '_save_summary_steps': 100, '_save_checkpoints_steps': None, '_save_checkpoints_secs': 600, '_session_config': None, '_keep_checkpoint_max': 5, '_keep_checkpoint_every_n_hours': 10000, '_log_step_count_steps': 100, '_service': None, '_cluster_spec': <tensorflow.python.training.server_lib.ClusterSpec object at 0x7fdcd6ac1d68>, '_task_type': 'worker', '_task_id': 0, '_global_id_in_cluster': 0, '_master': '', '_evaluation_master': '', '_is_chief': True, '_num_ps_replicas': 0, '_num_worker_replicas': 1}\n",
      "INFO:tensorflow:Calling model_fn.\n",
      "INFO:tensorflow:Done calling model_fn.\n",
      "INFO:tensorflow:Create CheckpointSaverHook.\n",
      "INFO:tensorflow:Graph was finalized.\n",
      "INFO:tensorflow:Running local_init_op.\n",
      "INFO:tensorflow:Done running local_init_op.\n",
      "INFO:tensorflow:Saving checkpoints for 1 into /tmp/tmpeqyrjwxm/model.ckpt.\n",
      "INFO:tensorflow:loss = 230.33951, step = 0\n",
      "INFO:tensorflow:global_step/sec: 148.654\n",
      "INFO:tensorflow:loss = 111.837105, step = 100 (0.680 sec)\n",
      "INFO:tensorflow:global_step/sec: 158.655\n",
      "INFO:tensorflow:loss = 100.050644, step = 200 (0.631 sec)\n",
      "INFO:tensorflow:global_step/sec: 155.334\n",
      "INFO:tensorflow:loss = 78.90699, step = 300 (0.637 sec)\n",
      "INFO:tensorflow:global_step/sec: 162.548\n",
      "INFO:tensorflow:loss = 56.617477, step = 400 (0.618 sec)\n",
      "INFO:tensorflow:global_step/sec: 167.028\n",
      "INFO:tensorflow:loss = 45.0413, step = 500 (0.600 sec)\n",
      "INFO:tensorflow:global_step/sec: 157.794\n",
      "INFO:tensorflow:loss = 57.513798, step = 600 (0.635 sec)\n",
      "INFO:tensorflow:global_step/sec: 155.719\n",
      "INFO:tensorflow:loss = 57.525646, step = 700 (0.642 sec)\n",
      "INFO:tensorflow:global_step/sec: 157.247\n",
      "INFO:tensorflow:loss = 61.105717, step = 800 (0.637 sec)\n",
      "INFO:tensorflow:global_step/sec: 158.456\n",
      "INFO:tensorflow:loss = 78.96329, step = 900 (0.630 sec)\n",
      "INFO:tensorflow:Saving checkpoints for 1000 into /tmp/tmpeqyrjwxm/model.ckpt.\n",
      "INFO:tensorflow:Loss for final step: 49.662952.\n",
      "INFO:tensorflow:Calling model_fn.\n",
      "INFO:tensorflow:Done calling model_fn.\n",
      "INFO:tensorflow:Starting evaluation at 2018-05-18-08:46:29\n",
      "INFO:tensorflow:Graph was finalized.\n",
      "INFO:tensorflow:Restoring parameters from /tmp/tmpeqyrjwxm/model.ckpt-1000\n",
      "INFO:tensorflow:Running local_init_op.\n",
      "INFO:tensorflow:Done running local_init_op.\n",
      "INFO:tensorflow:Finished evaluation at 2018-05-18-08:46:29\n",
      "INFO:tensorflow:Saving dict for global step 1000: accuracy = 0.90133405, average_loss = 0.43571422, global_step = 1000, loss = 43.547215\n",
      "INFO:tensorflow:Calling model_fn.\n",
      "INFO:tensorflow:Done calling model_fn.\n",
      "INFO:tensorflow:Graph was finalized.\n",
      "INFO:tensorflow:Restoring parameters from /tmp/tmpeqyrjwxm/model.ckpt-1000\n",
      "INFO:tensorflow:Running local_init_op.\n",
      "INFO:tensorflow:Done running local_init_op.\n",
      "INFO:tensorflow:Using default config.\n",
      "WARNING:tensorflow:Using temporary folder as model directory: /tmp/tmpluk8unbi\n",
      "INFO:tensorflow:Using config: {'_model_dir': '/tmp/tmpluk8unbi', '_tf_random_seed': None, '_save_summary_steps': 100, '_save_checkpoints_steps': None, '_save_checkpoints_secs': 600, '_session_config': None, '_keep_checkpoint_max': 5, '_keep_checkpoint_every_n_hours': 10000, '_log_step_count_steps': 100, '_service': None, '_cluster_spec': <tensorflow.python.training.server_lib.ClusterSpec object at 0x7fdcdaf95588>, '_task_type': 'worker', '_task_id': 0, '_global_id_in_cluster': 0, '_master': '', '_evaluation_master': '', '_is_chief': True, '_num_ps_replicas': 0, '_num_worker_replicas': 1}\n",
      "INFO:tensorflow:Calling model_fn.\n",
      "INFO:tensorflow:Done calling model_fn.\n",
      "INFO:tensorflow:Create CheckpointSaverHook.\n",
      "INFO:tensorflow:Graph was finalized.\n",
      "INFO:tensorflow:Running local_init_op.\n",
      "INFO:tensorflow:Done running local_init_op.\n",
      "INFO:tensorflow:Saving checkpoints for 1 into /tmp/tmpluk8unbi/model.ckpt.\n",
      "INFO:tensorflow:loss = 240.943, step = 0\n",
      "INFO:tensorflow:global_step/sec: 148.303\n",
      "INFO:tensorflow:loss = 111.20989, step = 100 (0.679 sec)\n",
      "INFO:tensorflow:global_step/sec: 159.345\n",
      "INFO:tensorflow:loss = 71.03237, step = 200 (0.630 sec)\n",
      "INFO:tensorflow:global_step/sec: 158.495\n",
      "INFO:tensorflow:loss = 83.34114, step = 300 (0.630 sec)\n",
      "INFO:tensorflow:global_step/sec: 162.636\n",
      "INFO:tensorflow:loss = 62.187202, step = 400 (0.613 sec)\n",
      "INFO:tensorflow:global_step/sec: 158.178\n",
      "INFO:tensorflow:loss = 47.598972, step = 500 (0.633 sec)\n",
      "INFO:tensorflow:global_step/sec: 158.572\n",
      "INFO:tensorflow:loss = 52.896355, step = 600 (0.628 sec)\n",
      "INFO:tensorflow:global_step/sec: 155.576\n",
      "INFO:tensorflow:loss = 58.144737, step = 700 (0.648 sec)\n",
      "INFO:tensorflow:global_step/sec: 174.357\n",
      "INFO:tensorflow:loss = 56.657948, step = 800 (0.574 sec)\n",
      "INFO:tensorflow:global_step/sec: 159.113\n",
      "INFO:tensorflow:global_step/sec: 161.34\n",
      "INFO:tensorflow:loss = 45.855545, step = 1300 (0.620 sec)\n",
      "INFO:tensorflow:global_step/sec: 163.985\n",
      "INFO:tensorflow:loss = 35.938416, step = 1400 (0.607 sec)\n",
      "INFO:tensorflow:Saving checkpoints for 1500 into /tmp/tmpluk8unbi/model.ckpt.\n",
      "INFO:tensorflow:Loss for final step: 47.082054.\n",
      "INFO:tensorflow:Calling model_fn.\n",
      "INFO:tensorflow:Done calling model_fn.\n",
      "INFO:tensorflow:Starting evaluation at 2018-05-18-08:46:41\n",
      "INFO:tensorflow:Graph was finalized.\n",
      "INFO:tensorflow:Restoring parameters from /tmp/tmpluk8unbi/model.ckpt-1500\n",
      "INFO:tensorflow:Running local_init_op.\n",
      "INFO:tensorflow:Done running local_init_op.\n",
      "INFO:tensorflow:Finished evaluation at 2018-05-18-08:46:41\n",
      "INFO:tensorflow:Saving dict for global step 1500: accuracy = 0.9119889, average_loss = 0.35244402, global_step = 1500, loss = 33.905113\n"
     ]
    },
    {
     "name": "stdout",
     "output_type": "stream",
     "text": [
      "INFO:tensorflow:Calling model_fn.\n",
      "INFO:tensorflow:Done calling model_fn.\n",
      "INFO:tensorflow:Graph was finalized.\n",
      "INFO:tensorflow:Restoring parameters from /tmp/tmpluk8unbi/model.ckpt-1500\n",
      "INFO:tensorflow:Running local_init_op.\n",
      "INFO:tensorflow:Done running local_init_op.\n",
      "INFO:tensorflow:Using default config.\n",
      "WARNING:tensorflow:Using temporary folder as model directory: /tmp/tmplye55u9e\n",
      "INFO:tensorflow:Using config: {'_model_dir': '/tmp/tmplye55u9e', '_tf_random_seed': None, '_save_summary_steps': 100, '_save_checkpoints_steps': None, '_save_checkpoints_secs': 600, '_session_config': None, '_keep_checkpoint_max': 5, '_keep_checkpoint_every_n_hours': 10000, '_log_step_count_steps': 100, '_service': None, '_cluster_spec': <tensorflow.python.training.server_lib.ClusterSpec object at 0x7fdcd6435668>, '_task_type': 'worker', '_task_id': 0, '_global_id_in_cluster': 0, '_master': '', '_evaluation_master': '', '_is_chief': True, '_num_ps_replicas': 0, '_num_worker_replicas': 1}\n",
      "INFO:tensorflow:Calling model_fn.\n",
      "INFO:tensorflow:Done calling model_fn.\n",
      "INFO:tensorflow:Create CheckpointSaverHook.\n",
      "INFO:tensorflow:Graph was finalized.\n",
      "INFO:tensorflow:Running local_init_op.\n",
      "INFO:tensorflow:Done running local_init_op.\n",
      "INFO:tensorflow:Saving checkpoints for 1 into /tmp/tmplye55u9e/model.ckpt.\n",
      "INFO:tensorflow:loss = 242.5824, step = 0\n",
      "INFO:tensorflow:global_step/sec: 151.169\n",
      "INFO:tensorflow:loss = 95.47162, step = 100 (0.666 sec)\n",
      "INFO:tensorflow:global_step/sec: 160.746\n",
      "INFO:tensorflow:loss = 84.95743, step = 200 (0.621 sec)\n",
      "INFO:tensorflow:global_step/sec: 162.669\n",
      "INFO:tensorflow:loss = 56.414845, step = 300 (0.617 sec)\n",
      "INFO:tensorflow:global_step/sec: 163.414\n",
      "INFO:tensorflow:loss = 82.733765, step = 400 (0.612 sec)\n",
      "INFO:tensorflow:global_step/sec: 162.296\n",
      "INFO:tensorflow:loss = 65.16813, step = 500 (0.616 sec)\n",
      "INFO:tensorflow:global_step/sec: 157.781\n",
      "INFO:tensorflow:loss = 64.33777, step = 600 (0.635 sec)\n",
      "INFO:tensorflow:global_step/sec: 159.227\n",
      "INFO:tensorflow:loss = 49.5687, step = 700 (0.628 sec)\n",
      "INFO:tensorflow:global_step/sec: 154.209\n",
      "INFO:tensorflow:loss = 57.439438, step = 800 (0.649 sec)\n",
      "INFO:tensorflow:global_step/sec: 157.777\n",
      "INFO:tensorflow:loss = 45.92975, step = 900 (0.630 sec)\n",
      "INFO:tensorflow:global_step/sec: 161.611\n",
      "INFO:tensorflow:loss = 61.68564, step = 1000 (0.621 sec)\n",
      "INFO:tensorflow:global_step/sec: 150.949\n",
      "INFO:tensorflow:loss = 42.76942, step = 1100 (0.660 sec)\n",
      "INFO:tensorflow:global_step/sec: 152.785\n",
      "INFO:tensorflow:loss = 35.63644, step = 1200 (0.658 sec)\n",
      "INFO:tensorflow:global_step/sec: 156.36\n",
      "INFO:tensorflow:loss = 33.426754, step = 1300 (0.644 sec)\n",
      "INFO:tensorflow:global_step/sec: 162.757\n",
      "INFO:tensorflow:loss = 41.1098, step = 1400 (0.611 sec)\n",
      "INFO:tensorflow:Saving checkpoints for 1500 into /tmp/tmplye55u9e/model.ckpt.\n",
      "INFO:tensorflow:Loss for final step: 38.400757.\n",
      "INFO:tensorflow:Calling model_fn.\n",
      "INFO:tensorflow:Done calling model_fn.\n",
      "INFO:tensorflow:Starting evaluation at 2018-05-18-08:46:53\n",
      "INFO:tensorflow:Graph was finalized.\n",
      "INFO:tensorflow:Restoring parameters from /tmp/tmplye55u9e/model.ckpt-1500\n",
      "INFO:tensorflow:Running local_init_op.\n",
      "INFO:tensorflow:Done running local_init_op.\n",
      "INFO:tensorflow:Finished evaluation at 2018-05-18-08:46:54\n",
      "INFO:tensorflow:Saving dict for global step 1500: accuracy = 0.9032796, average_loss = 0.37580696, global_step = 1500, loss = 37.55982\n",
      "INFO:tensorflow:Calling model_fn.\n",
      "INFO:tensorflow:Done calling model_fn.\n",
      "INFO:tensorflow:Graph was finalized.\n",
      "INFO:tensorflow:Restoring parameters from /tmp/tmplye55u9e/model.ckpt-1500\n",
      "INFO:tensorflow:Running local_init_op.\n",
      "INFO:tensorflow:Done running local_init_op.\n",
      "INFO:tensorflow:Using default config.\n",
      "WARNING:tensorflow:Using temporary folder as model directory: /tmp/tmpdd39kxgu\n",
      "INFO:tensorflow:Using config: {'_model_dir': '/tmp/tmpdd39kxgu', '_tf_random_seed': None, '_save_summary_steps': 100, '_save_checkpoints_steps': None, '_save_checkpoints_secs': 600, '_session_config': None, '_keep_checkpoint_max': 5, '_keep_checkpoint_every_n_hours': 10000, '_log_step_count_steps': 100, '_service': None, '_cluster_spec': <tensorflow.python.training.server_lib.ClusterSpec object at 0x7fdcd6810c88>, '_task_type': 'worker', '_task_id': 0, '_global_id_in_cluster': 0, '_master': '', '_evaluation_master': '', '_is_chief': True, '_num_ps_replicas': 0, '_num_worker_replicas': 1}\n",
      "INFO:tensorflow:Calling model_fn.\n",
      "INFO:tensorflow:Done calling model_fn.\n",
      "INFO:tensorflow:Create CheckpointSaverHook.\n",
      "INFO:tensorflow:Graph was finalized.\n",
      "INFO:tensorflow:Running local_init_op.\n",
      "INFO:tensorflow:Done running local_init_op.\n",
      "INFO:tensorflow:Saving checkpoints for 1 into /tmp/tmpdd39kxgu/model.ckpt.\n",
      "INFO:tensorflow:loss = 212.23988, step = 0\n",
      "INFO:tensorflow:global_step/sec: 152.615\n",
      "INFO:tensorflow:loss = 93.70982, step = 100 (0.660 sec)\n",
      "INFO:tensorflow:global_step/sec: 158.701\n",
      "INFO:tensorflow:loss = 96.06376, step = 200 (0.628 sec)\n",
      "INFO:tensorflow:global_step/sec: 158.547\n",
      "INFO:tensorflow:loss = 80.628845, step = 300 (0.633 sec)\n",
      "INFO:tensorflow:global_step/sec: 167.219\n",
      "INFO:tensorflow:loss = 66.64765, step = 400 (0.596 sec)\n",
      "INFO:tensorflow:global_step/sec: 158.628\n",
      "INFO:tensorflow:loss = 60.767017, step = 500 (0.630 sec)\n",
      "INFO:tensorflow:global_step/sec: 157.673\n",
      "INFO:tensorflow:loss = 42.11779, step = 600 (0.641 sec)\n",
      "INFO:tensorflow:global_step/sec: 161.124\n",
      "INFO:tensorflow:loss = 50.998608, step = 700 (0.617 sec)\n",
      "INFO:tensorflow:global_step/sec: 173.782\n",
      "INFO:tensorflow:loss = 54.76435, step = 800 (0.573 sec)\n",
      "INFO:tensorflow:global_step/sec: 158.331\n",
      "INFO:tensorflow:loss = 50.391464, step = 900 (0.631 sec)\n",
      "INFO:tensorflow:global_step/sec: 162.887\n",
      "INFO:tensorflow:loss = 51.497555, step = 1000 (0.618 sec)\n",
      "INFO:tensorflow:global_step/sec: 160.092\n",
      "INFO:tensorflow:loss = 36.203632, step = 1100 (0.628 sec)\n",
      "INFO:tensorflow:global_step/sec: 166.325\n",
      "INFO:tensorflow:loss = 37.558384, step = 1200 (0.594 sec)\n",
      "INFO:tensorflow:global_step/sec: 160.832\n",
      "INFO:tensorflow:loss = 33.329647, step = 1300 (0.626 sec)\n",
      "INFO:tensorflow:global_step/sec: 161.814\n",
      "INFO:tensorflow:loss = 33.50453, step = 1400 (0.613 sec)\n",
      "INFO:tensorflow:global_step/sec: 161.895\n",
      "INFO:tensorflow:loss = 33.49976, step = 1500 (0.623 sec)\n",
      "INFO:tensorflow:global_step/sec: 171.549\n",
      "INFO:tensorflow:loss = 25.01074, step = 1600 (0.581 sec)\n",
      "INFO:tensorflow:global_step/sec: 158.876\n",
      "INFO:tensorflow:loss = 29.255077, step = 1700 (0.627 sec)\n",
      "INFO:tensorflow:global_step/sec: 161.469\n",
      "INFO:tensorflow:loss = 30.462906, step = 1800 (0.621 sec)\n",
      "INFO:tensorflow:global_step/sec: 156.623\n",
      "INFO:tensorflow:loss = 25.51944, step = 1900 (0.638 sec)\n",
      "INFO:tensorflow:Saving checkpoints for 2000 into /tmp/tmpdd39kxgu/model.ckpt.\n",
      "INFO:tensorflow:Loss for final step: 28.333578.\n",
      "INFO:tensorflow:Calling model_fn.\n",
      "INFO:tensorflow:Done calling model_fn.\n",
      "INFO:tensorflow:Starting evaluation at 2018-05-18-08:47:09\n",
      "INFO:tensorflow:Graph was finalized.\n",
      "INFO:tensorflow:Restoring parameters from /tmp/tmpdd39kxgu/model.ckpt-2000\n",
      "INFO:tensorflow:Running local_init_op.\n",
      "INFO:tensorflow:Done running local_init_op.\n",
      "INFO:tensorflow:Finished evaluation at 2018-05-18-08:47:09\n",
      "INFO:tensorflow:Saving dict for global step 2000: accuracy = 0.9133749, average_loss = 0.34573433, global_step = 2000, loss = 33.25964\n",
      "INFO:tensorflow:Calling model_fn.\n",
      "INFO:tensorflow:Done calling model_fn.\n",
      "INFO:tensorflow:Graph was finalized.\n",
      "INFO:tensorflow:Restoring parameters from /tmp/tmpdd39kxgu/model.ckpt-2000\n",
      "INFO:tensorflow:Running local_init_op.\n",
      "INFO:tensorflow:Done running local_init_op.\n",
      "INFO:tensorflow:Using default config.\n",
      "WARNING:tensorflow:Using temporary folder as model directory: /tmp/tmpt0z9yde0\n",
      "INFO:tensorflow:Using config: {'_model_dir': '/tmp/tmpt0z9yde0', '_tf_random_seed': None, '_save_summary_steps': 100, '_save_checkpoints_steps': None, '_save_checkpoints_secs': 600, '_session_config': None, '_keep_checkpoint_max': 5, '_keep_checkpoint_every_n_hours': 10000, '_log_step_count_steps': 100, '_service': None, '_cluster_spec': <tensorflow.python.training.server_lib.ClusterSpec object at 0x7fdcdb00f5c0>, '_task_type': 'worker', '_task_id': 0, '_global_id_in_cluster': 0, '_master': '', '_evaluation_master': '', '_is_chief': True, '_num_ps_replicas': 0, '_num_worker_replicas': 1}\n",
      "INFO:tensorflow:Calling model_fn.\n",
      "INFO:tensorflow:Done calling model_fn.\n",
      "INFO:tensorflow:Create CheckpointSaverHook.\n",
      "INFO:tensorflow:Graph was finalized.\n",
      "INFO:tensorflow:Running local_init_op.\n",
      "INFO:tensorflow:Done running local_init_op.\n",
      "INFO:tensorflow:Saving checkpoints for 1 into /tmp/tmpt0z9yde0/model.ckpt.\n",
      "INFO:tensorflow:loss = 236.8892, step = 0\n",
      "INFO:tensorflow:global_step/sec: 146.356\n",
      "INFO:tensorflow:loss = 84.38813, step = 100 (0.688 sec)\n",
      "INFO:tensorflow:global_step/sec: 155.466\n",
      "INFO:tensorflow:loss = 87.83653, step = 200 (0.643 sec)\n",
      "INFO:tensorflow:global_step/sec: 158.482\n",
      "INFO:tensorflow:loss = 63.207096, step = 300 (0.634 sec)\n",
      "INFO:tensorflow:global_step/sec: 160.573\n",
      "INFO:tensorflow:loss = 73.99803, step = 400 (0.621 sec)\n",
      "INFO:tensorflow:global_step/sec: 164.974\n",
      "INFO:tensorflow:loss = 74.54589, step = 500 (0.607 sec)\n",
      "INFO:tensorflow:global_step/sec: 156.897\n",
      "INFO:tensorflow:loss = 55.35114, step = 600 (0.633 sec)\n",
      "INFO:tensorflow:global_step/sec: 162.106\n",
      "INFO:tensorflow:loss = 62.31685, step = 700 (0.619 sec)\n",
      "INFO:tensorflow:global_step/sec: 159.94\n",
      "INFO:tensorflow:loss = 46.68954, step = 800 (0.626 sec)\n",
      "INFO:tensorflow:global_step/sec: 155.377\n",
      "INFO:tensorflow:loss = 50.103523, step = 900 (0.645 sec)\n",
      "INFO:tensorflow:global_step/sec: 165.367\n",
      "INFO:tensorflow:loss = 40.444954, step = 1000 (0.606 sec)\n",
      "INFO:tensorflow:global_step/sec: 157.928\n",
      "INFO:tensorflow:loss = 44.32096, step = 1100 (0.636 sec)\n",
      "INFO:tensorflow:global_step/sec: 157.038\n",
      "INFO:tensorflow:loss = 44.75043, step = 1200 (0.633 sec)\n",
      "INFO:tensorflow:global_step/sec: 159.684\n"
     ]
    },
    {
     "name": "stdout",
     "output_type": "stream",
     "text": [
      "INFO:tensorflow:loss = 32.190826, step = 1300 (0.628 sec)\n",
      "INFO:tensorflow:global_step/sec: 166.288\n",
      "INFO:tensorflow:loss = 32.949123, step = 1400 (0.599 sec)\n",
      "INFO:tensorflow:global_step/sec: 157.216\n",
      "INFO:tensorflow:loss = 31.450216, step = 1500 (0.632 sec)\n",
      "INFO:tensorflow:global_step/sec: 159.859\n",
      "INFO:tensorflow:loss = 41.96254, step = 1600 (0.626 sec)\n",
      "INFO:tensorflow:global_step/sec: 155.407\n",
      "INFO:tensorflow:loss = 39.377804, step = 1700 (0.648 sec)\n",
      "INFO:tensorflow:global_step/sec: 149.951\n",
      "INFO:tensorflow:loss = 34.98765, step = 1800 (0.667 sec)\n",
      "INFO:tensorflow:global_step/sec: 159.084\n",
      "INFO:tensorflow:loss = 26.905695, step = 1900 (0.626 sec)\n",
      "INFO:tensorflow:Saving checkpoints for 2000 into /tmp/tmpt0z9yde0/model.ckpt.\n",
      "INFO:tensorflow:Loss for final step: 32.3601.\n",
      "INFO:tensorflow:Calling model_fn.\n",
      "INFO:tensorflow:Done calling model_fn.\n",
      "INFO:tensorflow:Starting evaluation at 2018-05-18-08:47:24\n",
      "INFO:tensorflow:Graph was finalized.\n",
      "INFO:tensorflow:Restoring parameters from /tmp/tmpt0z9yde0/model.ckpt-2000\n",
      "INFO:tensorflow:Running local_init_op.\n",
      "INFO:tensorflow:Done running local_init_op.\n",
      "INFO:tensorflow:Finished evaluation at 2018-05-18-08:47:25\n",
      "INFO:tensorflow:Saving dict for global step 2000: accuracy = 0.9116176, average_loss = 0.34056112, global_step = 2000, loss = 34.03719\n",
      "INFO:tensorflow:Calling model_fn.\n",
      "INFO:tensorflow:Done calling model_fn.\n",
      "INFO:tensorflow:Graph was finalized.\n",
      "INFO:tensorflow:Restoring parameters from /tmp/tmpt0z9yde0/model.ckpt-2000\n",
      "INFO:tensorflow:Running local_init_op.\n",
      "INFO:tensorflow:Done running local_init_op.\n",
      "INFO:tensorflow:Using default config.\n",
      "WARNING:tensorflow:Using temporary folder as model directory: /tmp/tmp0p_0ril6\n",
      "INFO:tensorflow:Using config: {'_model_dir': '/tmp/tmp0p_0ril6', '_tf_random_seed': None, '_save_summary_steps': 100, '_save_checkpoints_steps': None, '_save_checkpoints_secs': 600, '_session_config': None, '_keep_checkpoint_max': 5, '_keep_checkpoint_every_n_hours': 10000, '_log_step_count_steps': 100, '_service': None, '_cluster_spec': <tensorflow.python.training.server_lib.ClusterSpec object at 0x7fdcd6b01eb8>, '_task_type': 'worker', '_task_id': 0, '_global_id_in_cluster': 0, '_master': '', '_evaluation_master': '', '_is_chief': True, '_num_ps_replicas': 0, '_num_worker_replicas': 1}\n",
      "INFO:tensorflow:Calling model_fn.\n",
      "INFO:tensorflow:Done calling model_fn.\n",
      "INFO:tensorflow:Create CheckpointSaverHook.\n",
      "INFO:tensorflow:Graph was finalized.\n",
      "INFO:tensorflow:Running local_init_op.\n",
      "INFO:tensorflow:Done running local_init_op.\n",
      "INFO:tensorflow:Saving checkpoints for 1 into /tmp/tmp0p_0ril6/model.ckpt.\n",
      "INFO:tensorflow:loss = 201.17198, step = 0\n",
      "INFO:tensorflow:Saving checkpoints for 100 into /tmp/tmp0p_0ril6/model.ckpt.\n",
      "INFO:tensorflow:Loss for final step: 78.53043.\n",
      "INFO:tensorflow:Calling model_fn.\n",
      "INFO:tensorflow:Done calling model_fn.\n",
      "INFO:tensorflow:Starting evaluation at 2018-05-18-08:47:28\n",
      "INFO:tensorflow:Graph was finalized.\n",
      "INFO:tensorflow:Restoring parameters from /tmp/tmp0p_0ril6/model.ckpt-100\n",
      "INFO:tensorflow:Running local_init_op.\n",
      "INFO:tensorflow:Done running local_init_op.\n",
      "INFO:tensorflow:Finished evaluation at 2018-05-18-08:47:29\n",
      "INFO:tensorflow:Saving dict for global step 100: accuracy = 0.82813585, average_loss = 0.6415763, global_step = 100, loss = 61.71964\n",
      "INFO:tensorflow:Calling model_fn.\n",
      "INFO:tensorflow:Done calling model_fn.\n",
      "INFO:tensorflow:Graph was finalized.\n",
      "INFO:tensorflow:Restoring parameters from /tmp/tmp0p_0ril6/model.ckpt-100\n",
      "INFO:tensorflow:Running local_init_op.\n",
      "INFO:tensorflow:Done running local_init_op.\n",
      "INFO:tensorflow:Using default config.\n",
      "WARNING:tensorflow:Using temporary folder as model directory: /tmp/tmptsq2elpj\n",
      "INFO:tensorflow:Using config: {'_model_dir': '/tmp/tmptsq2elpj', '_tf_random_seed': None, '_save_summary_steps': 100, '_save_checkpoints_steps': None, '_save_checkpoints_secs': 600, '_session_config': None, '_keep_checkpoint_max': 5, '_keep_checkpoint_every_n_hours': 10000, '_log_step_count_steps': 100, '_service': None, '_cluster_spec': <tensorflow.python.training.server_lib.ClusterSpec object at 0x7fdcbeb872b0>, '_task_type': 'worker', '_task_id': 0, '_global_id_in_cluster': 0, '_master': '', '_evaluation_master': '', '_is_chief': True, '_num_ps_replicas': 0, '_num_worker_replicas': 1}\n",
      "INFO:tensorflow:Calling model_fn.\n",
      "INFO:tensorflow:Done calling model_fn.\n",
      "INFO:tensorflow:Create CheckpointSaverHook.\n",
      "INFO:tensorflow:Graph was finalized.\n",
      "INFO:tensorflow:Running local_init_op.\n",
      "INFO:tensorflow:Done running local_init_op.\n",
      "INFO:tensorflow:Saving checkpoints for 1 into /tmp/tmptsq2elpj/model.ckpt.\n",
      "INFO:tensorflow:loss = 303.17886, step = 0\n",
      "INFO:tensorflow:Saving checkpoints for 100 into /tmp/tmptsq2elpj/model.ckpt.\n",
      "INFO:tensorflow:Loss for final step: 51.756367.\n",
      "INFO:tensorflow:Calling model_fn.\n",
      "INFO:tensorflow:Done calling model_fn.\n",
      "INFO:tensorflow:Starting evaluation at 2018-05-18-08:47:32\n",
      "INFO:tensorflow:Graph was finalized.\n",
      "INFO:tensorflow:Restoring parameters from /tmp/tmptsq2elpj/model.ckpt-100\n",
      "INFO:tensorflow:Running local_init_op.\n",
      "INFO:tensorflow:Done running local_init_op.\n",
      "INFO:tensorflow:Finished evaluation at 2018-05-18-08:47:32\n",
      "INFO:tensorflow:Saving dict for global step 100: accuracy = 0.8282379, average_loss = 0.668538, global_step = 100, loss = 66.81666\n",
      "INFO:tensorflow:Calling model_fn.\n",
      "INFO:tensorflow:Done calling model_fn.\n",
      "INFO:tensorflow:Graph was finalized.\n",
      "INFO:tensorflow:Restoring parameters from /tmp/tmptsq2elpj/model.ckpt-100\n",
      "INFO:tensorflow:Running local_init_op.\n",
      "INFO:tensorflow:Done running local_init_op.\n",
      "INFO:tensorflow:Using default config.\n",
      "WARNING:tensorflow:Using temporary folder as model directory: /tmp/tmps1qkddd8\n",
      "INFO:tensorflow:Using config: {'_model_dir': '/tmp/tmps1qkddd8', '_tf_random_seed': None, '_save_summary_steps': 100, '_save_checkpoints_steps': None, '_save_checkpoints_secs': 600, '_session_config': None, '_keep_checkpoint_max': 5, '_keep_checkpoint_every_n_hours': 10000, '_log_step_count_steps': 100, '_service': None, '_cluster_spec': <tensorflow.python.training.server_lib.ClusterSpec object at 0x7fdcbedbad68>, '_task_type': 'worker', '_task_id': 0, '_global_id_in_cluster': 0, '_master': '', '_evaluation_master': '', '_is_chief': True, '_num_ps_replicas': 0, '_num_worker_replicas': 1}\n",
      "INFO:tensorflow:Calling model_fn.\n",
      "INFO:tensorflow:Done calling model_fn.\n",
      "INFO:tensorflow:Create CheckpointSaverHook.\n",
      "INFO:tensorflow:Graph was finalized.\n",
      "INFO:tensorflow:Running local_init_op.\n",
      "INFO:tensorflow:Done running local_init_op.\n",
      "INFO:tensorflow:Saving checkpoints for 1 into /tmp/tmps1qkddd8/model.ckpt.\n",
      "INFO:tensorflow:loss = 311.59332, step = 0\n",
      "INFO:tensorflow:global_step/sec: 148.151\n",
      "INFO:tensorflow:loss = 69.60055, step = 100 (0.682 sec)\n",
      "INFO:tensorflow:Saving checkpoints for 200 into /tmp/tmps1qkddd8/model.ckpt.\n",
      "INFO:tensorflow:Loss for final step: 43.719837.\n",
      "INFO:tensorflow:Calling model_fn.\n",
      "INFO:tensorflow:Done calling model_fn.\n",
      "INFO:tensorflow:Starting evaluation at 2018-05-18-08:47:36\n",
      "INFO:tensorflow:Graph was finalized.\n",
      "INFO:tensorflow:Restoring parameters from /tmp/tmps1qkddd8/model.ckpt-200\n",
      "INFO:tensorflow:Running local_init_op.\n",
      "INFO:tensorflow:Done running local_init_op.\n",
      "INFO:tensorflow:Finished evaluation at 2018-05-18-08:47:37\n",
      "INFO:tensorflow:Saving dict for global step 200: accuracy = 0.8683299, average_loss = 0.4707191, global_step = 200, loss = 45.28318\n",
      "INFO:tensorflow:Calling model_fn.\n",
      "INFO:tensorflow:Done calling model_fn.\n",
      "INFO:tensorflow:Graph was finalized.\n",
      "INFO:tensorflow:Restoring parameters from /tmp/tmps1qkddd8/model.ckpt-200\n",
      "INFO:tensorflow:Running local_init_op.\n",
      "INFO:tensorflow:Done running local_init_op.\n",
      "INFO:tensorflow:Using default config.\n",
      "WARNING:tensorflow:Using temporary folder as model directory: /tmp/tmp1od2rn8s\n",
      "INFO:tensorflow:Using config: {'_model_dir': '/tmp/tmp1od2rn8s', '_tf_random_seed': None, '_save_summary_steps': 100, '_save_checkpoints_steps': None, '_save_checkpoints_secs': 600, '_session_config': None, '_keep_checkpoint_max': 5, '_keep_checkpoint_every_n_hours': 10000, '_log_step_count_steps': 100, '_service': None, '_cluster_spec': <tensorflow.python.training.server_lib.ClusterSpec object at 0x7fdcd6986390>, '_task_type': 'worker', '_task_id': 0, '_global_id_in_cluster': 0, '_master': '', '_evaluation_master': '', '_is_chief': True, '_num_ps_replicas': 0, '_num_worker_replicas': 1}\n",
      "INFO:tensorflow:Calling model_fn.\n",
      "INFO:tensorflow:Done calling model_fn.\n",
      "INFO:tensorflow:Create CheckpointSaverHook.\n",
      "INFO:tensorflow:Graph was finalized.\n",
      "INFO:tensorflow:Running local_init_op.\n",
      "INFO:tensorflow:Done running local_init_op.\n",
      "INFO:tensorflow:Saving checkpoints for 1 into /tmp/tmp1od2rn8s/model.ckpt.\n",
      "INFO:tensorflow:loss = 187.75822, step = 0\n",
      "INFO:tensorflow:global_step/sec: 141.381\n",
      "INFO:tensorflow:loss = 45.282692, step = 100 (0.709 sec)\n",
      "INFO:tensorflow:Saving checkpoints for 200 into /tmp/tmp1od2rn8s/model.ckpt.\n",
      "INFO:tensorflow:Loss for final step: 43.532368.\n",
      "INFO:tensorflow:Calling model_fn.\n",
      "INFO:tensorflow:Done calling model_fn.\n",
      "INFO:tensorflow:Starting evaluation at 2018-05-18-08:47:41\n",
      "INFO:tensorflow:Graph was finalized.\n",
      "INFO:tensorflow:Restoring parameters from /tmp/tmp1od2rn8s/model.ckpt-200\n",
      "INFO:tensorflow:Running local_init_op.\n",
      "INFO:tensorflow:Done running local_init_op.\n",
      "INFO:tensorflow:Finished evaluation at 2018-05-18-08:47:41\n",
      "INFO:tensorflow:Saving dict for global step 200: accuracy = 0.889383, average_loss = 0.4624516, global_step = 200, loss = 46.219467\n",
      "INFO:tensorflow:Calling model_fn.\n",
      "INFO:tensorflow:Done calling model_fn.\n",
      "INFO:tensorflow:Graph was finalized.\n",
      "INFO:tensorflow:Restoring parameters from /tmp/tmp1od2rn8s/model.ckpt-200\n",
      "INFO:tensorflow:Running local_init_op.\n",
      "INFO:tensorflow:Done running local_init_op.\n",
      "INFO:tensorflow:Using default config.\n",
      "WARNING:tensorflow:Using temporary folder as model directory: /tmp/tmpiojfpc3h\n",
      "INFO:tensorflow:Using config: {'_model_dir': '/tmp/tmpiojfpc3h', '_tf_random_seed': None, '_save_summary_steps': 100, '_save_checkpoints_steps': None, '_save_checkpoints_secs': 600, '_session_config': None, '_keep_checkpoint_max': 5, '_keep_checkpoint_every_n_hours': 10000, '_log_step_count_steps': 100, '_service': None, '_cluster_spec': <tensorflow.python.training.server_lib.ClusterSpec object at 0x7fdcbeb561d0>, '_task_type': 'worker', '_task_id': 0, '_global_id_in_cluster': 0, '_master': '', '_evaluation_master': '', '_is_chief': True, '_num_ps_replicas': 0, '_num_worker_replicas': 1}\n",
      "INFO:tensorflow:Calling model_fn.\n",
      "INFO:tensorflow:Done calling model_fn.\n",
      "INFO:tensorflow:Create CheckpointSaverHook.\n",
      "INFO:tensorflow:Graph was finalized.\n",
      "INFO:tensorflow:Running local_init_op.\n",
      "INFO:tensorflow:Done running local_init_op.\n",
      "INFO:tensorflow:Saving checkpoints for 1 into /tmp/tmpiojfpc3h/model.ckpt.\n",
      "INFO:tensorflow:loss = 248.2017, step = 0\n",
      "INFO:tensorflow:global_step/sec: 156.152\n"
     ]
    },
    {
     "name": "stdout",
     "output_type": "stream",
     "text": [
      "INFO:tensorflow:loss = 55.045753, step = 100 (0.646 sec)\n",
      "INFO:tensorflow:global_step/sec: 158.773\n",
      "INFO:tensorflow:loss = 44.304287, step = 200 (0.629 sec)\n",
      "INFO:tensorflow:global_step/sec: 155.949\n",
      "INFO:tensorflow:loss = 30.028917, step = 300 (0.640 sec)\n",
      "INFO:tensorflow:global_step/sec: 174.216\n",
      "INFO:tensorflow:loss = 37.053524, step = 400 (0.576 sec)\n",
      "INFO:tensorflow:Saving checkpoints for 500 into /tmp/tmpiojfpc3h/model.ckpt.\n",
      "INFO:tensorflow:Loss for final step: 34.95935.\n",
      "INFO:tensorflow:Calling model_fn.\n",
      "INFO:tensorflow:Done calling model_fn.\n",
      "INFO:tensorflow:Starting evaluation at 2018-05-18-08:47:47\n",
      "INFO:tensorflow:Graph was finalized.\n",
      "INFO:tensorflow:Restoring parameters from /tmp/tmpiojfpc3h/model.ckpt-500\n",
      "INFO:tensorflow:Running local_init_op.\n",
      "INFO:tensorflow:Done running local_init_op.\n",
      "INFO:tensorflow:Finished evaluation at 2018-05-18-08:47:47\n",
      "INFO:tensorflow:Saving dict for global step 500: accuracy = 0.9223839, average_loss = 0.3000547, global_step = 500, loss = 28.865261\n",
      "INFO:tensorflow:Calling model_fn.\n",
      "INFO:tensorflow:Done calling model_fn.\n",
      "INFO:tensorflow:Graph was finalized.\n",
      "INFO:tensorflow:Restoring parameters from /tmp/tmpiojfpc3h/model.ckpt-500\n",
      "INFO:tensorflow:Running local_init_op.\n",
      "INFO:tensorflow:Done running local_init_op.\n",
      "INFO:tensorflow:Using default config.\n",
      "WARNING:tensorflow:Using temporary folder as model directory: /tmp/tmpro1ajkr_\n",
      "INFO:tensorflow:Using config: {'_model_dir': '/tmp/tmpro1ajkr_', '_tf_random_seed': None, '_save_summary_steps': 100, '_save_checkpoints_steps': None, '_save_checkpoints_secs': 600, '_session_config': None, '_keep_checkpoint_max': 5, '_keep_checkpoint_every_n_hours': 10000, '_log_step_count_steps': 100, '_service': None, '_cluster_spec': <tensorflow.python.training.server_lib.ClusterSpec object at 0x7fdcd651cf98>, '_task_type': 'worker', '_task_id': 0, '_global_id_in_cluster': 0, '_master': '', '_evaluation_master': '', '_is_chief': True, '_num_ps_replicas': 0, '_num_worker_replicas': 1}\n",
      "INFO:tensorflow:Calling model_fn.\n",
      "INFO:tensorflow:Done calling model_fn.\n",
      "INFO:tensorflow:Create CheckpointSaverHook.\n",
      "INFO:tensorflow:Graph was finalized.\n",
      "INFO:tensorflow:Running local_init_op.\n",
      "INFO:tensorflow:Done running local_init_op.\n",
      "INFO:tensorflow:Saving checkpoints for 1 into /tmp/tmpro1ajkr_/model.ckpt.\n",
      "INFO:tensorflow:loss = 273.82288, step = 0\n",
      "INFO:tensorflow:global_step/sec: 144.975\n",
      "INFO:tensorflow:loss = 70.29009, step = 100 (0.697 sec)\n",
      "INFO:tensorflow:global_step/sec: 159.595\n",
      "INFO:tensorflow:loss = 54.04484, step = 200 (0.624 sec)\n",
      "INFO:tensorflow:global_step/sec: 164.151\n",
      "INFO:tensorflow:loss = 29.525915, step = 300 (0.609 sec)\n",
      "INFO:tensorflow:global_step/sec: 157.661\n",
      "INFO:tensorflow:loss = 39.37001, step = 400 (0.635 sec)\n",
      "INFO:tensorflow:Saving checkpoints for 500 into /tmp/tmpro1ajkr_/model.ckpt.\n",
      "INFO:tensorflow:Loss for final step: 24.81746.\n",
      "INFO:tensorflow:Calling model_fn.\n",
      "INFO:tensorflow:Done calling model_fn.\n",
      "INFO:tensorflow:Starting evaluation at 2018-05-18-08:47:53\n",
      "INFO:tensorflow:Graph was finalized.\n",
      "INFO:tensorflow:Restoring parameters from /tmp/tmpro1ajkr_/model.ckpt-500\n",
      "INFO:tensorflow:Running local_init_op.\n",
      "INFO:tensorflow:Done running local_init_op.\n",
      "INFO:tensorflow:Finished evaluation at 2018-05-18-08:47:53\n",
      "INFO:tensorflow:Saving dict for global step 500: accuracy = 0.92468035, average_loss = 0.29588285, global_step = 500, loss = 29.571848\n",
      "INFO:tensorflow:Calling model_fn.\n",
      "INFO:tensorflow:Done calling model_fn.\n",
      "INFO:tensorflow:Graph was finalized.\n",
      "INFO:tensorflow:Restoring parameters from /tmp/tmpro1ajkr_/model.ckpt-500\n",
      "INFO:tensorflow:Running local_init_op.\n",
      "INFO:tensorflow:Done running local_init_op.\n",
      "INFO:tensorflow:Using default config.\n",
      "WARNING:tensorflow:Using temporary folder as model directory: /tmp/tmpn1dz6r1y\n",
      "INFO:tensorflow:Using config: {'_model_dir': '/tmp/tmpn1dz6r1y', '_tf_random_seed': None, '_save_summary_steps': 100, '_save_checkpoints_steps': None, '_save_checkpoints_secs': 600, '_session_config': None, '_keep_checkpoint_max': 5, '_keep_checkpoint_every_n_hours': 10000, '_log_step_count_steps': 100, '_service': None, '_cluster_spec': <tensorflow.python.training.server_lib.ClusterSpec object at 0x7fdcd63430b8>, '_task_type': 'worker', '_task_id': 0, '_global_id_in_cluster': 0, '_master': '', '_evaluation_master': '', '_is_chief': True, '_num_ps_replicas': 0, '_num_worker_replicas': 1}\n",
      "INFO:tensorflow:Calling model_fn.\n",
      "INFO:tensorflow:Done calling model_fn.\n",
      "INFO:tensorflow:Create CheckpointSaverHook.\n",
      "INFO:tensorflow:Graph was finalized.\n",
      "INFO:tensorflow:Running local_init_op.\n",
      "INFO:tensorflow:Done running local_init_op.\n",
      "INFO:tensorflow:Saving checkpoints for 1 into /tmp/tmpn1dz6r1y/model.ckpt.\n",
      "INFO:tensorflow:loss = 197.31021, step = 0\n",
      "INFO:tensorflow:global_step/sec: 151.637\n",
      "INFO:tensorflow:loss = 61.163197, step = 100 (0.668 sec)\n",
      "INFO:tensorflow:global_step/sec: 158.686\n",
      "INFO:tensorflow:loss = 30.67075, step = 200 (0.626 sec)\n",
      "INFO:tensorflow:global_step/sec: 158.527\n",
      "INFO:tensorflow:loss = 32.034275, step = 300 (0.635 sec)\n",
      "INFO:tensorflow:global_step/sec: 166.056\n",
      "INFO:tensorflow:loss = 25.013329, step = 400 (0.597 sec)\n",
      "INFO:tensorflow:global_step/sec: 145.291\n",
      "INFO:tensorflow:loss = 35.269745, step = 500 (0.693 sec)\n",
      "INFO:tensorflow:global_step/sec: 154.451\n",
      "INFO:tensorflow:loss = 23.41799, step = 600 (0.643 sec)\n",
      "INFO:tensorflow:global_step/sec: 158.395\n",
      "INFO:tensorflow:loss = 23.347542, step = 700 (0.636 sec)\n",
      "INFO:tensorflow:global_step/sec: 173.138\n",
      "INFO:tensorflow:loss = 22.200747, step = 800 (0.578 sec)\n",
      "INFO:tensorflow:global_step/sec: 158.126\n",
      "INFO:tensorflow:loss = 19.434414, step = 900 (0.631 sec)\n",
      "INFO:tensorflow:Saving checkpoints for 1000 into /tmp/tmpn1dz6r1y/model.ckpt.\n",
      "INFO:tensorflow:Loss for final step: 35.751537.\n",
      "INFO:tensorflow:Calling model_fn.\n",
      "INFO:tensorflow:Done calling model_fn.\n",
      "INFO:tensorflow:Starting evaluation at 2018-05-18-08:48:02\n",
      "INFO:tensorflow:Graph was finalized.\n",
      "INFO:tensorflow:Restoring parameters from /tmp/tmpn1dz6r1y/model.ckpt-1000\n",
      "INFO:tensorflow:Running local_init_op.\n",
      "INFO:tensorflow:Done running local_init_op.\n",
      "INFO:tensorflow:Finished evaluation at 2018-05-18-08:48:03\n",
      "INFO:tensorflow:Saving dict for global step 1000: accuracy = 0.954955, average_loss = 0.20790964, global_step = 1000, loss = 20.000908\n",
      "INFO:tensorflow:Calling model_fn.\n",
      "INFO:tensorflow:Done calling model_fn.\n",
      "INFO:tensorflow:Graph was finalized.\n",
      "INFO:tensorflow:Restoring parameters from /tmp/tmpn1dz6r1y/model.ckpt-1000\n",
      "INFO:tensorflow:Running local_init_op.\n",
      "INFO:tensorflow:Done running local_init_op.\n",
      "INFO:tensorflow:Using default config.\n",
      "WARNING:tensorflow:Using temporary folder as model directory: /tmp/tmp0to4zai4\n",
      "INFO:tensorflow:Using config: {'_model_dir': '/tmp/tmp0to4zai4', '_tf_random_seed': None, '_save_summary_steps': 100, '_save_checkpoints_steps': None, '_save_checkpoints_secs': 600, '_session_config': None, '_keep_checkpoint_max': 5, '_keep_checkpoint_every_n_hours': 10000, '_log_step_count_steps': 100, '_service': None, '_cluster_spec': <tensorflow.python.training.server_lib.ClusterSpec object at 0x7fdcd67d0470>, '_task_type': 'worker', '_task_id': 0, '_global_id_in_cluster': 0, '_master': '', '_evaluation_master': '', '_is_chief': True, '_num_ps_replicas': 0, '_num_worker_replicas': 1}\n",
      "INFO:tensorflow:Calling model_fn.\n",
      "INFO:tensorflow:Done calling model_fn.\n",
      "INFO:tensorflow:Create CheckpointSaverHook.\n",
      "INFO:tensorflow:Graph was finalized.\n",
      "INFO:tensorflow:Running local_init_op.\n",
      "INFO:tensorflow:Done running local_init_op.\n",
      "INFO:tensorflow:Saving checkpoints for 1 into /tmp/tmp0to4zai4/model.ckpt.\n",
      "INFO:tensorflow:loss = 231.73056, step = 0\n",
      "INFO:tensorflow:global_step/sec: 146.153\n",
      "INFO:tensorflow:loss = 76.47015, step = 100 (0.688 sec)\n",
      "INFO:tensorflow:global_step/sec: 157.778\n",
      "INFO:tensorflow:loss = 43.49514, step = 200 (0.632 sec)\n",
      "INFO:tensorflow:global_step/sec: 162.652\n",
      "INFO:tensorflow:loss = 30.294582, step = 300 (0.618 sec)\n",
      "INFO:tensorflow:global_step/sec: 161.707\n",
      "INFO:tensorflow:loss = 39.41176, step = 400 (0.621 sec)\n",
      "INFO:tensorflow:global_step/sec: 170.092\n",
      "INFO:tensorflow:loss = 21.490213, step = 500 (0.586 sec)\n",
      "INFO:tensorflow:global_step/sec: 157.402\n",
      "INFO:tensorflow:loss = 19.517836, step = 600 (0.636 sec)\n",
      "INFO:tensorflow:global_step/sec: 155.889\n",
      "INFO:tensorflow:loss = 32.24878, step = 700 (0.640 sec)\n",
      "INFO:tensorflow:global_step/sec: 159.606\n",
      "INFO:tensorflow:loss = 25.591166, step = 800 (0.630 sec)\n",
      "INFO:tensorflow:global_step/sec: 159.594\n",
      "INFO:tensorflow:loss = 14.264013, step = 900 (0.625 sec)\n",
      "INFO:tensorflow:Saving checkpoints for 1000 into /tmp/tmp0to4zai4/model.ckpt.\n",
      "INFO:tensorflow:Loss for final step: 28.481554.\n",
      "INFO:tensorflow:Calling model_fn.\n",
      "INFO:tensorflow:Done calling model_fn.\n",
      "INFO:tensorflow:Starting evaluation at 2018-05-18-08:48:11\n",
      "INFO:tensorflow:Graph was finalized.\n",
      "INFO:tensorflow:Restoring parameters from /tmp/tmp0to4zai4/model.ckpt-1000\n",
      "INFO:tensorflow:Running local_init_op.\n",
      "INFO:tensorflow:Done running local_init_op.\n",
      "INFO:tensorflow:Finished evaluation at 2018-05-18-08:48:12\n",
      "INFO:tensorflow:Saving dict for global step 1000: accuracy = 0.94608116, average_loss = 0.24037565, global_step = 1000, loss = 24.02421\n",
      "INFO:tensorflow:Calling model_fn.\n",
      "INFO:tensorflow:Done calling model_fn.\n",
      "INFO:tensorflow:Graph was finalized.\n",
      "INFO:tensorflow:Restoring parameters from /tmp/tmp0to4zai4/model.ckpt-1000\n",
      "INFO:tensorflow:Running local_init_op.\n",
      "INFO:tensorflow:Done running local_init_op.\n",
      "INFO:tensorflow:Using default config.\n",
      "WARNING:tensorflow:Using temporary folder as model directory: /tmp/tmpwh1qqbhv\n",
      "INFO:tensorflow:Using config: {'_model_dir': '/tmp/tmpwh1qqbhv', '_tf_random_seed': None, '_save_summary_steps': 100, '_save_checkpoints_steps': None, '_save_checkpoints_secs': 600, '_session_config': None, '_keep_checkpoint_max': 5, '_keep_checkpoint_every_n_hours': 10000, '_log_step_count_steps': 100, '_service': None, '_cluster_spec': <tensorflow.python.training.server_lib.ClusterSpec object at 0x7fdcd64d00b8>, '_task_type': 'worker', '_task_id': 0, '_global_id_in_cluster': 0, '_master': '', '_evaluation_master': '', '_is_chief': True, '_num_ps_replicas': 0, '_num_worker_replicas': 1}\n",
      "INFO:tensorflow:Calling model_fn.\n",
      "INFO:tensorflow:Done calling model_fn.\n",
      "INFO:tensorflow:Create CheckpointSaverHook.\n",
      "INFO:tensorflow:Graph was finalized.\n",
      "INFO:tensorflow:Running local_init_op.\n",
      "INFO:tensorflow:Done running local_init_op.\n",
      "INFO:tensorflow:Saving checkpoints for 1 into /tmp/tmpwh1qqbhv/model.ckpt.\n",
      "INFO:tensorflow:loss = 261.00073, step = 0\n",
      "INFO:tensorflow:global_step/sec: 154.538\n",
      "INFO:tensorflow:loss = 50.47583, step = 100 (0.652 sec)\n",
      "INFO:tensorflow:global_step/sec: 160.627\n",
      "INFO:tensorflow:loss = 43.475056, step = 200 (0.623 sec)\n",
      "INFO:tensorflow:global_step/sec: 159.311\n",
      "INFO:tensorflow:loss = 32.56017, step = 300 (0.631 sec)\n"
     ]
    },
    {
     "name": "stdout",
     "output_type": "stream",
     "text": [
      "INFO:tensorflow:global_step/sec: 166.992\n",
      "INFO:tensorflow:loss = 29.444244, step = 400 (0.596 sec)\n",
      "INFO:tensorflow:global_step/sec: 157.23\n",
      "INFO:tensorflow:loss = 25.250647, step = 500 (0.635 sec)\n",
      "INFO:tensorflow:global_step/sec: 156.741\n",
      "INFO:tensorflow:loss = 28.999695, step = 600 (0.639 sec)\n",
      "INFO:tensorflow:global_step/sec: 157.953\n",
      "INFO:tensorflow:loss = 30.189806, step = 700 (0.630 sec)\n",
      "INFO:tensorflow:global_step/sec: 173.042\n",
      "INFO:tensorflow:loss = 22.483297, step = 800 (0.577 sec)\n",
      "INFO:tensorflow:global_step/sec: 157.293\n",
      "INFO:tensorflow:loss = 24.804548, step = 900 (0.638 sec)\n",
      "INFO:tensorflow:global_step/sec: 155.318\n",
      "INFO:tensorflow:loss = 30.461168, step = 1000 (0.648 sec)\n",
      "INFO:tensorflow:global_step/sec: 158.197\n",
      "INFO:tensorflow:loss = 15.037172, step = 1100 (0.629 sec)\n",
      "INFO:tensorflow:global_step/sec: 176.799\n",
      "INFO:tensorflow:loss = 19.97707, step = 1200 (0.565 sec)\n",
      "INFO:tensorflow:global_step/sec: 156.068\n",
      "INFO:tensorflow:loss = 16.45625, step = 1300 (0.640 sec)\n",
      "INFO:tensorflow:global_step/sec: 153.224\n",
      "INFO:tensorflow:loss = 34.00746, step = 1400 (0.651 sec)\n",
      "INFO:tensorflow:Saving checkpoints for 1500 into /tmp/tmpwh1qqbhv/model.ckpt.\n",
      "INFO:tensorflow:Loss for final step: 13.111753.\n",
      "INFO:tensorflow:Calling model_fn.\n",
      "INFO:tensorflow:Done calling model_fn.\n",
      "INFO:tensorflow:Starting evaluation at 2018-05-18-08:48:24\n",
      "INFO:tensorflow:Graph was finalized.\n",
      "INFO:tensorflow:Restoring parameters from /tmp/tmpwh1qqbhv/model.ckpt-1500\n",
      "INFO:tensorflow:Running local_init_op.\n",
      "INFO:tensorflow:Done running local_init_op.\n",
      "INFO:tensorflow:Finished evaluation at 2018-05-18-08:48:24\n",
      "INFO:tensorflow:Saving dict for global step 1500: accuracy = 0.952876, average_loss = 0.19498393, global_step = 1500, loss = 18.757454\n",
      "INFO:tensorflow:Calling model_fn.\n",
      "INFO:tensorflow:Done calling model_fn.\n",
      "INFO:tensorflow:Graph was finalized.\n",
      "INFO:tensorflow:Restoring parameters from /tmp/tmpwh1qqbhv/model.ckpt-1500\n",
      "INFO:tensorflow:Running local_init_op.\n",
      "INFO:tensorflow:Done running local_init_op.\n",
      "INFO:tensorflow:Using default config.\n",
      "WARNING:tensorflow:Using temporary folder as model directory: /tmp/tmpyftoqf75\n",
      "INFO:tensorflow:Using config: {'_model_dir': '/tmp/tmpyftoqf75', '_tf_random_seed': None, '_save_summary_steps': 100, '_save_checkpoints_steps': None, '_save_checkpoints_secs': 600, '_session_config': None, '_keep_checkpoint_max': 5, '_keep_checkpoint_every_n_hours': 10000, '_log_step_count_steps': 100, '_service': None, '_cluster_spec': <tensorflow.python.training.server_lib.ClusterSpec object at 0x7fdcda357908>, '_task_type': 'worker', '_task_id': 0, '_global_id_in_cluster': 0, '_master': '', '_evaluation_master': '', '_is_chief': True, '_num_ps_replicas': 0, '_num_worker_replicas': 1}\n",
      "INFO:tensorflow:Calling model_fn.\n",
      "INFO:tensorflow:Done calling model_fn.\n",
      "INFO:tensorflow:Create CheckpointSaverHook.\n",
      "INFO:tensorflow:Graph was finalized.\n",
      "INFO:tensorflow:Running local_init_op.\n",
      "INFO:tensorflow:Done running local_init_op.\n",
      "INFO:tensorflow:Saving checkpoints for 1 into /tmp/tmpyftoqf75/model.ckpt.\n",
      "INFO:tensorflow:loss = 229.24365, step = 0\n",
      "INFO:tensorflow:global_step/sec: 145.364\n",
      "INFO:tensorflow:loss = 68.658844, step = 100 (0.694 sec)\n",
      "INFO:tensorflow:global_step/sec: 156.525\n",
      "INFO:tensorflow:loss = 46.75296, step = 200 (0.640 sec)\n",
      "INFO:tensorflow:global_step/sec: 155.52\n",
      "INFO:tensorflow:loss = 24.296106, step = 300 (0.640 sec)\n",
      "INFO:tensorflow:global_step/sec: 152.974\n",
      "INFO:tensorflow:loss = 31.415527, step = 400 (0.651 sec)\n",
      "INFO:tensorflow:global_step/sec: 167.557\n",
      "INFO:tensorflow:loss = 24.291212, step = 500 (0.600 sec)\n",
      "INFO:tensorflow:global_step/sec: 160.378\n",
      "INFO:tensorflow:loss = 22.474632, step = 600 (0.623 sec)\n",
      "INFO:tensorflow:global_step/sec: 159.203\n",
      "INFO:tensorflow:loss = 22.213202, step = 700 (0.630 sec)\n",
      "INFO:tensorflow:global_step/sec: 158.997\n",
      "INFO:tensorflow:loss = 15.924443, step = 800 (0.630 sec)\n",
      "INFO:tensorflow:global_step/sec: 159.132\n",
      "INFO:tensorflow:loss = 18.04061, step = 900 (0.623 sec)\n",
      "INFO:tensorflow:global_step/sec: 171.767\n",
      "INFO:tensorflow:loss = 34.60938, step = 1000 (0.588 sec)\n",
      "INFO:tensorflow:global_step/sec: 157.562\n",
      "INFO:tensorflow:loss = 27.375954, step = 1100 (0.634 sec)\n",
      "INFO:tensorflow:global_step/sec: 149.949\n",
      "INFO:tensorflow:loss = 22.277203, step = 1200 (0.668 sec)\n",
      "INFO:tensorflow:global_step/sec: 154.376\n",
      "INFO:tensorflow:loss = 21.52747, step = 1300 (0.647 sec)\n",
      "INFO:tensorflow:global_step/sec: 159.586\n",
      "INFO:tensorflow:loss = 16.744375, step = 1400 (0.624 sec)\n",
      "INFO:tensorflow:Saving checkpoints for 1500 into /tmp/tmpyftoqf75/model.ckpt.\n",
      "INFO:tensorflow:Loss for final step: 18.547874.\n",
      "INFO:tensorflow:Calling model_fn.\n",
      "INFO:tensorflow:Done calling model_fn.\n",
      "INFO:tensorflow:Starting evaluation at 2018-05-18-08:48:36\n",
      "INFO:tensorflow:Graph was finalized.\n",
      "INFO:tensorflow:Restoring parameters from /tmp/tmpyftoqf75/model.ckpt-1500\n",
      "INFO:tensorflow:Running local_init_op.\n",
      "INFO:tensorflow:Done running local_init_op.\n",
      "INFO:tensorflow:Finished evaluation at 2018-05-18-08:48:37\n",
      "INFO:tensorflow:Saving dict for global step 1500: accuracy = 0.9519177, average_loss = 0.20973124, global_step = 1500, loss = 20.961472\n",
      "INFO:tensorflow:Calling model_fn.\n",
      "INFO:tensorflow:Done calling model_fn.\n",
      "INFO:tensorflow:Graph was finalized.\n",
      "INFO:tensorflow:Restoring parameters from /tmp/tmpyftoqf75/model.ckpt-1500\n",
      "INFO:tensorflow:Running local_init_op.\n",
      "INFO:tensorflow:Done running local_init_op.\n",
      "INFO:tensorflow:Using default config.\n",
      "WARNING:tensorflow:Using temporary folder as model directory: /tmp/tmpcy3qmcz_\n",
      "INFO:tensorflow:Using config: {'_model_dir': '/tmp/tmpcy3qmcz_', '_tf_random_seed': None, '_save_summary_steps': 100, '_save_checkpoints_steps': None, '_save_checkpoints_secs': 600, '_session_config': None, '_keep_checkpoint_max': 5, '_keep_checkpoint_every_n_hours': 10000, '_log_step_count_steps': 100, '_service': None, '_cluster_spec': <tensorflow.python.training.server_lib.ClusterSpec object at 0x7fdcd69bc048>, '_task_type': 'worker', '_task_id': 0, '_global_id_in_cluster': 0, '_master': '', '_evaluation_master': '', '_is_chief': True, '_num_ps_replicas': 0, '_num_worker_replicas': 1}\n",
      "INFO:tensorflow:Calling model_fn.\n",
      "INFO:tensorflow:Done calling model_fn.\n",
      "INFO:tensorflow:Create CheckpointSaverHook.\n",
      "INFO:tensorflow:Graph was finalized.\n",
      "INFO:tensorflow:Running local_init_op.\n",
      "INFO:tensorflow:Done running local_init_op.\n",
      "INFO:tensorflow:Saving checkpoints for 1 into /tmp/tmpcy3qmcz_/model.ckpt.\n",
      "INFO:tensorflow:loss = 272.84564, step = 0\n",
      "INFO:tensorflow:global_step/sec: 148.186\n",
      "INFO:tensorflow:loss = 62.51, step = 100 (0.678 sec)\n",
      "INFO:tensorflow:global_step/sec: 160.519\n",
      "INFO:tensorflow:loss = 48.546585, step = 200 (0.626 sec)\n",
      "INFO:tensorflow:global_step/sec: 154.301\n",
      "INFO:tensorflow:loss = 39.771736, step = 300 (0.646 sec)\n",
      "INFO:tensorflow:global_step/sec: 167.212\n",
      "INFO:tensorflow:loss = 30.02253, step = 400 (0.595 sec)\n",
      "INFO:tensorflow:global_step/sec: 158.865\n",
      "INFO:tensorflow:loss = 37.78272, step = 500 (0.634 sec)\n",
      "INFO:tensorflow:global_step/sec: 161.935\n",
      "INFO:tensorflow:loss = 28.15431, step = 600 (0.617 sec)\n",
      "INFO:tensorflow:global_step/sec: 160.916\n",
      "INFO:tensorflow:loss = 36.611374, step = 700 (0.617 sec)\n",
      "INFO:tensorflow:global_step/sec: 176.363\n",
      "INFO:tensorflow:loss = 23.549265, step = 800 (0.567 sec)\n",
      "INFO:tensorflow:global_step/sec: 159.57\n",
      "INFO:tensorflow:loss = 33.695675, step = 900 (0.627 sec)\n",
      "INFO:tensorflow:global_step/sec: 159.56\n",
      "INFO:tensorflow:loss = 27.803751, step = 1000 (0.628 sec)\n",
      "INFO:tensorflow:global_step/sec: 157.368\n",
      "INFO:tensorflow:loss = 21.72916, step = 1100 (0.636 sec)\n",
      "INFO:tensorflow:global_step/sec: 172.062\n",
      "INFO:tensorflow:loss = 15.311823, step = 1200 (0.578 sec)\n",
      "INFO:tensorflow:global_step/sec: 157.993\n",
      "INFO:tensorflow:loss = 17.386103, step = 1300 (0.636 sec)\n",
      "INFO:tensorflow:global_step/sec: 156.493\n",
      "INFO:tensorflow:loss = 16.84466, step = 1400 (0.637 sec)\n",
      "INFO:tensorflow:global_step/sec: 159.186\n",
      "INFO:tensorflow:loss = 12.427022, step = 1500 (0.634 sec)\n",
      "INFO:tensorflow:global_step/sec: 172.485\n",
      "INFO:tensorflow:loss = 12.8880625, step = 1600 (0.573 sec)\n",
      "INFO:tensorflow:global_step/sec: 160.075\n",
      "INFO:tensorflow:loss = 27.039122, step = 1700 (0.625 sec)\n",
      "INFO:tensorflow:global_step/sec: 161.921\n",
      "INFO:tensorflow:loss = 22.516905, step = 1800 (0.617 sec)\n",
      "INFO:tensorflow:global_step/sec: 160.192\n",
      "INFO:tensorflow:loss = 22.81371, step = 1900 (0.628 sec)\n",
      "INFO:tensorflow:Saving checkpoints for 2000 into /tmp/tmpcy3qmcz_/model.ckpt.\n",
      "INFO:tensorflow:Loss for final step: 11.389824.\n",
      "INFO:tensorflow:Calling model_fn.\n",
      "INFO:tensorflow:Done calling model_fn.\n",
      "INFO:tensorflow:Starting evaluation at 2018-05-18-08:48:52\n",
      "INFO:tensorflow:Graph was finalized.\n",
      "INFO:tensorflow:Restoring parameters from /tmp/tmpcy3qmcz_/model.ckpt-2000\n",
      "INFO:tensorflow:Running local_init_op.\n",
      "INFO:tensorflow:Done running local_init_op.\n",
      "INFO:tensorflow:Finished evaluation at 2018-05-18-08:48:52\n",
      "INFO:tensorflow:Saving dict for global step 2000: accuracy = 0.95218295, average_loss = 0.19553196, global_step = 2000, loss = 18.810175\n",
      "INFO:tensorflow:Calling model_fn.\n",
      "INFO:tensorflow:Done calling model_fn.\n",
      "INFO:tensorflow:Graph was finalized.\n",
      "INFO:tensorflow:Restoring parameters from /tmp/tmpcy3qmcz_/model.ckpt-2000\n",
      "INFO:tensorflow:Running local_init_op.\n",
      "INFO:tensorflow:Done running local_init_op.\n",
      "INFO:tensorflow:Using default config.\n",
      "WARNING:tensorflow:Using temporary folder as model directory: /tmp/tmpbquzemnm\n",
      "INFO:tensorflow:Using config: {'_model_dir': '/tmp/tmpbquzemnm', '_tf_random_seed': None, '_save_summary_steps': 100, '_save_checkpoints_steps': None, '_save_checkpoints_secs': 600, '_session_config': None, '_keep_checkpoint_max': 5, '_keep_checkpoint_every_n_hours': 10000, '_log_step_count_steps': 100, '_service': None, '_cluster_spec': <tensorflow.python.training.server_lib.ClusterSpec object at 0x7fdcd62707f0>, '_task_type': 'worker', '_task_id': 0, '_global_id_in_cluster': 0, '_master': '', '_evaluation_master': '', '_is_chief': True, '_num_ps_replicas': 0, '_num_worker_replicas': 1}\n",
      "INFO:tensorflow:Calling model_fn.\n",
      "INFO:tensorflow:Done calling model_fn.\n",
      "INFO:tensorflow:Create CheckpointSaverHook.\n",
      "INFO:tensorflow:Graph was finalized.\n",
      "INFO:tensorflow:Running local_init_op.\n",
      "INFO:tensorflow:Done running local_init_op.\n",
      "INFO:tensorflow:Saving checkpoints for 1 into /tmp/tmpbquzemnm/model.ckpt.\n",
      "INFO:tensorflow:loss = 304.7003, step = 0\n",
      "INFO:tensorflow:global_step/sec: 142.568\n",
      "INFO:tensorflow:loss = 77.394905, step = 100 (0.708 sec)\n",
      "INFO:tensorflow:global_step/sec: 163.209\n",
      "INFO:tensorflow:loss = 46.61163, step = 200 (0.612 sec)\n",
      "INFO:tensorflow:global_step/sec: 162.286\n"
     ]
    },
    {
     "name": "stdout",
     "output_type": "stream",
     "text": [
      "INFO:tensorflow:loss = 30.886652, step = 300 (0.612 sec)\n",
      "INFO:tensorflow:global_step/sec: 157.313\n",
      "INFO:tensorflow:loss = 27.08188, step = 400 (0.639 sec)\n",
      "INFO:tensorflow:global_step/sec: 169.253\n",
      "INFO:tensorflow:loss = 37.562668, step = 500 (0.588 sec)\n",
      "INFO:tensorflow:global_step/sec: 159.119\n",
      "INFO:tensorflow:loss = 29.186346, step = 600 (0.628 sec)\n",
      "INFO:tensorflow:global_step/sec: 161.027\n",
      "INFO:tensorflow:loss = 27.817034, step = 700 (0.621 sec)\n",
      "INFO:tensorflow:global_step/sec: 161.282\n",
      "INFO:tensorflow:loss = 33.225155, step = 800 (0.625 sec)\n",
      "INFO:tensorflow:global_step/sec: 157.457\n",
      "INFO:tensorflow:loss = 27.80662, step = 900 (0.630 sec)\n",
      "INFO:tensorflow:global_step/sec: 171.382\n",
      "INFO:tensorflow:loss = 22.718927, step = 1000 (0.583 sec)\n",
      "INFO:tensorflow:global_step/sec: 154.429\n",
      "INFO:tensorflow:loss = 12.440826, step = 1100 (0.648 sec)\n",
      "INFO:tensorflow:global_step/sec: 161.822\n",
      "INFO:tensorflow:loss = 23.579935, step = 1200 (0.621 sec)\n",
      "INFO:tensorflow:global_step/sec: 161.146\n",
      "INFO:tensorflow:loss = 22.777555, step = 1300 (0.621 sec)\n",
      "INFO:tensorflow:global_step/sec: 165.664\n",
      "INFO:tensorflow:loss = 15.691182, step = 1400 (0.606 sec)\n",
      "INFO:tensorflow:global_step/sec: 159.884\n",
      "INFO:tensorflow:loss = 11.482032, step = 1500 (0.623 sec)\n",
      "INFO:tensorflow:global_step/sec: 151.684\n",
      "INFO:tensorflow:loss = 19.302326, step = 1600 (0.656 sec)\n",
      "INFO:tensorflow:global_step/sec: 158.075\n",
      "INFO:tensorflow:loss = 20.805136, step = 1700 (0.638 sec)\n",
      "INFO:tensorflow:global_step/sec: 162.089\n",
      "INFO:tensorflow:loss = 8.274093, step = 1800 (0.615 sec)\n",
      "INFO:tensorflow:global_step/sec: 168.01\n",
      "INFO:tensorflow:loss = 18.632912, step = 1900 (0.595 sec)\n",
      "INFO:tensorflow:Saving checkpoints for 2000 into /tmp/tmpbquzemnm/model.ckpt.\n",
      "INFO:tensorflow:Loss for final step: 14.398432.\n",
      "INFO:tensorflow:Calling model_fn.\n",
      "INFO:tensorflow:Done calling model_fn.\n",
      "INFO:tensorflow:Starting evaluation at 2018-05-18-08:49:07\n",
      "INFO:tensorflow:Graph was finalized.\n",
      "INFO:tensorflow:Restoring parameters from /tmp/tmpbquzemnm/model.ckpt-2000\n",
      "INFO:tensorflow:Running local_init_op.\n",
      "INFO:tensorflow:Done running local_init_op.\n",
      "INFO:tensorflow:Finished evaluation at 2018-05-18-08:49:08\n",
      "INFO:tensorflow:Saving dict for global step 2000: accuracy = 0.9585881, average_loss = 0.18836088, global_step = 2000, loss = 18.825624\n",
      "INFO:tensorflow:Calling model_fn.\n",
      "INFO:tensorflow:Done calling model_fn.\n",
      "INFO:tensorflow:Graph was finalized.\n",
      "INFO:tensorflow:Restoring parameters from /tmp/tmpbquzemnm/model.ckpt-2000\n",
      "INFO:tensorflow:Running local_init_op.\n",
      "INFO:tensorflow:Done running local_init_op.\n",
      "INFO:tensorflow:Using default config.\n",
      "WARNING:tensorflow:Using temporary folder as model directory: /tmp/tmp1x328igi\n",
      "INFO:tensorflow:Using config: {'_model_dir': '/tmp/tmp1x328igi', '_tf_random_seed': None, '_save_summary_steps': 100, '_save_checkpoints_steps': None, '_save_checkpoints_secs': 600, '_session_config': None, '_keep_checkpoint_max': 5, '_keep_checkpoint_every_n_hours': 10000, '_log_step_count_steps': 100, '_service': None, '_cluster_spec': <tensorflow.python.training.server_lib.ClusterSpec object at 0x7fdcd6571198>, '_task_type': 'worker', '_task_id': 0, '_global_id_in_cluster': 0, '_master': '', '_evaluation_master': '', '_is_chief': True, '_num_ps_replicas': 0, '_num_worker_replicas': 1}\n",
      "INFO:tensorflow:Calling model_fn.\n",
      "INFO:tensorflow:Done calling model_fn.\n",
      "INFO:tensorflow:Create CheckpointSaverHook.\n",
      "INFO:tensorflow:Graph was finalized.\n",
      "INFO:tensorflow:Running local_init_op.\n",
      "INFO:tensorflow:Done running local_init_op.\n",
      "INFO:tensorflow:Saving checkpoints for 1 into /tmp/tmp1x328igi/model.ckpt.\n",
      "INFO:tensorflow:loss = 277.94836, step = 0\n",
      "INFO:tensorflow:Saving checkpoints for 100 into /tmp/tmp1x328igi/model.ckpt.\n",
      "INFO:tensorflow:Loss for final step: 140.72647.\n",
      "INFO:tensorflow:Calling model_fn.\n",
      "INFO:tensorflow:Done calling model_fn.\n",
      "INFO:tensorflow:Starting evaluation at 2018-05-18-08:49:11\n",
      "INFO:tensorflow:Graph was finalized.\n",
      "INFO:tensorflow:Restoring parameters from /tmp/tmp1x328igi/model.ckpt-100\n",
      "INFO:tensorflow:Running local_init_op.\n",
      "INFO:tensorflow:Done running local_init_op.\n",
      "INFO:tensorflow:Finished evaluation at 2018-05-18-08:49:11\n",
      "INFO:tensorflow:Saving dict for global step 100: accuracy = 0.5079695, average_loss = 1.267191, global_step = 100, loss = 121.90378\n",
      "INFO:tensorflow:Calling model_fn.\n",
      "INFO:tensorflow:Done calling model_fn.\n",
      "INFO:tensorflow:Graph was finalized.\n",
      "INFO:tensorflow:Restoring parameters from /tmp/tmp1x328igi/model.ckpt-100\n",
      "INFO:tensorflow:Running local_init_op.\n",
      "INFO:tensorflow:Done running local_init_op.\n",
      "INFO:tensorflow:Using default config.\n",
      "WARNING:tensorflow:Using temporary folder as model directory: /tmp/tmpyinj1_ml\n",
      "INFO:tensorflow:Using config: {'_model_dir': '/tmp/tmpyinj1_ml', '_tf_random_seed': None, '_save_summary_steps': 100, '_save_checkpoints_steps': None, '_save_checkpoints_secs': 600, '_session_config': None, '_keep_checkpoint_max': 5, '_keep_checkpoint_every_n_hours': 10000, '_log_step_count_steps': 100, '_service': None, '_cluster_spec': <tensorflow.python.training.server_lib.ClusterSpec object at 0x7fdcdaf76748>, '_task_type': 'worker', '_task_id': 0, '_global_id_in_cluster': 0, '_master': '', '_evaluation_master': '', '_is_chief': True, '_num_ps_replicas': 0, '_num_worker_replicas': 1}\n",
      "INFO:tensorflow:Calling model_fn.\n",
      "INFO:tensorflow:Done calling model_fn.\n",
      "INFO:tensorflow:Create CheckpointSaverHook.\n",
      "INFO:tensorflow:Graph was finalized.\n",
      "INFO:tensorflow:Running local_init_op.\n",
      "INFO:tensorflow:Done running local_init_op.\n",
      "INFO:tensorflow:Saving checkpoints for 1 into /tmp/tmpyinj1_ml/model.ckpt.\n",
      "INFO:tensorflow:loss = 225.77293, step = 0\n",
      "INFO:tensorflow:Saving checkpoints for 100 into /tmp/tmpyinj1_ml/model.ckpt.\n",
      "INFO:tensorflow:Loss for final step: 99.06088.\n",
      "INFO:tensorflow:Calling model_fn.\n",
      "INFO:tensorflow:Done calling model_fn.\n",
      "INFO:tensorflow:Starting evaluation at 2018-05-18-08:49:15\n",
      "INFO:tensorflow:Graph was finalized.\n",
      "INFO:tensorflow:Restoring parameters from /tmp/tmpyinj1_ml/model.ckpt-100\n",
      "INFO:tensorflow:Running local_init_op.\n",
      "INFO:tensorflow:Done running local_init_op.\n",
      "INFO:tensorflow:Finished evaluation at 2018-05-18-08:49:15\n",
      "INFO:tensorflow:Saving dict for global step 100: accuracy = 0.6292385, average_loss = 1.1001502, global_step = 100, loss = 109.9539\n",
      "INFO:tensorflow:Calling model_fn.\n",
      "INFO:tensorflow:Done calling model_fn.\n",
      "INFO:tensorflow:Graph was finalized.\n",
      "INFO:tensorflow:Restoring parameters from /tmp/tmpyinj1_ml/model.ckpt-100\n",
      "INFO:tensorflow:Running local_init_op.\n",
      "INFO:tensorflow:Done running local_init_op.\n",
      "INFO:tensorflow:Using default config.\n",
      "WARNING:tensorflow:Using temporary folder as model directory: /tmp/tmpz1nn4to8\n",
      "INFO:tensorflow:Using config: {'_model_dir': '/tmp/tmpz1nn4to8', '_tf_random_seed': None, '_save_summary_steps': 100, '_save_checkpoints_steps': None, '_save_checkpoints_secs': 600, '_session_config': None, '_keep_checkpoint_max': 5, '_keep_checkpoint_every_n_hours': 10000, '_log_step_count_steps': 100, '_service': None, '_cluster_spec': <tensorflow.python.training.server_lib.ClusterSpec object at 0x7fdcd6771be0>, '_task_type': 'worker', '_task_id': 0, '_global_id_in_cluster': 0, '_master': '', '_evaluation_master': '', '_is_chief': True, '_num_ps_replicas': 0, '_num_worker_replicas': 1}\n",
      "INFO:tensorflow:Calling model_fn.\n",
      "INFO:tensorflow:Done calling model_fn.\n",
      "INFO:tensorflow:Create CheckpointSaverHook.\n",
      "INFO:tensorflow:Graph was finalized.\n",
      "INFO:tensorflow:Running local_init_op.\n",
      "INFO:tensorflow:Done running local_init_op.\n",
      "INFO:tensorflow:Saving checkpoints for 1 into /tmp/tmpz1nn4to8/model.ckpt.\n",
      "INFO:tensorflow:loss = 250.62312, step = 0\n",
      "INFO:tensorflow:global_step/sec: 144.647\n",
      "INFO:tensorflow:loss = 109.03726, step = 100 (0.698 sec)\n",
      "INFO:tensorflow:Saving checkpoints for 200 into /tmp/tmpz1nn4to8/model.ckpt.\n",
      "INFO:tensorflow:Loss for final step: 91.01842.\n",
      "INFO:tensorflow:Calling model_fn.\n",
      "INFO:tensorflow:Done calling model_fn.\n",
      "INFO:tensorflow:Starting evaluation at 2018-05-18-08:49:20\n",
      "INFO:tensorflow:Graph was finalized.\n",
      "INFO:tensorflow:Restoring parameters from /tmp/tmpz1nn4to8/model.ckpt-200\n",
      "INFO:tensorflow:Running local_init_op.\n",
      "INFO:tensorflow:Done running local_init_op.\n",
      "INFO:tensorflow:Finished evaluation at 2018-05-18-08:49:20\n",
      "INFO:tensorflow:Saving dict for global step 200: accuracy = 0.72141373, average_loss = 0.9517437, global_step = 200, loss = 91.55775\n",
      "INFO:tensorflow:Calling model_fn.\n",
      "INFO:tensorflow:Done calling model_fn.\n",
      "INFO:tensorflow:Graph was finalized.\n",
      "INFO:tensorflow:Restoring parameters from /tmp/tmpz1nn4to8/model.ckpt-200\n",
      "INFO:tensorflow:Running local_init_op.\n",
      "INFO:tensorflow:Done running local_init_op.\n",
      "INFO:tensorflow:Using default config.\n",
      "WARNING:tensorflow:Using temporary folder as model directory: /tmp/tmpa61zt61h\n",
      "INFO:tensorflow:Using config: {'_model_dir': '/tmp/tmpa61zt61h', '_tf_random_seed': None, '_save_summary_steps': 100, '_save_checkpoints_steps': None, '_save_checkpoints_secs': 600, '_session_config': None, '_keep_checkpoint_max': 5, '_keep_checkpoint_every_n_hours': 10000, '_log_step_count_steps': 100, '_service': None, '_cluster_spec': <tensorflow.python.training.server_lib.ClusterSpec object at 0x7fdcdaf76b38>, '_task_type': 'worker', '_task_id': 0, '_global_id_in_cluster': 0, '_master': '', '_evaluation_master': '', '_is_chief': True, '_num_ps_replicas': 0, '_num_worker_replicas': 1}\n",
      "INFO:tensorflow:Calling model_fn.\n",
      "INFO:tensorflow:Done calling model_fn.\n",
      "INFO:tensorflow:Create CheckpointSaverHook.\n",
      "INFO:tensorflow:Graph was finalized.\n",
      "INFO:tensorflow:Running local_init_op.\n",
      "INFO:tensorflow:Done running local_init_op.\n",
      "INFO:tensorflow:Saving checkpoints for 1 into /tmp/tmpa61zt61h/model.ckpt.\n",
      "INFO:tensorflow:loss = 247.70703, step = 0\n",
      "INFO:tensorflow:global_step/sec: 136.144\n",
      "INFO:tensorflow:loss = 106.94572, step = 100 (0.740 sec)\n",
      "INFO:tensorflow:Saving checkpoints for 200 into /tmp/tmpa61zt61h/model.ckpt.\n",
      "INFO:tensorflow:Loss for final step: 110.28281.\n",
      "INFO:tensorflow:Calling model_fn.\n",
      "INFO:tensorflow:Done calling model_fn.\n",
      "INFO:tensorflow:Starting evaluation at 2018-05-18-08:49:24\n",
      "INFO:tensorflow:Graph was finalized.\n",
      "INFO:tensorflow:Restoring parameters from /tmp/tmpa61zt61h/model.ckpt-200\n",
      "INFO:tensorflow:Running local_init_op.\n",
      "INFO:tensorflow:Done running local_init_op.\n",
      "INFO:tensorflow:Finished evaluation at 2018-05-18-08:49:24\n",
      "INFO:tensorflow:Saving dict for global step 200: accuracy = 0.63535297, average_loss = 1.0296732, global_step = 200, loss = 102.910126\n",
      "INFO:tensorflow:Calling model_fn.\n",
      "INFO:tensorflow:Done calling model_fn.\n",
      "INFO:tensorflow:Graph was finalized.\n",
      "INFO:tensorflow:Restoring parameters from /tmp/tmpa61zt61h/model.ckpt-200\n",
      "INFO:tensorflow:Running local_init_op.\n",
      "INFO:tensorflow:Done running local_init_op.\n",
      "INFO:tensorflow:Using default config.\n",
      "WARNING:tensorflow:Using temporary folder as model directory: /tmp/tmp8up0h1qb\n",
      "INFO:tensorflow:Using config: {'_model_dir': '/tmp/tmp8up0h1qb', '_tf_random_seed': None, '_save_summary_steps': 100, '_save_checkpoints_steps': None, '_save_checkpoints_secs': 600, '_session_config': None, '_keep_checkpoint_max': 5, '_keep_checkpoint_every_n_hours': 10000, '_log_step_count_steps': 100, '_service': None, '_cluster_spec': <tensorflow.python.training.server_lib.ClusterSpec object at 0x7fdcd67156a0>, '_task_type': 'worker', '_task_id': 0, '_global_id_in_cluster': 0, '_master': '', '_evaluation_master': '', '_is_chief': True, '_num_ps_replicas': 0, '_num_worker_replicas': 1}\n",
      "INFO:tensorflow:Calling model_fn.\n"
     ]
    },
    {
     "name": "stdout",
     "output_type": "stream",
     "text": [
      "INFO:tensorflow:Done calling model_fn.\n",
      "INFO:tensorflow:Create CheckpointSaverHook.\n",
      "INFO:tensorflow:Graph was finalized.\n",
      "INFO:tensorflow:Running local_init_op.\n",
      "INFO:tensorflow:Done running local_init_op.\n",
      "INFO:tensorflow:Saving checkpoints for 1 into /tmp/tmp8up0h1qb/model.ckpt.\n",
      "INFO:tensorflow:loss = 239.74348, step = 0\n",
      "INFO:tensorflow:global_step/sec: 147.547\n",
      "INFO:tensorflow:loss = 118.47916, step = 100 (0.684 sec)\n",
      "INFO:tensorflow:global_step/sec: 151.755\n",
      "INFO:tensorflow:loss = 123.486404, step = 200 (0.654 sec)\n",
      "INFO:tensorflow:global_step/sec: 152.558\n",
      "INFO:tensorflow:loss = 100.05412, step = 300 (0.661 sec)\n",
      "INFO:tensorflow:global_step/sec: 167.363\n",
      "INFO:tensorflow:loss = 84.88838, step = 400 (0.592 sec)\n",
      "INFO:tensorflow:Saving checkpoints for 500 into /tmp/tmp8up0h1qb/model.ckpt.\n",
      "INFO:tensorflow:Loss for final step: 78.89239.\n",
      "INFO:tensorflow:Calling model_fn.\n",
      "INFO:tensorflow:Done calling model_fn.\n",
      "INFO:tensorflow:Starting evaluation at 2018-05-18-08:49:31\n",
      "INFO:tensorflow:Graph was finalized.\n",
      "INFO:tensorflow:Restoring parameters from /tmp/tmp8up0h1qb/model.ckpt-500\n",
      "INFO:tensorflow:Running local_init_op.\n",
      "INFO:tensorflow:Done running local_init_op.\n",
      "INFO:tensorflow:Finished evaluation at 2018-05-18-08:49:31\n",
      "INFO:tensorflow:Saving dict for global step 500: accuracy = 0.7823978, average_loss = 0.76873404, global_step = 500, loss = 73.95222\n",
      "INFO:tensorflow:Calling model_fn.\n",
      "INFO:tensorflow:Done calling model_fn.\n",
      "INFO:tensorflow:Graph was finalized.\n",
      "INFO:tensorflow:Restoring parameters from /tmp/tmp8up0h1qb/model.ckpt-500\n",
      "INFO:tensorflow:Running local_init_op.\n",
      "INFO:tensorflow:Done running local_init_op.\n",
      "INFO:tensorflow:Using default config.\n",
      "WARNING:tensorflow:Using temporary folder as model directory: /tmp/tmpjmj7qp6h\n",
      "INFO:tensorflow:Using config: {'_model_dir': '/tmp/tmpjmj7qp6h', '_tf_random_seed': None, '_save_summary_steps': 100, '_save_checkpoints_steps': None, '_save_checkpoints_secs': 600, '_session_config': None, '_keep_checkpoint_max': 5, '_keep_checkpoint_every_n_hours': 10000, '_log_step_count_steps': 100, '_service': None, '_cluster_spec': <tensorflow.python.training.server_lib.ClusterSpec object at 0x7fdcdb01ca90>, '_task_type': 'worker', '_task_id': 0, '_global_id_in_cluster': 0, '_master': '', '_evaluation_master': '', '_is_chief': True, '_num_ps_replicas': 0, '_num_worker_replicas': 1}\n",
      "INFO:tensorflow:Calling model_fn.\n",
      "INFO:tensorflow:Done calling model_fn.\n",
      "INFO:tensorflow:Create CheckpointSaverHook.\n",
      "INFO:tensorflow:Graph was finalized.\n",
      "INFO:tensorflow:Running local_init_op.\n",
      "INFO:tensorflow:Done running local_init_op.\n",
      "INFO:tensorflow:Saving checkpoints for 1 into /tmp/tmpjmj7qp6h/model.ckpt.\n",
      "INFO:tensorflow:loss = 225.82246, step = 0\n",
      "INFO:tensorflow:global_step/sec: 140.763\n",
      "INFO:tensorflow:loss = 114.23347, step = 100 (0.713 sec)\n",
      "INFO:tensorflow:global_step/sec: 152.918\n",
      "INFO:tensorflow:loss = 108.30847, step = 200 (0.653 sec)\n",
      "INFO:tensorflow:global_step/sec: 154.35\n",
      "INFO:tensorflow:loss = 123.76026, step = 300 (0.653 sec)\n",
      "INFO:tensorflow:global_step/sec: 151.935\n",
      "INFO:tensorflow:loss = 93.58624, step = 400 (0.654 sec)\n",
      "INFO:tensorflow:Saving checkpoints for 500 into /tmp/tmpjmj7qp6h/model.ckpt.\n",
      "INFO:tensorflow:Loss for final step: 85.007935.\n",
      "INFO:tensorflow:Calling model_fn.\n",
      "INFO:tensorflow:Done calling model_fn.\n",
      "INFO:tensorflow:Starting evaluation at 2018-05-18-08:49:37\n",
      "INFO:tensorflow:Graph was finalized.\n",
      "INFO:tensorflow:Restoring parameters from /tmp/tmpjmj7qp6h/model.ckpt-500\n",
      "INFO:tensorflow:Running local_init_op.\n",
      "INFO:tensorflow:Done running local_init_op.\n",
      "INFO:tensorflow:Finished evaluation at 2018-05-18-08:49:37\n",
      "INFO:tensorflow:Saving dict for global step 500: accuracy = 0.74763757, average_loss = 0.8409784, global_step = 500, loss = 84.05112\n",
      "INFO:tensorflow:Calling model_fn.\n",
      "INFO:tensorflow:Done calling model_fn.\n",
      "INFO:tensorflow:Graph was finalized.\n",
      "INFO:tensorflow:Restoring parameters from /tmp/tmpjmj7qp6h/model.ckpt-500\n",
      "INFO:tensorflow:Running local_init_op.\n",
      "INFO:tensorflow:Done running local_init_op.\n",
      "INFO:tensorflow:Using default config.\n",
      "WARNING:tensorflow:Using temporary folder as model directory: /tmp/tmplg0i432y\n",
      "INFO:tensorflow:Using config: {'_model_dir': '/tmp/tmplg0i432y', '_tf_random_seed': None, '_save_summary_steps': 100, '_save_checkpoints_steps': None, '_save_checkpoints_secs': 600, '_session_config': None, '_keep_checkpoint_max': 5, '_keep_checkpoint_every_n_hours': 10000, '_log_step_count_steps': 100, '_service': None, '_cluster_spec': <tensorflow.python.training.server_lib.ClusterSpec object at 0x7fdcda3b2ef0>, '_task_type': 'worker', '_task_id': 0, '_global_id_in_cluster': 0, '_master': '', '_evaluation_master': '', '_is_chief': True, '_num_ps_replicas': 0, '_num_worker_replicas': 1}\n",
      "INFO:tensorflow:Calling model_fn.\n",
      "INFO:tensorflow:Done calling model_fn.\n",
      "INFO:tensorflow:Create CheckpointSaverHook.\n",
      "INFO:tensorflow:Graph was finalized.\n",
      "INFO:tensorflow:Running local_init_op.\n",
      "INFO:tensorflow:Done running local_init_op.\n",
      "INFO:tensorflow:Saving checkpoints for 1 into /tmp/tmplg0i432y/model.ckpt.\n",
      "INFO:tensorflow:loss = 220.01254, step = 0\n",
      "INFO:tensorflow:global_step/sec: 147.544\n",
      "INFO:tensorflow:loss = 104.110275, step = 100 (0.682 sec)\n",
      "INFO:tensorflow:global_step/sec: 156.703\n",
      "INFO:tensorflow:loss = 87.01286, step = 200 (0.637 sec)\n",
      "INFO:tensorflow:global_step/sec: 158.21\n",
      "INFO:tensorflow:loss = 104.25139, step = 300 (0.630 sec)\n",
      "INFO:tensorflow:global_step/sec: 167.138\n",
      "INFO:tensorflow:loss = 76.1188, step = 400 (0.598 sec)\n",
      "INFO:tensorflow:global_step/sec: 156.198\n",
      "INFO:tensorflow:loss = 79.62076, step = 500 (0.641 sec)\n",
      "INFO:tensorflow:global_step/sec: 156.4\n",
      "INFO:tensorflow:loss = 60.93537, step = 600 (0.639 sec)\n",
      "INFO:tensorflow:global_step/sec: 154.236\n",
      "INFO:tensorflow:loss = 73.17405, step = 700 (0.648 sec)\n",
      "INFO:tensorflow:global_step/sec: 165.389\n",
      "INFO:tensorflow:loss = 67.19117, step = 800 (0.605 sec)\n",
      "INFO:tensorflow:global_step/sec: 153.125\n",
      "INFO:tensorflow:loss = 48.393703, step = 900 (0.654 sec)\n",
      "INFO:tensorflow:Saving checkpoints for 1000 into /tmp/tmplg0i432y/model.ckpt.\n",
      "INFO:tensorflow:Loss for final step: 58.311825.\n",
      "INFO:tensorflow:Calling model_fn.\n",
      "INFO:tensorflow:Done calling model_fn.\n",
      "INFO:tensorflow:Starting evaluation at 2018-05-18-08:49:47\n",
      "INFO:tensorflow:Graph was finalized.\n",
      "INFO:tensorflow:Restoring parameters from /tmp/tmplg0i432y/model.ckpt-1000\n",
      "INFO:tensorflow:Running local_init_op.\n",
      "INFO:tensorflow:Done running local_init_op.\n",
      "INFO:tensorflow:Finished evaluation at 2018-05-18-08:49:47\n",
      "INFO:tensorflow:Saving dict for global step 1000: accuracy = 0.8399168, average_loss = 0.58398795, global_step = 1000, loss = 56.17964\n",
      "INFO:tensorflow:Calling model_fn.\n",
      "INFO:tensorflow:Done calling model_fn.\n",
      "INFO:tensorflow:Graph was finalized.\n",
      "INFO:tensorflow:Restoring parameters from /tmp/tmplg0i432y/model.ckpt-1000\n",
      "INFO:tensorflow:Running local_init_op.\n",
      "INFO:tensorflow:Done running local_init_op.\n",
      "INFO:tensorflow:Using default config.\n",
      "WARNING:tensorflow:Using temporary folder as model directory: /tmp/tmpcqtzf7nf\n",
      "INFO:tensorflow:Using config: {'_model_dir': '/tmp/tmpcqtzf7nf', '_tf_random_seed': None, '_save_summary_steps': 100, '_save_checkpoints_steps': None, '_save_checkpoints_secs': 600, '_session_config': None, '_keep_checkpoint_max': 5, '_keep_checkpoint_every_n_hours': 10000, '_log_step_count_steps': 100, '_service': None, '_cluster_spec': <tensorflow.python.training.server_lib.ClusterSpec object at 0x7fdcdae86668>, '_task_type': 'worker', '_task_id': 0, '_global_id_in_cluster': 0, '_master': '', '_evaluation_master': '', '_is_chief': True, '_num_ps_replicas': 0, '_num_worker_replicas': 1}\n",
      "INFO:tensorflow:Calling model_fn.\n",
      "INFO:tensorflow:Done calling model_fn.\n",
      "INFO:tensorflow:Create CheckpointSaverHook.\n",
      "INFO:tensorflow:Graph was finalized.\n",
      "INFO:tensorflow:Running local_init_op.\n",
      "INFO:tensorflow:Done running local_init_op.\n",
      "INFO:tensorflow:Saving checkpoints for 1 into /tmp/tmpcqtzf7nf/model.ckpt.\n",
      "INFO:tensorflow:loss = 233.17216, step = 0\n",
      "INFO:tensorflow:global_step/sec: 139.514\n",
      "INFO:tensorflow:loss = 105.34119, step = 100 (0.724 sec)\n",
      "INFO:tensorflow:global_step/sec: 147.699\n",
      "INFO:tensorflow:loss = 90.26249, step = 200 (0.676 sec)\n",
      "INFO:tensorflow:global_step/sec: 148.529\n",
      "INFO:tensorflow:loss = 94.053505, step = 300 (0.672 sec)\n",
      "INFO:tensorflow:global_step/sec: 155.691\n",
      "INFO:tensorflow:loss = 89.4787, step = 400 (0.644 sec)\n",
      "INFO:tensorflow:global_step/sec: 165.157\n",
      "INFO:tensorflow:loss = 69.41703, step = 500 (0.604 sec)\n",
      "INFO:tensorflow:global_step/sec: 157.068\n",
      "INFO:tensorflow:loss = 75.300446, step = 600 (0.633 sec)\n",
      "INFO:tensorflow:global_step/sec: 156.453\n",
      "INFO:tensorflow:loss = 61.28767, step = 700 (0.646 sec)\n",
      "INFO:tensorflow:global_step/sec: 155.751\n",
      "INFO:tensorflow:loss = 54.615215, step = 800 (0.635 sec)\n",
      "INFO:tensorflow:global_step/sec: 152.913\n",
      "INFO:tensorflow:loss = 69.36672, step = 900 (0.657 sec)\n",
      "INFO:tensorflow:Saving checkpoints for 1000 into /tmp/tmpcqtzf7nf/model.ckpt.\n",
      "INFO:tensorflow:Loss for final step: 57.883953.\n",
      "INFO:tensorflow:Calling model_fn.\n",
      "INFO:tensorflow:Done calling model_fn.\n",
      "INFO:tensorflow:Starting evaluation at 2018-05-18-08:49:56\n",
      "INFO:tensorflow:Graph was finalized.\n",
      "INFO:tensorflow:Restoring parameters from /tmp/tmpcqtzf7nf/model.ckpt-1000\n",
      "INFO:tensorflow:Running local_init_op.\n",
      "INFO:tensorflow:Done running local_init_op.\n",
      "INFO:tensorflow:Finished evaluation at 2018-05-18-08:49:57\n",
      "INFO:tensorflow:Saving dict for global step 1000: accuracy = 0.83574206, average_loss = 0.5719807, global_step = 1000, loss = 57.166294\n",
      "INFO:tensorflow:Calling model_fn.\n",
      "INFO:tensorflow:Done calling model_fn.\n",
      "INFO:tensorflow:Graph was finalized.\n",
      "INFO:tensorflow:Restoring parameters from /tmp/tmpcqtzf7nf/model.ckpt-1000\n",
      "INFO:tensorflow:Running local_init_op.\n",
      "INFO:tensorflow:Done running local_init_op.\n",
      "INFO:tensorflow:Using default config.\n",
      "WARNING:tensorflow:Using temporary folder as model directory: /tmp/tmpk1cqabai\n",
      "INFO:tensorflow:Using config: {'_model_dir': '/tmp/tmpk1cqabai', '_tf_random_seed': None, '_save_summary_steps': 100, '_save_checkpoints_steps': None, '_save_checkpoints_secs': 600, '_session_config': None, '_keep_checkpoint_max': 5, '_keep_checkpoint_every_n_hours': 10000, '_log_step_count_steps': 100, '_service': None, '_cluster_spec': <tensorflow.python.training.server_lib.ClusterSpec object at 0x7fdcd6391550>, '_task_type': 'worker', '_task_id': 0, '_global_id_in_cluster': 0, '_master': '', '_evaluation_master': '', '_is_chief': True, '_num_ps_replicas': 0, '_num_worker_replicas': 1}\n",
      "INFO:tensorflow:Calling model_fn.\n",
      "INFO:tensorflow:Done calling model_fn.\n"
     ]
    },
    {
     "name": "stdout",
     "output_type": "stream",
     "text": [
      "INFO:tensorflow:Create CheckpointSaverHook.\n",
      "INFO:tensorflow:Graph was finalized.\n",
      "INFO:tensorflow:Running local_init_op.\n",
      "INFO:tensorflow:Done running local_init_op.\n",
      "INFO:tensorflow:Saving checkpoints for 1 into /tmp/tmpk1cqabai/model.ckpt.\n",
      "INFO:tensorflow:loss = 228.62021, step = 0\n",
      "INFO:tensorflow:global_step/sec: 146.611\n",
      "INFO:tensorflow:loss = 113.23422, step = 100 (0.688 sec)\n",
      "INFO:tensorflow:global_step/sec: 155.219\n",
      "INFO:tensorflow:loss = 103.2041, step = 200 (0.644 sec)\n",
      "INFO:tensorflow:global_step/sec: 155.897\n",
      "INFO:tensorflow:loss = 95.96346, step = 300 (0.642 sec)\n",
      "INFO:tensorflow:global_step/sec: 172.027\n",
      "INFO:tensorflow:loss = 86.61831, step = 400 (0.578 sec)\n",
      "INFO:tensorflow:global_step/sec: 156.5\n",
      "INFO:tensorflow:loss = 67.55184, step = 500 (0.640 sec)\n",
      "INFO:tensorflow:global_step/sec: 156.722\n",
      "INFO:tensorflow:loss = 69.36168, step = 600 (0.638 sec)\n",
      "INFO:tensorflow:global_step/sec: 158.368\n",
      "INFO:tensorflow:loss = 57.352386, step = 700 (0.637 sec)\n",
      "INFO:tensorflow:global_step/sec: 169.66\n",
      "INFO:tensorflow:loss = 56.841, step = 800 (0.586 sec)\n",
      "INFO:tensorflow:global_step/sec: 146.177\n",
      "INFO:tensorflow:loss = 57.15505, step = 900 (0.684 sec)\n",
      "INFO:tensorflow:global_step/sec: 156.98\n",
      "INFO:tensorflow:loss = 35.847393, step = 1000 (0.638 sec)\n",
      "INFO:tensorflow:global_step/sec: 159.668\n",
      "INFO:tensorflow:loss = 59.00079, step = 1100 (0.624 sec)\n",
      "INFO:tensorflow:global_step/sec: 164.945\n",
      "INFO:tensorflow:loss = 58.933357, step = 1200 (0.607 sec)\n",
      "INFO:tensorflow:global_step/sec: 156.273\n",
      "INFO:tensorflow:loss = 64.07436, step = 1300 (0.639 sec)\n",
      "INFO:tensorflow:global_step/sec: 153.385\n",
      "INFO:tensorflow:loss = 47.702915, step = 1400 (0.653 sec)\n",
      "INFO:tensorflow:Saving checkpoints for 1500 into /tmp/tmpk1cqabai/model.ckpt.\n",
      "INFO:tensorflow:Loss for final step: 47.36564.\n",
      "INFO:tensorflow:Calling model_fn.\n",
      "INFO:tensorflow:Done calling model_fn.\n",
      "INFO:tensorflow:Starting evaluation at 2018-05-18-08:50:09\n",
      "INFO:tensorflow:Graph was finalized.\n",
      "INFO:tensorflow:Restoring parameters from /tmp/tmpk1cqabai/model.ckpt-1500\n",
      "INFO:tensorflow:Running local_init_op.\n",
      "INFO:tensorflow:Done running local_init_op.\n",
      "INFO:tensorflow:Finished evaluation at 2018-05-18-08:50:10\n",
      "INFO:tensorflow:Saving dict for global step 1500: accuracy = 0.86347884, average_loss = 0.47461757, global_step = 1500, loss = 45.65821\n",
      "INFO:tensorflow:Calling model_fn.\n",
      "INFO:tensorflow:Done calling model_fn.\n",
      "INFO:tensorflow:Graph was finalized.\n",
      "INFO:tensorflow:Restoring parameters from /tmp/tmpk1cqabai/model.ckpt-1500\n",
      "INFO:tensorflow:Running local_init_op.\n",
      "INFO:tensorflow:Done running local_init_op.\n",
      "INFO:tensorflow:Using default config.\n",
      "WARNING:tensorflow:Using temporary folder as model directory: /tmp/tmp3w3pw0kg\n",
      "INFO:tensorflow:Using config: {'_model_dir': '/tmp/tmp3w3pw0kg', '_tf_random_seed': None, '_save_summary_steps': 100, '_save_checkpoints_steps': None, '_save_checkpoints_secs': 600, '_session_config': None, '_keep_checkpoint_max': 5, '_keep_checkpoint_every_n_hours': 10000, '_log_step_count_steps': 100, '_service': None, '_cluster_spec': <tensorflow.python.training.server_lib.ClusterSpec object at 0x7fdcd647df60>, '_task_type': 'worker', '_task_id': 0, '_global_id_in_cluster': 0, '_master': '', '_evaluation_master': '', '_is_chief': True, '_num_ps_replicas': 0, '_num_worker_replicas': 1}\n",
      "INFO:tensorflow:Calling model_fn.\n",
      "INFO:tensorflow:Done calling model_fn.\n",
      "INFO:tensorflow:Create CheckpointSaverHook.\n",
      "INFO:tensorflow:Graph was finalized.\n",
      "INFO:tensorflow:Running local_init_op.\n",
      "INFO:tensorflow:Done running local_init_op.\n",
      "INFO:tensorflow:Saving checkpoints for 1 into /tmp/tmp3w3pw0kg/model.ckpt.\n",
      "INFO:tensorflow:loss = 233.51152, step = 0\n",
      "INFO:tensorflow:global_step/sec: 142.517\n",
      "INFO:tensorflow:loss = 102.92286, step = 100 (0.707 sec)\n",
      "INFO:tensorflow:global_step/sec: 157.122\n",
      "INFO:tensorflow:loss = 104.85529, step = 200 (0.636 sec)\n",
      "INFO:tensorflow:global_step/sec: 153.601\n",
      "INFO:tensorflow:loss = 106.565186, step = 300 (0.649 sec)\n",
      "INFO:tensorflow:global_step/sec: 152.833\n",
      "INFO:tensorflow:loss = 74.79941, step = 400 (0.654 sec)\n",
      "INFO:tensorflow:global_step/sec: 163.482\n",
      "INFO:tensorflow:loss = 75.13615, step = 500 (0.614 sec)\n",
      "INFO:tensorflow:global_step/sec: 156.026\n",
      "INFO:tensorflow:loss = 70.077576, step = 600 (0.641 sec)\n",
      "INFO:tensorflow:global_step/sec: 156.469\n",
      "INFO:tensorflow:loss = 50.802208, step = 700 (0.639 sec)\n",
      "INFO:tensorflow:global_step/sec: 147.565\n",
      "INFO:tensorflow:loss = 66.48786, step = 800 (0.679 sec)\n",
      "INFO:tensorflow:global_step/sec: 147.289\n",
      "INFO:tensorflow:loss = 63.537663, step = 900 (0.679 sec)\n",
      "INFO:tensorflow:global_step/sec: 158.231\n",
      "INFO:tensorflow:loss = 65.17155, step = 1000 (0.632 sec)\n",
      "INFO:tensorflow:global_step/sec: 153.52\n",
      "INFO:tensorflow:loss = 51.32085, step = 1100 (0.648 sec)\n",
      "INFO:tensorflow:global_step/sec: 154.456\n",
      "INFO:tensorflow:loss = 49.380363, step = 1200 (0.650 sec)\n",
      "INFO:tensorflow:global_step/sec: 158.092\n",
      "INFO:tensorflow:loss = 48.461826, step = 1300 (0.634 sec)\n",
      "INFO:tensorflow:global_step/sec: 163.545\n",
      "INFO:tensorflow:loss = 47.327152, step = 1400 (0.608 sec)\n",
      "INFO:tensorflow:Saving checkpoints for 1500 into /tmp/tmp3w3pw0kg/model.ckpt.\n",
      "INFO:tensorflow:Loss for final step: 45.112885.\n",
      "INFO:tensorflow:Calling model_fn.\n",
      "INFO:tensorflow:Done calling model_fn.\n",
      "INFO:tensorflow:Starting evaluation at 2018-05-18-08:50:22\n",
      "INFO:tensorflow:Graph was finalized.\n",
      "INFO:tensorflow:Restoring parameters from /tmp/tmp3w3pw0kg/model.ckpt-1500\n",
      "INFO:tensorflow:Running local_init_op.\n",
      "INFO:tensorflow:Done running local_init_op.\n",
      "INFO:tensorflow:Finished evaluation at 2018-05-18-08:50:22\n",
      "INFO:tensorflow:Saving dict for global step 1500: accuracy = 0.86409116, average_loss = 0.49883536, global_step = 1500, loss = 49.85582\n",
      "INFO:tensorflow:Calling model_fn.\n",
      "INFO:tensorflow:Done calling model_fn.\n",
      "INFO:tensorflow:Graph was finalized.\n",
      "INFO:tensorflow:Restoring parameters from /tmp/tmp3w3pw0kg/model.ckpt-1500\n",
      "INFO:tensorflow:Running local_init_op.\n",
      "INFO:tensorflow:Done running local_init_op.\n",
      "INFO:tensorflow:Using default config.\n",
      "WARNING:tensorflow:Using temporary folder as model directory: /tmp/tmplsw4_mza\n",
      "INFO:tensorflow:Using config: {'_model_dir': '/tmp/tmplsw4_mza', '_tf_random_seed': None, '_save_summary_steps': 100, '_save_checkpoints_steps': None, '_save_checkpoints_secs': 600, '_session_config': None, '_keep_checkpoint_max': 5, '_keep_checkpoint_every_n_hours': 10000, '_log_step_count_steps': 100, '_service': None, '_cluster_spec': <tensorflow.python.training.server_lib.ClusterSpec object at 0x7fdcd6986a90>, '_task_type': 'worker', '_task_id': 0, '_global_id_in_cluster': 0, '_master': '', '_evaluation_master': '', '_is_chief': True, '_num_ps_replicas': 0, '_num_worker_replicas': 1}\n",
      "INFO:tensorflow:Calling model_fn.\n",
      "INFO:tensorflow:Done calling model_fn.\n",
      "INFO:tensorflow:Create CheckpointSaverHook.\n",
      "INFO:tensorflow:Graph was finalized.\n",
      "INFO:tensorflow:Running local_init_op.\n",
      "INFO:tensorflow:Done running local_init_op.\n",
      "INFO:tensorflow:Saving checkpoints for 1 into /tmp/tmplsw4_mza/model.ckpt.\n",
      "INFO:tensorflow:loss = 258.2905, step = 0\n",
      "INFO:tensorflow:global_step/sec: 144.61\n",
      "INFO:tensorflow:loss = 109.85905, step = 100 (0.702 sec)\n",
      "INFO:tensorflow:global_step/sec: 149.34\n",
      "INFO:tensorflow:loss = 102.08061, step = 200 (0.661 sec)\n",
      "INFO:tensorflow:global_step/sec: 152.527\n",
      "INFO:tensorflow:loss = 106.76454, step = 300 (0.660 sec)\n",
      "INFO:tensorflow:global_step/sec: 168.566\n",
      "INFO:tensorflow:loss = 90.173904, step = 400 (0.591 sec)\n",
      "INFO:tensorflow:global_step/sec: 155.427\n",
      "INFO:tensorflow:loss = 83.3902, step = 500 (0.647 sec)\n",
      "INFO:tensorflow:global_step/sec: 151.166\n",
      "INFO:tensorflow:loss = 76.93426, step = 600 (0.655 sec)\n",
      "INFO:tensorflow:global_step/sec: 152.322\n",
      "INFO:tensorflow:loss = 81.70947, step = 700 (0.660 sec)\n",
      "INFO:tensorflow:global_step/sec: 168.7\n",
      "INFO:tensorflow:loss = 54.25038, step = 800 (0.592 sec)\n",
      "INFO:tensorflow:global_step/sec: 152.497\n",
      "INFO:tensorflow:loss = 59.2752, step = 900 (0.653 sec)\n",
      "INFO:tensorflow:global_step/sec: 153.31\n",
      "INFO:tensorflow:loss = 50.008453, step = 1000 (0.655 sec)\n",
      "INFO:tensorflow:global_step/sec: 154.328\n",
      "INFO:tensorflow:loss = 46.516727, step = 1100 (0.645 sec)\n",
      "INFO:tensorflow:global_step/sec: 165.856\n",
      "INFO:tensorflow:loss = 56.473885, step = 1200 (0.605 sec)\n",
      "INFO:tensorflow:global_step/sec: 150.561\n",
      "INFO:tensorflow:loss = 48.592064, step = 1300 (0.668 sec)\n",
      "INFO:tensorflow:global_step/sec: 154.222\n",
      "INFO:tensorflow:loss = 43.493404, step = 1400 (0.646 sec)\n",
      "INFO:tensorflow:global_step/sec: 152.813\n",
      "INFO:tensorflow:loss = 47.16836, step = 1500 (0.651 sec)\n",
      "INFO:tensorflow:global_step/sec: 172.68\n",
      "INFO:tensorflow:loss = 43.607315, step = 1600 (0.582 sec)\n",
      "INFO:tensorflow:global_step/sec: 157.375\n",
      "INFO:tensorflow:loss = 52.760353, step = 1700 (0.638 sec)\n",
      "INFO:tensorflow:global_step/sec: 155.129\n",
      "INFO:tensorflow:loss = 53.62726, step = 1800 (0.643 sec)\n",
      "INFO:tensorflow:global_step/sec: 152.928\n",
      "INFO:tensorflow:loss = 38.507195, step = 1900 (0.650 sec)\n",
      "INFO:tensorflow:Saving checkpoints for 2000 into /tmp/tmplsw4_mza/model.ckpt.\n",
      "INFO:tensorflow:Loss for final step: 36.251915.\n",
      "INFO:tensorflow:Calling model_fn.\n",
      "INFO:tensorflow:Done calling model_fn.\n",
      "INFO:tensorflow:Starting evaluation at 2018-05-18-08:50:38\n",
      "INFO:tensorflow:Graph was finalized.\n",
      "INFO:tensorflow:Restoring parameters from /tmp/tmplsw4_mza/model.ckpt-2000\n",
      "INFO:tensorflow:Running local_init_op.\n",
      "INFO:tensorflow:Done running local_init_op.\n",
      "INFO:tensorflow:Finished evaluation at 2018-05-18-08:50:38\n",
      "INFO:tensorflow:Saving dict for global step 2000: accuracy = 0.86971587, average_loss = 0.4158409, global_step = 2000, loss = 40.003895\n",
      "INFO:tensorflow:Calling model_fn.\n",
      "INFO:tensorflow:Done calling model_fn.\n",
      "INFO:tensorflow:Graph was finalized.\n",
      "INFO:tensorflow:Restoring parameters from /tmp/tmplsw4_mza/model.ckpt-2000\n",
      "INFO:tensorflow:Running local_init_op.\n",
      "INFO:tensorflow:Done running local_init_op.\n",
      "INFO:tensorflow:Using default config.\n",
      "WARNING:tensorflow:Using temporary folder as model directory: /tmp/tmpet5yc55s\n",
      "INFO:tensorflow:Using config: {'_model_dir': '/tmp/tmpet5yc55s', '_tf_random_seed': None, '_save_summary_steps': 100, '_save_checkpoints_steps': None, '_save_checkpoints_secs': 600, '_session_config': None, '_keep_checkpoint_max': 5, '_keep_checkpoint_every_n_hours': 10000, '_log_step_count_steps': 100, '_service': None, '_cluster_spec': <tensorflow.python.training.server_lib.ClusterSpec object at 0x7fdcdacf6208>, '_task_type': 'worker', '_task_id': 0, '_global_id_in_cluster': 0, '_master': '', '_evaluation_master': '', '_is_chief': True, '_num_ps_replicas': 0, '_num_worker_replicas': 1}\n",
      "INFO:tensorflow:Calling model_fn.\n",
      "INFO:tensorflow:Done calling model_fn.\n",
      "INFO:tensorflow:Create CheckpointSaverHook.\n",
      "INFO:tensorflow:Graph was finalized.\n",
      "INFO:tensorflow:Running local_init_op.\n",
      "INFO:tensorflow:Done running local_init_op.\n"
     ]
    },
    {
     "name": "stdout",
     "output_type": "stream",
     "text": [
      "INFO:tensorflow:Saving checkpoints for 1 into /tmp/tmpet5yc55s/model.ckpt.\n",
      "INFO:tensorflow:loss = 240.06738, step = 0\n",
      "INFO:tensorflow:global_step/sec: 141.369\n",
      "INFO:tensorflow:loss = 125.51801, step = 100 (0.712 sec)\n",
      "INFO:tensorflow:global_step/sec: 151.945\n",
      "INFO:tensorflow:loss = 96.60987, step = 200 (0.656 sec)\n",
      "INFO:tensorflow:global_step/sec: 152.505\n",
      "INFO:tensorflow:loss = 84.71176, step = 300 (0.655 sec)\n",
      "INFO:tensorflow:global_step/sec: 151.003\n",
      "INFO:tensorflow:loss = 74.80937, step = 400 (0.665 sec)\n",
      "INFO:tensorflow:global_step/sec: 158.059\n",
      "INFO:tensorflow:loss = 87.820885, step = 500 (0.632 sec)\n",
      "INFO:tensorflow:global_step/sec: 146.242\n",
      "INFO:tensorflow:loss = 68.27853, step = 600 (0.681 sec)\n",
      "INFO:tensorflow:global_step/sec: 144.086\n",
      "INFO:tensorflow:loss = 71.00406, step = 700 (0.698 sec)\n",
      "INFO:tensorflow:global_step/sec: 150.233\n",
      "INFO:tensorflow:loss = 62.92665, step = 800 (0.667 sec)\n",
      "INFO:tensorflow:global_step/sec: 152.849\n",
      "INFO:tensorflow:loss = 70.090775, step = 900 (0.655 sec)\n",
      "INFO:tensorflow:global_step/sec: 163.091\n",
      "INFO:tensorflow:loss = 59.851025, step = 1000 (0.611 sec)\n",
      "INFO:tensorflow:global_step/sec: 153.41\n",
      "INFO:tensorflow:loss = 55.47432, step = 1100 (0.652 sec)\n",
      "INFO:tensorflow:global_step/sec: 151.846\n",
      "INFO:tensorflow:loss = 56.407085, step = 1200 (0.656 sec)\n",
      "INFO:tensorflow:global_step/sec: 156.326\n",
      "INFO:tensorflow:loss = 60.901726, step = 1300 (0.643 sec)\n",
      "INFO:tensorflow:global_step/sec: 162.035\n",
      "INFO:tensorflow:loss = 55.21212, step = 1400 (0.620 sec)\n",
      "INFO:tensorflow:global_step/sec: 151.936\n",
      "INFO:tensorflow:loss = 54.022976, step = 1500 (0.659 sec)\n",
      "INFO:tensorflow:global_step/sec: 150.905\n",
      "INFO:tensorflow:loss = 43.14786, step = 1600 (0.661 sec)\n",
      "INFO:tensorflow:global_step/sec: 150.583\n",
      "INFO:tensorflow:loss = 51.09757, step = 1700 (0.663 sec)\n",
      "INFO:tensorflow:global_step/sec: 154.118\n",
      "INFO:tensorflow:loss = 41.651745, step = 1800 (0.644 sec)\n",
      "INFO:tensorflow:global_step/sec: 156.052\n",
      "INFO:tensorflow:loss = 32.89455, step = 1900 (0.642 sec)\n",
      "INFO:tensorflow:Saving checkpoints for 2000 into /tmp/tmpet5yc55s/model.ckpt.\n",
      "INFO:tensorflow:Loss for final step: 39.781918.\n",
      "INFO:tensorflow:Calling model_fn.\n",
      "INFO:tensorflow:Done calling model_fn.\n",
      "INFO:tensorflow:Starting evaluation at 2018-05-18-08:50:54\n",
      "INFO:tensorflow:Graph was finalized.\n",
      "INFO:tensorflow:Restoring parameters from /tmp/tmpet5yc55s/model.ckpt-2000\n",
      "INFO:tensorflow:Running local_init_op.\n",
      "INFO:tensorflow:Done running local_init_op.\n",
      "INFO:tensorflow:Finished evaluation at 2018-05-18-08:50:55\n",
      "INFO:tensorflow:Saving dict for global step 2000: accuracy = 0.86826015, average_loss = 0.42498544, global_step = 2000, loss = 42.474934\n",
      "INFO:tensorflow:Calling model_fn.\n",
      "INFO:tensorflow:Done calling model_fn.\n",
      "INFO:tensorflow:Graph was finalized.\n",
      "INFO:tensorflow:Restoring parameters from /tmp/tmpet5yc55s/model.ckpt-2000\n",
      "INFO:tensorflow:Running local_init_op.\n",
      "INFO:tensorflow:Done running local_init_op.\n",
      "INFO:tensorflow:Using default config.\n",
      "WARNING:tensorflow:Using temporary folder as model directory: /tmp/tmpp873qojk\n",
      "INFO:tensorflow:Using config: {'_model_dir': '/tmp/tmpp873qojk', '_tf_random_seed': None, '_save_summary_steps': 100, '_save_checkpoints_steps': None, '_save_checkpoints_secs': 600, '_session_config': None, '_keep_checkpoint_max': 5, '_keep_checkpoint_every_n_hours': 10000, '_log_step_count_steps': 100, '_service': None, '_cluster_spec': <tensorflow.python.training.server_lib.ClusterSpec object at 0x7fdcb6e802b0>, '_task_type': 'worker', '_task_id': 0, '_global_id_in_cluster': 0, '_master': '', '_evaluation_master': '', '_is_chief': True, '_num_ps_replicas': 0, '_num_worker_replicas': 1}\n",
      "INFO:tensorflow:Calling model_fn.\n",
      "INFO:tensorflow:Done calling model_fn.\n",
      "INFO:tensorflow:Create CheckpointSaverHook.\n",
      "INFO:tensorflow:Graph was finalized.\n",
      "INFO:tensorflow:Running local_init_op.\n",
      "INFO:tensorflow:Done running local_init_op.\n",
      "INFO:tensorflow:Saving checkpoints for 1 into /tmp/tmpp873qojk/model.ckpt.\n",
      "INFO:tensorflow:loss = 209.46643, step = 0\n",
      "INFO:tensorflow:Saving checkpoints for 100 into /tmp/tmpp873qojk/model.ckpt.\n",
      "INFO:tensorflow:Loss for final step: 73.054756.\n",
      "INFO:tensorflow:Calling model_fn.\n",
      "INFO:tensorflow:Done calling model_fn.\n",
      "INFO:tensorflow:Starting evaluation at 2018-05-18-08:50:58\n",
      "INFO:tensorflow:Graph was finalized.\n",
      "INFO:tensorflow:Restoring parameters from /tmp/tmpp873qojk/model.ckpt-100\n",
      "INFO:tensorflow:Running local_init_op.\n",
      "INFO:tensorflow:Done running local_init_op.\n",
      "INFO:tensorflow:Finished evaluation at 2018-05-18-08:50:59\n",
      "INFO:tensorflow:Saving dict for global step 100: accuracy = 0.8031878, average_loss = 0.70772165, global_step = 100, loss = 68.082825\n",
      "INFO:tensorflow:Calling model_fn.\n",
      "INFO:tensorflow:Done calling model_fn.\n",
      "INFO:tensorflow:Graph was finalized.\n",
      "INFO:tensorflow:Restoring parameters from /tmp/tmpp873qojk/model.ckpt-100\n",
      "INFO:tensorflow:Running local_init_op.\n",
      "INFO:tensorflow:Done running local_init_op.\n",
      "INFO:tensorflow:Using default config.\n",
      "WARNING:tensorflow:Using temporary folder as model directory: /tmp/tmpee1da7rt\n",
      "INFO:tensorflow:Using config: {'_model_dir': '/tmp/tmpee1da7rt', '_tf_random_seed': None, '_save_summary_steps': 100, '_save_checkpoints_steps': None, '_save_checkpoints_secs': 600, '_session_config': None, '_keep_checkpoint_max': 5, '_keep_checkpoint_every_n_hours': 10000, '_log_step_count_steps': 100, '_service': None, '_cluster_spec': <tensorflow.python.training.server_lib.ClusterSpec object at 0x7fdcdad97fd0>, '_task_type': 'worker', '_task_id': 0, '_global_id_in_cluster': 0, '_master': '', '_evaluation_master': '', '_is_chief': True, '_num_ps_replicas': 0, '_num_worker_replicas': 1}\n",
      "INFO:tensorflow:Calling model_fn.\n",
      "INFO:tensorflow:Done calling model_fn.\n",
      "INFO:tensorflow:Create CheckpointSaverHook.\n",
      "INFO:tensorflow:Graph was finalized.\n",
      "INFO:tensorflow:Running local_init_op.\n",
      "INFO:tensorflow:Done running local_init_op.\n",
      "INFO:tensorflow:Saving checkpoints for 1 into /tmp/tmpee1da7rt/model.ckpt.\n",
      "INFO:tensorflow:loss = 251.34854, step = 0\n",
      "INFO:tensorflow:Saving checkpoints for 100 into /tmp/tmpee1da7rt/model.ckpt.\n",
      "INFO:tensorflow:Loss for final step: 59.9649.\n",
      "INFO:tensorflow:Calling model_fn.\n",
      "INFO:tensorflow:Done calling model_fn.\n",
      "INFO:tensorflow:Starting evaluation at 2018-05-18-08:51:02\n",
      "INFO:tensorflow:Graph was finalized.\n",
      "INFO:tensorflow:Restoring parameters from /tmp/tmpee1da7rt/model.ckpt-100\n",
      "INFO:tensorflow:Running local_init_op.\n",
      "INFO:tensorflow:Done running local_init_op.\n",
      "INFO:tensorflow:Finished evaluation at 2018-05-18-08:51:03\n",
      "INFO:tensorflow:Saving dict for global step 100: accuracy = 0.80544746, average_loss = 0.70601386, global_step = 100, loss = 70.562164\n",
      "INFO:tensorflow:Calling model_fn.\n",
      "INFO:tensorflow:Done calling model_fn.\n",
      "INFO:tensorflow:Graph was finalized.\n",
      "INFO:tensorflow:Restoring parameters from /tmp/tmpee1da7rt/model.ckpt-100\n",
      "INFO:tensorflow:Running local_init_op.\n",
      "INFO:tensorflow:Done running local_init_op.\n",
      "INFO:tensorflow:Using default config.\n",
      "WARNING:tensorflow:Using temporary folder as model directory: /tmp/tmp_j48k8r5\n",
      "INFO:tensorflow:Using config: {'_model_dir': '/tmp/tmp_j48k8r5', '_tf_random_seed': None, '_save_summary_steps': 100, '_save_checkpoints_steps': None, '_save_checkpoints_secs': 600, '_session_config': None, '_keep_checkpoint_max': 5, '_keep_checkpoint_every_n_hours': 10000, '_log_step_count_steps': 100, '_service': None, '_cluster_spec': <tensorflow.python.training.server_lib.ClusterSpec object at 0x7fdcdd1cddd8>, '_task_type': 'worker', '_task_id': 0, '_global_id_in_cluster': 0, '_master': '', '_evaluation_master': '', '_is_chief': True, '_num_ps_replicas': 0, '_num_worker_replicas': 1}\n",
      "INFO:tensorflow:Calling model_fn.\n",
      "INFO:tensorflow:Done calling model_fn.\n",
      "INFO:tensorflow:Create CheckpointSaverHook.\n",
      "INFO:tensorflow:Graph was finalized.\n",
      "INFO:tensorflow:Running local_init_op.\n",
      "INFO:tensorflow:Done running local_init_op.\n",
      "INFO:tensorflow:Saving checkpoints for 1 into /tmp/tmp_j48k8r5/model.ckpt.\n",
      "INFO:tensorflow:loss = 254.03346, step = 0\n",
      "INFO:tensorflow:global_step/sec: 147.166\n",
      "INFO:tensorflow:loss = 67.48847, step = 100 (0.682 sec)\n",
      "INFO:tensorflow:Saving checkpoints for 200 into /tmp/tmp_j48k8r5/model.ckpt.\n",
      "INFO:tensorflow:Loss for final step: 51.225693.\n",
      "INFO:tensorflow:Calling model_fn.\n",
      "INFO:tensorflow:Done calling model_fn.\n",
      "INFO:tensorflow:Starting evaluation at 2018-05-18-08:51:07\n",
      "INFO:tensorflow:Graph was finalized.\n",
      "INFO:tensorflow:Restoring parameters from /tmp/tmp_j48k8r5/model.ckpt-200\n",
      "INFO:tensorflow:Running local_init_op.\n",
      "INFO:tensorflow:Done running local_init_op.\n",
      "INFO:tensorflow:Finished evaluation at 2018-05-18-08:51:07\n",
      "INFO:tensorflow:Saving dict for global step 200: accuracy = 0.84476787, average_loss = 0.5077862, global_step = 200, loss = 48.849037\n",
      "INFO:tensorflow:Calling model_fn.\n",
      "INFO:tensorflow:Done calling model_fn.\n",
      "INFO:tensorflow:Graph was finalized.\n",
      "INFO:tensorflow:Restoring parameters from /tmp/tmp_j48k8r5/model.ckpt-200\n",
      "INFO:tensorflow:Running local_init_op.\n",
      "INFO:tensorflow:Done running local_init_op.\n",
      "INFO:tensorflow:Using default config.\n",
      "WARNING:tensorflow:Using temporary folder as model directory: /tmp/tmptloh3iny\n",
      "INFO:tensorflow:Using config: {'_model_dir': '/tmp/tmptloh3iny', '_tf_random_seed': None, '_save_summary_steps': 100, '_save_checkpoints_steps': None, '_save_checkpoints_secs': 600, '_session_config': None, '_keep_checkpoint_max': 5, '_keep_checkpoint_every_n_hours': 10000, '_log_step_count_steps': 100, '_service': None, '_cluster_spec': <tensorflow.python.training.server_lib.ClusterSpec object at 0x7fdcd689d160>, '_task_type': 'worker', '_task_id': 0, '_global_id_in_cluster': 0, '_master': '', '_evaluation_master': '', '_is_chief': True, '_num_ps_replicas': 0, '_num_worker_replicas': 1}\n",
      "INFO:tensorflow:Calling model_fn.\n",
      "INFO:tensorflow:Done calling model_fn.\n",
      "INFO:tensorflow:Create CheckpointSaverHook.\n",
      "INFO:tensorflow:Graph was finalized.\n",
      "INFO:tensorflow:Running local_init_op.\n",
      "INFO:tensorflow:Done running local_init_op.\n",
      "INFO:tensorflow:Saving checkpoints for 1 into /tmp/tmptloh3iny/model.ckpt.\n",
      "INFO:tensorflow:loss = 316.5514, step = 0\n",
      "INFO:tensorflow:global_step/sec: 141.248\n",
      "INFO:tensorflow:loss = 67.14494, step = 100 (0.712 sec)\n",
      "INFO:tensorflow:Saving checkpoints for 200 into /tmp/tmptloh3iny/model.ckpt.\n",
      "INFO:tensorflow:Loss for final step: 39.125893.\n",
      "INFO:tensorflow:Calling model_fn.\n",
      "INFO:tensorflow:Done calling model_fn.\n",
      "INFO:tensorflow:Starting evaluation at 2018-05-18-08:51:11\n",
      "INFO:tensorflow:Graph was finalized.\n",
      "INFO:tensorflow:Restoring parameters from /tmp/tmptloh3iny/model.ckpt-200\n",
      "INFO:tensorflow:Running local_init_op.\n",
      "INFO:tensorflow:Done running local_init_op.\n",
      "INFO:tensorflow:Finished evaluation at 2018-05-18-08:51:12\n",
      "INFO:tensorflow:Saving dict for global step 200: accuracy = 0.85436356, average_loss = 0.4705848, global_step = 200, loss = 47.032337\n",
      "INFO:tensorflow:Calling model_fn.\n",
      "INFO:tensorflow:Done calling model_fn.\n",
      "INFO:tensorflow:Graph was finalized.\n",
      "INFO:tensorflow:Restoring parameters from /tmp/tmptloh3iny/model.ckpt-200\n",
      "INFO:tensorflow:Running local_init_op.\n",
      "INFO:tensorflow:Done running local_init_op.\n"
     ]
    },
    {
     "name": "stdout",
     "output_type": "stream",
     "text": [
      "INFO:tensorflow:Using default config.\n",
      "WARNING:tensorflow:Using temporary folder as model directory: /tmp/tmpei45nkkc\n",
      "INFO:tensorflow:Using config: {'_model_dir': '/tmp/tmpei45nkkc', '_tf_random_seed': None, '_save_summary_steps': 100, '_save_checkpoints_steps': None, '_save_checkpoints_secs': 600, '_session_config': None, '_keep_checkpoint_max': 5, '_keep_checkpoint_every_n_hours': 10000, '_log_step_count_steps': 100, '_service': None, '_cluster_spec': <tensorflow.python.training.server_lib.ClusterSpec object at 0x7fdcd69862b0>, '_task_type': 'worker', '_task_id': 0, '_global_id_in_cluster': 0, '_master': '', '_evaluation_master': '', '_is_chief': True, '_num_ps_replicas': 0, '_num_worker_replicas': 1}\n",
      "INFO:tensorflow:Calling model_fn.\n",
      "INFO:tensorflow:Done calling model_fn.\n",
      "INFO:tensorflow:Create CheckpointSaverHook.\n",
      "INFO:tensorflow:Graph was finalized.\n",
      "INFO:tensorflow:Running local_init_op.\n",
      "INFO:tensorflow:Done running local_init_op.\n",
      "INFO:tensorflow:Saving checkpoints for 1 into /tmp/tmpei45nkkc/model.ckpt.\n",
      "INFO:tensorflow:loss = 278.27905, step = 0\n",
      "INFO:tensorflow:global_step/sec: 145.717\n",
      "INFO:tensorflow:loss = 68.02686, step = 100 (0.693 sec)\n",
      "INFO:tensorflow:global_step/sec: 159.346\n",
      "INFO:tensorflow:loss = 36.9936, step = 200 (0.625 sec)\n",
      "INFO:tensorflow:global_step/sec: 156.957\n",
      "INFO:tensorflow:loss = 36.58635, step = 300 (0.639 sec)\n",
      "INFO:tensorflow:global_step/sec: 166.827\n",
      "INFO:tensorflow:loss = 32.306557, step = 400 (0.598 sec)\n",
      "INFO:tensorflow:Saving checkpoints for 500 into /tmp/tmpei45nkkc/model.ckpt.\n",
      "INFO:tensorflow:Loss for final step: 30.768763.\n",
      "INFO:tensorflow:Calling model_fn.\n",
      "INFO:tensorflow:Done calling model_fn.\n",
      "INFO:tensorflow:Starting evaluation at 2018-05-18-08:51:18\n",
      "INFO:tensorflow:Graph was finalized.\n",
      "INFO:tensorflow:Restoring parameters from /tmp/tmpei45nkkc/model.ckpt-500\n",
      "INFO:tensorflow:Running local_init_op.\n",
      "INFO:tensorflow:Done running local_init_op.\n",
      "INFO:tensorflow:Finished evaluation at 2018-05-18-08:51:18\n",
      "INFO:tensorflow:Saving dict for global step 500: accuracy = 0.93416494, average_loss = 0.25477323, global_step = 500, loss = 24.509186\n",
      "INFO:tensorflow:Calling model_fn.\n",
      "INFO:tensorflow:Done calling model_fn.\n",
      "INFO:tensorflow:Graph was finalized.\n",
      "INFO:tensorflow:Restoring parameters from /tmp/tmpei45nkkc/model.ckpt-500\n",
      "INFO:tensorflow:Running local_init_op.\n",
      "INFO:tensorflow:Done running local_init_op.\n",
      "INFO:tensorflow:Using default config.\n",
      "WARNING:tensorflow:Using temporary folder as model directory: /tmp/tmp641bfvel\n",
      "INFO:tensorflow:Using config: {'_model_dir': '/tmp/tmp641bfvel', '_tf_random_seed': None, '_save_summary_steps': 100, '_save_checkpoints_steps': None, '_save_checkpoints_secs': 600, '_session_config': None, '_keep_checkpoint_max': 5, '_keep_checkpoint_every_n_hours': 10000, '_log_step_count_steps': 100, '_service': None, '_cluster_spec': <tensorflow.python.training.server_lib.ClusterSpec object at 0x7fdcd6524358>, '_task_type': 'worker', '_task_id': 0, '_global_id_in_cluster': 0, '_master': '', '_evaluation_master': '', '_is_chief': True, '_num_ps_replicas': 0, '_num_worker_replicas': 1}\n",
      "INFO:tensorflow:Calling model_fn.\n",
      "INFO:tensorflow:Done calling model_fn.\n",
      "INFO:tensorflow:Create CheckpointSaverHook.\n",
      "INFO:tensorflow:Graph was finalized.\n",
      "INFO:tensorflow:Running local_init_op.\n",
      "INFO:tensorflow:Done running local_init_op.\n",
      "INFO:tensorflow:Saving checkpoints for 1 into /tmp/tmp641bfvel/model.ckpt.\n",
      "INFO:tensorflow:loss = 352.18552, step = 0\n",
      "INFO:tensorflow:global_step/sec: 138.055\n",
      "INFO:tensorflow:loss = 102.201324, step = 100 (0.729 sec)\n",
      "INFO:tensorflow:global_step/sec: 150.325\n",
      "INFO:tensorflow:loss = 43.06454, step = 200 (0.665 sec)\n",
      "INFO:tensorflow:global_step/sec: 155.272\n",
      "INFO:tensorflow:loss = 40.184223, step = 300 (0.644 sec)\n",
      "INFO:tensorflow:global_step/sec: 153.58\n",
      "INFO:tensorflow:loss = 29.396748, step = 400 (0.652 sec)\n",
      "INFO:tensorflow:Saving checkpoints for 500 into /tmp/tmp641bfvel/model.ckpt.\n",
      "INFO:tensorflow:Loss for final step: 22.82289.\n",
      "INFO:tensorflow:Calling model_fn.\n",
      "INFO:tensorflow:Done calling model_fn.\n",
      "INFO:tensorflow:Starting evaluation at 2018-05-18-08:51:24\n",
      "INFO:tensorflow:Graph was finalized.\n",
      "INFO:tensorflow:Restoring parameters from /tmp/tmp641bfvel/model.ckpt-500\n",
      "INFO:tensorflow:Running local_init_op.\n",
      "INFO:tensorflow:Done running local_init_op.\n",
      "INFO:tensorflow:Finished evaluation at 2018-05-18-08:51:25\n",
      "INFO:tensorflow:Saving dict for global step 500: accuracy = 0.9285714, average_loss = 0.27093992, global_step = 500, loss = 27.07894\n",
      "INFO:tensorflow:Calling model_fn.\n",
      "INFO:tensorflow:Done calling model_fn.\n",
      "INFO:tensorflow:Graph was finalized.\n",
      "INFO:tensorflow:Restoring parameters from /tmp/tmp641bfvel/model.ckpt-500\n",
      "INFO:tensorflow:Running local_init_op.\n",
      "INFO:tensorflow:Done running local_init_op.\n",
      "INFO:tensorflow:Using default config.\n",
      "WARNING:tensorflow:Using temporary folder as model directory: /tmp/tmpb8okmjm_\n",
      "INFO:tensorflow:Using config: {'_model_dir': '/tmp/tmpb8okmjm_', '_tf_random_seed': None, '_save_summary_steps': 100, '_save_checkpoints_steps': None, '_save_checkpoints_secs': 600, '_session_config': None, '_keep_checkpoint_max': 5, '_keep_checkpoint_every_n_hours': 10000, '_log_step_count_steps': 100, '_service': None, '_cluster_spec': <tensorflow.python.training.server_lib.ClusterSpec object at 0x7fdcd6287358>, '_task_type': 'worker', '_task_id': 0, '_global_id_in_cluster': 0, '_master': '', '_evaluation_master': '', '_is_chief': True, '_num_ps_replicas': 0, '_num_worker_replicas': 1}\n",
      "INFO:tensorflow:Calling model_fn.\n",
      "INFO:tensorflow:Done calling model_fn.\n",
      "INFO:tensorflow:Create CheckpointSaverHook.\n",
      "INFO:tensorflow:Graph was finalized.\n",
      "INFO:tensorflow:Running local_init_op.\n",
      "INFO:tensorflow:Done running local_init_op.\n",
      "INFO:tensorflow:Saving checkpoints for 1 into /tmp/tmpb8okmjm_/model.ckpt.\n",
      "INFO:tensorflow:loss = 259.32733, step = 0\n",
      "INFO:tensorflow:global_step/sec: 142.602\n",
      "INFO:tensorflow:loss = 73.30487, step = 100 (0.706 sec)\n",
      "INFO:tensorflow:global_step/sec: 154.666\n",
      "INFO:tensorflow:loss = 52.284794, step = 200 (0.649 sec)\n",
      "INFO:tensorflow:global_step/sec: 152.64\n",
      "INFO:tensorflow:loss = 29.366291, step = 300 (0.655 sec)\n",
      "INFO:tensorflow:global_step/sec: 170.118\n",
      "INFO:tensorflow:loss = 23.37779, step = 400 (0.586 sec)\n",
      "INFO:tensorflow:global_step/sec: 151.221\n",
      "INFO:tensorflow:loss = 15.221428, step = 500 (0.658 sec)\n",
      "INFO:tensorflow:global_step/sec: 145.362\n",
      "INFO:tensorflow:loss = 13.608718, step = 600 (0.691 sec)\n",
      "INFO:tensorflow:global_step/sec: 157.194\n",
      "INFO:tensorflow:loss = 25.043365, step = 700 (0.635 sec)\n",
      "INFO:tensorflow:global_step/sec: 168.644\n",
      "INFO:tensorflow:loss = 13.9549265, step = 800 (0.595 sec)\n",
      "INFO:tensorflow:global_step/sec: 155.854\n",
      "INFO:tensorflow:loss = 30.95438, step = 900 (0.640 sec)\n",
      "INFO:tensorflow:Saving checkpoints for 1000 into /tmp/tmpb8okmjm_/model.ckpt.\n",
      "INFO:tensorflow:Loss for final step: 12.552125.\n",
      "INFO:tensorflow:Calling model_fn.\n",
      "INFO:tensorflow:Done calling model_fn.\n",
      "INFO:tensorflow:Starting evaluation at 2018-05-18-08:51:34\n",
      "INFO:tensorflow:Graph was finalized.\n",
      "INFO:tensorflow:Restoring parameters from /tmp/tmpb8okmjm_/model.ckpt-1000\n",
      "INFO:tensorflow:Running local_init_op.\n",
      "INFO:tensorflow:Done running local_init_op.\n",
      "INFO:tensorflow:Finished evaluation at 2018-05-18-08:51:34\n",
      "INFO:tensorflow:Saving dict for global step 1000: accuracy = 0.95010394, average_loss = 0.18575627, global_step = 1000, loss = 17.869753\n",
      "INFO:tensorflow:Calling model_fn.\n",
      "INFO:tensorflow:Done calling model_fn.\n",
      "INFO:tensorflow:Graph was finalized.\n",
      "INFO:tensorflow:Restoring parameters from /tmp/tmpb8okmjm_/model.ckpt-1000\n",
      "INFO:tensorflow:Running local_init_op.\n",
      "INFO:tensorflow:Done running local_init_op.\n",
      "INFO:tensorflow:Using default config.\n",
      "WARNING:tensorflow:Using temporary folder as model directory: /tmp/tmpwphettr5\n",
      "INFO:tensorflow:Using config: {'_model_dir': '/tmp/tmpwphettr5', '_tf_random_seed': None, '_save_summary_steps': 100, '_save_checkpoints_steps': None, '_save_checkpoints_secs': 600, '_session_config': None, '_keep_checkpoint_max': 5, '_keep_checkpoint_every_n_hours': 10000, '_log_step_count_steps': 100, '_service': None, '_cluster_spec': <tensorflow.python.training.server_lib.ClusterSpec object at 0x7fdcd65cc0f0>, '_task_type': 'worker', '_task_id': 0, '_global_id_in_cluster': 0, '_master': '', '_evaluation_master': '', '_is_chief': True, '_num_ps_replicas': 0, '_num_worker_replicas': 1}\n",
      "INFO:tensorflow:Calling model_fn.\n",
      "INFO:tensorflow:Done calling model_fn.\n",
      "INFO:tensorflow:Create CheckpointSaverHook.\n",
      "INFO:tensorflow:Graph was finalized.\n",
      "INFO:tensorflow:Running local_init_op.\n",
      "INFO:tensorflow:Done running local_init_op.\n",
      "INFO:tensorflow:Saving checkpoints for 1 into /tmp/tmpwphettr5/model.ckpt.\n",
      "INFO:tensorflow:loss = 245.92354, step = 0\n",
      "INFO:tensorflow:global_step/sec: 136.33\n",
      "INFO:tensorflow:loss = 87.959656, step = 100 (0.741 sec)\n",
      "INFO:tensorflow:global_step/sec: 155.114\n",
      "INFO:tensorflow:loss = 71.09124, step = 200 (0.642 sec)\n",
      "INFO:tensorflow:global_step/sec: 152.569\n",
      "INFO:tensorflow:loss = 22.439232, step = 300 (0.653 sec)\n",
      "INFO:tensorflow:global_step/sec: 152.546\n",
      "INFO:tensorflow:loss = 29.372635, step = 400 (0.659 sec)\n",
      "INFO:tensorflow:global_step/sec: 160.122\n",
      "INFO:tensorflow:loss = 31.494541, step = 500 (0.623 sec)\n",
      "INFO:tensorflow:global_step/sec: 153.365\n",
      "INFO:tensorflow:loss = 30.65224, step = 600 (0.649 sec)\n",
      "INFO:tensorflow:global_step/sec: 156.533\n",
      "INFO:tensorflow:loss = 20.660088, step = 700 (0.642 sec)\n",
      "INFO:tensorflow:global_step/sec: 159.348\n",
      "INFO:tensorflow:loss = 27.165306, step = 800 (0.628 sec)\n",
      "INFO:tensorflow:global_step/sec: 152.216\n",
      "INFO:tensorflow:loss = 12.743779, step = 900 (0.654 sec)\n",
      "INFO:tensorflow:Saving checkpoints for 1000 into /tmp/tmpwphettr5/model.ckpt.\n",
      "INFO:tensorflow:Loss for final step: 17.983002.\n",
      "INFO:tensorflow:Calling model_fn.\n",
      "INFO:tensorflow:Done calling model_fn.\n",
      "INFO:tensorflow:Starting evaluation at 2018-05-18-08:51:44\n",
      "INFO:tensorflow:Graph was finalized.\n",
      "INFO:tensorflow:Restoring parameters from /tmp/tmpwphettr5/model.ckpt-1000\n",
      "INFO:tensorflow:Running local_init_op.\n",
      "INFO:tensorflow:Done running local_init_op.\n",
      "INFO:tensorflow:Finished evaluation at 2018-05-18-08:51:44\n",
      "INFO:tensorflow:Saving dict for global step 1000: accuracy = 0.946915, average_loss = 0.1965921, global_step = 1000, loss = 19.648289\n",
      "INFO:tensorflow:Calling model_fn.\n",
      "INFO:tensorflow:Done calling model_fn.\n",
      "INFO:tensorflow:Graph was finalized.\n"
     ]
    },
    {
     "name": "stdout",
     "output_type": "stream",
     "text": [
      "INFO:tensorflow:Restoring parameters from /tmp/tmpwphettr5/model.ckpt-1000\n",
      "INFO:tensorflow:Running local_init_op.\n",
      "INFO:tensorflow:Done running local_init_op.\n",
      "INFO:tensorflow:Using default config.\n",
      "WARNING:tensorflow:Using temporary folder as model directory: /tmp/tmpkkg4s4f4\n",
      "INFO:tensorflow:Using config: {'_model_dir': '/tmp/tmpkkg4s4f4', '_tf_random_seed': None, '_save_summary_steps': 100, '_save_checkpoints_steps': None, '_save_checkpoints_secs': 600, '_session_config': None, '_keep_checkpoint_max': 5, '_keep_checkpoint_every_n_hours': 10000, '_log_step_count_steps': 100, '_service': None, '_cluster_spec': <tensorflow.python.training.server_lib.ClusterSpec object at 0x7fdcd6771b38>, '_task_type': 'worker', '_task_id': 0, '_global_id_in_cluster': 0, '_master': '', '_evaluation_master': '', '_is_chief': True, '_num_ps_replicas': 0, '_num_worker_replicas': 1}\n",
      "INFO:tensorflow:Calling model_fn.\n",
      "INFO:tensorflow:Done calling model_fn.\n",
      "INFO:tensorflow:Create CheckpointSaverHook.\n",
      "INFO:tensorflow:Graph was finalized.\n",
      "INFO:tensorflow:Running local_init_op.\n",
      "INFO:tensorflow:Done running local_init_op.\n",
      "INFO:tensorflow:Saving checkpoints for 1 into /tmp/tmpkkg4s4f4/model.ckpt.\n",
      "INFO:tensorflow:loss = 251.25261, step = 0\n",
      "INFO:tensorflow:global_step/sec: 147.889\n",
      "INFO:tensorflow:loss = 79.11837, step = 100 (0.681 sec)\n",
      "INFO:tensorflow:global_step/sec: 152.498\n",
      "INFO:tensorflow:loss = 47.372692, step = 200 (0.655 sec)\n",
      "INFO:tensorflow:global_step/sec: 156.23\n",
      "INFO:tensorflow:loss = 43.1495, step = 300 (0.641 sec)\n",
      "INFO:tensorflow:global_step/sec: 161.398\n",
      "INFO:tensorflow:loss = 24.333727, step = 400 (0.617 sec)\n",
      "INFO:tensorflow:global_step/sec: 149.185\n",
      "INFO:tensorflow:loss = 40.995247, step = 500 (0.670 sec)\n",
      "INFO:tensorflow:global_step/sec: 152.155\n",
      "INFO:tensorflow:loss = 35.58104, step = 600 (0.659 sec)\n",
      "INFO:tensorflow:global_step/sec: 151.66\n",
      "INFO:tensorflow:loss = 22.886635, step = 700 (0.662 sec)\n",
      "INFO:tensorflow:global_step/sec: 165.843\n",
      "INFO:tensorflow:loss = 16.76549, step = 800 (0.604 sec)\n",
      "INFO:tensorflow:global_step/sec: 151.162\n",
      "INFO:tensorflow:loss = 23.765768, step = 900 (0.656 sec)\n",
      "INFO:tensorflow:global_step/sec: 153.163\n",
      "INFO:tensorflow:loss = 11.393527, step = 1000 (0.655 sec)\n",
      "INFO:tensorflow:global_step/sec: 151.132\n",
      "INFO:tensorflow:loss = 13.475258, step = 1100 (0.662 sec)\n",
      "INFO:tensorflow:global_step/sec: 163.064\n",
      "INFO:tensorflow:loss = 26.744081, step = 1200 (0.616 sec)\n",
      "INFO:tensorflow:global_step/sec: 145.653\n",
      "INFO:tensorflow:loss = 14.005655, step = 1300 (0.683 sec)\n",
      "INFO:tensorflow:global_step/sec: 152.614\n",
      "INFO:tensorflow:loss = 9.182288, step = 1400 (0.659 sec)\n",
      "INFO:tensorflow:Saving checkpoints for 1500 into /tmp/tmpkkg4s4f4/model.ckpt.\n",
      "INFO:tensorflow:Loss for final step: 13.19458.\n",
      "INFO:tensorflow:Calling model_fn.\n",
      "INFO:tensorflow:Done calling model_fn.\n",
      "INFO:tensorflow:Starting evaluation at 2018-05-18-08:51:57\n",
      "INFO:tensorflow:Graph was finalized.\n",
      "INFO:tensorflow:Restoring parameters from /tmp/tmpkkg4s4f4/model.ckpt-1500\n",
      "INFO:tensorflow:Running local_init_op.\n",
      "INFO:tensorflow:Done running local_init_op.\n",
      "INFO:tensorflow:Finished evaluation at 2018-05-18-08:51:57\n",
      "INFO:tensorflow:Saving dict for global step 1500: accuracy = 0.95564795, average_loss = 0.15954019, global_step = 1500, loss = 15.347766\n",
      "INFO:tensorflow:Calling model_fn.\n",
      "INFO:tensorflow:Done calling model_fn.\n",
      "INFO:tensorflow:Graph was finalized.\n",
      "INFO:tensorflow:Restoring parameters from /tmp/tmpkkg4s4f4/model.ckpt-1500\n",
      "INFO:tensorflow:Running local_init_op.\n",
      "INFO:tensorflow:Done running local_init_op.\n",
      "INFO:tensorflow:Using default config.\n",
      "WARNING:tensorflow:Using temporary folder as model directory: /tmp/tmpntumdzz_\n",
      "INFO:tensorflow:Using config: {'_model_dir': '/tmp/tmpntumdzz_', '_tf_random_seed': None, '_save_summary_steps': 100, '_save_checkpoints_steps': None, '_save_checkpoints_secs': 600, '_session_config': None, '_keep_checkpoint_max': 5, '_keep_checkpoint_every_n_hours': 10000, '_log_step_count_steps': 100, '_service': None, '_cluster_spec': <tensorflow.python.training.server_lib.ClusterSpec object at 0x7fdcdad37cf8>, '_task_type': 'worker', '_task_id': 0, '_global_id_in_cluster': 0, '_master': '', '_evaluation_master': '', '_is_chief': True, '_num_ps_replicas': 0, '_num_worker_replicas': 1}\n",
      "INFO:tensorflow:Calling model_fn.\n",
      "INFO:tensorflow:Done calling model_fn.\n",
      "INFO:tensorflow:Create CheckpointSaverHook.\n",
      "INFO:tensorflow:Graph was finalized.\n",
      "INFO:tensorflow:Running local_init_op.\n",
      "INFO:tensorflow:Done running local_init_op.\n",
      "INFO:tensorflow:Saving checkpoints for 1 into /tmp/tmpntumdzz_/model.ckpt.\n",
      "INFO:tensorflow:loss = 241.01938, step = 0\n",
      "INFO:tensorflow:global_step/sec: 142.307\n",
      "INFO:tensorflow:loss = 92.75011, step = 100 (0.706 sec)\n",
      "INFO:tensorflow:global_step/sec: 153.92\n",
      "INFO:tensorflow:loss = 42.85569, step = 200 (0.651 sec)\n",
      "INFO:tensorflow:global_step/sec: 150.96\n",
      "INFO:tensorflow:loss = 32.976086, step = 300 (0.660 sec)\n",
      "INFO:tensorflow:global_step/sec: 154.191\n",
      "INFO:tensorflow:loss = 26.637333, step = 400 (0.650 sec)\n",
      "INFO:tensorflow:global_step/sec: 163.763\n",
      "INFO:tensorflow:loss = 16.282549, step = 500 (0.611 sec)\n",
      "INFO:tensorflow:global_step/sec: 152.799\n",
      "INFO:tensorflow:loss = 16.732182, step = 600 (0.651 sec)\n",
      "INFO:tensorflow:global_step/sec: 155.007\n",
      "INFO:tensorflow:loss = 22.041893, step = 700 (0.651 sec)\n",
      "INFO:tensorflow:global_step/sec: 151.796\n",
      "INFO:tensorflow:loss = 30.04754, step = 800 (0.657 sec)\n",
      "INFO:tensorflow:global_step/sec: 158.187\n",
      "INFO:tensorflow:loss = 26.871086, step = 900 (0.633 sec)\n",
      "INFO:tensorflow:global_step/sec: 163.245\n",
      "INFO:tensorflow:loss = 13.819314, step = 1000 (0.612 sec)\n",
      "INFO:tensorflow:global_step/sec: 154.279\n",
      "INFO:tensorflow:loss = 33.28374, step = 1100 (0.650 sec)\n",
      "INFO:tensorflow:global_step/sec: 155.034\n",
      "INFO:tensorflow:loss = 10.131655, step = 1200 (0.646 sec)\n",
      "INFO:tensorflow:global_step/sec: 153.608\n",
      "INFO:tensorflow:loss = 18.616058, step = 1300 (0.645 sec)\n",
      "INFO:tensorflow:global_step/sec: 159.749\n",
      "INFO:tensorflow:loss = 9.873861, step = 1400 (0.630 sec)\n",
      "INFO:tensorflow:Saving checkpoints for 1500 into /tmp/tmpntumdzz_/model.ckpt.\n",
      "INFO:tensorflow:Loss for final step: 11.699682.\n",
      "INFO:tensorflow:Calling model_fn.\n",
      "INFO:tensorflow:Done calling model_fn.\n",
      "INFO:tensorflow:Starting evaluation at 2018-05-18-08:52:09\n",
      "INFO:tensorflow:Graph was finalized.\n",
      "INFO:tensorflow:Restoring parameters from /tmp/tmpntumdzz_/model.ckpt-1500\n",
      "INFO:tensorflow:Running local_init_op.\n",
      "INFO:tensorflow:Done running local_init_op.\n",
      "INFO:tensorflow:Finished evaluation at 2018-05-18-08:52:10\n",
      "INFO:tensorflow:Saving dict for global step 1500: accuracy = 0.9560867, average_loss = 0.17062259, global_step = 1500, loss = 17.05278\n",
      "INFO:tensorflow:Calling model_fn.\n",
      "INFO:tensorflow:Done calling model_fn.\n",
      "INFO:tensorflow:Graph was finalized.\n",
      "INFO:tensorflow:Restoring parameters from /tmp/tmpntumdzz_/model.ckpt-1500\n",
      "INFO:tensorflow:Running local_init_op.\n",
      "INFO:tensorflow:Done running local_init_op.\n",
      "INFO:tensorflow:Using default config.\n",
      "WARNING:tensorflow:Using temporary folder as model directory: /tmp/tmp8if4qnc4\n",
      "INFO:tensorflow:Using config: {'_model_dir': '/tmp/tmp8if4qnc4', '_tf_random_seed': None, '_save_summary_steps': 100, '_save_checkpoints_steps': None, '_save_checkpoints_secs': 600, '_session_config': None, '_keep_checkpoint_max': 5, '_keep_checkpoint_every_n_hours': 10000, '_log_step_count_steps': 100, '_service': None, '_cluster_spec': <tensorflow.python.training.server_lib.ClusterSpec object at 0x7fdcb6fcea20>, '_task_type': 'worker', '_task_id': 0, '_global_id_in_cluster': 0, '_master': '', '_evaluation_master': '', '_is_chief': True, '_num_ps_replicas': 0, '_num_worker_replicas': 1}\n",
      "INFO:tensorflow:Calling model_fn.\n",
      "INFO:tensorflow:Done calling model_fn.\n",
      "INFO:tensorflow:Create CheckpointSaverHook.\n",
      "INFO:tensorflow:Graph was finalized.\n",
      "INFO:tensorflow:Running local_init_op.\n",
      "INFO:tensorflow:Done running local_init_op.\n",
      "INFO:tensorflow:Saving checkpoints for 1 into /tmp/tmp8if4qnc4/model.ckpt.\n",
      "INFO:tensorflow:loss = 241.53497, step = 0\n",
      "INFO:tensorflow:global_step/sec: 145.841\n",
      "INFO:tensorflow:loss = 73.89896, step = 100 (0.690 sec)\n",
      "INFO:tensorflow:global_step/sec: 152.422\n",
      "INFO:tensorflow:loss = 48.596268, step = 200 (0.659 sec)\n",
      "INFO:tensorflow:global_step/sec: 152.155\n",
      "INFO:tensorflow:loss = 24.779367, step = 300 (0.652 sec)\n",
      "INFO:tensorflow:global_step/sec: 164.012\n",
      "INFO:tensorflow:loss = 25.662338, step = 400 (0.613 sec)\n",
      "INFO:tensorflow:global_step/sec: 145.143\n",
      "INFO:tensorflow:loss = 29.711159, step = 500 (0.686 sec)\n",
      "INFO:tensorflow:global_step/sec: 153.619\n",
      "INFO:tensorflow:loss = 24.805601, step = 600 (0.654 sec)\n",
      "INFO:tensorflow:global_step/sec: 149.451\n",
      "INFO:tensorflow:loss = 12.225069, step = 700 (0.669 sec)\n",
      "INFO:tensorflow:global_step/sec: 157.069\n",
      "INFO:tensorflow:loss = 16.44078, step = 800 (0.637 sec)\n",
      "INFO:tensorflow:global_step/sec: 152.28\n",
      "INFO:tensorflow:loss = 17.838324, step = 900 (0.653 sec)\n",
      "INFO:tensorflow:global_step/sec: 150.608\n",
      "INFO:tensorflow:loss = 18.805632, step = 1000 (0.664 sec)\n",
      "INFO:tensorflow:global_step/sec: 155.09\n",
      "INFO:tensorflow:loss = 7.465044, step = 1100 (0.651 sec)\n",
      "INFO:tensorflow:global_step/sec: 167.623\n",
      "INFO:tensorflow:loss = 16.196335, step = 1200 (0.591 sec)\n",
      "INFO:tensorflow:global_step/sec: 152.046\n",
      "INFO:tensorflow:loss = 7.8727055, step = 1300 (0.659 sec)\n",
      "INFO:tensorflow:global_step/sec: 153.36\n",
      "INFO:tensorflow:loss = 18.298197, step = 1400 (0.655 sec)\n",
      "INFO:tensorflow:global_step/sec: 154.504\n",
      "INFO:tensorflow:loss = 11.750063, step = 1500 (0.648 sec)\n",
      "INFO:tensorflow:global_step/sec: 159.979\n",
      "INFO:tensorflow:loss = 27.827456, step = 1600 (0.620 sec)\n",
      "INFO:tensorflow:global_step/sec: 149.237\n",
      "INFO:tensorflow:loss = 10.512281, step = 1700 (0.671 sec)\n",
      "INFO:tensorflow:global_step/sec: 151.565\n",
      "INFO:tensorflow:loss = 6.264251, step = 1800 (0.658 sec)\n"
     ]
    },
    {
     "name": "stdout",
     "output_type": "stream",
     "text": [
      "INFO:tensorflow:global_step/sec: 150.217\n",
      "INFO:tensorflow:loss = 13.438906, step = 1900 (0.670 sec)\n",
      "INFO:tensorflow:Saving checkpoints for 2000 into /tmp/tmp8if4qnc4/model.ckpt.\n",
      "INFO:tensorflow:Loss for final step: 12.157001.\n",
      "INFO:tensorflow:Calling model_fn.\n",
      "INFO:tensorflow:Done calling model_fn.\n",
      "INFO:tensorflow:Starting evaluation at 2018-05-18-08:52:26\n",
      "INFO:tensorflow:Graph was finalized.\n",
      "INFO:tensorflow:Restoring parameters from /tmp/tmp8if4qnc4/model.ckpt-2000\n",
      "INFO:tensorflow:Running local_init_op.\n",
      "INFO:tensorflow:Done running local_init_op.\n",
      "INFO:tensorflow:Finished evaluation at 2018-05-18-08:52:26\n",
      "INFO:tensorflow:Saving dict for global step 2000: accuracy = 0.954955, average_loss = 0.15761584, global_step = 2000, loss = 15.162644\n",
      "INFO:tensorflow:Calling model_fn.\n",
      "INFO:tensorflow:Done calling model_fn.\n",
      "INFO:tensorflow:Graph was finalized.\n",
      "INFO:tensorflow:Restoring parameters from /tmp/tmp8if4qnc4/model.ckpt-2000\n",
      "INFO:tensorflow:Running local_init_op.\n",
      "INFO:tensorflow:Done running local_init_op.\n",
      "INFO:tensorflow:Using default config.\n",
      "WARNING:tensorflow:Using temporary folder as model directory: /tmp/tmpbed3080c\n",
      "INFO:tensorflow:Using config: {'_model_dir': '/tmp/tmpbed3080c', '_tf_random_seed': None, '_save_summary_steps': 100, '_save_checkpoints_steps': None, '_save_checkpoints_secs': 600, '_session_config': None, '_keep_checkpoint_max': 5, '_keep_checkpoint_every_n_hours': 10000, '_log_step_count_steps': 100, '_service': None, '_cluster_spec': <tensorflow.python.training.server_lib.ClusterSpec object at 0x7fdcdad97be0>, '_task_type': 'worker', '_task_id': 0, '_global_id_in_cluster': 0, '_master': '', '_evaluation_master': '', '_is_chief': True, '_num_ps_replicas': 0, '_num_worker_replicas': 1}\n",
      "INFO:tensorflow:Calling model_fn.\n",
      "INFO:tensorflow:Done calling model_fn.\n",
      "INFO:tensorflow:Create CheckpointSaverHook.\n",
      "INFO:tensorflow:Graph was finalized.\n",
      "INFO:tensorflow:Running local_init_op.\n",
      "INFO:tensorflow:Done running local_init_op.\n",
      "INFO:tensorflow:Saving checkpoints for 1 into /tmp/tmpbed3080c/model.ckpt.\n",
      "INFO:tensorflow:loss = 193.21854, step = 0\n",
      "INFO:tensorflow:global_step/sec: 142.308\n",
      "INFO:tensorflow:loss = 72.53464, step = 100 (0.706 sec)\n",
      "INFO:tensorflow:global_step/sec: 151.228\n",
      "INFO:tensorflow:loss = 52.67134, step = 200 (0.662 sec)\n",
      "INFO:tensorflow:global_step/sec: 153.233\n",
      "INFO:tensorflow:loss = 37.22983, step = 300 (0.657 sec)\n",
      "INFO:tensorflow:global_step/sec: 155.17\n",
      "INFO:tensorflow:loss = 22.127678, step = 400 (0.640 sec)\n",
      "INFO:tensorflow:global_step/sec: 162.562\n",
      "INFO:tensorflow:loss = 22.376486, step = 500 (0.616 sec)\n",
      "INFO:tensorflow:global_step/sec: 153.301\n",
      "INFO:tensorflow:loss = 18.184074, step = 600 (0.653 sec)\n",
      "INFO:tensorflow:global_step/sec: 153.812\n",
      "INFO:tensorflow:loss = 16.559448, step = 700 (0.646 sec)\n",
      "INFO:tensorflow:global_step/sec: 160.432\n",
      "INFO:tensorflow:loss = 14.463748, step = 800 (0.624 sec)\n",
      "INFO:tensorflow:global_step/sec: 149.606\n",
      "INFO:tensorflow:loss = 21.663504, step = 900 (0.667 sec)\n",
      "INFO:tensorflow:global_step/sec: 150.275\n",
      "INFO:tensorflow:loss = 17.090347, step = 1000 (0.670 sec)\n",
      "INFO:tensorflow:global_step/sec: 149.912\n",
      "INFO:tensorflow:loss = 13.989842, step = 1100 (0.665 sec)\n",
      "INFO:tensorflow:global_step/sec: 153.469\n",
      "INFO:tensorflow:loss = 24.0853, step = 1200 (0.653 sec)\n",
      "INFO:tensorflow:global_step/sec: 149.847\n",
      "INFO:tensorflow:loss = 18.763983, step = 1300 (0.667 sec)\n",
      "INFO:tensorflow:global_step/sec: 118.51\n",
      "INFO:tensorflow:loss = 17.664196, step = 1400 (0.839 sec)\n",
      "INFO:tensorflow:global_step/sec: 148.055\n",
      "INFO:tensorflow:loss = 7.1628366, step = 1500 (0.675 sec)\n",
      "INFO:tensorflow:global_step/sec: 154.016\n",
      "INFO:tensorflow:loss = 25.924082, step = 1600 (0.649 sec)\n",
      "INFO:tensorflow:global_step/sec: 150.03\n",
      "INFO:tensorflow:loss = 12.429911, step = 1700 (0.666 sec)\n",
      "INFO:tensorflow:global_step/sec: 157.008\n",
      "INFO:tensorflow:loss = 12.522058, step = 1800 (0.637 sec)\n",
      "INFO:tensorflow:global_step/sec: 161.783\n",
      "INFO:tensorflow:loss = 17.052412, step = 1900 (0.618 sec)\n",
      "INFO:tensorflow:Saving checkpoints for 2000 into /tmp/tmpbed3080c/model.ckpt.\n",
      "INFO:tensorflow:Loss for final step: 15.361223.\n",
      "INFO:tensorflow:Calling model_fn.\n",
      "INFO:tensorflow:Done calling model_fn.\n",
      "INFO:tensorflow:Starting evaluation at 2018-05-18-08:52:42\n",
      "INFO:tensorflow:Graph was finalized.\n",
      "INFO:tensorflow:Restoring parameters from /tmp/tmpbed3080c/model.ckpt-2000\n",
      "INFO:tensorflow:Running local_init_op.\n",
      "INFO:tensorflow:Done running local_init_op.\n",
      "INFO:tensorflow:Finished evaluation at 2018-05-18-08:52:43\n",
      "INFO:tensorflow:Saving dict for global step 2000: accuracy = 0.95803225, average_loss = 0.17234358, global_step = 2000, loss = 17.224785\n",
      "INFO:tensorflow:Calling model_fn.\n",
      "INFO:tensorflow:Done calling model_fn.\n",
      "INFO:tensorflow:Graph was finalized.\n",
      "INFO:tensorflow:Restoring parameters from /tmp/tmpbed3080c/model.ckpt-2000\n",
      "INFO:tensorflow:Running local_init_op.\n",
      "INFO:tensorflow:Done running local_init_op.\n",
      "INFO:tensorflow:Using default config.\n",
      "WARNING:tensorflow:Using temporary folder as model directory: /tmp/tmpfgrg4ug4\n",
      "INFO:tensorflow:Using config: {'_model_dir': '/tmp/tmpfgrg4ug4', '_tf_random_seed': None, '_save_summary_steps': 100, '_save_checkpoints_steps': None, '_save_checkpoints_secs': 600, '_session_config': None, '_keep_checkpoint_max': 5, '_keep_checkpoint_every_n_hours': 10000, '_log_step_count_steps': 100, '_service': None, '_cluster_spec': <tensorflow.python.training.server_lib.ClusterSpec object at 0x7fdcdafe7a58>, '_task_type': 'worker', '_task_id': 0, '_global_id_in_cluster': 0, '_master': '', '_evaluation_master': '', '_is_chief': True, '_num_ps_replicas': 0, '_num_worker_replicas': 1}\n",
      "INFO:tensorflow:Calling model_fn.\n",
      "INFO:tensorflow:Done calling model_fn.\n",
      "INFO:tensorflow:Create CheckpointSaverHook.\n",
      "INFO:tensorflow:Graph was finalized.\n",
      "INFO:tensorflow:Running local_init_op.\n",
      "INFO:tensorflow:Done running local_init_op.\n",
      "INFO:tensorflow:Saving checkpoints for 1 into /tmp/tmpfgrg4ug4/model.ckpt.\n",
      "INFO:tensorflow:loss = 256.1913, step = 0\n",
      "INFO:tensorflow:Saving checkpoints for 100 into /tmp/tmpfgrg4ug4/model.ckpt.\n",
      "INFO:tensorflow:Loss for final step: 128.79372.\n",
      "INFO:tensorflow:Calling model_fn.\n",
      "INFO:tensorflow:Done calling model_fn.\n",
      "INFO:tensorflow:Starting evaluation at 2018-05-18-08:52:46\n",
      "INFO:tensorflow:Graph was finalized.\n",
      "INFO:tensorflow:Restoring parameters from /tmp/tmpfgrg4ug4/model.ckpt-100\n",
      "INFO:tensorflow:Running local_init_op.\n",
      "INFO:tensorflow:Done running local_init_op.\n",
      "INFO:tensorflow:Finished evaluation at 2018-05-18-08:52:47\n",
      "INFO:tensorflow:Saving dict for global step 100: accuracy = 0.5835066, average_loss = 1.213476, global_step = 100, loss = 116.73638\n",
      "INFO:tensorflow:Calling model_fn.\n",
      "INFO:tensorflow:Done calling model_fn.\n",
      "INFO:tensorflow:Graph was finalized.\n",
      "INFO:tensorflow:Restoring parameters from /tmp/tmpfgrg4ug4/model.ckpt-100\n",
      "INFO:tensorflow:Running local_init_op.\n",
      "INFO:tensorflow:Done running local_init_op.\n",
      "INFO:tensorflow:Using default config.\n",
      "WARNING:tensorflow:Using temporary folder as model directory: /tmp/tmph4pot1di\n",
      "INFO:tensorflow:Using config: {'_model_dir': '/tmp/tmph4pot1di', '_tf_random_seed': None, '_save_summary_steps': 100, '_save_checkpoints_steps': None, '_save_checkpoints_secs': 600, '_session_config': None, '_keep_checkpoint_max': 5, '_keep_checkpoint_every_n_hours': 10000, '_log_step_count_steps': 100, '_service': None, '_cluster_spec': <tensorflow.python.training.server_lib.ClusterSpec object at 0x7fdcd6986748>, '_task_type': 'worker', '_task_id': 0, '_global_id_in_cluster': 0, '_master': '', '_evaluation_master': '', '_is_chief': True, '_num_ps_replicas': 0, '_num_worker_replicas': 1}\n",
      "INFO:tensorflow:Calling model_fn.\n",
      "INFO:tensorflow:Done calling model_fn.\n",
      "INFO:tensorflow:Create CheckpointSaverHook.\n",
      "INFO:tensorflow:Graph was finalized.\n",
      "INFO:tensorflow:Running local_init_op.\n",
      "INFO:tensorflow:Done running local_init_op.\n",
      "INFO:tensorflow:Saving checkpoints for 1 into /tmp/tmph4pot1di/model.ckpt.\n",
      "INFO:tensorflow:loss = 232.6742, step = 0\n",
      "INFO:tensorflow:Saving checkpoints for 100 into /tmp/tmph4pot1di/model.ckpt.\n",
      "INFO:tensorflow:Loss for final step: 124.72573.\n",
      "INFO:tensorflow:Calling model_fn.\n",
      "INFO:tensorflow:Done calling model_fn.\n",
      "INFO:tensorflow:Starting evaluation at 2018-05-18-08:52:50\n",
      "INFO:tensorflow:Graph was finalized.\n",
      "INFO:tensorflow:Restoring parameters from /tmp/tmph4pot1di/model.ckpt-100\n",
      "INFO:tensorflow:Running local_init_op.\n",
      "INFO:tensorflow:Done running local_init_op.\n",
      "INFO:tensorflow:Finished evaluation at 2018-05-18-08:52:51\n",
      "INFO:tensorflow:Saving dict for global step 100: accuracy = 0.4897165, average_loss = 1.2964752, global_step = 100, loss = 129.5755\n",
      "INFO:tensorflow:Calling model_fn.\n",
      "INFO:tensorflow:Done calling model_fn.\n",
      "INFO:tensorflow:Graph was finalized.\n",
      "INFO:tensorflow:Restoring parameters from /tmp/tmph4pot1di/model.ckpt-100\n",
      "INFO:tensorflow:Running local_init_op.\n",
      "INFO:tensorflow:Done running local_init_op.\n",
      "INFO:tensorflow:Using default config.\n",
      "WARNING:tensorflow:Using temporary folder as model directory: /tmp/tmptv5t8szh\n",
      "INFO:tensorflow:Using config: {'_model_dir': '/tmp/tmptv5t8szh', '_tf_random_seed': None, '_save_summary_steps': 100, '_save_checkpoints_steps': None, '_save_checkpoints_secs': 600, '_session_config': None, '_keep_checkpoint_max': 5, '_keep_checkpoint_every_n_hours': 10000, '_log_step_count_steps': 100, '_service': None, '_cluster_spec': <tensorflow.python.training.server_lib.ClusterSpec object at 0x7fdcb6ffb3c8>, '_task_type': 'worker', '_task_id': 0, '_global_id_in_cluster': 0, '_master': '', '_evaluation_master': '', '_is_chief': True, '_num_ps_replicas': 0, '_num_worker_replicas': 1}\n",
      "INFO:tensorflow:Calling model_fn.\n",
      "INFO:tensorflow:Done calling model_fn.\n",
      "INFO:tensorflow:Create CheckpointSaverHook.\n",
      "INFO:tensorflow:Graph was finalized.\n",
      "INFO:tensorflow:Running local_init_op.\n",
      "INFO:tensorflow:Done running local_init_op.\n",
      "INFO:tensorflow:Saving checkpoints for 1 into /tmp/tmptv5t8szh/model.ckpt.\n",
      "INFO:tensorflow:loss = 231.09615, step = 0\n",
      "INFO:tensorflow:global_step/sec: 136.17\n",
      "INFO:tensorflow:loss = 119.75142, step = 100 (0.740 sec)\n",
      "INFO:tensorflow:Saving checkpoints for 200 into /tmp/tmptv5t8szh/model.ckpt.\n",
      "INFO:tensorflow:Loss for final step: 103.04958.\n",
      "INFO:tensorflow:Calling model_fn.\n",
      "INFO:tensorflow:Done calling model_fn.\n",
      "INFO:tensorflow:Starting evaluation at 2018-05-18-08:52:55\n",
      "INFO:tensorflow:Graph was finalized.\n",
      "INFO:tensorflow:Restoring parameters from /tmp/tmptv5t8szh/model.ckpt-200\n",
      "INFO:tensorflow:Running local_init_op.\n"
     ]
    },
    {
     "name": "stdout",
     "output_type": "stream",
     "text": [
      "INFO:tensorflow:Done running local_init_op.\n",
      "INFO:tensorflow:Finished evaluation at 2018-05-18-08:52:56\n",
      "INFO:tensorflow:Saving dict for global step 200: accuracy = 0.63686764, average_loss = 1.0443135, global_step = 200, loss = 100.46297\n",
      "INFO:tensorflow:Calling model_fn.\n",
      "INFO:tensorflow:Done calling model_fn.\n",
      "INFO:tensorflow:Graph was finalized.\n",
      "INFO:tensorflow:Restoring parameters from /tmp/tmptv5t8szh/model.ckpt-200\n",
      "INFO:tensorflow:Running local_init_op.\n",
      "INFO:tensorflow:Done running local_init_op.\n",
      "INFO:tensorflow:Using default config.\n",
      "WARNING:tensorflow:Using temporary folder as model directory: /tmp/tmp_hjvocb7\n",
      "INFO:tensorflow:Using config: {'_model_dir': '/tmp/tmp_hjvocb7', '_tf_random_seed': None, '_save_summary_steps': 100, '_save_checkpoints_steps': None, '_save_checkpoints_secs': 600, '_session_config': None, '_keep_checkpoint_max': 5, '_keep_checkpoint_every_n_hours': 10000, '_log_step_count_steps': 100, '_service': None, '_cluster_spec': <tensorflow.python.training.server_lib.ClusterSpec object at 0x7fdcd6657be0>, '_task_type': 'worker', '_task_id': 0, '_global_id_in_cluster': 0, '_master': '', '_evaluation_master': '', '_is_chief': True, '_num_ps_replicas': 0, '_num_worker_replicas': 1}\n",
      "INFO:tensorflow:Calling model_fn.\n",
      "INFO:tensorflow:Done calling model_fn.\n",
      "INFO:tensorflow:Create CheckpointSaverHook.\n",
      "INFO:tensorflow:Graph was finalized.\n",
      "INFO:tensorflow:Running local_init_op.\n",
      "INFO:tensorflow:Done running local_init_op.\n",
      "INFO:tensorflow:Saving checkpoints for 1 into /tmp/tmp_hjvocb7/model.ckpt.\n",
      "INFO:tensorflow:loss = 251.92615, step = 0\n",
      "INFO:tensorflow:global_step/sec: 135.649\n",
      "INFO:tensorflow:loss = 142.6184, step = 100 (0.741 sec)\n",
      "INFO:tensorflow:Saving checkpoints for 200 into /tmp/tmp_hjvocb7/model.ckpt.\n",
      "INFO:tensorflow:Loss for final step: 103.21762.\n",
      "INFO:tensorflow:Calling model_fn.\n",
      "INFO:tensorflow:Done calling model_fn.\n",
      "INFO:tensorflow:Starting evaluation at 2018-05-18-08:53:00\n",
      "INFO:tensorflow:Graph was finalized.\n",
      "INFO:tensorflow:Restoring parameters from /tmp/tmp_hjvocb7/model.ckpt-200\n",
      "INFO:tensorflow:Running local_init_op.\n",
      "INFO:tensorflow:Done running local_init_op.\n",
      "INFO:tensorflow:Finished evaluation at 2018-05-18-08:53:01\n",
      "INFO:tensorflow:Saving dict for global step 200: accuracy = 0.6370206, average_loss = 1.0533378, global_step = 200, loss = 105.27526\n",
      "INFO:tensorflow:Calling model_fn.\n",
      "INFO:tensorflow:Done calling model_fn.\n",
      "INFO:tensorflow:Graph was finalized.\n",
      "INFO:tensorflow:Restoring parameters from /tmp/tmp_hjvocb7/model.ckpt-200\n",
      "INFO:tensorflow:Running local_init_op.\n",
      "INFO:tensorflow:Done running local_init_op.\n",
      "INFO:tensorflow:Using default config.\n",
      "WARNING:tensorflow:Using temporary folder as model directory: /tmp/tmpa7k32vp6\n",
      "INFO:tensorflow:Using config: {'_model_dir': '/tmp/tmpa7k32vp6', '_tf_random_seed': None, '_save_summary_steps': 100, '_save_checkpoints_steps': None, '_save_checkpoints_secs': 600, '_session_config': None, '_keep_checkpoint_max': 5, '_keep_checkpoint_every_n_hours': 10000, '_log_step_count_steps': 100, '_service': None, '_cluster_spec': <tensorflow.python.training.server_lib.ClusterSpec object at 0x7fdcdaf22da0>, '_task_type': 'worker', '_task_id': 0, '_global_id_in_cluster': 0, '_master': '', '_evaluation_master': '', '_is_chief': True, '_num_ps_replicas': 0, '_num_worker_replicas': 1}\n",
      "INFO:tensorflow:Calling model_fn.\n",
      "INFO:tensorflow:Done calling model_fn.\n",
      "INFO:tensorflow:Create CheckpointSaverHook.\n",
      "INFO:tensorflow:Graph was finalized.\n",
      "INFO:tensorflow:Running local_init_op.\n",
      "INFO:tensorflow:Done running local_init_op.\n",
      "INFO:tensorflow:Saving checkpoints for 1 into /tmp/tmpa7k32vp6/model.ckpt.\n",
      "INFO:tensorflow:loss = 217.5489, step = 0\n",
      "INFO:tensorflow:global_step/sec: 138.203\n",
      "INFO:tensorflow:loss = 127.001785, step = 100 (0.727 sec)\n",
      "INFO:tensorflow:global_step/sec: 148.2\n",
      "INFO:tensorflow:loss = 96.20484, step = 200 (0.679 sec)\n",
      "INFO:tensorflow:global_step/sec: 149.184\n",
      "INFO:tensorflow:loss = 120.921265, step = 300 (0.670 sec)\n",
      "INFO:tensorflow:global_step/sec: 159.934\n",
      "INFO:tensorflow:loss = 98.82352, step = 400 (0.626 sec)\n",
      "INFO:tensorflow:Saving checkpoints for 500 into /tmp/tmpa7k32vp6/model.ckpt.\n",
      "INFO:tensorflow:Loss for final step: 86.93994.\n",
      "INFO:tensorflow:Calling model_fn.\n",
      "INFO:tensorflow:Done calling model_fn.\n",
      "INFO:tensorflow:Starting evaluation at 2018-05-18-08:53:07\n",
      "INFO:tensorflow:Graph was finalized.\n",
      "INFO:tensorflow:Restoring parameters from /tmp/tmpa7k32vp6/model.ckpt-500\n",
      "INFO:tensorflow:Running local_init_op.\n",
      "INFO:tensorflow:Done running local_init_op.\n",
      "INFO:tensorflow:Finished evaluation at 2018-05-18-08:53:08\n",
      "INFO:tensorflow:Saving dict for global step 500: accuracy = 0.72349274, average_loss = 0.9088083, global_step = 500, loss = 87.42736\n",
      "INFO:tensorflow:Calling model_fn.\n",
      "INFO:tensorflow:Done calling model_fn.\n",
      "INFO:tensorflow:Graph was finalized.\n",
      "INFO:tensorflow:Restoring parameters from /tmp/tmpa7k32vp6/model.ckpt-500\n",
      "INFO:tensorflow:Running local_init_op.\n",
      "INFO:tensorflow:Done running local_init_op.\n",
      "INFO:tensorflow:Using default config.\n",
      "WARNING:tensorflow:Using temporary folder as model directory: /tmp/tmpxqjuwjit\n",
      "INFO:tensorflow:Using config: {'_model_dir': '/tmp/tmpxqjuwjit', '_tf_random_seed': None, '_save_summary_steps': 100, '_save_checkpoints_steps': None, '_save_checkpoints_secs': 600, '_session_config': None, '_keep_checkpoint_max': 5, '_keep_checkpoint_every_n_hours': 10000, '_log_step_count_steps': 100, '_service': None, '_cluster_spec': <tensorflow.python.training.server_lib.ClusterSpec object at 0x7fdcb6f44080>, '_task_type': 'worker', '_task_id': 0, '_global_id_in_cluster': 0, '_master': '', '_evaluation_master': '', '_is_chief': True, '_num_ps_replicas': 0, '_num_worker_replicas': 1}\n",
      "INFO:tensorflow:Calling model_fn.\n",
      "INFO:tensorflow:Done calling model_fn.\n",
      "INFO:tensorflow:Create CheckpointSaverHook.\n",
      "INFO:tensorflow:Graph was finalized.\n",
      "INFO:tensorflow:Running local_init_op.\n",
      "INFO:tensorflow:Done running local_init_op.\n",
      "INFO:tensorflow:Saving checkpoints for 1 into /tmp/tmpxqjuwjit/model.ckpt.\n",
      "INFO:tensorflow:loss = 239.3062, step = 0\n",
      "INFO:tensorflow:global_step/sec: 130.134\n",
      "INFO:tensorflow:loss = 130.7298, step = 100 (0.772 sec)\n",
      "INFO:tensorflow:global_step/sec: 145.421\n",
      "INFO:tensorflow:loss = 105.55147, step = 200 (0.689 sec)\n",
      "INFO:tensorflow:global_step/sec: 153.245\n",
      "INFO:tensorflow:loss = 105.6731, step = 300 (0.654 sec)\n",
      "INFO:tensorflow:global_step/sec: 153.582\n",
      "INFO:tensorflow:loss = 100.55958, step = 400 (0.651 sec)\n",
      "INFO:tensorflow:Saving checkpoints for 500 into /tmp/tmpxqjuwjit/model.ckpt.\n",
      "INFO:tensorflow:Loss for final step: 75.8207.\n",
      "INFO:tensorflow:Calling model_fn.\n",
      "INFO:tensorflow:Done calling model_fn.\n",
      "INFO:tensorflow:Starting evaluation at 2018-05-18-08:53:14\n",
      "INFO:tensorflow:Graph was finalized.\n",
      "INFO:tensorflow:Restoring parameters from /tmp/tmpxqjuwjit/model.ckpt-500\n",
      "INFO:tensorflow:Running local_init_op.\n",
      "INFO:tensorflow:Done running local_init_op.\n",
      "INFO:tensorflow:Finished evaluation at 2018-05-18-08:53:14\n",
      "INFO:tensorflow:Saving dict for global step 500: accuracy = 0.7262368, average_loss = 0.89444697, global_step = 500, loss = 89.395004\n",
      "INFO:tensorflow:Calling model_fn.\n",
      "INFO:tensorflow:Done calling model_fn.\n",
      "INFO:tensorflow:Graph was finalized.\n",
      "INFO:tensorflow:Restoring parameters from /tmp/tmpxqjuwjit/model.ckpt-500\n",
      "INFO:tensorflow:Running local_init_op.\n",
      "INFO:tensorflow:Done running local_init_op.\n",
      "INFO:tensorflow:Using default config.\n",
      "WARNING:tensorflow:Using temporary folder as model directory: /tmp/tmpzvn1y3sv\n",
      "INFO:tensorflow:Using config: {'_model_dir': '/tmp/tmpzvn1y3sv', '_tf_random_seed': None, '_save_summary_steps': 100, '_save_checkpoints_steps': None, '_save_checkpoints_secs': 600, '_session_config': None, '_keep_checkpoint_max': 5, '_keep_checkpoint_every_n_hours': 10000, '_log_step_count_steps': 100, '_service': None, '_cluster_spec': <tensorflow.python.training.server_lib.ClusterSpec object at 0x7fdcdac599e8>, '_task_type': 'worker', '_task_id': 0, '_global_id_in_cluster': 0, '_master': '', '_evaluation_master': '', '_is_chief': True, '_num_ps_replicas': 0, '_num_worker_replicas': 1}\n",
      "INFO:tensorflow:Calling model_fn.\n",
      "INFO:tensorflow:Done calling model_fn.\n",
      "INFO:tensorflow:Create CheckpointSaverHook.\n",
      "INFO:tensorflow:Graph was finalized.\n",
      "INFO:tensorflow:Running local_init_op.\n",
      "INFO:tensorflow:Done running local_init_op.\n",
      "INFO:tensorflow:Saving checkpoints for 1 into /tmp/tmpzvn1y3sv/model.ckpt.\n",
      "INFO:tensorflow:loss = 295.38583, step = 0\n",
      "INFO:tensorflow:global_step/sec: 145.429\n",
      "INFO:tensorflow:loss = 157.7629, step = 100 (0.695 sec)\n",
      "INFO:tensorflow:global_step/sec: 148.951\n",
      "INFO:tensorflow:loss = 93.168144, step = 200 (0.667 sec)\n",
      "INFO:tensorflow:global_step/sec: 141.675\n",
      "INFO:tensorflow:loss = 108.48965, step = 300 (0.713 sec)\n",
      "INFO:tensorflow:global_step/sec: 153.56\n",
      "INFO:tensorflow:loss = 107.2985, step = 400 (0.647 sec)\n",
      "INFO:tensorflow:global_step/sec: 144.184\n",
      "INFO:tensorflow:loss = 106.63583, step = 500 (0.695 sec)\n",
      "INFO:tensorflow:global_step/sec: 153.838\n",
      "INFO:tensorflow:loss = 120.55434, step = 600 (0.647 sec)\n",
      "INFO:tensorflow:global_step/sec: 148.181\n",
      "INFO:tensorflow:loss = 82.86945, step = 700 (0.677 sec)\n",
      "INFO:tensorflow:global_step/sec: 163.988\n",
      "INFO:tensorflow:loss = 91.137726, step = 800 (0.604 sec)\n",
      "INFO:tensorflow:global_step/sec: 150.446\n",
      "INFO:tensorflow:loss = 96.294525, step = 900 (0.668 sec)\n",
      "INFO:tensorflow:Saving checkpoints for 1000 into /tmp/tmpzvn1y3sv/model.ckpt.\n",
      "INFO:tensorflow:Loss for final step: 81.74862.\n",
      "INFO:tensorflow:Calling model_fn.\n",
      "INFO:tensorflow:Done calling model_fn.\n",
      "INFO:tensorflow:Starting evaluation at 2018-05-18-08:53:24\n",
      "INFO:tensorflow:Graph was finalized.\n",
      "INFO:tensorflow:Restoring parameters from /tmp/tmpzvn1y3sv/model.ckpt-1000\n",
      "INFO:tensorflow:Running local_init_op.\n",
      "INFO:tensorflow:Done running local_init_op.\n",
      "INFO:tensorflow:Finished evaluation at 2018-05-18-08:53:25\n",
      "INFO:tensorflow:Saving dict for global step 1000: accuracy = 0.7373527, average_loss = 0.78592217, global_step = 1000, loss = 75.60571\n",
      "INFO:tensorflow:Calling model_fn.\n",
      "INFO:tensorflow:Done calling model_fn.\n",
      "INFO:tensorflow:Graph was finalized.\n",
      "INFO:tensorflow:Restoring parameters from /tmp/tmpzvn1y3sv/model.ckpt-1000\n",
      "INFO:tensorflow:Running local_init_op.\n",
      "INFO:tensorflow:Done running local_init_op.\n",
      "INFO:tensorflow:Using default config.\n",
      "WARNING:tensorflow:Using temporary folder as model directory: /tmp/tmpki6gid1t\n",
      "INFO:tensorflow:Using config: {'_model_dir': '/tmp/tmpki6gid1t', '_tf_random_seed': None, '_save_summary_steps': 100, '_save_checkpoints_steps': None, '_save_checkpoints_secs': 600, '_session_config': None, '_keep_checkpoint_max': 5, '_keep_checkpoint_every_n_hours': 10000, '_log_step_count_steps': 100, '_service': None, '_cluster_spec': <tensorflow.python.training.server_lib.ClusterSpec object at 0x7fdcb6f9f9e8>, '_task_type': 'worker', '_task_id': 0, '_global_id_in_cluster': 0, '_master': '', '_evaluation_master': '', '_is_chief': True, '_num_ps_replicas': 0, '_num_worker_replicas': 1}\n"
     ]
    },
    {
     "name": "stdout",
     "output_type": "stream",
     "text": [
      "INFO:tensorflow:Calling model_fn.\n",
      "INFO:tensorflow:Done calling model_fn.\n",
      "INFO:tensorflow:Create CheckpointSaverHook.\n",
      "INFO:tensorflow:Graph was finalized.\n",
      "INFO:tensorflow:Running local_init_op.\n",
      "INFO:tensorflow:Done running local_init_op.\n",
      "INFO:tensorflow:Saving checkpoints for 1 into /tmp/tmpki6gid1t/model.ckpt.\n",
      "INFO:tensorflow:loss = 231.38503, step = 0\n",
      "INFO:tensorflow:global_step/sec: 139.685\n",
      "INFO:tensorflow:loss = 129.42984, step = 100 (0.720 sec)\n",
      "INFO:tensorflow:global_step/sec: 153.058\n",
      "INFO:tensorflow:loss = 99.66852, step = 200 (0.654 sec)\n",
      "INFO:tensorflow:global_step/sec: 152.137\n",
      "INFO:tensorflow:loss = 95.637985, step = 300 (0.654 sec)\n",
      "INFO:tensorflow:global_step/sec: 148.235\n",
      "INFO:tensorflow:loss = 77.99499, step = 400 (0.677 sec)\n",
      "INFO:tensorflow:global_step/sec: 159.281\n",
      "INFO:tensorflow:loss = 79.78115, step = 500 (0.626 sec)\n",
      "INFO:tensorflow:global_step/sec: 142.652\n",
      "INFO:tensorflow:loss = 67.395164, step = 600 (0.705 sec)\n",
      "INFO:tensorflow:global_step/sec: 142.504\n",
      "INFO:tensorflow:loss = 75.46317, step = 700 (0.699 sec)\n",
      "INFO:tensorflow:global_step/sec: 144.245\n",
      "INFO:tensorflow:loss = 79.67908, step = 800 (0.693 sec)\n",
      "INFO:tensorflow:global_step/sec: 148.441\n",
      "INFO:tensorflow:loss = 80.68515, step = 900 (0.677 sec)\n",
      "INFO:tensorflow:Saving checkpoints for 1000 into /tmp/tmpki6gid1t/model.ckpt.\n",
      "INFO:tensorflow:Loss for final step: 84.676094.\n",
      "INFO:tensorflow:Calling model_fn.\n",
      "INFO:tensorflow:Done calling model_fn.\n",
      "INFO:tensorflow:Starting evaluation at 2018-05-18-08:53:34\n",
      "INFO:tensorflow:Graph was finalized.\n",
      "INFO:tensorflow:Restoring parameters from /tmp/tmpki6gid1t/model.ckpt-1000\n",
      "INFO:tensorflow:Running local_init_op.\n",
      "INFO:tensorflow:Done running local_init_op.\n",
      "INFO:tensorflow:Finished evaluation at 2018-05-18-08:53:35\n",
      "INFO:tensorflow:Saving dict for global step 1000: accuracy = 0.74902725, average_loss = 0.75730324, global_step = 1000, loss = 75.688255\n",
      "INFO:tensorflow:Calling model_fn.\n",
      "INFO:tensorflow:Done calling model_fn.\n",
      "INFO:tensorflow:Graph was finalized.\n",
      "INFO:tensorflow:Restoring parameters from /tmp/tmpki6gid1t/model.ckpt-1000\n",
      "INFO:tensorflow:Running local_init_op.\n",
      "INFO:tensorflow:Done running local_init_op.\n",
      "INFO:tensorflow:Using default config.\n",
      "WARNING:tensorflow:Using temporary folder as model directory: /tmp/tmpa6sh45hm\n",
      "INFO:tensorflow:Using config: {'_model_dir': '/tmp/tmpa6sh45hm', '_tf_random_seed': None, '_save_summary_steps': 100, '_save_checkpoints_steps': None, '_save_checkpoints_secs': 600, '_session_config': None, '_keep_checkpoint_max': 5, '_keep_checkpoint_every_n_hours': 10000, '_log_step_count_steps': 100, '_service': None, '_cluster_spec': <tensorflow.python.training.server_lib.ClusterSpec object at 0x7fdcb3f98f60>, '_task_type': 'worker', '_task_id': 0, '_global_id_in_cluster': 0, '_master': '', '_evaluation_master': '', '_is_chief': True, '_num_ps_replicas': 0, '_num_worker_replicas': 1}\n",
      "INFO:tensorflow:Calling model_fn.\n",
      "INFO:tensorflow:Done calling model_fn.\n",
      "INFO:tensorflow:Create CheckpointSaverHook.\n",
      "INFO:tensorflow:Graph was finalized.\n",
      "INFO:tensorflow:Running local_init_op.\n",
      "INFO:tensorflow:Done running local_init_op.\n",
      "INFO:tensorflow:Saving checkpoints for 1 into /tmp/tmpa6sh45hm/model.ckpt.\n",
      "INFO:tensorflow:loss = 254.67172, step = 0\n",
      "INFO:tensorflow:global_step/sec: 143.43\n",
      "INFO:tensorflow:loss = 147.70828, step = 100 (0.704 sec)\n",
      "INFO:tensorflow:global_step/sec: 150.304\n",
      "INFO:tensorflow:loss = 100.24299, step = 200 (0.664 sec)\n",
      "INFO:tensorflow:global_step/sec: 149.412\n",
      "INFO:tensorflow:loss = 90.71221, step = 300 (0.667 sec)\n",
      "INFO:tensorflow:global_step/sec: 160.182\n",
      "INFO:tensorflow:loss = 96.03744, step = 400 (0.624 sec)\n",
      "INFO:tensorflow:global_step/sec: 146.828\n",
      "INFO:tensorflow:loss = 92.315956, step = 500 (0.686 sec)\n",
      "INFO:tensorflow:global_step/sec: 143.421\n",
      "INFO:tensorflow:loss = 76.196945, step = 600 (0.693 sec)\n",
      "INFO:tensorflow:global_step/sec: 150.74\n",
      "INFO:tensorflow:loss = 71.24968, step = 700 (0.666 sec)\n",
      "INFO:tensorflow:global_step/sec: 160.949\n",
      "INFO:tensorflow:loss = 69.14729, step = 800 (0.621 sec)\n",
      "INFO:tensorflow:global_step/sec: 149.678\n",
      "INFO:tensorflow:loss = 66.55454, step = 900 (0.671 sec)\n",
      "INFO:tensorflow:global_step/sec: 150.692\n",
      "INFO:tensorflow:loss = 80.08357, step = 1000 (0.662 sec)\n",
      "INFO:tensorflow:global_step/sec: 152.294\n",
      "INFO:tensorflow:loss = 73.53676, step = 1100 (0.653 sec)\n",
      "INFO:tensorflow:global_step/sec: 162.598\n",
      "INFO:tensorflow:loss = 75.620384, step = 1200 (0.616 sec)\n",
      "INFO:tensorflow:global_step/sec: 148.997\n",
      "INFO:tensorflow:loss = 82.078804, step = 1300 (0.672 sec)\n",
      "INFO:tensorflow:global_step/sec: 152.934\n",
      "INFO:tensorflow:loss = 67.36008, step = 1400 (0.652 sec)\n",
      "INFO:tensorflow:Saving checkpoints for 1500 into /tmp/tmpa6sh45hm/model.ckpt.\n",
      "INFO:tensorflow:Loss for final step: 62.68756.\n",
      "INFO:tensorflow:Calling model_fn.\n",
      "INFO:tensorflow:Done calling model_fn.\n",
      "INFO:tensorflow:Starting evaluation at 2018-05-18-08:53:48\n",
      "INFO:tensorflow:Graph was finalized.\n",
      "INFO:tensorflow:Restoring parameters from /tmp/tmpa6sh45hm/model.ckpt-1500\n",
      "INFO:tensorflow:Running local_init_op.\n",
      "INFO:tensorflow:Done running local_init_op.\n",
      "INFO:tensorflow:Finished evaluation at 2018-05-18-08:53:48\n",
      "INFO:tensorflow:Saving dict for global step 1500: accuracy = 0.76645875, average_loss = 0.7196528, global_step = 1500, loss = 69.2306\n",
      "INFO:tensorflow:Calling model_fn.\n",
      "INFO:tensorflow:Done calling model_fn.\n",
      "INFO:tensorflow:Graph was finalized.\n",
      "INFO:tensorflow:Restoring parameters from /tmp/tmpa6sh45hm/model.ckpt-1500\n",
      "INFO:tensorflow:Running local_init_op.\n",
      "INFO:tensorflow:Done running local_init_op.\n",
      "INFO:tensorflow:Using default config.\n",
      "WARNING:tensorflow:Using temporary folder as model directory: /tmp/tmp7to_y3wo\n",
      "INFO:tensorflow:Using config: {'_model_dir': '/tmp/tmp7to_y3wo', '_tf_random_seed': None, '_save_summary_steps': 100, '_save_checkpoints_steps': None, '_save_checkpoints_secs': 600, '_session_config': None, '_keep_checkpoint_max': 5, '_keep_checkpoint_every_n_hours': 10000, '_log_step_count_steps': 100, '_service': None, '_cluster_spec': <tensorflow.python.training.server_lib.ClusterSpec object at 0x7fdcd653ecf8>, '_task_type': 'worker', '_task_id': 0, '_global_id_in_cluster': 0, '_master': '', '_evaluation_master': '', '_is_chief': True, '_num_ps_replicas': 0, '_num_worker_replicas': 1}\n",
      "INFO:tensorflow:Calling model_fn.\n",
      "INFO:tensorflow:Done calling model_fn.\n",
      "INFO:tensorflow:Create CheckpointSaverHook.\n",
      "INFO:tensorflow:Graph was finalized.\n",
      "INFO:tensorflow:Running local_init_op.\n",
      "INFO:tensorflow:Done running local_init_op.\n",
      "INFO:tensorflow:Saving checkpoints for 1 into /tmp/tmp7to_y3wo/model.ckpt.\n",
      "INFO:tensorflow:loss = 217.23285, step = 0\n",
      "INFO:tensorflow:global_step/sec: 132.752\n",
      "INFO:tensorflow:loss = 100.286194, step = 100 (0.761 sec)\n",
      "INFO:tensorflow:global_step/sec: 141.398\n",
      "INFO:tensorflow:loss = 79.04903, step = 200 (0.706 sec)\n",
      "INFO:tensorflow:global_step/sec: 151.343\n",
      "INFO:tensorflow:loss = 108.87099, step = 300 (0.660 sec)\n",
      "INFO:tensorflow:global_step/sec: 146.196\n",
      "INFO:tensorflow:loss = 104.53563, step = 400 (0.686 sec)\n",
      "INFO:tensorflow:global_step/sec: 157.887\n",
      "INFO:tensorflow:loss = 91.6912, step = 500 (0.631 sec)\n",
      "INFO:tensorflow:global_step/sec: 144.875\n",
      "INFO:tensorflow:loss = 68.04176, step = 600 (0.688 sec)\n",
      "INFO:tensorflow:global_step/sec: 146.162\n",
      "INFO:tensorflow:loss = 97.4242, step = 700 (0.687 sec)\n",
      "INFO:tensorflow:global_step/sec: 149.99\n",
      "INFO:tensorflow:loss = 91.04968, step = 800 (0.669 sec)\n",
      "INFO:tensorflow:global_step/sec: 151.776\n",
      "INFO:tensorflow:loss = 58.00344, step = 900 (0.656 sec)\n",
      "INFO:tensorflow:global_step/sec: 154.993\n",
      "INFO:tensorflow:loss = 78.8801, step = 1000 (0.647 sec)\n",
      "INFO:tensorflow:global_step/sec: 150.744\n",
      "INFO:tensorflow:loss = 73.175186, step = 1100 (0.660 sec)\n",
      "INFO:tensorflow:global_step/sec: 145.231\n",
      "INFO:tensorflow:loss = 67.990685, step = 1200 (0.688 sec)\n",
      "INFO:tensorflow:global_step/sec: 143.166\n",
      "INFO:tensorflow:loss = 69.03966, step = 1300 (0.703 sec)\n",
      "INFO:tensorflow:global_step/sec: 156.944\n",
      "INFO:tensorflow:loss = 65.9956, step = 1400 (0.634 sec)\n",
      "INFO:tensorflow:Saving checkpoints for 1500 into /tmp/tmp7to_y3wo/model.ckpt.\n",
      "INFO:tensorflow:Loss for final step: 76.57914.\n",
      "INFO:tensorflow:Calling model_fn.\n",
      "INFO:tensorflow:Done calling model_fn.\n",
      "INFO:tensorflow:Starting evaluation at 2018-05-18-08:54:01\n",
      "INFO:tensorflow:Graph was finalized.\n",
      "INFO:tensorflow:Restoring parameters from /tmp/tmp7to_y3wo/model.ckpt-1500\n",
      "INFO:tensorflow:Running local_init_op.\n",
      "INFO:tensorflow:Done running local_init_op.\n",
      "INFO:tensorflow:Finished evaluation at 2018-05-18-08:54:02\n",
      "INFO:tensorflow:Saving dict for global step 1500: accuracy = 0.78126734, average_loss = 0.70439553, global_step = 1500, loss = 70.40042\n",
      "INFO:tensorflow:Calling model_fn.\n",
      "INFO:tensorflow:Done calling model_fn.\n",
      "INFO:tensorflow:Graph was finalized.\n",
      "INFO:tensorflow:Restoring parameters from /tmp/tmp7to_y3wo/model.ckpt-1500\n",
      "INFO:tensorflow:Running local_init_op.\n",
      "INFO:tensorflow:Done running local_init_op.\n",
      "INFO:tensorflow:Using default config.\n",
      "WARNING:tensorflow:Using temporary folder as model directory: /tmp/tmpmb72ckge\n",
      "INFO:tensorflow:Using config: {'_model_dir': '/tmp/tmpmb72ckge', '_tf_random_seed': None, '_save_summary_steps': 100, '_save_checkpoints_steps': None, '_save_checkpoints_secs': 600, '_session_config': None, '_keep_checkpoint_max': 5, '_keep_checkpoint_every_n_hours': 10000, '_log_step_count_steps': 100, '_service': None, '_cluster_spec': <tensorflow.python.training.server_lib.ClusterSpec object at 0x7fdcd6657f98>, '_task_type': 'worker', '_task_id': 0, '_global_id_in_cluster': 0, '_master': '', '_evaluation_master': '', '_is_chief': True, '_num_ps_replicas': 0, '_num_worker_replicas': 1}\n",
      "INFO:tensorflow:Calling model_fn.\n",
      "INFO:tensorflow:Done calling model_fn.\n",
      "INFO:tensorflow:Create CheckpointSaverHook.\n",
      "INFO:tensorflow:Graph was finalized.\n",
      "INFO:tensorflow:Running local_init_op.\n",
      "INFO:tensorflow:Done running local_init_op.\n",
      "INFO:tensorflow:Saving checkpoints for 1 into /tmp/tmpmb72ckge/model.ckpt.\n",
      "INFO:tensorflow:loss = 219.67563, step = 0\n",
      "INFO:tensorflow:global_step/sec: 140.407\n",
      "INFO:tensorflow:loss = 138.4602, step = 100 (0.716 sec)\n",
      "INFO:tensorflow:global_step/sec: 151.732\n",
      "INFO:tensorflow:loss = 123.613266, step = 200 (0.661 sec)\n",
      "INFO:tensorflow:global_step/sec: 147.62\n",
      "INFO:tensorflow:loss = 93.799965, step = 300 (0.675 sec)\n",
      "INFO:tensorflow:global_step/sec: 159.849\n",
      "INFO:tensorflow:loss = 104.970474, step = 400 (0.628 sec)\n",
      "INFO:tensorflow:global_step/sec: 146.95\n",
      "INFO:tensorflow:loss = 105.22995, step = 500 (0.682 sec)\n",
      "INFO:tensorflow:global_step/sec: 145.5\n"
     ]
    },
    {
     "name": "stdout",
     "output_type": "stream",
     "text": [
      "INFO:tensorflow:loss = 100.15677, step = 600 (0.684 sec)\n",
      "INFO:tensorflow:global_step/sec: 148.962\n",
      "INFO:tensorflow:loss = 101.82421, step = 700 (0.674 sec)\n",
      "INFO:tensorflow:global_step/sec: 159.372\n",
      "INFO:tensorflow:loss = 90.10849, step = 800 (0.626 sec)\n",
      "INFO:tensorflow:global_step/sec: 140.291\n",
      "INFO:tensorflow:loss = 78.78261, step = 900 (0.711 sec)\n",
      "INFO:tensorflow:global_step/sec: 142.117\n",
      "INFO:tensorflow:loss = 95.37883, step = 1000 (0.702 sec)\n",
      "INFO:tensorflow:global_step/sec: 141.151\n",
      "INFO:tensorflow:loss = 80.87721, step = 1100 (0.708 sec)\n",
      "INFO:tensorflow:global_step/sec: 158.069\n",
      "INFO:tensorflow:loss = 93.57935, step = 1200 (0.636 sec)\n",
      "INFO:tensorflow:global_step/sec: 151.086\n",
      "INFO:tensorflow:loss = 69.24884, step = 1300 (0.662 sec)\n",
      "INFO:tensorflow:global_step/sec: 148.495\n",
      "INFO:tensorflow:loss = 77.703094, step = 1400 (0.673 sec)\n",
      "INFO:tensorflow:global_step/sec: 148.242\n",
      "INFO:tensorflow:loss = 79.87484, step = 1500 (0.677 sec)\n",
      "INFO:tensorflow:global_step/sec: 157.699\n",
      "INFO:tensorflow:loss = 58.387177, step = 1600 (0.634 sec)\n",
      "INFO:tensorflow:global_step/sec: 145.81\n",
      "INFO:tensorflow:loss = 54.784397, step = 1700 (0.685 sec)\n",
      "INFO:tensorflow:global_step/sec: 148.791\n",
      "INFO:tensorflow:loss = 65.302574, step = 1800 (0.674 sec)\n",
      "INFO:tensorflow:global_step/sec: 142.514\n",
      "INFO:tensorflow:loss = 68.552, step = 1900 (0.698 sec)\n",
      "INFO:tensorflow:Saving checkpoints for 2000 into /tmp/tmpmb72ckge/model.ckpt.\n",
      "INFO:tensorflow:Loss for final step: 64.65192.\n",
      "INFO:tensorflow:Calling model_fn.\n",
      "INFO:tensorflow:Done calling model_fn.\n",
      "INFO:tensorflow:Starting evaluation at 2018-05-18-08:54:18\n",
      "INFO:tensorflow:Graph was finalized.\n",
      "INFO:tensorflow:Restoring parameters from /tmp/tmpmb72ckge/model.ckpt-2000\n",
      "INFO:tensorflow:Running local_init_op.\n",
      "INFO:tensorflow:Done running local_init_op.\n",
      "INFO:tensorflow:Finished evaluation at 2018-05-18-08:54:18\n",
      "INFO:tensorflow:Saving dict for global step 2000: accuracy = 0.7914068, average_loss = 0.65510833, global_step = 2000, loss = 63.021423\n",
      "INFO:tensorflow:Calling model_fn.\n",
      "INFO:tensorflow:Done calling model_fn.\n",
      "INFO:tensorflow:Graph was finalized.\n",
      "INFO:tensorflow:Restoring parameters from /tmp/tmpmb72ckge/model.ckpt-2000\n",
      "INFO:tensorflow:Running local_init_op.\n",
      "INFO:tensorflow:Done running local_init_op.\n",
      "INFO:tensorflow:Using default config.\n",
      "WARNING:tensorflow:Using temporary folder as model directory: /tmp/tmp8obzhbcu\n",
      "INFO:tensorflow:Using config: {'_model_dir': '/tmp/tmp8obzhbcu', '_tf_random_seed': None, '_save_summary_steps': 100, '_save_checkpoints_steps': None, '_save_checkpoints_secs': 600, '_session_config': None, '_keep_checkpoint_max': 5, '_keep_checkpoint_every_n_hours': 10000, '_log_step_count_steps': 100, '_service': None, '_cluster_spec': <tensorflow.python.training.server_lib.ClusterSpec object at 0x7fdcb6f84a20>, '_task_type': 'worker', '_task_id': 0, '_global_id_in_cluster': 0, '_master': '', '_evaluation_master': '', '_is_chief': True, '_num_ps_replicas': 0, '_num_worker_replicas': 1}\n",
      "INFO:tensorflow:Calling model_fn.\n",
      "INFO:tensorflow:Done calling model_fn.\n",
      "INFO:tensorflow:Create CheckpointSaverHook.\n",
      "INFO:tensorflow:Graph was finalized.\n",
      "INFO:tensorflow:Running local_init_op.\n",
      "INFO:tensorflow:Done running local_init_op.\n",
      "INFO:tensorflow:Saving checkpoints for 1 into /tmp/tmp8obzhbcu/model.ckpt.\n",
      "INFO:tensorflow:loss = 254.60855, step = 0\n",
      "INFO:tensorflow:global_step/sec: 139.204\n",
      "INFO:tensorflow:loss = 162.86794, step = 100 (0.722 sec)\n",
      "INFO:tensorflow:global_step/sec: 149.508\n",
      "INFO:tensorflow:loss = 104.32374, step = 200 (0.671 sec)\n",
      "INFO:tensorflow:global_step/sec: 149.342\n",
      "INFO:tensorflow:loss = 103.0277, step = 300 (0.670 sec)\n",
      "INFO:tensorflow:global_step/sec: 149.543\n",
      "INFO:tensorflow:loss = 100.75032, step = 400 (0.664 sec)\n",
      "INFO:tensorflow:global_step/sec: 159.384\n",
      "INFO:tensorflow:loss = 84.01042, step = 500 (0.632 sec)\n",
      "INFO:tensorflow:global_step/sec: 151.817\n",
      "INFO:tensorflow:loss = 92.90085, step = 600 (0.656 sec)\n",
      "INFO:tensorflow:global_step/sec: 152.483\n",
      "INFO:tensorflow:loss = 90.7034, step = 700 (0.659 sec)\n",
      "INFO:tensorflow:global_step/sec: 149.381\n",
      "INFO:tensorflow:loss = 64.12529, step = 800 (0.669 sec)\n",
      "INFO:tensorflow:global_step/sec: 148.965\n",
      "INFO:tensorflow:loss = 92.74112, step = 900 (0.669 sec)\n",
      "INFO:tensorflow:global_step/sec: 154.853\n",
      "INFO:tensorflow:loss = 75.84713, step = 1000 (0.648 sec)\n",
      "INFO:tensorflow:global_step/sec: 147.755\n",
      "INFO:tensorflow:loss = 88.853546, step = 1100 (0.676 sec)\n",
      "INFO:tensorflow:global_step/sec: 148.052\n",
      "INFO:tensorflow:loss = 94.67939, step = 1200 (0.670 sec)\n",
      "INFO:tensorflow:global_step/sec: 149.512\n",
      "INFO:tensorflow:loss = 54.871136, step = 1300 (0.670 sec)\n",
      "INFO:tensorflow:global_step/sec: 152.009\n",
      "INFO:tensorflow:loss = 61.407333, step = 1400 (0.657 sec)\n",
      "INFO:tensorflow:global_step/sec: 148.374\n",
      "INFO:tensorflow:loss = 73.746994, step = 1500 (0.680 sec)\n",
      "INFO:tensorflow:global_step/sec: 149.338\n",
      "INFO:tensorflow:loss = 68.93182, step = 1600 (0.666 sec)\n",
      "INFO:tensorflow:global_step/sec: 147.961\n",
      "INFO:tensorflow:loss = 59.994823, step = 1700 (0.679 sec)\n",
      "INFO:tensorflow:global_step/sec: 151.657\n",
      "INFO:tensorflow:loss = 54.793278, step = 1800 (0.655 sec)\n",
      "INFO:tensorflow:global_step/sec: 153.969\n",
      "INFO:tensorflow:loss = 67.82719, step = 1900 (0.652 sec)\n",
      "INFO:tensorflow:Saving checkpoints for 2000 into /tmp/tmp8obzhbcu/model.ckpt.\n",
      "INFO:tensorflow:Loss for final step: 71.02076.\n",
      "INFO:tensorflow:Calling model_fn.\n",
      "INFO:tensorflow:Done calling model_fn.\n",
      "INFO:tensorflow:Starting evaluation at 2018-05-18-08:54:35\n",
      "INFO:tensorflow:Graph was finalized.\n",
      "INFO:tensorflow:Restoring parameters from /tmp/tmp8obzhbcu/model.ckpt-2000\n",
      "INFO:tensorflow:Running local_init_op.\n",
      "INFO:tensorflow:Done running local_init_op.\n",
      "INFO:tensorflow:Finished evaluation at 2018-05-18-08:54:35\n",
      "INFO:tensorflow:Saving dict for global step 2000: accuracy = 0.7465258, average_loss = 0.70865905, global_step = 2000, loss = 70.82654\n",
      "INFO:tensorflow:Calling model_fn.\n",
      "INFO:tensorflow:Done calling model_fn.\n",
      "INFO:tensorflow:Graph was finalized.\n",
      "INFO:tensorflow:Restoring parameters from /tmp/tmp8obzhbcu/model.ckpt-2000\n",
      "INFO:tensorflow:Running local_init_op.\n",
      "INFO:tensorflow:Done running local_init_op.\n",
      "INFO:tensorflow:Using default config.\n",
      "WARNING:tensorflow:Using temporary folder as model directory: /tmp/tmp7sn3o0p3\n",
      "INFO:tensorflow:Using config: {'_model_dir': '/tmp/tmp7sn3o0p3', '_tf_random_seed': None, '_save_summary_steps': 100, '_save_checkpoints_steps': None, '_save_checkpoints_secs': 600, '_session_config': None, '_keep_checkpoint_max': 5, '_keep_checkpoint_every_n_hours': 10000, '_log_step_count_steps': 100, '_service': None, '_cluster_spec': <tensorflow.python.training.server_lib.ClusterSpec object at 0x7fdcb6eb57b8>, '_task_type': 'worker', '_task_id': 0, '_global_id_in_cluster': 0, '_master': '', '_evaluation_master': '', '_is_chief': True, '_num_ps_replicas': 0, '_num_worker_replicas': 1}\n",
      "INFO:tensorflow:Calling model_fn.\n",
      "INFO:tensorflow:Done calling model_fn.\n",
      "INFO:tensorflow:Create CheckpointSaverHook.\n",
      "INFO:tensorflow:Graph was finalized.\n",
      "INFO:tensorflow:Running local_init_op.\n",
      "INFO:tensorflow:Done running local_init_op.\n",
      "INFO:tensorflow:Saving checkpoints for 1 into /tmp/tmp7sn3o0p3/model.ckpt.\n",
      "INFO:tensorflow:loss = 266.0811, step = 0\n",
      "INFO:tensorflow:Saving checkpoints for 100 into /tmp/tmp7sn3o0p3/model.ckpt.\n",
      "INFO:tensorflow:Loss for final step: 104.349144.\n",
      "INFO:tensorflow:Calling model_fn.\n",
      "INFO:tensorflow:Done calling model_fn.\n",
      "INFO:tensorflow:Starting evaluation at 2018-05-18-08:54:39\n",
      "INFO:tensorflow:Graph was finalized.\n",
      "INFO:tensorflow:Restoring parameters from /tmp/tmp7sn3o0p3/model.ckpt-100\n",
      "INFO:tensorflow:Running local_init_op.\n",
      "INFO:tensorflow:Done running local_init_op.\n",
      "INFO:tensorflow:Finished evaluation at 2018-05-18-08:54:39\n",
      "INFO:tensorflow:Saving dict for global step 100: accuracy = 0.71794873, average_loss = 0.98466057, global_step = 100, loss = 94.72435\n",
      "INFO:tensorflow:Calling model_fn.\n",
      "INFO:tensorflow:Done calling model_fn.\n",
      "INFO:tensorflow:Graph was finalized.\n",
      "INFO:tensorflow:Restoring parameters from /tmp/tmp7sn3o0p3/model.ckpt-100\n",
      "INFO:tensorflow:Running local_init_op.\n",
      "INFO:tensorflow:Done running local_init_op.\n",
      "INFO:tensorflow:Using default config.\n",
      "WARNING:tensorflow:Using temporary folder as model directory: /tmp/tmpxxp_xdqk\n",
      "INFO:tensorflow:Using config: {'_model_dir': '/tmp/tmpxxp_xdqk', '_tf_random_seed': None, '_save_summary_steps': 100, '_save_checkpoints_steps': None, '_save_checkpoints_secs': 600, '_session_config': None, '_keep_checkpoint_max': 5, '_keep_checkpoint_every_n_hours': 10000, '_log_step_count_steps': 100, '_service': None, '_cluster_spec': <tensorflow.python.training.server_lib.ClusterSpec object at 0x7fdcb713e860>, '_task_type': 'worker', '_task_id': 0, '_global_id_in_cluster': 0, '_master': '', '_evaluation_master': '', '_is_chief': True, '_num_ps_replicas': 0, '_num_worker_replicas': 1}\n",
      "INFO:tensorflow:Calling model_fn.\n",
      "INFO:tensorflow:Done calling model_fn.\n",
      "INFO:tensorflow:Create CheckpointSaverHook.\n",
      "INFO:tensorflow:Graph was finalized.\n",
      "INFO:tensorflow:Running local_init_op.\n",
      "INFO:tensorflow:Done running local_init_op.\n",
      "INFO:tensorflow:Saving checkpoints for 1 into /tmp/tmpxxp_xdqk/model.ckpt.\n",
      "INFO:tensorflow:loss = 254.33563, step = 0\n",
      "INFO:tensorflow:Saving checkpoints for 100 into /tmp/tmpxxp_xdqk/model.ckpt.\n",
      "INFO:tensorflow:Loss for final step: 87.0053.\n",
      "INFO:tensorflow:Calling model_fn.\n",
      "INFO:tensorflow:Done calling model_fn.\n",
      "INFO:tensorflow:Starting evaluation at 2018-05-18-08:54:43\n",
      "INFO:tensorflow:Graph was finalized.\n",
      "INFO:tensorflow:Restoring parameters from /tmp/tmpxxp_xdqk/model.ckpt-100\n",
      "INFO:tensorflow:Running local_init_op.\n",
      "INFO:tensorflow:Done running local_init_op.\n",
      "INFO:tensorflow:Finished evaluation at 2018-05-18-08:54:44\n",
      "INFO:tensorflow:Saving dict for global step 100: accuracy = 0.7176209, average_loss = 0.95843816, global_step = 100, loss = 95.790565\n",
      "INFO:tensorflow:Calling model_fn.\n",
      "INFO:tensorflow:Done calling model_fn.\n",
      "INFO:tensorflow:Graph was finalized.\n",
      "INFO:tensorflow:Restoring parameters from /tmp/tmpxxp_xdqk/model.ckpt-100\n",
      "INFO:tensorflow:Running local_init_op.\n",
      "INFO:tensorflow:Done running local_init_op.\n",
      "INFO:tensorflow:Using default config.\n",
      "WARNING:tensorflow:Using temporary folder as model directory: /tmp/tmpn6u3ofsf\n",
      "INFO:tensorflow:Using config: {'_model_dir': '/tmp/tmpn6u3ofsf', '_tf_random_seed': None, '_save_summary_steps': 100, '_save_checkpoints_steps': None, '_save_checkpoints_secs': 600, '_session_config': None, '_keep_checkpoint_max': 5, '_keep_checkpoint_every_n_hours': 10000, '_log_step_count_steps': 100, '_service': None, '_cluster_spec': <tensorflow.python.training.server_lib.ClusterSpec object at 0x7fdcb6e6c898>, '_task_type': 'worker', '_task_id': 0, '_global_id_in_cluster': 0, '_master': '', '_evaluation_master': '', '_is_chief': True, '_num_ps_replicas': 0, '_num_worker_replicas': 1}\n",
      "INFO:tensorflow:Calling model_fn.\n",
      "INFO:tensorflow:Done calling model_fn.\n",
      "INFO:tensorflow:Create CheckpointSaverHook.\n",
      "INFO:tensorflow:Graph was finalized.\n",
      "INFO:tensorflow:Running local_init_op.\n"
     ]
    },
    {
     "name": "stdout",
     "output_type": "stream",
     "text": [
      "INFO:tensorflow:Done running local_init_op.\n",
      "INFO:tensorflow:Saving checkpoints for 1 into /tmp/tmpn6u3ofsf/model.ckpt.\n",
      "INFO:tensorflow:loss = 242.74936, step = 0\n",
      "INFO:tensorflow:global_step/sec: 140.894\n",
      "INFO:tensorflow:loss = 101.95539, step = 100 (0.723 sec)\n",
      "INFO:tensorflow:Saving checkpoints for 200 into /tmp/tmpn6u3ofsf/model.ckpt.\n",
      "INFO:tensorflow:Loss for final step: 82.31974.\n",
      "INFO:tensorflow:Calling model_fn.\n",
      "INFO:tensorflow:Done calling model_fn.\n",
      "INFO:tensorflow:Starting evaluation at 2018-05-18-08:54:48\n",
      "INFO:tensorflow:Graph was finalized.\n",
      "INFO:tensorflow:Restoring parameters from /tmp/tmpn6u3ofsf/model.ckpt-200\n",
      "INFO:tensorflow:Running local_init_op.\n",
      "INFO:tensorflow:Done running local_init_op.\n",
      "INFO:tensorflow:Finished evaluation at 2018-05-18-08:54:48\n",
      "INFO:tensorflow:Saving dict for global step 200: accuracy = 0.74289674, average_loss = 0.76096195, global_step = 200, loss = 73.204544\n",
      "INFO:tensorflow:Calling model_fn.\n",
      "INFO:tensorflow:Done calling model_fn.\n",
      "INFO:tensorflow:Graph was finalized.\n",
      "INFO:tensorflow:Restoring parameters from /tmp/tmpn6u3ofsf/model.ckpt-200\n",
      "INFO:tensorflow:Running local_init_op.\n",
      "INFO:tensorflow:Done running local_init_op.\n",
      "INFO:tensorflow:Using default config.\n",
      "WARNING:tensorflow:Using temporary folder as model directory: /tmp/tmpmos_7yf4\n",
      "INFO:tensorflow:Using config: {'_model_dir': '/tmp/tmpmos_7yf4', '_tf_random_seed': None, '_save_summary_steps': 100, '_save_checkpoints_steps': None, '_save_checkpoints_secs': 600, '_session_config': None, '_keep_checkpoint_max': 5, '_keep_checkpoint_every_n_hours': 10000, '_log_step_count_steps': 100, '_service': None, '_cluster_spec': <tensorflow.python.training.server_lib.ClusterSpec object at 0x7fdcbf4b22b0>, '_task_type': 'worker', '_task_id': 0, '_global_id_in_cluster': 0, '_master': '', '_evaluation_master': '', '_is_chief': True, '_num_ps_replicas': 0, '_num_worker_replicas': 1}\n",
      "INFO:tensorflow:Calling model_fn.\n",
      "INFO:tensorflow:Done calling model_fn.\n",
      "INFO:tensorflow:Create CheckpointSaverHook.\n",
      "INFO:tensorflow:Graph was finalized.\n",
      "INFO:tensorflow:Running local_init_op.\n",
      "INFO:tensorflow:Done running local_init_op.\n",
      "INFO:tensorflow:Saving checkpoints for 1 into /tmp/tmpmos_7yf4/model.ckpt.\n",
      "INFO:tensorflow:loss = 231.73581, step = 0\n",
      "INFO:tensorflow:global_step/sec: 131.947\n",
      "INFO:tensorflow:loss = 97.22778, step = 100 (0.762 sec)\n",
      "INFO:tensorflow:Saving checkpoints for 200 into /tmp/tmpmos_7yf4/model.ckpt.\n",
      "INFO:tensorflow:Loss for final step: 61.345406.\n",
      "INFO:tensorflow:Calling model_fn.\n",
      "INFO:tensorflow:Done calling model_fn.\n",
      "INFO:tensorflow:Starting evaluation at 2018-05-18-08:54:53\n",
      "INFO:tensorflow:Graph was finalized.\n",
      "INFO:tensorflow:Restoring parameters from /tmp/tmpmos_7yf4/model.ckpt-200\n",
      "INFO:tensorflow:Running local_init_op.\n",
      "INFO:tensorflow:Done running local_init_op.\n",
      "INFO:tensorflow:Finished evaluation at 2018-05-18-08:54:53\n",
      "INFO:tensorflow:Saving dict for global step 200: accuracy = 0.7554197, average_loss = 0.74569535, global_step = 200, loss = 74.52811\n",
      "INFO:tensorflow:Calling model_fn.\n",
      "INFO:tensorflow:Done calling model_fn.\n",
      "INFO:tensorflow:Graph was finalized.\n",
      "INFO:tensorflow:Restoring parameters from /tmp/tmpmos_7yf4/model.ckpt-200\n",
      "INFO:tensorflow:Running local_init_op.\n",
      "INFO:tensorflow:Done running local_init_op.\n",
      "INFO:tensorflow:Using default config.\n",
      "WARNING:tensorflow:Using temporary folder as model directory: /tmp/tmp06naie3z\n",
      "INFO:tensorflow:Using config: {'_model_dir': '/tmp/tmp06naie3z', '_tf_random_seed': None, '_save_summary_steps': 100, '_save_checkpoints_steps': None, '_save_checkpoints_secs': 600, '_session_config': None, '_keep_checkpoint_max': 5, '_keep_checkpoint_every_n_hours': 10000, '_log_step_count_steps': 100, '_service': None, '_cluster_spec': <tensorflow.python.training.server_lib.ClusterSpec object at 0x7fdcb6eb3cc0>, '_task_type': 'worker', '_task_id': 0, '_global_id_in_cluster': 0, '_master': '', '_evaluation_master': '', '_is_chief': True, '_num_ps_replicas': 0, '_num_worker_replicas': 1}\n",
      "INFO:tensorflow:Calling model_fn.\n",
      "INFO:tensorflow:Done calling model_fn.\n",
      "INFO:tensorflow:Create CheckpointSaverHook.\n",
      "INFO:tensorflow:Graph was finalized.\n",
      "INFO:tensorflow:Running local_init_op.\n",
      "INFO:tensorflow:Done running local_init_op.\n",
      "INFO:tensorflow:Saving checkpoints for 1 into /tmp/tmp06naie3z/model.ckpt.\n",
      "INFO:tensorflow:loss = 222.9789, step = 0\n",
      "INFO:tensorflow:global_step/sec: 137.108\n",
      "INFO:tensorflow:loss = 111.46161, step = 100 (0.736 sec)\n",
      "INFO:tensorflow:global_step/sec: 141.7\n",
      "INFO:tensorflow:loss = 96.513535, step = 200 (0.705 sec)\n",
      "INFO:tensorflow:global_step/sec: 144.836\n",
      "INFO:tensorflow:loss = 55.58711, step = 300 (0.691 sec)\n",
      "INFO:tensorflow:global_step/sec: 151.13\n",
      "INFO:tensorflow:loss = 48.65808, step = 400 (0.657 sec)\n",
      "INFO:tensorflow:Saving checkpoints for 500 into /tmp/tmp06naie3z/model.ckpt.\n",
      "INFO:tensorflow:Loss for final step: 42.232834.\n",
      "INFO:tensorflow:Calling model_fn.\n",
      "INFO:tensorflow:Done calling model_fn.\n",
      "INFO:tensorflow:Starting evaluation at 2018-05-18-08:55:00\n",
      "INFO:tensorflow:Graph was finalized.\n",
      "INFO:tensorflow:Restoring parameters from /tmp/tmp06naie3z/model.ckpt-500\n",
      "INFO:tensorflow:Running local_init_op.\n",
      "INFO:tensorflow:Done running local_init_op.\n",
      "INFO:tensorflow:Finished evaluation at 2018-05-18-08:55:00\n",
      "INFO:tensorflow:Saving dict for global step 500: accuracy = 0.8558559, average_loss = 0.44158217, global_step = 500, loss = 42.480206\n",
      "INFO:tensorflow:Calling model_fn.\n",
      "INFO:tensorflow:Done calling model_fn.\n",
      "INFO:tensorflow:Graph was finalized.\n",
      "INFO:tensorflow:Restoring parameters from /tmp/tmp06naie3z/model.ckpt-500\n",
      "INFO:tensorflow:Running local_init_op.\n",
      "INFO:tensorflow:Done running local_init_op.\n",
      "INFO:tensorflow:Using default config.\n",
      "WARNING:tensorflow:Using temporary folder as model directory: /tmp/tmplgp02e4l\n",
      "INFO:tensorflow:Using config: {'_model_dir': '/tmp/tmplgp02e4l', '_tf_random_seed': None, '_save_summary_steps': 100, '_save_checkpoints_steps': None, '_save_checkpoints_secs': 600, '_session_config': None, '_keep_checkpoint_max': 5, '_keep_checkpoint_every_n_hours': 10000, '_log_step_count_steps': 100, '_service': None, '_cluster_spec': <tensorflow.python.training.server_lib.ClusterSpec object at 0x7fdcb6a19828>, '_task_type': 'worker', '_task_id': 0, '_global_id_in_cluster': 0, '_master': '', '_evaluation_master': '', '_is_chief': True, '_num_ps_replicas': 0, '_num_worker_replicas': 1}\n",
      "INFO:tensorflow:Calling model_fn.\n",
      "INFO:tensorflow:Done calling model_fn.\n",
      "INFO:tensorflow:Create CheckpointSaverHook.\n",
      "INFO:tensorflow:Graph was finalized.\n",
      "INFO:tensorflow:Running local_init_op.\n",
      "INFO:tensorflow:Done running local_init_op.\n",
      "INFO:tensorflow:Saving checkpoints for 1 into /tmp/tmplgp02e4l/model.ckpt.\n",
      "INFO:tensorflow:loss = 284.97305, step = 0\n",
      "INFO:tensorflow:global_step/sec: 137.484\n",
      "INFO:tensorflow:loss = 98.084206, step = 100 (0.733 sec)\n",
      "INFO:tensorflow:global_step/sec: 149.512\n",
      "INFO:tensorflow:loss = 86.15177, step = 200 (0.669 sec)\n",
      "INFO:tensorflow:global_step/sec: 146.497\n",
      "INFO:tensorflow:loss = 50.669327, step = 300 (0.682 sec)\n",
      "INFO:tensorflow:global_step/sec: 152.114\n",
      "INFO:tensorflow:loss = 55.357056, step = 400 (0.658 sec)\n",
      "INFO:tensorflow:Saving checkpoints for 500 into /tmp/tmplgp02e4l/model.ckpt.\n",
      "INFO:tensorflow:Loss for final step: 38.612946.\n",
      "INFO:tensorflow:Calling model_fn.\n",
      "INFO:tensorflow:Done calling model_fn.\n",
      "INFO:tensorflow:Starting evaluation at 2018-05-18-08:55:07\n",
      "INFO:tensorflow:Graph was finalized.\n",
      "INFO:tensorflow:Restoring parameters from /tmp/tmplgp02e4l/model.ckpt-500\n",
      "INFO:tensorflow:Running local_init_op.\n",
      "INFO:tensorflow:Done running local_init_op.\n",
      "INFO:tensorflow:Finished evaluation at 2018-05-18-08:55:07\n",
      "INFO:tensorflow:Saving dict for global step 500: accuracy = 0.8579767, average_loss = 0.4507513, global_step = 500, loss = 45.05009\n",
      "INFO:tensorflow:Calling model_fn.\n",
      "INFO:tensorflow:Done calling model_fn.\n",
      "INFO:tensorflow:Graph was finalized.\n",
      "INFO:tensorflow:Restoring parameters from /tmp/tmplgp02e4l/model.ckpt-500\n",
      "INFO:tensorflow:Running local_init_op.\n",
      "INFO:tensorflow:Done running local_init_op.\n",
      "INFO:tensorflow:Using default config.\n",
      "WARNING:tensorflow:Using temporary folder as model directory: /tmp/tmpxtqg9g6y\n",
      "INFO:tensorflow:Using config: {'_model_dir': '/tmp/tmpxtqg9g6y', '_tf_random_seed': None, '_save_summary_steps': 100, '_save_checkpoints_steps': None, '_save_checkpoints_secs': 600, '_session_config': None, '_keep_checkpoint_max': 5, '_keep_checkpoint_every_n_hours': 10000, '_log_step_count_steps': 100, '_service': None, '_cluster_spec': <tensorflow.python.training.server_lib.ClusterSpec object at 0x7fdcd6402668>, '_task_type': 'worker', '_task_id': 0, '_global_id_in_cluster': 0, '_master': '', '_evaluation_master': '', '_is_chief': True, '_num_ps_replicas': 0, '_num_worker_replicas': 1}\n",
      "INFO:tensorflow:Calling model_fn.\n",
      "INFO:tensorflow:Done calling model_fn.\n",
      "INFO:tensorflow:Create CheckpointSaverHook.\n",
      "INFO:tensorflow:Graph was finalized.\n",
      "INFO:tensorflow:Running local_init_op.\n",
      "INFO:tensorflow:Done running local_init_op.\n",
      "INFO:tensorflow:Saving checkpoints for 1 into /tmp/tmpxtqg9g6y/model.ckpt.\n",
      "INFO:tensorflow:loss = 204.4087, step = 0\n",
      "INFO:tensorflow:global_step/sec: 130.524\n",
      "INFO:tensorflow:loss = 101.81431, step = 100 (0.771 sec)\n",
      "INFO:tensorflow:global_step/sec: 147.82\n",
      "INFO:tensorflow:loss = 75.70295, step = 200 (0.677 sec)\n",
      "INFO:tensorflow:global_step/sec: 144.726\n",
      "INFO:tensorflow:loss = 47.427654, step = 300 (0.693 sec)\n",
      "INFO:tensorflow:global_step/sec: 162.184\n",
      "INFO:tensorflow:loss = 39.46424, step = 400 (0.617 sec)\n",
      "INFO:tensorflow:global_step/sec: 144.024\n",
      "INFO:tensorflow:loss = 27.78702, step = 500 (0.689 sec)\n",
      "INFO:tensorflow:global_step/sec: 139.887\n",
      "INFO:tensorflow:loss = 36.50155, step = 600 (0.723 sec)\n",
      "INFO:tensorflow:global_step/sec: 139.981\n",
      "INFO:tensorflow:loss = 26.917606, step = 700 (0.709 sec)\n",
      "INFO:tensorflow:global_step/sec: 151.775\n",
      "INFO:tensorflow:loss = 24.552187, step = 800 (0.658 sec)\n",
      "INFO:tensorflow:global_step/sec: 149.809\n",
      "INFO:tensorflow:loss = 21.503273, step = 900 (0.668 sec)\n",
      "INFO:tensorflow:Saving checkpoints for 1000 into /tmp/tmpxtqg9g6y/model.ckpt.\n",
      "INFO:tensorflow:Loss for final step: 29.875847.\n",
      "INFO:tensorflow:Calling model_fn.\n",
      "INFO:tensorflow:Done calling model_fn.\n",
      "INFO:tensorflow:Starting evaluation at 2018-05-18-08:55:17\n",
      "INFO:tensorflow:Graph was finalized.\n",
      "INFO:tensorflow:Restoring parameters from /tmp/tmpxtqg9g6y/model.ckpt-1000\n",
      "INFO:tensorflow:Running local_init_op.\n",
      "INFO:tensorflow:Done running local_init_op.\n",
      "INFO:tensorflow:Finished evaluation at 2018-05-18-08:55:17\n",
      "INFO:tensorflow:Saving dict for global step 1000: accuracy = 0.93208593, average_loss = 0.25587067, global_step = 1000, loss = 24.614758\n",
      "INFO:tensorflow:Calling model_fn.\n",
      "INFO:tensorflow:Done calling model_fn.\n",
      "INFO:tensorflow:Graph was finalized.\n"
     ]
    },
    {
     "name": "stdout",
     "output_type": "stream",
     "text": [
      "INFO:tensorflow:Restoring parameters from /tmp/tmpxtqg9g6y/model.ckpt-1000\n",
      "INFO:tensorflow:Running local_init_op.\n",
      "INFO:tensorflow:Done running local_init_op.\n",
      "INFO:tensorflow:Using default config.\n",
      "WARNING:tensorflow:Using temporary folder as model directory: /tmp/tmpymy9ja63\n",
      "INFO:tensorflow:Using config: {'_model_dir': '/tmp/tmpymy9ja63', '_tf_random_seed': None, '_save_summary_steps': 100, '_save_checkpoints_steps': None, '_save_checkpoints_secs': 600, '_session_config': None, '_keep_checkpoint_max': 5, '_keep_checkpoint_every_n_hours': 10000, '_log_step_count_steps': 100, '_service': None, '_cluster_spec': <tensorflow.python.training.server_lib.ClusterSpec object at 0x7fdcbebabc18>, '_task_type': 'worker', '_task_id': 0, '_global_id_in_cluster': 0, '_master': '', '_evaluation_master': '', '_is_chief': True, '_num_ps_replicas': 0, '_num_worker_replicas': 1}\n",
      "INFO:tensorflow:Calling model_fn.\n",
      "INFO:tensorflow:Done calling model_fn.\n",
      "INFO:tensorflow:Create CheckpointSaverHook.\n",
      "INFO:tensorflow:Graph was finalized.\n",
      "INFO:tensorflow:Running local_init_op.\n",
      "INFO:tensorflow:Done running local_init_op.\n",
      "INFO:tensorflow:Saving checkpoints for 1 into /tmp/tmpymy9ja63/model.ckpt.\n",
      "INFO:tensorflow:loss = 275.51624, step = 0\n",
      "INFO:tensorflow:global_step/sec: 140.174\n",
      "INFO:tensorflow:loss = 101.500114, step = 100 (0.716 sec)\n",
      "INFO:tensorflow:global_step/sec: 146.467\n",
      "INFO:tensorflow:loss = 73.99419, step = 200 (0.686 sec)\n",
      "INFO:tensorflow:global_step/sec: 149.273\n",
      "INFO:tensorflow:loss = 71.37882, step = 300 (0.670 sec)\n",
      "INFO:tensorflow:global_step/sec: 151.149\n",
      "INFO:tensorflow:loss = 67.79901, step = 400 (0.661 sec)\n",
      "INFO:tensorflow:global_step/sec: 152.921\n",
      "INFO:tensorflow:loss = 24.68889, step = 500 (0.657 sec)\n",
      "INFO:tensorflow:global_step/sec: 148.801\n",
      "INFO:tensorflow:loss = 24.807121, step = 600 (0.671 sec)\n",
      "INFO:tensorflow:global_step/sec: 143.608\n",
      "INFO:tensorflow:loss = 31.119682, step = 700 (0.694 sec)\n",
      "INFO:tensorflow:global_step/sec: 148.817\n",
      "INFO:tensorflow:loss = 24.373857, step = 800 (0.671 sec)\n",
      "INFO:tensorflow:global_step/sec: 153.98\n",
      "INFO:tensorflow:loss = 26.611544, step = 900 (0.650 sec)\n",
      "INFO:tensorflow:Saving checkpoints for 1000 into /tmp/tmpymy9ja63/model.ckpt.\n",
      "INFO:tensorflow:Loss for final step: 21.647585.\n",
      "INFO:tensorflow:Calling model_fn.\n",
      "INFO:tensorflow:Done calling model_fn.\n",
      "INFO:tensorflow:Starting evaluation at 2018-05-18-08:55:27\n",
      "INFO:tensorflow:Graph was finalized.\n",
      "INFO:tensorflow:Restoring parameters from /tmp/tmpymy9ja63/model.ckpt-1000\n",
      "INFO:tensorflow:Running local_init_op.\n",
      "INFO:tensorflow:Done running local_init_op.\n",
      "INFO:tensorflow:Finished evaluation at 2018-05-18-08:55:28\n",
      "INFO:tensorflow:Saving dict for global step 1000: accuracy = 0.9294052, average_loss = 0.24564494, global_step = 1000, loss = 24.550848\n",
      "INFO:tensorflow:Calling model_fn.\n",
      "INFO:tensorflow:Done calling model_fn.\n",
      "INFO:tensorflow:Graph was finalized.\n",
      "INFO:tensorflow:Restoring parameters from /tmp/tmpymy9ja63/model.ckpt-1000\n",
      "INFO:tensorflow:Running local_init_op.\n",
      "INFO:tensorflow:Done running local_init_op.\n",
      "INFO:tensorflow:Using default config.\n",
      "WARNING:tensorflow:Using temporary folder as model directory: /tmp/tmpen_ty36f\n",
      "INFO:tensorflow:Using config: {'_model_dir': '/tmp/tmpen_ty36f', '_tf_random_seed': None, '_save_summary_steps': 100, '_save_checkpoints_steps': None, '_save_checkpoints_secs': 600, '_session_config': None, '_keep_checkpoint_max': 5, '_keep_checkpoint_every_n_hours': 10000, '_log_step_count_steps': 100, '_service': None, '_cluster_spec': <tensorflow.python.training.server_lib.ClusterSpec object at 0x7fdcdaf76080>, '_task_type': 'worker', '_task_id': 0, '_global_id_in_cluster': 0, '_master': '', '_evaluation_master': '', '_is_chief': True, '_num_ps_replicas': 0, '_num_worker_replicas': 1}\n",
      "INFO:tensorflow:Calling model_fn.\n",
      "INFO:tensorflow:Done calling model_fn.\n",
      "INFO:tensorflow:Create CheckpointSaverHook.\n",
      "INFO:tensorflow:Graph was finalized.\n",
      "INFO:tensorflow:Running local_init_op.\n",
      "INFO:tensorflow:Done running local_init_op.\n",
      "INFO:tensorflow:Saving checkpoints for 1 into /tmp/tmpen_ty36f/model.ckpt.\n",
      "INFO:tensorflow:loss = 236.88953, step = 0\n",
      "INFO:tensorflow:global_step/sec: 135.849\n",
      "INFO:tensorflow:loss = 109.64808, step = 100 (0.744 sec)\n",
      "INFO:tensorflow:global_step/sec: 144.882\n",
      "INFO:tensorflow:loss = 56.624252, step = 200 (0.689 sec)\n",
      "INFO:tensorflow:global_step/sec: 148.857\n",
      "INFO:tensorflow:loss = 64.37292, step = 300 (0.673 sec)\n",
      "INFO:tensorflow:global_step/sec: 156.109\n",
      "INFO:tensorflow:loss = 64.62848, step = 400 (0.637 sec)\n",
      "INFO:tensorflow:global_step/sec: 148.339\n",
      "INFO:tensorflow:loss = 33.90766, step = 500 (0.671 sec)\n",
      "INFO:tensorflow:global_step/sec: 144.252\n",
      "INFO:tensorflow:loss = 43.078197, step = 600 (0.693 sec)\n",
      "INFO:tensorflow:global_step/sec: 150.667\n",
      "INFO:tensorflow:loss = 33.274345, step = 700 (0.666 sec)\n",
      "INFO:tensorflow:global_step/sec: 160.619\n",
      "INFO:tensorflow:loss = 36.74913, step = 800 (0.620 sec)\n",
      "INFO:tensorflow:global_step/sec: 148.092\n",
      "INFO:tensorflow:loss = 15.782664, step = 900 (0.675 sec)\n",
      "INFO:tensorflow:global_step/sec: 148.882\n",
      "INFO:tensorflow:loss = 21.31789, step = 1000 (0.672 sec)\n",
      "INFO:tensorflow:global_step/sec: 147.781\n",
      "INFO:tensorflow:loss = 17.49668, step = 1100 (0.684 sec)\n",
      "INFO:tensorflow:global_step/sec: 160.454\n",
      "INFO:tensorflow:loss = 17.51324, step = 1200 (0.621 sec)\n",
      "INFO:tensorflow:global_step/sec: 144.178\n",
      "INFO:tensorflow:loss = 17.821182, step = 1300 (0.692 sec)\n",
      "INFO:tensorflow:global_step/sec: 146.596\n",
      "INFO:tensorflow:loss = 32.120575, step = 1400 (0.685 sec)\n",
      "INFO:tensorflow:Saving checkpoints for 1500 into /tmp/tmpen_ty36f/model.ckpt.\n",
      "INFO:tensorflow:Loss for final step: 24.98861.\n",
      "INFO:tensorflow:Calling model_fn.\n",
      "INFO:tensorflow:Done calling model_fn.\n",
      "INFO:tensorflow:Starting evaluation at 2018-05-18-08:55:41\n",
      "INFO:tensorflow:Graph was finalized.\n",
      "INFO:tensorflow:Restoring parameters from /tmp/tmpen_ty36f/model.ckpt-1500\n",
      "INFO:tensorflow:Running local_init_op.\n",
      "INFO:tensorflow:Done running local_init_op.\n",
      "INFO:tensorflow:Finished evaluation at 2018-05-18-08:55:41\n",
      "INFO:tensorflow:Saving dict for global step 1500: accuracy = 0.9369369, average_loss = 0.24256484, global_step = 1500, loss = 23.334738\n",
      "INFO:tensorflow:Calling model_fn.\n",
      "INFO:tensorflow:Done calling model_fn.\n",
      "INFO:tensorflow:Graph was finalized.\n",
      "INFO:tensorflow:Restoring parameters from /tmp/tmpen_ty36f/model.ckpt-1500\n",
      "INFO:tensorflow:Running local_init_op.\n",
      "INFO:tensorflow:Done running local_init_op.\n",
      "INFO:tensorflow:Using default config.\n",
      "WARNING:tensorflow:Using temporary folder as model directory: /tmp/tmp8dze288l\n",
      "INFO:tensorflow:Using config: {'_model_dir': '/tmp/tmp8dze288l', '_tf_random_seed': None, '_save_summary_steps': 100, '_save_checkpoints_steps': None, '_save_checkpoints_secs': 600, '_session_config': None, '_keep_checkpoint_max': 5, '_keep_checkpoint_every_n_hours': 10000, '_log_step_count_steps': 100, '_service': None, '_cluster_spec': <tensorflow.python.training.server_lib.ClusterSpec object at 0x7fdcd6b372e8>, '_task_type': 'worker', '_task_id': 0, '_global_id_in_cluster': 0, '_master': '', '_evaluation_master': '', '_is_chief': True, '_num_ps_replicas': 0, '_num_worker_replicas': 1}\n",
      "INFO:tensorflow:Calling model_fn.\n",
      "INFO:tensorflow:Done calling model_fn.\n",
      "INFO:tensorflow:Create CheckpointSaverHook.\n",
      "INFO:tensorflow:Graph was finalized.\n",
      "INFO:tensorflow:Running local_init_op.\n",
      "INFO:tensorflow:Done running local_init_op.\n",
      "INFO:tensorflow:Saving checkpoints for 1 into /tmp/tmp8dze288l/model.ckpt.\n",
      "INFO:tensorflow:loss = 202.29965, step = 0\n",
      "INFO:tensorflow:global_step/sec: 141.613\n",
      "INFO:tensorflow:loss = 104.553535, step = 100 (0.713 sec)\n",
      "INFO:tensorflow:global_step/sec: 145.963\n",
      "INFO:tensorflow:loss = 69.50862, step = 200 (0.685 sec)\n",
      "INFO:tensorflow:global_step/sec: 145.354\n",
      "INFO:tensorflow:loss = 42.024853, step = 300 (0.690 sec)\n",
      "INFO:tensorflow:global_step/sec: 148.606\n",
      "INFO:tensorflow:loss = 35.25511, step = 400 (0.667 sec)\n",
      "INFO:tensorflow:global_step/sec: 156.544\n",
      "INFO:tensorflow:loss = 37.616013, step = 500 (0.641 sec)\n",
      "INFO:tensorflow:global_step/sec: 142.635\n",
      "INFO:tensorflow:loss = 38.185177, step = 600 (0.703 sec)\n",
      "INFO:tensorflow:global_step/sec: 146.604\n",
      "INFO:tensorflow:loss = 30.730848, step = 700 (0.686 sec)\n",
      "INFO:tensorflow:global_step/sec: 148.023\n",
      "INFO:tensorflow:loss = 18.858109, step = 800 (0.671 sec)\n",
      "INFO:tensorflow:global_step/sec: 149.182\n",
      "INFO:tensorflow:loss = 22.610836, step = 900 (0.673 sec)\n",
      "INFO:tensorflow:global_step/sec: 156.639\n",
      "INFO:tensorflow:loss = 15.605775, step = 1000 (0.638 sec)\n",
      "INFO:tensorflow:global_step/sec: 151.495\n",
      "INFO:tensorflow:loss = 13.840283, step = 1100 (0.655 sec)\n",
      "INFO:tensorflow:global_step/sec: 151.184\n",
      "INFO:tensorflow:loss = 17.329676, step = 1200 (0.661 sec)\n",
      "INFO:tensorflow:global_step/sec: 151.244\n",
      "INFO:tensorflow:loss = 16.001799, step = 1300 (0.668 sec)\n",
      "INFO:tensorflow:global_step/sec: 156.098\n",
      "INFO:tensorflow:loss = 19.419737, step = 1400 (0.634 sec)\n",
      "INFO:tensorflow:Saving checkpoints for 1500 into /tmp/tmp8dze288l/model.ckpt.\n",
      "INFO:tensorflow:Loss for final step: 8.800979.\n",
      "INFO:tensorflow:Calling model_fn.\n",
      "INFO:tensorflow:Done calling model_fn.\n",
      "INFO:tensorflow:Starting evaluation at 2018-05-18-08:55:54\n",
      "INFO:tensorflow:Graph was finalized.\n",
      "INFO:tensorflow:Restoring parameters from /tmp/tmp8dze288l/model.ckpt-1500\n",
      "INFO:tensorflow:Running local_init_op.\n",
      "INFO:tensorflow:Done running local_init_op.\n",
      "INFO:tensorflow:Finished evaluation at 2018-05-18-08:55:55\n",
      "INFO:tensorflow:Saving dict for global step 1500: accuracy = 0.9408004, average_loss = 0.20694782, global_step = 1500, loss = 20.683285\n",
      "INFO:tensorflow:Calling model_fn.\n",
      "INFO:tensorflow:Done calling model_fn.\n",
      "INFO:tensorflow:Graph was finalized.\n",
      "INFO:tensorflow:Restoring parameters from /tmp/tmp8dze288l/model.ckpt-1500\n",
      "INFO:tensorflow:Running local_init_op.\n",
      "INFO:tensorflow:Done running local_init_op.\n",
      "INFO:tensorflow:Using default config.\n",
      "WARNING:tensorflow:Using temporary folder as model directory: /tmp/tmpem8e13_4\n",
      "INFO:tensorflow:Using config: {'_model_dir': '/tmp/tmpem8e13_4', '_tf_random_seed': None, '_save_summary_steps': 100, '_save_checkpoints_steps': None, '_save_checkpoints_secs': 600, '_session_config': None, '_keep_checkpoint_max': 5, '_keep_checkpoint_every_n_hours': 10000, '_log_step_count_steps': 100, '_service': None, '_cluster_spec': <tensorflow.python.training.server_lib.ClusterSpec object at 0x7fdcb3e2bda0>, '_task_type': 'worker', '_task_id': 0, '_global_id_in_cluster': 0, '_master': '', '_evaluation_master': '', '_is_chief': True, '_num_ps_replicas': 0, '_num_worker_replicas': 1}\n",
      "INFO:tensorflow:Calling model_fn.\n",
      "INFO:tensorflow:Done calling model_fn.\n",
      "INFO:tensorflow:Create CheckpointSaverHook.\n",
      "INFO:tensorflow:Graph was finalized.\n",
      "INFO:tensorflow:Running local_init_op.\n",
      "INFO:tensorflow:Done running local_init_op.\n",
      "INFO:tensorflow:Saving checkpoints for 1 into /tmp/tmpem8e13_4/model.ckpt.\n",
      "INFO:tensorflow:loss = 250.3058, step = 0\n",
      "INFO:tensorflow:global_step/sec: 137.787\n",
      "INFO:tensorflow:loss = 92.82396, step = 100 (0.728 sec)\n",
      "INFO:tensorflow:global_step/sec: 149.415\n"
     ]
    },
    {
     "name": "stdout",
     "output_type": "stream",
     "text": [
      "INFO:tensorflow:loss = 63.384754, step = 200 (0.672 sec)\n",
      "INFO:tensorflow:global_step/sec: 143.024\n",
      "INFO:tensorflow:loss = 76.774216, step = 300 (0.700 sec)\n",
      "INFO:tensorflow:global_step/sec: 156.311\n",
      "INFO:tensorflow:loss = 43.914246, step = 400 (0.637 sec)\n",
      "INFO:tensorflow:global_step/sec: 143.062\n",
      "INFO:tensorflow:loss = 41.54033, step = 500 (0.704 sec)\n",
      "INFO:tensorflow:global_step/sec: 147.931\n",
      "INFO:tensorflow:loss = 45.477043, step = 600 (0.673 sec)\n",
      "INFO:tensorflow:global_step/sec: 151.327\n",
      "INFO:tensorflow:loss = 29.1017, step = 700 (0.658 sec)\n",
      "INFO:tensorflow:global_step/sec: 165.436\n",
      "INFO:tensorflow:loss = 36.205494, step = 800 (0.605 sec)\n",
      "INFO:tensorflow:global_step/sec: 152.893\n",
      "INFO:tensorflow:loss = 15.926177, step = 900 (0.657 sec)\n",
      "INFO:tensorflow:global_step/sec: 149.684\n",
      "INFO:tensorflow:loss = 17.924702, step = 1000 (0.665 sec)\n",
      "INFO:tensorflow:global_step/sec: 152.572\n",
      "INFO:tensorflow:loss = 32.086872, step = 1100 (0.660 sec)\n",
      "INFO:tensorflow:global_step/sec: 161.845\n",
      "INFO:tensorflow:loss = 15.215569, step = 1200 (0.616 sec)\n",
      "INFO:tensorflow:global_step/sec: 150.224\n",
      "INFO:tensorflow:loss = 14.062966, step = 1300 (0.666 sec)\n",
      "INFO:tensorflow:global_step/sec: 143.003\n",
      "INFO:tensorflow:loss = 28.527061, step = 1400 (0.700 sec)\n",
      "INFO:tensorflow:global_step/sec: 143.974\n",
      "INFO:tensorflow:loss = 29.393225, step = 1500 (0.696 sec)\n",
      "INFO:tensorflow:global_step/sec: 162.79\n",
      "INFO:tensorflow:loss = 7.468515, step = 1600 (0.613 sec)\n",
      "INFO:tensorflow:global_step/sec: 150.109\n",
      "INFO:tensorflow:loss = 13.33816, step = 1700 (0.664 sec)\n",
      "INFO:tensorflow:global_step/sec: 151.278\n",
      "INFO:tensorflow:loss = 23.017332, step = 1800 (0.665 sec)\n",
      "INFO:tensorflow:global_step/sec: 150.345\n",
      "INFO:tensorflow:loss = 11.435552, step = 1900 (0.664 sec)\n",
      "INFO:tensorflow:Saving checkpoints for 2000 into /tmp/tmpem8e13_4/model.ckpt.\n",
      "INFO:tensorflow:Loss for final step: 15.870359.\n",
      "INFO:tensorflow:Calling model_fn.\n",
      "INFO:tensorflow:Done calling model_fn.\n",
      "INFO:tensorflow:Starting evaluation at 2018-05-18-08:56:11\n",
      "INFO:tensorflow:Graph was finalized.\n",
      "INFO:tensorflow:Restoring parameters from /tmp/tmpem8e13_4/model.ckpt-2000\n",
      "INFO:tensorflow:Running local_init_op.\n",
      "INFO:tensorflow:Done running local_init_op.\n",
      "INFO:tensorflow:Finished evaluation at 2018-05-18-08:56:11\n",
      "INFO:tensorflow:Saving dict for global step 2000: accuracy = 0.94663894, average_loss = 0.19452247, global_step = 2000, loss = 18.713062\n",
      "INFO:tensorflow:Calling model_fn.\n",
      "INFO:tensorflow:Done calling model_fn.\n",
      "INFO:tensorflow:Graph was finalized.\n",
      "INFO:tensorflow:Restoring parameters from /tmp/tmpem8e13_4/model.ckpt-2000\n",
      "INFO:tensorflow:Running local_init_op.\n",
      "INFO:tensorflow:Done running local_init_op.\n",
      "INFO:tensorflow:Using default config.\n",
      "WARNING:tensorflow:Using temporary folder as model directory: /tmp/tmpj8g2b0oj\n",
      "INFO:tensorflow:Using config: {'_model_dir': '/tmp/tmpj8g2b0oj', '_tf_random_seed': None, '_save_summary_steps': 100, '_save_checkpoints_steps': None, '_save_checkpoints_secs': 600, '_session_config': None, '_keep_checkpoint_max': 5, '_keep_checkpoint_every_n_hours': 10000, '_log_step_count_steps': 100, '_service': None, '_cluster_spec': <tensorflow.python.training.server_lib.ClusterSpec object at 0x7fdcb40b5ba8>, '_task_type': 'worker', '_task_id': 0, '_global_id_in_cluster': 0, '_master': '', '_evaluation_master': '', '_is_chief': True, '_num_ps_replicas': 0, '_num_worker_replicas': 1}\n",
      "INFO:tensorflow:Calling model_fn.\n",
      "INFO:tensorflow:Done calling model_fn.\n",
      "INFO:tensorflow:Create CheckpointSaverHook.\n",
      "INFO:tensorflow:Graph was finalized.\n",
      "INFO:tensorflow:Running local_init_op.\n",
      "INFO:tensorflow:Done running local_init_op.\n",
      "INFO:tensorflow:Saving checkpoints for 1 into /tmp/tmpj8g2b0oj/model.ckpt.\n",
      "INFO:tensorflow:loss = 262.22174, step = 0\n",
      "INFO:tensorflow:global_step/sec: 140.769\n",
      "INFO:tensorflow:loss = 97.84326, step = 100 (0.712 sec)\n",
      "INFO:tensorflow:global_step/sec: 153.294\n",
      "INFO:tensorflow:loss = 73.22656, step = 200 (0.658 sec)\n",
      "INFO:tensorflow:global_step/sec: 151.132\n",
      "INFO:tensorflow:loss = 67.66528, step = 300 (0.658 sec)\n",
      "INFO:tensorflow:global_step/sec: 146.896\n",
      "INFO:tensorflow:loss = 49.943287, step = 400 (0.682 sec)\n",
      "INFO:tensorflow:global_step/sec: 155.766\n",
      "INFO:tensorflow:loss = 44.62668, step = 500 (0.643 sec)\n",
      "INFO:tensorflow:global_step/sec: 142.529\n",
      "INFO:tensorflow:loss = 34.15454, step = 600 (0.704 sec)\n",
      "INFO:tensorflow:global_step/sec: 144.245\n",
      "INFO:tensorflow:loss = 32.320244, step = 700 (0.689 sec)\n",
      "INFO:tensorflow:global_step/sec: 144.84\n",
      "INFO:tensorflow:loss = 35.71745, step = 800 (0.694 sec)\n",
      "INFO:tensorflow:global_step/sec: 149.275\n",
      "INFO:tensorflow:loss = 30.554144, step = 900 (0.670 sec)\n",
      "INFO:tensorflow:global_step/sec: 160.209\n",
      "INFO:tensorflow:loss = 15.852746, step = 1000 (0.621 sec)\n",
      "INFO:tensorflow:global_step/sec: 149.963\n",
      "INFO:tensorflow:loss = 19.891933, step = 1100 (0.668 sec)\n",
      "INFO:tensorflow:global_step/sec: 149.135\n",
      "INFO:tensorflow:loss = 30.190563, step = 1200 (0.666 sec)\n",
      "INFO:tensorflow:global_step/sec: 149.129\n",
      "INFO:tensorflow:loss = 10.498901, step = 1300 (0.675 sec)\n",
      "INFO:tensorflow:global_step/sec: 157.043\n",
      "INFO:tensorflow:loss = 15.351462, step = 1400 (0.633 sec)\n",
      "INFO:tensorflow:global_step/sec: 145.124\n",
      "INFO:tensorflow:loss = 20.4962, step = 1500 (0.692 sec)\n",
      "INFO:tensorflow:global_step/sec: 139.78\n",
      "INFO:tensorflow:loss = 16.691643, step = 1600 (0.716 sec)\n",
      "INFO:tensorflow:global_step/sec: 145.245\n",
      "INFO:tensorflow:loss = 15.492201, step = 1700 (0.689 sec)\n",
      "INFO:tensorflow:global_step/sec: 145.583\n",
      "INFO:tensorflow:loss = 8.329516, step = 1800 (0.687 sec)\n",
      "INFO:tensorflow:global_step/sec: 158.087\n",
      "INFO:tensorflow:loss = 19.07121, step = 1900 (0.633 sec)\n",
      "INFO:tensorflow:Saving checkpoints for 2000 into /tmp/tmpj8g2b0oj/model.ckpt.\n",
      "INFO:tensorflow:Loss for final step: 22.530287.\n",
      "INFO:tensorflow:Calling model_fn.\n",
      "INFO:tensorflow:Done calling model_fn.\n",
      "INFO:tensorflow:Starting evaluation at 2018-05-18-08:56:28\n",
      "INFO:tensorflow:Graph was finalized.\n",
      "INFO:tensorflow:Restoring parameters from /tmp/tmpj8g2b0oj/model.ckpt-2000\n",
      "INFO:tensorflow:Running local_init_op.\n",
      "INFO:tensorflow:Done running local_init_op.\n",
      "INFO:tensorflow:Finished evaluation at 2018-05-18-08:56:28\n",
      "INFO:tensorflow:Saving dict for global step 2000: accuracy = 0.9527515, average_loss = 0.19079831, global_step = 2000, loss = 19.069231\n",
      "INFO:tensorflow:Calling model_fn.\n",
      "INFO:tensorflow:Done calling model_fn.\n",
      "INFO:tensorflow:Graph was finalized.\n",
      "INFO:tensorflow:Restoring parameters from /tmp/tmpj8g2b0oj/model.ckpt-2000\n",
      "INFO:tensorflow:Running local_init_op.\n",
      "INFO:tensorflow:Done running local_init_op.\n",
      "INFO:tensorflow:Using default config.\n",
      "WARNING:tensorflow:Using temporary folder as model directory: /tmp/tmph1zpfwc4\n",
      "INFO:tensorflow:Using config: {'_model_dir': '/tmp/tmph1zpfwc4', '_tf_random_seed': None, '_save_summary_steps': 100, '_save_checkpoints_steps': None, '_save_checkpoints_secs': 600, '_session_config': None, '_keep_checkpoint_max': 5, '_keep_checkpoint_every_n_hours': 10000, '_log_step_count_steps': 100, '_service': None, '_cluster_spec': <tensorflow.python.training.server_lib.ClusterSpec object at 0x7fdcb3ebba58>, '_task_type': 'worker', '_task_id': 0, '_global_id_in_cluster': 0, '_master': '', '_evaluation_master': '', '_is_chief': True, '_num_ps_replicas': 0, '_num_worker_replicas': 1}\n",
      "INFO:tensorflow:Calling model_fn.\n",
      "INFO:tensorflow:Done calling model_fn.\n",
      "INFO:tensorflow:Create CheckpointSaverHook.\n",
      "INFO:tensorflow:Graph was finalized.\n",
      "INFO:tensorflow:Running local_init_op.\n",
      "INFO:tensorflow:Done running local_init_op.\n",
      "INFO:tensorflow:Saving checkpoints for 1 into /tmp/tmph1zpfwc4/model.ckpt.\n",
      "INFO:tensorflow:loss = 238.67426, step = 0\n",
      "INFO:tensorflow:Saving checkpoints for 100 into /tmp/tmph1zpfwc4/model.ckpt.\n",
      "INFO:tensorflow:Loss for final step: 104.95262.\n",
      "INFO:tensorflow:Calling model_fn.\n",
      "INFO:tensorflow:Done calling model_fn.\n",
      "INFO:tensorflow:Starting evaluation at 2018-05-18-08:56:32\n",
      "INFO:tensorflow:Graph was finalized.\n",
      "INFO:tensorflow:Restoring parameters from /tmp/tmph1zpfwc4/model.ckpt-100\n",
      "INFO:tensorflow:Running local_init_op.\n",
      "INFO:tensorflow:Done running local_init_op.\n",
      "INFO:tensorflow:Finished evaluation at 2018-05-18-08:56:32\n",
      "INFO:tensorflow:Saving dict for global step 100: accuracy = 0.7193347, average_loss = 0.98103595, global_step = 100, loss = 94.375656\n",
      "INFO:tensorflow:Calling model_fn.\n",
      "INFO:tensorflow:Done calling model_fn.\n",
      "INFO:tensorflow:Graph was finalized.\n",
      "INFO:tensorflow:Restoring parameters from /tmp/tmph1zpfwc4/model.ckpt-100\n",
      "INFO:tensorflow:Running local_init_op.\n",
      "INFO:tensorflow:Done running local_init_op.\n",
      "INFO:tensorflow:Using default config.\n",
      "WARNING:tensorflow:Using temporary folder as model directory: /tmp/tmp_vxghb02\n",
      "INFO:tensorflow:Using config: {'_model_dir': '/tmp/tmp_vxghb02', '_tf_random_seed': None, '_save_summary_steps': 100, '_save_checkpoints_steps': None, '_save_checkpoints_secs': 600, '_session_config': None, '_keep_checkpoint_max': 5, '_keep_checkpoint_every_n_hours': 10000, '_log_step_count_steps': 100, '_service': None, '_cluster_spec': <tensorflow.python.training.server_lib.ClusterSpec object at 0x7fdcb6e3cd68>, '_task_type': 'worker', '_task_id': 0, '_global_id_in_cluster': 0, '_master': '', '_evaluation_master': '', '_is_chief': True, '_num_ps_replicas': 0, '_num_worker_replicas': 1}\n",
      "INFO:tensorflow:Calling model_fn.\n",
      "INFO:tensorflow:Done calling model_fn.\n",
      "INFO:tensorflow:Create CheckpointSaverHook.\n",
      "INFO:tensorflow:Graph was finalized.\n",
      "INFO:tensorflow:Running local_init_op.\n",
      "INFO:tensorflow:Done running local_init_op.\n",
      "INFO:tensorflow:Saving checkpoints for 1 into /tmp/tmp_vxghb02/model.ckpt.\n",
      "INFO:tensorflow:loss = 221.10286, step = 0\n",
      "INFO:tensorflow:Saving checkpoints for 100 into /tmp/tmp_vxghb02/model.ckpt.\n",
      "INFO:tensorflow:Loss for final step: 92.98381.\n",
      "INFO:tensorflow:Calling model_fn.\n",
      "INFO:tensorflow:Done calling model_fn.\n",
      "INFO:tensorflow:Starting evaluation at 2018-05-18-08:56:36\n",
      "INFO:tensorflow:Graph was finalized.\n",
      "INFO:tensorflow:Restoring parameters from /tmp/tmp_vxghb02/model.ckpt-100\n",
      "INFO:tensorflow:Running local_init_op.\n",
      "INFO:tensorflow:Done running local_init_op.\n",
      "INFO:tensorflow:Finished evaluation at 2018-05-18-08:56:36\n",
      "INFO:tensorflow:Saving dict for global step 100: accuracy = 0.7217899, average_loss = 0.99559546, global_step = 100, loss = 99.504234\n",
      "INFO:tensorflow:Calling model_fn.\n",
      "INFO:tensorflow:Done calling model_fn.\n",
      "INFO:tensorflow:Graph was finalized.\n",
      "INFO:tensorflow:Restoring parameters from /tmp/tmp_vxghb02/model.ckpt-100\n",
      "INFO:tensorflow:Running local_init_op.\n",
      "INFO:tensorflow:Done running local_init_op.\n",
      "INFO:tensorflow:Using default config.\n",
      "WARNING:tensorflow:Using temporary folder as model directory: /tmp/tmpe2kz3d8m\n",
      "INFO:tensorflow:Using config: {'_model_dir': '/tmp/tmpe2kz3d8m', '_tf_random_seed': None, '_save_summary_steps': 100, '_save_checkpoints_steps': None, '_save_checkpoints_secs': 600, '_session_config': None, '_keep_checkpoint_max': 5, '_keep_checkpoint_every_n_hours': 10000, '_log_step_count_steps': 100, '_service': None, '_cluster_spec': <tensorflow.python.training.server_lib.ClusterSpec object at 0x7fdcd69e38d0>, '_task_type': 'worker', '_task_id': 0, '_global_id_in_cluster': 0, '_master': '', '_evaluation_master': '', '_is_chief': True, '_num_ps_replicas': 0, '_num_worker_replicas': 1}\n",
      "INFO:tensorflow:Calling model_fn.\n"
     ]
    },
    {
     "name": "stdout",
     "output_type": "stream",
     "text": [
      "INFO:tensorflow:Done calling model_fn.\n",
      "INFO:tensorflow:Create CheckpointSaverHook.\n",
      "INFO:tensorflow:Graph was finalized.\n",
      "INFO:tensorflow:Running local_init_op.\n",
      "INFO:tensorflow:Done running local_init_op.\n",
      "INFO:tensorflow:Saving checkpoints for 1 into /tmp/tmpe2kz3d8m/model.ckpt.\n",
      "INFO:tensorflow:loss = 233.15695, step = 0\n",
      "INFO:tensorflow:global_step/sec: 136.371\n",
      "INFO:tensorflow:loss = 93.20641, step = 100 (0.738 sec)\n",
      "INFO:tensorflow:Saving checkpoints for 200 into /tmp/tmpe2kz3d8m/model.ckpt.\n",
      "INFO:tensorflow:Loss for final step: 87.40945.\n",
      "INFO:tensorflow:Calling model_fn.\n",
      "INFO:tensorflow:Done calling model_fn.\n",
      "INFO:tensorflow:Starting evaluation at 2018-05-18-08:56:41\n",
      "INFO:tensorflow:Graph was finalized.\n",
      "INFO:tensorflow:Restoring parameters from /tmp/tmpe2kz3d8m/model.ckpt-200\n",
      "INFO:tensorflow:Running local_init_op.\n",
      "INFO:tensorflow:Done running local_init_op.\n",
      "INFO:tensorflow:Finished evaluation at 2018-05-18-08:56:41\n",
      "INFO:tensorflow:Saving dict for global step 200: accuracy = 0.78655577, average_loss = 0.7435139, global_step = 200, loss = 71.52603\n",
      "INFO:tensorflow:Calling model_fn.\n",
      "INFO:tensorflow:Done calling model_fn.\n",
      "INFO:tensorflow:Graph was finalized.\n",
      "INFO:tensorflow:Restoring parameters from /tmp/tmpe2kz3d8m/model.ckpt-200\n",
      "INFO:tensorflow:Running local_init_op.\n",
      "INFO:tensorflow:Done running local_init_op.\n",
      "INFO:tensorflow:Using default config.\n",
      "WARNING:tensorflow:Using temporary folder as model directory: /tmp/tmpni60205x\n",
      "INFO:tensorflow:Using config: {'_model_dir': '/tmp/tmpni60205x', '_tf_random_seed': None, '_save_summary_steps': 100, '_save_checkpoints_steps': None, '_save_checkpoints_secs': 600, '_session_config': None, '_keep_checkpoint_max': 5, '_keep_checkpoint_every_n_hours': 10000, '_log_step_count_steps': 100, '_service': None, '_cluster_spec': <tensorflow.python.training.server_lib.ClusterSpec object at 0x7fdcbeb77630>, '_task_type': 'worker', '_task_id': 0, '_global_id_in_cluster': 0, '_master': '', '_evaluation_master': '', '_is_chief': True, '_num_ps_replicas': 0, '_num_worker_replicas': 1}\n",
      "INFO:tensorflow:Calling model_fn.\n",
      "INFO:tensorflow:Done calling model_fn.\n",
      "INFO:tensorflow:Create CheckpointSaverHook.\n",
      "INFO:tensorflow:Graph was finalized.\n",
      "INFO:tensorflow:Running local_init_op.\n",
      "INFO:tensorflow:Done running local_init_op.\n",
      "INFO:tensorflow:Saving checkpoints for 1 into /tmp/tmpni60205x/model.ckpt.\n",
      "INFO:tensorflow:loss = 255.08911, step = 0\n",
      "INFO:tensorflow:global_step/sec: 135.072\n",
      "INFO:tensorflow:loss = 77.513374, step = 100 (0.742 sec)\n",
      "INFO:tensorflow:Saving checkpoints for 200 into /tmp/tmpni60205x/model.ckpt.\n",
      "INFO:tensorflow:Loss for final step: 83.170784.\n",
      "INFO:tensorflow:Calling model_fn.\n",
      "INFO:tensorflow:Done calling model_fn.\n",
      "INFO:tensorflow:Starting evaluation at 2018-05-18-08:56:46\n",
      "INFO:tensorflow:Graph was finalized.\n",
      "INFO:tensorflow:Restoring parameters from /tmp/tmpni60205x/model.ckpt-200\n",
      "INFO:tensorflow:Running local_init_op.\n",
      "INFO:tensorflow:Done running local_init_op.\n",
      "INFO:tensorflow:Finished evaluation at 2018-05-18-08:56:46\n",
      "INFO:tensorflow:Saving dict for global step 200: accuracy = 0.7445803, average_loss = 0.7603866, global_step = 200, loss = 75.996414\n",
      "INFO:tensorflow:Calling model_fn.\n",
      "INFO:tensorflow:Done calling model_fn.\n",
      "INFO:tensorflow:Graph was finalized.\n",
      "INFO:tensorflow:Restoring parameters from /tmp/tmpni60205x/model.ckpt-200\n",
      "INFO:tensorflow:Running local_init_op.\n",
      "INFO:tensorflow:Done running local_init_op.\n",
      "INFO:tensorflow:Using default config.\n",
      "WARNING:tensorflow:Using temporary folder as model directory: /tmp/tmpyi190g7p\n",
      "INFO:tensorflow:Using config: {'_model_dir': '/tmp/tmpyi190g7p', '_tf_random_seed': None, '_save_summary_steps': 100, '_save_checkpoints_steps': None, '_save_checkpoints_secs': 600, '_session_config': None, '_keep_checkpoint_max': 5, '_keep_checkpoint_every_n_hours': 10000, '_log_step_count_steps': 100, '_service': None, '_cluster_spec': <tensorflow.python.training.server_lib.ClusterSpec object at 0x7fdcb6f1e6a0>, '_task_type': 'worker', '_task_id': 0, '_global_id_in_cluster': 0, '_master': '', '_evaluation_master': '', '_is_chief': True, '_num_ps_replicas': 0, '_num_worker_replicas': 1}\n",
      "INFO:tensorflow:Calling model_fn.\n",
      "INFO:tensorflow:Done calling model_fn.\n",
      "INFO:tensorflow:Create CheckpointSaverHook.\n",
      "INFO:tensorflow:Graph was finalized.\n",
      "INFO:tensorflow:Running local_init_op.\n",
      "INFO:tensorflow:Done running local_init_op.\n",
      "INFO:tensorflow:Saving checkpoints for 1 into /tmp/tmpyi190g7p/model.ckpt.\n",
      "INFO:tensorflow:loss = 222.75804, step = 0\n",
      "INFO:tensorflow:global_step/sec: 137.606\n",
      "INFO:tensorflow:loss = 90.128006, step = 100 (0.731 sec)\n",
      "INFO:tensorflow:global_step/sec: 153.267\n",
      "INFO:tensorflow:loss = 58.43973, step = 200 (0.656 sec)\n",
      "INFO:tensorflow:global_step/sec: 149.554\n",
      "INFO:tensorflow:loss = 57.163795, step = 300 (0.663 sec)\n",
      "INFO:tensorflow:global_step/sec: 163.722\n",
      "INFO:tensorflow:loss = 48.666325, step = 400 (0.615 sec)\n",
      "INFO:tensorflow:Saving checkpoints for 500 into /tmp/tmpyi190g7p/model.ckpt.\n",
      "INFO:tensorflow:Loss for final step: 45.980293.\n",
      "INFO:tensorflow:Calling model_fn.\n",
      "INFO:tensorflow:Done calling model_fn.\n",
      "INFO:tensorflow:Starting evaluation at 2018-05-18-08:56:53\n",
      "INFO:tensorflow:Graph was finalized.\n",
      "INFO:tensorflow:Restoring parameters from /tmp/tmpyi190g7p/model.ckpt-500\n",
      "INFO:tensorflow:Running local_init_op.\n",
      "INFO:tensorflow:Done running local_init_op.\n",
      "INFO:tensorflow:Finished evaluation at 2018-05-18-08:56:53\n",
      "INFO:tensorflow:Saving dict for global step 500: accuracy = 0.84199584, average_loss = 0.49282467, global_step = 500, loss = 47.409733\n",
      "INFO:tensorflow:Calling model_fn.\n",
      "INFO:tensorflow:Done calling model_fn.\n",
      "INFO:tensorflow:Graph was finalized.\n",
      "INFO:tensorflow:Restoring parameters from /tmp/tmpyi190g7p/model.ckpt-500\n",
      "INFO:tensorflow:Running local_init_op.\n",
      "INFO:tensorflow:Done running local_init_op.\n",
      "INFO:tensorflow:Using default config.\n",
      "WARNING:tensorflow:Using temporary folder as model directory: /tmp/tmpj6uo7q26\n",
      "INFO:tensorflow:Using config: {'_model_dir': '/tmp/tmpj6uo7q26', '_tf_random_seed': None, '_save_summary_steps': 100, '_save_checkpoints_steps': None, '_save_checkpoints_secs': 600, '_session_config': None, '_keep_checkpoint_max': 5, '_keep_checkpoint_every_n_hours': 10000, '_log_step_count_steps': 100, '_service': None, '_cluster_spec': <tensorflow.python.training.server_lib.ClusterSpec object at 0x7fdcb4045080>, '_task_type': 'worker', '_task_id': 0, '_global_id_in_cluster': 0, '_master': '', '_evaluation_master': '', '_is_chief': True, '_num_ps_replicas': 0, '_num_worker_replicas': 1}\n",
      "INFO:tensorflow:Calling model_fn.\n",
      "INFO:tensorflow:Done calling model_fn.\n",
      "INFO:tensorflow:Create CheckpointSaverHook.\n",
      "INFO:tensorflow:Graph was finalized.\n",
      "INFO:tensorflow:Running local_init_op.\n",
      "INFO:tensorflow:Done running local_init_op.\n",
      "INFO:tensorflow:Saving checkpoints for 1 into /tmp/tmpj6uo7q26/model.ckpt.\n",
      "INFO:tensorflow:loss = 240.55899, step = 0\n",
      "INFO:tensorflow:global_step/sec: 132.544\n",
      "INFO:tensorflow:loss = 107.859695, step = 100 (0.761 sec)\n",
      "INFO:tensorflow:global_step/sec: 147.445\n",
      "INFO:tensorflow:loss = 71.67522, step = 200 (0.676 sec)\n",
      "INFO:tensorflow:global_step/sec: 150.097\n",
      "INFO:tensorflow:loss = 66.657616, step = 300 (0.664 sec)\n",
      "INFO:tensorflow:global_step/sec: 149.498\n",
      "INFO:tensorflow:loss = 69.83359, step = 400 (0.670 sec)\n",
      "INFO:tensorflow:Saving checkpoints for 500 into /tmp/tmpj6uo7q26/model.ckpt.\n",
      "INFO:tensorflow:Loss for final step: 54.24064.\n",
      "INFO:tensorflow:Calling model_fn.\n",
      "INFO:tensorflow:Done calling model_fn.\n",
      "INFO:tensorflow:Starting evaluation at 2018-05-18-08:56:59\n",
      "INFO:tensorflow:Graph was finalized.\n",
      "INFO:tensorflow:Restoring parameters from /tmp/tmpj6uo7q26/model.ckpt-500\n",
      "INFO:tensorflow:Running local_init_op.\n",
      "INFO:tensorflow:Done running local_init_op.\n",
      "INFO:tensorflow:Finished evaluation at 2018-05-18-08:57:00\n",
      "INFO:tensorflow:Saving dict for global step 500: accuracy = 0.8262924, average_loss = 0.5280435, global_step = 500, loss = 52.775017\n",
      "INFO:tensorflow:Calling model_fn.\n",
      "INFO:tensorflow:Done calling model_fn.\n",
      "INFO:tensorflow:Graph was finalized.\n",
      "INFO:tensorflow:Restoring parameters from /tmp/tmpj6uo7q26/model.ckpt-500\n",
      "INFO:tensorflow:Running local_init_op.\n",
      "INFO:tensorflow:Done running local_init_op.\n",
      "INFO:tensorflow:Using default config.\n",
      "WARNING:tensorflow:Using temporary folder as model directory: /tmp/tmpcxh7lcvh\n",
      "INFO:tensorflow:Using config: {'_model_dir': '/tmp/tmpcxh7lcvh', '_tf_random_seed': None, '_save_summary_steps': 100, '_save_checkpoints_steps': None, '_save_checkpoints_secs': 600, '_session_config': None, '_keep_checkpoint_max': 5, '_keep_checkpoint_every_n_hours': 10000, '_log_step_count_steps': 100, '_service': None, '_cluster_spec': <tensorflow.python.training.server_lib.ClusterSpec object at 0x7fdcbf4bdf28>, '_task_type': 'worker', '_task_id': 0, '_global_id_in_cluster': 0, '_master': '', '_evaluation_master': '', '_is_chief': True, '_num_ps_replicas': 0, '_num_worker_replicas': 1}\n",
      "INFO:tensorflow:Calling model_fn.\n",
      "INFO:tensorflow:Done calling model_fn.\n",
      "INFO:tensorflow:Create CheckpointSaverHook.\n",
      "INFO:tensorflow:Graph was finalized.\n",
      "INFO:tensorflow:Running local_init_op.\n",
      "INFO:tensorflow:Done running local_init_op.\n",
      "INFO:tensorflow:Saving checkpoints for 1 into /tmp/tmpcxh7lcvh/model.ckpt.\n",
      "INFO:tensorflow:loss = 235.42905, step = 0\n",
      "INFO:tensorflow:global_step/sec: 136.583\n",
      "INFO:tensorflow:loss = 115.68079, step = 100 (0.740 sec)\n",
      "INFO:tensorflow:global_step/sec: 149.564\n",
      "INFO:tensorflow:loss = 86.54036, step = 200 (0.663 sec)\n",
      "INFO:tensorflow:global_step/sec: 150.418\n",
      "INFO:tensorflow:loss = 64.50291, step = 300 (0.669 sec)\n",
      "INFO:tensorflow:global_step/sec: 161.719\n",
      "INFO:tensorflow:loss = 55.778736, step = 400 (0.614 sec)\n",
      "INFO:tensorflow:global_step/sec: 149.787\n",
      "INFO:tensorflow:loss = 58.218723, step = 500 (0.668 sec)\n",
      "INFO:tensorflow:global_step/sec: 152.689\n",
      "INFO:tensorflow:loss = 39.191284, step = 600 (0.658 sec)\n",
      "INFO:tensorflow:global_step/sec: 147.774\n",
      "INFO:tensorflow:loss = 37.121906, step = 700 (0.680 sec)\n",
      "INFO:tensorflow:global_step/sec: 161.809\n",
      "INFO:tensorflow:loss = 39.03749, step = 800 (0.617 sec)\n",
      "INFO:tensorflow:global_step/sec: 150.454\n",
      "INFO:tensorflow:loss = 24.030369, step = 900 (0.660 sec)\n",
      "INFO:tensorflow:Saving checkpoints for 1000 into /tmp/tmpcxh7lcvh/model.ckpt.\n",
      "INFO:tensorflow:Loss for final step: 26.439802.\n",
      "INFO:tensorflow:Calling model_fn.\n",
      "INFO:tensorflow:Done calling model_fn.\n",
      "INFO:tensorflow:Starting evaluation at 2018-05-18-08:57:10\n",
      "INFO:tensorflow:Graph was finalized.\n"
     ]
    },
    {
     "name": "stdout",
     "output_type": "stream",
     "text": [
      "INFO:tensorflow:Restoring parameters from /tmp/tmpcxh7lcvh/model.ckpt-1000\n",
      "INFO:tensorflow:Running local_init_op.\n",
      "INFO:tensorflow:Done running local_init_op.\n",
      "INFO:tensorflow:Finished evaluation at 2018-05-18-08:57:10\n",
      "INFO:tensorflow:Saving dict for global step 1000: accuracy = 0.8884269, average_loss = 0.35626894, global_step = 1000, loss = 34.27307\n",
      "INFO:tensorflow:Calling model_fn.\n",
      "INFO:tensorflow:Done calling model_fn.\n",
      "INFO:tensorflow:Graph was finalized.\n",
      "INFO:tensorflow:Restoring parameters from /tmp/tmpcxh7lcvh/model.ckpt-1000\n",
      "INFO:tensorflow:Running local_init_op.\n",
      "INFO:tensorflow:Done running local_init_op.\n",
      "INFO:tensorflow:Using default config.\n",
      "WARNING:tensorflow:Using temporary folder as model directory: /tmp/tmpl2n7s_rh\n",
      "INFO:tensorflow:Using config: {'_model_dir': '/tmp/tmpl2n7s_rh', '_tf_random_seed': None, '_save_summary_steps': 100, '_save_checkpoints_steps': None, '_save_checkpoints_secs': 600, '_session_config': None, '_keep_checkpoint_max': 5, '_keep_checkpoint_every_n_hours': 10000, '_log_step_count_steps': 100, '_service': None, '_cluster_spec': <tensorflow.python.training.server_lib.ClusterSpec object at 0x7fdcb6aaf4e0>, '_task_type': 'worker', '_task_id': 0, '_global_id_in_cluster': 0, '_master': '', '_evaluation_master': '', '_is_chief': True, '_num_ps_replicas': 0, '_num_worker_replicas': 1}\n",
      "INFO:tensorflow:Calling model_fn.\n",
      "INFO:tensorflow:Done calling model_fn.\n",
      "INFO:tensorflow:Create CheckpointSaverHook.\n",
      "INFO:tensorflow:Graph was finalized.\n",
      "INFO:tensorflow:Running local_init_op.\n",
      "INFO:tensorflow:Done running local_init_op.\n",
      "INFO:tensorflow:Saving checkpoints for 1 into /tmp/tmpl2n7s_rh/model.ckpt.\n",
      "INFO:tensorflow:loss = 242.48235, step = 0\n",
      "INFO:tensorflow:global_step/sec: 134.508\n",
      "INFO:tensorflow:loss = 98.58498, step = 100 (0.750 sec)\n",
      "INFO:tensorflow:global_step/sec: 142.671\n",
      "INFO:tensorflow:loss = 80.508995, step = 200 (0.697 sec)\n",
      "INFO:tensorflow:global_step/sec: 144.991\n",
      "INFO:tensorflow:loss = 67.99131, step = 300 (0.692 sec)\n",
      "INFO:tensorflow:global_step/sec: 148.759\n",
      "INFO:tensorflow:loss = 49.72729, step = 400 (0.671 sec)\n",
      "INFO:tensorflow:global_step/sec: 157.752\n",
      "INFO:tensorflow:loss = 57.550224, step = 500 (0.636 sec)\n",
      "INFO:tensorflow:global_step/sec: 151.903\n",
      "INFO:tensorflow:loss = 54.868034, step = 600 (0.655 sec)\n",
      "INFO:tensorflow:global_step/sec: 146.744\n",
      "INFO:tensorflow:loss = 40.36686, step = 700 (0.685 sec)\n",
      "INFO:tensorflow:global_step/sec: 148.891\n",
      "INFO:tensorflow:loss = 34.292473, step = 800 (0.674 sec)\n",
      "INFO:tensorflow:global_step/sec: 152.242\n",
      "INFO:tensorflow:loss = 32.451454, step = 900 (0.656 sec)\n",
      "INFO:tensorflow:Saving checkpoints for 1000 into /tmp/tmpl2n7s_rh/model.ckpt.\n",
      "INFO:tensorflow:Loss for final step: 30.607424.\n",
      "INFO:tensorflow:Calling model_fn.\n",
      "INFO:tensorflow:Done calling model_fn.\n",
      "INFO:tensorflow:Starting evaluation at 2018-05-18-08:57:20\n",
      "INFO:tensorflow:Graph was finalized.\n",
      "INFO:tensorflow:Restoring parameters from /tmp/tmpl2n7s_rh/model.ckpt-1000\n",
      "INFO:tensorflow:Running local_init_op.\n",
      "INFO:tensorflow:Done running local_init_op.\n",
      "INFO:tensorflow:Finished evaluation at 2018-05-18-08:57:20\n",
      "INFO:tensorflow:Saving dict for global step 1000: accuracy = 0.88021123, average_loss = 0.35017595, global_step = 1000, loss = 34.998142\n",
      "INFO:tensorflow:Calling model_fn.\n",
      "INFO:tensorflow:Done calling model_fn.\n",
      "INFO:tensorflow:Graph was finalized.\n",
      "INFO:tensorflow:Restoring parameters from /tmp/tmpl2n7s_rh/model.ckpt-1000\n",
      "INFO:tensorflow:Running local_init_op.\n",
      "INFO:tensorflow:Done running local_init_op.\n",
      "INFO:tensorflow:Using default config.\n",
      "WARNING:tensorflow:Using temporary folder as model directory: /tmp/tmp0w88ydp5\n",
      "INFO:tensorflow:Using config: {'_model_dir': '/tmp/tmp0w88ydp5', '_tf_random_seed': None, '_save_summary_steps': 100, '_save_checkpoints_steps': None, '_save_checkpoints_secs': 600, '_session_config': None, '_keep_checkpoint_max': 5, '_keep_checkpoint_every_n_hours': 10000, '_log_step_count_steps': 100, '_service': None, '_cluster_spec': <tensorflow.python.training.server_lib.ClusterSpec object at 0x7fdcb6a464a8>, '_task_type': 'worker', '_task_id': 0, '_global_id_in_cluster': 0, '_master': '', '_evaluation_master': '', '_is_chief': True, '_num_ps_replicas': 0, '_num_worker_replicas': 1}\n",
      "INFO:tensorflow:Calling model_fn.\n",
      "INFO:tensorflow:Done calling model_fn.\n",
      "INFO:tensorflow:Create CheckpointSaverHook.\n",
      "INFO:tensorflow:Graph was finalized.\n",
      "INFO:tensorflow:Running local_init_op.\n",
      "INFO:tensorflow:Done running local_init_op.\n",
      "INFO:tensorflow:Saving checkpoints for 1 into /tmp/tmp0w88ydp5/model.ckpt.\n",
      "INFO:tensorflow:loss = 239.2264, step = 0\n",
      "INFO:tensorflow:global_step/sec: 141.218\n",
      "INFO:tensorflow:loss = 93.04678, step = 100 (0.713 sec)\n",
      "INFO:tensorflow:global_step/sec: 152.432\n",
      "INFO:tensorflow:loss = 66.89524, step = 200 (0.659 sec)\n",
      "INFO:tensorflow:global_step/sec: 152.787\n",
      "INFO:tensorflow:loss = 68.67764, step = 300 (0.653 sec)\n",
      "INFO:tensorflow:global_step/sec: 153.936\n",
      "INFO:tensorflow:loss = 56.303413, step = 400 (0.646 sec)\n",
      "INFO:tensorflow:global_step/sec: 147.849\n",
      "INFO:tensorflow:loss = 56.525536, step = 500 (0.681 sec)\n",
      "INFO:tensorflow:global_step/sec: 151.252\n",
      "INFO:tensorflow:loss = 48.93572, step = 600 (0.656 sec)\n",
      "INFO:tensorflow:global_step/sec: 148.274\n",
      "INFO:tensorflow:loss = 41.77082, step = 700 (0.680 sec)\n",
      "INFO:tensorflow:global_step/sec: 160.976\n",
      "INFO:tensorflow:loss = 31.819572, step = 800 (0.615 sec)\n",
      "INFO:tensorflow:global_step/sec: 148.688\n",
      "INFO:tensorflow:loss = 41.70222, step = 900 (0.672 sec)\n",
      "INFO:tensorflow:global_step/sec: 148.197\n",
      "INFO:tensorflow:loss = 35.611115, step = 1000 (0.678 sec)\n",
      "INFO:tensorflow:global_step/sec: 148.435\n",
      "INFO:tensorflow:loss = 36.01787, step = 1100 (0.674 sec)\n",
      "INFO:tensorflow:global_step/sec: 161.874\n",
      "INFO:tensorflow:loss = 31.922869, step = 1200 (0.614 sec)\n",
      "INFO:tensorflow:global_step/sec: 151.321\n",
      "INFO:tensorflow:loss = 34.672882, step = 1300 (0.661 sec)\n",
      "INFO:tensorflow:global_step/sec: 151.056\n",
      "INFO:tensorflow:loss = 22.896212, step = 1400 (0.662 sec)\n",
      "INFO:tensorflow:Saving checkpoints for 1500 into /tmp/tmp0w88ydp5/model.ckpt.\n",
      "INFO:tensorflow:Loss for final step: 17.779722.\n",
      "INFO:tensorflow:Calling model_fn.\n",
      "INFO:tensorflow:Done calling model_fn.\n",
      "INFO:tensorflow:Starting evaluation at 2018-05-18-08:57:33\n",
      "INFO:tensorflow:Graph was finalized.\n",
      "INFO:tensorflow:Restoring parameters from /tmp/tmp0w88ydp5/model.ckpt-1500\n",
      "INFO:tensorflow:Running local_init_op.\n",
      "INFO:tensorflow:Done running local_init_op.\n",
      "INFO:tensorflow:Finished evaluation at 2018-05-18-08:57:34\n",
      "INFO:tensorflow:Saving dict for global step 1500: accuracy = 0.9424809, average_loss = 0.23641326, global_step = 1500, loss = 22.742954\n",
      "INFO:tensorflow:Calling model_fn.\n",
      "INFO:tensorflow:Done calling model_fn.\n",
      "INFO:tensorflow:Graph was finalized.\n",
      "INFO:tensorflow:Restoring parameters from /tmp/tmp0w88ydp5/model.ckpt-1500\n",
      "INFO:tensorflow:Running local_init_op.\n",
      "INFO:tensorflow:Done running local_init_op.\n",
      "INFO:tensorflow:Using default config.\n",
      "WARNING:tensorflow:Using temporary folder as model directory: /tmp/tmp1m5yls1d\n",
      "INFO:tensorflow:Using config: {'_model_dir': '/tmp/tmp1m5yls1d', '_tf_random_seed': None, '_save_summary_steps': 100, '_save_checkpoints_steps': None, '_save_checkpoints_secs': 600, '_session_config': None, '_keep_checkpoint_max': 5, '_keep_checkpoint_every_n_hours': 10000, '_log_step_count_steps': 100, '_service': None, '_cluster_spec': <tensorflow.python.training.server_lib.ClusterSpec object at 0x7fdcdd18c208>, '_task_type': 'worker', '_task_id': 0, '_global_id_in_cluster': 0, '_master': '', '_evaluation_master': '', '_is_chief': True, '_num_ps_replicas': 0, '_num_worker_replicas': 1}\n",
      "INFO:tensorflow:Calling model_fn.\n",
      "INFO:tensorflow:Done calling model_fn.\n",
      "INFO:tensorflow:Create CheckpointSaverHook.\n",
      "INFO:tensorflow:Graph was finalized.\n",
      "INFO:tensorflow:Running local_init_op.\n",
      "INFO:tensorflow:Done running local_init_op.\n",
      "INFO:tensorflow:Saving checkpoints for 1 into /tmp/tmp1m5yls1d/model.ckpt.\n",
      "INFO:tensorflow:loss = 266.86, step = 0\n",
      "INFO:tensorflow:global_step/sec: 138.586\n",
      "INFO:tensorflow:loss = 91.43474, step = 100 (0.729 sec)\n",
      "INFO:tensorflow:global_step/sec: 151.18\n",
      "INFO:tensorflow:loss = 82.33228, step = 200 (0.658 sec)\n",
      "INFO:tensorflow:global_step/sec: 148.362\n",
      "INFO:tensorflow:loss = 70.54176, step = 300 (0.674 sec)\n",
      "INFO:tensorflow:global_step/sec: 150.705\n",
      "INFO:tensorflow:loss = 48.531754, step = 400 (0.665 sec)\n",
      "INFO:tensorflow:global_step/sec: 159.616\n",
      "INFO:tensorflow:loss = 50.716843, step = 500 (0.624 sec)\n",
      "INFO:tensorflow:global_step/sec: 153.675\n",
      "INFO:tensorflow:loss = 36.034096, step = 600 (0.654 sec)\n",
      "INFO:tensorflow:global_step/sec: 143.096\n",
      "INFO:tensorflow:loss = 40.165134, step = 700 (0.696 sec)\n",
      "INFO:tensorflow:global_step/sec: 147\n",
      "INFO:tensorflow:loss = 46.990376, step = 800 (0.685 sec)\n",
      "INFO:tensorflow:global_step/sec: 142.807\n",
      "INFO:tensorflow:loss = 35.64121, step = 900 (0.699 sec)\n",
      "INFO:tensorflow:global_step/sec: 159.397\n",
      "INFO:tensorflow:loss = 47.416424, step = 1000 (0.626 sec)\n",
      "INFO:tensorflow:global_step/sec: 148.396\n",
      "INFO:tensorflow:loss = 31.27342, step = 1100 (0.677 sec)\n",
      "INFO:tensorflow:global_step/sec: 149.173\n",
      "INFO:tensorflow:loss = 23.018732, step = 1200 (0.667 sec)\n",
      "INFO:tensorflow:global_step/sec: 148.004\n",
      "INFO:tensorflow:loss = 27.592033, step = 1300 (0.678 sec)\n",
      "INFO:tensorflow:global_step/sec: 158.11\n",
      "INFO:tensorflow:loss = 27.807106, step = 1400 (0.632 sec)\n",
      "INFO:tensorflow:Saving checkpoints for 1500 into /tmp/tmp1m5yls1d/model.ckpt.\n",
      "INFO:tensorflow:Loss for final step: 26.120644.\n",
      "INFO:tensorflow:Calling model_fn.\n",
      "INFO:tensorflow:Done calling model_fn.\n",
      "INFO:tensorflow:Starting evaluation at 2018-05-18-08:57:47\n",
      "INFO:tensorflow:Graph was finalized.\n",
      "INFO:tensorflow:Restoring parameters from /tmp/tmp1m5yls1d/model.ckpt-1500\n",
      "INFO:tensorflow:Running local_init_op.\n",
      "INFO:tensorflow:Done running local_init_op.\n",
      "INFO:tensorflow:Finished evaluation at 2018-05-18-08:57:47\n"
     ]
    },
    {
     "name": "stdout",
     "output_type": "stream",
     "text": [
      "INFO:tensorflow:Saving dict for global step 1500: accuracy = 0.9252362, average_loss = 0.2789192, global_step = 1500, loss = 27.876425\n",
      "INFO:tensorflow:Calling model_fn.\n",
      "INFO:tensorflow:Done calling model_fn.\n",
      "INFO:tensorflow:Graph was finalized.\n",
      "INFO:tensorflow:Restoring parameters from /tmp/tmp1m5yls1d/model.ckpt-1500\n",
      "INFO:tensorflow:Running local_init_op.\n",
      "INFO:tensorflow:Done running local_init_op.\n",
      "INFO:tensorflow:Using default config.\n",
      "WARNING:tensorflow:Using temporary folder as model directory: /tmp/tmprlhmf4l3\n",
      "INFO:tensorflow:Using config: {'_model_dir': '/tmp/tmprlhmf4l3', '_tf_random_seed': None, '_save_summary_steps': 100, '_save_checkpoints_steps': None, '_save_checkpoints_secs': 600, '_session_config': None, '_keep_checkpoint_max': 5, '_keep_checkpoint_every_n_hours': 10000, '_log_step_count_steps': 100, '_service': None, '_cluster_spec': <tensorflow.python.training.server_lib.ClusterSpec object at 0x7fdcbed09048>, '_task_type': 'worker', '_task_id': 0, '_global_id_in_cluster': 0, '_master': '', '_evaluation_master': '', '_is_chief': True, '_num_ps_replicas': 0, '_num_worker_replicas': 1}\n",
      "INFO:tensorflow:Calling model_fn.\n",
      "INFO:tensorflow:Done calling model_fn.\n",
      "INFO:tensorflow:Create CheckpointSaverHook.\n",
      "INFO:tensorflow:Graph was finalized.\n",
      "INFO:tensorflow:Running local_init_op.\n",
      "INFO:tensorflow:Done running local_init_op.\n",
      "INFO:tensorflow:Saving checkpoints for 1 into /tmp/tmprlhmf4l3/model.ckpt.\n",
      "INFO:tensorflow:loss = 297.84088, step = 0\n",
      "INFO:tensorflow:global_step/sec: 142.531\n",
      "INFO:tensorflow:loss = 98.77246, step = 100 (0.707 sec)\n",
      "INFO:tensorflow:global_step/sec: 138.712\n",
      "INFO:tensorflow:loss = 87.98383, step = 200 (0.721 sec)\n",
      "INFO:tensorflow:global_step/sec: 148.035\n",
      "INFO:tensorflow:loss = 71.72843, step = 300 (0.676 sec)\n",
      "INFO:tensorflow:global_step/sec: 156.91\n",
      "INFO:tensorflow:loss = 70.115326, step = 400 (0.638 sec)\n",
      "INFO:tensorflow:global_step/sec: 145.223\n",
      "INFO:tensorflow:loss = 57.38547, step = 500 (0.684 sec)\n",
      "INFO:tensorflow:global_step/sec: 149.308\n",
      "INFO:tensorflow:loss = 47.581367, step = 600 (0.676 sec)\n",
      "INFO:tensorflow:global_step/sec: 148.552\n",
      "INFO:tensorflow:loss = 54.820618, step = 700 (0.674 sec)\n",
      "INFO:tensorflow:global_step/sec: 158.271\n",
      "INFO:tensorflow:loss = 41.881645, step = 800 (0.629 sec)\n",
      "INFO:tensorflow:global_step/sec: 140.846\n",
      "INFO:tensorflow:loss = 47.436626, step = 900 (0.712 sec)\n",
      "INFO:tensorflow:global_step/sec: 149.336\n",
      "INFO:tensorflow:loss = 39.082466, step = 1000 (0.669 sec)\n",
      "INFO:tensorflow:global_step/sec: 146.546\n",
      "INFO:tensorflow:loss = 26.406084, step = 1100 (0.684 sec)\n",
      "INFO:tensorflow:global_step/sec: 158.316\n",
      "INFO:tensorflow:loss = 50.500843, step = 1200 (0.630 sec)\n",
      "INFO:tensorflow:global_step/sec: 145.153\n",
      "INFO:tensorflow:loss = 30.396635, step = 1300 (0.688 sec)\n",
      "INFO:tensorflow:global_step/sec: 148.207\n",
      "INFO:tensorflow:loss = 29.802937, step = 1400 (0.671 sec)\n",
      "INFO:tensorflow:global_step/sec: 146.064\n",
      "INFO:tensorflow:loss = 26.785824, step = 1500 (0.688 sec)\n",
      "INFO:tensorflow:global_step/sec: 157.528\n",
      "INFO:tensorflow:loss = 22.730589, step = 1600 (0.635 sec)\n",
      "INFO:tensorflow:global_step/sec: 141.431\n",
      "INFO:tensorflow:loss = 24.77874, step = 1700 (0.704 sec)\n",
      "INFO:tensorflow:global_step/sec: 147.045\n",
      "INFO:tensorflow:loss = 22.392267, step = 1800 (0.683 sec)\n",
      "INFO:tensorflow:global_step/sec: 146.54\n",
      "INFO:tensorflow:loss = 24.990204, step = 1900 (0.680 sec)\n",
      "INFO:tensorflow:Saving checkpoints for 2000 into /tmp/tmprlhmf4l3/model.ckpt.\n",
      "INFO:tensorflow:Loss for final step: 23.718365.\n",
      "INFO:tensorflow:Calling model_fn.\n",
      "INFO:tensorflow:Done calling model_fn.\n",
      "INFO:tensorflow:Starting evaluation at 2018-05-18-08:58:04\n",
      "INFO:tensorflow:Graph was finalized.\n",
      "INFO:tensorflow:Restoring parameters from /tmp/tmprlhmf4l3/model.ckpt-2000\n",
      "INFO:tensorflow:Running local_init_op.\n",
      "INFO:tensorflow:Done running local_init_op.\n",
      "INFO:tensorflow:Finished evaluation at 2018-05-18-08:58:04\n",
      "INFO:tensorflow:Saving dict for global step 2000: accuracy = 0.9203049, average_loss = 0.25847173, global_step = 2000, loss = 24.86498\n",
      "INFO:tensorflow:Calling model_fn.\n",
      "INFO:tensorflow:Done calling model_fn.\n",
      "INFO:tensorflow:Graph was finalized.\n",
      "INFO:tensorflow:Restoring parameters from /tmp/tmprlhmf4l3/model.ckpt-2000\n",
      "INFO:tensorflow:Running local_init_op.\n",
      "INFO:tensorflow:Done running local_init_op.\n",
      "INFO:tensorflow:Using default config.\n",
      "WARNING:tensorflow:Using temporary folder as model directory: /tmp/tmpwtf98_5f\n",
      "INFO:tensorflow:Using config: {'_model_dir': '/tmp/tmpwtf98_5f', '_tf_random_seed': None, '_save_summary_steps': 100, '_save_checkpoints_steps': None, '_save_checkpoints_secs': 600, '_session_config': None, '_keep_checkpoint_max': 5, '_keep_checkpoint_every_n_hours': 10000, '_log_step_count_steps': 100, '_service': None, '_cluster_spec': <tensorflow.python.training.server_lib.ClusterSpec object at 0x7fdcb40c8518>, '_task_type': 'worker', '_task_id': 0, '_global_id_in_cluster': 0, '_master': '', '_evaluation_master': '', '_is_chief': True, '_num_ps_replicas': 0, '_num_worker_replicas': 1}\n",
      "INFO:tensorflow:Calling model_fn.\n",
      "INFO:tensorflow:Done calling model_fn.\n",
      "INFO:tensorflow:Create CheckpointSaverHook.\n",
      "INFO:tensorflow:Graph was finalized.\n",
      "INFO:tensorflow:Running local_init_op.\n",
      "INFO:tensorflow:Done running local_init_op.\n",
      "INFO:tensorflow:Saving checkpoints for 1 into /tmp/tmpwtf98_5f/model.ckpt.\n",
      "INFO:tensorflow:loss = 285.30832, step = 0\n",
      "INFO:tensorflow:global_step/sec: 138.756\n",
      "INFO:tensorflow:loss = 101.920975, step = 100 (0.725 sec)\n",
      "INFO:tensorflow:global_step/sec: 146.821\n",
      "INFO:tensorflow:loss = 61.90944, step = 200 (0.679 sec)\n",
      "INFO:tensorflow:global_step/sec: 147.064\n",
      "INFO:tensorflow:loss = 62.92144, step = 300 (0.683 sec)\n",
      "INFO:tensorflow:global_step/sec: 148.873\n",
      "INFO:tensorflow:loss = 61.330944, step = 400 (0.672 sec)\n",
      "INFO:tensorflow:global_step/sec: 152.771\n",
      "INFO:tensorflow:loss = 44.684284, step = 500 (0.653 sec)\n",
      "INFO:tensorflow:global_step/sec: 148.556\n",
      "INFO:tensorflow:loss = 45.63536, step = 600 (0.671 sec)\n",
      "INFO:tensorflow:global_step/sec: 147.639\n",
      "INFO:tensorflow:loss = 38.849392, step = 700 (0.681 sec)\n",
      "INFO:tensorflow:global_step/sec: 152.573\n",
      "INFO:tensorflow:loss = 39.599895, step = 800 (0.653 sec)\n",
      "INFO:tensorflow:global_step/sec: 149.823\n",
      "INFO:tensorflow:loss = 37.634735, step = 900 (0.670 sec)\n",
      "INFO:tensorflow:global_step/sec: 156.338\n",
      "INFO:tensorflow:loss = 22.265276, step = 1000 (0.642 sec)\n",
      "INFO:tensorflow:global_step/sec: 149.262\n",
      "INFO:tensorflow:loss = 49.448452, step = 1100 (0.671 sec)\n",
      "INFO:tensorflow:global_step/sec: 152.134\n",
      "INFO:tensorflow:loss = 35.26659, step = 1200 (0.654 sec)\n",
      "INFO:tensorflow:global_step/sec: 146.972\n",
      "INFO:tensorflow:loss = 56.489464, step = 1300 (0.680 sec)\n",
      "INFO:tensorflow:global_step/sec: 153.317\n",
      "INFO:tensorflow:loss = 24.906736, step = 1400 (0.656 sec)\n",
      "INFO:tensorflow:global_step/sec: 146.661\n",
      "INFO:tensorflow:loss = 26.879818, step = 1500 (0.678 sec)\n",
      "INFO:tensorflow:global_step/sec: 147.3\n",
      "INFO:tensorflow:loss = 30.760754, step = 1600 (0.678 sec)\n",
      "INFO:tensorflow:global_step/sec: 149.643\n",
      "INFO:tensorflow:loss = 33.7782, step = 1700 (0.667 sec)\n",
      "INFO:tensorflow:global_step/sec: 149.627\n",
      "INFO:tensorflow:loss = 26.690683, step = 1800 (0.674 sec)\n",
      "INFO:tensorflow:global_step/sec: 153.429\n",
      "INFO:tensorflow:loss = 33.46953, step = 1900 (0.649 sec)\n",
      "INFO:tensorflow:Saving checkpoints for 2000 into /tmp/tmpwtf98_5f/model.ckpt.\n",
      "INFO:tensorflow:Loss for final step: 26.932856.\n",
      "INFO:tensorflow:Calling model_fn.\n",
      "INFO:tensorflow:Done calling model_fn.\n",
      "INFO:tensorflow:Starting evaluation at 2018-05-18-08:58:20\n",
      "INFO:tensorflow:Graph was finalized.\n",
      "INFO:tensorflow:Restoring parameters from /tmp/tmpwtf98_5f/model.ckpt-2000\n",
      "INFO:tensorflow:Running local_init_op.\n",
      "INFO:tensorflow:Done running local_init_op.\n",
      "INFO:tensorflow:Finished evaluation at 2018-05-18-08:58:21\n",
      "INFO:tensorflow:Saving dict for global step 2000: accuracy = 0.93663144, average_loss = 0.24133076, global_step = 2000, loss = 24.119667\n",
      "INFO:tensorflow:Calling model_fn.\n",
      "INFO:tensorflow:Done calling model_fn.\n",
      "INFO:tensorflow:Graph was finalized.\n",
      "INFO:tensorflow:Restoring parameters from /tmp/tmpwtf98_5f/model.ckpt-2000\n",
      "INFO:tensorflow:Running local_init_op.\n",
      "INFO:tensorflow:Done running local_init_op.\n",
      "INFO:tensorflow:Using default config.\n",
      "WARNING:tensorflow:Using temporary folder as model directory: /tmp/tmpz9f2p3v5\n",
      "INFO:tensorflow:Using config: {'_model_dir': '/tmp/tmpz9f2p3v5', '_tf_random_seed': None, '_save_summary_steps': 100, '_save_checkpoints_steps': None, '_save_checkpoints_secs': 600, '_session_config': None, '_keep_checkpoint_max': 5, '_keep_checkpoint_every_n_hours': 10000, '_log_step_count_steps': 100, '_service': None, '_cluster_spec': <tensorflow.python.training.server_lib.ClusterSpec object at 0x7fdcb3c7d438>, '_task_type': 'worker', '_task_id': 0, '_global_id_in_cluster': 0, '_master': '', '_evaluation_master': '', '_is_chief': True, '_num_ps_replicas': 0, '_num_worker_replicas': 1}\n",
      "INFO:tensorflow:Calling model_fn.\n",
      "INFO:tensorflow:Done calling model_fn.\n",
      "INFO:tensorflow:Create CheckpointSaverHook.\n",
      "INFO:tensorflow:Graph was finalized.\n",
      "INFO:tensorflow:Running local_init_op.\n",
      "INFO:tensorflow:Done running local_init_op.\n",
      "INFO:tensorflow:Saving checkpoints for 1 into /tmp/tmpz9f2p3v5/model.ckpt.\n",
      "INFO:tensorflow:loss = 235.99048, step = 0\n",
      "INFO:tensorflow:Saving checkpoints for 100 into /tmp/tmpz9f2p3v5/model.ckpt.\n",
      "INFO:tensorflow:Loss for final step: 104.98496.\n",
      "INFO:tensorflow:Calling model_fn.\n",
      "INFO:tensorflow:Done calling model_fn.\n",
      "INFO:tensorflow:Starting evaluation at 2018-05-18-08:58:25\n",
      "INFO:tensorflow:Graph was finalized.\n",
      "INFO:tensorflow:Restoring parameters from /tmp/tmpz9f2p3v5/model.ckpt-100\n",
      "INFO:tensorflow:Running local_init_op.\n",
      "INFO:tensorflow:Done running local_init_op.\n",
      "INFO:tensorflow:Finished evaluation at 2018-05-18-08:58:25\n",
      "INFO:tensorflow:Saving dict for global step 100: accuracy = 0.7241857, average_loss = 0.94879484, global_step = 100, loss = 91.27406\n",
      "INFO:tensorflow:Calling model_fn.\n",
      "INFO:tensorflow:Done calling model_fn.\n",
      "INFO:tensorflow:Graph was finalized.\n",
      "INFO:tensorflow:Restoring parameters from /tmp/tmpz9f2p3v5/model.ckpt-100\n"
     ]
    },
    {
     "name": "stdout",
     "output_type": "stream",
     "text": [
      "INFO:tensorflow:Running local_init_op.\n",
      "INFO:tensorflow:Done running local_init_op.\n",
      "INFO:tensorflow:Using default config.\n",
      "WARNING:tensorflow:Using temporary folder as model directory: /tmp/tmpnqa3o2mn\n",
      "INFO:tensorflow:Using config: {'_model_dir': '/tmp/tmpnqa3o2mn', '_tf_random_seed': None, '_save_summary_steps': 100, '_save_checkpoints_steps': None, '_save_checkpoints_secs': 600, '_session_config': None, '_keep_checkpoint_max': 5, '_keep_checkpoint_every_n_hours': 10000, '_log_step_count_steps': 100, '_service': None, '_cluster_spec': <tensorflow.python.training.server_lib.ClusterSpec object at 0x7fdcd6279978>, '_task_type': 'worker', '_task_id': 0, '_global_id_in_cluster': 0, '_master': '', '_evaluation_master': '', '_is_chief': True, '_num_ps_replicas': 0, '_num_worker_replicas': 1}\n",
      "INFO:tensorflow:Calling model_fn.\n",
      "INFO:tensorflow:Done calling model_fn.\n",
      "INFO:tensorflow:Create CheckpointSaverHook.\n",
      "INFO:tensorflow:Graph was finalized.\n",
      "INFO:tensorflow:Running local_init_op.\n",
      "INFO:tensorflow:Done running local_init_op.\n",
      "INFO:tensorflow:Saving checkpoints for 1 into /tmp/tmpnqa3o2mn/model.ckpt.\n",
      "INFO:tensorflow:loss = 297.14526, step = 0\n",
      "INFO:tensorflow:Saving checkpoints for 100 into /tmp/tmpnqa3o2mn/model.ckpt.\n",
      "INFO:tensorflow:Loss for final step: 89.14158.\n",
      "INFO:tensorflow:Calling model_fn.\n",
      "INFO:tensorflow:Done calling model_fn.\n",
      "INFO:tensorflow:Starting evaluation at 2018-05-18-08:58:29\n",
      "INFO:tensorflow:Graph was finalized.\n",
      "INFO:tensorflow:Restoring parameters from /tmp/tmpnqa3o2mn/model.ckpt-100\n",
      "INFO:tensorflow:Running local_init_op.\n",
      "INFO:tensorflow:Done running local_init_op.\n",
      "INFO:tensorflow:Finished evaluation at 2018-05-18-08:58:29\n",
      "INFO:tensorflow:Saving dict for global step 100: accuracy = 0.73179543, average_loss = 0.93424904, global_step = 100, loss = 93.373\n",
      "INFO:tensorflow:Calling model_fn.\n",
      "INFO:tensorflow:Done calling model_fn.\n",
      "INFO:tensorflow:Graph was finalized.\n",
      "INFO:tensorflow:Restoring parameters from /tmp/tmpnqa3o2mn/model.ckpt-100\n",
      "INFO:tensorflow:Running local_init_op.\n",
      "INFO:tensorflow:Done running local_init_op.\n",
      "INFO:tensorflow:Using default config.\n",
      "WARNING:tensorflow:Using temporary folder as model directory: /tmp/tmpdxua4kzv\n",
      "INFO:tensorflow:Using config: {'_model_dir': '/tmp/tmpdxua4kzv', '_tf_random_seed': None, '_save_summary_steps': 100, '_save_checkpoints_steps': None, '_save_checkpoints_secs': 600, '_session_config': None, '_keep_checkpoint_max': 5, '_keep_checkpoint_every_n_hours': 10000, '_log_step_count_steps': 100, '_service': None, '_cluster_spec': <tensorflow.python.training.server_lib.ClusterSpec object at 0x7fdcb4155240>, '_task_type': 'worker', '_task_id': 0, '_global_id_in_cluster': 0, '_master': '', '_evaluation_master': '', '_is_chief': True, '_num_ps_replicas': 0, '_num_worker_replicas': 1}\n",
      "INFO:tensorflow:Calling model_fn.\n",
      "INFO:tensorflow:Done calling model_fn.\n",
      "INFO:tensorflow:Create CheckpointSaverHook.\n",
      "INFO:tensorflow:Graph was finalized.\n",
      "INFO:tensorflow:Running local_init_op.\n",
      "INFO:tensorflow:Done running local_init_op.\n",
      "INFO:tensorflow:Saving checkpoints for 1 into /tmp/tmpdxua4kzv/model.ckpt.\n",
      "INFO:tensorflow:loss = 296.26166, step = 0\n",
      "INFO:tensorflow:global_step/sec: 140.333\n",
      "INFO:tensorflow:loss = 78.94322, step = 100 (0.717 sec)\n",
      "INFO:tensorflow:Saving checkpoints for 200 into /tmp/tmpdxua4kzv/model.ckpt.\n",
      "INFO:tensorflow:Loss for final step: 72.70128.\n",
      "INFO:tensorflow:Calling model_fn.\n",
      "INFO:tensorflow:Done calling model_fn.\n",
      "INFO:tensorflow:Starting evaluation at 2018-05-18-08:58:34\n",
      "INFO:tensorflow:Graph was finalized.\n",
      "INFO:tensorflow:Restoring parameters from /tmp/tmpdxua4kzv/model.ckpt-200\n",
      "INFO:tensorflow:Running local_init_op.\n",
      "INFO:tensorflow:Done running local_init_op.\n",
      "INFO:tensorflow:Finished evaluation at 2018-05-18-08:58:34\n",
      "INFO:tensorflow:Saving dict for global step 200: accuracy = 0.76091474, average_loss = 0.7636241, global_step = 200, loss = 73.46064\n",
      "INFO:tensorflow:Calling model_fn.\n",
      "INFO:tensorflow:Done calling model_fn.\n",
      "INFO:tensorflow:Graph was finalized.\n",
      "INFO:tensorflow:Restoring parameters from /tmp/tmpdxua4kzv/model.ckpt-200\n",
      "INFO:tensorflow:Running local_init_op.\n",
      "INFO:tensorflow:Done running local_init_op.\n",
      "INFO:tensorflow:Using default config.\n",
      "WARNING:tensorflow:Using temporary folder as model directory: /tmp/tmpx33lnwen\n",
      "INFO:tensorflow:Using config: {'_model_dir': '/tmp/tmpx33lnwen', '_tf_random_seed': None, '_save_summary_steps': 100, '_save_checkpoints_steps': None, '_save_checkpoints_secs': 600, '_session_config': None, '_keep_checkpoint_max': 5, '_keep_checkpoint_every_n_hours': 10000, '_log_step_count_steps': 100, '_service': None, '_cluster_spec': <tensorflow.python.training.server_lib.ClusterSpec object at 0x7fdcb3f62400>, '_task_type': 'worker', '_task_id': 0, '_global_id_in_cluster': 0, '_master': '', '_evaluation_master': '', '_is_chief': True, '_num_ps_replicas': 0, '_num_worker_replicas': 1}\n",
      "INFO:tensorflow:Calling model_fn.\n",
      "INFO:tensorflow:Done calling model_fn.\n",
      "INFO:tensorflow:Create CheckpointSaverHook.\n",
      "INFO:tensorflow:Graph was finalized.\n",
      "INFO:tensorflow:Running local_init_op.\n",
      "INFO:tensorflow:Done running local_init_op.\n",
      "INFO:tensorflow:Saving checkpoints for 1 into /tmp/tmpx33lnwen/model.ckpt.\n",
      "INFO:tensorflow:loss = 207.1508, step = 0\n",
      "INFO:tensorflow:global_step/sec: 136.412\n",
      "INFO:tensorflow:loss = 91.60747, step = 100 (0.740 sec)\n",
      "INFO:tensorflow:Saving checkpoints for 200 into /tmp/tmpx33lnwen/model.ckpt.\n",
      "INFO:tensorflow:Loss for final step: 72.67851.\n",
      "INFO:tensorflow:Calling model_fn.\n",
      "INFO:tensorflow:Done calling model_fn.\n",
      "INFO:tensorflow:Starting evaluation at 2018-05-18-08:58:38\n",
      "INFO:tensorflow:Graph was finalized.\n",
      "INFO:tensorflow:Restoring parameters from /tmp/tmpx33lnwen/model.ckpt-200\n",
      "INFO:tensorflow:Running local_init_op.\n",
      "INFO:tensorflow:Done running local_init_op.\n",
      "INFO:tensorflow:Finished evaluation at 2018-05-18-08:58:39\n",
      "INFO:tensorflow:Saving dict for global step 200: accuracy = 0.7754308, average_loss = 0.72612953, global_step = 200, loss = 72.57261\n",
      "INFO:tensorflow:Calling model_fn.\n",
      "INFO:tensorflow:Done calling model_fn.\n",
      "INFO:tensorflow:Graph was finalized.\n",
      "INFO:tensorflow:Restoring parameters from /tmp/tmpx33lnwen/model.ckpt-200\n",
      "INFO:tensorflow:Running local_init_op.\n",
      "INFO:tensorflow:Done running local_init_op.\n",
      "INFO:tensorflow:Using default config.\n",
      "WARNING:tensorflow:Using temporary folder as model directory: /tmp/tmpi31myy5d\n",
      "INFO:tensorflow:Using config: {'_model_dir': '/tmp/tmpi31myy5d', '_tf_random_seed': None, '_save_summary_steps': 100, '_save_checkpoints_steps': None, '_save_checkpoints_secs': 600, '_session_config': None, '_keep_checkpoint_max': 5, '_keep_checkpoint_every_n_hours': 10000, '_log_step_count_steps': 100, '_service': None, '_cluster_spec': <tensorflow.python.training.server_lib.ClusterSpec object at 0x7fdcb40ff0f0>, '_task_type': 'worker', '_task_id': 0, '_global_id_in_cluster': 0, '_master': '', '_evaluation_master': '', '_is_chief': True, '_num_ps_replicas': 0, '_num_worker_replicas': 1}\n",
      "INFO:tensorflow:Calling model_fn.\n",
      "INFO:tensorflow:Done calling model_fn.\n",
      "INFO:tensorflow:Create CheckpointSaverHook.\n",
      "INFO:tensorflow:Graph was finalized.\n",
      "INFO:tensorflow:Running local_init_op.\n",
      "INFO:tensorflow:Done running local_init_op.\n",
      "INFO:tensorflow:Saving checkpoints for 1 into /tmp/tmpi31myy5d/model.ckpt.\n",
      "INFO:tensorflow:loss = 263.90097, step = 0\n",
      "INFO:tensorflow:global_step/sec: 139.485\n",
      "INFO:tensorflow:loss = 106.53907, step = 100 (0.723 sec)\n",
      "INFO:tensorflow:global_step/sec: 147.985\n",
      "INFO:tensorflow:loss = 58.48919, step = 200 (0.675 sec)\n",
      "INFO:tensorflow:global_step/sec: 149.025\n",
      "INFO:tensorflow:loss = 68.701706, step = 300 (0.672 sec)\n",
      "INFO:tensorflow:global_step/sec: 159.439\n",
      "INFO:tensorflow:loss = 57.705574, step = 400 (0.627 sec)\n",
      "INFO:tensorflow:Saving checkpoints for 500 into /tmp/tmpi31myy5d/model.ckpt.\n",
      "INFO:tensorflow:Loss for final step: 67.072586.\n",
      "INFO:tensorflow:Calling model_fn.\n",
      "INFO:tensorflow:Done calling model_fn.\n",
      "INFO:tensorflow:Starting evaluation at 2018-05-18-08:58:45\n",
      "INFO:tensorflow:Graph was finalized.\n",
      "INFO:tensorflow:Restoring parameters from /tmp/tmpi31myy5d/model.ckpt-500\n",
      "INFO:tensorflow:Running local_init_op.\n",
      "INFO:tensorflow:Done running local_init_op.\n",
      "INFO:tensorflow:Finished evaluation at 2018-05-18-08:58:46\n",
      "INFO:tensorflow:Saving dict for global step 500: accuracy = 0.81358284, average_loss = 0.60731035, global_step = 500, loss = 58.423256\n",
      "INFO:tensorflow:Calling model_fn.\n",
      "INFO:tensorflow:Done calling model_fn.\n",
      "INFO:tensorflow:Graph was finalized.\n",
      "INFO:tensorflow:Restoring parameters from /tmp/tmpi31myy5d/model.ckpt-500\n",
      "INFO:tensorflow:Running local_init_op.\n",
      "INFO:tensorflow:Done running local_init_op.\n",
      "INFO:tensorflow:Using default config.\n",
      "WARNING:tensorflow:Using temporary folder as model directory: /tmp/tmpj01p0hx3\n",
      "INFO:tensorflow:Using config: {'_model_dir': '/tmp/tmpj01p0hx3', '_tf_random_seed': None, '_save_summary_steps': 100, '_save_checkpoints_steps': None, '_save_checkpoints_secs': 600, '_session_config': None, '_keep_checkpoint_max': 5, '_keep_checkpoint_every_n_hours': 10000, '_log_step_count_steps': 100, '_service': None, '_cluster_spec': <tensorflow.python.training.server_lib.ClusterSpec object at 0x7fdcb3b216d8>, '_task_type': 'worker', '_task_id': 0, '_global_id_in_cluster': 0, '_master': '', '_evaluation_master': '', '_is_chief': True, '_num_ps_replicas': 0, '_num_worker_replicas': 1}\n",
      "INFO:tensorflow:Calling model_fn.\n",
      "INFO:tensorflow:Done calling model_fn.\n",
      "INFO:tensorflow:Create CheckpointSaverHook.\n",
      "INFO:tensorflow:Graph was finalized.\n",
      "INFO:tensorflow:Running local_init_op.\n",
      "INFO:tensorflow:Done running local_init_op.\n",
      "INFO:tensorflow:Saving checkpoints for 1 into /tmp/tmpj01p0hx3/model.ckpt.\n",
      "INFO:tensorflow:loss = 262.99088, step = 0\n",
      "INFO:tensorflow:global_step/sec: 130.26\n",
      "INFO:tensorflow:loss = 92.94215, step = 100 (0.775 sec)\n",
      "INFO:tensorflow:global_step/sec: 147.167\n",
      "INFO:tensorflow:loss = 93.591736, step = 200 (0.681 sec)\n",
      "INFO:tensorflow:global_step/sec: 137.089\n",
      "INFO:tensorflow:loss = 45.80865, step = 300 (0.729 sec)\n",
      "INFO:tensorflow:global_step/sec: 149.257\n",
      "INFO:tensorflow:loss = 40.10031, step = 400 (0.669 sec)\n",
      "INFO:tensorflow:Saving checkpoints for 500 into /tmp/tmpj01p0hx3/model.ckpt.\n",
      "INFO:tensorflow:Loss for final step: 43.568233.\n",
      "INFO:tensorflow:Calling model_fn.\n",
      "INFO:tensorflow:Done calling model_fn.\n",
      "INFO:tensorflow:Starting evaluation at 2018-05-18-08:58:52\n",
      "INFO:tensorflow:Graph was finalized.\n",
      "INFO:tensorflow:Restoring parameters from /tmp/tmpj01p0hx3/model.ckpt-500\n",
      "INFO:tensorflow:Running local_init_op.\n",
      "INFO:tensorflow:Done running local_init_op.\n",
      "INFO:tensorflow:Finished evaluation at 2018-05-18-08:58:53\n",
      "INFO:tensorflow:Saving dict for global step 500: accuracy = 0.8496387, average_loss = 0.45682836, global_step = 500, loss = 45.657455\n",
      "INFO:tensorflow:Calling model_fn.\n",
      "INFO:tensorflow:Done calling model_fn.\n"
     ]
    },
    {
     "name": "stdout",
     "output_type": "stream",
     "text": [
      "INFO:tensorflow:Graph was finalized.\n",
      "INFO:tensorflow:Restoring parameters from /tmp/tmpj01p0hx3/model.ckpt-500\n",
      "INFO:tensorflow:Running local_init_op.\n",
      "INFO:tensorflow:Done running local_init_op.\n",
      "INFO:tensorflow:Using default config.\n",
      "WARNING:tensorflow:Using temporary folder as model directory: /tmp/tmphthjnunm\n",
      "INFO:tensorflow:Using config: {'_model_dir': '/tmp/tmphthjnunm', '_tf_random_seed': None, '_save_summary_steps': 100, '_save_checkpoints_steps': None, '_save_checkpoints_secs': 600, '_session_config': None, '_keep_checkpoint_max': 5, '_keep_checkpoint_every_n_hours': 10000, '_log_step_count_steps': 100, '_service': None, '_cluster_spec': <tensorflow.python.training.server_lib.ClusterSpec object at 0x7fdcd69e6198>, '_task_type': 'worker', '_task_id': 0, '_global_id_in_cluster': 0, '_master': '', '_evaluation_master': '', '_is_chief': True, '_num_ps_replicas': 0, '_num_worker_replicas': 1}\n",
      "INFO:tensorflow:Calling model_fn.\n",
      "INFO:tensorflow:Done calling model_fn.\n",
      "INFO:tensorflow:Create CheckpointSaverHook.\n",
      "INFO:tensorflow:Graph was finalized.\n",
      "INFO:tensorflow:Running local_init_op.\n",
      "INFO:tensorflow:Done running local_init_op.\n",
      "INFO:tensorflow:Saving checkpoints for 1 into /tmp/tmphthjnunm/model.ckpt.\n",
      "INFO:tensorflow:loss = 341.7705, step = 0\n",
      "INFO:tensorflow:global_step/sec: 137.474\n",
      "INFO:tensorflow:loss = 97.87476, step = 100 (0.734 sec)\n",
      "INFO:tensorflow:global_step/sec: 148.901\n",
      "INFO:tensorflow:loss = 78.91335, step = 200 (0.672 sec)\n",
      "INFO:tensorflow:global_step/sec: 149.525\n",
      "INFO:tensorflow:loss = 68.10461, step = 300 (0.664 sec)\n",
      "INFO:tensorflow:global_step/sec: 157.743\n",
      "INFO:tensorflow:loss = 46.768227, step = 400 (0.639 sec)\n",
      "INFO:tensorflow:global_step/sec: 151.482\n",
      "INFO:tensorflow:loss = 46.75952, step = 500 (0.660 sec)\n",
      "INFO:tensorflow:global_step/sec: 148.235\n",
      "INFO:tensorflow:loss = 44.411037, step = 600 (0.676 sec)\n",
      "INFO:tensorflow:global_step/sec: 150.862\n",
      "INFO:tensorflow:loss = 43.946854, step = 700 (0.659 sec)\n",
      "INFO:tensorflow:global_step/sec: 160.933\n",
      "INFO:tensorflow:loss = 30.861315, step = 800 (0.621 sec)\n",
      "INFO:tensorflow:global_step/sec: 152.366\n",
      "INFO:tensorflow:loss = 30.998037, step = 900 (0.654 sec)\n",
      "INFO:tensorflow:Saving checkpoints for 1000 into /tmp/tmphthjnunm/model.ckpt.\n",
      "INFO:tensorflow:Loss for final step: 39.65665.\n",
      "INFO:tensorflow:Calling model_fn.\n",
      "INFO:tensorflow:Done calling model_fn.\n",
      "INFO:tensorflow:Starting evaluation at 2018-05-18-08:59:03\n",
      "INFO:tensorflow:Graph was finalized.\n",
      "INFO:tensorflow:Restoring parameters from /tmp/tmphthjnunm/model.ckpt-1000\n",
      "INFO:tensorflow:Running local_init_op.\n",
      "INFO:tensorflow:Done running local_init_op.\n",
      "INFO:tensorflow:Finished evaluation at 2018-05-18-08:59:03\n",
      "INFO:tensorflow:Saving dict for global step 1000: accuracy = 0.8967429, average_loss = 0.34369105, global_step = 1000, loss = 33.063076\n",
      "INFO:tensorflow:Calling model_fn.\n",
      "INFO:tensorflow:Done calling model_fn.\n",
      "INFO:tensorflow:Graph was finalized.\n",
      "INFO:tensorflow:Restoring parameters from /tmp/tmphthjnunm/model.ckpt-1000\n",
      "INFO:tensorflow:Running local_init_op.\n",
      "INFO:tensorflow:Done running local_init_op.\n",
      "INFO:tensorflow:Using default config.\n",
      "WARNING:tensorflow:Using temporary folder as model directory: /tmp/tmphfnc95fb\n",
      "INFO:tensorflow:Using config: {'_model_dir': '/tmp/tmphfnc95fb', '_tf_random_seed': None, '_save_summary_steps': 100, '_save_checkpoints_steps': None, '_save_checkpoints_secs': 600, '_session_config': None, '_keep_checkpoint_max': 5, '_keep_checkpoint_every_n_hours': 10000, '_log_step_count_steps': 100, '_service': None, '_cluster_spec': <tensorflow.python.training.server_lib.ClusterSpec object at 0x7fdcb3f476d8>, '_task_type': 'worker', '_task_id': 0, '_global_id_in_cluster': 0, '_master': '', '_evaluation_master': '', '_is_chief': True, '_num_ps_replicas': 0, '_num_worker_replicas': 1}\n",
      "INFO:tensorflow:Calling model_fn.\n",
      "INFO:tensorflow:Done calling model_fn.\n",
      "INFO:tensorflow:Create CheckpointSaverHook.\n",
      "INFO:tensorflow:Graph was finalized.\n",
      "INFO:tensorflow:Running local_init_op.\n",
      "INFO:tensorflow:Done running local_init_op.\n",
      "INFO:tensorflow:Saving checkpoints for 1 into /tmp/tmphfnc95fb/model.ckpt.\n",
      "INFO:tensorflow:loss = 235.44946, step = 0\n",
      "INFO:tensorflow:global_step/sec: 135.846\n",
      "INFO:tensorflow:loss = 94.71234, step = 100 (0.741 sec)\n",
      "INFO:tensorflow:global_step/sec: 143.709\n",
      "INFO:tensorflow:loss = 81.01007, step = 200 (0.697 sec)\n",
      "INFO:tensorflow:global_step/sec: 148.556\n",
      "INFO:tensorflow:loss = 63.93563, step = 300 (0.672 sec)\n",
      "INFO:tensorflow:global_step/sec: 150.32\n",
      "INFO:tensorflow:loss = 65.33797, step = 400 (0.666 sec)\n",
      "INFO:tensorflow:global_step/sec: 154.189\n",
      "INFO:tensorflow:loss = 41.08305, step = 500 (0.648 sec)\n",
      "INFO:tensorflow:global_step/sec: 146.073\n",
      "INFO:tensorflow:loss = 48.29674, step = 600 (0.686 sec)\n",
      "INFO:tensorflow:global_step/sec: 147.988\n",
      "INFO:tensorflow:loss = 32.125385, step = 700 (0.675 sec)\n",
      "INFO:tensorflow:global_step/sec: 144.719\n",
      "INFO:tensorflow:loss = 32.695496, step = 800 (0.695 sec)\n",
      "INFO:tensorflow:global_step/sec: 146.702\n",
      "INFO:tensorflow:loss = 17.938599, step = 900 (0.680 sec)\n",
      "INFO:tensorflow:Saving checkpoints for 1000 into /tmp/tmphfnc95fb/model.ckpt.\n",
      "INFO:tensorflow:Loss for final step: 25.070171.\n",
      "INFO:tensorflow:Calling model_fn.\n",
      "INFO:tensorflow:Done calling model_fn.\n",
      "INFO:tensorflow:Starting evaluation at 2018-05-18-08:59:13\n",
      "INFO:tensorflow:Graph was finalized.\n",
      "INFO:tensorflow:Restoring parameters from /tmp/tmphfnc95fb/model.ckpt-1000\n",
      "INFO:tensorflow:Running local_init_op.\n",
      "INFO:tensorflow:Done running local_init_op.\n",
      "INFO:tensorflow:Finished evaluation at 2018-05-18-08:59:13\n",
      "INFO:tensorflow:Saving dict for global step 1000: accuracy = 0.91801, average_loss = 0.2737702, global_step = 1000, loss = 27.361813\n",
      "INFO:tensorflow:Calling model_fn.\n",
      "INFO:tensorflow:Done calling model_fn.\n",
      "INFO:tensorflow:Graph was finalized.\n",
      "INFO:tensorflow:Restoring parameters from /tmp/tmphfnc95fb/model.ckpt-1000\n",
      "INFO:tensorflow:Running local_init_op.\n",
      "INFO:tensorflow:Done running local_init_op.\n",
      "INFO:tensorflow:Using default config.\n",
      "WARNING:tensorflow:Using temporary folder as model directory: /tmp/tmp5ntokz9q\n",
      "INFO:tensorflow:Using config: {'_model_dir': '/tmp/tmp5ntokz9q', '_tf_random_seed': None, '_save_summary_steps': 100, '_save_checkpoints_steps': None, '_save_checkpoints_secs': 600, '_session_config': None, '_keep_checkpoint_max': 5, '_keep_checkpoint_every_n_hours': 10000, '_log_step_count_steps': 100, '_service': None, '_cluster_spec': <tensorflow.python.training.server_lib.ClusterSpec object at 0x7fdcb6ad8630>, '_task_type': 'worker', '_task_id': 0, '_global_id_in_cluster': 0, '_master': '', '_evaluation_master': '', '_is_chief': True, '_num_ps_replicas': 0, '_num_worker_replicas': 1}\n",
      "INFO:tensorflow:Calling model_fn.\n",
      "INFO:tensorflow:Done calling model_fn.\n",
      "INFO:tensorflow:Create CheckpointSaverHook.\n",
      "INFO:tensorflow:Graph was finalized.\n",
      "INFO:tensorflow:Running local_init_op.\n",
      "INFO:tensorflow:Done running local_init_op.\n",
      "INFO:tensorflow:Saving checkpoints for 1 into /tmp/tmp5ntokz9q/model.ckpt.\n",
      "INFO:tensorflow:loss = 223.60568, step = 0\n",
      "INFO:tensorflow:global_step/sec: 137.617\n",
      "INFO:tensorflow:loss = 80.99792, step = 100 (0.735 sec)\n",
      "INFO:tensorflow:global_step/sec: 147.227\n",
      "INFO:tensorflow:loss = 78.02205, step = 200 (0.676 sec)\n",
      "INFO:tensorflow:global_step/sec: 148.833\n",
      "INFO:tensorflow:loss = 59.218422, step = 300 (0.670 sec)\n",
      "INFO:tensorflow:global_step/sec: 162.142\n",
      "INFO:tensorflow:loss = 45.978867, step = 400 (0.616 sec)\n",
      "INFO:tensorflow:global_step/sec: 146.431\n",
      "INFO:tensorflow:loss = 67.19847, step = 500 (0.686 sec)\n",
      "INFO:tensorflow:global_step/sec: 149.885\n",
      "INFO:tensorflow:loss = 47.95972, step = 600 (0.668 sec)\n",
      "INFO:tensorflow:global_step/sec: 139.711\n",
      "INFO:tensorflow:loss = 39.646545, step = 700 (0.717 sec)\n",
      "INFO:tensorflow:global_step/sec: 157.325\n",
      "INFO:tensorflow:loss = 45.680103, step = 800 (0.635 sec)\n",
      "INFO:tensorflow:global_step/sec: 139.302\n",
      "INFO:tensorflow:loss = 25.08736, step = 900 (0.717 sec)\n",
      "INFO:tensorflow:global_step/sec: 151.124\n",
      "INFO:tensorflow:loss = 40.817265, step = 1000 (0.662 sec)\n",
      "INFO:tensorflow:global_step/sec: 150.564\n",
      "INFO:tensorflow:loss = 35.10114, step = 1100 (0.661 sec)\n",
      "INFO:tensorflow:global_step/sec: 159.288\n",
      "INFO:tensorflow:loss = 30.474974, step = 1200 (0.630 sec)\n",
      "INFO:tensorflow:global_step/sec: 151.495\n",
      "INFO:tensorflow:loss = 29.145039, step = 1300 (0.662 sec)\n",
      "INFO:tensorflow:global_step/sec: 146.322\n",
      "INFO:tensorflow:loss = 23.600685, step = 1400 (0.680 sec)\n",
      "INFO:tensorflow:Saving checkpoints for 1500 into /tmp/tmp5ntokz9q/model.ckpt.\n",
      "INFO:tensorflow:Loss for final step: 29.494759.\n",
      "INFO:tensorflow:Calling model_fn.\n",
      "INFO:tensorflow:Done calling model_fn.\n",
      "INFO:tensorflow:Starting evaluation at 2018-05-18-08:59:26\n",
      "INFO:tensorflow:Graph was finalized.\n",
      "INFO:tensorflow:Restoring parameters from /tmp/tmp5ntokz9q/model.ckpt-1500\n",
      "INFO:tensorflow:Running local_init_op.\n",
      "INFO:tensorflow:Done running local_init_op.\n",
      "INFO:tensorflow:Finished evaluation at 2018-05-18-08:59:27\n",
      "INFO:tensorflow:Saving dict for global step 1500: accuracy = 0.9258489, average_loss = 0.28258583, global_step = 1500, loss = 27.184755\n",
      "INFO:tensorflow:Calling model_fn.\n",
      "INFO:tensorflow:Done calling model_fn.\n",
      "INFO:tensorflow:Graph was finalized.\n",
      "INFO:tensorflow:Restoring parameters from /tmp/tmp5ntokz9q/model.ckpt-1500\n",
      "INFO:tensorflow:Running local_init_op.\n",
      "INFO:tensorflow:Done running local_init_op.\n",
      "INFO:tensorflow:Using default config.\n",
      "WARNING:tensorflow:Using temporary folder as model directory: /tmp/tmp_oz1t40z\n",
      "INFO:tensorflow:Using config: {'_model_dir': '/tmp/tmp_oz1t40z', '_tf_random_seed': None, '_save_summary_steps': 100, '_save_checkpoints_steps': None, '_save_checkpoints_secs': 600, '_session_config': None, '_keep_checkpoint_max': 5, '_keep_checkpoint_every_n_hours': 10000, '_log_step_count_steps': 100, '_service': None, '_cluster_spec': <tensorflow.python.training.server_lib.ClusterSpec object at 0x7fdcb6aaf160>, '_task_type': 'worker', '_task_id': 0, '_global_id_in_cluster': 0, '_master': '', '_evaluation_master': '', '_is_chief': True, '_num_ps_replicas': 0, '_num_worker_replicas': 1}\n",
      "INFO:tensorflow:Calling model_fn.\n",
      "INFO:tensorflow:Done calling model_fn.\n",
      "INFO:tensorflow:Create CheckpointSaverHook.\n",
      "INFO:tensorflow:Graph was finalized.\n",
      "INFO:tensorflow:Running local_init_op.\n",
      "INFO:tensorflow:Done running local_init_op.\n",
      "INFO:tensorflow:Saving checkpoints for 1 into /tmp/tmp_oz1t40z/model.ckpt.\n",
      "INFO:tensorflow:loss = 279.54596, step = 0\n",
      "INFO:tensorflow:global_step/sec: 131.537\n",
      "INFO:tensorflow:loss = 94.55026, step = 100 (0.767 sec)\n",
      "INFO:tensorflow:global_step/sec: 145.354\n",
      "INFO:tensorflow:loss = 80.294426, step = 200 (0.686 sec)\n",
      "INFO:tensorflow:global_step/sec: 145.989\n",
      "INFO:tensorflow:loss = 61.898544, step = 300 (0.682 sec)\n",
      "INFO:tensorflow:global_step/sec: 153.331\n",
      "INFO:tensorflow:loss = 62.176075, step = 400 (0.655 sec)\n",
      "INFO:tensorflow:global_step/sec: 149.438\n"
     ]
    },
    {
     "name": "stdout",
     "output_type": "stream",
     "text": [
      "INFO:tensorflow:loss = 60.30714, step = 500 (0.668 sec)\n",
      "INFO:tensorflow:global_step/sec: 146.278\n",
      "INFO:tensorflow:loss = 53.599552, step = 600 (0.682 sec)\n",
      "INFO:tensorflow:global_step/sec: 147.344\n",
      "INFO:tensorflow:loss = 34.84589, step = 700 (0.678 sec)\n",
      "INFO:tensorflow:global_step/sec: 151.619\n",
      "INFO:tensorflow:loss = 38.77546, step = 800 (0.660 sec)\n",
      "INFO:tensorflow:global_step/sec: 148.111\n",
      "INFO:tensorflow:loss = 33.364326, step = 900 (0.680 sec)\n",
      "INFO:tensorflow:global_step/sec: 149.167\n",
      "INFO:tensorflow:loss = 36.49971, step = 1000 (0.666 sec)\n",
      "INFO:tensorflow:global_step/sec: 152.284\n",
      "INFO:tensorflow:loss = 40.335064, step = 1100 (0.659 sec)\n",
      "INFO:tensorflow:global_step/sec: 149.397\n",
      "INFO:tensorflow:loss = 27.697142, step = 1200 (0.666 sec)\n",
      "INFO:tensorflow:global_step/sec: 149.672\n",
      "INFO:tensorflow:loss = 27.114452, step = 1300 (0.674 sec)\n",
      "INFO:tensorflow:global_step/sec: 154.522\n",
      "INFO:tensorflow:loss = 38.120174, step = 1400 (0.644 sec)\n",
      "INFO:tensorflow:Saving checkpoints for 1500 into /tmp/tmp_oz1t40z/model.ckpt.\n",
      "INFO:tensorflow:Loss for final step: 47.4696.\n",
      "INFO:tensorflow:Calling model_fn.\n",
      "INFO:tensorflow:Done calling model_fn.\n",
      "INFO:tensorflow:Starting evaluation at 2018-05-18-08:59:40\n",
      "INFO:tensorflow:Graph was finalized.\n",
      "INFO:tensorflow:Restoring parameters from /tmp/tmp_oz1t40z/model.ckpt-1500\n",
      "INFO:tensorflow:Running local_init_op.\n",
      "INFO:tensorflow:Done running local_init_op.\n",
      "INFO:tensorflow:Finished evaluation at 2018-05-18-08:59:40\n",
      "INFO:tensorflow:Saving dict for global step 1500: accuracy = 0.9052251, average_loss = 0.30774245, global_step = 1500, loss = 30.757149\n",
      "INFO:tensorflow:Calling model_fn.\n",
      "INFO:tensorflow:Done calling model_fn.\n",
      "INFO:tensorflow:Graph was finalized.\n",
      "INFO:tensorflow:Restoring parameters from /tmp/tmp_oz1t40z/model.ckpt-1500\n",
      "INFO:tensorflow:Running local_init_op.\n",
      "INFO:tensorflow:Done running local_init_op.\n",
      "INFO:tensorflow:Using default config.\n",
      "WARNING:tensorflow:Using temporary folder as model directory: /tmp/tmptk09_1en\n",
      "INFO:tensorflow:Using config: {'_model_dir': '/tmp/tmptk09_1en', '_tf_random_seed': None, '_save_summary_steps': 100, '_save_checkpoints_steps': None, '_save_checkpoints_secs': 600, '_session_config': None, '_keep_checkpoint_max': 5, '_keep_checkpoint_every_n_hours': 10000, '_log_step_count_steps': 100, '_service': None, '_cluster_spec': <tensorflow.python.training.server_lib.ClusterSpec object at 0x7fdcb4084358>, '_task_type': 'worker', '_task_id': 0, '_global_id_in_cluster': 0, '_master': '', '_evaluation_master': '', '_is_chief': True, '_num_ps_replicas': 0, '_num_worker_replicas': 1}\n",
      "INFO:tensorflow:Calling model_fn.\n",
      "INFO:tensorflow:Done calling model_fn.\n",
      "INFO:tensorflow:Create CheckpointSaverHook.\n",
      "INFO:tensorflow:Graph was finalized.\n",
      "INFO:tensorflow:Running local_init_op.\n",
      "INFO:tensorflow:Done running local_init_op.\n",
      "INFO:tensorflow:Saving checkpoints for 1 into /tmp/tmptk09_1en/model.ckpt.\n",
      "INFO:tensorflow:loss = 218.72398, step = 0\n",
      "INFO:tensorflow:global_step/sec: 142.725\n",
      "INFO:tensorflow:loss = 89.23023, step = 100 (0.705 sec)\n",
      "INFO:tensorflow:global_step/sec: 149.773\n",
      "INFO:tensorflow:loss = 70.626945, step = 200 (0.669 sec)\n",
      "INFO:tensorflow:global_step/sec: 149.594\n",
      "INFO:tensorflow:loss = 67.71971, step = 300 (0.671 sec)\n",
      "INFO:tensorflow:global_step/sec: 157.946\n",
      "INFO:tensorflow:loss = 69.54426, step = 400 (0.627 sec)\n",
      "INFO:tensorflow:global_step/sec: 148.695\n",
      "INFO:tensorflow:loss = 60.832832, step = 500 (0.676 sec)\n",
      "INFO:tensorflow:global_step/sec: 146.765\n",
      "INFO:tensorflow:loss = 37.193268, step = 600 (0.683 sec)\n",
      "INFO:tensorflow:global_step/sec: 147.82\n",
      "INFO:tensorflow:loss = 25.463903, step = 700 (0.674 sec)\n",
      "INFO:tensorflow:global_step/sec: 161.146\n",
      "INFO:tensorflow:loss = 27.789047, step = 800 (0.623 sec)\n",
      "INFO:tensorflow:global_step/sec: 144.852\n",
      "INFO:tensorflow:loss = 31.355219, step = 900 (0.689 sec)\n",
      "INFO:tensorflow:global_step/sec: 146.658\n",
      "INFO:tensorflow:loss = 34.52923, step = 1000 (0.684 sec)\n",
      "INFO:tensorflow:global_step/sec: 145.559\n",
      "INFO:tensorflow:loss = 19.382057, step = 1100 (0.688 sec)\n",
      "INFO:tensorflow:global_step/sec: 158.21\n",
      "INFO:tensorflow:loss = 24.773554, step = 1200 (0.633 sec)\n",
      "INFO:tensorflow:global_step/sec: 149.187\n",
      "INFO:tensorflow:loss = 25.855972, step = 1300 (0.671 sec)\n",
      "INFO:tensorflow:global_step/sec: 149.676\n",
      "INFO:tensorflow:loss = 37.98408, step = 1400 (0.665 sec)\n",
      "INFO:tensorflow:global_step/sec: 144.008\n",
      "INFO:tensorflow:loss = 37.556046, step = 1500 (0.692 sec)\n",
      "INFO:tensorflow:global_step/sec: 157.204\n",
      "INFO:tensorflow:loss = 35.2835, step = 1600 (0.639 sec)\n",
      "INFO:tensorflow:global_step/sec: 148.733\n",
      "INFO:tensorflow:loss = 25.885992, step = 1700 (0.670 sec)\n",
      "INFO:tensorflow:global_step/sec: 151.363\n",
      "INFO:tensorflow:loss = 15.971479, step = 1800 (0.664 sec)\n",
      "INFO:tensorflow:global_step/sec: 150.069\n",
      "INFO:tensorflow:loss = 36.96462, step = 1900 (0.664 sec)\n",
      "INFO:tensorflow:Saving checkpoints for 2000 into /tmp/tmptk09_1en/model.ckpt.\n",
      "INFO:tensorflow:Loss for final step: 20.684103.\n",
      "INFO:tensorflow:Calling model_fn.\n",
      "INFO:tensorflow:Done calling model_fn.\n",
      "INFO:tensorflow:Starting evaluation at 2018-05-18-08:59:57\n",
      "INFO:tensorflow:Graph was finalized.\n",
      "INFO:tensorflow:Restoring parameters from /tmp/tmptk09_1en/model.ckpt-2000\n",
      "INFO:tensorflow:Running local_init_op.\n",
      "INFO:tensorflow:Done running local_init_op.\n",
      "INFO:tensorflow:Finished evaluation at 2018-05-18-08:59:57\n",
      "INFO:tensorflow:Saving dict for global step 2000: accuracy = 0.95010394, average_loss = 0.18888052, global_step = 2000, loss = 18.170307\n",
      "INFO:tensorflow:Calling model_fn.\n",
      "INFO:tensorflow:Done calling model_fn.\n",
      "INFO:tensorflow:Graph was finalized.\n",
      "INFO:tensorflow:Restoring parameters from /tmp/tmptk09_1en/model.ckpt-2000\n",
      "INFO:tensorflow:Running local_init_op.\n",
      "INFO:tensorflow:Done running local_init_op.\n",
      "INFO:tensorflow:Using default config.\n",
      "WARNING:tensorflow:Using temporary folder as model directory: /tmp/tmpw4nvak9z\n",
      "INFO:tensorflow:Using config: {'_model_dir': '/tmp/tmpw4nvak9z', '_tf_random_seed': None, '_save_summary_steps': 100, '_save_checkpoints_steps': None, '_save_checkpoints_secs': 600, '_session_config': None, '_keep_checkpoint_max': 5, '_keep_checkpoint_every_n_hours': 10000, '_log_step_count_steps': 100, '_service': None, '_cluster_spec': <tensorflow.python.training.server_lib.ClusterSpec object at 0x7fdcb6f25e48>, '_task_type': 'worker', '_task_id': 0, '_global_id_in_cluster': 0, '_master': '', '_evaluation_master': '', '_is_chief': True, '_num_ps_replicas': 0, '_num_worker_replicas': 1}\n",
      "INFO:tensorflow:Calling model_fn.\n",
      "INFO:tensorflow:Done calling model_fn.\n",
      "INFO:tensorflow:Create CheckpointSaverHook.\n",
      "INFO:tensorflow:Graph was finalized.\n",
      "INFO:tensorflow:Running local_init_op.\n",
      "INFO:tensorflow:Done running local_init_op.\n",
      "INFO:tensorflow:Saving checkpoints for 1 into /tmp/tmpw4nvak9z/model.ckpt.\n",
      "INFO:tensorflow:loss = 247.15845, step = 0\n",
      "INFO:tensorflow:global_step/sec: 137.384\n",
      "INFO:tensorflow:loss = 118.025116, step = 100 (0.735 sec)\n",
      "INFO:tensorflow:global_step/sec: 143.59\n",
      "INFO:tensorflow:loss = 62.367676, step = 200 (0.694 sec)\n",
      "INFO:tensorflow:global_step/sec: 144.186\n",
      "INFO:tensorflow:loss = 57.000732, step = 300 (0.691 sec)\n",
      "INFO:tensorflow:global_step/sec: 151.869\n",
      "INFO:tensorflow:loss = 71.55366, step = 400 (0.659 sec)\n",
      "INFO:tensorflow:global_step/sec: 160.216\n",
      "INFO:tensorflow:loss = 53.98538, step = 500 (0.629 sec)\n",
      "INFO:tensorflow:global_step/sec: 148.986\n",
      "INFO:tensorflow:loss = 41.560837, step = 600 (0.671 sec)\n",
      "INFO:tensorflow:global_step/sec: 151.167\n",
      "INFO:tensorflow:loss = 48.12042, step = 700 (0.662 sec)\n",
      "INFO:tensorflow:global_step/sec: 149.952\n",
      "INFO:tensorflow:loss = 40.003574, step = 800 (0.667 sec)\n",
      "INFO:tensorflow:global_step/sec: 153.783\n",
      "INFO:tensorflow:loss = 31.51607, step = 900 (0.649 sec)\n",
      "INFO:tensorflow:global_step/sec: 157.12\n",
      "INFO:tensorflow:loss = 23.51606, step = 1000 (0.639 sec)\n",
      "INFO:tensorflow:global_step/sec: 152.809\n",
      "INFO:tensorflow:loss = 58.964325, step = 1100 (0.650 sec)\n",
      "INFO:tensorflow:global_step/sec: 151.773\n",
      "INFO:tensorflow:loss = 23.718174, step = 1200 (0.661 sec)\n",
      "INFO:tensorflow:global_step/sec: 148.747\n",
      "INFO:tensorflow:loss = 18.88068, step = 1300 (0.671 sec)\n",
      "INFO:tensorflow:global_step/sec: 154.312\n",
      "INFO:tensorflow:loss = 24.282818, step = 1400 (0.648 sec)\n",
      "INFO:tensorflow:global_step/sec: 147.529\n",
      "INFO:tensorflow:loss = 17.840002, step = 1500 (0.677 sec)\n",
      "INFO:tensorflow:global_step/sec: 147.213\n",
      "INFO:tensorflow:loss = 21.91875, step = 1600 (0.681 sec)\n",
      "INFO:tensorflow:global_step/sec: 146.347\n",
      "INFO:tensorflow:loss = 31.174969, step = 1700 (0.685 sec)\n",
      "INFO:tensorflow:global_step/sec: 148.963\n",
      "INFO:tensorflow:loss = 20.10648, step = 1800 (0.671 sec)\n",
      "INFO:tensorflow:global_step/sec: 156.935\n",
      "INFO:tensorflow:loss = 16.965195, step = 1900 (0.633 sec)\n",
      "INFO:tensorflow:Saving checkpoints for 2000 into /tmp/tmpw4nvak9z/model.ckpt.\n",
      "INFO:tensorflow:Loss for final step: 18.130737.\n",
      "INFO:tensorflow:Calling model_fn.\n",
      "INFO:tensorflow:Done calling model_fn.\n",
      "INFO:tensorflow:Starting evaluation at 2018-05-18-09:00:13\n",
      "INFO:tensorflow:Graph was finalized.\n",
      "INFO:tensorflow:Restoring parameters from /tmp/tmpw4nvak9z/model.ckpt-2000\n",
      "INFO:tensorflow:Running local_init_op.\n",
      "INFO:tensorflow:Done running local_init_op.\n",
      "INFO:tensorflow:Finished evaluation at 2018-05-18-09:00:14\n",
      "INFO:tensorflow:Saving dict for global step 2000: accuracy = 0.94246805, average_loss = 0.2253191, global_step = 2000, loss = 22.519392\n",
      "INFO:tensorflow:Calling model_fn.\n",
      "INFO:tensorflow:Done calling model_fn.\n",
      "INFO:tensorflow:Graph was finalized.\n",
      "INFO:tensorflow:Restoring parameters from /tmp/tmpw4nvak9z/model.ckpt-2000\n",
      "INFO:tensorflow:Running local_init_op.\n",
      "INFO:tensorflow:Done running local_init_op.\n"
     ]
    },
    {
     "data": {
      "text/html": [
       "<h1>Model iterations complete</h1>"
      ]
     },
     "metadata": {
      "tags": []
     },
     "output_type": "display_data"
    }
   ],
   "source": [
    "# k-fold cross validation\n",
    "# this may take a while\n",
    "\n",
    "# adjustment for k-fold: num_total_model_steps = num_steps * num_folds\n",
    "kfcv_evaluations = run_model_iterations(df, labels, kFoldCV_tf_data_generator)    \n"
   ]
  },
  {
   "cell_type": "code",
   "execution_count": 33,
   "metadata": {
    "colab": {
     "autoexec": {
      "startup": false,
      "wait_interval": 0
     },
     "base_uri": "https://localhost:8080/",
     "height": 60498
    },
    "colab_type": "code",
    "executionInfo": {
     "elapsed": 36124,
     "status": "ok",
     "timestamp": 1526634051359,
     "user": {
      "displayName": "Miguel Ramalho",
      "photoUrl": "//lh6.googleusercontent.com/-jjJPjyHB8Us/AAAAAAAAAAI/AAAAAAAAIgA/iRzSPgPaB_o/s50-c-k-no/photo.jpg",
      "userId": "103480353348288276211"
     },
     "user_tz": -60
    },
    "id": "cgOHsp35YMgs",
    "outputId": "1bb9b45c-1aeb-45cf-feeb-f78b11a41e84"
   },
   "outputs": [
    {
     "name": "stdout",
     "output_type": "stream",
     "text": [
      "Num Results: 96\n"
     ]
    },
    {
     "data": {
      "text/html": [
       "<h2 style='text-align:center'>Iteration 1</h2>"
      ]
     },
     "metadata": {
      "tags": []
     },
     "output_type": "display_data"
    },
    {
     "data": {
      "text/html": [
       "<table style='font-size:16px;margin-left:auto;margin-right:auto;text-align=center'><tr><th>Hidden Layers</th><th>Training Fraction</th> <th>Number of Steps</th></tr><tr><th>[10]</th><th>80%</th><th>100</th></tr></table>"
      ]
     },
     "metadata": {
      "tags": []
     },
     "output_type": "display_data"
    },
    {
     "data": {
      "text/html": [
       "<h4>Confusion Matrix:</h4>"
      ]
     },
     "metadata": {
      "tags": []
     },
     "output_type": "display_data"
    },
    {
     "data": {
      "text/html": [
       "<br/>"
      ]
     },
     "metadata": {
      "tags": []
     },
     "output_type": "display_data"
    },
    {
     "name": "stdout",
     "output_type": "stream",
     "text": [
      "[[ 57  78   0   0   0   0   0   0   0   0]\n",
      " [  0 213   0   0   0   0  12   0   0   0]\n",
      " [  0 109   0   0   0   0   0   0   0   0]\n",
      " [  0  93   0   0   0   0   2   0   0   0]\n",
      " [  0  23   0   0   0   0   0   0   0   0]\n",
      " [  0  54   0   0   0   0   0   0   0   0]\n",
      " [  0   2   0   0   0   0 694   0   0   0]\n",
      " [  4  24   0   0   0   0  34   0   0   0]\n",
      " [  0  14   0   0   0   0   0   0   0   0]\n",
      " [  0  15   0   0   0   0  15   0   0   0]]\n"
     ]
    },
    {
     "data": {
      "text/html": [
       "<table style='font-size:16px;margin-left:auto;margin-right:auto;'><tr><th>Species</th><th>Accuracy</th> <th>Precision</th> <th>Recall</th> <th>F1-score</th></tr><tr><td>0</td><td>94.32%</td> <td>93.44%</td> <td>42.22%</td> <td>58.16%</td></tr><tr><td>1</td><td>70.62%</td> <td>34.08%</td> <td>94.67%</td> <td>50.12%</td></tr><tr><td>2</td><td>92.45%</td> <td>nan%</td> <td>0.00%</td> <td>nan%</td></tr><tr><td>3</td><td>93.42%</td> <td>nan%</td> <td>0.00%</td> <td>nan%</td></tr><tr><td>4</td><td>98.41%</td> <td>nan%</td> <td>0.00%</td> <td>nan%</td></tr><tr><td>5</td><td>96.26%</td> <td>nan%</td> <td>0.00%</td> <td>nan%</td></tr><tr><td>6</td><td>95.50%</td> <td>91.68%</td> <td>99.71%</td> <td>95.53%</td></tr><tr><td>7</td><td>95.70%</td> <td>nan%</td> <td>0.00%</td> <td>nan%</td></tr><tr><td>8</td><td>99.03%</td> <td>nan%</td> <td>0.00%</td> <td>nan%</td></tr><tr><td>9</td><td>97.92%</td> <td>nan%</td> <td>0.00%</td> <td>nan%</td></tr><tr><th>Average</th><th>93.36%</th> <th>73.07%</th> <th>23.66%</th> <th>67.94%</th></tr></table>"
      ]
     },
     "metadata": {
      "tags": []
     },
     "output_type": "display_data"
    },
    {
     "data": {
      "text/html": [
       "<hr>"
      ]
     },
     "metadata": {
      "tags": []
     },
     "output_type": "display_data"
    },
    {
     "data": {
      "text/html": [
       "<h2 style='text-align:center'>Iteration 2</h2>"
      ]
     },
     "metadata": {
      "tags": []
     },
     "output_type": "display_data"
    },
    {
     "data": {
      "text/html": [
       "<table style='font-size:16px;margin-left:auto;margin-right:auto;text-align=center'><tr><th>Hidden Layers</th><th>Training Fraction</th> <th>Number of Steps</th></tr><tr><th>[10]</th><th>50%</th><th>100</th></tr></table>"
      ]
     },
     "metadata": {
      "tags": []
     },
     "output_type": "display_data"
    },
    {
     "data": {
      "text/html": [
       "<h4>Confusion Matrix:</h4>"
      ]
     },
     "metadata": {
      "tags": []
     },
     "output_type": "display_data"
    },
    {
     "data": {
      "text/html": [
       "<br/>"
      ]
     },
     "metadata": {
      "tags": []
     },
     "output_type": "display_data"
    },
    {
     "name": "stdout",
     "output_type": "stream",
     "text": [
      "[[ 312    7    0    0    0    0   17    0    0    0]\n",
      " [   0  184    0    0    0    0  377    0    0    0]\n",
      " [ 226    5    0    0    0    0   40    0    0    0]\n",
      " [   1   83    0    8    0    0  144    0    0    0]\n",
      " [   0   50    0    1    0    0    6    0    0    0]\n",
      " [   5  117    0    0    0    0   13    0    0    0]\n",
      " [   0    4    0    0    0    0 1735    0    0    0]\n",
      " [  48    6    0    0    0    0  101    0    0    0]\n",
      " [   1   31    0    0    0    0    2    0    0    0]\n",
      " [   1    9    0    0    0    0   64    0    0    0]]\n"
     ]
    },
    {
     "data": {
      "text/html": [
       "<table style='font-size:16px;margin-left:auto;margin-right:auto;'><tr><th>Species</th><th>Accuracy</th> <th>Precision</th> <th>Recall</th> <th>F1-score</th></tr><tr><td>0</td><td>91.50%</td> <td>52.53%</td> <td>92.86%</td> <td>67.10%</td></tr><tr><td>1</td><td>80.85%</td> <td>37.10%</td> <td>32.80%</td> <td>34.82%</td></tr><tr><td>2</td><td>92.47%</td> <td>nan%</td> <td>0.00%</td> <td>nan%</td></tr><tr><td>3</td><td>93.64%</td> <td>88.89%</td> <td>3.39%</td> <td>6.53%</td></tr><tr><td>4</td><td>98.42%</td> <td>nan%</td> <td>0.00%</td> <td>nan%</td></tr><tr><td>5</td><td>96.25%</td> <td>nan%</td> <td>0.00%</td> <td>nan%</td></tr><tr><td>6</td><td>78.65%</td> <td>69.43%</td> <td>99.77%</td> <td>81.88%</td></tr><tr><td>7</td><td>95.69%</td> <td>nan%</td> <td>0.00%</td> <td>nan%</td></tr><tr><td>8</td><td>99.06%</td> <td>nan%</td> <td>0.00%</td> <td>nan%</td></tr><tr><td>9</td><td>97.94%</td> <td>nan%</td> <td>0.00%</td> <td>nan%</td></tr><tr><th>Average</th><th>92.45%</th> <th>61.98%</th> <th>22.88%</th> <th>47.58%</th></tr></table>"
      ]
     },
     "metadata": {
      "tags": []
     },
     "output_type": "display_data"
    },
    {
     "data": {
      "text/html": [
       "<hr>"
      ]
     },
     "metadata": {
      "tags": []
     },
     "output_type": "display_data"
    },
    {
     "data": {
      "text/html": [
       "<h2 style='text-align:center'>Iteration 3</h2>"
      ]
     },
     "metadata": {
      "tags": []
     },
     "output_type": "display_data"
    },
    {
     "data": {
      "text/html": [
       "<table style='font-size:16px;margin-left:auto;margin-right:auto;text-align=center'><tr><th>Hidden Layers</th><th>Training Fraction</th> <th>Number of Steps</th></tr><tr><th>[10]</th><th>80%</th><th>200</th></tr></table>"
      ]
     },
     "metadata": {
      "tags": []
     },
     "output_type": "display_data"
    },
    {
     "data": {
      "text/html": [
       "<h4>Confusion Matrix:</h4>"
      ]
     },
     "metadata": {
      "tags": []
     },
     "output_type": "display_data"
    },
    {
     "data": {
      "text/html": [
       "<br/>"
      ]
     },
     "metadata": {
      "tags": []
     },
     "output_type": "display_data"
    },
    {
     "name": "stdout",
     "output_type": "stream",
     "text": [
      "[[121  11   3   0   0   0   0   0   0   0]\n",
      " [  1 215   0   0   0   0   9   0   0   0]\n",
      " [ 28  18  62   0   0   0   1   0   0   0]\n",
      " [  0  18   0  74   0   0   3   0   0   0]\n",
      " [  0  20   0   3   0   0   0   0   0   0]\n",
      " [  1  53   0   0   0   0   0   0   0   0]\n",
      " [  0   4   0   1   0   0 691   0   0   0]\n",
      " [ 10  15   8   0   0   0  29   0   0   0]\n",
      " [  2  12   0   0   0   0   0   0   0   0]\n",
      " [  1  13   0   0   0   0  16   0   0   0]]\n"
     ]
    },
    {
     "data": {
      "text/html": [
       "<table style='font-size:16px;margin-left:auto;margin-right:auto;'><tr><th>Species</th><th>Accuracy</th> <th>Precision</th> <th>Recall</th> <th>F1-score</th></tr><tr><td>0</td><td>96.05%</td> <td>73.78%</td> <td>89.63%</td> <td>80.94%</td></tr><tr><td>1</td><td>87.94%</td> <td>56.73%</td> <td>95.56%</td> <td>71.19%</td></tr><tr><td>2</td><td>95.98%</td> <td>84.93%</td> <td>56.88%</td> <td>68.13%</td></tr><tr><td>3</td><td>98.27%</td> <td>94.87%</td> <td>77.89%</td> <td>85.55%</td></tr><tr><td>4</td><td>98.41%</td> <td>nan%</td> <td>0.00%</td> <td>nan%</td></tr><tr><td>5</td><td>96.26%</td> <td>nan%</td> <td>0.00%</td> <td>nan%</td></tr><tr><td>6</td><td>95.63%</td> <td>92.26%</td> <td>99.28%</td> <td>95.64%</td></tr><tr><td>7</td><td>95.70%</td> <td>nan%</td> <td>0.00%</td> <td>nan%</td></tr><tr><td>8</td><td>99.03%</td> <td>nan%</td> <td>0.00%</td> <td>nan%</td></tr><tr><td>9</td><td>97.92%</td> <td>nan%</td> <td>0.00%</td> <td>nan%</td></tr><tr><th>Average</th><th>96.12%</th> <th>80.51%</th> <th>41.92%</th> <th>80.29%</th></tr></table>"
      ]
     },
     "metadata": {
      "tags": []
     },
     "output_type": "display_data"
    },
    {
     "data": {
      "text/html": [
       "<hr>"
      ]
     },
     "metadata": {
      "tags": []
     },
     "output_type": "display_data"
    },
    {
     "data": {
      "text/html": [
       "<h2 style='text-align:center'>Iteration 4</h2>"
      ]
     },
     "metadata": {
      "tags": []
     },
     "output_type": "display_data"
    },
    {
     "data": {
      "text/html": [
       "<table style='font-size:16px;margin-left:auto;margin-right:auto;text-align=center'><tr><th>Hidden Layers</th><th>Training Fraction</th> <th>Number of Steps</th></tr><tr><th>[10]</th><th>50%</th><th>200</th></tr></table>"
      ]
     },
     "metadata": {
      "tags": []
     },
     "output_type": "display_data"
    },
    {
     "data": {
      "text/html": [
       "<h4>Confusion Matrix:</h4>"
      ]
     },
     "metadata": {
      "tags": []
     },
     "output_type": "display_data"
    },
    {
     "data": {
      "text/html": [
       "<br/>"
      ]
     },
     "metadata": {
      "tags": []
     },
     "output_type": "display_data"
    },
    {
     "name": "stdout",
     "output_type": "stream",
     "text": [
      "[[ 298   38    0    0    0    0    0    0    0    0]\n",
      " [   0  548    0    0    0    0   13    0    0    0]\n",
      " [ 111  160    0    0    0    0    0    0    0    0]\n",
      " [  23  185    0   28    0    0    0    0    0    0]\n",
      " [   6   49    0    2    0    0    0    0    0    0]\n",
      " [   2  133    0    0    0    0    0    0    0    0]\n",
      " [   0    1    0    0    0    0 1738    0    0    0]\n",
      " [  47   39    0    0    0    0   69    0    0    0]\n",
      " [   4   30    0    0    0    0    0    0    0    0]\n",
      " [   1   47    0    0    0    0   26    0    0    0]]\n"
     ]
    },
    {
     "data": {
      "text/html": [
       "<table style='font-size:16px;margin-left:auto;margin-right:auto;'><tr><th>Species</th><th>Accuracy</th> <th>Precision</th> <th>Recall</th> <th>F1-score</th></tr><tr><td>0</td><td>93.55%</td> <td>60.57%</td> <td>88.69%</td> <td>71.98%</td></tr><tr><td>1</td><td>80.68%</td> <td>44.55%</td> <td>97.68%</td> <td>61.19%</td></tr><tr><td>2</td><td>92.47%</td> <td>nan%</td> <td>0.00%</td> <td>nan%</td></tr><tr><td>3</td><td>94.16%</td> <td>93.33%</td> <td>11.86%</td> <td>21.05%</td></tr><tr><td>4</td><td>98.42%</td> <td>nan%</td> <td>0.00%</td> <td>nan%</td></tr><tr><td>5</td><td>96.25%</td> <td>nan%</td> <td>0.00%</td> <td>nan%</td></tr><tr><td>6</td><td>96.97%</td> <td>94.15%</td> <td>99.94%</td> <td>96.96%</td></tr><tr><td>7</td><td>95.69%</td> <td>nan%</td> <td>0.00%</td> <td>nan%</td></tr><tr><td>8</td><td>99.06%</td> <td>nan%</td> <td>0.00%</td> <td>nan%</td></tr><tr><td>9</td><td>97.94%</td> <td>nan%</td> <td>0.00%</td> <td>nan%</td></tr><tr><th>Average</th><th>94.52%</th> <th>73.15%</th> <th>29.82%</th> <th>62.80%</th></tr></table>"
      ]
     },
     "metadata": {
      "tags": []
     },
     "output_type": "display_data"
    },
    {
     "data": {
      "text/html": [
       "<hr>"
      ]
     },
     "metadata": {
      "tags": []
     },
     "output_type": "display_data"
    },
    {
     "data": {
      "text/html": [
       "<h2 style='text-align:center'>Iteration 5</h2>"
      ]
     },
     "metadata": {
      "tags": []
     },
     "output_type": "display_data"
    },
    {
     "data": {
      "text/html": [
       "<table style='font-size:16px;margin-left:auto;margin-right:auto;text-align=center'><tr><th>Hidden Layers</th><th>Training Fraction</th> <th>Number of Steps</th></tr><tr><th>[10]</th><th>80%</th><th>500</th></tr></table>"
      ]
     },
     "metadata": {
      "tags": []
     },
     "output_type": "display_data"
    },
    {
     "data": {
      "text/html": [
       "<h4>Confusion Matrix:</h4>"
      ]
     },
     "metadata": {
      "tags": []
     },
     "output_type": "display_data"
    },
    {
     "data": {
      "text/html": [
       "<br/>"
      ]
     },
     "metadata": {
      "tags": []
     },
     "output_type": "display_data"
    },
    {
     "name": "stdout",
     "output_type": "stream",
     "text": [
      "[[127   4   4   0   0   0   0   0   0   0]\n",
      " [  1 222   0   0   0   0   2   0   0   0]\n",
      " [ 35   3  71   0   0   0   0   0   0   0]\n",
      " [  3   1   0  91   0   0   0   0   0   0]\n",
      " [  1  16   0   6   0   0   0   0   0   0]\n",
      " [  4  48   1   0   0   0   0   1   0   0]\n",
      " [  1   1   0   1   0   0 693   0   0   0]\n",
      " [ 11   1  23   0   0   0  20   7   0   0]\n",
      " [  9   4   0   1   0   0   0   0   0   0]\n",
      " [  0   8   4   3   0   0  14   1   0   0]]\n"
     ]
    },
    {
     "data": {
      "text/html": [
       "<table style='font-size:16px;margin-left:auto;margin-right:auto;'><tr><th>Species</th><th>Accuracy</th> <th>Precision</th> <th>Recall</th> <th>F1-score</th></tr><tr><td>0</td><td>94.94%</td> <td>66.15%</td> <td>94.07%</td> <td>77.68%</td></tr><tr><td>1</td><td>93.83%</td> <td>72.08%</td> <td>98.67%</td> <td>83.30%</td></tr><tr><td>2</td><td>95.15%</td> <td>68.93%</td> <td>65.14%</td> <td>66.98%</td></tr><tr><td>3</td><td>98.96%</td> <td>89.22%</td> <td>95.79%</td> <td>92.39%</td></tr><tr><td>4</td><td>98.41%</td> <td>nan%</td> <td>0.00%</td> <td>nan%</td></tr><tr><td>5</td><td>96.26%</td> <td>nan%</td> <td>0.00%</td> <td>nan%</td></tr><tr><td>6</td><td>97.30%</td> <td>95.06%</td> <td>99.57%</td> <td>97.26%</td></tr><tr><td>7</td><td>96.05%</td> <td>77.78%</td> <td>11.29%</td> <td>19.72%</td></tr><tr><td>8</td><td>99.03%</td> <td>nan%</td> <td>0.00%</td> <td>nan%</td></tr><tr><td>9</td><td>97.92%</td> <td>nan%</td> <td>0.00%</td> <td>nan%</td></tr><tr><th>Average</th><th>96.78%</th> <th>78.20%</th> <th>46.45%</th> <th>72.89%</th></tr></table>"
      ]
     },
     "metadata": {
      "tags": []
     },
     "output_type": "display_data"
    },
    {
     "data": {
      "text/html": [
       "<hr>"
      ]
     },
     "metadata": {
      "tags": []
     },
     "output_type": "display_data"
    },
    {
     "data": {
      "text/html": [
       "<h2 style='text-align:center'>Iteration 6</h2>"
      ]
     },
     "metadata": {
      "tags": []
     },
     "output_type": "display_data"
    },
    {
     "data": {
      "text/html": [
       "<table style='font-size:16px;margin-left:auto;margin-right:auto;text-align=center'><tr><th>Hidden Layers</th><th>Training Fraction</th> <th>Number of Steps</th></tr><tr><th>[10]</th><th>50%</th><th>500</th></tr></table>"
      ]
     },
     "metadata": {
      "tags": []
     },
     "output_type": "display_data"
    },
    {
     "data": {
      "text/html": [
       "<h4>Confusion Matrix:</h4>"
      ]
     },
     "metadata": {
      "tags": []
     },
     "output_type": "display_data"
    },
    {
     "data": {
      "text/html": [
       "<br/>"
      ]
     },
     "metadata": {
      "tags": []
     },
     "output_type": "display_data"
    },
    {
     "name": "stdout",
     "output_type": "stream",
     "text": [
      "[[ 320    2   12    2    0    0    0    0    0    0]\n",
      " [   1  551    0    3    0    0    6    0    0    0]\n",
      " [ 108   23  140    0    0    0    0    0    0    0]\n",
      " [  13   12    0  211    0    0    0    0    0    0]\n",
      " [   2   40    0   15    0    0    0    0    0    0]\n",
      " [   6  121    0    0    0    0    1    7    0    0]\n",
      " [   0    0    1    2    0    0 1736    0    0    0]\n",
      " [  24    7   31    0    0    0   41   52    0    0]\n",
      " [  25    9    0    0    0    0    0    0    0    0]\n",
      " [   0   40    4    4    0    0   26    0    0    0]]\n"
     ]
    },
    {
     "data": {
      "text/html": [
       "<table style='font-size:16px;margin-left:auto;margin-right:auto;'><tr><th>Species</th><th>Accuracy</th> <th>Precision</th> <th>Recall</th> <th>F1-score</th></tr><tr><td>0</td><td>94.58%</td> <td>64.13%</td> <td>95.24%</td> <td>76.65%</td></tr><tr><td>1</td><td>92.66%</td> <td>68.45%</td> <td>98.22%</td> <td>80.67%</td></tr><tr><td>2</td><td>95.03%</td> <td>74.47%</td> <td>51.66%</td> <td>61.00%</td></tr><tr><td>3</td><td>98.58%</td> <td>89.03%</td> <td>89.41%</td> <td>89.22%</td></tr><tr><td>4</td><td>98.42%</td> <td>nan%</td> <td>0.00%</td> <td>nan%</td></tr><tr><td>5</td><td>96.25%</td> <td>nan%</td> <td>0.00%</td> <td>nan%</td></tr><tr><td>6</td><td>97.86%</td> <td>95.91%</td> <td>99.83%</td> <td>97.83%</td></tr><tr><td>7</td><td>96.94%</td> <td>88.14%</td> <td>33.55%</td> <td>48.60%</td></tr><tr><td>8</td><td>99.06%</td> <td>nan%</td> <td>0.00%</td> <td>nan%</td></tr><tr><td>9</td><td>97.94%</td> <td>nan%</td> <td>0.00%</td> <td>nan%</td></tr><tr><th>Average</th><th>96.73%</th> <th>80.02%</th> <th>46.79%</th> <th>75.66%</th></tr></table>"
      ]
     },
     "metadata": {
      "tags": []
     },
     "output_type": "display_data"
    },
    {
     "data": {
      "text/html": [
       "<hr>"
      ]
     },
     "metadata": {
      "tags": []
     },
     "output_type": "display_data"
    },
    {
     "data": {
      "text/html": [
       "<h2 style='text-align:center'>Iteration 7</h2>"
      ]
     },
     "metadata": {
      "tags": []
     },
     "output_type": "display_data"
    },
    {
     "data": {
      "text/html": [
       "<table style='font-size:16px;margin-left:auto;margin-right:auto;text-align=center'><tr><th>Hidden Layers</th><th>Training Fraction</th> <th>Number of Steps</th></tr><tr><th>[10]</th><th>80%</th><th>1000</th></tr></table>"
      ]
     },
     "metadata": {
      "tags": []
     },
     "output_type": "display_data"
    },
    {
     "data": {
      "text/html": [
       "<h4>Confusion Matrix:</h4>"
      ]
     },
     "metadata": {
      "tags": []
     },
     "output_type": "display_data"
    },
    {
     "data": {
      "text/html": [
       "<br/>"
      ]
     },
     "metadata": {
      "tags": []
     },
     "output_type": "display_data"
    },
    {
     "name": "stdout",
     "output_type": "stream",
     "text": [
      "[[120   0  15   0   0   0   0   0   0   0]\n",
      " [  0 222   0   2   0   0   1   0   0   0]\n",
      " [  4   1 104   0   0   0   0   0   0   0]\n",
      " [  1   3   0  91   0   0   0   0   0   0]\n",
      " [  4  11   0   8   0   0   0   0   0   0]\n",
      " [  0  54   0   0   0   0   0   0   0   0]\n",
      " [  0   1   0   1   0   0 694   0   0   0]\n",
      " [  7   0  17   0   0   0  17  21   0   0]\n",
      " [ 10   4   0   0   0   0   0   0   0   0]\n",
      " [  5   6   6   2   0   0   7   4   0   0]]\n"
     ]
    },
    {
     "data": {
      "text/html": [
       "<table style='font-size:16px;margin-left:auto;margin-right:auto;'><tr><th>Species</th><th>Accuracy</th> <th>Precision</th> <th>Recall</th> <th>F1-score</th></tr><tr><td>0</td><td>96.81%</td> <td>79.47%</td> <td>88.89%</td> <td>83.92%</td></tr><tr><td>1</td><td>94.25%</td> <td>73.51%</td> <td>98.67%</td> <td>84.25%</td></tr><tr><td>2</td><td>97.02%</td> <td>73.24%</td> <td>95.41%</td> <td>82.87%</td></tr><tr><td>3</td><td>98.82%</td> <td>87.50%</td> <td>95.79%</td> <td>91.46%</td></tr><tr><td>4</td><td>98.41%</td> <td>nan%</td> <td>0.00%</td> <td>nan%</td></tr><tr><td>5</td><td>96.26%</td> <td>nan%</td> <td>0.00%</td> <td>nan%</td></tr><tr><td>6</td><td>98.13%</td> <td>96.52%</td> <td>99.71%</td> <td>98.09%</td></tr><tr><td>7</td><td>96.88%</td> <td>84.00%</td> <td>33.87%</td> <td>48.28%</td></tr><tr><td>8</td><td>99.03%</td> <td>nan%</td> <td>0.00%</td> <td>nan%</td></tr><tr><td>9</td><td>97.92%</td> <td>nan%</td> <td>0.00%</td> <td>nan%</td></tr><tr><th>Average</th><th>97.35%</th> <th>82.37%</th> <th>51.23%</th> <th>81.48%</th></tr></table>"
      ]
     },
     "metadata": {
      "tags": []
     },
     "output_type": "display_data"
    },
    {
     "data": {
      "text/html": [
       "<hr>"
      ]
     },
     "metadata": {
      "tags": []
     },
     "output_type": "display_data"
    },
    {
     "data": {
      "text/html": [
       "<h2 style='text-align:center'>Iteration 8</h2>"
      ]
     },
     "metadata": {
      "tags": []
     },
     "output_type": "display_data"
    },
    {
     "data": {
      "text/html": [
       "<table style='font-size:16px;margin-left:auto;margin-right:auto;text-align=center'><tr><th>Hidden Layers</th><th>Training Fraction</th> <th>Number of Steps</th></tr><tr><th>[10]</th><th>50%</th><th>1000</th></tr></table>"
      ]
     },
     "metadata": {
      "tags": []
     },
     "output_type": "display_data"
    },
    {
     "data": {
      "text/html": [
       "<h4>Confusion Matrix:</h4>"
      ]
     },
     "metadata": {
      "tags": []
     },
     "output_type": "display_data"
    },
    {
     "data": {
      "text/html": [
       "<br/>"
      ]
     },
     "metadata": {
      "tags": []
     },
     "output_type": "display_data"
    },
    {
     "name": "stdout",
     "output_type": "stream",
     "text": [
      "[[ 316    4   14    2    0    0    0    0    0    0]\n",
      " [   0  543    0    7    0    4    7    0    0    0]\n",
      " [   7    1  262    0    0    0    0    1    0    0]\n",
      " [   5    4    0  224    0    3    0    0    0    0]\n",
      " [   1   41    0   14    0    1    0    0    0    0]\n",
      " [   4   21    0    0    0  108    1    1    0    0]\n",
      " [   0    4    0    0    0    0 1735    0    0    0]\n",
      " [  28   11   37    0    0    0   24   55    0    0]\n",
      " [   2   27    2    0    0    3    0    0    0    0]\n",
      " [   1   26    7    5    0    0   29    6    0    0]]\n"
     ]
    },
    {
     "data": {
      "text/html": [
       "<table style='font-size:16px;margin-left:auto;margin-right:auto;'><tr><th>Species</th><th>Accuracy</th> <th>Precision</th> <th>Recall</th> <th>F1-score</th></tr><tr><td>0</td><td>98.11%</td> <td>86.81%</td> <td>94.05%</td> <td>90.29%</td></tr><tr><td>1</td><td>95.64%</td> <td>79.62%</td> <td>96.79%</td> <td>87.37%</td></tr><tr><td>2</td><td>98.08%</td> <td>81.37%</td> <td>96.68%</td> <td>88.36%</td></tr><tr><td>3</td><td>98.89%</td> <td>88.89%</td> <td>94.92%</td> <td>91.80%</td></tr><tr><td>4</td><td>98.42%</td> <td>nan%</td> <td>0.00%</td> <td>nan%</td></tr><tr><td>5</td><td>98.94%</td> <td>90.76%</td> <td>80.00%</td> <td>85.04%</td></tr><tr><td>6</td><td>98.19%</td> <td>96.60%</td> <td>99.77%</td> <td>98.16%</td></tr><tr><td>7</td><td>97.00%</td> <td>87.30%</td> <td>35.48%</td> <td>50.46%</td></tr><tr><td>8</td><td>99.06%</td> <td>nan%</td> <td>0.00%</td> <td>nan%</td></tr><tr><td>9</td><td>97.94%</td> <td>nan%</td> <td>0.00%</td> <td>nan%</td></tr><tr><th>Average</th><th>98.03%</th> <th>87.34%</th> <th>59.77%</th> <th>84.50%</th></tr></table>"
      ]
     },
     "metadata": {
      "tags": []
     },
     "output_type": "display_data"
    },
    {
     "data": {
      "text/html": [
       "<hr>"
      ]
     },
     "metadata": {
      "tags": []
     },
     "output_type": "display_data"
    },
    {
     "data": {
      "text/html": [
       "<h2 style='text-align:center'>Iteration 9</h2>"
      ]
     },
     "metadata": {
      "tags": []
     },
     "output_type": "display_data"
    },
    {
     "data": {
      "text/html": [
       "<table style='font-size:16px;margin-left:auto;margin-right:auto;text-align=center'><tr><th>Hidden Layers</th><th>Training Fraction</th> <th>Number of Steps</th></tr><tr><th>[10]</th><th>80%</th><th>1500</th></tr></table>"
      ]
     },
     "metadata": {
      "tags": []
     },
     "output_type": "display_data"
    },
    {
     "data": {
      "text/html": [
       "<h4>Confusion Matrix:</h4>"
      ]
     },
     "metadata": {
      "tags": []
     },
     "output_type": "display_data"
    },
    {
     "data": {
      "text/html": [
       "<br/>"
      ]
     },
     "metadata": {
      "tags": []
     },
     "output_type": "display_data"
    },
    {
     "name": "stdout",
     "output_type": "stream",
     "text": [
      "[[131   1   3   0   0   0   0   0   0   0]\n",
      " [  0 225   0   0   0   0   0   0   0   0]\n",
      " [  1   1 107   0   0   0   0   0   0   0]\n",
      " [  3   5   0  87   0   0   0   0   0   0]\n",
      " [  1  17   0   5   0   0   0   0   0   0]\n",
      " [  0   9   0   0   0  45   0   0   0   0]\n",
      " [  0   0   0   0   0   0 694   2   0   0]\n",
      " [  8   6  14   0   0   0  10  24   0   0]\n",
      " [  1   4   8   0   0   1   0   0   0   0]\n",
      " [  0  13   0   2   0   0   9   3   0   3]]\n"
     ]
    },
    {
     "data": {
      "text/html": [
       "<table style='font-size:16px;margin-left:auto;margin-right:auto;'><tr><th>Species</th><th>Accuracy</th> <th>Precision</th> <th>Recall</th> <th>F1-score</th></tr><tr><td>0</td><td>98.75%</td> <td>90.34%</td> <td>97.04%</td> <td>93.57%</td></tr><tr><td>1</td><td>96.12%</td> <td>80.07%</td> <td>100.00%</td> <td>88.93%</td></tr><tr><td>2</td><td>98.13%</td> <td>81.06%</td> <td>98.17%</td> <td>88.80%</td></tr><tr><td>3</td><td>98.96%</td> <td>92.55%</td> <td>91.58%</td> <td>92.06%</td></tr><tr><td>4</td><td>98.41%</td> <td>nan%</td> <td>0.00%</td> <td>nan%</td></tr><tr><td>5</td><td>99.31%</td> <td>97.83%</td> <td>83.33%</td> <td>90.00%</td></tr><tr><td>6</td><td>98.54%</td> <td>97.34%</td> <td>99.71%</td> <td>98.51%</td></tr><tr><td>7</td><td>97.02%</td> <td>82.76%</td> <td>38.71%</td> <td>52.75%</td></tr><tr><td>8</td><td>99.03%</td> <td>nan%</td> <td>0.00%</td> <td>nan%</td></tr><tr><td>9</td><td>98.13%</td> <td>100.00%</td> <td>10.00%</td> <td>18.18%</td></tr><tr><th>Average</th><th>98.24%</th> <th>90.24%</th> <th>61.85%</th> <th>77.85%</th></tr></table>"
      ]
     },
     "metadata": {
      "tags": []
     },
     "output_type": "display_data"
    },
    {
     "data": {
      "text/html": [
       "<hr>"
      ]
     },
     "metadata": {
      "tags": []
     },
     "output_type": "display_data"
    },
    {
     "data": {
      "text/html": [
       "<h2 style='text-align:center'>Iteration 10</h2>"
      ]
     },
     "metadata": {
      "tags": []
     },
     "output_type": "display_data"
    },
    {
     "data": {
      "text/html": [
       "<table style='font-size:16px;margin-left:auto;margin-right:auto;text-align=center'><tr><th>Hidden Layers</th><th>Training Fraction</th> <th>Number of Steps</th></tr><tr><th>[10]</th><th>50%</th><th>1500</th></tr></table>"
      ]
     },
     "metadata": {
      "tags": []
     },
     "output_type": "display_data"
    },
    {
     "data": {
      "text/html": [
       "<h4>Confusion Matrix:</h4>"
      ]
     },
     "metadata": {
      "tags": []
     },
     "output_type": "display_data"
    },
    {
     "data": {
      "text/html": [
       "<br/>"
      ]
     },
     "metadata": {
      "tags": []
     },
     "output_type": "display_data"
    },
    {
     "name": "stdout",
     "output_type": "stream",
     "text": [
      "[[ 309    6   19    1    0    1    0    0    0    0]\n",
      " [   0  552    0    4    0    2    3    0    0    0]\n",
      " [  13    0  257    0    0    0    0    1    0    0]\n",
      " [   2    1    0  228    0    5    0    0    0    0]\n",
      " [   3   35    0   16    0    3    0    0    0    0]\n",
      " [   2   20    0    0    0  112    1    0    0    0]\n",
      " [   0    1    0    0    0    0 1738    0    0    0]\n",
      " [  26    4   44    0    0    0   31   50    0    0]\n",
      " [  10    3   15    2    0    4    0    0    0    0]\n",
      " [   1    8    0    8    0    0   33   20    0    4]]\n"
     ]
    },
    {
     "data": {
      "text/html": [
       "<table style='font-size:16px;margin-left:auto;margin-right:auto;'><tr><th>Species</th><th>Accuracy</th> <th>Precision</th> <th>Recall</th> <th>F1-score</th></tr><tr><td>0</td><td>97.67%</td> <td>84.43%</td> <td>91.96%</td> <td>88.03%</td></tr><tr><td>1</td><td>97.58%</td> <td>87.62%</td> <td>98.40%</td> <td>92.70%</td></tr><tr><td>2</td><td>97.44%</td> <td>76.72%</td> <td>94.83%</td> <td>84.82%</td></tr><tr><td>3</td><td>98.92%</td> <td>88.03%</td> <td>96.61%</td> <td>92.12%</td></tr><tr><td>4</td><td>98.42%</td> <td>nan%</td> <td>0.00%</td> <td>nan%</td></tr><tr><td>5</td><td>98.94%</td> <td>88.19%</td> <td>82.96%</td> <td>85.50%</td></tr><tr><td>6</td><td>98.08%</td> <td>96.23%</td> <td>99.94%</td> <td>98.05%</td></tr><tr><td>7</td><td>96.50%</td> <td>70.42%</td> <td>32.26%</td> <td>44.25%</td></tr><tr><td>8</td><td>99.06%</td> <td>nan%</td> <td>0.00%</td> <td>nan%</td></tr><tr><td>9</td><td>98.05%</td> <td>100.00%</td> <td>5.41%</td> <td>10.26%</td></tr><tr><th>Average</th><th>98.07%</th> <th>86.45%</th> <th>60.24%</th> <th>74.47%</th></tr></table>"
      ]
     },
     "metadata": {
      "tags": []
     },
     "output_type": "display_data"
    },
    {
     "data": {
      "text/html": [
       "<hr>"
      ]
     },
     "metadata": {
      "tags": []
     },
     "output_type": "display_data"
    },
    {
     "data": {
      "text/html": [
       "<h2 style='text-align:center'>Iteration 11</h2>"
      ]
     },
     "metadata": {
      "tags": []
     },
     "output_type": "display_data"
    },
    {
     "data": {
      "text/html": [
       "<table style='font-size:16px;margin-left:auto;margin-right:auto;text-align=center'><tr><th>Hidden Layers</th><th>Training Fraction</th> <th>Number of Steps</th></tr><tr><th>[10]</th><th>80%</th><th>2000</th></tr></table>"
      ]
     },
     "metadata": {
      "tags": []
     },
     "output_type": "display_data"
    },
    {
     "data": {
      "text/html": [
       "<h4>Confusion Matrix:</h4>"
      ]
     },
     "metadata": {
      "tags": []
     },
     "output_type": "display_data"
    },
    {
     "data": {
      "text/html": [
       "<br/>"
      ]
     },
     "metadata": {
      "tags": []
     },
     "output_type": "display_data"
    },
    {
     "name": "stdout",
     "output_type": "stream",
     "text": [
      "[[130   2   3   0   0   0   0   0   0   0]\n",
      " [  1 219   0   1   0   1   3   0   0   0]\n",
      " [  4   0 105   0   0   0   0   0   0   0]\n",
      " [  2   4   0  88   0   1   0   0   0   0]\n",
      " [  7  10   0   6   0   0   0   0   0   0]\n",
      " [  1   1   0   0   0  50   0   2   0   0]\n",
      " [  0   1   1   1   0   0 692   1   0   0]\n",
      " [ 19   1  13   0   0   0   8  21   0   0]\n",
      " [ 11   1   1   0   0   0   0   0   0   1]\n",
      " [  2   3   2   3   0   0   1   6   0  13]]\n"
     ]
    },
    {
     "data": {
      "text/html": [
       "<table style='font-size:16px;margin-left:auto;margin-right:auto;'><tr><th>Species</th><th>Accuracy</th> <th>Precision</th> <th>Recall</th> <th>F1-score</th></tr><tr><td>0</td><td>96.40%</td> <td>73.45%</td> <td>96.30%</td> <td>83.33%</td></tr><tr><td>1</td><td>97.99%</td> <td>90.50%</td> <td>97.33%</td> <td>93.79%</td></tr><tr><td>2</td><td>98.34%</td> <td>84.00%</td> <td>96.33%</td> <td>89.74%</td></tr><tr><td>3</td><td>98.75%</td> <td>88.89%</td> <td>92.63%</td> <td>90.72%</td></tr><tr><td>4</td><td>98.41%</td> <td>nan%</td> <td>0.00%</td> <td>nan%</td></tr><tr><td>5</td><td>99.58%</td> <td>96.15%</td> <td>92.59%</td> <td>94.34%</td></tr><tr><td>6</td><td>98.89%</td> <td>98.30%</td> <td>99.43%</td> <td>98.86%</td></tr><tr><td>7</td><td>96.53%</td> <td>70.00%</td> <td>33.87%</td> <td>45.65%</td></tr><tr><td>8</td><td>99.03%</td> <td>nan%</td> <td>0.00%</td> <td>nan%</td></tr><tr><td>9</td><td>98.75%</td> <td>92.86%</td> <td>43.33%</td> <td>59.09%</td></tr><tr><th>Average</th><th>98.27%</th> <th>86.77%</th> <th>65.18%</th> <th>81.94%</th></tr></table>"
      ]
     },
     "metadata": {
      "tags": []
     },
     "output_type": "display_data"
    },
    {
     "data": {
      "text/html": [
       "<hr>"
      ]
     },
     "metadata": {
      "tags": []
     },
     "output_type": "display_data"
    },
    {
     "data": {
      "text/html": [
       "<h2 style='text-align:center'>Iteration 12</h2>"
      ]
     },
     "metadata": {
      "tags": []
     },
     "output_type": "display_data"
    },
    {
     "data": {
      "text/html": [
       "<table style='font-size:16px;margin-left:auto;margin-right:auto;text-align=center'><tr><th>Hidden Layers</th><th>Training Fraction</th> <th>Number of Steps</th></tr><tr><th>[10]</th><th>50%</th><th>2000</th></tr></table>"
      ]
     },
     "metadata": {
      "tags": []
     },
     "output_type": "display_data"
    },
    {
     "data": {
      "text/html": [
       "<h4>Confusion Matrix:</h4>"
      ]
     },
     "metadata": {
      "tags": []
     },
     "output_type": "display_data"
    },
    {
     "data": {
      "text/html": [
       "<br/>"
      ]
     },
     "metadata": {
      "tags": []
     },
     "output_type": "display_data"
    },
    {
     "name": "stdout",
     "output_type": "stream",
     "text": [
      "[[ 316    3   16    1    0    0    0    0    0    0]\n",
      " [   0  551    0    2    0    7    1    0    0    0]\n",
      " [  16    1  252    0    0    0    0    2    0    0]\n",
      " [   1    3    0  228    0    4    0    0    0    0]\n",
      " [   1   39    0   16    0    1    0    0    0    0]\n",
      " [   0    7    0    2    0  125    0    1    0    0]\n",
      " [   0    2    1    1    0    0 1734    1    0    0]\n",
      " [  22    3   42    0    0    0   26   61    0    1]\n",
      " [  12    6   14    0    0    2    0    0    0    0]\n",
      " [   2   12    0   10    0    0   17   20    0   13]]\n"
     ]
    },
    {
     "data": {
      "text/html": [
       "<table style='font-size:16px;margin-left:auto;margin-right:auto;'><tr><th>Species</th><th>Accuracy</th> <th>Precision</th> <th>Recall</th> <th>F1-score</th></tr><tr><td>0</td><td>97.94%</td> <td>85.41%</td> <td>94.05%</td> <td>89.52%</td></tr><tr><td>1</td><td>97.61%</td> <td>87.88%</td> <td>98.22%</td> <td>92.76%</td></tr><tr><td>2</td><td>97.44%</td> <td>77.54%</td> <td>92.99%</td> <td>84.56%</td></tr><tr><td>3</td><td>98.89%</td> <td>87.69%</td> <td>96.61%</td> <td>91.94%</td></tr><tr><td>4</td><td>98.42%</td> <td>nan%</td> <td>0.00%</td> <td>nan%</td></tr><tr><td>5</td><td>99.33%</td> <td>89.93%</td> <td>92.59%</td> <td>91.24%</td></tr><tr><td>6</td><td>98.64%</td> <td>97.53%</td> <td>99.71%</td> <td>98.61%</td></tr><tr><td>7</td><td>96.72%</td> <td>71.76%</td> <td>39.35%</td> <td>50.83%</td></tr><tr><td>8</td><td>99.06%</td> <td>nan%</td> <td>0.00%</td> <td>nan%</td></tr><tr><td>9</td><td>98.28%</td> <td>92.86%</td> <td>17.57%</td> <td>29.55%</td></tr><tr><th>Average</th><th>98.23%</th> <th>86.32%</th> <th>63.11%</th> <th>78.63%</th></tr></table>"
      ]
     },
     "metadata": {
      "tags": []
     },
     "output_type": "display_data"
    },
    {
     "data": {
      "text/html": [
       "<hr>"
      ]
     },
     "metadata": {
      "tags": []
     },
     "output_type": "display_data"
    },
    {
     "data": {
      "text/html": [
       "<h2 style='text-align:center'>Iteration 13</h2>"
      ]
     },
     "metadata": {
      "tags": []
     },
     "output_type": "display_data"
    },
    {
     "data": {
      "text/html": [
       "<table style='font-size:16px;margin-left:auto;margin-right:auto;text-align=center'><tr><th>Hidden Layers</th><th>Training Fraction</th> <th>Number of Steps</th></tr><tr><th>[100]</th><th>80%</th><th>100</th></tr></table>"
      ]
     },
     "metadata": {
      "tags": []
     },
     "output_type": "display_data"
    },
    {
     "data": {
      "text/html": [
       "<h4>Confusion Matrix:</h4>"
      ]
     },
     "metadata": {
      "tags": []
     },
     "output_type": "display_data"
    },
    {
     "data": {
      "text/html": [
       "<br/>"
      ]
     },
     "metadata": {
      "tags": []
     },
     "output_type": "display_data"
    },
    {
     "name": "stdout",
     "output_type": "stream",
     "text": [
      "[[128   3   3   1   0   0   0   0   0   0]\n",
      " [  1 218   0   2   0   0   4   0   0   0]\n",
      " [ 33   8  68   0   0   0   0   0   0   0]\n",
      " [  4   3   0  88   0   0   0   0   0   0]\n",
      " [  1  17   0   5   0   0   0   0   0   0]\n",
      " [  1  51   1   0   0   0   1   0   0   0]\n",
      " [  0   1   1   1   0   0 693   0   0   0]\n",
      " [ 22  18   4   0   0   0  18   0   0   0]\n",
      " [  0  13   0   1   0   0   0   0   0   0]\n",
      " [  0  16   0   1   0   0  13   0   0   0]]\n"
     ]
    },
    {
     "data": {
      "text/html": [
       "<table style='font-size:16px;margin-left:auto;margin-right:auto;'><tr><th>Species</th><th>Accuracy</th> <th>Precision</th> <th>Recall</th> <th>F1-score</th></tr><tr><td>0</td><td>95.22%</td> <td>67.37%</td> <td>94.81%</td> <td>78.77%</td></tr><tr><td>1</td><td>90.51%</td> <td>62.64%</td> <td>96.89%</td> <td>76.09%</td></tr><tr><td>2</td><td>96.53%</td> <td>88.31%</td> <td>62.39%</td> <td>73.12%</td></tr><tr><td>3</td><td>98.75%</td> <td>88.89%</td> <td>92.63%</td> <td>90.72%</td></tr><tr><td>4</td><td>98.41%</td> <td>nan%</td> <td>0.00%</td> <td>nan%</td></tr><tr><td>5</td><td>96.26%</td> <td>nan%</td> <td>0.00%</td> <td>nan%</td></tr><tr><td>6</td><td>97.30%</td> <td>95.06%</td> <td>99.57%</td> <td>97.26%</td></tr><tr><td>7</td><td>95.70%</td> <td>nan%</td> <td>0.00%</td> <td>nan%</td></tr><tr><td>8</td><td>99.03%</td> <td>nan%</td> <td>0.00%</td> <td>nan%</td></tr><tr><td>9</td><td>97.92%</td> <td>nan%</td> <td>0.00%</td> <td>nan%</td></tr><tr><th>Average</th><th>96.56%</th> <th>80.45%</th> <th>44.63%</th> <th>83.19%</th></tr></table>"
      ]
     },
     "metadata": {
      "tags": []
     },
     "output_type": "display_data"
    },
    {
     "data": {
      "text/html": [
       "<hr>"
      ]
     },
     "metadata": {
      "tags": []
     },
     "output_type": "display_data"
    },
    {
     "data": {
      "text/html": [
       "<h2 style='text-align:center'>Iteration 14</h2>"
      ]
     },
     "metadata": {
      "tags": []
     },
     "output_type": "display_data"
    },
    {
     "data": {
      "text/html": [
       "<table style='font-size:16px;margin-left:auto;margin-right:auto;text-align=center'><tr><th>Hidden Layers</th><th>Training Fraction</th> <th>Number of Steps</th></tr><tr><th>[100]</th><th>50%</th><th>100</th></tr></table>"
      ]
     },
     "metadata": {
      "tags": []
     },
     "output_type": "display_data"
    },
    {
     "data": {
      "text/html": [
       "<h4>Confusion Matrix:</h4>"
      ]
     },
     "metadata": {
      "tags": []
     },
     "output_type": "display_data"
    },
    {
     "data": {
      "text/html": [
       "<br/>"
      ]
     },
     "metadata": {
      "tags": []
     },
     "output_type": "display_data"
    },
    {
     "name": "stdout",
     "output_type": "stream",
     "text": [
      "[[ 320    6    9    1    0    0    0    0    0    0]\n",
      " [   1  541    0    3    0    0   16    0    0    0]\n",
      " [ 125   34  112    0    0    0    0    0    0    0]\n",
      " [   9    3    0  224    0    0    0    0    0    0]\n",
      " [   1   44    0   12    0    0    0    0    0    0]\n",
      " [   6   92    1    0    0   31    3    2    0    0]\n",
      " [   1    0    0    1    0    0 1737    0    0    0]\n",
      " [  33   22   28    0    0    0   57   15    0    0]\n",
      " [   6   28    0    0    0    0    0    0    0    0]\n",
      " [   1   40    0    2    0    0   31    0    0    0]]\n"
     ]
    },
    {
     "data": {
      "text/html": [
       "<table style='font-size:16px;margin-left:auto;margin-right:auto;'><tr><th>Species</th><th>Accuracy</th> <th>Precision</th> <th>Recall</th> <th>F1-score</th></tr><tr><td>0</td><td>94.47%</td> <td>63.62%</td> <td>95.24%</td> <td>76.28%</td></tr><tr><td>1</td><td>91.97%</td> <td>66.79%</td> <td>96.43%</td> <td>78.92%</td></tr><tr><td>2</td><td>94.52%</td> <td>74.67%</td> <td>41.33%</td> <td>53.21%</td></tr><tr><td>3</td><td>99.14%</td> <td>92.18%</td> <td>94.92%</td> <td>93.53%</td></tr><tr><td>4</td><td>98.42%</td> <td>nan%</td> <td>0.00%</td> <td>nan%</td></tr><tr><td>5</td><td>97.11%</td> <td>100.00%</td> <td>22.96%</td> <td>37.35%</td></tr><tr><td>6</td><td>96.97%</td> <td>94.20%</td> <td>99.88%</td> <td>96.96%</td></tr><tr><td>7</td><td>96.05%</td> <td>88.24%</td> <td>9.68%</td> <td>17.44%</td></tr><tr><td>8</td><td>99.06%</td> <td>nan%</td> <td>0.00%</td> <td>nan%</td></tr><tr><td>9</td><td>97.94%</td> <td>nan%</td> <td>0.00%</td> <td>nan%</td></tr><tr><th>Average</th><th>96.56%</th> <th>82.81%</th> <th>46.04%</th> <th>64.81%</th></tr></table>"
      ]
     },
     "metadata": {
      "tags": []
     },
     "output_type": "display_data"
    },
    {
     "data": {
      "text/html": [
       "<hr>"
      ]
     },
     "metadata": {
      "tags": []
     },
     "output_type": "display_data"
    },
    {
     "data": {
      "text/html": [
       "<h2 style='text-align:center'>Iteration 15</h2>"
      ]
     },
     "metadata": {
      "tags": []
     },
     "output_type": "display_data"
    },
    {
     "data": {
      "text/html": [
       "<table style='font-size:16px;margin-left:auto;margin-right:auto;text-align=center'><tr><th>Hidden Layers</th><th>Training Fraction</th> <th>Number of Steps</th></tr><tr><th>[100]</th><th>80%</th><th>200</th></tr></table>"
      ]
     },
     "metadata": {
      "tags": []
     },
     "output_type": "display_data"
    },
    {
     "data": {
      "text/html": [
       "<h4>Confusion Matrix:</h4>"
      ]
     },
     "metadata": {
      "tags": []
     },
     "output_type": "display_data"
    },
    {
     "data": {
      "text/html": [
       "<br/>"
      ]
     },
     "metadata": {
      "tags": []
     },
     "output_type": "display_data"
    },
    {
     "name": "stdout",
     "output_type": "stream",
     "text": [
      "[[114   1  19   1   0   0   0   0   0   0]\n",
      " [  0 217   0   6   0   0   2   0   0   0]\n",
      " [  1   2 106   0   0   0   0   0   0   0]\n",
      " [  3   3   0  89   0   0   0   0   0   0]\n",
      " [  0  20   0   3   0   0   0   0   0   0]\n",
      " [  5  36   0   0   0  12   0   1   0   0]\n",
      " [  0   2   0   0   0   0 694   0   0   0]\n",
      " [  6   4  15   0   0   0  16  21   0   0]\n",
      " [  2  11   0   1   0   0   0   0   0   0]\n",
      " [  1  11   2   2   0   0  14   0   0   0]]\n"
     ]
    },
    {
     "data": {
      "text/html": [
       "<table style='font-size:16px;margin-left:auto;margin-right:auto;'><tr><th>Species</th><th>Accuracy</th> <th>Precision</th> <th>Recall</th> <th>F1-score</th></tr><tr><td>0</td><td>97.30%</td> <td>86.36%</td> <td>84.44%</td> <td>85.39%</td></tr><tr><td>1</td><td>93.21%</td> <td>70.68%</td> <td>96.44%</td> <td>81.58%</td></tr><tr><td>2</td><td>97.30%</td> <td>74.65%</td> <td>97.25%</td> <td>84.46%</td></tr><tr><td>3</td><td>98.68%</td> <td>87.25%</td> <td>93.68%</td> <td>90.36%</td></tr><tr><td>4</td><td>98.41%</td> <td>nan%</td> <td>0.00%</td> <td>nan%</td></tr><tr><td>5</td><td>97.09%</td> <td>100.00%</td> <td>22.22%</td> <td>36.36%</td></tr><tr><td>6</td><td>97.64%</td> <td>95.59%</td> <td>99.71%</td> <td>97.61%</td></tr><tr><td>7</td><td>97.09%</td> <td>95.45%</td> <td>33.87%</td> <td>50.00%</td></tr><tr><td>8</td><td>99.03%</td> <td>nan%</td> <td>0.00%</td> <td>nan%</td></tr><tr><td>9</td><td>97.92%</td> <td>nan%</td> <td>0.00%</td> <td>nan%</td></tr><tr><th>Average</th><th>97.37%</th> <th>87.14%</th> <th>52.76%</th> <th>75.11%</th></tr></table>"
      ]
     },
     "metadata": {
      "tags": []
     },
     "output_type": "display_data"
    },
    {
     "data": {
      "text/html": [
       "<hr>"
      ]
     },
     "metadata": {
      "tags": []
     },
     "output_type": "display_data"
    },
    {
     "data": {
      "text/html": [
       "<h2 style='text-align:center'>Iteration 16</h2>"
      ]
     },
     "metadata": {
      "tags": []
     },
     "output_type": "display_data"
    },
    {
     "data": {
      "text/html": [
       "<table style='font-size:16px;margin-left:auto;margin-right:auto;text-align=center'><tr><th>Hidden Layers</th><th>Training Fraction</th> <th>Number of Steps</th></tr><tr><th>[100]</th><th>50%</th><th>200</th></tr></table>"
      ]
     },
     "metadata": {
      "tags": []
     },
     "output_type": "display_data"
    },
    {
     "data": {
      "text/html": [
       "<h4>Confusion Matrix:</h4>"
      ]
     },
     "metadata": {
      "tags": []
     },
     "output_type": "display_data"
    },
    {
     "data": {
      "text/html": [
       "<br/>"
      ]
     },
     "metadata": {
      "tags": []
     },
     "output_type": "display_data"
    },
    {
     "name": "stdout",
     "output_type": "stream",
     "text": [
      "[[ 305    3   26    2    0    0    0    0    0    0]\n",
      " [   1  538    0    9    0    6    7    0    0    0]\n",
      " [   7    3  261    0    0    0    0    0    0    0]\n",
      " [   1    6    0  221    0    8    0    0    0    0]\n",
      " [   1   39    0   15    0    2    0    0    0    0]\n",
      " [   4   25    2    0    0  103    0    1    0    0]\n",
      " [   0    1    2    0    0    0 1736    0    0    0]\n",
      " [  23    4   61    0    0    0   31   36    0    0]\n",
      " [   4   24    1    2    0    3    0    0    0    0]\n",
      " [   1   32    9    5    0    0   27    0    0    0]]\n"
     ]
    },
    {
     "data": {
      "text/html": [
       "<table style='font-size:16px;margin-left:auto;margin-right:auto;'><tr><th>Species</th><th>Accuracy</th> <th>Precision</th> <th>Recall</th> <th>F1-score</th></tr><tr><td>0</td><td>97.97%</td> <td>87.90%</td> <td>90.77%</td> <td>89.31%</td></tr><tr><td>1</td><td>95.55%</td> <td>79.70%</td> <td>95.90%</td> <td>87.06%</td></tr><tr><td>2</td><td>96.91%</td> <td>72.10%</td> <td>96.31%</td> <td>82.46%</td></tr><tr><td>3</td><td>98.67%</td> <td>87.01%</td> <td>93.64%</td> <td>90.20%</td></tr><tr><td>4</td><td>98.42%</td> <td>nan%</td> <td>0.00%</td> <td>nan%</td></tr><tr><td>5</td><td>98.58%</td> <td>84.43%</td> <td>76.30%</td> <td>80.16%</td></tr><tr><td>6</td><td>98.11%</td> <td>96.39%</td> <td>99.83%</td> <td>98.08%</td></tr><tr><td>7</td><td>96.66%</td> <td>97.30%</td> <td>23.23%</td> <td>37.50%</td></tr><tr><td>8</td><td>99.06%</td> <td>nan%</td> <td>0.00%</td> <td>nan%</td></tr><tr><td>9</td><td>97.94%</td> <td>nan%</td> <td>0.00%</td> <td>nan%</td></tr><tr><th>Average</th><th>97.79%</th> <th>86.40%</th> <th>57.60%</th> <th>80.68%</th></tr></table>"
      ]
     },
     "metadata": {
      "tags": []
     },
     "output_type": "display_data"
    },
    {
     "data": {
      "text/html": [
       "<hr>"
      ]
     },
     "metadata": {
      "tags": []
     },
     "output_type": "display_data"
    },
    {
     "data": {
      "text/html": [
       "<h2 style='text-align:center'>Iteration 17</h2>"
      ]
     },
     "metadata": {
      "tags": []
     },
     "output_type": "display_data"
    },
    {
     "data": {
      "text/html": [
       "<table style='font-size:16px;margin-left:auto;margin-right:auto;text-align=center'><tr><th>Hidden Layers</th><th>Training Fraction</th> <th>Number of Steps</th></tr><tr><th>[100]</th><th>80%</th><th>500</th></tr></table>"
      ]
     },
     "metadata": {
      "tags": []
     },
     "output_type": "display_data"
    },
    {
     "data": {
      "text/html": [
       "<h4>Confusion Matrix:</h4>"
      ]
     },
     "metadata": {
      "tags": []
     },
     "output_type": "display_data"
    },
    {
     "data": {
      "text/html": [
       "<br/>"
      ]
     },
     "metadata": {
      "tags": []
     },
     "output_type": "display_data"
    },
    {
     "name": "stdout",
     "output_type": "stream",
     "text": [
      "[[127   2   4   1   0   0   0   1   0   0]\n",
      " [  0 224   0   0   0   1   0   0   0   0]\n",
      " [  2   0 104   0   0   0   0   3   0   0]\n",
      " [  3   3   0  87   1   1   0   0   0   0]\n",
      " [  0  16   0   5   1   1   0   0   0   0]\n",
      " [  3   6   0   0   0  44   0   1   0   0]\n",
      " [  0   0   2   0   0   0 692   2   0   0]\n",
      " [ 11   1  12   0   0   0   7  31   0   0]\n",
      " [  7   1   4   1   0   1   0   0   0   0]\n",
      " [  0   2   5   0   1   0   0   1   0  21]]\n"
     ]
    },
    {
     "data": {
      "text/html": [
       "<table style='font-size:16px;margin-left:auto;margin-right:auto;'><tr><th>Species</th><th>Accuracy</th> <th>Precision</th> <th>Recall</th> <th>F1-score</th></tr><tr><td>0</td><td>97.64%</td> <td>83.01%</td> <td>94.07%</td> <td>88.19%</td></tr><tr><td>1</td><td>97.78%</td> <td>87.84%</td> <td>99.56%</td> <td>93.33%</td></tr><tr><td>2</td><td>97.78%</td> <td>79.39%</td> <td>95.41%</td> <td>86.67%</td></tr><tr><td>3</td><td>98.96%</td> <td>92.55%</td> <td>91.58%</td> <td>92.06%</td></tr><tr><td>4</td><td>98.34%</td> <td>33.33%</td> <td>4.35%</td> <td>7.69%</td></tr><tr><td>5</td><td>99.03%</td> <td>91.67%</td> <td>81.48%</td> <td>86.27%</td></tr><tr><td>6</td><td>99.24%</td> <td>99.00%</td> <td>99.43%</td> <td>99.21%</td></tr><tr><td>7</td><td>97.30%</td> <td>79.49%</td> <td>50.00%</td> <td>61.39%</td></tr><tr><td>8</td><td>99.03%</td> <td>nan%</td> <td>0.00%</td> <td>nan%</td></tr><tr><td>9</td><td>99.38%</td> <td>100.00%</td> <td>70.00%</td> <td>82.35%</td></tr><tr><th>Average</th><th>98.45%</th> <th>82.92%</th> <th>68.59%</th> <th>77.46%</th></tr></table>"
      ]
     },
     "metadata": {
      "tags": []
     },
     "output_type": "display_data"
    },
    {
     "data": {
      "text/html": [
       "<hr>"
      ]
     },
     "metadata": {
      "tags": []
     },
     "output_type": "display_data"
    },
    {
     "data": {
      "text/html": [
       "<h2 style='text-align:center'>Iteration 18</h2>"
      ]
     },
     "metadata": {
      "tags": []
     },
     "output_type": "display_data"
    },
    {
     "data": {
      "text/html": [
       "<table style='font-size:16px;margin-left:auto;margin-right:auto;text-align=center'><tr><th>Hidden Layers</th><th>Training Fraction</th> <th>Number of Steps</th></tr><tr><th>[100]</th><th>50%</th><th>500</th></tr></table>"
      ]
     },
     "metadata": {
      "tags": []
     },
     "output_type": "display_data"
    },
    {
     "data": {
      "text/html": [
       "<h4>Confusion Matrix:</h4>"
      ]
     },
     "metadata": {
      "tags": []
     },
     "output_type": "display_data"
    },
    {
     "data": {
      "text/html": [
       "<br/>"
      ]
     },
     "metadata": {
      "tags": []
     },
     "output_type": "display_data"
    },
    {
     "name": "stdout",
     "output_type": "stream",
     "text": [
      "[[ 318    2   12    3    1    0    0    0    0    0]\n",
      " [   0  545    0    3    0   11    2    0    0    0]\n",
      " [   7    1  256    0    0    0    0    7    0    0]\n",
      " [   2    2    0  225    5    2    0    0    0    0]\n",
      " [   1   39    0   13    3    1    0    0    0    0]\n",
      " [   2    5    0    3    0  124    0    1    0    0]\n",
      " [   0    0    3    1    0    0 1734    1    0    0]\n",
      " [  26    3   26    0    0    0   22   78    0    0]\n",
      " [  18    8    3    1    0    3    0    0    0    1]\n",
      " [   1   16    1    5    0    0    1    6    0   44]]\n"
     ]
    },
    {
     "data": {
      "text/html": [
       "<table style='font-size:16px;margin-left:auto;margin-right:auto;'><tr><th>Species</th><th>Accuracy</th> <th>Precision</th> <th>Recall</th> <th>F1-score</th></tr><tr><td>0</td><td>97.92%</td> <td>84.80%</td> <td>94.64%</td> <td>89.45%</td></tr><tr><td>1</td><td>97.44%</td> <td>87.76%</td> <td>97.15%</td> <td>92.22%</td></tr><tr><td>2</td><td>98.33%</td> <td>85.05%</td> <td>94.46%</td> <td>89.51%</td></tr><tr><td>3</td><td>98.89%</td> <td>88.58%</td> <td>95.34%</td> <td>91.84%</td></tr><tr><td>4</td><td>98.33%</td> <td>33.33%</td> <td>5.26%</td> <td>9.09%</td></tr><tr><td>5</td><td>99.22%</td> <td>87.94%</td> <td>91.85%</td> <td>89.86%</td></tr><tr><td>6</td><td>99.17%</td> <td>98.58%</td> <td>99.71%</td> <td>99.14%</td></tr><tr><td>7</td><td>97.44%</td> <td>83.87%</td> <td>50.32%</td> <td>62.90%</td></tr><tr><td>8</td><td>99.06%</td> <td>nan%</td> <td>0.00%</td> <td>nan%</td></tr><tr><td>9</td><td>99.14%</td> <td>97.78%</td> <td>59.46%</td> <td>73.95%</td></tr><tr><th>Average</th><th>98.49%</th> <th>83.08%</th> <th>68.82%</th> <th>77.55%</th></tr></table>"
      ]
     },
     "metadata": {
      "tags": []
     },
     "output_type": "display_data"
    },
    {
     "data": {
      "text/html": [
       "<hr>"
      ]
     },
     "metadata": {
      "tags": []
     },
     "output_type": "display_data"
    },
    {
     "data": {
      "text/html": [
       "<h2 style='text-align:center'>Iteration 19</h2>"
      ]
     },
     "metadata": {
      "tags": []
     },
     "output_type": "display_data"
    },
    {
     "data": {
      "text/html": [
       "<table style='font-size:16px;margin-left:auto;margin-right:auto;text-align=center'><tr><th>Hidden Layers</th><th>Training Fraction</th> <th>Number of Steps</th></tr><tr><th>[100]</th><th>80%</th><th>1000</th></tr></table>"
      ]
     },
     "metadata": {
      "tags": []
     },
     "output_type": "display_data"
    },
    {
     "data": {
      "text/html": [
       "<h4>Confusion Matrix:</h4>"
      ]
     },
     "metadata": {
      "tags": []
     },
     "output_type": "display_data"
    },
    {
     "data": {
      "text/html": [
       "<br/>"
      ]
     },
     "metadata": {
      "tags": []
     },
     "output_type": "display_data"
    },
    {
     "name": "stdout",
     "output_type": "stream",
     "text": [
      "[[130   0   4   0   1   0   0   0   0   0]\n",
      " [  0 222   0   2   0   1   0   0   0   0]\n",
      " [  3   0 100   0   0   0   0   5   0   1]\n",
      " [  1   1   0  91   2   0   0   0   0   0]\n",
      " [  0   4   0   6  12   1   0   0   0   0]\n",
      " [  3   2   0   1   0  46   0   2   0   0]\n",
      " [  0   0   0   0   0   0 696   0   0   0]\n",
      " [  6   1   4   0   0   0   6  45   0   0]\n",
      " [  3   1   0   0   1   0   0   0   9   0]\n",
      " [  0   0   0   2   1   0   0   0   0  27]]\n"
     ]
    },
    {
     "data": {
      "text/html": [
       "<table style='font-size:16px;margin-left:auto;margin-right:auto;'><tr><th>Species</th><th>Accuracy</th> <th>Precision</th> <th>Recall</th> <th>F1-score</th></tr><tr><td>0</td><td>98.54%</td> <td>89.04%</td> <td>96.30%</td> <td>92.53%</td></tr><tr><td>1</td><td>99.17%</td> <td>96.10%</td> <td>98.67%</td> <td>97.37%</td></tr><tr><td>2</td><td>98.82%</td> <td>92.59%</td> <td>91.74%</td> <td>92.17%</td></tr><tr><td>3</td><td>98.96%</td> <td>89.22%</td> <td>95.79%</td> <td>92.39%</td></tr><tr><td>4</td><td>98.89%</td> <td>70.59%</td> <td>52.17%</td> <td>60.00%</td></tr><tr><td>5</td><td>99.31%</td> <td>95.83%</td> <td>85.19%</td> <td>90.20%</td></tr><tr><td>6</td><td>99.58%</td> <td>99.15%</td> <td>100.00%</td> <td>99.57%</td></tr><tr><td>7</td><td>98.34%</td> <td>86.54%</td> <td>72.58%</td> <td>78.95%</td></tr><tr><td>8</td><td>99.65%</td> <td>100.00%</td> <td>64.29%</td> <td>78.26%</td></tr><tr><td>9</td><td>99.72%</td> <td>96.43%</td> <td>90.00%</td> <td>93.10%</td></tr><tr><th>Average</th><th>99.10%</th> <th>91.55%</th> <th>84.67%</th> <th>87.45%</th></tr></table>"
      ]
     },
     "metadata": {
      "tags": []
     },
     "output_type": "display_data"
    },
    {
     "data": {
      "text/html": [
       "<hr>"
      ]
     },
     "metadata": {
      "tags": []
     },
     "output_type": "display_data"
    },
    {
     "data": {
      "text/html": [
       "<h2 style='text-align:center'>Iteration 20</h2>"
      ]
     },
     "metadata": {
      "tags": []
     },
     "output_type": "display_data"
    },
    {
     "data": {
      "text/html": [
       "<table style='font-size:16px;margin-left:auto;margin-right:auto;text-align=center'><tr><th>Hidden Layers</th><th>Training Fraction</th> <th>Number of Steps</th></tr><tr><th>[100]</th><th>50%</th><th>1000</th></tr></table>"
      ]
     },
     "metadata": {
      "tags": []
     },
     "output_type": "display_data"
    },
    {
     "data": {
      "text/html": [
       "<h4>Confusion Matrix:</h4>"
      ]
     },
     "metadata": {
      "tags": []
     },
     "output_type": "display_data"
    },
    {
     "data": {
      "text/html": [
       "<br/>"
      ]
     },
     "metadata": {
      "tags": []
     },
     "output_type": "display_data"
    },
    {
     "name": "stdout",
     "output_type": "stream",
     "text": [
      "[[ 310    1   19    5    1    0    0    0    0    0]\n",
      " [   0  550    0    3    1    6    0    1    0    0]\n",
      " [   2    0  260    0    0    0    0    7    1    1]\n",
      " [   1    1    0  223    8    3    0    0    0    0]\n",
      " [   1   13    0   13   30    0    0    0    0    0]\n",
      " [   4    5    0    1    0  122    0    2    1    0]\n",
      " [   0    3    5    1    0    0 1728    2    0    0]\n",
      " [  25    0   14    0    0    0   24   88    0    4]\n",
      " [   1    0    1    0    1    0    0    0   31    0]\n",
      " [   0    4    0    4    1    0    0    1    2   62]]\n"
     ]
    },
    {
     "data": {
      "text/html": [
       "<table style='font-size:16px;margin-left:auto;margin-right:auto;'><tr><th>Species</th><th>Accuracy</th> <th>Precision</th> <th>Recall</th> <th>F1-score</th></tr><tr><td>0</td><td>98.33%</td> <td>90.12%</td> <td>92.26%</td> <td>91.18%</td></tr><tr><td>1</td><td>98.94%</td> <td>95.32%</td> <td>98.04%</td> <td>96.66%</td></tr><tr><td>2</td><td>98.61%</td> <td>86.96%</td> <td>95.94%</td> <td>91.23%</td></tr><tr><td>3</td><td>98.89%</td> <td>89.20%</td> <td>94.49%</td> <td>91.77%</td></tr><tr><td>4</td><td>98.92%</td> <td>71.43%</td> <td>52.63%</td> <td>60.61%</td></tr><tr><td>5</td><td>99.39%</td> <td>93.13%</td> <td>90.37%</td> <td>91.73%</td></tr><tr><td>6</td><td>99.03%</td> <td>98.63%</td> <td>99.37%</td> <td>99.00%</td></tr><tr><td>7</td><td>97.78%</td> <td>87.13%</td> <td>56.77%</td> <td>68.75%</td></tr><tr><td>8</td><td>99.81%</td> <td>88.57%</td> <td>91.18%</td> <td>89.86%</td></tr><tr><td>9</td><td>99.53%</td> <td>92.54%</td> <td>83.78%</td> <td>87.94%</td></tr><tr><th>Average</th><th>98.92%</th> <th>89.30%</th> <th>85.48%</th> <th>86.87%</th></tr></table>"
      ]
     },
     "metadata": {
      "tags": []
     },
     "output_type": "display_data"
    },
    {
     "data": {
      "text/html": [
       "<hr>"
      ]
     },
     "metadata": {
      "tags": []
     },
     "output_type": "display_data"
    },
    {
     "data": {
      "text/html": [
       "<h2 style='text-align:center'>Iteration 21</h2>"
      ]
     },
     "metadata": {
      "tags": []
     },
     "output_type": "display_data"
    },
    {
     "data": {
      "text/html": [
       "<table style='font-size:16px;margin-left:auto;margin-right:auto;text-align=center'><tr><th>Hidden Layers</th><th>Training Fraction</th> <th>Number of Steps</th></tr><tr><th>[100]</th><th>80%</th><th>1500</th></tr></table>"
      ]
     },
     "metadata": {
      "tags": []
     },
     "output_type": "display_data"
    },
    {
     "data": {
      "text/html": [
       "<h4>Confusion Matrix:</h4>"
      ]
     },
     "metadata": {
      "tags": []
     },
     "output_type": "display_data"
    },
    {
     "data": {
      "text/html": [
       "<br/>"
      ]
     },
     "metadata": {
      "tags": []
     },
     "output_type": "display_data"
    },
    {
     "name": "stdout",
     "output_type": "stream",
     "text": [
      "[[124   0   8   1   1   0   0   1   0   0]\n",
      " [  0 222   0   1   0   2   0   0   0   0]\n",
      " [  0   0 104   0   0   0   0   5   0   0]\n",
      " [  0   1   0  89   3   2   0   0   0   0]\n",
      " [  0   3   0   5  15   0   0   0   0   0]\n",
      " [  0   2   0   1   0  51   0   0   0   0]\n",
      " [  0   0   0   0   0   0 696   0   0   0]\n",
      " [  6   1   5   0   0   0  10  40   0   0]\n",
      " [  2   0   1   0   1   1   0   0   9   0]\n",
      " [  0   2   0   0   1   0   0   2   0  25]]\n"
     ]
    },
    {
     "data": {
      "text/html": [
       "<table style='font-size:16px;margin-left:auto;margin-right:auto;'><tr><th>Species</th><th>Accuracy</th> <th>Precision</th> <th>Recall</th> <th>F1-score</th></tr><tr><td>0</td><td>98.68%</td> <td>93.94%</td> <td>91.85%</td> <td>92.88%</td></tr><tr><td>1</td><td>99.17%</td> <td>96.10%</td> <td>98.67%</td> <td>97.37%</td></tr><tr><td>2</td><td>98.68%</td> <td>88.14%</td> <td>95.41%</td> <td>91.63%</td></tr><tr><td>3</td><td>99.03%</td> <td>91.75%</td> <td>93.68%</td> <td>92.71%</td></tr><tr><td>4</td><td>99.03%</td> <td>71.43%</td> <td>65.22%</td> <td>68.18%</td></tr><tr><td>5</td><td>99.45%</td> <td>91.07%</td> <td>94.44%</td> <td>92.73%</td></tr><tr><td>6</td><td>99.31%</td> <td>98.58%</td> <td>100.00%</td> <td>99.29%</td></tr><tr><td>7</td><td>97.92%</td> <td>83.33%</td> <td>64.52%</td> <td>72.73%</td></tr><tr><td>8</td><td>99.65%</td> <td>100.00%</td> <td>64.29%</td> <td>78.26%</td></tr><tr><td>9</td><td>99.65%</td> <td>100.00%</td> <td>83.33%</td> <td>90.91%</td></tr><tr><th>Average</th><th>99.06%</th> <th>91.43%</th> <th>85.14%</th> <th>87.67%</th></tr></table>"
      ]
     },
     "metadata": {
      "tags": []
     },
     "output_type": "display_data"
    },
    {
     "data": {
      "text/html": [
       "<hr>"
      ]
     },
     "metadata": {
      "tags": []
     },
     "output_type": "display_data"
    },
    {
     "data": {
      "text/html": [
       "<h2 style='text-align:center'>Iteration 22</h2>"
      ]
     },
     "metadata": {
      "tags": []
     },
     "output_type": "display_data"
    },
    {
     "data": {
      "text/html": [
       "<table style='font-size:16px;margin-left:auto;margin-right:auto;text-align=center'><tr><th>Hidden Layers</th><th>Training Fraction</th> <th>Number of Steps</th></tr><tr><th>[100]</th><th>50%</th><th>1500</th></tr></table>"
      ]
     },
     "metadata": {
      "tags": []
     },
     "output_type": "display_data"
    },
    {
     "data": {
      "text/html": [
       "<h4>Confusion Matrix:</h4>"
      ]
     },
     "metadata": {
      "tags": []
     },
     "output_type": "display_data"
    },
    {
     "data": {
      "text/html": [
       "<br/>"
      ]
     },
     "metadata": {
      "tags": []
     },
     "output_type": "display_data"
    },
    {
     "name": "stdout",
     "output_type": "stream",
     "text": [
      "[[ 314    2   12    2    4    0    0    2    0    0]\n",
      " [   0  551    0    1    1    6    1    1    0    0]\n",
      " [   1    0  260    0    0    0    0    7    1    2]\n",
      " [   2    3    0  225    6    0    0    0    0    0]\n",
      " [   0    9    0   14   33    0    0    0    1    0]\n",
      " [   4    7    0    2    0  116    0    4    2    0]\n",
      " [   0    1    1    1    0    0 1734    1    0    1]\n",
      " [  20    4   11    0    0    0   19   99    0    2]\n",
      " [   2    0    1    0    1    2    0    0   26    2]\n",
      " [   0    3    0    1    1    0    0    2    0   67]]\n"
     ]
    },
    {
     "data": {
      "text/html": [
       "<table style='font-size:16px;margin-left:auto;margin-right:auto;'><tr><th>Species</th><th>Accuracy</th> <th>Precision</th> <th>Recall</th> <th>F1-score</th></tr><tr><td>0</td><td>98.58%</td> <td>91.55%</td> <td>93.45%</td> <td>92.49%</td></tr><tr><td>1</td><td>98.92%</td> <td>95.00%</td> <td>98.22%</td> <td>96.58%</td></tr><tr><td>2</td><td>99.00%</td> <td>91.23%</td> <td>95.94%</td> <td>93.53%</td></tr><tr><td>3</td><td>99.11%</td> <td>91.46%</td> <td>95.34%</td> <td>93.36%</td></tr><tr><td>4</td><td>98.97%</td> <td>71.74%</td> <td>57.89%</td> <td>64.08%</td></tr><tr><td>5</td><td>99.25%</td> <td>93.55%</td> <td>85.93%</td> <td>89.58%</td></tr><tr><td>6</td><td>99.31%</td> <td>98.86%</td> <td>99.71%</td> <td>99.28%</td></tr><tr><td>7</td><td>97.97%</td> <td>85.34%</td> <td>63.87%</td> <td>73.06%</td></tr><tr><td>8</td><td>99.67%</td> <td>86.67%</td> <td>76.47%</td> <td>81.25%</td></tr><tr><td>9</td><td>99.61%</td> <td>90.54%</td> <td>90.54%</td> <td>90.54%</td></tr><tr><th>Average</th><th>99.04%</th> <th>89.59%</th> <th>85.74%</th> <th>87.37%</th></tr></table>"
      ]
     },
     "metadata": {
      "tags": []
     },
     "output_type": "display_data"
    },
    {
     "data": {
      "text/html": [
       "<hr>"
      ]
     },
     "metadata": {
      "tags": []
     },
     "output_type": "display_data"
    },
    {
     "data": {
      "text/html": [
       "<h2 style='text-align:center'>Iteration 23</h2>"
      ]
     },
     "metadata": {
      "tags": []
     },
     "output_type": "display_data"
    },
    {
     "data": {
      "text/html": [
       "<table style='font-size:16px;margin-left:auto;margin-right:auto;text-align=center'><tr><th>Hidden Layers</th><th>Training Fraction</th> <th>Number of Steps</th></tr><tr><th>[100]</th><th>80%</th><th>2000</th></tr></table>"
      ]
     },
     "metadata": {
      "tags": []
     },
     "output_type": "display_data"
    },
    {
     "data": {
      "text/html": [
       "<h4>Confusion Matrix:</h4>"
      ]
     },
     "metadata": {
      "tags": []
     },
     "output_type": "display_data"
    },
    {
     "data": {
      "text/html": [
       "<br/>"
      ]
     },
     "metadata": {
      "tags": []
     },
     "output_type": "display_data"
    },
    {
     "name": "stdout",
     "output_type": "stream",
     "text": [
      "[[129   0   5   0   0   0   0   1   0   0]\n",
      " [  0 219   0   1   1   3   1   0   0   0]\n",
      " [  0   0 105   0   0   0   0   3   0   1]\n",
      " [  3   0   0  86   5   1   0   0   0   0]\n",
      " [  0   5   0   5  13   0   0   0   0   0]\n",
      " [  0   1   0   2   0  49   0   2   0   0]\n",
      " [  0   0   0   0   1   0 694   1   0   0]\n",
      " [  8   1   3   0   0   0   6  44   0   0]\n",
      " [  2   0   0   0   1   1   0   0   8   2]\n",
      " [  0   1   0   1   0   0   0   1   0  27]]\n"
     ]
    },
    {
     "data": {
      "text/html": [
       "<table style='font-size:16px;margin-left:auto;margin-right:auto;'><tr><th>Species</th><th>Accuracy</th> <th>Precision</th> <th>Recall</th> <th>F1-score</th></tr><tr><td>0</td><td>98.68%</td> <td>90.85%</td> <td>95.56%</td> <td>93.14%</td></tr><tr><td>1</td><td>99.03%</td> <td>96.48%</td> <td>97.33%</td> <td>96.90%</td></tr><tr><td>2</td><td>99.17%</td> <td>92.92%</td> <td>96.33%</td> <td>94.59%</td></tr><tr><td>3</td><td>98.75%</td> <td>90.53%</td> <td>90.53%</td> <td>90.53%</td></tr><tr><td>4</td><td>98.75%</td> <td>61.90%</td> <td>56.52%</td> <td>59.09%</td></tr><tr><td>5</td><td>99.31%</td> <td>90.74%</td> <td>90.74%</td> <td>90.74%</td></tr><tr><td>6</td><td>99.38%</td> <td>99.00%</td> <td>99.71%</td> <td>99.36%</td></tr><tr><td>7</td><td>98.20%</td> <td>84.62%</td> <td>70.97%</td> <td>77.19%</td></tr><tr><td>8</td><td>99.58%</td> <td>100.00%</td> <td>57.14%</td> <td>72.73%</td></tr><tr><td>9</td><td>99.58%</td> <td>90.00%</td> <td>90.00%</td> <td>90.00%</td></tr><tr><th>Average</th><th>99.04%</th> <th>89.70%</th> <th>84.48%</th> <th>86.43%</th></tr></table>"
      ]
     },
     "metadata": {
      "tags": []
     },
     "output_type": "display_data"
    },
    {
     "data": {
      "text/html": [
       "<hr>"
      ]
     },
     "metadata": {
      "tags": []
     },
     "output_type": "display_data"
    },
    {
     "data": {
      "text/html": [
       "<h2 style='text-align:center'>Iteration 24</h2>"
      ]
     },
     "metadata": {
      "tags": []
     },
     "output_type": "display_data"
    },
    {
     "data": {
      "text/html": [
       "<table style='font-size:16px;margin-left:auto;margin-right:auto;text-align=center'><tr><th>Hidden Layers</th><th>Training Fraction</th> <th>Number of Steps</th></tr><tr><th>[100]</th><th>50%</th><th>2000</th></tr></table>"
      ]
     },
     "metadata": {
      "tags": []
     },
     "output_type": "display_data"
    },
    {
     "data": {
      "text/html": [
       "<h4>Confusion Matrix:</h4>"
      ]
     },
     "metadata": {
      "tags": []
     },
     "output_type": "display_data"
    },
    {
     "data": {
      "text/html": [
       "<br/>"
      ]
     },
     "metadata": {
      "tags": []
     },
     "output_type": "display_data"
    },
    {
     "name": "stdout",
     "output_type": "stream",
     "text": [
      "[[ 317    1   15    1    1    0    0    1    0    0]\n",
      " [   0  550    0    4    1    4    1    1    0    0]\n",
      " [   1    0  264    0    0    0    0    5    0    1]\n",
      " [   0    2    0  224    9    1    0    0    0    0]\n",
      " [   0   11    1   10   34    0    0    0    1    0]\n",
      " [   1    2    0    2    0  129    0    1    0    0]\n",
      " [   0    2    0    1    0    0 1731    4    1    0]\n",
      " [  16    4   12    0    0    0   20  103    0    0]\n",
      " [   1    0    0    0    1    3    0    0   28    1]\n",
      " [   0    1    0    0    1    0    0    3    0   69]]\n"
     ]
    },
    {
     "data": {
      "text/html": [
       "<table style='font-size:16px;margin-left:auto;margin-right:auto;'><tr><th>Species</th><th>Accuracy</th> <th>Precision</th> <th>Recall</th> <th>F1-score</th></tr><tr><td>0</td><td>98.94%</td> <td>94.35%</td> <td>94.35%</td> <td>94.35%</td></tr><tr><td>1</td><td>99.06%</td> <td>95.99%</td> <td>98.04%</td> <td>97.00%</td></tr><tr><td>2</td><td>99.03%</td> <td>90.41%</td> <td>97.42%</td> <td>93.78%</td></tr><tr><td>3</td><td>99.17%</td> <td>92.56%</td> <td>94.92%</td> <td>93.72%</td></tr><tr><td>4</td><td>99.00%</td> <td>72.34%</td> <td>59.65%</td> <td>65.38%</td></tr><tr><td>5</td><td>99.61%</td> <td>94.16%</td> <td>95.56%</td> <td>94.85%</td></tr><tr><td>6</td><td>99.19%</td> <td>98.80%</td> <td>99.54%</td> <td>99.17%</td></tr><tr><td>7</td><td>98.14%</td> <td>87.29%</td> <td>66.45%</td> <td>75.46%</td></tr><tr><td>8</td><td>99.78%</td> <td>93.33%</td> <td>82.35%</td> <td>87.50%</td></tr><tr><td>9</td><td>99.81%</td> <td>97.18%</td> <td>93.24%</td> <td>95.17%</td></tr><tr><th>Average</th><th>99.17%</th> <th>91.64%</th> <th>88.15%</th> <th>89.64%</th></tr></table>"
      ]
     },
     "metadata": {
      "tags": []
     },
     "output_type": "display_data"
    },
    {
     "data": {
      "text/html": [
       "<hr>"
      ]
     },
     "metadata": {
      "tags": []
     },
     "output_type": "display_data"
    },
    {
     "data": {
      "text/html": [
       "<h2 style='text-align:center'>Iteration 25</h2>"
      ]
     },
     "metadata": {
      "tags": []
     },
     "output_type": "display_data"
    },
    {
     "data": {
      "text/html": [
       "<table style='font-size:16px;margin-left:auto;margin-right:auto;text-align=center'><tr><th>Hidden Layers</th><th>Training Fraction</th> <th>Number of Steps</th></tr><tr><th>[10, 10]</th><th>80%</th><th>100</th></tr></table>"
      ]
     },
     "metadata": {
      "tags": []
     },
     "output_type": "display_data"
    },
    {
     "data": {
      "text/html": [
       "<h4>Confusion Matrix:</h4>"
      ]
     },
     "metadata": {
      "tags": []
     },
     "output_type": "display_data"
    },
    {
     "data": {
      "text/html": [
       "<br/>"
      ]
     },
     "metadata": {
      "tags": []
     },
     "output_type": "display_data"
    },
    {
     "name": "stdout",
     "output_type": "stream",
     "text": [
      "[[  0 132   0   0   0   0   3   0   0   0]\n",
      " [  0  39   0   0   0   0 186   0   0   0]\n",
      " [  0  52   0   0   0   0  57   0   0   0]\n",
      " [  0  86   0   0   0   0   9   0   0   0]\n",
      " [  0  23   0   0   0   0   0   0   0   0]\n",
      " [  0  48   0   0   0   0   6   0   0   0]\n",
      " [  0   2   0   0   0   0 694   0   0   0]\n",
      " [  0  21   0   0   0   0  41   0   0   0]\n",
      " [  0  12   0   0   0   0   2   0   0   0]\n",
      " [  0   1   0   0   0   0  29   0   0   0]]\n"
     ]
    },
    {
     "data": {
      "text/html": [
       "<table style='font-size:16px;margin-left:auto;margin-right:auto;'><tr><th>Species</th><th>Accuracy</th> <th>Precision</th> <th>Recall</th> <th>F1-score</th></tr><tr><td>0</td><td>90.64%</td> <td>nan%</td> <td>0.00%</td> <td>nan%</td></tr><tr><td>1</td><td>60.98%</td> <td>9.38%</td> <td>17.33%</td> <td>12.17%</td></tr><tr><td>2</td><td>92.45%</td> <td>nan%</td> <td>0.00%</td> <td>nan%</td></tr><tr><td>3</td><td>93.42%</td> <td>nan%</td> <td>0.00%</td> <td>nan%</td></tr><tr><td>4</td><td>98.41%</td> <td>nan%</td> <td>0.00%</td> <td>nan%</td></tr><tr><td>5</td><td>96.26%</td> <td>nan%</td> <td>0.00%</td> <td>nan%</td></tr><tr><td>6</td><td>76.78%</td> <td>67.58%</td> <td>99.71%</td> <td>80.56%</td></tr><tr><td>7</td><td>95.70%</td> <td>nan%</td> <td>0.00%</td> <td>nan%</td></tr><tr><td>8</td><td>99.03%</td> <td>nan%</td> <td>0.00%</td> <td>nan%</td></tr><tr><td>9</td><td>97.92%</td> <td>nan%</td> <td>0.00%</td> <td>nan%</td></tr><tr><th>Average</th><th>90.16%</th> <th>38.48%</th> <th>11.70%</th> <th>46.36%</th></tr></table>"
      ]
     },
     "metadata": {
      "tags": []
     },
     "output_type": "display_data"
    },
    {
     "data": {
      "text/html": [
       "<hr>"
      ]
     },
     "metadata": {
      "tags": []
     },
     "output_type": "display_data"
    },
    {
     "data": {
      "text/html": [
       "<h2 style='text-align:center'>Iteration 26</h2>"
      ]
     },
     "metadata": {
      "tags": []
     },
     "output_type": "display_data"
    },
    {
     "data": {
      "text/html": [
       "<table style='font-size:16px;margin-left:auto;margin-right:auto;text-align=center'><tr><th>Hidden Layers</th><th>Training Fraction</th> <th>Number of Steps</th></tr><tr><th>[10, 10]</th><th>50%</th><th>100</th></tr></table>"
      ]
     },
     "metadata": {
      "tags": []
     },
     "output_type": "display_data"
    },
    {
     "data": {
      "text/html": [
       "<h4>Confusion Matrix:</h4>"
      ]
     },
     "metadata": {
      "tags": []
     },
     "output_type": "display_data"
    },
    {
     "data": {
      "text/html": [
       "<br/>"
      ]
     },
     "metadata": {
      "tags": []
     },
     "output_type": "display_data"
    },
    {
     "name": "stdout",
     "output_type": "stream",
     "text": [
      "[[   0  336    0    0    0    0    0    0    0    0]\n",
      " [   0  527    0    0    0    0   34    0    0    0]\n",
      " [   0  267    0    0    0    0    4    0    0    0]\n",
      " [   0  235    0    0    0    0    1    0    0    0]\n",
      " [   0   57    0    0    0    0    0    0    0    0]\n",
      " [   0  133    0    0    0    0    2    0    0    0]\n",
      " [   0    2    0    0    0    0 1737    0    0    0]\n",
      " [   0   78    0    0    0    0   77    0    0    0]\n",
      " [   0   34    0    0    0    0    0    0    0    0]\n",
      " [   0   30    0    0    0    0   44    0    0    0]]\n"
     ]
    },
    {
     "data": {
      "text/html": [
       "<table style='font-size:16px;margin-left:auto;margin-right:auto;'><tr><th>Species</th><th>Accuracy</th> <th>Precision</th> <th>Recall</th> <th>F1-score</th></tr><tr><td>0</td><td>90.66%</td> <td>nan%</td> <td>0.00%</td> <td>nan%</td></tr><tr><td>1</td><td>66.48%</td> <td>31.02%</td> <td>93.94%</td> <td>46.64%</td></tr><tr><td>2</td><td>92.47%</td> <td>nan%</td> <td>0.00%</td> <td>nan%</td></tr><tr><td>3</td><td>93.44%</td> <td>nan%</td> <td>0.00%</td> <td>nan%</td></tr><tr><td>4</td><td>98.42%</td> <td>nan%</td> <td>0.00%</td> <td>nan%</td></tr><tr><td>5</td><td>96.25%</td> <td>nan%</td> <td>0.00%</td> <td>nan%</td></tr><tr><td>6</td><td>95.44%</td> <td>91.47%</td> <td>99.88%</td> <td>95.49%</td></tr><tr><td>7</td><td>95.69%</td> <td>nan%</td> <td>0.00%</td> <td>nan%</td></tr><tr><td>8</td><td>99.06%</td> <td>nan%</td> <td>0.00%</td> <td>nan%</td></tr><tr><td>9</td><td>97.94%</td> <td>nan%</td> <td>0.00%</td> <td>nan%</td></tr><tr><th>Average</th><th>92.58%</th> <th>61.24%</th> <th>19.38%</th> <th>71.06%</th></tr></table>"
      ]
     },
     "metadata": {
      "tags": []
     },
     "output_type": "display_data"
    },
    {
     "data": {
      "text/html": [
       "<hr>"
      ]
     },
     "metadata": {
      "tags": []
     },
     "output_type": "display_data"
    },
    {
     "data": {
      "text/html": [
       "<h2 style='text-align:center'>Iteration 27</h2>"
      ]
     },
     "metadata": {
      "tags": []
     },
     "output_type": "display_data"
    },
    {
     "data": {
      "text/html": [
       "<table style='font-size:16px;margin-left:auto;margin-right:auto;text-align=center'><tr><th>Hidden Layers</th><th>Training Fraction</th> <th>Number of Steps</th></tr><tr><th>[10, 10]</th><th>80%</th><th>200</th></tr></table>"
      ]
     },
     "metadata": {
      "tags": []
     },
     "output_type": "display_data"
    },
    {
     "data": {
      "text/html": [
       "<h4>Confusion Matrix:</h4>"
      ]
     },
     "metadata": {
      "tags": []
     },
     "output_type": "display_data"
    },
    {
     "data": {
      "text/html": [
       "<br/>"
      ]
     },
     "metadata": {
      "tags": []
     },
     "output_type": "display_data"
    },
    {
     "name": "stdout",
     "output_type": "stream",
     "text": [
      "[[125  10   0   0   0   0   0   0   0   0]\n",
      " [  0 222   0   0   0   0   3   0   0   0]\n",
      " [ 92  15   2   0   0   0   0   0   0   0]\n",
      " [  1  94   0   0   0   0   0   0   0   0]\n",
      " [  0  23   0   0   0   0   0   0   0   0]\n",
      " [  1  53   0   0   0   0   0   0   0   0]\n",
      " [  0   4   0   0   0   0 692   0   0   0]\n",
      " [ 22  18   0   0   0   0  22   0   0   0]\n",
      " [  1  13   0   0   0   0   0   0   0   0]\n",
      " [  1  16   0   0   0   0  13   0   0   0]]\n"
     ]
    },
    {
     "data": {
      "text/html": [
       "<table style='font-size:16px;margin-left:auto;margin-right:auto;'><tr><th>Species</th><th>Accuracy</th> <th>Precision</th> <th>Recall</th> <th>F1-score</th></tr><tr><td>0</td><td>91.13%</td> <td>51.44%</td> <td>92.59%</td> <td>66.14%</td></tr><tr><td>1</td><td>82.74%</td> <td>47.44%</td> <td>98.67%</td> <td>64.07%</td></tr><tr><td>2</td><td>92.58%</td> <td>100.00%</td> <td>1.83%</td> <td>3.60%</td></tr><tr><td>3</td><td>93.42%</td> <td>nan%</td> <td>0.00%</td> <td>nan%</td></tr><tr><td>4</td><td>98.41%</td> <td>nan%</td> <td>0.00%</td> <td>nan%</td></tr><tr><td>5</td><td>96.26%</td> <td>nan%</td> <td>0.00%</td> <td>nan%</td></tr><tr><td>6</td><td>97.09%</td> <td>94.79%</td> <td>99.43%</td> <td>97.05%</td></tr><tr><td>7</td><td>95.70%</td> <td>nan%</td> <td>0.00%</td> <td>nan%</td></tr><tr><td>8</td><td>99.03%</td> <td>nan%</td> <td>0.00%</td> <td>nan%</td></tr><tr><td>9</td><td>97.92%</td> <td>nan%</td> <td>0.00%</td> <td>nan%</td></tr><tr><th>Average</th><th>94.43%</th> <th>73.42%</th> <th>29.25%</th> <th>57.72%</th></tr></table>"
      ]
     },
     "metadata": {
      "tags": []
     },
     "output_type": "display_data"
    },
    {
     "data": {
      "text/html": [
       "<hr>"
      ]
     },
     "metadata": {
      "tags": []
     },
     "output_type": "display_data"
    },
    {
     "data": {
      "text/html": [
       "<h2 style='text-align:center'>Iteration 28</h2>"
      ]
     },
     "metadata": {
      "tags": []
     },
     "output_type": "display_data"
    },
    {
     "data": {
      "text/html": [
       "<table style='font-size:16px;margin-left:auto;margin-right:auto;text-align=center'><tr><th>Hidden Layers</th><th>Training Fraction</th> <th>Number of Steps</th></tr><tr><th>[10, 10]</th><th>50%</th><th>200</th></tr></table>"
      ]
     },
     "metadata": {
      "tags": []
     },
     "output_type": "display_data"
    },
    {
     "data": {
      "text/html": [
       "<h4>Confusion Matrix:</h4>"
      ]
     },
     "metadata": {
      "tags": []
     },
     "output_type": "display_data"
    },
    {
     "data": {
      "text/html": [
       "<br/>"
      ]
     },
     "metadata": {
      "tags": []
     },
     "output_type": "display_data"
    },
    {
     "name": "stdout",
     "output_type": "stream",
     "text": [
      "[[   0  336    0    0    0    0    0    0    0    0]\n",
      " [   0  550    0    0    0    0   11    0    0    0]\n",
      " [   0  271    0    0    0    0    0    0    0    0]\n",
      " [   0  236    0    0    0    0    0    0    0    0]\n",
      " [   0   57    0    0    0    0    0    0    0    0]\n",
      " [   0  134    0    0    0    0    1    0    0    0]\n",
      " [   0    3    0    0    0    0 1736    0    0    0]\n",
      " [   0   91    0    0    0    0   64    0    0    0]\n",
      " [   0   34    0    0    0    0    0    0    0    0]\n",
      " [   0   53    0    0    0    0   21    0    0    0]]\n"
     ]
    },
    {
     "data": {
      "text/html": [
       "<table style='font-size:16px;margin-left:auto;margin-right:auto;'><tr><th>Species</th><th>Accuracy</th> <th>Precision</th> <th>Recall</th> <th>F1-score</th></tr><tr><td>0</td><td>90.66%</td> <td>nan%</td> <td>0.00%</td> <td>nan%</td></tr><tr><td>1</td><td>65.93%</td> <td>31.16%</td> <td>98.04%</td> <td>47.29%</td></tr><tr><td>2</td><td>92.47%</td> <td>nan%</td> <td>0.00%</td> <td>nan%</td></tr><tr><td>3</td><td>93.44%</td> <td>nan%</td> <td>0.00%</td> <td>nan%</td></tr><tr><td>4</td><td>98.42%</td> <td>nan%</td> <td>0.00%</td> <td>nan%</td></tr><tr><td>5</td><td>96.25%</td> <td>nan%</td> <td>0.00%</td> <td>nan%</td></tr><tr><td>6</td><td>97.22%</td> <td>94.71%</td> <td>99.83%</td> <td>97.20%</td></tr><tr><td>7</td><td>95.69%</td> <td>nan%</td> <td>0.00%</td> <td>nan%</td></tr><tr><td>8</td><td>99.06%</td> <td>nan%</td> <td>0.00%</td> <td>nan%</td></tr><tr><td>9</td><td>97.94%</td> <td>nan%</td> <td>0.00%</td> <td>nan%</td></tr><tr><th>Average</th><th>92.71%</th> <th>62.93%</th> <th>19.79%</th> <th>72.25%</th></tr></table>"
      ]
     },
     "metadata": {
      "tags": []
     },
     "output_type": "display_data"
    },
    {
     "data": {
      "text/html": [
       "<hr>"
      ]
     },
     "metadata": {
      "tags": []
     },
     "output_type": "display_data"
    },
    {
     "data": {
      "text/html": [
       "<h2 style='text-align:center'>Iteration 29</h2>"
      ]
     },
     "metadata": {
      "tags": []
     },
     "output_type": "display_data"
    },
    {
     "data": {
      "text/html": [
       "<table style='font-size:16px;margin-left:auto;margin-right:auto;text-align=center'><tr><th>Hidden Layers</th><th>Training Fraction</th> <th>Number of Steps</th></tr><tr><th>[10, 10]</th><th>80%</th><th>500</th></tr></table>"
      ]
     },
     "metadata": {
      "tags": []
     },
     "output_type": "display_data"
    },
    {
     "data": {
      "text/html": [
       "<h4>Confusion Matrix:</h4>"
      ]
     },
     "metadata": {
      "tags": []
     },
     "output_type": "display_data"
    },
    {
     "data": {
      "text/html": [
       "<br/>"
      ]
     },
     "metadata": {
      "tags": []
     },
     "output_type": "display_data"
    },
    {
     "name": "stdout",
     "output_type": "stream",
     "text": [
      "[[134   1   0   0   0   0   0   0   0   0]\n",
      " [  0 221   0   0   0   0   4   0   0   0]\n",
      " [ 77  14  18   0   0   0   0   0   0   0]\n",
      " [ 19  16   0  60   0   0   0   0   0   0]\n",
      " [ 15   4   0   4   0   0   0   0   0   0]\n",
      " [  3  51   0   0   0   0   0   0   0   0]\n",
      " [  0   0   0   0   0   0 696   0   0   0]\n",
      " [ 21  25   1   1   0   0  14   0   0   0]\n",
      " [ 14   0   0   0   0   0   0   0   0   0]\n",
      " [  1  14   0   0   0   0  15   0   0   0]]\n"
     ]
    },
    {
     "data": {
      "text/html": [
       "<table style='font-size:16px;margin-left:auto;margin-right:auto;'><tr><th>Species</th><th>Accuracy</th> <th>Precision</th> <th>Recall</th> <th>F1-score</th></tr><tr><td>0</td><td>89.54%</td> <td>47.18%</td> <td>99.26%</td> <td>63.96%</td></tr><tr><td>1</td><td>91.06%</td> <td>63.87%</td> <td>98.22%</td> <td>77.41%</td></tr><tr><td>2</td><td>93.62%</td> <td>94.74%</td> <td>16.51%</td> <td>28.12%</td></tr><tr><td>3</td><td>97.23%</td> <td>92.31%</td> <td>63.16%</td> <td>75.00%</td></tr><tr><td>4</td><td>98.41%</td> <td>nan%</td> <td>0.00%</td> <td>nan%</td></tr><tr><td>5</td><td>96.26%</td> <td>nan%</td> <td>0.00%</td> <td>nan%</td></tr><tr><td>6</td><td>97.71%</td> <td>95.47%</td> <td>100.00%</td> <td>97.68%</td></tr><tr><td>7</td><td>95.70%</td> <td>nan%</td> <td>0.00%</td> <td>nan%</td></tr><tr><td>8</td><td>99.03%</td> <td>nan%</td> <td>0.00%</td> <td>nan%</td></tr><tr><td>9</td><td>97.92%</td> <td>nan%</td> <td>0.00%</td> <td>nan%</td></tr><tr><th>Average</th><th>95.65%</th> <th>78.71%</th> <th>37.72%</th> <th>68.44%</th></tr></table>"
      ]
     },
     "metadata": {
      "tags": []
     },
     "output_type": "display_data"
    },
    {
     "data": {
      "text/html": [
       "<hr>"
      ]
     },
     "metadata": {
      "tags": []
     },
     "output_type": "display_data"
    },
    {
     "data": {
      "text/html": [
       "<h2 style='text-align:center'>Iteration 30</h2>"
      ]
     },
     "metadata": {
      "tags": []
     },
     "output_type": "display_data"
    },
    {
     "data": {
      "text/html": [
       "<table style='font-size:16px;margin-left:auto;margin-right:auto;text-align=center'><tr><th>Hidden Layers</th><th>Training Fraction</th> <th>Number of Steps</th></tr><tr><th>[10, 10]</th><th>50%</th><th>500</th></tr></table>"
      ]
     },
     "metadata": {
      "tags": []
     },
     "output_type": "display_data"
    },
    {
     "data": {
      "text/html": [
       "<h4>Confusion Matrix:</h4>"
      ]
     },
     "metadata": {
      "tags": []
     },
     "output_type": "display_data"
    },
    {
     "data": {
      "text/html": [
       "<br/>"
      ]
     },
     "metadata": {
      "tags": []
     },
     "output_type": "display_data"
    },
    {
     "name": "stdout",
     "output_type": "stream",
     "text": [
      "[[ 320   13    3    0    0    0    0    0    0    0]\n",
      " [   6  548    0    0    0    0    7    0    0    0]\n",
      " [ 120   64   87    0    0    0    0    0    0    0]\n",
      " [  21  215    0    0    0    0    0    0    0    0]\n",
      " [  29   28    0    0    0    0    0    0    0    0]\n",
      " [  31   99    3    0    0    0    2    0    0    0]\n",
      " [   0    4    0    0    0    0 1735    0    0    0]\n",
      " [  45   34   11    0    0    0   65    0    0    0]\n",
      " [   1   33    0    0    0    0    0    0    0    0]\n",
      " [   4   59    1    0    0    0   10    0    0    0]]\n"
     ]
    },
    {
     "data": {
      "text/html": [
       "<table style='font-size:16px;margin-left:auto;margin-right:auto;'><tr><th>Species</th><th>Accuracy</th> <th>Precision</th> <th>Recall</th> <th>F1-score</th></tr><tr><td>0</td><td>92.41%</td> <td>55.46%</td> <td>95.24%</td> <td>70.10%</td></tr><tr><td>1</td><td>84.38%</td> <td>49.95%</td> <td>97.68%</td> <td>66.10%</td></tr><tr><td>2</td><td>94.39%</td> <td>82.86%</td> <td>32.10%</td> <td>46.28%</td></tr><tr><td>3</td><td>93.44%</td> <td>nan%</td> <td>0.00%</td> <td>nan%</td></tr><tr><td>4</td><td>98.42%</td> <td>nan%</td> <td>0.00%</td> <td>nan%</td></tr><tr><td>5</td><td>96.25%</td> <td>nan%</td> <td>0.00%</td> <td>nan%</td></tr><tr><td>6</td><td>97.55%</td> <td>95.38%</td> <td>99.77%</td> <td>97.53%</td></tr><tr><td>7</td><td>95.69%</td> <td>nan%</td> <td>0.00%</td> <td>nan%</td></tr><tr><td>8</td><td>99.06%</td> <td>nan%</td> <td>0.00%</td> <td>nan%</td></tr><tr><td>9</td><td>97.94%</td> <td>nan%</td> <td>0.00%</td> <td>nan%</td></tr><tr><th>Average</th><th>94.95%</th> <th>70.91%</th> <th>32.48%</th> <th>70.00%</th></tr></table>"
      ]
     },
     "metadata": {
      "tags": []
     },
     "output_type": "display_data"
    },
    {
     "data": {
      "text/html": [
       "<hr>"
      ]
     },
     "metadata": {
      "tags": []
     },
     "output_type": "display_data"
    },
    {
     "data": {
      "text/html": [
       "<h2 style='text-align:center'>Iteration 31</h2>"
      ]
     },
     "metadata": {
      "tags": []
     },
     "output_type": "display_data"
    },
    {
     "data": {
      "text/html": [
       "<table style='font-size:16px;margin-left:auto;margin-right:auto;text-align=center'><tr><th>Hidden Layers</th><th>Training Fraction</th> <th>Number of Steps</th></tr><tr><th>[10, 10]</th><th>80%</th><th>1000</th></tr></table>"
      ]
     },
     "metadata": {
      "tags": []
     },
     "output_type": "display_data"
    },
    {
     "data": {
      "text/html": [
       "<h4>Confusion Matrix:</h4>"
      ]
     },
     "metadata": {
      "tags": []
     },
     "output_type": "display_data"
    },
    {
     "data": {
      "text/html": [
       "<br/>"
      ]
     },
     "metadata": {
      "tags": []
     },
     "output_type": "display_data"
    },
    {
     "name": "stdout",
     "output_type": "stream",
     "text": [
      "[[131   1   1   2   0   0   0   0   0   0]\n",
      " [  0 218   0   4   0   0   3   0   0   0]\n",
      " [ 48   7  54   0   0   0   0   0   0   0]\n",
      " [  1   0   0  94   0   0   0   0   0   0]\n",
      " [  4   9   0  10   0   0   0   0   0   0]\n",
      " [  1  43   6   2   0   0   0   2   0   0]\n",
      " [  0   0   0   1   0   0 695   0   0   0]\n",
      " [  9   6  14   0   0   0  13  20   0   0]\n",
      " [ 10   3   0   1   0   0   0   0   0   0]\n",
      " [  1  21   6   1   0   0   1   0   0   0]]\n"
     ]
    },
    {
     "data": {
      "text/html": [
       "<table style='font-size:16px;margin-left:auto;margin-right:auto;'><tr><th>Species</th><th>Accuracy</th> <th>Precision</th> <th>Recall</th> <th>F1-score</th></tr><tr><td>0</td><td>94.59%</td> <td>63.90%</td> <td>97.04%</td> <td>77.06%</td></tr><tr><td>1</td><td>93.28%</td> <td>70.78%</td> <td>96.89%</td> <td>81.80%</td></tr><tr><td>2</td><td>94.32%</td> <td>66.67%</td> <td>49.54%</td> <td>56.84%</td></tr><tr><td>3</td><td>98.48%</td> <td>81.74%</td> <td>98.95%</td> <td>89.52%</td></tr><tr><td>4</td><td>98.41%</td> <td>nan%</td> <td>0.00%</td> <td>nan%</td></tr><tr><td>5</td><td>96.26%</td> <td>nan%</td> <td>0.00%</td> <td>nan%</td></tr><tr><td>6</td><td>98.75%</td> <td>97.61%</td> <td>99.86%</td> <td>98.72%</td></tr><tr><td>7</td><td>96.95%</td> <td>90.91%</td> <td>32.26%</td> <td>47.62%</td></tr><tr><td>8</td><td>99.03%</td> <td>nan%</td> <td>0.00%</td> <td>nan%</td></tr><tr><td>9</td><td>97.92%</td> <td>nan%</td> <td>0.00%</td> <td>nan%</td></tr><tr><th>Average</th><th>96.80%</th> <th>78.60%</th> <th>47.45%</th> <th>75.26%</th></tr></table>"
      ]
     },
     "metadata": {
      "tags": []
     },
     "output_type": "display_data"
    },
    {
     "data": {
      "text/html": [
       "<hr>"
      ]
     },
     "metadata": {
      "tags": []
     },
     "output_type": "display_data"
    },
    {
     "data": {
      "text/html": [
       "<h2 style='text-align:center'>Iteration 32</h2>"
      ]
     },
     "metadata": {
      "tags": []
     },
     "output_type": "display_data"
    },
    {
     "data": {
      "text/html": [
       "<table style='font-size:16px;margin-left:auto;margin-right:auto;text-align=center'><tr><th>Hidden Layers</th><th>Training Fraction</th> <th>Number of Steps</th></tr><tr><th>[10, 10]</th><th>50%</th><th>1000</th></tr></table>"
      ]
     },
     "metadata": {
      "tags": []
     },
     "output_type": "display_data"
    },
    {
     "data": {
      "text/html": [
       "<h4>Confusion Matrix:</h4>"
      ]
     },
     "metadata": {
      "tags": []
     },
     "output_type": "display_data"
    },
    {
     "data": {
      "text/html": [
       "<br/>"
      ]
     },
     "metadata": {
      "tags": []
     },
     "output_type": "display_data"
    },
    {
     "name": "stdout",
     "output_type": "stream",
     "text": [
      "[[ 301    4   29    2    0    0    0    0    0    0]\n",
      " [   1  555    0    1    0    0    4    0    0    0]\n",
      " [  80    0  190    0    0    0    0    1    0    0]\n",
      " [   7   46    0  183    0    0    0    0    0    0]\n",
      " [   3   39    0   15    0    0    0    0    0    0]\n",
      " [   2  127    3    1    0    0    1    1    0    0]\n",
      " [   0    0    3    0    0    0 1736    0    0    0]\n",
      " [  19    2   45    0    0    0   47   42    0    0]\n",
      " [  29    3    0    0    0    0    0    2    0    0]\n",
      " [   3   33    1    0    0    0   19   18    0    0]]\n"
     ]
    },
    {
     "data": {
      "text/html": [
       "<table style='font-size:16px;margin-left:auto;margin-right:auto;'><tr><th>Species</th><th>Accuracy</th> <th>Precision</th> <th>Recall</th> <th>F1-score</th></tr><tr><td>0</td><td>95.03%</td> <td>67.64%</td> <td>89.58%</td> <td>77.08%</td></tr><tr><td>1</td><td>92.77%</td> <td>68.60%</td> <td>98.93%</td> <td>81.02%</td></tr><tr><td>2</td><td>95.50%</td> <td>70.11%</td> <td>70.11%</td> <td>70.11%</td></tr><tr><td>3</td><td>98.00%</td> <td>90.59%</td> <td>77.54%</td> <td>83.56%</td></tr><tr><td>4</td><td>98.42%</td> <td>nan%</td> <td>0.00%</td> <td>nan%</td></tr><tr><td>5</td><td>96.25%</td> <td>nan%</td> <td>0.00%</td> <td>nan%</td></tr><tr><td>6</td><td>97.94%</td> <td>96.07%</td> <td>99.83%</td> <td>97.91%</td></tr><tr><td>7</td><td>96.25%</td> <td>65.62%</td> <td>27.10%</td> <td>38.36%</td></tr><tr><td>8</td><td>99.06%</td> <td>nan%</td> <td>0.00%</td> <td>nan%</td></tr><tr><td>9</td><td>97.94%</td> <td>nan%</td> <td>0.00%</td> <td>nan%</td></tr><tr><th>Average</th><th>96.71%</th> <th>76.44%</th> <th>46.31%</th> <th>74.67%</th></tr></table>"
      ]
     },
     "metadata": {
      "tags": []
     },
     "output_type": "display_data"
    },
    {
     "data": {
      "text/html": [
       "<hr>"
      ]
     },
     "metadata": {
      "tags": []
     },
     "output_type": "display_data"
    },
    {
     "data": {
      "text/html": [
       "<h2 style='text-align:center'>Iteration 33</h2>"
      ]
     },
     "metadata": {
      "tags": []
     },
     "output_type": "display_data"
    },
    {
     "data": {
      "text/html": [
       "<table style='font-size:16px;margin-left:auto;margin-right:auto;text-align=center'><tr><th>Hidden Layers</th><th>Training Fraction</th> <th>Number of Steps</th></tr><tr><th>[10, 10]</th><th>80%</th><th>1500</th></tr></table>"
      ]
     },
     "metadata": {
      "tags": []
     },
     "output_type": "display_data"
    },
    {
     "data": {
      "text/html": [
       "<h4>Confusion Matrix:</h4>"
      ]
     },
     "metadata": {
      "tags": []
     },
     "output_type": "display_data"
    },
    {
     "data": {
      "text/html": [
       "<br/>"
      ]
     },
     "metadata": {
      "tags": []
     },
     "output_type": "display_data"
    },
    {
     "name": "stdout",
     "output_type": "stream",
     "text": [
      "[[123   0   9   3   0   0   0   0   0   0]\n",
      " [  0 221   0   3   0   0   1   0   0   0]\n",
      " [ 18   1  90   0   0   0   0   0   0   0]\n",
      " [  0   4   0  91   0   0   0   0   0   0]\n",
      " [  2   1   0  20   0   0   0   0   0   0]\n",
      " [  1  21   0  32   0   0   0   0   0   0]\n",
      " [  0   3   0   1   0   0 692   0   0   0]\n",
      " [  9   1  12   0   0   0  11  29   0   0]\n",
      " [  4   5   2   3   0   0   0   0   0   0]\n",
      " [  1  21   3   0   0   0   2   3   0   0]]\n"
     ]
    },
    {
     "data": {
      "text/html": [
       "<table style='font-size:16px;margin-left:auto;margin-right:auto;'><tr><th>Species</th><th>Accuracy</th> <th>Precision</th> <th>Recall</th> <th>F1-score</th></tr><tr><td>0</td><td>96.74%</td> <td>77.85%</td> <td>91.11%</td> <td>83.96%</td></tr><tr><td>1</td><td>95.77%</td> <td>79.50%</td> <td>98.22%</td> <td>87.87%</td></tr><tr><td>2</td><td>96.88%</td> <td>77.59%</td> <td>82.57%</td> <td>80.00%</td></tr><tr><td>3</td><td>95.43%</td> <td>59.48%</td> <td>95.79%</td> <td>73.39%</td></tr><tr><td>4</td><td>98.41%</td> <td>nan%</td> <td>0.00%</td> <td>nan%</td></tr><tr><td>5</td><td>96.26%</td> <td>nan%</td> <td>0.00%</td> <td>nan%</td></tr><tr><td>6</td><td>98.75%</td> <td>98.02%</td> <td>99.43%</td> <td>98.72%</td></tr><tr><td>7</td><td>97.51%</td> <td>90.62%</td> <td>46.77%</td> <td>61.70%</td></tr><tr><td>8</td><td>99.03%</td> <td>nan%</td> <td>0.00%</td> <td>nan%</td></tr><tr><td>9</td><td>97.92%</td> <td>nan%</td> <td>0.00%</td> <td>nan%</td></tr><tr><th>Average</th><th>97.27%</th> <th>80.51%</th> <th>51.39%</th> <th>80.94%</th></tr></table>"
      ]
     },
     "metadata": {
      "tags": []
     },
     "output_type": "display_data"
    },
    {
     "data": {
      "text/html": [
       "<hr>"
      ]
     },
     "metadata": {
      "tags": []
     },
     "output_type": "display_data"
    },
    {
     "data": {
      "text/html": [
       "<h2 style='text-align:center'>Iteration 34</h2>"
      ]
     },
     "metadata": {
      "tags": []
     },
     "output_type": "display_data"
    },
    {
     "data": {
      "text/html": [
       "<table style='font-size:16px;margin-left:auto;margin-right:auto;text-align=center'><tr><th>Hidden Layers</th><th>Training Fraction</th> <th>Number of Steps</th></tr><tr><th>[10, 10]</th><th>50%</th><th>1500</th></tr></table>"
      ]
     },
     "metadata": {
      "tags": []
     },
     "output_type": "display_data"
    },
    {
     "data": {
      "text/html": [
       "<h4>Confusion Matrix:</h4>"
      ]
     },
     "metadata": {
      "tags": []
     },
     "output_type": "display_data"
    },
    {
     "data": {
      "text/html": [
       "<br/>"
      ]
     },
     "metadata": {
      "tags": []
     },
     "output_type": "display_data"
    },
    {
     "name": "stdout",
     "output_type": "stream",
     "text": [
      "[[ 321    2   11    2    0    0    0    0    0    0]\n",
      " [   1  547    1    4    0    2    6    0    0    0]\n",
      " [  42   13  216    0    0    0    0    0    0    0]\n",
      " [   7    4    1  223    0    1    0    0    0    0]\n",
      " [   5   15   26   11    0    0    0    0    0    0]\n",
      " [   3   65    1    2    0   61    2    1    0    0]\n",
      " [   0    0    0    3    0    0 1736    0    0    0]\n",
      " [  41   48   23    0    0    7   31    5    0    0]\n",
      " [   4    1   25    4    0    0    0    0    0    0]\n",
      " [   1   34    5   13    0    8   13    0    0    0]]\n"
     ]
    },
    {
     "data": {
      "text/html": [
       "<table style='font-size:16px;margin-left:auto;margin-right:auto;'><tr><th>Species</th><th>Accuracy</th> <th>Precision</th> <th>Recall</th> <th>F1-score</th></tr><tr><td>0</td><td>96.69%</td> <td>75.53%</td> <td>95.54%</td> <td>84.36%</td></tr><tr><td>1</td><td>94.55%</td> <td>75.03%</td> <td>97.50%</td> <td>84.81%</td></tr><tr><td>2</td><td>95.89%</td> <td>69.90%</td> <td>79.70%</td> <td>74.48%</td></tr><tr><td>3</td><td>98.55%</td> <td>85.11%</td> <td>94.49%</td> <td>89.56%</td></tr><tr><td>4</td><td>98.42%</td> <td>nan%</td> <td>0.00%</td> <td>nan%</td></tr><tr><td>5</td><td>97.44%</td> <td>77.22%</td> <td>45.19%</td> <td>57.01%</td></tr><tr><td>6</td><td>98.47%</td> <td>97.09%</td> <td>99.83%</td> <td>98.44%</td></tr><tr><td>7</td><td>95.80%</td> <td>83.33%</td> <td>3.23%</td> <td>6.21%</td></tr><tr><td>8</td><td>99.06%</td> <td>nan%</td> <td>0.00%</td> <td>nan%</td></tr><tr><td>9</td><td>97.94%</td> <td>nan%</td> <td>0.00%</td> <td>nan%</td></tr><tr><th>Average</th><th>97.28%</th> <th>80.46%</th> <th>51.55%</th> <th>70.70%</th></tr></table>"
      ]
     },
     "metadata": {
      "tags": []
     },
     "output_type": "display_data"
    },
    {
     "data": {
      "text/html": [
       "<hr>"
      ]
     },
     "metadata": {
      "tags": []
     },
     "output_type": "display_data"
    },
    {
     "data": {
      "text/html": [
       "<h2 style='text-align:center'>Iteration 35</h2>"
      ]
     },
     "metadata": {
      "tags": []
     },
     "output_type": "display_data"
    },
    {
     "data": {
      "text/html": [
       "<table style='font-size:16px;margin-left:auto;margin-right:auto;text-align=center'><tr><th>Hidden Layers</th><th>Training Fraction</th> <th>Number of Steps</th></tr><tr><th>[10, 10]</th><th>80%</th><th>2000</th></tr></table>"
      ]
     },
     "metadata": {
      "tags": []
     },
     "output_type": "display_data"
    },
    {
     "data": {
      "text/html": [
       "<h4>Confusion Matrix:</h4>"
      ]
     },
     "metadata": {
      "tags": []
     },
     "output_type": "display_data"
    },
    {
     "data": {
      "text/html": [
       "<br/>"
      ]
     },
     "metadata": {
      "tags": []
     },
     "output_type": "display_data"
    },
    {
     "name": "stdout",
     "output_type": "stream",
     "text": [
      "[[126   1   7   1   0   0   0   0   0   0]\n",
      " [  0 221   0   2   0   0   2   0   0   0]\n",
      " [ 21   0  88   0   0   0   0   0   0   0]\n",
      " [  2   0   0  93   0   0   0   0   0   0]\n",
      " [  1   5   0  16   0   1   0   0   0   0]\n",
      " [  1  34   3   2   0   8   0   6   0   0]\n",
      " [  0   0   1   0   0   0 695   0   0   0]\n",
      " [  7   0  19   0   0   1  11  24   0   0]\n",
      " [  4   1   9   0   0   0   0   0   0   0]\n",
      " [  2  18   4   2   0   0   1   3   0   0]]\n"
     ]
    },
    {
     "data": {
      "text/html": [
       "<table style='font-size:16px;margin-left:auto;margin-right:auto;'><tr><th>Species</th><th>Accuracy</th> <th>Precision</th> <th>Recall</th> <th>F1-score</th></tr><tr><td>0</td><td>96.74%</td> <td>76.83%</td> <td>93.33%</td> <td>84.28%</td></tr><tr><td>1</td><td>95.63%</td> <td>78.93%</td> <td>98.22%</td> <td>87.52%</td></tr><tr><td>2</td><td>95.56%</td> <td>67.18%</td> <td>80.73%</td> <td>73.33%</td></tr><tr><td>3</td><td>98.27%</td> <td>80.17%</td> <td>97.89%</td> <td>88.15%</td></tr><tr><td>4</td><td>98.41%</td> <td>nan%</td> <td>0.00%</td> <td>nan%</td></tr><tr><td>5</td><td>96.67%</td> <td>80.00%</td> <td>14.81%</td> <td>25.00%</td></tr><tr><td>6</td><td>98.96%</td> <td>98.03%</td> <td>99.86%</td> <td>98.93%</td></tr><tr><td>7</td><td>96.74%</td> <td>72.73%</td> <td>38.71%</td> <td>50.53%</td></tr><tr><td>8</td><td>99.03%</td> <td>nan%</td> <td>0.00%</td> <td>nan%</td></tr><tr><td>9</td><td>97.92%</td> <td>nan%</td> <td>0.00%</td> <td>nan%</td></tr><tr><th>Average</th><th>97.39%</th> <th>79.12%</th> <th>52.36%</th> <th>72.54%</th></tr></table>"
      ]
     },
     "metadata": {
      "tags": []
     },
     "output_type": "display_data"
    },
    {
     "data": {
      "text/html": [
       "<hr>"
      ]
     },
     "metadata": {
      "tags": []
     },
     "output_type": "display_data"
    },
    {
     "data": {
      "text/html": [
       "<h2 style='text-align:center'>Iteration 36</h2>"
      ]
     },
     "metadata": {
      "tags": []
     },
     "output_type": "display_data"
    },
    {
     "data": {
      "text/html": [
       "<table style='font-size:16px;margin-left:auto;margin-right:auto;text-align=center'><tr><th>Hidden Layers</th><th>Training Fraction</th> <th>Number of Steps</th></tr><tr><th>[10, 10]</th><th>50%</th><th>2000</th></tr></table>"
      ]
     },
     "metadata": {
      "tags": []
     },
     "output_type": "display_data"
    },
    {
     "data": {
      "text/html": [
       "<h4>Confusion Matrix:</h4>"
      ]
     },
     "metadata": {
      "tags": []
     },
     "output_type": "display_data"
    },
    {
     "data": {
      "text/html": [
       "<br/>"
      ]
     },
     "metadata": {
      "tags": []
     },
     "output_type": "display_data"
    },
    {
     "name": "stdout",
     "output_type": "stream",
     "text": [
      "[[ 312    3   16    5    0    0    0    0    0    0]\n",
      " [   1  556    0    2    0    0    2    0    0    0]\n",
      " [  38    0  227    0    0    1    0    5    0    0]\n",
      " [   0    9    0  227    0    0    0    0    0    0]\n",
      " [   2   32    0   18    0    5    0    0    0    0]\n",
      " [   3  118    5    3    0    1    1    4    0    0]\n",
      " [   0    1    1    3    0    0 1734    0    0    0]\n",
      " [  18    1   40    0    0    0   37   58    0    1]\n",
      " [  11    0   15    1    0    6    0    0    0    1]\n",
      " [   0   13   10   14    0    0   23    5    0    9]]\n"
     ]
    },
    {
     "data": {
      "text/html": [
       "<table style='font-size:16px;margin-left:auto;margin-right:auto;'><tr><th>Species</th><th>Accuracy</th> <th>Precision</th> <th>Recall</th> <th>F1-score</th></tr><tr><td>0</td><td>97.30%</td> <td>81.04%</td> <td>92.86%</td> <td>86.55%</td></tr><tr><td>1</td><td>94.94%</td> <td>75.85%</td> <td>99.11%</td> <td>85.94%</td></tr><tr><td>2</td><td>96.36%</td> <td>72.29%</td> <td>83.76%</td> <td>77.61%</td></tr><tr><td>3</td><td>98.47%</td> <td>83.15%</td> <td>96.19%</td> <td>89.19%</td></tr><tr><td>4</td><td>98.42%</td> <td>nan%</td> <td>0.00%</td> <td>nan%</td></tr><tr><td>5</td><td>95.94%</td> <td>7.69%</td> <td>0.74%</td> <td>1.35%</td></tr><tr><td>6</td><td>98.11%</td> <td>96.49%</td> <td>99.71%</td> <td>98.08%</td></tr><tr><td>7</td><td>96.91%</td> <td>80.56%</td> <td>37.42%</td> <td>51.10%</td></tr><tr><td>8</td><td>99.06%</td> <td>nan%</td> <td>0.00%</td> <td>nan%</td></tr><tr><td>9</td><td>98.14%</td> <td>81.82%</td> <td>12.16%</td> <td>21.18%</td></tr><tr><th>Average</th><th>97.37%</th> <th>72.36%</th> <th>52.20%</th> <th>63.87%</th></tr></table>"
      ]
     },
     "metadata": {
      "tags": []
     },
     "output_type": "display_data"
    },
    {
     "data": {
      "text/html": [
       "<hr>"
      ]
     },
     "metadata": {
      "tags": []
     },
     "output_type": "display_data"
    },
    {
     "data": {
      "text/html": [
       "<h2 style='text-align:center'>Iteration 37</h2>"
      ]
     },
     "metadata": {
      "tags": []
     },
     "output_type": "display_data"
    },
    {
     "data": {
      "text/html": [
       "<table style='font-size:16px;margin-left:auto;margin-right:auto;text-align=center'><tr><th>Hidden Layers</th><th>Training Fraction</th> <th>Number of Steps</th></tr><tr><th>[100, 100]</th><th>80%</th><th>100</th></tr></table>"
      ]
     },
     "metadata": {
      "tags": []
     },
     "output_type": "display_data"
    },
    {
     "data": {
      "text/html": [
       "<h4>Confusion Matrix:</h4>"
      ]
     },
     "metadata": {
      "tags": []
     },
     "output_type": "display_data"
    },
    {
     "data": {
      "text/html": [
       "<br/>"
      ]
     },
     "metadata": {
      "tags": []
     },
     "output_type": "display_data"
    },
    {
     "name": "stdout",
     "output_type": "stream",
     "text": [
      "[[132   3   0   0   0   0   0   0   0   0]\n",
      " [  0 213   0   8   0   0   4   0   0   0]\n",
      " [ 54  16  39   0   0   0   0   0   0   0]\n",
      " [  1  15   0  79   0   0   0   0   0   0]\n",
      " [  0  15   0   8   0   0   0   0   0   0]\n",
      " [  3  48   0   1   0   0   2   0   0   0]\n",
      " [  0   0   0   0   0   0 696   0   0   0]\n",
      " [ 15  20   1   0   0   0  26   0   0   0]\n",
      " [  2  10   0   2   0   0   0   0   0   0]\n",
      " [  0  29   1   0   0   0   0   0   0   0]]\n"
     ]
    },
    {
     "data": {
      "text/html": [
       "<table style='font-size:16px;margin-left:auto;margin-right:auto;'><tr><th>Species</th><th>Accuracy</th> <th>Precision</th> <th>Recall</th> <th>F1-score</th></tr><tr><td>0</td><td>94.59%</td> <td>63.77%</td> <td>97.78%</td> <td>77.19%</td></tr><tr><td>1</td><td>88.36%</td> <td>57.72%</td> <td>94.67%</td> <td>71.72%</td></tr><tr><td>2</td><td>95.01%</td> <td>95.12%</td> <td>35.78%</td> <td>52.00%</td></tr><tr><td>3</td><td>97.57%</td> <td>80.61%</td> <td>83.16%</td> <td>81.87%</td></tr><tr><td>4</td><td>98.41%</td> <td>nan%</td> <td>0.00%</td> <td>nan%</td></tr><tr><td>5</td><td>96.26%</td> <td>nan%</td> <td>0.00%</td> <td>nan%</td></tr><tr><td>6</td><td>97.78%</td> <td>95.60%</td> <td>100.00%</td> <td>97.75%</td></tr><tr><td>7</td><td>95.70%</td> <td>nan%</td> <td>0.00%</td> <td>nan%</td></tr><tr><td>8</td><td>99.03%</td> <td>nan%</td> <td>0.00%</td> <td>nan%</td></tr><tr><td>9</td><td>97.92%</td> <td>nan%</td> <td>0.00%</td> <td>nan%</td></tr><tr><th>Average</th><th>96.06%</th> <th>78.57%</th> <th>41.14%</th> <th>76.11%</th></tr></table>"
      ]
     },
     "metadata": {
      "tags": []
     },
     "output_type": "display_data"
    },
    {
     "data": {
      "text/html": [
       "<hr>"
      ]
     },
     "metadata": {
      "tags": []
     },
     "output_type": "display_data"
    },
    {
     "data": {
      "text/html": [
       "<h2 style='text-align:center'>Iteration 38</h2>"
      ]
     },
     "metadata": {
      "tags": []
     },
     "output_type": "display_data"
    },
    {
     "data": {
      "text/html": [
       "<table style='font-size:16px;margin-left:auto;margin-right:auto;text-align=center'><tr><th>Hidden Layers</th><th>Training Fraction</th> <th>Number of Steps</th></tr><tr><th>[100, 100]</th><th>50%</th><th>100</th></tr></table>"
      ]
     },
     "metadata": {
      "tags": []
     },
     "output_type": "display_data"
    },
    {
     "data": {
      "text/html": [
       "<h4>Confusion Matrix:</h4>"
      ]
     },
     "metadata": {
      "tags": []
     },
     "output_type": "display_data"
    },
    {
     "data": {
      "text/html": [
       "<br/>"
      ]
     },
     "metadata": {
      "tags": []
     },
     "output_type": "display_data"
    },
    {
     "name": "stdout",
     "output_type": "stream",
     "text": [
      "[[ 224    5  104    3    0    0    0    0    0    0]\n",
      " [   2  516    0   38    0    0    5    0    0    0]\n",
      " [  62    6  203    0    0    0    0    0    0    0]\n",
      " [   4   16    0  216    0    0    0    0    0    0]\n",
      " [   4   29    0   24    0    0    0    0    0    0]\n",
      " [   9  110    9    5    0    0    2    0    0    0]\n",
      " [   0    2    0    2    0    0 1735    0    0    0]\n",
      " [  13   30   60    0    0    0   48    4    0    0]\n",
      " [   3   31    0    0    0    0    0    0    0    0]\n",
      " [   1   48    9    1    0    0   15    0    0    0]]\n"
     ]
    },
    {
     "data": {
      "text/html": [
       "<table style='font-size:16px;margin-left:auto;margin-right:auto;'><tr><th>Species</th><th>Accuracy</th> <th>Precision</th> <th>Recall</th> <th>F1-score</th></tr><tr><td>0</td><td>94.16%</td> <td>69.57%</td> <td>66.67%</td> <td>68.09%</td></tr><tr><td>1</td><td>91.05%</td> <td>65.07%</td> <td>91.98%</td> <td>76.22%</td></tr><tr><td>2</td><td>93.05%</td> <td>52.73%</td> <td>74.91%</td> <td>61.89%</td></tr><tr><td>3</td><td>97.42%</td> <td>74.74%</td> <td>91.53%</td> <td>82.29%</td></tr><tr><td>4</td><td>98.42%</td> <td>nan%</td> <td>0.00%</td> <td>nan%</td></tr><tr><td>5</td><td>96.25%</td> <td>nan%</td> <td>0.00%</td> <td>nan%</td></tr><tr><td>6</td><td>97.94%</td> <td>96.12%</td> <td>99.77%</td> <td>97.91%</td></tr><tr><td>7</td><td>95.80%</td> <td>100.00%</td> <td>2.58%</td> <td>5.03%</td></tr><tr><td>8</td><td>99.06%</td> <td>nan%</td> <td>0.00%</td> <td>nan%</td></tr><tr><td>9</td><td>97.94%</td> <td>nan%</td> <td>0.00%</td> <td>nan%</td></tr><tr><th>Average</th><th>96.11%</th> <th>76.37%</th> <th>42.74%</th> <th>65.24%</th></tr></table>"
      ]
     },
     "metadata": {
      "tags": []
     },
     "output_type": "display_data"
    },
    {
     "data": {
      "text/html": [
       "<hr>"
      ]
     },
     "metadata": {
      "tags": []
     },
     "output_type": "display_data"
    },
    {
     "data": {
      "text/html": [
       "<h2 style='text-align:center'>Iteration 39</h2>"
      ]
     },
     "metadata": {
      "tags": []
     },
     "output_type": "display_data"
    },
    {
     "data": {
      "text/html": [
       "<table style='font-size:16px;margin-left:auto;margin-right:auto;text-align=center'><tr><th>Hidden Layers</th><th>Training Fraction</th> <th>Number of Steps</th></tr><tr><th>[100, 100]</th><th>80%</th><th>200</th></tr></table>"
      ]
     },
     "metadata": {
      "tags": []
     },
     "output_type": "display_data"
    },
    {
     "data": {
      "text/html": [
       "<h4>Confusion Matrix:</h4>"
      ]
     },
     "metadata": {
      "tags": []
     },
     "output_type": "display_data"
    },
    {
     "data": {
      "text/html": [
       "<br/>"
      ]
     },
     "metadata": {
      "tags": []
     },
     "output_type": "display_data"
    },
    {
     "name": "stdout",
     "output_type": "stream",
     "text": [
      "[[124   0  11   0   0   0   0   0   0   0]\n",
      " [  0 218   0   3   0   2   2   0   0   0]\n",
      " [ 34   3  72   0   0   0   0   0   0   0]\n",
      " [  4   2   0  87   0   2   0   0   0   0]\n",
      " [  1   3   0   6   0  13   0   0   0   0]\n",
      " [  1  37   2   0   0  14   0   0   0   0]\n",
      " [  0   1   0   2   0   0 693   0   0   0]\n",
      " [ 10  11  15   0   0   0  15  11   0   0]\n",
      " [  1  13   0   0   0   0   0   0   0   0]\n",
      " [  1  21   5   2   0   1   0   0   0   0]]\n"
     ]
    },
    {
     "data": {
      "text/html": [
       "<table style='font-size:16px;margin-left:auto;margin-right:auto;'><tr><th>Species</th><th>Accuracy</th> <th>Precision</th> <th>Recall</th> <th>F1-score</th></tr><tr><td>0</td><td>95.63%</td> <td>70.45%</td> <td>91.85%</td> <td>79.74%</td></tr><tr><td>1</td><td>93.21%</td> <td>70.55%</td> <td>96.89%</td> <td>81.65%</td></tr><tr><td>2</td><td>95.15%</td> <td>68.57%</td> <td>66.06%</td> <td>67.29%</td></tr><tr><td>3</td><td>98.54%</td> <td>87.00%</td> <td>91.58%</td> <td>89.23%</td></tr><tr><td>4</td><td>98.41%</td> <td>nan%</td> <td>0.00%</td> <td>nan%</td></tr><tr><td>5</td><td>95.98%</td> <td>43.75%</td> <td>25.93%</td> <td>32.56%</td></tr><tr><td>6</td><td>98.61%</td> <td>97.61%</td> <td>99.57%</td> <td>98.58%</td></tr><tr><td>7</td><td>96.47%</td> <td>100.00%</td> <td>17.74%</td> <td>30.14%</td></tr><tr><td>8</td><td>99.03%</td> <td>nan%</td> <td>0.00%</td> <td>nan%</td></tr><tr><td>9</td><td>97.92%</td> <td>nan%</td> <td>0.00%</td> <td>nan%</td></tr><tr><th>Average</th><th>96.90%</th> <th>76.85%</th> <th>48.96%</th> <th>68.45%</th></tr></table>"
      ]
     },
     "metadata": {
      "tags": []
     },
     "output_type": "display_data"
    },
    {
     "data": {
      "text/html": [
       "<hr>"
      ]
     },
     "metadata": {
      "tags": []
     },
     "output_type": "display_data"
    },
    {
     "data": {
      "text/html": [
       "<h2 style='text-align:center'>Iteration 40</h2>"
      ]
     },
     "metadata": {
      "tags": []
     },
     "output_type": "display_data"
    },
    {
     "data": {
      "text/html": [
       "<table style='font-size:16px;margin-left:auto;margin-right:auto;text-align=center'><tr><th>Hidden Layers</th><th>Training Fraction</th> <th>Number of Steps</th></tr><tr><th>[100, 100]</th><th>50%</th><th>200</th></tr></table>"
      ]
     },
     "metadata": {
      "tags": []
     },
     "output_type": "display_data"
    },
    {
     "data": {
      "text/html": [
       "<h4>Confusion Matrix:</h4>"
      ]
     },
     "metadata": {
      "tags": []
     },
     "output_type": "display_data"
    },
    {
     "data": {
      "text/html": [
       "<br/>"
      ]
     },
     "metadata": {
      "tags": []
     },
     "output_type": "display_data"
    },
    {
     "name": "stdout",
     "output_type": "stream",
     "text": [
      "[[ 287    2   43    3    1    0    0    0    0    0]\n",
      " [   1  523    0   29    0    3    5    0    0    0]\n",
      " [  36    4  223    0    0    0    0    8    0    0]\n",
      " [   6   16    0  209    1    4    0    0    0    0]\n",
      " [   7   19    0   15    0   16    0    0    0    0]\n",
      " [  11   80    0    6    0   34    0    4    0    0]\n",
      " [   0    2    0    2    0    0 1733    2    0    0]\n",
      " [  23   10   33    0    0    0   24   65    0    0]\n",
      " [   3   28    0    2    1    0    0    0    0    0]\n",
      " [   2   55   10    0    0    0    5    2    0    0]]\n"
     ]
    },
    {
     "data": {
      "text/html": [
       "<table style='font-size:16px;margin-left:auto;margin-right:auto;'><tr><th>Species</th><th>Accuracy</th> <th>Precision</th> <th>Recall</th> <th>F1-score</th></tr><tr><td>0</td><td>96.16%</td> <td>76.33%</td> <td>85.42%</td> <td>80.62%</td></tr><tr><td>1</td><td>92.94%</td> <td>70.77%</td> <td>93.23%</td> <td>80.46%</td></tr><tr><td>2</td><td>96.28%</td> <td>72.17%</td> <td>82.29%</td> <td>76.90%</td></tr><tr><td>3</td><td>97.67%</td> <td>78.57%</td> <td>88.56%</td> <td>83.27%</td></tr><tr><td>4</td><td>98.33%</td> <td>0.00%</td> <td>0.00%</td> <td>nan%</td></tr><tr><td>5</td><td>96.55%</td> <td>59.65%</td> <td>25.19%</td> <td>35.42%</td></tr><tr><td>6</td><td>98.89%</td> <td>98.08%</td> <td>99.65%</td> <td>98.86%</td></tr><tr><td>7</td><td>97.05%</td> <td>80.25%</td> <td>41.94%</td> <td>55.08%</td></tr><tr><td>8</td><td>99.06%</td> <td>nan%</td> <td>0.00%</td> <td>nan%</td></tr><tr><td>9</td><td>97.94%</td> <td>nan%</td> <td>0.00%</td> <td>nan%</td></tr><tr><th>Average</th><th>97.09%</th> <th>66.98%</th> <th>51.63%</th> <th>72.94%</th></tr></table>"
      ]
     },
     "metadata": {
      "tags": []
     },
     "output_type": "display_data"
    },
    {
     "data": {
      "text/html": [
       "<hr>"
      ]
     },
     "metadata": {
      "tags": []
     },
     "output_type": "display_data"
    },
    {
     "data": {
      "text/html": [
       "<h2 style='text-align:center'>Iteration 41</h2>"
      ]
     },
     "metadata": {
      "tags": []
     },
     "output_type": "display_data"
    },
    {
     "data": {
      "text/html": [
       "<table style='font-size:16px;margin-left:auto;margin-right:auto;text-align=center'><tr><th>Hidden Layers</th><th>Training Fraction</th> <th>Number of Steps</th></tr><tr><th>[100, 100]</th><th>80%</th><th>500</th></tr></table>"
      ]
     },
     "metadata": {
      "tags": []
     },
     "output_type": "display_data"
    },
    {
     "data": {
      "text/html": [
       "<h4>Confusion Matrix:</h4>"
      ]
     },
     "metadata": {
      "tags": []
     },
     "output_type": "display_data"
    },
    {
     "data": {
      "text/html": [
       "<br/>"
      ]
     },
     "metadata": {
      "tags": []
     },
     "output_type": "display_data"
    },
    {
     "name": "stdout",
     "output_type": "stream",
     "text": [
      "[[129   0   2   3   0   1   0   0   0   0]\n",
      " [  0 220   0   1   0   2   2   0   0   0]\n",
      " [  6   0 103   0   0   0   0   0   0   0]\n",
      " [  0   1   0  92   1   1   0   0   0   0]\n",
      " [  3   2   0   6  10   1   0   0   0   1]\n",
      " [  1   3   0   1   0  49   0   0   0   0]\n",
      " [  0   1   0   0   0   0 693   1   0   1]\n",
      " [  9   1   6   0   0   0   9  35   0   2]\n",
      " [  9   1   2   1   0   1   0   0   0   0]\n",
      " [  1   4   0   2   0   0   2   3   1  17]]\n"
     ]
    },
    {
     "data": {
      "text/html": [
       "<table style='font-size:16px;margin-left:auto;margin-right:auto;'><tr><th>Species</th><th>Accuracy</th> <th>Precision</th> <th>Recall</th> <th>F1-score</th></tr><tr><td>0</td><td>97.57%</td> <td>81.65%</td> <td>95.56%</td> <td>88.05%</td></tr><tr><td>1</td><td>98.75%</td> <td>94.42%</td> <td>97.78%</td> <td>96.07%</td></tr><tr><td>2</td><td>98.89%</td> <td>91.15%</td> <td>94.50%</td> <td>92.79%</td></tr><tr><td>3</td><td>98.82%</td> <td>86.79%</td> <td>96.84%</td> <td>91.54%</td></tr><tr><td>4</td><td>99.03%</td> <td>90.91%</td> <td>43.48%</td> <td>58.82%</td></tr><tr><td>5</td><td>99.24%</td> <td>89.09%</td> <td>90.74%</td> <td>89.91%</td></tr><tr><td>6</td><td>98.89%</td> <td>98.16%</td> <td>99.57%</td> <td>98.86%</td></tr><tr><td>7</td><td>97.85%</td> <td>89.74%</td> <td>56.45%</td> <td>69.31%</td></tr><tr><td>8</td><td>98.96%</td> <td>0.00%</td> <td>0.00%</td> <td>nan%</td></tr><tr><td>9</td><td>98.82%</td> <td>80.95%</td> <td>56.67%</td> <td>66.67%</td></tr><tr><th>Average</th><th>98.68%</th> <th>80.29%</th> <th>73.16%</th> <th>83.56%</th></tr></table>"
      ]
     },
     "metadata": {
      "tags": []
     },
     "output_type": "display_data"
    },
    {
     "data": {
      "text/html": [
       "<hr>"
      ]
     },
     "metadata": {
      "tags": []
     },
     "output_type": "display_data"
    },
    {
     "data": {
      "text/html": [
       "<h2 style='text-align:center'>Iteration 42</h2>"
      ]
     },
     "metadata": {
      "tags": []
     },
     "output_type": "display_data"
    },
    {
     "data": {
      "text/html": [
       "<table style='font-size:16px;margin-left:auto;margin-right:auto;text-align=center'><tr><th>Hidden Layers</th><th>Training Fraction</th> <th>Number of Steps</th></tr><tr><th>[100, 100]</th><th>50%</th><th>500</th></tr></table>"
      ]
     },
     "metadata": {
      "tags": []
     },
     "output_type": "display_data"
    },
    {
     "data": {
      "text/html": [
       "<h4>Confusion Matrix:</h4>"
      ]
     },
     "metadata": {
      "tags": []
     },
     "output_type": "display_data"
    },
    {
     "data": {
      "text/html": [
       "<br/>"
      ]
     },
     "metadata": {
      "tags": []
     },
     "output_type": "display_data"
    },
    {
     "name": "stdout",
     "output_type": "stream",
     "text": [
      "[[ 312    1   16    6    0    0    0    1    0    0]\n",
      " [   0  544    0    2    0   10    4    1    0    0]\n",
      " [   8    1  258    0    0    0    0    3    0    1]\n",
      " [   1    3    0  228    2    2    0    0    0    0]\n",
      " [   1    7    0   17   22   10    0    0    0    0]\n",
      " [   3    8    0    2    0  121    0    1    0    0]\n",
      " [   0    2    0    2    0    0 1731    2    0    2]\n",
      " [  31    0   12    0    0    0   22   84    0    6]\n",
      " [   2   10   15    1    0    0    0    0    0    6]\n",
      " [   0   18    0    2    2    0    5    6    0   41]]\n"
     ]
    },
    {
     "data": {
      "text/html": [
       "<table style='font-size:16px;margin-left:auto;margin-right:auto;'><tr><th>Species</th><th>Accuracy</th> <th>Precision</th> <th>Recall</th> <th>F1-score</th></tr><tr><td>0</td><td>98.05%</td> <td>87.15%</td> <td>92.86%</td> <td>89.91%</td></tr><tr><td>1</td><td>98.14%</td> <td>91.58%</td> <td>96.97%</td> <td>94.20%</td></tr><tr><td>2</td><td>98.44%</td> <td>85.71%</td> <td>95.20%</td> <td>90.21%</td></tr><tr><td>3</td><td>98.89%</td> <td>87.69%</td> <td>96.61%</td> <td>91.94%</td></tr><tr><td>4</td><td>98.92%</td> <td>84.62%</td> <td>38.60%</td> <td>53.01%</td></tr><tr><td>5</td><td>99.00%</td> <td>84.62%</td> <td>89.63%</td> <td>87.05%</td></tr><tr><td>6</td><td>98.92%</td> <td>98.24%</td> <td>99.54%</td> <td>98.89%</td></tr><tr><td>7</td><td>97.64%</td> <td>85.71%</td> <td>54.19%</td> <td>66.40%</td></tr><tr><td>8</td><td>99.06%</td> <td>nan%</td> <td>0.00%</td> <td>nan%</td></tr><tr><td>9</td><td>98.67%</td> <td>73.21%</td> <td>55.41%</td> <td>63.08%</td></tr><tr><th>Average</th><th>98.57%</th> <th>86.50%</th> <th>71.90%</th> <th>81.63%</th></tr></table>"
      ]
     },
     "metadata": {
      "tags": []
     },
     "output_type": "display_data"
    },
    {
     "data": {
      "text/html": [
       "<hr>"
      ]
     },
     "metadata": {
      "tags": []
     },
     "output_type": "display_data"
    },
    {
     "data": {
      "text/html": [
       "<h2 style='text-align:center'>Iteration 43</h2>"
      ]
     },
     "metadata": {
      "tags": []
     },
     "output_type": "display_data"
    },
    {
     "data": {
      "text/html": [
       "<table style='font-size:16px;margin-left:auto;margin-right:auto;text-align=center'><tr><th>Hidden Layers</th><th>Training Fraction</th> <th>Number of Steps</th></tr><tr><th>[100, 100]</th><th>80%</th><th>1000</th></tr></table>"
      ]
     },
     "metadata": {
      "tags": []
     },
     "output_type": "display_data"
    },
    {
     "data": {
      "text/html": [
       "<h4>Confusion Matrix:</h4>"
      ]
     },
     "metadata": {
      "tags": []
     },
     "output_type": "display_data"
    },
    {
     "data": {
      "text/html": [
       "<br/>"
      ]
     },
     "metadata": {
      "tags": []
     },
     "output_type": "display_data"
    },
    {
     "name": "stdout",
     "output_type": "stream",
     "text": [
      "[[127   0   5   0   1   0   0   2   0   0]\n",
      " [  0 223   0   0   0   2   0   0   0   0]\n",
      " [  1   0 105   0   0   0   0   2   0   1]\n",
      " [  1   2   0  86   4   1   0   0   0   1]\n",
      " [  0   2   0   6  13   1   0   0   0   1]\n",
      " [  1   0   0   1   1  51   0   0   0   0]\n",
      " [  0   1   0   1   0   0 690   3   0   1]\n",
      " [  8   0   7   0   0   0   6  39   0   2]\n",
      " [  0   0   0   0   0   1   0   0  13   0]\n",
      " [  1   2   0   0   0   0   1   1   1  24]]\n"
     ]
    },
    {
     "data": {
      "text/html": [
       "<table style='font-size:16px;margin-left:auto;margin-right:auto;'><tr><th>Species</th><th>Accuracy</th> <th>Precision</th> <th>Recall</th> <th>F1-score</th></tr><tr><td>0</td><td>98.61%</td> <td>91.37%</td> <td>94.07%</td> <td>92.70%</td></tr><tr><td>1</td><td>99.38%</td> <td>96.96%</td> <td>99.11%</td> <td>98.02%</td></tr><tr><td>2</td><td>98.89%</td> <td>89.74%</td> <td>96.33%</td> <td>92.92%</td></tr><tr><td>3</td><td>98.82%</td> <td>91.49%</td> <td>90.53%</td> <td>91.01%</td></tr><tr><td>4</td><td>98.89%</td> <td>68.42%</td> <td>56.52%</td> <td>61.90%</td></tr><tr><td>5</td><td>99.45%</td> <td>91.07%</td> <td>94.44%</td> <td>92.73%</td></tr><tr><td>6</td><td>99.10%</td> <td>99.00%</td> <td>99.14%</td> <td>99.07%</td></tr><tr><td>7</td><td>97.85%</td> <td>82.98%</td> <td>62.90%</td> <td>71.56%</td></tr><tr><td>8</td><td>99.86%</td> <td>92.86%</td> <td>92.86%</td> <td>92.86%</td></tr><tr><td>9</td><td>99.17%</td> <td>80.00%</td> <td>80.00%</td> <td>80.00%</td></tr><tr><th>Average</th><th>99.00%</th> <th>88.39%</th> <th>86.59%</th> <th>87.28%</th></tr></table>"
      ]
     },
     "metadata": {
      "tags": []
     },
     "output_type": "display_data"
    },
    {
     "data": {
      "text/html": [
       "<hr>"
      ]
     },
     "metadata": {
      "tags": []
     },
     "output_type": "display_data"
    },
    {
     "data": {
      "text/html": [
       "<h2 style='text-align:center'>Iteration 44</h2>"
      ]
     },
     "metadata": {
      "tags": []
     },
     "output_type": "display_data"
    },
    {
     "data": {
      "text/html": [
       "<table style='font-size:16px;margin-left:auto;margin-right:auto;text-align=center'><tr><th>Hidden Layers</th><th>Training Fraction</th> <th>Number of Steps</th></tr><tr><th>[100, 100]</th><th>50%</th><th>1000</th></tr></table>"
      ]
     },
     "metadata": {
      "tags": []
     },
     "output_type": "display_data"
    },
    {
     "data": {
      "text/html": [
       "<h4>Confusion Matrix:</h4>"
      ]
     },
     "metadata": {
      "tags": []
     },
     "output_type": "display_data"
    },
    {
     "data": {
      "text/html": [
       "<br/>"
      ]
     },
     "metadata": {
      "tags": []
     },
     "output_type": "display_data"
    },
    {
     "name": "stdout",
     "output_type": "stream",
     "text": [
      "[[ 321    0   10    2    2    0    0    1    0    0]\n",
      " [   0  547    0    2    2    8    0    1    0    1]\n",
      " [   8    1  256    0    0    0    0    5    0    1]\n",
      " [   2    0    0  228    4    2    0    0    0    0]\n",
      " [   0    4    0   15   34    1    0    0    2    1]\n",
      " [   1    4    0    2    4  122    0    2    0    0]\n",
      " [   0    1    0    1    0    0 1732    4    0    1]\n",
      " [  26    0   10    0    0    0   17  100    0    2]\n",
      " [   1    1    1    1    0    4    0    0   24    2]\n",
      " [   1    2    5    5    2    0    0   11    5   43]]\n"
     ]
    },
    {
     "data": {
      "text/html": [
       "<table style='font-size:16px;margin-left:auto;margin-right:auto;'><tr><th>Species</th><th>Accuracy</th> <th>Precision</th> <th>Recall</th> <th>F1-score</th></tr><tr><td>0</td><td>98.50%</td> <td>89.17%</td> <td>95.54%</td> <td>92.24%</td></tr><tr><td>1</td><td>99.25%</td> <td>97.68%</td> <td>97.50%</td> <td>97.59%</td></tr><tr><td>2</td><td>98.86%</td> <td>90.78%</td> <td>94.46%</td> <td>92.59%</td></tr><tr><td>3</td><td>99.00%</td> <td>89.06%</td> <td>96.61%</td> <td>92.68%</td></tr><tr><td>4</td><td>98.97%</td> <td>70.83%</td> <td>59.65%</td> <td>64.76%</td></tr><tr><td>5</td><td>99.22%</td> <td>89.05%</td> <td>90.37%</td> <td>89.71%</td></tr><tr><td>6</td><td>99.33%</td> <td>99.03%</td> <td>99.60%</td> <td>99.31%</td></tr><tr><td>7</td><td>97.80%</td> <td>80.65%</td> <td>64.52%</td> <td>71.68%</td></tr><tr><td>8</td><td>99.53%</td> <td>77.42%</td> <td>70.59%</td> <td>73.85%</td></tr><tr><td>9</td><td>98.92%</td> <td>84.31%</td> <td>58.11%</td> <td>68.80%</td></tr><tr><th>Average</th><th>98.94%</th> <th>86.80%</th> <th>82.69%</th> <th>84.32%</th></tr></table>"
      ]
     },
     "metadata": {
      "tags": []
     },
     "output_type": "display_data"
    },
    {
     "data": {
      "text/html": [
       "<hr>"
      ]
     },
     "metadata": {
      "tags": []
     },
     "output_type": "display_data"
    },
    {
     "data": {
      "text/html": [
       "<h2 style='text-align:center'>Iteration 45</h2>"
      ]
     },
     "metadata": {
      "tags": []
     },
     "output_type": "display_data"
    },
    {
     "data": {
      "text/html": [
       "<table style='font-size:16px;margin-left:auto;margin-right:auto;text-align=center'><tr><th>Hidden Layers</th><th>Training Fraction</th> <th>Number of Steps</th></tr><tr><th>[100, 100]</th><th>80%</th><th>1500</th></tr></table>"
      ]
     },
     "metadata": {
      "tags": []
     },
     "output_type": "display_data"
    },
    {
     "data": {
      "text/html": [
       "<h4>Confusion Matrix:</h4>"
      ]
     },
     "metadata": {
      "tags": []
     },
     "output_type": "display_data"
    },
    {
     "data": {
      "text/html": [
       "<br/>"
      ]
     },
     "metadata": {
      "tags": []
     },
     "output_type": "display_data"
    },
    {
     "name": "stdout",
     "output_type": "stream",
     "text": [
      "[[129   1   1   1   2   0   0   1   0   0]\n",
      " [  0 221   0   0   2   2   0   0   0   0]\n",
      " [  3   0 105   0   0   0   0   0   1   0]\n",
      " [  0   0   0  91   3   1   0   0   0   0]\n",
      " [  1   1   0   1  18   0   0   0   1   1]\n",
      " [  0   3   0   0   1  50   0   0   0   0]\n",
      " [  0   0   0   0   0   0 694   1   0   1]\n",
      " [ 10   0   5   0   0   0   9  36   0   2]\n",
      " [  0   0   0   1   2   1   0   0   9   1]\n",
      " [  0   0   0   0   0   0   2   1   1  26]]\n"
     ]
    },
    {
     "data": {
      "text/html": [
       "<table style='font-size:16px;margin-left:auto;margin-right:auto;'><tr><th>Species</th><th>Accuracy</th> <th>Precision</th> <th>Recall</th> <th>F1-score</th></tr><tr><td>0</td><td>98.61%</td> <td>90.21%</td> <td>95.56%</td> <td>92.81%</td></tr><tr><td>1</td><td>99.38%</td> <td>97.79%</td> <td>98.22%</td> <td>98.00%</td></tr><tr><td>2</td><td>99.31%</td> <td>94.59%</td> <td>96.33%</td> <td>95.45%</td></tr><tr><td>3</td><td>99.51%</td> <td>96.81%</td> <td>95.79%</td> <td>96.30%</td></tr><tr><td>4</td><td>98.96%</td> <td>64.29%</td> <td>78.26%</td> <td>70.59%</td></tr><tr><td>5</td><td>99.45%</td> <td>92.59%</td> <td>92.59%</td> <td>92.59%</td></tr><tr><td>6</td><td>99.10%</td> <td>98.44%</td> <td>99.71%</td> <td>99.07%</td></tr><tr><td>7</td><td>97.99%</td> <td>92.31%</td> <td>58.06%</td> <td>71.29%</td></tr><tr><td>8</td><td>99.45%</td> <td>75.00%</td> <td>64.29%</td> <td>69.23%</td></tr><tr><td>9</td><td>99.38%</td> <td>83.87%</td> <td>86.67%</td> <td>85.25%</td></tr><tr><th>Average</th><th>99.11%</th> <th>88.59%</th> <th>86.55%</th> <th>87.06%</th></tr></table>"
      ]
     },
     "metadata": {
      "tags": []
     },
     "output_type": "display_data"
    },
    {
     "data": {
      "text/html": [
       "<hr>"
      ]
     },
     "metadata": {
      "tags": []
     },
     "output_type": "display_data"
    },
    {
     "data": {
      "text/html": [
       "<h2 style='text-align:center'>Iteration 46</h2>"
      ]
     },
     "metadata": {
      "tags": []
     },
     "output_type": "display_data"
    },
    {
     "data": {
      "text/html": [
       "<table style='font-size:16px;margin-left:auto;margin-right:auto;text-align=center'><tr><th>Hidden Layers</th><th>Training Fraction</th> <th>Number of Steps</th></tr><tr><th>[100, 100]</th><th>50%</th><th>1500</th></tr></table>"
      ]
     },
     "metadata": {
      "tags": []
     },
     "output_type": "display_data"
    },
    {
     "data": {
      "text/html": [
       "<h4>Confusion Matrix:</h4>"
      ]
     },
     "metadata": {
      "tags": []
     },
     "output_type": "display_data"
    },
    {
     "data": {
      "text/html": [
       "<br/>"
      ]
     },
     "metadata": {
      "tags": []
     },
     "output_type": "display_data"
    },
    {
     "name": "stdout",
     "output_type": "stream",
     "text": [
      "[[ 315    1    7    3    4    0    0    5    1    0]\n",
      " [   0  553    0    1    1    4    1    1    0    0]\n",
      " [   4    0  264    0    0    0    0    0    3    0]\n",
      " [   2    1    0  224    6    3    0    0    0    0]\n",
      " [   0    7    0   11   38    1    0    0    0    0]\n",
      " [   1    6    0    3    0  122    0    3    0    0]\n",
      " [   0    2    2    1    0    0 1732    2    0    0]\n",
      " [  18    0   14    0    0    0   20  100    0    3]\n",
      " [   1    0    3    0    0    0    0    0   27    3]\n",
      " [   2    0    0    1    0    0    1    3    2   65]]\n"
     ]
    },
    {
     "data": {
      "text/html": [
       "<table style='font-size:16px;margin-left:auto;margin-right:auto;'><tr><th>Species</th><th>Accuracy</th> <th>Precision</th> <th>Recall</th> <th>F1-score</th></tr><tr><td>0</td><td>98.64%</td> <td>91.84%</td> <td>93.75%</td> <td>92.78%</td></tr><tr><td>1</td><td>99.31%</td> <td>97.02%</td> <td>98.57%</td> <td>97.79%</td></tr><tr><td>2</td><td>99.08%</td> <td>91.03%</td> <td>97.42%</td> <td>94.12%</td></tr><tr><td>3</td><td>99.11%</td> <td>91.80%</td> <td>94.92%</td> <td>93.33%</td></tr><tr><td>4</td><td>99.17%</td> <td>77.55%</td> <td>66.67%</td> <td>71.70%</td></tr><tr><td>5</td><td>99.42%</td> <td>93.85%</td> <td>90.37%</td> <td>92.08%</td></tr><tr><td>6</td><td>99.19%</td> <td>98.75%</td> <td>99.60%</td> <td>99.17%</td></tr><tr><td>7</td><td>98.08%</td> <td>87.72%</td> <td>64.52%</td> <td>74.35%</td></tr><tr><td>8</td><td>99.64%</td> <td>81.82%</td> <td>79.41%</td> <td>80.60%</td></tr><tr><td>9</td><td>99.58%</td> <td>91.55%</td> <td>87.84%</td> <td>89.66%</td></tr><tr><th>Average</th><th>99.12%</th> <th>90.29%</th> <th>87.31%</th> <th>88.56%</th></tr></table>"
      ]
     },
     "metadata": {
      "tags": []
     },
     "output_type": "display_data"
    },
    {
     "data": {
      "text/html": [
       "<hr>"
      ]
     },
     "metadata": {
      "tags": []
     },
     "output_type": "display_data"
    },
    {
     "data": {
      "text/html": [
       "<h2 style='text-align:center'>Iteration 47</h2>"
      ]
     },
     "metadata": {
      "tags": []
     },
     "output_type": "display_data"
    },
    {
     "data": {
      "text/html": [
       "<table style='font-size:16px;margin-left:auto;margin-right:auto;text-align=center'><tr><th>Hidden Layers</th><th>Training Fraction</th> <th>Number of Steps</th></tr><tr><th>[100, 100]</th><th>80%</th><th>2000</th></tr></table>"
      ]
     },
     "metadata": {
      "tags": []
     },
     "output_type": "display_data"
    },
    {
     "data": {
      "text/html": [
       "<h4>Confusion Matrix:</h4>"
      ]
     },
     "metadata": {
      "tags": []
     },
     "output_type": "display_data"
    },
    {
     "data": {
      "text/html": [
       "<br/>"
      ]
     },
     "metadata": {
      "tags": []
     },
     "output_type": "display_data"
    },
    {
     "name": "stdout",
     "output_type": "stream",
     "text": [
      "[[126   0   3   1   2   0   0   3   0   0]\n",
      " [  0 221   0   0   1   3   0   0   0   0]\n",
      " [  1   0 106   0   0   0   0   0   2   0]\n",
      " [  0   1   0  92   2   0   0   0   0   0]\n",
      " [  1   2   0   5  15   0   0   0   0   0]\n",
      " [  0   1   0   1   3  48   0   0   1   0]\n",
      " [  0   0   0   0   0   0 693   3   0   0]\n",
      " [ 12   0   4   0   0   0   3  40   0   3]\n",
      " [  0   0   0   0   0   0   0   0  14   0]\n",
      " [  0   1   0   2   1   0   0   1   2  23]]\n"
     ]
    },
    {
     "data": {
      "text/html": [
       "<table style='font-size:16px;margin-left:auto;margin-right:auto;'><tr><th>Species</th><th>Accuracy</th> <th>Precision</th> <th>Recall</th> <th>F1-score</th></tr><tr><td>0</td><td>98.41%</td> <td>90.00%</td> <td>93.33%</td> <td>91.64%</td></tr><tr><td>1</td><td>99.38%</td> <td>97.79%</td> <td>98.22%</td> <td>98.00%</td></tr><tr><td>2</td><td>99.31%</td> <td>93.81%</td> <td>97.25%</td> <td>95.50%</td></tr><tr><td>3</td><td>99.17%</td> <td>91.09%</td> <td>96.84%</td> <td>93.88%</td></tr><tr><td>4</td><td>98.82%</td> <td>62.50%</td> <td>65.22%</td> <td>63.83%</td></tr><tr><td>5</td><td>99.38%</td> <td>94.12%</td> <td>88.89%</td> <td>91.43%</td></tr><tr><td>6</td><td>99.58%</td> <td>99.57%</td> <td>99.57%</td> <td>99.57%</td></tr><tr><td>7</td><td>97.99%</td> <td>85.11%</td> <td>64.52%</td> <td>73.39%</td></tr><tr><td>8</td><td>99.65%</td> <td>73.68%</td> <td>100.00%</td> <td>84.85%</td></tr><tr><td>9</td><td>99.31%</td> <td>88.46%</td> <td>76.67%</td> <td>82.14%</td></tr><tr><th>Average</th><th>99.10%</th> <th>87.61%</th> <th>88.05%</th> <th>87.42%</th></tr></table>"
      ]
     },
     "metadata": {
      "tags": []
     },
     "output_type": "display_data"
    },
    {
     "data": {
      "text/html": [
       "<hr>"
      ]
     },
     "metadata": {
      "tags": []
     },
     "output_type": "display_data"
    },
    {
     "data": {
      "text/html": [
       "<h2 style='text-align:center'>Iteration 48</h2>"
      ]
     },
     "metadata": {
      "tags": []
     },
     "output_type": "display_data"
    },
    {
     "data": {
      "text/html": [
       "<table style='font-size:16px;margin-left:auto;margin-right:auto;text-align=center'><tr><th>Hidden Layers</th><th>Training Fraction</th> <th>Number of Steps</th></tr><tr><th>[100, 100]</th><th>50%</th><th>2000</th></tr></table>"
      ]
     },
     "metadata": {
      "tags": []
     },
     "output_type": "display_data"
    },
    {
     "data": {
      "text/html": [
       "<h4>Confusion Matrix:</h4>"
      ]
     },
     "metadata": {
      "tags": []
     },
     "output_type": "display_data"
    },
    {
     "data": {
      "text/html": [
       "<br/>"
      ]
     },
     "metadata": {
      "tags": []
     },
     "output_type": "display_data"
    },
    {
     "name": "stdout",
     "output_type": "stream",
     "text": [
      "[[ 321    1    3    3    1    0    0    7    0    0]\n",
      " [   0  549    0    1    1    4    4    2    0    0]\n",
      " [   4    0  265    0    0    0    0    1    1    0]\n",
      " [   0    3    0  218    8    7    0    0    0    0]\n",
      " [   1    2    1    7   42    0    0    0    2    2]\n",
      " [   0    2    0    3    2  126    0    2    0    0]\n",
      " [   0    3    1    0    2    0 1722   10    0    1]\n",
      " [  13    1   11    0    0    0   13  117    0    0]\n",
      " [   1    1    0    0    1    5    0    0   25    1]\n",
      " [   1    0    0    2    0    0    0    5    4   62]]\n"
     ]
    },
    {
     "data": {
      "text/html": [
       "<table style='font-size:16px;margin-left:auto;margin-right:auto;'><tr><th>Species</th><th>Accuracy</th> <th>Precision</th> <th>Recall</th> <th>F1-score</th></tr><tr><td>0</td><td>99.03%</td> <td>94.13%</td> <td>95.54%</td> <td>94.83%</td></tr><tr><td>1</td><td>99.31%</td> <td>97.69%</td> <td>97.86%</td> <td>97.77%</td></tr><tr><td>2</td><td>99.39%</td> <td>94.31%</td> <td>97.79%</td> <td>96.01%</td></tr><tr><td>3</td><td>99.06%</td> <td>93.16%</td> <td>92.37%</td> <td>92.77%</td></tr><tr><td>4</td><td>99.17%</td> <td>73.68%</td> <td>73.68%</td> <td>73.68%</td></tr><tr><td>5</td><td>99.31%</td> <td>88.73%</td> <td>93.33%</td> <td>90.97%</td></tr><tr><td>6</td><td>99.06%</td> <td>99.02%</td> <td>99.02%</td> <td>99.02%</td></tr><tr><td>7</td><td>98.19%</td> <td>81.25%</td> <td>75.48%</td> <td>78.26%</td></tr><tr><td>8</td><td>99.56%</td> <td>78.12%</td> <td>73.53%</td> <td>75.76%</td></tr><tr><td>9</td><td>99.56%</td> <td>93.94%</td> <td>83.78%</td> <td>88.57%</td></tr><tr><th>Average</th><th>99.16%</th> <th>89.40%</th> <th>88.24%</th> <th>88.77%</th></tr></table>"
      ]
     },
     "metadata": {
      "tags": []
     },
     "output_type": "display_data"
    },
    {
     "data": {
      "text/html": [
       "<hr>"
      ]
     },
     "metadata": {
      "tags": []
     },
     "output_type": "display_data"
    },
    {
     "data": {
      "text/html": [
       "<h2 style='text-align:center'>Iteration 49</h2>"
      ]
     },
     "metadata": {
      "tags": []
     },
     "output_type": "display_data"
    },
    {
     "data": {
      "text/html": [
       "<table style='font-size:16px;margin-left:auto;margin-right:auto;text-align=center'><tr><th>Hidden Layers</th><th>Training Fraction</th> <th>Number of Steps</th></tr><tr><th>[10, 10, 10]</th><th>80%</th><th>100</th></tr></table>"
      ]
     },
     "metadata": {
      "tags": []
     },
     "output_type": "display_data"
    },
    {
     "data": {
      "text/html": [
       "<h4>Confusion Matrix:</h4>"
      ]
     },
     "metadata": {
      "tags": []
     },
     "output_type": "display_data"
    },
    {
     "data": {
      "text/html": [
       "<br/>"
      ]
     },
     "metadata": {
      "tags": []
     },
     "output_type": "display_data"
    },
    {
     "name": "stdout",
     "output_type": "stream",
     "text": [
      "[[  0 135   0   0   0   0   0   0   0   0]\n",
      " [  0 149   0   0   0   0  76   0   0   0]\n",
      " [  0  93   0   0   0   0  16   0   0   0]\n",
      " [  0  93   0   0   0   0   2   0   0   0]\n",
      " [  0  23   0   0   0   0   0   0   0   0]\n",
      " [  0  52   0   0   0   0   2   0   0   0]\n",
      " [  0   3   0   0   0   0 693   0   0   0]\n",
      " [  0  23   0   0   0   0  39   0   0   0]\n",
      " [  0  13   0   0   0   0   1   0   0   0]\n",
      " [  0   2   0   0   0   0  28   0   0   0]]\n"
     ]
    },
    {
     "data": {
      "text/html": [
       "<table style='font-size:16px;margin-left:auto;margin-right:auto;'><tr><th>Species</th><th>Accuracy</th> <th>Precision</th> <th>Recall</th> <th>F1-score</th></tr><tr><td>0</td><td>90.64%</td> <td>nan%</td> <td>0.00%</td> <td>nan%</td></tr><tr><td>1</td><td>64.45%</td> <td>25.43%</td> <td>66.22%</td> <td>36.74%</td></tr><tr><td>2</td><td>92.45%</td> <td>nan%</td> <td>0.00%</td> <td>nan%</td></tr><tr><td>3</td><td>93.42%</td> <td>nan%</td> <td>0.00%</td> <td>nan%</td></tr><tr><td>4</td><td>98.41%</td> <td>nan%</td> <td>0.00%</td> <td>nan%</td></tr><tr><td>5</td><td>96.26%</td> <td>nan%</td> <td>0.00%</td> <td>nan%</td></tr><tr><td>6</td><td>88.43%</td> <td>80.86%</td> <td>99.57%</td> <td>89.25%</td></tr><tr><td>7</td><td>95.70%</td> <td>nan%</td> <td>0.00%</td> <td>nan%</td></tr><tr><td>8</td><td>99.03%</td> <td>nan%</td> <td>0.00%</td> <td>nan%</td></tr><tr><td>9</td><td>97.92%</td> <td>nan%</td> <td>0.00%</td> <td>nan%</td></tr><tr><th>Average</th><th>91.67%</th> <th>53.15%</th> <th>16.58%</th> <th>63.00%</th></tr></table>"
      ]
     },
     "metadata": {
      "tags": []
     },
     "output_type": "display_data"
    },
    {
     "data": {
      "text/html": [
       "<hr>"
      ]
     },
     "metadata": {
      "tags": []
     },
     "output_type": "display_data"
    },
    {
     "data": {
      "text/html": [
       "<h2 style='text-align:center'>Iteration 50</h2>"
      ]
     },
     "metadata": {
      "tags": []
     },
     "output_type": "display_data"
    },
    {
     "data": {
      "text/html": [
       "<table style='font-size:16px;margin-left:auto;margin-right:auto;text-align=center'><tr><th>Hidden Layers</th><th>Training Fraction</th> <th>Number of Steps</th></tr><tr><th>[10, 10, 10]</th><th>50%</th><th>100</th></tr></table>"
      ]
     },
     "metadata": {
      "tags": []
     },
     "output_type": "display_data"
    },
    {
     "data": {
      "text/html": [
       "<h4>Confusion Matrix:</h4>"
      ]
     },
     "metadata": {
      "tags": []
     },
     "output_type": "display_data"
    },
    {
     "data": {
      "text/html": [
       "<br/>"
      ]
     },
     "metadata": {
      "tags": []
     },
     "output_type": "display_data"
    },
    {
     "name": "stdout",
     "output_type": "stream",
     "text": [
      "[[   0  279    0    0    0    0   57    0    0    0]\n",
      " [   0   23    0    0    0    0  538    0    0    0]\n",
      " [   0   84    0    0    0    0  187    0    0    0]\n",
      " [   0  113    0    0    0    0  123    0    0    0]\n",
      " [   0   46    0    0    0    0   11    0    0    0]\n",
      " [   0   34    0    0    0    0  101    0    0    0]\n",
      " [   0    0    0    0    0    0 1739    0    0    0]\n",
      " [   0   46    0    0    0    0  109    0    0    0]\n",
      " [   0    4    0    0    0    0   30    0    0    0]\n",
      " [   0    4    0    0    0    0   70    0    0    0]]\n"
     ]
    },
    {
     "data": {
      "text/html": [
       "<table style='font-size:16px;margin-left:auto;margin-right:auto;'><tr><th>Species</th><th>Accuracy</th> <th>Precision</th> <th>Recall</th> <th>F1-score</th></tr><tr><td>0</td><td>90.66%</td> <td>nan%</td> <td>0.00%</td> <td>nan%</td></tr><tr><td>1</td><td>68.09%</td> <td>3.63%</td> <td>4.10%</td> <td>3.85%</td></tr><tr><td>2</td><td>92.47%</td> <td>nan%</td> <td>0.00%</td> <td>nan%</td></tr><tr><td>3</td><td>93.44%</td> <td>nan%</td> <td>0.00%</td> <td>nan%</td></tr><tr><td>4</td><td>98.42%</td> <td>nan%</td> <td>0.00%</td> <td>nan%</td></tr><tr><td>5</td><td>96.25%</td> <td>nan%</td> <td>0.00%</td> <td>nan%</td></tr><tr><td>6</td><td>65.93%</td> <td>58.65%</td> <td>100.00%</td> <td>73.94%</td></tr><tr><td>7</td><td>95.69%</td> <td>nan%</td> <td>0.00%</td> <td>nan%</td></tr><tr><td>8</td><td>99.06%</td> <td>nan%</td> <td>0.00%</td> <td>nan%</td></tr><tr><td>9</td><td>97.94%</td> <td>nan%</td> <td>0.00%</td> <td>nan%</td></tr><tr><th>Average</th><th>89.79%</th> <th>31.14%</th> <th>10.41%</th> <th>38.89%</th></tr></table>"
      ]
     },
     "metadata": {
      "tags": []
     },
     "output_type": "display_data"
    },
    {
     "data": {
      "text/html": [
       "<hr>"
      ]
     },
     "metadata": {
      "tags": []
     },
     "output_type": "display_data"
    },
    {
     "data": {
      "text/html": [
       "<h2 style='text-align:center'>Iteration 51</h2>"
      ]
     },
     "metadata": {
      "tags": []
     },
     "output_type": "display_data"
    },
    {
     "data": {
      "text/html": [
       "<table style='font-size:16px;margin-left:auto;margin-right:auto;text-align=center'><tr><th>Hidden Layers</th><th>Training Fraction</th> <th>Number of Steps</th></tr><tr><th>[10, 10, 10]</th><th>80%</th><th>200</th></tr></table>"
      ]
     },
     "metadata": {
      "tags": []
     },
     "output_type": "display_data"
    },
    {
     "data": {
      "text/html": [
       "<h4>Confusion Matrix:</h4>"
      ]
     },
     "metadata": {
      "tags": []
     },
     "output_type": "display_data"
    },
    {
     "data": {
      "text/html": [
       "<br/>"
      ]
     },
     "metadata": {
      "tags": []
     },
     "output_type": "display_data"
    },
    {
     "name": "stdout",
     "output_type": "stream",
     "text": [
      "[[  0 135   0   0   0   0   0   0   0   0]\n",
      " [  0 224   0   0   0   0   1   0   0   0]\n",
      " [  0 109   0   0   0   0   0   0   0   0]\n",
      " [  0  95   0   0   0   0   0   0   0   0]\n",
      " [  0  23   0   0   0   0   0   0   0   0]\n",
      " [  0  53   0   0   0   0   1   0   0   0]\n",
      " [  0   1   0   0   0   0 695   0   0   0]\n",
      " [  0  48   0   0   0   0  14   0   0   0]\n",
      " [  0  14   0   0   0   0   0   0   0   0]\n",
      " [  0  29   0   0   0   0   1   0   0   0]]\n"
     ]
    },
    {
     "data": {
      "text/html": [
       "<table style='font-size:16px;margin-left:auto;margin-right:auto;'><tr><th>Species</th><th>Accuracy</th> <th>Precision</th> <th>Recall</th> <th>F1-score</th></tr><tr><td>0</td><td>90.64%</td> <td>nan%</td> <td>0.00%</td> <td>nan%</td></tr><tr><td>1</td><td>64.80%</td> <td>30.64%</td> <td>99.56%</td> <td>46.86%</td></tr><tr><td>2</td><td>92.45%</td> <td>nan%</td> <td>0.00%</td> <td>nan%</td></tr><tr><td>3</td><td>93.42%</td> <td>nan%</td> <td>0.00%</td> <td>nan%</td></tr><tr><td>4</td><td>98.41%</td> <td>nan%</td> <td>0.00%</td> <td>nan%</td></tr><tr><td>5</td><td>96.26%</td> <td>nan%</td> <td>0.00%</td> <td>nan%</td></tr><tr><td>6</td><td>98.75%</td> <td>97.61%</td> <td>99.86%</td> <td>98.72%</td></tr><tr><td>7</td><td>95.70%</td> <td>nan%</td> <td>0.00%</td> <td>nan%</td></tr><tr><td>8</td><td>99.03%</td> <td>nan%</td> <td>0.00%</td> <td>nan%</td></tr><tr><td>9</td><td>97.92%</td> <td>nan%</td> <td>0.00%</td> <td>nan%</td></tr><tr><th>Average</th><th>92.74%</th> <th>64.13%</th> <th>19.94%</th> <th>72.79%</th></tr></table>"
      ]
     },
     "metadata": {
      "tags": []
     },
     "output_type": "display_data"
    },
    {
     "data": {
      "text/html": [
       "<hr>"
      ]
     },
     "metadata": {
      "tags": []
     },
     "output_type": "display_data"
    },
    {
     "data": {
      "text/html": [
       "<h2 style='text-align:center'>Iteration 52</h2>"
      ]
     },
     "metadata": {
      "tags": []
     },
     "output_type": "display_data"
    },
    {
     "data": {
      "text/html": [
       "<table style='font-size:16px;margin-left:auto;margin-right:auto;text-align=center'><tr><th>Hidden Layers</th><th>Training Fraction</th> <th>Number of Steps</th></tr><tr><th>[10, 10, 10]</th><th>50%</th><th>200</th></tr></table>"
      ]
     },
     "metadata": {
      "tags": []
     },
     "output_type": "display_data"
    },
    {
     "data": {
      "text/html": [
       "<h4>Confusion Matrix:</h4>"
      ]
     },
     "metadata": {
      "tags": []
     },
     "output_type": "display_data"
    },
    {
     "data": {
      "text/html": [
       "<br/>"
      ]
     },
     "metadata": {
      "tags": []
     },
     "output_type": "display_data"
    },
    {
     "name": "stdout",
     "output_type": "stream",
     "text": [
      "[[   0  336    0    0    0    0    0    0    0    0]\n",
      " [   0  557    0    0    0    0    4    0    0    0]\n",
      " [   0  271    0    0    0    0    0    0    0    0]\n",
      " [   0  236    0    0    0    0    0    0    0    0]\n",
      " [   0   57    0    0    0    0    0    0    0    0]\n",
      " [   0  131    0    0    0    0    4    0    0    0]\n",
      " [   0    4    0    0    0    0 1735    0    0    0]\n",
      " [   0  101    0    0    0    0   54    0    0    0]\n",
      " [   0   34    0    0    0    0    0    0    0    0]\n",
      " [   0   56    0    0    0    0   18    0    0    0]]\n"
     ]
    },
    {
     "data": {
      "text/html": [
       "<table style='font-size:16px;margin-left:auto;margin-right:auto;'><tr><th>Species</th><th>Accuracy</th> <th>Precision</th> <th>Recall</th> <th>F1-score</th></tr><tr><td>0</td><td>90.66%</td> <td>nan%</td> <td>0.00%</td> <td>nan%</td></tr><tr><td>1</td><td>65.81%</td> <td>31.24%</td> <td>99.29%</td> <td>47.53%</td></tr><tr><td>2</td><td>92.47%</td> <td>nan%</td> <td>0.00%</td> <td>nan%</td></tr><tr><td>3</td><td>93.44%</td> <td>nan%</td> <td>0.00%</td> <td>nan%</td></tr><tr><td>4</td><td>98.42%</td> <td>nan%</td> <td>0.00%</td> <td>nan%</td></tr><tr><td>5</td><td>96.25%</td> <td>nan%</td> <td>0.00%</td> <td>nan%</td></tr><tr><td>6</td><td>97.67%</td> <td>95.59%</td> <td>99.77%</td> <td>97.64%</td></tr><tr><td>7</td><td>95.69%</td> <td>nan%</td> <td>0.00%</td> <td>nan%</td></tr><tr><td>8</td><td>99.06%</td> <td>nan%</td> <td>0.00%</td> <td>nan%</td></tr><tr><td>9</td><td>97.94%</td> <td>nan%</td> <td>0.00%</td> <td>nan%</td></tr><tr><th>Average</th><th>92.74%</th> <th>63.42%</th> <th>19.91%</th> <th>72.58%</th></tr></table>"
      ]
     },
     "metadata": {
      "tags": []
     },
     "output_type": "display_data"
    },
    {
     "data": {
      "text/html": [
       "<hr>"
      ]
     },
     "metadata": {
      "tags": []
     },
     "output_type": "display_data"
    },
    {
     "data": {
      "text/html": [
       "<h2 style='text-align:center'>Iteration 53</h2>"
      ]
     },
     "metadata": {
      "tags": []
     },
     "output_type": "display_data"
    },
    {
     "data": {
      "text/html": [
       "<table style='font-size:16px;margin-left:auto;margin-right:auto;text-align=center'><tr><th>Hidden Layers</th><th>Training Fraction</th> <th>Number of Steps</th></tr><tr><th>[10, 10, 10]</th><th>80%</th><th>500</th></tr></table>"
      ]
     },
     "metadata": {
      "tags": []
     },
     "output_type": "display_data"
    },
    {
     "data": {
      "text/html": [
       "<h4>Confusion Matrix:</h4>"
      ]
     },
     "metadata": {
      "tags": []
     },
     "output_type": "display_data"
    },
    {
     "data": {
      "text/html": [
       "<br/>"
      ]
     },
     "metadata": {
      "tags": []
     },
     "output_type": "display_data"
    },
    {
     "name": "stdout",
     "output_type": "stream",
     "text": [
      "[[129   6   0   0   0   0   0   0   0   0]\n",
      " [  2 220   0   0   0   0   3   0   0   0]\n",
      " [ 82  27   0   0   0   0   0   0   0   0]\n",
      " [ 13  82   0   0   0   0   0   0   0   0]\n",
      " [ 17   6   0   0   0   0   0   0   0   0]\n",
      " [ 27  27   0   0   0   0   0   0   0   0]\n",
      " [  0   1   0   0   0   0 695   0   0   0]\n",
      " [ 24  21   0   0   0   0  17   0   0   0]\n",
      " [  1  13   0   0   0   0   0   0   0   0]\n",
      " [  0  26   0   0   0   0   4   0   0   0]]\n"
     ]
    },
    {
     "data": {
      "text/html": [
       "<table style='font-size:16px;margin-left:auto;margin-right:auto;'><tr><th>Species</th><th>Accuracy</th> <th>Precision</th> <th>Recall</th> <th>F1-score</th></tr><tr><td>0</td><td>88.08%</td> <td>43.73%</td> <td>95.56%</td> <td>60.00%</td></tr><tr><td>1</td><td>85.17%</td> <td>51.28%</td> <td>97.78%</td> <td>67.28%</td></tr><tr><td>2</td><td>92.45%</td> <td>nan%</td> <td>0.00%</td> <td>nan%</td></tr><tr><td>3</td><td>93.42%</td> <td>nan%</td> <td>0.00%</td> <td>nan%</td></tr><tr><td>4</td><td>98.41%</td> <td>nan%</td> <td>0.00%</td> <td>nan%</td></tr><tr><td>5</td><td>96.26%</td> <td>nan%</td> <td>0.00%</td> <td>nan%</td></tr><tr><td>6</td><td>98.27%</td> <td>96.66%</td> <td>99.86%</td> <td>98.23%</td></tr><tr><td>7</td><td>95.70%</td> <td>nan%</td> <td>0.00%</td> <td>nan%</td></tr><tr><td>8</td><td>99.03%</td> <td>nan%</td> <td>0.00%</td> <td>nan%</td></tr><tr><td>9</td><td>97.92%</td> <td>nan%</td> <td>0.00%</td> <td>nan%</td></tr><tr><th>Average</th><th>94.47%</th> <th>63.89%</th> <th>29.32%</th> <th>75.17%</th></tr></table>"
      ]
     },
     "metadata": {
      "tags": []
     },
     "output_type": "display_data"
    },
    {
     "data": {
      "text/html": [
       "<hr>"
      ]
     },
     "metadata": {
      "tags": []
     },
     "output_type": "display_data"
    },
    {
     "data": {
      "text/html": [
       "<h2 style='text-align:center'>Iteration 54</h2>"
      ]
     },
     "metadata": {
      "tags": []
     },
     "output_type": "display_data"
    },
    {
     "data": {
      "text/html": [
       "<table style='font-size:16px;margin-left:auto;margin-right:auto;text-align=center'><tr><th>Hidden Layers</th><th>Training Fraction</th> <th>Number of Steps</th></tr><tr><th>[10, 10, 10]</th><th>50%</th><th>500</th></tr></table>"
      ]
     },
     "metadata": {
      "tags": []
     },
     "output_type": "display_data"
    },
    {
     "data": {
      "text/html": [
       "<h4>Confusion Matrix:</h4>"
      ]
     },
     "metadata": {
      "tags": []
     },
     "output_type": "display_data"
    },
    {
     "data": {
      "text/html": [
       "<br/>"
      ]
     },
     "metadata": {
      "tags": []
     },
     "output_type": "display_data"
    },
    {
     "name": "stdout",
     "output_type": "stream",
     "text": [
      "[[ 336    0    0    0    0    0    0    0    0    0]\n",
      " [   5  541    0    0    0    0   15    0    0    0]\n",
      " [ 199   72    0    0    0    0    0    0    0    0]\n",
      " [  51  185    0    0    0    0    0    0    0    0]\n",
      " [  45   12    0    0    0    0    0    0    0    0]\n",
      " [  40   93    0    0    0    0    2    0    0    0]\n",
      " [   0    3    0    0    0    0 1736    0    0    0]\n",
      " [  54   62    0    0    0    0   39    0    0    0]\n",
      " [  19   15    0    0    0    0    0    0    0    0]\n",
      " [   5   67    0    0    0    0    2    0    0    0]]\n"
     ]
    },
    {
     "data": {
      "text/html": [
       "<table style='font-size:16px;margin-left:auto;margin-right:auto;'><tr><th>Species</th><th>Accuracy</th> <th>Precision</th> <th>Recall</th> <th>F1-score</th></tr><tr><td>0</td><td>88.38%</td> <td>44.56%</td> <td>100.00%</td> <td>61.65%</td></tr><tr><td>1</td><td>85.30%</td> <td>51.52%</td> <td>96.43%</td> <td>67.16%</td></tr><tr><td>2</td><td>92.47%</td> <td>nan%</td> <td>0.00%</td> <td>nan%</td></tr><tr><td>3</td><td>93.44%</td> <td>nan%</td> <td>0.00%</td> <td>nan%</td></tr><tr><td>4</td><td>98.42%</td> <td>nan%</td> <td>0.00%</td> <td>nan%</td></tr><tr><td>5</td><td>96.25%</td> <td>nan%</td> <td>0.00%</td> <td>nan%</td></tr><tr><td>6</td><td>98.30%</td> <td>96.77%</td> <td>99.83%</td> <td>98.27%</td></tr><tr><td>7</td><td>95.69%</td> <td>nan%</td> <td>0.00%</td> <td>nan%</td></tr><tr><td>8</td><td>99.06%</td> <td>nan%</td> <td>0.00%</td> <td>nan%</td></tr><tr><td>9</td><td>97.94%</td> <td>nan%</td> <td>0.00%</td> <td>nan%</td></tr><tr><th>Average</th><th>94.52%</th> <th>64.28%</th> <th>29.63%</th> <th>75.70%</th></tr></table>"
      ]
     },
     "metadata": {
      "tags": []
     },
     "output_type": "display_data"
    },
    {
     "data": {
      "text/html": [
       "<hr>"
      ]
     },
     "metadata": {
      "tags": []
     },
     "output_type": "display_data"
    },
    {
     "data": {
      "text/html": [
       "<h2 style='text-align:center'>Iteration 55</h2>"
      ]
     },
     "metadata": {
      "tags": []
     },
     "output_type": "display_data"
    },
    {
     "data": {
      "text/html": [
       "<table style='font-size:16px;margin-left:auto;margin-right:auto;text-align=center'><tr><th>Hidden Layers</th><th>Training Fraction</th> <th>Number of Steps</th></tr><tr><th>[10, 10, 10]</th><th>80%</th><th>1000</th></tr></table>"
      ]
     },
     "metadata": {
      "tags": []
     },
     "output_type": "display_data"
    },
    {
     "data": {
      "text/html": [
       "<h4>Confusion Matrix:</h4>"
      ]
     },
     "metadata": {
      "tags": []
     },
     "output_type": "display_data"
    },
    {
     "data": {
      "text/html": [
       "<br/>"
      ]
     },
     "metadata": {
      "tags": []
     },
     "output_type": "display_data"
    },
    {
     "name": "stdout",
     "output_type": "stream",
     "text": [
      "[[135   0   0   0   0   0   0   0   0   0]\n",
      " [  2 219   2   0   0   0   2   0   0   0]\n",
      " [ 83  11  15   0   0   0   0   0   0   0]\n",
      " [ 77  11   7   0   0   0   0   0   0   0]\n",
      " [ 11   3   9   0   0   0   0   0   0   0]\n",
      " [  3  48   3   0   0   0   0   0   0   0]\n",
      " [  1   0   0   0   0   0 695   0   0   0]\n",
      " [ 20  31   0   0   0   0  11   0   0   0]\n",
      " [ 12   1   1   0   0   0   0   0   0   0]\n",
      " [  3  26   1   0   0   0   0   0   0   0]]\n"
     ]
    },
    {
     "data": {
      "text/html": [
       "<table style='font-size:16px;margin-left:auto;margin-right:auto;'><tr><th>Species</th><th>Accuracy</th> <th>Precision</th> <th>Recall</th> <th>F1-score</th></tr><tr><td>0</td><td>85.31%</td> <td>38.90%</td> <td>100.00%</td> <td>56.02%</td></tr><tr><td>1</td><td>90.51%</td> <td>62.57%</td> <td>97.33%</td> <td>76.17%</td></tr><tr><td>2</td><td>91.89%</td> <td>39.47%</td> <td>13.76%</td> <td>20.41%</td></tr><tr><td>3</td><td>93.42%</td> <td>nan%</td> <td>0.00%</td> <td>nan%</td></tr><tr><td>4</td><td>98.41%</td> <td>nan%</td> <td>0.00%</td> <td>nan%</td></tr><tr><td>5</td><td>96.26%</td> <td>nan%</td> <td>0.00%</td> <td>nan%</td></tr><tr><td>6</td><td>99.03%</td> <td>98.16%</td> <td>99.86%</td> <td>99.00%</td></tr><tr><td>7</td><td>95.70%</td> <td>nan%</td> <td>0.00%</td> <td>nan%</td></tr><tr><td>8</td><td>99.03%</td> <td>nan%</td> <td>0.00%</td> <td>nan%</td></tr><tr><td>9</td><td>97.92%</td> <td>nan%</td> <td>0.00%</td> <td>nan%</td></tr><tr><th>Average</th><th>94.75%</th> <th>59.78%</th> <th>31.10%</th> <th>62.90%</th></tr></table>"
      ]
     },
     "metadata": {
      "tags": []
     },
     "output_type": "display_data"
    },
    {
     "data": {
      "text/html": [
       "<hr>"
      ]
     },
     "metadata": {
      "tags": []
     },
     "output_type": "display_data"
    },
    {
     "data": {
      "text/html": [
       "<h2 style='text-align:center'>Iteration 56</h2>"
      ]
     },
     "metadata": {
      "tags": []
     },
     "output_type": "display_data"
    },
    {
     "data": {
      "text/html": [
       "<table style='font-size:16px;margin-left:auto;margin-right:auto;text-align=center'><tr><th>Hidden Layers</th><th>Training Fraction</th> <th>Number of Steps</th></tr><tr><th>[10, 10, 10]</th><th>50%</th><th>1000</th></tr></table>"
      ]
     },
     "metadata": {
      "tags": []
     },
     "output_type": "display_data"
    },
    {
     "data": {
      "text/html": [
       "<h4>Confusion Matrix:</h4>"
      ]
     },
     "metadata": {
      "tags": []
     },
     "output_type": "display_data"
    },
    {
     "data": {
      "text/html": [
       "<br/>"
      ]
     },
     "metadata": {
      "tags": []
     },
     "output_type": "display_data"
    },
    {
     "name": "stdout",
     "output_type": "stream",
     "text": [
      "[[ 335    0    1    0    0    0    0    0    0    0]\n",
      " [   1  550    5    0    0    0    5    0    0    0]\n",
      " [ 167   26   78    0    0    0    0    0    0    0]\n",
      " [ 176   13   47    0    0    0    0    0    0    0]\n",
      " [  24    7   26    0    0    0    0    0    0    0]\n",
      " [   3  128    4    0    0    0    0    0    0    0]\n",
      " [   2    3    2    0    0    0 1732    0    0    0]\n",
      " [  59   71    2    0    0    0   23    0    0    0]\n",
      " [  21    2   11    0    0    0    0    0    0    0]\n",
      " [   6   59    7    0    0    0    2    0    0    0]]\n"
     ]
    },
    {
     "data": {
      "text/html": [
       "<table style='font-size:16px;margin-left:auto;margin-right:auto;'><tr><th>Species</th><th>Accuracy</th> <th>Precision</th> <th>Recall</th> <th>F1-score</th></tr><tr><td>0</td><td>87.22%</td> <td>42.19%</td> <td>99.70%</td> <td>59.29%</td></tr><tr><td>1</td><td>91.11%</td> <td>64.03%</td> <td>98.04%</td> <td>77.46%</td></tr><tr><td>2</td><td>91.72%</td> <td>42.62%</td> <td>28.78%</td> <td>34.36%</td></tr><tr><td>3</td><td>93.44%</td> <td>nan%</td> <td>0.00%</td> <td>nan%</td></tr><tr><td>4</td><td>98.42%</td> <td>nan%</td> <td>0.00%</td> <td>nan%</td></tr><tr><td>5</td><td>96.25%</td> <td>nan%</td> <td>0.00%</td> <td>nan%</td></tr><tr><td>6</td><td>98.97%</td> <td>98.30%</td> <td>99.60%</td> <td>98.94%</td></tr><tr><td>7</td><td>95.69%</td> <td>nan%</td> <td>0.00%</td> <td>nan%</td></tr><tr><td>8</td><td>99.06%</td> <td>nan%</td> <td>0.00%</td> <td>nan%</td></tr><tr><td>9</td><td>97.94%</td> <td>nan%</td> <td>0.00%</td> <td>nan%</td></tr><tr><th>Average</th><th>94.98%</th> <th>61.78%</th> <th>32.61%</th> <th>67.52%</th></tr></table>"
      ]
     },
     "metadata": {
      "tags": []
     },
     "output_type": "display_data"
    },
    {
     "data": {
      "text/html": [
       "<hr>"
      ]
     },
     "metadata": {
      "tags": []
     },
     "output_type": "display_data"
    },
    {
     "data": {
      "text/html": [
       "<h2 style='text-align:center'>Iteration 57</h2>"
      ]
     },
     "metadata": {
      "tags": []
     },
     "output_type": "display_data"
    },
    {
     "data": {
      "text/html": [
       "<table style='font-size:16px;margin-left:auto;margin-right:auto;text-align=center'><tr><th>Hidden Layers</th><th>Training Fraction</th> <th>Number of Steps</th></tr><tr><th>[10, 10, 10]</th><th>80%</th><th>1500</th></tr></table>"
      ]
     },
     "metadata": {
      "tags": []
     },
     "output_type": "display_data"
    },
    {
     "data": {
      "text/html": [
       "<h4>Confusion Matrix:</h4>"
      ]
     },
     "metadata": {
      "tags": []
     },
     "output_type": "display_data"
    },
    {
     "data": {
      "text/html": [
       "<br/>"
      ]
     },
     "metadata": {
      "tags": []
     },
     "output_type": "display_data"
    },
    {
     "name": "stdout",
     "output_type": "stream",
     "text": [
      "[[131   3   1   0   0   0   0   0   0   0]\n",
      " [  0 221   0   2   0   0   2   0   0   0]\n",
      " [ 92   1   3  13   0   0   0   0   0   0]\n",
      " [  9  17  12  57   0   0   0   0   0   0]\n",
      " [  1   1   1  20   0   0   0   0   0   0]\n",
      " [  1  50   0   3   0   0   0   0   0   0]\n",
      " [  1   0   0   1   0   0 694   0   0   0]\n",
      " [ 29  22   0   1   0   0  10   0   0   0]\n",
      " [  0   1   0  13   0   0   0   0   0   0]\n",
      " [  0  23   1   2   0   0   4   0   0   0]]\n"
     ]
    },
    {
     "data": {
      "text/html": [
       "<table style='font-size:16px;margin-left:auto;margin-right:auto;'><tr><th>Species</th><th>Accuracy</th> <th>Precision</th> <th>Recall</th> <th>F1-score</th></tr><tr><td>0</td><td>90.51%</td> <td>49.62%</td> <td>97.04%</td> <td>65.66%</td></tr><tr><td>1</td><td>91.55%</td> <td>65.19%</td> <td>98.22%</td> <td>78.37%</td></tr><tr><td>2</td><td>91.61%</td> <td>16.67%</td> <td>2.75%</td> <td>4.72%</td></tr><tr><td>3</td><td>93.56%</td> <td>50.89%</td> <td>60.00%</td> <td>55.07%</td></tr><tr><td>4</td><td>98.41%</td> <td>nan%</td> <td>0.00%</td> <td>nan%</td></tr><tr><td>5</td><td>96.26%</td> <td>nan%</td> <td>0.00%</td> <td>nan%</td></tr><tr><td>6</td><td>98.75%</td> <td>97.75%</td> <td>99.71%</td> <td>98.72%</td></tr><tr><td>7</td><td>95.70%</td> <td>nan%</td> <td>0.00%</td> <td>nan%</td></tr><tr><td>8</td><td>99.03%</td> <td>nan%</td> <td>0.00%</td> <td>nan%</td></tr><tr><td>9</td><td>97.92%</td> <td>nan%</td> <td>0.00%</td> <td>nan%</td></tr><tr><th>Average</th><th>95.33%</th> <th>56.02%</th> <th>35.77%</th> <th>60.51%</th></tr></table>"
      ]
     },
     "metadata": {
      "tags": []
     },
     "output_type": "display_data"
    },
    {
     "data": {
      "text/html": [
       "<hr>"
      ]
     },
     "metadata": {
      "tags": []
     },
     "output_type": "display_data"
    },
    {
     "data": {
      "text/html": [
       "<h2 style='text-align:center'>Iteration 58</h2>"
      ]
     },
     "metadata": {
      "tags": []
     },
     "output_type": "display_data"
    },
    {
     "data": {
      "text/html": [
       "<table style='font-size:16px;margin-left:auto;margin-right:auto;text-align=center'><tr><th>Hidden Layers</th><th>Training Fraction</th> <th>Number of Steps</th></tr><tr><th>[10, 10, 10]</th><th>50%</th><th>1500</th></tr></table>"
      ]
     },
     "metadata": {
      "tags": []
     },
     "output_type": "display_data"
    },
    {
     "data": {
      "text/html": [
       "<h4>Confusion Matrix:</h4>"
      ]
     },
     "metadata": {
      "tags": []
     },
     "output_type": "display_data"
    },
    {
     "data": {
      "text/html": [
       "<br/>"
      ]
     },
     "metadata": {
      "tags": []
     },
     "output_type": "display_data"
    },
    {
     "name": "stdout",
     "output_type": "stream",
     "text": [
      "[[ 323    4    7    2    0    0    0    0    0    0]\n",
      " [   0  552    0    1    0    0    8    0    0    0]\n",
      " [ 141    7   68   55    0    0    0    0    0    0]\n",
      " [  12   41   45  138    0    0    0    0    0    0]\n",
      " [   2   13    4   38    0    0    0    0    0    0]\n",
      " [   1  116    2   15    0    0    1    0    0    0]\n",
      " [   0    7    0    2    0    0 1730    0    0    0]\n",
      " [  48   78    3    4    0    0   22    0    0    0]\n",
      " [   2    4    6   22    0    0    0    0    0    0]\n",
      " [   0   53    2   17    0    0    2    0    0    0]]\n"
     ]
    },
    {
     "data": {
      "text/html": [
       "<table style='font-size:16px;margin-left:auto;margin-right:auto;'><tr><th>Species</th><th>Accuracy</th> <th>Precision</th> <th>Recall</th> <th>F1-score</th></tr><tr><td>0</td><td>93.91%</td> <td>61.06%</td> <td>96.13%</td> <td>74.68%</td></tr><tr><td>1</td><td>90.77%</td> <td>63.09%</td> <td>98.40%</td> <td>76.88%</td></tr><tr><td>2</td><td>92.44%</td> <td>49.64%</td> <td>25.09%</td> <td>33.33%</td></tr><tr><td>3</td><td>92.94%</td> <td>46.94%</td> <td>58.47%</td> <td>52.08%</td></tr><tr><td>4</td><td>98.42%</td> <td>nan%</td> <td>0.00%</td> <td>nan%</td></tr><tr><td>5</td><td>96.25%</td> <td>nan%</td> <td>0.00%</td> <td>nan%</td></tr><tr><td>6</td><td>98.83%</td> <td>98.13%</td> <td>99.48%</td> <td>98.80%</td></tr><tr><td>7</td><td>95.69%</td> <td>nan%</td> <td>0.00%</td> <td>nan%</td></tr><tr><td>8</td><td>99.06%</td> <td>nan%</td> <td>0.00%</td> <td>nan%</td></tr><tr><td>9</td><td>97.94%</td> <td>nan%</td> <td>0.00%</td> <td>nan%</td></tr><tr><th>Average</th><th>95.63%</th> <th>63.77%</th> <th>37.76%</th> <th>67.15%</th></tr></table>"
      ]
     },
     "metadata": {
      "tags": []
     },
     "output_type": "display_data"
    },
    {
     "data": {
      "text/html": [
       "<hr>"
      ]
     },
     "metadata": {
      "tags": []
     },
     "output_type": "display_data"
    },
    {
     "data": {
      "text/html": [
       "<h2 style='text-align:center'>Iteration 59</h2>"
      ]
     },
     "metadata": {
      "tags": []
     },
     "output_type": "display_data"
    },
    {
     "data": {
      "text/html": [
       "<table style='font-size:16px;margin-left:auto;margin-right:auto;text-align=center'><tr><th>Hidden Layers</th><th>Training Fraction</th> <th>Number of Steps</th></tr><tr><th>[10, 10, 10]</th><th>80%</th><th>2000</th></tr></table>"
      ]
     },
     "metadata": {
      "tags": []
     },
     "output_type": "display_data"
    },
    {
     "data": {
      "text/html": [
       "<h4>Confusion Matrix:</h4>"
      ]
     },
     "metadata": {
      "tags": []
     },
     "output_type": "display_data"
    },
    {
     "data": {
      "text/html": [
       "<br/>"
      ]
     },
     "metadata": {
      "tags": []
     },
     "output_type": "display_data"
    },
    {
     "name": "stdout",
     "output_type": "stream",
     "text": [
      "[[131   0   1   3   0   0   0   0   0   0]\n",
      " [  0 224   0   1   0   0   0   0   0   0]\n",
      " [ 85   1  11  12   0   0   0   0   0   0]\n",
      " [  3  13   2  77   0   0   0   0   0   0]\n",
      " [  1   2   2  18   0   0   0   0   0   0]\n",
      " [  0  49   1   2   0   0   2   0   0   0]\n",
      " [  0   0   0   0   0   0 696   0   0   0]\n",
      " [ 21  23   0   3   0   0  12   3   0   0]\n",
      " [  0   0   1  13   0   0   0   0   0   0]\n",
      " [  0  21   1   4   0   0   2   2   0   0]]\n"
     ]
    },
    {
     "data": {
      "text/html": [
       "<table style='font-size:16px;margin-left:auto;margin-right:auto;'><tr><th>Species</th><th>Accuracy</th> <th>Precision</th> <th>Recall</th> <th>F1-score</th></tr><tr><td>0</td><td>92.10%</td> <td>54.36%</td> <td>97.04%</td> <td>69.68%</td></tr><tr><td>1</td><td>92.38%</td> <td>67.27%</td> <td>99.56%</td> <td>80.29%</td></tr><tr><td>2</td><td>92.65%</td> <td>57.89%</td> <td>10.09%</td> <td>17.19%</td></tr><tr><td>3</td><td>94.87%</td> <td>57.89%</td> <td>81.05%</td> <td>67.54%</td></tr><tr><td>4</td><td>98.41%</td> <td>nan%</td> <td>0.00%</td> <td>nan%</td></tr><tr><td>5</td><td>96.26%</td> <td>nan%</td> <td>0.00%</td> <td>nan%</td></tr><tr><td>6</td><td>98.89%</td> <td>97.75%</td> <td>100.00%</td> <td>98.86%</td></tr><tr><td>7</td><td>95.77%</td> <td>60.00%</td> <td>4.84%</td> <td>8.96%</td></tr><tr><td>8</td><td>99.03%</td> <td>nan%</td> <td>0.00%</td> <td>nan%</td></tr><tr><td>9</td><td>97.92%</td> <td>nan%</td> <td>0.00%</td> <td>nan%</td></tr><tr><th>Average</th><th>95.83%</th> <th>65.86%</th> <th>39.26%</th> <th>57.09%</th></tr></table>"
      ]
     },
     "metadata": {
      "tags": []
     },
     "output_type": "display_data"
    },
    {
     "data": {
      "text/html": [
       "<hr>"
      ]
     },
     "metadata": {
      "tags": []
     },
     "output_type": "display_data"
    },
    {
     "data": {
      "text/html": [
       "<h2 style='text-align:center'>Iteration 60</h2>"
      ]
     },
     "metadata": {
      "tags": []
     },
     "output_type": "display_data"
    },
    {
     "data": {
      "text/html": [
       "<table style='font-size:16px;margin-left:auto;margin-right:auto;text-align=center'><tr><th>Hidden Layers</th><th>Training Fraction</th> <th>Number of Steps</th></tr><tr><th>[10, 10, 10]</th><th>50%</th><th>2000</th></tr></table>"
      ]
     },
     "metadata": {
      "tags": []
     },
     "output_type": "display_data"
    },
    {
     "data": {
      "text/html": [
       "<h4>Confusion Matrix:</h4>"
      ]
     },
     "metadata": {
      "tags": []
     },
     "output_type": "display_data"
    },
    {
     "data": {
      "text/html": [
       "<br/>"
      ]
     },
     "metadata": {
      "tags": []
     },
     "output_type": "display_data"
    },
    {
     "name": "stdout",
     "output_type": "stream",
     "text": [
      "[[ 328    1    6    1    0    0    0    0    0    0]\n",
      " [   0  557    1    2    0    0    1    0    0    0]\n",
      " [ 201    9   40   21    0    0    0    0    0    0]\n",
      " [ 160   18   32   26    0    0    0    0    0    0]\n",
      " [  11   16    9   21    0    0    0    0    0    0]\n",
      " [   1  129    2    3    0    0    0    0    0    0]\n",
      " [   0    2    1    1    0    0 1735    0    0    0]\n",
      " [  54   74    3    1    0    0   23    0    0    0]\n",
      " [   0    2   20   12    0    0    0    0    0    0]\n",
      " [   2   65    2    5    0    0    0    0    0    0]]\n"
     ]
    },
    {
     "data": {
      "text/html": [
       "<table style='font-size:16px;margin-left:auto;margin-right:auto;'><tr><th>Species</th><th>Accuracy</th> <th>Precision</th> <th>Recall</th> <th>F1-score</th></tr><tr><td>0</td><td>87.85%</td> <td>43.33%</td> <td>97.62%</td> <td>60.02%</td></tr><tr><td>1</td><td>91.11%</td> <td>63.80%</td> <td>99.29%</td> <td>77.68%</td></tr><tr><td>2</td><td>91.47%</td> <td>34.48%</td> <td>14.76%</td> <td>20.67%</td></tr><tr><td>3</td><td>92.30%</td> <td>27.96%</td> <td>11.02%</td> <td>15.81%</td></tr><tr><td>4</td><td>98.42%</td> <td>nan%</td> <td>0.00%</td> <td>nan%</td></tr><tr><td>5</td><td>96.25%</td> <td>nan%</td> <td>0.00%</td> <td>nan%</td></tr><tr><td>6</td><td>99.22%</td> <td>98.64%</td> <td>99.77%</td> <td>99.20%</td></tr><tr><td>7</td><td>95.69%</td> <td>nan%</td> <td>0.00%</td> <td>nan%</td></tr><tr><td>8</td><td>99.06%</td> <td>nan%</td> <td>0.00%</td> <td>nan%</td></tr><tr><td>9</td><td>97.94%</td> <td>nan%</td> <td>0.00%</td> <td>nan%</td></tr><tr><th>Average</th><th>94.93%</th> <th>53.64%</th> <th>32.25%</th> <th>54.68%</th></tr></table>"
      ]
     },
     "metadata": {
      "tags": []
     },
     "output_type": "display_data"
    },
    {
     "data": {
      "text/html": [
       "<hr>"
      ]
     },
     "metadata": {
      "tags": []
     },
     "output_type": "display_data"
    },
    {
     "data": {
      "text/html": [
       "<h2 style='text-align:center'>Iteration 61</h2>"
      ]
     },
     "metadata": {
      "tags": []
     },
     "output_type": "display_data"
    },
    {
     "data": {
      "text/html": [
       "<table style='font-size:16px;margin-left:auto;margin-right:auto;text-align=center'><tr><th>Hidden Layers</th><th>Training Fraction</th> <th>Number of Steps</th></tr><tr><th>[100, 100, 100]</th><th>80%</th><th>100</th></tr></table>"
      ]
     },
     "metadata": {
      "tags": []
     },
     "output_type": "display_data"
    },
    {
     "data": {
      "text/html": [
       "<h4>Confusion Matrix:</h4>"
      ]
     },
     "metadata": {
      "tags": []
     },
     "output_type": "display_data"
    },
    {
     "data": {
      "text/html": [
       "<br/>"
      ]
     },
     "metadata": {
      "tags": []
     },
     "output_type": "display_data"
    },
    {
     "name": "stdout",
     "output_type": "stream",
     "text": [
      "[[131   4   0   0   0   0   0   0   0   0]\n",
      " [  3 210   0   0   0   0  12   0   0   0]\n",
      " [ 57  52   0   0   0   0   0   0   0   0]\n",
      " [ 33  62   0   0   0   0   0   0   0   0]\n",
      " [ 17   6   0   0   0   0   0   0   0   0]\n",
      " [  8  46   0   0   0   0   0   0   0   0]\n",
      " [  1   0   0   0   0   0 695   0   0   0]\n",
      " [ 21  19   0   0   0   0  22   0   0   0]\n",
      " [  3  11   0   0   0   0   0   0   0   0]\n",
      " [  1  19   0   0   0   0  10   0   0   0]]\n"
     ]
    },
    {
     "data": {
      "text/html": [
       "<table style='font-size:16px;margin-left:auto;margin-right:auto;'><tr><th>Species</th><th>Accuracy</th> <th>Precision</th> <th>Recall</th> <th>F1-score</th></tr><tr><td>0</td><td>89.74%</td> <td>47.64%</td> <td>97.04%</td> <td>63.90%</td></tr><tr><td>1</td><td>83.78%</td> <td>48.95%</td> <td>93.33%</td> <td>64.22%</td></tr><tr><td>2</td><td>92.45%</td> <td>nan%</td> <td>0.00%</td> <td>nan%</td></tr><tr><td>3</td><td>93.42%</td> <td>nan%</td> <td>0.00%</td> <td>nan%</td></tr><tr><td>4</td><td>98.41%</td> <td>nan%</td> <td>0.00%</td> <td>nan%</td></tr><tr><td>5</td><td>96.26%</td> <td>nan%</td> <td>0.00%</td> <td>nan%</td></tr><tr><td>6</td><td>96.88%</td> <td>94.05%</td> <td>99.86%</td> <td>96.86%</td></tr><tr><td>7</td><td>95.70%</td> <td>nan%</td> <td>0.00%</td> <td>nan%</td></tr><tr><td>8</td><td>99.03%</td> <td>nan%</td> <td>0.00%</td> <td>nan%</td></tr><tr><td>9</td><td>97.92%</td> <td>nan%</td> <td>0.00%</td> <td>nan%</td></tr><tr><th>Average</th><th>94.36%</th> <th>63.54%</th> <th>29.02%</th> <th>75.00%</th></tr></table>"
      ]
     },
     "metadata": {
      "tags": []
     },
     "output_type": "display_data"
    },
    {
     "data": {
      "text/html": [
       "<hr>"
      ]
     },
     "metadata": {
      "tags": []
     },
     "output_type": "display_data"
    },
    {
     "data": {
      "text/html": [
       "<h2 style='text-align:center'>Iteration 62</h2>"
      ]
     },
     "metadata": {
      "tags": []
     },
     "output_type": "display_data"
    },
    {
     "data": {
      "text/html": [
       "<table style='font-size:16px;margin-left:auto;margin-right:auto;text-align=center'><tr><th>Hidden Layers</th><th>Training Fraction</th> <th>Number of Steps</th></tr><tr><th>[100, 100, 100]</th><th>50%</th><th>100</th></tr></table>"
      ]
     },
     "metadata": {
      "tags": []
     },
     "output_type": "display_data"
    },
    {
     "data": {
      "text/html": [
       "<h4>Confusion Matrix:</h4>"
      ]
     },
     "metadata": {
      "tags": []
     },
     "output_type": "display_data"
    },
    {
     "data": {
      "text/html": [
       "<br/>"
      ]
     },
     "metadata": {
      "tags": []
     },
     "output_type": "display_data"
    },
    {
     "name": "stdout",
     "output_type": "stream",
     "text": [
      "[[ 311   25    0    0    0    0    0    0    0    0]\n",
      " [   2  538    0    0    0    0   21    0    0    0]\n",
      " [ 115  156    0    0    0    0    0    0    0    0]\n",
      " [  11  225    0    0    0    0    0    0    0    0]\n",
      " [   3   54    0    0    0    0    0    0    0    0]\n",
      " [   5  127    0    0    0    0    3    0    0    0]\n",
      " [   0    6    0    0    0    0 1733    0    0    0]\n",
      " [  55   63    0    0    0    0   37    0    0    0]\n",
      " [   4   30    0    0    0    0    0    0    0    0]\n",
      " [   1   48    0    0    0    0   25    0    0    0]]\n"
     ]
    },
    {
     "data": {
      "text/html": [
       "<table style='font-size:16px;margin-left:auto;margin-right:auto;'><tr><th>Species</th><th>Accuracy</th> <th>Precision</th> <th>Recall</th> <th>F1-score</th></tr><tr><td>0</td><td>93.86%</td> <td>61.34%</td> <td>92.56%</td> <td>73.78%</td></tr><tr><td>1</td><td>78.96%</td> <td>42.30%</td> <td>95.90%</td> <td>58.70%</td></tr><tr><td>2</td><td>92.47%</td> <td>nan%</td> <td>0.00%</td> <td>nan%</td></tr><tr><td>3</td><td>93.44%</td> <td>nan%</td> <td>0.00%</td> <td>nan%</td></tr><tr><td>4</td><td>98.42%</td> <td>nan%</td> <td>0.00%</td> <td>nan%</td></tr><tr><td>5</td><td>96.25%</td> <td>nan%</td> <td>0.00%</td> <td>nan%</td></tr><tr><td>6</td><td>97.44%</td> <td>95.27%</td> <td>99.65%</td> <td>97.41%</td></tr><tr><td>7</td><td>95.69%</td> <td>nan%</td> <td>0.00%</td> <td>nan%</td></tr><tr><td>8</td><td>99.06%</td> <td>nan%</td> <td>0.00%</td> <td>nan%</td></tr><tr><td>9</td><td>97.94%</td> <td>nan%</td> <td>0.00%</td> <td>nan%</td></tr><tr><th>Average</th><th>94.35%</th> <th>66.30%</th> <th>28.81%</th> <th>76.63%</th></tr></table>"
      ]
     },
     "metadata": {
      "tags": []
     },
     "output_type": "display_data"
    },
    {
     "data": {
      "text/html": [
       "<hr>"
      ]
     },
     "metadata": {
      "tags": []
     },
     "output_type": "display_data"
    },
    {
     "data": {
      "text/html": [
       "<h2 style='text-align:center'>Iteration 63</h2>"
      ]
     },
     "metadata": {
      "tags": []
     },
     "output_type": "display_data"
    },
    {
     "data": {
      "text/html": [
       "<table style='font-size:16px;margin-left:auto;margin-right:auto;text-align=center'><tr><th>Hidden Layers</th><th>Training Fraction</th> <th>Number of Steps</th></tr><tr><th>[100, 100, 100]</th><th>80%</th><th>200</th></tr></table>"
      ]
     },
     "metadata": {
      "tags": []
     },
     "output_type": "display_data"
    },
    {
     "data": {
      "text/html": [
       "<h4>Confusion Matrix:</h4>"
      ]
     },
     "metadata": {
      "tags": []
     },
     "output_type": "display_data"
    },
    {
     "data": {
      "text/html": [
       "<br/>"
      ]
     },
     "metadata": {
      "tags": []
     },
     "output_type": "display_data"
    },
    {
     "name": "stdout",
     "output_type": "stream",
     "text": [
      "[[132   1   0   2   0   0   0   0   0   0]\n",
      " [  2 214   0   6   0   0   3   0   0   0]\n",
      " [ 92   1   4  12   0   0   0   0   0   0]\n",
      " [  7  59   0  29   0   0   0   0   0   0]\n",
      " [  7   2   0  14   0   0   0   0   0   0]\n",
      " [  1  33   0  20   0   0   0   0   0   0]\n",
      " [  0   1   0   2   0   0 693   0   0   0]\n",
      " [ 22  26   0   2   0   0  12   0   0   0]\n",
      " [  1   0   0  13   0   0   0   0   0   0]\n",
      " [  0  21   0   9   0   0   0   0   0   0]]\n"
     ]
    },
    {
     "data": {
      "text/html": [
       "<table style='font-size:16px;margin-left:auto;margin-right:auto;'><tr><th>Species</th><th>Accuracy</th> <th>Precision</th> <th>Recall</th> <th>F1-score</th></tr><tr><td>0</td><td>90.64%</td> <td>50.00%</td> <td>97.78%</td> <td>66.17%</td></tr><tr><td>1</td><td>89.26%</td> <td>59.78%</td> <td>95.11%</td> <td>73.41%</td></tr><tr><td>2</td><td>92.72%</td> <td>100.00%</td> <td>3.67%</td> <td>7.08%</td></tr><tr><td>3</td><td>89.88%</td> <td>26.61%</td> <td>30.53%</td> <td>28.43%</td></tr><tr><td>4</td><td>98.41%</td> <td>nan%</td> <td>0.00%</td> <td>nan%</td></tr><tr><td>5</td><td>96.26%</td> <td>nan%</td> <td>0.00%</td> <td>nan%</td></tr><tr><td>6</td><td>98.75%</td> <td>97.88%</td> <td>99.57%</td> <td>98.72%</td></tr><tr><td>7</td><td>95.70%</td> <td>nan%</td> <td>0.00%</td> <td>nan%</td></tr><tr><td>8</td><td>99.03%</td> <td>nan%</td> <td>0.00%</td> <td>nan%</td></tr><tr><td>9</td><td>97.92%</td> <td>nan%</td> <td>0.00%</td> <td>nan%</td></tr><tr><th>Average</th><th>94.86%</th> <th>66.85%</th> <th>32.67%</th> <th>54.76%</th></tr></table>"
      ]
     },
     "metadata": {
      "tags": []
     },
     "output_type": "display_data"
    },
    {
     "data": {
      "text/html": [
       "<hr>"
      ]
     },
     "metadata": {
      "tags": []
     },
     "output_type": "display_data"
    },
    {
     "data": {
      "text/html": [
       "<h2 style='text-align:center'>Iteration 64</h2>"
      ]
     },
     "metadata": {
      "tags": []
     },
     "output_type": "display_data"
    },
    {
     "data": {
      "text/html": [
       "<table style='font-size:16px;margin-left:auto;margin-right:auto;text-align=center'><tr><th>Hidden Layers</th><th>Training Fraction</th> <th>Number of Steps</th></tr><tr><th>[100, 100, 100]</th><th>50%</th><th>200</th></tr></table>"
      ]
     },
     "metadata": {
      "tags": []
     },
     "output_type": "display_data"
    },
    {
     "data": {
      "text/html": [
       "<h4>Confusion Matrix:</h4>"
      ]
     },
     "metadata": {
      "tags": []
     },
     "output_type": "display_data"
    },
    {
     "data": {
      "text/html": [
       "<br/>"
      ]
     },
     "metadata": {
      "tags": []
     },
     "output_type": "display_data"
    },
    {
     "name": "stdout",
     "output_type": "stream",
     "text": [
      "[[ 212    3  121    0    0    0    0    0    0    0]\n",
      " [   0  536    6    0    0    0   19    0    0    0]\n",
      " [  27   13  231    0    0    0    0    0    0    0]\n",
      " [   2  220   11    0    0    0    3    0    0    0]\n",
      " [   0   22   35    0    0    0    0    0    0    0]\n",
      " [   1   95   39    0    0    0    0    0    0    0]\n",
      " [   0    0    0    0    0    0 1739    0    0    0]\n",
      " [  38   69   18    0    0    0   30    0    0    0]\n",
      " [   2   13   19    0    0    0    0    0    0    0]\n",
      " [   0   47   13    0    0    0   14    0    0    0]]\n"
     ]
    },
    {
     "data": {
      "text/html": [
       "<table style='font-size:16px;margin-left:auto;margin-right:auto;'><tr><th>Species</th><th>Accuracy</th> <th>Precision</th> <th>Recall</th> <th>F1-score</th></tr><tr><td>0</td><td>94.61%</td> <td>75.18%</td> <td>63.10%</td> <td>68.61%</td></tr><tr><td>1</td><td>85.91%</td> <td>52.65%</td> <td>95.54%</td> <td>67.89%</td></tr><tr><td>2</td><td>91.61%</td> <td>46.86%</td> <td>85.24%</td> <td>60.47%</td></tr><tr><td>3</td><td>93.44%</td> <td>nan%</td> <td>0.00%</td> <td>nan%</td></tr><tr><td>4</td><td>98.42%</td> <td>nan%</td> <td>0.00%</td> <td>nan%</td></tr><tr><td>5</td><td>96.25%</td> <td>nan%</td> <td>0.00%</td> <td>nan%</td></tr><tr><td>6</td><td>98.17%</td> <td>96.34%</td> <td>100.00%</td> <td>98.14%</td></tr><tr><td>7</td><td>95.69%</td> <td>nan%</td> <td>0.00%</td> <td>nan%</td></tr><tr><td>8</td><td>99.06%</td> <td>nan%</td> <td>0.00%</td> <td>nan%</td></tr><tr><td>9</td><td>97.94%</td> <td>nan%</td> <td>0.00%</td> <td>nan%</td></tr><tr><th>Average</th><th>95.11%</th> <th>67.76%</th> <th>34.39%</th> <th>73.78%</th></tr></table>"
      ]
     },
     "metadata": {
      "tags": []
     },
     "output_type": "display_data"
    },
    {
     "data": {
      "text/html": [
       "<hr>"
      ]
     },
     "metadata": {
      "tags": []
     },
     "output_type": "display_data"
    },
    {
     "data": {
      "text/html": [
       "<h2 style='text-align:center'>Iteration 65</h2>"
      ]
     },
     "metadata": {
      "tags": []
     },
     "output_type": "display_data"
    },
    {
     "data": {
      "text/html": [
       "<table style='font-size:16px;margin-left:auto;margin-right:auto;text-align=center'><tr><th>Hidden Layers</th><th>Training Fraction</th> <th>Number of Steps</th></tr><tr><th>[100, 100, 100]</th><th>80%</th><th>500</th></tr></table>"
      ]
     },
     "metadata": {
      "tags": []
     },
     "output_type": "display_data"
    },
    {
     "data": {
      "text/html": [
       "<h4>Confusion Matrix:</h4>"
      ]
     },
     "metadata": {
      "tags": []
     },
     "output_type": "display_data"
    },
    {
     "data": {
      "text/html": [
       "<br/>"
      ]
     },
     "metadata": {
      "tags": []
     },
     "output_type": "display_data"
    },
    {
     "name": "stdout",
     "output_type": "stream",
     "text": [
      "[[123   0  10   1   1   0   0   0   0   0]\n",
      " [  0 217   0   5   0   0   3   0   0   0]\n",
      " [ 24   0  84   0   1   0   0   0   0   0]\n",
      " [  2   0   0  93   0   0   0   0   0   0]\n",
      " [  0   0   0  19   4   0   0   0   0   0]\n",
      " [  1  41   1   8   3   0   0   0   0   0]\n",
      " [  1   4   0   0   0   0 688   3   0   0]\n",
      " [  6   5  17   0   0   0   8  26   0   0]\n",
      " [  2   1   9   0   2   0   0   0   0   0]\n",
      " [  1  20   6   1   1   0   0   1   0   0]]\n"
     ]
    },
    {
     "data": {
      "text/html": [
       "<table style='font-size:16px;margin-left:auto;margin-right:auto;'><tr><th>Species</th><th>Accuracy</th> <th>Precision</th> <th>Recall</th> <th>F1-score</th></tr><tr><td>0</td><td>96.60%</td> <td>76.88%</td> <td>91.11%</td> <td>83.39%</td></tr><tr><td>1</td><td>94.53%</td> <td>75.35%</td> <td>96.44%</td> <td>84.60%</td></tr><tr><td>2</td><td>95.29%</td> <td>66.14%</td> <td>77.06%</td> <td>71.19%</td></tr><tr><td>3</td><td>97.51%</td> <td>73.23%</td> <td>97.89%</td> <td>83.78%</td></tr><tr><td>4</td><td>98.13%</td> <td>33.33%</td> <td>17.39%</td> <td>22.86%</td></tr><tr><td>5</td><td>96.26%</td> <td>nan%</td> <td>0.00%</td> <td>nan%</td></tr><tr><td>6</td><td>98.68%</td> <td>98.43%</td> <td>98.85%</td> <td>98.64%</td></tr><tr><td>7</td><td>97.23%</td> <td>86.67%</td> <td>41.94%</td> <td>56.52%</td></tr><tr><td>8</td><td>99.03%</td> <td>nan%</td> <td>0.00%</td> <td>nan%</td></tr><tr><td>9</td><td>97.92%</td> <td>nan%</td> <td>0.00%</td> <td>nan%</td></tr><tr><th>Average</th><th>97.12%</th> <th>72.86%</th> <th>52.07%</th> <th>71.57%</th></tr></table>"
      ]
     },
     "metadata": {
      "tags": []
     },
     "output_type": "display_data"
    },
    {
     "data": {
      "text/html": [
       "<hr>"
      ]
     },
     "metadata": {
      "tags": []
     },
     "output_type": "display_data"
    },
    {
     "data": {
      "text/html": [
       "<h2 style='text-align:center'>Iteration 66</h2>"
      ]
     },
     "metadata": {
      "tags": []
     },
     "output_type": "display_data"
    },
    {
     "data": {
      "text/html": [
       "<table style='font-size:16px;margin-left:auto;margin-right:auto;text-align=center'><tr><th>Hidden Layers</th><th>Training Fraction</th> <th>Number of Steps</th></tr><tr><th>[100, 100, 100]</th><th>50%</th><th>500</th></tr></table>"
      ]
     },
     "metadata": {
      "tags": []
     },
     "output_type": "display_data"
    },
    {
     "data": {
      "text/html": [
       "<h4>Confusion Matrix:</h4>"
      ]
     },
     "metadata": {
      "tags": []
     },
     "output_type": "display_data"
    },
    {
     "data": {
      "text/html": [
       "<br/>"
      ]
     },
     "metadata": {
      "tags": []
     },
     "output_type": "display_data"
    },
    {
     "name": "stdout",
     "output_type": "stream",
     "text": [
      "[[ 314    0   20    2    0    0    0    0    0    0]\n",
      " [   0  535    1   13    0    0    8    4    0    0]\n",
      " [  70    3  196    0    0    0    0    2    0    0]\n",
      " [   2    4    0  229    1    0    0    0    0    0]\n",
      " [   0    2    0   39   16    0    0    0    0    0]\n",
      " [   2  110   12    6    0    0    0    5    0    0]\n",
      " [   0    2    1    1    1    0 1732    2    0    0]\n",
      " [  23   10   38    0    1    0   18   65    0    0]\n",
      " [   2    2   29    1    0    0    0    0    0    0]\n",
      " [   0   56   12    2    2    0    1    1    0    0]]\n"
     ]
    },
    {
     "data": {
      "text/html": [
       "<table style='font-size:16px;margin-left:auto;margin-right:auto;'><tr><th>Species</th><th>Accuracy</th> <th>Precision</th> <th>Recall</th> <th>F1-score</th></tr><tr><td>0</td><td>96.64%</td> <td>76.03%</td> <td>93.45%</td> <td>83.85%</td></tr><tr><td>1</td><td>94.02%</td> <td>73.90%</td> <td>95.37%</td> <td>83.27%</td></tr><tr><td>2</td><td>94.77%</td> <td>63.43%</td> <td>72.32%</td> <td>67.59%</td></tr><tr><td>3</td><td>98.03%</td> <td>78.16%</td> <td>97.03%</td> <td>86.58%</td></tr><tr><td>4</td><td>98.72%</td> <td>76.19%</td> <td>28.07%</td> <td>41.03%</td></tr><tr><td>5</td><td>96.25%</td> <td>nan%</td> <td>0.00%</td> <td>nan%</td></tr><tr><td>6</td><td>99.06%</td> <td>98.47%</td> <td>99.60%</td> <td>99.03%</td></tr><tr><td>7</td><td>97.11%</td> <td>82.28%</td> <td>41.94%</td> <td>55.56%</td></tr><tr><td>8</td><td>99.06%</td> <td>nan%</td> <td>0.00%</td> <td>nan%</td></tr><tr><td>9</td><td>97.94%</td> <td>nan%</td> <td>0.00%</td> <td>nan%</td></tr><tr><th>Average</th><th>97.16%</th> <th>78.35%</th> <th>52.78%</th> <th>73.84%</th></tr></table>"
      ]
     },
     "metadata": {
      "tags": []
     },
     "output_type": "display_data"
    },
    {
     "data": {
      "text/html": [
       "<hr>"
      ]
     },
     "metadata": {
      "tags": []
     },
     "output_type": "display_data"
    },
    {
     "data": {
      "text/html": [
       "<h2 style='text-align:center'>Iteration 67</h2>"
      ]
     },
     "metadata": {
      "tags": []
     },
     "output_type": "display_data"
    },
    {
     "data": {
      "text/html": [
       "<table style='font-size:16px;margin-left:auto;margin-right:auto;text-align=center'><tr><th>Hidden Layers</th><th>Training Fraction</th> <th>Number of Steps</th></tr><tr><th>[100, 100, 100]</th><th>80%</th><th>1000</th></tr></table>"
      ]
     },
     "metadata": {
      "tags": []
     },
     "output_type": "display_data"
    },
    {
     "data": {
      "text/html": [
       "<h4>Confusion Matrix:</h4>"
      ]
     },
     "metadata": {
      "tags": []
     },
     "output_type": "display_data"
    },
    {
     "data": {
      "text/html": [
       "<br/>"
      ]
     },
     "metadata": {
      "tags": []
     },
     "output_type": "display_data"
    },
    {
     "name": "stdout",
     "output_type": "stream",
     "text": [
      "[[129   0   3   3   0   0   0   0   0   0]\n",
      " [  0 216   0   0   1   6   1   0   0   1]\n",
      " [  6   1  99   0   0   0   0   1   0   2]\n",
      " [  1   1   0  91   1   1   0   0   0   0]\n",
      " [  3   1   0   3  16   0   0   0   0   0]\n",
      " [  0  16   0   0   0  36   0   1   1   0]\n",
      " [  0   0   0   0   0   0 695   0   1   0]\n",
      " [ 12   0   5   0   0   0   8  35   0   2]\n",
      " [  0   0   0   0   1   0   0   0  12   1]\n",
      " [  0   8   0   0   1   0   1   4   0  16]]\n"
     ]
    },
    {
     "data": {
      "text/html": [
       "<table style='font-size:16px;margin-left:auto;margin-right:auto;'><tr><th>Species</th><th>Accuracy</th> <th>Precision</th> <th>Recall</th> <th>F1-score</th></tr><tr><td>0</td><td>98.06%</td> <td>85.43%</td> <td>95.56%</td> <td>90.21%</td></tr><tr><td>1</td><td>97.51%</td> <td>88.89%</td> <td>96.00%</td> <td>92.31%</td></tr><tr><td>2</td><td>98.75%</td> <td>92.52%</td> <td>90.83%</td> <td>91.67%</td></tr><tr><td>3</td><td>99.31%</td> <td>93.81%</td> <td>95.79%</td> <td>94.79%</td></tr><tr><td>4</td><td>99.24%</td> <td>80.00%</td> <td>69.57%</td> <td>74.42%</td></tr><tr><td>5</td><td>98.27%</td> <td>83.72%</td> <td>66.67%</td> <td>74.23%</td></tr><tr><td>6</td><td>99.24%</td> <td>98.58%</td> <td>99.86%</td> <td>99.21%</td></tr><tr><td>7</td><td>97.71%</td> <td>85.37%</td> <td>56.45%</td> <td>67.96%</td></tr><tr><td>8</td><td>99.72%</td> <td>85.71%</td> <td>85.71%</td> <td>85.71%</td></tr><tr><td>9</td><td>98.61%</td> <td>72.73%</td> <td>53.33%</td> <td>61.54%</td></tr><tr><th>Average</th><th>98.64%</th> <th>86.68%</th> <th>80.98%</th> <th>83.20%</th></tr></table>"
      ]
     },
     "metadata": {
      "tags": []
     },
     "output_type": "display_data"
    },
    {
     "data": {
      "text/html": [
       "<hr>"
      ]
     },
     "metadata": {
      "tags": []
     },
     "output_type": "display_data"
    },
    {
     "data": {
      "text/html": [
       "<h2 style='text-align:center'>Iteration 68</h2>"
      ]
     },
     "metadata": {
      "tags": []
     },
     "output_type": "display_data"
    },
    {
     "data": {
      "text/html": [
       "<table style='font-size:16px;margin-left:auto;margin-right:auto;text-align=center'><tr><th>Hidden Layers</th><th>Training Fraction</th> <th>Number of Steps</th></tr><tr><th>[100, 100, 100]</th><th>50%</th><th>1000</th></tr></table>"
      ]
     },
     "metadata": {
      "tags": []
     },
     "output_type": "display_data"
    },
    {
     "data": {
      "text/html": [
       "<h4>Confusion Matrix:</h4>"
      ]
     },
     "metadata": {
      "tags": []
     },
     "output_type": "display_data"
    },
    {
     "data": {
      "text/html": [
       "<br/>"
      ]
     },
     "metadata": {
      "tags": []
     },
     "output_type": "display_data"
    },
    {
     "name": "stdout",
     "output_type": "stream",
     "text": [
      "[[ 319    0    9    5    2    0    0    0    1    0]\n",
      " [   0  543    0    2    0   12    3    0    0    1]\n",
      " [   3    1  261    0    2    0    0    2    1    1]\n",
      " [   1    1    0  227    7    0    0    0    0    0]\n",
      " [   1    2    0   14   20   17    0    0    2    1]\n",
      " [   1   23    1    1    0  108    0    1    0    0]\n",
      " [   1    1    0    2    0    0 1731    1    1    2]\n",
      " [  36    0   31    0    0    0   19   67    0    2]\n",
      " [   1    0    0    0    1    3    0    0   28    1]\n",
      " [   0   15    9    0    1    0    5    2    2   40]]\n"
     ]
    },
    {
     "data": {
      "text/html": [
       "<table style='font-size:16px;margin-left:auto;margin-right:auto;'><tr><th>Species</th><th>Accuracy</th> <th>Precision</th> <th>Recall</th> <th>F1-score</th></tr><tr><td>0</td><td>98.30%</td> <td>87.88%</td> <td>94.94%</td> <td>91.27%</td></tr><tr><td>1</td><td>98.30%</td> <td>92.66%</td> <td>96.79%</td> <td>94.68%</td></tr><tr><td>2</td><td>98.33%</td> <td>83.92%</td> <td>96.31%</td> <td>89.69%</td></tr><tr><td>3</td><td>99.08%</td> <td>90.44%</td> <td>96.19%</td> <td>93.22%</td></tr><tr><td>4</td><td>98.61%</td> <td>60.61%</td> <td>35.09%</td> <td>44.44%</td></tr><tr><td>5</td><td>98.36%</td> <td>77.14%</td> <td>80.00%</td> <td>78.55%</td></tr><tr><td>6</td><td>99.03%</td> <td>98.46%</td> <td>99.54%</td> <td>99.00%</td></tr><tr><td>7</td><td>97.39%</td> <td>91.78%</td> <td>43.23%</td> <td>58.77%</td></tr><tr><td>8</td><td>99.64%</td> <td>80.00%</td> <td>82.35%</td> <td>81.16%</td></tr><tr><td>9</td><td>98.83%</td> <td>83.33%</td> <td>54.05%</td> <td>65.57%</td></tr><tr><th>Average</th><th>98.59%</th> <th>84.62%</th> <th>77.85%</th> <th>79.64%</th></tr></table>"
      ]
     },
     "metadata": {
      "tags": []
     },
     "output_type": "display_data"
    },
    {
     "data": {
      "text/html": [
       "<hr>"
      ]
     },
     "metadata": {
      "tags": []
     },
     "output_type": "display_data"
    },
    {
     "data": {
      "text/html": [
       "<h2 style='text-align:center'>Iteration 69</h2>"
      ]
     },
     "metadata": {
      "tags": []
     },
     "output_type": "display_data"
    },
    {
     "data": {
      "text/html": [
       "<table style='font-size:16px;margin-left:auto;margin-right:auto;text-align=center'><tr><th>Hidden Layers</th><th>Training Fraction</th> <th>Number of Steps</th></tr><tr><th>[100, 100, 100]</th><th>80%</th><th>1500</th></tr></table>"
      ]
     },
     "metadata": {
      "tags": []
     },
     "output_type": "display_data"
    },
    {
     "data": {
      "text/html": [
       "<h4>Confusion Matrix:</h4>"
      ]
     },
     "metadata": {
      "tags": []
     },
     "output_type": "display_data"
    },
    {
     "data": {
      "text/html": [
       "<br/>"
      ]
     },
     "metadata": {
      "tags": []
     },
     "output_type": "display_data"
    },
    {
     "name": "stdout",
     "output_type": "stream",
     "text": [
      "[[129   0   3   1   0   0   0   1   1   0]\n",
      " [  0 215   0   0   1   5   3   0   0   1]\n",
      " [  5   0 101   0   0   0   0   3   0   0]\n",
      " [  0   2   0  91   2   0   0   0   0   0]\n",
      " [  1   3   0   4  12   2   0   0   0   1]\n",
      " [  0   5   0   0   0  47   0   1   1   0]\n",
      " [  0   2   0   0   0   0 694   0   0   0]\n",
      " [  7   0  10   0   0   0  12  30   0   3]\n",
      " [  0   2   0   0   1   0   0   0  10   1]\n",
      " [  1   3   0   0   0   0   0   0   3  23]]\n"
     ]
    },
    {
     "data": {
      "text/html": [
       "<table style='font-size:16px;margin-left:auto;margin-right:auto;'><tr><th>Species</th><th>Accuracy</th> <th>Precision</th> <th>Recall</th> <th>F1-score</th></tr><tr><td>0</td><td>98.61%</td> <td>90.21%</td> <td>95.56%</td> <td>92.81%</td></tr><tr><td>1</td><td>98.13%</td> <td>92.67%</td> <td>95.56%</td> <td>94.09%</td></tr><tr><td>2</td><td>98.54%</td> <td>88.60%</td> <td>92.66%</td> <td>90.58%</td></tr><tr><td>3</td><td>99.38%</td> <td>94.79%</td> <td>95.79%</td> <td>95.29%</td></tr><tr><td>4</td><td>98.96%</td> <td>75.00%</td> <td>52.17%</td> <td>61.54%</td></tr><tr><td>5</td><td>99.03%</td> <td>87.04%</td> <td>87.04%</td> <td>87.04%</td></tr><tr><td>6</td><td>98.82%</td> <td>97.88%</td> <td>99.71%</td> <td>98.79%</td></tr><tr><td>7</td><td>97.44%</td> <td>85.71%</td> <td>48.39%</td> <td>61.86%</td></tr><tr><td>8</td><td>99.38%</td> <td>66.67%</td> <td>71.43%</td> <td>68.97%</td></tr><tr><td>9</td><td>99.10%</td> <td>79.31%</td> <td>76.67%</td> <td>77.97%</td></tr><tr><th>Average</th><th>98.74%</th> <th>85.79%</th> <th>81.50%</th> <th>82.89%</th></tr></table>"
      ]
     },
     "metadata": {
      "tags": []
     },
     "output_type": "display_data"
    },
    {
     "data": {
      "text/html": [
       "<hr>"
      ]
     },
     "metadata": {
      "tags": []
     },
     "output_type": "display_data"
    },
    {
     "data": {
      "text/html": [
       "<h2 style='text-align:center'>Iteration 70</h2>"
      ]
     },
     "metadata": {
      "tags": []
     },
     "output_type": "display_data"
    },
    {
     "data": {
      "text/html": [
       "<table style='font-size:16px;margin-left:auto;margin-right:auto;text-align=center'><tr><th>Hidden Layers</th><th>Training Fraction</th> <th>Number of Steps</th></tr><tr><th>[100, 100, 100]</th><th>50%</th><th>1500</th></tr></table>"
      ]
     },
     "metadata": {
      "tags": []
     },
     "output_type": "display_data"
    },
    {
     "data": {
      "text/html": [
       "<h4>Confusion Matrix:</h4>"
      ]
     },
     "metadata": {
      "tags": []
     },
     "output_type": "display_data"
    },
    {
     "data": {
      "text/html": [
       "<br/>"
      ]
     },
     "metadata": {
      "tags": []
     },
     "output_type": "display_data"
    },
    {
     "name": "stdout",
     "output_type": "stream",
     "text": [
      "[[ 315    0    7    3    3    0    0    6    2    0]\n",
      " [   0  539    0    1    1   14    3    2    0    1]\n",
      " [   7    0  252    0    0    2    0    9    1    0]\n",
      " [   5    1    0  216   12    1    0    0    0    1]\n",
      " [   1    2    0   10   33    5    0    0    1    5]\n",
      " [   0   10    0    0    1  124    0    0    0    0]\n",
      " [   0    2    0    1    1    0 1728    1    1    5]\n",
      " [  22    1   11    0    0    1   19   95    1    5]\n",
      " [   1    1    2    0    1    0    0    0   26    3]\n",
      " [   1    2    5    0    0    0    1    5    3   57]]\n"
     ]
    },
    {
     "data": {
      "text/html": [
       "<table style='font-size:16px;margin-left:auto;margin-right:auto;'><tr><th>Species</th><th>Accuracy</th> <th>Precision</th> <th>Recall</th> <th>F1-score</th></tr><tr><td>0</td><td>98.39%</td> <td>89.49%</td> <td>93.75%</td> <td>91.57%</td></tr><tr><td>1</td><td>98.86%</td> <td>96.59%</td> <td>96.08%</td> <td>96.34%</td></tr><tr><td>2</td><td>98.78%</td> <td>90.97%</td> <td>92.99%</td> <td>91.97%</td></tr><tr><td>3</td><td>99.03%</td> <td>93.51%</td> <td>91.53%</td> <td>92.51%</td></tr><tr><td>4</td><td>98.80%</td> <td>63.46%</td> <td>57.89%</td> <td>60.55%</td></tr><tr><td>5</td><td>99.06%</td> <td>84.35%</td> <td>91.85%</td> <td>87.94%</td></tr><tr><td>6</td><td>99.06%</td> <td>98.69%</td> <td>99.37%</td> <td>99.03%</td></tr><tr><td>7</td><td>97.69%</td> <td>80.51%</td> <td>61.29%</td> <td>69.60%</td></tr><tr><td>8</td><td>99.53%</td> <td>74.29%</td> <td>76.47%</td> <td>75.36%</td></tr><tr><td>9</td><td>98.97%</td> <td>74.03%</td> <td>77.03%</td> <td>75.50%</td></tr><tr><th>Average</th><th>98.82%</th> <th>84.59%</th> <th>83.82%</th> <th>84.04%</th></tr></table>"
      ]
     },
     "metadata": {
      "tags": []
     },
     "output_type": "display_data"
    },
    {
     "data": {
      "text/html": [
       "<hr>"
      ]
     },
     "metadata": {
      "tags": []
     },
     "output_type": "display_data"
    },
    {
     "data": {
      "text/html": [
       "<h2 style='text-align:center'>Iteration 71</h2>"
      ]
     },
     "metadata": {
      "tags": []
     },
     "output_type": "display_data"
    },
    {
     "data": {
      "text/html": [
       "<table style='font-size:16px;margin-left:auto;margin-right:auto;text-align=center'><tr><th>Hidden Layers</th><th>Training Fraction</th> <th>Number of Steps</th></tr><tr><th>[100, 100, 100]</th><th>80%</th><th>2000</th></tr></table>"
      ]
     },
     "metadata": {
      "tags": []
     },
     "output_type": "display_data"
    },
    {
     "data": {
      "text/html": [
       "<h4>Confusion Matrix:</h4>"
      ]
     },
     "metadata": {
      "tags": []
     },
     "output_type": "display_data"
    },
    {
     "data": {
      "text/html": [
       "<br/>"
      ]
     },
     "metadata": {
      "tags": []
     },
     "output_type": "display_data"
    },
    {
     "name": "stdout",
     "output_type": "stream",
     "text": [
      "[[127   0   4   1   0   0   0   2   1   0]\n",
      " [  0 214   0   2   2   3   2   1   0   1]\n",
      " [  2   0 103   0   1   0   0   1   1   1]\n",
      " [  1   0   0  91   3   0   0   0   0   0]\n",
      " [  0   2   0   9  11   1   0   0   0   0]\n",
      " [  0   1   0   0   3  50   0   0   0   0]\n",
      " [  1   1   0   1   0   0 693   0   0   0]\n",
      " [  8   0   4   0   0   0   8  40   0   2]\n",
      " [  2   0   0   0   0   0   0   0  12   0]\n",
      " [  0   2   0   1   0   0   0   2   0  25]]\n"
     ]
    },
    {
     "data": {
      "text/html": [
       "<table style='font-size:16px;margin-left:auto;margin-right:auto;'><tr><th>Species</th><th>Accuracy</th> <th>Precision</th> <th>Recall</th> <th>F1-score</th></tr><tr><td>0</td><td>98.48%</td> <td>90.07%</td> <td>94.07%</td> <td>92.03%</td></tr><tr><td>1</td><td>98.82%</td> <td>97.27%</td> <td>95.11%</td> <td>96.18%</td></tr><tr><td>2</td><td>99.03%</td> <td>92.79%</td> <td>94.50%</td> <td>93.64%</td></tr><tr><td>3</td><td>98.75%</td> <td>86.67%</td> <td>95.79%</td> <td>91.00%</td></tr><tr><td>4</td><td>98.54%</td> <td>55.00%</td> <td>47.83%</td> <td>51.16%</td></tr><tr><td>5</td><td>99.45%</td> <td>92.59%</td> <td>92.59%</td> <td>92.59%</td></tr><tr><td>6</td><td>99.10%</td> <td>98.58%</td> <td>99.57%</td> <td>99.07%</td></tr><tr><td>7</td><td>98.06%</td> <td>86.96%</td> <td>64.52%</td> <td>74.07%</td></tr><tr><td>8</td><td>99.72%</td> <td>85.71%</td> <td>85.71%</td> <td>85.71%</td></tr><tr><td>9</td><td>99.38%</td> <td>86.21%</td> <td>83.33%</td> <td>84.75%</td></tr><tr><th>Average</th><th>98.93%</th> <th>87.19%</th> <th>85.30%</th> <th>86.02%</th></tr></table>"
      ]
     },
     "metadata": {
      "tags": []
     },
     "output_type": "display_data"
    },
    {
     "data": {
      "text/html": [
       "<hr>"
      ]
     },
     "metadata": {
      "tags": []
     },
     "output_type": "display_data"
    },
    {
     "data": {
      "text/html": [
       "<h2 style='text-align:center'>Iteration 72</h2>"
      ]
     },
     "metadata": {
      "tags": []
     },
     "output_type": "display_data"
    },
    {
     "data": {
      "text/html": [
       "<table style='font-size:16px;margin-left:auto;margin-right:auto;text-align=center'><tr><th>Hidden Layers</th><th>Training Fraction</th> <th>Number of Steps</th></tr><tr><th>[100, 100, 100]</th><th>50%</th><th>2000</th></tr></table>"
      ]
     },
     "metadata": {
      "tags": []
     },
     "output_type": "display_data"
    },
    {
     "data": {
      "text/html": [
       "<h4>Confusion Matrix:</h4>"
      ]
     },
     "metadata": {
      "tags": []
     },
     "output_type": "display_data"
    },
    {
     "data": {
      "text/html": [
       "<br/>"
      ]
     },
     "metadata": {
      "tags": []
     },
     "output_type": "display_data"
    },
    {
     "name": "stdout",
     "output_type": "stream",
     "text": [
      "[[ 317    0    8    3    5    0    0    3    0    0]\n",
      " [   0  536    0    5    4   12    2    1    0    1]\n",
      " [   7    0  260    0    1    0    0    2    1    0]\n",
      " [   2    1    0  228    3    2    0    0    0    0]\n",
      " [   2    2    0    6   44    0    0    0    2    1]\n",
      " [   1    3    0    4    5  119    0    3    0    0]\n",
      " [   0    2    0    1    1    0 1731    2    1    1]\n",
      " [  21    0    5    0    0    0   21  104    0    4]\n",
      " [   2    0    0    1    2    1    0    0   27    1]\n",
      " [   0    0    0    1    2    0    1    3    5   62]]\n"
     ]
    },
    {
     "data": {
      "text/html": [
       "<table style='font-size:16px;margin-left:auto;margin-right:auto;'><tr><th>Species</th><th>Accuracy</th> <th>Precision</th> <th>Recall</th> <th>F1-score</th></tr><tr><td>0</td><td>98.50%</td> <td>90.06%</td> <td>94.35%</td> <td>92.15%</td></tr><tr><td>1</td><td>99.08%</td> <td>98.53%</td> <td>95.54%</td> <td>97.01%</td></tr><tr><td>2</td><td>99.33%</td> <td>95.24%</td> <td>95.94%</td> <td>95.59%</td></tr><tr><td>3</td><td>99.19%</td> <td>91.57%</td> <td>96.61%</td> <td>94.02%</td></tr><tr><td>4</td><td>99.00%</td> <td>65.67%</td> <td>77.19%</td> <td>70.97%</td></tr><tr><td>5</td><td>99.14%</td> <td>88.81%</td> <td>88.15%</td> <td>88.48%</td></tr><tr><td>6</td><td>99.11%</td> <td>98.63%</td> <td>99.54%</td> <td>99.08%</td></tr><tr><td>7</td><td>98.19%</td> <td>88.14%</td> <td>67.10%</td> <td>76.19%</td></tr><tr><td>8</td><td>99.56%</td> <td>75.00%</td> <td>79.41%</td> <td>77.14%</td></tr><tr><td>9</td><td>99.44%</td> <td>88.57%</td> <td>83.78%</td> <td>86.11%</td></tr><tr><th>Average</th><th>99.06%</th> <th>88.02%</th> <th>87.76%</th> <th>87.67%</th></tr></table>"
      ]
     },
     "metadata": {
      "tags": []
     },
     "output_type": "display_data"
    },
    {
     "data": {
      "text/html": [
       "<hr>"
      ]
     },
     "metadata": {
      "tags": []
     },
     "output_type": "display_data"
    },
    {
     "data": {
      "text/html": [
       "<h2 style='text-align:center'>Iteration 73</h2>"
      ]
     },
     "metadata": {
      "tags": []
     },
     "output_type": "display_data"
    },
    {
     "data": {
      "text/html": [
       "<table style='font-size:16px;margin-left:auto;margin-right:auto;text-align=center'><tr><th>Hidden Layers</th><th>Training Fraction</th> <th>Number of Steps</th></tr><tr><th>[100, 50, 25]</th><th>80%</th><th>100</th></tr></table>"
      ]
     },
     "metadata": {
      "tags": []
     },
     "output_type": "display_data"
    },
    {
     "data": {
      "text/html": [
       "<h4>Confusion Matrix:</h4>"
      ]
     },
     "metadata": {
      "tags": []
     },
     "output_type": "display_data"
    },
    {
     "data": {
      "text/html": [
       "<br/>"
      ]
     },
     "metadata": {
      "tags": []
     },
     "output_type": "display_data"
    },
    {
     "name": "stdout",
     "output_type": "stream",
     "text": [
      "[[131   4   0   0   0   0   0   0   0   0]\n",
      " [  4 214   0   0   0   0   7   0   0   0]\n",
      " [ 63  46   0   0   0   0   0   0   0   0]\n",
      " [ 40  55   0   0   0   0   0   0   0   0]\n",
      " [ 20   3   0   0   0   0   0   0   0   0]\n",
      " [  5  47   0   0   0   0   2   0   0   0]\n",
      " [  0   3   0   0   0   0 693   0   0   0]\n",
      " [ 30  16   0   0   0   0  16   0   0   0]\n",
      " [  0  14   0   0   0   0   0   0   0   0]\n",
      " [  3  24   0   0   0   0   3   0   0   0]]\n"
     ]
    },
    {
     "data": {
      "text/html": [
       "<table style='font-size:16px;margin-left:auto;margin-right:auto;'><tr><th>Species</th><th>Accuracy</th> <th>Precision</th> <th>Recall</th> <th>F1-score</th></tr><tr><td>0</td><td>88.29%</td> <td>44.26%</td> <td>97.04%</td> <td>60.79%</td></tr><tr><td>1</td><td>84.55%</td> <td>50.23%</td> <td>95.11%</td> <td>65.75%</td></tr><tr><td>2</td><td>92.45%</td> <td>nan%</td> <td>0.00%</td> <td>nan%</td></tr><tr><td>3</td><td>93.42%</td> <td>nan%</td> <td>0.00%</td> <td>nan%</td></tr><tr><td>4</td><td>98.41%</td> <td>nan%</td> <td>0.00%</td> <td>nan%</td></tr><tr><td>5</td><td>96.26%</td> <td>nan%</td> <td>0.00%</td> <td>nan%</td></tr><tr><td>6</td><td>97.85%</td> <td>96.12%</td> <td>99.57%</td> <td>97.81%</td></tr><tr><td>7</td><td>95.70%</td> <td>nan%</td> <td>0.00%</td> <td>nan%</td></tr><tr><td>8</td><td>99.03%</td> <td>nan%</td> <td>0.00%</td> <td>nan%</td></tr><tr><td>9</td><td>97.92%</td> <td>nan%</td> <td>0.00%</td> <td>nan%</td></tr><tr><th>Average</th><th>94.39%</th> <th>63.54%</th> <th>29.17%</th> <th>74.78%</th></tr></table>"
      ]
     },
     "metadata": {
      "tags": []
     },
     "output_type": "display_data"
    },
    {
     "data": {
      "text/html": [
       "<hr>"
      ]
     },
     "metadata": {
      "tags": []
     },
     "output_type": "display_data"
    },
    {
     "data": {
      "text/html": [
       "<h2 style='text-align:center'>Iteration 74</h2>"
      ]
     },
     "metadata": {
      "tags": []
     },
     "output_type": "display_data"
    },
    {
     "data": {
      "text/html": [
       "<table style='font-size:16px;margin-left:auto;margin-right:auto;text-align=center'><tr><th>Hidden Layers</th><th>Training Fraction</th> <th>Number of Steps</th></tr><tr><th>[100, 50, 25]</th><th>50%</th><th>100</th></tr></table>"
      ]
     },
     "metadata": {
      "tags": []
     },
     "output_type": "display_data"
    },
    {
     "data": {
      "text/html": [
       "<h4>Confusion Matrix:</h4>"
      ]
     },
     "metadata": {
      "tags": []
     },
     "output_type": "display_data"
    },
    {
     "data": {
      "text/html": [
       "<br/>"
      ]
     },
     "metadata": {
      "tags": []
     },
     "output_type": "display_data"
    },
    {
     "name": "stdout",
     "output_type": "stream",
     "text": [
      "[[ 323   13    0    0    0    0    0    0    0    0]\n",
      " [  20  537    0    0    0    0    4    0    0    0]\n",
      " [ 118  153    0    0    0    0    0    0    0    0]\n",
      " [  66  170    0    0    0    0    0    0    0    0]\n",
      " [  47   10    0    0    0    0    0    0    0    0]\n",
      " [  73   60    0    0    0    0    2    0    0    0]\n",
      " [   1    1    0    0    0    0 1737    0    0    0]\n",
      " [  60   54    0    0    0    0   41    0    0    0]\n",
      " [   1   33    0    0    0    0    0    0    0    0]\n",
      " [   5   68    0    0    0    0    1    0    0    0]]\n"
     ]
    },
    {
     "data": {
      "text/html": [
       "<table style='font-size:16px;margin-left:auto;margin-right:auto;'><tr><th>Species</th><th>Accuracy</th> <th>Precision</th> <th>Recall</th> <th>F1-score</th></tr><tr><td>0</td><td>88.77%</td> <td>45.24%</td> <td>96.13%</td> <td>61.52%</td></tr><tr><td>1</td><td>83.71%</td> <td>48.86%</td> <td>95.72%</td> <td>64.70%</td></tr><tr><td>2</td><td>92.47%</td> <td>nan%</td> <td>0.00%</td> <td>nan%</td></tr><tr><td>3</td><td>93.44%</td> <td>nan%</td> <td>0.00%</td> <td>nan%</td></tr><tr><td>4</td><td>98.42%</td> <td>nan%</td> <td>0.00%</td> <td>nan%</td></tr><tr><td>5</td><td>96.25%</td> <td>nan%</td> <td>0.00%</td> <td>nan%</td></tr><tr><td>6</td><td>98.61%</td> <td>97.31%</td> <td>99.88%</td> <td>98.58%</td></tr><tr><td>7</td><td>95.69%</td> <td>nan%</td> <td>0.00%</td> <td>nan%</td></tr><tr><td>8</td><td>99.06%</td> <td>nan%</td> <td>0.00%</td> <td>nan%</td></tr><tr><td>9</td><td>97.94%</td> <td>nan%</td> <td>0.00%</td> <td>nan%</td></tr><tr><th>Average</th><th>94.44%</th> <th>63.80%</th> <th>29.17%</th> <th>74.93%</th></tr></table>"
      ]
     },
     "metadata": {
      "tags": []
     },
     "output_type": "display_data"
    },
    {
     "data": {
      "text/html": [
       "<hr>"
      ]
     },
     "metadata": {
      "tags": []
     },
     "output_type": "display_data"
    },
    {
     "data": {
      "text/html": [
       "<h2 style='text-align:center'>Iteration 75</h2>"
      ]
     },
     "metadata": {
      "tags": []
     },
     "output_type": "display_data"
    },
    {
     "data": {
      "text/html": [
       "<table style='font-size:16px;margin-left:auto;margin-right:auto;text-align=center'><tr><th>Hidden Layers</th><th>Training Fraction</th> <th>Number of Steps</th></tr><tr><th>[100, 50, 25]</th><th>80%</th><th>200</th></tr></table>"
      ]
     },
     "metadata": {
      "tags": []
     },
     "output_type": "display_data"
    },
    {
     "data": {
      "text/html": [
       "<h4>Confusion Matrix:</h4>"
      ]
     },
     "metadata": {
      "tags": []
     },
     "output_type": "display_data"
    },
    {
     "data": {
      "text/html": [
       "<br/>"
      ]
     },
     "metadata": {
      "tags": []
     },
     "output_type": "display_data"
    },
    {
     "name": "stdout",
     "output_type": "stream",
     "text": [
      "[[133   0   1   1   0   0   0   0   0   0]\n",
      " [  0 218   0   5   0   0   2   0   0   0]\n",
      " [ 63  16  29   1   0   0   0   0   0   0]\n",
      " [ 12  22   0  61   0   0   0   0   0   0]\n",
      " [  4   1   0  18   0   0   0   0   0   0]\n",
      " [  1  46   1   6   0   0   0   0   0   0]\n",
      " [  1   0   0   1   0   0 694   0   0   0]\n",
      " [ 15  30   0   0   0   0  17   0   0   0]\n",
      " [  0   2   0  12   0   0   0   0   0   0]\n",
      " [  1  25   1   3   0   0   0   0   0   0]]\n"
     ]
    },
    {
     "data": {
      "text/html": [
       "<table style='font-size:16px;margin-left:auto;margin-right:auto;'><tr><th>Species</th><th>Accuracy</th> <th>Precision</th> <th>Recall</th> <th>F1-score</th></tr><tr><td>0</td><td>93.14%</td> <td>57.83%</td> <td>98.52%</td> <td>72.88%</td></tr><tr><td>1</td><td>89.67%</td> <td>60.56%</td> <td>96.89%</td> <td>74.53%</td></tr><tr><td>2</td><td>94.25%</td> <td>90.62%</td> <td>26.61%</td> <td>41.13%</td></tr><tr><td>3</td><td>94.39%</td> <td>56.48%</td> <td>64.21%</td> <td>60.10%</td></tr><tr><td>4</td><td>98.41%</td> <td>nan%</td> <td>0.00%</td> <td>nan%</td></tr><tr><td>5</td><td>96.26%</td> <td>nan%</td> <td>0.00%</td> <td>nan%</td></tr><tr><td>6</td><td>98.54%</td> <td>97.34%</td> <td>99.71%</td> <td>98.51%</td></tr><tr><td>7</td><td>95.70%</td> <td>nan%</td> <td>0.00%</td> <td>nan%</td></tr><tr><td>8</td><td>99.03%</td> <td>nan%</td> <td>0.00%</td> <td>nan%</td></tr><tr><td>9</td><td>97.92%</td> <td>nan%</td> <td>0.00%</td> <td>nan%</td></tr><tr><th>Average</th><th>95.73%</th> <th>72.56%</th> <th>38.59%</th> <th>69.43%</th></tr></table>"
      ]
     },
     "metadata": {
      "tags": []
     },
     "output_type": "display_data"
    },
    {
     "data": {
      "text/html": [
       "<hr>"
      ]
     },
     "metadata": {
      "tags": []
     },
     "output_type": "display_data"
    },
    {
     "data": {
      "text/html": [
       "<h2 style='text-align:center'>Iteration 76</h2>"
      ]
     },
     "metadata": {
      "tags": []
     },
     "output_type": "display_data"
    },
    {
     "data": {
      "text/html": [
       "<table style='font-size:16px;margin-left:auto;margin-right:auto;text-align=center'><tr><th>Hidden Layers</th><th>Training Fraction</th> <th>Number of Steps</th></tr><tr><th>[100, 50, 25]</th><th>50%</th><th>200</th></tr></table>"
      ]
     },
     "metadata": {
      "tags": []
     },
     "output_type": "display_data"
    },
    {
     "data": {
      "text/html": [
       "<h4>Confusion Matrix:</h4>"
      ]
     },
     "metadata": {
      "tags": []
     },
     "output_type": "display_data"
    },
    {
     "data": {
      "text/html": [
       "<br/>"
      ]
     },
     "metadata": {
      "tags": []
     },
     "output_type": "display_data"
    },
    {
     "name": "stdout",
     "output_type": "stream",
     "text": [
      "[[ 331    3    2    0    0    0    0    0    0    0]\n",
      " [   3  538    1    4    0    0   15    0    0    0]\n",
      " [ 212   11   26   22    0    0    0    0    0    0]\n",
      " [  21  162    5   48    0    0    0    0    0    0]\n",
      " [  11    9   16   21    0    0    0    0    0    0]\n",
      " [   2  114    8   10    0    0    1    0    0    0]\n",
      " [   0    2    1    0    0    0 1736    0    0    0]\n",
      " [  55   76    0    2    0    0   22    0    0    0]\n",
      " [   5    3   16   10    0    0    0    0    0    0]\n",
      " [   2   66    3    2    0    0    1    0    0    0]]\n"
     ]
    },
    {
     "data": {
      "text/html": [
       "<table style='font-size:16px;margin-left:auto;margin-right:auto;'><tr><th>Species</th><th>Accuracy</th> <th>Precision</th> <th>Recall</th> <th>F1-score</th></tr><tr><td>0</td><td>91.22%</td> <td>51.56%</td> <td>98.51%</td> <td>67.69%</td></tr><tr><td>1</td><td>86.96%</td> <td>54.67%</td> <td>95.90%</td> <td>69.64%</td></tr><tr><td>2</td><td>91.75%</td> <td>33.33%</td> <td>9.59%</td> <td>14.90%</td></tr><tr><td>3</td><td>92.80%</td> <td>40.34%</td> <td>20.34%</td> <td>27.04%</td></tr><tr><td>4</td><td>98.42%</td> <td>nan%</td> <td>0.00%</td> <td>nan%</td></tr><tr><td>5</td><td>96.25%</td> <td>nan%</td> <td>0.00%</td> <td>nan%</td></tr><tr><td>6</td><td>98.83%</td> <td>97.80%</td> <td>99.83%</td> <td>98.80%</td></tr><tr><td>7</td><td>95.69%</td> <td>nan%</td> <td>0.00%</td> <td>nan%</td></tr><tr><td>8</td><td>99.06%</td> <td>nan%</td> <td>0.00%</td> <td>nan%</td></tr><tr><td>9</td><td>97.94%</td> <td>nan%</td> <td>0.00%</td> <td>nan%</td></tr><tr><th>Average</th><th>94.89%</th> <th>55.54%</th> <th>32.42%</th> <th>55.62%</th></tr></table>"
      ]
     },
     "metadata": {
      "tags": []
     },
     "output_type": "display_data"
    },
    {
     "data": {
      "text/html": [
       "<hr>"
      ]
     },
     "metadata": {
      "tags": []
     },
     "output_type": "display_data"
    },
    {
     "data": {
      "text/html": [
       "<h2 style='text-align:center'>Iteration 77</h2>"
      ]
     },
     "metadata": {
      "tags": []
     },
     "output_type": "display_data"
    },
    {
     "data": {
      "text/html": [
       "<table style='font-size:16px;margin-left:auto;margin-right:auto;text-align=center'><tr><th>Hidden Layers</th><th>Training Fraction</th> <th>Number of Steps</th></tr><tr><th>[100, 50, 25]</th><th>80%</th><th>500</th></tr></table>"
      ]
     },
     "metadata": {
      "tags": []
     },
     "output_type": "display_data"
    },
    {
     "data": {
      "text/html": [
       "<h4>Confusion Matrix:</h4>"
      ]
     },
     "metadata": {
      "tags": []
     },
     "output_type": "display_data"
    },
    {
     "data": {
      "text/html": [
       "<br/>"
      ]
     },
     "metadata": {
      "tags": []
     },
     "output_type": "display_data"
    },
    {
     "name": "stdout",
     "output_type": "stream",
     "text": [
      "[[121   0  12   2   0   0   0   0   0   0]\n",
      " [  0 220   0   4   0   0   1   0   0   0]\n",
      " [ 31   0  78   0   0   0   0   0   0   0]\n",
      " [  3   7   0  85   0   0   0   0   0   0]\n",
      " [  1   1   0  21   0   0   0   0   0   0]\n",
      " [  1  45   1   7   0   0   0   0   0   0]\n",
      " [  0   3   0   0   0   0 693   0   0   0]\n",
      " [  9   9  16   0   0   0  10  18   0   0]\n",
      " [  0   0  12   2   0   0   0   0   0   0]\n",
      " [  1  23   5   1   0   0   0   0   0   0]]\n"
     ]
    },
    {
     "data": {
      "text/html": [
       "<table style='font-size:16px;margin-left:auto;margin-right:auto;'><tr><th>Species</th><th>Accuracy</th> <th>Precision</th> <th>Recall</th> <th>F1-score</th></tr><tr><td>0</td><td>95.84%</td> <td>72.46%</td> <td>89.63%</td> <td>80.13%</td></tr><tr><td>1</td><td>93.56%</td> <td>71.43%</td> <td>97.78%</td> <td>82.55%</td></tr><tr><td>2</td><td>94.66%</td> <td>62.90%</td> <td>71.56%</td> <td>66.95%</td></tr><tr><td>3</td><td>96.74%</td> <td>69.67%</td> <td>89.47%</td> <td>78.34%</td></tr><tr><td>4</td><td>98.41%</td> <td>nan%</td> <td>0.00%</td> <td>nan%</td></tr><tr><td>5</td><td>96.26%</td> <td>nan%</td> <td>0.00%</td> <td>nan%</td></tr><tr><td>6</td><td>99.03%</td> <td>98.44%</td> <td>99.57%</td> <td>99.00%</td></tr><tr><td>7</td><td>96.95%</td> <td>100.00%</td> <td>29.03%</td> <td>45.00%</td></tr><tr><td>8</td><td>99.03%</td> <td>nan%</td> <td>0.00%</td> <td>nan%</td></tr><tr><td>9</td><td>97.92%</td> <td>nan%</td> <td>0.00%</td> <td>nan%</td></tr><tr><th>Average</th><th>96.84%</th> <th>79.15%</th> <th>47.70%</th> <th>75.33%</th></tr></table>"
      ]
     },
     "metadata": {
      "tags": []
     },
     "output_type": "display_data"
    },
    {
     "data": {
      "text/html": [
       "<hr>"
      ]
     },
     "metadata": {
      "tags": []
     },
     "output_type": "display_data"
    },
    {
     "data": {
      "text/html": [
       "<h2 style='text-align:center'>Iteration 78</h2>"
      ]
     },
     "metadata": {
      "tags": []
     },
     "output_type": "display_data"
    },
    {
     "data": {
      "text/html": [
       "<table style='font-size:16px;margin-left:auto;margin-right:auto;text-align=center'><tr><th>Hidden Layers</th><th>Training Fraction</th> <th>Number of Steps</th></tr><tr><th>[100, 50, 25]</th><th>50%</th><th>500</th></tr></table>"
      ]
     },
     "metadata": {
      "tags": []
     },
     "output_type": "display_data"
    },
    {
     "data": {
      "text/html": [
       "<h4>Confusion Matrix:</h4>"
      ]
     },
     "metadata": {
      "tags": []
     },
     "output_type": "display_data"
    },
    {
     "data": {
      "text/html": [
       "<br/>"
      ]
     },
     "metadata": {
      "tags": []
     },
     "output_type": "display_data"
    },
    {
     "name": "stdout",
     "output_type": "stream",
     "text": [
      "[[ 316    0   13    6    0    1    0    0    0    0]\n",
      " [   1  513    0   32    0    3   12    0    0    0]\n",
      " [ 120    1  150    0    0    0    0    0    0    0]\n",
      " [   4   15    0  211    0    6    0    0    0    0]\n",
      " [   1    1    0   22    0   33    0    0    0    0]\n",
      " [   7   41   12   31    0   42    1    1    0    0]\n",
      " [   0    2    2    1    0    0 1734    0    0    0]\n",
      " [  42   51   25    0    0    0   30    7    0    0]\n",
      " [   3    3   24    1    0    3    0    0    0    0]\n",
      " [   2   52   12    1    0    3    4    0    0    0]]\n"
     ]
    },
    {
     "data": {
      "text/html": [
       "<table style='font-size:16px;margin-left:auto;margin-right:auto;'><tr><th>Species</th><th>Accuracy</th> <th>Precision</th> <th>Recall</th> <th>F1-score</th></tr><tr><td>0</td><td>94.44%</td> <td>63.71%</td> <td>94.05%</td> <td>75.96%</td></tr><tr><td>1</td><td>94.05%</td> <td>75.55%</td> <td>91.44%</td> <td>82.74%</td></tr><tr><td>2</td><td>94.19%</td> <td>63.03%</td> <td>55.35%</td> <td>58.94%</td></tr><tr><td>3</td><td>96.69%</td> <td>69.18%</td> <td>89.41%</td> <td>78.00%</td></tr><tr><td>4</td><td>98.42%</td> <td>nan%</td> <td>0.00%</td> <td>nan%</td></tr><tr><td>5</td><td>96.05%</td> <td>46.15%</td> <td>31.11%</td> <td>37.17%</td></tr><tr><td>6</td><td>98.55%</td> <td>97.36%</td> <td>99.71%</td> <td>98.52%</td></tr><tr><td>7</td><td>95.86%</td> <td>87.50%</td> <td>4.52%</td> <td>8.59%</td></tr><tr><td>8</td><td>99.06%</td> <td>nan%</td> <td>0.00%</td> <td>nan%</td></tr><tr><td>9</td><td>97.94%</td> <td>nan%</td> <td>0.00%</td> <td>nan%</td></tr><tr><th>Average</th><th>96.53%</th> <th>71.78%</th> <th>46.56%</th> <th>62.85%</th></tr></table>"
      ]
     },
     "metadata": {
      "tags": []
     },
     "output_type": "display_data"
    },
    {
     "data": {
      "text/html": [
       "<hr>"
      ]
     },
     "metadata": {
      "tags": []
     },
     "output_type": "display_data"
    },
    {
     "data": {
      "text/html": [
       "<h2 style='text-align:center'>Iteration 79</h2>"
      ]
     },
     "metadata": {
      "tags": []
     },
     "output_type": "display_data"
    },
    {
     "data": {
      "text/html": [
       "<table style='font-size:16px;margin-left:auto;margin-right:auto;text-align=center'><tr><th>Hidden Layers</th><th>Training Fraction</th> <th>Number of Steps</th></tr><tr><th>[100, 50, 25]</th><th>80%</th><th>1000</th></tr></table>"
      ]
     },
     "metadata": {
      "tags": []
     },
     "output_type": "display_data"
    },
    {
     "data": {
      "text/html": [
       "<h4>Confusion Matrix:</h4>"
      ]
     },
     "metadata": {
      "tags": []
     },
     "output_type": "display_data"
    },
    {
     "data": {
      "text/html": [
       "<br/>"
      ]
     },
     "metadata": {
      "tags": []
     },
     "output_type": "display_data"
    },
    {
     "name": "stdout",
     "output_type": "stream",
     "text": [
      "[[127   0   5   3   0   0   0   0   0   0]\n",
      " [  0 212   0   2   0   7   3   0   0   1]\n",
      " [  5   1 102   0   1   0   0   0   0   0]\n",
      " [  1   0   0  93   0   1   0   0   0   0]\n",
      " [  3   0   0  16   0   4   0   0   0   0]\n",
      " [  0  23   3   2   0  25   0   0   0   1]\n",
      " [  0   1   0   1   0   0 692   2   0   0]\n",
      " [ 15   0  13   0   0   0   7  26   0   1]\n",
      " [  0   3  10   1   0   0   0   0   0   0]\n",
      " [  0  12   4   0   0   0   3   6   0   5]]\n"
     ]
    },
    {
     "data": {
      "text/html": [
       "<table style='font-size:16px;margin-left:auto;margin-right:auto;'><tr><th>Species</th><th>Accuracy</th> <th>Precision</th> <th>Recall</th> <th>F1-score</th></tr><tr><td>0</td><td>97.78%</td> <td>84.11%</td> <td>94.07%</td> <td>88.81%</td></tr><tr><td>1</td><td>96.33%</td> <td>84.13%</td> <td>94.22%</td> <td>88.89%</td></tr><tr><td>2</td><td>97.09%</td> <td>74.45%</td> <td>93.58%</td> <td>82.93%</td></tr><tr><td>3</td><td>98.13%</td> <td>78.81%</td> <td>97.89%</td> <td>87.32%</td></tr><tr><td>4</td><td>98.34%</td> <td>0.00%</td> <td>0.00%</td> <td>nan%</td></tr><tr><td>5</td><td>97.16%</td> <td>67.57%</td> <td>46.30%</td> <td>54.95%</td></tr><tr><td>6</td><td>98.82%</td> <td>98.16%</td> <td>99.43%</td> <td>98.79%</td></tr><tr><td>7</td><td>96.95%</td> <td>76.47%</td> <td>41.94%</td> <td>54.17%</td></tr><tr><td>8</td><td>99.03%</td> <td>nan%</td> <td>0.00%</td> <td>nan%</td></tr><tr><td>9</td><td>98.06%</td> <td>62.50%</td> <td>16.67%</td> <td>26.32%</td></tr><tr><th>Average</th><th>97.77%</th> <th>69.58%</th> <th>58.41%</th> <th>72.77%</th></tr></table>"
      ]
     },
     "metadata": {
      "tags": []
     },
     "output_type": "display_data"
    },
    {
     "data": {
      "text/html": [
       "<hr>"
      ]
     },
     "metadata": {
      "tags": []
     },
     "output_type": "display_data"
    },
    {
     "data": {
      "text/html": [
       "<h2 style='text-align:center'>Iteration 80</h2>"
      ]
     },
     "metadata": {
      "tags": []
     },
     "output_type": "display_data"
    },
    {
     "data": {
      "text/html": [
       "<table style='font-size:16px;margin-left:auto;margin-right:auto;text-align=center'><tr><th>Hidden Layers</th><th>Training Fraction</th> <th>Number of Steps</th></tr><tr><th>[100, 50, 25]</th><th>50%</th><th>1000</th></tr></table>"
      ]
     },
     "metadata": {
      "tags": []
     },
     "output_type": "display_data"
    },
    {
     "data": {
      "text/html": [
       "<h4>Confusion Matrix:</h4>"
      ]
     },
     "metadata": {
      "tags": []
     },
     "output_type": "display_data"
    },
    {
     "data": {
      "text/html": [
       "<br/>"
      ]
     },
     "metadata": {
      "tags": []
     },
     "output_type": "display_data"
    },
    {
     "name": "stdout",
     "output_type": "stream",
     "text": [
      "[[ 307    0   22    7    0    0    0    0    0    0]\n",
      " [   0  521    0   13    1   19    6    1    0    0]\n",
      " [   4    0  265    0    0    0    0    2    0    0]\n",
      " [   1    4    0  230    0    1    0    0    0    0]\n",
      " [   0    1    0   53    0    3    0    0    0    0]\n",
      " [   0   86    2    9    0   38    0    0    0    0]\n",
      " [   1    2    2    2    0    0 1727    5    0    0]\n",
      " [  23    2   37    0    0    0   16   77    0    0]\n",
      " [   2    6   23    2    0    1    0    0    0    0]\n",
      " [   1   41    2    3    0    0    2   23    0    2]]\n"
     ]
    },
    {
     "data": {
      "text/html": [
       "<table style='font-size:16px;margin-left:auto;margin-right:auto;'><tr><th>Species</th><th>Accuracy</th> <th>Precision</th> <th>Recall</th> <th>F1-score</th></tr><tr><td>0</td><td>98.30%</td> <td>90.56%</td> <td>91.37%</td> <td>90.96%</td></tr><tr><td>1</td><td>94.94%</td> <td>78.58%</td> <td>92.87%</td> <td>85.13%</td></tr><tr><td>2</td><td>97.39%</td> <td>75.07%</td> <td>97.79%</td> <td>84.94%</td></tr><tr><td>3</td><td>97.36%</td> <td>72.10%</td> <td>97.46%</td> <td>82.88%</td></tr><tr><td>4</td><td>98.39%</td> <td>0.00%</td> <td>0.00%</td> <td>nan%</td></tr><tr><td>5</td><td>96.64%</td> <td>61.29%</td> <td>28.15%</td> <td>38.58%</td></tr><tr><td>6</td><td>99.00%</td> <td>98.63%</td> <td>99.31%</td> <td>98.97%</td></tr><tr><td>7</td><td>96.97%</td> <td>71.30%</td> <td>49.68%</td> <td>58.56%</td></tr><tr><td>8</td><td>99.06%</td> <td>nan%</td> <td>0.00%</td> <td>nan%</td></tr><tr><td>9</td><td>98.00%</td> <td>100.00%</td> <td>2.70%</td> <td>5.26%</td></tr><tr><th>Average</th><th>97.60%</th> <th>71.95%</th> <th>55.93%</th> <th>68.16%</th></tr></table>"
      ]
     },
     "metadata": {
      "tags": []
     },
     "output_type": "display_data"
    },
    {
     "data": {
      "text/html": [
       "<hr>"
      ]
     },
     "metadata": {
      "tags": []
     },
     "output_type": "display_data"
    },
    {
     "data": {
      "text/html": [
       "<h2 style='text-align:center'>Iteration 81</h2>"
      ]
     },
     "metadata": {
      "tags": []
     },
     "output_type": "display_data"
    },
    {
     "data": {
      "text/html": [
       "<table style='font-size:16px;margin-left:auto;margin-right:auto;text-align=center'><tr><th>Hidden Layers</th><th>Training Fraction</th> <th>Number of Steps</th></tr><tr><th>[100, 50, 25]</th><th>80%</th><th>1500</th></tr></table>"
      ]
     },
     "metadata": {
      "tags": []
     },
     "output_type": "display_data"
    },
    {
     "data": {
      "text/html": [
       "<h4>Confusion Matrix:</h4>"
      ]
     },
     "metadata": {
      "tags": []
     },
     "output_type": "display_data"
    },
    {
     "data": {
      "text/html": [
       "<br/>"
      ]
     },
     "metadata": {
      "tags": []
     },
     "output_type": "display_data"
    },
    {
     "name": "stdout",
     "output_type": "stream",
     "text": [
      "[[129   0   1   3   1   1   0   0   0   0]\n",
      " [  0 214   0   3   0   6   2   0   0   0]\n",
      " [  1   0 106   0   0   0   0   1   1   0]\n",
      " [  1   1   0  89   4   0   0   0   0   0]\n",
      " [  0   2   0   7  13   1   0   0   0   0]\n",
      " [  0   1   0   1   1  51   0   0   0   0]\n",
      " [  0   1   0   0   0   0 693   1   0   1]\n",
      " [  9   0  16   0   0   0   3  32   0   2]\n",
      " [  1   0   0   0   1   0   0   0  12   0]\n",
      " [  0   1   8   0   0   0   0   0   0  21]]\n"
     ]
    },
    {
     "data": {
      "text/html": [
       "<table style='font-size:16px;margin-left:auto;margin-right:auto;'><tr><th>Species</th><th>Accuracy</th> <th>Precision</th> <th>Recall</th> <th>F1-score</th></tr><tr><td>0</td><td>98.75%</td> <td>91.49%</td> <td>95.56%</td> <td>93.48%</td></tr><tr><td>1</td><td>98.82%</td> <td>97.27%</td> <td>95.11%</td> <td>96.18%</td></tr><tr><td>2</td><td>98.06%</td> <td>80.92%</td> <td>97.25%</td> <td>88.33%</td></tr><tr><td>3</td><td>98.61%</td> <td>86.41%</td> <td>93.68%</td> <td>89.90%</td></tr><tr><td>4</td><td>98.82%</td> <td>65.00%</td> <td>56.52%</td> <td>60.47%</td></tr><tr><td>5</td><td>99.24%</td> <td>86.44%</td> <td>94.44%</td> <td>90.27%</td></tr><tr><td>6</td><td>99.45%</td> <td>99.28%</td> <td>99.57%</td> <td>99.43%</td></tr><tr><td>7</td><td>97.78%</td> <td>94.12%</td> <td>51.61%</td> <td>66.67%</td></tr><tr><td>8</td><td>99.79%</td> <td>92.31%</td> <td>85.71%</td> <td>88.89%</td></tr><tr><td>9</td><td>99.17%</td> <td>87.50%</td> <td>70.00%</td> <td>77.78%</td></tr><tr><th>Average</th><th>98.85%</th> <th>88.07%</th> <th>83.95%</th> <th>85.14%</th></tr></table>"
      ]
     },
     "metadata": {
      "tags": []
     },
     "output_type": "display_data"
    },
    {
     "data": {
      "text/html": [
       "<hr>"
      ]
     },
     "metadata": {
      "tags": []
     },
     "output_type": "display_data"
    },
    {
     "data": {
      "text/html": [
       "<h2 style='text-align:center'>Iteration 82</h2>"
      ]
     },
     "metadata": {
      "tags": []
     },
     "output_type": "display_data"
    },
    {
     "data": {
      "text/html": [
       "<table style='font-size:16px;margin-left:auto;margin-right:auto;text-align=center'><tr><th>Hidden Layers</th><th>Training Fraction</th> <th>Number of Steps</th></tr><tr><th>[100, 50, 25]</th><th>50%</th><th>1500</th></tr></table>"
      ]
     },
     "metadata": {
      "tags": []
     },
     "output_type": "display_data"
    },
    {
     "data": {
      "text/html": [
       "<h4>Confusion Matrix:</h4>"
      ]
     },
     "metadata": {
      "tags": []
     },
     "output_type": "display_data"
    },
    {
     "data": {
      "text/html": [
       "<br/>"
      ]
     },
     "metadata": {
      "tags": []
     },
     "output_type": "display_data"
    },
    {
     "name": "stdout",
     "output_type": "stream",
     "text": [
      "[[ 316    0    8    8    1    1    0    0    2    0]\n",
      " [   0  522    0    5    1   27    4    2    0    0]\n",
      " [   4    0  264    0    0    0    0    1    1    1]\n",
      " [   1    0    0  232    1    1    0    0    1    0]\n",
      " [   0    0    0   29   14   11    0    0    2    1]\n",
      " [   0   17    0    3    2  111    0    1    1    0]\n",
      " [   0    3    0    2    0    0 1722    9    0    3]\n",
      " [  29    0   35    0    0    0    7   80    0    4]\n",
      " [   0    0    8    2    1    0    0    0   22    1]\n",
      " [   2   14    1    0    0    1    1    4    5   46]]\n"
     ]
    },
    {
     "data": {
      "text/html": [
       "<table style='font-size:16px;margin-left:auto;margin-right:auto;'><tr><th>Species</th><th>Accuracy</th> <th>Precision</th> <th>Recall</th> <th>F1-score</th></tr><tr><td>0</td><td>98.44%</td> <td>89.77%</td> <td>94.05%</td> <td>91.86%</td></tr><tr><td>1</td><td>97.97%</td> <td>93.88%</td> <td>93.05%</td> <td>93.46%</td></tr><tr><td>2</td><td>98.36%</td> <td>83.54%</td> <td>97.42%</td> <td>89.95%</td></tr><tr><td>3</td><td>98.53%</td> <td>82.56%</td> <td>98.31%</td> <td>89.75%</td></tr><tr><td>4</td><td>98.64%</td> <td>70.00%</td> <td>24.56%</td> <td>36.36%</td></tr><tr><td>5</td><td>98.19%</td> <td>73.03%</td> <td>82.22%</td> <td>77.35%</td></tr><tr><td>6</td><td>99.19%</td> <td>99.31%</td> <td>99.02%</td> <td>99.16%</td></tr><tr><td>7</td><td>97.44%</td> <td>82.47%</td> <td>51.61%</td> <td>63.49%</td></tr><tr><td>8</td><td>99.33%</td> <td>64.71%</td> <td>64.71%</td> <td>64.71%</td></tr><tr><td>9</td><td>98.94%</td> <td>82.14%</td> <td>62.16%</td> <td>70.77%</td></tr><tr><th>Average</th><th>98.50%</th> <th>82.14%</th> <th>76.71%</th> <th>77.69%</th></tr></table>"
      ]
     },
     "metadata": {
      "tags": []
     },
     "output_type": "display_data"
    },
    {
     "data": {
      "text/html": [
       "<hr>"
      ]
     },
     "metadata": {
      "tags": []
     },
     "output_type": "display_data"
    },
    {
     "data": {
      "text/html": [
       "<h2 style='text-align:center'>Iteration 83</h2>"
      ]
     },
     "metadata": {
      "tags": []
     },
     "output_type": "display_data"
    },
    {
     "data": {
      "text/html": [
       "<table style='font-size:16px;margin-left:auto;margin-right:auto;text-align=center'><tr><th>Hidden Layers</th><th>Training Fraction</th> <th>Number of Steps</th></tr><tr><th>[100, 50, 25]</th><th>80%</th><th>2000</th></tr></table>"
      ]
     },
     "metadata": {
      "tags": []
     },
     "output_type": "display_data"
    },
    {
     "data": {
      "text/html": [
       "<h4>Confusion Matrix:</h4>"
      ]
     },
     "metadata": {
      "tags": []
     },
     "output_type": "display_data"
    },
    {
     "data": {
      "text/html": [
       "<br/>"
      ]
     },
     "metadata": {
      "tags": []
     },
     "output_type": "display_data"
    },
    {
     "name": "stdout",
     "output_type": "stream",
     "text": [
      "[[128   0   5   2   0   0   0   0   0   0]\n",
      " [  0 213   0   6   0   4   2   0   0   0]\n",
      " [  2   0 107   0   0   0   0   0   0   0]\n",
      " [  1   1   0  92   1   0   0   0   0   0]\n",
      " [  2   1   0  19   1   0   0   0   0   0]\n",
      " [  0   8   0   3   0  43   0   0   0   0]\n",
      " [  0   0   0   1   0   0 692   2   0   1]\n",
      " [ 12   1   9   0   0   0  10  29   0   1]\n",
      " [  0   0   1   1   0   0   0   0  12   0]\n",
      " [  0   9   0   0   1   0   0   7   2  11]]\n"
     ]
    },
    {
     "data": {
      "text/html": [
       "<table style='font-size:16px;margin-left:auto;margin-right:auto;'><tr><th>Species</th><th>Accuracy</th> <th>Precision</th> <th>Recall</th> <th>F1-score</th></tr><tr><td>0</td><td>98.34%</td> <td>88.28%</td> <td>94.81%</td> <td>91.43%</td></tr><tr><td>1</td><td>97.78%</td> <td>91.42%</td> <td>94.67%</td> <td>93.01%</td></tr><tr><td>2</td><td>98.82%</td> <td>87.70%</td> <td>98.17%</td> <td>92.64%</td></tr><tr><td>3</td><td>97.57%</td> <td>74.19%</td> <td>96.84%</td> <td>84.02%</td></tr><tr><td>4</td><td>98.34%</td> <td>33.33%</td> <td>4.35%</td> <td>7.69%</td></tr><tr><td>5</td><td>98.96%</td> <td>91.49%</td> <td>79.63%</td> <td>85.15%</td></tr><tr><td>6</td><td>98.89%</td> <td>98.30%</td> <td>99.43%</td> <td>98.86%</td></tr><tr><td>7</td><td>97.09%</td> <td>76.32%</td> <td>46.77%</td> <td>58.00%</td></tr><tr><td>8</td><td>99.72%</td> <td>85.71%</td> <td>85.71%</td> <td>85.71%</td></tr><tr><td>9</td><td>98.54%</td> <td>84.62%</td> <td>36.67%</td> <td>51.16%</td></tr><tr><th>Average</th><th>98.41%</th> <th>81.14%</th> <th>73.70%</th> <th>74.77%</th></tr></table>"
      ]
     },
     "metadata": {
      "tags": []
     },
     "output_type": "display_data"
    },
    {
     "data": {
      "text/html": [
       "<hr>"
      ]
     },
     "metadata": {
      "tags": []
     },
     "output_type": "display_data"
    },
    {
     "data": {
      "text/html": [
       "<h2 style='text-align:center'>Iteration 84</h2>"
      ]
     },
     "metadata": {
      "tags": []
     },
     "output_type": "display_data"
    },
    {
     "data": {
      "text/html": [
       "<table style='font-size:16px;margin-left:auto;margin-right:auto;text-align=center'><tr><th>Hidden Layers</th><th>Training Fraction</th> <th>Number of Steps</th></tr><tr><th>[100, 50, 25]</th><th>50%</th><th>2000</th></tr></table>"
      ]
     },
     "metadata": {
      "tags": []
     },
     "output_type": "display_data"
    },
    {
     "data": {
      "text/html": [
       "<h4>Confusion Matrix:</h4>"
      ]
     },
     "metadata": {
      "tags": []
     },
     "output_type": "display_data"
    },
    {
     "data": {
      "text/html": [
       "<br/>"
      ]
     },
     "metadata": {
      "tags": []
     },
     "output_type": "display_data"
    },
    {
     "name": "stdout",
     "output_type": "stream",
     "text": [
      "[[ 318    0   14    0    1    1    0    0    2    0]\n",
      " [   0  539    0    0    3   15    2    1    0    1]\n",
      " [   7    0  261    0    0    0    0    2    0    1]\n",
      " [   1    0    0  227    5    2    0    0    1    0]\n",
      " [   0    9    0    5   38    4    0    0    1    0]\n",
      " [   0   21    0    4    6  102    0    1    0    1]\n",
      " [   0    2    0    0    0    0 1733    3    0    1]\n",
      " [  36    1   30    0    0    0   15   71    0    2]\n",
      " [   0    0    1    2    0    0    0    0   31    0]\n",
      " [   1    8    0    0    1    0    1   10    3   50]]\n"
     ]
    },
    {
     "data": {
      "text/html": [
       "<table style='font-size:16px;margin-left:auto;margin-right:auto;'><tr><th>Species</th><th>Accuracy</th> <th>Precision</th> <th>Recall</th> <th>F1-score</th></tr><tr><td>0</td><td>98.25%</td> <td>87.60%</td> <td>94.64%</td> <td>90.99%</td></tr><tr><td>1</td><td>98.25%</td> <td>92.93%</td> <td>96.08%</td> <td>94.48%</td></tr><tr><td>2</td><td>98.47%</td> <td>85.29%</td> <td>96.31%</td> <td>90.47%</td></tr><tr><td>3</td><td>99.44%</td> <td>95.38%</td> <td>96.19%</td> <td>95.78%</td></tr><tr><td>4</td><td>99.03%</td> <td>70.37%</td> <td>66.67%</td> <td>68.47%</td></tr><tr><td>5</td><td>98.47%</td> <td>82.26%</td> <td>75.56%</td> <td>78.76%</td></tr><tr><td>6</td><td>99.33%</td> <td>98.97%</td> <td>99.65%</td> <td>99.31%</td></tr><tr><td>7</td><td>97.19%</td> <td>80.68%</td> <td>45.81%</td> <td>58.44%</td></tr><tr><td>8</td><td>99.72%</td> <td>81.58%</td> <td>91.18%</td> <td>86.11%</td></tr><tr><td>9</td><td>99.17%</td> <td>89.29%</td> <td>67.57%</td> <td>76.92%</td></tr><tr><th>Average</th><th>98.73%</th> <th>86.44%</th> <th>82.96%</th> <th>83.97%</th></tr></table>"
      ]
     },
     "metadata": {
      "tags": []
     },
     "output_type": "display_data"
    },
    {
     "data": {
      "text/html": [
       "<hr>"
      ]
     },
     "metadata": {
      "tags": []
     },
     "output_type": "display_data"
    },
    {
     "data": {
      "text/html": [
       "<h2 style='text-align:center'>Iteration 85</h2>"
      ]
     },
     "metadata": {
      "tags": []
     },
     "output_type": "display_data"
    },
    {
     "data": {
      "text/html": [
       "<table style='font-size:16px;margin-left:auto;margin-right:auto;text-align=center'><tr><th>Hidden Layers</th><th>Training Fraction</th> <th>Number of Steps</th></tr><tr><th>[25, 50, 100]</th><th>80%</th><th>100</th></tr></table>"
      ]
     },
     "metadata": {
      "tags": []
     },
     "output_type": "display_data"
    },
    {
     "data": {
      "text/html": [
       "<h4>Confusion Matrix:</h4>"
      ]
     },
     "metadata": {
      "tags": []
     },
     "output_type": "display_data"
    },
    {
     "data": {
      "text/html": [
       "<br/>"
      ]
     },
     "metadata": {
      "tags": []
     },
     "output_type": "display_data"
    },
    {
     "name": "stdout",
     "output_type": "stream",
     "text": [
      "[[135   0   0   0   0   0   0   0   0   0]\n",
      " [  6 216   0   0   0   0   3   0   0   0]\n",
      " [ 81  28   0   0   0   0   0   0   0   0]\n",
      " [ 40  55   0   0   0   0   0   0   0   0]\n",
      " [ 20   3   0   0   0   0   0   0   0   0]\n",
      " [ 29  24   0   0   0   0   1   0   0   0]\n",
      " [  1   1   0   0   0   0 694   0   0   0]\n",
      " [ 26  20   0   0   0   0  16   0   0   0]\n",
      " [ 13   1   0   0   0   0   0   0   0   0]\n",
      " [  2  25   0   0   0   0   3   0   0   0]]\n"
     ]
    },
    {
     "data": {
      "text/html": [
       "<table style='font-size:16px;margin-left:auto;margin-right:auto;'><tr><th>Species</th><th>Accuracy</th> <th>Precision</th> <th>Recall</th> <th>F1-score</th></tr><tr><td>0</td><td>84.89%</td> <td>38.24%</td> <td>100.00%</td> <td>55.33%</td></tr><tr><td>1</td><td>88.50%</td> <td>57.91%</td> <td>96.00%</td> <td>72.24%</td></tr><tr><td>2</td><td>92.45%</td> <td>nan%</td> <td>0.00%</td> <td>nan%</td></tr><tr><td>3</td><td>93.42%</td> <td>nan%</td> <td>0.00%</td> <td>nan%</td></tr><tr><td>4</td><td>98.41%</td> <td>nan%</td> <td>0.00%</td> <td>nan%</td></tr><tr><td>5</td><td>96.26%</td> <td>nan%</td> <td>0.00%</td> <td>nan%</td></tr><tr><td>6</td><td>98.27%</td> <td>96.79%</td> <td>99.71%</td> <td>98.23%</td></tr><tr><td>7</td><td>95.70%</td> <td>nan%</td> <td>0.00%</td> <td>nan%</td></tr><tr><td>8</td><td>99.03%</td> <td>nan%</td> <td>0.00%</td> <td>nan%</td></tr><tr><td>9</td><td>97.92%</td> <td>nan%</td> <td>0.00%</td> <td>nan%</td></tr><tr><th>Average</th><th>94.48%</th> <th>64.31%</th> <th>29.57%</th> <th>75.27%</th></tr></table>"
      ]
     },
     "metadata": {
      "tags": []
     },
     "output_type": "display_data"
    },
    {
     "data": {
      "text/html": [
       "<hr>"
      ]
     },
     "metadata": {
      "tags": []
     },
     "output_type": "display_data"
    },
    {
     "data": {
      "text/html": [
       "<h2 style='text-align:center'>Iteration 86</h2>"
      ]
     },
     "metadata": {
      "tags": []
     },
     "output_type": "display_data"
    },
    {
     "data": {
      "text/html": [
       "<table style='font-size:16px;margin-left:auto;margin-right:auto;text-align=center'><tr><th>Hidden Layers</th><th>Training Fraction</th> <th>Number of Steps</th></tr><tr><th>[25, 50, 100]</th><th>50%</th><th>100</th></tr></table>"
      ]
     },
     "metadata": {
      "tags": []
     },
     "output_type": "display_data"
    },
    {
     "data": {
      "text/html": [
       "<h4>Confusion Matrix:</h4>"
      ]
     },
     "metadata": {
      "tags": []
     },
     "output_type": "display_data"
    },
    {
     "data": {
      "text/html": [
       "<br/>"
      ]
     },
     "metadata": {
      "tags": []
     },
     "output_type": "display_data"
    },
    {
     "name": "stdout",
     "output_type": "stream",
     "text": [
      "[[ 324    5    0    7    0    0    0    0    0    0]\n",
      " [   8  523    0   15    0    0   15    0    0    0]\n",
      " [ 138   69    0   64    0    0    0    0    0    0]\n",
      " [  55  130    0   51    0    0    0    0    0    0]\n",
      " [  46    5    0    6    0    0    0    0    0    0]\n",
      " [  19   77    0   36    0    0    3    0    0    0]\n",
      " [   1    2    0    1    0    0 1735    0    0    0]\n",
      " [  56   57    0    2    0    0   40    0    0    0]\n",
      " [   3    5    0   26    0    0    0    0    0    0]\n",
      " [   7   59    0    2    0    0    6    0    0    0]]\n"
     ]
    },
    {
     "data": {
      "text/html": [
       "<table style='font-size:16px;margin-left:auto;margin-right:auto;'><tr><th>Species</th><th>Accuracy</th> <th>Precision</th> <th>Recall</th> <th>F1-score</th></tr><tr><td>0</td><td>90.41%</td> <td>49.32%</td> <td>96.43%</td> <td>65.26%</td></tr><tr><td>1</td><td>87.58%</td> <td>56.12%</td> <td>93.23%</td> <td>70.06%</td></tr><tr><td>2</td><td>92.47%</td> <td>nan%</td> <td>0.00%</td> <td>nan%</td></tr><tr><td>3</td><td>90.44%</td> <td>24.29%</td> <td>21.61%</td> <td>22.87%</td></tr><tr><td>4</td><td>98.42%</td> <td>nan%</td> <td>0.00%</td> <td>nan%</td></tr><tr><td>5</td><td>96.25%</td> <td>nan%</td> <td>0.00%</td> <td>nan%</td></tr><tr><td>6</td><td>98.11%</td> <td>96.44%</td> <td>99.77%</td> <td>98.08%</td></tr><tr><td>7</td><td>95.69%</td> <td>nan%</td> <td>0.00%</td> <td>nan%</td></tr><tr><td>8</td><td>99.06%</td> <td>nan%</td> <td>0.00%</td> <td>nan%</td></tr><tr><td>9</td><td>97.94%</td> <td>nan%</td> <td>0.00%</td> <td>nan%</td></tr><tr><th>Average</th><th>94.64%</th> <th>56.54%</th> <th>31.10%</th> <th>64.07%</th></tr></table>"
      ]
     },
     "metadata": {
      "tags": []
     },
     "output_type": "display_data"
    },
    {
     "data": {
      "text/html": [
       "<hr>"
      ]
     },
     "metadata": {
      "tags": []
     },
     "output_type": "display_data"
    },
    {
     "data": {
      "text/html": [
       "<h2 style='text-align:center'>Iteration 87</h2>"
      ]
     },
     "metadata": {
      "tags": []
     },
     "output_type": "display_data"
    },
    {
     "data": {
      "text/html": [
       "<table style='font-size:16px;margin-left:auto;margin-right:auto;text-align=center'><tr><th>Hidden Layers</th><th>Training Fraction</th> <th>Number of Steps</th></tr><tr><th>[25, 50, 100]</th><th>80%</th><th>200</th></tr></table>"
      ]
     },
     "metadata": {
      "tags": []
     },
     "output_type": "display_data"
    },
    {
     "data": {
      "text/html": [
       "<h4>Confusion Matrix:</h4>"
      ]
     },
     "metadata": {
      "tags": []
     },
     "output_type": "display_data"
    },
    {
     "data": {
      "text/html": [
       "<br/>"
      ]
     },
     "metadata": {
      "tags": []
     },
     "output_type": "display_data"
    },
    {
     "name": "stdout",
     "output_type": "stream",
     "text": [
      "[[130   1   4   0   0   0   0   0   0   0]\n",
      " [  0 220   0   0   0   0   5   0   0   0]\n",
      " [ 48   9  49   3   0   0   0   0   0   0]\n",
      " [  2  85   4   4   0   0   0   0   0   0]\n",
      " [  0   7   7   9   0   0   0   0   0   0]\n",
      " [  0  48   1   3   0   0   2   0   0   0]\n",
      " [  0   1   0   0   0   0 695   0   0   0]\n",
      " [ 14  34   3   0   0   0  11   0   0   0]\n",
      " [  1   1   9   3   0   0   0   0   0   0]\n",
      " [  1  25   1   2   0   0   1   0   0   0]]\n"
     ]
    },
    {
     "data": {
      "text/html": [
       "<table style='font-size:16px;margin-left:auto;margin-right:auto;'><tr><th>Species</th><th>Accuracy</th> <th>Precision</th> <th>Recall</th> <th>F1-score</th></tr><tr><td>0</td><td>95.08%</td> <td>66.33%</td> <td>96.30%</td> <td>78.55%</td></tr><tr><td>1</td><td>85.03%</td> <td>51.04%</td> <td>97.78%</td> <td>67.07%</td></tr><tr><td>2</td><td>93.83%</td> <td>62.82%</td> <td>44.95%</td> <td>52.41%</td></tr><tr><td>3</td><td>92.31%</td> <td>16.67%</td> <td>4.21%</td> <td>6.72%</td></tr><tr><td>4</td><td>98.41%</td> <td>nan%</td> <td>0.00%</td> <td>nan%</td></tr><tr><td>5</td><td>96.26%</td> <td>nan%</td> <td>0.00%</td> <td>nan%</td></tr><tr><td>6</td><td>98.61%</td> <td>97.34%</td> <td>99.86%</td> <td>98.58%</td></tr><tr><td>7</td><td>95.70%</td> <td>nan%</td> <td>0.00%</td> <td>nan%</td></tr><tr><td>8</td><td>99.03%</td> <td>nan%</td> <td>0.00%</td> <td>nan%</td></tr><tr><td>9</td><td>97.92%</td> <td>nan%</td> <td>0.00%</td> <td>nan%</td></tr><tr><th>Average</th><th>95.22%</th> <th>58.84%</th> <th>34.31%</th> <th>60.67%</th></tr></table>"
      ]
     },
     "metadata": {
      "tags": []
     },
     "output_type": "display_data"
    },
    {
     "data": {
      "text/html": [
       "<hr>"
      ]
     },
     "metadata": {
      "tags": []
     },
     "output_type": "display_data"
    },
    {
     "data": {
      "text/html": [
       "<h2 style='text-align:center'>Iteration 88</h2>"
      ]
     },
     "metadata": {
      "tags": []
     },
     "output_type": "display_data"
    },
    {
     "data": {
      "text/html": [
       "<table style='font-size:16px;margin-left:auto;margin-right:auto;text-align=center'><tr><th>Hidden Layers</th><th>Training Fraction</th> <th>Number of Steps</th></tr><tr><th>[25, 50, 100]</th><th>50%</th><th>200</th></tr></table>"
      ]
     },
     "metadata": {
      "tags": []
     },
     "output_type": "display_data"
    },
    {
     "data": {
      "text/html": [
       "<h4>Confusion Matrix:</h4>"
      ]
     },
     "metadata": {
      "tags": []
     },
     "output_type": "display_data"
    },
    {
     "data": {
      "text/html": [
       "<br/>"
      ]
     },
     "metadata": {
      "tags": []
     },
     "output_type": "display_data"
    },
    {
     "name": "stdout",
     "output_type": "stream",
     "text": [
      "[[ 322    1   12    1    0    0    0    0    0    0]\n",
      " [   0  543    2    2    0    0   14    0    0    0]\n",
      " [ 138    5  113   15    0    0    0    0    0    0]\n",
      " [  13   77   68   78    0    0    0    0    0    0]\n",
      " [   2    1   48    6    0    0    0    0    0    0]\n",
      " [   1  114   13    4    0    0    3    0    0    0]\n",
      " [   0    3    1    1    0    0 1734    0    0    0]\n",
      " [  51   68    3    4    0    0   29    0    0    0]\n",
      " [   3    2   26    3    0    0    0    0    0    0]\n",
      " [   3   64    4    3    0    0    0    0    0    0]]\n"
     ]
    },
    {
     "data": {
      "text/html": [
       "<table style='font-size:16px;margin-left:auto;margin-right:auto;'><tr><th>Species</th><th>Accuracy</th> <th>Precision</th> <th>Recall</th> <th>F1-score</th></tr><tr><td>0</td><td>93.75%</td> <td>60.41%</td> <td>95.83%</td> <td>74.11%</td></tr><tr><td>1</td><td>90.19%</td> <td>61.85%</td> <td>96.79%</td> <td>75.47%</td></tr><tr><td>2</td><td>90.69%</td> <td>38.97%</td> <td>41.70%</td> <td>40.29%</td></tr><tr><td>3</td><td>94.52%</td> <td>66.67%</td> <td>33.05%</td> <td>44.19%</td></tr><tr><td>4</td><td>98.42%</td> <td>nan%</td> <td>0.00%</td> <td>nan%</td></tr><tr><td>5</td><td>96.25%</td> <td>nan%</td> <td>0.00%</td> <td>nan%</td></tr><tr><td>6</td><td>98.58%</td> <td>97.42%</td> <td>99.71%</td> <td>98.55%</td></tr><tr><td>7</td><td>95.69%</td> <td>nan%</td> <td>0.00%</td> <td>nan%</td></tr><tr><td>8</td><td>99.06%</td> <td>nan%</td> <td>0.00%</td> <td>nan%</td></tr><tr><td>9</td><td>97.94%</td> <td>nan%</td> <td>0.00%</td> <td>nan%</td></tr><tr><th>Average</th><th>95.51%</th> <th>65.06%</th> <th>36.71%</th> <th>66.52%</th></tr></table>"
      ]
     },
     "metadata": {
      "tags": []
     },
     "output_type": "display_data"
    },
    {
     "data": {
      "text/html": [
       "<hr>"
      ]
     },
     "metadata": {
      "tags": []
     },
     "output_type": "display_data"
    },
    {
     "data": {
      "text/html": [
       "<h2 style='text-align:center'>Iteration 89</h2>"
      ]
     },
     "metadata": {
      "tags": []
     },
     "output_type": "display_data"
    },
    {
     "data": {
      "text/html": [
       "<table style='font-size:16px;margin-left:auto;margin-right:auto;text-align=center'><tr><th>Hidden Layers</th><th>Training Fraction</th> <th>Number of Steps</th></tr><tr><th>[25, 50, 100]</th><th>80%</th><th>500</th></tr></table>"
      ]
     },
     "metadata": {
      "tags": []
     },
     "output_type": "display_data"
    },
    {
     "data": {
      "text/html": [
       "<h4>Confusion Matrix:</h4>"
      ]
     },
     "metadata": {
      "tags": []
     },
     "output_type": "display_data"
    },
    {
     "data": {
      "text/html": [
       "<br/>"
      ]
     },
     "metadata": {
      "tags": []
     },
     "output_type": "display_data"
    },
    {
     "name": "stdout",
     "output_type": "stream",
     "text": [
      "[[126   0   9   0   0   0   0   0   0   0]\n",
      " [  0 219   0   2   0   0   4   0   0   0]\n",
      " [ 50   1  56   2   0   0   0   0   0   0]\n",
      " [  0  14   4  77   0   0   0   0   0   0]\n",
      " [  0   1   4  18   0   0   0   0   0   0]\n",
      " [  0  50   1   3   0   0   0   0   0   0]\n",
      " [  0   0   0   0   0   0 696   0   0   0]\n",
      " [ 22  28   4   0   0   0   8   0   0   0]\n",
      " [  1   1   7   5   0   0   0   0   0   0]\n",
      " [  0  23   4   3   0   0   0   0   0   0]]\n"
     ]
    },
    {
     "data": {
      "text/html": [
       "<table style='font-size:16px;margin-left:auto;margin-right:auto;'><tr><th>Species</th><th>Accuracy</th> <th>Precision</th> <th>Recall</th> <th>F1-score</th></tr><tr><td>0</td><td>94.32%</td> <td>63.32%</td> <td>93.33%</td> <td>75.45%</td></tr><tr><td>1</td><td>91.41%</td> <td>64.99%</td> <td>97.33%</td> <td>77.94%</td></tr><tr><td>2</td><td>94.04%</td> <td>62.92%</td> <td>51.38%</td> <td>56.57%</td></tr><tr><td>3</td><td>96.47%</td> <td>70.00%</td> <td>81.05%</td> <td>75.12%</td></tr><tr><td>4</td><td>98.41%</td> <td>nan%</td> <td>0.00%</td> <td>nan%</td></tr><tr><td>5</td><td>96.26%</td> <td>nan%</td> <td>0.00%</td> <td>nan%</td></tr><tr><td>6</td><td>99.17%</td> <td>98.31%</td> <td>100.00%</td> <td>99.15%</td></tr><tr><td>7</td><td>95.70%</td> <td>nan%</td> <td>0.00%</td> <td>nan%</td></tr><tr><td>8</td><td>99.03%</td> <td>nan%</td> <td>0.00%</td> <td>nan%</td></tr><tr><td>9</td><td>97.92%</td> <td>nan%</td> <td>0.00%</td> <td>nan%</td></tr><tr><th>Average</th><th>96.27%</th> <th>71.91%</th> <th>42.31%</th> <th>76.84%</th></tr></table>"
      ]
     },
     "metadata": {
      "tags": []
     },
     "output_type": "display_data"
    },
    {
     "data": {
      "text/html": [
       "<hr>"
      ]
     },
     "metadata": {
      "tags": []
     },
     "output_type": "display_data"
    },
    {
     "data": {
      "text/html": [
       "<h2 style='text-align:center'>Iteration 90</h2>"
      ]
     },
     "metadata": {
      "tags": []
     },
     "output_type": "display_data"
    },
    {
     "data": {
      "text/html": [
       "<table style='font-size:16px;margin-left:auto;margin-right:auto;text-align=center'><tr><th>Hidden Layers</th><th>Training Fraction</th> <th>Number of Steps</th></tr><tr><th>[25, 50, 100]</th><th>50%</th><th>500</th></tr></table>"
      ]
     },
     "metadata": {
      "tags": []
     },
     "output_type": "display_data"
    },
    {
     "data": {
      "text/html": [
       "<h4>Confusion Matrix:</h4>"
      ]
     },
     "metadata": {
      "tags": []
     },
     "output_type": "display_data"
    },
    {
     "data": {
      "text/html": [
       "<br/>"
      ]
     },
     "metadata": {
      "tags": []
     },
     "output_type": "display_data"
    },
    {
     "name": "stdout",
     "output_type": "stream",
     "text": [
      "[[ 323    0   10    3    0    0    0    0    0    0]\n",
      " [   1  523    1   24    0    0   12    0    0    0]\n",
      " [  82    1  188    0    0    0    0    0    0    0]\n",
      " [   3    3    0  230    0    0    0    0    0    0]\n",
      " [   3    0    0   51    3    0    0    0    0    0]\n",
      " [   1  117    1   13    2    0    1    0    0    0]\n",
      " [   0    3    0    2    0    0 1733    1    0    0]\n",
      " [  22   10   35    0    0    0   31   57    0    0]\n",
      " [  10    4   18    0    2    0    0    0    0    0]\n",
      " [   1   54    8    6    1    0    0    4    0    0]]\n"
     ]
    },
    {
     "data": {
      "text/html": [
       "<table style='font-size:16px;margin-left:auto;margin-right:auto;'><tr><th>Species</th><th>Accuracy</th> <th>Precision</th> <th>Recall</th> <th>F1-score</th></tr><tr><td>0</td><td>96.22%</td> <td>72.42%</td> <td>96.13%</td> <td>82.61%</td></tr><tr><td>1</td><td>93.61%</td> <td>73.15%</td> <td>93.23%</td> <td>81.97%</td></tr><tr><td>2</td><td>95.66%</td> <td>72.03%</td> <td>69.37%</td> <td>70.68%</td></tr><tr><td>3</td><td>97.08%</td> <td>69.91%</td> <td>97.46%</td> <td>81.42%</td></tr><tr><td>4</td><td>98.36%</td> <td>37.50%</td> <td>5.26%</td> <td>9.23%</td></tr><tr><td>5</td><td>96.25%</td> <td>nan%</td> <td>0.00%</td> <td>nan%</td></tr><tr><td>6</td><td>98.61%</td> <td>97.52%</td> <td>99.65%</td> <td>98.58%</td></tr><tr><td>7</td><td>97.14%</td> <td>91.94%</td> <td>36.77%</td> <td>52.53%</td></tr><tr><td>8</td><td>99.06%</td> <td>nan%</td> <td>0.00%</td> <td>nan%</td></tr><tr><td>9</td><td>97.94%</td> <td>nan%</td> <td>0.00%</td> <td>nan%</td></tr><tr><th>Average</th><th>96.99%</th> <th>73.50%</th> <th>49.79%</th> <th>68.15%</th></tr></table>"
      ]
     },
     "metadata": {
      "tags": []
     },
     "output_type": "display_data"
    },
    {
     "data": {
      "text/html": [
       "<hr>"
      ]
     },
     "metadata": {
      "tags": []
     },
     "output_type": "display_data"
    },
    {
     "data": {
      "text/html": [
       "<h2 style='text-align:center'>Iteration 91</h2>"
      ]
     },
     "metadata": {
      "tags": []
     },
     "output_type": "display_data"
    },
    {
     "data": {
      "text/html": [
       "<table style='font-size:16px;margin-left:auto;margin-right:auto;text-align=center'><tr><th>Hidden Layers</th><th>Training Fraction</th> <th>Number of Steps</th></tr><tr><th>[25, 50, 100]</th><th>80%</th><th>1000</th></tr></table>"
      ]
     },
     "metadata": {
      "tags": []
     },
     "output_type": "display_data"
    },
    {
     "data": {
      "text/html": [
       "<h4>Confusion Matrix:</h4>"
      ]
     },
     "metadata": {
      "tags": []
     },
     "output_type": "display_data"
    },
    {
     "data": {
      "text/html": [
       "<br/>"
      ]
     },
     "metadata": {
      "tags": []
     },
     "output_type": "display_data"
    },
    {
     "name": "stdout",
     "output_type": "stream",
     "text": [
      "[[124   0  10   0   0   1   0   0   0   0]\n",
      " [  0 205   0   0   1  14   5   0   0   0]\n",
      " [ 13   0  96   0   0   0   0   0   0   0]\n",
      " [  1   0   0  89   0   5   0   0   0   0]\n",
      " [  0   0   0  13   5   5   0   0   0   0]\n",
      " [  0  11   1   2   2  38   0   0   0   0]\n",
      " [  0   2   0   0   1   0 692   1   0   0]\n",
      " [ 10   1  14   0   0   0   5  31   0   1]\n",
      " [  0   0   0   2   0   0   0   0  12   0]\n",
      " [  0  23   2   0   0   1   0   2   0   2]]\n"
     ]
    },
    {
     "data": {
      "text/html": [
       "<table style='font-size:16px;margin-left:auto;margin-right:auto;'><tr><th>Species</th><th>Accuracy</th> <th>Precision</th> <th>Recall</th> <th>F1-score</th></tr><tr><td>0</td><td>97.57%</td> <td>83.78%</td> <td>91.85%</td> <td>87.63%</td></tr><tr><td>1</td><td>96.05%</td> <td>84.71%</td> <td>91.11%</td> <td>87.79%</td></tr><tr><td>2</td><td>97.23%</td> <td>78.05%</td> <td>88.07%</td> <td>82.76%</td></tr><tr><td>3</td><td>98.41%</td> <td>83.96%</td> <td>93.68%</td> <td>88.56%</td></tr><tr><td>4</td><td>98.48%</td> <td>55.56%</td> <td>21.74%</td> <td>31.25%</td></tr><tr><td>5</td><td>97.09%</td> <td>59.38%</td> <td>70.37%</td> <td>64.41%</td></tr><tr><td>6</td><td>99.03%</td> <td>98.58%</td> <td>99.43%</td> <td>99.00%</td></tr><tr><td>7</td><td>97.64%</td> <td>91.18%</td> <td>50.00%</td> <td>64.58%</td></tr><tr><td>8</td><td>99.86%</td> <td>100.00%</td> <td>85.71%</td> <td>92.31%</td></tr><tr><td>9</td><td>97.99%</td> <td>66.67%</td> <td>6.67%</td> <td>12.12%</td></tr><tr><th>Average</th><th>97.93%</th> <th>80.19%</th> <th>69.86%</th> <th>71.04%</th></tr></table>"
      ]
     },
     "metadata": {
      "tags": []
     },
     "output_type": "display_data"
    },
    {
     "data": {
      "text/html": [
       "<hr>"
      ]
     },
     "metadata": {
      "tags": []
     },
     "output_type": "display_data"
    },
    {
     "data": {
      "text/html": [
       "<h2 style='text-align:center'>Iteration 92</h2>"
      ]
     },
     "metadata": {
      "tags": []
     },
     "output_type": "display_data"
    },
    {
     "data": {
      "text/html": [
       "<table style='font-size:16px;margin-left:auto;margin-right:auto;text-align=center'><tr><th>Hidden Layers</th><th>Training Fraction</th> <th>Number of Steps</th></tr><tr><th>[25, 50, 100]</th><th>50%</th><th>1000</th></tr></table>"
      ]
     },
     "metadata": {
      "tags": []
     },
     "output_type": "display_data"
    },
    {
     "data": {
      "text/html": [
       "<h4>Confusion Matrix:</h4>"
      ]
     },
     "metadata": {
      "tags": []
     },
     "output_type": "display_data"
    },
    {
     "data": {
      "text/html": [
       "<br/>"
      ]
     },
     "metadata": {
      "tags": []
     },
     "output_type": "display_data"
    },
    {
     "name": "stdout",
     "output_type": "stream",
     "text": [
      "[[ 316    1   15    3    1    0    0    0    0    0]\n",
      " [   0  540    0    5    1    9    5    1    0    0]\n",
      " [  12    1  255    0    0    0    0    3    0    0]\n",
      " [   4    4    0  221    7    0    0    0    0    0]\n",
      " [   0    1    0   11   31   13    0    0    0    1]\n",
      " [   0   20    0    4    5  105    0    1    0    0]\n",
      " [   0    1    0    1    0    0 1731    2    0    4]\n",
      " [  22    3   43    0    0    0   12   71    0    4]\n",
      " [   1    3    1    0    1    1    0    0   25    2]\n",
      " [   0   46    6    1    1    0    6    6    0    8]]\n"
     ]
    },
    {
     "data": {
      "text/html": [
       "<table style='font-size:16px;margin-left:auto;margin-right:auto;'><tr><th>Species</th><th>Accuracy</th> <th>Precision</th> <th>Recall</th> <th>F1-score</th></tr><tr><td>0</td><td>98.36%</td> <td>89.01%</td> <td>94.05%</td> <td>91.46%</td></tr><tr><td>1</td><td>97.19%</td> <td>87.10%</td> <td>96.26%</td> <td>91.45%</td></tr><tr><td>2</td><td>97.75%</td> <td>79.69%</td> <td>94.10%</td> <td>86.29%</td></tr><tr><td>3</td><td>98.89%</td> <td>89.84%</td> <td>93.64%</td> <td>91.70%</td></tr><tr><td>4</td><td>98.83%</td> <td>65.96%</td> <td>54.39%</td> <td>59.62%</td></tr><tr><td>5</td><td>98.53%</td> <td>82.03%</td> <td>77.78%</td> <td>79.85%</td></tr><tr><td>6</td><td>99.14%</td> <td>98.69%</td> <td>99.54%</td> <td>99.11%</td></tr><tr><td>7</td><td>97.30%</td> <td>84.52%</td> <td>45.81%</td> <td>59.41%</td></tr><tr><td>8</td><td>99.75%</td> <td>100.00%</td> <td>73.53%</td> <td>84.75%</td></tr><tr><td>9</td><td>97.86%</td> <td>42.11%</td> <td>10.81%</td> <td>17.20%</td></tr><tr><th>Average</th><th>98.36%</th> <th>81.89%</th> <th>73.99%</th> <th>76.08%</th></tr></table>"
      ]
     },
     "metadata": {
      "tags": []
     },
     "output_type": "display_data"
    },
    {
     "data": {
      "text/html": [
       "<hr>"
      ]
     },
     "metadata": {
      "tags": []
     },
     "output_type": "display_data"
    },
    {
     "data": {
      "text/html": [
       "<h2 style='text-align:center'>Iteration 93</h2>"
      ]
     },
     "metadata": {
      "tags": []
     },
     "output_type": "display_data"
    },
    {
     "data": {
      "text/html": [
       "<table style='font-size:16px;margin-left:auto;margin-right:auto;text-align=center'><tr><th>Hidden Layers</th><th>Training Fraction</th> <th>Number of Steps</th></tr><tr><th>[25, 50, 100]</th><th>80%</th><th>1500</th></tr></table>"
      ]
     },
     "metadata": {
      "tags": []
     },
     "output_type": "display_data"
    },
    {
     "data": {
      "text/html": [
       "<h4>Confusion Matrix:</h4>"
      ]
     },
     "metadata": {
      "tags": []
     },
     "output_type": "display_data"
    },
    {
     "data": {
      "text/html": [
       "<br/>"
      ]
     },
     "metadata": {
      "tags": []
     },
     "output_type": "display_data"
    },
    {
     "name": "stdout",
     "output_type": "stream",
     "text": [
      "[[128   0   5   2   0   0   0   0   0   0]\n",
      " [  0 207   0   0   0  16   1   1   0   0]\n",
      " [  3   0 104   0   0   0   0   2   0   0]\n",
      " [  1   1   0  91   1   1   0   0   0   0]\n",
      " [  1   0   0   3  16   1   0   0   2   0]\n",
      " [  0   4   0   0   0  50   0   0   0   0]\n",
      " [  0   2   0   1   0   0 686   5   1   1]\n",
      " [ 12   0  18   0   0   0   6  24   0   2]\n",
      " [  0   0   2   1   1   0   0   0  10   0]\n",
      " [  0   5   1   0   0   0   1   2   1  20]]\n"
     ]
    },
    {
     "data": {
      "text/html": [
       "<table style='font-size:16px;margin-left:auto;margin-right:auto;'><tr><th>Species</th><th>Accuracy</th> <th>Precision</th> <th>Recall</th> <th>F1-score</th></tr><tr><td>0</td><td>98.34%</td> <td>88.28%</td> <td>94.81%</td> <td>91.43%</td></tr><tr><td>1</td><td>97.92%</td> <td>94.52%</td> <td>92.00%</td> <td>93.24%</td></tr><tr><td>2</td><td>97.85%</td> <td>80.00%</td> <td>95.41%</td> <td>87.03%</td></tr><tr><td>3</td><td>99.24%</td> <td>92.86%</td> <td>95.79%</td> <td>94.30%</td></tr><tr><td>4</td><td>99.38%</td> <td>88.89%</td> <td>69.57%</td> <td>78.05%</td></tr><tr><td>5</td><td>98.48%</td> <td>73.53%</td> <td>92.59%</td> <td>81.97%</td></tr><tr><td>6</td><td>98.75%</td> <td>98.85%</td> <td>98.56%</td> <td>98.71%</td></tr><tr><td>7</td><td>96.67%</td> <td>70.59%</td> <td>38.71%</td> <td>50.00%</td></tr><tr><td>8</td><td>99.45%</td> <td>71.43%</td> <td>71.43%</td> <td>71.43%</td></tr><tr><td>9</td><td>99.10%</td> <td>86.96%</td> <td>66.67%</td> <td>75.47%</td></tr><tr><th>Average</th><th>98.52%</th> <th>84.59%</th> <th>81.55%</th> <th>82.16%</th></tr></table>"
      ]
     },
     "metadata": {
      "tags": []
     },
     "output_type": "display_data"
    },
    {
     "data": {
      "text/html": [
       "<hr>"
      ]
     },
     "metadata": {
      "tags": []
     },
     "output_type": "display_data"
    },
    {
     "data": {
      "text/html": [
       "<h2 style='text-align:center'>Iteration 94</h2>"
      ]
     },
     "metadata": {
      "tags": []
     },
     "output_type": "display_data"
    },
    {
     "data": {
      "text/html": [
       "<table style='font-size:16px;margin-left:auto;margin-right:auto;text-align=center'><tr><th>Hidden Layers</th><th>Training Fraction</th> <th>Number of Steps</th></tr><tr><th>[25, 50, 100]</th><th>50%</th><th>1500</th></tr></table>"
      ]
     },
     "metadata": {
      "tags": []
     },
     "output_type": "display_data"
    },
    {
     "data": {
      "text/html": [
       "<h4>Confusion Matrix:</h4>"
      ]
     },
     "metadata": {
      "tags": []
     },
     "output_type": "display_data"
    },
    {
     "data": {
      "text/html": [
       "<br/>"
      ]
     },
     "metadata": {
      "tags": []
     },
     "output_type": "display_data"
    },
    {
     "name": "stdout",
     "output_type": "stream",
     "text": [
      "[[ 317    0    9    9    0    1    0    0    0    0]\n",
      " [   0  520    0    4    1   27    7    2    0    0]\n",
      " [  15    0  247    0    1    0    0    4    2    2]\n",
      " [   3    1    0  229    2    1    0    0    0    0]\n",
      " [   3    0    1   39    4    7    0    0    3    0]\n",
      " [   0   26    0   10    0   97    0    0    1    1]\n",
      " [   0    7    0    2    0    0 1723    7    0    0]\n",
      " [  31    1   37    0    0    0   18   62    0    6]\n",
      " [   0    1    1    4    0    0    0    0   28    0]\n",
      " [   1   26    1    1    0    0    1    9    5   30]]\n"
     ]
    },
    {
     "data": {
      "text/html": [
       "<table style='font-size:16px;margin-left:auto;margin-right:auto;'><tr><th>Species</th><th>Accuracy</th> <th>Precision</th> <th>Recall</th> <th>F1-score</th></tr><tr><td>0</td><td>98.00%</td> <td>85.68%</td> <td>94.35%</td> <td>89.80%</td></tr><tr><td>1</td><td>97.14%</td> <td>89.35%</td> <td>92.69%</td> <td>90.99%</td></tr><tr><td>2</td><td>97.97%</td> <td>83.45%</td> <td>91.14%</td> <td>87.13%</td></tr><tr><td>3</td><td>97.89%</td> <td>76.85%</td> <td>97.03%</td> <td>85.77%</td></tr><tr><td>4</td><td>98.42%</td> <td>50.00%</td> <td>7.02%</td> <td>12.31%</td></tr><tr><td>5</td><td>97.94%</td> <td>72.93%</td> <td>71.85%</td> <td>72.39%</td></tr><tr><td>6</td><td>98.83%</td> <td>98.51%</td> <td>99.08%</td> <td>98.80%</td></tr><tr><td>7</td><td>96.80%</td> <td>73.81%</td> <td>40.00%</td> <td>51.88%</td></tr><tr><td>8</td><td>99.53%</td> <td>71.79%</td> <td>82.35%</td> <td>76.71%</td></tr><tr><td>9</td><td>98.53%</td> <td>76.92%</td> <td>40.54%</td> <td>53.10%</td></tr><tr><th>Average</th><th>98.10%</th> <th>77.93%</th> <th>71.61%</th> <th>71.89%</th></tr></table>"
      ]
     },
     "metadata": {
      "tags": []
     },
     "output_type": "display_data"
    },
    {
     "data": {
      "text/html": [
       "<hr>"
      ]
     },
     "metadata": {
      "tags": []
     },
     "output_type": "display_data"
    },
    {
     "data": {
      "text/html": [
       "<h2 style='text-align:center'>Iteration 95</h2>"
      ]
     },
     "metadata": {
      "tags": []
     },
     "output_type": "display_data"
    },
    {
     "data": {
      "text/html": [
       "<table style='font-size:16px;margin-left:auto;margin-right:auto;text-align=center'><tr><th>Hidden Layers</th><th>Training Fraction</th> <th>Number of Steps</th></tr><tr><th>[25, 50, 100]</th><th>80%</th><th>2000</th></tr></table>"
      ]
     },
     "metadata": {
      "tags": []
     },
     "output_type": "display_data"
    },
    {
     "data": {
      "text/html": [
       "<h4>Confusion Matrix:</h4>"
      ]
     },
     "metadata": {
      "tags": []
     },
     "output_type": "display_data"
    },
    {
     "data": {
      "text/html": [
       "<br/>"
      ]
     },
     "metadata": {
      "tags": []
     },
     "output_type": "display_data"
    },
    {
     "name": "stdout",
     "output_type": "stream",
     "text": [
      "[[128   0   3   1   1   0   0   2   0   0]\n",
      " [  0 219   0   2   0   1   2   0   0   1]\n",
      " [  1   0 106   0   0   0   0   1   1   0]\n",
      " [  0   1   0  87   6   0   0   0   0   1]\n",
      " [  0   1   0   4  18   0   0   0   0   0]\n",
      " [  0   5   0   1   1  47   0   0   0   0]\n",
      " [  0   0   0   0   0   0 696   0   0   0]\n",
      " [  9   0   7   0   0   0   4  40   0   2]\n",
      " [  0   0   0   0   0   1   0   0  10   3]\n",
      " [  0   3   0   0   0   0   2   3   2  20]]\n"
     ]
    },
    {
     "data": {
      "text/html": [
       "<table style='font-size:16px;margin-left:auto;margin-right:auto;'><tr><th>Species</th><th>Accuracy</th> <th>Precision</th> <th>Recall</th> <th>F1-score</th></tr><tr><td>0</td><td>98.82%</td> <td>92.75%</td> <td>94.81%</td> <td>93.77%</td></tr><tr><td>1</td><td>98.89%</td> <td>95.63%</td> <td>97.33%</td> <td>96.48%</td></tr><tr><td>2</td><td>99.10%</td> <td>91.38%</td> <td>97.25%</td> <td>94.22%</td></tr><tr><td>3</td><td>98.89%</td> <td>91.58%</td> <td>91.58%</td> <td>91.58%</td></tr><tr><td>4</td><td>99.10%</td> <td>69.23%</td> <td>78.26%</td> <td>73.47%</td></tr><tr><td>5</td><td>99.38%</td> <td>95.92%</td> <td>87.04%</td> <td>91.26%</td></tr><tr><td>6</td><td>99.45%</td> <td>98.86%</td> <td>100.00%</td> <td>99.43%</td></tr><tr><td>7</td><td>98.06%</td> <td>86.96%</td> <td>64.52%</td> <td>74.07%</td></tr><tr><td>8</td><td>99.51%</td> <td>76.92%</td> <td>71.43%</td> <td>74.07%</td></tr><tr><td>9</td><td>98.82%</td> <td>74.07%</td> <td>66.67%</td> <td>70.18%</td></tr><tr><th>Average</th><th>99.00%</th> <th>87.33%</th> <th>84.89%</th> <th>85.85%</th></tr></table>"
      ]
     },
     "metadata": {
      "tags": []
     },
     "output_type": "display_data"
    },
    {
     "data": {
      "text/html": [
       "<hr>"
      ]
     },
     "metadata": {
      "tags": []
     },
     "output_type": "display_data"
    },
    {
     "data": {
      "text/html": [
       "<h2 style='text-align:center'>Iteration 96</h2>"
      ]
     },
     "metadata": {
      "tags": []
     },
     "output_type": "display_data"
    },
    {
     "data": {
      "text/html": [
       "<table style='font-size:16px;margin-left:auto;margin-right:auto;text-align=center'><tr><th>Hidden Layers</th><th>Training Fraction</th> <th>Number of Steps</th></tr><tr><th>[25, 50, 100]</th><th>50%</th><th>2000</th></tr></table>"
      ]
     },
     "metadata": {
      "tags": []
     },
     "output_type": "display_data"
    },
    {
     "data": {
      "text/html": [
       "<h4>Confusion Matrix:</h4>"
      ]
     },
     "metadata": {
      "tags": []
     },
     "output_type": "display_data"
    },
    {
     "data": {
      "text/html": [
       "<br/>"
      ]
     },
     "metadata": {
      "tags": []
     },
     "output_type": "display_data"
    },
    {
     "name": "stdout",
     "output_type": "stream",
     "text": [
      "[[ 313    1   15    2    5    0    0    0    0    0]\n",
      " [   0  546    0    2    1    9    3    0    0    0]\n",
      " [   7    0  258    0    1    0    0    4    0    1]\n",
      " [   4    2    0  226    2    0    0    0    0    2]\n",
      " [   0    3    0   10   37    6    0    0    1    0]\n",
      " [   0   13    2    2    1  116    0    0    1    0]\n",
      " [   0    3    0    2    0    0 1726    6    2    0]\n",
      " [  24    2   21    0    0    0   11   93    0    4]\n",
      " [   0    3    0    0    1    1    0    0   28    1]\n",
      " [   1    7    3    0    0    0    5    5    5   48]]\n"
     ]
    },
    {
     "data": {
      "text/html": [
       "<table style='font-size:16px;margin-left:auto;margin-right:auto;'><tr><th>Species</th><th>Accuracy</th> <th>Precision</th> <th>Recall</th> <th>F1-score</th></tr><tr><td>0</td><td>98.36%</td> <td>89.68%</td> <td>93.15%</td> <td>91.39%</td></tr><tr><td>1</td><td>98.64%</td> <td>94.14%</td> <td>97.33%</td> <td>95.71%</td></tr><tr><td>2</td><td>98.50%</td> <td>86.29%</td> <td>95.20%</td> <td>90.53%</td></tr><tr><td>3</td><td>99.22%</td> <td>92.62%</td> <td>95.76%</td> <td>94.17%</td></tr><tr><td>4</td><td>99.14%</td> <td>77.08%</td> <td>64.91%</td> <td>70.48%</td></tr><tr><td>5</td><td>99.03%</td> <td>87.88%</td> <td>85.93%</td> <td>86.89%</td></tr><tr><td>6</td><td>99.11%</td> <td>98.91%</td> <td>99.25%</td> <td>99.08%</td></tr><tr><td>7</td><td>97.86%</td> <td>86.11%</td> <td>60.00%</td> <td>70.72%</td></tr><tr><td>8</td><td>99.58%</td> <td>75.68%</td> <td>82.35%</td> <td>78.87%</td></tr><tr><td>9</td><td>99.06%</td> <td>85.71%</td> <td>64.86%</td> <td>73.85%</td></tr><tr><th>Average</th><th>98.85%</th> <th>87.41%</th> <th>83.88%</th> <th>85.17%</th></tr></table>"
      ]
     },
     "metadata": {
      "tags": []
     },
     "output_type": "display_data"
    },
    {
     "data": {
      "text/html": [
       "<hr>"
      ]
     },
     "metadata": {
      "tags": []
     },
     "output_type": "display_data"
    },
    {
     "data": {
      "image/png": "[encoded data removed]",
      "text/plain": [
       "<matplotlib.figure.Figure at 0x7fdc4ae8a860>"
      ]
     },
     "metadata": {
      "tags": []
     },
     "output_type": "display_data"
    },
    {
     "data": {
      "image/png": "[encoded data removed]",
      "text/plain": [
       "<matplotlib.figure.Figure at 0x7fdc49b06f60>"
      ]
     },
     "metadata": {
      "tags": []
     },
     "output_type": "display_data"
    }
   ],
   "source": [
    "# k-fold Cross-validation data splitting results\n",
    "display_model_results(kfcv_evaluations)"
   ]
  },
  {
   "cell_type": "markdown",
   "metadata": {
    "colab_type": "text",
    "id": "0RBWEMueYMg4"
   },
   "source": [
    "# Conclusion\n",
    "The architectural choices of a **Neural Network** are of tremendous importance when designing such a network and its model, including the architecture, the way the data is split and fed into it, the number of times said data goes through the forward and backpropagation mechanisms. \n",
    "\n",
    "With our approach we have observed that, for instance, a **Neural Network** with a single layer comprised of 100 nodes, for our dataset, can better describe (without overfitting) the data then a network with two hidden layers of 10 neurons each."
   ]
  },
  {
   "cell_type": "markdown",
   "metadata": {
    "colab_type": "text",
    "id": "Yka7JG0PYMg4"
   },
   "source": [
    "## Other"
   ]
  },
  {
   "cell_type": "markdown",
   "metadata": {
    "colab_type": "text",
    "id": "SyFGBN2XYMg5"
   },
   "source": [
    "### Deletes temporary files created by TensorFlow"
   ]
  },
  {
   "cell_type": "code",
   "execution_count": 0,
   "metadata": {
    "colab": {
     "autoexec": {
      "startup": false,
      "wait_interval": 0
     }
    },
    "colab_type": "code",
    "id": "9rw48k8kYMg5"
   },
   "outputs": [],
   "source": [
    "# Allows deleting models save folder in windows\n",
    "tf.summary.FileWriterCache.clear()"
   ]
  },
  {
   "cell_type": "code",
   "execution_count": 0,
   "metadata": {
    "colab": {
     "autoexec": {
      "startup": false,
      "wait_interval": 0
     }
    },
    "colab_type": "code",
    "id": "Ph4gYfN1YMg9"
   },
   "outputs": [],
   "source": [
    "import tempfile\n",
    "import os\n",
    "from pathlib import Path\n",
    "import shutil\n",
    "\n",
    "temp_dir = Path(tempfile.gettempdir())\n",
    "dir_list = [f for f in temp_dir.glob('tmp*') if f.is_dir()] \n",
    "for dir in dir_list:\n",
    "    shutil.rmtree(dir, ignore_errors=True)\n",
    "        "
   ]
  }
 ],
 "metadata": {
  "accelerator": "GPU",
  "colab": {
   "collapsed_sections": [
    "mgmcKIiMYMf6",
    "_a0gExKyYMf9"
   ],
   "default_view": {},
   "name": "Anuran Classification.ipynb",
   "provenance": [],
   "toc_visible": true,
   "version": "0.3.2",
   "views": {}
  },
  "kernelspec": {
   "display_name": "Python 3",
   "language": "python",
   "name": "python3"
  },
  "language_info": {
   "codemirror_mode": {
    "name": "ipython",
    "version": 3
   },
   "file_extension": ".py",
   "mimetype": "text/x-python",
   "name": "python",
   "nbconvert_exporter": "python",
   "pygments_lexer": "ipython3",
   "version": "3.6.4"
  }
 },
 "nbformat": 4,
 "nbformat_minor": 1
}
