{
 "cells": [
  {
   "cell_type": "markdown",
   "metadata": {},
   "source": [
    "<img src=\"report_material/feup_logo_old.png\" width=\"30%\" align=\"center\"/>\n",
    "\n",
    "<h1 style=\"text-align:center\">Neural Networks for the Prediction of Anuran Species (E3.)</h1>\n",
    "<h3 style=\"text-align:center\">Intermediate Report</h3>\n",
    "<br/><br/>\n",
    "<p style=\"text-align:center\">Artificial Intelligence (IART)</p>\n",
    "<p style=\"text-align:center\">3<sup>rd</sup> year in Master in Informatics and Computing Engineering</p>\n",
    "\n",
    "### Authors\n",
    "\n",
    "* Miguel Ramalho    - 201403027 - [m.ramalho@fe.up.pt](mailto:up201403027@fe.up.pt)\n",
    "* Rostyslav Khoptiy - 201500000 - [up201500000@fe.up.pt](mailto:up201500000@fe.up.pt)\n",
    "\n",
    "<!--spellchecking: https://stackoverflow.com/a/48710561/6196010 -->\n",
    "\n",
    "<div style=\"text-align:right\"><i>April 8<sup>th</sup>, 2018</i></div>\n",
    "<br/><br/><br/><br/><br/><br/>\n",
    "\n",
    "---"
   ]
  },
  {
   "cell_type": "markdown",
   "metadata": {},
   "source": [
    "# Goals\n",
    "Descrição sumária do objetivo do trabalho"
   ]
  },
  {
   "cell_type": "markdown",
   "metadata": {},
   "source": [
    "<cite data-cite=\"granger2013\">(Granger, 2013)</cite>"
   ]
  },
  {
   "cell_type": "markdown",
   "metadata": {},
   "source": [
    "((*- extends 'latex_article.tplx' -*))\n",
    "\n",
    "((* block bibliography *))\n",
    "\\bibliographystyle{unsrt}\n",
    "\\bibliography{ipython}\n",
    "((* endblock bibliography *))\n"
   ]
  },
  {
   "cell_type": "markdown",
   "metadata": {},
   "source": [
    "# Description"
   ]
  },
  {
   "cell_type": "markdown",
   "metadata": {},
   "source": [
    "## Especificação\n",
    "Descrição pormenorizada do trabalho.\n",
    "\n",
    "Descrição e análise do dataset. \n",
    "\n",
    "Pré-processamento dos dados.\n",
    "\n",
    "Modelo de aprendizagem a aplicar: árvores de decisão / redes neuronais.\n",
    "\n",
    "\n",
    "Redes neuronais: arquitectura, configuração prevista da rede."
   ]
  },
  {
   "cell_type": "markdown",
   "metadata": {},
   "source": [
    "## Trabalho Efectuado\n",
    "Descrição do trabalho que já realizou."
   ]
  },
  {
   "cell_type": "markdown",
   "metadata": {},
   "source": [
    "## Resultados esperados e forma de avaliação\n",
    "Enumere testes a definir para validar o resultado do trabalho\n",
    "\n",
    "(falar de métricas tipo recall, precision, vizualizações que permitam analisar overfitting e underfitting)"
   ]
  },
  {
   "cell_type": "markdown",
   "metadata": {},
   "source": [
    "# Conclusões\n",
    "Escreva aqui as conclusões que achar devidas."
   ]
  },
  {
   "cell_type": "markdown",
   "metadata": {},
   "source": [
    "# Recursos\n",
    "Indique os recursos usados na realização do trabalho: bibliografia e software."
   ]
  },
  {
   "cell_type": "code",
   "execution_count": 1,
   "metadata": {},
   "outputs": [],
   "source": [
    "import pandas as pd\n",
    "import tensorflow as tf\n",
    "import io # to pass data as StringIO object\n",
    "import time # to set the random seed for train and test sampling"
   ]
  },
  {
   "cell_type": "code",
   "execution_count": 2,
   "metadata": {},
   "outputs": [],
   "source": [
    "DATASET_PATH = \"dataset/frogs.csv\" # the path to the dataset file\n",
    "CHECKPOINTS_PATH = \"model_checkpoints\" # folder that holds the Tensorflow checkpoints\n",
    "N_FEATURES = 22 # the number of features in the dataset\n",
    "LABEL_INDEX = 24 # the index in the dataset where the label to predict is\n",
    "BATCH_SIZE = 100 # batch size for the train, evaluation and prediction\n",
    "TRAIN_PERCENT = 0.8 # this means 80% of examples will be used for training and 20% for testing"
   ]
  },
  {
   "cell_type": "code",
   "execution_count": 3,
   "metadata": {},
   "outputs": [
    {
     "name": "stdout",
     "output_type": "stream",
     "text": [
      "Got 7195 examples from the .csv\n"
     ]
    },
    {
     "data": {
      "text/html": [
       "<div>\n",
       "<style scoped>\n",
       "    .dataframe tbody tr th:only-of-type {\n",
       "        vertical-align: middle;\n",
       "    }\n",
       "\n",
       "    .dataframe tbody tr th {\n",
       "        vertical-align: top;\n",
       "    }\n",
       "\n",
       "    .dataframe thead th {\n",
       "        text-align: right;\n",
       "    }\n",
       "</style>\n",
       "<table border=\"1\" class=\"dataframe\">\n",
       "  <thead>\n",
       "    <tr style=\"text-align: right;\">\n",
       "      <th></th>\n",
       "      <th>MFCCs_1</th>\n",
       "      <th>MFCCs_2</th>\n",
       "      <th>MFCCs_3</th>\n",
       "      <th>MFCCs_4</th>\n",
       "      <th>MFCCs_5</th>\n",
       "      <th>MFCCs_6</th>\n",
       "      <th>MFCCs_7</th>\n",
       "      <th>MFCCs_8</th>\n",
       "      <th>MFCCs_9</th>\n",
       "      <th>MFCCs_10</th>\n",
       "      <th>...</th>\n",
       "      <th>MFCCs_17</th>\n",
       "      <th>MFCCs_18</th>\n",
       "      <th>MFCCs_19</th>\n",
       "      <th>MFCCs_20</th>\n",
       "      <th>MFCCs_21</th>\n",
       "      <th>MFCCs_22</th>\n",
       "      <th>Family</th>\n",
       "      <th>Genus</th>\n",
       "      <th>Species</th>\n",
       "      <th>RecordID</th>\n",
       "    </tr>\n",
       "  </thead>\n",
       "  <tbody>\n",
       "    <tr>\n",
       "      <th>0</th>\n",
       "      <td>1.0</td>\n",
       "      <td>0.152936</td>\n",
       "      <td>-0.105586</td>\n",
       "      <td>0.200722</td>\n",
       "      <td>0.317201</td>\n",
       "      <td>0.260764</td>\n",
       "      <td>0.100945</td>\n",
       "      <td>-0.150063</td>\n",
       "      <td>-0.171128</td>\n",
       "      <td>0.124676</td>\n",
       "      <td>...</td>\n",
       "      <td>-0.108351</td>\n",
       "      <td>-0.077623</td>\n",
       "      <td>-0.009568</td>\n",
       "      <td>0.057684</td>\n",
       "      <td>0.118680</td>\n",
       "      <td>0.014038</td>\n",
       "      <td>Leptodactylidae</td>\n",
       "      <td>Adenomera</td>\n",
       "      <td>AdenomeraAndre</td>\n",
       "      <td>1</td>\n",
       "    </tr>\n",
       "    <tr>\n",
       "      <th>1</th>\n",
       "      <td>1.0</td>\n",
       "      <td>0.171534</td>\n",
       "      <td>-0.098975</td>\n",
       "      <td>0.268425</td>\n",
       "      <td>0.338672</td>\n",
       "      <td>0.268353</td>\n",
       "      <td>0.060835</td>\n",
       "      <td>-0.222475</td>\n",
       "      <td>-0.207693</td>\n",
       "      <td>0.170883</td>\n",
       "      <td>...</td>\n",
       "      <td>-0.090974</td>\n",
       "      <td>-0.056510</td>\n",
       "      <td>-0.035303</td>\n",
       "      <td>0.020140</td>\n",
       "      <td>0.082263</td>\n",
       "      <td>0.029056</td>\n",
       "      <td>Leptodactylidae</td>\n",
       "      <td>Adenomera</td>\n",
       "      <td>AdenomeraAndre</td>\n",
       "      <td>1</td>\n",
       "    </tr>\n",
       "    <tr>\n",
       "      <th>2</th>\n",
       "      <td>1.0</td>\n",
       "      <td>0.152317</td>\n",
       "      <td>-0.082973</td>\n",
       "      <td>0.287128</td>\n",
       "      <td>0.276014</td>\n",
       "      <td>0.189867</td>\n",
       "      <td>0.008714</td>\n",
       "      <td>-0.242234</td>\n",
       "      <td>-0.219153</td>\n",
       "      <td>0.232538</td>\n",
       "      <td>...</td>\n",
       "      <td>-0.050691</td>\n",
       "      <td>-0.023590</td>\n",
       "      <td>-0.066722</td>\n",
       "      <td>-0.025083</td>\n",
       "      <td>0.099108</td>\n",
       "      <td>0.077162</td>\n",
       "      <td>Leptodactylidae</td>\n",
       "      <td>Adenomera</td>\n",
       "      <td>AdenomeraAndre</td>\n",
       "      <td>1</td>\n",
       "    </tr>\n",
       "    <tr>\n",
       "      <th>3</th>\n",
       "      <td>1.0</td>\n",
       "      <td>0.224392</td>\n",
       "      <td>0.118985</td>\n",
       "      <td>0.329432</td>\n",
       "      <td>0.372088</td>\n",
       "      <td>0.361005</td>\n",
       "      <td>0.015501</td>\n",
       "      <td>-0.194347</td>\n",
       "      <td>-0.098181</td>\n",
       "      <td>0.270375</td>\n",
       "      <td>...</td>\n",
       "      <td>-0.136009</td>\n",
       "      <td>-0.177037</td>\n",
       "      <td>-0.130498</td>\n",
       "      <td>-0.054766</td>\n",
       "      <td>-0.018691</td>\n",
       "      <td>0.023954</td>\n",
       "      <td>Leptodactylidae</td>\n",
       "      <td>Adenomera</td>\n",
       "      <td>AdenomeraAndre</td>\n",
       "      <td>1</td>\n",
       "    </tr>\n",
       "    <tr>\n",
       "      <th>4</th>\n",
       "      <td>1.0</td>\n",
       "      <td>0.087817</td>\n",
       "      <td>-0.068345</td>\n",
       "      <td>0.306967</td>\n",
       "      <td>0.330923</td>\n",
       "      <td>0.249144</td>\n",
       "      <td>0.006884</td>\n",
       "      <td>-0.265423</td>\n",
       "      <td>-0.172700</td>\n",
       "      <td>0.266434</td>\n",
       "      <td>...</td>\n",
       "      <td>-0.048885</td>\n",
       "      <td>-0.053074</td>\n",
       "      <td>-0.088550</td>\n",
       "      <td>-0.031346</td>\n",
       "      <td>0.108610</td>\n",
       "      <td>0.079244</td>\n",
       "      <td>Leptodactylidae</td>\n",
       "      <td>Adenomera</td>\n",
       "      <td>AdenomeraAndre</td>\n",
       "      <td>1</td>\n",
       "    </tr>\n",
       "  </tbody>\n",
       "</table>\n",
       "<p>5 rows × 26 columns</p>\n",
       "</div>"
      ],
      "text/plain": [
       "   MFCCs_1   MFCCs_2   MFCCs_3   MFCCs_4   MFCCs_5   MFCCs_6   MFCCs_7  \\\n",
       "0      1.0  0.152936 -0.105586  0.200722  0.317201  0.260764  0.100945   \n",
       "1      1.0  0.171534 -0.098975  0.268425  0.338672  0.268353  0.060835   \n",
       "2      1.0  0.152317 -0.082973  0.287128  0.276014  0.189867  0.008714   \n",
       "3      1.0  0.224392  0.118985  0.329432  0.372088  0.361005  0.015501   \n",
       "4      1.0  0.087817 -0.068345  0.306967  0.330923  0.249144  0.006884   \n",
       "\n",
       "    MFCCs_8   MFCCs_9  MFCCs_10    ...     MFCCs_17  MFCCs_18  MFCCs_19  \\\n",
       "0 -0.150063 -0.171128  0.124676    ...    -0.108351 -0.077623 -0.009568   \n",
       "1 -0.222475 -0.207693  0.170883    ...    -0.090974 -0.056510 -0.035303   \n",
       "2 -0.242234 -0.219153  0.232538    ...    -0.050691 -0.023590 -0.066722   \n",
       "3 -0.194347 -0.098181  0.270375    ...    -0.136009 -0.177037 -0.130498   \n",
       "4 -0.265423 -0.172700  0.266434    ...    -0.048885 -0.053074 -0.088550   \n",
       "\n",
       "   MFCCs_20  MFCCs_21  MFCCs_22           Family      Genus         Species  \\\n",
       "0  0.057684  0.118680  0.014038  Leptodactylidae  Adenomera  AdenomeraAndre   \n",
       "1  0.020140  0.082263  0.029056  Leptodactylidae  Adenomera  AdenomeraAndre   \n",
       "2 -0.025083  0.099108  0.077162  Leptodactylidae  Adenomera  AdenomeraAndre   \n",
       "3 -0.054766 -0.018691  0.023954  Leptodactylidae  Adenomera  AdenomeraAndre   \n",
       "4 -0.031346  0.108610  0.079244  Leptodactylidae  Adenomera  AdenomeraAndre   \n",
       "\n",
       "   RecordID  \n",
       "0         1  \n",
       "1         1  \n",
       "2         1  \n",
       "3         1  \n",
       "4         1  \n",
       "\n",
       "[5 rows x 26 columns]"
      ]
     },
     "execution_count": 3,
     "metadata": {},
     "output_type": "execute_result"
    }
   ],
   "source": [
    "# from csv to pandas Dataframe\n",
    "df = pd.read_csv(DATASET_PATH)\n",
    "df.columns = df.columns.str.replace(\" \", \"\") # remove whitespace, needed for TF\n",
    "print(\"Got %d examples from the .csv\" % df.shape[0])\n",
    "df.head()"
   ]
  },
  {
   "cell_type": "code",
   "execution_count": 4,
   "metadata": {},
   "outputs": [],
   "source": [
    "# split into 80% train and 20% test, may need crossvalidation in the future\n",
    "train=df.sample(frac=TRAIN_PERCENT, random_state=int(time.time()))\n",
    "test=df.drop(train.index)\n",
    "\n",
    "# split dataframes into X (features) and y (classes) - use species as label\n",
    "train_x, train_y = train.iloc[:,:N_FEATURES], train.iloc[:,LABEL_INDEX:LABEL_INDEX+1]\n",
    "test_x, test_y = test.iloc[:,:N_FEATURES], test.iloc[:,LABEL_INDEX:LABEL_INDEX+1]"
   ]
  },
  {
   "cell_type": "code",
   "execution_count": 5,
   "metadata": {},
   "outputs": [],
   "source": [
    "# Convert the features MFCCs_1 to MFCCs_22 into Tensorflow feature columns\n",
    "my_feature_columns = [tf.feature_column.numeric_column(key=key) for key in list(train_x)]"
   ]
  },
  {
   "cell_type": "code",
   "execution_count": 8,
   "metadata": {},
   "outputs": [
    {
     "name": "stdout",
     "output_type": "stream",
     "text": [
      "INFO:tensorflow:Using default config.\n",
      "INFO:tensorflow:Using config: {'_model_dir': 'model_checkpoints', '_tf_random_seed': None, '_save_summary_steps': 100, '_save_checkpoints_steps': None, '_save_checkpoints_secs': 600, '_session_config': None, '_keep_checkpoint_max': 5, '_keep_checkpoint_every_n_hours': 10000, '_log_step_count_steps': 100, '_service': None, '_cluster_spec': <tensorflow.python.training.server_lib.ClusterSpec object at 0x000001D3D3607DD8>, '_task_type': 'worker', '_task_id': 0, '_global_id_in_cluster': 0, '_master': '', '_evaluation_master': '', '_is_chief': True, '_num_ps_replicas': 0, '_num_worker_replicas': 1}\n"
     ]
    },
    {
     "data": {
      "image/png": "[encoded data removed]",
      "text/plain": [
       "<matplotlib.figure.Figure at 0x1d3d3607d68>"
      ]
     },
     "metadata": {},
     "output_type": "display_data"
    }
   ],
   "source": [
    "# Build a DNN (Deep Neural Network) with 1 hidden layer with 10 nodes\n",
    "classifier = tf.estimator.DNNClassifier(\n",
    "        feature_columns=my_feature_columns,\n",
    "        hidden_units=[10],\n",
    "        n_classes=10,\n",
    "        model_dir=CHECKPOINTS_PATH) # 4 families, 8 genus, 10 species, 60 anurans\n",
    "drawNN([1, 10, 4, 1])"
   ]
  },
  {
   "cell_type": "code",
   "execution_count": 9,
   "metadata": {},
   "outputs": [],
   "source": [
    "def train_input_fn(features, labels):\n",
    "    # Convert the inputs to a Dataset.\n",
    "    dataset = tf.data.Dataset.from_tensor_slices((dict(features), labels))\n",
    "    \n",
    "    # Shuffle, repeat, and batch the examples. The shuffle argument should be larger than the number of examples\n",
    "    return dataset.shuffle(df.shape[0] * 10).repeat().batch(BATCH_SIZE)"
   ]
  },
  {
   "cell_type": "code",
   "execution_count": 10,
   "metadata": {},
   "outputs": [],
   "source": [
    "# converts a list of strings into a list of IDs (numerical values) used for the classifier\n",
    "def convert_labels_to_number(labels):\n",
    "    unique_labels = list(set(labels)) # list of unique values\n",
    "    return unique_labels, [unique_labels.index(l) for l in labels]"
   ]
  },
  {
   "cell_type": "code",
   "execution_count": 11,
   "metadata": {},
   "outputs": [],
   "source": [
    "# for the 10 species, get a numerical mapping of the text name of that species (needed for DNN)\n",
    "_, numeric_train_y = convert_labels_to_number(train_y.iloc[:,0])\n",
    "_, numeric_test_y  = convert_labels_to_number(test_y.iloc[:,0])"
   ]
  },
  {
   "cell_type": "code",
   "execution_count": 12,
   "metadata": {
    "scrolled": true
   },
   "outputs": [
    {
     "name": "stdout",
     "output_type": "stream",
     "text": [
      "INFO:tensorflow:Calling model_fn.\n",
      "INFO:tensorflow:Done calling model_fn.\n",
      "INFO:tensorflow:Create CheckpointSaverHook.\n",
      "INFO:tensorflow:Graph was finalized.\n",
      "INFO:tensorflow:Restoring parameters from model_checkpoints\\model.ckpt-1000\n",
      "INFO:tensorflow:Running local_init_op.\n",
      "INFO:tensorflow:Done running local_init_op.\n",
      "INFO:tensorflow:Saving checkpoints for 1001 into model_checkpoints\\model.ckpt.\n",
      "INFO:tensorflow:loss = 348.27292, step = 1001\n",
      "INFO:tensorflow:global_step/sec: 283.222\n",
      "INFO:tensorflow:loss = 69.6325, step = 1101 (0.355 sec)\n",
      "INFO:tensorflow:global_step/sec: 301.202\n",
      "INFO:tensorflow:loss = 54.60155, step = 1201 (0.332 sec)\n",
      "INFO:tensorflow:global_step/sec: 364.301\n",
      "INFO:tensorflow:loss = 34.326942, step = 1301 (0.274 sec)\n",
      "INFO:tensorflow:global_step/sec: 390.851\n",
      "INFO:tensorflow:loss = 41.47987, step = 1401 (0.255 sec)\n",
      "INFO:tensorflow:global_step/sec: 379.435\n",
      "INFO:tensorflow:loss = 22.132345, step = 1501 (0.264 sec)\n",
      "INFO:tensorflow:global_step/sec: 354.61\n",
      "INFO:tensorflow:loss = 36.35704, step = 1601 (0.281 sec)\n",
      "INFO:tensorflow:global_step/sec: 352.492\n",
      "INFO:tensorflow:loss = 27.16922, step = 1701 (0.284 sec)\n",
      "INFO:tensorflow:global_step/sec: 434.201\n",
      "INFO:tensorflow:loss = 31.043114, step = 1801 (0.230 sec)\n",
      "INFO:tensorflow:global_step/sec: 347.827\n",
      "INFO:tensorflow:loss = 18.203142, step = 1901 (0.288 sec)\n",
      "INFO:tensorflow:Saving checkpoints for 2000 into model_checkpoints\\model.ckpt.\n",
      "INFO:tensorflow:Loss for final step: 19.909113.\n"
     ]
    },
    {
     "data": {
      "text/plain": [
       "<tensorflow.python.estimator.canned.dnn.DNNClassifier at 0x1d3d3607d30>"
      ]
     },
     "execution_count": 12,
     "metadata": {},
     "output_type": "execute_result"
    }
   ],
   "source": [
    "# Train the model - 10 steps\n",
    "classifier.train(input_fn=lambda:train_input_fn(train_x, numeric_train_y), steps=1000)\n"
   ]
  },
  {
   "cell_type": "markdown",
   "metadata": {},
   "source": [
    "## Evaluation"
   ]
  },
  {
   "cell_type": "code",
   "execution_count": 13,
   "metadata": {},
   "outputs": [],
   "source": [
    "def eval_input_fn(features, labels=None):\n",
    "    inputs = features if labels is None else (features, labels)\n",
    "    \n",
    "    # Convert inputs to a tf.dataset object. Batch the examples.\n",
    "    dataset = tf.data.Dataset.from_tensor_slices(inputs).batch(BATCH_SIZE)\n",
    "\n",
    "    # Return the read end of the pipeline.\n",
    "    return dataset.make_one_shot_iterator().get_next()"
   ]
  },
  {
   "cell_type": "code",
   "execution_count": 14,
   "metadata": {
    "scrolled": true
   },
   "outputs": [
    {
     "name": "stdout",
     "output_type": "stream",
     "text": [
      "INFO:tensorflow:Calling model_fn.\n",
      "INFO:tensorflow:Done calling model_fn.\n",
      "INFO:tensorflow:Starting evaluation at 2018-04-03-17:37:23\n",
      "INFO:tensorflow:Graph was finalized.\n",
      "INFO:tensorflow:Restoring parameters from model_checkpoints\\model.ckpt-2000\n",
      "INFO:tensorflow:Running local_init_op.\n",
      "INFO:tensorflow:Done running local_init_op.\n",
      "INFO:tensorflow:Finished evaluation at 2018-04-03-17:37:23\n",
      "INFO:tensorflow:Saving dict for global step 2000: accuracy = 0.7303683, average_loss = 1.3766714, global_step = 2000, loss = 132.06868\n",
      "\n",
      "Test set accuracy: 0.730\n",
      "\n"
     ]
    }
   ],
   "source": [
    "# Evaluate the model.\n",
    "eval_result = classifier.evaluate(input_fn=lambda:eval_input_fn(dict(test_x), numeric_test_y))\n",
    "\n",
    "print('\\nTest set accuracy: {accuracy:0.3f}\\n'.format(**eval_result))"
   ]
  },
  {
   "cell_type": "markdown",
   "metadata": {},
   "source": [
    "# Appendix functions\n",
    "In this section we include functions that are directed at helping the visualisation of the project, and are not relevant for the proposed goals in any other way, so they need not be considered for evaluation"
   ]
  },
  {
   "cell_type": "code",
   "execution_count": 7,
   "metadata": {
    "hide_input": true
   },
   "outputs": [],
   "source": [
    "import matplotlib.pyplot as plt\n",
    "\n",
    "def draw_neural_net(ax, left, right, bottom, top, layer_sizes):\n",
    "    # https://gist.github.com/craffel/2d727968c3aaebd10359\n",
    "    n_layers = len(layer_sizes)\n",
    "    v_spacing = (top - bottom)/float(max(layer_sizes))\n",
    "    h_spacing = (right - left)/float(max(len(layer_sizes) - 1, 1))\n",
    "    # Nodes\n",
    "    for n, layer_size in enumerate(layer_sizes):\n",
    "        layer_top = v_spacing*(layer_size - 1)/2. + (top + bottom)/2.\n",
    "        for m in range(layer_size):\n",
    "            circle = plt.Circle((n*h_spacing + left, layer_top - m*v_spacing), v_spacing/4.,\n",
    "                                color='w', ec='k', zorder=4)\n",
    "            ax.add_artist(circle)\n",
    "    # Edges\n",
    "    for n, (layer_size_a, layer_size_b) in enumerate(zip(layer_sizes[:-1], layer_sizes[1:])):\n",
    "        layer_top_a = v_spacing*(layer_size_a - 1)/2. + (top + bottom)/2.\n",
    "        layer_top_b = v_spacing*(layer_size_b - 1)/2. + (top + bottom)/2.\n",
    "        for m in range(layer_size_a):\n",
    "            for o in range(layer_size_b):\n",
    "                line = plt.Line2D([n*h_spacing + left, (n + 1)*h_spacing + left],\n",
    "                                  [layer_top_a - m*v_spacing, layer_top_b - o*v_spacing], c='k')\n",
    "                ax.add_artist(line)\n",
    "\n",
    "def drawNN(hidden_layers, figsize=(12, 12)):\n",
    "    fig = plt.figure(figsize=figsize)\n",
    "    ax = fig.gca()\n",
    "    ax.axis('off')\n",
    "    draw_neural_net(ax, .1, .9, .1, .9, hidden_layers)\n",
    "    #fig.savefig('nn.png')\n",
    "    "
   ]
  },
  {
   "cell_type": "markdown",
   "metadata": {},
   "source": [
    "# IART\n",
    "\n",
    "* [GitHub repository](https://github.com/msramalho/iart)\n",
    "* [UCI source page](http://archive.ics.uci.edu/ml/datasets/Anuran+Calls+%28MFCCs%29)\n",
    "* [README](dataset/README.ipynb) of the dataset\n",
    "* [Dataset file](dataset/frogs.csv)\n",
    "* [Automatic Classification of Anuran Sounds Using Convolutional Neural Networks](report_material/papers/Automatic%20Classification%20of%20Anuran%20Sounds%20Using.pdf)\n",
    "* [Tensorflow tutorial](https://www.tensorflow.org/get_started/premade_estimators)"
   ]
  },
  {
   "cell_type": "code",
   "execution_count": null,
   "metadata": {},
   "outputs": [],
   "source": []
  }
 ],
 "metadata": {
  "kernelspec": {
   "display_name": "Python 3",
   "language": "python",
   "name": "python3"
  },
  "language_info": {
   "codemirror_mode": {
    "name": "ipython",
    "version": 3
   },
   "file_extension": ".py",
   "mimetype": "text/x-python",
   "name": "python",
   "nbconvert_exporter": "python",
   "pygments_lexer": "ipython3",
   "version": "3.6.4"
  }
 },
 "nbformat": 4,
 "nbformat_minor": 2
}
