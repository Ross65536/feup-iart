{
 "cells": [
  {
   "cell_type": "markdown",
   "metadata": {},
   "source": [
    "# IART\n",
    "\n",
    "* [GitHub repository](https://github.com/msramalho/iart)\n",
    "* [UCI source page](http://archive.ics.uci.edu/ml/datasets/Anuran+Calls+%28MFCCs%29)\n",
    "* [README](dataset/README.ipynb) of the dataset\n",
    "* [Dataset file](dataset/frogs.csv)\n",
    "* [Automatic Classification of Anuran Sounds Using](papers/Automatic%20Classification%20of%20Anuran%20Sounds%20Using.pdf)"
   ]
  },
  {
   "cell_type": "code",
   "execution_count": null,
   "metadata": {},
   "outputs": [],
   "source": [
    "import pandas as pd"
   ]
  },
  {
   "cell_type": "code",
   "execution_count": null,
   "metadata": {},
   "outputs": [],
   "source": [
    "print(\"podes ir pondo aqui a parte do pandas, depois diz-me quando estiver\")"
   ]
  },
  {
   "cell_type": "markdown",
   "metadata": {},
   "source": [
    "### Authors\n",
    "\n",
    "* Miguel Ramalho    - [@msramalho](https://github.com/msramalho)\n",
    "* Rostyslav Khoptiy - [@Ross65536](https://github.com/Ross65536)"
   ]
  }
 ],
 "metadata": {
  "kernelspec": {
   "display_name": "Python 3",
   "language": "python",
   "name": "python3"
  },
  "language_info": {
   "codemirror_mode": {
    "name": "ipython",
    "version": 3
   },
   "file_extension": ".py",
   "mimetype": "text/x-python",
   "name": "python",
   "nbconvert_exporter": "python",
   "pygments_lexer": "ipython3",
   "version": "3.6.4"
  }
 },
 "nbformat": 4,
 "nbformat_minor": 2
}
