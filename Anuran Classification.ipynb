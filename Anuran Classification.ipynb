{
 "cells": [
  {
   "cell_type": "markdown",
   "metadata": {},
   "source": [
    "<img src=\"report_material/feup_logo_old.png\" width=\"30%\" align=\"center\"/>\n",
    "\n",
    "<h1 style=\"text-align:center\">Neural Networks for the Prediction of Anuran Species (E3.)</h1>\n",
    "<h3 style=\"text-align:center\">Final Delivery</h3>\n",
    "<br/><br/>\n",
    "<p style=\"text-align:center\">Artificial Intelligence (IART)</p>\n",
    "<p style=\"text-align:center\">3<sup>rd</sup> year in Master in Informatics and Computing Engineering</p>\n",
    "\n",
    "### Authors\n",
    "\n",
    "* Miguel Ramalho    - 201403027 - [m.ramalho@fe.up.pt](mailto:up201403027@fe.up.pt)\n",
    "* Rostyslav Khoptiy - 201506219 - [up201506219@fe.up.pt](mailto:up201506219@fe.up.pt)\n",
    "\n",
    "<!--spellchecking: https://stackoverflow.com/a/48710561/6196010 -->\n",
    "\n",
    "<div style=\"text-align:right\"><i>April 8<sup>th</sup>, 2018</i></div>\n",
    "<br/><br/>\n",
    "\n",
    "---"
   ]
  },
  {
   "cell_type": "markdown",
   "metadata": {},
   "source": [
    "# Code"
   ]
  },
  {
   "cell_type": "markdown",
   "metadata": {},
   "source": [
    "## Initialization"
   ]
  },
  {
   "cell_type": "markdown",
   "metadata": {},
   "source": [
    "### Import modules"
   ]
  },
  {
   "cell_type": "code",
   "execution_count": 1,
   "metadata": {},
   "outputs": [],
   "source": [
    "import pandas as pd\n",
    "import tensorflow as tf\n",
    "import numpy as np\n",
    "import io # to pass data as StringIO object\n",
    "import time # to set the random seed for train and test sampling\n",
    "import matplotlib.pyplot as plt # to display plots\n",
    "from sklearn.model_selection import KFold, StratifiedKFold # for cross-validation, needs scipy\n",
    "np.seterr(divide='ignore', invalid='ignore'); # avoid unnecessary messages"
   ]
  },
  {
   "cell_type": "markdown",
   "metadata": {},
   "source": [
    "### Initialize constants"
   ]
  },
  {
   "cell_type": "code",
   "execution_count": 2,
   "metadata": {},
   "outputs": [],
   "source": [
    "DATASET_PATH = \"dataset/frogs.csv\" # the path to the dataset file\n",
    "N_FEATURES   = 22 # the number of features in the dataset\n",
    "LABEL_INDEX  = 24 # the index in the dataset where the label to predict is\n",
    "BATCH_SIZE   = 100 # batch size for the train, evaluation and prediction\n",
    "NUM_CLASSES  = 10 # last layer, num classifications\n",
    "NUM_ITEMS    = 7195 #Num items in dataset\n",
    "CROSS_VALIDATION_FUNCTION = StratifiedKFold # use KFold to ignore class representation\n",
    "ACTIVATION_FUNCTION = tf.nn.relu # default is tf.nn.relu, cpuld be sigmoid"
   ]
  },
  {
   "cell_type": "markdown",
   "metadata": {},
   "source": [
    "## Helper Functions\n",
    "\n",
    "In this section we include functions that are directed at helping the visualisation of the project, the manipulation of data and the creation, training and evaluation of models. Here functions that start with an underscore (_) are purely 'private' helper functions and shouldn't be used or even considered for the evaluation of the report"
   ]
  },
  {
   "cell_type": "markdown",
   "metadata": {},
   "source": [
    "### Chart Drawing and Visualization functions"
   ]
  },
  {
   "cell_type": "code",
   "execution_count": 3,
   "metadata": {},
   "outputs": [],
   "source": [
    "from IPython.core.display import display_html, HTML\n",
    "# function to print string into visual HTML\n",
    "def html(s, html_tag=None):\n",
    "    if html_tag:\n",
    "        s = tag(html_tag, s)\n",
    "    display_html(HTML(s))\n",
    "def tag(tag, s):\n",
    "    return \"<%s>%s</%s>\" % (tag, s, tag)"
   ]
  },
  {
   "cell_type": "code",
   "execution_count": 4,
   "metadata": {
    "hide_input": true
   },
   "outputs": [],
   "source": [
    "from IPython.display import display\n",
    "# receives paddings and a list @layer_sizes with the number of nodes to draw\n",
    "def _draw_neural_net(ax, left, right, bottom, top, layer_sizes):\n",
    "    # https://gist.github.com/craffel/2d727968c3aaebd10359\n",
    "    n_layers = len(layer_sizes)\n",
    "    v_spacing = (top - bottom)/float(max(layer_sizes))\n",
    "    h_spacing = (right - left)/float(max(len(layer_sizes) - 1, 1))\n",
    "    # Nodes\n",
    "    for n, layer_size in enumerate(layer_sizes):\n",
    "        layer_top = v_spacing*(layer_size - 1)/2. + (top + bottom)/2.\n",
    "        for m in range(layer_size):\n",
    "            circle = plt.Circle((n*h_spacing + left, layer_top - m*v_spacing), v_spacing/4.,\n",
    "                                color='w', ec='k', zorder=4)\n",
    "            ax.add_artist(circle)\n",
    "    # Edges\n",
    "    for n, (layer_size_a, layer_size_b) in enumerate(zip(layer_sizes[:-1], layer_sizes[1:])):\n",
    "        layer_top_a = v_spacing*(layer_size_a - 1)/2. + (top + bottom)/2.\n",
    "        layer_top_b = v_spacing*(layer_size_b - 1)/2. + (top + bottom)/2.\n",
    "        for m in range(layer_size_a):\n",
    "            for o in range(layer_size_b):\n",
    "                line = plt.Line2D([n*h_spacing + left, (n + 1)*h_spacing + left],\n",
    "                                  [layer_top_a - m*v_spacing, layer_top_b - o*v_spacing], c='k')\n",
    "                ax.add_artist(line)\n",
    "# helper function to draw a neural network\n",
    "def drawNN(hidden_layers, figsize=(12, 12), name=None):\n",
    "    #plt.ioff() #plt.ion()\n",
    "    plt.tight_layout()\n",
    "    fig = plt.figure(figsize=figsize);\n",
    "    ax = fig.gca()\n",
    "    ax.axis('off')\n",
    "    _draw_neural_net(ax, .1, .9, .1, .9, [N_FEATURES] + hidden_layers + [NUM_CLASSES])\n",
    "    display(fig);\n",
    "    plt.close();"
   ]
  },
  {
   "cell_type": "code",
   "execution_count": 5,
   "metadata": {},
   "outputs": [],
   "source": [
    "# create an abstract histogram\n",
    "def _draw_label_distribution(label_column, title_text):\n",
    "    label_count = pd.Series.value_counts(label_column, normalize=True, sort=False)\n",
    "    label_count = label_count.sort_index()\n",
    "    label_count.plot(kind='barh', title=title_text, stacked=True, fontsize=15, figsize=(8,8), color=\"darkblue\" )\n",
    "\n",
    "# create a histogram with the distribution of species\n",
    "def draw_species_distribution_chart(df, title_text=\"Species Dataset Distribution\"):\n",
    "    species_column = df['Species']\n",
    "    _draw_label_distribution(species_column, title_text)"
   ]
  },
  {
   "cell_type": "markdown",
   "metadata": {},
   "source": [
    "### Creating Deep Neural Network Models \n",
    " * `my_feature_columns`        - the features that the model should receive as input\n",
    " * `inner_layers_architecture` - a list of N hidden layers where N[i] is the number of nodes of the layer i"
   ]
  },
  {
   "cell_type": "code",
   "execution_count": 6,
   "metadata": {},
   "outputs": [],
   "source": [
    "def create_DNN(my_feature_columns, inner_layers_architecture, save_folder_path=None, num_classes=NUM_CLASSES):\n",
    "    # Build a DNN (Deep Neural Network) with 1 hidden layer with 10 nodes\n",
    "    classifier = tf.estimator.DNNClassifier(\n",
    "            feature_columns = my_feature_columns,\n",
    "            hidden_units = inner_layers_architecture, # 1:-1 removes the first and last elements of the architecture\n",
    "            n_classes = num_classes, # num nodes of final layer\n",
    "            model_dir = save_folder_path, # value None means it will be saved in temp\n",
    "            activation_fn = ACTIVATION_FUNCTION, # activation function to use\n",
    "    )\n",
    "    \n",
    "    return classifier"
   ]
  },
  {
   "cell_type": "markdown",
   "metadata": {},
   "source": [
    "### Training Models"
   ]
  },
  {
   "cell_type": "code",
   "execution_count": 7,
   "metadata": {},
   "outputs": [],
   "source": [
    "SHUFFLE_PARAM = NUM_ITEMS * 10 #df.shape[0] * 10\n",
    "# helper function to yield a part of the training data to be used by TF's classifier.train method\n",
    "def _train_input_fn(features, labels):\n",
    "    # Convert the inputs to a Dataset.\n",
    "    dataset = tf.data.Dataset.from_tensor_slices((dict(features), labels))\n",
    "    \n",
    "    # Shuffle, repeat, and batch the examples. The shuffle argument should be larger than the number of examples\n",
    "    return dataset.shuffle(SHUFFLE_PARAM).repeat().batch(BATCH_SIZE)"
   ]
  },
  {
   "cell_type": "code",
   "execution_count": 8,
   "metadata": {},
   "outputs": [],
   "source": [
    "# Train a model, given the train data and the number of steps\n",
    "def train_model(classifier, train_x, numeric_train_y, num_steps=1000):\n",
    "    classifier.train(input_fn=lambda:_train_input_fn(train_x, numeric_train_y), steps=num_steps)"
   ]
  },
  {
   "cell_type": "markdown",
   "metadata": {},
   "source": [
    "### Evaluating Models"
   ]
  },
  {
   "cell_type": "code",
   "execution_count": 9,
   "metadata": {},
   "outputs": [],
   "source": [
    "# helper function for the classifier.evaluate method\n",
    "def _eval_input_fn(features, labels=None):\n",
    "    inputs = features if labels is None else (features, labels)\n",
    "    \n",
    "    # Convert inputs to a tf.dataset object. Batch the examples.\n",
    "    dataset = tf.data.Dataset.from_tensor_slices(inputs).batch(BATCH_SIZE)\n",
    "\n",
    "    # Return the read end of the pipeline.\n",
    "    return dataset.make_one_shot_iterator().get_next()"
   ]
  },
  {
   "cell_type": "code",
   "execution_count": 10,
   "metadata": {},
   "outputs": [],
   "source": [
    "# Evaluate a model - returns a tuple (eval_results, global_step)\n",
    "def evaluate_model(classifier, test_x, numeric_test_y):\n",
    "    return classifier.evaluate(input_fn=lambda:_eval_input_fn(dict(test_x), numeric_test_y))"
   ]
  },
  {
   "cell_type": "code",
   "execution_count": 11,
   "metadata": {},
   "outputs": [],
   "source": [
    "# predict from a trained model - returns a list of the predictions\n",
    "def predict_model(classifier, predict_x):\n",
    "    predictions = list(classifier.predict(input_fn=lambda:_eval_input_fn(dict(predict_x))))\n",
    "    return [el[\"class_ids\"][0] for el in predictions]"
   ]
  },
  {
   "cell_type": "markdown",
   "metadata": {},
   "source": [
    "### Dataset Splitting"
   ]
  },
  {
   "cell_type": "code",
   "execution_count": 12,
   "metadata": {},
   "outputs": [],
   "source": [
    "# converts a list of strings into a list of IDs (numerical values) used for the classifier\n",
    "def _convert_labels_to_number(labels):\n",
    "    unique_labels = list(set(labels)) # list of unique values\n",
    "    return [unique_labels.index(l) for l in labels]"
   ]
  },
  {
   "cell_type": "code",
   "execution_count": 13,
   "metadata": {},
   "outputs": [],
   "source": [
    "def _format_TF_data(train, test):\n",
    "    # split dataframes into X (features) and y (classes) - use species as label\n",
    "    train_x, train_y = train.iloc[:,:N_FEATURES], train.iloc[:,LABEL_INDEX:LABEL_INDEX+1]\n",
    "    test_x, test_y = test.iloc[:,:N_FEATURES], test.iloc[:,LABEL_INDEX:LABEL_INDEX+1]\n",
    "    \n",
    "    # for the 10 species, get a numerical mapping of the text name of that species (needed for DNN)\n",
    "    numeric_train_y = _convert_labels_to_number(train_y.iloc[:,0])\n",
    "    numeric_test_y  = _convert_labels_to_number(test_y.iloc[:,0])\n",
    "    \n",
    "    return (train_x, numeric_train_y, test_x, numeric_test_y)"
   ]
  },
  {
   "cell_type": "code",
   "execution_count": 14,
   "metadata": {},
   "outputs": [],
   "source": [
    "# Convert the features MFCCs_1 to MFCCs_22 into Tensorflow feature columns\n",
    "def get_TF_feature_columns(df):\n",
    "    data_df = df.iloc[:,:N_FEATURES]\n",
    "    return [tf.feature_column.numeric_column(key=key) for key in list(data_df)]"
   ]
  },
  {
   "cell_type": "markdown",
   "metadata": {},
   "source": [
    "#### Simple data splitting into Train and Test data"
   ]
  },
  {
   "cell_type": "code",
   "execution_count": 15,
   "metadata": {},
   "outputs": [],
   "source": [
    "# returns a single iteration\n",
    "def simple_data_split_generator(df, labels, train_fraction):\n",
    "    train=df.sample(frac=train_fraction, random_state=int(time.time()))\n",
    "    test=df.drop(train.index)\n",
    "    yield _format_TF_data(train, test) # in a for loop gives one single loop"
   ]
  },
  {
   "cell_type": "markdown",
   "metadata": {},
   "source": [
    "#### Cross Validation splitting into Train and Test data"
   ]
  },
  {
   "cell_type": "code",
   "execution_count": 16,
   "metadata": {},
   "outputs": [],
   "source": [
    "def _split_data_by_indices(train_indices, test_indices):\n",
    "    train = df.iloc[train_indices]\n",
    "    test = df.iloc[test_indices]\n",
    "    return _format_TF_data(train, test)"
   ]
  },
  {
   "cell_type": "code",
   "execution_count": 17,
   "metadata": {},
   "outputs": [],
   "source": [
    "def _get_k_fold_CV_split_indices(df, labels, num_folds = 3):\n",
    "    k_fold = CROSS_VALIDATION_FUNCTION(n_splits = num_folds, shuffle=True)\n",
    "    return k_fold.split(df, labels)"
   ]
  },
  {
   "cell_type": "code",
   "execution_count": 18,
   "metadata": {},
   "outputs": [],
   "source": [
    "def kFoldCV_tf_data_generator(df, labels, train_fraction):\n",
    "    num_folds = int(1.0 / (1.0 - train_fraction))\n",
    "    for train_indices, test_indices in _get_k_fold_CV_split_indices(df, labels, num_folds):\n",
    "        yield(_split_data_by_indices(train_indices, test_indices))"
   ]
  },
  {
   "cell_type": "markdown",
   "metadata": {},
   "source": [
    "### Hyper-Parameter Tuning\n",
    "Given a dataset, the respective labels, a function to split the data and another to calculate the number of steps, this function iterates over all the defined architectures in **INNER_LAYERS** and over all the **NUM_STEPS** and over all the  **TRAIN_FRACTIONS** and does the following:\n",
    " * Split the data accordingly\n",
    " * Train the model\n",
    " * Evaluate the model\n",
    " * Report the results\n",
    " \n",
    "This can be used for quick comparison of multiple combinations of architectures, number of steps and train fractions, essentially tuning **hyper-parameters**. More can hyper-parameters can be added if needed."
   ]
  },
  {
   "cell_type": "code",
   "execution_count": 19,
   "metadata": {},
   "outputs": [],
   "source": [
    "def run_model_iterations(df, labels, data_generator):\n",
    "    evaluations = []\n",
    "    for inner_architecture in INNER_LAYERS:\n",
    "        #drawNN([N_FEATURES] + inner_architecture + [NUM_CLASSES])\n",
    "        for num_steps in NUM_STEPS:\n",
    "            for train_fraction in TRAIN_FRACTIONS:\n",
    "                my_feature_columns = get_TF_feature_columns(df) # seems to need to generate one for each estimator\n",
    "                classifier = create_DNN(my_feature_columns, inner_architecture)\n",
    "                (train_x, numeric_train_y, test_x, numeric_test_y) = next(data_generator(df, labels, train_fraction))\n",
    "                train_model(classifier, train_x, numeric_train_y, num_steps)\n",
    "                eval_result = evaluate_model(classifier, test_x, numeric_test_y)\n",
    "                predictions = predict_model(classifier, test_x)\n",
    "                # evaluation results, only the results of the last evaluation and prediction done on estimator\n",
    "                evaluations.append({\"config\": (inner_architecture, train_fraction, num_steps), \"eval_result\" : eval_result, \"prediction\": (np.array(predictions), np.array(numeric_test_y))})\n",
    "    html(\"Model iterations complete\", \"h1\")\n",
    "    return evaluations # evaluations can have duplicate 'keys' if k-fold is used"
   ]
  },
  {
   "cell_type": "markdown",
   "metadata": {},
   "source": [
    "## Evaluation Metrics Used\n",
    "\n",
    "From the confusion matrix, we derive the number of **true positives** (`TP`), **false positives** (`FP`), **true negatives** (`TN`) and **false negatives** (`FN`).\n",
    "\n",
    "<img src=\"report_material/images/multiclass_confusion.png\" width=\"300px\" />\n",
    "<p style=\"text-align:center\">Image of a confusion matrix for a multiclass classification problem</p>\n",
    "\n",
    "$ precision = \\frac{ TP}{TP + FP} $\n",
    "\n",
    "$ recall  = \\frac{TP}{TP + FN} $\n",
    "\n",
    "$ accuracy = \\frac{TP + TN}{TP + FP + FN + TN} $\n",
    "\n",
    "$ F1-score = 2 \\cdot \\frac{precision\\cdot recall}{precision+ recall} $\n",
    "\n",
    "Further metrics such as **specificity**, **negative predictive value**, **false positive rate**, **false negative rate** and **false discovery rate** were also calculated, but were not considered when making model decisions"
   ]
  },
  {
   "cell_type": "code",
   "execution_count": 20,
   "metadata": {},
   "outputs": [],
   "source": [
    "# calculate metrics based on confusion matrix -> precision, recall, f1, ...\n",
    "def print_metrics(prediction, confusion_matrix):\n",
    "    predicted, actual = prediction\n",
    "    \n",
    "    # get values from confusion matrix for each class\n",
    "    FP = confusion_matrix.sum(axis=0) - np.diag(confusion_matrix) # false positives\n",
    "    FN = confusion_matrix.sum(axis=1) - np.diag(confusion_matrix) # false negatives\n",
    "    TP = np.diag(confusion_matrix)  # true positives\n",
    "    TN = confusion_matrix.sum() - (FP + FN + TP) # true negatives\n",
    "\n",
    "    # calculate metrics\n",
    "    TPR = TP/(TP+FN) # Recall, sensitivity, hit rate, or true positive rate\n",
    "    TNR = TN/(TN+FP) # Specificity or true negative rate\n",
    "    PPV = TP/(TP+FP) # Precision or positive predictive value\n",
    "    NPV = TN/(TN+FN) # Negative predictive value\n",
    "    FPR = FP/(FP+TN) # Fall out or false positive rate\n",
    "    FNR = FN/(TP+FN) # False negative rate\n",
    "    FDR = FP/(TP+FP) # False discovery rate\n",
    "    F1  =  2 * ((PPV * TPR) / (PPV + TPR)) # f1-score\n",
    "    ACC = (TP+TN)/(TP+FP+FN+TN) # accuracy\n",
    "    \n",
    "    #overall values in percentage\n",
    "    metrics = tuple(map(lambda v: np.nanmean(v) * 100, [ACC, PPV, TPR, F1]))\n",
    "    \n",
    "    # create the table with the statistics\n",
    "    header = tag(\"tr\", \"<th>Species</th><th>Accuracy</th> <th>Precision</th> <th>Recall</th> <th>F1-score</th>\")\n",
    "    body = \"\"\n",
    "    footer = tag(\"tr\", \"<th>Average</th><th>%.2f%%</th> <th>%.2f%%</th> <th>%.2f%%</th> <th>%.2f%%</th>\" % metrics)\n",
    "    for i in range(len(TP)):\n",
    "        body += tag(\"tr\", \"<td>%s</td><td>%.2f%%</td> <td>%.2f%%</td> <td>%.2f%%</td> <td>%.2f%%</td>\" % (i, ACC[i] * 100, PPV[i] * 100, TPR[i] * 100, F1[i] * 100))\n",
    "        \n",
    "    table = \"<table style='font-size:16px;margin-left:auto;margin-right:auto;'>%s%s%s</table>\" % (header, body, footer)\n",
    "    html(table)\n",
    "    return metrics"
   ]
  },
  {
   "cell_type": "code",
   "execution_count": 21,
   "metadata": {},
   "outputs": [],
   "source": [
    "# print a confusion matrix after a prediction\n",
    "def get_confusion_matrix(prediction):\n",
    "    predicted, actual = prediction\n",
    "    con_mat = tf.confusion_matrix(actual, predicted, num_classes=NUM_CLASSES)\n",
    "    with tf.Session():\n",
    "        return tf.Tensor.eval(con_mat,feed_dict=None, session=None)"
   ]
  },
  {
   "cell_type": "markdown",
   "metadata": {},
   "source": [
    "### Functions to display and describe the output of a model"
   ]
  },
  {
   "cell_type": "code",
   "execution_count": 22,
   "metadata": {},
   "outputs": [],
   "source": [
    "def print_configs(configs):\n",
    "    header = tag(\"tr\", \"<th>Hidden Layers</th><th>Training Fraction</th> <th>Number of Steps</th>\")\n",
    "    body = tag(\"tr\", \"<th>%s</th><th>%.0f%%</th><th>%s</th>\" % (configs[0], configs[1] * 100, configs[2]))\n",
    "    table = \"<table style='font-size:16px;margin-left:auto;margin-right:auto;text-align=center'>%s%s</table>\" % (header, body)\n",
    "    html(table)"
   ]
  },
  {
   "cell_type": "code",
   "execution_count": 23,
   "metadata": {
    "scrolled": false
   },
   "outputs": [],
   "source": [
    "def display_model_results(evaluations):\n",
    "    # show results, statistics\n",
    "    print('Num Results: %d' % len(evaluations))\n",
    "    chart_data = [] # data to create charts later\n",
    "    for i, e in enumerate(evaluations):\n",
    "        confusion_matrix = get_confusion_matrix(e[\"prediction\"])\n",
    "        html(\"<h2 style='text-align:center'>Iteration %d</h2>\" % (i+1))\n",
    "        \n",
    "        print_configs(e[\"config\"])\n",
    "        drawNN(e[\"config\"][0], (7,7))\n",
    "        \n",
    "        html(\"Confusion Matrix:\", \"h4\")\n",
    "        html(\"<br/>\")\n",
    "        print(confusion_matrix)\n",
    "        \n",
    "        metrics = print_metrics(e[\"prediction\"], confusion_matrix)\n",
    "        \n",
    "        html(\"<hr>\")\n",
    "        \n",
    "        chart_data.append((e[\"config\"], metrics)) # config, [ACC, PPV, TPR, F1]\n",
    "    display_model_comparison(chart_data)"
   ]
  },
  {
   "cell_type": "code",
   "execution_count": 24,
   "metadata": {
    "scrolled": false
   },
   "outputs": [],
   "source": [
    "# compare different architectures, train ratios and number of steps\n",
    "def display_model_comparison(chart_data):\n",
    "#     print(chart_data)\n",
    "#     plt.rcParams.update({'font.size': 16})\n",
    "    for percentage in TRAIN_FRACTIONS:\n",
    "        plt.figure(figsize=(20,10));\n",
    "        for layers in INNER_LAYERS:\n",
    "            x, y = [], []\n",
    "            for data in chart_data:\n",
    "                if data[0][0] == layers and data[0][1] == percentage:\n",
    "                    x.append(data[0][2])\n",
    "                    y.append(data[1][0])\n",
    "            plt.plot(x, y, '-', label=\"%s layers\" % layers)\n",
    "\n",
    "\n",
    "        for steps in NUM_STEPS:\n",
    "            y = []\n",
    "            for data in chart_data:\n",
    "                if data[0][2] == steps and data[0][1] == percentage:\n",
    "                    y.append(data[1][0])\n",
    "            plt.plot([steps] * len(y), y, 'x', label=\"%4d steps\"%steps, markersize=16)\n",
    "\n",
    "        plt.title('Evolution of Accuracy for a training fraction of %.f%%' % (percentage * 100))\n",
    "        plt.legend(loc='best')\n",
    "        plt.show()"
   ]
  },
  {
   "cell_type": "markdown",
   "metadata": {},
   "source": [
    "# Main"
   ]
  },
  {
   "cell_type": "markdown",
   "metadata": {},
   "source": [
    "### Loading Data"
   ]
  },
  {
   "cell_type": "code",
   "execution_count": 25,
   "metadata": {},
   "outputs": [
    {
     "name": "stdout",
     "output_type": "stream",
     "text": [
      "Got 7195 examples from the .csv\n"
     ]
    },
    {
     "data": {
      "text/html": [
       "<div>\n",
       "<style scoped>\n",
       "    .dataframe tbody tr th:only-of-type {\n",
       "        vertical-align: middle;\n",
       "    }\n",
       "\n",
       "    .dataframe tbody tr th {\n",
       "        vertical-align: top;\n",
       "    }\n",
       "\n",
       "    .dataframe thead th {\n",
       "        text-align: right;\n",
       "    }\n",
       "</style>\n",
       "<table border=\"1\" class=\"dataframe\">\n",
       "  <thead>\n",
       "    <tr style=\"text-align: right;\">\n",
       "      <th></th>\n",
       "      <th>MFCCs_1</th>\n",
       "      <th>MFCCs_2</th>\n",
       "      <th>MFCCs_3</th>\n",
       "      <th>MFCCs_4</th>\n",
       "      <th>MFCCs_5</th>\n",
       "      <th>MFCCs_6</th>\n",
       "      <th>MFCCs_7</th>\n",
       "      <th>MFCCs_8</th>\n",
       "      <th>MFCCs_9</th>\n",
       "      <th>MFCCs_10</th>\n",
       "      <th>...</th>\n",
       "      <th>MFCCs_17</th>\n",
       "      <th>MFCCs_18</th>\n",
       "      <th>MFCCs_19</th>\n",
       "      <th>MFCCs_20</th>\n",
       "      <th>MFCCs_21</th>\n",
       "      <th>MFCCs_22</th>\n",
       "      <th>Family</th>\n",
       "      <th>Genus</th>\n",
       "      <th>Species</th>\n",
       "      <th>RecordID</th>\n",
       "    </tr>\n",
       "  </thead>\n",
       "  <tbody>\n",
       "    <tr>\n",
       "      <th>0</th>\n",
       "      <td>1.0</td>\n",
       "      <td>0.152936</td>\n",
       "      <td>-0.105586</td>\n",
       "      <td>0.200722</td>\n",
       "      <td>0.317201</td>\n",
       "      <td>0.260764</td>\n",
       "      <td>0.100945</td>\n",
       "      <td>-0.150063</td>\n",
       "      <td>-0.171128</td>\n",
       "      <td>0.124676</td>\n",
       "      <td>...</td>\n",
       "      <td>-0.108351</td>\n",
       "      <td>-0.077623</td>\n",
       "      <td>-0.009568</td>\n",
       "      <td>0.057684</td>\n",
       "      <td>0.118680</td>\n",
       "      <td>0.014038</td>\n",
       "      <td>Leptodactylidae</td>\n",
       "      <td>Adenomera</td>\n",
       "      <td>AdenomeraAndre</td>\n",
       "      <td>1</td>\n",
       "    </tr>\n",
       "    <tr>\n",
       "      <th>1</th>\n",
       "      <td>1.0</td>\n",
       "      <td>0.171534</td>\n",
       "      <td>-0.098975</td>\n",
       "      <td>0.268425</td>\n",
       "      <td>0.338672</td>\n",
       "      <td>0.268353</td>\n",
       "      <td>0.060835</td>\n",
       "      <td>-0.222475</td>\n",
       "      <td>-0.207693</td>\n",
       "      <td>0.170883</td>\n",
       "      <td>...</td>\n",
       "      <td>-0.090974</td>\n",
       "      <td>-0.056510</td>\n",
       "      <td>-0.035303</td>\n",
       "      <td>0.020140</td>\n",
       "      <td>0.082263</td>\n",
       "      <td>0.029056</td>\n",
       "      <td>Leptodactylidae</td>\n",
       "      <td>Adenomera</td>\n",
       "      <td>AdenomeraAndre</td>\n",
       "      <td>1</td>\n",
       "    </tr>\n",
       "    <tr>\n",
       "      <th>2</th>\n",
       "      <td>1.0</td>\n",
       "      <td>0.152317</td>\n",
       "      <td>-0.082973</td>\n",
       "      <td>0.287128</td>\n",
       "      <td>0.276014</td>\n",
       "      <td>0.189867</td>\n",
       "      <td>0.008714</td>\n",
       "      <td>-0.242234</td>\n",
       "      <td>-0.219153</td>\n",
       "      <td>0.232538</td>\n",
       "      <td>...</td>\n",
       "      <td>-0.050691</td>\n",
       "      <td>-0.023590</td>\n",
       "      <td>-0.066722</td>\n",
       "      <td>-0.025083</td>\n",
       "      <td>0.099108</td>\n",
       "      <td>0.077162</td>\n",
       "      <td>Leptodactylidae</td>\n",
       "      <td>Adenomera</td>\n",
       "      <td>AdenomeraAndre</td>\n",
       "      <td>1</td>\n",
       "    </tr>\n",
       "    <tr>\n",
       "      <th>3</th>\n",
       "      <td>1.0</td>\n",
       "      <td>0.224392</td>\n",
       "      <td>0.118985</td>\n",
       "      <td>0.329432</td>\n",
       "      <td>0.372088</td>\n",
       "      <td>0.361005</td>\n",
       "      <td>0.015501</td>\n",
       "      <td>-0.194347</td>\n",
       "      <td>-0.098181</td>\n",
       "      <td>0.270375</td>\n",
       "      <td>...</td>\n",
       "      <td>-0.136009</td>\n",
       "      <td>-0.177037</td>\n",
       "      <td>-0.130498</td>\n",
       "      <td>-0.054766</td>\n",
       "      <td>-0.018691</td>\n",
       "      <td>0.023954</td>\n",
       "      <td>Leptodactylidae</td>\n",
       "      <td>Adenomera</td>\n",
       "      <td>AdenomeraAndre</td>\n",
       "      <td>1</td>\n",
       "    </tr>\n",
       "    <tr>\n",
       "      <th>4</th>\n",
       "      <td>1.0</td>\n",
       "      <td>0.087817</td>\n",
       "      <td>-0.068345</td>\n",
       "      <td>0.306967</td>\n",
       "      <td>0.330923</td>\n",
       "      <td>0.249144</td>\n",
       "      <td>0.006884</td>\n",
       "      <td>-0.265423</td>\n",
       "      <td>-0.172700</td>\n",
       "      <td>0.266434</td>\n",
       "      <td>...</td>\n",
       "      <td>-0.048885</td>\n",
       "      <td>-0.053074</td>\n",
       "      <td>-0.088550</td>\n",
       "      <td>-0.031346</td>\n",
       "      <td>0.108610</td>\n",
       "      <td>0.079244</td>\n",
       "      <td>Leptodactylidae</td>\n",
       "      <td>Adenomera</td>\n",
       "      <td>AdenomeraAndre</td>\n",
       "      <td>1</td>\n",
       "    </tr>\n",
       "  </tbody>\n",
       "</table>\n",
       "<p>5 rows × 26 columns</p>\n",
       "</div>"
      ],
      "text/plain": [
       "   MFCCs_1   MFCCs_2   MFCCs_3   MFCCs_4   MFCCs_5   MFCCs_6   MFCCs_7  \\\n",
       "0      1.0  0.152936 -0.105586  0.200722  0.317201  0.260764  0.100945   \n",
       "1      1.0  0.171534 -0.098975  0.268425  0.338672  0.268353  0.060835   \n",
       "2      1.0  0.152317 -0.082973  0.287128  0.276014  0.189867  0.008714   \n",
       "3      1.0  0.224392  0.118985  0.329432  0.372088  0.361005  0.015501   \n",
       "4      1.0  0.087817 -0.068345  0.306967  0.330923  0.249144  0.006884   \n",
       "\n",
       "    MFCCs_8   MFCCs_9  MFCCs_10    ...     MFCCs_17  MFCCs_18  MFCCs_19  \\\n",
       "0 -0.150063 -0.171128  0.124676    ...    -0.108351 -0.077623 -0.009568   \n",
       "1 -0.222475 -0.207693  0.170883    ...    -0.090974 -0.056510 -0.035303   \n",
       "2 -0.242234 -0.219153  0.232538    ...    -0.050691 -0.023590 -0.066722   \n",
       "3 -0.194347 -0.098181  0.270375    ...    -0.136009 -0.177037 -0.130498   \n",
       "4 -0.265423 -0.172700  0.266434    ...    -0.048885 -0.053074 -0.088550   \n",
       "\n",
       "   MFCCs_20  MFCCs_21  MFCCs_22           Family      Genus         Species  \\\n",
       "0  0.057684  0.118680  0.014038  Leptodactylidae  Adenomera  AdenomeraAndre   \n",
       "1  0.020140  0.082263  0.029056  Leptodactylidae  Adenomera  AdenomeraAndre   \n",
       "2 -0.025083  0.099108  0.077162  Leptodactylidae  Adenomera  AdenomeraAndre   \n",
       "3 -0.054766 -0.018691  0.023954  Leptodactylidae  Adenomera  AdenomeraAndre   \n",
       "4 -0.031346  0.108610  0.079244  Leptodactylidae  Adenomera  AdenomeraAndre   \n",
       "\n",
       "   RecordID  \n",
       "0         1  \n",
       "1         1  \n",
       "2         1  \n",
       "3         1  \n",
       "4         1  \n",
       "\n",
       "[5 rows x 26 columns]"
      ]
     },
     "execution_count": 25,
     "metadata": {},
     "output_type": "execute_result"
    }
   ],
   "source": [
    "# from csv to pandas Dataframe\n",
    "df = pd.read_csv(DATASET_PATH)\n",
    "df.columns = df.columns.str.replace(\" \", \"\") # remove whitespace, needed for TF\n",
    "\n",
    "print(\"Got %d examples from the .csv\" % df.shape[0])\n",
    "df.head()"
   ]
  },
  {
   "cell_type": "code",
   "execution_count": 26,
   "metadata": {},
   "outputs": [],
   "source": [
    "# get a mapping of all the labels in the Dataset into its integer values (required for Stratified Cross Validation)\n",
    "labels = _convert_labels_to_number(df.iloc[:,LABEL_INDEX:LABEL_INDEX+1].iloc[:,0])"
   ]
  },
  {
   "cell_type": "code",
   "execution_count": 27,
   "metadata": {},
   "outputs": [
    {
     "data": {
      "image/png": "[encoded data removed]",
      "text/plain": [
       "<Figure size 576x576 with 1 Axes>"
      ]
     },
     "metadata": {},
     "output_type": "display_data"
    }
   ],
   "source": [
    "# draw dataset distribution\n",
    "draw_species_distribution_chart(df)"
   ]
  },
  {
   "cell_type": "markdown",
   "metadata": {},
   "source": [
    "### Running iterations"
   ]
  },
  {
   "cell_type": "code",
   "execution_count": 28,
   "metadata": {},
   "outputs": [],
   "source": [
    "### Iterations\n",
    "\n",
    "# modify here to set model configurations\n",
    "INNER_LAYERS = [\n",
    "    [10],\n",
    "    [100],\n",
    "    [100, 50, 25],\n",
    "    [25, 50, 100],\n",
    "]\n",
    "\n",
    "TRAIN_FRACTIONS = [\n",
    "    0.8,\n",
    "]\n",
    "\n",
    "NUM_STEPS = [\n",
    "    1500,   \n",
    "]"
   ]
  },
  {
   "cell_type": "markdown",
   "metadata": {},
   "source": [
    "### Initial approach to dataset splitting\n",
    "Random split into train and test\n",
    "\n",
    "**Warning:** Depending on the complexity of the architecture and the number of steps in the training, this operation may take some time"
   ]
  },
  {
   "cell_type": "code",
   "execution_count": 29,
   "metadata": {},
   "outputs": [
    {
     "name": "stdout",
     "output_type": "stream",
     "text": [
      "INFO:tensorflow:Using default config.\n",
      "WARNING:tensorflow:Using temporary folder as model directory: C:\\Users\\Ross\\AppData\\Local\\Temp\\tmpyq4q4h_a\n",
      "INFO:tensorflow:Using config: {'_model_dir': 'C:\\\\Users\\\\Ross\\\\AppData\\\\Local\\\\Temp\\\\tmpyq4q4h_a', '_tf_random_seed': None, '_save_summary_steps': 100, '_save_checkpoints_steps': None, '_save_checkpoints_secs': 600, '_session_config': None, '_keep_checkpoint_max': 5, '_keep_checkpoint_every_n_hours': 10000, '_log_step_count_steps': 100, '_service': None, '_cluster_spec': <tensorflow.python.training.server_lib.ClusterSpec object at 0x0000021BFB151278>, '_task_type': 'worker', '_task_id': 0, '_global_id_in_cluster': 0, '_master': '', '_evaluation_master': '', '_is_chief': True, '_num_ps_replicas': 0, '_num_worker_replicas': 1}\n",
      "INFO:tensorflow:Calling model_fn.\n",
      "INFO:tensorflow:Done calling model_fn.\n",
      "INFO:tensorflow:Create CheckpointSaverHook.\n",
      "INFO:tensorflow:Graph was finalized.\n",
      "INFO:tensorflow:Running local_init_op.\n",
      "INFO:tensorflow:Done running local_init_op.\n",
      "INFO:tensorflow:Saving checkpoints for 1 into C:\\Users\\Ross\\AppData\\Local\\Temp\\tmpyq4q4h_a\\model.ckpt.\n",
      "INFO:tensorflow:loss = 211.78342, step = 0\n",
      "INFO:tensorflow:global_step/sec: 182.829\n",
      "INFO:tensorflow:loss = 41.054985, step = 100 (0.548 sec)\n",
      "INFO:tensorflow:global_step/sec: 224.478\n",
      "INFO:tensorflow:loss = 26.086777, step = 200 (0.445 sec)\n",
      "INFO:tensorflow:global_step/sec: 231.521\n",
      "INFO:tensorflow:loss = 22.687737, step = 300 (0.432 sec)\n",
      "INFO:tensorflow:global_step/sec: 203.885\n",
      "INFO:tensorflow:loss = 16.806639, step = 400 (0.490 sec)\n",
      "INFO:tensorflow:global_step/sec: 175.731\n",
      "INFO:tensorflow:loss = 17.81001, step = 500 (0.570 sec)\n",
      "INFO:tensorflow:global_step/sec: 189.011\n",
      "INFO:tensorflow:loss = 13.503644, step = 600 (0.528 sec)\n",
      "INFO:tensorflow:global_step/sec: 214.379\n",
      "INFO:tensorflow:loss = 28.208736, step = 700 (0.466 sec)\n",
      "INFO:tensorflow:global_step/sec: 243.998\n",
      "INFO:tensorflow:loss = 15.0431, step = 800 (0.410 sec)\n",
      "INFO:tensorflow:global_step/sec: 219.071\n",
      "INFO:tensorflow:loss = 38.890488, step = 900 (0.456 sec)\n",
      "INFO:tensorflow:global_step/sec: 206.455\n",
      "INFO:tensorflow:loss = 18.333796, step = 1000 (0.485 sec)\n",
      "INFO:tensorflow:global_step/sec: 207.047\n",
      "INFO:tensorflow:loss = 16.918036, step = 1100 (0.482 sec)\n",
      "INFO:tensorflow:global_step/sec: 250.956\n",
      "INFO:tensorflow:loss = 20.920826, step = 1200 (0.398 sec)\n",
      "INFO:tensorflow:global_step/sec: 237.633\n",
      "INFO:tensorflow:loss = 13.993157, step = 1300 (0.421 sec)\n",
      "INFO:tensorflow:global_step/sec: 239.554\n",
      "INFO:tensorflow:loss = 19.379732, step = 1400 (0.418 sec)\n",
      "INFO:tensorflow:Saving checkpoints for 1500 into C:\\Users\\Ross\\AppData\\Local\\Temp\\tmpyq4q4h_a\\model.ckpt.\n",
      "INFO:tensorflow:Loss for final step: 17.974302.\n",
      "INFO:tensorflow:Calling model_fn.\n",
      "INFO:tensorflow:Done calling model_fn.\n",
      "INFO:tensorflow:Starting evaluation at 2018-05-20-16:08:54\n",
      "INFO:tensorflow:Graph was finalized.\n",
      "INFO:tensorflow:Restoring parameters from C:\\Users\\Ross\\AppData\\Local\\Temp\\tmpyq4q4h_a\\model.ckpt-1500\n",
      "INFO:tensorflow:Running local_init_op.\n",
      "INFO:tensorflow:Done running local_init_op.\n",
      "INFO:tensorflow:Finished evaluation at 2018-05-20-16:08:55\n",
      "INFO:tensorflow:Saving dict for global step 1500: accuracy = 0.9562196, average_loss = 0.15621762, global_step = 1500, loss = 14.986477\n",
      "INFO:tensorflow:Calling model_fn.\n",
      "INFO:tensorflow:Done calling model_fn.\n",
      "INFO:tensorflow:Graph was finalized.\n",
      "INFO:tensorflow:Restoring parameters from C:\\Users\\Ross\\AppData\\Local\\Temp\\tmpyq4q4h_a\\model.ckpt-1500\n",
      "INFO:tensorflow:Running local_init_op.\n",
      "INFO:tensorflow:Done running local_init_op.\n",
      "INFO:tensorflow:Using default config.\n",
      "WARNING:tensorflow:Using temporary folder as model directory: C:\\Users\\Ross\\AppData\\Local\\Temp\\tmpcn9g42yx\n",
      "INFO:tensorflow:Using config: {'_model_dir': 'C:\\\\Users\\\\Ross\\\\AppData\\\\Local\\\\Temp\\\\tmpcn9g42yx', '_tf_random_seed': None, '_save_summary_steps': 100, '_save_checkpoints_steps': None, '_save_checkpoints_secs': 600, '_session_config': None, '_keep_checkpoint_max': 5, '_keep_checkpoint_every_n_hours': 10000, '_log_step_count_steps': 100, '_service': None, '_cluster_spec': <tensorflow.python.training.server_lib.ClusterSpec object at 0x0000021BE45B8FD0>, '_task_type': 'worker', '_task_id': 0, '_global_id_in_cluster': 0, '_master': '', '_evaluation_master': '', '_is_chief': True, '_num_ps_replicas': 0, '_num_worker_replicas': 1}\n",
      "INFO:tensorflow:Calling model_fn.\n",
      "INFO:tensorflow:Done calling model_fn.\n",
      "INFO:tensorflow:Create CheckpointSaverHook.\n",
      "INFO:tensorflow:Graph was finalized.\n",
      "INFO:tensorflow:Running local_init_op.\n",
      "INFO:tensorflow:Done running local_init_op.\n",
      "INFO:tensorflow:Saving checkpoints for 1 into C:\\Users\\Ross\\AppData\\Local\\Temp\\tmpcn9g42yx\\model.ckpt.\n",
      "INFO:tensorflow:loss = 233.35233, step = 0\n",
      "INFO:tensorflow:global_step/sec: 195.439\n",
      "INFO:tensorflow:loss = 33.377552, step = 100 (0.513 sec)\n",
      "INFO:tensorflow:global_step/sec: 230.458\n",
      "INFO:tensorflow:loss = 19.922749, step = 200 (0.434 sec)\n",
      "INFO:tensorflow:global_step/sec: 212.103\n",
      "INFO:tensorflow:loss = 11.330401, step = 300 (0.471 sec)\n",
      "INFO:tensorflow:global_step/sec: 257.367\n",
      "INFO:tensorflow:loss = 7.0298986, step = 400 (0.389 sec)\n",
      "INFO:tensorflow:global_step/sec: 223.458\n",
      "INFO:tensorflow:loss = 15.133094, step = 500 (0.448 sec)\n",
      "INFO:tensorflow:global_step/sec: 224.934\n",
      "INFO:tensorflow:loss = 8.44878, step = 600 (0.445 sec)\n",
      "INFO:tensorflow:global_step/sec: 231.703\n",
      "INFO:tensorflow:loss = 7.0325375, step = 700 (0.431 sec)\n",
      "INFO:tensorflow:global_step/sec: 254.564\n",
      "INFO:tensorflow:loss = 6.7626133, step = 800 (0.392 sec)\n",
      "INFO:tensorflow:global_step/sec: 231.486\n",
      "INFO:tensorflow:loss = 7.149209, step = 900 (0.432 sec)\n",
      "INFO:tensorflow:global_step/sec: 224.502\n",
      "INFO:tensorflow:loss = 8.036506, step = 1000 (0.445 sec)\n",
      "INFO:tensorflow:global_step/sec: 227.412\n",
      "INFO:tensorflow:loss = 3.0458033, step = 1100 (0.440 sec)\n",
      "INFO:tensorflow:global_step/sec: 237.274\n",
      "INFO:tensorflow:loss = 14.461018, step = 1200 (0.422 sec)\n",
      "INFO:tensorflow:global_step/sec: 216.457\n",
      "INFO:tensorflow:loss = 2.0334272, step = 1300 (0.461 sec)\n",
      "INFO:tensorflow:global_step/sec: 166.307\n",
      "INFO:tensorflow:loss = 9.2145195, step = 1400 (0.602 sec)\n",
      "INFO:tensorflow:Saving checkpoints for 1500 into C:\\Users\\Ross\\AppData\\Local\\Temp\\tmpcn9g42yx\\model.ckpt.\n",
      "INFO:tensorflow:Loss for final step: 7.021987.\n",
      "INFO:tensorflow:Calling model_fn.\n",
      "INFO:tensorflow:Done calling model_fn.\n",
      "INFO:tensorflow:Starting evaluation at 2018-05-20-16:09:04\n",
      "INFO:tensorflow:Graph was finalized.\n",
      "INFO:tensorflow:Restoring parameters from C:\\Users\\Ross\\AppData\\Local\\Temp\\tmpcn9g42yx\\model.ckpt-1500\n",
      "INFO:tensorflow:Running local_init_op.\n",
      "INFO:tensorflow:Done running local_init_op.\n",
      "INFO:tensorflow:Finished evaluation at 2018-05-20-16:09:04\n",
      "INFO:tensorflow:Saving dict for global step 1500: accuracy = 0.9791522, average_loss = 0.07859107, global_step = 1500, loss = 7.5395036\n",
      "INFO:tensorflow:Calling model_fn.\n",
      "INFO:tensorflow:Done calling model_fn.\n",
      "INFO:tensorflow:Graph was finalized.\n",
      "INFO:tensorflow:Restoring parameters from C:\\Users\\Ross\\AppData\\Local\\Temp\\tmpcn9g42yx\\model.ckpt-1500\n",
      "INFO:tensorflow:Running local_init_op.\n",
      "INFO:tensorflow:Done running local_init_op.\n",
      "INFO:tensorflow:Using default config.\n",
      "WARNING:tensorflow:Using temporary folder as model directory: C:\\Users\\Ross\\AppData\\Local\\Temp\\tmp4tu33pwh\n",
      "INFO:tensorflow:Using config: {'_model_dir': 'C:\\\\Users\\\\Ross\\\\AppData\\\\Local\\\\Temp\\\\tmp4tu33pwh', '_tf_random_seed': None, '_save_summary_steps': 100, '_save_checkpoints_steps': None, '_save_checkpoints_secs': 600, '_session_config': None, '_keep_checkpoint_max': 5, '_keep_checkpoint_every_n_hours': 10000, '_log_step_count_steps': 100, '_service': None, '_cluster_spec': <tensorflow.python.training.server_lib.ClusterSpec object at 0x0000021BFB659748>, '_task_type': 'worker', '_task_id': 0, '_global_id_in_cluster': 0, '_master': '', '_evaluation_master': '', '_is_chief': True, '_num_ps_replicas': 0, '_num_worker_replicas': 1}\n",
      "INFO:tensorflow:Calling model_fn.\n",
      "INFO:tensorflow:Done calling model_fn.\n",
      "INFO:tensorflow:Create CheckpointSaverHook.\n",
      "INFO:tensorflow:Graph was finalized.\n",
      "INFO:tensorflow:Running local_init_op.\n",
      "INFO:tensorflow:Done running local_init_op.\n",
      "INFO:tensorflow:Saving checkpoints for 1 into C:\\Users\\Ross\\AppData\\Local\\Temp\\tmp4tu33pwh\\model.ckpt.\n",
      "INFO:tensorflow:loss = 230.9633, step = 0\n"
     ]
    },
    {
     "name": "stdout",
     "output_type": "stream",
     "text": [
      "INFO:tensorflow:global_step/sec: 193.601\n",
      "INFO:tensorflow:loss = 24.192385, step = 100 (0.518 sec)\n",
      "INFO:tensorflow:global_step/sec: 221.989\n",
      "INFO:tensorflow:loss = 11.147509, step = 200 (0.451 sec)\n",
      "INFO:tensorflow:global_step/sec: 216.009\n",
      "INFO:tensorflow:loss = 14.426526, step = 300 (0.462 sec)\n",
      "INFO:tensorflow:global_step/sec: 243.95\n",
      "INFO:tensorflow:loss = 2.4149, step = 400 (0.410 sec)\n",
      "INFO:tensorflow:global_step/sec: 212.315\n",
      "INFO:tensorflow:loss = 9.628031, step = 500 (0.471 sec)\n",
      "INFO:tensorflow:global_step/sec: 202.241\n",
      "INFO:tensorflow:loss = 2.7845035, step = 600 (0.493 sec)\n",
      "INFO:tensorflow:global_step/sec: 207.438\n",
      "INFO:tensorflow:loss = 7.8010707, step = 700 (0.482 sec)\n",
      "INFO:tensorflow:global_step/sec: 226.76\n",
      "INFO:tensorflow:loss = 5.8145123, step = 800 (0.441 sec)\n",
      "INFO:tensorflow:global_step/sec: 210.041\n",
      "INFO:tensorflow:loss = 3.7138448, step = 900 (0.476 sec)\n",
      "INFO:tensorflow:global_step/sec: 215.4\n",
      "INFO:tensorflow:loss = 1.7777642, step = 1000 (0.464 sec)\n",
      "INFO:tensorflow:global_step/sec: 217.632\n",
      "INFO:tensorflow:loss = 1.8656552, step = 1100 (0.459 sec)\n",
      "INFO:tensorflow:global_step/sec: 233.127\n",
      "INFO:tensorflow:loss = 0.94705516, step = 1200 (0.429 sec)\n",
      "INFO:tensorflow:global_step/sec: 217.758\n",
      "INFO:tensorflow:loss = 0.8394455, step = 1300 (0.459 sec)\n",
      "INFO:tensorflow:global_step/sec: 216.202\n",
      "INFO:tensorflow:loss = 4.1581306, step = 1400 (0.462 sec)\n",
      "INFO:tensorflow:Saving checkpoints for 1500 into C:\\Users\\Ross\\AppData\\Local\\Temp\\tmp4tu33pwh\\model.ckpt.\n",
      "INFO:tensorflow:Loss for final step: 0.5541498.\n",
      "INFO:tensorflow:Calling model_fn.\n",
      "INFO:tensorflow:Done calling model_fn.\n",
      "INFO:tensorflow:Starting evaluation at 2018-05-20-16:09:14\n",
      "INFO:tensorflow:Graph was finalized.\n",
      "INFO:tensorflow:Restoring parameters from C:\\Users\\Ross\\AppData\\Local\\Temp\\tmp4tu33pwh\\model.ckpt-1500\n",
      "INFO:tensorflow:Running local_init_op.\n",
      "INFO:tensorflow:Done running local_init_op.\n",
      "INFO:tensorflow:Finished evaluation at 2018-05-20-16:09:15\n",
      "INFO:tensorflow:Saving dict for global step 1500: accuracy = 0.8776928, average_loss = 1.2910994, global_step = 1500, loss = 123.859474\n",
      "INFO:tensorflow:Calling model_fn.\n",
      "INFO:tensorflow:Done calling model_fn.\n",
      "INFO:tensorflow:Graph was finalized.\n",
      "INFO:tensorflow:Restoring parameters from C:\\Users\\Ross\\AppData\\Local\\Temp\\tmp4tu33pwh\\model.ckpt-1500\n",
      "INFO:tensorflow:Running local_init_op.\n",
      "INFO:tensorflow:Done running local_init_op.\n",
      "INFO:tensorflow:Using default config.\n",
      "WARNING:tensorflow:Using temporary folder as model directory: C:\\Users\\Ross\\AppData\\Local\\Temp\\tmpn86gb135\n",
      "INFO:tensorflow:Using config: {'_model_dir': 'C:\\\\Users\\\\Ross\\\\AppData\\\\Local\\\\Temp\\\\tmpn86gb135', '_tf_random_seed': None, '_save_summary_steps': 100, '_save_checkpoints_steps': None, '_save_checkpoints_secs': 600, '_session_config': None, '_keep_checkpoint_max': 5, '_keep_checkpoint_every_n_hours': 10000, '_log_step_count_steps': 100, '_service': None, '_cluster_spec': <tensorflow.python.training.server_lib.ClusterSpec object at 0x0000021B8D71BEB8>, '_task_type': 'worker', '_task_id': 0, '_global_id_in_cluster': 0, '_master': '', '_evaluation_master': '', '_is_chief': True, '_num_ps_replicas': 0, '_num_worker_replicas': 1}\n",
      "INFO:tensorflow:Calling model_fn.\n",
      "INFO:tensorflow:Done calling model_fn.\n",
      "INFO:tensorflow:Create CheckpointSaverHook.\n",
      "INFO:tensorflow:Graph was finalized.\n",
      "INFO:tensorflow:Running local_init_op.\n",
      "INFO:tensorflow:Done running local_init_op.\n",
      "INFO:tensorflow:Saving checkpoints for 1 into C:\\Users\\Ross\\AppData\\Local\\Temp\\tmpn86gb135\\model.ckpt.\n",
      "INFO:tensorflow:loss = 232.56224, step = 0\n",
      "INFO:tensorflow:global_step/sec: 180.14\n",
      "INFO:tensorflow:loss = 12.724023, step = 100 (0.558 sec)\n",
      "INFO:tensorflow:global_step/sec: 213.919\n",
      "INFO:tensorflow:loss = 20.762424, step = 200 (0.466 sec)\n",
      "INFO:tensorflow:global_step/sec: 219.563\n",
      "INFO:tensorflow:loss = 2.888527, step = 300 (0.455 sec)\n",
      "INFO:tensorflow:global_step/sec: 244.523\n",
      "INFO:tensorflow:loss = 6.3175635, step = 400 (0.408 sec)\n",
      "INFO:tensorflow:global_step/sec: 183.489\n",
      "INFO:tensorflow:loss = 8.740785, step = 500 (0.549 sec)\n",
      "INFO:tensorflow:global_step/sec: 133.511\n",
      "INFO:tensorflow:loss = 6.0832653, step = 600 (0.746 sec)\n",
      "INFO:tensorflow:global_step/sec: 209.172\n",
      "INFO:tensorflow:loss = 3.867923, step = 700 (0.479 sec)\n",
      "INFO:tensorflow:global_step/sec: 232.656\n",
      "INFO:tensorflow:loss = 3.7039986, step = 800 (0.430 sec)\n",
      "INFO:tensorflow:global_step/sec: 189.505\n",
      "INFO:tensorflow:loss = 1.7579093, step = 900 (0.527 sec)\n",
      "INFO:tensorflow:global_step/sec: 215.761\n",
      "INFO:tensorflow:loss = 1.617475, step = 1000 (0.463 sec)\n",
      "INFO:tensorflow:global_step/sec: 215.986\n",
      "INFO:tensorflow:loss = 3.5003016, step = 1100 (0.463 sec)\n",
      "INFO:tensorflow:global_step/sec: 236.752\n",
      "INFO:tensorflow:loss = 8.818019, step = 1200 (0.422 sec)\n",
      "INFO:tensorflow:global_step/sec: 216.492\n",
      "INFO:tensorflow:loss = 1.141342, step = 1300 (0.462 sec)\n",
      "INFO:tensorflow:global_step/sec: 213.363\n",
      "INFO:tensorflow:loss = 0.96639127, step = 1400 (0.469 sec)\n",
      "INFO:tensorflow:Saving checkpoints for 1500 into C:\\Users\\Ross\\AppData\\Local\\Temp\\tmpn86gb135\\model.ckpt.\n",
      "INFO:tensorflow:Loss for final step: 2.2316785.\n",
      "INFO:tensorflow:Calling model_fn.\n",
      "INFO:tensorflow:Done calling model_fn.\n",
      "INFO:tensorflow:Starting evaluation at 2018-05-20-16:09:25\n",
      "INFO:tensorflow:Graph was finalized.\n",
      "INFO:tensorflow:Restoring parameters from C:\\Users\\Ross\\AppData\\Local\\Temp\\tmpn86gb135\\model.ckpt-1500\n",
      "INFO:tensorflow:Running local_init_op.\n",
      "INFO:tensorflow:Done running local_init_op.\n",
      "INFO:tensorflow:Finished evaluation at 2018-05-20-16:09:25\n",
      "INFO:tensorflow:Saving dict for global step 1500: accuracy = 0.97984713, average_loss = 0.062193524, global_step = 1500, loss = 5.966432\n",
      "INFO:tensorflow:Calling model_fn.\n",
      "INFO:tensorflow:Done calling model_fn.\n",
      "INFO:tensorflow:Graph was finalized.\n",
      "INFO:tensorflow:Restoring parameters from C:\\Users\\Ross\\AppData\\Local\\Temp\\tmpn86gb135\\model.ckpt-1500\n",
      "INFO:tensorflow:Running local_init_op.\n",
      "INFO:tensorflow:Done running local_init_op.\n"
     ]
    },
    {
     "data": {
      "text/html": [
       "<h1>Model iterations complete</h1>"
      ]
     },
     "metadata": {},
     "output_type": "display_data"
    }
   ],
   "source": [
    "# this may take a while\n",
    "evaluations = run_model_iterations(df, labels, simple_data_split_generator)    "
   ]
  },
  {
   "cell_type": "code",
   "execution_count": 30,
   "metadata": {
    "scrolled": false
   },
   "outputs": [
    {
     "name": "stdout",
     "output_type": "stream",
     "text": [
      "Num Results: 4\n"
     ]
    },
    {
     "data": {
      "text/html": [
       "<h2 style='text-align:center'>Iteration 1</h2>"
      ]
     },
     "metadata": {},
     "output_type": "display_data"
    },
    {
     "data": {
      "text/html": [
       "<table style='font-size:16px;margin-left:auto;margin-right:auto;text-align=center'><tr><th>Hidden Layers</th><th>Training Fraction</th> <th>Number of Steps</th></tr><tr><th>[10]</th><th>80%</th><th>1500</th></tr></table>"
      ]
     },
     "metadata": {},
     "output_type": "display_data"
    },
    {
     "data": {
      "image/png": "[encoded data removed]",
      "text/plain": [
       "<Figure size 504x504 with 1 Axes>"
      ]
     },
     "metadata": {},
     "output_type": "display_data"
    },
    {
     "data": {
      "text/html": [
       "<h4>Confusion Matrix:</h4>"
      ]
     },
     "metadata": {},
     "output_type": "display_data"
    },
    {
     "data": {
      "text/html": [
       "<br/>"
      ]
     },
     "metadata": {},
     "output_type": "display_data"
    },
    {
     "name": "stdout",
     "output_type": "stream",
     "text": [
      "[[ 40   1   2   2   1   0   0   0   0   0]\n",
      " [  1  92   0   0   0   0   0   5   0   0]\n",
      " [  0   2 115   1   0   5   0   0   0   0]\n",
      " [  0   0   5  50   1   3   0   0   6   0]\n",
      " [  2   2   0   1 235   0   1   2   0   0]\n",
      " [  0   0   3   5   0 103   0   0   0   0]\n",
      " [  0   1   0   0   1   0  18   1   0   0]\n",
      " [  0   0   1   0   4   0   0  14   0   0]\n",
      " [  0   0   0   0   1   0   1   0 695   0]\n",
      " [  0   0   1   0   0   0   1   0   0  14]]\n"
     ]
    },
    {
     "data": {
      "text/html": [
       "<table style='font-size:16px;margin-left:auto;margin-right:auto;'><tr><th>Species</th><th>Accuracy</th> <th>Precision</th> <th>Recall</th> <th>F1-score</th></tr><tr><td>0</td><td>99.37%</td> <td>93.02%</td> <td>86.96%</td> <td>89.89%</td></tr><tr><td>1</td><td>99.17%</td> <td>93.88%</td> <td>93.88%</td> <td>93.88%</td></tr><tr><td>2</td><td>98.61%</td> <td>90.55%</td> <td>93.50%</td> <td>92.00%</td></tr><tr><td>3</td><td>98.33%</td> <td>84.75%</td> <td>76.92%</td> <td>80.65%</td></tr><tr><td>4</td><td>98.89%</td> <td>96.71%</td> <td>96.71%</td> <td>96.71%</td></tr><tr><td>5</td><td>98.89%</td> <td>92.79%</td> <td>92.79%</td> <td>92.79%</td></tr><tr><td>6</td><td>99.58%</td> <td>85.71%</td> <td>85.71%</td> <td>85.71%</td></tr><tr><td>7</td><td>99.10%</td> <td>63.64%</td> <td>73.68%</td> <td>68.29%</td></tr><tr><td>8</td><td>99.44%</td> <td>99.14%</td> <td>99.71%</td> <td>99.43%</td></tr><tr><td>9</td><td>99.86%</td> <td>100.00%</td> <td>87.50%</td> <td>93.33%</td></tr><tr><th>Average</th><th>99.12%</th> <th>90.02%</th> <th>88.74%</th> <th>89.27%</th></tr></table>"
      ]
     },
     "metadata": {},
     "output_type": "display_data"
    },
    {
     "data": {
      "text/html": [
       "<hr>"
      ]
     },
     "metadata": {},
     "output_type": "display_data"
    },
    {
     "data": {
      "text/html": [
       "<h2 style='text-align:center'>Iteration 2</h2>"
      ]
     },
     "metadata": {},
     "output_type": "display_data"
    },
    {
     "data": {
      "text/html": [
       "<table style='font-size:16px;margin-left:auto;margin-right:auto;text-align=center'><tr><th>Hidden Layers</th><th>Training Fraction</th> <th>Number of Steps</th></tr><tr><th>[100]</th><th>80%</th><th>1500</th></tr></table>"
      ]
     },
     "metadata": {},
     "output_type": "display_data"
    },
    {
     "data": {
      "image/png": "[encoded data removed]",
      "text/plain": [
       "<Figure size 504x504 with 1 Axes>"
      ]
     },
     "metadata": {},
     "output_type": "display_data"
    },
    {
     "data": {
      "text/html": [
       "<h4>Confusion Matrix:</h4>"
      ]
     },
     "metadata": {},
     "output_type": "display_data"
    },
    {
     "data": {
      "text/html": [
       "<br/>"
      ]
     },
     "metadata": {},
     "output_type": "display_data"
    },
    {
     "name": "stdout",
     "output_type": "stream",
     "text": [
      "[[ 50   0   0   1   0   0   0   0   1   0]\n",
      " [  0  90   0   0   0   0   0   2   0   0]\n",
      " [  0   0 140   0   0   2   0   0   0   0]\n",
      " [  0   0   5  49   0   0   0   0   8   0]\n",
      " [  0   0   0   0 215   0   0   0   0   0]\n",
      " [  0   0   0   3   0  93   0   0   0   0]\n",
      " [  0   0   0   0   0   0  32   0   0   0]\n",
      " [  0   2   0   0   2   0   0  22   0   1]\n",
      " [  0   0   0   0   2   0   0   0 710   1]\n",
      " [  0   0   0   0   0   0   0   0   0   8]]\n"
     ]
    },
    {
     "data": {
      "text/html": [
       "<table style='font-size:16px;margin-left:auto;margin-right:auto;'><tr><th>Species</th><th>Accuracy</th> <th>Precision</th> <th>Recall</th> <th>F1-score</th></tr><tr><td>0</td><td>99.86%</td> <td>100.00%</td> <td>96.15%</td> <td>98.04%</td></tr><tr><td>1</td><td>99.72%</td> <td>97.83%</td> <td>97.83%</td> <td>97.83%</td></tr><tr><td>2</td><td>99.51%</td> <td>96.55%</td> <td>98.59%</td> <td>97.56%</td></tr><tr><td>3</td><td>98.82%</td> <td>92.45%</td> <td>79.03%</td> <td>85.22%</td></tr><tr><td>4</td><td>99.72%</td> <td>98.17%</td> <td>100.00%</td> <td>99.08%</td></tr><tr><td>5</td><td>99.65%</td> <td>97.89%</td> <td>96.88%</td> <td>97.38%</td></tr><tr><td>6</td><td>100.00%</td> <td>100.00%</td> <td>100.00%</td> <td>100.00%</td></tr><tr><td>7</td><td>99.51%</td> <td>91.67%</td> <td>81.48%</td> <td>86.27%</td></tr><tr><td>8</td><td>99.17%</td> <td>98.75%</td> <td>99.58%</td> <td>99.16%</td></tr><tr><td>9</td><td>99.86%</td> <td>80.00%</td> <td>100.00%</td> <td>88.89%</td></tr><tr><th>Average</th><th>99.58%</th> <th>95.33%</th> <th>94.95%</th> <th>94.94%</th></tr></table>"
      ]
     },
     "metadata": {},
     "output_type": "display_data"
    },
    {
     "data": {
      "text/html": [
       "<hr>"
      ]
     },
     "metadata": {},
     "output_type": "display_data"
    },
    {
     "data": {
      "text/html": [
       "<h2 style='text-align:center'>Iteration 3</h2>"
      ]
     },
     "metadata": {},
     "output_type": "display_data"
    },
    {
     "data": {
      "text/html": [
       "<table style='font-size:16px;margin-left:auto;margin-right:auto;text-align=center'><tr><th>Hidden Layers</th><th>Training Fraction</th> <th>Number of Steps</th></tr><tr><th>[100, 50, 25]</th><th>80%</th><th>1500</th></tr></table>"
      ]
     },
     "metadata": {},
     "output_type": "display_data"
    },
    {
     "data": {
      "image/png": "[encoded data removed]",
      "text/plain": [
       "<Figure size 504x504 with 1 Axes>"
      ]
     },
     "metadata": {},
     "output_type": "display_data"
    },
    {
     "data": {
      "text/html": [
       "<h4>Confusion Matrix:</h4>"
      ]
     },
     "metadata": {},
     "output_type": "display_data"
    },
    {
     "data": {
      "text/html": [
       "<br/>"
      ]
     },
     "metadata": {},
     "output_type": "display_data"
    },
    {
     "name": "stdout",
     "output_type": "stream",
     "text": [
      "[[ 53   1   0   0   1   0   0   0   0   1]\n",
      " [  0  93   0   0   1   0   0   1   0   0]\n",
      " [  0   1 130   2   0   0   0   0   0   0]\n",
      " [  0   0   2  43   0   0   2   0   4   0]\n",
      " [  0   0   0   0 236   2   0   0   1   0]\n",
      " [  0   0   0   1   0   1 126   0   0   0]\n",
      " [  0   0   0   0   0  25   0   0   0   0]\n",
      " [  0   3   0   0   0   0   0  20   0   0]\n",
      " [  0   0   0   0   0   0   0   0 672   0]\n",
      " [  1   0   0   0   0   1   0   0   0  15]]\n"
     ]
    },
    {
     "data": {
      "text/html": [
       "<table style='font-size:16px;margin-left:auto;margin-right:auto;'><tr><th>Species</th><th>Accuracy</th> <th>Precision</th> <th>Recall</th> <th>F1-score</th></tr><tr><td>0</td><td>99.72%</td> <td>98.15%</td> <td>94.64%</td> <td>96.36%</td></tr><tr><td>1</td><td>99.51%</td> <td>94.90%</td> <td>97.89%</td> <td>96.37%</td></tr><tr><td>2</td><td>99.65%</td> <td>98.48%</td> <td>97.74%</td> <td>98.11%</td></tr><tr><td>3</td><td>99.24%</td> <td>93.48%</td> <td>84.31%</td> <td>88.66%</td></tr><tr><td>4</td><td>99.65%</td> <td>99.16%</td> <td>98.74%</td> <td>98.95%</td></tr><tr><td>5</td><td>89.23%</td> <td>3.45%</td> <td>0.78%</td> <td>1.27%</td></tr><tr><td>6</td><td>89.37%</td> <td>0.00%</td> <td>0.00%</td> <td>nan%</td></tr><tr><td>7</td><td>99.72%</td> <td>95.24%</td> <td>86.96%</td> <td>90.91%</td></tr><tr><td>8</td><td>99.65%</td> <td>99.26%</td> <td>100.00%</td> <td>99.63%</td></tr><tr><td>9</td><td>99.79%</td> <td>93.75%</td> <td>88.24%</td> <td>90.91%</td></tr><tr><th>Average</th><th>97.55%</th> <th>77.59%</th> <th>74.93%</th> <th>84.58%</th></tr></table>"
      ]
     },
     "metadata": {},
     "output_type": "display_data"
    },
    {
     "data": {
      "text/html": [
       "<hr>"
      ]
     },
     "metadata": {},
     "output_type": "display_data"
    },
    {
     "data": {
      "text/html": [
       "<h2 style='text-align:center'>Iteration 4</h2>"
      ]
     },
     "metadata": {},
     "output_type": "display_data"
    },
    {
     "data": {
      "text/html": [
       "<table style='font-size:16px;margin-left:auto;margin-right:auto;text-align=center'><tr><th>Hidden Layers</th><th>Training Fraction</th> <th>Number of Steps</th></tr><tr><th>[25, 50, 100]</th><th>80%</th><th>1500</th></tr></table>"
      ]
     },
     "metadata": {},
     "output_type": "display_data"
    },
    {
     "data": {
      "image/png": "[encoded data removed]",
      "text/plain": [
       "<Figure size 504x504 with 1 Axes>"
      ]
     },
     "metadata": {},
     "output_type": "display_data"
    },
    {
     "data": {
      "text/html": [
       "<h4>Confusion Matrix:</h4>"
      ]
     },
     "metadata": {},
     "output_type": "display_data"
    },
    {
     "data": {
      "text/html": [
       "<br/>"
      ]
     },
     "metadata": {},
     "output_type": "display_data"
    },
    {
     "name": "stdout",
     "output_type": "stream",
     "text": [
      "[[ 49   0   0   0   3   0   0   0   0   0]\n",
      " [  0  87   0   0   1   0   0   1   0   0]\n",
      " [  0   0 129   3   0   0   0   1   0   0]\n",
      " [  0   0   3  66   0   0   0   0   3   0]\n",
      " [  2   0   0   0 220   0   0   0   0   0]\n",
      " [  0   0   1   1   0  96   0   0   0   0]\n",
      " [  0   0   0   1   1   0  25   0   0   3]\n",
      " [  0   3   0   0   0   0   0  17   0   0]\n",
      " [  0   0   0   1   0   0   0   0 707   0]\n",
      " [  0   0   0   0   0   0   0   0   1  14]]\n"
     ]
    },
    {
     "data": {
      "text/html": [
       "<table style='font-size:16px;margin-left:auto;margin-right:auto;'><tr><th>Species</th><th>Accuracy</th> <th>Precision</th> <th>Recall</th> <th>F1-score</th></tr><tr><td>0</td><td>99.65%</td> <td>96.08%</td> <td>94.23%</td> <td>95.15%</td></tr><tr><td>1</td><td>99.65%</td> <td>96.67%</td> <td>97.75%</td> <td>97.21%</td></tr><tr><td>2</td><td>99.44%</td> <td>96.99%</td> <td>96.99%</td> <td>96.99%</td></tr><tr><td>3</td><td>99.17%</td> <td>91.67%</td> <td>91.67%</td> <td>91.67%</td></tr><tr><td>4</td><td>99.51%</td> <td>97.78%</td> <td>99.10%</td> <td>98.43%</td></tr><tr><td>5</td><td>99.86%</td> <td>100.00%</td> <td>97.96%</td> <td>98.97%</td></tr><tr><td>6</td><td>99.65%</td> <td>100.00%</td> <td>83.33%</td> <td>90.91%</td></tr><tr><td>7</td><td>99.65%</td> <td>89.47%</td> <td>85.00%</td> <td>87.18%</td></tr><tr><td>8</td><td>99.65%</td> <td>99.44%</td> <td>99.86%</td> <td>99.65%</td></tr><tr><td>9</td><td>99.72%</td> <td>82.35%</td> <td>93.33%</td> <td>87.50%</td></tr><tr><th>Average</th><th>99.60%</th> <th>95.04%</th> <th>93.92%</th> <th>94.37%</th></tr></table>"
      ]
     },
     "metadata": {},
     "output_type": "display_data"
    },
    {
     "data": {
      "text/html": [
       "<hr>"
      ]
     },
     "metadata": {},
     "output_type": "display_data"
    },
    {
     "data": {
      "text/plain": [
       "<Figure size 432x288 with 0 Axes>"
      ]
     },
     "metadata": {},
     "output_type": "display_data"
    },
    {
     "data": {
      "image/png": "[encoded data removed]",
      "text/plain": [
       "<Figure size 1440x720 with 1 Axes>"
      ]
     },
     "metadata": {},
     "output_type": "display_data"
    }
   ],
   "source": [
    "# simple data splitting results\n",
    "display_model_results(evaluations)"
   ]
  },
  {
   "cell_type": "markdown",
   "metadata": {},
   "source": [
    "### Cross-Validation approach to dataset splitting\n",
    "In **k-fold** cross-validation, the original sample is randomly partitioned into k equal size subsamples.\n",
    "\n",
    "In **stratified k-fold** cross-validation, the folds are selected so that the mean response value is approximately equal in all the folds.\n",
    "\n",
    "To use one or the other, update the global setting `CROSS_VALIDATION_FUNCTION` in the [Initialize constants](#Initialize-constants) section\n",
    "\n",
    "**Warning:** Depending on the complexity of the architecture and the number of steps in the training, this operation may take some time"
   ]
  },
  {
   "cell_type": "code",
   "execution_count": null,
   "metadata": {},
   "outputs": [
    {
     "name": "stdout",
     "output_type": "stream",
     "text": [
      "INFO:tensorflow:Using default config.\n",
      "WARNING:tensorflow:Using temporary folder as model directory: C:\\Users\\Ross\\AppData\\Local\\Temp\\tmpkilhqwhm\n",
      "INFO:tensorflow:Using config: {'_model_dir': 'C:\\\\Users\\\\Ross\\\\AppData\\\\Local\\\\Temp\\\\tmpkilhqwhm', '_tf_random_seed': None, '_save_summary_steps': 100, '_save_checkpoints_steps': None, '_save_checkpoints_secs': 600, '_session_config': None, '_keep_checkpoint_max': 5, '_keep_checkpoint_every_n_hours': 10000, '_log_step_count_steps': 100, '_service': None, '_cluster_spec': <tensorflow.python.training.server_lib.ClusterSpec object at 0x0000021D05FAD438>, '_task_type': 'worker', '_task_id': 0, '_global_id_in_cluster': 0, '_master': '', '_evaluation_master': '', '_is_chief': True, '_num_ps_replicas': 0, '_num_worker_replicas': 1}\n",
      "INFO:tensorflow:Calling model_fn.\n",
      "INFO:tensorflow:Done calling model_fn.\n",
      "INFO:tensorflow:Create CheckpointSaverHook.\n",
      "INFO:tensorflow:Graph was finalized.\n",
      "INFO:tensorflow:Running local_init_op.\n",
      "INFO:tensorflow:Done running local_init_op.\n",
      "INFO:tensorflow:Saving checkpoints for 1 into C:\\Users\\Ross\\AppData\\Local\\Temp\\tmpkilhqwhm\\model.ckpt.\n",
      "INFO:tensorflow:loss = 260.71725, step = 0\n",
      "INFO:tensorflow:global_step/sec: 195.307\n",
      "INFO:tensorflow:loss = 71.47318, step = 100 (0.513 sec)\n",
      "INFO:tensorflow:global_step/sec: 210.963\n",
      "INFO:tensorflow:loss = 43.822853, step = 200 (0.477 sec)\n",
      "INFO:tensorflow:global_step/sec: 224.502\n",
      "INFO:tensorflow:loss = 25.32595, step = 300 (0.444 sec)\n",
      "INFO:tensorflow:global_step/sec: 252.264\n",
      "INFO:tensorflow:loss = 20.639238, step = 400 (0.395 sec)\n",
      "INFO:tensorflow:global_step/sec: 223.291\n",
      "INFO:tensorflow:loss = 27.129686, step = 500 (0.448 sec)\n",
      "INFO:tensorflow:global_step/sec: 212.645\n",
      "INFO:tensorflow:loss = 32.079792, step = 600 (0.470 sec)\n",
      "INFO:tensorflow:global_step/sec: 221.846\n",
      "INFO:tensorflow:loss = 27.472538, step = 700 (0.451 sec)\n",
      "INFO:tensorflow:global_step/sec: 231.476\n",
      "INFO:tensorflow:loss = 24.109426, step = 800 (0.432 sec)\n",
      "INFO:tensorflow:global_step/sec: 200.758\n",
      "INFO:tensorflow:loss = 15.521182, step = 900 (0.499 sec)\n",
      "INFO:tensorflow:global_step/sec: 194.162\n",
      "INFO:tensorflow:loss = 22.227942, step = 1000 (0.514 sec)\n",
      "INFO:tensorflow:global_step/sec: 197.048\n",
      "INFO:tensorflow:loss = 17.59972, step = 1100 (0.509 sec)\n",
      "INFO:tensorflow:global_step/sec: 228.858\n",
      "INFO:tensorflow:loss = 20.175491, step = 1200 (0.435 sec)\n",
      "INFO:tensorflow:global_step/sec: 208.325\n",
      "INFO:tensorflow:loss = 22.98537, step = 1300 (0.484 sec)\n",
      "INFO:tensorflow:global_step/sec: 205.77\n",
      "INFO:tensorflow:loss = 14.443579, step = 1400 (0.482 sec)\n",
      "INFO:tensorflow:Saving checkpoints for 1500 into C:\\Users\\Ross\\AppData\\Local\\Temp\\tmpkilhqwhm\\model.ckpt.\n",
      "INFO:tensorflow:Loss for final step: 14.933088.\n",
      "INFO:tensorflow:Calling model_fn.\n",
      "INFO:tensorflow:Done calling model_fn.\n",
      "INFO:tensorflow:Starting evaluation at 2018-05-20-16:09:55\n",
      "INFO:tensorflow:Graph was finalized.\n",
      "INFO:tensorflow:Restoring parameters from C:\\Users\\Ross\\AppData\\Local\\Temp\\tmpkilhqwhm\\model.ckpt-1500\n",
      "INFO:tensorflow:Running local_init_op.\n",
      "INFO:tensorflow:Done running local_init_op.\n",
      "INFO:tensorflow:Finished evaluation at 2018-05-20-16:09:56\n",
      "INFO:tensorflow:Saving dict for global step 1500: accuracy = 0.94386697, average_loss = 0.21306057, global_step = 1500, loss = 20.496428\n",
      "INFO:tensorflow:Calling model_fn.\n",
      "INFO:tensorflow:Done calling model_fn.\n",
      "INFO:tensorflow:Graph was finalized.\n",
      "INFO:tensorflow:Restoring parameters from C:\\Users\\Ross\\AppData\\Local\\Temp\\tmpkilhqwhm\\model.ckpt-1500\n",
      "INFO:tensorflow:Running local_init_op.\n",
      "INFO:tensorflow:Done running local_init_op.\n",
      "INFO:tensorflow:Using default config.\n",
      "WARNING:tensorflow:Using temporary folder as model directory: C:\\Users\\Ross\\AppData\\Local\\Temp\\tmp0v6pbybp\n",
      "INFO:tensorflow:Using config: {'_model_dir': 'C:\\\\Users\\\\Ross\\\\AppData\\\\Local\\\\Temp\\\\tmp0v6pbybp', '_tf_random_seed': None, '_save_summary_steps': 100, '_save_checkpoints_steps': None, '_save_checkpoints_secs': 600, '_session_config': None, '_keep_checkpoint_max': 5, '_keep_checkpoint_every_n_hours': 10000, '_log_step_count_steps': 100, '_service': None, '_cluster_spec': <tensorflow.python.training.server_lib.ClusterSpec object at 0x0000021D05A30588>, '_task_type': 'worker', '_task_id': 0, '_global_id_in_cluster': 0, '_master': '', '_evaluation_master': '', '_is_chief': True, '_num_ps_replicas': 0, '_num_worker_replicas': 1}\n",
      "INFO:tensorflow:Calling model_fn.\n",
      "INFO:tensorflow:Done calling model_fn.\n",
      "INFO:tensorflow:Create CheckpointSaverHook.\n",
      "INFO:tensorflow:Graph was finalized.\n",
      "INFO:tensorflow:Running local_init_op.\n",
      "INFO:tensorflow:Done running local_init_op.\n",
      "INFO:tensorflow:Saving checkpoints for 1 into C:\\Users\\Ross\\AppData\\Local\\Temp\\tmp0v6pbybp\\model.ckpt.\n",
      "INFO:tensorflow:loss = 235.95071, step = 0\n",
      "INFO:tensorflow:global_step/sec: 143.746\n",
      "INFO:tensorflow:loss = 15.403608, step = 100 (0.698 sec)\n",
      "INFO:tensorflow:global_step/sec: 171.405\n",
      "INFO:tensorflow:loss = 24.297865, step = 200 (0.582 sec)\n",
      "INFO:tensorflow:global_step/sec: 184.154\n",
      "INFO:tensorflow:loss = 10.718286, step = 300 (0.543 sec)\n",
      "INFO:tensorflow:global_step/sec: 224.199\n",
      "INFO:tensorflow:loss = 10.661832, step = 400 (0.447 sec)\n",
      "INFO:tensorflow:global_step/sec: 170.629\n",
      "INFO:tensorflow:loss = 9.16198, step = 500 (0.586 sec)\n",
      "INFO:tensorflow:global_step/sec: 193.987\n",
      "INFO:tensorflow:loss = 5.8666143, step = 600 (0.516 sec)\n",
      "INFO:tensorflow:global_step/sec: 191.569\n",
      "INFO:tensorflow:loss = 9.702744, step = 700 (0.521 sec)\n",
      "INFO:tensorflow:global_step/sec: 224.245\n",
      "INFO:tensorflow:loss = 10.302713, step = 800 (0.446 sec)\n",
      "INFO:tensorflow:global_step/sec: 220.496\n",
      "INFO:tensorflow:loss = 8.396906, step = 900 (0.454 sec)\n",
      "INFO:tensorflow:global_step/sec: 180.331\n",
      "INFO:tensorflow:loss = 10.113167, step = 1000 (0.556 sec)\n",
      "INFO:tensorflow:global_step/sec: 200.675\n",
      "INFO:tensorflow:loss = 4.468696, step = 1100 (0.497 sec)\n",
      "INFO:tensorflow:global_step/sec: 218.113\n",
      "INFO:tensorflow:loss = 9.439483, step = 1200 (0.458 sec)\n",
      "INFO:tensorflow:global_step/sec: 177.134\n",
      "INFO:tensorflow:loss = 3.44705, step = 1300 (0.565 sec)\n",
      "INFO:tensorflow:global_step/sec: 186.213\n",
      "INFO:tensorflow:loss = 1.8682933, step = 1400 (0.538 sec)\n",
      "INFO:tensorflow:Saving checkpoints for 1500 into C:\\Users\\Ross\\AppData\\Local\\Temp\\tmp0v6pbybp\\model.ckpt.\n",
      "INFO:tensorflow:Loss for final step: 9.930315.\n",
      "INFO:tensorflow:Calling model_fn.\n",
      "INFO:tensorflow:Done calling model_fn.\n",
      "INFO:tensorflow:Starting evaluation at 2018-05-20-16:10:06\n",
      "INFO:tensorflow:Graph was finalized.\n",
      "INFO:tensorflow:Restoring parameters from C:\\Users\\Ross\\AppData\\Local\\Temp\\tmp0v6pbybp\\model.ckpt-1500\n",
      "INFO:tensorflow:Running local_init_op.\n",
      "INFO:tensorflow:Done running local_init_op.\n",
      "INFO:tensorflow:Finished evaluation at 2018-05-20-16:10:07\n",
      "INFO:tensorflow:Saving dict for global step 1500: accuracy = 0.97574496, average_loss = 0.08826222, global_step = 1500, loss = 8.490826\n",
      "INFO:tensorflow:Calling model_fn.\n",
      "INFO:tensorflow:Done calling model_fn.\n",
      "INFO:tensorflow:Graph was finalized.\n",
      "INFO:tensorflow:Restoring parameters from C:\\Users\\Ross\\AppData\\Local\\Temp\\tmp0v6pbybp\\model.ckpt-1500\n",
      "INFO:tensorflow:Running local_init_op.\n",
      "INFO:tensorflow:Done running local_init_op.\n",
      "INFO:tensorflow:Using default config.\n",
      "WARNING:tensorflow:Using temporary folder as model directory: C:\\Users\\Ross\\AppData\\Local\\Temp\\tmpo72y3_if\n",
      "INFO:tensorflow:Using config: {'_model_dir': 'C:\\\\Users\\\\Ross\\\\AppData\\\\Local\\\\Temp\\\\tmpo72y3_if', '_tf_random_seed': None, '_save_summary_steps': 100, '_save_checkpoints_steps': None, '_save_checkpoints_secs': 600, '_session_config': None, '_keep_checkpoint_max': 5, '_keep_checkpoint_every_n_hours': 10000, '_log_step_count_steps': 100, '_service': None, '_cluster_spec': <tensorflow.python.training.server_lib.ClusterSpec object at 0x0000021BFB500710>, '_task_type': 'worker', '_task_id': 0, '_global_id_in_cluster': 0, '_master': '', '_evaluation_master': '', '_is_chief': True, '_num_ps_replicas': 0, '_num_worker_replicas': 1}\n",
      "INFO:tensorflow:Calling model_fn.\n",
      "INFO:tensorflow:Done calling model_fn.\n",
      "INFO:tensorflow:Create CheckpointSaverHook.\n",
      "INFO:tensorflow:Graph was finalized.\n",
      "INFO:tensorflow:Running local_init_op.\n",
      "INFO:tensorflow:Done running local_init_op.\n",
      "INFO:tensorflow:Saving checkpoints for 1 into C:\\Users\\Ross\\AppData\\Local\\Temp\\tmpo72y3_if\\model.ckpt.\n",
      "INFO:tensorflow:loss = 227.40652, step = 0\n"
     ]
    },
    {
     "name": "stdout",
     "output_type": "stream",
     "text": [
      "INFO:tensorflow:global_step/sec: 173.882\n",
      "INFO:tensorflow:loss = 9.399693, step = 100 (0.576 sec)\n",
      "INFO:tensorflow:global_step/sec: 191.442\n",
      "INFO:tensorflow:loss = 12.014847, step = 200 (0.523 sec)\n",
      "INFO:tensorflow:global_step/sec: 208.605\n",
      "INFO:tensorflow:loss = 13.360437, step = 300 (0.478 sec)\n",
      "INFO:tensorflow:global_step/sec: 219.54\n",
      "INFO:tensorflow:loss = 14.918555, step = 400 (0.456 sec)\n",
      "INFO:tensorflow:global_step/sec: 207.907\n",
      "INFO:tensorflow:loss = 5.514541, step = 500 (0.480 sec)\n",
      "INFO:tensorflow:global_step/sec: 197.018\n",
      "INFO:tensorflow:loss = 8.145506, step = 600 (0.509 sec)\n",
      "INFO:tensorflow:global_step/sec: 196.733\n",
      "INFO:tensorflow:loss = 1.7696173, step = 700 (0.508 sec)\n",
      "INFO:tensorflow:global_step/sec: 203.09\n",
      "INFO:tensorflow:loss = 1.6715232, step = 800 (0.493 sec)\n",
      "INFO:tensorflow:global_step/sec: 200.601\n",
      "INFO:tensorflow:loss = 0.8088273, step = 900 (0.498 sec)\n",
      "INFO:tensorflow:global_step/sec: 167.905\n",
      "INFO:tensorflow:loss = 5.4689593, step = 1000 (0.596 sec)\n",
      "INFO:tensorflow:global_step/sec: 151.829\n",
      "INFO:tensorflow:loss = 1.6398543, step = 1100 (0.659 sec)\n",
      "INFO:tensorflow:global_step/sec: 220.761\n",
      "INFO:tensorflow:loss = 0.42577398, step = 1200 (0.454 sec)\n",
      "INFO:tensorflow:global_step/sec: 191.178\n",
      "INFO:tensorflow:loss = 0.74420667, step = 1300 (0.521 sec)\n",
      "INFO:tensorflow:global_step/sec: 178.718\n",
      "INFO:tensorflow:loss = 0.89280325, step = 1400 (0.560 sec)\n",
      "INFO:tensorflow:Saving checkpoints for 1500 into C:\\Users\\Ross\\AppData\\Local\\Temp\\tmpo72y3_if\\model.ckpt.\n",
      "INFO:tensorflow:Loss for final step: 2.3967605.\n",
      "INFO:tensorflow:Calling model_fn.\n",
      "INFO:tensorflow:Done calling model_fn.\n",
      "INFO:tensorflow:Starting evaluation at 2018-05-20-16:10:18\n",
      "INFO:tensorflow:Graph was finalized.\n",
      "INFO:tensorflow:Restoring parameters from C:\\Users\\Ross\\AppData\\Local\\Temp\\tmpo72y3_if\\model.ckpt-1500\n",
      "INFO:tensorflow:Running local_init_op.\n",
      "INFO:tensorflow:Done running local_init_op.\n",
      "INFO:tensorflow:Finished evaluation at 2018-05-20-16:10:18\n",
      "INFO:tensorflow:Saving dict for global step 1500: accuracy = 0.987526, average_loss = 0.054368656, global_step = 1500, loss = 5.2302647\n",
      "INFO:tensorflow:Calling model_fn.\n",
      "INFO:tensorflow:Done calling model_fn.\n",
      "INFO:tensorflow:Graph was finalized.\n",
      "INFO:tensorflow:Restoring parameters from C:\\Users\\Ross\\AppData\\Local\\Temp\\tmpo72y3_if\\model.ckpt-1500\n",
      "INFO:tensorflow:Running local_init_op.\n",
      "INFO:tensorflow:Done running local_init_op.\n",
      "INFO:tensorflow:Using default config.\n",
      "WARNING:tensorflow:Using temporary folder as model directory: C:\\Users\\Ross\\AppData\\Local\\Temp\\tmp12_a282n\n",
      "INFO:tensorflow:Using config: {'_model_dir': 'C:\\\\Users\\\\Ross\\\\AppData\\\\Local\\\\Temp\\\\tmp12_a282n', '_tf_random_seed': None, '_save_summary_steps': 100, '_save_checkpoints_steps': None, '_save_checkpoints_secs': 600, '_session_config': None, '_keep_checkpoint_max': 5, '_keep_checkpoint_every_n_hours': 10000, '_log_step_count_steps': 100, '_service': None, '_cluster_spec': <tensorflow.python.training.server_lib.ClusterSpec object at 0x0000021BFB4D1D68>, '_task_type': 'worker', '_task_id': 0, '_global_id_in_cluster': 0, '_master': '', '_evaluation_master': '', '_is_chief': True, '_num_ps_replicas': 0, '_num_worker_replicas': 1}\n",
      "INFO:tensorflow:Calling model_fn.\n",
      "INFO:tensorflow:Done calling model_fn.\n",
      "INFO:tensorflow:Create CheckpointSaverHook.\n",
      "INFO:tensorflow:Graph was finalized.\n",
      "INFO:tensorflow:Running local_init_op.\n",
      "INFO:tensorflow:Done running local_init_op.\n"
     ]
    }
   ],
   "source": [
    "# k-fold cross validation\n",
    "# this may take a while\n",
    "\n",
    "# adjustment for k-fold: num_total_model_steps = num_steps * num_folds\n",
    "kfcv_evaluations = run_model_iterations(df, labels, kFoldCV_tf_data_generator)    \n"
   ]
  },
  {
   "cell_type": "code",
   "execution_count": null,
   "metadata": {},
   "outputs": [],
   "source": [
    "# k-fold Cross-validation data splitting results\n",
    "display_model_results(kfcv_evaluations)"
   ]
  },
  {
   "cell_type": "markdown",
   "metadata": {},
   "source": [
    "# Conclusion\n",
    "The architectural choices of a **Neural Network** are of tremendous importance when designing such a network and its model, including the architecture, the way the data is split and fed into it, the number of times said data goes through the forward and backpropagation mechanisms. \n",
    "\n",
    "With our approach we have observed that, for instance, a **Neural Network** with a single layer comprised of 100 nodes, for our dataset, can better describe (without overfitting) the data then a network with two hidden layers of 10 neurons each."
   ]
  },
  {
   "cell_type": "markdown",
   "metadata": {},
   "source": [
    "## Other"
   ]
  },
  {
   "cell_type": "markdown",
   "metadata": {},
   "source": [
    "### Deletes temporary files created by TensorFlow"
   ]
  },
  {
   "cell_type": "code",
   "execution_count": null,
   "metadata": {},
   "outputs": [],
   "source": [
    "# Allows deleting models save folder in windows\n",
    "tf.summary.FileWriterCache.clear()"
   ]
  },
  {
   "cell_type": "code",
   "execution_count": null,
   "metadata": {},
   "outputs": [],
   "source": [
    "import tempfile\n",
    "import os\n",
    "from pathlib import Path\n",
    "import shutil\n",
    "\n",
    "temp_dir = Path(tempfile.gettempdir())\n",
    "dir_list = [f for f in temp_dir.glob('tmp*') if f.is_dir()] \n",
    "for dir in dir_list:\n",
    "    shutil.rmtree(dir, ignore_errors=True)\n",
    "        "
   ]
  }
 ],
 "metadata": {
  "kernelspec": {
   "display_name": "Python 3",
   "language": "python",
   "name": "python3"
  },
  "language_info": {
   "codemirror_mode": {
    "name": "ipython",
    "version": 3
   },
   "file_extension": ".py",
   "mimetype": "text/x-python",
   "name": "python",
   "nbconvert_exporter": "python",
   "pygments_lexer": "ipython3",
   "version": "3.6.5"
  }
 },
 "nbformat": 4,
 "nbformat_minor": 2
}
